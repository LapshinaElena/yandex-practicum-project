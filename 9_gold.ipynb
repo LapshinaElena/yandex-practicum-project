{
 "cells": [
  {
   "cell_type": "markdown",
   "metadata": {
    "toc": true
   },
   "source": [
    "<h1>Содержание<span class=\"tocSkip\"></span></h1>\n",
    "<div class=\"toc\"><ul class=\"toc-item\"><li><span><a href=\"#Подготовка-данных\" data-toc-modified-id=\"Подготовка-данных-1\"><span class=\"toc-item-num\">1&nbsp;&nbsp;</span>Подготовка данных</a></span><ul class=\"toc-item\"><li><span><a href=\"#Изучение-данных\" data-toc-modified-id=\"Изучение-данных-1.1\"><span class=\"toc-item-num\">1.1&nbsp;&nbsp;</span>Изучение данных</a></span></li><li><span><a href=\"#Проверка-расчета-эффективности-обогащения\" data-toc-modified-id=\"Проверка-расчета-эффективности-обогащения-1.2\"><span class=\"toc-item-num\">1.2&nbsp;&nbsp;</span>Проверка расчета эффективности обогащения</a></span></li><li><span><a href=\"#Анализ-признаков,-недоступных-в-тестовой-выборке\" data-toc-modified-id=\"Анализ-признаков,-недоступных-в-тестовой-выборке-1.3\"><span class=\"toc-item-num\">1.3&nbsp;&nbsp;</span>Анализ признаков, недоступных в тестовой выборке</a></span></li><li><span><a href=\"#Предобработка-данных\" data-toc-modified-id=\"Предобработка-данных-1.4\"><span class=\"toc-item-num\">1.4&nbsp;&nbsp;</span>Предобработка данных</a></span></li><li><span><a href=\"#Вывод\" data-toc-modified-id=\"Вывод-1.5\"><span class=\"toc-item-num\">1.5&nbsp;&nbsp;</span>Вывод</a></span></li></ul></li><li><span><a href=\"#Анализ-данных\" data-toc-modified-id=\"Анализ-данных-2\"><span class=\"toc-item-num\">2&nbsp;&nbsp;</span>Анализ данных</a></span><ul class=\"toc-item\"><li><span><a href=\"#Изучение-изменения-концентрации-металлов-(Au,-Ag,-Pb)-на-различных-этапах-очистки.\" data-toc-modified-id=\"Изучение-изменения-концентрации-металлов-(Au,-Ag,-Pb)-на-различных-этапах-очистки.-2.1\"><span class=\"toc-item-num\">2.1&nbsp;&nbsp;</span>Изучение изменения концентрации металлов (Au, Ag, Pb) на различных этапах очистки.</a></span></li><li><span><a href=\"#Сравнение-распределения-размеров-гранул-сырья-на-обучающей-и-тестовой-выборках.\" data-toc-modified-id=\"Сравнение-распределения-размеров-гранул-сырья-на-обучающей-и-тестовой-выборках.-2.2\"><span class=\"toc-item-num\">2.2&nbsp;&nbsp;</span>Сравнение распределения размеров гранул сырья на обучающей и тестовой выборках.</a></span></li><li><span><a href=\"#Изучение-суммарной-концентрации-всех-веществ-на-разных-стадиях:-в-сырье,-в-черновом-и-финальном-концентратах.\" data-toc-modified-id=\"Изучение-суммарной-концентрации-всех-веществ-на-разных-стадиях:-в-сырье,-в-черновом-и-финальном-концентратах.-2.3\"><span class=\"toc-item-num\">2.3&nbsp;&nbsp;</span>Изучение суммарной концентрации всех веществ на разных стадиях: в сырье, в черновом и финальном концентратах.</a></span></li><li><span><a href=\"#Вывод\" data-toc-modified-id=\"Вывод-2.4\"><span class=\"toc-item-num\">2.4&nbsp;&nbsp;</span>Вывод</a></span></li></ul></li><li><span><a href=\"#Модель\" data-toc-modified-id=\"Модель-3\"><span class=\"toc-item-num\">3&nbsp;&nbsp;</span>Модель</a></span><ul class=\"toc-item\"><li><span><a href=\"#Функция-для-вычисления-итоговой-sMAPE.\" data-toc-modified-id=\"Функция-для-вычисления-итоговой-sMAPE.-3.1\"><span class=\"toc-item-num\">3.1&nbsp;&nbsp;</span>Функция для вычисления итоговой sMAPE.</a></span></li><li><span><a href=\"#Обучение-разных-моделей-и-оценка-их-качества-кросс-валидацией.-Выбор-лучшей-модели-и-проверка-её-на-тестовой-выборке.\" data-toc-modified-id=\"Обучение-разных-моделей-и-оценка-их-качества-кросс-валидацией.-Выбор-лучшей-модели-и-проверка-её-на-тестовой-выборке.-3.2\"><span class=\"toc-item-num\">3.2&nbsp;&nbsp;</span>Обучение разных моделей и оценка их качества кросс-валидацией. Выбор лучшей модели и проверка её на тестовой выборке.</a></span></li><li><span><a href=\"#Вывод\" data-toc-modified-id=\"Вывод-3.3\"><span class=\"toc-item-num\">3.3&nbsp;&nbsp;</span>Вывод</a></span></li></ul></li><li><span><a href=\"#Чек-лист-готовности-проекта\" data-toc-modified-id=\"Чек-лист-готовности-проекта-4\"><span class=\"toc-item-num\">4&nbsp;&nbsp;</span>Чек-лист готовности проекта</a></span></li></ul></div>"
   ]
  },
  {
   "cell_type": "code",
   "execution_count": null,
   "metadata": {},
   "outputs": [],
   "source": []
  },
  {
   "cell_type": "markdown",
   "metadata": {},
   "source": [
    "# Восстановление золота из руды"
   ]
  },
  {
   "cell_type": "markdown",
   "metadata": {},
   "source": [
    "Подготовьте прототип модели машинного обучения для «Цифры». Компания разрабатывает решения для эффективной работы промышленных предприятий.\n",
    "\n",
    "Модель должна предсказать коэффициент восстановления золота из золотосодержащей руды. Используйте данные с параметрами добычи и очистки. \n",
    "\n",
    "Модель поможет оптимизировать производство, чтобы не запускать предприятие с убыточными характеристиками.\n",
    "\n",
    "Вам нужно:\n",
    "\n",
    "1. Подготовить данные;\n",
    "2. Провести исследовательский анализ данных;\n",
    "3. Построить и обучить модель.\n",
    "\n",
    "Чтобы выполнить проект, обращайтесь к библиотекам *pandas*, *matplotlib* и *sklearn.* Вам поможет их документация."
   ]
  },
  {
   "cell_type": "markdown",
   "metadata": {},
   "source": [
    "## Подготовка данных"
   ]
  },
  {
   "cell_type": "code",
   "execution_count": 1,
   "metadata": {},
   "outputs": [],
   "source": [
    "import pandas as pd\n",
    "import matplotlib.pyplot as plt\n",
    "import numpy as np\n",
    "import seaborn as sns\n",
    "\n",
    "from sklearn.tree import DecisionTreeRegressor\n",
    "from sklearn.ensemble import RandomForestRegressor\n",
    "from sklearn.linear_model import LinearRegression\n",
    "from sklearn.dummy import DummyRegressor\n",
    "from sklearn.model_selection import train_test_split\n",
    "from sklearn.metrics import mean_absolute_error\n",
    "from sklearn.model_selection import GridSearchCV, cross_val_score\n",
    "from sklearn.metrics import make_scorer\n",
    "from sklearn.preprocessing import StandardScaler\n",
    "\n",
    "import warnings\n",
    "warnings.filterwarnings(\"ignore\")"
   ]
  },
  {
   "cell_type": "markdown",
   "metadata": {},
   "source": [
    "### Изучение данных"
   ]
  },
  {
   "cell_type": "code",
   "execution_count": 2,
   "metadata": {},
   "outputs": [],
   "source": [
    "data_full = pd.read_csv('/datasets/gold_recovery_full_new.csv')\n",
    "data_train = pd.read_csv('/datasets/gold_recovery_train_new.csv')\n",
    "data_test = pd.read_csv('/datasets/gold_recovery_test_new.csv')"
   ]
  },
  {
   "cell_type": "code",
   "execution_count": 3,
   "metadata": {},
   "outputs": [
    {
     "name": "stdout",
     "output_type": "stream",
     "text": [
      "<class 'pandas.core.frame.DataFrame'>\n",
      "RangeIndex: 19439 entries, 0 to 19438\n",
      "Data columns (total 87 columns):\n",
      " #   Column                                              Non-Null Count  Dtype  \n",
      "---  ------                                              --------------  -----  \n",
      " 0   date                                                19439 non-null  object \n",
      " 1   final.output.concentrate_ag                         19438 non-null  float64\n",
      " 2   final.output.concentrate_pb                         19438 non-null  float64\n",
      " 3   final.output.concentrate_sol                        19228 non-null  float64\n",
      " 4   final.output.concentrate_au                         19439 non-null  float64\n",
      " 5   final.output.recovery                               19439 non-null  float64\n",
      " 6   final.output.tail_ag                                19438 non-null  float64\n",
      " 7   final.output.tail_pb                                19338 non-null  float64\n",
      " 8   final.output.tail_sol                               19433 non-null  float64\n",
      " 9   final.output.tail_au                                19439 non-null  float64\n",
      " 10  primary_cleaner.input.sulfate                       19415 non-null  float64\n",
      " 11  primary_cleaner.input.depressant                    19402 non-null  float64\n",
      " 12  primary_cleaner.input.feed_size                     19439 non-null  float64\n",
      " 13  primary_cleaner.input.xanthate                      19335 non-null  float64\n",
      " 14  primary_cleaner.output.concentrate_ag               19439 non-null  float64\n",
      " 15  primary_cleaner.output.concentrate_pb               19323 non-null  float64\n",
      " 16  primary_cleaner.output.concentrate_sol              19069 non-null  float64\n",
      " 17  primary_cleaner.output.concentrate_au               19439 non-null  float64\n",
      " 18  primary_cleaner.output.tail_ag                      19435 non-null  float64\n",
      " 19  primary_cleaner.output.tail_pb                      19418 non-null  float64\n",
      " 20  primary_cleaner.output.tail_sol                     19377 non-null  float64\n",
      " 21  primary_cleaner.output.tail_au                      19439 non-null  float64\n",
      " 22  primary_cleaner.state.floatbank8_a_air              19435 non-null  float64\n",
      " 23  primary_cleaner.state.floatbank8_a_level            19438 non-null  float64\n",
      " 24  primary_cleaner.state.floatbank8_b_air              19435 non-null  float64\n",
      " 25  primary_cleaner.state.floatbank8_b_level            19438 non-null  float64\n",
      " 26  primary_cleaner.state.floatbank8_c_air              19437 non-null  float64\n",
      " 27  primary_cleaner.state.floatbank8_c_level            19438 non-null  float64\n",
      " 28  primary_cleaner.state.floatbank8_d_air              19436 non-null  float64\n",
      " 29  primary_cleaner.state.floatbank8_d_level            19438 non-null  float64\n",
      " 30  rougher.calculation.sulfate_to_au_concentrate       19437 non-null  float64\n",
      " 31  rougher.calculation.floatbank10_sulfate_to_au_feed  19437 non-null  float64\n",
      " 32  rougher.calculation.floatbank11_sulfate_to_au_feed  19437 non-null  float64\n",
      " 33  rougher.calculation.au_pb_ratio                     19439 non-null  float64\n",
      " 34  rougher.input.feed_ag                               19439 non-null  float64\n",
      " 35  rougher.input.feed_pb                               19339 non-null  float64\n",
      " 36  rougher.input.feed_rate                             19428 non-null  float64\n",
      " 37  rougher.input.feed_size                             19294 non-null  float64\n",
      " 38  rougher.input.feed_sol                              19340 non-null  float64\n",
      " 39  rougher.input.feed_au                               19439 non-null  float64\n",
      " 40  rougher.input.floatbank10_sulfate                   19405 non-null  float64\n",
      " 41  rougher.input.floatbank10_xanthate                  19431 non-null  float64\n",
      " 42  rougher.input.floatbank11_sulfate                   19395 non-null  float64\n",
      " 43  rougher.input.floatbank11_xanthate                  18986 non-null  float64\n",
      " 44  rougher.output.concentrate_ag                       19439 non-null  float64\n",
      " 45  rougher.output.concentrate_pb                       19439 non-null  float64\n",
      " 46  rougher.output.concentrate_sol                      19416 non-null  float64\n",
      " 47  rougher.output.concentrate_au                       19439 non-null  float64\n",
      " 48  rougher.output.recovery                             19439 non-null  float64\n",
      " 49  rougher.output.tail_ag                              19438 non-null  float64\n",
      " 50  rougher.output.tail_pb                              19439 non-null  float64\n",
      " 51  rougher.output.tail_sol                             19439 non-null  float64\n",
      " 52  rougher.output.tail_au                              19439 non-null  float64\n",
      " 53  rougher.state.floatbank10_a_air                     19438 non-null  float64\n",
      " 54  rougher.state.floatbank10_a_level                   19438 non-null  float64\n",
      " 55  rougher.state.floatbank10_b_air                     19438 non-null  float64\n",
      " 56  rougher.state.floatbank10_b_level                   19438 non-null  float64\n",
      " 57  rougher.state.floatbank10_c_air                     19438 non-null  float64\n",
      " 58  rougher.state.floatbank10_c_level                   19438 non-null  float64\n",
      " 59  rougher.state.floatbank10_d_air                     19439 non-null  float64\n",
      " 60  rougher.state.floatbank10_d_level                   19439 non-null  float64\n",
      " 61  rougher.state.floatbank10_e_air                     19003 non-null  float64\n",
      " 62  rougher.state.floatbank10_e_level                   19439 non-null  float64\n",
      " 63  rougher.state.floatbank10_f_air                     19439 non-null  float64\n",
      " 64  rougher.state.floatbank10_f_level                   19439 non-null  float64\n",
      " 65  secondary_cleaner.output.tail_ag                    19437 non-null  float64\n",
      " 66  secondary_cleaner.output.tail_pb                    19427 non-null  float64\n",
      " 67  secondary_cleaner.output.tail_sol                   17691 non-null  float64\n",
      " 68  secondary_cleaner.output.tail_au                    19439 non-null  float64\n",
      " 69  secondary_cleaner.state.floatbank2_a_air            19219 non-null  float64\n",
      " 70  secondary_cleaner.state.floatbank2_a_level          19438 non-null  float64\n",
      " 71  secondary_cleaner.state.floatbank2_b_air            19416 non-null  float64\n",
      " 72  secondary_cleaner.state.floatbank2_b_level          19438 non-null  float64\n",
      " 73  secondary_cleaner.state.floatbank3_a_air            19426 non-null  float64\n",
      " 74  secondary_cleaner.state.floatbank3_a_level          19438 non-null  float64\n",
      " 75  secondary_cleaner.state.floatbank3_b_air            19438 non-null  float64\n",
      " 76  secondary_cleaner.state.floatbank3_b_level          19438 non-null  float64\n",
      " 77  secondary_cleaner.state.floatbank4_a_air            19433 non-null  float64\n",
      " 78  secondary_cleaner.state.floatbank4_a_level          19438 non-null  float64\n",
      " 79  secondary_cleaner.state.floatbank4_b_air            19438 non-null  float64\n",
      " 80  secondary_cleaner.state.floatbank4_b_level          19438 non-null  float64\n",
      " 81  secondary_cleaner.state.floatbank5_a_air            19438 non-null  float64\n",
      " 82  secondary_cleaner.state.floatbank5_a_level          19438 non-null  float64\n",
      " 83  secondary_cleaner.state.floatbank5_b_air            19438 non-null  float64\n",
      " 84  secondary_cleaner.state.floatbank5_b_level          19438 non-null  float64\n",
      " 85  secondary_cleaner.state.floatbank6_a_air            19437 non-null  float64\n",
      " 86  secondary_cleaner.state.floatbank6_a_level          19438 non-null  float64\n",
      "dtypes: float64(86), object(1)\n",
      "memory usage: 12.9+ MB\n"
     ]
    }
   ],
   "source": [
    "data_full.info()"
   ]
  },
  {
   "cell_type": "code",
   "execution_count": 4,
   "metadata": {},
   "outputs": [
    {
     "name": "stdout",
     "output_type": "stream",
     "text": [
      "<class 'pandas.core.frame.DataFrame'>\n",
      "RangeIndex: 14149 entries, 0 to 14148\n",
      "Data columns (total 87 columns):\n",
      " #   Column                                              Non-Null Count  Dtype  \n",
      "---  ------                                              --------------  -----  \n",
      " 0   date                                                14149 non-null  object \n",
      " 1   final.output.concentrate_ag                         14148 non-null  float64\n",
      " 2   final.output.concentrate_pb                         14148 non-null  float64\n",
      " 3   final.output.concentrate_sol                        13938 non-null  float64\n",
      " 4   final.output.concentrate_au                         14149 non-null  float64\n",
      " 5   final.output.recovery                               14149 non-null  float64\n",
      " 6   final.output.tail_ag                                14149 non-null  float64\n",
      " 7   final.output.tail_pb                                14049 non-null  float64\n",
      " 8   final.output.tail_sol                               14144 non-null  float64\n",
      " 9   final.output.tail_au                                14149 non-null  float64\n",
      " 10  primary_cleaner.input.sulfate                       14129 non-null  float64\n",
      " 11  primary_cleaner.input.depressant                    14117 non-null  float64\n",
      " 12  primary_cleaner.input.feed_size                     14149 non-null  float64\n",
      " 13  primary_cleaner.input.xanthate                      14049 non-null  float64\n",
      " 14  primary_cleaner.output.concentrate_ag               14149 non-null  float64\n",
      " 15  primary_cleaner.output.concentrate_pb               14063 non-null  float64\n",
      " 16  primary_cleaner.output.concentrate_sol              13863 non-null  float64\n",
      " 17  primary_cleaner.output.concentrate_au               14149 non-null  float64\n",
      " 18  primary_cleaner.output.tail_ag                      14148 non-null  float64\n",
      " 19  primary_cleaner.output.tail_pb                      14134 non-null  float64\n",
      " 20  primary_cleaner.output.tail_sol                     14103 non-null  float64\n",
      " 21  primary_cleaner.output.tail_au                      14149 non-null  float64\n",
      " 22  primary_cleaner.state.floatbank8_a_air              14145 non-null  float64\n",
      " 23  primary_cleaner.state.floatbank8_a_level            14148 non-null  float64\n",
      " 24  primary_cleaner.state.floatbank8_b_air              14145 non-null  float64\n",
      " 25  primary_cleaner.state.floatbank8_b_level            14148 non-null  float64\n",
      " 26  primary_cleaner.state.floatbank8_c_air              14147 non-null  float64\n",
      " 27  primary_cleaner.state.floatbank8_c_level            14148 non-null  float64\n",
      " 28  primary_cleaner.state.floatbank8_d_air              14146 non-null  float64\n",
      " 29  primary_cleaner.state.floatbank8_d_level            14148 non-null  float64\n",
      " 30  rougher.calculation.sulfate_to_au_concentrate       14148 non-null  float64\n",
      " 31  rougher.calculation.floatbank10_sulfate_to_au_feed  14148 non-null  float64\n",
      " 32  rougher.calculation.floatbank11_sulfate_to_au_feed  14148 non-null  float64\n",
      " 33  rougher.calculation.au_pb_ratio                     14149 non-null  float64\n",
      " 34  rougher.input.feed_ag                               14149 non-null  float64\n",
      " 35  rougher.input.feed_pb                               14049 non-null  float64\n",
      " 36  rougher.input.feed_rate                             14141 non-null  float64\n",
      " 37  rougher.input.feed_size                             14005 non-null  float64\n",
      " 38  rougher.input.feed_sol                              14071 non-null  float64\n",
      " 39  rougher.input.feed_au                               14149 non-null  float64\n",
      " 40  rougher.input.floatbank10_sulfate                   14120 non-null  float64\n",
      " 41  rougher.input.floatbank10_xanthate                  14141 non-null  float64\n",
      " 42  rougher.input.floatbank11_sulfate                   14113 non-null  float64\n",
      " 43  rougher.input.floatbank11_xanthate                  13721 non-null  float64\n",
      " 44  rougher.output.concentrate_ag                       14149 non-null  float64\n",
      " 45  rougher.output.concentrate_pb                       14149 non-null  float64\n",
      " 46  rougher.output.concentrate_sol                      14127 non-null  float64\n",
      " 47  rougher.output.concentrate_au                       14149 non-null  float64\n",
      " 48  rougher.output.recovery                             14149 non-null  float64\n",
      " 49  rougher.output.tail_ag                              14148 non-null  float64\n",
      " 50  rougher.output.tail_pb                              14149 non-null  float64\n",
      " 51  rougher.output.tail_sol                             14149 non-null  float64\n",
      " 52  rougher.output.tail_au                              14149 non-null  float64\n",
      " 53  rougher.state.floatbank10_a_air                     14148 non-null  float64\n",
      " 54  rougher.state.floatbank10_a_level                   14148 non-null  float64\n",
      " 55  rougher.state.floatbank10_b_air                     14148 non-null  float64\n",
      " 56  rougher.state.floatbank10_b_level                   14148 non-null  float64\n",
      " 57  rougher.state.floatbank10_c_air                     14148 non-null  float64\n",
      " 58  rougher.state.floatbank10_c_level                   14148 non-null  float64\n",
      " 59  rougher.state.floatbank10_d_air                     14149 non-null  float64\n",
      " 60  rougher.state.floatbank10_d_level                   14149 non-null  float64\n",
      " 61  rougher.state.floatbank10_e_air                     13713 non-null  float64\n",
      " 62  rougher.state.floatbank10_e_level                   14149 non-null  float64\n",
      " 63  rougher.state.floatbank10_f_air                     14149 non-null  float64\n",
      " 64  rougher.state.floatbank10_f_level                   14149 non-null  float64\n",
      " 65  secondary_cleaner.output.tail_ag                    14147 non-null  float64\n",
      " 66  secondary_cleaner.output.tail_pb                    14139 non-null  float64\n",
      " 67  secondary_cleaner.output.tail_sol                   12544 non-null  float64\n",
      " 68  secondary_cleaner.output.tail_au                    14149 non-null  float64\n",
      " 69  secondary_cleaner.state.floatbank2_a_air            13932 non-null  float64\n",
      " 70  secondary_cleaner.state.floatbank2_a_level          14148 non-null  float64\n",
      " 71  secondary_cleaner.state.floatbank2_b_air            14128 non-null  float64\n",
      " 72  secondary_cleaner.state.floatbank2_b_level          14148 non-null  float64\n",
      " 73  secondary_cleaner.state.floatbank3_a_air            14145 non-null  float64\n",
      " 74  secondary_cleaner.state.floatbank3_a_level          14148 non-null  float64\n",
      " 75  secondary_cleaner.state.floatbank3_b_air            14148 non-null  float64\n",
      " 76  secondary_cleaner.state.floatbank3_b_level          14148 non-null  float64\n",
      " 77  secondary_cleaner.state.floatbank4_a_air            14143 non-null  float64\n",
      " 78  secondary_cleaner.state.floatbank4_a_level          14148 non-null  float64\n",
      " 79  secondary_cleaner.state.floatbank4_b_air            14148 non-null  float64\n",
      " 80  secondary_cleaner.state.floatbank4_b_level          14148 non-null  float64\n",
      " 81  secondary_cleaner.state.floatbank5_a_air            14148 non-null  float64\n",
      " 82  secondary_cleaner.state.floatbank5_a_level          14148 non-null  float64\n",
      " 83  secondary_cleaner.state.floatbank5_b_air            14148 non-null  float64\n",
      " 84  secondary_cleaner.state.floatbank5_b_level          14148 non-null  float64\n",
      " 85  secondary_cleaner.state.floatbank6_a_air            14147 non-null  float64\n",
      " 86  secondary_cleaner.state.floatbank6_a_level          14148 non-null  float64\n",
      "dtypes: float64(86), object(1)\n",
      "memory usage: 9.4+ MB\n"
     ]
    }
   ],
   "source": [
    "data_train.info()"
   ]
  },
  {
   "cell_type": "code",
   "execution_count": 5,
   "metadata": {},
   "outputs": [
    {
     "name": "stdout",
     "output_type": "stream",
     "text": [
      "<class 'pandas.core.frame.DataFrame'>\n",
      "RangeIndex: 5290 entries, 0 to 5289\n",
      "Data columns (total 53 columns):\n",
      " #   Column                                      Non-Null Count  Dtype  \n",
      "---  ------                                      --------------  -----  \n",
      " 0   date                                        5290 non-null   object \n",
      " 1   primary_cleaner.input.sulfate               5286 non-null   float64\n",
      " 2   primary_cleaner.input.depressant            5285 non-null   float64\n",
      " 3   primary_cleaner.input.feed_size             5290 non-null   float64\n",
      " 4   primary_cleaner.input.xanthate              5286 non-null   float64\n",
      " 5   primary_cleaner.state.floatbank8_a_air      5290 non-null   float64\n",
      " 6   primary_cleaner.state.floatbank8_a_level    5290 non-null   float64\n",
      " 7   primary_cleaner.state.floatbank8_b_air      5290 non-null   float64\n",
      " 8   primary_cleaner.state.floatbank8_b_level    5290 non-null   float64\n",
      " 9   primary_cleaner.state.floatbank8_c_air      5290 non-null   float64\n",
      " 10  primary_cleaner.state.floatbank8_c_level    5290 non-null   float64\n",
      " 11  primary_cleaner.state.floatbank8_d_air      5290 non-null   float64\n",
      " 12  primary_cleaner.state.floatbank8_d_level    5290 non-null   float64\n",
      " 13  rougher.input.feed_ag                       5290 non-null   float64\n",
      " 14  rougher.input.feed_pb                       5290 non-null   float64\n",
      " 15  rougher.input.feed_rate                     5287 non-null   float64\n",
      " 16  rougher.input.feed_size                     5289 non-null   float64\n",
      " 17  rougher.input.feed_sol                      5269 non-null   float64\n",
      " 18  rougher.input.feed_au                       5290 non-null   float64\n",
      " 19  rougher.input.floatbank10_sulfate           5285 non-null   float64\n",
      " 20  rougher.input.floatbank10_xanthate          5290 non-null   float64\n",
      " 21  rougher.input.floatbank11_sulfate           5282 non-null   float64\n",
      " 22  rougher.input.floatbank11_xanthate          5265 non-null   float64\n",
      " 23  rougher.state.floatbank10_a_air             5290 non-null   float64\n",
      " 24  rougher.state.floatbank10_a_level           5290 non-null   float64\n",
      " 25  rougher.state.floatbank10_b_air             5290 non-null   float64\n",
      " 26  rougher.state.floatbank10_b_level           5290 non-null   float64\n",
      " 27  rougher.state.floatbank10_c_air             5290 non-null   float64\n",
      " 28  rougher.state.floatbank10_c_level           5290 non-null   float64\n",
      " 29  rougher.state.floatbank10_d_air             5290 non-null   float64\n",
      " 30  rougher.state.floatbank10_d_level           5290 non-null   float64\n",
      " 31  rougher.state.floatbank10_e_air             5290 non-null   float64\n",
      " 32  rougher.state.floatbank10_e_level           5290 non-null   float64\n",
      " 33  rougher.state.floatbank10_f_air             5290 non-null   float64\n",
      " 34  rougher.state.floatbank10_f_level           5290 non-null   float64\n",
      " 35  secondary_cleaner.state.floatbank2_a_air    5287 non-null   float64\n",
      " 36  secondary_cleaner.state.floatbank2_a_level  5290 non-null   float64\n",
      " 37  secondary_cleaner.state.floatbank2_b_air    5288 non-null   float64\n",
      " 38  secondary_cleaner.state.floatbank2_b_level  5290 non-null   float64\n",
      " 39  secondary_cleaner.state.floatbank3_a_air    5281 non-null   float64\n",
      " 40  secondary_cleaner.state.floatbank3_a_level  5290 non-null   float64\n",
      " 41  secondary_cleaner.state.floatbank3_b_air    5290 non-null   float64\n",
      " 42  secondary_cleaner.state.floatbank3_b_level  5290 non-null   float64\n",
      " 43  secondary_cleaner.state.floatbank4_a_air    5290 non-null   float64\n",
      " 44  secondary_cleaner.state.floatbank4_a_level  5290 non-null   float64\n",
      " 45  secondary_cleaner.state.floatbank4_b_air    5290 non-null   float64\n",
      " 46  secondary_cleaner.state.floatbank4_b_level  5290 non-null   float64\n",
      " 47  secondary_cleaner.state.floatbank5_a_air    5290 non-null   float64\n",
      " 48  secondary_cleaner.state.floatbank5_a_level  5290 non-null   float64\n",
      " 49  secondary_cleaner.state.floatbank5_b_air    5290 non-null   float64\n",
      " 50  secondary_cleaner.state.floatbank5_b_level  5290 non-null   float64\n",
      " 51  secondary_cleaner.state.floatbank6_a_air    5290 non-null   float64\n",
      " 52  secondary_cleaner.state.floatbank6_a_level  5290 non-null   float64\n",
      "dtypes: float64(52), object(1)\n",
      "memory usage: 2.1+ MB\n"
     ]
    }
   ],
   "source": [
    "data_test.info()"
   ]
  },
  {
   "cell_type": "code",
   "execution_count": 6,
   "metadata": {},
   "outputs": [
    {
     "data": {
      "text/html": [
       "<div>\n",
       "<style scoped>\n",
       "    .dataframe tbody tr th:only-of-type {\n",
       "        vertical-align: middle;\n",
       "    }\n",
       "\n",
       "    .dataframe tbody tr th {\n",
       "        vertical-align: top;\n",
       "    }\n",
       "\n",
       "    .dataframe thead th {\n",
       "        text-align: right;\n",
       "    }\n",
       "</style>\n",
       "<table border=\"1\" class=\"dataframe\">\n",
       "  <thead>\n",
       "    <tr style=\"text-align: right;\">\n",
       "      <th></th>\n",
       "      <th>final.output.concentrate_ag</th>\n",
       "      <th>final.output.concentrate_pb</th>\n",
       "      <th>final.output.concentrate_sol</th>\n",
       "      <th>final.output.concentrate_au</th>\n",
       "      <th>final.output.recovery</th>\n",
       "      <th>final.output.tail_ag</th>\n",
       "      <th>final.output.tail_pb</th>\n",
       "      <th>final.output.tail_sol</th>\n",
       "      <th>final.output.tail_au</th>\n",
       "      <th>primary_cleaner.input.sulfate</th>\n",
       "      <th>...</th>\n",
       "      <th>secondary_cleaner.state.floatbank4_a_air</th>\n",
       "      <th>secondary_cleaner.state.floatbank4_a_level</th>\n",
       "      <th>secondary_cleaner.state.floatbank4_b_air</th>\n",
       "      <th>secondary_cleaner.state.floatbank4_b_level</th>\n",
       "      <th>secondary_cleaner.state.floatbank5_a_air</th>\n",
       "      <th>secondary_cleaner.state.floatbank5_a_level</th>\n",
       "      <th>secondary_cleaner.state.floatbank5_b_air</th>\n",
       "      <th>secondary_cleaner.state.floatbank5_b_level</th>\n",
       "      <th>secondary_cleaner.state.floatbank6_a_air</th>\n",
       "      <th>secondary_cleaner.state.floatbank6_a_level</th>\n",
       "    </tr>\n",
       "  </thead>\n",
       "  <tbody>\n",
       "    <tr>\n",
       "      <th>count</th>\n",
       "      <td>19438.000000</td>\n",
       "      <td>19438.000000</td>\n",
       "      <td>19228.000000</td>\n",
       "      <td>19439.000000</td>\n",
       "      <td>19439.000000</td>\n",
       "      <td>19438.000000</td>\n",
       "      <td>19338.000000</td>\n",
       "      <td>19433.000000</td>\n",
       "      <td>19439.000000</td>\n",
       "      <td>19415.000000</td>\n",
       "      <td>...</td>\n",
       "      <td>19433.000000</td>\n",
       "      <td>19438.000000</td>\n",
       "      <td>19438.000000</td>\n",
       "      <td>19438.000000</td>\n",
       "      <td>19438.000000</td>\n",
       "      <td>19438.000000</td>\n",
       "      <td>19438.000000</td>\n",
       "      <td>19438.000000</td>\n",
       "      <td>19437.000000</td>\n",
       "      <td>19438.000000</td>\n",
       "    </tr>\n",
       "    <tr>\n",
       "      <th>mean</th>\n",
       "      <td>5.168470</td>\n",
       "      <td>9.978895</td>\n",
       "      <td>9.501224</td>\n",
       "      <td>44.076513</td>\n",
       "      <td>67.050208</td>\n",
       "      <td>9.688589</td>\n",
       "      <td>2.705795</td>\n",
       "      <td>10.583728</td>\n",
       "      <td>3.042467</td>\n",
       "      <td>144.624774</td>\n",
       "      <td>...</td>\n",
       "      <td>18.987674</td>\n",
       "      <td>-485.894516</td>\n",
       "      <td>15.010366</td>\n",
       "      <td>-461.078636</td>\n",
       "      <td>15.694452</td>\n",
       "      <td>-488.684065</td>\n",
       "      <td>12.198224</td>\n",
       "      <td>-487.149827</td>\n",
       "      <td>18.959024</td>\n",
       "      <td>-505.436305</td>\n",
       "    </tr>\n",
       "    <tr>\n",
       "      <th>std</th>\n",
       "      <td>1.372348</td>\n",
       "      <td>1.669240</td>\n",
       "      <td>2.787537</td>\n",
       "      <td>5.129784</td>\n",
       "      <td>10.125840</td>\n",
       "      <td>2.328642</td>\n",
       "      <td>0.949077</td>\n",
       "      <td>2.868782</td>\n",
       "      <td>0.922808</td>\n",
       "      <td>44.464071</td>\n",
       "      <td>...</td>\n",
       "      <td>5.411058</td>\n",
       "      <td>47.758570</td>\n",
       "      <td>4.890228</td>\n",
       "      <td>67.405524</td>\n",
       "      <td>5.510974</td>\n",
       "      <td>34.533396</td>\n",
       "      <td>5.333024</td>\n",
       "      <td>38.347312</td>\n",
       "      <td>5.550498</td>\n",
       "      <td>37.689057</td>\n",
       "    </tr>\n",
       "    <tr>\n",
       "      <th>min</th>\n",
       "      <td>0.000000</td>\n",
       "      <td>0.000000</td>\n",
       "      <td>0.000000</td>\n",
       "      <td>0.000000</td>\n",
       "      <td>0.000000</td>\n",
       "      <td>0.000000</td>\n",
       "      <td>0.000000</td>\n",
       "      <td>0.000000</td>\n",
       "      <td>0.000000</td>\n",
       "      <td>0.003112</td>\n",
       "      <td>...</td>\n",
       "      <td>0.000000</td>\n",
       "      <td>-799.798523</td>\n",
       "      <td>0.000000</td>\n",
       "      <td>-800.836914</td>\n",
       "      <td>-0.372054</td>\n",
       "      <td>-797.323986</td>\n",
       "      <td>0.528083</td>\n",
       "      <td>-800.220337</td>\n",
       "      <td>-0.079426</td>\n",
       "      <td>-809.741464</td>\n",
       "    </tr>\n",
       "    <tr>\n",
       "      <th>25%</th>\n",
       "      <td>4.251240</td>\n",
       "      <td>9.137262</td>\n",
       "      <td>7.722820</td>\n",
       "      <td>43.402215</td>\n",
       "      <td>63.299712</td>\n",
       "      <td>8.062878</td>\n",
       "      <td>2.040119</td>\n",
       "      <td>8.938947</td>\n",
       "      <td>2.461138</td>\n",
       "      <td>114.107029</td>\n",
       "      <td>...</td>\n",
       "      <td>14.975734</td>\n",
       "      <td>-500.704892</td>\n",
       "      <td>11.940294</td>\n",
       "      <td>-500.187742</td>\n",
       "      <td>10.988606</td>\n",
       "      <td>-500.458467</td>\n",
       "      <td>8.971105</td>\n",
       "      <td>-500.129462</td>\n",
       "      <td>14.983037</td>\n",
       "      <td>-500.728067</td>\n",
       "    </tr>\n",
       "    <tr>\n",
       "      <th>50%</th>\n",
       "      <td>5.066094</td>\n",
       "      <td>10.102433</td>\n",
       "      <td>9.218961</td>\n",
       "      <td>45.011244</td>\n",
       "      <td>68.172738</td>\n",
       "      <td>9.743623</td>\n",
       "      <td>2.748730</td>\n",
       "      <td>10.622456</td>\n",
       "      <td>2.984909</td>\n",
       "      <td>143.232103</td>\n",
       "      <td>...</td>\n",
       "      <td>18.017481</td>\n",
       "      <td>-499.837793</td>\n",
       "      <td>14.971014</td>\n",
       "      <td>-499.459786</td>\n",
       "      <td>15.000036</td>\n",
       "      <td>-499.802605</td>\n",
       "      <td>11.019433</td>\n",
       "      <td>-499.935317</td>\n",
       "      <td>19.960541</td>\n",
       "      <td>-500.048400</td>\n",
       "    </tr>\n",
       "    <tr>\n",
       "      <th>75%</th>\n",
       "      <td>5.895527</td>\n",
       "      <td>11.035769</td>\n",
       "      <td>10.947813</td>\n",
       "      <td>46.275313</td>\n",
       "      <td>72.686642</td>\n",
       "      <td>11.134294</td>\n",
       "      <td>3.333216</td>\n",
       "      <td>12.104271</td>\n",
       "      <td>3.571351</td>\n",
       "      <td>175.075656</td>\n",
       "      <td>...</td>\n",
       "      <td>23.012470</td>\n",
       "      <td>-498.249730</td>\n",
       "      <td>19.034162</td>\n",
       "      <td>-400.118106</td>\n",
       "      <td>18.026190</td>\n",
       "      <td>-498.384187</td>\n",
       "      <td>14.019088</td>\n",
       "      <td>-499.436708</td>\n",
       "      <td>24.003170</td>\n",
       "      <td>-499.495378</td>\n",
       "    </tr>\n",
       "    <tr>\n",
       "      <th>max</th>\n",
       "      <td>16.001945</td>\n",
       "      <td>17.031899</td>\n",
       "      <td>19.615720</td>\n",
       "      <td>52.756638</td>\n",
       "      <td>100.000000</td>\n",
       "      <td>19.552149</td>\n",
       "      <td>5.804178</td>\n",
       "      <td>22.317730</td>\n",
       "      <td>8.245022</td>\n",
       "      <td>265.983123</td>\n",
       "      <td>...</td>\n",
       "      <td>30.115735</td>\n",
       "      <td>-245.239184</td>\n",
       "      <td>31.269706</td>\n",
       "      <td>-6.506986</td>\n",
       "      <td>43.709931</td>\n",
       "      <td>-244.483566</td>\n",
       "      <td>27.926001</td>\n",
       "      <td>-137.740004</td>\n",
       "      <td>32.188906</td>\n",
       "      <td>-104.427459</td>\n",
       "    </tr>\n",
       "  </tbody>\n",
       "</table>\n",
       "<p>8 rows × 86 columns</p>\n",
       "</div>"
      ],
      "text/plain": [
       "       final.output.concentrate_ag  final.output.concentrate_pb  \\\n",
       "count                 19438.000000                 19438.000000   \n",
       "mean                      5.168470                     9.978895   \n",
       "std                       1.372348                     1.669240   \n",
       "min                       0.000000                     0.000000   \n",
       "25%                       4.251240                     9.137262   \n",
       "50%                       5.066094                    10.102433   \n",
       "75%                       5.895527                    11.035769   \n",
       "max                      16.001945                    17.031899   \n",
       "\n",
       "       final.output.concentrate_sol  final.output.concentrate_au  \\\n",
       "count                  19228.000000                 19439.000000   \n",
       "mean                       9.501224                    44.076513   \n",
       "std                        2.787537                     5.129784   \n",
       "min                        0.000000                     0.000000   \n",
       "25%                        7.722820                    43.402215   \n",
       "50%                        9.218961                    45.011244   \n",
       "75%                       10.947813                    46.275313   \n",
       "max                       19.615720                    52.756638   \n",
       "\n",
       "       final.output.recovery  final.output.tail_ag  final.output.tail_pb  \\\n",
       "count           19439.000000          19438.000000          19338.000000   \n",
       "mean               67.050208              9.688589              2.705795   \n",
       "std                10.125840              2.328642              0.949077   \n",
       "min                 0.000000              0.000000              0.000000   \n",
       "25%                63.299712              8.062878              2.040119   \n",
       "50%                68.172738              9.743623              2.748730   \n",
       "75%                72.686642             11.134294              3.333216   \n",
       "max               100.000000             19.552149              5.804178   \n",
       "\n",
       "       final.output.tail_sol  final.output.tail_au  \\\n",
       "count           19433.000000          19439.000000   \n",
       "mean               10.583728              3.042467   \n",
       "std                 2.868782              0.922808   \n",
       "min                 0.000000              0.000000   \n",
       "25%                 8.938947              2.461138   \n",
       "50%                10.622456              2.984909   \n",
       "75%                12.104271              3.571351   \n",
       "max                22.317730              8.245022   \n",
       "\n",
       "       primary_cleaner.input.sulfate  ...  \\\n",
       "count                   19415.000000  ...   \n",
       "mean                      144.624774  ...   \n",
       "std                        44.464071  ...   \n",
       "min                         0.003112  ...   \n",
       "25%                       114.107029  ...   \n",
       "50%                       143.232103  ...   \n",
       "75%                       175.075656  ...   \n",
       "max                       265.983123  ...   \n",
       "\n",
       "       secondary_cleaner.state.floatbank4_a_air  \\\n",
       "count                              19433.000000   \n",
       "mean                                  18.987674   \n",
       "std                                    5.411058   \n",
       "min                                    0.000000   \n",
       "25%                                   14.975734   \n",
       "50%                                   18.017481   \n",
       "75%                                   23.012470   \n",
       "max                                   30.115735   \n",
       "\n",
       "       secondary_cleaner.state.floatbank4_a_level  \\\n",
       "count                                19438.000000   \n",
       "mean                                  -485.894516   \n",
       "std                                     47.758570   \n",
       "min                                   -799.798523   \n",
       "25%                                   -500.704892   \n",
       "50%                                   -499.837793   \n",
       "75%                                   -498.249730   \n",
       "max                                   -245.239184   \n",
       "\n",
       "       secondary_cleaner.state.floatbank4_b_air  \\\n",
       "count                              19438.000000   \n",
       "mean                                  15.010366   \n",
       "std                                    4.890228   \n",
       "min                                    0.000000   \n",
       "25%                                   11.940294   \n",
       "50%                                   14.971014   \n",
       "75%                                   19.034162   \n",
       "max                                   31.269706   \n",
       "\n",
       "       secondary_cleaner.state.floatbank4_b_level  \\\n",
       "count                                19438.000000   \n",
       "mean                                  -461.078636   \n",
       "std                                     67.405524   \n",
       "min                                   -800.836914   \n",
       "25%                                   -500.187742   \n",
       "50%                                   -499.459786   \n",
       "75%                                   -400.118106   \n",
       "max                                     -6.506986   \n",
       "\n",
       "       secondary_cleaner.state.floatbank5_a_air  \\\n",
       "count                              19438.000000   \n",
       "mean                                  15.694452   \n",
       "std                                    5.510974   \n",
       "min                                   -0.372054   \n",
       "25%                                   10.988606   \n",
       "50%                                   15.000036   \n",
       "75%                                   18.026190   \n",
       "max                                   43.709931   \n",
       "\n",
       "       secondary_cleaner.state.floatbank5_a_level  \\\n",
       "count                                19438.000000   \n",
       "mean                                  -488.684065   \n",
       "std                                     34.533396   \n",
       "min                                   -797.323986   \n",
       "25%                                   -500.458467   \n",
       "50%                                   -499.802605   \n",
       "75%                                   -498.384187   \n",
       "max                                   -244.483566   \n",
       "\n",
       "       secondary_cleaner.state.floatbank5_b_air  \\\n",
       "count                              19438.000000   \n",
       "mean                                  12.198224   \n",
       "std                                    5.333024   \n",
       "min                                    0.528083   \n",
       "25%                                    8.971105   \n",
       "50%                                   11.019433   \n",
       "75%                                   14.019088   \n",
       "max                                   27.926001   \n",
       "\n",
       "       secondary_cleaner.state.floatbank5_b_level  \\\n",
       "count                                19438.000000   \n",
       "mean                                  -487.149827   \n",
       "std                                     38.347312   \n",
       "min                                   -800.220337   \n",
       "25%                                   -500.129462   \n",
       "50%                                   -499.935317   \n",
       "75%                                   -499.436708   \n",
       "max                                   -137.740004   \n",
       "\n",
       "       secondary_cleaner.state.floatbank6_a_air  \\\n",
       "count                              19437.000000   \n",
       "mean                                  18.959024   \n",
       "std                                    5.550498   \n",
       "min                                   -0.079426   \n",
       "25%                                   14.983037   \n",
       "50%                                   19.960541   \n",
       "75%                                   24.003170   \n",
       "max                                   32.188906   \n",
       "\n",
       "       secondary_cleaner.state.floatbank6_a_level  \n",
       "count                                19438.000000  \n",
       "mean                                  -505.436305  \n",
       "std                                     37.689057  \n",
       "min                                   -809.741464  \n",
       "25%                                   -500.728067  \n",
       "50%                                   -500.048400  \n",
       "75%                                   -499.495378  \n",
       "max                                   -104.427459  \n",
       "\n",
       "[8 rows x 86 columns]"
      ]
     },
     "execution_count": 6,
     "metadata": {},
     "output_type": "execute_result"
    }
   ],
   "source": [
    "data_full.describe()"
   ]
  },
  {
   "cell_type": "code",
   "execution_count": 7,
   "metadata": {},
   "outputs": [
    {
     "data": {
      "text/html": [
       "<div>\n",
       "<style scoped>\n",
       "    .dataframe tbody tr th:only-of-type {\n",
       "        vertical-align: middle;\n",
       "    }\n",
       "\n",
       "    .dataframe tbody tr th {\n",
       "        vertical-align: top;\n",
       "    }\n",
       "\n",
       "    .dataframe thead th {\n",
       "        text-align: right;\n",
       "    }\n",
       "</style>\n",
       "<table border=\"1\" class=\"dataframe\">\n",
       "  <thead>\n",
       "    <tr style=\"text-align: right;\">\n",
       "      <th></th>\n",
       "      <th>final.output.concentrate_ag</th>\n",
       "      <th>final.output.concentrate_pb</th>\n",
       "      <th>final.output.concentrate_sol</th>\n",
       "      <th>final.output.concentrate_au</th>\n",
       "      <th>final.output.recovery</th>\n",
       "      <th>final.output.tail_ag</th>\n",
       "      <th>final.output.tail_pb</th>\n",
       "      <th>final.output.tail_sol</th>\n",
       "      <th>final.output.tail_au</th>\n",
       "      <th>primary_cleaner.input.sulfate</th>\n",
       "      <th>...</th>\n",
       "      <th>secondary_cleaner.state.floatbank4_a_air</th>\n",
       "      <th>secondary_cleaner.state.floatbank4_a_level</th>\n",
       "      <th>secondary_cleaner.state.floatbank4_b_air</th>\n",
       "      <th>secondary_cleaner.state.floatbank4_b_level</th>\n",
       "      <th>secondary_cleaner.state.floatbank5_a_air</th>\n",
       "      <th>secondary_cleaner.state.floatbank5_a_level</th>\n",
       "      <th>secondary_cleaner.state.floatbank5_b_air</th>\n",
       "      <th>secondary_cleaner.state.floatbank5_b_level</th>\n",
       "      <th>secondary_cleaner.state.floatbank6_a_air</th>\n",
       "      <th>secondary_cleaner.state.floatbank6_a_level</th>\n",
       "    </tr>\n",
       "  </thead>\n",
       "  <tbody>\n",
       "    <tr>\n",
       "      <th>count</th>\n",
       "      <td>14148.000000</td>\n",
       "      <td>14148.000000</td>\n",
       "      <td>13938.000000</td>\n",
       "      <td>14149.000000</td>\n",
       "      <td>14149.000000</td>\n",
       "      <td>14149.000000</td>\n",
       "      <td>14049.000000</td>\n",
       "      <td>14144.000000</td>\n",
       "      <td>14149.000000</td>\n",
       "      <td>14129.000000</td>\n",
       "      <td>...</td>\n",
       "      <td>14143.000000</td>\n",
       "      <td>14148.000000</td>\n",
       "      <td>14148.000000</td>\n",
       "      <td>14148.000000</td>\n",
       "      <td>14148.000000</td>\n",
       "      <td>14148.000000</td>\n",
       "      <td>14148.000000</td>\n",
       "      <td>14148.000000</td>\n",
       "      <td>14147.000000</td>\n",
       "      <td>14148.000000</td>\n",
       "    </tr>\n",
       "    <tr>\n",
       "      <th>mean</th>\n",
       "      <td>5.142034</td>\n",
       "      <td>10.132960</td>\n",
       "      <td>9.202849</td>\n",
       "      <td>44.003792</td>\n",
       "      <td>66.518832</td>\n",
       "      <td>9.607035</td>\n",
       "      <td>2.597298</td>\n",
       "      <td>10.512122</td>\n",
       "      <td>2.918421</td>\n",
       "      <td>133.320659</td>\n",
       "      <td>...</td>\n",
       "      <td>19.985454</td>\n",
       "      <td>-478.696836</td>\n",
       "      <td>15.487065</td>\n",
       "      <td>-460.229416</td>\n",
       "      <td>16.775136</td>\n",
       "      <td>-483.956022</td>\n",
       "      <td>13.064590</td>\n",
       "      <td>-483.966564</td>\n",
       "      <td>19.577539</td>\n",
       "      <td>-506.798480</td>\n",
       "    </tr>\n",
       "    <tr>\n",
       "      <th>std</th>\n",
       "      <td>1.369586</td>\n",
       "      <td>1.654930</td>\n",
       "      <td>2.790516</td>\n",
       "      <td>4.905261</td>\n",
       "      <td>10.295402</td>\n",
       "      <td>2.319069</td>\n",
       "      <td>0.971843</td>\n",
       "      <td>3.003617</td>\n",
       "      <td>0.903712</td>\n",
       "      <td>39.431659</td>\n",
       "      <td>...</td>\n",
       "      <td>5.657723</td>\n",
       "      <td>50.736021</td>\n",
       "      <td>5.255655</td>\n",
       "      <td>58.843586</td>\n",
       "      <td>5.831906</td>\n",
       "      <td>37.892788</td>\n",
       "      <td>5.765617</td>\n",
       "      <td>39.207913</td>\n",
       "      <td>5.764417</td>\n",
       "      <td>37.079249</td>\n",
       "    </tr>\n",
       "    <tr>\n",
       "      <th>min</th>\n",
       "      <td>0.000000</td>\n",
       "      <td>0.000000</td>\n",
       "      <td>0.000000</td>\n",
       "      <td>0.000000</td>\n",
       "      <td>0.000000</td>\n",
       "      <td>0.000000</td>\n",
       "      <td>0.000000</td>\n",
       "      <td>0.000000</td>\n",
       "      <td>0.000000</td>\n",
       "      <td>0.003112</td>\n",
       "      <td>...</td>\n",
       "      <td>0.000000</td>\n",
       "      <td>-799.709069</td>\n",
       "      <td>0.000000</td>\n",
       "      <td>-799.889113</td>\n",
       "      <td>-0.372054</td>\n",
       "      <td>-797.142475</td>\n",
       "      <td>0.646208</td>\n",
       "      <td>-800.006180</td>\n",
       "      <td>0.195324</td>\n",
       "      <td>-809.398668</td>\n",
       "    </tr>\n",
       "    <tr>\n",
       "      <th>25%</th>\n",
       "      <td>4.211620</td>\n",
       "      <td>9.297355</td>\n",
       "      <td>7.484645</td>\n",
       "      <td>43.276111</td>\n",
       "      <td>62.545817</td>\n",
       "      <td>7.997429</td>\n",
       "      <td>1.905973</td>\n",
       "      <td>8.811324</td>\n",
       "      <td>2.368607</td>\n",
       "      <td>107.006651</td>\n",
       "      <td>...</td>\n",
       "      <td>14.990775</td>\n",
       "      <td>-500.628656</td>\n",
       "      <td>11.894558</td>\n",
       "      <td>-500.149000</td>\n",
       "      <td>11.083980</td>\n",
       "      <td>-500.363177</td>\n",
       "      <td>8.994405</td>\n",
       "      <td>-500.105994</td>\n",
       "      <td>14.989304</td>\n",
       "      <td>-500.745104</td>\n",
       "    </tr>\n",
       "    <tr>\n",
       "      <th>50%</th>\n",
       "      <td>4.994652</td>\n",
       "      <td>10.297144</td>\n",
       "      <td>8.845462</td>\n",
       "      <td>44.872436</td>\n",
       "      <td>67.432775</td>\n",
       "      <td>9.480270</td>\n",
       "      <td>2.592022</td>\n",
       "      <td>10.514621</td>\n",
       "      <td>2.851025</td>\n",
       "      <td>133.018328</td>\n",
       "      <td>...</td>\n",
       "      <td>20.001789</td>\n",
       "      <td>-499.681450</td>\n",
       "      <td>14.975536</td>\n",
       "      <td>-499.388738</td>\n",
       "      <td>17.932223</td>\n",
       "      <td>-499.702452</td>\n",
       "      <td>11.997547</td>\n",
       "      <td>-499.914556</td>\n",
       "      <td>19.984175</td>\n",
       "      <td>-500.061431</td>\n",
       "    </tr>\n",
       "    <tr>\n",
       "      <th>75%</th>\n",
       "      <td>5.859540</td>\n",
       "      <td>11.170603</td>\n",
       "      <td>10.487508</td>\n",
       "      <td>46.166425</td>\n",
       "      <td>72.346428</td>\n",
       "      <td>11.003707</td>\n",
       "      <td>3.241723</td>\n",
       "      <td>11.933009</td>\n",
       "      <td>3.434764</td>\n",
       "      <td>159.825396</td>\n",
       "      <td>...</td>\n",
       "      <td>24.990826</td>\n",
       "      <td>-477.472413</td>\n",
       "      <td>20.059375</td>\n",
       "      <td>-400.039008</td>\n",
       "      <td>21.346550</td>\n",
       "      <td>-487.712108</td>\n",
       "      <td>17.982903</td>\n",
       "      <td>-453.186936</td>\n",
       "      <td>24.991623</td>\n",
       "      <td>-499.536466</td>\n",
       "    </tr>\n",
       "    <tr>\n",
       "      <th>max</th>\n",
       "      <td>16.001945</td>\n",
       "      <td>17.031899</td>\n",
       "      <td>18.124851</td>\n",
       "      <td>52.756638</td>\n",
       "      <td>100.000000</td>\n",
       "      <td>19.552149</td>\n",
       "      <td>5.639565</td>\n",
       "      <td>22.317730</td>\n",
       "      <td>8.197408</td>\n",
       "      <td>250.127834</td>\n",
       "      <td>...</td>\n",
       "      <td>30.115735</td>\n",
       "      <td>-245.239184</td>\n",
       "      <td>24.007913</td>\n",
       "      <td>-145.071088</td>\n",
       "      <td>43.709931</td>\n",
       "      <td>-275.073125</td>\n",
       "      <td>27.926001</td>\n",
       "      <td>-157.396071</td>\n",
       "      <td>32.188906</td>\n",
       "      <td>-104.427459</td>\n",
       "    </tr>\n",
       "  </tbody>\n",
       "</table>\n",
       "<p>8 rows × 86 columns</p>\n",
       "</div>"
      ],
      "text/plain": [
       "       final.output.concentrate_ag  final.output.concentrate_pb  \\\n",
       "count                 14148.000000                 14148.000000   \n",
       "mean                      5.142034                    10.132960   \n",
       "std                       1.369586                     1.654930   \n",
       "min                       0.000000                     0.000000   \n",
       "25%                       4.211620                     9.297355   \n",
       "50%                       4.994652                    10.297144   \n",
       "75%                       5.859540                    11.170603   \n",
       "max                      16.001945                    17.031899   \n",
       "\n",
       "       final.output.concentrate_sol  final.output.concentrate_au  \\\n",
       "count                  13938.000000                 14149.000000   \n",
       "mean                       9.202849                    44.003792   \n",
       "std                        2.790516                     4.905261   \n",
       "min                        0.000000                     0.000000   \n",
       "25%                        7.484645                    43.276111   \n",
       "50%                        8.845462                    44.872436   \n",
       "75%                       10.487508                    46.166425   \n",
       "max                       18.124851                    52.756638   \n",
       "\n",
       "       final.output.recovery  final.output.tail_ag  final.output.tail_pb  \\\n",
       "count           14149.000000          14149.000000          14049.000000   \n",
       "mean               66.518832              9.607035              2.597298   \n",
       "std                10.295402              2.319069              0.971843   \n",
       "min                 0.000000              0.000000              0.000000   \n",
       "25%                62.545817              7.997429              1.905973   \n",
       "50%                67.432775              9.480270              2.592022   \n",
       "75%                72.346428             11.003707              3.241723   \n",
       "max               100.000000             19.552149              5.639565   \n",
       "\n",
       "       final.output.tail_sol  final.output.tail_au  \\\n",
       "count           14144.000000          14149.000000   \n",
       "mean               10.512122              2.918421   \n",
       "std                 3.003617              0.903712   \n",
       "min                 0.000000              0.000000   \n",
       "25%                 8.811324              2.368607   \n",
       "50%                10.514621              2.851025   \n",
       "75%                11.933009              3.434764   \n",
       "max                22.317730              8.197408   \n",
       "\n",
       "       primary_cleaner.input.sulfate  ...  \\\n",
       "count                   14129.000000  ...   \n",
       "mean                      133.320659  ...   \n",
       "std                        39.431659  ...   \n",
       "min                         0.003112  ...   \n",
       "25%                       107.006651  ...   \n",
       "50%                       133.018328  ...   \n",
       "75%                       159.825396  ...   \n",
       "max                       250.127834  ...   \n",
       "\n",
       "       secondary_cleaner.state.floatbank4_a_air  \\\n",
       "count                              14143.000000   \n",
       "mean                                  19.985454   \n",
       "std                                    5.657723   \n",
       "min                                    0.000000   \n",
       "25%                                   14.990775   \n",
       "50%                                   20.001789   \n",
       "75%                                   24.990826   \n",
       "max                                   30.115735   \n",
       "\n",
       "       secondary_cleaner.state.floatbank4_a_level  \\\n",
       "count                                14148.000000   \n",
       "mean                                  -478.696836   \n",
       "std                                     50.736021   \n",
       "min                                   -799.709069   \n",
       "25%                                   -500.628656   \n",
       "50%                                   -499.681450   \n",
       "75%                                   -477.472413   \n",
       "max                                   -245.239184   \n",
       "\n",
       "       secondary_cleaner.state.floatbank4_b_air  \\\n",
       "count                              14148.000000   \n",
       "mean                                  15.487065   \n",
       "std                                    5.255655   \n",
       "min                                    0.000000   \n",
       "25%                                   11.894558   \n",
       "50%                                   14.975536   \n",
       "75%                                   20.059375   \n",
       "max                                   24.007913   \n",
       "\n",
       "       secondary_cleaner.state.floatbank4_b_level  \\\n",
       "count                                14148.000000   \n",
       "mean                                  -460.229416   \n",
       "std                                     58.843586   \n",
       "min                                   -799.889113   \n",
       "25%                                   -500.149000   \n",
       "50%                                   -499.388738   \n",
       "75%                                   -400.039008   \n",
       "max                                   -145.071088   \n",
       "\n",
       "       secondary_cleaner.state.floatbank5_a_air  \\\n",
       "count                              14148.000000   \n",
       "mean                                  16.775136   \n",
       "std                                    5.831906   \n",
       "min                                   -0.372054   \n",
       "25%                                   11.083980   \n",
       "50%                                   17.932223   \n",
       "75%                                   21.346550   \n",
       "max                                   43.709931   \n",
       "\n",
       "       secondary_cleaner.state.floatbank5_a_level  \\\n",
       "count                                14148.000000   \n",
       "mean                                  -483.956022   \n",
       "std                                     37.892788   \n",
       "min                                   -797.142475   \n",
       "25%                                   -500.363177   \n",
       "50%                                   -499.702452   \n",
       "75%                                   -487.712108   \n",
       "max                                   -275.073125   \n",
       "\n",
       "       secondary_cleaner.state.floatbank5_b_air  \\\n",
       "count                              14148.000000   \n",
       "mean                                  13.064590   \n",
       "std                                    5.765617   \n",
       "min                                    0.646208   \n",
       "25%                                    8.994405   \n",
       "50%                                   11.997547   \n",
       "75%                                   17.982903   \n",
       "max                                   27.926001   \n",
       "\n",
       "       secondary_cleaner.state.floatbank5_b_level  \\\n",
       "count                                14148.000000   \n",
       "mean                                  -483.966564   \n",
       "std                                     39.207913   \n",
       "min                                   -800.006180   \n",
       "25%                                   -500.105994   \n",
       "50%                                   -499.914556   \n",
       "75%                                   -453.186936   \n",
       "max                                   -157.396071   \n",
       "\n",
       "       secondary_cleaner.state.floatbank6_a_air  \\\n",
       "count                              14147.000000   \n",
       "mean                                  19.577539   \n",
       "std                                    5.764417   \n",
       "min                                    0.195324   \n",
       "25%                                   14.989304   \n",
       "50%                                   19.984175   \n",
       "75%                                   24.991623   \n",
       "max                                   32.188906   \n",
       "\n",
       "       secondary_cleaner.state.floatbank6_a_level  \n",
       "count                                14148.000000  \n",
       "mean                                  -506.798480  \n",
       "std                                     37.079249  \n",
       "min                                   -809.398668  \n",
       "25%                                   -500.745104  \n",
       "50%                                   -500.061431  \n",
       "75%                                   -499.536466  \n",
       "max                                   -104.427459  \n",
       "\n",
       "[8 rows x 86 columns]"
      ]
     },
     "execution_count": 7,
     "metadata": {},
     "output_type": "execute_result"
    }
   ],
   "source": [
    "data_train.describe()"
   ]
  },
  {
   "cell_type": "code",
   "execution_count": 8,
   "metadata": {},
   "outputs": [
    {
     "data": {
      "text/html": [
       "<div>\n",
       "<style scoped>\n",
       "    .dataframe tbody tr th:only-of-type {\n",
       "        vertical-align: middle;\n",
       "    }\n",
       "\n",
       "    .dataframe tbody tr th {\n",
       "        vertical-align: top;\n",
       "    }\n",
       "\n",
       "    .dataframe thead th {\n",
       "        text-align: right;\n",
       "    }\n",
       "</style>\n",
       "<table border=\"1\" class=\"dataframe\">\n",
       "  <thead>\n",
       "    <tr style=\"text-align: right;\">\n",
       "      <th></th>\n",
       "      <th>primary_cleaner.input.sulfate</th>\n",
       "      <th>primary_cleaner.input.depressant</th>\n",
       "      <th>primary_cleaner.input.feed_size</th>\n",
       "      <th>primary_cleaner.input.xanthate</th>\n",
       "      <th>primary_cleaner.state.floatbank8_a_air</th>\n",
       "      <th>primary_cleaner.state.floatbank8_a_level</th>\n",
       "      <th>primary_cleaner.state.floatbank8_b_air</th>\n",
       "      <th>primary_cleaner.state.floatbank8_b_level</th>\n",
       "      <th>primary_cleaner.state.floatbank8_c_air</th>\n",
       "      <th>primary_cleaner.state.floatbank8_c_level</th>\n",
       "      <th>...</th>\n",
       "      <th>secondary_cleaner.state.floatbank4_a_air</th>\n",
       "      <th>secondary_cleaner.state.floatbank4_a_level</th>\n",
       "      <th>secondary_cleaner.state.floatbank4_b_air</th>\n",
       "      <th>secondary_cleaner.state.floatbank4_b_level</th>\n",
       "      <th>secondary_cleaner.state.floatbank5_a_air</th>\n",
       "      <th>secondary_cleaner.state.floatbank5_a_level</th>\n",
       "      <th>secondary_cleaner.state.floatbank5_b_air</th>\n",
       "      <th>secondary_cleaner.state.floatbank5_b_level</th>\n",
       "      <th>secondary_cleaner.state.floatbank6_a_air</th>\n",
       "      <th>secondary_cleaner.state.floatbank6_a_level</th>\n",
       "    </tr>\n",
       "  </thead>\n",
       "  <tbody>\n",
       "    <tr>\n",
       "      <th>count</th>\n",
       "      <td>5286.000000</td>\n",
       "      <td>5285.000000</td>\n",
       "      <td>5290.000000</td>\n",
       "      <td>5286.000000</td>\n",
       "      <td>5.290000e+03</td>\n",
       "      <td>5290.000000</td>\n",
       "      <td>5.290000e+03</td>\n",
       "      <td>5290.000000</td>\n",
       "      <td>5.290000e+03</td>\n",
       "      <td>5290.000000</td>\n",
       "      <td>...</td>\n",
       "      <td>5.290000e+03</td>\n",
       "      <td>5290.000000</td>\n",
       "      <td>5.290000e+03</td>\n",
       "      <td>5290.000000</td>\n",
       "      <td>5290.000000</td>\n",
       "      <td>5290.000000</td>\n",
       "      <td>5290.000000</td>\n",
       "      <td>5290.000000</td>\n",
       "      <td>5290.000000</td>\n",
       "      <td>5290.000000</td>\n",
       "    </tr>\n",
       "    <tr>\n",
       "      <th>mean</th>\n",
       "      <td>174.839652</td>\n",
       "      <td>8.683596</td>\n",
       "      <td>7.266339</td>\n",
       "      <td>1.383803</td>\n",
       "      <td>1.539494e+03</td>\n",
       "      <td>-497.665883</td>\n",
       "      <td>1.545174e+03</td>\n",
       "      <td>-500.273098</td>\n",
       "      <td>1.527272e+03</td>\n",
       "      <td>-498.330680</td>\n",
       "      <td>...</td>\n",
       "      <td>1.632007e+01</td>\n",
       "      <td>-505.144570</td>\n",
       "      <td>1.373544e+01</td>\n",
       "      <td>-463.349858</td>\n",
       "      <td>12.804186</td>\n",
       "      <td>-501.329122</td>\n",
       "      <td>9.881145</td>\n",
       "      <td>-495.663398</td>\n",
       "      <td>17.304935</td>\n",
       "      <td>-501.793193</td>\n",
       "    </tr>\n",
       "    <tr>\n",
       "      <th>std</th>\n",
       "      <td>43.027080</td>\n",
       "      <td>3.072050</td>\n",
       "      <td>0.610219</td>\n",
       "      <td>0.643474</td>\n",
       "      <td>1.167979e+02</td>\n",
       "      <td>19.952431</td>\n",
       "      <td>1.222246e+02</td>\n",
       "      <td>32.968307</td>\n",
       "      <td>1.225380e+02</td>\n",
       "      <td>21.964876</td>\n",
       "      <td>...</td>\n",
       "      <td>3.493583e+00</td>\n",
       "      <td>31.427337</td>\n",
       "      <td>3.430484e+00</td>\n",
       "      <td>86.189107</td>\n",
       "      <td>3.026591</td>\n",
       "      <td>17.951495</td>\n",
       "      <td>2.868205</td>\n",
       "      <td>34.535007</td>\n",
       "      <td>4.536544</td>\n",
       "      <td>39.044215</td>\n",
       "    </tr>\n",
       "    <tr>\n",
       "      <th>min</th>\n",
       "      <td>2.566156</td>\n",
       "      <td>0.003839</td>\n",
       "      <td>5.650000</td>\n",
       "      <td>0.004984</td>\n",
       "      <td>5.445860e-32</td>\n",
       "      <td>-795.316337</td>\n",
       "      <td>6.647490e-32</td>\n",
       "      <td>-799.997015</td>\n",
       "      <td>4.033736e-32</td>\n",
       "      <td>-799.960571</td>\n",
       "      <td>...</td>\n",
       "      <td>1.079872e-16</td>\n",
       "      <td>-799.798523</td>\n",
       "      <td>2.489718e-17</td>\n",
       "      <td>-800.836914</td>\n",
       "      <td>0.069227</td>\n",
       "      <td>-797.323986</td>\n",
       "      <td>0.528083</td>\n",
       "      <td>-800.220337</td>\n",
       "      <td>-0.079426</td>\n",
       "      <td>-809.741464</td>\n",
       "    </tr>\n",
       "    <tr>\n",
       "      <th>25%</th>\n",
       "      <td>147.121401</td>\n",
       "      <td>6.489555</td>\n",
       "      <td>6.890000</td>\n",
       "      <td>0.907623</td>\n",
       "      <td>1.498936e+03</td>\n",
       "      <td>-500.357298</td>\n",
       "      <td>1.498971e+03</td>\n",
       "      <td>-500.703002</td>\n",
       "      <td>1.473230e+03</td>\n",
       "      <td>-501.018117</td>\n",
       "      <td>...</td>\n",
       "      <td>1.403618e+01</td>\n",
       "      <td>-500.868258</td>\n",
       "      <td>1.202862e+01</td>\n",
       "      <td>-500.323028</td>\n",
       "      <td>10.914838</td>\n",
       "      <td>-500.726841</td>\n",
       "      <td>8.036719</td>\n",
       "      <td>-500.194668</td>\n",
       "      <td>13.997317</td>\n",
       "      <td>-500.690984</td>\n",
       "    </tr>\n",
       "    <tr>\n",
       "      <th>50%</th>\n",
       "      <td>177.828489</td>\n",
       "      <td>8.052207</td>\n",
       "      <td>7.250000</td>\n",
       "      <td>1.197610</td>\n",
       "      <td>1.585129e+03</td>\n",
       "      <td>-499.969164</td>\n",
       "      <td>1.595622e+03</td>\n",
       "      <td>-500.028514</td>\n",
       "      <td>1.549595e+03</td>\n",
       "      <td>-500.017711</td>\n",
       "      <td>...</td>\n",
       "      <td>1.700847e+01</td>\n",
       "      <td>-500.115727</td>\n",
       "      <td>1.496486e+01</td>\n",
       "      <td>-499.576513</td>\n",
       "      <td>12.954182</td>\n",
       "      <td>-499.990332</td>\n",
       "      <td>10.004301</td>\n",
       "      <td>-499.990535</td>\n",
       "      <td>16.014935</td>\n",
       "      <td>-500.007126</td>\n",
       "    </tr>\n",
       "    <tr>\n",
       "      <th>75%</th>\n",
       "      <td>208.125438</td>\n",
       "      <td>10.027764</td>\n",
       "      <td>7.600000</td>\n",
       "      <td>1.797819</td>\n",
       "      <td>1.602077e+03</td>\n",
       "      <td>-499.568951</td>\n",
       "      <td>1.602324e+03</td>\n",
       "      <td>-499.293257</td>\n",
       "      <td>1.601144e+03</td>\n",
       "      <td>-498.994130</td>\n",
       "      <td>...</td>\n",
       "      <td>1.803862e+01</td>\n",
       "      <td>-499.404224</td>\n",
       "      <td>1.596213e+01</td>\n",
       "      <td>-400.933805</td>\n",
       "      <td>15.097528</td>\n",
       "      <td>-499.283191</td>\n",
       "      <td>11.997467</td>\n",
       "      <td>-499.719913</td>\n",
       "      <td>21.020013</td>\n",
       "      <td>-499.373018</td>\n",
       "    </tr>\n",
       "    <tr>\n",
       "      <th>max</th>\n",
       "      <td>265.983123</td>\n",
       "      <td>40.000000</td>\n",
       "      <td>15.500000</td>\n",
       "      <td>4.102454</td>\n",
       "      <td>2.103104e+03</td>\n",
       "      <td>-57.195404</td>\n",
       "      <td>1.813084e+03</td>\n",
       "      <td>-142.527229</td>\n",
       "      <td>1.715054e+03</td>\n",
       "      <td>-150.937035</td>\n",
       "      <td>...</td>\n",
       "      <td>3.005180e+01</td>\n",
       "      <td>-401.565212</td>\n",
       "      <td>3.126971e+01</td>\n",
       "      <td>-6.506986</td>\n",
       "      <td>25.258848</td>\n",
       "      <td>-244.483566</td>\n",
       "      <td>14.086866</td>\n",
       "      <td>-137.740004</td>\n",
       "      <td>26.705889</td>\n",
       "      <td>-123.307487</td>\n",
       "    </tr>\n",
       "  </tbody>\n",
       "</table>\n",
       "<p>8 rows × 52 columns</p>\n",
       "</div>"
      ],
      "text/plain": [
       "       primary_cleaner.input.sulfate  primary_cleaner.input.depressant  \\\n",
       "count                    5286.000000                       5285.000000   \n",
       "mean                      174.839652                          8.683596   \n",
       "std                        43.027080                          3.072050   \n",
       "min                         2.566156                          0.003839   \n",
       "25%                       147.121401                          6.489555   \n",
       "50%                       177.828489                          8.052207   \n",
       "75%                       208.125438                         10.027764   \n",
       "max                       265.983123                         40.000000   \n",
       "\n",
       "       primary_cleaner.input.feed_size  primary_cleaner.input.xanthate  \\\n",
       "count                      5290.000000                     5286.000000   \n",
       "mean                          7.266339                        1.383803   \n",
       "std                           0.610219                        0.643474   \n",
       "min                           5.650000                        0.004984   \n",
       "25%                           6.890000                        0.907623   \n",
       "50%                           7.250000                        1.197610   \n",
       "75%                           7.600000                        1.797819   \n",
       "max                          15.500000                        4.102454   \n",
       "\n",
       "       primary_cleaner.state.floatbank8_a_air  \\\n",
       "count                            5.290000e+03   \n",
       "mean                             1.539494e+03   \n",
       "std                              1.167979e+02   \n",
       "min                              5.445860e-32   \n",
       "25%                              1.498936e+03   \n",
       "50%                              1.585129e+03   \n",
       "75%                              1.602077e+03   \n",
       "max                              2.103104e+03   \n",
       "\n",
       "       primary_cleaner.state.floatbank8_a_level  \\\n",
       "count                               5290.000000   \n",
       "mean                                -497.665883   \n",
       "std                                   19.952431   \n",
       "min                                 -795.316337   \n",
       "25%                                 -500.357298   \n",
       "50%                                 -499.969164   \n",
       "75%                                 -499.568951   \n",
       "max                                  -57.195404   \n",
       "\n",
       "       primary_cleaner.state.floatbank8_b_air  \\\n",
       "count                            5.290000e+03   \n",
       "mean                             1.545174e+03   \n",
       "std                              1.222246e+02   \n",
       "min                              6.647490e-32   \n",
       "25%                              1.498971e+03   \n",
       "50%                              1.595622e+03   \n",
       "75%                              1.602324e+03   \n",
       "max                              1.813084e+03   \n",
       "\n",
       "       primary_cleaner.state.floatbank8_b_level  \\\n",
       "count                               5290.000000   \n",
       "mean                                -500.273098   \n",
       "std                                   32.968307   \n",
       "min                                 -799.997015   \n",
       "25%                                 -500.703002   \n",
       "50%                                 -500.028514   \n",
       "75%                                 -499.293257   \n",
       "max                                 -142.527229   \n",
       "\n",
       "       primary_cleaner.state.floatbank8_c_air  \\\n",
       "count                            5.290000e+03   \n",
       "mean                             1.527272e+03   \n",
       "std                              1.225380e+02   \n",
       "min                              4.033736e-32   \n",
       "25%                              1.473230e+03   \n",
       "50%                              1.549595e+03   \n",
       "75%                              1.601144e+03   \n",
       "max                              1.715054e+03   \n",
       "\n",
       "       primary_cleaner.state.floatbank8_c_level  ...  \\\n",
       "count                               5290.000000  ...   \n",
       "mean                                -498.330680  ...   \n",
       "std                                   21.964876  ...   \n",
       "min                                 -799.960571  ...   \n",
       "25%                                 -501.018117  ...   \n",
       "50%                                 -500.017711  ...   \n",
       "75%                                 -498.994130  ...   \n",
       "max                                 -150.937035  ...   \n",
       "\n",
       "       secondary_cleaner.state.floatbank4_a_air  \\\n",
       "count                              5.290000e+03   \n",
       "mean                               1.632007e+01   \n",
       "std                                3.493583e+00   \n",
       "min                                1.079872e-16   \n",
       "25%                                1.403618e+01   \n",
       "50%                                1.700847e+01   \n",
       "75%                                1.803862e+01   \n",
       "max                                3.005180e+01   \n",
       "\n",
       "       secondary_cleaner.state.floatbank4_a_level  \\\n",
       "count                                 5290.000000   \n",
       "mean                                  -505.144570   \n",
       "std                                     31.427337   \n",
       "min                                   -799.798523   \n",
       "25%                                   -500.868258   \n",
       "50%                                   -500.115727   \n",
       "75%                                   -499.404224   \n",
       "max                                   -401.565212   \n",
       "\n",
       "       secondary_cleaner.state.floatbank4_b_air  \\\n",
       "count                              5.290000e+03   \n",
       "mean                               1.373544e+01   \n",
       "std                                3.430484e+00   \n",
       "min                                2.489718e-17   \n",
       "25%                                1.202862e+01   \n",
       "50%                                1.496486e+01   \n",
       "75%                                1.596213e+01   \n",
       "max                                3.126971e+01   \n",
       "\n",
       "       secondary_cleaner.state.floatbank4_b_level  \\\n",
       "count                                 5290.000000   \n",
       "mean                                  -463.349858   \n",
       "std                                     86.189107   \n",
       "min                                   -800.836914   \n",
       "25%                                   -500.323028   \n",
       "50%                                   -499.576513   \n",
       "75%                                   -400.933805   \n",
       "max                                     -6.506986   \n",
       "\n",
       "       secondary_cleaner.state.floatbank5_a_air  \\\n",
       "count                               5290.000000   \n",
       "mean                                  12.804186   \n",
       "std                                    3.026591   \n",
       "min                                    0.069227   \n",
       "25%                                   10.914838   \n",
       "50%                                   12.954182   \n",
       "75%                                   15.097528   \n",
       "max                                   25.258848   \n",
       "\n",
       "       secondary_cleaner.state.floatbank5_a_level  \\\n",
       "count                                 5290.000000   \n",
       "mean                                  -501.329122   \n",
       "std                                     17.951495   \n",
       "min                                   -797.323986   \n",
       "25%                                   -500.726841   \n",
       "50%                                   -499.990332   \n",
       "75%                                   -499.283191   \n",
       "max                                   -244.483566   \n",
       "\n",
       "       secondary_cleaner.state.floatbank5_b_air  \\\n",
       "count                               5290.000000   \n",
       "mean                                   9.881145   \n",
       "std                                    2.868205   \n",
       "min                                    0.528083   \n",
       "25%                                    8.036719   \n",
       "50%                                   10.004301   \n",
       "75%                                   11.997467   \n",
       "max                                   14.086866   \n",
       "\n",
       "       secondary_cleaner.state.floatbank5_b_level  \\\n",
       "count                                 5290.000000   \n",
       "mean                                  -495.663398   \n",
       "std                                     34.535007   \n",
       "min                                   -800.220337   \n",
       "25%                                   -500.194668   \n",
       "50%                                   -499.990535   \n",
       "75%                                   -499.719913   \n",
       "max                                   -137.740004   \n",
       "\n",
       "       secondary_cleaner.state.floatbank6_a_air  \\\n",
       "count                               5290.000000   \n",
       "mean                                  17.304935   \n",
       "std                                    4.536544   \n",
       "min                                   -0.079426   \n",
       "25%                                   13.997317   \n",
       "50%                                   16.014935   \n",
       "75%                                   21.020013   \n",
       "max                                   26.705889   \n",
       "\n",
       "       secondary_cleaner.state.floatbank6_a_level  \n",
       "count                                 5290.000000  \n",
       "mean                                  -501.793193  \n",
       "std                                     39.044215  \n",
       "min                                   -809.741464  \n",
       "25%                                   -500.690984  \n",
       "50%                                   -500.007126  \n",
       "75%                                   -499.373018  \n",
       "max                                   -123.307487  \n",
       "\n",
       "[8 rows x 52 columns]"
      ]
     },
     "execution_count": 8,
     "metadata": {},
     "output_type": "execute_result"
    }
   ],
   "source": [
    "data_test.describe()"
   ]
  },
  {
   "cell_type": "markdown",
   "metadata": {},
   "source": [
    "Всего у нас 3 базы данных - full, target и test. Во всех базах есть пропуски данных и отрицательные значения."
   ]
  },
  {
   "cell_type": "markdown",
   "metadata": {},
   "source": [
    "###  Проверка расчета эффективности обогащения"
   ]
  },
  {
   "cell_type": "markdown",
   "metadata": {},
   "source": [
    "Эффективность обогащения определяется по формуле\n",
    "\n",
    "Recovery = (C * (F - T)/ (F * (C - T))) * 100, где:\n",
    "\n",
    " - C — доля золота в концентрате после флотации/очистки;\n",
    " - F — доля золота в сырье/концентрате до флотации/очистки;\n",
    " - T — доля золота в отвальных хвостах после флотации/очистки.\n"
   ]
  },
  {
   "cell_type": "code",
   "execution_count": 9,
   "metadata": {},
   "outputs": [],
   "source": [
    "# эффективность обогащения\n",
    "C = data_train['rougher.output.concentrate_au']\n",
    "F = data_train['rougher.input.feed_au']\n",
    "T = data_train['rougher.output.tail_au']\n",
    "\n",
    "data_train['rougher.output.recovery_calculation'] = (C * (F - T) / (F * (C - T))) * 100"
   ]
  },
  {
   "cell_type": "code",
   "execution_count": 10,
   "metadata": {},
   "outputs": [
    {
     "name": "stdout",
     "output_type": "stream",
     "text": [
      "MAE между расчётами и значением признака:  9.73512347450521e-15\n"
     ]
    }
   ],
   "source": [
    "#  MAE между расчётами и значением признака\n",
    "mae = mean_absolute_error(data_train['rougher.output.recovery'], data_train['rougher.output.recovery_calculation'])\n",
    "print('MAE между расчётами и значением признака: ', mae)"
   ]
  },
  {
   "cell_type": "markdown",
   "metadata": {},
   "source": [
    "Эффективность обогащения расчитана верно - МАЕ между расчетным значением и значением признака крайне мала - 9.73512347450521e-15"
   ]
  },
  {
   "cell_type": "markdown",
   "metadata": {},
   "source": [
    "### Анализ признаков, недоступных в тестовой выборке"
   ]
  },
  {
   "cell_type": "code",
   "execution_count": 11,
   "metadata": {},
   "outputs": [
    {
     "data": {
      "text/plain": [
       "{'final.output.concentrate_ag',\n",
       " 'final.output.concentrate_au',\n",
       " 'final.output.concentrate_pb',\n",
       " 'final.output.concentrate_sol',\n",
       " 'final.output.recovery',\n",
       " 'final.output.tail_ag',\n",
       " 'final.output.tail_au',\n",
       " 'final.output.tail_pb',\n",
       " 'final.output.tail_sol',\n",
       " 'primary_cleaner.output.concentrate_ag',\n",
       " 'primary_cleaner.output.concentrate_au',\n",
       " 'primary_cleaner.output.concentrate_pb',\n",
       " 'primary_cleaner.output.concentrate_sol',\n",
       " 'primary_cleaner.output.tail_ag',\n",
       " 'primary_cleaner.output.tail_au',\n",
       " 'primary_cleaner.output.tail_pb',\n",
       " 'primary_cleaner.output.tail_sol',\n",
       " 'rougher.calculation.au_pb_ratio',\n",
       " 'rougher.calculation.floatbank10_sulfate_to_au_feed',\n",
       " 'rougher.calculation.floatbank11_sulfate_to_au_feed',\n",
       " 'rougher.calculation.sulfate_to_au_concentrate',\n",
       " 'rougher.output.concentrate_ag',\n",
       " 'rougher.output.concentrate_au',\n",
       " 'rougher.output.concentrate_pb',\n",
       " 'rougher.output.concentrate_sol',\n",
       " 'rougher.output.recovery',\n",
       " 'rougher.output.recovery_calculation',\n",
       " 'rougher.output.tail_ag',\n",
       " 'rougher.output.tail_au',\n",
       " 'rougher.output.tail_pb',\n",
       " 'rougher.output.tail_sol',\n",
       " 'secondary_cleaner.output.tail_ag',\n",
       " 'secondary_cleaner.output.tail_au',\n",
       " 'secondary_cleaner.output.tail_pb',\n",
       " 'secondary_cleaner.output.tail_sol'}"
      ]
     },
     "execution_count": 11,
     "metadata": {},
     "output_type": "execute_result"
    }
   ],
   "source": [
    "# сравним множества признаков двух датасетов\n",
    "set(data_train.columns) ^ set(data_test.columns)"
   ]
  },
  {
   "cell_type": "markdown",
   "metadata": {},
   "source": [
    "Исключая, добавленную нами клонку rougher.output.recovery_calculation, в тестовой выборке отсутствуют переменные с параметрами output — параметры продукта и calculation — расчётные характеристики"
   ]
  },
  {
   "cell_type": "markdown",
   "metadata": {},
   "source": [
    "### Предобработка данных"
   ]
  },
  {
   "cell_type": "code",
   "execution_count": 12,
   "metadata": {},
   "outputs": [],
   "source": [
    "# добавим в тестовую выборку целевые признаки rougher.output.recovery, final.output.recovery\n",
    "data_test = data_test.merge(data_full[['date', 'rougher.output.recovery', 'final.output.recovery']], on = 'date')\n"
   ]
  },
  {
   "cell_type": "code",
   "execution_count": 13,
   "metadata": {},
   "outputs": [
    {
     "name": "stdout",
     "output_type": "stream",
     "text": [
      "<class 'pandas.core.frame.DataFrame'>\n",
      "Int64Index: 5290 entries, 0 to 5289\n",
      "Data columns (total 55 columns):\n",
      " #   Column                                      Non-Null Count  Dtype  \n",
      "---  ------                                      --------------  -----  \n",
      " 0   date                                        5290 non-null   object \n",
      " 1   primary_cleaner.input.sulfate               5286 non-null   float64\n",
      " 2   primary_cleaner.input.depressant            5285 non-null   float64\n",
      " 3   primary_cleaner.input.feed_size             5290 non-null   float64\n",
      " 4   primary_cleaner.input.xanthate              5286 non-null   float64\n",
      " 5   primary_cleaner.state.floatbank8_a_air      5290 non-null   float64\n",
      " 6   primary_cleaner.state.floatbank8_a_level    5290 non-null   float64\n",
      " 7   primary_cleaner.state.floatbank8_b_air      5290 non-null   float64\n",
      " 8   primary_cleaner.state.floatbank8_b_level    5290 non-null   float64\n",
      " 9   primary_cleaner.state.floatbank8_c_air      5290 non-null   float64\n",
      " 10  primary_cleaner.state.floatbank8_c_level    5290 non-null   float64\n",
      " 11  primary_cleaner.state.floatbank8_d_air      5290 non-null   float64\n",
      " 12  primary_cleaner.state.floatbank8_d_level    5290 non-null   float64\n",
      " 13  rougher.input.feed_ag                       5290 non-null   float64\n",
      " 14  rougher.input.feed_pb                       5290 non-null   float64\n",
      " 15  rougher.input.feed_rate                     5287 non-null   float64\n",
      " 16  rougher.input.feed_size                     5289 non-null   float64\n",
      " 17  rougher.input.feed_sol                      5269 non-null   float64\n",
      " 18  rougher.input.feed_au                       5290 non-null   float64\n",
      " 19  rougher.input.floatbank10_sulfate           5285 non-null   float64\n",
      " 20  rougher.input.floatbank10_xanthate          5290 non-null   float64\n",
      " 21  rougher.input.floatbank11_sulfate           5282 non-null   float64\n",
      " 22  rougher.input.floatbank11_xanthate          5265 non-null   float64\n",
      " 23  rougher.state.floatbank10_a_air             5290 non-null   float64\n",
      " 24  rougher.state.floatbank10_a_level           5290 non-null   float64\n",
      " 25  rougher.state.floatbank10_b_air             5290 non-null   float64\n",
      " 26  rougher.state.floatbank10_b_level           5290 non-null   float64\n",
      " 27  rougher.state.floatbank10_c_air             5290 non-null   float64\n",
      " 28  rougher.state.floatbank10_c_level           5290 non-null   float64\n",
      " 29  rougher.state.floatbank10_d_air             5290 non-null   float64\n",
      " 30  rougher.state.floatbank10_d_level           5290 non-null   float64\n",
      " 31  rougher.state.floatbank10_e_air             5290 non-null   float64\n",
      " 32  rougher.state.floatbank10_e_level           5290 non-null   float64\n",
      " 33  rougher.state.floatbank10_f_air             5290 non-null   float64\n",
      " 34  rougher.state.floatbank10_f_level           5290 non-null   float64\n",
      " 35  secondary_cleaner.state.floatbank2_a_air    5287 non-null   float64\n",
      " 36  secondary_cleaner.state.floatbank2_a_level  5290 non-null   float64\n",
      " 37  secondary_cleaner.state.floatbank2_b_air    5288 non-null   float64\n",
      " 38  secondary_cleaner.state.floatbank2_b_level  5290 non-null   float64\n",
      " 39  secondary_cleaner.state.floatbank3_a_air    5281 non-null   float64\n",
      " 40  secondary_cleaner.state.floatbank3_a_level  5290 non-null   float64\n",
      " 41  secondary_cleaner.state.floatbank3_b_air    5290 non-null   float64\n",
      " 42  secondary_cleaner.state.floatbank3_b_level  5290 non-null   float64\n",
      " 43  secondary_cleaner.state.floatbank4_a_air    5290 non-null   float64\n",
      " 44  secondary_cleaner.state.floatbank4_a_level  5290 non-null   float64\n",
      " 45  secondary_cleaner.state.floatbank4_b_air    5290 non-null   float64\n",
      " 46  secondary_cleaner.state.floatbank4_b_level  5290 non-null   float64\n",
      " 47  secondary_cleaner.state.floatbank5_a_air    5290 non-null   float64\n",
      " 48  secondary_cleaner.state.floatbank5_a_level  5290 non-null   float64\n",
      " 49  secondary_cleaner.state.floatbank5_b_air    5290 non-null   float64\n",
      " 50  secondary_cleaner.state.floatbank5_b_level  5290 non-null   float64\n",
      " 51  secondary_cleaner.state.floatbank6_a_air    5290 non-null   float64\n",
      " 52  secondary_cleaner.state.floatbank6_a_level  5290 non-null   float64\n",
      " 53  rougher.output.recovery                     5290 non-null   float64\n",
      " 54  final.output.recovery                       5290 non-null   float64\n",
      "dtypes: float64(54), object(1)\n",
      "memory usage: 2.3+ MB\n"
     ]
    }
   ],
   "source": [
    "data_test.info()"
   ]
  },
  {
   "cell_type": "code",
   "execution_count": 14,
   "metadata": {},
   "outputs": [],
   "source": [
    "# оставим в обучающей выборке признаки такие же как и в тестовой\n",
    "new_columns = set(data_train.columns) - set(data_test.columns)\n",
    "new_columns = list(new_columns)\n",
    "\n",
    "for column in new_columns:\n",
    "    data_train = data_train.drop([column], axis = 1)"
   ]
  },
  {
   "cell_type": "code",
   "execution_count": 15,
   "metadata": {
    "scrolled": true
   },
   "outputs": [
    {
     "name": "stdout",
     "output_type": "stream",
     "text": [
      "<class 'pandas.core.frame.DataFrame'>\n",
      "RangeIndex: 14149 entries, 0 to 14148\n",
      "Data columns (total 55 columns):\n",
      " #   Column                                      Non-Null Count  Dtype  \n",
      "---  ------                                      --------------  -----  \n",
      " 0   date                                        14149 non-null  object \n",
      " 1   final.output.recovery                       14149 non-null  float64\n",
      " 2   primary_cleaner.input.sulfate               14129 non-null  float64\n",
      " 3   primary_cleaner.input.depressant            14117 non-null  float64\n",
      " 4   primary_cleaner.input.feed_size             14149 non-null  float64\n",
      " 5   primary_cleaner.input.xanthate              14049 non-null  float64\n",
      " 6   primary_cleaner.state.floatbank8_a_air      14145 non-null  float64\n",
      " 7   primary_cleaner.state.floatbank8_a_level    14148 non-null  float64\n",
      " 8   primary_cleaner.state.floatbank8_b_air      14145 non-null  float64\n",
      " 9   primary_cleaner.state.floatbank8_b_level    14148 non-null  float64\n",
      " 10  primary_cleaner.state.floatbank8_c_air      14147 non-null  float64\n",
      " 11  primary_cleaner.state.floatbank8_c_level    14148 non-null  float64\n",
      " 12  primary_cleaner.state.floatbank8_d_air      14146 non-null  float64\n",
      " 13  primary_cleaner.state.floatbank8_d_level    14148 non-null  float64\n",
      " 14  rougher.input.feed_ag                       14149 non-null  float64\n",
      " 15  rougher.input.feed_pb                       14049 non-null  float64\n",
      " 16  rougher.input.feed_rate                     14141 non-null  float64\n",
      " 17  rougher.input.feed_size                     14005 non-null  float64\n",
      " 18  rougher.input.feed_sol                      14071 non-null  float64\n",
      " 19  rougher.input.feed_au                       14149 non-null  float64\n",
      " 20  rougher.input.floatbank10_sulfate           14120 non-null  float64\n",
      " 21  rougher.input.floatbank10_xanthate          14141 non-null  float64\n",
      " 22  rougher.input.floatbank11_sulfate           14113 non-null  float64\n",
      " 23  rougher.input.floatbank11_xanthate          13721 non-null  float64\n",
      " 24  rougher.output.recovery                     14149 non-null  float64\n",
      " 25  rougher.state.floatbank10_a_air             14148 non-null  float64\n",
      " 26  rougher.state.floatbank10_a_level           14148 non-null  float64\n",
      " 27  rougher.state.floatbank10_b_air             14148 non-null  float64\n",
      " 28  rougher.state.floatbank10_b_level           14148 non-null  float64\n",
      " 29  rougher.state.floatbank10_c_air             14148 non-null  float64\n",
      " 30  rougher.state.floatbank10_c_level           14148 non-null  float64\n",
      " 31  rougher.state.floatbank10_d_air             14149 non-null  float64\n",
      " 32  rougher.state.floatbank10_d_level           14149 non-null  float64\n",
      " 33  rougher.state.floatbank10_e_air             13713 non-null  float64\n",
      " 34  rougher.state.floatbank10_e_level           14149 non-null  float64\n",
      " 35  rougher.state.floatbank10_f_air             14149 non-null  float64\n",
      " 36  rougher.state.floatbank10_f_level           14149 non-null  float64\n",
      " 37  secondary_cleaner.state.floatbank2_a_air    13932 non-null  float64\n",
      " 38  secondary_cleaner.state.floatbank2_a_level  14148 non-null  float64\n",
      " 39  secondary_cleaner.state.floatbank2_b_air    14128 non-null  float64\n",
      " 40  secondary_cleaner.state.floatbank2_b_level  14148 non-null  float64\n",
      " 41  secondary_cleaner.state.floatbank3_a_air    14145 non-null  float64\n",
      " 42  secondary_cleaner.state.floatbank3_a_level  14148 non-null  float64\n",
      " 43  secondary_cleaner.state.floatbank3_b_air    14148 non-null  float64\n",
      " 44  secondary_cleaner.state.floatbank3_b_level  14148 non-null  float64\n",
      " 45  secondary_cleaner.state.floatbank4_a_air    14143 non-null  float64\n",
      " 46  secondary_cleaner.state.floatbank4_a_level  14148 non-null  float64\n",
      " 47  secondary_cleaner.state.floatbank4_b_air    14148 non-null  float64\n",
      " 48  secondary_cleaner.state.floatbank4_b_level  14148 non-null  float64\n",
      " 49  secondary_cleaner.state.floatbank5_a_air    14148 non-null  float64\n",
      " 50  secondary_cleaner.state.floatbank5_a_level  14148 non-null  float64\n",
      " 51  secondary_cleaner.state.floatbank5_b_air    14148 non-null  float64\n",
      " 52  secondary_cleaner.state.floatbank5_b_level  14148 non-null  float64\n",
      " 53  secondary_cleaner.state.floatbank6_a_air    14147 non-null  float64\n",
      " 54  secondary_cleaner.state.floatbank6_a_level  14148 non-null  float64\n",
      "dtypes: float64(54), object(1)\n",
      "memory usage: 5.9+ MB\n"
     ]
    }
   ],
   "source": [
    "data_train.info()"
   ]
  },
  {
   "cell_type": "code",
   "execution_count": 16,
   "metadata": {},
   "outputs": [],
   "source": [
    "# заполним пропущенные значения следующими непропущенными значениями\n",
    "data_train = data_train.fillna(method = 'backfill')\n",
    "data_test = data_test.fillna(method = 'backfill')\n",
    "data_full = data_full.fillna(method = 'backfill')"
   ]
  },
  {
   "cell_type": "code",
   "execution_count": 17,
   "metadata": {
    "scrolled": true
   },
   "outputs": [
    {
     "name": "stdout",
     "output_type": "stream",
     "text": [
      "<class 'pandas.core.frame.DataFrame'>\n",
      "RangeIndex: 14149 entries, 0 to 14148\n",
      "Data columns (total 55 columns):\n",
      " #   Column                                      Non-Null Count  Dtype  \n",
      "---  ------                                      --------------  -----  \n",
      " 0   date                                        14149 non-null  object \n",
      " 1   final.output.recovery                       14149 non-null  float64\n",
      " 2   primary_cleaner.input.sulfate               14149 non-null  float64\n",
      " 3   primary_cleaner.input.depressant            14149 non-null  float64\n",
      " 4   primary_cleaner.input.feed_size             14149 non-null  float64\n",
      " 5   primary_cleaner.input.xanthate              14149 non-null  float64\n",
      " 6   primary_cleaner.state.floatbank8_a_air      14149 non-null  float64\n",
      " 7   primary_cleaner.state.floatbank8_a_level    14149 non-null  float64\n",
      " 8   primary_cleaner.state.floatbank8_b_air      14149 non-null  float64\n",
      " 9   primary_cleaner.state.floatbank8_b_level    14149 non-null  float64\n",
      " 10  primary_cleaner.state.floatbank8_c_air      14149 non-null  float64\n",
      " 11  primary_cleaner.state.floatbank8_c_level    14149 non-null  float64\n",
      " 12  primary_cleaner.state.floatbank8_d_air      14149 non-null  float64\n",
      " 13  primary_cleaner.state.floatbank8_d_level    14149 non-null  float64\n",
      " 14  rougher.input.feed_ag                       14149 non-null  float64\n",
      " 15  rougher.input.feed_pb                       14149 non-null  float64\n",
      " 16  rougher.input.feed_rate                     14149 non-null  float64\n",
      " 17  rougher.input.feed_size                     14149 non-null  float64\n",
      " 18  rougher.input.feed_sol                      14149 non-null  float64\n",
      " 19  rougher.input.feed_au                       14149 non-null  float64\n",
      " 20  rougher.input.floatbank10_sulfate           14149 non-null  float64\n",
      " 21  rougher.input.floatbank10_xanthate          14149 non-null  float64\n",
      " 22  rougher.input.floatbank11_sulfate           14149 non-null  float64\n",
      " 23  rougher.input.floatbank11_xanthate          14149 non-null  float64\n",
      " 24  rougher.output.recovery                     14149 non-null  float64\n",
      " 25  rougher.state.floatbank10_a_air             14149 non-null  float64\n",
      " 26  rougher.state.floatbank10_a_level           14149 non-null  float64\n",
      " 27  rougher.state.floatbank10_b_air             14149 non-null  float64\n",
      " 28  rougher.state.floatbank10_b_level           14149 non-null  float64\n",
      " 29  rougher.state.floatbank10_c_air             14149 non-null  float64\n",
      " 30  rougher.state.floatbank10_c_level           14149 non-null  float64\n",
      " 31  rougher.state.floatbank10_d_air             14149 non-null  float64\n",
      " 32  rougher.state.floatbank10_d_level           14149 non-null  float64\n",
      " 33  rougher.state.floatbank10_e_air             14149 non-null  float64\n",
      " 34  rougher.state.floatbank10_e_level           14149 non-null  float64\n",
      " 35  rougher.state.floatbank10_f_air             14149 non-null  float64\n",
      " 36  rougher.state.floatbank10_f_level           14149 non-null  float64\n",
      " 37  secondary_cleaner.state.floatbank2_a_air    14149 non-null  float64\n",
      " 38  secondary_cleaner.state.floatbank2_a_level  14149 non-null  float64\n",
      " 39  secondary_cleaner.state.floatbank2_b_air    14149 non-null  float64\n",
      " 40  secondary_cleaner.state.floatbank2_b_level  14149 non-null  float64\n",
      " 41  secondary_cleaner.state.floatbank3_a_air    14149 non-null  float64\n",
      " 42  secondary_cleaner.state.floatbank3_a_level  14149 non-null  float64\n",
      " 43  secondary_cleaner.state.floatbank3_b_air    14149 non-null  float64\n",
      " 44  secondary_cleaner.state.floatbank3_b_level  14149 non-null  float64\n",
      " 45  secondary_cleaner.state.floatbank4_a_air    14149 non-null  float64\n",
      " 46  secondary_cleaner.state.floatbank4_a_level  14149 non-null  float64\n",
      " 47  secondary_cleaner.state.floatbank4_b_air    14149 non-null  float64\n",
      " 48  secondary_cleaner.state.floatbank4_b_level  14149 non-null  float64\n",
      " 49  secondary_cleaner.state.floatbank5_a_air    14149 non-null  float64\n",
      " 50  secondary_cleaner.state.floatbank5_a_level  14149 non-null  float64\n",
      " 51  secondary_cleaner.state.floatbank5_b_air    14149 non-null  float64\n",
      " 52  secondary_cleaner.state.floatbank5_b_level  14149 non-null  float64\n",
      " 53  secondary_cleaner.state.floatbank6_a_air    14149 non-null  float64\n",
      " 54  secondary_cleaner.state.floatbank6_a_level  14149 non-null  float64\n",
      "dtypes: float64(54), object(1)\n",
      "memory usage: 5.9+ MB\n"
     ]
    }
   ],
   "source": [
    "data_train.info()"
   ]
  },
  {
   "cell_type": "code",
   "execution_count": 18,
   "metadata": {
    "scrolled": true
   },
   "outputs": [
    {
     "name": "stdout",
     "output_type": "stream",
     "text": [
      "<class 'pandas.core.frame.DataFrame'>\n",
      "Int64Index: 5290 entries, 0 to 5289\n",
      "Data columns (total 55 columns):\n",
      " #   Column                                      Non-Null Count  Dtype  \n",
      "---  ------                                      --------------  -----  \n",
      " 0   date                                        5290 non-null   object \n",
      " 1   primary_cleaner.input.sulfate               5290 non-null   float64\n",
      " 2   primary_cleaner.input.depressant            5290 non-null   float64\n",
      " 3   primary_cleaner.input.feed_size             5290 non-null   float64\n",
      " 4   primary_cleaner.input.xanthate              5290 non-null   float64\n",
      " 5   primary_cleaner.state.floatbank8_a_air      5290 non-null   float64\n",
      " 6   primary_cleaner.state.floatbank8_a_level    5290 non-null   float64\n",
      " 7   primary_cleaner.state.floatbank8_b_air      5290 non-null   float64\n",
      " 8   primary_cleaner.state.floatbank8_b_level    5290 non-null   float64\n",
      " 9   primary_cleaner.state.floatbank8_c_air      5290 non-null   float64\n",
      " 10  primary_cleaner.state.floatbank8_c_level    5290 non-null   float64\n",
      " 11  primary_cleaner.state.floatbank8_d_air      5290 non-null   float64\n",
      " 12  primary_cleaner.state.floatbank8_d_level    5290 non-null   float64\n",
      " 13  rougher.input.feed_ag                       5290 non-null   float64\n",
      " 14  rougher.input.feed_pb                       5290 non-null   float64\n",
      " 15  rougher.input.feed_rate                     5290 non-null   float64\n",
      " 16  rougher.input.feed_size                     5290 non-null   float64\n",
      " 17  rougher.input.feed_sol                      5290 non-null   float64\n",
      " 18  rougher.input.feed_au                       5290 non-null   float64\n",
      " 19  rougher.input.floatbank10_sulfate           5290 non-null   float64\n",
      " 20  rougher.input.floatbank10_xanthate          5290 non-null   float64\n",
      " 21  rougher.input.floatbank11_sulfate           5290 non-null   float64\n",
      " 22  rougher.input.floatbank11_xanthate          5290 non-null   float64\n",
      " 23  rougher.state.floatbank10_a_air             5290 non-null   float64\n",
      " 24  rougher.state.floatbank10_a_level           5290 non-null   float64\n",
      " 25  rougher.state.floatbank10_b_air             5290 non-null   float64\n",
      " 26  rougher.state.floatbank10_b_level           5290 non-null   float64\n",
      " 27  rougher.state.floatbank10_c_air             5290 non-null   float64\n",
      " 28  rougher.state.floatbank10_c_level           5290 non-null   float64\n",
      " 29  rougher.state.floatbank10_d_air             5290 non-null   float64\n",
      " 30  rougher.state.floatbank10_d_level           5290 non-null   float64\n",
      " 31  rougher.state.floatbank10_e_air             5290 non-null   float64\n",
      " 32  rougher.state.floatbank10_e_level           5290 non-null   float64\n",
      " 33  rougher.state.floatbank10_f_air             5290 non-null   float64\n",
      " 34  rougher.state.floatbank10_f_level           5290 non-null   float64\n",
      " 35  secondary_cleaner.state.floatbank2_a_air    5290 non-null   float64\n",
      " 36  secondary_cleaner.state.floatbank2_a_level  5290 non-null   float64\n",
      " 37  secondary_cleaner.state.floatbank2_b_air    5290 non-null   float64\n",
      " 38  secondary_cleaner.state.floatbank2_b_level  5290 non-null   float64\n",
      " 39  secondary_cleaner.state.floatbank3_a_air    5290 non-null   float64\n",
      " 40  secondary_cleaner.state.floatbank3_a_level  5290 non-null   float64\n",
      " 41  secondary_cleaner.state.floatbank3_b_air    5290 non-null   float64\n",
      " 42  secondary_cleaner.state.floatbank3_b_level  5290 non-null   float64\n",
      " 43  secondary_cleaner.state.floatbank4_a_air    5290 non-null   float64\n",
      " 44  secondary_cleaner.state.floatbank4_a_level  5290 non-null   float64\n",
      " 45  secondary_cleaner.state.floatbank4_b_air    5290 non-null   float64\n",
      " 46  secondary_cleaner.state.floatbank4_b_level  5290 non-null   float64\n",
      " 47  secondary_cleaner.state.floatbank5_a_air    5290 non-null   float64\n",
      " 48  secondary_cleaner.state.floatbank5_a_level  5290 non-null   float64\n",
      " 49  secondary_cleaner.state.floatbank5_b_air    5290 non-null   float64\n",
      " 50  secondary_cleaner.state.floatbank5_b_level  5290 non-null   float64\n",
      " 51  secondary_cleaner.state.floatbank6_a_air    5290 non-null   float64\n",
      " 52  secondary_cleaner.state.floatbank6_a_level  5290 non-null   float64\n",
      " 53  rougher.output.recovery                     5290 non-null   float64\n",
      " 54  final.output.recovery                       5290 non-null   float64\n",
      "dtypes: float64(54), object(1)\n",
      "memory usage: 2.3+ MB\n"
     ]
    }
   ],
   "source": [
    "data_test.info()"
   ]
  },
  {
   "cell_type": "code",
   "execution_count": 19,
   "metadata": {
    "scrolled": true
   },
   "outputs": [
    {
     "name": "stdout",
     "output_type": "stream",
     "text": [
      "<class 'pandas.core.frame.DataFrame'>\n",
      "RangeIndex: 19439 entries, 0 to 19438\n",
      "Data columns (total 87 columns):\n",
      " #   Column                                              Non-Null Count  Dtype  \n",
      "---  ------                                              --------------  -----  \n",
      " 0   date                                                19439 non-null  object \n",
      " 1   final.output.concentrate_ag                         19439 non-null  float64\n",
      " 2   final.output.concentrate_pb                         19439 non-null  float64\n",
      " 3   final.output.concentrate_sol                        19439 non-null  float64\n",
      " 4   final.output.concentrate_au                         19439 non-null  float64\n",
      " 5   final.output.recovery                               19439 non-null  float64\n",
      " 6   final.output.tail_ag                                19439 non-null  float64\n",
      " 7   final.output.tail_pb                                19439 non-null  float64\n",
      " 8   final.output.tail_sol                               19439 non-null  float64\n",
      " 9   final.output.tail_au                                19439 non-null  float64\n",
      " 10  primary_cleaner.input.sulfate                       19439 non-null  float64\n",
      " 11  primary_cleaner.input.depressant                    19439 non-null  float64\n",
      " 12  primary_cleaner.input.feed_size                     19439 non-null  float64\n",
      " 13  primary_cleaner.input.xanthate                      19439 non-null  float64\n",
      " 14  primary_cleaner.output.concentrate_ag               19439 non-null  float64\n",
      " 15  primary_cleaner.output.concentrate_pb               19439 non-null  float64\n",
      " 16  primary_cleaner.output.concentrate_sol              19439 non-null  float64\n",
      " 17  primary_cleaner.output.concentrate_au               19439 non-null  float64\n",
      " 18  primary_cleaner.output.tail_ag                      19439 non-null  float64\n",
      " 19  primary_cleaner.output.tail_pb                      19439 non-null  float64\n",
      " 20  primary_cleaner.output.tail_sol                     19439 non-null  float64\n",
      " 21  primary_cleaner.output.tail_au                      19439 non-null  float64\n",
      " 22  primary_cleaner.state.floatbank8_a_air              19439 non-null  float64\n",
      " 23  primary_cleaner.state.floatbank8_a_level            19439 non-null  float64\n",
      " 24  primary_cleaner.state.floatbank8_b_air              19439 non-null  float64\n",
      " 25  primary_cleaner.state.floatbank8_b_level            19439 non-null  float64\n",
      " 26  primary_cleaner.state.floatbank8_c_air              19439 non-null  float64\n",
      " 27  primary_cleaner.state.floatbank8_c_level            19439 non-null  float64\n",
      " 28  primary_cleaner.state.floatbank8_d_air              19439 non-null  float64\n",
      " 29  primary_cleaner.state.floatbank8_d_level            19439 non-null  float64\n",
      " 30  rougher.calculation.sulfate_to_au_concentrate       19439 non-null  float64\n",
      " 31  rougher.calculation.floatbank10_sulfate_to_au_feed  19439 non-null  float64\n",
      " 32  rougher.calculation.floatbank11_sulfate_to_au_feed  19439 non-null  float64\n",
      " 33  rougher.calculation.au_pb_ratio                     19439 non-null  float64\n",
      " 34  rougher.input.feed_ag                               19439 non-null  float64\n",
      " 35  rougher.input.feed_pb                               19439 non-null  float64\n",
      " 36  rougher.input.feed_rate                             19439 non-null  float64\n",
      " 37  rougher.input.feed_size                             19439 non-null  float64\n",
      " 38  rougher.input.feed_sol                              19439 non-null  float64\n",
      " 39  rougher.input.feed_au                               19439 non-null  float64\n",
      " 40  rougher.input.floatbank10_sulfate                   19439 non-null  float64\n",
      " 41  rougher.input.floatbank10_xanthate                  19439 non-null  float64\n",
      " 42  rougher.input.floatbank11_sulfate                   19439 non-null  float64\n",
      " 43  rougher.input.floatbank11_xanthate                  19439 non-null  float64\n",
      " 44  rougher.output.concentrate_ag                       19439 non-null  float64\n",
      " 45  rougher.output.concentrate_pb                       19439 non-null  float64\n",
      " 46  rougher.output.concentrate_sol                      19439 non-null  float64\n",
      " 47  rougher.output.concentrate_au                       19439 non-null  float64\n",
      " 48  rougher.output.recovery                             19439 non-null  float64\n",
      " 49  rougher.output.tail_ag                              19439 non-null  float64\n",
      " 50  rougher.output.tail_pb                              19439 non-null  float64\n",
      " 51  rougher.output.tail_sol                             19439 non-null  float64\n",
      " 52  rougher.output.tail_au                              19439 non-null  float64\n",
      " 53  rougher.state.floatbank10_a_air                     19439 non-null  float64\n",
      " 54  rougher.state.floatbank10_a_level                   19439 non-null  float64\n",
      " 55  rougher.state.floatbank10_b_air                     19439 non-null  float64\n",
      " 56  rougher.state.floatbank10_b_level                   19439 non-null  float64\n",
      " 57  rougher.state.floatbank10_c_air                     19439 non-null  float64\n",
      " 58  rougher.state.floatbank10_c_level                   19439 non-null  float64\n",
      " 59  rougher.state.floatbank10_d_air                     19439 non-null  float64\n",
      " 60  rougher.state.floatbank10_d_level                   19439 non-null  float64\n",
      " 61  rougher.state.floatbank10_e_air                     19439 non-null  float64\n",
      " 62  rougher.state.floatbank10_e_level                   19439 non-null  float64\n",
      " 63  rougher.state.floatbank10_f_air                     19439 non-null  float64\n",
      " 64  rougher.state.floatbank10_f_level                   19439 non-null  float64\n",
      " 65  secondary_cleaner.output.tail_ag                    19439 non-null  float64\n",
      " 66  secondary_cleaner.output.tail_pb                    19439 non-null  float64\n",
      " 67  secondary_cleaner.output.tail_sol                   19439 non-null  float64\n",
      " 68  secondary_cleaner.output.tail_au                    19439 non-null  float64\n",
      " 69  secondary_cleaner.state.floatbank2_a_air            19439 non-null  float64\n",
      " 70  secondary_cleaner.state.floatbank2_a_level          19439 non-null  float64\n",
      " 71  secondary_cleaner.state.floatbank2_b_air            19439 non-null  float64\n",
      " 72  secondary_cleaner.state.floatbank2_b_level          19439 non-null  float64\n",
      " 73  secondary_cleaner.state.floatbank3_a_air            19439 non-null  float64\n",
      " 74  secondary_cleaner.state.floatbank3_a_level          19439 non-null  float64\n",
      " 75  secondary_cleaner.state.floatbank3_b_air            19439 non-null  float64\n",
      " 76  secondary_cleaner.state.floatbank3_b_level          19439 non-null  float64\n",
      " 77  secondary_cleaner.state.floatbank4_a_air            19439 non-null  float64\n",
      " 78  secondary_cleaner.state.floatbank4_a_level          19439 non-null  float64\n",
      " 79  secondary_cleaner.state.floatbank4_b_air            19439 non-null  float64\n",
      " 80  secondary_cleaner.state.floatbank4_b_level          19439 non-null  float64\n",
      " 81  secondary_cleaner.state.floatbank5_a_air            19439 non-null  float64\n",
      " 82  secondary_cleaner.state.floatbank5_a_level          19439 non-null  float64\n",
      " 83  secondary_cleaner.state.floatbank5_b_air            19439 non-null  float64\n",
      " 84  secondary_cleaner.state.floatbank5_b_level          19439 non-null  float64\n",
      " 85  secondary_cleaner.state.floatbank6_a_air            19439 non-null  float64\n",
      " 86  secondary_cleaner.state.floatbank6_a_level          19439 non-null  float64\n",
      "dtypes: float64(86), object(1)\n",
      "memory usage: 12.9+ MB\n"
     ]
    }
   ],
   "source": [
    "data_full.info()"
   ]
  },
  {
   "cell_type": "code",
   "execution_count": 20,
   "metadata": {},
   "outputs": [
    {
     "data": {
      "text/plain": [
       "0"
      ]
     },
     "execution_count": 20,
     "metadata": {},
     "output_type": "execute_result"
    }
   ],
   "source": [
    "data_train.duplicated().sum()"
   ]
  },
  {
   "cell_type": "code",
   "execution_count": 21,
   "metadata": {},
   "outputs": [
    {
     "data": {
      "text/plain": [
       "0"
      ]
     },
     "execution_count": 21,
     "metadata": {},
     "output_type": "execute_result"
    }
   ],
   "source": [
    "data_test.duplicated().sum()"
   ]
  },
  {
   "cell_type": "code",
   "execution_count": 22,
   "metadata": {},
   "outputs": [
    {
     "data": {
      "text/plain": [
       "0"
      ]
     },
     "execution_count": 22,
     "metadata": {},
     "output_type": "execute_result"
    }
   ],
   "source": [
    "data_full.duplicated().sum()"
   ]
  },
  {
   "cell_type": "markdown",
   "metadata": {},
   "source": [
    "### Вывод\n",
    " - В трех базах данных - full, target и test заменены пропущенные значения, на следующие непропущенные.\n",
    " - target и test приведены к единому перечню признаков.\n",
    " - Проверена верность расчета эффективности обогащения. Результат положительный."
   ]
  },
  {
   "cell_type": "markdown",
   "metadata": {},
   "source": [
    "## Анализ данных"
   ]
  },
  {
   "cell_type": "markdown",
   "metadata": {},
   "source": [
    "### Изучение изменения концентрации металлов (Au, Ag, Pb) на различных этапах очистки. "
   ]
  },
  {
   "cell_type": "code",
   "execution_count": 23,
   "metadata": {},
   "outputs": [
    {
     "data": {
      "image/png": "[encoded data removed]",
      "text/plain": [
       "<Figure size 432x288 with 1 Axes>"
      ]
     },
     "metadata": {
      "needs_background": "light"
     },
     "output_type": "display_data"
    }
   ],
   "source": [
    "# концентрация металлов (Au, Ag, Pb) на этапе флотации\n",
    "for elem in ['rougher.output.concentrate_au', 'rougher.output.concentrate_ag', 'rougher.output.concentrate_pb']:\n",
    "    n, bins, patches = plt.hist(data_full[elem], 20, density=True)\n",
    "    plt.title('Концентрация металлов (Au, Ag, Pb) на этапе флотации')\n",
    "    plt.xlabel('Концентрация')\n",
    "    plt.legend(labels=['Au', 'Ag', 'Pb'])"
   ]
  },
  {
   "cell_type": "code",
   "execution_count": 24,
   "metadata": {},
   "outputs": [
    {
     "data": {
      "image/png": "[encoded data removed]",
      "text/plain": [
       "<Figure size 432x288 with 1 Axes>"
      ]
     },
     "metadata": {
      "needs_background": "light"
     },
     "output_type": "display_data"
    }
   ],
   "source": [
    "# концентрация металлов (Au, Ag, Pb) на этапе первичной очистки\n",
    "for elem in ['primary_cleaner.output.concentrate_au', 'primary_cleaner.output.concentrate_ag', 'primary_cleaner.output.concentrate_pb']:\n",
    "    n, bins, patches = plt.hist(data_full[elem], 20, density=True)\n",
    "    plt.title('Концентрация металлов (Au, Ag, Pb) на этапе первичной очистки')\n",
    "    plt.xlabel('Концентрация')\n",
    "    plt.legend(labels=['Au', 'Ag', 'Pb'])"
   ]
  },
  {
   "cell_type": "code",
   "execution_count": 25,
   "metadata": {},
   "outputs": [
    {
     "data": {
      "image/png": "[encoded data removed]",
      "text/plain": [
       "<Figure size 432x288 with 1 Axes>"
      ]
     },
     "metadata": {
      "needs_background": "light"
     },
     "output_type": "display_data"
    }
   ],
   "source": [
    "# концентрация металлов (Au, Ag, Pb) на финальном этапе\n",
    "for elem in ['final.output.concentrate_au', 'final.output.concentrate_ag', 'final.output.concentrate_pb']:\n",
    "    n, bins, patches = plt.hist(data_full[elem], 20, density=True)\n",
    "    plt.title('Концентрация металлов (Au, Ag, Pb) на финальном этапе')\n",
    "    plt.xlabel('Концентрация')\n",
    "    plt.legend(labels=['Au', 'Ag', 'Pb'])"
   ]
  },
  {
   "cell_type": "code",
   "execution_count": 26,
   "metadata": {},
   "outputs": [
    {
     "name": "stdout",
     "output_type": "stream",
     "text": [
      "Концентрация золота\n",
      "Флотация 384347.9\n",
      "Первый этап 624369.0\n",
      "Финальный этап 856803.3\n"
     ]
    }
   ],
   "source": [
    "print('Концентрация золота')\n",
    "print('Флотация', data_full['rougher.output.concentrate_au'].sum().round(1))\n",
    "print('Первый этап', data_full['primary_cleaner.output.concentrate_au'].sum().round(1))\n",
    "print('Финальный этап', data_full['final.output.concentrate_au'].sum().round(1))"
   ]
  },
  {
   "cell_type": "code",
   "execution_count": 27,
   "metadata": {},
   "outputs": [
    {
     "name": "stdout",
     "output_type": "stream",
     "text": [
      "Концентрация серебра\n",
      "Флотация 233166.1\n",
      "Первый этап 164112.0\n",
      "Финальный этап 100468.2\n"
     ]
    }
   ],
   "source": [
    "print('Концентрация серебра')\n",
    "print('Флотация', data_full['rougher.output.concentrate_ag'].sum().round(1))\n",
    "print('Первый этап', data_full['primary_cleaner.output.concentrate_ag'].sum().round(1))\n",
    "print('Финальный этап', data_full['final.output.concentrate_ag'].sum().round(1))"
   ]
  },
  {
   "cell_type": "code",
   "execution_count": 28,
   "metadata": {},
   "outputs": [
    {
     "name": "stdout",
     "output_type": "stream",
     "text": [
      "Концентрация свинца\n",
      "Флотация 147858.3\n",
      "Первый этап 190704.9\n",
      "Финальный этап 193978.2\n"
     ]
    }
   ],
   "source": [
    "print('Концентрация свинца')\n",
    "print('Флотация', data_full['rougher.output.concentrate_pb'].sum().round(1))\n",
    "print('Первый этап', data_full['primary_cleaner.output.concentrate_pb'].sum().round(1))\n",
    "print('Финальный этап', data_full['final.output.concentrate_pb'].sum().round(1))"
   ]
  },
  {
   "cell_type": "markdown",
   "metadata": {},
   "source": [
    "Концентрация золота увеличивается после флотации более чем в полтора раза. После первого этапа очистки, концентрация золота так же увеличивается, но меньшими темпами. Концентрация серебра после каждого этапа очистки падает с примерно одинаковым темпом. Концентрация свинца заметрно увеличивается после флотация,  после первичной очистки существенно не меняется."
   ]
  },
  {
   "cell_type": "markdown",
   "metadata": {},
   "source": [
    "### Сравнение распределения размеров гранул сырья на обучающей и тестовой выборках. "
   ]
  },
  {
   "cell_type": "code",
   "execution_count": 29,
   "metadata": {},
   "outputs": [
    {
     "data": {
      "image/png": "[encoded data removed]",
      "text/plain": [
       "<Figure size 432x288 with 1 Axes>"
      ]
     },
     "metadata": {
      "needs_background": "light"
     },
     "output_type": "display_data"
    }
   ],
   "source": [
    "# оценим распределения визуально\n",
    "sns.distplot(data_train['rougher.input.feed_size'], label='Обучающая выборка')\n",
    "sns.distplot(data_test['rougher.input.feed_size'], label='Тестовая выборка')\n",
    "sns.set(rc={'figure.figsize':(10,5)})\n",
    "plt.title('Распределение размера гранул сырья')\n",
    "plt.xlabel('Распределение')\n",
    "plt.ylabel('Размер гранул')\n",
    "plt.legend()\n",
    "plt.show()"
   ]
  },
  {
   "cell_type": "markdown",
   "metadata": {},
   "source": [
    "Как видно на иллюстации, распределения схожи."
   ]
  },
  {
   "cell_type": "markdown",
   "metadata": {},
   "source": [
    "###  Изучение суммарной концентрации всех веществ на разных стадиях: в сырье, в черновом и финальном концентратах."
   ]
  },
  {
   "cell_type": "code",
   "execution_count": 30,
   "metadata": {},
   "outputs": [],
   "source": [
    "# добавим сумму концентрации веществ в сырье\n",
    "data_full['rougher.input.all'] = data_full[['rougher.input.feed_ag', 'rougher.input.feed_pb', \n",
    "                                            'rougher.input.feed_sol', 'rougher.input.feed_au']].sum(axis = 1)"
   ]
  },
  {
   "cell_type": "code",
   "execution_count": 31,
   "metadata": {},
   "outputs": [],
   "source": [
    "# добавим сумму концентрации веществ на этапе флотации\n",
    "data_full['rougher.output.all'] = data_full[['rougher.output.concentrate_ag', 'rougher.output.concentrate_pb',\n",
    "                                             'rougher.output.concentrate_sol', 'rougher.output.concentrate_au']].sum(axis = 1)"
   ]
  },
  {
   "cell_type": "code",
   "execution_count": 32,
   "metadata": {},
   "outputs": [],
   "source": [
    "# добавим сумму концентрации веществ на этапе первичной очистки\n",
    "data_full['primary_cleaner.output.all'] = data_full[['primary_cleaner.output.concentrate_ag',\n",
    "                                                     'primary_cleaner.output.concentrate_pb',\n",
    "                                                     'primary_cleaner.output.concentrate_sol',\n",
    "                                                     'primary_cleaner.output.concentrate_au']].sum(axis = 1)"
   ]
  },
  {
   "cell_type": "code",
   "execution_count": 33,
   "metadata": {},
   "outputs": [],
   "source": [
    "# добавим сумму концентрации веществ на финальном этапе\n",
    "data_full['final.output.all'] = data_full[['final.output.concentrate_ag',\n",
    "                                                       'final.output.concentrate_pb',\n",
    "                                                       'final.output.concentrate_sol',\n",
    "                                                       'final.output.concentrate_au']].sum(axis = 1)"
   ]
  },
  {
   "cell_type": "code",
   "execution_count": 34,
   "metadata": {},
   "outputs": [
    {
     "name": "stdout",
     "output_type": "stream",
     "text": [
      "<class 'pandas.core.frame.DataFrame'>\n",
      "RangeIndex: 19439 entries, 0 to 19438\n",
      "Data columns (total 91 columns):\n",
      " #   Column                                              Non-Null Count  Dtype  \n",
      "---  ------                                              --------------  -----  \n",
      " 0   date                                                19439 non-null  object \n",
      " 1   final.output.concentrate_ag                         19439 non-null  float64\n",
      " 2   final.output.concentrate_pb                         19439 non-null  float64\n",
      " 3   final.output.concentrate_sol                        19439 non-null  float64\n",
      " 4   final.output.concentrate_au                         19439 non-null  float64\n",
      " 5   final.output.recovery                               19439 non-null  float64\n",
      " 6   final.output.tail_ag                                19439 non-null  float64\n",
      " 7   final.output.tail_pb                                19439 non-null  float64\n",
      " 8   final.output.tail_sol                               19439 non-null  float64\n",
      " 9   final.output.tail_au                                19439 non-null  float64\n",
      " 10  primary_cleaner.input.sulfate                       19439 non-null  float64\n",
      " 11  primary_cleaner.input.depressant                    19439 non-null  float64\n",
      " 12  primary_cleaner.input.feed_size                     19439 non-null  float64\n",
      " 13  primary_cleaner.input.xanthate                      19439 non-null  float64\n",
      " 14  primary_cleaner.output.concentrate_ag               19439 non-null  float64\n",
      " 15  primary_cleaner.output.concentrate_pb               19439 non-null  float64\n",
      " 16  primary_cleaner.output.concentrate_sol              19439 non-null  float64\n",
      " 17  primary_cleaner.output.concentrate_au               19439 non-null  float64\n",
      " 18  primary_cleaner.output.tail_ag                      19439 non-null  float64\n",
      " 19  primary_cleaner.output.tail_pb                      19439 non-null  float64\n",
      " 20  primary_cleaner.output.tail_sol                     19439 non-null  float64\n",
      " 21  primary_cleaner.output.tail_au                      19439 non-null  float64\n",
      " 22  primary_cleaner.state.floatbank8_a_air              19439 non-null  float64\n",
      " 23  primary_cleaner.state.floatbank8_a_level            19439 non-null  float64\n",
      " 24  primary_cleaner.state.floatbank8_b_air              19439 non-null  float64\n",
      " 25  primary_cleaner.state.floatbank8_b_level            19439 non-null  float64\n",
      " 26  primary_cleaner.state.floatbank8_c_air              19439 non-null  float64\n",
      " 27  primary_cleaner.state.floatbank8_c_level            19439 non-null  float64\n",
      " 28  primary_cleaner.state.floatbank8_d_air              19439 non-null  float64\n",
      " 29  primary_cleaner.state.floatbank8_d_level            19439 non-null  float64\n",
      " 30  rougher.calculation.sulfate_to_au_concentrate       19439 non-null  float64\n",
      " 31  rougher.calculation.floatbank10_sulfate_to_au_feed  19439 non-null  float64\n",
      " 32  rougher.calculation.floatbank11_sulfate_to_au_feed  19439 non-null  float64\n",
      " 33  rougher.calculation.au_pb_ratio                     19439 non-null  float64\n",
      " 34  rougher.input.feed_ag                               19439 non-null  float64\n",
      " 35  rougher.input.feed_pb                               19439 non-null  float64\n",
      " 36  rougher.input.feed_rate                             19439 non-null  float64\n",
      " 37  rougher.input.feed_size                             19439 non-null  float64\n",
      " 38  rougher.input.feed_sol                              19439 non-null  float64\n",
      " 39  rougher.input.feed_au                               19439 non-null  float64\n",
      " 40  rougher.input.floatbank10_sulfate                   19439 non-null  float64\n",
      " 41  rougher.input.floatbank10_xanthate                  19439 non-null  float64\n",
      " 42  rougher.input.floatbank11_sulfate                   19439 non-null  float64\n",
      " 43  rougher.input.floatbank11_xanthate                  19439 non-null  float64\n",
      " 44  rougher.output.concentrate_ag                       19439 non-null  float64\n",
      " 45  rougher.output.concentrate_pb                       19439 non-null  float64\n",
      " 46  rougher.output.concentrate_sol                      19439 non-null  float64\n",
      " 47  rougher.output.concentrate_au                       19439 non-null  float64\n",
      " 48  rougher.output.recovery                             19439 non-null  float64\n",
      " 49  rougher.output.tail_ag                              19439 non-null  float64\n",
      " 50  rougher.output.tail_pb                              19439 non-null  float64\n",
      " 51  rougher.output.tail_sol                             19439 non-null  float64\n",
      " 52  rougher.output.tail_au                              19439 non-null  float64\n",
      " 53  rougher.state.floatbank10_a_air                     19439 non-null  float64\n",
      " 54  rougher.state.floatbank10_a_level                   19439 non-null  float64\n",
      " 55  rougher.state.floatbank10_b_air                     19439 non-null  float64\n",
      " 56  rougher.state.floatbank10_b_level                   19439 non-null  float64\n",
      " 57  rougher.state.floatbank10_c_air                     19439 non-null  float64\n",
      " 58  rougher.state.floatbank10_c_level                   19439 non-null  float64\n",
      " 59  rougher.state.floatbank10_d_air                     19439 non-null  float64\n",
      " 60  rougher.state.floatbank10_d_level                   19439 non-null  float64\n",
      " 61  rougher.state.floatbank10_e_air                     19439 non-null  float64\n",
      " 62  rougher.state.floatbank10_e_level                   19439 non-null  float64\n",
      " 63  rougher.state.floatbank10_f_air                     19439 non-null  float64\n",
      " 64  rougher.state.floatbank10_f_level                   19439 non-null  float64\n",
      " 65  secondary_cleaner.output.tail_ag                    19439 non-null  float64\n",
      " 66  secondary_cleaner.output.tail_pb                    19439 non-null  float64\n",
      " 67  secondary_cleaner.output.tail_sol                   19439 non-null  float64\n",
      " 68  secondary_cleaner.output.tail_au                    19439 non-null  float64\n",
      " 69  secondary_cleaner.state.floatbank2_a_air            19439 non-null  float64\n",
      " 70  secondary_cleaner.state.floatbank2_a_level          19439 non-null  float64\n",
      " 71  secondary_cleaner.state.floatbank2_b_air            19439 non-null  float64\n",
      " 72  secondary_cleaner.state.floatbank2_b_level          19439 non-null  float64\n",
      " 73  secondary_cleaner.state.floatbank3_a_air            19439 non-null  float64\n",
      " 74  secondary_cleaner.state.floatbank3_a_level          19439 non-null  float64\n",
      " 75  secondary_cleaner.state.floatbank3_b_air            19439 non-null  float64\n",
      " 76  secondary_cleaner.state.floatbank3_b_level          19439 non-null  float64\n",
      " 77  secondary_cleaner.state.floatbank4_a_air            19439 non-null  float64\n",
      " 78  secondary_cleaner.state.floatbank4_a_level          19439 non-null  float64\n",
      " 79  secondary_cleaner.state.floatbank4_b_air            19439 non-null  float64\n",
      " 80  secondary_cleaner.state.floatbank4_b_level          19439 non-null  float64\n",
      " 81  secondary_cleaner.state.floatbank5_a_air            19439 non-null  float64\n",
      " 82  secondary_cleaner.state.floatbank5_a_level          19439 non-null  float64\n",
      " 83  secondary_cleaner.state.floatbank5_b_air            19439 non-null  float64\n",
      " 84  secondary_cleaner.state.floatbank5_b_level          19439 non-null  float64\n",
      " 85  secondary_cleaner.state.floatbank6_a_air            19439 non-null  float64\n",
      " 86  secondary_cleaner.state.floatbank6_a_level          19439 non-null  float64\n",
      " 87  rougher.input.all                                   19439 non-null  float64\n",
      " 88  rougher.output.all                                  19439 non-null  float64\n",
      " 89  primary_cleaner.output.all                          19439 non-null  float64\n",
      " 90  final.output.all                                    19439 non-null  float64\n",
      "dtypes: float64(90), object(1)\n",
      "memory usage: 13.5+ MB\n"
     ]
    }
   ],
   "source": [
    "data_full.info()"
   ]
  },
  {
   "cell_type": "code",
   "execution_count": 35,
   "metadata": {},
   "outputs": [
    {
     "data": {
      "text/plain": [
       "<matplotlib.legend.Legend at 0x7fca674971c0>"
      ]
     },
     "execution_count": 35,
     "metadata": {},
     "output_type": "execute_result"
    },
    {
     "data": {
      "image/png": "[encoded data removed]",
      "text/plain": [
       "<Figure size 720x360 with 1 Axes>"
      ]
     },
     "metadata": {},
     "output_type": "display_data"
    }
   ],
   "source": [
    "data_full['rougher.input.all'].hist(bins = 20, color = 'red', alpha = 0.5)\n",
    "data_full['rougher.output.all'].hist(bins = 20, color = 'green', alpha = 0.7)\n",
    "data_full['primary_cleaner.output.all'].hist(bins = 20, color = 'yellow', alpha = 0.7)\n",
    "data_full['final.output.all'].hist(bins = 20, color = 'blue', alpha = 0.4)\n",
    "plt.title('Суммарная концентрация всех веществ на разных стадиях')\n",
    "plt.xlabel('суммарная концентрация')\n",
    "plt.ylabel('количество')\n",
    "plt.legend(['сырье','флотация','первичная очистка','результат'])\n"
   ]
  },
  {
   "cell_type": "markdown",
   "metadata": {},
   "source": [
    "На разных этапах очистки наблюдаются нулевые значения концентрации различных металлов. Если бы мы дальше использовали data_full, эти наблюдения необходимо было бы удалить. Для обучения мы будем использовать data_train, которая не содержит признаков со значениями output, т.к. приведена в соответствие с тестовой базой."
   ]
  },
  {
   "cell_type": "markdown",
   "metadata": {},
   "source": [
    "### Вывод\n",
    " - Концентрация золота увеличивается на каждом этапе очистки. Концентрация серебра после каждого этапа очистки падает. Концентрация свинца заметрно увеличивается после флотация, после первичной очистки существенно не меняется.\n",
    " - Распределения  размеров гранул сырья на обучающей и тестовой выборках схожи.\n",
    " - На разных этапах очистки наблюдаются нулевые значения концентрации различных металлов. "
   ]
  },
  {
   "cell_type": "markdown",
   "metadata": {},
   "source": [
    "## Модель"
   ]
  },
  {
   "cell_type": "markdown",
   "metadata": {},
   "source": [
    "### Функция для вычисления итоговой sMAPE."
   ]
  },
  {
   "cell_type": "code",
   "execution_count": 36,
   "metadata": {},
   "outputs": [],
   "source": [
    "def smape(target, predictions):\n",
    "    error = np.mean(abs(target - predictions) / ((abs(target)+abs(predictions)) / 2)) * 100\n",
    "    return error"
   ]
  },
  {
   "cell_type": "code",
   "execution_count": 37,
   "metadata": {},
   "outputs": [],
   "source": [
    "def final_smape(smape_rougher, smape_final):\n",
    "    return (0.25 * smape_rougher + 0.75 * smape_final)"
   ]
  },
  {
   "cell_type": "markdown",
   "metadata": {},
   "source": [
    "### Обучение разных моделей и оценка их качества кросс-валидацией. Выбор лучшей модели и проверка её на тестовой выборке. "
   ]
  },
  {
   "cell_type": "code",
   "execution_count": 38,
   "metadata": {},
   "outputs": [],
   "source": [
    "state = np.random.RandomState(12345)"
   ]
  },
  {
   "cell_type": "markdown",
   "metadata": {},
   "source": [
    "Нам нужно будет создать модели для 2 признаков - rougher.output.recovery и final.output.recovery. Будем обучать модели: линейная регрессия, решающее дерево и случайный лес."
   ]
  },
  {
   "cell_type": "markdown",
   "metadata": {},
   "source": [
    "**Модели для rougher.output.recovery**"
   ]
  },
  {
   "cell_type": "markdown",
   "metadata": {},
   "source": [
    "Для rougher.output.recovery мы отберем только переменные, отражающие флотационный процесс "
   ]
  },
  {
   "cell_type": "code",
   "execution_count": 39,
   "metadata": {},
   "outputs": [],
   "source": [
    "features_rougher = data_train.filter(regex='rougher.input|rougher.state', axis=1)\n",
    "target_rougher = data_train['rougher.output.recovery']"
   ]
  },
  {
   "cell_type": "code",
   "execution_count": 40,
   "metadata": {},
   "outputs": [],
   "source": [
    "features_rougher = features_rougher.astype(int)\n",
    "target_rougher = target_rougher.astype(int)"
   ]
  },
  {
   "cell_type": "code",
   "execution_count": 41,
   "metadata": {},
   "outputs": [
    {
     "name": "stdout",
     "output_type": "stream",
     "text": [
      "<class 'pandas.core.frame.DataFrame'>\n",
      "RangeIndex: 14149 entries, 0 to 14148\n",
      "Data columns (total 22 columns):\n",
      " #   Column                              Non-Null Count  Dtype\n",
      "---  ------                              --------------  -----\n",
      " 0   rougher.input.feed_ag               14149 non-null  int64\n",
      " 1   rougher.input.feed_pb               14149 non-null  int64\n",
      " 2   rougher.input.feed_rate             14149 non-null  int64\n",
      " 3   rougher.input.feed_size             14149 non-null  int64\n",
      " 4   rougher.input.feed_sol              14149 non-null  int64\n",
      " 5   rougher.input.feed_au               14149 non-null  int64\n",
      " 6   rougher.input.floatbank10_sulfate   14149 non-null  int64\n",
      " 7   rougher.input.floatbank10_xanthate  14149 non-null  int64\n",
      " 8   rougher.input.floatbank11_sulfate   14149 non-null  int64\n",
      " 9   rougher.input.floatbank11_xanthate  14149 non-null  int64\n",
      " 10  rougher.state.floatbank10_a_air     14149 non-null  int64\n",
      " 11  rougher.state.floatbank10_a_level   14149 non-null  int64\n",
      " 12  rougher.state.floatbank10_b_air     14149 non-null  int64\n",
      " 13  rougher.state.floatbank10_b_level   14149 non-null  int64\n",
      " 14  rougher.state.floatbank10_c_air     14149 non-null  int64\n",
      " 15  rougher.state.floatbank10_c_level   14149 non-null  int64\n",
      " 16  rougher.state.floatbank10_d_air     14149 non-null  int64\n",
      " 17  rougher.state.floatbank10_d_level   14149 non-null  int64\n",
      " 18  rougher.state.floatbank10_e_air     14149 non-null  int64\n",
      " 19  rougher.state.floatbank10_e_level   14149 non-null  int64\n",
      " 20  rougher.state.floatbank10_f_air     14149 non-null  int64\n",
      " 21  rougher.state.floatbank10_f_level   14149 non-null  int64\n",
      "dtypes: int64(22)\n",
      "memory usage: 2.4 MB\n"
     ]
    }
   ],
   "source": [
    "features_rougher.info()"
   ]
  },
  {
   "cell_type": "code",
   "execution_count": 42,
   "metadata": {},
   "outputs": [],
   "source": [
    "features_rougher_train, features_rougher_valid, target_rougher_train, target_rougher_valid = train_test_split(features_rougher, target_rougher, random_state = state, test_size = 0.25) "
   ]
  },
  {
   "cell_type": "code",
   "execution_count": 43,
   "metadata": {},
   "outputs": [
    {
     "name": "stdout",
     "output_type": "stream",
     "text": [
      "features_rougher_train (10611, 22)\n",
      "features_rougher_valid (3538, 22)\n",
      "target_rougher_train (10611,)\n",
      "target_rougher_valid (3538,)\n"
     ]
    }
   ],
   "source": [
    "print('features_rougher_train', features_rougher_train.shape)\n",
    "print('features_rougher_valid', features_rougher_valid.shape)\n",
    "print('target_rougher_train', target_rougher_train.shape)\n",
    "print('target_rougher_valid', target_rougher_valid.shape)"
   ]
  },
  {
   "cell_type": "markdown",
   "metadata": {},
   "source": [
    "**Линейная регрессия**"
   ]
  },
  {
   "cell_type": "code",
   "execution_count": 44,
   "metadata": {},
   "outputs": [
    {
     "name": "stdout",
     "output_type": "stream",
     "text": [
      "sMAPE =  10.917851127689133\n"
     ]
    }
   ],
   "source": [
    "model_reg = LinearRegression()\n",
    "model_reg.fit(features_rougher_train, target_rougher_train)\n",
    "predictions_rougher_valid = model_reg.predict(features_rougher_valid)\n",
    "smape_lin = smape(predictions_rougher_valid, target_rougher_valid)\n",
    "print('sMAPE = ', smape_lin)"
   ]
  },
  {
   "cell_type": "markdown",
   "metadata": {},
   "source": [
    "**Решающее дерево**"
   ]
  },
  {
   "cell_type": "code",
   "execution_count": 45,
   "metadata": {},
   "outputs": [],
   "source": [
    "smape_score = make_scorer(smape, greater_is_better=False)"
   ]
  },
  {
   "cell_type": "code",
   "execution_count": 46,
   "metadata": {},
   "outputs": [
    {
     "name": "stdout",
     "output_type": "stream",
     "text": [
      "Fitting 5 folds for each of 150 candidates, totalling 750 fits\n"
     ]
    },
    {
     "data": {
      "text/plain": [
       "GridSearchCV(cv=5, estimator=DecisionTreeRegressor(), n_jobs=-1,\n",
       "             param_grid={'max_depth': range(1, 11),\n",
       "                         'max_features': range(4, 19)},\n",
       "             scoring=make_scorer(smape, greater_is_better=False), verbose=True)"
      ]
     },
     "execution_count": 46,
     "metadata": {},
     "output_type": "execute_result"
    }
   ],
   "source": [
    "# подберем гиперпараметры\n",
    "model = DecisionTreeRegressor()\n",
    "parametrs = {'max_depth': range(1,11), 'max_features': range(4,19)}\n",
    "tree_grid = GridSearchCV(model, parametrs, cv=5, n_jobs=-1,verbose=True, scoring=smape_score)\n",
    "tree_grid.fit(features_rougher_train, target_rougher_train)"
   ]
  },
  {
   "cell_type": "code",
   "execution_count": 47,
   "metadata": {},
   "outputs": [
    {
     "data": {
      "text/plain": [
       "{'max_depth': 10, 'max_features': 7}"
      ]
     },
     "execution_count": 47,
     "metadata": {},
     "output_type": "execute_result"
    }
   ],
   "source": [
    "tree_grid.best_params_"
   ]
  },
  {
   "cell_type": "code",
   "execution_count": 48,
   "metadata": {},
   "outputs": [
    {
     "name": "stdout",
     "output_type": "stream",
     "text": [
      "sMAPE =  9.869709778631751\n"
     ]
    }
   ],
   "source": [
    "model_tree = DecisionTreeRegressor(random_state=state, max_depth=tree_grid.best_params_['max_depth'],\n",
    "                                   max_features = tree_grid.best_params_['max_features'])\n",
    "model_tree.fit(features_rougher_train, target_rougher_train)\n",
    "predictions_rougher_valid = model_tree.predict(features_rougher_valid)\n",
    "smape_tree = smape(target_rougher_valid, predictions_rougher_valid)\n",
    "print('sMAPE = ', smape_tree)"
   ]
  },
  {
   "cell_type": "markdown",
   "metadata": {},
   "source": [
    "**Случайный лес**"
   ]
  },
  {
   "cell_type": "code",
   "execution_count": 49,
   "metadata": {},
   "outputs": [
    {
     "data": {
      "text/plain": [
       "GridSearchCV(cv=5, estimator=RandomForestRegressor(),\n",
       "             param_grid={'max_depth': range(1, 13, 2),\n",
       "                         'n_estimators': range(10, 51, 10)},\n",
       "             scoring=make_scorer(smape, greater_is_better=False))"
      ]
     },
     "execution_count": 49,
     "metadata": {},
     "output_type": "execute_result"
    }
   ],
   "source": [
    "# подберем гиперпараметры\n",
    "model = RandomForestRegressor()\n",
    "parametrs = { 'n_estimators': range (10, 51, 10),\n",
    "              'max_depth': range (1,13, 2)}\n",
    "forest_grid = GridSearchCV(model, parametrs, cv=5, scoring=smape_score)\n",
    "forest_grid.fit(features_rougher_train, target_rougher_train)\n"
   ]
  },
  {
   "cell_type": "code",
   "execution_count": 50,
   "metadata": {},
   "outputs": [
    {
     "data": {
      "text/plain": [
       "{'max_depth': 11, 'n_estimators': 20}"
      ]
     },
     "execution_count": 50,
     "metadata": {},
     "output_type": "execute_result"
    }
   ],
   "source": [
    "forest_grid.best_params_"
   ]
  },
  {
   "cell_type": "code",
   "execution_count": 51,
   "metadata": {},
   "outputs": [
    {
     "name": "stdout",
     "output_type": "stream",
     "text": [
      "sMAPE =  9.641556242594042\n"
     ]
    }
   ],
   "source": [
    "model_forest = RandomForestRegressor(random_state=state, max_depth=forest_grid.best_params_['max_depth'], \n",
    "                                     n_estimators = forest_grid.best_params_['n_estimators'])\n",
    "model_forest.fit(features_rougher_train, target_rougher_train)\n",
    "predictions_rougher_valid = model_forest.predict(features_rougher_valid)\n",
    "smape_rougher = smape(target_rougher_valid, predictions_rougher_valid)\n",
    "print('sMAPE = ', smape_rougher)"
   ]
  },
  {
   "cell_type": "code",
   "execution_count": 52,
   "metadata": {},
   "outputs": [
    {
     "data": {
      "text/plain": [
       "-11.838452258593303"
      ]
     },
     "execution_count": 52,
     "metadata": {},
     "output_type": "execute_result"
    }
   ],
   "source": [
    "scores_reg = cross_val_score(model_reg, features_rougher, target_rougher, scoring=smape_score, cv=5)\n",
    "scores_reg.mean()"
   ]
  },
  {
   "cell_type": "code",
   "execution_count": 53,
   "metadata": {},
   "outputs": [
    {
     "data": {
      "text/plain": [
       "-21.692960614394657"
      ]
     },
     "execution_count": 53,
     "metadata": {},
     "output_type": "execute_result"
    }
   ],
   "source": [
    "scores_tree = cross_val_score(model_tree, features_rougher, target_rougher, scoring=smape_score, cv=5)\n",
    "scores_tree.mean()"
   ]
  },
  {
   "cell_type": "code",
   "execution_count": 54,
   "metadata": {},
   "outputs": [
    {
     "data": {
      "text/plain": [
       "-15.421451247707875"
      ]
     },
     "execution_count": 54,
     "metadata": {},
     "output_type": "execute_result"
    }
   ],
   "source": [
    "scores_forest = cross_val_score(model_forest, features_rougher, target_rougher, scoring=smape_score, cv=5)\n",
    "scores_forest.mean()"
   ]
  },
  {
   "cell_type": "markdown",
   "metadata": {},
   "source": [
    "Лучшая модель для rougher.output.recovery - случайный лес (sMAPE = 9.6). Гиперпараметры max_depth: 11, n_estimators: 20. Лучшие параметры кроссвалидации у линейной регрессии - (-11.8)."
   ]
  },
  {
   "cell_type": "markdown",
   "metadata": {},
   "source": [
    "**Модели для final.output.recovery**"
   ]
  },
  {
   "cell_type": "markdown",
   "metadata": {},
   "source": [
    "Для финальных характеристик будем использовать все данные"
   ]
  },
  {
   "cell_type": "code",
   "execution_count": 55,
   "metadata": {},
   "outputs": [],
   "source": [
    "features_final = data_train.drop(['final.output.recovery','date'], axis = 1)\n",
    "target_final = data_train['final.output.recovery']"
   ]
  },
  {
   "cell_type": "code",
   "execution_count": 56,
   "metadata": {},
   "outputs": [],
   "source": [
    "features_final = features_final.astype(int)\n",
    "target_final = target_final.astype(int)"
   ]
  },
  {
   "cell_type": "code",
   "execution_count": 57,
   "metadata": {},
   "outputs": [],
   "source": [
    "features_final_train, features_final_valid, target_final_train, target_final_valid = train_test_split(features_final, target_final, random_state = state, test_size = 0.25) "
   ]
  },
  {
   "cell_type": "code",
   "execution_count": 58,
   "metadata": {},
   "outputs": [
    {
     "name": "stdout",
     "output_type": "stream",
     "text": [
      "features_final_train (10611, 53)\n",
      "features_final_valid (3538, 53)\n",
      "target_final_train (10611,)\n",
      "target_final_valid (3538,)\n"
     ]
    }
   ],
   "source": [
    "print('features_final_train', features_final_train.shape)\n",
    "print('features_final_valid', features_final_valid.shape)\n",
    "print('target_final_train', target_final_train.shape)\n",
    "print('target_final_valid', target_final_valid.shape)"
   ]
  },
  {
   "cell_type": "markdown",
   "metadata": {},
   "source": [
    "**Линейная регрессия**"
   ]
  },
  {
   "cell_type": "code",
   "execution_count": 59,
   "metadata": {},
   "outputs": [
    {
     "name": "stdout",
     "output_type": "stream",
     "text": [
      "sMAPE =  10.917851127689133\n"
     ]
    }
   ],
   "source": [
    "model_reg_f = LinearRegression()\n",
    "model_reg_f.fit(features_final_train, target_final_train)\n",
    "predictions_final_valid = model_reg_f.predict(features_final_valid)\n",
    "smape_lin_f = smape(predictions_final_valid, target_final_valid)\n",
    "print('sMAPE = ', smape_lin)"
   ]
  },
  {
   "cell_type": "markdown",
   "metadata": {},
   "source": [
    "**Решающее дерево**"
   ]
  },
  {
   "cell_type": "code",
   "execution_count": 60,
   "metadata": {},
   "outputs": [
    {
     "name": "stdout",
     "output_type": "stream",
     "text": [
      "Fitting 5 folds for each of 150 candidates, totalling 750 fits\n"
     ]
    },
    {
     "data": {
      "text/plain": [
       "GridSearchCV(cv=5, estimator=DecisionTreeRegressor(), n_jobs=-1,\n",
       "             param_grid={'max_depth': range(1, 11),\n",
       "                         'max_features': range(4, 19)},\n",
       "             scoring=make_scorer(smape, greater_is_better=False), verbose=True)"
      ]
     },
     "execution_count": 60,
     "metadata": {},
     "output_type": "execute_result"
    }
   ],
   "source": [
    "# подберем гиперпараметры\n",
    "model = DecisionTreeRegressor()\n",
    "parametrs = {'max_depth': range(1,11), 'max_features': range(4,19)}\n",
    "tree_grid_f = GridSearchCV(model, parametrs, cv=5, n_jobs=-1,verbose=True, scoring=smape_score)\n",
    "tree_grid_f.fit(features_final_train, target_final_train)"
   ]
  },
  {
   "cell_type": "code",
   "execution_count": 61,
   "metadata": {},
   "outputs": [
    {
     "data": {
      "text/plain": [
       "{'max_depth': 8, 'max_features': 17}"
      ]
     },
     "execution_count": 61,
     "metadata": {},
     "output_type": "execute_result"
    }
   ],
   "source": [
    "tree_grid_f.best_params_"
   ]
  },
  {
   "cell_type": "code",
   "execution_count": 62,
   "metadata": {},
   "outputs": [
    {
     "name": "stdout",
     "output_type": "stream",
     "text": [
      "sMAPE =  8.05606560443966\n"
     ]
    }
   ],
   "source": [
    "model_tree_f = DecisionTreeRegressor(random_state=state, max_depth=tree_grid_f.best_params_['max_depth'],\n",
    "                                     max_features = tree_grid_f.best_params_['max_features'])\n",
    "model_tree_f.fit(features_final_train, target_final_train)\n",
    "predictions_final_valid = model_tree_f.predict(features_final_valid)\n",
    "smape_tree_f = smape(target_final_valid, predictions_final_valid)\n",
    "print('sMAPE = ', smape_tree_f)"
   ]
  },
  {
   "cell_type": "markdown",
   "metadata": {},
   "source": [
    "**Случайный лес**"
   ]
  },
  {
   "cell_type": "code",
   "execution_count": 63,
   "metadata": {},
   "outputs": [
    {
     "data": {
      "text/plain": [
       "GridSearchCV(cv=5, estimator=RandomForestRegressor(),\n",
       "             param_grid={'max_depth': range(1, 13, 2),\n",
       "                         'n_estimators': range(10, 51, 10)},\n",
       "             scoring=make_scorer(smape, greater_is_better=False))"
      ]
     },
     "execution_count": 63,
     "metadata": {},
     "output_type": "execute_result"
    }
   ],
   "source": [
    "# подберем гиперпараметры\n",
    "model = RandomForestRegressor()\n",
    "parametrs = { 'n_estimators': range (10, 51, 10),\n",
    "              'max_depth': range (1,13, 2)}\n",
    "forest_grid_f = GridSearchCV(model, parametrs, cv=5, scoring=smape_score)\n",
    "forest_grid_f.fit(features_final_train, target_final_train)\n"
   ]
  },
  {
   "cell_type": "code",
   "execution_count": 64,
   "metadata": {},
   "outputs": [
    {
     "data": {
      "text/plain": [
       "{'max_depth': 11, 'n_estimators': 50}"
      ]
     },
     "execution_count": 64,
     "metadata": {},
     "output_type": "execute_result"
    }
   ],
   "source": [
    "forest_grid_f.best_params_"
   ]
  },
  {
   "cell_type": "code",
   "execution_count": 65,
   "metadata": {},
   "outputs": [
    {
     "name": "stdout",
     "output_type": "stream",
     "text": [
      "sMAPE =  6.800670752027671\n"
     ]
    }
   ],
   "source": [
    "model_forest_f = RandomForestRegressor(random_state=state, max_depth=forest_grid_f.best_params_['max_depth'],\n",
    "                                       n_estimators = forest_grid_f.best_params_['n_estimators'])\n",
    "model_forest_f.fit(features_final_train, target_final_train)\n",
    "predictions_final_valid = model_forest_f.predict(features_final_valid)\n",
    "smape_final = smape(target_final_valid, predictions_final_valid)\n",
    "print('sMAPE = ', smape_final)"
   ]
  },
  {
   "cell_type": "code",
   "execution_count": 66,
   "metadata": {},
   "outputs": [
    {
     "data": {
      "text/plain": [
       "-11.772037992933388"
      ]
     },
     "execution_count": 66,
     "metadata": {},
     "output_type": "execute_result"
    }
   ],
   "source": [
    "scores_reg_f = cross_val_score(model_reg_f, features_final, target_final, scoring=smape_score, cv=5)\n",
    "scores_reg_f.mean()"
   ]
  },
  {
   "cell_type": "code",
   "execution_count": 67,
   "metadata": {},
   "outputs": [
    {
     "data": {
      "text/plain": [
       "-12.319478366441135"
      ]
     },
     "execution_count": 67,
     "metadata": {},
     "output_type": "execute_result"
    }
   ],
   "source": [
    "scores_tree_f = cross_val_score(model_tree_f, features_final, target_final, scoring=smape_score, cv=5)\n",
    "scores_tree_f.mean()\n"
   ]
  },
  {
   "cell_type": "code",
   "execution_count": 68,
   "metadata": {},
   "outputs": [
    {
     "data": {
      "text/plain": [
       "-10.736137619343186"
      ]
     },
     "execution_count": 68,
     "metadata": {},
     "output_type": "execute_result"
    }
   ],
   "source": [
    "scores_forest_f = cross_val_score(model_forest_f, features_final, target_final, scoring=smape_score, cv=5)\n",
    "scores_forest_f.mean()"
   ]
  },
  {
   "cell_type": "markdown",
   "metadata": {},
   "source": [
    "Лучшая модель - случайный лес (sMAPE = 6.8). Гиперпараметры max_depth: 11, n_estimators: 50. Так же у случайного леса лучшая оценка кроссвалидации (-10.7)."
   ]
  },
  {
   "cell_type": "markdown",
   "metadata": {},
   "source": [
    "**Итоговое sMAPE**"
   ]
  },
  {
   "cell_type": "code",
   "execution_count": 69,
   "metadata": {},
   "outputs": [
    {
     "data": {
      "text/plain": [
       "7.5108921246692635"
      ]
     },
     "execution_count": 69,
     "metadata": {},
     "output_type": "execute_result"
    }
   ],
   "source": [
    "final_smape(smape_rougher, smape_final)"
   ]
  },
  {
   "cell_type": "markdown",
   "metadata": {},
   "source": [
    "**Проверка модели на тестовой выборке**"
   ]
  },
  {
   "cell_type": "markdown",
   "metadata": {},
   "source": [
    "В обоих случаях лучше всего показала себя модель случайный лес. Ее и проверим на тестовой выборке"
   ]
  },
  {
   "cell_type": "code",
   "execution_count": 70,
   "metadata": {},
   "outputs": [
    {
     "name": "stdout",
     "output_type": "stream",
     "text": [
      "<class 'pandas.core.frame.DataFrame'>\n",
      "Int64Index: 5290 entries, 0 to 5289\n",
      "Data columns (total 55 columns):\n",
      " #   Column                                      Non-Null Count  Dtype  \n",
      "---  ------                                      --------------  -----  \n",
      " 0   date                                        5290 non-null   object \n",
      " 1   primary_cleaner.input.sulfate               5290 non-null   float64\n",
      " 2   primary_cleaner.input.depressant            5290 non-null   float64\n",
      " 3   primary_cleaner.input.feed_size             5290 non-null   float64\n",
      " 4   primary_cleaner.input.xanthate              5290 non-null   float64\n",
      " 5   primary_cleaner.state.floatbank8_a_air      5290 non-null   float64\n",
      " 6   primary_cleaner.state.floatbank8_a_level    5290 non-null   float64\n",
      " 7   primary_cleaner.state.floatbank8_b_air      5290 non-null   float64\n",
      " 8   primary_cleaner.state.floatbank8_b_level    5290 non-null   float64\n",
      " 9   primary_cleaner.state.floatbank8_c_air      5290 non-null   float64\n",
      " 10  primary_cleaner.state.floatbank8_c_level    5290 non-null   float64\n",
      " 11  primary_cleaner.state.floatbank8_d_air      5290 non-null   float64\n",
      " 12  primary_cleaner.state.floatbank8_d_level    5290 non-null   float64\n",
      " 13  rougher.input.feed_ag                       5290 non-null   float64\n",
      " 14  rougher.input.feed_pb                       5290 non-null   float64\n",
      " 15  rougher.input.feed_rate                     5290 non-null   float64\n",
      " 16  rougher.input.feed_size                     5290 non-null   float64\n",
      " 17  rougher.input.feed_sol                      5290 non-null   float64\n",
      " 18  rougher.input.feed_au                       5290 non-null   float64\n",
      " 19  rougher.input.floatbank10_sulfate           5290 non-null   float64\n",
      " 20  rougher.input.floatbank10_xanthate          5290 non-null   float64\n",
      " 21  rougher.input.floatbank11_sulfate           5290 non-null   float64\n",
      " 22  rougher.input.floatbank11_xanthate          5290 non-null   float64\n",
      " 23  rougher.state.floatbank10_a_air             5290 non-null   float64\n",
      " 24  rougher.state.floatbank10_a_level           5290 non-null   float64\n",
      " 25  rougher.state.floatbank10_b_air             5290 non-null   float64\n",
      " 26  rougher.state.floatbank10_b_level           5290 non-null   float64\n",
      " 27  rougher.state.floatbank10_c_air             5290 non-null   float64\n",
      " 28  rougher.state.floatbank10_c_level           5290 non-null   float64\n",
      " 29  rougher.state.floatbank10_d_air             5290 non-null   float64\n",
      " 30  rougher.state.floatbank10_d_level           5290 non-null   float64\n",
      " 31  rougher.state.floatbank10_e_air             5290 non-null   float64\n",
      " 32  rougher.state.floatbank10_e_level           5290 non-null   float64\n",
      " 33  rougher.state.floatbank10_f_air             5290 non-null   float64\n",
      " 34  rougher.state.floatbank10_f_level           5290 non-null   float64\n",
      " 35  secondary_cleaner.state.floatbank2_a_air    5290 non-null   float64\n",
      " 36  secondary_cleaner.state.floatbank2_a_level  5290 non-null   float64\n",
      " 37  secondary_cleaner.state.floatbank2_b_air    5290 non-null   float64\n",
      " 38  secondary_cleaner.state.floatbank2_b_level  5290 non-null   float64\n",
      " 39  secondary_cleaner.state.floatbank3_a_air    5290 non-null   float64\n",
      " 40  secondary_cleaner.state.floatbank3_a_level  5290 non-null   float64\n",
      " 41  secondary_cleaner.state.floatbank3_b_air    5290 non-null   float64\n",
      " 42  secondary_cleaner.state.floatbank3_b_level  5290 non-null   float64\n",
      " 43  secondary_cleaner.state.floatbank4_a_air    5290 non-null   float64\n",
      " 44  secondary_cleaner.state.floatbank4_a_level  5290 non-null   float64\n",
      " 45  secondary_cleaner.state.floatbank4_b_air    5290 non-null   float64\n",
      " 46  secondary_cleaner.state.floatbank4_b_level  5290 non-null   float64\n",
      " 47  secondary_cleaner.state.floatbank5_a_air    5290 non-null   float64\n",
      " 48  secondary_cleaner.state.floatbank5_a_level  5290 non-null   float64\n",
      " 49  secondary_cleaner.state.floatbank5_b_air    5290 non-null   float64\n",
      " 50  secondary_cleaner.state.floatbank5_b_level  5290 non-null   float64\n",
      " 51  secondary_cleaner.state.floatbank6_a_air    5290 non-null   float64\n",
      " 52  secondary_cleaner.state.floatbank6_a_level  5290 non-null   float64\n",
      " 53  rougher.output.recovery                     5290 non-null   float64\n",
      " 54  final.output.recovery                       5290 non-null   float64\n",
      "dtypes: float64(54), object(1)\n",
      "memory usage: 2.3+ MB\n"
     ]
    }
   ],
   "source": [
    "data_test.info()"
   ]
  },
  {
   "cell_type": "code",
   "execution_count": 71,
   "metadata": {},
   "outputs": [
    {
     "data": {
      "text/html": [
       "<div>\n",
       "<style scoped>\n",
       "    .dataframe tbody tr th:only-of-type {\n",
       "        vertical-align: middle;\n",
       "    }\n",
       "\n",
       "    .dataframe tbody tr th {\n",
       "        vertical-align: top;\n",
       "    }\n",
       "\n",
       "    .dataframe thead th {\n",
       "        text-align: right;\n",
       "    }\n",
       "</style>\n",
       "<table border=\"1\" class=\"dataframe\">\n",
       "  <thead>\n",
       "    <tr style=\"text-align: right;\">\n",
       "      <th></th>\n",
       "      <th>primary_cleaner.input.sulfate</th>\n",
       "      <th>primary_cleaner.input.depressant</th>\n",
       "      <th>primary_cleaner.input.feed_size</th>\n",
       "      <th>primary_cleaner.input.xanthate</th>\n",
       "      <th>primary_cleaner.state.floatbank8_a_air</th>\n",
       "      <th>primary_cleaner.state.floatbank8_a_level</th>\n",
       "      <th>primary_cleaner.state.floatbank8_b_air</th>\n",
       "      <th>primary_cleaner.state.floatbank8_b_level</th>\n",
       "      <th>primary_cleaner.state.floatbank8_c_air</th>\n",
       "      <th>primary_cleaner.state.floatbank8_c_level</th>\n",
       "      <th>...</th>\n",
       "      <th>secondary_cleaner.state.floatbank4_b_air</th>\n",
       "      <th>secondary_cleaner.state.floatbank4_b_level</th>\n",
       "      <th>secondary_cleaner.state.floatbank5_a_air</th>\n",
       "      <th>secondary_cleaner.state.floatbank5_a_level</th>\n",
       "      <th>secondary_cleaner.state.floatbank5_b_air</th>\n",
       "      <th>secondary_cleaner.state.floatbank5_b_level</th>\n",
       "      <th>secondary_cleaner.state.floatbank6_a_air</th>\n",
       "      <th>secondary_cleaner.state.floatbank6_a_level</th>\n",
       "      <th>rougher.output.recovery</th>\n",
       "      <th>final.output.recovery</th>\n",
       "    </tr>\n",
       "  </thead>\n",
       "  <tbody>\n",
       "    <tr>\n",
       "      <th>count</th>\n",
       "      <td>5290.000000</td>\n",
       "      <td>5290.000000</td>\n",
       "      <td>5290.000000</td>\n",
       "      <td>5290.000000</td>\n",
       "      <td>5.290000e+03</td>\n",
       "      <td>5290.000000</td>\n",
       "      <td>5.290000e+03</td>\n",
       "      <td>5290.000000</td>\n",
       "      <td>5.290000e+03</td>\n",
       "      <td>5290.000000</td>\n",
       "      <td>...</td>\n",
       "      <td>5.290000e+03</td>\n",
       "      <td>5290.000000</td>\n",
       "      <td>5290.000000</td>\n",
       "      <td>5290.000000</td>\n",
       "      <td>5290.000000</td>\n",
       "      <td>5290.000000</td>\n",
       "      <td>5290.000000</td>\n",
       "      <td>5290.000000</td>\n",
       "      <td>5290.000000</td>\n",
       "      <td>5290.000000</td>\n",
       "    </tr>\n",
       "    <tr>\n",
       "      <th>mean</th>\n",
       "      <td>174.743667</td>\n",
       "      <td>8.681858</td>\n",
       "      <td>7.266339</td>\n",
       "      <td>1.383156</td>\n",
       "      <td>1.539494e+03</td>\n",
       "      <td>-497.665883</td>\n",
       "      <td>1.545174e+03</td>\n",
       "      <td>-500.273098</td>\n",
       "      <td>1.527272e+03</td>\n",
       "      <td>-498.330680</td>\n",
       "      <td>...</td>\n",
       "      <td>1.373544e+01</td>\n",
       "      <td>-463.349858</td>\n",
       "      <td>12.804186</td>\n",
       "      <td>-501.329122</td>\n",
       "      <td>9.881145</td>\n",
       "      <td>-495.663398</td>\n",
       "      <td>17.304935</td>\n",
       "      <td>-501.793193</td>\n",
       "      <td>84.997810</td>\n",
       "      <td>68.471462</td>\n",
       "    </tr>\n",
       "    <tr>\n",
       "      <th>std</th>\n",
       "      <td>43.157204</td>\n",
       "      <td>3.078037</td>\n",
       "      <td>0.610219</td>\n",
       "      <td>0.643666</td>\n",
       "      <td>1.167979e+02</td>\n",
       "      <td>19.952431</td>\n",
       "      <td>1.222246e+02</td>\n",
       "      <td>32.968307</td>\n",
       "      <td>1.225380e+02</td>\n",
       "      <td>21.964876</td>\n",
       "      <td>...</td>\n",
       "      <td>3.430484e+00</td>\n",
       "      <td>86.189107</td>\n",
       "      <td>3.026591</td>\n",
       "      <td>17.951495</td>\n",
       "      <td>2.868205</td>\n",
       "      <td>34.535007</td>\n",
       "      <td>4.536544</td>\n",
       "      <td>39.044215</td>\n",
       "      <td>13.077651</td>\n",
       "      <td>9.513871</td>\n",
       "    </tr>\n",
       "    <tr>\n",
       "      <th>min</th>\n",
       "      <td>2.566156</td>\n",
       "      <td>0.003839</td>\n",
       "      <td>5.650000</td>\n",
       "      <td>0.004984</td>\n",
       "      <td>5.445860e-32</td>\n",
       "      <td>-795.316337</td>\n",
       "      <td>6.647490e-32</td>\n",
       "      <td>-799.997015</td>\n",
       "      <td>4.033736e-32</td>\n",
       "      <td>-799.960571</td>\n",
       "      <td>...</td>\n",
       "      <td>2.489718e-17</td>\n",
       "      <td>-800.836914</td>\n",
       "      <td>0.069227</td>\n",
       "      <td>-797.323986</td>\n",
       "      <td>0.528083</td>\n",
       "      <td>-800.220337</td>\n",
       "      <td>-0.079426</td>\n",
       "      <td>-809.741464</td>\n",
       "      <td>0.000000</td>\n",
       "      <td>0.000000</td>\n",
       "    </tr>\n",
       "    <tr>\n",
       "      <th>25%</th>\n",
       "      <td>147.071657</td>\n",
       "      <td>6.489309</td>\n",
       "      <td>6.890000</td>\n",
       "      <td>0.907337</td>\n",
       "      <td>1.498936e+03</td>\n",
       "      <td>-500.357298</td>\n",
       "      <td>1.498971e+03</td>\n",
       "      <td>-500.703002</td>\n",
       "      <td>1.473230e+03</td>\n",
       "      <td>-501.018117</td>\n",
       "      <td>...</td>\n",
       "      <td>1.202862e+01</td>\n",
       "      <td>-500.323028</td>\n",
       "      <td>10.914838</td>\n",
       "      <td>-500.726841</td>\n",
       "      <td>8.036719</td>\n",
       "      <td>-500.194668</td>\n",
       "      <td>13.997317</td>\n",
       "      <td>-500.690984</td>\n",
       "      <td>84.509308</td>\n",
       "      <td>65.508598</td>\n",
       "    </tr>\n",
       "    <tr>\n",
       "      <th>50%</th>\n",
       "      <td>177.821716</td>\n",
       "      <td>8.052131</td>\n",
       "      <td>7.250000</td>\n",
       "      <td>1.197562</td>\n",
       "      <td>1.585129e+03</td>\n",
       "      <td>-499.969164</td>\n",
       "      <td>1.595622e+03</td>\n",
       "      <td>-500.028514</td>\n",
       "      <td>1.549595e+03</td>\n",
       "      <td>-500.017711</td>\n",
       "      <td>...</td>\n",
       "      <td>1.496486e+01</td>\n",
       "      <td>-499.576513</td>\n",
       "      <td>12.954182</td>\n",
       "      <td>-499.990332</td>\n",
       "      <td>10.004301</td>\n",
       "      <td>-499.990535</td>\n",
       "      <td>16.014935</td>\n",
       "      <td>-500.007126</td>\n",
       "      <td>87.388553</td>\n",
       "      <td>69.815413</td>\n",
       "    </tr>\n",
       "    <tr>\n",
       "      <th>75%</th>\n",
       "      <td>208.112236</td>\n",
       "      <td>10.028043</td>\n",
       "      <td>7.600000</td>\n",
       "      <td>1.797698</td>\n",
       "      <td>1.602077e+03</td>\n",
       "      <td>-499.568951</td>\n",
       "      <td>1.602324e+03</td>\n",
       "      <td>-499.293257</td>\n",
       "      <td>1.601144e+03</td>\n",
       "      <td>-498.994130</td>\n",
       "      <td>...</td>\n",
       "      <td>1.596213e+01</td>\n",
       "      <td>-400.933805</td>\n",
       "      <td>15.097528</td>\n",
       "      <td>-499.283191</td>\n",
       "      <td>11.997467</td>\n",
       "      <td>-499.719913</td>\n",
       "      <td>21.020013</td>\n",
       "      <td>-499.373018</td>\n",
       "      <td>89.734185</td>\n",
       "      <td>73.288544</td>\n",
       "    </tr>\n",
       "    <tr>\n",
       "      <th>max</th>\n",
       "      <td>265.983123</td>\n",
       "      <td>40.000000</td>\n",
       "      <td>15.500000</td>\n",
       "      <td>4.102454</td>\n",
       "      <td>2.103104e+03</td>\n",
       "      <td>-57.195404</td>\n",
       "      <td>1.813084e+03</td>\n",
       "      <td>-142.527229</td>\n",
       "      <td>1.715054e+03</td>\n",
       "      <td>-150.937035</td>\n",
       "      <td>...</td>\n",
       "      <td>3.126971e+01</td>\n",
       "      <td>-6.506986</td>\n",
       "      <td>25.258848</td>\n",
       "      <td>-244.483566</td>\n",
       "      <td>14.086866</td>\n",
       "      <td>-137.740004</td>\n",
       "      <td>26.705889</td>\n",
       "      <td>-123.307487</td>\n",
       "      <td>99.169699</td>\n",
       "      <td>100.000000</td>\n",
       "    </tr>\n",
       "  </tbody>\n",
       "</table>\n",
       "<p>8 rows × 54 columns</p>\n",
       "</div>"
      ],
      "text/plain": [
       "       primary_cleaner.input.sulfate  primary_cleaner.input.depressant  \\\n",
       "count                    5290.000000                       5290.000000   \n",
       "mean                      174.743667                          8.681858   \n",
       "std                        43.157204                          3.078037   \n",
       "min                         2.566156                          0.003839   \n",
       "25%                       147.071657                          6.489309   \n",
       "50%                       177.821716                          8.052131   \n",
       "75%                       208.112236                         10.028043   \n",
       "max                       265.983123                         40.000000   \n",
       "\n",
       "       primary_cleaner.input.feed_size  primary_cleaner.input.xanthate  \\\n",
       "count                      5290.000000                     5290.000000   \n",
       "mean                          7.266339                        1.383156   \n",
       "std                           0.610219                        0.643666   \n",
       "min                           5.650000                        0.004984   \n",
       "25%                           6.890000                        0.907337   \n",
       "50%                           7.250000                        1.197562   \n",
       "75%                           7.600000                        1.797698   \n",
       "max                          15.500000                        4.102454   \n",
       "\n",
       "       primary_cleaner.state.floatbank8_a_air  \\\n",
       "count                            5.290000e+03   \n",
       "mean                             1.539494e+03   \n",
       "std                              1.167979e+02   \n",
       "min                              5.445860e-32   \n",
       "25%                              1.498936e+03   \n",
       "50%                              1.585129e+03   \n",
       "75%                              1.602077e+03   \n",
       "max                              2.103104e+03   \n",
       "\n",
       "       primary_cleaner.state.floatbank8_a_level  \\\n",
       "count                               5290.000000   \n",
       "mean                                -497.665883   \n",
       "std                                   19.952431   \n",
       "min                                 -795.316337   \n",
       "25%                                 -500.357298   \n",
       "50%                                 -499.969164   \n",
       "75%                                 -499.568951   \n",
       "max                                  -57.195404   \n",
       "\n",
       "       primary_cleaner.state.floatbank8_b_air  \\\n",
       "count                            5.290000e+03   \n",
       "mean                             1.545174e+03   \n",
       "std                              1.222246e+02   \n",
       "min                              6.647490e-32   \n",
       "25%                              1.498971e+03   \n",
       "50%                              1.595622e+03   \n",
       "75%                              1.602324e+03   \n",
       "max                              1.813084e+03   \n",
       "\n",
       "       primary_cleaner.state.floatbank8_b_level  \\\n",
       "count                               5290.000000   \n",
       "mean                                -500.273098   \n",
       "std                                   32.968307   \n",
       "min                                 -799.997015   \n",
       "25%                                 -500.703002   \n",
       "50%                                 -500.028514   \n",
       "75%                                 -499.293257   \n",
       "max                                 -142.527229   \n",
       "\n",
       "       primary_cleaner.state.floatbank8_c_air  \\\n",
       "count                            5.290000e+03   \n",
       "mean                             1.527272e+03   \n",
       "std                              1.225380e+02   \n",
       "min                              4.033736e-32   \n",
       "25%                              1.473230e+03   \n",
       "50%                              1.549595e+03   \n",
       "75%                              1.601144e+03   \n",
       "max                              1.715054e+03   \n",
       "\n",
       "       primary_cleaner.state.floatbank8_c_level  ...  \\\n",
       "count                               5290.000000  ...   \n",
       "mean                                -498.330680  ...   \n",
       "std                                   21.964876  ...   \n",
       "min                                 -799.960571  ...   \n",
       "25%                                 -501.018117  ...   \n",
       "50%                                 -500.017711  ...   \n",
       "75%                                 -498.994130  ...   \n",
       "max                                 -150.937035  ...   \n",
       "\n",
       "       secondary_cleaner.state.floatbank4_b_air  \\\n",
       "count                              5.290000e+03   \n",
       "mean                               1.373544e+01   \n",
       "std                                3.430484e+00   \n",
       "min                                2.489718e-17   \n",
       "25%                                1.202862e+01   \n",
       "50%                                1.496486e+01   \n",
       "75%                                1.596213e+01   \n",
       "max                                3.126971e+01   \n",
       "\n",
       "       secondary_cleaner.state.floatbank4_b_level  \\\n",
       "count                                 5290.000000   \n",
       "mean                                  -463.349858   \n",
       "std                                     86.189107   \n",
       "min                                   -800.836914   \n",
       "25%                                   -500.323028   \n",
       "50%                                   -499.576513   \n",
       "75%                                   -400.933805   \n",
       "max                                     -6.506986   \n",
       "\n",
       "       secondary_cleaner.state.floatbank5_a_air  \\\n",
       "count                               5290.000000   \n",
       "mean                                  12.804186   \n",
       "std                                    3.026591   \n",
       "min                                    0.069227   \n",
       "25%                                   10.914838   \n",
       "50%                                   12.954182   \n",
       "75%                                   15.097528   \n",
       "max                                   25.258848   \n",
       "\n",
       "       secondary_cleaner.state.floatbank5_a_level  \\\n",
       "count                                 5290.000000   \n",
       "mean                                  -501.329122   \n",
       "std                                     17.951495   \n",
       "min                                   -797.323986   \n",
       "25%                                   -500.726841   \n",
       "50%                                   -499.990332   \n",
       "75%                                   -499.283191   \n",
       "max                                   -244.483566   \n",
       "\n",
       "       secondary_cleaner.state.floatbank5_b_air  \\\n",
       "count                               5290.000000   \n",
       "mean                                   9.881145   \n",
       "std                                    2.868205   \n",
       "min                                    0.528083   \n",
       "25%                                    8.036719   \n",
       "50%                                   10.004301   \n",
       "75%                                   11.997467   \n",
       "max                                   14.086866   \n",
       "\n",
       "       secondary_cleaner.state.floatbank5_b_level  \\\n",
       "count                                 5290.000000   \n",
       "mean                                  -495.663398   \n",
       "std                                     34.535007   \n",
       "min                                   -800.220337   \n",
       "25%                                   -500.194668   \n",
       "50%                                   -499.990535   \n",
       "75%                                   -499.719913   \n",
       "max                                   -137.740004   \n",
       "\n",
       "       secondary_cleaner.state.floatbank6_a_air  \\\n",
       "count                               5290.000000   \n",
       "mean                                  17.304935   \n",
       "std                                    4.536544   \n",
       "min                                   -0.079426   \n",
       "25%                                   13.997317   \n",
       "50%                                   16.014935   \n",
       "75%                                   21.020013   \n",
       "max                                   26.705889   \n",
       "\n",
       "       secondary_cleaner.state.floatbank6_a_level  rougher.output.recovery  \\\n",
       "count                                 5290.000000              5290.000000   \n",
       "mean                                  -501.793193                84.997810   \n",
       "std                                     39.044215                13.077651   \n",
       "min                                   -809.741464                 0.000000   \n",
       "25%                                   -500.690984                84.509308   \n",
       "50%                                   -500.007126                87.388553   \n",
       "75%                                   -499.373018                89.734185   \n",
       "max                                   -123.307487                99.169699   \n",
       "\n",
       "       final.output.recovery  \n",
       "count            5290.000000  \n",
       "mean               68.471462  \n",
       "std                 9.513871  \n",
       "min                 0.000000  \n",
       "25%                65.508598  \n",
       "50%                69.815413  \n",
       "75%                73.288544  \n",
       "max               100.000000  \n",
       "\n",
       "[8 rows x 54 columns]"
      ]
     },
     "execution_count": 71,
     "metadata": {},
     "output_type": "execute_result"
    }
   ],
   "source": [
    "data_test.describe()"
   ]
  },
  {
   "cell_type": "code",
   "execution_count": 72,
   "metadata": {},
   "outputs": [],
   "source": [
    "features_rougher_test = data_test.filter(regex='rougher.input|rougher.state', axis=1)\n",
    "target_rougher_test = data_test['rougher.output.recovery']\n",
    "features_final_test = data_test.drop(['final.output.recovery','date'], axis = 1)\n",
    "target_final_test = data_test['final.output.recovery']"
   ]
  },
  {
   "cell_type": "code",
   "execution_count": 73,
   "metadata": {},
   "outputs": [],
   "source": [
    "features_rougher_test = features_rougher_test.astype(int)\n",
    "target_rougher_test = target_rougher_test.astype(int)\n",
    "features_final_test = features_final_test.astype(int)\n",
    "target_final_test = target_final_test.astype(int)"
   ]
  },
  {
   "cell_type": "code",
   "execution_count": 74,
   "metadata": {},
   "outputs": [
    {
     "name": "stdout",
     "output_type": "stream",
     "text": [
      "features_rougher_test (5290, 22)\n",
      "features_final_test (5290, 53)\n",
      "target_rougher_test (5290,)\n",
      "target_final_test (5290,)\n"
     ]
    }
   ],
   "source": [
    "print('features_rougher_test', features_rougher_test.shape)\n",
    "print('features_final_test', features_final_test.shape)\n",
    "print('target_rougher_test', target_rougher_test.shape)\n",
    "print('target_final_test', target_final_test.shape)"
   ]
  },
  {
   "cell_type": "code",
   "execution_count": 75,
   "metadata": {},
   "outputs": [],
   "source": [
    "predictions_rougher_test = model_forest.predict(features_rougher_test)"
   ]
  },
  {
   "cell_type": "code",
   "execution_count": 76,
   "metadata": {},
   "outputs": [
    {
     "name": "stdout",
     "output_type": "stream",
     "text": [
      "sMAPE =  12.635107574026346\n"
     ]
    }
   ],
   "source": [
    "smape_rougher = smape(target_rougher_test, predictions_rougher_test)\n",
    "print('sMAPE = ', smape_rougher)"
   ]
  },
  {
   "cell_type": "code",
   "execution_count": 77,
   "metadata": {},
   "outputs": [],
   "source": [
    "predictions_final_test = model_forest_f.predict(features_final_test)"
   ]
  },
  {
   "cell_type": "code",
   "execution_count": 78,
   "metadata": {},
   "outputs": [
    {
     "name": "stdout",
     "output_type": "stream",
     "text": [
      "sMAPE =  10.398642115503733\n"
     ]
    }
   ],
   "source": [
    "smape_final = smape(target_final_test, predictions_final_test)\n",
    "print('sMAPE = ', smape_final)"
   ]
  },
  {
   "cell_type": "code",
   "execution_count": 79,
   "metadata": {},
   "outputs": [
    {
     "data": {
      "text/plain": [
       "10.957758480134387"
      ]
     },
     "execution_count": 79,
     "metadata": {},
     "output_type": "execute_result"
    }
   ],
   "source": [
    "final_smape(smape_rougher, smape_final)"
   ]
  },
  {
   "cell_type": "markdown",
   "metadata": {},
   "source": [
    "Для проверки адекватности моделей, мы можем использовать DummyRegressor, стратегия mean."
   ]
  },
  {
   "cell_type": "code",
   "execution_count": 80,
   "metadata": {},
   "outputs": [
    {
     "name": "stdout",
     "output_type": "stream",
     "text": [
      "features_final_train (10611, 53)\n",
      "features_final_valid (3538, 53)\n",
      "target_final_train (10611,)\n",
      "target_final_valid (3538,)\n"
     ]
    }
   ],
   "source": [
    "print('features_final_train', features_final_train.shape)\n",
    "print('features_final_valid', features_final_valid.shape)\n",
    "print('target_final_train', target_final_train.shape)\n",
    "print('target_final_valid', target_final_valid.shape)"
   ]
  },
  {
   "cell_type": "code",
   "execution_count": 81,
   "metadata": {},
   "outputs": [
    {
     "data": {
      "text/plain": [
       "DummyRegressor()"
      ]
     },
     "execution_count": 81,
     "metadata": {},
     "output_type": "execute_result"
    }
   ],
   "source": [
    "dummy_rougher = DummyRegressor(strategy='mean')\n",
    "dummy_final = DummyRegressor(strategy='mean')\n",
    "\n",
    "dummy_rougher.fit(features_rougher_train, target_rougher_train)\n",
    "dummy_final.fit(features_final_train, target_final_train)\n",
    "\n"
   ]
  },
  {
   "cell_type": "code",
   "execution_count": 82,
   "metadata": {},
   "outputs": [],
   "source": [
    "predictions_dummy_rougher = dummy_rougher.predict(features_rougher_test)\n",
    "predictions_dummy_final = dummy_final.predict(features_final_test)\n"
   ]
  },
  {
   "cell_type": "code",
   "execution_count": 83,
   "metadata": {},
   "outputs": [],
   "source": [
    "smape_rougher = smape(target_rougher_test, predictions_dummy_rougher)\n",
    "smape_final = smape(target_final_test, predictions_dummy_final)"
   ]
  },
  {
   "cell_type": "code",
   "execution_count": 84,
   "metadata": {},
   "outputs": [
    {
     "data": {
      "text/plain": [
       "10.315109361704629"
      ]
     },
     "execution_count": 84,
     "metadata": {},
     "output_type": "execute_result"
    }
   ],
   "source": [
    "final_smape(smape_rougher, smape_final)"
   ]
  },
  {
   "cell_type": "markdown",
   "metadata": {},
   "source": [
    "### Вывод\n",
    "Для двух признаков - rougher.output.recovery и final.output.recovery ,были рассмотрены модели: логистическая регрессия, решающее дерево, случайный лес.\n",
    "Для rougher.output.recovery sMAPE:\n",
    " - логистическая регрессия: 10.9\n",
    " - решающее дерево: 9.9\n",
    " - случайный лес: 9.6\n",
    " \n",
    " \n",
    "Для final.output.recovery sMAPE:\n",
    " - логистическая регрессия: 10.9\n",
    " - решающее дерево: 8.05\n",
    " - случайный лес: 6.8\n",
    "\n",
    "Итоговый sMAPE на валидационной выборке (модель случайный лес): 7.5\n",
    "\n",
    "Итоговый sMAPE на тестовой выборке (модель случайный лес): 10.9\n",
    "\n",
    "sMAPE на тестовой выборке (модель dummy): 10.3\n",
    "\n",
    "На тестовой выборке модель показала себя чуть хуже, но в целом, тест прощла вполне успешно."
   ]
  },
  {
   "cell_type": "markdown",
   "metadata": {},
   "source": [
    "## Чек-лист готовности проекта"
   ]
  },
  {
   "cell_type": "markdown",
   "metadata": {},
   "source": [
    "- [x]  Jupyter Notebook открыт\n",
    "- [х]  Весь код выполняется без ошибок\n",
    "- [х]  Ячейки с кодом расположены в порядке выполнения\n",
    "- [х]  Выполнен шаг 1: данные подготовлены\n",
    "    - [х]  Проверена формула вычисления эффективности обогащения\n",
    "    - [х]  Проанализированы признаки, недоступные в тестовой выборке\n",
    "    - [х]  Проведена предобработка данных\n",
    "- [х]  Выполнен шаг 2: данные проанализированы\n",
    "    - [х]  Исследовано изменение концентрации элементов на каждом этапе\n",
    "    - [х]  Проанализированы распределения размеров гранул на обучающей и тестовой выборках\n",
    "    - [х]  Исследованы суммарные концентрации\n",
    "- [х]  Выполнен шаг 3: построена модель прогнозирования\n",
    "    - [х]  Написана функция для вычисления итогового *sMAPE*\n",
    "    - [х]  Обучено и проверено несколько моделей\n",
    "    - [х]  Выбрана лучшая модель, её качество проверено на тестовой выборке"
   ]
  },
  {
   "cell_type": "code",
   "execution_count": null,
   "metadata": {},
   "outputs": [],
   "source": []
  }
 ],
 "metadata": {
  "ExecuteTimeLog": [
   {
    "duration": 10,
    "start_time": "2022-05-24T07:22:57.977Z"
   },
   {
    "duration": 10,
    "start_time": "2022-05-24T07:23:30.853Z"
   },
   {
    "duration": 19,
    "start_time": "2022-05-24T07:24:29.290Z"
   },
   {
    "duration": 5,
    "start_time": "2022-05-24T07:25:17.969Z"
   },
   {
    "duration": 4,
    "start_time": "2022-05-24T07:25:21.470Z"
   },
   {
    "duration": 34,
    "start_time": "2022-05-24T07:25:22.481Z"
   },
   {
    "duration": 103,
    "start_time": "2022-05-24T07:25:54.343Z"
   },
   {
    "duration": 2998,
    "start_time": "2022-05-24T07:27:11.342Z"
   },
   {
    "duration": 18,
    "start_time": "2022-05-24T07:29:18.256Z"
   },
   {
    "duration": 16,
    "start_time": "2022-05-24T07:29:45.405Z"
   },
   {
    "duration": 13,
    "start_time": "2022-05-24T07:30:12.731Z"
   },
   {
    "duration": 4,
    "start_time": "2022-05-24T07:50:51.609Z"
   },
   {
    "duration": 128,
    "start_time": "2022-05-24T13:30:01.172Z"
   },
   {
    "duration": 1321,
    "start_time": "2022-05-24T13:34:06.092Z"
   },
   {
    "duration": 882,
    "start_time": "2022-05-24T13:34:07.418Z"
   },
   {
    "duration": 18,
    "start_time": "2022-05-24T13:34:08.302Z"
   },
   {
    "duration": 20,
    "start_time": "2022-05-24T13:34:08.322Z"
   },
   {
    "duration": 20,
    "start_time": "2022-05-24T13:34:08.344Z"
   },
   {
    "duration": 7,
    "start_time": "2022-05-24T13:34:08.365Z"
   },
   {
    "duration": 32,
    "start_time": "2022-05-24T13:34:08.373Z"
   },
   {
    "duration": 5,
    "start_time": "2022-05-24T13:58:36.539Z"
   },
   {
    "duration": 5,
    "start_time": "2022-05-24T14:00:36.454Z"
   },
   {
    "duration": 1859,
    "start_time": "2022-05-24T15:41:28.575Z"
   },
   {
    "duration": 15,
    "start_time": "2022-05-24T15:41:52.728Z"
   },
   {
    "duration": 79,
    "start_time": "2022-05-24T16:13:47.796Z"
   },
   {
    "duration": 13,
    "start_time": "2022-05-24T16:14:33.319Z"
   },
   {
    "duration": 14,
    "start_time": "2022-05-24T16:15:22.558Z"
   },
   {
    "duration": 2937,
    "start_time": "2022-05-24T16:23:08.857Z"
   },
   {
    "duration": 9,
    "start_time": "2022-05-24T16:26:07.473Z"
   },
   {
    "duration": 8,
    "start_time": "2022-05-24T16:26:30.980Z"
   },
   {
    "duration": 1185,
    "start_time": "2022-05-24T16:27:14.850Z"
   },
   {
    "duration": 718,
    "start_time": "2022-05-24T16:27:16.037Z"
   },
   {
    "duration": 20,
    "start_time": "2022-05-24T16:27:16.757Z"
   },
   {
    "duration": 26,
    "start_time": "2022-05-24T16:27:16.779Z"
   },
   {
    "duration": 12,
    "start_time": "2022-05-24T16:27:16.806Z"
   },
   {
    "duration": 6,
    "start_time": "2022-05-24T16:27:16.819Z"
   },
   {
    "duration": 7,
    "start_time": "2022-05-24T16:27:16.826Z"
   },
   {
    "duration": 8,
    "start_time": "2022-05-24T16:27:16.834Z"
   },
   {
    "duration": 14,
    "start_time": "2022-05-24T16:27:16.843Z"
   },
   {
    "duration": 43,
    "start_time": "2022-05-24T16:27:16.859Z"
   },
   {
    "duration": 74,
    "start_time": "2022-05-24T16:27:16.904Z"
   },
   {
    "duration": 24,
    "start_time": "2022-05-24T16:27:16.980Z"
   },
   {
    "duration": 8,
    "start_time": "2022-05-24T16:27:17.005Z"
   },
   {
    "duration": 125,
    "start_time": "2022-05-24T16:27:17.014Z"
   },
   {
    "duration": 1125,
    "start_time": "2022-05-24T16:27:42.208Z"
   },
   {
    "duration": 701,
    "start_time": "2022-05-24T16:27:43.336Z"
   },
   {
    "duration": 18,
    "start_time": "2022-05-24T16:27:44.039Z"
   },
   {
    "duration": 15,
    "start_time": "2022-05-24T16:27:44.059Z"
   },
   {
    "duration": 27,
    "start_time": "2022-05-24T16:27:44.075Z"
   },
   {
    "duration": 6,
    "start_time": "2022-05-24T16:27:44.103Z"
   },
   {
    "duration": 5,
    "start_time": "2022-05-24T16:27:44.110Z"
   },
   {
    "duration": 7,
    "start_time": "2022-05-24T16:27:44.116Z"
   },
   {
    "duration": 16,
    "start_time": "2022-05-24T16:27:44.124Z"
   },
   {
    "duration": 12,
    "start_time": "2022-05-24T16:27:44.142Z"
   },
   {
    "duration": 111,
    "start_time": "2022-05-24T16:27:44.156Z"
   },
   {
    "duration": 26,
    "start_time": "2022-05-24T16:27:44.269Z"
   },
   {
    "duration": 14,
    "start_time": "2022-05-24T16:27:44.297Z"
   },
   {
    "duration": 16,
    "start_time": "2022-05-24T16:27:44.313Z"
   },
   {
    "duration": 18,
    "start_time": "2022-05-24T16:28:28.325Z"
   },
   {
    "duration": 124,
    "start_time": "2022-05-24T16:32:05.213Z"
   },
   {
    "duration": 80,
    "start_time": "2022-05-24T16:32:13.599Z"
   },
   {
    "duration": 20,
    "start_time": "2022-05-24T16:32:32.719Z"
   },
   {
    "duration": 83,
    "start_time": "2022-05-24T16:36:38.021Z"
   },
   {
    "duration": 413,
    "start_time": "2022-05-24T17:01:13.189Z"
   },
   {
    "duration": 598,
    "start_time": "2022-05-24T17:02:46.180Z"
   },
   {
    "duration": 1125,
    "start_time": "2022-05-24T17:05:47.652Z"
   },
   {
    "duration": 13,
    "start_time": "2022-05-24T17:08:45.840Z"
   },
   {
    "duration": 1173,
    "start_time": "2022-05-24T17:09:47.005Z"
   },
   {
    "duration": 1187,
    "start_time": "2022-05-24T17:13:23.511Z"
   },
   {
    "duration": 1107,
    "start_time": "2022-05-24T17:14:39.088Z"
   },
   {
    "duration": 25,
    "start_time": "2022-05-24T18:24:56.541Z"
   },
   {
    "duration": 1115,
    "start_time": "2022-05-24T18:25:04.539Z"
   },
   {
    "duration": 559,
    "start_time": "2022-05-24T18:26:49.913Z"
   },
   {
    "duration": 1128,
    "start_time": "2022-05-24T18:53:00.311Z"
   },
   {
    "duration": 1306,
    "start_time": "2022-05-24T18:53:50.826Z"
   },
   {
    "duration": 1293,
    "start_time": "2022-05-24T18:54:00.932Z"
   },
   {
    "duration": 1160,
    "start_time": "2022-05-24T18:54:11.539Z"
   },
   {
    "duration": 1273,
    "start_time": "2022-05-24T19:09:51.874Z"
   },
   {
    "duration": 1355,
    "start_time": "2022-05-24T19:13:01.599Z"
   },
   {
    "duration": 1478,
    "start_time": "2022-05-24T19:13:43.549Z"
   },
   {
    "duration": 4,
    "start_time": "2022-05-24T19:23:27.203Z"
   },
   {
    "duration": 460,
    "start_time": "2022-05-24T19:24:44.753Z"
   },
   {
    "duration": 5,
    "start_time": "2022-05-24T19:25:00.471Z"
   },
   {
    "duration": 225,
    "start_time": "2022-05-25T08:06:23.288Z"
   },
   {
    "duration": 550,
    "start_time": "2022-05-25T08:06:57.022Z"
   },
   {
    "duration": 246,
    "start_time": "2022-05-25T08:07:15.182Z"
   },
   {
    "duration": 238,
    "start_time": "2022-05-25T08:07:50.827Z"
   },
   {
    "duration": 326,
    "start_time": "2022-05-25T08:08:22.508Z"
   },
   {
    "duration": 5,
    "start_time": "2022-05-25T08:12:32.906Z"
   },
   {
    "duration": 4,
    "start_time": "2022-05-25T08:13:04.579Z"
   },
   {
    "duration": 5,
    "start_time": "2022-05-25T08:13:24.696Z"
   },
   {
    "duration": 6,
    "start_time": "2022-05-25T08:18:11.729Z"
   },
   {
    "duration": 6,
    "start_time": "2022-05-25T08:18:16.805Z"
   },
   {
    "duration": 6,
    "start_time": "2022-05-25T08:18:23.371Z"
   },
   {
    "duration": 1505,
    "start_time": "2022-05-25T08:54:48.087Z"
   },
   {
    "duration": 1371,
    "start_time": "2022-05-25T08:55:09.212Z"
   },
   {
    "duration": 647,
    "start_time": "2022-05-25T08:55:41.150Z"
   },
   {
    "duration": 380,
    "start_time": "2022-05-25T08:57:06.897Z"
   },
   {
    "duration": 963,
    "start_time": "2022-05-25T08:57:40.549Z"
   },
   {
    "duration": 818,
    "start_time": "2022-05-25T08:59:01.858Z"
   },
   {
    "duration": 13,
    "start_time": "2022-05-25T09:21:42.546Z"
   },
   {
    "duration": 1245,
    "start_time": "2022-05-25T09:21:55.734Z"
   },
   {
    "duration": 731,
    "start_time": "2022-05-25T09:21:56.981Z"
   },
   {
    "duration": 18,
    "start_time": "2022-05-25T09:21:57.714Z"
   },
   {
    "duration": 17,
    "start_time": "2022-05-25T09:21:57.734Z"
   },
   {
    "duration": 12,
    "start_time": "2022-05-25T09:21:57.752Z"
   },
   {
    "duration": 32,
    "start_time": "2022-05-25T09:21:57.766Z"
   },
   {
    "duration": 6,
    "start_time": "2022-05-25T09:21:57.800Z"
   },
   {
    "duration": 9,
    "start_time": "2022-05-25T09:21:57.808Z"
   },
   {
    "duration": 17,
    "start_time": "2022-05-25T09:21:57.819Z"
   },
   {
    "duration": 14,
    "start_time": "2022-05-25T09:21:57.838Z"
   },
   {
    "duration": 109,
    "start_time": "2022-05-25T09:21:57.854Z"
   },
   {
    "duration": 14,
    "start_time": "2022-05-25T09:21:57.965Z"
   },
   {
    "duration": 22,
    "start_time": "2022-05-25T09:21:57.981Z"
   },
   {
    "duration": 15,
    "start_time": "2022-05-25T09:21:58.004Z"
   },
   {
    "duration": 13,
    "start_time": "2022-05-25T09:21:58.021Z"
   },
   {
    "duration": 104,
    "start_time": "2022-05-25T09:21:58.036Z"
   },
   {
    "duration": 21,
    "start_time": "2022-05-25T09:21:58.142Z"
   },
   {
    "duration": 99,
    "start_time": "2022-05-25T09:21:58.165Z"
   },
   {
    "duration": 250,
    "start_time": "2022-05-25T09:21:58.266Z"
   },
   {
    "duration": 244,
    "start_time": "2022-05-25T09:21:58.518Z"
   },
   {
    "duration": 312,
    "start_time": "2022-05-25T09:21:58.763Z"
   },
   {
    "duration": 17,
    "start_time": "2022-05-25T09:21:59.077Z"
   },
   {
    "duration": 8,
    "start_time": "2022-05-25T09:21:59.096Z"
   },
   {
    "duration": 9,
    "start_time": "2022-05-25T09:21:59.108Z"
   },
   {
    "duration": 1021,
    "start_time": "2022-05-25T09:21:59.119Z"
   },
   {
    "duration": 148,
    "start_time": "2022-05-25T09:22:00.141Z"
   },
   {
    "duration": 351,
    "start_time": "2022-05-25T09:22:16.766Z"
   },
   {
    "duration": 10,
    "start_time": "2022-05-25T09:24:03.382Z"
   },
   {
    "duration": 17,
    "start_time": "2022-05-25T09:24:11.419Z"
   },
   {
    "duration": 10,
    "start_time": "2022-05-25T09:25:05.189Z"
   },
   {
    "duration": 14,
    "start_time": "2022-05-25T09:25:36.769Z"
   },
   {
    "duration": 15,
    "start_time": "2022-05-25T09:26:17.404Z"
   },
   {
    "duration": 505,
    "start_time": "2022-05-25T09:27:55.200Z"
   },
   {
    "duration": 124,
    "start_time": "2022-05-25T09:29:59.321Z"
   },
   {
    "duration": 623,
    "start_time": "2022-05-25T09:35:59.904Z"
   },
   {
    "duration": 11,
    "start_time": "2022-05-25T09:37:51.126Z"
   },
   {
    "duration": 288,
    "start_time": "2022-05-25T09:38:03.319Z"
   },
   {
    "duration": 441,
    "start_time": "2022-05-25T09:42:06.109Z"
   },
   {
    "duration": 375,
    "start_time": "2022-05-25T09:42:17.332Z"
   },
   {
    "duration": 472,
    "start_time": "2022-05-25T09:42:28.931Z"
   },
   {
    "duration": 395,
    "start_time": "2022-05-25T09:42:40.516Z"
   },
   {
    "duration": 517,
    "start_time": "2022-05-25T09:42:49.008Z"
   },
   {
    "duration": 505,
    "start_time": "2022-05-25T09:43:01.071Z"
   },
   {
    "duration": 365,
    "start_time": "2022-05-25T09:43:08.080Z"
   },
   {
    "duration": 530,
    "start_time": "2022-05-25T09:43:13.823Z"
   },
   {
    "duration": 359,
    "start_time": "2022-05-25T09:43:21.558Z"
   },
   {
    "duration": 374,
    "start_time": "2022-05-25T09:43:32.012Z"
   },
   {
    "duration": 396,
    "start_time": "2022-05-25T09:43:39.212Z"
   },
   {
    "duration": 542,
    "start_time": "2022-05-25T09:43:46.209Z"
   },
   {
    "duration": 318,
    "start_time": "2022-05-25T09:43:59.131Z"
   },
   {
    "duration": 341,
    "start_time": "2022-05-25T09:45:11.795Z"
   },
   {
    "duration": 385,
    "start_time": "2022-05-25T09:45:51.398Z"
   },
   {
    "duration": 370,
    "start_time": "2022-05-25T09:46:23.597Z"
   },
   {
    "duration": 516,
    "start_time": "2022-05-25T09:48:27.800Z"
   },
   {
    "duration": 328,
    "start_time": "2022-05-25T09:50:21.207Z"
   },
   {
    "duration": 344,
    "start_time": "2022-05-25T09:50:37.757Z"
   },
   {
    "duration": 297,
    "start_time": "2022-05-25T09:50:51.444Z"
   },
   {
    "duration": 23,
    "start_time": "2022-05-25T10:10:48.190Z"
   },
   {
    "duration": 14,
    "start_time": "2022-05-25T10:10:57.524Z"
   },
   {
    "duration": 76,
    "start_time": "2022-05-25T10:10:58.304Z"
   },
   {
    "duration": 17,
    "start_time": "2022-05-25T10:11:15.625Z"
   },
   {
    "duration": 82,
    "start_time": "2022-05-25T10:11:19.395Z"
   },
   {
    "duration": 1277,
    "start_time": "2022-05-25T10:11:52.919Z"
   },
   {
    "duration": 659,
    "start_time": "2022-05-25T10:11:54.198Z"
   },
   {
    "duration": 18,
    "start_time": "2022-05-25T10:11:54.859Z"
   },
   {
    "duration": 25,
    "start_time": "2022-05-25T10:11:54.879Z"
   },
   {
    "duration": 12,
    "start_time": "2022-05-25T10:11:54.906Z"
   },
   {
    "duration": 6,
    "start_time": "2022-05-25T10:11:54.919Z"
   },
   {
    "duration": 5,
    "start_time": "2022-05-25T10:11:54.926Z"
   },
   {
    "duration": 7,
    "start_time": "2022-05-25T10:11:54.932Z"
   },
   {
    "duration": 15,
    "start_time": "2022-05-25T10:11:54.940Z"
   },
   {
    "duration": 38,
    "start_time": "2022-05-25T10:11:54.957Z"
   },
   {
    "duration": 74,
    "start_time": "2022-05-25T10:11:54.997Z"
   },
   {
    "duration": 28,
    "start_time": "2022-05-25T10:11:55.074Z"
   },
   {
    "duration": 18,
    "start_time": "2022-05-25T10:11:55.103Z"
   },
   {
    "duration": 12,
    "start_time": "2022-05-25T10:11:55.123Z"
   },
   {
    "duration": 12,
    "start_time": "2022-05-25T10:11:55.137Z"
   },
   {
    "duration": 45,
    "start_time": "2022-05-25T10:11:55.150Z"
   },
   {
    "duration": 71,
    "start_time": "2022-05-25T10:11:55.197Z"
   },
   {
    "duration": 37,
    "start_time": "2022-05-25T10:11:55.270Z"
   },
   {
    "duration": 95,
    "start_time": "2022-05-25T10:11:55.308Z"
   },
   {
    "duration": 249,
    "start_time": "2022-05-25T10:11:55.404Z"
   },
   {
    "duration": 245,
    "start_time": "2022-05-25T10:11:55.655Z"
   },
   {
    "duration": 241,
    "start_time": "2022-05-25T10:11:55.901Z"
   },
   {
    "duration": 5,
    "start_time": "2022-05-25T10:11:56.144Z"
   },
   {
    "duration": 7,
    "start_time": "2022-05-25T10:11:56.150Z"
   },
   {
    "duration": 6,
    "start_time": "2022-05-25T10:11:56.159Z"
   },
   {
    "duration": 305,
    "start_time": "2022-05-25T10:11:56.166Z"
   },
   {
    "duration": 402,
    "start_time": "2022-05-25T10:12:21.160Z"
   },
   {
    "duration": 558,
    "start_time": "2022-05-25T10:12:36.273Z"
   },
   {
    "duration": 624,
    "start_time": "2022-05-25T10:12:48.739Z"
   },
   {
    "duration": 9,
    "start_time": "2022-05-25T10:28:30.596Z"
   },
   {
    "duration": 18,
    "start_time": "2022-05-25T10:32:06.602Z"
   },
   {
    "duration": 18,
    "start_time": "2022-05-25T11:10:49.065Z"
   },
   {
    "duration": 125,
    "start_time": "2022-05-25T11:12:05.958Z"
   },
   {
    "duration": 17,
    "start_time": "2022-05-25T11:14:02.432Z"
   },
   {
    "duration": 20,
    "start_time": "2022-05-25T11:14:36.332Z"
   },
   {
    "duration": 14,
    "start_time": "2022-05-25T11:18:47.043Z"
   },
   {
    "duration": 24,
    "start_time": "2022-05-25T11:18:48.986Z"
   },
   {
    "duration": 433,
    "start_time": "2022-05-25T11:21:50.504Z"
   },
   {
    "duration": 418,
    "start_time": "2022-05-25T11:22:10.264Z"
   },
   {
    "duration": 525,
    "start_time": "2022-05-25T11:22:19.655Z"
   },
   {
    "duration": 324,
    "start_time": "2022-05-25T11:22:37.053Z"
   },
   {
    "duration": 331,
    "start_time": "2022-05-25T12:46:26.394Z"
   },
   {
    "duration": 367,
    "start_time": "2022-05-25T12:46:38.620Z"
   },
   {
    "duration": 389,
    "start_time": "2022-05-25T12:46:47.890Z"
   },
   {
    "duration": 346,
    "start_time": "2022-05-25T12:46:54.800Z"
   },
   {
    "duration": 138,
    "start_time": "2022-05-26T08:59:01.242Z"
   },
   {
    "duration": 1430,
    "start_time": "2022-05-26T08:59:13.917Z"
   },
   {
    "duration": 939,
    "start_time": "2022-05-26T08:59:15.349Z"
   },
   {
    "duration": 32,
    "start_time": "2022-05-26T08:59:16.291Z"
   },
   {
    "duration": 60,
    "start_time": "2022-05-26T08:59:16.326Z"
   },
   {
    "duration": 20,
    "start_time": "2022-05-26T08:59:16.389Z"
   },
   {
    "duration": 40,
    "start_time": "2022-05-26T08:59:16.412Z"
   },
   {
    "duration": 6,
    "start_time": "2022-05-26T08:59:16.454Z"
   },
   {
    "duration": 6,
    "start_time": "2022-05-26T08:59:16.462Z"
   },
   {
    "duration": 15,
    "start_time": "2022-05-26T08:59:16.470Z"
   },
   {
    "duration": 23,
    "start_time": "2022-05-26T08:59:16.486Z"
   },
   {
    "duration": 98,
    "start_time": "2022-05-26T08:59:16.510Z"
   },
   {
    "duration": 23,
    "start_time": "2022-05-26T08:59:16.615Z"
   },
   {
    "duration": 25,
    "start_time": "2022-05-26T08:59:16.642Z"
   },
   {
    "duration": 14,
    "start_time": "2022-05-26T08:59:16.670Z"
   },
   {
    "duration": 41,
    "start_time": "2022-05-26T08:59:16.686Z"
   },
   {
    "duration": 31,
    "start_time": "2022-05-26T08:59:16.734Z"
   },
   {
    "duration": 91,
    "start_time": "2022-05-26T08:59:16.767Z"
   },
   {
    "duration": 54,
    "start_time": "2022-05-26T08:59:16.860Z"
   },
   {
    "duration": 126,
    "start_time": "2022-05-26T08:59:16.924Z"
   },
   {
    "duration": 343,
    "start_time": "2022-05-26T08:59:17.053Z"
   },
   {
    "duration": 354,
    "start_time": "2022-05-26T08:59:17.398Z"
   },
   {
    "duration": 301,
    "start_time": "2022-05-26T08:59:17.754Z"
   },
   {
    "duration": 6,
    "start_time": "2022-05-26T08:59:18.057Z"
   },
   {
    "duration": 7,
    "start_time": "2022-05-26T08:59:18.065Z"
   },
   {
    "duration": 31,
    "start_time": "2022-05-26T08:59:18.074Z"
   },
   {
    "duration": 702,
    "start_time": "2022-05-26T08:59:18.109Z"
   },
   {
    "duration": 20,
    "start_time": "2022-05-26T08:59:18.819Z"
   },
   {
    "duration": 26,
    "start_time": "2022-05-26T08:59:18.841Z"
   },
   {
    "duration": 14,
    "start_time": "2022-05-26T08:59:18.869Z"
   },
   {
    "duration": 21,
    "start_time": "2022-05-26T08:59:18.885Z"
   },
   {
    "duration": 30,
    "start_time": "2022-05-26T08:59:18.913Z"
   },
   {
    "duration": 523,
    "start_time": "2022-05-26T08:59:18.945Z"
   },
   {
    "duration": 3,
    "start_time": "2022-05-26T08:59:19.470Z"
   },
   {
    "duration": 7,
    "start_time": "2022-05-26T08:59:19.475Z"
   },
   {
    "duration": 26,
    "start_time": "2022-05-26T08:59:19.483Z"
   },
   {
    "duration": 20,
    "start_time": "2022-05-26T08:59:19.520Z"
   },
   {
    "duration": 138,
    "start_time": "2022-05-26T08:59:19.543Z"
   },
   {
    "duration": 5,
    "start_time": "2022-05-26T08:59:56.858Z"
   },
   {
    "duration": 15,
    "start_time": "2022-05-26T08:59:57.450Z"
   },
   {
    "duration": 15,
    "start_time": "2022-05-26T09:00:04.937Z"
   },
   {
    "duration": 10,
    "start_time": "2022-05-26T09:20:04.361Z"
   },
   {
    "duration": 10,
    "start_time": "2022-05-26T09:20:29.556Z"
   },
   {
    "duration": 8,
    "start_time": "2022-05-26T09:22:54.785Z"
   },
   {
    "duration": 6,
    "start_time": "2022-05-26T09:24:47.285Z"
   },
   {
    "duration": 155,
    "start_time": "2022-05-26T09:48:22.166Z"
   },
   {
    "duration": 4,
    "start_time": "2022-05-26T13:53:50.409Z"
   },
   {
    "duration": 3,
    "start_time": "2022-05-26T13:53:53.886Z"
   },
   {
    "duration": 12,
    "start_time": "2022-05-26T13:53:54.516Z"
   },
   {
    "duration": 4,
    "start_time": "2022-05-26T13:53:55.068Z"
   },
   {
    "duration": 14,
    "start_time": "2022-05-26T13:53:57.063Z"
   },
   {
    "duration": 26,
    "start_time": "2022-05-26T13:54:08.845Z"
   },
   {
    "duration": 4,
    "start_time": "2022-05-26T13:55:21.264Z"
   },
   {
    "duration": 12,
    "start_time": "2022-05-26T13:55:22.719Z"
   },
   {
    "duration": 6,
    "start_time": "2022-05-26T13:55:24.648Z"
   },
   {
    "duration": 39891,
    "start_time": "2022-05-26T13:55:29.364Z"
   },
   {
    "duration": 158,
    "start_time": "2022-05-26T14:32:01.770Z"
   },
   {
    "duration": 32779,
    "start_time": "2022-05-26T14:32:21.455Z"
   },
   {
    "duration": 1392,
    "start_time": "2022-05-26T15:01:03.203Z"
   },
   {
    "duration": 3972,
    "start_time": "2022-05-26T15:01:04.597Z"
   },
   {
    "duration": 25,
    "start_time": "2022-05-26T15:01:08.571Z"
   },
   {
    "duration": 19,
    "start_time": "2022-05-26T15:01:08.598Z"
   },
   {
    "duration": 22,
    "start_time": "2022-05-26T15:01:08.619Z"
   },
   {
    "duration": 30,
    "start_time": "2022-05-26T15:01:08.643Z"
   },
   {
    "duration": 9,
    "start_time": "2022-05-26T15:01:08.674Z"
   },
   {
    "duration": 9,
    "start_time": "2022-05-26T15:01:08.684Z"
   },
   {
    "duration": 15,
    "start_time": "2022-05-26T15:01:08.695Z"
   },
   {
    "duration": 26,
    "start_time": "2022-05-26T15:01:08.712Z"
   },
   {
    "duration": 86,
    "start_time": "2022-05-26T15:01:08.743Z"
   },
   {
    "duration": 23,
    "start_time": "2022-05-26T15:01:08.831Z"
   },
   {
    "duration": 26,
    "start_time": "2022-05-26T15:01:08.856Z"
   },
   {
    "duration": 20,
    "start_time": "2022-05-26T15:01:08.886Z"
   },
   {
    "duration": 37,
    "start_time": "2022-05-26T15:01:08.907Z"
   },
   {
    "duration": 40,
    "start_time": "2022-05-26T15:01:08.945Z"
   },
   {
    "duration": 89,
    "start_time": "2022-05-26T15:01:08.987Z"
   },
   {
    "duration": 26,
    "start_time": "2022-05-26T15:01:09.078Z"
   },
   {
    "duration": 152,
    "start_time": "2022-05-26T15:01:09.106Z"
   },
   {
    "duration": 301,
    "start_time": "2022-05-26T15:01:09.259Z"
   },
   {
    "duration": 298,
    "start_time": "2022-05-26T15:01:09.561Z"
   },
   {
    "duration": 269,
    "start_time": "2022-05-26T15:01:09.861Z"
   },
   {
    "duration": 9,
    "start_time": "2022-05-26T15:01:10.132Z"
   },
   {
    "duration": 43,
    "start_time": "2022-05-26T15:01:10.143Z"
   },
   {
    "duration": 16,
    "start_time": "2022-05-26T15:01:10.188Z"
   },
   {
    "duration": 590,
    "start_time": "2022-05-26T15:01:10.206Z"
   },
   {
    "duration": 5,
    "start_time": "2022-05-26T15:01:10.798Z"
   },
   {
    "duration": 29,
    "start_time": "2022-05-26T15:01:10.805Z"
   },
   {
    "duration": 20,
    "start_time": "2022-05-26T15:01:10.836Z"
   },
   {
    "duration": 14,
    "start_time": "2022-05-26T15:01:10.858Z"
   },
   {
    "duration": 18,
    "start_time": "2022-05-26T15:01:10.873Z"
   },
   {
    "duration": 498,
    "start_time": "2022-05-26T15:01:10.893Z"
   },
   {
    "duration": 3,
    "start_time": "2022-05-26T15:01:11.393Z"
   },
   {
    "duration": 8,
    "start_time": "2022-05-26T15:01:11.397Z"
   },
   {
    "duration": 8,
    "start_time": "2022-05-26T15:01:11.406Z"
   },
   {
    "duration": 37,
    "start_time": "2022-05-26T15:01:11.416Z"
   },
   {
    "duration": 9,
    "start_time": "2022-05-26T15:01:11.455Z"
   },
   {
    "duration": 11,
    "start_time": "2022-05-26T15:01:11.466Z"
   },
   {
    "duration": 3,
    "start_time": "2022-05-26T15:01:11.479Z"
   },
   {
    "duration": 149,
    "start_time": "2022-05-26T15:01:11.483Z"
   },
   {
    "duration": 0,
    "start_time": "2022-05-26T15:01:11.634Z"
   },
   {
    "duration": 0,
    "start_time": "2022-05-26T15:01:11.636Z"
   },
   {
    "duration": 0,
    "start_time": "2022-05-26T15:01:11.637Z"
   },
   {
    "duration": 0,
    "start_time": "2022-05-26T15:01:11.638Z"
   },
   {
    "duration": 0,
    "start_time": "2022-05-26T15:01:11.639Z"
   },
   {
    "duration": 0,
    "start_time": "2022-05-26T15:01:11.640Z"
   },
   {
    "duration": 0,
    "start_time": "2022-05-26T15:01:11.642Z"
   },
   {
    "duration": 4,
    "start_time": "2022-05-26T15:02:58.420Z"
   },
   {
    "duration": 8,
    "start_time": "2022-05-26T15:02:59.251Z"
   },
   {
    "duration": 7,
    "start_time": "2022-05-26T15:02:59.949Z"
   },
   {
    "duration": 16,
    "start_time": "2022-05-26T15:03:02.378Z"
   },
   {
    "duration": 28575,
    "start_time": "2022-05-26T15:03:04.674Z"
   },
   {
    "duration": 10,
    "start_time": "2022-05-26T15:06:48.570Z"
   },
   {
    "duration": 1549,
    "start_time": "2022-05-26T15:08:04.890Z"
   },
   {
    "duration": 864,
    "start_time": "2022-05-26T15:08:06.451Z"
   },
   {
    "duration": 30,
    "start_time": "2022-05-26T15:08:07.317Z"
   },
   {
    "duration": 38,
    "start_time": "2022-05-26T15:08:07.349Z"
   },
   {
    "duration": 21,
    "start_time": "2022-05-26T15:08:07.390Z"
   },
   {
    "duration": 15,
    "start_time": "2022-05-26T15:08:07.413Z"
   },
   {
    "duration": 21,
    "start_time": "2022-05-26T15:08:07.429Z"
   },
   {
    "duration": 18,
    "start_time": "2022-05-26T15:08:07.452Z"
   },
   {
    "duration": 18,
    "start_time": "2022-05-26T15:08:07.472Z"
   },
   {
    "duration": 14,
    "start_time": "2022-05-26T15:08:07.492Z"
   },
   {
    "duration": 99,
    "start_time": "2022-05-26T15:08:07.507Z"
   },
   {
    "duration": 16,
    "start_time": "2022-05-26T15:08:07.608Z"
   },
   {
    "duration": 28,
    "start_time": "2022-05-26T15:08:07.626Z"
   },
   {
    "duration": 30,
    "start_time": "2022-05-26T15:08:07.656Z"
   },
   {
    "duration": 13,
    "start_time": "2022-05-26T15:08:07.688Z"
   },
   {
    "duration": 39,
    "start_time": "2022-05-26T15:08:07.703Z"
   },
   {
    "duration": 107,
    "start_time": "2022-05-26T15:08:07.744Z"
   },
   {
    "duration": 37,
    "start_time": "2022-05-26T15:08:07.853Z"
   },
   {
    "duration": 117,
    "start_time": "2022-05-26T15:08:07.899Z"
   },
   {
    "duration": 355,
    "start_time": "2022-05-26T15:08:08.017Z"
   },
   {
    "duration": 322,
    "start_time": "2022-05-26T15:08:08.374Z"
   },
   {
    "duration": 408,
    "start_time": "2022-05-26T15:08:08.699Z"
   },
   {
    "duration": 7,
    "start_time": "2022-05-26T15:08:09.109Z"
   },
   {
    "duration": 37,
    "start_time": "2022-05-26T15:08:09.122Z"
   },
   {
    "duration": 7,
    "start_time": "2022-05-26T15:08:09.161Z"
   },
   {
    "duration": 634,
    "start_time": "2022-05-26T15:08:09.170Z"
   },
   {
    "duration": 5,
    "start_time": "2022-05-26T15:08:09.807Z"
   },
   {
    "duration": 62,
    "start_time": "2022-05-26T15:08:09.817Z"
   },
   {
    "duration": 18,
    "start_time": "2022-05-26T15:08:09.882Z"
   },
   {
    "duration": 25,
    "start_time": "2022-05-26T15:08:09.902Z"
   },
   {
    "duration": 26,
    "start_time": "2022-05-26T15:08:09.929Z"
   },
   {
    "duration": 533,
    "start_time": "2022-05-26T15:08:09.957Z"
   },
   {
    "duration": 4,
    "start_time": "2022-05-26T15:08:10.492Z"
   },
   {
    "duration": 8,
    "start_time": "2022-05-26T15:08:10.497Z"
   },
   {
    "duration": 10,
    "start_time": "2022-05-26T15:08:10.506Z"
   },
   {
    "duration": 42,
    "start_time": "2022-05-26T15:08:10.518Z"
   },
   {
    "duration": 8,
    "start_time": "2022-05-26T15:08:10.562Z"
   },
   {
    "duration": 14,
    "start_time": "2022-05-26T15:08:10.572Z"
   },
   {
    "duration": 3,
    "start_time": "2022-05-26T15:08:10.588Z"
   },
   {
    "duration": 11,
    "start_time": "2022-05-26T15:08:10.594Z"
   },
   {
    "duration": 21,
    "start_time": "2022-05-26T15:08:10.607Z"
   },
   {
    "duration": 114,
    "start_time": "2022-05-26T15:08:10.630Z"
   },
   {
    "duration": 28698,
    "start_time": "2022-05-26T15:08:10.753Z"
   },
   {
    "duration": 6,
    "start_time": "2022-05-26T15:08:39.458Z"
   },
   {
    "duration": 18005,
    "start_time": "2022-05-26T15:08:39.472Z"
   },
   {
    "duration": 156,
    "start_time": "2022-05-26T15:08:57.479Z"
   },
   {
    "duration": 5,
    "start_time": "2022-05-26T15:12:24.308Z"
   },
   {
    "duration": 15,
    "start_time": "2022-05-26T15:16:26.547Z"
   },
   {
    "duration": 54,
    "start_time": "2022-05-26T15:17:28.235Z"
   },
   {
    "duration": 57,
    "start_time": "2022-05-26T15:17:54.912Z"
   },
   {
    "duration": 2536979,
    "start_time": "2022-05-26T15:31:56.757Z"
   },
   {
    "duration": 28323,
    "start_time": "2022-05-26T16:16:38.657Z"
   },
   {
    "duration": 9,
    "start_time": "2022-05-26T16:17:15.497Z"
   },
   {
    "duration": 11,
    "start_time": "2022-05-26T16:18:43.961Z"
   },
   {
    "duration": 34745,
    "start_time": "2022-05-26T16:20:57.833Z"
   },
   {
    "duration": 12,
    "start_time": "2022-05-26T16:22:14.854Z"
   },
   {
    "duration": 100698,
    "start_time": "2022-05-26T16:31:31.651Z"
   },
   {
    "duration": 15,
    "start_time": "2022-05-26T16:36:15.944Z"
   },
   {
    "duration": 12,
    "start_time": "2022-05-26T16:37:02.597Z"
   },
   {
    "duration": 15081,
    "start_time": "2022-05-26T16:49:26.287Z"
   },
   {
    "duration": 10,
    "start_time": "2022-05-26T16:49:48.226Z"
   },
   {
    "duration": 1363,
    "start_time": "2022-05-26T16:50:02.754Z"
   },
   {
    "duration": 666,
    "start_time": "2022-05-26T16:50:04.119Z"
   },
   {
    "duration": 17,
    "start_time": "2022-05-26T16:50:04.787Z"
   },
   {
    "duration": 24,
    "start_time": "2022-05-26T16:50:04.806Z"
   },
   {
    "duration": 11,
    "start_time": "2022-05-26T16:50:04.832Z"
   },
   {
    "duration": 6,
    "start_time": "2022-05-26T16:50:04.844Z"
   },
   {
    "duration": 10,
    "start_time": "2022-05-26T16:50:04.851Z"
   },
   {
    "duration": 20,
    "start_time": "2022-05-26T16:50:04.862Z"
   },
   {
    "duration": 18,
    "start_time": "2022-05-26T16:50:04.884Z"
   },
   {
    "duration": 31,
    "start_time": "2022-05-26T16:50:04.904Z"
   },
   {
    "duration": 71,
    "start_time": "2022-05-26T16:50:04.937Z"
   },
   {
    "duration": 14,
    "start_time": "2022-05-26T16:50:05.022Z"
   },
   {
    "duration": 19,
    "start_time": "2022-05-26T16:50:05.038Z"
   },
   {
    "duration": 13,
    "start_time": "2022-05-26T16:50:05.059Z"
   },
   {
    "duration": 12,
    "start_time": "2022-05-26T16:50:05.074Z"
   },
   {
    "duration": 51,
    "start_time": "2022-05-26T16:50:05.087Z"
   },
   {
    "duration": 84,
    "start_time": "2022-05-26T16:50:05.139Z"
   },
   {
    "duration": 23,
    "start_time": "2022-05-26T16:50:05.224Z"
   },
   {
    "duration": 107,
    "start_time": "2022-05-26T16:50:05.249Z"
   },
   {
    "duration": 278,
    "start_time": "2022-05-26T16:50:05.358Z"
   },
   {
    "duration": 253,
    "start_time": "2022-05-26T16:50:05.637Z"
   },
   {
    "duration": 241,
    "start_time": "2022-05-26T16:50:05.892Z"
   },
   {
    "duration": 6,
    "start_time": "2022-05-26T16:50:06.135Z"
   },
   {
    "duration": 7,
    "start_time": "2022-05-26T16:50:06.142Z"
   },
   {
    "duration": 9,
    "start_time": "2022-05-26T16:50:06.151Z"
   },
   {
    "duration": 587,
    "start_time": "2022-05-26T16:50:06.162Z"
   },
   {
    "duration": 6,
    "start_time": "2022-05-26T16:50:06.750Z"
   },
   {
    "duration": 21,
    "start_time": "2022-05-26T16:50:06.759Z"
   },
   {
    "duration": 14,
    "start_time": "2022-05-26T16:50:06.782Z"
   },
   {
    "duration": 34,
    "start_time": "2022-05-26T16:50:06.797Z"
   },
   {
    "duration": 16,
    "start_time": "2022-05-26T16:50:06.833Z"
   },
   {
    "duration": 462,
    "start_time": "2022-05-26T16:50:06.851Z"
   },
   {
    "duration": 9,
    "start_time": "2022-05-26T16:50:07.315Z"
   },
   {
    "duration": 8,
    "start_time": "2022-05-26T16:50:07.326Z"
   },
   {
    "duration": 7,
    "start_time": "2022-05-26T16:50:07.336Z"
   },
   {
    "duration": 7,
    "start_time": "2022-05-26T16:50:07.345Z"
   },
   {
    "duration": 12,
    "start_time": "2022-05-26T16:50:07.354Z"
   },
   {
    "duration": 13,
    "start_time": "2022-05-26T16:50:07.368Z"
   },
   {
    "duration": 4,
    "start_time": "2022-05-26T16:50:07.383Z"
   },
   {
    "duration": 13,
    "start_time": "2022-05-26T16:50:07.389Z"
   },
   {
    "duration": 24,
    "start_time": "2022-05-26T16:50:07.404Z"
   },
   {
    "duration": 206,
    "start_time": "2022-05-26T16:50:07.430Z"
   },
   {
    "duration": 23285,
    "start_time": "2022-05-26T16:50:07.639Z"
   },
   {
    "duration": 3,
    "start_time": "2022-05-26T16:50:30.926Z"
   },
   {
    "duration": 15430,
    "start_time": "2022-05-26T16:50:30.931Z"
   },
   {
    "duration": 115,
    "start_time": "2022-05-26T16:50:46.363Z"
   },
   {
    "duration": 0,
    "start_time": "2022-05-26T16:50:46.480Z"
   },
   {
    "duration": 0,
    "start_time": "2022-05-26T16:50:46.481Z"
   },
   {
    "duration": 0,
    "start_time": "2022-05-26T16:50:46.482Z"
   },
   {
    "duration": 0,
    "start_time": "2022-05-26T16:50:46.483Z"
   },
   {
    "duration": 4,
    "start_time": "2022-05-26T16:52:56.592Z"
   },
   {
    "duration": 11,
    "start_time": "2022-05-26T16:53:05.696Z"
   },
   {
    "duration": 99547,
    "start_time": "2022-05-26T16:53:12.575Z"
   },
   {
    "duration": 5,
    "start_time": "2022-05-26T16:55:00.260Z"
   },
   {
    "duration": 57,
    "start_time": "2022-05-26T16:55:24.349Z"
   },
   {
    "duration": 59,
    "start_time": "2022-05-26T17:01:23.868Z"
   },
   {
    "duration": 54,
    "start_time": "2022-05-26T17:04:32.122Z"
   },
   {
    "duration": 58,
    "start_time": "2022-05-26T17:04:41.785Z"
   },
   {
    "duration": 62,
    "start_time": "2022-05-26T17:05:05.842Z"
   },
   {
    "duration": 61,
    "start_time": "2022-05-26T17:05:29.086Z"
   },
   {
    "duration": 61,
    "start_time": "2022-05-26T17:06:03.945Z"
   },
   {
    "duration": 1264,
    "start_time": "2022-05-26T17:06:40.975Z"
   },
   {
    "duration": 771,
    "start_time": "2022-05-26T17:06:42.241Z"
   },
   {
    "duration": 19,
    "start_time": "2022-05-26T17:06:43.013Z"
   },
   {
    "duration": 16,
    "start_time": "2022-05-26T17:06:43.033Z"
   },
   {
    "duration": 12,
    "start_time": "2022-05-26T17:06:43.050Z"
   },
   {
    "duration": 9,
    "start_time": "2022-05-26T17:06:43.063Z"
   },
   {
    "duration": 9,
    "start_time": "2022-05-26T17:06:43.073Z"
   },
   {
    "duration": 11,
    "start_time": "2022-05-26T17:06:43.083Z"
   },
   {
    "duration": 33,
    "start_time": "2022-05-26T17:06:43.096Z"
   },
   {
    "duration": 14,
    "start_time": "2022-05-26T17:06:43.131Z"
   },
   {
    "duration": 84,
    "start_time": "2022-05-26T17:06:43.146Z"
   },
   {
    "duration": 15,
    "start_time": "2022-05-26T17:06:43.231Z"
   },
   {
    "duration": 19,
    "start_time": "2022-05-26T17:06:43.248Z"
   },
   {
    "duration": 13,
    "start_time": "2022-05-26T17:06:43.269Z"
   },
   {
    "duration": 39,
    "start_time": "2022-05-26T17:06:43.284Z"
   },
   {
    "duration": 16,
    "start_time": "2022-05-26T17:06:43.325Z"
   },
   {
    "duration": 88,
    "start_time": "2022-05-26T17:06:43.343Z"
   },
   {
    "duration": 20,
    "start_time": "2022-05-26T17:06:43.433Z"
   },
   {
    "duration": 93,
    "start_time": "2022-05-26T17:06:43.454Z"
   },
   {
    "duration": 236,
    "start_time": "2022-05-26T17:06:43.549Z"
   },
   {
    "duration": 241,
    "start_time": "2022-05-26T17:06:43.787Z"
   },
   {
    "duration": 233,
    "start_time": "2022-05-26T17:06:44.030Z"
   },
   {
    "duration": 6,
    "start_time": "2022-05-26T17:06:44.265Z"
   },
   {
    "duration": 7,
    "start_time": "2022-05-26T17:06:44.272Z"
   },
   {
    "duration": 7,
    "start_time": "2022-05-26T17:06:44.281Z"
   },
   {
    "duration": 544,
    "start_time": "2022-05-26T17:06:44.290Z"
   },
   {
    "duration": 6,
    "start_time": "2022-05-26T17:06:44.836Z"
   },
   {
    "duration": 21,
    "start_time": "2022-05-26T17:06:44.845Z"
   },
   {
    "duration": 14,
    "start_time": "2022-05-26T17:06:44.868Z"
   },
   {
    "duration": 15,
    "start_time": "2022-05-26T17:06:44.884Z"
   },
   {
    "duration": 40,
    "start_time": "2022-05-26T17:06:44.900Z"
   },
   {
    "duration": 437,
    "start_time": "2022-05-26T17:06:44.941Z"
   },
   {
    "duration": 3,
    "start_time": "2022-05-26T17:06:45.379Z"
   },
   {
    "duration": 10,
    "start_time": "2022-05-26T17:06:45.383Z"
   },
   {
    "duration": 6,
    "start_time": "2022-05-26T17:06:45.394Z"
   },
   {
    "duration": 7,
    "start_time": "2022-05-26T17:06:45.401Z"
   },
   {
    "duration": 13,
    "start_time": "2022-05-26T17:06:45.410Z"
   },
   {
    "duration": 10,
    "start_time": "2022-05-26T17:06:45.424Z"
   },
   {
    "duration": 2,
    "start_time": "2022-05-26T17:06:45.436Z"
   },
   {
    "duration": 8,
    "start_time": "2022-05-26T17:06:45.440Z"
   },
   {
    "duration": 4,
    "start_time": "2022-05-26T17:06:45.449Z"
   },
   {
    "duration": 78,
    "start_time": "2022-05-26T17:06:45.454Z"
   },
   {
    "duration": 21900,
    "start_time": "2022-05-26T17:06:45.625Z"
   },
   {
    "duration": 4,
    "start_time": "2022-05-26T17:07:07.527Z"
   },
   {
    "duration": 15242,
    "start_time": "2022-05-26T17:07:07.533Z"
   },
   {
    "duration": 5,
    "start_time": "2022-05-26T17:07:22.777Z"
   },
   {
    "duration": 59,
    "start_time": "2022-05-26T17:07:22.783Z"
   },
   {
    "duration": 95334,
    "start_time": "2022-05-26T17:07:22.844Z"
   },
   {
    "duration": 4,
    "start_time": "2022-05-26T17:08:58.180Z"
   },
   {
    "duration": 128,
    "start_time": "2022-05-26T17:08:58.185Z"
   },
   {
    "duration": 472,
    "start_time": "2022-05-26T17:09:46.501Z"
   },
   {
    "duration": 887,
    "start_time": "2022-05-26T17:55:02.543Z"
   },
   {
    "duration": 822,
    "start_time": "2022-05-26T17:56:31.914Z"
   },
   {
    "duration": 218,
    "start_time": "2022-05-26T17:57:18.440Z"
   },
   {
    "duration": 2554,
    "start_time": "2022-05-26T17:58:52.505Z"
   },
   {
    "duration": 1056,
    "start_time": "2022-05-26T18:10:08.576Z"
   },
   {
    "duration": 226,
    "start_time": "2022-05-26T18:10:14.407Z"
   },
   {
    "duration": 3053,
    "start_time": "2022-05-26T18:10:15.900Z"
   },
   {
    "duration": 904,
    "start_time": "2022-05-26T18:11:15.753Z"
   },
   {
    "duration": 224,
    "start_time": "2022-05-26T18:11:17.649Z"
   },
   {
    "duration": 2649,
    "start_time": "2022-05-26T18:11:19.340Z"
   },
   {
    "duration": 10,
    "start_time": "2022-05-26T18:11:59.337Z"
   },
   {
    "duration": 4,
    "start_time": "2022-05-26T18:17:04.651Z"
   },
   {
    "duration": 24,
    "start_time": "2022-05-26T18:33:29.952Z"
   },
   {
    "duration": 104,
    "start_time": "2022-05-26T18:53:45.516Z"
   },
   {
    "duration": 1411,
    "start_time": "2022-05-26T18:53:53.314Z"
   },
   {
    "duration": 770,
    "start_time": "2022-05-26T18:53:54.729Z"
   },
   {
    "duration": 18,
    "start_time": "2022-05-26T18:53:55.500Z"
   },
   {
    "duration": 24,
    "start_time": "2022-05-26T18:53:55.520Z"
   },
   {
    "duration": 14,
    "start_time": "2022-05-26T18:53:55.546Z"
   },
   {
    "duration": 7,
    "start_time": "2022-05-26T18:53:55.561Z"
   },
   {
    "duration": 5,
    "start_time": "2022-05-26T18:53:55.570Z"
   },
   {
    "duration": 7,
    "start_time": "2022-05-26T18:53:55.576Z"
   },
   {
    "duration": 49,
    "start_time": "2022-05-26T18:53:55.584Z"
   },
   {
    "duration": 15,
    "start_time": "2022-05-26T18:53:55.637Z"
   },
   {
    "duration": 90,
    "start_time": "2022-05-26T18:53:55.654Z"
   },
   {
    "duration": 15,
    "start_time": "2022-05-26T18:53:55.746Z"
   },
   {
    "duration": 19,
    "start_time": "2022-05-26T18:53:55.763Z"
   },
   {
    "duration": 16,
    "start_time": "2022-05-26T18:53:55.784Z"
   },
   {
    "duration": 61,
    "start_time": "2022-05-26T18:53:55.801Z"
   },
   {
    "duration": 17,
    "start_time": "2022-05-26T18:53:55.864Z"
   },
   {
    "duration": 98,
    "start_time": "2022-05-26T18:53:55.883Z"
   },
   {
    "duration": 29,
    "start_time": "2022-05-26T18:53:55.984Z"
   },
   {
    "duration": 131,
    "start_time": "2022-05-26T18:53:56.026Z"
   },
   {
    "duration": 349,
    "start_time": "2022-05-26T18:53:56.159Z"
   },
   {
    "duration": 292,
    "start_time": "2022-05-26T18:53:56.510Z"
   },
   {
    "duration": 276,
    "start_time": "2022-05-26T18:53:56.803Z"
   },
   {
    "duration": 6,
    "start_time": "2022-05-26T18:53:57.081Z"
   },
   {
    "duration": 7,
    "start_time": "2022-05-26T18:53:57.088Z"
   },
   {
    "duration": 33,
    "start_time": "2022-05-26T18:53:57.097Z"
   },
   {
    "duration": 654,
    "start_time": "2022-05-26T18:53:57.133Z"
   },
   {
    "duration": 5,
    "start_time": "2022-05-26T18:53:57.789Z"
   },
   {
    "duration": 30,
    "start_time": "2022-05-26T18:53:57.798Z"
   },
   {
    "duration": 18,
    "start_time": "2022-05-26T18:53:57.832Z"
   },
   {
    "duration": 16,
    "start_time": "2022-05-26T18:53:57.851Z"
   },
   {
    "duration": 18,
    "start_time": "2022-05-26T18:53:57.868Z"
   },
   {
    "duration": 513,
    "start_time": "2022-05-26T18:53:57.888Z"
   },
   {
    "duration": 3,
    "start_time": "2022-05-26T18:53:58.403Z"
   },
   {
    "duration": 5,
    "start_time": "2022-05-26T18:53:58.408Z"
   },
   {
    "duration": 5,
    "start_time": "2022-05-26T18:53:58.423Z"
   },
   {
    "duration": 19,
    "start_time": "2022-05-26T18:53:58.430Z"
   },
   {
    "duration": 7,
    "start_time": "2022-05-26T18:53:58.451Z"
   },
   {
    "duration": 14,
    "start_time": "2022-05-26T18:53:58.459Z"
   },
   {
    "duration": 6,
    "start_time": "2022-05-26T18:53:58.474Z"
   },
   {
    "duration": 8,
    "start_time": "2022-05-26T18:53:58.481Z"
   },
   {
    "duration": 6,
    "start_time": "2022-05-26T18:53:58.490Z"
   },
   {
    "duration": 112,
    "start_time": "2022-05-26T18:53:58.497Z"
   },
   {
    "duration": 120,
    "start_time": "2022-05-26T18:53:58.611Z"
   },
   {
    "duration": 7,
    "start_time": "2022-05-26T18:53:58.734Z"
   },
   {
    "duration": 16246,
    "start_time": "2022-05-26T18:53:58.746Z"
   },
   {
    "duration": 4,
    "start_time": "2022-05-26T18:54:14.994Z"
   },
   {
    "duration": 53,
    "start_time": "2022-05-26T18:54:15.000Z"
   },
   {
    "duration": 103550,
    "start_time": "2022-05-26T18:54:15.055Z"
   },
   {
    "duration": 5,
    "start_time": "2022-05-26T18:55:58.607Z"
   },
   {
    "duration": 2062,
    "start_time": "2022-05-26T18:55:58.613Z"
   },
   {
    "duration": 949,
    "start_time": "2022-05-26T18:56:00.677Z"
   },
   {
    "duration": 228,
    "start_time": "2022-05-26T18:56:01.628Z"
   },
   {
    "duration": 10198,
    "start_time": "2022-05-26T18:56:01.859Z"
   },
   {
    "duration": 36,
    "start_time": "2022-05-26T18:57:01.552Z"
   },
   {
    "duration": 536,
    "start_time": "2022-05-26T18:57:11.395Z"
   },
   {
    "duration": 232,
    "start_time": "2022-05-26T18:57:14.204Z"
   },
   {
    "duration": 10062,
    "start_time": "2022-05-26T18:57:16.770Z"
   },
   {
    "duration": 7,
    "start_time": "2022-05-26T19:47:16.682Z"
   },
   {
    "duration": 230,
    "start_time": "2022-05-26T19:48:29.412Z"
   },
   {
    "duration": 14,
    "start_time": "2022-05-26T19:48:56.574Z"
   },
   {
    "duration": 22,
    "start_time": "2022-05-26T19:49:25.437Z"
   },
   {
    "duration": 14,
    "start_time": "2022-05-26T19:49:46.433Z"
   },
   {
    "duration": 10,
    "start_time": "2022-05-26T19:52:00.273Z"
   },
   {
    "duration": 8,
    "start_time": "2022-05-26T19:52:04.188Z"
   },
   {
    "duration": 9,
    "start_time": "2022-05-26T20:01:14.747Z"
   },
   {
    "duration": 7,
    "start_time": "2022-05-26T20:01:15.387Z"
   },
   {
    "duration": 11,
    "start_time": "2022-05-26T20:01:16.193Z"
   },
   {
    "duration": 17,
    "start_time": "2022-05-26T20:02:09.283Z"
   },
   {
    "duration": 6,
    "start_time": "2022-05-26T20:03:17.435Z"
   },
   {
    "duration": 4,
    "start_time": "2022-05-26T20:05:09.723Z"
   },
   {
    "duration": 179,
    "start_time": "2022-05-26T20:05:56.252Z"
   },
   {
    "duration": 197,
    "start_time": "2022-05-26T20:12:10.530Z"
   },
   {
    "duration": 17145,
    "start_time": "2022-05-26T20:14:05.726Z"
   },
   {
    "duration": 5,
    "start_time": "2022-05-26T20:14:44.779Z"
   },
   {
    "duration": 17847,
    "start_time": "2022-05-26T20:15:05.873Z"
   },
   {
    "duration": 5,
    "start_time": "2022-05-26T20:15:25.948Z"
   },
   {
    "duration": 57,
    "start_time": "2022-05-26T20:15:34.122Z"
   },
   {
    "duration": 59,
    "start_time": "2022-05-26T20:17:08.037Z"
   },
   {
    "duration": 223672,
    "start_time": "2022-05-26T20:18:55.637Z"
   },
   {
    "duration": 64,
    "start_time": "2022-05-26T20:23:50.241Z"
   },
   {
    "duration": 230270,
    "start_time": "2022-05-26T20:23:56.620Z"
   },
   {
    "duration": 5,
    "start_time": "2022-05-26T20:45:48.560Z"
   },
   {
    "duration": 5505,
    "start_time": "2022-05-26T20:45:50.639Z"
   },
   {
    "duration": 5527,
    "start_time": "2022-05-26T20:46:14.577Z"
   },
   {
    "duration": 5740,
    "start_time": "2022-05-26T20:46:54.387Z"
   },
   {
    "duration": 2351,
    "start_time": "2022-05-26T20:49:36.487Z"
   },
   {
    "duration": 2112,
    "start_time": "2022-05-26T20:49:44.322Z"
   },
   {
    "duration": 297,
    "start_time": "2022-05-26T20:50:44.588Z"
   },
   {
    "duration": 305,
    "start_time": "2022-05-26T20:54:08.064Z"
   },
   {
    "duration": 317,
    "start_time": "2022-05-26T20:54:20.651Z"
   },
   {
    "duration": 304,
    "start_time": "2022-05-26T20:54:33.139Z"
   },
   {
    "duration": 299,
    "start_time": "2022-05-26T21:03:50.740Z"
   },
   {
    "duration": 9381,
    "start_time": "2022-05-26T21:04:43.666Z"
   },
   {
    "duration": 31010,
    "start_time": "2022-05-26T21:04:54.121Z"
   },
   {
    "duration": 85,
    "start_time": "2022-05-27T05:12:42.393Z"
   },
   {
    "duration": 1759,
    "start_time": "2022-05-27T05:12:57.124Z"
   },
   {
    "duration": 4162,
    "start_time": "2022-05-27T05:12:58.885Z"
   },
   {
    "duration": 44,
    "start_time": "2022-05-27T05:13:03.048Z"
   },
   {
    "duration": 29,
    "start_time": "2022-05-27T05:13:03.094Z"
   },
   {
    "duration": 12,
    "start_time": "2022-05-27T05:13:03.125Z"
   },
   {
    "duration": 9,
    "start_time": "2022-05-27T05:13:03.139Z"
   },
   {
    "duration": 36,
    "start_time": "2022-05-27T05:13:03.150Z"
   },
   {
    "duration": 30,
    "start_time": "2022-05-27T05:13:03.188Z"
   },
   {
    "duration": 22,
    "start_time": "2022-05-27T05:13:03.220Z"
   },
   {
    "duration": 29,
    "start_time": "2022-05-27T05:13:03.245Z"
   },
   {
    "duration": 125,
    "start_time": "2022-05-27T05:13:03.276Z"
   },
   {
    "duration": 19,
    "start_time": "2022-05-27T05:13:03.403Z"
   },
   {
    "duration": 23,
    "start_time": "2022-05-27T05:13:03.423Z"
   },
   {
    "duration": 24,
    "start_time": "2022-05-27T05:13:03.448Z"
   },
   {
    "duration": 40,
    "start_time": "2022-05-27T05:13:03.474Z"
   },
   {
    "duration": 17,
    "start_time": "2022-05-27T05:13:03.516Z"
   },
   {
    "duration": 94,
    "start_time": "2022-05-27T05:13:03.535Z"
   },
   {
    "duration": 36,
    "start_time": "2022-05-27T05:13:03.631Z"
   },
   {
    "duration": 120,
    "start_time": "2022-05-27T05:13:03.669Z"
   },
   {
    "duration": 319,
    "start_time": "2022-05-27T05:13:03.798Z"
   },
   {
    "duration": 359,
    "start_time": "2022-05-27T05:13:04.119Z"
   },
   {
    "duration": 314,
    "start_time": "2022-05-27T05:13:04.484Z"
   },
   {
    "duration": 6,
    "start_time": "2022-05-27T05:13:04.800Z"
   },
   {
    "duration": 5,
    "start_time": "2022-05-27T05:13:04.808Z"
   },
   {
    "duration": 6,
    "start_time": "2022-05-27T05:13:04.815Z"
   },
   {
    "duration": 859,
    "start_time": "2022-05-27T05:13:04.822Z"
   },
   {
    "duration": 10,
    "start_time": "2022-05-27T05:13:05.687Z"
   },
   {
    "duration": 47,
    "start_time": "2022-05-27T05:13:05.702Z"
   },
   {
    "duration": 49,
    "start_time": "2022-05-27T05:13:05.751Z"
   },
   {
    "duration": 18,
    "start_time": "2022-05-27T05:13:05.802Z"
   },
   {
    "duration": 124,
    "start_time": "2022-05-27T05:13:05.822Z"
   },
   {
    "duration": 455,
    "start_time": "2022-05-27T05:13:05.948Z"
   },
   {
    "duration": 3,
    "start_time": "2022-05-27T05:13:06.405Z"
   },
   {
    "duration": 13,
    "start_time": "2022-05-27T05:13:06.410Z"
   },
   {
    "duration": 11,
    "start_time": "2022-05-27T05:13:06.425Z"
   },
   {
    "duration": 22,
    "start_time": "2022-05-27T05:13:06.438Z"
   },
   {
    "duration": 44,
    "start_time": "2022-05-27T05:13:06.462Z"
   },
   {
    "duration": 16,
    "start_time": "2022-05-27T05:13:06.508Z"
   },
   {
    "duration": 7,
    "start_time": "2022-05-27T05:13:06.526Z"
   },
   {
    "duration": 8,
    "start_time": "2022-05-27T05:13:06.534Z"
   },
   {
    "duration": 101,
    "start_time": "2022-05-27T05:13:06.544Z"
   },
   {
    "duration": 250,
    "start_time": "2022-05-27T05:13:06.648Z"
   },
   {
    "duration": 11,
    "start_time": "2022-05-27T05:13:06.899Z"
   },
   {
    "duration": 18993,
    "start_time": "2022-05-27T05:13:06.956Z"
   },
   {
    "duration": 19,
    "start_time": "2022-05-27T05:13:25.950Z"
   },
   {
    "duration": 62,
    "start_time": "2022-05-27T05:13:25.975Z"
   },
   {
    "duration": 118772,
    "start_time": "2022-05-27T05:13:26.039Z"
   },
   {
    "duration": 5,
    "start_time": "2022-05-27T05:15:24.813Z"
   },
   {
    "duration": 2955,
    "start_time": "2022-05-27T05:15:24.819Z"
   },
   {
    "duration": 1103,
    "start_time": "2022-05-27T05:15:27.782Z"
   },
   {
    "duration": 283,
    "start_time": "2022-05-27T05:15:28.898Z"
   },
   {
    "duration": 13857,
    "start_time": "2022-05-27T05:15:29.183Z"
   },
   {
    "duration": 6,
    "start_time": "2022-05-27T05:15:43.041Z"
   },
   {
    "duration": 43,
    "start_time": "2022-05-27T05:15:43.059Z"
   },
   {
    "duration": 9,
    "start_time": "2022-05-27T05:15:43.104Z"
   },
   {
    "duration": 4,
    "start_time": "2022-05-27T05:15:43.115Z"
   },
   {
    "duration": 212,
    "start_time": "2022-05-27T05:15:43.120Z"
   },
   {
    "duration": 1429,
    "start_time": "2022-05-27T05:15:43.334Z"
   },
   {
    "duration": 19466,
    "start_time": "2022-05-27T05:15:44.765Z"
   },
   {
    "duration": 3,
    "start_time": "2022-05-27T05:16:04.233Z"
   },
   {
    "duration": 100,
    "start_time": "2022-05-27T05:16:04.238Z"
   },
   {
    "duration": 258842,
    "start_time": "2022-05-27T05:16:04.340Z"
   },
   {
    "duration": 8,
    "start_time": "2022-05-27T05:20:23.183Z"
   },
   {
    "duration": 5924,
    "start_time": "2022-05-27T05:20:23.201Z"
   },
   {
    "duration": 3353,
    "start_time": "2022-05-27T05:20:29.128Z"
   },
   {
    "duration": 418,
    "start_time": "2022-05-27T05:20:32.488Z"
   },
   {
    "duration": 32962,
    "start_time": "2022-05-27T05:20:32.912Z"
   },
   {
    "duration": 10,
    "start_time": "2022-05-27T05:21:05.886Z"
   },
   {
    "duration": 9,
    "start_time": "2022-05-27T05:21:05.899Z"
   },
   {
    "duration": 240,
    "start_time": "2022-05-27T05:21:05.910Z"
   },
   {
    "duration": 18,
    "start_time": "2022-05-27T05:23:52.094Z"
   },
   {
    "duration": 18,
    "start_time": "2022-05-27T05:24:28.473Z"
   },
   {
    "duration": 30,
    "start_time": "2022-05-27T05:24:31.578Z"
   },
   {
    "duration": 140,
    "start_time": "2022-05-27T05:24:42.462Z"
   },
   {
    "duration": 34,
    "start_time": "2022-05-27T05:25:38.476Z"
   },
   {
    "duration": 23,
    "start_time": "2022-05-27T05:26:38.987Z"
   },
   {
    "duration": 4,
    "start_time": "2022-05-27T05:26:53.936Z"
   },
   {
    "duration": 5,
    "start_time": "2022-05-27T05:26:54.815Z"
   },
   {
    "duration": 18,
    "start_time": "2022-05-27T05:26:57.482Z"
   },
   {
    "duration": 17,
    "start_time": "2022-05-27T05:27:11.086Z"
   },
   {
    "duration": 15,
    "start_time": "2022-05-27T05:27:32.111Z"
   },
   {
    "duration": 92,
    "start_time": "2022-05-27T05:28:49.592Z"
   },
   {
    "duration": 98,
    "start_time": "2022-05-27T05:58:23.041Z"
   },
   {
    "duration": 17,
    "start_time": "2022-05-27T06:00:04.650Z"
   },
   {
    "duration": 97,
    "start_time": "2022-05-27T06:00:05.323Z"
   },
   {
    "duration": 97,
    "start_time": "2022-05-27T06:00:06.544Z"
   },
   {
    "duration": 15,
    "start_time": "2022-05-27T06:01:09.404Z"
   },
   {
    "duration": 98,
    "start_time": "2022-05-27T06:07:44.188Z"
   },
   {
    "duration": 101,
    "start_time": "2022-05-27T06:10:19.847Z"
   },
   {
    "duration": 9,
    "start_time": "2022-05-27T06:54:38.652Z"
   },
   {
    "duration": 4,
    "start_time": "2022-05-27T06:54:39.424Z"
   },
   {
    "duration": 5,
    "start_time": "2022-05-27T06:55:48.527Z"
   },
   {
    "duration": 25,
    "start_time": "2022-05-27T06:56:10.092Z"
   },
   {
    "duration": 12,
    "start_time": "2022-05-27T06:56:32.979Z"
   },
   {
    "duration": 12,
    "start_time": "2022-05-27T06:56:33.782Z"
   },
   {
    "duration": 26,
    "start_time": "2022-05-27T06:56:36.213Z"
   },
   {
    "duration": 28,
    "start_time": "2022-05-27T06:57:18.461Z"
   },
   {
    "duration": 17,
    "start_time": "2022-05-27T06:57:31.785Z"
   },
   {
    "duration": 12,
    "start_time": "2022-05-27T06:57:43.687Z"
   },
   {
    "duration": 37,
    "start_time": "2022-05-27T06:58:12.724Z"
   },
   {
    "duration": 16,
    "start_time": "2022-05-27T06:59:27.205Z"
   },
   {
    "duration": 46,
    "start_time": "2022-05-27T07:00:53.203Z"
   },
   {
    "duration": 99,
    "start_time": "2022-05-27T07:01:36.901Z"
   },
   {
    "duration": 126,
    "start_time": "2022-05-27T07:01:49.990Z"
   },
   {
    "duration": 130,
    "start_time": "2022-05-27T07:03:02.105Z"
   },
   {
    "duration": 66,
    "start_time": "2022-05-27T07:03:48.384Z"
   },
   {
    "duration": 61,
    "start_time": "2022-05-27T07:04:23.672Z"
   },
   {
    "duration": 7,
    "start_time": "2022-05-27T07:10:04.270Z"
   },
   {
    "duration": 54,
    "start_time": "2022-05-27T07:13:02.315Z"
   },
   {
    "duration": 12,
    "start_time": "2022-05-27T07:14:05.348Z"
   },
   {
    "duration": 20,
    "start_time": "2022-05-27T07:14:16.319Z"
   },
   {
    "duration": 6,
    "start_time": "2022-05-27T07:14:41.832Z"
   },
   {
    "duration": 50,
    "start_time": "2022-05-27T07:16:13.428Z"
   },
   {
    "duration": 15,
    "start_time": "2022-05-27T07:18:11.759Z"
   },
   {
    "duration": 15,
    "start_time": "2022-05-27T07:18:34.650Z"
   },
   {
    "duration": 11,
    "start_time": "2022-05-27T07:18:35.375Z"
   },
   {
    "duration": 15,
    "start_time": "2022-05-27T07:18:36.472Z"
   },
   {
    "duration": 80,
    "start_time": "2022-05-27T07:18:38.643Z"
   },
   {
    "duration": 139,
    "start_time": "2022-05-27T07:18:39.774Z"
   },
   {
    "duration": 8,
    "start_time": "2022-05-27T07:18:42.031Z"
   },
   {
    "duration": 8,
    "start_time": "2022-05-27T07:18:49.575Z"
   },
   {
    "duration": 11,
    "start_time": "2022-05-27T07:19:25.211Z"
   },
   {
    "duration": 9,
    "start_time": "2022-05-27T07:19:25.878Z"
   },
   {
    "duration": 8,
    "start_time": "2022-05-27T07:19:26.579Z"
   },
   {
    "duration": 83,
    "start_time": "2022-05-27T07:19:29.967Z"
   },
   {
    "duration": 114,
    "start_time": "2022-05-27T07:19:30.880Z"
   },
   {
    "duration": 7,
    "start_time": "2022-05-27T07:19:32.423Z"
   },
   {
    "duration": 23,
    "start_time": "2022-05-27T07:19:33.339Z"
   },
   {
    "duration": 18,
    "start_time": "2022-05-27T07:35:52.273Z"
   },
   {
    "duration": 6,
    "start_time": "2022-05-27T07:37:16.827Z"
   },
   {
    "duration": 5,
    "start_time": "2022-05-27T07:37:17.746Z"
   },
   {
    "duration": 14,
    "start_time": "2022-05-27T07:44:19.612Z"
   },
   {
    "duration": 8,
    "start_time": "2022-05-27T07:45:09.471Z"
   },
   {
    "duration": 11,
    "start_time": "2022-05-27T07:45:16.248Z"
   },
   {
    "duration": 7,
    "start_time": "2022-05-27T07:47:25.033Z"
   },
   {
    "duration": 9,
    "start_time": "2022-05-27T07:48:52.018Z"
   },
   {
    "duration": 9,
    "start_time": "2022-05-27T07:52:07.635Z"
   },
   {
    "duration": 9,
    "start_time": "2022-05-27T07:52:08.440Z"
   },
   {
    "duration": 5,
    "start_time": "2022-05-27T07:52:31.633Z"
   },
   {
    "duration": 1806,
    "start_time": "2022-05-27T07:54:56.038Z"
   },
   {
    "duration": 5954,
    "start_time": "2022-05-27T07:54:57.847Z"
   },
   {
    "duration": 25,
    "start_time": "2022-05-27T07:55:03.803Z"
   },
   {
    "duration": 16,
    "start_time": "2022-05-27T07:55:03.830Z"
   },
   {
    "duration": 21,
    "start_time": "2022-05-27T07:55:03.848Z"
   },
   {
    "duration": 63,
    "start_time": "2022-05-27T07:55:03.871Z"
   },
   {
    "duration": 8,
    "start_time": "2022-05-27T07:55:03.935Z"
   },
   {
    "duration": 25,
    "start_time": "2022-05-27T07:55:03.945Z"
   },
   {
    "duration": 69,
    "start_time": "2022-05-27T07:55:03.974Z"
   },
   {
    "duration": 24,
    "start_time": "2022-05-27T07:55:04.045Z"
   },
   {
    "duration": 143,
    "start_time": "2022-05-27T07:55:04.071Z"
   },
   {
    "duration": 19,
    "start_time": "2022-05-27T07:55:04.217Z"
   },
   {
    "duration": 25,
    "start_time": "2022-05-27T07:55:04.238Z"
   },
   {
    "duration": 43,
    "start_time": "2022-05-27T07:55:04.268Z"
   },
   {
    "duration": 45,
    "start_time": "2022-05-27T07:55:04.312Z"
   },
   {
    "duration": 35,
    "start_time": "2022-05-27T07:55:04.360Z"
   },
   {
    "duration": 153,
    "start_time": "2022-05-27T07:55:04.397Z"
   },
   {
    "duration": 47,
    "start_time": "2022-05-27T07:55:04.552Z"
   },
   {
    "duration": 167,
    "start_time": "2022-05-27T07:55:04.601Z"
   },
   {
    "duration": 410,
    "start_time": "2022-05-27T07:55:04.771Z"
   },
   {
    "duration": 412,
    "start_time": "2022-05-27T07:55:05.183Z"
   },
   {
    "duration": 397,
    "start_time": "2022-05-27T07:55:05.597Z"
   },
   {
    "duration": 23,
    "start_time": "2022-05-27T07:55:05.996Z"
   },
   {
    "duration": 18,
    "start_time": "2022-05-27T07:55:06.031Z"
   },
   {
    "duration": 78,
    "start_time": "2022-05-27T07:55:06.052Z"
   },
   {
    "duration": 939,
    "start_time": "2022-05-27T07:55:06.136Z"
   },
   {
    "duration": 7,
    "start_time": "2022-05-27T07:55:07.079Z"
   },
   {
    "duration": 55,
    "start_time": "2022-05-27T07:55:07.088Z"
   },
   {
    "duration": 19,
    "start_time": "2022-05-27T07:55:07.145Z"
   },
   {
    "duration": 62,
    "start_time": "2022-05-27T07:55:07.166Z"
   },
   {
    "duration": 19,
    "start_time": "2022-05-27T07:55:07.230Z"
   },
   {
    "duration": 594,
    "start_time": "2022-05-27T07:55:07.254Z"
   },
   {
    "duration": 3,
    "start_time": "2022-05-27T07:55:07.850Z"
   },
   {
    "duration": 71,
    "start_time": "2022-05-27T07:55:07.855Z"
   },
   {
    "duration": 13,
    "start_time": "2022-05-27T07:55:07.928Z"
   },
   {
    "duration": 12,
    "start_time": "2022-05-27T07:55:07.943Z"
   },
   {
    "duration": 78,
    "start_time": "2022-05-27T07:55:07.957Z"
   },
   {
    "duration": 23,
    "start_time": "2022-05-27T07:55:08.038Z"
   },
   {
    "duration": 16,
    "start_time": "2022-05-27T07:55:08.063Z"
   },
   {
    "duration": 52,
    "start_time": "2022-05-27T07:55:08.081Z"
   },
   {
    "duration": 111,
    "start_time": "2022-05-27T07:55:08.140Z"
   },
   {
    "duration": 252,
    "start_time": "2022-05-27T07:55:08.254Z"
   },
   {
    "duration": 15,
    "start_time": "2022-05-27T07:55:08.517Z"
   },
   {
    "duration": 20777,
    "start_time": "2022-05-27T07:55:08.534Z"
   },
   {
    "duration": 12,
    "start_time": "2022-05-27T07:55:29.317Z"
   },
   {
    "duration": 155,
    "start_time": "2022-05-27T07:55:29.334Z"
   },
   {
    "duration": 132893,
    "start_time": "2022-05-27T07:55:29.499Z"
   },
   {
    "duration": 5,
    "start_time": "2022-05-27T07:57:42.393Z"
   },
   {
    "duration": 1404,
    "start_time": "2022-05-27T07:57:42.400Z"
   },
   {
    "duration": 1361,
    "start_time": "2022-05-27T07:57:43.807Z"
   },
   {
    "duration": 558,
    "start_time": "2022-05-27T07:57:45.176Z"
   },
   {
    "duration": 5941,
    "start_time": "2022-05-27T07:57:45.741Z"
   },
   {
    "duration": 7,
    "start_time": "2022-05-27T07:57:51.685Z"
   },
   {
    "duration": 10,
    "start_time": "2022-05-27T07:57:51.697Z"
   },
   {
    "duration": 31,
    "start_time": "2022-05-27T07:57:51.715Z"
   },
   {
    "duration": 15,
    "start_time": "2022-05-27T07:57:51.749Z"
   },
   {
    "duration": 274,
    "start_time": "2022-05-27T07:57:51.766Z"
   },
   {
    "duration": 449,
    "start_time": "2022-05-27T07:57:52.042Z"
   },
   {
    "duration": 22069,
    "start_time": "2022-05-27T07:57:52.493Z"
   },
   {
    "duration": 9,
    "start_time": "2022-05-27T07:58:14.564Z"
   },
   {
    "duration": 252,
    "start_time": "2022-05-27T07:58:14.577Z"
   },
   {
    "duration": 295784,
    "start_time": "2022-05-27T07:58:14.840Z"
   },
   {
    "duration": 22,
    "start_time": "2022-05-27T08:03:10.640Z"
   },
   {
    "duration": 5936,
    "start_time": "2022-05-27T08:03:10.674Z"
   },
   {
    "duration": 3146,
    "start_time": "2022-05-27T08:03:16.616Z"
   },
   {
    "duration": 596,
    "start_time": "2022-05-27T08:03:19.782Z"
   },
   {
    "duration": 31454,
    "start_time": "2022-05-27T08:03:20.392Z"
   },
   {
    "duration": 20,
    "start_time": "2022-05-27T08:03:51.855Z"
   },
   {
    "duration": 69,
    "start_time": "2022-05-27T08:03:51.880Z"
   },
   {
    "duration": 79,
    "start_time": "2022-05-27T08:03:51.952Z"
   },
   {
    "duration": 62,
    "start_time": "2022-05-27T08:03:52.033Z"
   },
   {
    "duration": 195,
    "start_time": "2022-05-27T08:03:52.101Z"
   },
   {
    "duration": 11,
    "start_time": "2022-05-27T08:03:52.302Z"
   },
   {
    "duration": 134,
    "start_time": "2022-05-27T08:03:52.320Z"
   },
   {
    "duration": 91,
    "start_time": "2022-05-27T08:03:52.467Z"
   },
   {
    "duration": 177,
    "start_time": "2022-05-27T08:03:52.565Z"
   },
   {
    "duration": 138,
    "start_time": "2022-05-27T08:03:52.755Z"
   },
   {
    "duration": 121,
    "start_time": "2022-05-27T08:03:52.906Z"
   },
   {
    "duration": 29,
    "start_time": "2022-05-27T08:03:53.029Z"
   },
   {
    "duration": 78,
    "start_time": "2022-05-27T08:03:53.060Z"
   },
   {
    "duration": 229,
    "start_time": "2022-05-27T08:10:48.616Z"
   },
   {
    "duration": 48,
    "start_time": "2022-05-27T08:12:46.115Z"
   },
   {
    "duration": 35,
    "start_time": "2022-05-27T08:13:51.907Z"
   },
   {
    "duration": 45,
    "start_time": "2022-05-27T08:24:40.781Z"
   },
   {
    "duration": 29,
    "start_time": "2022-05-27T08:24:55.768Z"
   },
   {
    "duration": 14,
    "start_time": "2022-05-27T08:49:28.475Z"
   },
   {
    "duration": 17,
    "start_time": "2022-05-27T08:51:18.792Z"
   },
   {
    "duration": 7,
    "start_time": "2022-05-27T08:54:33.105Z"
   },
   {
    "duration": 3,
    "start_time": "2022-05-27T08:59:17.833Z"
   },
   {
    "duration": 9,
    "start_time": "2022-05-27T09:01:22.796Z"
   },
   {
    "duration": 5,
    "start_time": "2022-05-27T09:01:23.676Z"
   },
   {
    "duration": 7,
    "start_time": "2022-05-27T09:01:59.600Z"
   },
   {
    "duration": 11,
    "start_time": "2022-05-27T09:02:02.411Z"
   },
   {
    "duration": 14,
    "start_time": "2022-05-27T09:02:03.016Z"
   },
   {
    "duration": 2,
    "start_time": "2022-05-27T09:02:03.540Z"
   },
   {
    "duration": 12,
    "start_time": "2022-05-27T09:02:04.070Z"
   },
   {
    "duration": 14,
    "start_time": "2022-05-27T09:02:04.649Z"
   },
   {
    "duration": 9,
    "start_time": "2022-05-27T12:07:14.046Z"
   },
   {
    "duration": 11,
    "start_time": "2022-05-27T12:07:14.633Z"
   },
   {
    "duration": 6,
    "start_time": "2022-05-27T12:07:15.242Z"
   },
   {
    "duration": 4,
    "start_time": "2022-05-27T12:07:17.432Z"
   },
   {
    "duration": 5,
    "start_time": "2022-05-27T12:07:17.932Z"
   },
   {
    "duration": 11,
    "start_time": "2022-05-27T12:07:18.602Z"
   },
   {
    "duration": 13,
    "start_time": "2022-05-27T12:07:19.251Z"
   },
   {
    "duration": 7,
    "start_time": "2022-05-27T12:07:23.734Z"
   },
   {
    "duration": 12,
    "start_time": "2022-05-27T12:07:25.247Z"
   },
   {
    "duration": 5,
    "start_time": "2022-05-27T12:07:42.307Z"
   },
   {
    "duration": 26,
    "start_time": "2022-05-27T12:08:39.214Z"
   },
   {
    "duration": 21,
    "start_time": "2022-05-27T12:09:12.144Z"
   },
   {
    "duration": 38,
    "start_time": "2022-05-27T12:09:20.312Z"
   },
   {
    "duration": 278,
    "start_time": "2022-05-27T12:09:38.800Z"
   },
   {
    "duration": 775,
    "start_time": "2022-05-27T12:10:57.447Z"
   },
   {
    "duration": 366,
    "start_time": "2022-05-27T12:11:48.468Z"
   },
   {
    "duration": 259,
    "start_time": "2022-05-27T12:12:13.503Z"
   },
   {
    "duration": 1248,
    "start_time": "2022-05-27T14:47:14.553Z"
   },
   {
    "duration": 750,
    "start_time": "2022-05-27T14:47:15.804Z"
   },
   {
    "duration": 17,
    "start_time": "2022-05-27T14:47:16.556Z"
   },
   {
    "duration": 15,
    "start_time": "2022-05-27T14:47:16.575Z"
   },
   {
    "duration": 15,
    "start_time": "2022-05-27T14:47:16.608Z"
   },
   {
    "duration": 270,
    "start_time": "2022-05-27T14:47:16.624Z"
   },
   {
    "duration": 233,
    "start_time": "2022-05-27T14:47:16.895Z"
   },
   {
    "duration": 128,
    "start_time": "2022-05-27T14:47:17.129Z"
   },
   {
    "duration": 6,
    "start_time": "2022-05-27T14:47:17.258Z"
   },
   {
    "duration": 9,
    "start_time": "2022-05-27T14:47:17.265Z"
   },
   {
    "duration": 5,
    "start_time": "2022-05-27T14:47:17.276Z"
   },
   {
    "duration": 39,
    "start_time": "2022-05-27T14:47:17.283Z"
   },
   {
    "duration": 14,
    "start_time": "2022-05-27T14:47:17.324Z"
   },
   {
    "duration": 82,
    "start_time": "2022-05-27T14:47:17.342Z"
   },
   {
    "duration": 14,
    "start_time": "2022-05-27T14:47:17.426Z"
   },
   {
    "duration": 18,
    "start_time": "2022-05-27T14:47:17.442Z"
   },
   {
    "duration": 13,
    "start_time": "2022-05-27T14:47:17.461Z"
   },
   {
    "duration": 28,
    "start_time": "2022-05-27T14:47:17.476Z"
   },
   {
    "duration": 20,
    "start_time": "2022-05-27T14:47:17.506Z"
   },
   {
    "duration": 91,
    "start_time": "2022-05-27T14:47:17.528Z"
   },
   {
    "duration": 23,
    "start_time": "2022-05-27T14:47:17.621Z"
   },
   {
    "duration": 97,
    "start_time": "2022-05-27T14:47:17.646Z"
   },
   {
    "duration": 277,
    "start_time": "2022-05-27T14:47:17.745Z"
   },
   {
    "duration": 293,
    "start_time": "2022-05-27T14:47:18.024Z"
   },
   {
    "duration": 306,
    "start_time": "2022-05-27T14:47:18.319Z"
   },
   {
    "duration": 6,
    "start_time": "2022-05-27T14:47:18.626Z"
   },
   {
    "duration": 8,
    "start_time": "2022-05-27T14:47:18.634Z"
   },
   {
    "duration": 7,
    "start_time": "2022-05-27T14:47:18.644Z"
   },
   {
    "duration": 575,
    "start_time": "2022-05-27T14:47:18.652Z"
   },
   {
    "duration": 5,
    "start_time": "2022-05-27T14:47:19.229Z"
   },
   {
    "duration": 20,
    "start_time": "2022-05-27T14:47:19.236Z"
   },
   {
    "duration": 14,
    "start_time": "2022-05-27T14:47:19.258Z"
   },
   {
    "duration": 34,
    "start_time": "2022-05-27T14:47:19.274Z"
   },
   {
    "duration": 117,
    "start_time": "2022-05-27T14:47:19.309Z"
   },
   {
    "duration": 341,
    "start_time": "2022-05-27T14:47:19.428Z"
   },
   {
    "duration": 3,
    "start_time": "2022-05-27T14:47:19.771Z"
   },
   {
    "duration": 8,
    "start_time": "2022-05-27T14:47:19.776Z"
   },
   {
    "duration": 5,
    "start_time": "2022-05-27T14:47:19.786Z"
   },
   {
    "duration": 17,
    "start_time": "2022-05-27T14:47:19.802Z"
   },
   {
    "duration": 8,
    "start_time": "2022-05-27T14:47:19.820Z"
   },
   {
    "duration": 9,
    "start_time": "2022-05-27T14:47:19.832Z"
   },
   {
    "duration": 6,
    "start_time": "2022-05-27T14:47:19.843Z"
   },
   {
    "duration": 4,
    "start_time": "2022-05-27T14:47:19.850Z"
   },
   {
    "duration": 4,
    "start_time": "2022-05-27T14:47:19.855Z"
   },
   {
    "duration": 155,
    "start_time": "2022-05-27T14:47:19.860Z"
   },
   {
    "duration": 4,
    "start_time": "2022-05-27T14:47:20.017Z"
   },
   {
    "duration": 15818,
    "start_time": "2022-05-27T14:47:20.023Z"
   },
   {
    "duration": 4,
    "start_time": "2022-05-27T14:47:35.842Z"
   },
   {
    "duration": 71,
    "start_time": "2022-05-27T14:47:35.847Z"
   },
   {
    "duration": 99054,
    "start_time": "2022-05-27T14:47:35.920Z"
   },
   {
    "duration": 3,
    "start_time": "2022-05-27T14:49:14.976Z"
   },
   {
    "duration": 475,
    "start_time": "2022-05-27T14:49:14.981Z"
   },
   {
    "duration": 770,
    "start_time": "2022-05-27T14:49:15.458Z"
   },
   {
    "duration": 431,
    "start_time": "2022-05-27T14:49:16.230Z"
   },
   {
    "duration": 2427,
    "start_time": "2022-05-27T14:49:16.662Z"
   },
   {
    "duration": 5,
    "start_time": "2022-05-27T14:49:19.090Z"
   },
   {
    "duration": 6,
    "start_time": "2022-05-27T14:49:19.108Z"
   },
   {
    "duration": 10,
    "start_time": "2022-05-27T14:49:19.115Z"
   },
   {
    "duration": 4,
    "start_time": "2022-05-27T14:49:19.126Z"
   },
   {
    "duration": 5,
    "start_time": "2022-05-27T14:49:19.131Z"
   },
   {
    "duration": 381,
    "start_time": "2022-05-27T14:49:19.137Z"
   },
   {
    "duration": 16763,
    "start_time": "2022-05-27T14:49:19.524Z"
   },
   {
    "duration": 3,
    "start_time": "2022-05-27T14:49:36.289Z"
   },
   {
    "duration": 57,
    "start_time": "2022-05-27T14:49:36.301Z"
   },
   {
    "duration": 229739,
    "start_time": "2022-05-27T14:49:36.360Z"
   },
   {
    "duration": 16,
    "start_time": "2022-05-27T14:53:26.100Z"
   },
   {
    "duration": 4423,
    "start_time": "2022-05-27T14:53:26.118Z"
   },
   {
    "duration": 2062,
    "start_time": "2022-05-27T14:53:30.543Z"
   },
   {
    "duration": 367,
    "start_time": "2022-05-27T14:53:32.606Z"
   },
   {
    "duration": 23586,
    "start_time": "2022-05-27T14:53:32.975Z"
   },
   {
    "duration": 10,
    "start_time": "2022-05-27T14:53:56.562Z"
   },
   {
    "duration": 144,
    "start_time": "2022-05-27T14:53:56.573Z"
   },
   {
    "duration": 5,
    "start_time": "2022-05-27T14:53:56.719Z"
   },
   {
    "duration": 8,
    "start_time": "2022-05-27T14:53:56.726Z"
   },
   {
    "duration": 5,
    "start_time": "2022-05-27T14:53:56.736Z"
   },
   {
    "duration": 7,
    "start_time": "2022-05-27T14:53:56.742Z"
   },
   {
    "duration": 5,
    "start_time": "2022-05-27T14:53:56.750Z"
   },
   {
    "duration": 7,
    "start_time": "2022-05-27T14:53:56.757Z"
   },
   {
    "duration": 6,
    "start_time": "2022-05-27T14:53:56.765Z"
   },
   {
    "duration": 42,
    "start_time": "2022-05-27T14:53:56.773Z"
   },
   {
    "duration": 6,
    "start_time": "2022-05-27T14:53:56.817Z"
   },
   {
    "duration": 6,
    "start_time": "2022-05-27T14:53:56.824Z"
   },
   {
    "duration": 5,
    "start_time": "2022-05-27T14:53:56.832Z"
   },
   {
    "duration": 7,
    "start_time": "2022-05-27T14:53:56.838Z"
   },
   {
    "duration": 4,
    "start_time": "2022-05-27T14:53:56.846Z"
   },
   {
    "duration": 5,
    "start_time": "2022-05-27T14:53:56.851Z"
   },
   {
    "duration": 4,
    "start_time": "2022-05-27T14:53:56.858Z"
   },
   {
    "duration": 7,
    "start_time": "2022-05-27T14:53:56.863Z"
   },
   {
    "duration": 33,
    "start_time": "2022-05-27T14:53:56.872Z"
   },
   {
    "duration": 11,
    "start_time": "2022-05-27T15:18:31.185Z"
   },
   {
    "duration": 7,
    "start_time": "2022-05-27T15:18:32.324Z"
   },
   {
    "duration": 29,
    "start_time": "2022-05-27T15:18:34.099Z"
   },
   {
    "duration": 6,
    "start_time": "2022-05-27T15:18:35.242Z"
   },
   {
    "duration": 5,
    "start_time": "2022-05-27T15:18:36.356Z"
   },
   {
    "duration": 6,
    "start_time": "2022-05-27T15:18:57.960Z"
   },
   {
    "duration": 3,
    "start_time": "2022-05-27T15:18:59.294Z"
   },
   {
    "duration": 3,
    "start_time": "2022-05-27T15:19:00.230Z"
   },
   {
    "duration": 2,
    "start_time": "2022-05-27T15:19:00.783Z"
   },
   {
    "duration": 9,
    "start_time": "2022-05-27T15:19:01.278Z"
   },
   {
    "duration": 5,
    "start_time": "2022-05-27T15:19:01.791Z"
   },
   {
    "duration": 1537,
    "start_time": "2022-05-27T15:21:30.502Z"
   },
   {
    "duration": 785,
    "start_time": "2022-05-27T15:21:32.041Z"
   },
   {
    "duration": 20,
    "start_time": "2022-05-27T15:21:32.828Z"
   },
   {
    "duration": 15,
    "start_time": "2022-05-27T15:21:32.850Z"
   },
   {
    "duration": 12,
    "start_time": "2022-05-27T15:21:32.867Z"
   },
   {
    "duration": 295,
    "start_time": "2022-05-27T15:21:32.902Z"
   },
   {
    "duration": 252,
    "start_time": "2022-05-27T15:21:33.202Z"
   },
   {
    "duration": 137,
    "start_time": "2022-05-27T15:21:33.456Z"
   },
   {
    "duration": 12,
    "start_time": "2022-05-27T15:21:33.595Z"
   },
   {
    "duration": 15,
    "start_time": "2022-05-27T15:21:33.611Z"
   },
   {
    "duration": 6,
    "start_time": "2022-05-27T15:21:33.628Z"
   },
   {
    "duration": 21,
    "start_time": "2022-05-27T15:21:33.636Z"
   },
   {
    "duration": 19,
    "start_time": "2022-05-27T15:21:33.659Z"
   },
   {
    "duration": 100,
    "start_time": "2022-05-27T15:21:33.680Z"
   },
   {
    "duration": 40,
    "start_time": "2022-05-27T15:21:33.782Z"
   },
   {
    "duration": 21,
    "start_time": "2022-05-27T15:21:33.824Z"
   },
   {
    "duration": 20,
    "start_time": "2022-05-27T15:21:33.848Z"
   },
   {
    "duration": 36,
    "start_time": "2022-05-27T15:21:33.869Z"
   },
   {
    "duration": 32,
    "start_time": "2022-05-27T15:21:33.908Z"
   },
   {
    "duration": 118,
    "start_time": "2022-05-27T15:21:33.942Z"
   },
   {
    "duration": 23,
    "start_time": "2022-05-27T15:21:34.062Z"
   },
   {
    "duration": 110,
    "start_time": "2022-05-27T15:21:34.087Z"
   },
   {
    "duration": 339,
    "start_time": "2022-05-27T15:21:34.203Z"
   },
   {
    "duration": 367,
    "start_time": "2022-05-27T15:21:34.545Z"
   },
   {
    "duration": 353,
    "start_time": "2022-05-27T15:21:34.918Z"
   },
   {
    "duration": 7,
    "start_time": "2022-05-27T15:21:35.273Z"
   },
   {
    "duration": 21,
    "start_time": "2022-05-27T15:21:35.282Z"
   },
   {
    "duration": 6,
    "start_time": "2022-05-27T15:21:35.309Z"
   },
   {
    "duration": 679,
    "start_time": "2022-05-27T15:21:35.317Z"
   },
   {
    "duration": 9,
    "start_time": "2022-05-27T15:21:36.009Z"
   },
   {
    "duration": 25,
    "start_time": "2022-05-27T15:21:36.023Z"
   },
   {
    "duration": 14,
    "start_time": "2022-05-27T15:21:36.050Z"
   },
   {
    "duration": 17,
    "start_time": "2022-05-27T15:21:36.066Z"
   },
   {
    "duration": 148,
    "start_time": "2022-05-27T15:21:36.103Z"
   },
   {
    "duration": 393,
    "start_time": "2022-05-27T15:21:36.253Z"
   },
   {
    "duration": 2,
    "start_time": "2022-05-27T15:21:36.648Z"
   },
   {
    "duration": 5,
    "start_time": "2022-05-27T15:21:36.652Z"
   },
   {
    "duration": 5,
    "start_time": "2022-05-27T15:21:36.659Z"
   },
   {
    "duration": 6,
    "start_time": "2022-05-27T15:21:36.666Z"
   },
   {
    "duration": 6,
    "start_time": "2022-05-27T15:21:36.674Z"
   },
   {
    "duration": 14,
    "start_time": "2022-05-27T15:21:36.703Z"
   },
   {
    "duration": 13,
    "start_time": "2022-05-27T15:21:36.720Z"
   },
   {
    "duration": 10,
    "start_time": "2022-05-27T15:21:36.736Z"
   },
   {
    "duration": 3,
    "start_time": "2022-05-27T15:21:36.749Z"
   },
   {
    "duration": 253,
    "start_time": "2022-05-27T15:21:36.754Z"
   },
   {
    "duration": 13,
    "start_time": "2022-05-27T15:21:37.009Z"
   },
   {
    "duration": 17744,
    "start_time": "2022-05-27T15:21:37.024Z"
   },
   {
    "duration": 4,
    "start_time": "2022-05-27T15:21:54.769Z"
   },
   {
    "duration": 65,
    "start_time": "2022-05-27T15:21:54.775Z"
   },
   {
    "duration": 108607,
    "start_time": "2022-05-27T15:21:54.842Z"
   },
   {
    "duration": 3,
    "start_time": "2022-05-27T15:23:43.451Z"
   },
   {
    "duration": 2436,
    "start_time": "2022-05-27T15:23:43.456Z"
   },
   {
    "duration": 934,
    "start_time": "2022-05-27T15:23:45.894Z"
   },
   {
    "duration": 397,
    "start_time": "2022-05-27T15:23:46.833Z"
   },
   {
    "duration": 13272,
    "start_time": "2022-05-27T15:23:47.231Z"
   },
   {
    "duration": 6,
    "start_time": "2022-05-27T15:24:00.506Z"
   },
   {
    "duration": 30,
    "start_time": "2022-05-27T15:24:00.514Z"
   },
   {
    "duration": 23,
    "start_time": "2022-05-27T15:24:00.546Z"
   },
   {
    "duration": 19,
    "start_time": "2022-05-27T15:24:00.571Z"
   },
   {
    "duration": 33,
    "start_time": "2022-05-27T15:24:00.592Z"
   },
   {
    "duration": 795,
    "start_time": "2022-05-27T15:24:00.628Z"
   },
   {
    "duration": 17947,
    "start_time": "2022-05-27T15:24:01.428Z"
   },
   {
    "duration": 3,
    "start_time": "2022-05-27T15:24:19.377Z"
   },
   {
    "duration": 79,
    "start_time": "2022-05-27T15:24:19.381Z"
   },
   {
    "duration": 249982,
    "start_time": "2022-05-27T15:24:19.462Z"
   },
   {
    "duration": 4,
    "start_time": "2022-05-27T15:28:29.446Z"
   },
   {
    "duration": 6541,
    "start_time": "2022-05-27T15:28:29.451Z"
   },
   {
    "duration": 2750,
    "start_time": "2022-05-27T15:28:35.994Z"
   },
   {
    "duration": 460,
    "start_time": "2022-05-27T15:28:38.751Z"
   },
   {
    "duration": 33386,
    "start_time": "2022-05-27T15:28:39.214Z"
   },
   {
    "duration": 10,
    "start_time": "2022-05-27T15:29:12.602Z"
   },
   {
    "duration": 53,
    "start_time": "2022-05-27T15:29:12.614Z"
   },
   {
    "duration": 172,
    "start_time": "2022-05-27T15:29:12.669Z"
   },
   {
    "duration": 6,
    "start_time": "2022-05-27T15:29:12.843Z"
   },
   {
    "duration": 15,
    "start_time": "2022-05-27T15:29:12.851Z"
   },
   {
    "duration": 12,
    "start_time": "2022-05-27T15:29:12.867Z"
   },
   {
    "duration": 16,
    "start_time": "2022-05-27T15:29:12.881Z"
   },
   {
    "duration": 48,
    "start_time": "2022-05-27T15:29:12.899Z"
   },
   {
    "duration": 28,
    "start_time": "2022-05-27T15:29:12.949Z"
   },
   {
    "duration": 4,
    "start_time": "2022-05-27T15:29:12.979Z"
   },
   {
    "duration": 29,
    "start_time": "2022-05-27T15:29:12.985Z"
   },
   {
    "duration": 14,
    "start_time": "2022-05-27T15:29:13.024Z"
   },
   {
    "duration": 6,
    "start_time": "2022-05-27T15:29:13.040Z"
   },
   {
    "duration": 5,
    "start_time": "2022-05-27T15:29:13.048Z"
   },
   {
    "duration": 10,
    "start_time": "2022-05-27T15:29:13.055Z"
   },
   {
    "duration": 3,
    "start_time": "2022-05-27T15:29:13.067Z"
   },
   {
    "duration": 6,
    "start_time": "2022-05-27T15:29:13.072Z"
   },
   {
    "duration": 5,
    "start_time": "2022-05-27T15:29:13.079Z"
   },
   {
    "duration": 21,
    "start_time": "2022-05-27T15:29:13.085Z"
   },
   {
    "duration": 5,
    "start_time": "2022-05-27T15:29:13.109Z"
   },
   {
    "duration": 615,
    "start_time": "2022-05-27T16:18:34.796Z"
   },
   {
    "duration": 663,
    "start_time": "2022-05-27T16:19:07.712Z"
   },
   {
    "duration": 151,
    "start_time": "2022-05-27T16:20:03.548Z"
   },
   {
    "duration": 570,
    "start_time": "2022-05-27T16:20:40.870Z"
   },
   {
    "duration": 594,
    "start_time": "2022-05-27T16:20:54.340Z"
   },
   {
    "duration": 4,
    "start_time": "2022-05-27T16:21:10.626Z"
   },
   {
    "duration": 753,
    "start_time": "2022-05-27T16:21:12.656Z"
   },
   {
    "duration": 18,
    "start_time": "2022-05-27T16:21:13.412Z"
   },
   {
    "duration": 18,
    "start_time": "2022-05-27T16:21:14.163Z"
   },
   {
    "duration": 20,
    "start_time": "2022-05-27T16:21:14.792Z"
   },
   {
    "duration": 269,
    "start_time": "2022-05-27T16:21:15.574Z"
   },
   {
    "duration": 245,
    "start_time": "2022-05-27T16:21:16.862Z"
   },
   {
    "duration": 126,
    "start_time": "2022-05-27T16:21:17.904Z"
   },
   {
    "duration": 6,
    "start_time": "2022-05-27T16:21:21.036Z"
   },
   {
    "duration": 5,
    "start_time": "2022-05-27T16:21:21.876Z"
   },
   {
    "duration": 1626,
    "start_time": "2022-05-27T20:26:55.402Z"
   },
   {
    "duration": 3413,
    "start_time": "2022-05-27T20:26:57.033Z"
   },
   {
    "duration": 21,
    "start_time": "2022-05-27T20:27:00.448Z"
   },
   {
    "duration": 17,
    "start_time": "2022-05-27T20:27:00.471Z"
   },
   {
    "duration": 17,
    "start_time": "2022-05-27T20:27:00.491Z"
   },
   {
    "duration": 254,
    "start_time": "2022-05-27T20:27:00.510Z"
   },
   {
    "duration": 247,
    "start_time": "2022-05-27T20:27:00.766Z"
   },
   {
    "duration": 150,
    "start_time": "2022-05-27T20:27:01.015Z"
   },
   {
    "duration": 7,
    "start_time": "2022-05-27T20:27:01.167Z"
   },
   {
    "duration": 25,
    "start_time": "2022-05-27T20:27:01.175Z"
   },
   {
    "duration": 14,
    "start_time": "2022-05-27T20:27:01.202Z"
   },
   {
    "duration": 41,
    "start_time": "2022-05-27T20:27:01.218Z"
   },
   {
    "duration": 23,
    "start_time": "2022-05-27T20:27:01.261Z"
   },
   {
    "duration": 85,
    "start_time": "2022-05-27T20:27:01.288Z"
   },
   {
    "duration": 16,
    "start_time": "2022-05-27T20:27:01.374Z"
   },
   {
    "duration": 51,
    "start_time": "2022-05-27T20:27:01.392Z"
   },
   {
    "duration": 72,
    "start_time": "2022-05-27T20:27:01.445Z"
   },
   {
    "duration": 54,
    "start_time": "2022-05-27T20:27:01.519Z"
   },
   {
    "duration": 41,
    "start_time": "2022-05-27T20:27:01.575Z"
   },
   {
    "duration": 112,
    "start_time": "2022-05-27T20:27:01.618Z"
   },
   {
    "duration": 26,
    "start_time": "2022-05-27T20:27:01.732Z"
   },
   {
    "duration": 111,
    "start_time": "2022-05-27T20:27:01.760Z"
   },
   {
    "duration": 296,
    "start_time": "2022-05-27T20:27:01.873Z"
   },
   {
    "duration": 283,
    "start_time": "2022-05-27T20:27:02.171Z"
   },
   {
    "duration": 316,
    "start_time": "2022-05-27T20:27:02.455Z"
   },
   {
    "duration": 6,
    "start_time": "2022-05-27T20:27:02.773Z"
   },
   {
    "duration": 19,
    "start_time": "2022-05-27T20:27:02.781Z"
   },
   {
    "duration": 27,
    "start_time": "2022-05-27T20:27:02.802Z"
   },
   {
    "duration": 672,
    "start_time": "2022-05-27T20:27:02.831Z"
   },
   {
    "duration": 6,
    "start_time": "2022-05-27T20:27:03.504Z"
   },
   {
    "duration": 31,
    "start_time": "2022-05-27T20:27:03.512Z"
   },
   {
    "duration": 20,
    "start_time": "2022-05-27T20:27:03.545Z"
   },
   {
    "duration": 14,
    "start_time": "2022-05-27T20:27:03.567Z"
   },
   {
    "duration": 156,
    "start_time": "2022-05-27T20:27:03.584Z"
   },
   {
    "duration": 347,
    "start_time": "2022-05-27T20:27:03.743Z"
   },
   {
    "duration": 4,
    "start_time": "2022-05-27T20:27:04.093Z"
   },
   {
    "duration": 7,
    "start_time": "2022-05-27T20:27:04.099Z"
   },
   {
    "duration": 22,
    "start_time": "2022-05-27T20:27:04.108Z"
   },
   {
    "duration": 16,
    "start_time": "2022-05-27T20:27:04.138Z"
   },
   {
    "duration": 7,
    "start_time": "2022-05-27T20:27:04.156Z"
   },
   {
    "duration": 15,
    "start_time": "2022-05-27T20:27:04.171Z"
   },
   {
    "duration": 8,
    "start_time": "2022-05-27T20:27:04.188Z"
   },
   {
    "duration": 9,
    "start_time": "2022-05-27T20:27:04.197Z"
   },
   {
    "duration": 132,
    "start_time": "2022-05-27T20:27:04.207Z"
   },
   {
    "duration": 90,
    "start_time": "2022-05-27T20:27:04.341Z"
   },
   {
    "duration": 15933,
    "start_time": "2022-05-27T20:27:04.433Z"
   },
   {
    "duration": 4,
    "start_time": "2022-05-27T20:27:20.368Z"
   },
   {
    "duration": 66,
    "start_time": "2022-05-27T20:27:20.373Z"
   },
   {
    "duration": 100024,
    "start_time": "2022-05-27T20:27:20.441Z"
   },
   {
    "duration": 4,
    "start_time": "2022-05-27T20:29:00.467Z"
   },
   {
    "duration": 485,
    "start_time": "2022-05-27T20:29:00.472Z"
   },
   {
    "duration": 992,
    "start_time": "2022-05-27T20:29:00.959Z"
   },
   {
    "duration": 279,
    "start_time": "2022-05-27T20:29:02.024Z"
   },
   {
    "duration": 2531,
    "start_time": "2022-05-27T20:29:02.304Z"
   },
   {
    "duration": 5,
    "start_time": "2022-05-27T20:29:04.838Z"
   },
   {
    "duration": 11,
    "start_time": "2022-05-27T20:29:04.845Z"
   },
   {
    "duration": 8,
    "start_time": "2022-05-27T20:29:04.858Z"
   },
   {
    "duration": 4,
    "start_time": "2022-05-27T20:29:04.868Z"
   },
   {
    "duration": 360,
    "start_time": "2022-05-27T20:29:04.874Z"
   },
   {
    "duration": 17560,
    "start_time": "2022-05-27T20:29:05.236Z"
   },
   {
    "duration": 5,
    "start_time": "2022-05-27T20:29:22.798Z"
   },
   {
    "duration": 85,
    "start_time": "2022-05-27T20:29:22.805Z"
   },
   {
    "duration": 1396,
    "start_time": "2022-05-27T20:37:00.262Z"
   },
   {
    "duration": 935,
    "start_time": "2022-05-27T20:37:01.661Z"
   },
   {
    "duration": 28,
    "start_time": "2022-05-27T20:37:02.600Z"
   },
   {
    "duration": 42,
    "start_time": "2022-05-27T20:37:02.632Z"
   },
   {
    "duration": 17,
    "start_time": "2022-05-27T20:37:02.677Z"
   },
   {
    "duration": 305,
    "start_time": "2022-05-27T20:37:02.697Z"
   },
   {
    "duration": 243,
    "start_time": "2022-05-27T20:37:03.003Z"
   },
   {
    "duration": 144,
    "start_time": "2022-05-27T20:37:03.248Z"
   },
   {
    "duration": 6,
    "start_time": "2022-05-27T20:37:03.394Z"
   },
   {
    "duration": 5,
    "start_time": "2022-05-27T20:37:03.403Z"
   },
   {
    "duration": 31,
    "start_time": "2022-05-27T20:37:03.409Z"
   },
   {
    "duration": 22,
    "start_time": "2022-05-27T20:37:03.442Z"
   },
   {
    "duration": 13,
    "start_time": "2022-05-27T20:37:03.466Z"
   },
   {
    "duration": 104,
    "start_time": "2022-05-27T20:37:03.481Z"
   },
   {
    "duration": 13,
    "start_time": "2022-05-27T20:37:03.587Z"
   },
   {
    "duration": 37,
    "start_time": "2022-05-27T20:37:03.601Z"
   },
   {
    "duration": 14,
    "start_time": "2022-05-27T20:37:03.640Z"
   },
   {
    "duration": 12,
    "start_time": "2022-05-27T20:37:03.655Z"
   },
   {
    "duration": 16,
    "start_time": "2022-05-27T20:37:03.669Z"
   },
   {
    "duration": 100,
    "start_time": "2022-05-27T20:37:03.687Z"
   },
   {
    "duration": 21,
    "start_time": "2022-05-27T20:37:03.789Z"
   },
   {
    "duration": 102,
    "start_time": "2022-05-27T20:37:03.812Z"
   },
   {
    "duration": 268,
    "start_time": "2022-05-27T20:37:03.915Z"
   },
   {
    "duration": 256,
    "start_time": "2022-05-27T20:37:04.184Z"
   },
   {
    "duration": 246,
    "start_time": "2022-05-27T20:37:04.442Z"
   },
   {
    "duration": 5,
    "start_time": "2022-05-27T20:37:04.690Z"
   },
   {
    "duration": 8,
    "start_time": "2022-05-27T20:37:04.697Z"
   },
   {
    "duration": 12,
    "start_time": "2022-05-27T20:37:04.726Z"
   },
   {
    "duration": 710,
    "start_time": "2022-05-27T20:37:04.739Z"
   },
   {
    "duration": 5,
    "start_time": "2022-05-27T20:37:05.451Z"
   },
   {
    "duration": 26,
    "start_time": "2022-05-27T20:37:05.458Z"
   },
   {
    "duration": 15,
    "start_time": "2022-05-27T20:37:05.486Z"
   },
   {
    "duration": 37,
    "start_time": "2022-05-27T20:37:05.502Z"
   },
   {
    "duration": 133,
    "start_time": "2022-05-27T20:37:05.541Z"
   },
   {
    "duration": 354,
    "start_time": "2022-05-27T20:37:05.676Z"
   },
   {
    "duration": 7,
    "start_time": "2022-05-27T20:37:06.031Z"
   },
   {
    "duration": 8,
    "start_time": "2022-05-27T20:37:06.040Z"
   },
   {
    "duration": 11,
    "start_time": "2022-05-27T20:37:06.049Z"
   },
   {
    "duration": 6,
    "start_time": "2022-05-27T20:37:06.062Z"
   },
   {
    "duration": 11,
    "start_time": "2022-05-27T20:37:06.069Z"
   },
   {
    "duration": 13,
    "start_time": "2022-05-27T20:37:06.082Z"
   },
   {
    "duration": 18,
    "start_time": "2022-05-27T20:37:06.097Z"
   },
   {
    "duration": 14,
    "start_time": "2022-05-27T20:37:06.116Z"
   },
   {
    "duration": 186,
    "start_time": "2022-05-27T20:37:06.139Z"
   },
   {
    "duration": 9,
    "start_time": "2022-05-27T20:37:06.329Z"
   },
   {
    "duration": 16047,
    "start_time": "2022-05-27T20:37:06.342Z"
   },
   {
    "duration": 3,
    "start_time": "2022-05-27T20:37:22.391Z"
   },
   {
    "duration": 48,
    "start_time": "2022-05-27T20:37:22.396Z"
   },
   {
    "duration": 99374,
    "start_time": "2022-05-27T20:37:22.447Z"
   },
   {
    "duration": 14,
    "start_time": "2022-05-27T20:39:01.823Z"
   },
   {
    "duration": 1055,
    "start_time": "2022-05-27T20:39:01.839Z"
   },
   {
    "duration": 939,
    "start_time": "2022-05-27T20:39:02.896Z"
   },
   {
    "duration": 240,
    "start_time": "2022-05-27T20:39:03.837Z"
   },
   {
    "duration": 4638,
    "start_time": "2022-05-27T20:39:04.079Z"
   },
   {
    "duration": 9,
    "start_time": "2022-05-27T20:39:08.725Z"
   },
   {
    "duration": 12,
    "start_time": "2022-05-27T20:39:08.736Z"
   },
   {
    "duration": 8,
    "start_time": "2022-05-27T20:39:08.750Z"
   },
   {
    "duration": 4,
    "start_time": "2022-05-27T20:39:08.760Z"
   },
   {
    "duration": 372,
    "start_time": "2022-05-27T20:39:08.766Z"
   },
   {
    "duration": 16489,
    "start_time": "2022-05-27T20:39:09.141Z"
   },
   {
    "duration": 8,
    "start_time": "2022-05-27T20:39:25.632Z"
   },
   {
    "duration": 51,
    "start_time": "2022-05-27T20:39:25.641Z"
   },
   {
    "duration": 224573,
    "start_time": "2022-05-27T20:39:25.693Z"
   },
   {
    "duration": 5,
    "start_time": "2022-05-27T20:43:10.268Z"
   },
   {
    "duration": 5413,
    "start_time": "2022-05-27T20:43:10.275Z"
   },
   {
    "duration": 2040,
    "start_time": "2022-05-27T20:43:15.690Z"
   },
   {
    "duration": 340,
    "start_time": "2022-05-27T20:43:17.731Z"
   },
   {
    "duration": 27949,
    "start_time": "2022-05-27T20:43:18.072Z"
   },
   {
    "duration": 10,
    "start_time": "2022-05-27T20:43:46.023Z"
   },
   {
    "duration": 19,
    "start_time": "2022-05-27T20:43:46.036Z"
   },
   {
    "duration": 128,
    "start_time": "2022-05-27T20:43:46.056Z"
   },
   {
    "duration": 6,
    "start_time": "2022-05-27T20:43:46.185Z"
   },
   {
    "duration": 8,
    "start_time": "2022-05-27T20:43:46.192Z"
   },
   {
    "duration": 4,
    "start_time": "2022-05-27T20:43:46.202Z"
   },
   {
    "duration": 26,
    "start_time": "2022-05-27T20:43:46.208Z"
   },
   {
    "duration": 10,
    "start_time": "2022-05-27T20:43:46.235Z"
   },
   {
    "duration": 18,
    "start_time": "2022-05-27T20:43:46.246Z"
   },
   {
    "duration": 6,
    "start_time": "2022-05-27T20:43:46.265Z"
   },
   {
    "duration": 7,
    "start_time": "2022-05-27T20:43:46.273Z"
   },
   {
    "duration": 9,
    "start_time": "2022-05-27T20:43:46.282Z"
   },
   {
    "duration": 6,
    "start_time": "2022-05-27T20:43:46.292Z"
   },
   {
    "duration": 13,
    "start_time": "2022-05-27T20:43:46.325Z"
   },
   {
    "duration": 9,
    "start_time": "2022-05-27T20:43:46.339Z"
   },
   {
    "duration": 10,
    "start_time": "2022-05-27T20:43:46.349Z"
   },
   {
    "duration": 2076,
    "start_time": "2022-05-28T05:00:56.192Z"
   },
   {
    "duration": 3072,
    "start_time": "2022-05-28T05:00:58.270Z"
   },
   {
    "duration": 24,
    "start_time": "2022-05-28T05:02:31.448Z"
   },
   {
    "duration": 17,
    "start_time": "2022-05-28T05:02:32.098Z"
   },
   {
    "duration": 13,
    "start_time": "2022-05-28T05:02:32.701Z"
   },
   {
    "duration": 266,
    "start_time": "2022-05-28T05:02:33.254Z"
   },
   {
    "duration": 227,
    "start_time": "2022-05-28T05:02:33.871Z"
   },
   {
    "duration": 128,
    "start_time": "2022-05-28T05:02:34.537Z"
   },
   {
    "duration": 880,
    "start_time": "2022-05-28T05:02:53.490Z"
   },
   {
    "duration": 4,
    "start_time": "2022-05-28T05:02:54.372Z"
   },
   {
    "duration": 4,
    "start_time": "2022-05-28T05:05:31.186Z"
   },
   {
    "duration": 13,
    "start_time": "2022-05-28T05:07:05.766Z"
   },
   {
    "duration": 14,
    "start_time": "2022-05-28T05:07:06.507Z"
   },
   {
    "duration": 59,
    "start_time": "2022-05-28T05:07:07.049Z"
   },
   {
    "duration": 13,
    "start_time": "2022-05-28T05:07:07.620Z"
   },
   {
    "duration": 22,
    "start_time": "2022-05-28T05:07:10.214Z"
   },
   {
    "duration": 22,
    "start_time": "2022-05-28T05:07:10.924Z"
   },
   {
    "duration": 14,
    "start_time": "2022-05-28T05:07:11.397Z"
   },
   {
    "duration": 17,
    "start_time": "2022-05-28T05:07:11.924Z"
   },
   {
    "duration": 74,
    "start_time": "2022-05-28T05:07:12.613Z"
   },
   {
    "duration": 22,
    "start_time": "2022-05-28T05:07:13.380Z"
   },
   {
    "duration": 89,
    "start_time": "2022-05-28T05:07:13.638Z"
   },
   {
    "duration": 875,
    "start_time": "2022-05-28T05:09:17.079Z"
   },
   {
    "duration": 230,
    "start_time": "2022-05-28T05:09:17.956Z"
   },
   {
    "duration": 247,
    "start_time": "2022-05-28T05:09:18.187Z"
   },
   {
    "duration": 6,
    "start_time": "2022-05-28T05:09:18.903Z"
   },
   {
    "duration": 6,
    "start_time": "2022-05-28T05:09:20.797Z"
   },
   {
    "duration": 6,
    "start_time": "2022-05-28T05:09:20.984Z"
   },
   {
    "duration": 719,
    "start_time": "2022-05-28T05:11:52.167Z"
   },
   {
    "duration": 5,
    "start_time": "2022-05-28T05:12:15.778Z"
   },
   {
    "duration": 19,
    "start_time": "2022-05-28T05:12:16.293Z"
   },
   {
    "duration": 15,
    "start_time": "2022-05-28T05:12:16.632Z"
   },
   {
    "duration": 15,
    "start_time": "2022-05-28T05:12:16.837Z"
   },
   {
    "duration": 17,
    "start_time": "2022-05-28T05:12:17.122Z"
   },
   {
    "duration": 327,
    "start_time": "2022-05-28T05:12:17.808Z"
   },
   {
    "duration": 3,
    "start_time": "2022-05-28T05:14:16.421Z"
   },
   {
    "duration": 3,
    "start_time": "2022-05-28T05:14:16.934Z"
   },
   {
    "duration": 3,
    "start_time": "2022-05-28T05:14:42.599Z"
   },
   {
    "duration": 4,
    "start_time": "2022-05-28T05:14:46.752Z"
   },
   {
    "duration": 4,
    "start_time": "2022-05-28T05:14:47.282Z"
   },
   {
    "duration": 10,
    "start_time": "2022-05-28T05:14:48.458Z"
   },
   {
    "duration": 5,
    "start_time": "2022-05-28T05:14:49.076Z"
   }
  ],
  "kernelspec": {
   "display_name": "Python 3 (ipykernel)",
   "language": "python",
   "name": "python3"
  },
  "language_info": {
   "codemirror_mode": {
    "name": "ipython",
    "version": 3
   },
   "file_extension": ".py",
   "mimetype": "text/x-python",
   "name": "python",
   "nbconvert_exporter": "python",
   "pygments_lexer": "ipython3",
   "version": "3.9.7"
  },
  "toc": {
   "base_numbering": 1,
   "nav_menu": {},
   "number_sections": true,
   "sideBar": true,
   "skip_h1_title": true,
   "title_cell": "Содержание",
   "title_sidebar": "Contents",
   "toc_cell": true,
   "toc_position": {},
   "toc_section_display": true,
   "toc_window_display": true
  }
 },
 "nbformat": 4,
 "nbformat_minor": 2
}
