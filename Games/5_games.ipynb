{
 "cells": [
  {
   "cell_type": "markdown",
   "metadata": {},
   "source": [
    "**Выявление закономерностей, определяющих успешность игры** "
   ]
  },
  {
   "cell_type": "markdown",
   "metadata": {
    "toc": true
   },
   "source": [
    "<h1>Содержание:<span class=\"tocSkip\"></span></h1>\n",
    "<div class=\"toc\"><ul class=\"toc-item\"><li><span><a href=\"#Подготовка-данных\" data-toc-modified-id=\"Подготовка-данных-1\"><span class=\"toc-item-num\">1&nbsp;&nbsp;</span>Подготовка данных</a></span><ul class=\"toc-item\"><li><span><a href=\"#Работа-с-пропусками-данных\" data-toc-modified-id=\"Работа-с-пропусками-данных-1.1\"><span class=\"toc-item-num\">1.1&nbsp;&nbsp;</span>Работа с пропусками данных</a></span></li><li><span><a href=\"#Преобразование-типов-данных\" data-toc-modified-id=\"Преобразование-типов-данных-1.2\"><span class=\"toc-item-num\">1.2&nbsp;&nbsp;</span>Преобразование типов данных</a></span></li><li><span><a href=\"#Вывод\" data-toc-modified-id=\"Вывод-1.3\"><span class=\"toc-item-num\">1.3&nbsp;&nbsp;</span>Вывод</a></span></li></ul></li><li><span><a href=\"#Исследовательский-анализ-данных\" data-toc-modified-id=\"Исследовательский-анализ-данных-2\"><span class=\"toc-item-num\">2&nbsp;&nbsp;</span>Исследовательский анализ данных</a></span><ul class=\"toc-item\"><li><span><a href=\"#Количество-игр-в-разные-годы.-Выбор-временного-периода-для-дальнейшей-работы\" data-toc-modified-id=\"Количество-игр-в-разные-годы.-Выбор-временного-периода-для-дальнейшей-работы-2.1\"><span class=\"toc-item-num\">2.1&nbsp;&nbsp;</span>Количество игр в разные годы. Выбор временного периода для дальнейшей работы</a></span></li><li><span><a href=\"#Изучение-продаж-по-платформам.-Выбор-платформ-с-наибольшими-суммарными-продажами.-Определение-жизненного-цикла-платформы\" data-toc-modified-id=\"Изучение-продаж-по-платформам.-Выбор-платформ-с-наибольшими-суммарными-продажами.-Определение-жизненного-цикла-платформы-2.2\"><span class=\"toc-item-num\">2.2&nbsp;&nbsp;</span>Изучение продаж по платформам. Выбор платформ с наибольшими суммарными продажами. Определение жизненного цикла платформы</a></span></li><li><span><a href=\"#Определение-актуального-периода\" data-toc-modified-id=\"Определение-актуального-периода-2.3\"><span class=\"toc-item-num\">2.3&nbsp;&nbsp;</span>Определение актуального периода</a></span></li><li><span><a href=\"#Выбор-потенциально-прибыльных-платформ\" data-toc-modified-id=\"Выбор-потенциально-прибыльных-платформ-2.4\"><span class=\"toc-item-num\">2.4&nbsp;&nbsp;</span>Выбор потенциально прибыльных платформ</a></span></li><li><span><a href=\"#«Ящик-с-усами»-по-глобальным-продажам-игр-в-разбивке-по-платформам\" data-toc-modified-id=\"«Ящик-с-усами»-по-глобальным-продажам-игр-в-разбивке-по-платформам-2.5\"><span class=\"toc-item-num\">2.5&nbsp;&nbsp;</span>«Ящик с усами» по глобальным продажам игр в разбивке по платформам</a></span></li><li><span><a href=\"#Влияние-на-продажи-внутри-одной-популярной-платформы-отзывов-пользователей-и-критиков\" data-toc-modified-id=\"Влияние-на-продажи-внутри-одной-популярной-платформы-отзывов-пользователей-и-критиков-2.6\"><span class=\"toc-item-num\">2.6&nbsp;&nbsp;</span>Влияние на продажи внутри одной популярной платформы отзывов пользователей и критиков</a></span></li><li><span><a href=\"#Есть-ли-зависимость-продаж-игр-от-оценок-критиков-и-пользователей\" data-toc-modified-id=\"Есть-ли-зависимость-продаж-игр-от-оценок-критиков-и-пользователей-2.7\"><span class=\"toc-item-num\">2.7&nbsp;&nbsp;</span>Есть ли зависимость продаж игр от оценок критиков и пользователей</a></span></li><li><span><a href=\"#Общее-распределение-игр-по-жанрам\" data-toc-modified-id=\"Общее-распределение-игр-по-жанрам-2.8\"><span class=\"toc-item-num\">2.8&nbsp;&nbsp;</span>Общее распределение игр по жанрам</a></span></li><li><span><a href=\"#Вывод\" data-toc-modified-id=\"Вывод-2.9\"><span class=\"toc-item-num\">2.9&nbsp;&nbsp;</span>Вывод</a></span></li></ul></li><li><span><a href=\"#Портрет-пользователя-каждого-региона\" data-toc-modified-id=\"Портрет-пользователя-каждого-региона-3\"><span class=\"toc-item-num\">3&nbsp;&nbsp;</span>Портрет пользователя каждого региона</a></span><ul class=\"toc-item\"><li><span><a href=\"#Самые-популярные-платформы--для-пользователя-каждого-региона-(NA,-EU,-JP)\" data-toc-modified-id=\"Самые-популярные-платформы--для-пользователя-каждого-региона-(NA,-EU,-JP)-3.1\"><span class=\"toc-item-num\">3.1&nbsp;&nbsp;</span>Самые популярные платформы  для пользователя каждого региона (NA, EU, JP)</a></span></li><li><span><a href=\"#Самые-популярные-жанры--для-пользователя-каждого-региона-(NA,-EU,-JP)\" data-toc-modified-id=\"Самые-популярные-жанры--для-пользователя-каждого-региона-(NA,-EU,-JP)-3.2\"><span class=\"toc-item-num\">3.2&nbsp;&nbsp;</span>Самые популярные жанры  для пользователя каждого региона (NA, EU, JP)</a></span></li><li><span><a href=\"#Влияние-рейтинга-ESRB-на-продажи-в-отдельном-регионе\" data-toc-modified-id=\"Влияние-рейтинга-ESRB-на-продажи-в-отдельном-регионе-3.3\"><span class=\"toc-item-num\">3.3&nbsp;&nbsp;</span>Влияние рейтинга ESRB на продажи в отдельном регионе</a></span></li><li><span><a href=\"#Вывод\" data-toc-modified-id=\"Вывод-3.4\"><span class=\"toc-item-num\">3.4&nbsp;&nbsp;</span>Вывод</a></span></li></ul></li><li><span><a href=\"#Проверка-гипотез\" data-toc-modified-id=\"Проверка-гипотез-4\"><span class=\"toc-item-num\">4&nbsp;&nbsp;</span>Проверка гипотез</a></span><ul class=\"toc-item\"><li><span><a href=\"#Средние-пользовательские-рейтинги-платформ-Xbox-One-и-PC-одинаковые\" data-toc-modified-id=\"Средние-пользовательские-рейтинги-платформ-Xbox-One-и-PC-одинаковые-4.1\"><span class=\"toc-item-num\">4.1&nbsp;&nbsp;</span>Средние пользовательские рейтинги платформ Xbox One и PC одинаковые</a></span></li><li><span><a href=\"#Средние-пользовательские-рейтинги-жанров-Action-(англ.-«действие»,-экшен-игры)-и-Sports-(англ.-«спортивные-соревнования»)-разные.\" data-toc-modified-id=\"Средние-пользовательские-рейтинги-жанров-Action-(англ.-«действие»,-экшен-игры)-и-Sports-(англ.-«спортивные-соревнования»)-разные.-4.2\"><span class=\"toc-item-num\">4.2&nbsp;&nbsp;</span>Средние пользовательские рейтинги жанров Action (англ. «действие», экшен-игры) и Sports (англ. «спортивные соревнования») разные.</a></span></li><li><span><a href=\"#Вывод\" data-toc-modified-id=\"Вывод-4.3\"><span class=\"toc-item-num\">4.3&nbsp;&nbsp;</span>Вывод</a></span></li></ul></li><li><span><a href=\"#Вывод\" data-toc-modified-id=\"Вывод-5\"><span class=\"toc-item-num\">5&nbsp;&nbsp;</span>Вывод</a></span></li></ul></div>"
   ]
  },
  {
   "cell_type": "markdown",
   "metadata": {},
   "source": [
    "Цель исследования - выявить определяющие успешность игры закономерности. \n",
    "Практическое применение - определить потенциально популярный продукт, спланировать рекламные кампании."
   ]
  },
  {
   "cell_type": "markdown",
   "metadata": {},
   "source": [
    "## Подготовка данных"
   ]
  },
  {
   "cell_type": "markdown",
   "metadata": {},
   "source": [
    "Описание данных:\n",
    " - Name — название игры\n",
    " - Platform — платформа\n",
    " - Year_of_Release — год выпуска\n",
    " - Genre — жанр игры\n",
    " - NA_sales — продажи в Северной Америке (миллионы проданных копий)\n",
    " - EU_sales — продажи в Европе (миллионы проданных копий)\n",
    " - JP_sales — продажи в Японии (миллионы проданных копий)\n",
    " - Other_sales — продажи в других странах (миллионы проданных копий)\n",
    " - Critic_Score — оценка критиков (максимум 100)\n",
    " - User_Score — оценка пользователей (максимум 10)\n",
    " - Rating — рейтинг от организации ESRB (англ. Entertainment Software Rating Board). Эта ассоциация определяет рейтинг компьютерных игр и присваивает им подходящую возрастную категорию."
   ]
  },
  {
   "cell_type": "markdown",
   "metadata": {},
   "source": [
    "Доступны данные до 2016 года. "
   ]
  },
  {
   "cell_type": "code",
   "execution_count": 1,
   "metadata": {},
   "outputs": [],
   "source": [
    "# импорт библиотек\n",
    "import pandas as pd\n",
    "import numpy as np\n",
    "from IPython import display\n",
    "\n",
    "import matplotlib.pyplot as plt\n",
    "import seaborn as sns\n",
    "\n",
    "from scipy import stats as st\n",
    "\n",
    "import warnings\n",
    "warnings.filterwarnings(\"ignore\")"
   ]
  },
  {
   "cell_type": "code",
   "execution_count": 2,
   "metadata": {},
   "outputs": [],
   "source": [
    "data = data = pd.read_csv('/datasets/games.csv')"
   ]
  },
  {
   "cell_type": "code",
   "execution_count": 3,
   "metadata": {},
   "outputs": [
    {
     "name": "stdout",
     "output_type": "stream",
     "text": [
      "<class 'pandas.core.frame.DataFrame'>\n",
      "RangeIndex: 16715 entries, 0 to 16714\n",
      "Data columns (total 11 columns):\n",
      " #   Column           Non-Null Count  Dtype  \n",
      "---  ------           --------------  -----  \n",
      " 0   Name             16713 non-null  object \n",
      " 1   Platform         16715 non-null  object \n",
      " 2   Year_of_Release  16446 non-null  float64\n",
      " 3   Genre            16713 non-null  object \n",
      " 4   NA_sales         16715 non-null  float64\n",
      " 5   EU_sales         16715 non-null  float64\n",
      " 6   JP_sales         16715 non-null  float64\n",
      " 7   Other_sales      16715 non-null  float64\n",
      " 8   Critic_Score     8137 non-null   float64\n",
      " 9   User_Score       10014 non-null  object \n",
      " 10  Rating           9949 non-null   object \n",
      "dtypes: float64(6), object(5)\n",
      "memory usage: 1.4+ MB\n"
     ]
    }
   ],
   "source": [
    "# посмотрим данные\n",
    "data.info()"
   ]
  },
  {
   "cell_type": "code",
   "execution_count": 4,
   "metadata": {},
   "outputs": [],
   "source": [
    "# приведем к нижнему регистру\n",
    "data.columns = data.columns.str.lower()"
   ]
  },
  {
   "cell_type": "code",
   "execution_count": 5,
   "metadata": {},
   "outputs": [
    {
     "name": "stdout",
     "output_type": "stream",
     "text": [
      "<class 'pandas.core.frame.DataFrame'>\n",
      "RangeIndex: 16715 entries, 0 to 16714\n",
      "Data columns (total 11 columns):\n",
      " #   Column           Non-Null Count  Dtype  \n",
      "---  ------           --------------  -----  \n",
      " 0   name             16713 non-null  object \n",
      " 1   platform         16715 non-null  object \n",
      " 2   year_of_release  16446 non-null  float64\n",
      " 3   genre            16713 non-null  object \n",
      " 4   na_sales         16715 non-null  float64\n",
      " 5   eu_sales         16715 non-null  float64\n",
      " 6   jp_sales         16715 non-null  float64\n",
      " 7   other_sales      16715 non-null  float64\n",
      " 8   critic_score     8137 non-null   float64\n",
      " 9   user_score       10014 non-null  object \n",
      " 10  rating           9949 non-null   object \n",
      "dtypes: float64(6), object(5)\n",
      "memory usage: 1.4+ MB\n"
     ]
    }
   ],
   "source": [
    "# проверим\n",
    "data.info()"
   ]
  },
  {
   "cell_type": "code",
   "execution_count": 6,
   "metadata": {},
   "outputs": [
    {
     "data": {
      "text/plain": [
       "0"
      ]
     },
     "execution_count": 6,
     "metadata": {},
     "output_type": "execute_result"
    }
   ],
   "source": [
    "# посмотрим наличие дубликатов в данных\n",
    "data.duplicated().sum()"
   ]
  },
  {
   "cell_type": "code",
   "execution_count": 7,
   "metadata": {},
   "outputs": [
    {
     "data": {
      "text/plain": [
       "name                  2\n",
       "platform              0\n",
       "year_of_release     269\n",
       "genre                 2\n",
       "na_sales              0\n",
       "eu_sales              0\n",
       "jp_sales              0\n",
       "other_sales           0\n",
       "critic_score       8578\n",
       "user_score         6701\n",
       "rating             6766\n",
       "dtype: int64"
      ]
     },
     "execution_count": 7,
     "metadata": {},
     "output_type": "execute_result"
    }
   ],
   "source": [
    "data.isna().sum()"
   ]
  },
  {
   "cell_type": "markdown",
   "metadata": {},
   "source": [
    "Больше всего неответов в critic_score - 8578, на втором месте rating - 6766, на третьем - user_score - 6701. 269 пропусков в year_of_release. По 2 пропуска в name и genre. Последние мы удалим. Пропуски в critic_score и user_score составляют 51% и 40% данных. Заменим на медиану по группам. Изменим тип на int и float.\n",
    "У year_of_release нужно изментиь тип данных на int."
   ]
  },
  {
   "cell_type": "markdown",
   "metadata": {},
   "source": [
    "### Работа с пропусками данных"
   ]
  },
  {
   "cell_type": "code",
   "execution_count": 8,
   "metadata": {},
   "outputs": [
    {
     "data": {
      "text/plain": [
       "name                  2\n",
       "platform              0\n",
       "year_of_release     269\n",
       "genre                 2\n",
       "na_sales              0\n",
       "eu_sales              0\n",
       "jp_sales              0\n",
       "other_sales           0\n",
       "critic_score       8578\n",
       "user_score         6701\n",
       "rating             6766\n",
       "dtype: int64"
      ]
     },
     "execution_count": 8,
     "metadata": {},
     "output_type": "execute_result"
    }
   ],
   "source": [
    "# посмотрим пропуски\n",
    "data.isna().sum()"
   ]
  },
  {
   "cell_type": "code",
   "execution_count": 9,
   "metadata": {},
   "outputs": [
    {
     "data": {
      "text/html": [
       "<div>\n",
       "<style scoped>\n",
       "    .dataframe tbody tr th:only-of-type {\n",
       "        vertical-align: middle;\n",
       "    }\n",
       "\n",
       "    .dataframe tbody tr th {\n",
       "        vertical-align: top;\n",
       "    }\n",
       "\n",
       "    .dataframe thead th {\n",
       "        text-align: right;\n",
       "    }\n",
       "</style>\n",
       "<table border=\"1\" class=\"dataframe\">\n",
       "  <thead>\n",
       "    <tr style=\"text-align: right;\">\n",
       "      <th></th>\n",
       "      <th>name</th>\n",
       "      <th>platform</th>\n",
       "      <th>year_of_release</th>\n",
       "      <th>genre</th>\n",
       "      <th>na_sales</th>\n",
       "      <th>eu_sales</th>\n",
       "      <th>jp_sales</th>\n",
       "      <th>other_sales</th>\n",
       "      <th>critic_score</th>\n",
       "      <th>user_score</th>\n",
       "      <th>rating</th>\n",
       "    </tr>\n",
       "  </thead>\n",
       "  <tbody>\n",
       "    <tr>\n",
       "      <th>659</th>\n",
       "      <td>NaN</td>\n",
       "      <td>GEN</td>\n",
       "      <td>1993.0</td>\n",
       "      <td>NaN</td>\n",
       "      <td>1.78</td>\n",
       "      <td>0.53</td>\n",
       "      <td>0.00</td>\n",
       "      <td>0.08</td>\n",
       "      <td>NaN</td>\n",
       "      <td>NaN</td>\n",
       "      <td>NaN</td>\n",
       "    </tr>\n",
       "    <tr>\n",
       "      <th>14244</th>\n",
       "      <td>NaN</td>\n",
       "      <td>GEN</td>\n",
       "      <td>1993.0</td>\n",
       "      <td>NaN</td>\n",
       "      <td>0.00</td>\n",
       "      <td>0.00</td>\n",
       "      <td>0.03</td>\n",
       "      <td>0.00</td>\n",
       "      <td>NaN</td>\n",
       "      <td>NaN</td>\n",
       "      <td>NaN</td>\n",
       "    </tr>\n",
       "  </tbody>\n",
       "</table>\n",
       "</div>"
      ],
      "text/plain": [
       "      name platform  year_of_release genre  na_sales  eu_sales  jp_sales  \\\n",
       "659    NaN      GEN           1993.0   NaN      1.78      0.53      0.00   \n",
       "14244  NaN      GEN           1993.0   NaN      0.00      0.00      0.03   \n",
       "\n",
       "       other_sales  critic_score user_score rating  \n",
       "659           0.08           NaN        NaN    NaN  \n",
       "14244         0.00           NaN        NaN    NaN  "
      ]
     },
     "execution_count": 9,
     "metadata": {},
     "output_type": "execute_result"
    }
   ],
   "source": [
    "# посмотрим пропуски в \"name\"\n",
    "data[data['name'].isna() == True]"
   ]
  },
  {
   "cell_type": "code",
   "execution_count": 10,
   "metadata": {},
   "outputs": [],
   "source": [
    "# названия игры нет, оценок нет, игры старые. Удалим.\n",
    "data.dropna(subset = ['name'], inplace = True)"
   ]
  },
  {
   "cell_type": "markdown",
   "metadata": {},
   "source": [
    "2 неответа в genre были в тех же строка, что и неответы в name"
   ]
  },
  {
   "cell_type": "code",
   "execution_count": 11,
   "metadata": {},
   "outputs": [
    {
     "data": {
      "text/html": [
       "<div>\n",
       "<style scoped>\n",
       "    .dataframe tbody tr th:only-of-type {\n",
       "        vertical-align: middle;\n",
       "    }\n",
       "\n",
       "    .dataframe tbody tr th {\n",
       "        vertical-align: top;\n",
       "    }\n",
       "\n",
       "    .dataframe thead th {\n",
       "        text-align: right;\n",
       "    }\n",
       "</style>\n",
       "<table border=\"1\" class=\"dataframe\">\n",
       "  <thead>\n",
       "    <tr style=\"text-align: right;\">\n",
       "      <th></th>\n",
       "      <th>name</th>\n",
       "      <th>platform</th>\n",
       "      <th>year_of_release</th>\n",
       "      <th>genre</th>\n",
       "      <th>na_sales</th>\n",
       "      <th>eu_sales</th>\n",
       "      <th>jp_sales</th>\n",
       "      <th>other_sales</th>\n",
       "      <th>critic_score</th>\n",
       "      <th>user_score</th>\n",
       "      <th>rating</th>\n",
       "    </tr>\n",
       "  </thead>\n",
       "  <tbody>\n",
       "    <tr>\n",
       "      <th>183</th>\n",
       "      <td>Madden NFL 2004</td>\n",
       "      <td>PS2</td>\n",
       "      <td>NaN</td>\n",
       "      <td>Sports</td>\n",
       "      <td>4.26</td>\n",
       "      <td>0.26</td>\n",
       "      <td>0.01</td>\n",
       "      <td>0.71</td>\n",
       "      <td>94.0</td>\n",
       "      <td>8.5</td>\n",
       "      <td>E</td>\n",
       "    </tr>\n",
       "    <tr>\n",
       "      <th>377</th>\n",
       "      <td>FIFA Soccer 2004</td>\n",
       "      <td>PS2</td>\n",
       "      <td>NaN</td>\n",
       "      <td>Sports</td>\n",
       "      <td>0.59</td>\n",
       "      <td>2.36</td>\n",
       "      <td>0.04</td>\n",
       "      <td>0.51</td>\n",
       "      <td>84.0</td>\n",
       "      <td>6.4</td>\n",
       "      <td>E</td>\n",
       "    </tr>\n",
       "    <tr>\n",
       "      <th>456</th>\n",
       "      <td>LEGO Batman: The Videogame</td>\n",
       "      <td>Wii</td>\n",
       "      <td>NaN</td>\n",
       "      <td>Action</td>\n",
       "      <td>1.80</td>\n",
       "      <td>0.97</td>\n",
       "      <td>0.00</td>\n",
       "      <td>0.29</td>\n",
       "      <td>74.0</td>\n",
       "      <td>7.9</td>\n",
       "      <td>E10+</td>\n",
       "    </tr>\n",
       "    <tr>\n",
       "      <th>475</th>\n",
       "      <td>wwe Smackdown vs. Raw 2006</td>\n",
       "      <td>PS2</td>\n",
       "      <td>NaN</td>\n",
       "      <td>Fighting</td>\n",
       "      <td>1.57</td>\n",
       "      <td>1.02</td>\n",
       "      <td>0.00</td>\n",
       "      <td>0.41</td>\n",
       "      <td>NaN</td>\n",
       "      <td>NaN</td>\n",
       "      <td>NaN</td>\n",
       "    </tr>\n",
       "    <tr>\n",
       "      <th>609</th>\n",
       "      <td>Space Invaders</td>\n",
       "      <td>2600</td>\n",
       "      <td>NaN</td>\n",
       "      <td>Shooter</td>\n",
       "      <td>2.36</td>\n",
       "      <td>0.14</td>\n",
       "      <td>0.00</td>\n",
       "      <td>0.03</td>\n",
       "      <td>NaN</td>\n",
       "      <td>NaN</td>\n",
       "      <td>NaN</td>\n",
       "    </tr>\n",
       "    <tr>\n",
       "      <th>...</th>\n",
       "      <td>...</td>\n",
       "      <td>...</td>\n",
       "      <td>...</td>\n",
       "      <td>...</td>\n",
       "      <td>...</td>\n",
       "      <td>...</td>\n",
       "      <td>...</td>\n",
       "      <td>...</td>\n",
       "      <td>...</td>\n",
       "      <td>...</td>\n",
       "      <td>...</td>\n",
       "    </tr>\n",
       "    <tr>\n",
       "      <th>16373</th>\n",
       "      <td>PDC World Championship Darts 2008</td>\n",
       "      <td>PSP</td>\n",
       "      <td>NaN</td>\n",
       "      <td>Sports</td>\n",
       "      <td>0.01</td>\n",
       "      <td>0.00</td>\n",
       "      <td>0.00</td>\n",
       "      <td>0.00</td>\n",
       "      <td>43.0</td>\n",
       "      <td>tbd</td>\n",
       "      <td>E10+</td>\n",
       "    </tr>\n",
       "    <tr>\n",
       "      <th>16405</th>\n",
       "      <td>Freaky Flyers</td>\n",
       "      <td>GC</td>\n",
       "      <td>NaN</td>\n",
       "      <td>Racing</td>\n",
       "      <td>0.01</td>\n",
       "      <td>0.00</td>\n",
       "      <td>0.00</td>\n",
       "      <td>0.00</td>\n",
       "      <td>69.0</td>\n",
       "      <td>6.5</td>\n",
       "      <td>T</td>\n",
       "    </tr>\n",
       "    <tr>\n",
       "      <th>16448</th>\n",
       "      <td>Inversion</td>\n",
       "      <td>PC</td>\n",
       "      <td>NaN</td>\n",
       "      <td>Shooter</td>\n",
       "      <td>0.01</td>\n",
       "      <td>0.00</td>\n",
       "      <td>0.00</td>\n",
       "      <td>0.00</td>\n",
       "      <td>59.0</td>\n",
       "      <td>6.7</td>\n",
       "      <td>M</td>\n",
       "    </tr>\n",
       "    <tr>\n",
       "      <th>16458</th>\n",
       "      <td>Hakuouki: Shinsengumi Kitan</td>\n",
       "      <td>PS3</td>\n",
       "      <td>NaN</td>\n",
       "      <td>Adventure</td>\n",
       "      <td>0.01</td>\n",
       "      <td>0.00</td>\n",
       "      <td>0.00</td>\n",
       "      <td>0.00</td>\n",
       "      <td>NaN</td>\n",
       "      <td>NaN</td>\n",
       "      <td>NaN</td>\n",
       "    </tr>\n",
       "    <tr>\n",
       "      <th>16522</th>\n",
       "      <td>Virtua Quest</td>\n",
       "      <td>GC</td>\n",
       "      <td>NaN</td>\n",
       "      <td>Role-Playing</td>\n",
       "      <td>0.01</td>\n",
       "      <td>0.00</td>\n",
       "      <td>0.00</td>\n",
       "      <td>0.00</td>\n",
       "      <td>55.0</td>\n",
       "      <td>5.5</td>\n",
       "      <td>T</td>\n",
       "    </tr>\n",
       "  </tbody>\n",
       "</table>\n",
       "<p>269 rows × 11 columns</p>\n",
       "</div>"
      ],
      "text/plain": [
       "                                    name platform  year_of_release  \\\n",
       "183                      Madden NFL 2004      PS2              NaN   \n",
       "377                     FIFA Soccer 2004      PS2              NaN   \n",
       "456           LEGO Batman: The Videogame      Wii              NaN   \n",
       "475           wwe Smackdown vs. Raw 2006      PS2              NaN   \n",
       "609                       Space Invaders     2600              NaN   \n",
       "...                                  ...      ...              ...   \n",
       "16373  PDC World Championship Darts 2008      PSP              NaN   \n",
       "16405                      Freaky Flyers       GC              NaN   \n",
       "16448                          Inversion       PC              NaN   \n",
       "16458        Hakuouki: Shinsengumi Kitan      PS3              NaN   \n",
       "16522                       Virtua Quest       GC              NaN   \n",
       "\n",
       "              genre  na_sales  eu_sales  jp_sales  other_sales  critic_score  \\\n",
       "183          Sports      4.26      0.26      0.01         0.71          94.0   \n",
       "377          Sports      0.59      2.36      0.04         0.51          84.0   \n",
       "456          Action      1.80      0.97      0.00         0.29          74.0   \n",
       "475        Fighting      1.57      1.02      0.00         0.41           NaN   \n",
       "609         Shooter      2.36      0.14      0.00         0.03           NaN   \n",
       "...             ...       ...       ...       ...          ...           ...   \n",
       "16373        Sports      0.01      0.00      0.00         0.00          43.0   \n",
       "16405        Racing      0.01      0.00      0.00         0.00          69.0   \n",
       "16448       Shooter      0.01      0.00      0.00         0.00          59.0   \n",
       "16458     Adventure      0.01      0.00      0.00         0.00           NaN   \n",
       "16522  Role-Playing      0.01      0.00      0.00         0.00          55.0   \n",
       "\n",
       "      user_score rating  \n",
       "183          8.5      E  \n",
       "377          6.4      E  \n",
       "456          7.9   E10+  \n",
       "475          NaN    NaN  \n",
       "609          NaN    NaN  \n",
       "...          ...    ...  \n",
       "16373        tbd   E10+  \n",
       "16405        6.5      T  \n",
       "16448        6.7      M  \n",
       "16458        NaN    NaN  \n",
       "16522        5.5      T  \n",
       "\n",
       "[269 rows x 11 columns]"
      ]
     },
     "execution_count": 11,
     "metadata": {},
     "output_type": "execute_result"
    }
   ],
   "source": [
    "# посмотрим пропуски в \"year_of_release\"\n",
    "data[data['year_of_release'].isna() == True]"
   ]
  },
  {
   "cell_type": "markdown",
   "metadata": {},
   "source": [
    "269 строк с неответами. Год в наименовании, к сожалению, не показателен. Так, Madden NFL 2004 - год выпуска 2003 wwe Smackdown vs. Raw 2006 - год выпуска 2005 FIFA Soccer 2004 - год выпуска 2003 PDC World Championship Darts 2008 - год выпуска 2008 Восстанавливать год релиза поштучно слишком долго, удалять строки жаль - много других данных потеряется. Проставим неответы."
   ]
  },
  {
   "cell_type": "code",
   "execution_count": 12,
   "metadata": {},
   "outputs": [],
   "source": [
    "#Если нет никаких оценок и рейтинга, то скорее всего игра официально не вышла вообще\n",
    "data.loc[(data[['year_of_release', 'critic_score', 'user_score', 'rating']].isna().all(1)),'year_of_release']=-1000\n",
    "#Если игре нет оценок, то выход игры под вопросом. Может был только анонс.\n",
    "data.loc[(data[['year_of_release', 'critic_score', 'user_score']].isna().all(1)),'year_of_release']=-900\n",
    "#Аналогично, выход игры под вопросом - нет рейтинга критиков\n",
    "data.loc[(data[['year_of_release', 'critic_score']].isna().all(1)),'year_of_release']=-700\n",
    "#Аналогично, выход игры под вопросом -нет рейтинга пользователей\n",
    "data.loc[(data[['year_of_release', 'user_score']].isna().all(1)),'year_of_release']=-600\n",
    "# Просто неответы \n",
    "data.loc[(data[['year_of_release']].isna().all(1)),'year_of_release']=-500"
   ]
  },
  {
   "cell_type": "code",
   "execution_count": 13,
   "metadata": {},
   "outputs": [
    {
     "data": {
      "text/html": [
       "<div>\n",
       "<style scoped>\n",
       "    .dataframe tbody tr th:only-of-type {\n",
       "        vertical-align: middle;\n",
       "    }\n",
       "\n",
       "    .dataframe tbody tr th {\n",
       "        vertical-align: top;\n",
       "    }\n",
       "\n",
       "    .dataframe thead th {\n",
       "        text-align: right;\n",
       "    }\n",
       "</style>\n",
       "<table border=\"1\" class=\"dataframe\">\n",
       "  <thead>\n",
       "    <tr style=\"text-align: right;\">\n",
       "      <th></th>\n",
       "      <th>name</th>\n",
       "      <th>platform</th>\n",
       "      <th>year_of_release</th>\n",
       "      <th>genre</th>\n",
       "      <th>na_sales</th>\n",
       "      <th>eu_sales</th>\n",
       "      <th>jp_sales</th>\n",
       "      <th>other_sales</th>\n",
       "      <th>critic_score</th>\n",
       "      <th>user_score</th>\n",
       "      <th>rating</th>\n",
       "    </tr>\n",
       "  </thead>\n",
       "  <tbody>\n",
       "  </tbody>\n",
       "</table>\n",
       "</div>"
      ],
      "text/plain": [
       "Empty DataFrame\n",
       "Columns: [name, platform, year_of_release, genre, na_sales, eu_sales, jp_sales, other_sales, critic_score, user_score, rating]\n",
       "Index: []"
      ]
     },
     "execution_count": 13,
     "metadata": {},
     "output_type": "execute_result"
    }
   ],
   "source": [
    "# Проверим\n",
    "data[data['year_of_release'].isna() == True]"
   ]
  },
  {
   "cell_type": "code",
   "execution_count": 14,
   "metadata": {},
   "outputs": [
    {
     "data": {
      "text/plain": [
       "array([76., nan, 82., 80., 89., 58., 87., 91., 61., 97., 95., 77., 88.,\n",
       "       83., 94., 93., 85., 86., 98., 96., 90., 84., 73., 74., 78., 92.,\n",
       "       71., 72., 68., 62., 49., 67., 81., 66., 56., 79., 70., 59., 64.,\n",
       "       75., 60., 63., 69., 50., 25., 42., 44., 55., 48., 57., 29., 47.,\n",
       "       65., 54., 20., 53., 37., 38., 33., 52., 30., 32., 43., 45., 51.,\n",
       "       40., 46., 39., 34., 35., 41., 36., 28., 31., 27., 26., 19., 23.,\n",
       "       24., 21., 17., 22., 13.])"
      ]
     },
     "execution_count": 14,
     "metadata": {},
     "output_type": "execute_result"
    }
   ],
   "source": [
    "# Посмотрим значения\n",
    "data['critic_score'].unique()"
   ]
  },
  {
   "cell_type": "code",
   "execution_count": 15,
   "metadata": {},
   "outputs": [],
   "source": [
    "# Заменим пропуски на медиану по подгруппам \"платформа\" и \"жанр\"\n",
    "data['critic_score'] = data.groupby(['platform','genre'])['critic_score'].transform(lambda x: x.fillna(value=x.median()))"
   ]
  },
  {
   "cell_type": "code",
   "execution_count": 16,
   "metadata": {},
   "outputs": [
    {
     "data": {
      "text/plain": [
       "1132"
      ]
     },
     "execution_count": 16,
     "metadata": {},
     "output_type": "execute_result"
    }
   ],
   "source": [
    "data['critic_score'].isna().sum()"
   ]
  },
  {
   "cell_type": "markdown",
   "metadata": {},
   "source": [
    "Осталось 1132 неответа. Удалять их нельзя, слишком много наблюдений потеряем."
   ]
  },
  {
   "cell_type": "code",
   "execution_count": 17,
   "metadata": {},
   "outputs": [],
   "source": [
    "# В оценке пользователей аббревиатура 'tbd' (оценки пока нет) для анализа не имеет смысла, заменим на неответ, тип изменим на float\n",
    "data['user_score'] = data['user_score'].replace('tbd', np.nan).astype('float')"
   ]
  },
  {
   "cell_type": "code",
   "execution_count": 18,
   "metadata": {},
   "outputs": [
    {
     "data": {
      "text/plain": [
       "array([8. , nan, 8.3, 8.5, 6.6, 8.4, 8.6, 7.7, 6.3, 7.4, 8.2, 9. , 7.9,\n",
       "       8.1, 8.7, 7.1, 3.4, 5.3, 4.8, 3.2, 8.9, 6.4, 7.8, 7.5, 2.6, 7.2,\n",
       "       9.2, 7. , 7.3, 4.3, 7.6, 5.7, 5. , 9.1, 6.5, 8.8, 6.9, 9.4, 6.8,\n",
       "       6.1, 6.7, 5.4, 4. , 4.9, 4.5, 9.3, 6.2, 4.2, 6. , 3.7, 4.1, 5.8,\n",
       "       5.6, 5.5, 4.4, 4.6, 5.9, 3.9, 3.1, 2.9, 5.2, 3.3, 4.7, 5.1, 3.5,\n",
       "       2.5, 1.9, 3. , 2.7, 2.2, 2. , 9.5, 2.1, 3.6, 2.8, 1.8, 3.8, 0. ,\n",
       "       1.6, 9.6, 2.4, 1.7, 1.1, 0.3, 1.5, 0.7, 1.2, 2.3, 0.5, 1.3, 0.2,\n",
       "       0.6, 1.4, 0.9, 1. , 9.7])"
      ]
     },
     "execution_count": 18,
     "metadata": {},
     "output_type": "execute_result"
    }
   ],
   "source": [
    "data['user_score'].unique()"
   ]
  },
  {
   "cell_type": "code",
   "execution_count": 19,
   "metadata": {},
   "outputs": [],
   "source": [
    "# Заменим пропуски на медиану по подгруппам \"платформа\" и \"жанр\"\n",
    "data['user_score'] = data.groupby(['platform','genre'])['user_score'].transform(lambda x: x.fillna(value=x.median()))"
   ]
  },
  {
   "cell_type": "code",
   "execution_count": 20,
   "metadata": {},
   "outputs": [
    {
     "data": {
      "text/plain": [
       "1125"
      ]
     },
     "execution_count": 20,
     "metadata": {},
     "output_type": "execute_result"
    }
   ],
   "source": [
    "data['user_score'].isna().sum()"
   ]
  },
  {
   "cell_type": "markdown",
   "metadata": {},
   "source": [
    "Осталось 1125 неответа. Удалять их нельзя, слишком много наблюдений потеряем."
   ]
  },
  {
   "cell_type": "code",
   "execution_count": 21,
   "metadata": {},
   "outputs": [
    {
     "data": {
      "text/plain": [
       "E       3990\n",
       "T       2961\n",
       "M       1563\n",
       "E10+    1420\n",
       "EC         8\n",
       "K-A        3\n",
       "RP         3\n",
       "AO         1\n",
       "Name: rating, dtype: int64"
      ]
     },
     "execution_count": 21,
     "metadata": {},
     "output_type": "execute_result"
    }
   ],
   "source": [
    "data['rating'].value_counts()"
   ]
  },
  {
   "cell_type": "code",
   "execution_count": 22,
   "metadata": {},
   "outputs": [
    {
     "name": "stdout",
     "output_type": "stream",
     "text": [
      "<class 'pandas.core.frame.DataFrame'>\n",
      "Int64Index: 16713 entries, 0 to 16714\n",
      "Data columns (total 11 columns):\n",
      " #   Column           Non-Null Count  Dtype  \n",
      "---  ------           --------------  -----  \n",
      " 0   name             16713 non-null  object \n",
      " 1   platform         16713 non-null  object \n",
      " 2   year_of_release  16713 non-null  float64\n",
      " 3   genre            16713 non-null  object \n",
      " 4   na_sales         16713 non-null  float64\n",
      " 5   eu_sales         16713 non-null  float64\n",
      " 6   jp_sales         16713 non-null  float64\n",
      " 7   other_sales      16713 non-null  float64\n",
      " 8   critic_score     15581 non-null  float64\n",
      " 9   user_score       15588 non-null  float64\n",
      " 10  rating           9949 non-null   object \n",
      "dtypes: float64(7), object(4)\n",
      "memory usage: 1.5+ MB\n"
     ]
    }
   ],
   "source": [
    "data.info()"
   ]
  },
  {
   "cell_type": "code",
   "execution_count": 23,
   "metadata": {},
   "outputs": [],
   "source": [
    "data['rating'] = data['rating'].fillna('NR')"
   ]
  },
  {
   "cell_type": "code",
   "execution_count": 24,
   "metadata": {},
   "outputs": [
    {
     "data": {
      "text/plain": [
       "NR      6764\n",
       "E       3990\n",
       "T       2961\n",
       "M       1563\n",
       "E10+    1420\n",
       "EC         8\n",
       "K-A        3\n",
       "RP         3\n",
       "AO         1\n",
       "Name: rating, dtype: int64"
      ]
     },
     "execution_count": 24,
     "metadata": {},
     "output_type": "execute_result"
    }
   ],
   "source": [
    "data['rating'].value_counts()"
   ]
  },
  {
   "cell_type": "code",
   "execution_count": 25,
   "metadata": {},
   "outputs": [
    {
     "data": {
      "text/plain": [
       "array(['E', 'NR', 'M', 'T', 'E10+', 'K-A', 'AO', 'EC', 'RP'], dtype=object)"
      ]
     },
     "execution_count": 25,
     "metadata": {},
     "output_type": "execute_result"
    }
   ],
   "source": [
    "data['rating'].unique()"
   ]
  },
  {
   "cell_type": "code",
   "execution_count": 26,
   "metadata": {},
   "outputs": [
    {
     "data": {
      "text/html": [
       "<div>\n",
       "<style scoped>\n",
       "    .dataframe tbody tr th:only-of-type {\n",
       "        vertical-align: middle;\n",
       "    }\n",
       "\n",
       "    .dataframe tbody tr th {\n",
       "        vertical-align: top;\n",
       "    }\n",
       "\n",
       "    .dataframe thead th {\n",
       "        text-align: right;\n",
       "    }\n",
       "</style>\n",
       "<table border=\"1\" class=\"dataframe\">\n",
       "  <thead>\n",
       "    <tr style=\"text-align: right;\">\n",
       "      <th></th>\n",
       "      <th>name</th>\n",
       "      <th>platform</th>\n",
       "      <th>year_of_release</th>\n",
       "      <th>genre</th>\n",
       "      <th>na_sales</th>\n",
       "      <th>eu_sales</th>\n",
       "      <th>jp_sales</th>\n",
       "      <th>other_sales</th>\n",
       "      <th>critic_score</th>\n",
       "      <th>user_score</th>\n",
       "      <th>rating</th>\n",
       "    </tr>\n",
       "  </thead>\n",
       "  <tbody>\n",
       "    <tr>\n",
       "      <th>875</th>\n",
       "      <td>Grand Theft Auto: San Andreas</td>\n",
       "      <td>XB</td>\n",
       "      <td>2005.0</td>\n",
       "      <td>Action</td>\n",
       "      <td>1.26</td>\n",
       "      <td>0.61</td>\n",
       "      <td>0.0</td>\n",
       "      <td>0.09</td>\n",
       "      <td>93.0</td>\n",
       "      <td>8.6</td>\n",
       "      <td>AO</td>\n",
       "    </tr>\n",
       "  </tbody>\n",
       "</table>\n",
       "</div>"
      ],
      "text/plain": [
       "                              name platform  year_of_release   genre  \\\n",
       "875  Grand Theft Auto: San Andreas       XB           2005.0  Action   \n",
       "\n",
       "     na_sales  eu_sales  jp_sales  other_sales  critic_score  user_score  \\\n",
       "875      1.26      0.61       0.0         0.09          93.0         8.6   \n",
       "\n",
       "    rating  \n",
       "875     AO  "
      ]
     },
     "execution_count": 26,
     "metadata": {},
     "output_type": "execute_result"
    }
   ],
   "source": [
    "data[data['rating'] == 'AO']"
   ]
  },
  {
   "cell_type": "code",
   "execution_count": 27,
   "metadata": {},
   "outputs": [
    {
     "data": {
      "text/html": [
       "<div>\n",
       "<style scoped>\n",
       "    .dataframe tbody tr th:only-of-type {\n",
       "        vertical-align: middle;\n",
       "    }\n",
       "\n",
       "    .dataframe tbody tr th {\n",
       "        vertical-align: top;\n",
       "    }\n",
       "\n",
       "    .dataframe thead th {\n",
       "        text-align: right;\n",
       "    }\n",
       "</style>\n",
       "<table border=\"1\" class=\"dataframe\">\n",
       "  <thead>\n",
       "    <tr style=\"text-align: right;\">\n",
       "      <th></th>\n",
       "      <th>name</th>\n",
       "      <th>platform</th>\n",
       "      <th>year_of_release</th>\n",
       "      <th>genre</th>\n",
       "      <th>na_sales</th>\n",
       "      <th>eu_sales</th>\n",
       "      <th>jp_sales</th>\n",
       "      <th>other_sales</th>\n",
       "      <th>critic_score</th>\n",
       "      <th>user_score</th>\n",
       "      <th>rating</th>\n",
       "    </tr>\n",
       "  </thead>\n",
       "  <tbody>\n",
       "    <tr>\n",
       "      <th>13672</th>\n",
       "      <td>Clockwork Empires</td>\n",
       "      <td>PC</td>\n",
       "      <td>-500.0</td>\n",
       "      <td>Strategy</td>\n",
       "      <td>0.0</td>\n",
       "      <td>0.04</td>\n",
       "      <td>0.0</td>\n",
       "      <td>0.00</td>\n",
       "      <td>58.0</td>\n",
       "      <td>3.8</td>\n",
       "      <td>RP</td>\n",
       "    </tr>\n",
       "    <tr>\n",
       "      <th>14270</th>\n",
       "      <td>Supreme Ruler: Cold War</td>\n",
       "      <td>PC</td>\n",
       "      <td>2011.0</td>\n",
       "      <td>Strategy</td>\n",
       "      <td>0.0</td>\n",
       "      <td>0.03</td>\n",
       "      <td>0.0</td>\n",
       "      <td>0.01</td>\n",
       "      <td>63.0</td>\n",
       "      <td>6.8</td>\n",
       "      <td>RP</td>\n",
       "    </tr>\n",
       "    <tr>\n",
       "      <th>16180</th>\n",
       "      <td>WRC: FIA World Rally Championship</td>\n",
       "      <td>PC</td>\n",
       "      <td>-600.0</td>\n",
       "      <td>Racing</td>\n",
       "      <td>0.0</td>\n",
       "      <td>0.01</td>\n",
       "      <td>0.0</td>\n",
       "      <td>0.00</td>\n",
       "      <td>65.0</td>\n",
       "      <td>7.1</td>\n",
       "      <td>RP</td>\n",
       "    </tr>\n",
       "  </tbody>\n",
       "</table>\n",
       "</div>"
      ],
      "text/plain": [
       "                                    name platform  year_of_release     genre  \\\n",
       "13672                  Clockwork Empires       PC           -500.0  Strategy   \n",
       "14270            Supreme Ruler: Cold War       PC           2011.0  Strategy   \n",
       "16180  WRC: FIA World Rally Championship       PC           -600.0    Racing   \n",
       "\n",
       "       na_sales  eu_sales  jp_sales  other_sales  critic_score  user_score  \\\n",
       "13672       0.0      0.04       0.0         0.00          58.0         3.8   \n",
       "14270       0.0      0.03       0.0         0.01          63.0         6.8   \n",
       "16180       0.0      0.01       0.0         0.00          65.0         7.1   \n",
       "\n",
       "      rating  \n",
       "13672     RP  \n",
       "14270     RP  \n",
       "16180     RP  "
      ]
     },
     "execution_count": 27,
     "metadata": {},
     "output_type": "execute_result"
    }
   ],
   "source": [
    "data[data['rating'] == 'RP']"
   ]
  },
  {
   "cell_type": "code",
   "execution_count": 28,
   "metadata": {},
   "outputs": [
    {
     "data": {
      "text/html": [
       "<div>\n",
       "<style scoped>\n",
       "    .dataframe tbody tr th:only-of-type {\n",
       "        vertical-align: middle;\n",
       "    }\n",
       "\n",
       "    .dataframe tbody tr th {\n",
       "        vertical-align: top;\n",
       "    }\n",
       "\n",
       "    .dataframe thead th {\n",
       "        text-align: right;\n",
       "    }\n",
       "</style>\n",
       "<table border=\"1\" class=\"dataframe\">\n",
       "  <thead>\n",
       "    <tr style=\"text-align: right;\">\n",
       "      <th></th>\n",
       "      <th>name</th>\n",
       "      <th>platform</th>\n",
       "      <th>year_of_release</th>\n",
       "      <th>genre</th>\n",
       "      <th>na_sales</th>\n",
       "      <th>eu_sales</th>\n",
       "      <th>jp_sales</th>\n",
       "      <th>other_sales</th>\n",
       "      <th>critic_score</th>\n",
       "      <th>user_score</th>\n",
       "      <th>rating</th>\n",
       "    </tr>\n",
       "  </thead>\n",
       "  <tbody>\n",
       "    <tr>\n",
       "      <th>4297</th>\n",
       "      <td>Nickelodeon Team Umizoomi</td>\n",
       "      <td>DS</td>\n",
       "      <td>2011.0</td>\n",
       "      <td>Action</td>\n",
       "      <td>0.42</td>\n",
       "      <td>0.00</td>\n",
       "      <td>0.0</td>\n",
       "      <td>0.03</td>\n",
       "      <td>58.0</td>\n",
       "      <td>6.9</td>\n",
       "      <td>EC</td>\n",
       "    </tr>\n",
       "    <tr>\n",
       "      <th>5034</th>\n",
       "      <td>Sesame Street: Elmo's A-to-Zoo Adventure</td>\n",
       "      <td>Wii</td>\n",
       "      <td>2010.0</td>\n",
       "      <td>Misc</td>\n",
       "      <td>0.35</td>\n",
       "      <td>0.00</td>\n",
       "      <td>0.0</td>\n",
       "      <td>0.02</td>\n",
       "      <td>64.0</td>\n",
       "      <td>7.1</td>\n",
       "      <td>EC</td>\n",
       "    </tr>\n",
       "    <tr>\n",
       "      <th>6046</th>\n",
       "      <td>Sesame Street: Cookie's Counting Carnival</td>\n",
       "      <td>Wii</td>\n",
       "      <td>2010.0</td>\n",
       "      <td>Misc</td>\n",
       "      <td>0.27</td>\n",
       "      <td>0.00</td>\n",
       "      <td>0.0</td>\n",
       "      <td>0.02</td>\n",
       "      <td>64.0</td>\n",
       "      <td>7.1</td>\n",
       "      <td>EC</td>\n",
       "    </tr>\n",
       "    <tr>\n",
       "      <th>6764</th>\n",
       "      <td>Dora the Explorer: Journey to the Purple Planet</td>\n",
       "      <td>PS2</td>\n",
       "      <td>2005.0</td>\n",
       "      <td>Adventure</td>\n",
       "      <td>0.12</td>\n",
       "      <td>0.09</td>\n",
       "      <td>0.0</td>\n",
       "      <td>0.03</td>\n",
       "      <td>63.0</td>\n",
       "      <td>7.0</td>\n",
       "      <td>EC</td>\n",
       "    </tr>\n",
       "    <tr>\n",
       "      <th>7586</th>\n",
       "      <td>Ni Hao, Kai-lan: New Year's Celebration</td>\n",
       "      <td>DS</td>\n",
       "      <td>2009.0</td>\n",
       "      <td>Misc</td>\n",
       "      <td>0.19</td>\n",
       "      <td>0.00</td>\n",
       "      <td>0.0</td>\n",
       "      <td>0.01</td>\n",
       "      <td>66.5</td>\n",
       "      <td>7.0</td>\n",
       "      <td>EC</td>\n",
       "    </tr>\n",
       "    <tr>\n",
       "      <th>9960</th>\n",
       "      <td>Dora the Explorer: Journey to the Purple Planet</td>\n",
       "      <td>GC</td>\n",
       "      <td>2005.0</td>\n",
       "      <td>Adventure</td>\n",
       "      <td>0.09</td>\n",
       "      <td>0.02</td>\n",
       "      <td>0.0</td>\n",
       "      <td>0.00</td>\n",
       "      <td>63.5</td>\n",
       "      <td>7.7</td>\n",
       "      <td>EC</td>\n",
       "    </tr>\n",
       "    <tr>\n",
       "      <th>13065</th>\n",
       "      <td>Sesame Street: Cookie's Counting Carnival</td>\n",
       "      <td>PC</td>\n",
       "      <td>2010.0</td>\n",
       "      <td>Misc</td>\n",
       "      <td>0.05</td>\n",
       "      <td>0.00</td>\n",
       "      <td>0.0</td>\n",
       "      <td>0.00</td>\n",
       "      <td>78.0</td>\n",
       "      <td>7.5</td>\n",
       "      <td>EC</td>\n",
       "    </tr>\n",
       "    <tr>\n",
       "      <th>13455</th>\n",
       "      <td>Sesame Street: Elmo's A-to-Zoo Adventure</td>\n",
       "      <td>PC</td>\n",
       "      <td>2010.0</td>\n",
       "      <td>Misc</td>\n",
       "      <td>0.04</td>\n",
       "      <td>0.00</td>\n",
       "      <td>0.0</td>\n",
       "      <td>0.00</td>\n",
       "      <td>78.0</td>\n",
       "      <td>7.5</td>\n",
       "      <td>EC</td>\n",
       "    </tr>\n",
       "  </tbody>\n",
       "</table>\n",
       "</div>"
      ],
      "text/plain": [
       "                                                  name platform  \\\n",
       "4297                         Nickelodeon Team Umizoomi       DS   \n",
       "5034          Sesame Street: Elmo's A-to-Zoo Adventure      Wii   \n",
       "6046         Sesame Street: Cookie's Counting Carnival      Wii   \n",
       "6764   Dora the Explorer: Journey to the Purple Planet      PS2   \n",
       "7586           Ni Hao, Kai-lan: New Year's Celebration       DS   \n",
       "9960   Dora the Explorer: Journey to the Purple Planet       GC   \n",
       "13065        Sesame Street: Cookie's Counting Carnival       PC   \n",
       "13455         Sesame Street: Elmo's A-to-Zoo Adventure       PC   \n",
       "\n",
       "       year_of_release      genre  na_sales  eu_sales  jp_sales  other_sales  \\\n",
       "4297            2011.0     Action      0.42      0.00       0.0         0.03   \n",
       "5034            2010.0       Misc      0.35      0.00       0.0         0.02   \n",
       "6046            2010.0       Misc      0.27      0.00       0.0         0.02   \n",
       "6764            2005.0  Adventure      0.12      0.09       0.0         0.03   \n",
       "7586            2009.0       Misc      0.19      0.00       0.0         0.01   \n",
       "9960            2005.0  Adventure      0.09      0.02       0.0         0.00   \n",
       "13065           2010.0       Misc      0.05      0.00       0.0         0.00   \n",
       "13455           2010.0       Misc      0.04      0.00       0.0         0.00   \n",
       "\n",
       "       critic_score  user_score rating  \n",
       "4297           58.0         6.9     EC  \n",
       "5034           64.0         7.1     EC  \n",
       "6046           64.0         7.1     EC  \n",
       "6764           63.0         7.0     EC  \n",
       "7586           66.5         7.0     EC  \n",
       "9960           63.5         7.7     EC  \n",
       "13065          78.0         7.5     EC  \n",
       "13455          78.0         7.5     EC  "
      ]
     },
     "execution_count": 28,
     "metadata": {},
     "output_type": "execute_result"
    }
   ],
   "source": [
    "data[data['rating'] == 'EC']"
   ]
  },
  {
   "cell_type": "code",
   "execution_count": 29,
   "metadata": {},
   "outputs": [
    {
     "data": {
      "text/html": [
       "<div>\n",
       "<style scoped>\n",
       "    .dataframe tbody tr th:only-of-type {\n",
       "        vertical-align: middle;\n",
       "    }\n",
       "\n",
       "    .dataframe tbody tr th {\n",
       "        vertical-align: top;\n",
       "    }\n",
       "\n",
       "    .dataframe thead th {\n",
       "        text-align: right;\n",
       "    }\n",
       "</style>\n",
       "<table border=\"1\" class=\"dataframe\">\n",
       "  <thead>\n",
       "    <tr style=\"text-align: right;\">\n",
       "      <th></th>\n",
       "      <th>name</th>\n",
       "      <th>platform</th>\n",
       "      <th>year_of_release</th>\n",
       "      <th>genre</th>\n",
       "      <th>na_sales</th>\n",
       "      <th>eu_sales</th>\n",
       "      <th>jp_sales</th>\n",
       "      <th>other_sales</th>\n",
       "      <th>critic_score</th>\n",
       "      <th>user_score</th>\n",
       "      <th>rating</th>\n",
       "    </tr>\n",
       "  </thead>\n",
       "  <tbody>\n",
       "    <tr>\n",
       "      <th>656</th>\n",
       "      <td>Theme Hospital</td>\n",
       "      <td>PC</td>\n",
       "      <td>1997.0</td>\n",
       "      <td>Strategy</td>\n",
       "      <td>2.30</td>\n",
       "      <td>0.10</td>\n",
       "      <td>0.00</td>\n",
       "      <td>0.00</td>\n",
       "      <td>77.0</td>\n",
       "      <td>9.0</td>\n",
       "      <td>K-A</td>\n",
       "    </tr>\n",
       "    <tr>\n",
       "      <th>903</th>\n",
       "      <td>PaRappa The Rapper</td>\n",
       "      <td>PS</td>\n",
       "      <td>1996.0</td>\n",
       "      <td>Misc</td>\n",
       "      <td>0.26</td>\n",
       "      <td>0.16</td>\n",
       "      <td>1.46</td>\n",
       "      <td>0.03</td>\n",
       "      <td>92.0</td>\n",
       "      <td>7.4</td>\n",
       "      <td>K-A</td>\n",
       "    </tr>\n",
       "    <tr>\n",
       "      <th>16681</th>\n",
       "      <td>Worms 2</td>\n",
       "      <td>PC</td>\n",
       "      <td>1997.0</td>\n",
       "      <td>Strategy</td>\n",
       "      <td>0.00</td>\n",
       "      <td>0.01</td>\n",
       "      <td>0.00</td>\n",
       "      <td>0.00</td>\n",
       "      <td>77.0</td>\n",
       "      <td>8.1</td>\n",
       "      <td>K-A</td>\n",
       "    </tr>\n",
       "  </tbody>\n",
       "</table>\n",
       "</div>"
      ],
      "text/plain": [
       "                     name platform  year_of_release     genre  na_sales  \\\n",
       "656        Theme Hospital       PC           1997.0  Strategy      2.30   \n",
       "903    PaRappa The Rapper       PS           1996.0      Misc      0.26   \n",
       "16681             Worms 2       PC           1997.0  Strategy      0.00   \n",
       "\n",
       "       eu_sales  jp_sales  other_sales  critic_score  user_score rating  \n",
       "656        0.10      0.00         0.00          77.0         9.0    K-A  \n",
       "903        0.16      1.46         0.03          92.0         7.4    K-A  \n",
       "16681      0.01      0.00         0.00          77.0         8.1    K-A  "
      ]
     },
     "execution_count": 29,
     "metadata": {},
     "output_type": "execute_result"
    }
   ],
   "source": [
    "data[data['rating'] == 'K-A']"
   ]
  },
  {
   "cell_type": "markdown",
   "metadata": {},
   "source": [
    "### Преобразование типов данных"
   ]
  },
  {
   "cell_type": "code",
   "execution_count": 30,
   "metadata": {},
   "outputs": [],
   "source": [
    "# У year_of_release тип изменим на int\n",
    "data['year_of_release'] = data['year_of_release'].astype(int)"
   ]
  },
  {
   "cell_type": "code",
   "execution_count": 31,
   "metadata": {},
   "outputs": [
    {
     "name": "stdout",
     "output_type": "stream",
     "text": [
      "<class 'pandas.core.frame.DataFrame'>\n",
      "Int64Index: 16713 entries, 0 to 16714\n",
      "Data columns (total 11 columns):\n",
      " #   Column           Non-Null Count  Dtype  \n",
      "---  ------           --------------  -----  \n",
      " 0   name             16713 non-null  object \n",
      " 1   platform         16713 non-null  object \n",
      " 2   year_of_release  16713 non-null  int64  \n",
      " 3   genre            16713 non-null  object \n",
      " 4   na_sales         16713 non-null  float64\n",
      " 5   eu_sales         16713 non-null  float64\n",
      " 6   jp_sales         16713 non-null  float64\n",
      " 7   other_sales      16713 non-null  float64\n",
      " 8   critic_score     15581 non-null  float64\n",
      " 9   user_score       15588 non-null  float64\n",
      " 10  rating           16713 non-null  object \n",
      "dtypes: float64(6), int64(1), object(4)\n",
      "memory usage: 1.5+ MB\n"
     ]
    }
   ],
   "source": [
    "# Проверим\n",
    "data.info()"
   ]
  },
  {
   "cell_type": "code",
   "execution_count": 32,
   "metadata": {},
   "outputs": [
    {
     "data": {
      "text/plain": [
       "count    16713.000000\n",
       "mean         0.533315\n",
       "std          1.548282\n",
       "min          0.000000\n",
       "25%          0.060000\n",
       "50%          0.170000\n",
       "75%          0.470000\n",
       "max         82.540000\n",
       "Name: sale_sum, dtype: float64"
      ]
     },
     "execution_count": 32,
     "metadata": {},
     "output_type": "execute_result"
    }
   ],
   "source": [
    "# Посчитаем суммарные продажи. Посмотрим описательные статистики новой переменной\n",
    "data['sale_sum'] = data['na_sales'] + data['eu_sales'] + data['jp_sales'] + data['other_sales']\n",
    "data['sale_sum'].describe()"
   ]
  },
  {
   "cell_type": "code",
   "execution_count": 33,
   "metadata": {},
   "outputs": [
    {
     "data": {
      "text/html": [
       "<div>\n",
       "<style scoped>\n",
       "    .dataframe tbody tr th:only-of-type {\n",
       "        vertical-align: middle;\n",
       "    }\n",
       "\n",
       "    .dataframe tbody tr th {\n",
       "        vertical-align: top;\n",
       "    }\n",
       "\n",
       "    .dataframe thead th {\n",
       "        text-align: right;\n",
       "    }\n",
       "</style>\n",
       "<table border=\"1\" class=\"dataframe\">\n",
       "  <thead>\n",
       "    <tr style=\"text-align: right;\">\n",
       "      <th></th>\n",
       "      <th>name</th>\n",
       "      <th>platform</th>\n",
       "      <th>year_of_release</th>\n",
       "      <th>genre</th>\n",
       "      <th>na_sales</th>\n",
       "      <th>eu_sales</th>\n",
       "      <th>jp_sales</th>\n",
       "      <th>other_sales</th>\n",
       "      <th>critic_score</th>\n",
       "      <th>user_score</th>\n",
       "      <th>rating</th>\n",
       "      <th>sale_sum</th>\n",
       "    </tr>\n",
       "  </thead>\n",
       "  <tbody>\n",
       "  </tbody>\n",
       "</table>\n",
       "</div>"
      ],
      "text/plain": [
       "Empty DataFrame\n",
       "Columns: [name, platform, year_of_release, genre, na_sales, eu_sales, jp_sales, other_sales, critic_score, user_score, rating, sale_sum]\n",
       "Index: []"
      ]
     },
     "execution_count": 33,
     "metadata": {},
     "output_type": "execute_result"
    }
   ],
   "source": [
    "data[data['sale_sum'].isna() == True]"
   ]
  },
  {
   "cell_type": "markdown",
   "metadata": {},
   "source": [
    "### Вывод\n",
    "Данные подготовлены для дальнейшего анализа. Часть неответов заменена на медиану по подгруппе - переменные с оценками пользователей и критиков. Тип переменных изменен. 2 наблюдения удалены. Для переменной \"year_of_release\" использованы неответы с отрицательным значением. Тип переменной изменен."
   ]
  },
  {
   "cell_type": "markdown",
   "metadata": {},
   "source": [
    "## Исследовательский анализ данных"
   ]
  },
  {
   "cell_type": "markdown",
   "metadata": {},
   "source": [
    "### Количество игр в разные годы. Выбор временного периода для дальнейшей работы"
   ]
  },
  {
   "cell_type": "code",
   "execution_count": 34,
   "metadata": {},
   "outputs": [
    {
     "data": {
      "image/png": "[encoded data removed]",
      "text/plain": [
       "<Figure size 1440x360 with 1 Axes>"
      ]
     },
     "metadata": {
      "needs_background": "light"
     },
     "output_type": "display_data"
    }
   ],
   "source": [
    "# Посмотрим количество игр по годам выпуска\n",
    "data1 = data.query('year_of_release > 0')\n",
    "data1.pivot_table(index = 'year_of_release', values = 'name', aggfunc = 'count').plot(kind = 'bar', figsize=(20, 5)).grid(axis = 'y')\n",
    "plt.title('Количество игр по годам выпуска')\n",
    "plt.xlabel('Год выхода игр')\n",
    "plt.ylabel('Количество игр')\n",
    "plt.show()"
   ]
  },
  {
   "cell_type": "markdown",
   "metadata": {},
   "source": [
    "Данные по 1993 год включительно незначительны"
   ]
  },
  {
   "cell_type": "markdown",
   "metadata": {},
   "source": [
    "### Изучение продаж по платформам. Выбор платформ с наибольшими суммарными продажами. Определение жизненного цикла платформы"
   ]
  },
  {
   "cell_type": "code",
   "execution_count": 35,
   "metadata": {},
   "outputs": [
    {
     "data": {
      "image/png": "[encoded data removed]",
      "text/plain": [
       "<Figure size 864x360 with 1 Axes>"
      ]
     },
     "metadata": {
      "needs_background": "light"
     },
     "output_type": "display_data"
    }
   ],
   "source": [
    "# Выбор платформ с наибольшими суммарными продажами\n",
    "data1.pivot_table(index='platform', values='sale_sum', aggfunc='sum').sort_values(by='sale_sum', ascending=False).plot(kind = 'bar', figsize=(12, 5))\n",
    "plt.title('Продажи игр по платформам')\n",
    "plt.xlabel('Продажи')\n",
    "plt.ylabel('Платформа')\n",
    "plt.show()"
   ]
  },
  {
   "cell_type": "markdown",
   "metadata": {},
   "source": [
    "Платформы с наибольшими суммарными продажами: \n",
    " - PS2\n",
    " - X360\n",
    " - PS3\n",
    " - Wii\n",
    " - DS\n",
    " - PS"
   ]
  },
  {
   "cell_type": "code",
   "execution_count": 36,
   "metadata": {},
   "outputs": [
    {
     "data": {
      "image/png": "[encoded data removed]",
      "text/plain": [
       "<Figure size 864x360 with 1 Axes>"
      ]
     },
     "metadata": {
      "needs_background": "light"
     },
     "output_type": "display_data"
    },
    {
     "data": {
      "image/png": "[encoded data removed]",
      "text/plain": [
       "<Figure size 864x360 with 1 Axes>"
      ]
     },
     "metadata": {
      "needs_background": "light"
     },
     "output_type": "display_data"
    },
    {
     "data": {
      "image/png": "[encoded data removed]",
      "text/plain": [
       "<Figure size 864x360 with 1 Axes>"
      ]
     },
     "metadata": {
      "needs_background": "light"
     },
     "output_type": "display_data"
    },
    {
     "data": {
      "image/png": "[encoded data removed]",
      "text/plain": [
       "<Figure size 864x360 with 1 Axes>"
      ]
     },
     "metadata": {
      "needs_background": "light"
     },
     "output_type": "display_data"
    },
    {
     "data": {
      "image/png": "[encoded data removed]",
      "text/plain": [
       "<Figure size 864x360 with 1 Axes>"
      ]
     },
     "metadata": {
      "needs_background": "light"
     },
     "output_type": "display_data"
    },
    {
     "data": {
      "image/png": "[encoded data removed]",
      "text/plain": [
       "<Figure size 864x360 with 1 Axes>"
      ]
     },
     "metadata": {
      "needs_background": "light"
     },
     "output_type": "display_data"
    }
   ],
   "source": [
    "# Определение жизненного цикла платформы\n",
    "for x in data.groupby('platform')['sale_sum'].sum().sort_values(ascending = False).head(6).index:\n",
    "    data1.query('platform == @x').pivot_table(index = 'year_of_release', values = 'platform', aggfunc = 'count' ).plot(kind = 'bar', figsize=(12, 5))\n",
    "    title = 'Продажи ' + x\n",
    "    plt.title(title)\n",
    "    plt.xlabel('Год выхода игры')\n",
    "    plt.ylabel('Количество игр')\n",
    "    plt.show"
   ]
  },
  {
   "cell_type": "markdown",
   "metadata": {},
   "source": [
    "Жизненный цикл платформы 9 - 11 лет. К середине цикла продажи достигают максимального значения."
   ]
  },
  {
   "cell_type": "markdown",
   "metadata": {},
   "source": [
    "### Определение актуального периода"
   ]
  },
  {
   "cell_type": "code",
   "execution_count": 37,
   "metadata": {},
   "outputs": [
    {
     "data": {
      "image/png": "[encoded data removed]",
      "text/plain": [
       "<Figure size 1440x360 with 1 Axes>"
      ]
     },
     "metadata": {
      "needs_background": "light"
     },
     "output_type": "display_data"
    }
   ],
   "source": [
    "# Посмотрим сумму продаж игр по годам выпуска\n",
    "data1.pivot_table(index = 'year_of_release', values = 'sale_sum', aggfunc = 'sum').plot(kind = 'bar', figsize=(20, 5)).grid(axis = 'y')\n",
    "plt.title('Сумма продаж по годам выпуска')\n",
    "plt.xlabel('Год выхода игр')\n",
    "plt.ylabel('Сумма продаж')\n",
    "plt.show()"
   ]
  },
  {
   "cell_type": "markdown",
   "metadata": {},
   "source": [
    "Так как мы прогнозируем продажи, то актуальный период для отбора данных - 2-3 года. Мы будем использовать данные 2014 - 2016 годов."
   ]
  },
  {
   "cell_type": "code",
   "execution_count": 38,
   "metadata": {},
   "outputs": [
    {
     "name": "stdout",
     "output_type": "stream",
     "text": [
      "<class 'pandas.core.frame.DataFrame'>\n",
      "RangeIndex: 1689 entries, 0 to 1688\n",
      "Data columns (total 13 columns):\n",
      " #   Column           Non-Null Count  Dtype  \n",
      "---  ------           --------------  -----  \n",
      " 0   index            1689 non-null   int64  \n",
      " 1   name             1689 non-null   object \n",
      " 2   platform         1689 non-null   object \n",
      " 3   year_of_release  1689 non-null   int64  \n",
      " 4   genre            1689 non-null   object \n",
      " 5   na_sales         1689 non-null   float64\n",
      " 6   eu_sales         1689 non-null   float64\n",
      " 7   jp_sales         1689 non-null   float64\n",
      " 8   other_sales      1689 non-null   float64\n",
      " 9   critic_score     1682 non-null   float64\n",
      " 10  user_score       1686 non-null   float64\n",
      " 11  rating           1689 non-null   object \n",
      " 12  sale_sum         1689 non-null   float64\n",
      "dtypes: float64(7), int64(2), object(4)\n",
      "memory usage: 171.7+ KB\n"
     ]
    }
   ],
   "source": [
    "# Выделим нужный период\n",
    "# Было\n",
    "#data_actual = data.query('year_of_release > 2005 and year_of_release <= 2015').reset_index()\n",
    "# Стало\n",
    "data_actual = data.query('year_of_release > 2013').reset_index()\n",
    "data_actual.info()"
   ]
  },
  {
   "cell_type": "markdown",
   "metadata": {},
   "source": [
    "### Выбор потенциально прибыльных платформ"
   ]
  },
  {
   "cell_type": "code",
   "execution_count": 39,
   "metadata": {},
   "outputs": [
    {
     "data": {
      "text/html": [
       "<div>\n",
       "<style scoped>\n",
       "    .dataframe tbody tr th:only-of-type {\n",
       "        vertical-align: middle;\n",
       "    }\n",
       "\n",
       "    .dataframe tbody tr th {\n",
       "        vertical-align: top;\n",
       "    }\n",
       "\n",
       "    .dataframe thead th {\n",
       "        text-align: right;\n",
       "    }\n",
       "</style>\n",
       "<table border=\"1\" class=\"dataframe\">\n",
       "  <thead>\n",
       "    <tr style=\"text-align: right;\">\n",
       "      <th>year_of_release</th>\n",
       "      <th>2014</th>\n",
       "      <th>2015</th>\n",
       "      <th>2016</th>\n",
       "    </tr>\n",
       "    <tr>\n",
       "      <th>platform</th>\n",
       "      <th></th>\n",
       "      <th></th>\n",
       "      <th></th>\n",
       "    </tr>\n",
       "  </thead>\n",
       "  <tbody>\n",
       "    <tr>\n",
       "      <th>3DS</th>\n",
       "      <td>43.76</td>\n",
       "      <td>27.78</td>\n",
       "      <td>15.14</td>\n",
       "    </tr>\n",
       "    <tr>\n",
       "      <th>PC</th>\n",
       "      <td>13.28</td>\n",
       "      <td>8.52</td>\n",
       "      <td>5.25</td>\n",
       "    </tr>\n",
       "    <tr>\n",
       "      <th>PS3</th>\n",
       "      <td>47.76</td>\n",
       "      <td>16.82</td>\n",
       "      <td>3.60</td>\n",
       "    </tr>\n",
       "    <tr>\n",
       "      <th>PS4</th>\n",
       "      <td>100.00</td>\n",
       "      <td>118.90</td>\n",
       "      <td>69.25</td>\n",
       "    </tr>\n",
       "    <tr>\n",
       "      <th>PSP</th>\n",
       "      <td>0.24</td>\n",
       "      <td>0.12</td>\n",
       "      <td>NaN</td>\n",
       "    </tr>\n",
       "    <tr>\n",
       "      <th>PSV</th>\n",
       "      <td>11.90</td>\n",
       "      <td>6.25</td>\n",
       "      <td>4.25</td>\n",
       "    </tr>\n",
       "    <tr>\n",
       "      <th>Wii</th>\n",
       "      <td>3.75</td>\n",
       "      <td>1.14</td>\n",
       "      <td>0.18</td>\n",
       "    </tr>\n",
       "    <tr>\n",
       "      <th>WiiU</th>\n",
       "      <td>22.03</td>\n",
       "      <td>16.35</td>\n",
       "      <td>4.60</td>\n",
       "    </tr>\n",
       "    <tr>\n",
       "      <th>X360</th>\n",
       "      <td>34.74</td>\n",
       "      <td>11.96</td>\n",
       "      <td>1.52</td>\n",
       "    </tr>\n",
       "    <tr>\n",
       "      <th>XOne</th>\n",
       "      <td>54.07</td>\n",
       "      <td>60.14</td>\n",
       "      <td>26.15</td>\n",
       "    </tr>\n",
       "  </tbody>\n",
       "</table>\n",
       "</div>"
      ],
      "text/plain": [
       "year_of_release    2014    2015   2016\n",
       "platform                              \n",
       "3DS               43.76   27.78  15.14\n",
       "PC                13.28    8.52   5.25\n",
       "PS3               47.76   16.82   3.60\n",
       "PS4              100.00  118.90  69.25\n",
       "PSP                0.24    0.12    NaN\n",
       "PSV               11.90    6.25   4.25\n",
       "Wii                3.75    1.14   0.18\n",
       "WiiU              22.03   16.35   4.60\n",
       "X360              34.74   11.96   1.52\n",
       "XOne              54.07   60.14  26.15"
      ]
     },
     "execution_count": 39,
     "metadata": {},
     "output_type": "execute_result"
    }
   ],
   "source": [
    "# посмотрим сумму\n",
    "data_actual.pivot_table(index='platform', values='sale_sum',columns='year_of_release', aggfunc='sum')"
   ]
  },
  {
   "cell_type": "markdown",
   "metadata": {},
   "source": [
    "Данные за 2016 год неполные. Основой для отбора послужит рост 2014-2015 годов, и ориетировочно, данные 2016 года.Потенциально прибыльные платформы - PS4 и XOne . Они демонстрируют рост продаж. Остальные платформы демонстрируют снижение продаж. Из них, мы рассмотрим те платформы, продажи которых могут составить более 1 млн. копий, а именно: 3DS, PSV, PC, WiiU"
   ]
  },
  {
   "cell_type": "markdown",
   "metadata": {},
   "source": [
    "### «Ящик с усами» по глобальным продажам игр в разбивке по платформам"
   ]
  },
  {
   "cell_type": "code",
   "execution_count": 40,
   "metadata": {},
   "outputs": [
    {
     "data": {
      "image/png": "[encoded data removed]",
      "text/plain": [
       "<Figure size 864x432 with 1 Axes>"
      ]
     },
     "metadata": {
      "needs_background": "light"
     },
     "output_type": "display_data"
    }
   ],
   "source": [
    "# по всем платформам\n",
    "plt.figure(figsize=(12, 6))\n",
    "sns.boxplot(x='platform', y='sale_sum', data=data_actual, palette=\"Set3\", saturation=0.5, width=0.4)\n",
    "plt.ylim(0, 2)\n",
    "plt.title('График «ящик с усами» по глобальным продажам игр в разбивке по платформам')\n",
    "plt.ylabel('продажи')\n",
    "plt.xlabel('платформа')\n",
    "plt.show()"
   ]
  },
  {
   "cell_type": "code",
   "execution_count": 41,
   "metadata": {},
   "outputs": [],
   "source": [
    "# по интересующим платформам\n",
    "data_actual_platform = data_actual.query('platform in [\"XOne\", \"PS4\", \"3DS\", \"PSV\", \"PC\", \"WiiU\"]').reset_index()\n"
   ]
  },
  {
   "cell_type": "code",
   "execution_count": 42,
   "metadata": {},
   "outputs": [
    {
     "data": {
      "image/png": "[encoded data removed]",
      "text/plain": [
       "<Figure size 864x432 with 1 Axes>"
      ]
     },
     "metadata": {
      "needs_background": "light"
     },
     "output_type": "display_data"
    }
   ],
   "source": [
    "plt.figure(figsize=(12, 6))\n",
    "sns.boxplot(x=\"platform\", y=\"sale_sum\", data=data_actual_platform, palette=\"Set3\")\n",
    "plt.ylim(0, 2)\n",
    "plt.title('График «ящик с усами» по глобальным продажам игр в разбивке по перспективным платформам')\n",
    "plt.ylabel('продажи')\n",
    "plt.xlabel('платформа')\n",
    "plt.show()"
   ]
  },
  {
   "cell_type": "markdown",
   "metadata": {},
   "source": [
    "На графиках виден разброс продаж. Самые большие медианные продажи у платформ: PS4, XOne, PS3, X360, WiiU . У PS4 и XOne верхний квантиль на одном примерно уровне. У WiiU несколько ниже. PS4 и XOne, скорее всего, будут хорошо продаваться и в 2017 году. WiiU покажет, скорее всего, результаты более скромные. Платформы 3DS, PC и PSV продаются заметно меньше."
   ]
  },
  {
   "cell_type": "markdown",
   "metadata": {},
   "source": [
    "### Влияние на продажи внутри одной популярной платформы отзывов пользователей и критиков"
   ]
  },
  {
   "cell_type": "code",
   "execution_count": 43,
   "metadata": {},
   "outputs": [],
   "source": [
    "# популярная и перспективная платформа PS4\n",
    "data_ps4 = data_actual.query('platform == \"PS4\"').reset_index()"
   ]
  },
  {
   "cell_type": "code",
   "execution_count": 44,
   "metadata": {},
   "outputs": [
    {
     "name": "stdout",
     "output_type": "stream",
     "text": [
      "<class 'pandas.core.frame.DataFrame'>\n",
      "RangeIndex: 376 entries, 0 to 375\n",
      "Data columns (total 14 columns):\n",
      " #   Column           Non-Null Count  Dtype  \n",
      "---  ------           --------------  -----  \n",
      " 0   level_0          376 non-null    int64  \n",
      " 1   index            376 non-null    int64  \n",
      " 2   name             376 non-null    object \n",
      " 3   platform         376 non-null    object \n",
      " 4   year_of_release  376 non-null    int64  \n",
      " 5   genre            376 non-null    object \n",
      " 6   na_sales         376 non-null    float64\n",
      " 7   eu_sales         376 non-null    float64\n",
      " 8   jp_sales         376 non-null    float64\n",
      " 9   other_sales      376 non-null    float64\n",
      " 10  critic_score     376 non-null    float64\n",
      " 11  user_score       376 non-null    float64\n",
      " 12  rating           376 non-null    object \n",
      " 13  sale_sum         376 non-null    float64\n",
      "dtypes: float64(7), int64(3), object(4)\n",
      "memory usage: 41.2+ KB\n"
     ]
    }
   ],
   "source": [
    "# посмотрим\n",
    "data_ps4.info()"
   ]
  },
  {
   "cell_type": "code",
   "execution_count": 45,
   "metadata": {},
   "outputs": [
    {
     "data": {
      "image/png": "[encoded data removed]",
      "text/plain": [
       "<Figure size 720x432 with 1 Axes>"
      ]
     },
     "metadata": {
      "needs_background": "light"
     },
     "output_type": "display_data"
    }
   ],
   "source": [
    "# как влияют на продажи внутри одной популярной платформы отзывы критиков\n",
    "fig, ax = plt.subplots(figsize=(10, 6))\n",
    "ax.scatter(x = data_ps4['critic_score'], y = data_ps4['sale_sum'])\n",
    "plt.xlabel(\"Оценки критиков\")\n",
    "plt.ylabel(\"Продажи\")\n",
    "plt.title('Зависимость продаж внутри платформы PS4 от оценки критиков')\n",
    "plt.show()"
   ]
  },
  {
   "cell_type": "code",
   "execution_count": 46,
   "metadata": {},
   "outputs": [
    {
     "data": {
      "text/plain": [
       "0.33125969702455116"
      ]
     },
     "execution_count": 46,
     "metadata": {},
     "output_type": "execute_result"
    }
   ],
   "source": [
    "data_ps4['critic_score'].corr(data_ps4['sale_sum'])"
   ]
  },
  {
   "cell_type": "code",
   "execution_count": 47,
   "metadata": {},
   "outputs": [
    {
     "data": {
      "image/png": "[encoded data removed]",
      "text/plain": [
       "<Figure size 720x432 with 1 Axes>"
      ]
     },
     "metadata": {
      "needs_background": "light"
     },
     "output_type": "display_data"
    }
   ],
   "source": [
    "# как влияют на продажи внутри одной популярной платформы отзывы пользователей\n",
    "fig, ax = plt.subplots(figsize=(10, 6))\n",
    "ax.scatter(x = data_ps4['user_score'], y = data_ps4['sale_sum'])\n",
    "plt.xlabel(\"Оценки пользователей\")\n",
    "plt.ylabel(\"Продажи\")\n",
    "plt.title('Зависимость продаж внутри платформы PS4 от оценки пользователей')\n",
    "plt.show()"
   ]
  },
  {
   "cell_type": "code",
   "execution_count": 48,
   "metadata": {},
   "outputs": [
    {
     "data": {
      "text/plain": [
       "-0.0750616282023008"
      ]
     },
     "execution_count": 48,
     "metadata": {},
     "output_type": "execute_result"
    }
   ],
   "source": [
    "data_ps4['user_score'].corr(data_ps4['sale_sum'])"
   ]
  },
  {
   "cell_type": "markdown",
   "metadata": {},
   "source": [
    "Ни оценки критиков, ни оценки пользователей влияния на продажи не оказывают."
   ]
  },
  {
   "cell_type": "markdown",
   "metadata": {},
   "source": [
    "### Есть ли зависимость продаж игр от оценок критиков и пользователей"
   ]
  },
  {
   "cell_type": "code",
   "execution_count": 49,
   "metadata": {},
   "outputs": [
    {
     "data": {
      "image/png": "[encoded data removed]",
      "text/plain": [
       "<Figure size 432x288 with 2 Axes>"
      ]
     },
     "metadata": {
      "needs_background": "light"
     },
     "output_type": "display_data"
    }
   ],
   "source": [
    "# самые популярные платформы, все\n",
    "data_actual_platform = data_actual_platform[['user_score', 'critic_score', 'sale_sum']]\n",
    "sns.heatmap(data_actual_platform.corr(), annot=True)\n",
    "plt.title('Зависимость продаж внутри платформ от оценки пользователей и критиков')\n",
    "plt.show()"
   ]
  },
  {
   "cell_type": "code",
   "execution_count": 50,
   "metadata": {},
   "outputs": [
    {
     "data": {
      "image/png": "[encoded data removed]",
      "text/plain": [
       "<Figure size 432x288 with 2 Axes>"
      ]
     },
     "metadata": {
      "needs_background": "light"
     },
     "output_type": "display_data"
    }
   ],
   "source": [
    "# самые популярные платформы, XOne\n",
    "data_xone = data_actual.query('platform == \"XOne\"').reset_index()\n",
    "data_xone = data_xone[['user_score', 'critic_score', 'sale_sum']]\n",
    "sns.heatmap(data_xone.corr(), annot=True)\n",
    "plt.title('Зависимость продаж внутри платформы XOne от оценки пользователей и критиков')\n",
    "plt.show()"
   ]
  },
  {
   "cell_type": "code",
   "execution_count": 51,
   "metadata": {},
   "outputs": [
    {
     "data": {
      "image/png": "[encoded data removed]",
      "text/plain": [
       "<Figure size 432x288 with 2 Axes>"
      ]
     },
     "metadata": {
      "needs_background": "light"
     },
     "output_type": "display_data"
    }
   ],
   "source": [
    "# самые популярные платформы, PC\n",
    "data_xone = data_actual.query('platform == \"PC\"').reset_index()\n",
    "data_xone = data_xone[['user_score', 'critic_score', 'sale_sum']]\n",
    "sns.heatmap(data_xone.corr(), annot=True)\n",
    "plt.title('Зависимость продаж внутри платформы PC от оценки пользователей и критиков')\n",
    "plt.show()"
   ]
  },
  {
   "cell_type": "code",
   "execution_count": 52,
   "metadata": {},
   "outputs": [
    {
     "data": {
      "image/png": "[encoded data removed]",
      "text/plain": [
       "<Figure size 432x288 with 2 Axes>"
      ]
     },
     "metadata": {
      "needs_background": "light"
     },
     "output_type": "display_data"
    }
   ],
   "source": [
    "# самые популярные платформы, WiiU\n",
    "data_wiiu = data_actual.query('platform == \"WiiU\"').reset_index()\n",
    "data_wiiu = data_wiiu[['user_score', 'critic_score', 'sale_sum']]\n",
    "sns.heatmap(data_wiiu.corr(), annot=True)\n",
    "plt.title('Зависимость продаж внутри платформы WiiU от оценки пользователей и критиков')\n",
    "plt.show()"
   ]
  },
  {
   "cell_type": "code",
   "execution_count": 53,
   "metadata": {},
   "outputs": [
    {
     "data": {
      "image/png": "[encoded data removed]",
      "text/plain": [
       "<Figure size 432x288 with 2 Axes>"
      ]
     },
     "metadata": {
      "needs_background": "light"
     },
     "output_type": "display_data"
    }
   ],
   "source": [
    "# самые популярные платформы, PSV\n",
    "data_psv = data_actual.query('platform == \"PSV\"').reset_index()\n",
    "data_psv = data_psv[['user_score', 'critic_score', 'sale_sum']]\n",
    "sns.heatmap(data_psv.corr(), annot=True)\n",
    "plt.title('Зависимость продаж внутри платформы PSV от оценки пользователей и критиков')\n",
    "plt.show()"
   ]
  },
  {
   "cell_type": "code",
   "execution_count": 54,
   "metadata": {},
   "outputs": [
    {
     "data": {
      "image/png": "[encoded data removed]",
      "text/plain": [
       "<Figure size 432x288 with 2 Axes>"
      ]
     },
     "metadata": {
      "needs_background": "light"
     },
     "output_type": "display_data"
    }
   ],
   "source": [
    "# самые популярные платформы, 3DS\n",
    "data_3ds = data_actual.query('platform == \"3DS\"').reset_index()\n",
    "data_3ds = data_3ds[['user_score', 'critic_score', 'sale_sum']]\n",
    "sns.heatmap(data_3ds.corr(), annot=True)\n",
    "plt.title('Зависимость продаж внутри платформы 3DS от оценки пользователей и критиков')\n",
    "plt.show()"
   ]
  },
  {
   "cell_type": "markdown",
   "metadata": {},
   "source": [
    "Ни оценки критиков, ни оценки пользователей влияния на продажи не оказывают."
   ]
  },
  {
   "cell_type": "markdown",
   "metadata": {},
   "source": [
    "### Общее распределение игр по жанрам"
   ]
  },
  {
   "cell_type": "code",
   "execution_count": 55,
   "metadata": {},
   "outputs": [
    {
     "data": {
      "text/html": [
       "<div>\n",
       "<style scoped>\n",
       "    .dataframe tbody tr th:only-of-type {\n",
       "        vertical-align: middle;\n",
       "    }\n",
       "\n",
       "    .dataframe tbody tr th {\n",
       "        vertical-align: top;\n",
       "    }\n",
       "\n",
       "    .dataframe thead th {\n",
       "        text-align: right;\n",
       "    }\n",
       "</style>\n",
       "<table border=\"1\" class=\"dataframe\">\n",
       "  <thead>\n",
       "    <tr style=\"text-align: right;\">\n",
       "      <th></th>\n",
       "      <th>eu_sales</th>\n",
       "      <th>jp_sales</th>\n",
       "      <th>na_sales</th>\n",
       "      <th>sale_sum</th>\n",
       "    </tr>\n",
       "    <tr>\n",
       "      <th>genre</th>\n",
       "      <th></th>\n",
       "      <th></th>\n",
       "      <th></th>\n",
       "      <th></th>\n",
       "    </tr>\n",
       "  </thead>\n",
       "  <tbody>\n",
       "    <tr>\n",
       "      <th>Action</th>\n",
       "      <td>74.68</td>\n",
       "      <td>29.58</td>\n",
       "      <td>72.53</td>\n",
       "      <td>199.36</td>\n",
       "    </tr>\n",
       "    <tr>\n",
       "      <th>Shooter</th>\n",
       "      <td>65.52</td>\n",
       "      <td>4.87</td>\n",
       "      <td>79.02</td>\n",
       "      <td>170.94</td>\n",
       "    </tr>\n",
       "    <tr>\n",
       "      <th>Sports</th>\n",
       "      <td>45.73</td>\n",
       "      <td>3.26</td>\n",
       "      <td>46.13</td>\n",
       "      <td>109.48</td>\n",
       "    </tr>\n",
       "    <tr>\n",
       "      <th>Role-Playing</th>\n",
       "      <td>28.17</td>\n",
       "      <td>31.16</td>\n",
       "      <td>33.47</td>\n",
       "      <td>101.44</td>\n",
       "    </tr>\n",
       "    <tr>\n",
       "      <th>Misc</th>\n",
       "      <td>12.86</td>\n",
       "      <td>5.61</td>\n",
       "      <td>15.05</td>\n",
       "      <td>37.55</td>\n",
       "    </tr>\n",
       "    <tr>\n",
       "      <th>Fighting</th>\n",
       "      <td>6.69</td>\n",
       "      <td>6.37</td>\n",
       "      <td>12.43</td>\n",
       "      <td>28.22</td>\n",
       "    </tr>\n",
       "    <tr>\n",
       "      <th>Racing</th>\n",
       "      <td>14.13</td>\n",
       "      <td>1.76</td>\n",
       "      <td>8.74</td>\n",
       "      <td>27.52</td>\n",
       "    </tr>\n",
       "    <tr>\n",
       "      <th>Platform</th>\n",
       "      <td>6.80</td>\n",
       "      <td>2.69</td>\n",
       "      <td>6.79</td>\n",
       "      <td>18.09</td>\n",
       "    </tr>\n",
       "    <tr>\n",
       "      <th>Adventure</th>\n",
       "      <td>6.49</td>\n",
       "      <td>3.60</td>\n",
       "      <td>5.64</td>\n",
       "      <td>17.55</td>\n",
       "    </tr>\n",
       "    <tr>\n",
       "      <th>Simulation</th>\n",
       "      <td>7.30</td>\n",
       "      <td>2.31</td>\n",
       "      <td>2.63</td>\n",
       "      <td>13.13</td>\n",
       "    </tr>\n",
       "    <tr>\n",
       "      <th>Strategy</th>\n",
       "      <td>1.79</td>\n",
       "      <td>0.95</td>\n",
       "      <td>0.98</td>\n",
       "      <td>3.96</td>\n",
       "    </tr>\n",
       "    <tr>\n",
       "      <th>Puzzle</th>\n",
       "      <td>0.52</td>\n",
       "      <td>0.93</td>\n",
       "      <td>0.65</td>\n",
       "      <td>2.21</td>\n",
       "    </tr>\n",
       "  </tbody>\n",
       "</table>\n",
       "</div>"
      ],
      "text/plain": [
       "              eu_sales  jp_sales  na_sales  sale_sum\n",
       "genre                                               \n",
       "Action           74.68     29.58     72.53    199.36\n",
       "Shooter          65.52      4.87     79.02    170.94\n",
       "Sports           45.73      3.26     46.13    109.48\n",
       "Role-Playing     28.17     31.16     33.47    101.44\n",
       "Misc             12.86      5.61     15.05     37.55\n",
       "Fighting          6.69      6.37     12.43     28.22\n",
       "Racing           14.13      1.76      8.74     27.52\n",
       "Platform          6.80      2.69      6.79     18.09\n",
       "Adventure         6.49      3.60      5.64     17.55\n",
       "Simulation        7.30      2.31      2.63     13.13\n",
       "Strategy          1.79      0.95      0.98      3.96\n",
       "Puzzle            0.52      0.93      0.65      2.21"
      ]
     },
     "execution_count": 55,
     "metadata": {},
     "output_type": "execute_result"
    }
   ],
   "source": [
    "# посмотрим жанры по суммарным продажам\n",
    "data_actual.pivot_table(index='genre', values=['sale_sum', 'na_sales', 'eu_sales', 'jp_sales' ], aggfunc='sum').sort_values(by=['sale_sum'], ascending=False)"
   ]
  },
  {
   "cell_type": "markdown",
   "metadata": {},
   "source": [
    "По суммарным продажам: самым популярным жанром, кроме Японии, является жанр Action. В Японии больше всего продано игр в жанре Role-Playing. На втором месте - Shooter. Так же, кроме Японии, где на втром месте Action. На третьем месте - Sports, кроме Японии, где на третьем месте Fighting. Самыми непопулярными во всех трех регионах являются Puzzle и Strategy."
   ]
  },
  {
   "cell_type": "code",
   "execution_count": 56,
   "metadata": {},
   "outputs": [
    {
     "data": {
      "text/html": [
       "<div>\n",
       "<style scoped>\n",
       "    .dataframe tbody tr th:only-of-type {\n",
       "        vertical-align: middle;\n",
       "    }\n",
       "\n",
       "    .dataframe tbody tr th {\n",
       "        vertical-align: top;\n",
       "    }\n",
       "\n",
       "    .dataframe thead th {\n",
       "        text-align: right;\n",
       "    }\n",
       "</style>\n",
       "<table border=\"1\" class=\"dataframe\">\n",
       "  <thead>\n",
       "    <tr style=\"text-align: right;\">\n",
       "      <th></th>\n",
       "      <th>eu_sales</th>\n",
       "      <th>jp_sales</th>\n",
       "      <th>na_sales</th>\n",
       "      <th>sale_sum</th>\n",
       "    </tr>\n",
       "    <tr>\n",
       "      <th>genre</th>\n",
       "      <th></th>\n",
       "      <th></th>\n",
       "      <th></th>\n",
       "      <th></th>\n",
       "    </tr>\n",
       "  </thead>\n",
       "  <tbody>\n",
       "    <tr>\n",
       "      <th>Shooter</th>\n",
       "      <td>0.220</td>\n",
       "      <td>0.00</td>\n",
       "      <td>0.220</td>\n",
       "      <td>0.515</td>\n",
       "    </tr>\n",
       "    <tr>\n",
       "      <th>Sports</th>\n",
       "      <td>0.050</td>\n",
       "      <td>0.00</td>\n",
       "      <td>0.070</td>\n",
       "      <td>0.180</td>\n",
       "    </tr>\n",
       "    <tr>\n",
       "      <th>Platform</th>\n",
       "      <td>0.055</td>\n",
       "      <td>0.00</td>\n",
       "      <td>0.075</td>\n",
       "      <td>0.140</td>\n",
       "    </tr>\n",
       "    <tr>\n",
       "      <th>Fighting</th>\n",
       "      <td>0.020</td>\n",
       "      <td>0.03</td>\n",
       "      <td>0.040</td>\n",
       "      <td>0.125</td>\n",
       "    </tr>\n",
       "    <tr>\n",
       "      <th>Role-Playing</th>\n",
       "      <td>0.010</td>\n",
       "      <td>0.05</td>\n",
       "      <td>0.020</td>\n",
       "      <td>0.110</td>\n",
       "    </tr>\n",
       "    <tr>\n",
       "      <th>Simulation</th>\n",
       "      <td>0.030</td>\n",
       "      <td>0.00</td>\n",
       "      <td>0.000</td>\n",
       "      <td>0.100</td>\n",
       "    </tr>\n",
       "    <tr>\n",
       "      <th>Action</th>\n",
       "      <td>0.020</td>\n",
       "      <td>0.01</td>\n",
       "      <td>0.010</td>\n",
       "      <td>0.090</td>\n",
       "    </tr>\n",
       "    <tr>\n",
       "      <th>Misc</th>\n",
       "      <td>0.010</td>\n",
       "      <td>0.01</td>\n",
       "      <td>0.010</td>\n",
       "      <td>0.090</td>\n",
       "    </tr>\n",
       "    <tr>\n",
       "      <th>Racing</th>\n",
       "      <td>0.050</td>\n",
       "      <td>0.00</td>\n",
       "      <td>0.030</td>\n",
       "      <td>0.090</td>\n",
       "    </tr>\n",
       "    <tr>\n",
       "      <th>Strategy</th>\n",
       "      <td>0.010</td>\n",
       "      <td>0.00</td>\n",
       "      <td>0.000</td>\n",
       "      <td>0.060</td>\n",
       "    </tr>\n",
       "    <tr>\n",
       "      <th>Puzzle</th>\n",
       "      <td>0.000</td>\n",
       "      <td>0.03</td>\n",
       "      <td>0.000</td>\n",
       "      <td>0.045</td>\n",
       "    </tr>\n",
       "    <tr>\n",
       "      <th>Adventure</th>\n",
       "      <td>0.000</td>\n",
       "      <td>0.01</td>\n",
       "      <td>0.000</td>\n",
       "      <td>0.030</td>\n",
       "    </tr>\n",
       "  </tbody>\n",
       "</table>\n",
       "</div>"
      ],
      "text/plain": [
       "              eu_sales  jp_sales  na_sales  sale_sum\n",
       "genre                                               \n",
       "Shooter          0.220      0.00     0.220     0.515\n",
       "Sports           0.050      0.00     0.070     0.180\n",
       "Platform         0.055      0.00     0.075     0.140\n",
       "Fighting         0.020      0.03     0.040     0.125\n",
       "Role-Playing     0.010      0.05     0.020     0.110\n",
       "Simulation       0.030      0.00     0.000     0.100\n",
       "Action           0.020      0.01     0.010     0.090\n",
       "Misc             0.010      0.01     0.010     0.090\n",
       "Racing           0.050      0.00     0.030     0.090\n",
       "Strategy         0.010      0.00     0.000     0.060\n",
       "Puzzle           0.000      0.03     0.000     0.045\n",
       "Adventure        0.000      0.01     0.000     0.030"
      ]
     },
     "execution_count": 56,
     "metadata": {},
     "output_type": "execute_result"
    }
   ],
   "source": [
    "# посмотрим жанры по медианным продажам\n",
    "data_actual.pivot_table(index='genre', values=['sale_sum', 'na_sales', 'eu_sales', 'jp_sales' ], aggfunc='median').sort_values(by=['sale_sum'], ascending=False)"
   ]
  },
  {
   "cell_type": "markdown",
   "metadata": {},
   "source": [
    "Топ 5 жанров по медианным продажам: Shooter, Platform, Sports. В предпочтениях выделяется Япония, где популярен Role-Playing. Игрры жанра Fighting достаточно поппулярны во всех трех территориях."
   ]
  },
  {
   "cell_type": "markdown",
   "metadata": {},
   "source": [
    "### Вывод"
   ]
  },
  {
   "cell_type": "markdown",
   "metadata": {},
   "source": [
    "Потенциально прибыльные платформы - PS4, XOne, 3DS, PSV, PC и WiiU. При планировании рекламной кампании ставку лучше делать на эти платформы.\n",
    "Ни оценки критиков, ни оценки пользователей, на продажи не влияют. Делать на них акцент в рекламной кампании не имеет смысла."
   ]
  },
  {
   "cell_type": "markdown",
   "metadata": {},
   "source": [
    "## Портрет пользователя каждого региона"
   ]
  },
  {
   "cell_type": "markdown",
   "metadata": {},
   "source": [
    "### Самые популярные платформы  для пользователя каждого региона (NA, EU, JP)"
   ]
  },
  {
   "cell_type": "code",
   "execution_count": 57,
   "metadata": {},
   "outputs": [
    {
     "data": {
      "text/html": [
       "<div>\n",
       "<style scoped>\n",
       "    .dataframe tbody tr th:only-of-type {\n",
       "        vertical-align: middle;\n",
       "    }\n",
       "\n",
       "    .dataframe tbody tr th {\n",
       "        vertical-align: top;\n",
       "    }\n",
       "\n",
       "    .dataframe thead th {\n",
       "        text-align: right;\n",
       "    }\n",
       "</style>\n",
       "<table border=\"1\" class=\"dataframe\">\n",
       "  <thead>\n",
       "    <tr style=\"text-align: right;\">\n",
       "      <th></th>\n",
       "      <th>eu_sales</th>\n",
       "      <th>jp_sales</th>\n",
       "      <th>na_sales</th>\n",
       "      <th>sale_sum</th>\n",
       "    </tr>\n",
       "    <tr>\n",
       "      <th>platform</th>\n",
       "      <th></th>\n",
       "      <th></th>\n",
       "      <th></th>\n",
       "      <th></th>\n",
       "    </tr>\n",
       "  </thead>\n",
       "  <tbody>\n",
       "    <tr>\n",
       "      <th>PS4</th>\n",
       "      <td>130.04</td>\n",
       "      <td>15.02</td>\n",
       "      <td>98.61</td>\n",
       "      <td>288.15</td>\n",
       "    </tr>\n",
       "    <tr>\n",
       "      <th>XOne</th>\n",
       "      <td>46.25</td>\n",
       "      <td>0.32</td>\n",
       "      <td>81.27</td>\n",
       "      <td>140.36</td>\n",
       "    </tr>\n",
       "    <tr>\n",
       "      <th>3DS</th>\n",
       "      <td>16.12</td>\n",
       "      <td>44.24</td>\n",
       "      <td>22.64</td>\n",
       "      <td>86.68</td>\n",
       "    </tr>\n",
       "    <tr>\n",
       "      <th>PS3</th>\n",
       "      <td>25.54</td>\n",
       "      <td>11.22</td>\n",
       "      <td>22.05</td>\n",
       "      <td>68.18</td>\n",
       "    </tr>\n",
       "    <tr>\n",
       "      <th>X360</th>\n",
       "      <td>15.49</td>\n",
       "      <td>0.08</td>\n",
       "      <td>28.30</td>\n",
       "      <td>48.22</td>\n",
       "    </tr>\n",
       "    <tr>\n",
       "      <th>WiiU</th>\n",
       "      <td>13.15</td>\n",
       "      <td>7.31</td>\n",
       "      <td>19.36</td>\n",
       "      <td>42.98</td>\n",
       "    </tr>\n",
       "    <tr>\n",
       "      <th>PC</th>\n",
       "      <td>17.97</td>\n",
       "      <td>0.00</td>\n",
       "      <td>7.23</td>\n",
       "      <td>27.05</td>\n",
       "    </tr>\n",
       "    <tr>\n",
       "      <th>PSV</th>\n",
       "      <td>3.53</td>\n",
       "      <td>14.54</td>\n",
       "      <td>2.52</td>\n",
       "      <td>22.40</td>\n",
       "    </tr>\n",
       "    <tr>\n",
       "      <th>Wii</th>\n",
       "      <td>2.59</td>\n",
       "      <td>0.00</td>\n",
       "      <td>2.08</td>\n",
       "      <td>5.07</td>\n",
       "    </tr>\n",
       "    <tr>\n",
       "      <th>PSP</th>\n",
       "      <td>0.00</td>\n",
       "      <td>0.36</td>\n",
       "      <td>0.00</td>\n",
       "      <td>0.36</td>\n",
       "    </tr>\n",
       "  </tbody>\n",
       "</table>\n",
       "</div>"
      ],
      "text/plain": [
       "          eu_sales  jp_sales  na_sales  sale_sum\n",
       "platform                                        \n",
       "PS4         130.04     15.02     98.61    288.15\n",
       "XOne         46.25      0.32     81.27    140.36\n",
       "3DS          16.12     44.24     22.64     86.68\n",
       "PS3          25.54     11.22     22.05     68.18\n",
       "X360         15.49      0.08     28.30     48.22\n",
       "WiiU         13.15      7.31     19.36     42.98\n",
       "PC           17.97      0.00      7.23     27.05\n",
       "PSV           3.53     14.54      2.52     22.40\n",
       "Wii           2.59      0.00      2.08      5.07\n",
       "PSP           0.00      0.36      0.00      0.36"
      ]
     },
     "execution_count": 57,
     "metadata": {},
     "output_type": "execute_result"
    }
   ],
   "source": [
    "data_actual.pivot_table(index='platform', values=['sale_sum','na_sales', 'eu_sales', 'jp_sales' ], aggfunc='sum').sort_values(by=['sale_sum'], ascending=False)"
   ]
  },
  {
   "cell_type": "code",
   "execution_count": 58,
   "metadata": {
    "scrolled": true
   },
   "outputs": [
    {
     "data": {
      "image/png": "[encoded data removed]",
      "text/plain": [
       "<Figure size 1080x720 with 1 Axes>"
      ]
     },
     "metadata": {},
     "output_type": "display_data"
    },
    {
     "data": {
      "image/png": "[encoded data removed]",
      "text/plain": [
       "<Figure size 1080x720 with 1 Axes>"
      ]
     },
     "metadata": {},
     "output_type": "display_data"
    },
    {
     "data": {
      "image/png": "[encoded data removed]",
      "text/plain": [
       "<Figure size 1080x720 with 1 Axes>"
      ]
     },
     "metadata": {},
     "output_type": "display_data"
    }
   ],
   "source": [
    "# популярные платформы для пользователя каждого региона\n",
    "platform_top_5 = data_actual.groupby('platform').sum().sort_values(by=['sale_sum'], ascending=False)[['na_sales', 'eu_sales', 'jp_sales']]\n",
    "              \n",
    "for elem in platform_top_5.columns:\n",
    "    platform_top_5[elem].plot(kind='pie', autopct='%1.1f%%', subplots=True, figsize=(15, 10))\n",
    "    plt.show()"
   ]
  },
  {
   "cell_type": "markdown",
   "metadata": {},
   "source": [
    "Самые популярные Северной Америке PS4, XOne - каждая из них занимает около трети рынка. X360 занимает 10%, чуть меньше занимают 3DS и PS3.\tВ Европе лидеры - PS4 - почти половина рынка и XOne - почти пятая часть. На третьем месте PS3 - почти 10%. В Японии лидируют 3DS - почти половина рынка, PS4 - 16,1%  и PSV - 15,6%. Во всех трех регионах общий лидер - PS4. В Японии доля 3DS более чем в 5 раз выше, чем в Северной Америке. При этом в Японии доля XOne крайне мала."
   ]
  },
  {
   "cell_type": "markdown",
   "metadata": {},
   "source": [
    "### Самые популярные жанры  для пользователя каждого региона (NA, EU, JP)"
   ]
  },
  {
   "cell_type": "code",
   "execution_count": 59,
   "metadata": {},
   "outputs": [
    {
     "data": {
      "image/png": "[encoded data removed]",
      "text/plain": [
       "<Figure size 1080x720 with 1 Axes>"
      ]
     },
     "metadata": {},
     "output_type": "display_data"
    },
    {
     "data": {
      "image/png": "[encoded data removed]",
      "text/plain": [
       "<Figure size 1080x720 with 1 Axes>"
      ]
     },
     "metadata": {},
     "output_type": "display_data"
    },
    {
     "data": {
      "image/png": "[encoded data removed]",
      "text/plain": [
       "<Figure size 1080x720 with 1 Axes>"
      ]
     },
     "metadata": {},
     "output_type": "display_data"
    }
   ],
   "source": [
    "# популярные жанры для пользователя каждого региона\n",
    "genre_top_5 = data_actual.groupby('genre').sum().sort_values(by=['sale_sum'], ascending=False)[['na_sales', 'eu_sales', 'jp_sales']]\n",
    "              \n",
    "for elem in genre_top_5.columns:\n",
    "    genre_top_5[elem].plot(kind='pie', autopct='%1.1f%%', subplots=True, figsize=(15, 10))\n",
    "    plt.show()"
   ]
  },
  {
   "cell_type": "markdown",
   "metadata": {},
   "source": [
    "Самые популярные жанры в Северной Америке и Европе Action, Sports и Shooter. Они занимают практически три четверти рынка. В Японии более 60% занимают игры жанров Role-Playing и Action. Во всех трех регионах от четверти до трети рынка занимают игры жанра Action."
   ]
  },
  {
   "cell_type": "markdown",
   "metadata": {},
   "source": [
    "###  Влияние рейтинга ESRB на продажи в отдельном регионе"
   ]
  },
  {
   "cell_type": "code",
   "execution_count": 60,
   "metadata": {},
   "outputs": [
    {
     "data": {
      "text/html": [
       "<div>\n",
       "<style scoped>\n",
       "    .dataframe tbody tr th:only-of-type {\n",
       "        vertical-align: middle;\n",
       "    }\n",
       "\n",
       "    .dataframe tbody tr th {\n",
       "        vertical-align: top;\n",
       "    }\n",
       "\n",
       "    .dataframe thead th {\n",
       "        text-align: right;\n",
       "    }\n",
       "</style>\n",
       "<table border=\"1\" class=\"dataframe\">\n",
       "  <thead>\n",
       "    <tr style=\"text-align: right;\">\n",
       "      <th></th>\n",
       "      <th>eu_sales</th>\n",
       "      <th>jp_sales</th>\n",
       "      <th>na_sales</th>\n",
       "    </tr>\n",
       "    <tr>\n",
       "      <th>rating</th>\n",
       "      <th></th>\n",
       "      <th></th>\n",
       "      <th></th>\n",
       "    </tr>\n",
       "  </thead>\n",
       "  <tbody>\n",
       "    <tr>\n",
       "      <th>E</th>\n",
       "      <td>58.06</td>\n",
       "      <td>8.94</td>\n",
       "      <td>50.74</td>\n",
       "    </tr>\n",
       "    <tr>\n",
       "      <th>E10+</th>\n",
       "      <td>26.16</td>\n",
       "      <td>4.46</td>\n",
       "      <td>33.23</td>\n",
       "    </tr>\n",
       "    <tr>\n",
       "      <th>M</th>\n",
       "      <td>93.44</td>\n",
       "      <td>8.01</td>\n",
       "      <td>96.42</td>\n",
       "    </tr>\n",
       "    <tr>\n",
       "      <th>NR</th>\n",
       "      <td>58.95</td>\n",
       "      <td>56.90</td>\n",
       "      <td>64.72</td>\n",
       "    </tr>\n",
       "    <tr>\n",
       "      <th>T</th>\n",
       "      <td>34.07</td>\n",
       "      <td>14.78</td>\n",
       "      <td>38.95</td>\n",
       "    </tr>\n",
       "  </tbody>\n",
       "</table>\n",
       "</div>"
      ],
      "text/plain": [
       "        eu_sales  jp_sales  na_sales\n",
       "rating                              \n",
       "E          58.06      8.94     50.74\n",
       "E10+       26.16      4.46     33.23\n",
       "M          93.44      8.01     96.42\n",
       "NR         58.95     56.90     64.72\n",
       "T          34.07     14.78     38.95"
      ]
     },
     "execution_count": 60,
     "metadata": {},
     "output_type": "execute_result"
    }
   ],
   "source": [
    "# продажи по регионам в зависимости от рейтинга\n",
    "data_actual.pivot_table(index='rating', values=['na_sales', 'eu_sales', 'jp_sales'], aggfunc='sum')"
   ]
  },
  {
   "cell_type": "code",
   "execution_count": 61,
   "metadata": {},
   "outputs": [
    {
     "data": {
      "image/png": "[encoded data removed]",
      "text/plain": [
       "<Figure size 1080x648 with 1 Axes>"
      ]
     },
     "metadata": {
      "needs_background": "light"
     },
     "output_type": "display_data"
    }
   ],
   "source": [
    "data_actual.pivot_table(index='rating', values=['na_sales', 'eu_sales', 'jp_sales'], aggfunc='sum').plot(kind='bar', figsize=(15, 9), title='Продажи по регионам в зависимости от возрастного рейтинга')\n",
    "plt.show()"
   ]
  },
  {
   "cell_type": "markdown",
   "metadata": {},
   "source": [
    "Во всех регоинах большую популярность имеюи игры, рейтинг которых не определен. В Японии такие игры лидируют. Для тех игр, рейтинг которых определен, в Северной Америке и Европе наиболее популярны игры с рейтингом M (Mature) - для всех, кому 17 лет и старше. В Японии - игры с рейтингом T (Teen) - для тех, кому 13 лет и старше. На третьем месте в Северной Америке и Европе игры с рейтингом E (Everyone) - для возрастной категории от 6 лет и старше. В Японии - с рейтигом М. Игры с рейтингом E10+(Everyone 10 and older) — для всех от 10 лет и старше, популярны менее всего во всех трех регионах."
   ]
  },
  {
   "cell_type": "markdown",
   "metadata": {},
   "source": [
    "### Вывод"
   ]
  },
  {
   "cell_type": "markdown",
   "metadata": {},
   "source": [
    "Рынки Северной Америки и Европы довольно похожи, здесь популярны платформы PS4, XOne. Предпочтительные жанры - Action, Sports и Shooter. В Японии популярны  3DS, PS4, PSV . Популярные жанры: Role-Playing и Action.\n",
    "Во всех регионах наиболее популярны игры без рейтинга.  В Северной Америке и Европе наиболее популярны игры с рейтингом M. В Японии - игры с рейтингом T."
   ]
  },
  {
   "cell_type": "markdown",
   "metadata": {},
   "source": [
    "## Проверка гипотез"
   ]
  },
  {
   "cell_type": "markdown",
   "metadata": {},
   "source": [
    "###\tСредние пользовательские рейтинги платформ Xbox One и PC одинаковые"
   ]
  },
  {
   "cell_type": "code",
   "execution_count": 62,
   "metadata": {},
   "outputs": [
    {
     "name": "stdout",
     "output_type": "stream",
     "text": [
      "<class 'pandas.core.frame.DataFrame'>\n",
      "Int64Index: 228 entries, 0 to 227\n",
      "Data columns (total 14 columns):\n",
      " #   Column           Non-Null Count  Dtype  \n",
      "---  ------           --------------  -----  \n",
      " 0   level_0          228 non-null    int64  \n",
      " 1   index            228 non-null    int64  \n",
      " 2   name             228 non-null    object \n",
      " 3   platform         228 non-null    object \n",
      " 4   year_of_release  228 non-null    int64  \n",
      " 5   genre            228 non-null    object \n",
      " 6   na_sales         228 non-null    float64\n",
      " 7   eu_sales         228 non-null    float64\n",
      " 8   jp_sales         228 non-null    float64\n",
      " 9   other_sales      228 non-null    float64\n",
      " 10  critic_score     228 non-null    float64\n",
      " 11  user_score       228 non-null    float64\n",
      " 12  rating           228 non-null    object \n",
      " 13  sale_sum         228 non-null    float64\n",
      "dtypes: float64(7), int64(3), object(4)\n",
      "memory usage: 26.7+ KB\n"
     ]
    }
   ],
   "source": [
    "# сделаем срез для XOne\n",
    "data_actual_xbox = data_actual.query('platform == \"XOne\"').reset_index()\n",
    "data_actual_xbox = data_actual_xbox.dropna(subset=['user_score'])\n",
    "data_actual_xbox.info()"
   ]
  },
  {
   "cell_type": "code",
   "execution_count": 63,
   "metadata": {},
   "outputs": [
    {
     "name": "stdout",
     "output_type": "stream",
     "text": [
      "<class 'pandas.core.frame.DataFrame'>\n",
      "Int64Index: 151 entries, 0 to 150\n",
      "Data columns (total 14 columns):\n",
      " #   Column           Non-Null Count  Dtype  \n",
      "---  ------           --------------  -----  \n",
      " 0   level_0          151 non-null    int64  \n",
      " 1   index            151 non-null    int64  \n",
      " 2   name             151 non-null    object \n",
      " 3   platform         151 non-null    object \n",
      " 4   year_of_release  151 non-null    int64  \n",
      " 5   genre            151 non-null    object \n",
      " 6   na_sales         151 non-null    float64\n",
      " 7   eu_sales         151 non-null    float64\n",
      " 8   jp_sales         151 non-null    float64\n",
      " 9   other_sales      151 non-null    float64\n",
      " 10  critic_score     151 non-null    float64\n",
      " 11  user_score       151 non-null    float64\n",
      " 12  rating           151 non-null    object \n",
      " 13  sale_sum         151 non-null    float64\n",
      "dtypes: float64(7), int64(3), object(4)\n",
      "memory usage: 17.7+ KB\n"
     ]
    }
   ],
   "source": [
    "# сделаем срез для PC\n",
    "data_actual_pc = data_actual.query('platform == \"PC\"').reset_index()\n",
    "data_actual_pc = data_actual_pc.dropna(subset=['user_score'])\n",
    "data_actual_pc.info()"
   ]
  },
  {
   "cell_type": "code",
   "execution_count": 64,
   "metadata": {},
   "outputs": [
    {
     "data": {
      "text/plain": [
       "6.6798245614035086"
      ]
     },
     "execution_count": 64,
     "metadata": {},
     "output_type": "execute_result"
    }
   ],
   "source": [
    "# посмотрим среднее значение\n",
    "data_actual_xbox['user_score'].mean()"
   ]
  },
  {
   "cell_type": "code",
   "execution_count": 65,
   "metadata": {},
   "outputs": [
    {
     "data": {
      "text/plain": [
       "6.535761589403973"
      ]
     },
     "execution_count": 65,
     "metadata": {},
     "output_type": "execute_result"
    }
   ],
   "source": [
    "data_actual_pc['user_score'].mean()"
   ]
  },
  {
   "cell_type": "markdown",
   "metadata": {},
   "source": [
    "**Н0: Средние пользовательские рейтинги платформ Xbox One и PC одинаковые. Н1: Средние пользовательские рейтинги платформ Xbox One и PC разные.**"
   ]
  },
  {
   "cell_type": "markdown",
   "metadata": {},
   "source": [
    "Благодаря ЦПТ, если размер выборки составляет хотя бы несколько десятков значений, выборочные средние, которые можно получить из одной и той же генеральной совокупности, будут распределены нормально вокруг истинного среднего этой совокупности. Для проверки равенства средних двух совокупностей используем t-критерий Стьюдента.\n"
   ]
  },
  {
   "cell_type": "code",
   "execution_count": 66,
   "metadata": {},
   "outputs": [
    {
     "name": "stdout",
     "output_type": "stream",
     "text": [
      "p-значение:  0.31904967088959496\n",
      "Не получилось отвергнуть нулевую гипотезу\n"
     ]
    }
   ],
   "source": [
    "alpha = .05 \n",
    "results = st.ttest_ind(\n",
    "    data_actual_xbox['user_score'], \n",
    "    data_actual_pc['user_score'])\n",
    "\n",
    "print('p-значение: ', results.pvalue)\n",
    "\n",
    "if results.pvalue < alpha:\n",
    "    print(\"Отвергаем нулевую гипотезу\")\n",
    "else:\n",
    "    print(\"Не получилось отвергнуть нулевую гипотезу\") "
   ]
  },
  {
   "cell_type": "markdown",
   "metadata": {},
   "source": [
    "### Средние пользовательские рейтинги жанров Action (англ. «действие», экшен-игры) и Sports (англ. «спортивные соревнования») разные."
   ]
  },
  {
   "cell_type": "code",
   "execution_count": 67,
   "metadata": {},
   "outputs": [
    {
     "name": "stdout",
     "output_type": "stream",
     "text": [
      "<class 'pandas.core.frame.DataFrame'>\n",
      "Int64Index: 619 entries, 0 to 618\n",
      "Data columns (total 14 columns):\n",
      " #   Column           Non-Null Count  Dtype  \n",
      "---  ------           --------------  -----  \n",
      " 0   level_0          619 non-null    int64  \n",
      " 1   index            619 non-null    int64  \n",
      " 2   name             619 non-null    object \n",
      " 3   platform         619 non-null    object \n",
      " 4   year_of_release  619 non-null    int64  \n",
      " 5   genre            619 non-null    object \n",
      " 6   na_sales         619 non-null    float64\n",
      " 7   eu_sales         619 non-null    float64\n",
      " 8   jp_sales         619 non-null    float64\n",
      " 9   other_sales      619 non-null    float64\n",
      " 10  critic_score     619 non-null    float64\n",
      " 11  user_score       619 non-null    float64\n",
      " 12  rating           619 non-null    object \n",
      " 13  sale_sum         619 non-null    float64\n",
      "dtypes: float64(7), int64(3), object(4)\n",
      "memory usage: 72.5+ KB\n"
     ]
    }
   ],
   "source": [
    "# сделаем срез для Action\n",
    "data_actual_action = data_actual.query('genre == \"Action\"').reset_index()\n",
    "data_actual_action = data_actual_action.dropna(subset=['user_score'])\n",
    "data_actual_action.info()"
   ]
  },
  {
   "cell_type": "code",
   "execution_count": 68,
   "metadata": {},
   "outputs": [
    {
     "name": "stdout",
     "output_type": "stream",
     "text": [
      "<class 'pandas.core.frame.DataFrame'>\n",
      "Int64Index: 161 entries, 0 to 160\n",
      "Data columns (total 14 columns):\n",
      " #   Column           Non-Null Count  Dtype  \n",
      "---  ------           --------------  -----  \n",
      " 0   level_0          161 non-null    int64  \n",
      " 1   index            161 non-null    int64  \n",
      " 2   name             161 non-null    object \n",
      " 3   platform         161 non-null    object \n",
      " 4   year_of_release  161 non-null    int64  \n",
      " 5   genre            161 non-null    object \n",
      " 6   na_sales         161 non-null    float64\n",
      " 7   eu_sales         161 non-null    float64\n",
      " 8   jp_sales         161 non-null    float64\n",
      " 9   other_sales      161 non-null    float64\n",
      " 10  critic_score     161 non-null    float64\n",
      " 11  user_score       161 non-null    float64\n",
      " 12  rating           161 non-null    object \n",
      " 13  sale_sum         161 non-null    float64\n",
      "dtypes: float64(7), int64(3), object(4)\n",
      "memory usage: 18.9+ KB\n"
     ]
    }
   ],
   "source": [
    "# сделаем срез для Sports\n",
    "data_actual_sports = data_actual.query('genre == \"Sports\"').reset_index()\n",
    "data_actual_sports = data_actual_sports.dropna(subset=['user_score'])\n",
    "data_actual_sports.info()"
   ]
  },
  {
   "cell_type": "code",
   "execution_count": 69,
   "metadata": {},
   "outputs": [
    {
     "data": {
      "text/plain": [
       "6.969951534733441"
      ]
     },
     "execution_count": 69,
     "metadata": {},
     "output_type": "execute_result"
    }
   ],
   "source": [
    "# посмотрим среднее значение\n",
    "data_actual_action['user_score'].mean()"
   ]
  },
  {
   "cell_type": "code",
   "execution_count": 70,
   "metadata": {},
   "outputs": [
    {
     "data": {
      "text/plain": [
       "5.516149068322982"
      ]
     },
     "execution_count": 70,
     "metadata": {},
     "output_type": "execute_result"
    }
   ],
   "source": [
    "data_actual_sports['user_score'].mean()"
   ]
  },
  {
   "cell_type": "markdown",
   "metadata": {},
   "source": [
    "**Н0: Средние пользовательские рейтинги жанров Action (англ. «действие», экшен-игры) и Sports (англ. «спортивные соревнования») равны Н1: Средние пользовательские рейтинги жанров Action (англ. «действие», экшен-игры) и Sports (англ. «спортивные соревнования») не равны.**"
   ]
  },
  {
   "cell_type": "code",
   "execution_count": 71,
   "metadata": {},
   "outputs": [
    {
     "name": "stdout",
     "output_type": "stream",
     "text": [
      "p-значение:  1.2776159319629371e-38\n",
      "Отвергаем нулевую гипотезу\n"
     ]
    }
   ],
   "source": [
    "alpha = .05 \n",
    "results = st.ttest_ind(\n",
    "    data_actual_action['user_score'], \n",
    "    data_actual_sports['user_score'])\n",
    "\n",
    "print('p-значение: ', results.pvalue)\n",
    "\n",
    "if results.pvalue < alpha:\n",
    "    print(\"Отвергаем нулевую гипотезу\")\n",
    "else:\n",
    "    print(\"Не получилось отвергнуть нулевую гипотезу\") "
   ]
  },
  {
   "cell_type": "markdown",
   "metadata": {},
   "source": [
    "### Вывод\n",
    "Мы не можем отвергать гипотезу о том, что средние пользовательские рейтинги платформ Xbox One и PC одинаковые. Гипотезу о том, что средние пользовательские рейтинги жанров Action (англ. «действие», экшен-игры) и Sports (англ. «спортивные соревнования») равны, отвергать можем."
   ]
  },
  {
   "cell_type": "markdown",
   "metadata": {},
   "source": [
    "## Вывод\n",
    "Потенциально прибыльные платформы - PS4, XOne, 3DS, PSV, PC и WiiU. При планировании рекламной кампании ставку лучше делать на эти платформы.\n",
    "Рынки Северной Америки и Европы довольно похожи, здесь можно применить единую рекламную стратегию, что позволит сократить рекламный бюджет. Для этих двух рынков стоит сделать акцент на жанрах - Action, Sports и Shooter.\n",
    "В Японии рекламная компания должна быть сконцентрирована на жанрах - Role-Playing и Action.\n",
    "Ни оценки критиков, ни оценки пользователей, на продажи не влияют. Делать на них акцент в рекламной кампании не имеет смысла.\n",
    "Во всех регионах наиболее популярны игры без рейтинга.  В Северной Америке и Европе наиболее популярны игры с рейтингом M. В Японии - игры с рейтингом T."
   ]
  },
  {
   "cell_type": "code",
   "execution_count": 72,
   "metadata": {},
   "outputs": [
    {
     "data": {
      "text/html": [
       "<div>\n",
       "<style scoped>\n",
       "    .dataframe tbody tr th:only-of-type {\n",
       "        vertical-align: middle;\n",
       "    }\n",
       "\n",
       "    .dataframe tbody tr th {\n",
       "        vertical-align: top;\n",
       "    }\n",
       "\n",
       "    .dataframe thead th {\n",
       "        text-align: right;\n",
       "    }\n",
       "</style>\n",
       "<table border=\"1\" class=\"dataframe\">\n",
       "  <thead>\n",
       "    <tr style=\"text-align: right;\">\n",
       "      <th>year_of_release</th>\n",
       "      <th>2014</th>\n",
       "      <th>2015</th>\n",
       "      <th>2016</th>\n",
       "    </tr>\n",
       "    <tr>\n",
       "      <th>platform</th>\n",
       "      <th></th>\n",
       "      <th></th>\n",
       "      <th></th>\n",
       "    </tr>\n",
       "  </thead>\n",
       "  <tbody>\n",
       "    <tr>\n",
       "      <th>3DS</th>\n",
       "      <td>43.76</td>\n",
       "      <td>27.78</td>\n",
       "      <td>15.14</td>\n",
       "    </tr>\n",
       "    <tr>\n",
       "      <th>PC</th>\n",
       "      <td>13.28</td>\n",
       "      <td>8.52</td>\n",
       "      <td>5.25</td>\n",
       "    </tr>\n",
       "    <tr>\n",
       "      <th>PS3</th>\n",
       "      <td>47.76</td>\n",
       "      <td>16.82</td>\n",
       "      <td>3.60</td>\n",
       "    </tr>\n",
       "    <tr>\n",
       "      <th>PS4</th>\n",
       "      <td>100.00</td>\n",
       "      <td>118.90</td>\n",
       "      <td>69.25</td>\n",
       "    </tr>\n",
       "    <tr>\n",
       "      <th>PSP</th>\n",
       "      <td>0.24</td>\n",
       "      <td>0.12</td>\n",
       "      <td>NaN</td>\n",
       "    </tr>\n",
       "    <tr>\n",
       "      <th>PSV</th>\n",
       "      <td>11.90</td>\n",
       "      <td>6.25</td>\n",
       "      <td>4.25</td>\n",
       "    </tr>\n",
       "    <tr>\n",
       "      <th>Wii</th>\n",
       "      <td>3.75</td>\n",
       "      <td>1.14</td>\n",
       "      <td>0.18</td>\n",
       "    </tr>\n",
       "    <tr>\n",
       "      <th>WiiU</th>\n",
       "      <td>22.03</td>\n",
       "      <td>16.35</td>\n",
       "      <td>4.60</td>\n",
       "    </tr>\n",
       "    <tr>\n",
       "      <th>X360</th>\n",
       "      <td>34.74</td>\n",
       "      <td>11.96</td>\n",
       "      <td>1.52</td>\n",
       "    </tr>\n",
       "    <tr>\n",
       "      <th>XOne</th>\n",
       "      <td>54.07</td>\n",
       "      <td>60.14</td>\n",
       "      <td>26.15</td>\n",
       "    </tr>\n",
       "  </tbody>\n",
       "</table>\n",
       "</div>"
      ],
      "text/plain": [
       "year_of_release    2014    2015   2016\n",
       "platform                              \n",
       "3DS               43.76   27.78  15.14\n",
       "PC                13.28    8.52   5.25\n",
       "PS3               47.76   16.82   3.60\n",
       "PS4              100.00  118.90  69.25\n",
       "PSP                0.24    0.12    NaN\n",
       "PSV               11.90    6.25   4.25\n",
       "Wii                3.75    1.14   0.18\n",
       "WiiU              22.03   16.35   4.60\n",
       "X360              34.74   11.96   1.52\n",
       "XOne              54.07   60.14  26.15"
      ]
     },
     "execution_count": 72,
     "metadata": {},
     "output_type": "execute_result"
    }
   ],
   "source": [
    "# посмотрим сумму\n",
    "data_actual.pivot_table(index='platform', values='sale_sum',columns='year_of_release', aggfunc='sum')"
   ]
  }
 ],
 "metadata": {
  "ExecuteTimeLog": [
   {
    "duration": 1300,
    "start_time": "2022-04-05T18:47:22.251Z"
   },
   {
    "duration": 43,
    "start_time": "2022-04-05T18:51:09.724Z"
   },
   {
    "duration": 15,
    "start_time": "2022-04-05T18:51:38.758Z"
   },
   {
    "duration": 3,
    "start_time": "2022-04-05T18:52:15.492Z"
   },
   {
    "duration": 14,
    "start_time": "2022-04-05T18:52:31.673Z"
   },
   {
    "duration": 10,
    "start_time": "2022-04-05T18:55:18.693Z"
   },
   {
    "duration": 18,
    "start_time": "2022-04-05T18:56:17.860Z"
   },
   {
    "duration": 8,
    "start_time": "2022-04-05T18:57:24.455Z"
   },
   {
    "duration": 21,
    "start_time": "2022-04-05T18:58:17.714Z"
   },
   {
    "duration": 15,
    "start_time": "2022-04-05T19:21:22.707Z"
   },
   {
    "duration": 22,
    "start_time": "2022-04-05T19:21:37.307Z"
   },
   {
    "duration": 95,
    "start_time": "2022-04-05T19:25:05.877Z"
   },
   {
    "duration": 53,
    "start_time": "2022-04-05T19:27:59.689Z"
   },
   {
    "duration": 1165,
    "start_time": "2022-04-05T19:28:37.157Z"
   },
   {
    "duration": 36,
    "start_time": "2022-04-05T19:28:38.324Z"
   },
   {
    "duration": 14,
    "start_time": "2022-04-05T19:28:38.362Z"
   },
   {
    "duration": 3,
    "start_time": "2022-04-05T19:28:38.378Z"
   },
   {
    "duration": 22,
    "start_time": "2022-04-05T19:28:38.383Z"
   },
   {
    "duration": 11,
    "start_time": "2022-04-05T19:28:38.407Z"
   },
   {
    "duration": 16,
    "start_time": "2022-04-05T19:28:38.437Z"
   },
   {
    "duration": 7,
    "start_time": "2022-04-05T19:28:38.455Z"
   },
   {
    "duration": 19,
    "start_time": "2022-04-05T19:28:38.463Z"
   },
   {
    "duration": 14,
    "start_time": "2022-04-05T19:28:38.484Z"
   },
   {
    "duration": 1181,
    "start_time": "2022-04-05T19:29:20.459Z"
   },
   {
    "duration": 37,
    "start_time": "2022-04-05T19:29:21.642Z"
   },
   {
    "duration": 15,
    "start_time": "2022-04-05T19:29:21.680Z"
   },
   {
    "duration": 5,
    "start_time": "2022-04-05T19:29:21.696Z"
   },
   {
    "duration": 15,
    "start_time": "2022-04-05T19:29:21.703Z"
   },
   {
    "duration": 23,
    "start_time": "2022-04-05T19:29:21.720Z"
   },
   {
    "duration": 16,
    "start_time": "2022-04-05T19:29:21.745Z"
   },
   {
    "duration": 7,
    "start_time": "2022-04-05T19:29:21.763Z"
   },
   {
    "duration": 21,
    "start_time": "2022-04-05T19:29:21.771Z"
   },
   {
    "duration": 15,
    "start_time": "2022-04-05T19:29:21.794Z"
   },
   {
    "duration": 9,
    "start_time": "2022-04-05T19:30:24.705Z"
   },
   {
    "duration": 7,
    "start_time": "2022-04-05T19:36:25.090Z"
   },
   {
    "duration": 5,
    "start_time": "2022-04-05T19:37:37.537Z"
   },
   {
    "duration": 4,
    "start_time": "2022-04-05T19:38:18.582Z"
   },
   {
    "duration": 14,
    "start_time": "2022-04-05T19:38:52.364Z"
   },
   {
    "duration": 13,
    "start_time": "2022-04-05T19:41:06.000Z"
   },
   {
    "duration": 337,
    "start_time": "2022-04-05T19:46:24.139Z"
   },
   {
    "duration": 282,
    "start_time": "2022-04-05T19:53:21.825Z"
   },
   {
    "duration": 272,
    "start_time": "2022-04-05T19:53:45.615Z"
   },
   {
    "duration": 285,
    "start_time": "2022-04-05T19:54:12.875Z"
   },
   {
    "duration": 356,
    "start_time": "2022-04-05T19:59:59.929Z"
   },
   {
    "duration": 1061,
    "start_time": "2022-04-05T20:02:19.827Z"
   },
   {
    "duration": 44,
    "start_time": "2022-04-06T08:07:20.248Z"
   },
   {
    "duration": 1628,
    "start_time": "2022-04-06T08:07:29.698Z"
   },
   {
    "duration": 45,
    "start_time": "2022-04-06T08:07:31.328Z"
   },
   {
    "duration": 15,
    "start_time": "2022-04-06T08:07:31.375Z"
   },
   {
    "duration": 14,
    "start_time": "2022-04-06T08:07:31.392Z"
   },
   {
    "duration": 27,
    "start_time": "2022-04-06T08:07:31.408Z"
   },
   {
    "duration": 23,
    "start_time": "2022-04-06T08:07:31.437Z"
   },
   {
    "duration": 20,
    "start_time": "2022-04-06T08:07:31.462Z"
   },
   {
    "duration": 9,
    "start_time": "2022-04-06T08:07:31.484Z"
   },
   {
    "duration": 26,
    "start_time": "2022-04-06T08:07:31.495Z"
   },
   {
    "duration": 14,
    "start_time": "2022-04-06T08:07:31.524Z"
   },
   {
    "duration": 18,
    "start_time": "2022-04-06T08:07:31.540Z"
   },
   {
    "duration": 10,
    "start_time": "2022-04-06T08:07:31.560Z"
   },
   {
    "duration": 12,
    "start_time": "2022-04-06T08:07:31.572Z"
   },
   {
    "duration": 22,
    "start_time": "2022-04-06T08:07:31.585Z"
   },
   {
    "duration": 14,
    "start_time": "2022-04-06T08:07:31.609Z"
   },
   {
    "duration": 333,
    "start_time": "2022-04-06T08:07:31.624Z"
   },
   {
    "duration": 302,
    "start_time": "2022-04-06T08:07:31.960Z"
   },
   {
    "duration": 977,
    "start_time": "2022-04-06T08:07:32.264Z"
   },
   {
    "duration": 394,
    "start_time": "2022-04-06T08:07:33.243Z"
   },
   {
    "duration": 506,
    "start_time": "2022-04-06T08:10:40.095Z"
   },
   {
    "duration": 435,
    "start_time": "2022-04-06T08:11:09.042Z"
   },
   {
    "duration": 423,
    "start_time": "2022-04-06T08:11:38.583Z"
   },
   {
    "duration": 443,
    "start_time": "2022-04-06T08:14:32.933Z"
   },
   {
    "duration": 522,
    "start_time": "2022-04-06T08:15:14.682Z"
   },
   {
    "duration": 285,
    "start_time": "2022-04-06T08:15:44.008Z"
   },
   {
    "duration": 23,
    "start_time": "2022-04-06T08:42:29.817Z"
   },
   {
    "duration": 26,
    "start_time": "2022-04-06T08:45:11.936Z"
   },
   {
    "duration": 16,
    "start_time": "2022-04-06T08:46:14.482Z"
   },
   {
    "duration": 19,
    "start_time": "2022-04-06T08:46:23.187Z"
   },
   {
    "duration": 13,
    "start_time": "2022-04-06T08:47:07.108Z"
   },
   {
    "duration": 8,
    "start_time": "2022-04-06T08:48:56.463Z"
   },
   {
    "duration": 8,
    "start_time": "2022-04-06T08:49:22.004Z"
   },
   {
    "duration": 38,
    "start_time": "2022-04-06T08:50:23.865Z"
   },
   {
    "duration": 25,
    "start_time": "2022-04-06T08:56:24.392Z"
   },
   {
    "duration": 270,
    "start_time": "2022-04-06T08:59:11.442Z"
   },
   {
    "duration": 7,
    "start_time": "2022-04-06T09:00:36.296Z"
   },
   {
    "duration": 184,
    "start_time": "2022-04-06T09:00:58.090Z"
   },
   {
    "duration": 276,
    "start_time": "2022-04-06T10:24:35.135Z"
   },
   {
    "duration": 298,
    "start_time": "2022-04-06T10:25:18.085Z"
   },
   {
    "duration": 350,
    "start_time": "2022-04-06T10:25:26.764Z"
   },
   {
    "duration": 274,
    "start_time": "2022-04-06T10:25:34.098Z"
   },
   {
    "duration": 261,
    "start_time": "2022-04-06T10:25:40.043Z"
   },
   {
    "duration": 274,
    "start_time": "2022-04-06T10:26:04.745Z"
   },
   {
    "duration": 281,
    "start_time": "2022-04-06T10:26:13.532Z"
   },
   {
    "duration": 477,
    "start_time": "2022-04-06T10:28:39.788Z"
   },
   {
    "duration": 372,
    "start_time": "2022-04-06T10:29:30.348Z"
   },
   {
    "duration": 8,
    "start_time": "2022-04-06T10:38:41.267Z"
   },
   {
    "duration": 6,
    "start_time": "2022-04-06T10:38:44.455Z"
   },
   {
    "duration": 10,
    "start_time": "2022-04-06T10:38:45.117Z"
   },
   {
    "duration": 129,
    "start_time": "2022-04-06T10:42:33.742Z"
   },
   {
    "duration": 6,
    "start_time": "2022-04-06T10:42:52.721Z"
   },
   {
    "duration": 132,
    "start_time": "2022-04-06T10:43:12.027Z"
   },
   {
    "duration": 5,
    "start_time": "2022-04-06T10:43:26.085Z"
   },
   {
    "duration": 279,
    "start_time": "2022-04-06T10:45:46.672Z"
   },
   {
    "duration": 292,
    "start_time": "2022-04-06T10:47:07.537Z"
   },
   {
    "duration": 273,
    "start_time": "2022-04-06T10:47:29.384Z"
   },
   {
    "duration": 271,
    "start_time": "2022-04-06T10:47:58.940Z"
   },
   {
    "duration": 284,
    "start_time": "2022-04-06T10:48:24.146Z"
   },
   {
    "duration": 281,
    "start_time": "2022-04-06T10:49:20.289Z"
   },
   {
    "duration": 357,
    "start_time": "2022-04-06T10:50:49.768Z"
   },
   {
    "duration": 378,
    "start_time": "2022-04-06T10:51:37.350Z"
   },
   {
    "duration": 16,
    "start_time": "2022-04-06T10:53:31.933Z"
   },
   {
    "duration": 17,
    "start_time": "2022-04-06T10:55:52.678Z"
   },
   {
    "duration": 3,
    "start_time": "2022-04-06T11:01:50.213Z"
   },
   {
    "duration": 27,
    "start_time": "2022-04-06T11:04:29.220Z"
   },
   {
    "duration": 25,
    "start_time": "2022-04-06T11:06:09.514Z"
   },
   {
    "duration": 229,
    "start_time": "2022-04-06T11:45:06.145Z"
   },
   {
    "duration": 252,
    "start_time": "2022-04-06T11:58:28.507Z"
   },
   {
    "duration": 14,
    "start_time": "2022-04-06T12:01:53.374Z"
   },
   {
    "duration": 180,
    "start_time": "2022-04-06T12:03:53.013Z"
   },
   {
    "duration": 15,
    "start_time": "2022-04-06T12:07:59.774Z"
   },
   {
    "duration": 15,
    "start_time": "2022-04-06T12:08:38.723Z"
   },
   {
    "duration": 4,
    "start_time": "2022-04-06T12:09:29.726Z"
   },
   {
    "duration": 4,
    "start_time": "2022-04-06T12:09:44.977Z"
   },
   {
    "duration": 4,
    "start_time": "2022-04-06T12:12:06.087Z"
   },
   {
    "duration": 4,
    "start_time": "2022-04-06T12:14:34.737Z"
   },
   {
    "duration": 5,
    "start_time": "2022-04-06T12:15:52.650Z"
   },
   {
    "duration": 4,
    "start_time": "2022-04-06T12:22:43.561Z"
   },
   {
    "duration": 15,
    "start_time": "2022-04-06T12:24:34.592Z"
   },
   {
    "duration": 15,
    "start_time": "2022-04-06T12:25:09.022Z"
   },
   {
    "duration": 4,
    "start_time": "2022-04-06T12:28:33.666Z"
   },
   {
    "duration": 4,
    "start_time": "2022-04-06T12:28:39.039Z"
   },
   {
    "duration": 41,
    "start_time": "2022-04-06T17:35:43.845Z"
   },
   {
    "duration": 1138,
    "start_time": "2022-04-06T17:35:50.150Z"
   },
   {
    "duration": 35,
    "start_time": "2022-04-06T17:35:51.290Z"
   },
   {
    "duration": 12,
    "start_time": "2022-04-06T17:35:51.327Z"
   },
   {
    "duration": 2,
    "start_time": "2022-04-06T17:35:51.341Z"
   },
   {
    "duration": 11,
    "start_time": "2022-04-06T17:35:51.345Z"
   },
   {
    "duration": 7,
    "start_time": "2022-04-06T17:35:51.358Z"
   },
   {
    "duration": 13,
    "start_time": "2022-04-06T17:35:51.367Z"
   },
   {
    "duration": 6,
    "start_time": "2022-04-06T17:35:51.381Z"
   },
   {
    "duration": 43,
    "start_time": "2022-04-06T17:35:51.388Z"
   },
   {
    "duration": 15,
    "start_time": "2022-04-06T17:35:51.435Z"
   },
   {
    "duration": 8,
    "start_time": "2022-04-06T17:35:51.451Z"
   },
   {
    "duration": 6,
    "start_time": "2022-04-06T17:35:51.460Z"
   },
   {
    "duration": 4,
    "start_time": "2022-04-06T17:35:51.468Z"
   },
   {
    "duration": 12,
    "start_time": "2022-04-06T17:35:51.474Z"
   },
   {
    "duration": 8,
    "start_time": "2022-04-06T17:35:51.487Z"
   },
   {
    "duration": 36,
    "start_time": "2022-04-06T17:35:51.497Z"
   },
   {
    "duration": 300,
    "start_time": "2022-04-06T17:35:51.534Z"
   },
   {
    "duration": 232,
    "start_time": "2022-04-06T17:35:51.836Z"
   },
   {
    "duration": 878,
    "start_time": "2022-04-06T17:35:52.070Z"
   },
   {
    "duration": 344,
    "start_time": "2022-04-06T17:35:52.950Z"
   },
   {
    "duration": 14,
    "start_time": "2022-04-06T17:35:53.295Z"
   },
   {
    "duration": 35,
    "start_time": "2022-04-06T17:35:53.310Z"
   },
   {
    "duration": 268,
    "start_time": "2022-04-06T17:35:53.346Z"
   },
   {
    "duration": 6,
    "start_time": "2022-04-06T17:35:53.616Z"
   },
   {
    "duration": 174,
    "start_time": "2022-04-06T17:35:53.629Z"
   },
   {
    "duration": 6,
    "start_time": "2022-04-06T17:35:53.805Z"
   },
   {
    "duration": 20,
    "start_time": "2022-04-06T17:35:53.813Z"
   },
   {
    "duration": 132,
    "start_time": "2022-04-06T17:35:53.837Z"
   },
   {
    "duration": 4,
    "start_time": "2022-04-06T17:35:53.970Z"
   },
   {
    "duration": 136,
    "start_time": "2022-04-06T17:35:53.976Z"
   },
   {
    "duration": 4,
    "start_time": "2022-04-06T17:35:54.114Z"
   },
   {
    "duration": 306,
    "start_time": "2022-04-06T17:35:54.129Z"
   },
   {
    "duration": 257,
    "start_time": "2022-04-06T17:35:54.437Z"
   },
   {
    "duration": 287,
    "start_time": "2022-04-06T17:35:54.696Z"
   },
   {
    "duration": 284,
    "start_time": "2022-04-06T17:35:54.985Z"
   },
   {
    "duration": 334,
    "start_time": "2022-04-06T17:35:55.271Z"
   },
   {
    "duration": 25,
    "start_time": "2022-04-06T17:35:55.606Z"
   },
   {
    "duration": 16,
    "start_time": "2022-04-06T17:35:55.633Z"
   },
   {
    "duration": 16,
    "start_time": "2022-04-06T17:35:55.651Z"
   },
   {
    "duration": 241,
    "start_time": "2022-04-06T17:35:55.669Z"
   },
   {
    "duration": 272,
    "start_time": "2022-04-06T17:35:55.912Z"
   },
   {
    "duration": 14,
    "start_time": "2022-04-06T17:35:56.186Z"
   },
   {
    "duration": 185,
    "start_time": "2022-04-06T17:35:56.201Z"
   },
   {
    "duration": 15,
    "start_time": "2022-04-06T17:35:56.387Z"
   },
   {
    "duration": 31,
    "start_time": "2022-04-06T17:35:56.403Z"
   },
   {
    "duration": 5,
    "start_time": "2022-04-06T17:35:56.435Z"
   },
   {
    "duration": 8,
    "start_time": "2022-04-06T17:35:56.442Z"
   },
   {
    "duration": 11,
    "start_time": "2022-04-06T17:35:56.451Z"
   },
   {
    "duration": 17,
    "start_time": "2022-04-06T17:35:56.464Z"
   },
   {
    "duration": 13,
    "start_time": "2022-04-06T17:35:56.483Z"
   },
   {
    "duration": 4,
    "start_time": "2022-04-06T17:35:56.498Z"
   },
   {
    "duration": 27,
    "start_time": "2022-04-06T17:35:56.503Z"
   },
   {
    "duration": 4,
    "start_time": "2022-04-06T17:38:05.826Z"
   },
   {
    "duration": 4,
    "start_time": "2022-04-06T17:38:27.418Z"
   },
   {
    "duration": 4,
    "start_time": "2022-04-06T17:40:38.820Z"
   },
   {
    "duration": 4,
    "start_time": "2022-04-06T17:40:55.547Z"
   },
   {
    "duration": 13,
    "start_time": "2022-04-06T17:45:51.254Z"
   },
   {
    "duration": 5,
    "start_time": "2022-04-06T17:55:16.981Z"
   },
   {
    "duration": 1849,
    "start_time": "2022-04-06T19:17:36.664Z"
   },
   {
    "duration": 51,
    "start_time": "2022-04-06T19:17:38.516Z"
   },
   {
    "duration": 28,
    "start_time": "2022-04-06T19:17:38.569Z"
   },
   {
    "duration": 6,
    "start_time": "2022-04-06T19:17:38.599Z"
   },
   {
    "duration": 23,
    "start_time": "2022-04-06T19:17:38.607Z"
   },
   {
    "duration": 60,
    "start_time": "2022-04-06T19:17:38.633Z"
   },
   {
    "duration": 14,
    "start_time": "2022-04-06T19:17:38.696Z"
   },
   {
    "duration": 26,
    "start_time": "2022-04-06T19:17:38.713Z"
   },
   {
    "duration": 43,
    "start_time": "2022-04-06T19:17:38.742Z"
   },
   {
    "duration": 32,
    "start_time": "2022-04-06T19:17:38.791Z"
   },
   {
    "duration": 57,
    "start_time": "2022-04-06T19:17:38.827Z"
   },
   {
    "duration": 14,
    "start_time": "2022-04-06T19:17:38.887Z"
   },
   {
    "duration": 12,
    "start_time": "2022-04-06T19:17:38.903Z"
   },
   {
    "duration": 9,
    "start_time": "2022-04-06T19:17:38.917Z"
   },
   {
    "duration": 58,
    "start_time": "2022-04-06T19:17:38.929Z"
   },
   {
    "duration": 16,
    "start_time": "2022-04-06T19:17:38.989Z"
   },
   {
    "duration": 16,
    "start_time": "2022-04-06T19:17:39.008Z"
   },
   {
    "duration": 650,
    "start_time": "2022-04-06T19:17:39.027Z"
   },
   {
    "duration": 490,
    "start_time": "2022-04-06T19:17:39.679Z"
   },
   {
    "duration": 1825,
    "start_time": "2022-04-06T19:17:40.171Z"
   },
   {
    "duration": 740,
    "start_time": "2022-04-06T19:17:41.999Z"
   },
   {
    "duration": 46,
    "start_time": "2022-04-06T19:17:42.742Z"
   },
   {
    "duration": 47,
    "start_time": "2022-04-06T19:17:42.790Z"
   },
   {
    "duration": 614,
    "start_time": "2022-04-06T19:17:42.839Z"
   },
   {
    "duration": 12,
    "start_time": "2022-04-06T19:17:43.456Z"
   },
   {
    "duration": 401,
    "start_time": "2022-04-06T19:17:43.470Z"
   },
   {
    "duration": 16,
    "start_time": "2022-04-06T19:17:43.874Z"
   },
   {
    "duration": 23,
    "start_time": "2022-04-06T19:17:43.898Z"
   },
   {
    "duration": 292,
    "start_time": "2022-04-06T19:17:43.923Z"
   },
   {
    "duration": 7,
    "start_time": "2022-04-06T19:17:44.218Z"
   },
   {
    "duration": 275,
    "start_time": "2022-04-06T19:17:44.227Z"
   },
   {
    "duration": 7,
    "start_time": "2022-04-06T19:17:44.505Z"
   },
   {
    "duration": 490,
    "start_time": "2022-04-06T19:17:44.514Z"
   },
   {
    "duration": 473,
    "start_time": "2022-04-06T19:17:45.007Z"
   },
   {
    "duration": 387,
    "start_time": "2022-04-06T19:17:45.483Z"
   },
   {
    "duration": 387,
    "start_time": "2022-04-06T19:17:45.872Z"
   },
   {
    "duration": 542,
    "start_time": "2022-04-06T19:17:46.262Z"
   },
   {
    "duration": 30,
    "start_time": "2022-04-06T19:17:46.807Z"
   },
   {
    "duration": 53,
    "start_time": "2022-04-06T19:17:46.840Z"
   },
   {
    "duration": 30,
    "start_time": "2022-04-06T19:17:46.895Z"
   },
   {
    "duration": 456,
    "start_time": "2022-04-06T19:17:46.927Z"
   },
   {
    "duration": 534,
    "start_time": "2022-04-06T19:17:47.386Z"
   },
   {
    "duration": 24,
    "start_time": "2022-04-06T19:17:47.922Z"
   },
   {
    "duration": 409,
    "start_time": "2022-04-06T19:17:47.948Z"
   },
   {
    "duration": 34,
    "start_time": "2022-04-06T19:17:48.359Z"
   },
   {
    "duration": 24,
    "start_time": "2022-04-06T19:17:48.395Z"
   },
   {
    "duration": 5,
    "start_time": "2022-04-06T19:17:48.421Z"
   },
   {
    "duration": 7,
    "start_time": "2022-04-06T19:17:48.429Z"
   },
   {
    "duration": 7,
    "start_time": "2022-04-06T19:17:48.438Z"
   },
   {
    "duration": 24,
    "start_time": "2022-04-06T19:17:48.485Z"
   },
   {
    "duration": 23,
    "start_time": "2022-04-06T19:17:48.511Z"
   },
   {
    "duration": 5,
    "start_time": "2022-04-06T19:17:48.537Z"
   },
   {
    "duration": 6,
    "start_time": "2022-04-06T19:17:48.585Z"
   },
   {
    "duration": 9,
    "start_time": "2022-04-06T19:17:48.592Z"
   },
   {
    "duration": 1795,
    "start_time": "2022-04-09T13:49:53.181Z"
   },
   {
    "duration": 56,
    "start_time": "2022-04-09T13:49:54.980Z"
   },
   {
    "duration": 26,
    "start_time": "2022-04-09T13:49:55.038Z"
   },
   {
    "duration": 4,
    "start_time": "2022-04-09T13:49:55.066Z"
   },
   {
    "duration": 32,
    "start_time": "2022-04-09T13:49:55.073Z"
   },
   {
    "duration": 48,
    "start_time": "2022-04-09T13:49:55.108Z"
   },
   {
    "duration": 11,
    "start_time": "2022-04-09T13:49:55.159Z"
   },
   {
    "duration": 26,
    "start_time": "2022-04-09T13:49:55.172Z"
   },
   {
    "duration": 11,
    "start_time": "2022-04-09T13:49:55.200Z"
   },
   {
    "duration": 62,
    "start_time": "2022-04-09T13:49:55.213Z"
   },
   {
    "duration": 21,
    "start_time": "2022-04-09T13:49:55.278Z"
   },
   {
    "duration": 12,
    "start_time": "2022-04-09T13:49:55.301Z"
   },
   {
    "duration": 11,
    "start_time": "2022-04-09T13:49:55.351Z"
   },
   {
    "duration": 9,
    "start_time": "2022-04-09T13:49:55.367Z"
   },
   {
    "duration": 20,
    "start_time": "2022-04-09T13:49:55.378Z"
   },
   {
    "duration": 13,
    "start_time": "2022-04-09T13:49:55.400Z"
   },
   {
    "duration": 44,
    "start_time": "2022-04-09T13:49:55.416Z"
   },
   {
    "duration": 683,
    "start_time": "2022-04-09T13:49:55.463Z"
   },
   {
    "duration": 454,
    "start_time": "2022-04-09T13:49:56.148Z"
   },
   {
    "duration": 1687,
    "start_time": "2022-04-09T13:49:56.604Z"
   },
   {
    "duration": 702,
    "start_time": "2022-04-09T13:49:58.294Z"
   },
   {
    "duration": 25,
    "start_time": "2022-04-09T13:49:58.998Z"
   },
   {
    "duration": 60,
    "start_time": "2022-04-09T13:49:59.025Z"
   },
   {
    "duration": 560,
    "start_time": "2022-04-09T13:49:59.088Z"
   },
   {
    "duration": 11,
    "start_time": "2022-04-09T13:49:59.650Z"
   },
   {
    "duration": 345,
    "start_time": "2022-04-09T13:49:59.663Z"
   },
   {
    "duration": 10,
    "start_time": "2022-04-09T13:50:00.011Z"
   },
   {
    "duration": 32,
    "start_time": "2022-04-09T13:50:00.024Z"
   },
   {
    "duration": 268,
    "start_time": "2022-04-09T13:50:00.059Z"
   },
   {
    "duration": 14,
    "start_time": "2022-04-09T13:50:00.330Z"
   },
   {
    "duration": 255,
    "start_time": "2022-04-09T13:50:00.347Z"
   },
   {
    "duration": 7,
    "start_time": "2022-04-09T13:50:00.605Z"
   },
   {
    "duration": 429,
    "start_time": "2022-04-09T13:50:00.614Z"
   },
   {
    "duration": 419,
    "start_time": "2022-04-09T13:50:01.045Z"
   },
   {
    "duration": 440,
    "start_time": "2022-04-09T13:50:01.467Z"
   },
   {
    "duration": 386,
    "start_time": "2022-04-09T13:50:01.909Z"
   },
   {
    "duration": 535,
    "start_time": "2022-04-09T13:50:02.298Z"
   },
   {
    "duration": 32,
    "start_time": "2022-04-09T13:50:02.835Z"
   },
   {
    "duration": 26,
    "start_time": "2022-04-09T13:50:02.869Z"
   },
   {
    "duration": 56,
    "start_time": "2022-04-09T13:50:02.897Z"
   },
   {
    "duration": 419,
    "start_time": "2022-04-09T13:50:02.959Z"
   },
   {
    "duration": 493,
    "start_time": "2022-04-09T13:50:03.380Z"
   },
   {
    "duration": 22,
    "start_time": "2022-04-09T13:50:03.876Z"
   },
   {
    "duration": 375,
    "start_time": "2022-04-09T13:50:03.900Z"
   },
   {
    "duration": 23,
    "start_time": "2022-04-09T13:50:04.278Z"
   },
   {
    "duration": 42,
    "start_time": "2022-04-09T13:50:04.304Z"
   },
   {
    "duration": 6,
    "start_time": "2022-04-09T13:50:04.348Z"
   },
   {
    "duration": 11,
    "start_time": "2022-04-09T13:50:04.357Z"
   },
   {
    "duration": 21,
    "start_time": "2022-04-09T13:50:04.370Z"
   },
   {
    "duration": 33,
    "start_time": "2022-04-09T13:50:04.393Z"
   },
   {
    "duration": 61,
    "start_time": "2022-04-09T13:50:04.443Z"
   },
   {
    "duration": 7,
    "start_time": "2022-04-09T13:50:04.507Z"
   },
   {
    "duration": 14,
    "start_time": "2022-04-09T13:50:04.516Z"
   },
   {
    "duration": 13,
    "start_time": "2022-04-09T13:50:04.533Z"
   },
   {
    "duration": 187,
    "start_time": "2022-04-09T13:54:08.871Z"
   },
   {
    "duration": 193,
    "start_time": "2022-04-09T14:09:14.922Z"
   },
   {
    "duration": 227,
    "start_time": "2022-04-09T14:42:55.471Z"
   },
   {
    "duration": 193,
    "start_time": "2022-04-09T15:00:57.910Z"
   },
   {
    "duration": 210,
    "start_time": "2022-04-09T15:20:40.531Z"
   },
   {
    "duration": 116,
    "start_time": "2022-04-09T18:08:45.602Z"
   },
   {
    "duration": 1305,
    "start_time": "2022-04-09T18:25:51.251Z"
   },
   {
    "duration": 38,
    "start_time": "2022-04-09T18:25:52.558Z"
   },
   {
    "duration": 15,
    "start_time": "2022-04-09T18:25:52.597Z"
   },
   {
    "duration": 4,
    "start_time": "2022-04-09T18:25:52.615Z"
   },
   {
    "duration": 27,
    "start_time": "2022-04-09T18:25:52.621Z"
   },
   {
    "duration": 18,
    "start_time": "2022-04-09T18:25:52.649Z"
   },
   {
    "duration": 9,
    "start_time": "2022-04-09T18:25:52.669Z"
   },
   {
    "duration": 17,
    "start_time": "2022-04-09T18:25:52.679Z"
   },
   {
    "duration": 6,
    "start_time": "2022-04-09T18:25:52.698Z"
   },
   {
    "duration": 50,
    "start_time": "2022-04-09T18:25:52.707Z"
   },
   {
    "duration": 16,
    "start_time": "2022-04-09T18:25:52.758Z"
   },
   {
    "duration": 8,
    "start_time": "2022-04-09T18:25:52.775Z"
   },
   {
    "duration": 9,
    "start_time": "2022-04-09T18:25:52.785Z"
   },
   {
    "duration": 6,
    "start_time": "2022-04-09T18:25:52.796Z"
   },
   {
    "duration": 16,
    "start_time": "2022-04-09T18:25:52.803Z"
   },
   {
    "duration": 34,
    "start_time": "2022-04-09T18:25:52.820Z"
   },
   {
    "duration": 9,
    "start_time": "2022-04-09T18:25:52.856Z"
   },
   {
    "duration": 364,
    "start_time": "2022-04-09T18:25:52.866Z"
   },
   {
    "duration": 270,
    "start_time": "2022-04-09T18:25:53.231Z"
   },
   {
    "duration": 1042,
    "start_time": "2022-04-09T18:25:53.503Z"
   },
   {
    "duration": 429,
    "start_time": "2022-04-09T18:25:54.548Z"
   },
   {
    "duration": 17,
    "start_time": "2022-04-09T18:25:54.979Z"
   },
   {
    "duration": 28,
    "start_time": "2022-04-09T18:25:54.998Z"
   },
   {
    "duration": 354,
    "start_time": "2022-04-09T18:25:55.028Z"
   },
   {
    "duration": 8,
    "start_time": "2022-04-09T18:25:55.384Z"
   },
   {
    "duration": 206,
    "start_time": "2022-04-09T18:25:55.393Z"
   },
   {
    "duration": 7,
    "start_time": "2022-04-09T18:25:55.601Z"
   },
   {
    "duration": 13,
    "start_time": "2022-04-09T18:25:55.611Z"
   },
   {
    "duration": 170,
    "start_time": "2022-04-09T18:25:55.625Z"
   },
   {
    "duration": 5,
    "start_time": "2022-04-09T18:25:55.796Z"
   },
   {
    "duration": 152,
    "start_time": "2022-04-09T18:25:55.803Z"
   },
   {
    "duration": 5,
    "start_time": "2022-04-09T18:25:55.957Z"
   },
   {
    "duration": 306,
    "start_time": "2022-04-09T18:25:55.963Z"
   },
   {
    "duration": 265,
    "start_time": "2022-04-09T18:25:56.271Z"
   },
   {
    "duration": 292,
    "start_time": "2022-04-09T18:25:56.538Z"
   },
   {
    "duration": 290,
    "start_time": "2022-04-09T18:25:56.831Z"
   },
   {
    "duration": 400,
    "start_time": "2022-04-09T18:25:57.123Z"
   },
   {
    "duration": 34,
    "start_time": "2022-04-09T18:25:57.525Z"
   },
   {
    "duration": 17,
    "start_time": "2022-04-09T18:25:57.561Z"
   },
   {
    "duration": 19,
    "start_time": "2022-04-09T18:25:57.580Z"
   },
   {
    "duration": 274,
    "start_time": "2022-04-09T18:25:57.600Z"
   },
   {
    "duration": 310,
    "start_time": "2022-04-09T18:25:57.876Z"
   },
   {
    "duration": 16,
    "start_time": "2022-04-09T18:25:58.188Z"
   },
   {
    "duration": 226,
    "start_time": "2022-04-09T18:25:58.206Z"
   },
   {
    "duration": 21,
    "start_time": "2022-04-09T18:25:58.434Z"
   },
   {
    "duration": 17,
    "start_time": "2022-04-09T18:25:58.457Z"
   },
   {
    "duration": 4,
    "start_time": "2022-04-09T18:25:58.476Z"
   },
   {
    "duration": 6,
    "start_time": "2022-04-09T18:25:58.481Z"
   },
   {
    "duration": 7,
    "start_time": "2022-04-09T18:25:58.488Z"
   },
   {
    "duration": 18,
    "start_time": "2022-04-09T18:25:58.497Z"
   },
   {
    "duration": 45,
    "start_time": "2022-04-09T18:25:58.517Z"
   },
   {
    "duration": 4,
    "start_time": "2022-04-09T18:25:58.564Z"
   },
   {
    "duration": 6,
    "start_time": "2022-04-09T18:25:58.569Z"
   },
   {
    "duration": 6,
    "start_time": "2022-04-09T18:25:58.577Z"
   },
   {
    "duration": 1153,
    "start_time": "2022-04-09T18:35:34.062Z"
   },
   {
    "duration": 39,
    "start_time": "2022-04-09T18:35:35.217Z"
   },
   {
    "duration": 15,
    "start_time": "2022-04-09T18:35:35.257Z"
   },
   {
    "duration": 3,
    "start_time": "2022-04-09T18:35:35.274Z"
   },
   {
    "duration": 17,
    "start_time": "2022-04-09T18:35:35.279Z"
   },
   {
    "duration": 17,
    "start_time": "2022-04-09T18:35:35.298Z"
   },
   {
    "duration": 34,
    "start_time": "2022-04-09T18:35:35.317Z"
   },
   {
    "duration": 18,
    "start_time": "2022-04-09T18:35:35.353Z"
   },
   {
    "duration": 7,
    "start_time": "2022-04-09T18:35:35.372Z"
   },
   {
    "duration": 19,
    "start_time": "2022-04-09T18:35:35.381Z"
   },
   {
    "duration": 14,
    "start_time": "2022-04-09T18:35:35.401Z"
   },
   {
    "duration": 37,
    "start_time": "2022-04-09T18:35:35.417Z"
   },
   {
    "duration": 8,
    "start_time": "2022-04-09T18:35:35.455Z"
   },
   {
    "duration": 8,
    "start_time": "2022-04-09T18:35:35.466Z"
   },
   {
    "duration": 17,
    "start_time": "2022-04-09T18:35:35.476Z"
   },
   {
    "duration": 10,
    "start_time": "2022-04-09T18:35:35.494Z"
   },
   {
    "duration": 11,
    "start_time": "2022-04-09T18:35:35.505Z"
   },
   {
    "duration": 365,
    "start_time": "2022-04-09T18:35:35.517Z"
   },
   {
    "duration": 272,
    "start_time": "2022-04-09T18:35:35.883Z"
   },
   {
    "duration": 1007,
    "start_time": "2022-04-09T18:35:36.157Z"
   },
   {
    "duration": 413,
    "start_time": "2022-04-09T18:35:37.166Z"
   },
   {
    "duration": 17,
    "start_time": "2022-04-09T18:35:37.580Z"
   },
   {
    "duration": 26,
    "start_time": "2022-04-09T18:35:37.598Z"
   },
   {
    "duration": 324,
    "start_time": "2022-04-09T18:35:37.626Z"
   },
   {
    "duration": 8,
    "start_time": "2022-04-09T18:35:37.951Z"
   },
   {
    "duration": 207,
    "start_time": "2022-04-09T18:35:37.961Z"
   },
   {
    "duration": 6,
    "start_time": "2022-04-09T18:35:38.170Z"
   },
   {
    "duration": 14,
    "start_time": "2022-04-09T18:35:38.178Z"
   },
   {
    "duration": 156,
    "start_time": "2022-04-09T18:35:38.193Z"
   },
   {
    "duration": 4,
    "start_time": "2022-04-09T18:35:38.351Z"
   },
   {
    "duration": 152,
    "start_time": "2022-04-09T18:35:38.357Z"
   },
   {
    "duration": 5,
    "start_time": "2022-04-09T18:35:38.510Z"
   },
   {
    "duration": 295,
    "start_time": "2022-04-09T18:35:38.516Z"
   },
   {
    "duration": 297,
    "start_time": "2022-04-09T18:35:38.813Z"
   },
   {
    "duration": 308,
    "start_time": "2022-04-09T18:35:39.111Z"
   },
   {
    "duration": 302,
    "start_time": "2022-04-09T18:35:39.420Z"
   },
   {
    "duration": 408,
    "start_time": "2022-04-09T18:35:39.724Z"
   },
   {
    "duration": 28,
    "start_time": "2022-04-09T18:35:40.134Z"
   },
   {
    "duration": 16,
    "start_time": "2022-04-09T18:35:40.164Z"
   },
   {
    "duration": 18,
    "start_time": "2022-04-09T18:35:40.181Z"
   },
   {
    "duration": 279,
    "start_time": "2022-04-09T18:35:40.203Z"
   },
   {
    "duration": 302,
    "start_time": "2022-04-09T18:35:40.483Z"
   },
   {
    "duration": 16,
    "start_time": "2022-04-09T18:35:40.787Z"
   },
   {
    "duration": 213,
    "start_time": "2022-04-09T18:35:40.805Z"
   },
   {
    "duration": 16,
    "start_time": "2022-04-09T18:35:41.020Z"
   },
   {
    "duration": 16,
    "start_time": "2022-04-09T18:35:41.047Z"
   },
   {
    "duration": 4,
    "start_time": "2022-04-09T18:35:41.064Z"
   },
   {
    "duration": 6,
    "start_time": "2022-04-09T18:35:41.070Z"
   },
   {
    "duration": 8,
    "start_time": "2022-04-09T18:35:41.078Z"
   },
   {
    "duration": 18,
    "start_time": "2022-04-09T18:35:41.087Z"
   },
   {
    "duration": 14,
    "start_time": "2022-04-09T18:35:41.107Z"
   },
   {
    "duration": 4,
    "start_time": "2022-04-09T18:35:41.148Z"
   },
   {
    "duration": 7,
    "start_time": "2022-04-09T18:35:41.153Z"
   },
   {
    "duration": 5,
    "start_time": "2022-04-09T18:35:41.162Z"
   },
   {
    "duration": 1780,
    "start_time": "2022-04-11T09:31:36.155Z"
   },
   {
    "duration": 56,
    "start_time": "2022-04-11T09:31:37.938Z"
   },
   {
    "duration": 22,
    "start_time": "2022-04-11T09:31:37.996Z"
   },
   {
    "duration": 11,
    "start_time": "2022-04-11T09:31:38.021Z"
   },
   {
    "duration": 27,
    "start_time": "2022-04-11T09:31:38.035Z"
   },
   {
    "duration": 24,
    "start_time": "2022-04-11T09:31:38.084Z"
   },
   {
    "duration": 13,
    "start_time": "2022-04-11T09:31:38.110Z"
   },
   {
    "duration": 28,
    "start_time": "2022-04-11T09:31:38.125Z"
   },
   {
    "duration": 35,
    "start_time": "2022-04-11T09:31:38.155Z"
   },
   {
    "duration": 33,
    "start_time": "2022-04-11T09:31:38.192Z"
   },
   {
    "duration": 24,
    "start_time": "2022-04-11T09:31:38.227Z"
   },
   {
    "duration": 14,
    "start_time": "2022-04-11T09:31:38.285Z"
   },
   {
    "duration": 10,
    "start_time": "2022-04-11T09:31:38.301Z"
   },
   {
    "duration": 11,
    "start_time": "2022-04-11T09:31:38.316Z"
   },
   {
    "duration": 29,
    "start_time": "2022-04-11T09:31:38.329Z"
   },
   {
    "duration": 35,
    "start_time": "2022-04-11T09:31:38.360Z"
   },
   {
    "duration": 15,
    "start_time": "2022-04-11T09:31:38.397Z"
   },
   {
    "duration": 637,
    "start_time": "2022-04-11T09:31:38.414Z"
   },
   {
    "duration": 476,
    "start_time": "2022-04-11T09:31:39.053Z"
   },
   {
    "duration": 1815,
    "start_time": "2022-04-11T09:31:39.531Z"
   },
   {
    "duration": 661,
    "start_time": "2022-04-11T09:31:41.349Z"
   },
   {
    "duration": 26,
    "start_time": "2022-04-11T09:31:42.013Z"
   },
   {
    "duration": 71,
    "start_time": "2022-04-11T09:31:42.041Z"
   },
   {
    "duration": 637,
    "start_time": "2022-04-11T09:31:42.115Z"
   },
   {
    "duration": 10,
    "start_time": "2022-04-11T09:31:42.755Z"
   },
   {
    "duration": 359,
    "start_time": "2022-04-11T09:31:42.767Z"
   },
   {
    "duration": 8,
    "start_time": "2022-04-11T09:31:43.128Z"
   },
   {
    "duration": 26,
    "start_time": "2022-04-11T09:31:43.139Z"
   },
   {
    "duration": 278,
    "start_time": "2022-04-11T09:31:43.167Z"
   },
   {
    "duration": 6,
    "start_time": "2022-04-11T09:31:43.448Z"
   },
   {
    "duration": 272,
    "start_time": "2022-04-11T09:31:43.456Z"
   },
   {
    "duration": 6,
    "start_time": "2022-04-11T09:31:43.730Z"
   },
   {
    "duration": 451,
    "start_time": "2022-04-11T09:31:43.738Z"
   },
   {
    "duration": 397,
    "start_time": "2022-04-11T09:31:44.191Z"
   },
   {
    "duration": 400,
    "start_time": "2022-04-11T09:31:44.590Z"
   },
   {
    "duration": 387,
    "start_time": "2022-04-11T09:31:44.992Z"
   },
   {
    "duration": 548,
    "start_time": "2022-04-11T09:31:45.384Z"
   },
   {
    "duration": 28,
    "start_time": "2022-04-11T09:31:45.935Z"
   },
   {
    "duration": 39,
    "start_time": "2022-04-11T09:31:45.965Z"
   },
   {
    "duration": 28,
    "start_time": "2022-04-11T09:31:46.006Z"
   },
   {
    "duration": 465,
    "start_time": "2022-04-11T09:31:46.040Z"
   },
   {
    "duration": 544,
    "start_time": "2022-04-11T09:31:46.508Z"
   },
   {
    "duration": 32,
    "start_time": "2022-04-11T09:31:47.054Z"
   },
   {
    "duration": 386,
    "start_time": "2022-04-11T09:31:47.089Z"
   },
   {
    "duration": 31,
    "start_time": "2022-04-11T09:31:47.483Z"
   },
   {
    "duration": 25,
    "start_time": "2022-04-11T09:31:47.516Z"
   },
   {
    "duration": 7,
    "start_time": "2022-04-11T09:31:47.543Z"
   },
   {
    "duration": 37,
    "start_time": "2022-04-11T09:31:47.552Z"
   },
   {
    "duration": 8,
    "start_time": "2022-04-11T09:31:47.591Z"
   },
   {
    "duration": 27,
    "start_time": "2022-04-11T09:31:47.601Z"
   },
   {
    "duration": 77,
    "start_time": "2022-04-11T09:31:47.630Z"
   },
   {
    "duration": 7,
    "start_time": "2022-04-11T09:31:47.710Z"
   },
   {
    "duration": 13,
    "start_time": "2022-04-11T09:31:47.719Z"
   },
   {
    "duration": 9,
    "start_time": "2022-04-11T09:31:47.734Z"
   },
   {
    "duration": 125,
    "start_time": "2022-04-11T18:43:35.592Z"
   },
   {
    "duration": 1697,
    "start_time": "2022-04-11T18:43:44.818Z"
   },
   {
    "duration": 48,
    "start_time": "2022-04-11T18:43:46.518Z"
   },
   {
    "duration": 27,
    "start_time": "2022-04-11T18:43:46.569Z"
   },
   {
    "duration": 4,
    "start_time": "2022-04-11T18:43:51.300Z"
   },
   {
    "duration": 19,
    "start_time": "2022-04-11T18:43:52.614Z"
   },
   {
    "duration": 23,
    "start_time": "2022-04-11T18:43:56.424Z"
   },
   {
    "duration": 13,
    "start_time": "2022-04-11T18:43:58.645Z"
   },
   {
    "duration": 1253,
    "start_time": "2022-04-12T09:25:33.094Z"
   },
   {
    "duration": 36,
    "start_time": "2022-04-12T09:25:35.294Z"
   },
   {
    "duration": 15,
    "start_time": "2022-04-12T09:25:37.321Z"
   },
   {
    "duration": 3,
    "start_time": "2022-04-12T09:25:43.797Z"
   },
   {
    "duration": 13,
    "start_time": "2022-04-12T09:25:47.326Z"
   },
   {
    "duration": 19,
    "start_time": "2022-04-12T09:26:44.752Z"
   },
   {
    "duration": 10,
    "start_time": "2022-04-12T09:26:49.790Z"
   },
   {
    "duration": 5,
    "start_time": "2022-04-12T09:27:48.363Z"
   },
   {
    "duration": 10,
    "start_time": "2022-04-12T09:29:50.657Z"
   },
   {
    "duration": 17,
    "start_time": "2022-04-12T09:29:51.677Z"
   },
   {
    "duration": 7,
    "start_time": "2022-04-12T09:29:59.204Z"
   },
   {
    "duration": 21,
    "start_time": "2022-04-12T09:30:01.540Z"
   },
   {
    "duration": 12,
    "start_time": "2022-04-12T09:34:44.499Z"
   },
   {
    "duration": 6,
    "start_time": "2022-04-12T09:43:01.800Z"
   },
   {
    "duration": 5,
    "start_time": "2022-04-12T09:46:04.205Z"
   },
   {
    "duration": 102,
    "start_time": "2022-04-12T09:46:05.146Z"
   },
   {
    "duration": 118,
    "start_time": "2022-04-12T10:07:07.387Z"
   },
   {
    "duration": 129,
    "start_time": "2022-04-12T10:07:33.842Z"
   },
   {
    "duration": 5,
    "start_time": "2022-04-12T10:07:52.544Z"
   },
   {
    "duration": 7,
    "start_time": "2022-04-12T10:13:06.029Z"
   },
   {
    "duration": 6,
    "start_time": "2022-04-12T10:13:32.729Z"
   },
   {
    "duration": 6,
    "start_time": "2022-04-12T10:13:45.016Z"
   },
   {
    "duration": 41,
    "start_time": "2022-04-12T10:17:02.236Z"
   },
   {
    "duration": 1204,
    "start_time": "2022-04-12T10:18:48.759Z"
   },
   {
    "duration": 37,
    "start_time": "2022-04-12T10:18:50.924Z"
   },
   {
    "duration": 14,
    "start_time": "2022-04-12T10:18:52.791Z"
   },
   {
    "duration": 4,
    "start_time": "2022-04-12T10:18:56.390Z"
   },
   {
    "duration": 13,
    "start_time": "2022-04-12T10:18:59.040Z"
   },
   {
    "duration": 17,
    "start_time": "2022-04-12T10:19:02.369Z"
   },
   {
    "duration": 9,
    "start_time": "2022-04-12T10:19:07.679Z"
   },
   {
    "duration": 9,
    "start_time": "2022-04-12T10:19:50.289Z"
   },
   {
    "duration": 15,
    "start_time": "2022-04-12T10:19:52.767Z"
   },
   {
    "duration": 7,
    "start_time": "2022-04-12T10:19:53.930Z"
   },
   {
    "duration": 19,
    "start_time": "2022-04-12T10:19:57.122Z"
   },
   {
    "duration": 15,
    "start_time": "2022-04-12T10:20:01.410Z"
   },
   {
    "duration": 9,
    "start_time": "2022-04-12T10:20:05.335Z"
   },
   {
    "duration": 5,
    "start_time": "2022-04-12T10:20:12.520Z"
   },
   {
    "duration": 133,
    "start_time": "2022-04-12T10:20:17.428Z"
   },
   {
    "duration": 5,
    "start_time": "2022-04-12T10:20:26.023Z"
   },
   {
    "duration": 5,
    "start_time": "2022-04-12T10:20:30.020Z"
   },
   {
    "duration": 120,
    "start_time": "2022-04-12T10:20:31.412Z"
   },
   {
    "duration": 5,
    "start_time": "2022-04-12T10:21:27.967Z"
   },
   {
    "duration": 5,
    "start_time": "2022-04-12T10:24:58.234Z"
   },
   {
    "duration": 1094,
    "start_time": "2022-04-12T10:25:28.749Z"
   },
   {
    "duration": 38,
    "start_time": "2022-04-12T10:25:29.846Z"
   },
   {
    "duration": 14,
    "start_time": "2022-04-12T10:25:30.266Z"
   },
   {
    "duration": 4,
    "start_time": "2022-04-12T10:25:34.218Z"
   },
   {
    "duration": 14,
    "start_time": "2022-04-12T10:25:35.821Z"
   },
   {
    "duration": 17,
    "start_time": "2022-04-12T10:25:38.244Z"
   },
   {
    "duration": 9,
    "start_time": "2022-04-12T10:25:44.755Z"
   },
   {
    "duration": 10,
    "start_time": "2022-04-12T10:25:55.224Z"
   },
   {
    "duration": 15,
    "start_time": "2022-04-12T10:25:57.907Z"
   },
   {
    "duration": 7,
    "start_time": "2022-04-12T10:25:59.945Z"
   },
   {
    "duration": 20,
    "start_time": "2022-04-12T10:26:04.137Z"
   },
   {
    "duration": 15,
    "start_time": "2022-04-12T10:26:12.623Z"
   },
   {
    "duration": 8,
    "start_time": "2022-04-12T10:26:15.660Z"
   },
   {
    "duration": 5,
    "start_time": "2022-04-12T10:26:16.651Z"
   },
   {
    "duration": 116,
    "start_time": "2022-04-12T10:26:22.187Z"
   },
   {
    "duration": 5,
    "start_time": "2022-04-12T10:26:25.371Z"
   },
   {
    "duration": 7,
    "start_time": "2022-04-12T10:26:38.577Z"
   },
   {
    "duration": 6,
    "start_time": "2022-04-12T10:26:40.098Z"
   },
   {
    "duration": 119,
    "start_time": "2022-04-12T10:26:43.977Z"
   },
   {
    "duration": 5,
    "start_time": "2022-04-12T10:26:47.262Z"
   },
   {
    "duration": 7,
    "start_time": "2022-04-12T10:26:48.380Z"
   },
   {
    "duration": 7,
    "start_time": "2022-04-12T10:28:01.815Z"
   },
   {
    "duration": 13,
    "start_time": "2022-04-12T10:29:15.620Z"
   },
   {
    "duration": 5,
    "start_time": "2022-04-12T10:33:05.645Z"
   },
   {
    "duration": 185,
    "start_time": "2022-04-12T10:33:06.316Z"
   },
   {
    "duration": 5,
    "start_time": "2022-04-12T10:33:07.431Z"
   },
   {
    "duration": 4,
    "start_time": "2022-04-12T10:33:08.972Z"
   },
   {
    "duration": 5,
    "start_time": "2022-04-12T10:33:09.640Z"
   },
   {
    "duration": 117,
    "start_time": "2022-04-12T10:33:10.491Z"
   },
   {
    "duration": 5,
    "start_time": "2022-04-12T10:33:13.082Z"
   },
   {
    "duration": 7,
    "start_time": "2022-04-12T10:33:16.080Z"
   },
   {
    "duration": 13,
    "start_time": "2022-04-12T10:33:16.850Z"
   },
   {
    "duration": 5,
    "start_time": "2022-04-12T10:34:38.140Z"
   },
   {
    "duration": 14,
    "start_time": "2022-04-12T10:34:41.169Z"
   },
   {
    "duration": 96,
    "start_time": "2022-04-12T10:34:46.952Z"
   },
   {
    "duration": 10,
    "start_time": "2022-04-12T10:35:02.275Z"
   },
   {
    "duration": 10,
    "start_time": "2022-04-12T10:35:08.107Z"
   },
   {
    "duration": 326,
    "start_time": "2022-04-12T10:49:05.178Z"
   },
   {
    "duration": 255,
    "start_time": "2022-04-12T10:49:11.692Z"
   },
   {
    "duration": 1147,
    "start_time": "2022-04-12T10:49:19.580Z"
   },
   {
    "duration": 334,
    "start_time": "2022-04-12T10:49:26.570Z"
   },
   {
    "duration": 14,
    "start_time": "2022-04-12T10:52:28.341Z"
   },
   {
    "duration": 18,
    "start_time": "2022-04-12T10:52:46.103Z"
   },
   {
    "duration": 221,
    "start_time": "2022-04-12T10:58:23.938Z"
   },
   {
    "duration": 7,
    "start_time": "2022-04-12T10:58:27.808Z"
   },
   {
    "duration": 251,
    "start_time": "2022-04-12T10:58:29.100Z"
   },
   {
    "duration": 7,
    "start_time": "2022-04-12T10:59:11.438Z"
   },
   {
    "duration": 134,
    "start_time": "2022-04-12T10:59:39.232Z"
   },
   {
    "duration": 6,
    "start_time": "2022-04-12T12:00:39.208Z"
   },
   {
    "duration": 11,
    "start_time": "2022-04-12T12:00:40.276Z"
   },
   {
    "duration": 158,
    "start_time": "2022-04-12T12:00:44.007Z"
   },
   {
    "duration": 5,
    "start_time": "2022-04-12T12:00:48.347Z"
   },
   {
    "duration": 138,
    "start_time": "2022-04-12T12:00:51.477Z"
   },
   {
    "duration": 5,
    "start_time": "2022-04-12T12:00:59.591Z"
   },
   {
    "duration": 292,
    "start_time": "2022-04-12T12:01:14.024Z"
   },
   {
    "duration": 385,
    "start_time": "2022-04-12T12:01:16.629Z"
   },
   {
    "duration": 252,
    "start_time": "2022-04-12T12:01:19.267Z"
   },
   {
    "duration": 262,
    "start_time": "2022-04-12T12:01:24.461Z"
   },
   {
    "duration": 277,
    "start_time": "2022-04-12T12:01:25.593Z"
   },
   {
    "duration": 18,
    "start_time": "2022-04-12T12:16:22.543Z"
   },
   {
    "duration": 18,
    "start_time": "2022-04-12T12:20:35.126Z"
   },
   {
    "duration": 24,
    "start_time": "2022-04-12T14:02:17.615Z"
   },
   {
    "duration": 340,
    "start_time": "2022-04-12T14:02:30.209Z"
   },
   {
    "duration": 17,
    "start_time": "2022-04-12T14:19:00.184Z"
   },
   {
    "duration": 1198,
    "start_time": "2022-04-12T14:19:13.243Z"
   },
   {
    "duration": 39,
    "start_time": "2022-04-12T14:19:14.444Z"
   },
   {
    "duration": 14,
    "start_time": "2022-04-12T14:19:14.485Z"
   },
   {
    "duration": 3,
    "start_time": "2022-04-12T14:19:14.501Z"
   },
   {
    "duration": 16,
    "start_time": "2022-04-12T14:19:14.505Z"
   },
   {
    "duration": 36,
    "start_time": "2022-04-12T14:19:14.523Z"
   },
   {
    "duration": 9,
    "start_time": "2022-04-12T14:19:14.561Z"
   },
   {
    "duration": 12,
    "start_time": "2022-04-12T14:19:14.572Z"
   },
   {
    "duration": 16,
    "start_time": "2022-04-12T14:19:14.585Z"
   },
   {
    "duration": 7,
    "start_time": "2022-04-12T14:19:14.603Z"
   },
   {
    "duration": 42,
    "start_time": "2022-04-12T14:19:14.612Z"
   },
   {
    "duration": 14,
    "start_time": "2022-04-12T14:19:14.656Z"
   },
   {
    "duration": 8,
    "start_time": "2022-04-12T14:19:14.672Z"
   },
   {
    "duration": 7,
    "start_time": "2022-04-12T14:19:14.681Z"
   },
   {
    "duration": 159,
    "start_time": "2022-04-12T14:19:14.689Z"
   },
   {
    "duration": 5,
    "start_time": "2022-04-12T14:19:14.849Z"
   },
   {
    "duration": 7,
    "start_time": "2022-04-12T14:19:14.855Z"
   },
   {
    "duration": 6,
    "start_time": "2022-04-12T14:19:14.864Z"
   },
   {
    "duration": 143,
    "start_time": "2022-04-12T14:19:14.872Z"
   },
   {
    "duration": 5,
    "start_time": "2022-04-12T14:19:15.017Z"
   },
   {
    "duration": 24,
    "start_time": "2022-04-12T14:19:15.024Z"
   },
   {
    "duration": 21,
    "start_time": "2022-04-12T14:19:15.050Z"
   },
   {
    "duration": 3,
    "start_time": "2022-04-12T14:19:15.073Z"
   },
   {
    "duration": 14,
    "start_time": "2022-04-12T14:19:15.078Z"
   },
   {
    "duration": 8,
    "start_time": "2022-04-12T14:19:15.094Z"
   },
   {
    "duration": 9,
    "start_time": "2022-04-12T14:19:15.104Z"
   },
   {
    "duration": 361,
    "start_time": "2022-04-12T14:19:15.114Z"
   },
   {
    "duration": 268,
    "start_time": "2022-04-12T14:19:15.479Z"
   },
   {
    "duration": 1061,
    "start_time": "2022-04-12T14:19:15.749Z"
   },
   {
    "duration": 329,
    "start_time": "2022-04-12T14:19:16.812Z"
   },
   {
    "duration": 14,
    "start_time": "2022-04-12T14:19:17.147Z"
   },
   {
    "duration": 18,
    "start_time": "2022-04-12T14:19:17.163Z"
   },
   {
    "duration": 247,
    "start_time": "2022-04-12T14:19:17.183Z"
   },
   {
    "duration": 6,
    "start_time": "2022-04-12T14:19:17.432Z"
   },
   {
    "duration": 140,
    "start_time": "2022-04-12T14:19:17.448Z"
   },
   {
    "duration": 6,
    "start_time": "2022-04-12T14:19:17.590Z"
   },
   {
    "duration": 12,
    "start_time": "2022-04-12T14:19:17.598Z"
   },
   {
    "duration": 158,
    "start_time": "2022-04-12T14:19:17.612Z"
   },
   {
    "duration": 5,
    "start_time": "2022-04-12T14:19:17.772Z"
   },
   {
    "duration": 185,
    "start_time": "2022-04-12T14:19:17.779Z"
   },
   {
    "duration": 4,
    "start_time": "2022-04-12T14:19:17.966Z"
   },
   {
    "duration": 279,
    "start_time": "2022-04-12T14:19:17.972Z"
   },
   {
    "duration": 315,
    "start_time": "2022-04-12T14:19:18.253Z"
   },
   {
    "duration": 374,
    "start_time": "2022-04-12T14:19:18.570Z"
   },
   {
    "duration": 435,
    "start_time": "2022-04-12T14:19:18.946Z"
   },
   {
    "duration": 303,
    "start_time": "2022-04-12T14:19:19.386Z"
   },
   {
    "duration": 20,
    "start_time": "2022-04-12T14:19:19.691Z"
   },
   {
    "duration": 39,
    "start_time": "2022-04-12T14:19:19.713Z"
   },
   {
    "duration": 20,
    "start_time": "2022-04-12T14:19:19.754Z"
   },
   {
    "duration": 418,
    "start_time": "2022-04-12T14:19:19.776Z"
   },
   {
    "duration": 113,
    "start_time": "2022-04-12T14:19:20.196Z"
   },
   {
    "duration": 0,
    "start_time": "2022-04-12T14:19:20.311Z"
   },
   {
    "duration": 0,
    "start_time": "2022-04-12T14:19:20.312Z"
   },
   {
    "duration": 0,
    "start_time": "2022-04-12T14:19:20.313Z"
   },
   {
    "duration": 0,
    "start_time": "2022-04-12T14:19:20.314Z"
   },
   {
    "duration": 0,
    "start_time": "2022-04-12T14:19:20.315Z"
   },
   {
    "duration": 0,
    "start_time": "2022-04-12T14:19:20.316Z"
   },
   {
    "duration": 0,
    "start_time": "2022-04-12T14:19:20.318Z"
   },
   {
    "duration": 0,
    "start_time": "2022-04-12T14:19:20.319Z"
   },
   {
    "duration": 0,
    "start_time": "2022-04-12T14:19:20.320Z"
   },
   {
    "duration": 0,
    "start_time": "2022-04-12T14:19:20.321Z"
   },
   {
    "duration": 0,
    "start_time": "2022-04-12T14:19:20.323Z"
   },
   {
    "duration": 0,
    "start_time": "2022-04-12T14:19:20.348Z"
   },
   {
    "duration": 0,
    "start_time": "2022-04-12T14:19:20.349Z"
   },
   {
    "duration": 357,
    "start_time": "2022-04-12T14:26:55.735Z"
   },
   {
    "duration": 372,
    "start_time": "2022-04-12T14:27:06.904Z"
   },
   {
    "duration": 834,
    "start_time": "2022-04-12T14:27:15.516Z"
   },
   {
    "duration": 540,
    "start_time": "2022-04-12T14:27:30.279Z"
   },
   {
    "duration": 428,
    "start_time": "2022-04-12T14:31:37.885Z"
   },
   {
    "duration": 506,
    "start_time": "2022-04-12T15:08:34.420Z"
   },
   {
    "duration": 416,
    "start_time": "2022-04-12T15:09:13.334Z"
   },
   {
    "duration": 492,
    "start_time": "2022-04-12T15:10:07.382Z"
   },
   {
    "duration": 14,
    "start_time": "2022-04-12T15:12:03.483Z"
   },
   {
    "duration": 9,
    "start_time": "2022-04-12T15:17:30.961Z"
   },
   {
    "duration": 9,
    "start_time": "2022-04-12T15:18:34.369Z"
   },
   {
    "duration": 5,
    "start_time": "2022-04-12T15:19:20.131Z"
   },
   {
    "duration": 7,
    "start_time": "2022-04-12T15:19:39.927Z"
   },
   {
    "duration": 1323,
    "start_time": "2022-04-12T15:20:59.143Z"
   },
   {
    "duration": 52,
    "start_time": "2022-04-12T15:21:00.469Z"
   },
   {
    "duration": 29,
    "start_time": "2022-04-12T15:21:00.524Z"
   },
   {
    "duration": 4,
    "start_time": "2022-04-12T15:21:00.556Z"
   },
   {
    "duration": 25,
    "start_time": "2022-04-12T15:21:00.562Z"
   },
   {
    "duration": 27,
    "start_time": "2022-04-12T15:21:00.589Z"
   },
   {
    "duration": 30,
    "start_time": "2022-04-12T15:21:00.618Z"
   },
   {
    "duration": 9,
    "start_time": "2022-04-12T15:21:00.650Z"
   },
   {
    "duration": 15,
    "start_time": "2022-04-12T15:21:00.662Z"
   },
   {
    "duration": 7,
    "start_time": "2022-04-12T15:21:00.680Z"
   },
   {
    "duration": 25,
    "start_time": "2022-04-12T15:21:00.689Z"
   },
   {
    "duration": 44,
    "start_time": "2022-04-12T15:21:00.715Z"
   },
   {
    "duration": 12,
    "start_time": "2022-04-12T15:21:00.761Z"
   },
   {
    "duration": 7,
    "start_time": "2022-04-12T15:21:00.775Z"
   },
   {
    "duration": 138,
    "start_time": "2022-04-12T15:21:00.784Z"
   },
   {
    "duration": 5,
    "start_time": "2022-04-12T15:21:00.923Z"
   },
   {
    "duration": 26,
    "start_time": "2022-04-12T15:21:00.929Z"
   },
   {
    "duration": 8,
    "start_time": "2022-04-12T15:21:00.957Z"
   },
   {
    "duration": 143,
    "start_time": "2022-04-12T15:21:00.966Z"
   },
   {
    "duration": 4,
    "start_time": "2022-04-12T15:21:01.111Z"
   },
   {
    "duration": 17,
    "start_time": "2022-04-12T15:21:01.117Z"
   },
   {
    "duration": 14,
    "start_time": "2022-04-12T15:21:01.148Z"
   },
   {
    "duration": 4,
    "start_time": "2022-04-12T15:21:01.164Z"
   },
   {
    "duration": 13,
    "start_time": "2022-04-12T15:21:01.170Z"
   },
   {
    "duration": 12,
    "start_time": "2022-04-12T15:21:01.185Z"
   },
   {
    "duration": 28,
    "start_time": "2022-04-12T15:21:01.199Z"
   },
   {
    "duration": 9,
    "start_time": "2022-04-12T15:21:01.229Z"
   },
   {
    "duration": 10,
    "start_time": "2022-04-12T15:21:01.250Z"
   },
   {
    "duration": 348,
    "start_time": "2022-04-12T15:21:01.262Z"
   },
   {
    "duration": 280,
    "start_time": "2022-04-12T15:21:01.612Z"
   },
   {
    "duration": 1065,
    "start_time": "2022-04-12T15:21:01.893Z"
   },
   {
    "duration": 320,
    "start_time": "2022-04-12T15:21:02.960Z"
   },
   {
    "duration": 14,
    "start_time": "2022-04-12T15:21:03.282Z"
   },
   {
    "duration": 18,
    "start_time": "2022-04-12T15:21:03.298Z"
   },
   {
    "duration": 258,
    "start_time": "2022-04-12T15:21:03.318Z"
   },
   {
    "duration": 7,
    "start_time": "2022-04-12T15:21:03.578Z"
   },
   {
    "duration": 180,
    "start_time": "2022-04-12T15:21:03.586Z"
   },
   {
    "duration": 6,
    "start_time": "2022-04-12T15:21:03.767Z"
   },
   {
    "duration": 13,
    "start_time": "2022-04-12T15:21:03.775Z"
   },
   {
    "duration": 162,
    "start_time": "2022-04-12T15:21:03.790Z"
   },
   {
    "duration": 5,
    "start_time": "2022-04-12T15:21:03.954Z"
   },
   {
    "duration": 156,
    "start_time": "2022-04-12T15:21:03.960Z"
   },
   {
    "duration": 4,
    "start_time": "2022-04-12T15:21:04.118Z"
   },
   {
    "duration": 290,
    "start_time": "2022-04-12T15:21:04.124Z"
   },
   {
    "duration": 301,
    "start_time": "2022-04-12T15:21:04.415Z"
   },
   {
    "duration": 329,
    "start_time": "2022-04-12T15:21:04.718Z"
   },
   {
    "duration": 389,
    "start_time": "2022-04-12T15:21:05.049Z"
   },
   {
    "duration": 319,
    "start_time": "2022-04-12T15:21:05.440Z"
   },
   {
    "duration": 17,
    "start_time": "2022-04-12T15:21:05.761Z"
   },
   {
    "duration": 20,
    "start_time": "2022-04-12T15:21:05.780Z"
   },
   {
    "duration": 17,
    "start_time": "2022-04-12T15:21:05.801Z"
   },
   {
    "duration": 457,
    "start_time": "2022-04-12T15:21:05.820Z"
   },
   {
    "duration": 504,
    "start_time": "2022-04-12T15:21:06.278Z"
   },
   {
    "duration": 15,
    "start_time": "2022-04-12T15:21:06.783Z"
   },
   {
    "duration": 200,
    "start_time": "2022-04-12T15:21:06.800Z"
   },
   {
    "duration": 17,
    "start_time": "2022-04-12T15:21:07.003Z"
   },
   {
    "duration": 33,
    "start_time": "2022-04-12T15:21:07.022Z"
   },
   {
    "duration": 11,
    "start_time": "2022-04-12T15:21:07.057Z"
   },
   {
    "duration": 6,
    "start_time": "2022-04-12T15:21:07.069Z"
   },
   {
    "duration": 6,
    "start_time": "2022-04-12T15:21:07.076Z"
   },
   {
    "duration": 16,
    "start_time": "2022-04-12T15:21:07.083Z"
   },
   {
    "duration": 15,
    "start_time": "2022-04-12T15:21:07.101Z"
   },
   {
    "duration": 4,
    "start_time": "2022-04-12T15:21:07.148Z"
   },
   {
    "duration": 6,
    "start_time": "2022-04-12T15:21:07.154Z"
   },
   {
    "duration": 8,
    "start_time": "2022-04-12T15:21:07.162Z"
   },
   {
    "duration": 1234,
    "start_time": "2022-04-12T17:10:18.906Z"
   },
   {
    "duration": 38,
    "start_time": "2022-04-12T17:10:20.142Z"
   },
   {
    "duration": 15,
    "start_time": "2022-04-12T17:10:20.181Z"
   },
   {
    "duration": 3,
    "start_time": "2022-04-12T17:10:20.198Z"
   },
   {
    "duration": 27,
    "start_time": "2022-04-12T17:10:20.203Z"
   },
   {
    "duration": 28,
    "start_time": "2022-04-12T17:10:20.232Z"
   },
   {
    "duration": 12,
    "start_time": "2022-04-12T17:10:20.261Z"
   },
   {
    "duration": 18,
    "start_time": "2022-04-12T17:10:20.274Z"
   },
   {
    "duration": 23,
    "start_time": "2022-04-12T17:10:20.293Z"
   },
   {
    "duration": 13,
    "start_time": "2022-04-12T17:10:20.319Z"
   },
   {
    "duration": 30,
    "start_time": "2022-04-12T17:10:20.334Z"
   },
   {
    "duration": 19,
    "start_time": "2022-04-12T17:10:20.366Z"
   },
   {
    "duration": 7,
    "start_time": "2022-04-12T17:10:20.387Z"
   },
   {
    "duration": 6,
    "start_time": "2022-04-12T17:10:20.396Z"
   },
   {
    "duration": 134,
    "start_time": "2022-04-12T17:10:20.403Z"
   },
   {
    "duration": 5,
    "start_time": "2022-04-12T17:10:20.547Z"
   },
   {
    "duration": 17,
    "start_time": "2022-04-12T17:10:20.553Z"
   },
   {
    "duration": 25,
    "start_time": "2022-04-12T17:10:20.572Z"
   },
   {
    "duration": 119,
    "start_time": "2022-04-12T17:10:20.598Z"
   },
   {
    "duration": 5,
    "start_time": "2022-04-12T17:10:20.718Z"
   },
   {
    "duration": 10,
    "start_time": "2022-04-12T17:10:20.724Z"
   },
   {
    "duration": 12,
    "start_time": "2022-04-12T17:10:20.748Z"
   },
   {
    "duration": 8,
    "start_time": "2022-04-12T17:10:20.762Z"
   },
   {
    "duration": 12,
    "start_time": "2022-04-12T17:10:20.771Z"
   },
   {
    "duration": 10,
    "start_time": "2022-04-12T17:10:20.784Z"
   },
   {
    "duration": 14,
    "start_time": "2022-04-12T17:10:20.796Z"
   },
   {
    "duration": 12,
    "start_time": "2022-04-12T17:10:20.811Z"
   },
   {
    "duration": 10,
    "start_time": "2022-04-12T17:10:20.847Z"
   },
   {
    "duration": 336,
    "start_time": "2022-04-12T17:10:20.859Z"
   },
   {
    "duration": 268,
    "start_time": "2022-04-12T17:10:21.196Z"
   },
   {
    "duration": 1071,
    "start_time": "2022-04-12T17:10:21.466Z"
   },
   {
    "duration": 320,
    "start_time": "2022-04-12T17:10:22.539Z"
   },
   {
    "duration": 15,
    "start_time": "2022-04-12T17:10:22.861Z"
   },
   {
    "duration": 19,
    "start_time": "2022-04-12T17:10:22.877Z"
   },
   {
    "duration": 253,
    "start_time": "2022-04-12T17:10:22.898Z"
   },
   {
    "duration": 7,
    "start_time": "2022-04-12T17:10:23.153Z"
   },
   {
    "duration": 150,
    "start_time": "2022-04-12T17:10:23.162Z"
   },
   {
    "duration": 7,
    "start_time": "2022-04-12T17:10:23.313Z"
   },
   {
    "duration": 26,
    "start_time": "2022-04-12T17:10:23.322Z"
   },
   {
    "duration": 150,
    "start_time": "2022-04-12T17:10:23.350Z"
   },
   {
    "duration": 5,
    "start_time": "2022-04-12T17:10:23.502Z"
   },
   {
    "duration": 153,
    "start_time": "2022-04-12T17:10:23.509Z"
   },
   {
    "duration": 4,
    "start_time": "2022-04-12T17:10:23.664Z"
   },
   {
    "duration": 280,
    "start_time": "2022-04-12T17:10:23.670Z"
   },
   {
    "duration": 297,
    "start_time": "2022-04-12T17:10:23.951Z"
   },
   {
    "duration": 308,
    "start_time": "2022-04-12T17:10:24.249Z"
   },
   {
    "duration": 504,
    "start_time": "2022-04-12T17:10:24.558Z"
   },
   {
    "duration": 302,
    "start_time": "2022-04-12T17:10:25.064Z"
   },
   {
    "duration": 18,
    "start_time": "2022-04-12T17:10:25.368Z"
   },
   {
    "duration": 17,
    "start_time": "2022-04-12T17:10:25.388Z"
   },
   {
    "duration": 42,
    "start_time": "2022-04-12T17:10:25.407Z"
   },
   {
    "duration": 471,
    "start_time": "2022-04-12T17:10:25.451Z"
   },
   {
    "duration": 744,
    "start_time": "2022-04-12T17:10:25.924Z"
   },
   {
    "duration": 17,
    "start_time": "2022-04-12T17:10:26.670Z"
   },
   {
    "duration": 216,
    "start_time": "2022-04-12T17:10:26.689Z"
   },
   {
    "duration": 17,
    "start_time": "2022-04-12T17:10:26.907Z"
   },
   {
    "duration": 29,
    "start_time": "2022-04-12T17:10:26.927Z"
   },
   {
    "duration": 4,
    "start_time": "2022-04-12T17:10:26.959Z"
   },
   {
    "duration": 6,
    "start_time": "2022-04-12T17:10:26.965Z"
   },
   {
    "duration": 8,
    "start_time": "2022-04-12T17:10:26.973Z"
   },
   {
    "duration": 17,
    "start_time": "2022-04-12T17:10:26.983Z"
   },
   {
    "duration": 56,
    "start_time": "2022-04-12T17:10:27.002Z"
   },
   {
    "duration": 5,
    "start_time": "2022-04-12T17:10:27.060Z"
   },
   {
    "duration": 9,
    "start_time": "2022-04-12T17:10:27.067Z"
   },
   {
    "duration": 6,
    "start_time": "2022-04-12T17:10:27.078Z"
   },
   {
    "duration": 1898,
    "start_time": "2022-04-12T18:57:52.429Z"
   },
   {
    "duration": 55,
    "start_time": "2022-04-12T18:57:54.331Z"
   },
   {
    "duration": 22,
    "start_time": "2022-04-12T18:57:54.389Z"
   },
   {
    "duration": 6,
    "start_time": "2022-04-12T18:57:54.415Z"
   },
   {
    "duration": 22,
    "start_time": "2022-04-12T18:57:54.423Z"
   },
   {
    "duration": 67,
    "start_time": "2022-04-12T18:57:54.448Z"
   },
   {
    "duration": 14,
    "start_time": "2022-04-12T18:57:54.517Z"
   },
   {
    "duration": 13,
    "start_time": "2022-04-12T18:57:54.533Z"
   },
   {
    "duration": 59,
    "start_time": "2022-04-12T18:57:54.548Z"
   },
   {
    "duration": 11,
    "start_time": "2022-04-12T18:57:54.611Z"
   },
   {
    "duration": 32,
    "start_time": "2022-04-12T18:57:54.624Z"
   },
   {
    "duration": 50,
    "start_time": "2022-04-12T18:57:54.658Z"
   },
   {
    "duration": 13,
    "start_time": "2022-04-12T18:57:54.710Z"
   },
   {
    "duration": 12,
    "start_time": "2022-04-12T18:57:54.726Z"
   },
   {
    "duration": 268,
    "start_time": "2022-04-12T18:57:54.740Z"
   },
   {
    "duration": 7,
    "start_time": "2022-04-12T18:57:55.010Z"
   },
   {
    "duration": 11,
    "start_time": "2022-04-12T18:57:55.019Z"
   },
   {
    "duration": 9,
    "start_time": "2022-04-12T18:57:55.032Z"
   },
   {
    "duration": 254,
    "start_time": "2022-04-12T18:57:55.043Z"
   },
   {
    "duration": 7,
    "start_time": "2022-04-12T18:57:55.299Z"
   },
   {
    "duration": 12,
    "start_time": "2022-04-12T18:57:55.308Z"
   },
   {
    "duration": 22,
    "start_time": "2022-04-12T18:57:55.322Z"
   },
   {
    "duration": 47,
    "start_time": "2022-04-12T18:57:55.347Z"
   },
   {
    "duration": 12,
    "start_time": "2022-04-12T18:57:55.397Z"
   },
   {
    "duration": 7,
    "start_time": "2022-04-12T18:57:55.412Z"
   },
   {
    "duration": 21,
    "start_time": "2022-04-12T18:57:55.421Z"
   },
   {
    "duration": 51,
    "start_time": "2022-04-12T18:57:55.445Z"
   },
   {
    "duration": 15,
    "start_time": "2022-04-12T18:57:55.504Z"
   },
   {
    "duration": 627,
    "start_time": "2022-04-12T18:57:55.522Z"
   },
   {
    "duration": 463,
    "start_time": "2022-04-12T18:57:56.151Z"
   },
   {
    "duration": 2223,
    "start_time": "2022-04-12T18:57:56.617Z"
   },
   {
    "duration": 571,
    "start_time": "2022-04-12T18:57:58.842Z"
   },
   {
    "duration": 21,
    "start_time": "2022-04-12T18:57:59.415Z"
   },
   {
    "duration": 57,
    "start_time": "2022-04-12T18:57:59.438Z"
   },
   {
    "duration": 416,
    "start_time": "2022-04-12T18:57:59.497Z"
   },
   {
    "duration": 9,
    "start_time": "2022-04-12T18:57:59.915Z"
   },
   {
    "duration": 259,
    "start_time": "2022-04-12T18:57:59.927Z"
   },
   {
    "duration": 9,
    "start_time": "2022-04-12T18:58:00.192Z"
   },
   {
    "duration": 27,
    "start_time": "2022-04-12T18:58:00.203Z"
   },
   {
    "duration": 278,
    "start_time": "2022-04-12T18:58:00.232Z"
   },
   {
    "duration": 7,
    "start_time": "2022-04-12T18:58:00.512Z"
   },
   {
    "duration": 280,
    "start_time": "2022-04-12T18:58:00.521Z"
   },
   {
    "duration": 8,
    "start_time": "2022-04-12T18:58:00.803Z"
   },
   {
    "duration": 500,
    "start_time": "2022-04-12T18:58:00.813Z"
   },
   {
    "duration": 439,
    "start_time": "2022-04-12T18:58:01.315Z"
   },
   {
    "duration": 412,
    "start_time": "2022-04-12T18:58:01.756Z"
   },
   {
    "duration": 505,
    "start_time": "2022-04-12T18:58:02.170Z"
   },
   {
    "duration": 430,
    "start_time": "2022-04-12T18:58:02.677Z"
   },
   {
    "duration": 27,
    "start_time": "2022-04-12T18:58:03.109Z"
   },
   {
    "duration": 27,
    "start_time": "2022-04-12T18:58:03.139Z"
   },
   {
    "duration": 37,
    "start_time": "2022-04-12T18:58:03.192Z"
   },
   {
    "duration": 1121,
    "start_time": "2022-04-12T18:58:03.232Z"
   },
   {
    "duration": 1288,
    "start_time": "2022-04-12T18:58:04.356Z"
   },
   {
    "duration": 47,
    "start_time": "2022-04-12T18:58:05.647Z"
   },
   {
    "duration": 487,
    "start_time": "2022-04-12T18:58:05.696Z"
   },
   {
    "duration": 34,
    "start_time": "2022-04-12T18:58:06.194Z"
   },
   {
    "duration": 33,
    "start_time": "2022-04-12T18:58:06.231Z"
   },
   {
    "duration": 32,
    "start_time": "2022-04-12T18:58:06.267Z"
   },
   {
    "duration": 14,
    "start_time": "2022-04-12T18:58:06.302Z"
   },
   {
    "duration": 9,
    "start_time": "2022-04-12T18:58:06.318Z"
   },
   {
    "duration": 28,
    "start_time": "2022-04-12T18:58:06.330Z"
   },
   {
    "duration": 53,
    "start_time": "2022-04-12T18:58:06.361Z"
   },
   {
    "duration": 17,
    "start_time": "2022-04-12T18:58:06.417Z"
   },
   {
    "duration": 9,
    "start_time": "2022-04-12T18:58:06.437Z"
   },
   {
    "duration": 8,
    "start_time": "2022-04-12T18:58:06.448Z"
   },
   {
    "duration": 622,
    "start_time": "2022-04-13T10:02:26.192Z"
   },
   {
    "duration": 126,
    "start_time": "2022-04-13T10:05:26.563Z"
   },
   {
    "duration": 43,
    "start_time": "2022-04-13T10:14:35.446Z"
   },
   {
    "duration": 1267,
    "start_time": "2022-04-13T10:14:43.531Z"
   },
   {
    "duration": 39,
    "start_time": "2022-04-13T10:14:44.800Z"
   },
   {
    "duration": 15,
    "start_time": "2022-04-13T10:14:44.841Z"
   },
   {
    "duration": 3,
    "start_time": "2022-04-13T10:14:44.857Z"
   },
   {
    "duration": 19,
    "start_time": "2022-04-13T10:14:44.863Z"
   },
   {
    "duration": 33,
    "start_time": "2022-04-13T10:14:44.884Z"
   },
   {
    "duration": 8,
    "start_time": "2022-04-13T10:14:44.919Z"
   },
   {
    "duration": 9,
    "start_time": "2022-04-13T10:14:44.928Z"
   },
   {
    "duration": 15,
    "start_time": "2022-04-13T10:14:44.939Z"
   },
   {
    "duration": 7,
    "start_time": "2022-04-13T10:14:44.955Z"
   },
   {
    "duration": 21,
    "start_time": "2022-04-13T10:14:44.964Z"
   },
   {
    "duration": 29,
    "start_time": "2022-04-13T10:14:44.987Z"
   },
   {
    "duration": 9,
    "start_time": "2022-04-13T10:14:45.018Z"
   },
   {
    "duration": 17,
    "start_time": "2022-04-13T10:14:45.030Z"
   },
   {
    "duration": 163,
    "start_time": "2022-04-13T10:14:45.050Z"
   },
   {
    "duration": 5,
    "start_time": "2022-04-13T10:14:45.215Z"
   },
   {
    "duration": 8,
    "start_time": "2022-04-13T10:14:45.221Z"
   },
   {
    "duration": 6,
    "start_time": "2022-04-13T10:14:45.231Z"
   },
   {
    "duration": 148,
    "start_time": "2022-04-13T10:14:45.239Z"
   },
   {
    "duration": 4,
    "start_time": "2022-04-13T10:14:45.389Z"
   },
   {
    "duration": 6,
    "start_time": "2022-04-13T10:14:45.407Z"
   },
   {
    "duration": 13,
    "start_time": "2022-04-13T10:14:45.415Z"
   },
   {
    "duration": 5,
    "start_time": "2022-04-13T10:14:45.430Z"
   },
   {
    "duration": 8,
    "start_time": "2022-04-13T10:14:45.436Z"
   },
   {
    "duration": 63,
    "start_time": "2022-04-13T10:14:45.445Z"
   },
   {
    "duration": 13,
    "start_time": "2022-04-13T10:14:45.509Z"
   },
   {
    "duration": 10,
    "start_time": "2022-04-13T10:14:45.524Z"
   },
   {
    "duration": 10,
    "start_time": "2022-04-13T10:14:45.535Z"
   },
   {
    "duration": 554,
    "start_time": "2022-04-13T10:14:45.546Z"
   },
   {
    "duration": 294,
    "start_time": "2022-04-13T10:14:46.102Z"
   },
   {
    "duration": 1272,
    "start_time": "2022-04-13T10:14:46.398Z"
   },
   {
    "duration": 349,
    "start_time": "2022-04-13T10:14:47.671Z"
   },
   {
    "duration": 14,
    "start_time": "2022-04-13T10:14:48.022Z"
   },
   {
    "duration": 23,
    "start_time": "2022-04-13T10:14:48.038Z"
   },
   {
    "duration": 289,
    "start_time": "2022-04-13T10:14:48.063Z"
   },
   {
    "duration": 6,
    "start_time": "2022-04-13T10:14:48.353Z"
   },
   {
    "duration": 166,
    "start_time": "2022-04-13T10:14:48.361Z"
   },
   {
    "duration": 6,
    "start_time": "2022-04-13T10:14:48.528Z"
   },
   {
    "duration": 13,
    "start_time": "2022-04-13T10:14:48.536Z"
   },
   {
    "duration": 177,
    "start_time": "2022-04-13T10:14:48.550Z"
   },
   {
    "duration": 5,
    "start_time": "2022-04-13T10:14:48.731Z"
   },
   {
    "duration": 177,
    "start_time": "2022-04-13T10:14:48.737Z"
   },
   {
    "duration": 5,
    "start_time": "2022-04-13T10:14:48.916Z"
   },
   {
    "duration": 16,
    "start_time": "2022-04-13T10:14:48.923Z"
   },
   {
    "duration": 389,
    "start_time": "2022-04-13T10:14:48.941Z"
   },
   {
    "duration": 326,
    "start_time": "2022-04-13T10:14:49.332Z"
   },
   {
    "duration": 402,
    "start_time": "2022-04-13T10:14:49.660Z"
   },
   {
    "duration": 317,
    "start_time": "2022-04-13T10:14:50.063Z"
   },
   {
    "duration": 357,
    "start_time": "2022-04-13T10:14:50.381Z"
   },
   {
    "duration": 19,
    "start_time": "2022-04-13T10:14:50.740Z"
   },
   {
    "duration": 18,
    "start_time": "2022-04-13T10:14:50.761Z"
   },
   {
    "duration": 34,
    "start_time": "2022-04-13T10:14:50.781Z"
   },
   {
    "duration": 486,
    "start_time": "2022-04-13T10:14:50.816Z"
   },
   {
    "duration": 597,
    "start_time": "2022-04-13T10:14:51.307Z"
   },
   {
    "duration": 15,
    "start_time": "2022-04-13T10:14:51.907Z"
   },
   {
    "duration": 205,
    "start_time": "2022-04-13T10:14:51.924Z"
   },
   {
    "duration": 15,
    "start_time": "2022-04-13T10:14:52.130Z"
   },
   {
    "duration": 28,
    "start_time": "2022-04-13T10:14:52.147Z"
   },
   {
    "duration": 4,
    "start_time": "2022-04-13T10:14:52.177Z"
   },
   {
    "duration": 5,
    "start_time": "2022-04-13T10:14:52.182Z"
   },
   {
    "duration": 21,
    "start_time": "2022-04-13T10:14:52.189Z"
   },
   {
    "duration": 21,
    "start_time": "2022-04-13T10:14:52.211Z"
   },
   {
    "duration": 13,
    "start_time": "2022-04-13T10:14:52.233Z"
   },
   {
    "duration": 6,
    "start_time": "2022-04-13T10:14:52.248Z"
   },
   {
    "duration": 14,
    "start_time": "2022-04-13T10:14:52.256Z"
   },
   {
    "duration": 35,
    "start_time": "2022-04-13T10:14:52.272Z"
   },
   {
    "duration": 1135,
    "start_time": "2022-04-13T10:39:46.058Z"
   },
   {
    "duration": 36,
    "start_time": "2022-04-13T10:39:47.195Z"
   },
   {
    "duration": 14,
    "start_time": "2022-04-13T10:39:47.233Z"
   },
   {
    "duration": 5,
    "start_time": "2022-04-13T10:39:47.249Z"
   },
   {
    "duration": 19,
    "start_time": "2022-04-13T10:39:47.255Z"
   },
   {
    "duration": 32,
    "start_time": "2022-04-13T10:39:47.275Z"
   },
   {
    "duration": 9,
    "start_time": "2022-04-13T10:39:47.308Z"
   },
   {
    "duration": 9,
    "start_time": "2022-04-13T10:39:47.319Z"
   },
   {
    "duration": 16,
    "start_time": "2022-04-13T10:39:47.329Z"
   },
   {
    "duration": 6,
    "start_time": "2022-04-13T10:39:47.348Z"
   },
   {
    "duration": 24,
    "start_time": "2022-04-13T10:39:47.355Z"
   },
   {
    "duration": 41,
    "start_time": "2022-04-13T10:39:47.381Z"
   },
   {
    "duration": 8,
    "start_time": "2022-04-13T10:39:47.424Z"
   },
   {
    "duration": 6,
    "start_time": "2022-04-13T10:39:47.433Z"
   },
   {
    "duration": 167,
    "start_time": "2022-04-13T10:39:47.441Z"
   },
   {
    "duration": 5,
    "start_time": "2022-04-13T10:39:47.610Z"
   },
   {
    "duration": 8,
    "start_time": "2022-04-13T10:39:47.617Z"
   },
   {
    "duration": 8,
    "start_time": "2022-04-13T10:39:47.626Z"
   },
   {
    "duration": 172,
    "start_time": "2022-04-13T10:39:47.635Z"
   },
   {
    "duration": 5,
    "start_time": "2022-04-13T10:39:47.809Z"
   },
   {
    "duration": 8,
    "start_time": "2022-04-13T10:39:47.816Z"
   },
   {
    "duration": 17,
    "start_time": "2022-04-13T10:39:47.826Z"
   },
   {
    "duration": 7,
    "start_time": "2022-04-13T10:39:47.845Z"
   },
   {
    "duration": 21,
    "start_time": "2022-04-13T10:39:47.853Z"
   },
   {
    "duration": 22,
    "start_time": "2022-04-13T10:39:47.876Z"
   },
   {
    "duration": 24,
    "start_time": "2022-04-13T10:39:47.899Z"
   },
   {
    "duration": 10,
    "start_time": "2022-04-13T10:39:47.925Z"
   },
   {
    "duration": 9,
    "start_time": "2022-04-13T10:39:47.939Z"
   },
   {
    "duration": 386,
    "start_time": "2022-04-13T10:39:47.950Z"
   },
   {
    "duration": 312,
    "start_time": "2022-04-13T10:39:48.337Z"
   },
   {
    "duration": 1158,
    "start_time": "2022-04-13T10:39:48.651Z"
   },
   {
    "duration": 349,
    "start_time": "2022-04-13T10:39:49.811Z"
   },
   {
    "duration": 13,
    "start_time": "2022-04-13T10:39:50.162Z"
   },
   {
    "duration": 35,
    "start_time": "2022-04-13T10:39:50.177Z"
   },
   {
    "duration": 255,
    "start_time": "2022-04-13T10:39:50.214Z"
   },
   {
    "duration": 7,
    "start_time": "2022-04-13T10:39:50.470Z"
   },
   {
    "duration": 157,
    "start_time": "2022-04-13T10:39:50.478Z"
   },
   {
    "duration": 7,
    "start_time": "2022-04-13T10:39:50.636Z"
   },
   {
    "duration": 14,
    "start_time": "2022-04-13T10:39:50.645Z"
   },
   {
    "duration": 175,
    "start_time": "2022-04-13T10:39:50.661Z"
   },
   {
    "duration": 5,
    "start_time": "2022-04-13T10:39:50.837Z"
   },
   {
    "duration": 166,
    "start_time": "2022-04-13T10:39:50.844Z"
   },
   {
    "duration": 5,
    "start_time": "2022-04-13T10:39:51.012Z"
   },
   {
    "duration": 301,
    "start_time": "2022-04-13T10:39:51.019Z"
   },
   {
    "duration": 285,
    "start_time": "2022-04-13T10:39:51.322Z"
   },
   {
    "duration": 288,
    "start_time": "2022-04-13T10:39:51.609Z"
   },
   {
    "duration": 381,
    "start_time": "2022-04-13T10:39:51.898Z"
   },
   {
    "duration": 319,
    "start_time": "2022-04-13T10:39:52.280Z"
   },
   {
    "duration": 22,
    "start_time": "2022-04-13T10:39:52.601Z"
   },
   {
    "duration": 17,
    "start_time": "2022-04-13T10:39:52.625Z"
   },
   {
    "duration": 18,
    "start_time": "2022-04-13T10:39:52.643Z"
   },
   {
    "duration": 495,
    "start_time": "2022-04-13T10:39:52.662Z"
   },
   {
    "duration": 556,
    "start_time": "2022-04-13T10:39:53.159Z"
   },
   {
    "duration": 14,
    "start_time": "2022-04-13T10:39:53.718Z"
   },
   {
    "duration": 210,
    "start_time": "2022-04-13T10:39:53.734Z"
   },
   {
    "duration": 16,
    "start_time": "2022-04-13T10:39:53.946Z"
   },
   {
    "duration": 20,
    "start_time": "2022-04-13T10:39:53.964Z"
   },
   {
    "duration": 24,
    "start_time": "2022-04-13T10:39:53.985Z"
   },
   {
    "duration": 6,
    "start_time": "2022-04-13T10:39:54.010Z"
   },
   {
    "duration": 7,
    "start_time": "2022-04-13T10:39:54.018Z"
   },
   {
    "duration": 16,
    "start_time": "2022-04-13T10:39:54.027Z"
   },
   {
    "duration": 15,
    "start_time": "2022-04-13T10:39:54.044Z"
   },
   {
    "duration": 4,
    "start_time": "2022-04-13T10:39:54.060Z"
   },
   {
    "duration": 7,
    "start_time": "2022-04-13T10:39:54.065Z"
   },
   {
    "duration": 6,
    "start_time": "2022-04-13T10:39:54.107Z"
   },
   {
    "duration": 64,
    "start_time": "2022-04-13T11:01:22.906Z"
   },
   {
    "duration": 68,
    "start_time": "2022-04-13T11:11:16.947Z"
   },
   {
    "duration": 1176,
    "start_time": "2022-04-13T11:14:59.130Z"
   },
   {
    "duration": 39,
    "start_time": "2022-04-13T11:15:00.308Z"
   },
   {
    "duration": 15,
    "start_time": "2022-04-13T11:15:00.349Z"
   },
   {
    "duration": 10,
    "start_time": "2022-04-13T11:15:00.366Z"
   },
   {
    "duration": 29,
    "start_time": "2022-04-13T11:15:00.378Z"
   },
   {
    "duration": 18,
    "start_time": "2022-04-13T11:15:00.409Z"
   },
   {
    "duration": 16,
    "start_time": "2022-04-13T11:15:00.430Z"
   },
   {
    "duration": 18,
    "start_time": "2022-04-13T11:15:00.448Z"
   },
   {
    "duration": 49,
    "start_time": "2022-04-13T11:15:00.468Z"
   },
   {
    "duration": 10,
    "start_time": "2022-04-13T11:15:00.519Z"
   },
   {
    "duration": 50,
    "start_time": "2022-04-13T11:15:00.531Z"
   },
   {
    "duration": 28,
    "start_time": "2022-04-13T11:15:00.584Z"
   },
   {
    "duration": 16,
    "start_time": "2022-04-13T11:15:00.615Z"
   },
   {
    "duration": 12,
    "start_time": "2022-04-13T11:15:00.634Z"
   },
   {
    "duration": 177,
    "start_time": "2022-04-13T11:15:00.648Z"
   },
   {
    "duration": 5,
    "start_time": "2022-04-13T11:15:00.827Z"
   },
   {
    "duration": 17,
    "start_time": "2022-04-13T11:15:00.834Z"
   },
   {
    "duration": 9,
    "start_time": "2022-04-13T11:15:00.854Z"
   },
   {
    "duration": 174,
    "start_time": "2022-04-13T11:15:00.865Z"
   },
   {
    "duration": 5,
    "start_time": "2022-04-13T11:15:01.041Z"
   },
   {
    "duration": 18,
    "start_time": "2022-04-13T11:15:01.048Z"
   },
   {
    "duration": 23,
    "start_time": "2022-04-13T11:15:01.068Z"
   },
   {
    "duration": 15,
    "start_time": "2022-04-13T11:15:01.093Z"
   },
   {
    "duration": 11,
    "start_time": "2022-04-13T11:15:01.110Z"
   },
   {
    "duration": 7,
    "start_time": "2022-04-13T11:15:01.123Z"
   },
   {
    "duration": 14,
    "start_time": "2022-04-13T11:15:01.132Z"
   },
   {
    "duration": 13,
    "start_time": "2022-04-13T11:15:01.148Z"
   },
   {
    "duration": 46,
    "start_time": "2022-04-13T11:15:01.163Z"
   },
   {
    "duration": 386,
    "start_time": "2022-04-13T11:15:01.211Z"
   },
   {
    "duration": 346,
    "start_time": "2022-04-13T11:15:01.598Z"
   },
   {
    "duration": 1229,
    "start_time": "2022-04-13T11:15:01.946Z"
   },
   {
    "duration": 376,
    "start_time": "2022-04-13T11:15:03.177Z"
   },
   {
    "duration": 15,
    "start_time": "2022-04-13T11:15:03.555Z"
   },
   {
    "duration": 46,
    "start_time": "2022-04-13T11:15:03.572Z"
   },
   {
    "duration": 270,
    "start_time": "2022-04-13T11:15:03.620Z"
   },
   {
    "duration": 16,
    "start_time": "2022-04-13T11:15:03.892Z"
   },
   {
    "duration": 172,
    "start_time": "2022-04-13T11:15:03.910Z"
   },
   {
    "duration": 9,
    "start_time": "2022-04-13T11:15:04.085Z"
   },
   {
    "duration": 13,
    "start_time": "2022-04-13T11:15:04.106Z"
   },
   {
    "duration": 199,
    "start_time": "2022-04-13T11:15:04.121Z"
   },
   {
    "duration": 5,
    "start_time": "2022-04-13T11:15:04.324Z"
   },
   {
    "duration": 190,
    "start_time": "2022-04-13T11:15:04.331Z"
   },
   {
    "duration": 6,
    "start_time": "2022-04-13T11:15:04.523Z"
   },
   {
    "duration": 345,
    "start_time": "2022-04-13T11:15:04.531Z"
   },
   {
    "duration": 320,
    "start_time": "2022-04-13T11:15:04.878Z"
   },
   {
    "duration": 314,
    "start_time": "2022-04-13T11:15:05.200Z"
   },
   {
    "duration": 379,
    "start_time": "2022-04-13T11:15:05.516Z"
   },
   {
    "duration": 329,
    "start_time": "2022-04-13T11:15:05.897Z"
   },
   {
    "duration": 18,
    "start_time": "2022-04-13T11:15:06.228Z"
   },
   {
    "duration": 18,
    "start_time": "2022-04-13T11:15:06.248Z"
   },
   {
    "duration": 39,
    "start_time": "2022-04-13T11:15:06.268Z"
   },
   {
    "duration": 495,
    "start_time": "2022-04-13T11:15:06.309Z"
   },
   {
    "duration": 587,
    "start_time": "2022-04-13T11:15:06.807Z"
   },
   {
    "duration": 22,
    "start_time": "2022-04-13T11:15:07.396Z"
   },
   {
    "duration": 202,
    "start_time": "2022-04-13T11:15:07.419Z"
   },
   {
    "duration": 17,
    "start_time": "2022-04-13T11:15:07.623Z"
   },
   {
    "duration": 18,
    "start_time": "2022-04-13T11:15:07.641Z"
   },
   {
    "duration": 9,
    "start_time": "2022-04-13T11:15:07.660Z"
   },
   {
    "duration": 6,
    "start_time": "2022-04-13T11:15:07.670Z"
   },
   {
    "duration": 32,
    "start_time": "2022-04-13T11:15:07.677Z"
   },
   {
    "duration": 19,
    "start_time": "2022-04-13T11:15:07.711Z"
   },
   {
    "duration": 16,
    "start_time": "2022-04-13T11:15:07.732Z"
   },
   {
    "duration": 9,
    "start_time": "2022-04-13T11:15:07.749Z"
   },
   {
    "duration": 7,
    "start_time": "2022-04-13T11:15:07.759Z"
   },
   {
    "duration": 7,
    "start_time": "2022-04-13T11:15:07.768Z"
   },
   {
    "duration": 1483,
    "start_time": "2022-04-13T12:07:57.214Z"
   },
   {
    "duration": 1250,
    "start_time": "2022-04-13T12:30:41.761Z"
   },
   {
    "duration": 45,
    "start_time": "2022-04-13T12:30:43.021Z"
   },
   {
    "duration": 15,
    "start_time": "2022-04-13T12:30:43.857Z"
   },
   {
    "duration": 5,
    "start_time": "2022-04-13T12:30:46.877Z"
   },
   {
    "duration": 22,
    "start_time": "2022-04-13T12:30:48.589Z"
   },
   {
    "duration": 24,
    "start_time": "2022-04-13T12:30:51.798Z"
   },
   {
    "duration": 10,
    "start_time": "2022-04-13T12:30:55.058Z"
   },
   {
    "duration": 9,
    "start_time": "2022-04-13T12:31:02.417Z"
   },
   {
    "duration": 28,
    "start_time": "2022-04-13T12:31:05.061Z"
   },
   {
    "duration": 14,
    "start_time": "2022-04-13T12:31:06.293Z"
   },
   {
    "duration": 23,
    "start_time": "2022-04-13T12:31:14.901Z"
   },
   {
    "duration": 17,
    "start_time": "2022-04-13T12:31:18.915Z"
   },
   {
    "duration": 10,
    "start_time": "2022-04-13T12:31:24.654Z"
   },
   {
    "duration": 11,
    "start_time": "2022-04-13T12:31:26.704Z"
   },
   {
    "duration": 123,
    "start_time": "2022-04-13T12:31:30.560Z"
   },
   {
    "duration": 156,
    "start_time": "2022-04-13T12:34:56.873Z"
   },
   {
    "duration": 13,
    "start_time": "2022-04-13T12:35:04.147Z"
   },
   {
    "duration": 10,
    "start_time": "2022-04-13T12:35:30.703Z"
   },
   {
    "duration": 19,
    "start_time": "2022-04-13T12:35:42.431Z"
   },
   {
    "duration": 16,
    "start_time": "2022-04-13T12:36:23.336Z"
   },
   {
    "duration": 8,
    "start_time": "2022-04-13T12:37:06.056Z"
   },
   {
    "duration": 10,
    "start_time": "2022-04-13T12:38:57.570Z"
   },
   {
    "duration": 5,
    "start_time": "2022-04-13T12:39:23.118Z"
   },
   {
    "duration": 15,
    "start_time": "2022-04-13T12:39:38.881Z"
   },
   {
    "duration": 5,
    "start_time": "2022-04-13T12:44:48.614Z"
   },
   {
    "duration": 21,
    "start_time": "2022-04-13T12:44:50.490Z"
   },
   {
    "duration": 16,
    "start_time": "2022-04-13T12:45:05.632Z"
   },
   {
    "duration": 9,
    "start_time": "2022-04-13T12:45:11.801Z"
   },
   {
    "duration": 381,
    "start_time": "2022-04-13T12:45:22.159Z"
   },
   {
    "duration": 311,
    "start_time": "2022-04-13T12:45:27.831Z"
   },
   {
    "duration": 1087,
    "start_time": "2022-04-13T12:45:32.269Z"
   },
   {
    "duration": 15,
    "start_time": "2022-04-13T12:48:26.211Z"
   },
   {
    "duration": 18,
    "start_time": "2022-04-13T12:48:36.927Z"
   },
   {
    "duration": 347,
    "start_time": "2022-04-13T13:55:59.513Z"
   },
   {
    "duration": 8,
    "start_time": "2022-04-13T13:57:05.258Z"
   },
   {
    "duration": 184,
    "start_time": "2022-04-13T13:57:06.403Z"
   },
   {
    "duration": 7,
    "start_time": "2022-04-13T14:44:44.096Z"
   },
   {
    "duration": 11,
    "start_time": "2022-04-13T14:44:44.871Z"
   },
   {
    "duration": 145,
    "start_time": "2022-04-13T14:44:48.968Z"
   },
   {
    "duration": 5,
    "start_time": "2022-04-13T14:44:51.801Z"
   },
   {
    "duration": 190,
    "start_time": "2022-04-13T14:44:54.532Z"
   },
   {
    "duration": 1248,
    "start_time": "2022-04-13T14:45:12.808Z"
   },
   {
    "duration": 43,
    "start_time": "2022-04-13T14:45:14.058Z"
   },
   {
    "duration": 15,
    "start_time": "2022-04-13T14:45:14.102Z"
   },
   {
    "duration": 4,
    "start_time": "2022-04-13T14:45:14.119Z"
   },
   {
    "duration": 18,
    "start_time": "2022-04-13T14:45:14.125Z"
   },
   {
    "duration": 36,
    "start_time": "2022-04-13T14:45:14.145Z"
   },
   {
    "duration": 9,
    "start_time": "2022-04-13T14:45:14.183Z"
   },
   {
    "duration": 11,
    "start_time": "2022-04-13T14:45:14.194Z"
   },
   {
    "duration": 16,
    "start_time": "2022-04-13T14:45:14.207Z"
   },
   {
    "duration": 7,
    "start_time": "2022-04-13T14:45:14.226Z"
   },
   {
    "duration": 52,
    "start_time": "2022-04-13T14:45:14.235Z"
   },
   {
    "duration": 16,
    "start_time": "2022-04-13T14:45:14.289Z"
   },
   {
    "duration": 9,
    "start_time": "2022-04-13T14:45:14.307Z"
   },
   {
    "duration": 7,
    "start_time": "2022-04-13T14:45:14.317Z"
   },
   {
    "duration": 146,
    "start_time": "2022-04-13T14:45:14.325Z"
   },
   {
    "duration": 5,
    "start_time": "2022-04-13T14:45:14.473Z"
   },
   {
    "duration": 10,
    "start_time": "2022-04-13T14:45:14.480Z"
   },
   {
    "duration": 10,
    "start_time": "2022-04-13T14:45:14.492Z"
   },
   {
    "duration": 132,
    "start_time": "2022-04-13T14:45:14.504Z"
   },
   {
    "duration": 6,
    "start_time": "2022-04-13T14:45:14.637Z"
   },
   {
    "duration": 12,
    "start_time": "2022-04-13T14:45:14.644Z"
   },
   {
    "duration": 27,
    "start_time": "2022-04-13T14:45:14.658Z"
   },
   {
    "duration": 4,
    "start_time": "2022-04-13T14:45:14.687Z"
   },
   {
    "duration": 10,
    "start_time": "2022-04-13T14:45:14.693Z"
   },
   {
    "duration": 8,
    "start_time": "2022-04-13T14:45:14.706Z"
   },
   {
    "duration": 16,
    "start_time": "2022-04-13T14:45:14.716Z"
   },
   {
    "duration": 42,
    "start_time": "2022-04-13T14:45:14.734Z"
   },
   {
    "duration": 18,
    "start_time": "2022-04-13T14:45:14.781Z"
   },
   {
    "duration": 18,
    "start_time": "2022-04-13T14:45:14.802Z"
   },
   {
    "duration": 12,
    "start_time": "2022-04-13T14:45:14.822Z"
   },
   {
    "duration": 49,
    "start_time": "2022-04-13T14:45:14.836Z"
   },
   {
    "duration": 12,
    "start_time": "2022-04-13T14:45:14.887Z"
   },
   {
    "duration": 12,
    "start_time": "2022-04-13T14:45:14.901Z"
   },
   {
    "duration": 391,
    "start_time": "2022-04-13T14:45:14.915Z"
   },
   {
    "duration": 291,
    "start_time": "2022-04-13T14:45:15.308Z"
   },
   {
    "duration": 1135,
    "start_time": "2022-04-13T14:45:15.600Z"
   },
   {
    "duration": 344,
    "start_time": "2022-04-13T14:45:16.737Z"
   },
   {
    "duration": 15,
    "start_time": "2022-04-13T14:45:17.083Z"
   },
   {
    "duration": 24,
    "start_time": "2022-04-13T14:45:17.100Z"
   },
   {
    "duration": 265,
    "start_time": "2022-04-13T14:45:17.126Z"
   },
   {
    "duration": 6,
    "start_time": "2022-04-13T14:45:17.393Z"
   },
   {
    "duration": 196,
    "start_time": "2022-04-13T14:45:17.401Z"
   },
   {
    "duration": 7,
    "start_time": "2022-04-13T14:45:17.599Z"
   },
   {
    "duration": 18,
    "start_time": "2022-04-13T14:45:17.607Z"
   },
   {
    "duration": 172,
    "start_time": "2022-04-13T14:45:17.627Z"
   },
   {
    "duration": 5,
    "start_time": "2022-04-13T14:45:17.801Z"
   },
   {
    "duration": 170,
    "start_time": "2022-04-13T14:45:17.808Z"
   },
   {
    "duration": 5,
    "start_time": "2022-04-13T14:45:17.980Z"
   },
   {
    "duration": 297,
    "start_time": "2022-04-13T14:45:17.987Z"
   },
   {
    "duration": 305,
    "start_time": "2022-04-13T14:45:18.286Z"
   },
   {
    "duration": 292,
    "start_time": "2022-04-13T14:45:18.593Z"
   },
   {
    "duration": 400,
    "start_time": "2022-04-13T14:45:18.887Z"
   },
   {
    "duration": 295,
    "start_time": "2022-04-13T14:45:19.289Z"
   },
   {
    "duration": 18,
    "start_time": "2022-04-13T14:45:19.586Z"
   },
   {
    "duration": 20,
    "start_time": "2022-04-13T14:45:19.606Z"
   },
   {
    "duration": 17,
    "start_time": "2022-04-13T14:45:19.628Z"
   },
   {
    "duration": 478,
    "start_time": "2022-04-13T14:45:19.647Z"
   },
   {
    "duration": 588,
    "start_time": "2022-04-13T14:45:20.127Z"
   },
   {
    "duration": 17,
    "start_time": "2022-04-13T14:45:20.717Z"
   },
   {
    "duration": 222,
    "start_time": "2022-04-13T14:45:20.736Z"
   },
   {
    "duration": 28,
    "start_time": "2022-04-13T14:45:20.960Z"
   },
   {
    "duration": 25,
    "start_time": "2022-04-13T14:45:20.990Z"
   },
   {
    "duration": 14,
    "start_time": "2022-04-13T14:45:21.017Z"
   },
   {
    "duration": 8,
    "start_time": "2022-04-13T14:45:21.033Z"
   },
   {
    "duration": 8,
    "start_time": "2022-04-13T14:45:21.042Z"
   },
   {
    "duration": 34,
    "start_time": "2022-04-13T14:45:21.051Z"
   },
   {
    "duration": 16,
    "start_time": "2022-04-13T14:45:21.087Z"
   },
   {
    "duration": 6,
    "start_time": "2022-04-13T14:45:21.106Z"
   },
   {
    "duration": 6,
    "start_time": "2022-04-13T14:45:21.114Z"
   },
   {
    "duration": 8,
    "start_time": "2022-04-13T14:45:21.122Z"
   },
   {
    "duration": 291,
    "start_time": "2022-04-13T14:47:30.653Z"
   },
   {
    "duration": 7,
    "start_time": "2022-04-13T16:44:53.202Z"
   },
   {
    "duration": 194,
    "start_time": "2022-04-13T16:44:54.548Z"
   },
   {
    "duration": 1207,
    "start_time": "2022-04-13T17:28:00.376Z"
   },
   {
    "duration": 43,
    "start_time": "2022-04-13T17:28:01.585Z"
   },
   {
    "duration": 17,
    "start_time": "2022-04-13T17:28:02.057Z"
   },
   {
    "duration": 4,
    "start_time": "2022-04-13T17:28:02.983Z"
   },
   {
    "duration": 13,
    "start_time": "2022-04-13T17:28:14.290Z"
   },
   {
    "duration": 18,
    "start_time": "2022-04-13T17:28:17.133Z"
   },
   {
    "duration": 10,
    "start_time": "2022-04-13T17:28:22.676Z"
   },
   {
    "duration": 9,
    "start_time": "2022-04-13T17:28:47.276Z"
   },
   {
    "duration": 17,
    "start_time": "2022-04-13T17:28:50.939Z"
   },
   {
    "duration": 7,
    "start_time": "2022-04-13T17:28:52.050Z"
   },
   {
    "duration": 20,
    "start_time": "2022-04-13T17:28:54.585Z"
   },
   {
    "duration": 17,
    "start_time": "2022-04-13T17:29:06.995Z"
   },
   {
    "duration": 9,
    "start_time": "2022-04-13T17:29:09.765Z"
   },
   {
    "duration": 5,
    "start_time": "2022-04-13T17:29:11.766Z"
   },
   {
    "duration": 104,
    "start_time": "2022-04-13T17:29:15.749Z"
   },
   {
    "duration": 5,
    "start_time": "2022-04-13T17:29:56.849Z"
   },
   {
    "duration": 6,
    "start_time": "2022-04-13T17:29:59.449Z"
   },
   {
    "duration": 6,
    "start_time": "2022-04-13T17:30:00.333Z"
   },
   {
    "duration": 112,
    "start_time": "2022-04-13T17:30:01.123Z"
   },
   {
    "duration": 5,
    "start_time": "2022-04-13T17:30:01.901Z"
   },
   {
    "duration": 7,
    "start_time": "2022-04-13T17:30:03.574Z"
   },
   {
    "duration": 14,
    "start_time": "2022-04-13T17:30:04.528Z"
   },
   {
    "duration": 5,
    "start_time": "2022-04-13T17:30:08.326Z"
   },
   {
    "duration": 6,
    "start_time": "2022-04-13T17:30:09.567Z"
   },
   {
    "duration": 5,
    "start_time": "2022-04-13T17:30:30.370Z"
   },
   {
    "duration": 14,
    "start_time": "2022-04-13T17:30:31.397Z"
   },
   {
    "duration": 15,
    "start_time": "2022-04-13T17:30:34.757Z"
   },
   {
    "duration": 17,
    "start_time": "2022-04-13T17:30:35.477Z"
   },
   {
    "duration": 14,
    "start_time": "2022-04-13T17:30:36.300Z"
   },
   {
    "duration": 4,
    "start_time": "2022-04-13T17:30:55.048Z"
   },
   {
    "duration": 13,
    "start_time": "2022-04-13T17:30:57.549Z"
   },
   {
    "duration": 11,
    "start_time": "2022-04-13T17:31:02.181Z"
   },
   {
    "duration": 9,
    "start_time": "2022-04-13T17:31:04.881Z"
   },
   {
    "duration": 324,
    "start_time": "2022-04-13T17:31:12.520Z"
   },
   {
    "duration": 266,
    "start_time": "2022-04-13T17:31:17.863Z"
   },
   {
    "duration": 1058,
    "start_time": "2022-04-13T17:31:28.887Z"
   },
   {
    "duration": 309,
    "start_time": "2022-04-13T17:31:34.201Z"
   },
   {
    "duration": 16,
    "start_time": "2022-04-13T17:31:51.027Z"
   },
   {
    "duration": 18,
    "start_time": "2022-04-13T17:31:57.583Z"
   },
   {
    "duration": 227,
    "start_time": "2022-04-13T17:32:40.633Z"
   },
   {
    "duration": 8,
    "start_time": "2022-04-13T17:32:44.955Z"
   },
   {
    "duration": 177,
    "start_time": "2022-04-13T17:32:45.663Z"
   },
   {
    "duration": 7,
    "start_time": "2022-04-13T17:32:55.282Z"
   },
   {
    "duration": 12,
    "start_time": "2022-04-13T17:32:56.194Z"
   },
   {
    "duration": 149,
    "start_time": "2022-04-13T17:32:58.414Z"
   },
   {
    "duration": 5,
    "start_time": "2022-04-13T17:32:59.340Z"
   },
   {
    "duration": 144,
    "start_time": "2022-04-13T17:33:00.126Z"
   },
   {
    "duration": 6,
    "start_time": "2022-04-13T17:33:00.998Z"
   },
   {
    "duration": 299,
    "start_time": "2022-04-13T17:33:11.340Z"
   },
   {
    "duration": 287,
    "start_time": "2022-04-13T17:33:13.955Z"
   },
   {
    "duration": 268,
    "start_time": "2022-04-13T17:33:17.487Z"
   },
   {
    "duration": 431,
    "start_time": "2022-04-13T17:33:20.330Z"
   },
   {
    "duration": 260,
    "start_time": "2022-04-13T17:33:23.317Z"
   },
   {
    "duration": 307,
    "start_time": "2022-04-13T17:33:25.545Z"
   },
   {
    "duration": 20,
    "start_time": "2022-04-13T17:33:43.204Z"
   },
   {
    "duration": 17,
    "start_time": "2022-04-13T17:33:47.003Z"
   },
   {
    "duration": 19,
    "start_time": "2022-04-13T17:35:22.274Z"
   },
   {
    "duration": 458,
    "start_time": "2022-04-13T17:35:25.251Z"
   },
   {
    "duration": 522,
    "start_time": "2022-04-13T17:35:34.693Z"
   },
   {
    "duration": 15,
    "start_time": "2022-04-13T17:35:41.709Z"
   },
   {
    "duration": 189,
    "start_time": "2022-04-13T17:35:42.679Z"
   },
   {
    "duration": 16,
    "start_time": "2022-04-13T17:36:25.417Z"
   },
   {
    "duration": 14,
    "start_time": "2022-04-13T17:36:27.543Z"
   },
   {
    "duration": 4,
    "start_time": "2022-04-13T17:36:29.831Z"
   },
   {
    "duration": 5,
    "start_time": "2022-04-13T17:36:31.921Z"
   },
   {
    "duration": 4,
    "start_time": "2022-04-13T17:36:36.145Z"
   },
   {
    "duration": 18,
    "start_time": "2022-04-13T17:36:53.961Z"
   },
   {
    "duration": 16,
    "start_time": "2022-04-13T17:36:57.410Z"
   },
   {
    "duration": 4,
    "start_time": "2022-04-13T17:37:00.623Z"
   },
   {
    "duration": 4,
    "start_time": "2022-04-13T17:37:03.303Z"
   },
   {
    "duration": 4,
    "start_time": "2022-04-13T17:37:09.456Z"
   },
   {
    "duration": 20,
    "start_time": "2022-04-13T17:37:47.583Z"
   },
   {
    "duration": 1239,
    "start_time": "2022-04-13T17:40:45.079Z"
   },
   {
    "duration": 39,
    "start_time": "2022-04-13T17:40:46.320Z"
   },
   {
    "duration": 15,
    "start_time": "2022-04-13T17:40:46.361Z"
   },
   {
    "duration": 5,
    "start_time": "2022-04-13T17:40:46.378Z"
   },
   {
    "duration": 17,
    "start_time": "2022-04-13T17:40:46.385Z"
   },
   {
    "duration": 18,
    "start_time": "2022-04-13T17:40:46.404Z"
   },
   {
    "duration": 9,
    "start_time": "2022-04-13T17:40:46.424Z"
   },
   {
    "duration": 40,
    "start_time": "2022-04-13T17:40:46.435Z"
   },
   {
    "duration": 17,
    "start_time": "2022-04-13T17:40:46.476Z"
   },
   {
    "duration": 7,
    "start_time": "2022-04-13T17:40:46.495Z"
   },
   {
    "duration": 24,
    "start_time": "2022-04-13T17:40:46.503Z"
   },
   {
    "duration": 16,
    "start_time": "2022-04-13T17:40:46.528Z"
   },
   {
    "duration": 34,
    "start_time": "2022-04-13T17:40:46.545Z"
   },
   {
    "duration": 8,
    "start_time": "2022-04-13T17:40:46.581Z"
   },
   {
    "duration": 124,
    "start_time": "2022-04-13T17:40:46.591Z"
   },
   {
    "duration": 5,
    "start_time": "2022-04-13T17:40:46.716Z"
   },
   {
    "duration": 8,
    "start_time": "2022-04-13T17:40:46.723Z"
   },
   {
    "duration": 8,
    "start_time": "2022-04-13T17:40:46.733Z"
   },
   {
    "duration": 130,
    "start_time": "2022-04-13T17:40:46.743Z"
   },
   {
    "duration": 4,
    "start_time": "2022-04-13T17:40:46.875Z"
   },
   {
    "duration": 8,
    "start_time": "2022-04-13T17:40:46.881Z"
   },
   {
    "duration": 15,
    "start_time": "2022-04-13T17:40:46.891Z"
   },
   {
    "duration": 5,
    "start_time": "2022-04-13T17:40:46.907Z"
   },
   {
    "duration": 9,
    "start_time": "2022-04-13T17:40:46.913Z"
   },
   {
    "duration": 7,
    "start_time": "2022-04-13T17:40:46.923Z"
   },
   {
    "duration": 44,
    "start_time": "2022-04-13T17:40:46.931Z"
   },
   {
    "duration": 14,
    "start_time": "2022-04-13T17:40:46.977Z"
   },
   {
    "duration": 15,
    "start_time": "2022-04-13T17:40:46.996Z"
   },
   {
    "duration": 15,
    "start_time": "2022-04-13T17:40:47.013Z"
   },
   {
    "duration": 6,
    "start_time": "2022-04-13T17:40:47.030Z"
   },
   {
    "duration": 44,
    "start_time": "2022-04-13T17:40:47.037Z"
   },
   {
    "duration": 12,
    "start_time": "2022-04-13T17:40:47.083Z"
   },
   {
    "duration": 9,
    "start_time": "2022-04-13T17:40:47.096Z"
   },
   {
    "duration": 386,
    "start_time": "2022-04-13T17:40:47.106Z"
   },
   {
    "duration": 300,
    "start_time": "2022-04-13T17:40:47.494Z"
   },
   {
    "duration": 1147,
    "start_time": "2022-04-13T17:40:47.795Z"
   },
   {
    "duration": 347,
    "start_time": "2022-04-13T17:40:48.944Z"
   },
   {
    "duration": 14,
    "start_time": "2022-04-13T17:40:49.293Z"
   },
   {
    "duration": 17,
    "start_time": "2022-04-13T17:40:49.309Z"
   },
   {
    "duration": 255,
    "start_time": "2022-04-13T17:40:49.328Z"
   },
   {
    "duration": 7,
    "start_time": "2022-04-13T17:40:49.585Z"
   },
   {
    "duration": 202,
    "start_time": "2022-04-13T17:40:49.593Z"
   },
   {
    "duration": 7,
    "start_time": "2022-04-13T17:40:49.797Z"
   },
   {
    "duration": 22,
    "start_time": "2022-04-13T17:40:49.805Z"
   },
   {
    "duration": 160,
    "start_time": "2022-04-13T17:40:49.828Z"
   },
   {
    "duration": 6,
    "start_time": "2022-04-13T17:40:49.990Z"
   },
   {
    "duration": 175,
    "start_time": "2022-04-13T17:40:49.998Z"
   },
   {
    "duration": 5,
    "start_time": "2022-04-13T17:40:50.175Z"
   },
   {
    "duration": 279,
    "start_time": "2022-04-13T17:40:50.182Z"
   },
   {
    "duration": 289,
    "start_time": "2022-04-13T17:40:50.462Z"
   },
   {
    "duration": 297,
    "start_time": "2022-04-13T17:40:50.753Z"
   },
   {
    "duration": 404,
    "start_time": "2022-04-13T17:40:51.052Z"
   },
   {
    "duration": 288,
    "start_time": "2022-04-13T17:40:51.458Z"
   },
   {
    "duration": 313,
    "start_time": "2022-04-13T17:40:51.747Z"
   },
   {
    "duration": 26,
    "start_time": "2022-04-13T17:40:52.062Z"
   },
   {
    "duration": 16,
    "start_time": "2022-04-13T17:40:52.090Z"
   },
   {
    "duration": 17,
    "start_time": "2022-04-13T17:40:52.108Z"
   },
   {
    "duration": 480,
    "start_time": "2022-04-13T17:40:52.126Z"
   },
   {
    "duration": 558,
    "start_time": "2022-04-13T17:40:52.608Z"
   },
   {
    "duration": 15,
    "start_time": "2022-04-13T17:40:53.168Z"
   },
   {
    "duration": 198,
    "start_time": "2022-04-13T17:40:53.185Z"
   },
   {
    "duration": 16,
    "start_time": "2022-04-13T17:40:53.385Z"
   },
   {
    "duration": 21,
    "start_time": "2022-04-13T17:40:53.403Z"
   },
   {
    "duration": 5,
    "start_time": "2022-04-13T17:40:53.426Z"
   },
   {
    "duration": 6,
    "start_time": "2022-04-13T17:40:53.433Z"
   },
   {
    "duration": 7,
    "start_time": "2022-04-13T17:40:53.441Z"
   },
   {
    "duration": 16,
    "start_time": "2022-04-13T17:40:53.474Z"
   },
   {
    "duration": 16,
    "start_time": "2022-04-13T17:40:53.492Z"
   },
   {
    "duration": 5,
    "start_time": "2022-04-13T17:40:53.510Z"
   },
   {
    "duration": 8,
    "start_time": "2022-04-13T17:40:53.517Z"
   },
   {
    "duration": 6,
    "start_time": "2022-04-13T17:40:53.527Z"
   },
   {
    "duration": 50,
    "start_time": "2022-04-13T17:40:53.534Z"
   },
   {
    "duration": 217,
    "start_time": "2022-04-13T18:22:03.044Z"
   },
   {
    "duration": 1529,
    "start_time": "2022-04-13T18:39:10.783Z"
   },
   {
    "duration": 57,
    "start_time": "2022-04-13T18:39:12.314Z"
   },
   {
    "duration": 18,
    "start_time": "2022-04-13T18:39:12.372Z"
   },
   {
    "duration": 6,
    "start_time": "2022-04-13T18:39:12.392Z"
   },
   {
    "duration": 46,
    "start_time": "2022-04-13T18:39:12.401Z"
   },
   {
    "duration": 29,
    "start_time": "2022-04-13T18:39:12.449Z"
   },
   {
    "duration": 10,
    "start_time": "2022-04-13T18:39:12.480Z"
   },
   {
    "duration": 10,
    "start_time": "2022-04-13T18:39:12.492Z"
   },
   {
    "duration": 29,
    "start_time": "2022-04-13T18:39:12.532Z"
   },
   {
    "duration": 9,
    "start_time": "2022-04-13T18:39:12.563Z"
   },
   {
    "duration": 26,
    "start_time": "2022-04-13T18:39:12.574Z"
   },
   {
    "duration": 50,
    "start_time": "2022-04-13T18:39:12.602Z"
   },
   {
    "duration": 13,
    "start_time": "2022-04-13T18:39:12.654Z"
   },
   {
    "duration": 5,
    "start_time": "2022-04-13T18:39:12.670Z"
   },
   {
    "duration": 143,
    "start_time": "2022-04-13T18:39:12.678Z"
   },
   {
    "duration": 6,
    "start_time": "2022-04-13T18:39:12.829Z"
   },
   {
    "duration": 23,
    "start_time": "2022-04-13T18:39:12.839Z"
   },
   {
    "duration": 6,
    "start_time": "2022-04-13T18:39:12.864Z"
   },
   {
    "duration": 169,
    "start_time": "2022-04-13T18:39:12.872Z"
   },
   {
    "duration": 6,
    "start_time": "2022-04-13T18:39:13.042Z"
   },
   {
    "duration": 17,
    "start_time": "2022-04-13T18:39:13.051Z"
   },
   {
    "duration": 15,
    "start_time": "2022-04-13T18:39:13.070Z"
   },
   {
    "duration": 4,
    "start_time": "2022-04-13T18:39:13.087Z"
   },
   {
    "duration": 42,
    "start_time": "2022-04-13T18:39:13.093Z"
   },
   {
    "duration": 13,
    "start_time": "2022-04-13T18:39:13.137Z"
   },
   {
    "duration": 19,
    "start_time": "2022-04-13T18:39:13.155Z"
   },
   {
    "duration": 15,
    "start_time": "2022-04-13T18:39:13.176Z"
   },
   {
    "duration": 56,
    "start_time": "2022-04-13T18:39:13.193Z"
   },
   {
    "duration": 20,
    "start_time": "2022-04-13T18:39:13.253Z"
   },
   {
    "duration": 5,
    "start_time": "2022-04-13T18:39:13.275Z"
   },
   {
    "duration": 40,
    "start_time": "2022-04-13T18:39:13.282Z"
   },
   {
    "duration": 12,
    "start_time": "2022-04-13T18:39:13.324Z"
   },
   {
    "duration": 20,
    "start_time": "2022-04-13T18:39:13.339Z"
   },
   {
    "duration": 427,
    "start_time": "2022-04-13T18:39:13.360Z"
   },
   {
    "duration": 437,
    "start_time": "2022-04-13T18:39:13.789Z"
   },
   {
    "duration": 1302,
    "start_time": "2022-04-13T18:39:14.228Z"
   },
   {
    "duration": 377,
    "start_time": "2022-04-13T18:39:15.532Z"
   },
   {
    "duration": 36,
    "start_time": "2022-04-13T18:39:15.912Z"
   },
   {
    "duration": 24,
    "start_time": "2022-04-13T18:39:15.950Z"
   },
   {
    "duration": 380,
    "start_time": "2022-04-13T18:39:15.976Z"
   },
   {
    "duration": 7,
    "start_time": "2022-04-13T18:39:16.362Z"
   },
   {
    "duration": 228,
    "start_time": "2022-04-13T18:39:16.371Z"
   },
   {
    "duration": 6,
    "start_time": "2022-04-13T18:39:16.601Z"
   },
   {
    "duration": 33,
    "start_time": "2022-04-13T18:39:16.609Z"
   },
   {
    "duration": 228,
    "start_time": "2022-04-13T18:39:16.644Z"
   },
   {
    "duration": 6,
    "start_time": "2022-04-13T18:39:16.874Z"
   },
   {
    "duration": 230,
    "start_time": "2022-04-13T18:39:16.882Z"
   },
   {
    "duration": 18,
    "start_time": "2022-04-13T18:39:17.114Z"
   },
   {
    "duration": 424,
    "start_time": "2022-04-13T18:39:17.136Z"
   },
   {
    "duration": 340,
    "start_time": "2022-04-13T18:39:17.562Z"
   },
   {
    "duration": 348,
    "start_time": "2022-04-13T18:39:17.904Z"
   },
   {
    "duration": 433,
    "start_time": "2022-04-13T18:39:18.255Z"
   },
   {
    "duration": 347,
    "start_time": "2022-04-13T18:39:18.690Z"
   },
   {
    "duration": 318,
    "start_time": "2022-04-13T18:39:19.039Z"
   },
   {
    "duration": 20,
    "start_time": "2022-04-13T18:39:19.359Z"
   },
   {
    "duration": 19,
    "start_time": "2022-04-13T18:39:19.381Z"
   },
   {
    "duration": 55,
    "start_time": "2022-04-13T18:39:19.401Z"
   },
   {
    "duration": 699,
    "start_time": "2022-04-13T18:39:19.458Z"
   },
   {
    "duration": 635,
    "start_time": "2022-04-13T18:39:20.159Z"
   },
   {
    "duration": 38,
    "start_time": "2022-04-13T18:39:20.797Z"
   },
   {
    "duration": 289,
    "start_time": "2022-04-13T18:39:20.836Z"
   },
   {
    "duration": 22,
    "start_time": "2022-04-13T18:39:21.126Z"
   },
   {
    "duration": 21,
    "start_time": "2022-04-13T18:39:21.150Z"
   },
   {
    "duration": 4,
    "start_time": "2022-04-13T18:39:21.174Z"
   },
   {
    "duration": 7,
    "start_time": "2022-04-13T18:39:21.181Z"
   },
   {
    "duration": 40,
    "start_time": "2022-04-13T18:39:21.190Z"
   },
   {
    "duration": 25,
    "start_time": "2022-04-13T18:39:21.232Z"
   },
   {
    "duration": 19,
    "start_time": "2022-04-13T18:39:21.259Z"
   },
   {
    "duration": 5,
    "start_time": "2022-04-13T18:39:21.281Z"
   },
   {
    "duration": 35,
    "start_time": "2022-04-13T18:39:21.289Z"
   },
   {
    "duration": 11,
    "start_time": "2022-04-13T18:39:21.326Z"
   },
   {
    "duration": 29,
    "start_time": "2022-04-13T18:39:21.339Z"
   },
   {
    "duration": 1205,
    "start_time": "2022-04-13T18:42:15.672Z"
   },
   {
    "duration": 63,
    "start_time": "2022-04-13T18:42:16.881Z"
   },
   {
    "duration": 17,
    "start_time": "2022-04-13T18:42:16.946Z"
   },
   {
    "duration": 3,
    "start_time": "2022-04-13T18:42:16.965Z"
   },
   {
    "duration": 15,
    "start_time": "2022-04-13T18:42:16.970Z"
   },
   {
    "duration": 44,
    "start_time": "2022-04-13T18:42:16.987Z"
   },
   {
    "duration": 22,
    "start_time": "2022-04-13T18:42:17.033Z"
   },
   {
    "duration": 11,
    "start_time": "2022-04-13T18:42:17.058Z"
   },
   {
    "duration": 18,
    "start_time": "2022-04-13T18:42:17.071Z"
   },
   {
    "duration": 7,
    "start_time": "2022-04-13T18:42:17.091Z"
   },
   {
    "duration": 53,
    "start_time": "2022-04-13T18:42:17.099Z"
   },
   {
    "duration": 23,
    "start_time": "2022-04-13T18:42:17.155Z"
   },
   {
    "duration": 11,
    "start_time": "2022-04-13T18:42:17.180Z"
   },
   {
    "duration": 6,
    "start_time": "2022-04-13T18:42:17.195Z"
   },
   {
    "duration": 187,
    "start_time": "2022-04-13T18:42:17.203Z"
   },
   {
    "duration": 6,
    "start_time": "2022-04-13T18:42:17.392Z"
   },
   {
    "duration": 7,
    "start_time": "2022-04-13T18:42:17.400Z"
   },
   {
    "duration": 20,
    "start_time": "2022-04-13T18:42:17.408Z"
   },
   {
    "duration": 161,
    "start_time": "2022-04-13T18:42:17.432Z"
   },
   {
    "duration": 5,
    "start_time": "2022-04-13T18:42:17.595Z"
   },
   {
    "duration": 26,
    "start_time": "2022-04-13T18:42:17.602Z"
   },
   {
    "duration": 22,
    "start_time": "2022-04-13T18:42:17.630Z"
   },
   {
    "duration": 10,
    "start_time": "2022-04-13T18:42:17.654Z"
   },
   {
    "duration": 8,
    "start_time": "2022-04-13T18:42:17.666Z"
   },
   {
    "duration": 7,
    "start_time": "2022-04-13T18:42:17.676Z"
   },
   {
    "duration": 16,
    "start_time": "2022-04-13T18:42:17.684Z"
   },
   {
    "duration": 26,
    "start_time": "2022-04-13T18:42:17.722Z"
   },
   {
    "duration": 20,
    "start_time": "2022-04-13T18:42:17.750Z"
   },
   {
    "duration": 15,
    "start_time": "2022-04-13T18:42:17.772Z"
   },
   {
    "duration": 4,
    "start_time": "2022-04-13T18:42:17.789Z"
   },
   {
    "duration": 40,
    "start_time": "2022-04-13T18:42:17.795Z"
   },
   {
    "duration": 14,
    "start_time": "2022-04-13T18:42:17.841Z"
   },
   {
    "duration": 12,
    "start_time": "2022-04-13T18:42:17.857Z"
   },
   {
    "duration": 409,
    "start_time": "2022-04-13T18:42:17.871Z"
   },
   {
    "duration": 305,
    "start_time": "2022-04-13T18:42:18.283Z"
   },
   {
    "duration": 1240,
    "start_time": "2022-04-13T18:42:18.590Z"
   },
   {
    "duration": 378,
    "start_time": "2022-04-13T18:42:19.832Z"
   },
   {
    "duration": 24,
    "start_time": "2022-04-13T18:42:20.212Z"
   },
   {
    "duration": 20,
    "start_time": "2022-04-13T18:42:20.238Z"
   },
   {
    "duration": 289,
    "start_time": "2022-04-13T18:42:20.260Z"
   },
   {
    "duration": 8,
    "start_time": "2022-04-13T18:42:20.555Z"
   },
   {
    "duration": 219,
    "start_time": "2022-04-13T18:42:20.565Z"
   },
   {
    "duration": 6,
    "start_time": "2022-04-13T18:42:20.786Z"
   },
   {
    "duration": 15,
    "start_time": "2022-04-13T18:42:20.793Z"
   },
   {
    "duration": 169,
    "start_time": "2022-04-13T18:42:20.822Z"
   },
   {
    "duration": 5,
    "start_time": "2022-04-13T18:42:20.993Z"
   },
   {
    "duration": 185,
    "start_time": "2022-04-13T18:42:21.000Z"
   },
   {
    "duration": 6,
    "start_time": "2022-04-13T18:42:21.186Z"
   },
   {
    "duration": 302,
    "start_time": "2022-04-13T18:42:21.194Z"
   },
   {
    "duration": 310,
    "start_time": "2022-04-13T18:42:21.498Z"
   },
   {
    "duration": 302,
    "start_time": "2022-04-13T18:42:21.809Z"
   },
   {
    "duration": 399,
    "start_time": "2022-04-13T18:42:22.113Z"
   },
   {
    "duration": 298,
    "start_time": "2022-04-13T18:42:22.513Z"
   },
   {
    "duration": 302,
    "start_time": "2022-04-13T18:42:22.813Z"
   },
   {
    "duration": 24,
    "start_time": "2022-04-13T18:42:23.122Z"
   },
   {
    "duration": 19,
    "start_time": "2022-04-13T18:42:23.148Z"
   },
   {
    "duration": 18,
    "start_time": "2022-04-13T18:42:23.169Z"
   },
   {
    "duration": 527,
    "start_time": "2022-04-13T18:42:23.189Z"
   },
   {
    "duration": 588,
    "start_time": "2022-04-13T18:42:23.718Z"
   },
   {
    "duration": 27,
    "start_time": "2022-04-13T18:42:24.308Z"
   },
   {
    "duration": 223,
    "start_time": "2022-04-13T18:42:24.337Z"
   },
   {
    "duration": 18,
    "start_time": "2022-04-13T18:42:24.561Z"
   },
   {
    "duration": 51,
    "start_time": "2022-04-13T18:42:24.580Z"
   },
   {
    "duration": 17,
    "start_time": "2022-04-13T18:42:24.633Z"
   },
   {
    "duration": 20,
    "start_time": "2022-04-13T18:42:24.653Z"
   },
   {
    "duration": 20,
    "start_time": "2022-04-13T18:42:24.675Z"
   },
   {
    "duration": 42,
    "start_time": "2022-04-13T18:42:24.696Z"
   },
   {
    "duration": 18,
    "start_time": "2022-04-13T18:42:24.744Z"
   },
   {
    "duration": 9,
    "start_time": "2022-04-13T18:42:24.764Z"
   },
   {
    "duration": 21,
    "start_time": "2022-04-13T18:42:24.775Z"
   },
   {
    "duration": 11,
    "start_time": "2022-04-13T18:42:24.798Z"
   },
   {
    "duration": 22,
    "start_time": "2022-04-13T18:42:24.811Z"
   }
  ],
  "kernelspec": {
   "display_name": "Python 3 (ipykernel)",
   "language": "python",
   "name": "python3"
  },
  "language_info": {
   "codemirror_mode": {
    "name": "ipython",
    "version": 3
   },
   "file_extension": ".py",
   "mimetype": "text/x-python",
   "name": "python",
   "nbconvert_exporter": "python",
   "pygments_lexer": "ipython3",
   "version": "3.9.5"
  },
  "toc": {
   "base_numbering": 1,
   "nav_menu": {},
   "number_sections": true,
   "sideBar": true,
   "skip_h1_title": true,
   "title_cell": "Содержание:",
   "title_sidebar": "Contents",
   "toc_cell": true,
   "toc_position": {},
   "toc_section_display": true,
   "toc_window_display": true
  }
 },
 "nbformat": 4,
 "nbformat_minor": 2
}
