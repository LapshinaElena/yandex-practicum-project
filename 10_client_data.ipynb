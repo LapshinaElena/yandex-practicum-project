{
 "cells": [
  {
   "cell_type": "markdown",
   "metadata": {
    "toc": true
   },
   "source": [
    "<h1>Содержание<span class=\"tocSkip\"></span></h1>\n",
    "<div class=\"toc\"><ul class=\"toc-item\"><li><span><a href=\"#Загрузка-данных\" data-toc-modified-id=\"Загрузка-данных-1\"><span class=\"toc-item-num\">1&nbsp;&nbsp;</span>Загрузка данных</a></span><ul class=\"toc-item\"><li><span><a href=\"#Вывод\" data-toc-modified-id=\"Вывод-1.1\"><span class=\"toc-item-num\">1.1&nbsp;&nbsp;</span>Вывод</a></span></li></ul></li><li><span><a href=\"#Умножение-матриц\" data-toc-modified-id=\"Умножение-матриц-2\"><span class=\"toc-item-num\">2&nbsp;&nbsp;</span>Умножение матриц</a></span></li><li><span><a href=\"#Алгоритм-преобразования\" data-toc-modified-id=\"Алгоритм-преобразования-3\"><span class=\"toc-item-num\">3&nbsp;&nbsp;</span>Алгоритм преобразования</a></span></li><li><span><a href=\"#Проверка-алгоритма\" data-toc-modified-id=\"Проверка-алгоритма-4\"><span class=\"toc-item-num\">4&nbsp;&nbsp;</span>Проверка алгоритма</a></span><ul class=\"toc-item\"><li><span><a href=\"#Вывод\" data-toc-modified-id=\"Вывод-4.1\"><span class=\"toc-item-num\">4.1&nbsp;&nbsp;</span>Вывод</a></span></li></ul></li><li><span><a href=\"#Вывод\" data-toc-modified-id=\"Вывод-5\"><span class=\"toc-item-num\">5&nbsp;&nbsp;</span>Вывод</a></span></li><li><span><a href=\"#Чек-лист-проверки\" data-toc-modified-id=\"Чек-лист-проверки-6\"><span class=\"toc-item-num\">6&nbsp;&nbsp;</span>Чек-лист проверки</a></span></li></ul></div>"
   ]
  },
  {
   "cell_type": "markdown",
   "metadata": {},
   "source": [
    "# Защита персональных данных клиентов"
   ]
  },
  {
   "cell_type": "markdown",
   "metadata": {},
   "source": [
    "Вам нужно защитить данные клиентов страховой компании «Хоть потоп». Разработайте такой метод преобразования данных, чтобы по ним было сложно восстановить персональную информацию. Обоснуйте корректность его работы.\n",
    "\n",
    "Нужно защитить данные, чтобы при преобразовании качество моделей машинного обучения не ухудшилось. Подбирать наилучшую модель не требуется."
   ]
  },
  {
   "cell_type": "markdown",
   "metadata": {},
   "source": [
    "## Загрузка данных"
   ]
  },
  {
   "cell_type": "code",
   "execution_count": 1,
   "metadata": {},
   "outputs": [],
   "source": [
    "import pandas as pd\n",
    "import numpy as np\n",
    "\n",
    "from sklearn.model_selection import train_test_split\n",
    "from sklearn.linear_model import LinearRegression\n",
    "from sklearn.metrics import r2_score\n",
    "\n",
    "import warnings\n",
    "warnings.filterwarnings('ignore')"
   ]
  },
  {
   "cell_type": "code",
   "execution_count": 2,
   "metadata": {},
   "outputs": [],
   "source": [
    "data = pd.read_csv('/datasets/insurance.csv')"
   ]
  },
  {
   "cell_type": "code",
   "execution_count": 3,
   "metadata": {},
   "outputs": [
    {
     "name": "stdout",
     "output_type": "stream",
     "text": [
      "<class 'pandas.core.frame.DataFrame'>\n",
      "RangeIndex: 5000 entries, 0 to 4999\n",
      "Data columns (total 5 columns):\n",
      " #   Column             Non-Null Count  Dtype  \n",
      "---  ------             --------------  -----  \n",
      " 0   Пол                5000 non-null   int64  \n",
      " 1   Возраст            5000 non-null   float64\n",
      " 2   Зарплата           5000 non-null   float64\n",
      " 3   Члены семьи        5000 non-null   int64  \n",
      " 4   Страховые выплаты  5000 non-null   int64  \n",
      "dtypes: float64(2), int64(3)\n",
      "memory usage: 195.4 KB\n"
     ]
    }
   ],
   "source": [
    "data.info()"
   ]
  },
  {
   "cell_type": "code",
   "execution_count": 4,
   "metadata": {},
   "outputs": [
    {
     "data": {
      "text/html": [
       "<div>\n",
       "<style scoped>\n",
       "    .dataframe tbody tr th:only-of-type {\n",
       "        vertical-align: middle;\n",
       "    }\n",
       "\n",
       "    .dataframe tbody tr th {\n",
       "        vertical-align: top;\n",
       "    }\n",
       "\n",
       "    .dataframe thead th {\n",
       "        text-align: right;\n",
       "    }\n",
       "</style>\n",
       "<table border=\"1\" class=\"dataframe\">\n",
       "  <thead>\n",
       "    <tr style=\"text-align: right;\">\n",
       "      <th></th>\n",
       "      <th>Пол</th>\n",
       "      <th>Возраст</th>\n",
       "      <th>Зарплата</th>\n",
       "      <th>Члены семьи</th>\n",
       "      <th>Страховые выплаты</th>\n",
       "    </tr>\n",
       "  </thead>\n",
       "  <tbody>\n",
       "    <tr>\n",
       "      <th>count</th>\n",
       "      <td>5000.000000</td>\n",
       "      <td>5000.000000</td>\n",
       "      <td>5000.000000</td>\n",
       "      <td>5000.000000</td>\n",
       "      <td>5000.000000</td>\n",
       "    </tr>\n",
       "    <tr>\n",
       "      <th>mean</th>\n",
       "      <td>0.499000</td>\n",
       "      <td>30.952800</td>\n",
       "      <td>39916.360000</td>\n",
       "      <td>1.194200</td>\n",
       "      <td>0.148000</td>\n",
       "    </tr>\n",
       "    <tr>\n",
       "      <th>std</th>\n",
       "      <td>0.500049</td>\n",
       "      <td>8.440807</td>\n",
       "      <td>9900.083569</td>\n",
       "      <td>1.091387</td>\n",
       "      <td>0.463183</td>\n",
       "    </tr>\n",
       "    <tr>\n",
       "      <th>min</th>\n",
       "      <td>0.000000</td>\n",
       "      <td>18.000000</td>\n",
       "      <td>5300.000000</td>\n",
       "      <td>0.000000</td>\n",
       "      <td>0.000000</td>\n",
       "    </tr>\n",
       "    <tr>\n",
       "      <th>25%</th>\n",
       "      <td>0.000000</td>\n",
       "      <td>24.000000</td>\n",
       "      <td>33300.000000</td>\n",
       "      <td>0.000000</td>\n",
       "      <td>0.000000</td>\n",
       "    </tr>\n",
       "    <tr>\n",
       "      <th>50%</th>\n",
       "      <td>0.000000</td>\n",
       "      <td>30.000000</td>\n",
       "      <td>40200.000000</td>\n",
       "      <td>1.000000</td>\n",
       "      <td>0.000000</td>\n",
       "    </tr>\n",
       "    <tr>\n",
       "      <th>75%</th>\n",
       "      <td>1.000000</td>\n",
       "      <td>37.000000</td>\n",
       "      <td>46600.000000</td>\n",
       "      <td>2.000000</td>\n",
       "      <td>0.000000</td>\n",
       "    </tr>\n",
       "    <tr>\n",
       "      <th>max</th>\n",
       "      <td>1.000000</td>\n",
       "      <td>65.000000</td>\n",
       "      <td>79000.000000</td>\n",
       "      <td>6.000000</td>\n",
       "      <td>5.000000</td>\n",
       "    </tr>\n",
       "  </tbody>\n",
       "</table>\n",
       "</div>"
      ],
      "text/plain": [
       "               Пол      Возраст      Зарплата  Члены семьи  Страховые выплаты\n",
       "count  5000.000000  5000.000000   5000.000000  5000.000000        5000.000000\n",
       "mean      0.499000    30.952800  39916.360000     1.194200           0.148000\n",
       "std       0.500049     8.440807   9900.083569     1.091387           0.463183\n",
       "min       0.000000    18.000000   5300.000000     0.000000           0.000000\n",
       "25%       0.000000    24.000000  33300.000000     0.000000           0.000000\n",
       "50%       0.000000    30.000000  40200.000000     1.000000           0.000000\n",
       "75%       1.000000    37.000000  46600.000000     2.000000           0.000000\n",
       "max       1.000000    65.000000  79000.000000     6.000000           5.000000"
      ]
     },
     "execution_count": 4,
     "metadata": {},
     "output_type": "execute_result"
    }
   ],
   "source": [
    "data.describe()"
   ]
  },
  {
   "cell_type": "code",
   "execution_count": 5,
   "metadata": {},
   "outputs": [
    {
     "data": {
      "text/plain": [
       "0    88.72\n",
       "1     8.46\n",
       "2     2.30\n",
       "3     0.36\n",
       "4     0.14\n",
       "5     0.02\n",
       "Name: Страховые выплаты, dtype: float64"
      ]
     },
     "execution_count": 5,
     "metadata": {},
     "output_type": "execute_result"
    }
   ],
   "source": [
    "data['Страховые выплаты'].value_counts()/data.shape[0]*100"
   ]
  },
  {
   "cell_type": "markdown",
   "metadata": {},
   "source": [
    "### Вывод\n",
    "1. Пропусков нет.\n",
    "2. В признаках: \"Пол\", \"Возраст\", \"Члены семьи\", \"Страховые выплаты\" нет аномальных значений. Так, признак \"Пол\" имеет значения 0, 1. \"Возраст\" от 18 до 65. \"Члены семьи\" от 1 до 6. 88.7% респондентов не имеют страховых выплат.Чуть более 10% имеют 1 - 2 выплаты.\n",
    "3. Наименования признаков написаны с большой буквы, кириллицей. Оставим так, для большего удобства сторонних экспертов."
   ]
  },
  {
   "cell_type": "markdown",
   "metadata": {},
   "source": [
    "## Умножение матриц"
   ]
  },
  {
   "cell_type": "markdown",
   "metadata": {},
   "source": [
    "В этом задании вы можете записывать формулы в *Jupyter Notebook.*\n",
    "\n",
    "Чтобы записать формулу внутри текста, окружите её символами доллара \\\\$; если снаружи —  двойными символами \\\\$\\\\$. Эти формулы записываются на языке вёрстки *LaTeX.* \n",
    "\n",
    "Для примера мы записали формулы линейной регрессии. Можете их скопировать и отредактировать, чтобы решить задачу.\n",
    "\n",
    "Работать в *LaTeX* необязательно."
   ]
  },
  {
   "cell_type": "markdown",
   "metadata": {},
   "source": [
    "Обозначения:\n",
    "\n",
    "- $X$ — матрица признаков (нулевой столбец состоит из единиц)\n",
    "\n",
    "- $y$ — вектор целевого признака\n",
    "\n",
    "- $P$ — матрица, на которую умножаются признаки\n",
    "\n",
    "- $w$ — вектор весов линейной регрессии (нулевой элемент равен сдвигу)"
   ]
  },
  {
   "cell_type": "markdown",
   "metadata": {},
   "source": [
    "Предсказания:\n",
    "\n",
    "$$\n",
    "a = Xw\n",
    "$$\n",
    "\n",
    "Задача обучения:\n",
    "\n",
    "$$\n",
    "w = \\arg\\min_w MSE(Xw, y)\n",
    "$$\n",
    "\n",
    "Формула обучения:\n",
    "\n",
    "$$\n",
    "w = (X^T X)^{-1} X^T y\n",
    "$$"
   ]
  },
  {
   "cell_type": "markdown",
   "metadata": {},
   "source": [
    "**Ответ:** Не изменится. Так как предсказания исходныи и измененных данных равны $$(a = a_n)$$\n",
    "\n",
    "**Обоснование:** \n",
    "Обозначим новую матрицу признаков, как \n",
    "\n",
    "$$\n",
    "X_n,  а предсказания, как\n",
    "$$ \n",
    "\n",
    "$$\n",
    "a_n,  тогда\n",
    "$$\n",
    "\n",
    "$$\n",
    "X_n = XP, тогда\n",
    "$$\n"
   ]
  },
  {
   "cell_type": "markdown",
   "metadata": {},
   "source": [
    "$$\n",
    "w_n = ((X_n^TX)^{-1}X_n^Ty = ((XP)^TXP)^{-1}(XP)^Ty = (P^TX^T(XP)^{-1}P^TX^Ty = P^{-1}(X^TX)^{-1}(P^T)^{-1}P^TX^Ty = P^{-1}(X^TX)^{-1}X^Ty = P^{-1}w, \n",
    "$$"
   ]
  },
  {
   "cell_type": "markdown",
   "metadata": {},
   "source": [
    "так как"
   ]
  },
  {
   "cell_type": "markdown",
   "metadata": {},
   "source": [
    "$$\n",
    "(P^T)^{-1}P^T = 1\n",
    "$$"
   ]
  },
  {
   "cell_type": "markdown",
   "metadata": {},
   "source": [
    "тогда"
   ]
  },
  {
   "cell_type": "markdown",
   "metadata": {},
   "source": [
    "$$\n",
    "a_n = X_nw_n = XPP^{-1}w = Xw = a\n",
    "$$"
   ]
  },
  {
   "cell_type": "markdown",
   "metadata": {},
   "source": [
    "## Алгоритм преобразования"
   ]
  },
  {
   "cell_type": "markdown",
   "metadata": {},
   "source": [
    "**Алгоритм**\n",
    "1. Создадим и обучим модель линейной регрессии на исходных данных. Посмотрим значение метрики R2.\n",
    "2. Защитим персональные данные клиентов, умножив матрицу исходных данных X на обратимую матрицу P.\n",
    "3. Воспользуемся ранее созданной моделью на защищенных данных. Посмотрим значение метрики R2.\n",
    "4. Сравним значения метрик."
   ]
  },
  {
   "cell_type": "markdown",
   "metadata": {},
   "source": [
    "**Обоснование**\n",
    "\n",
    "Предсказяния исходных и измененных данных равны при умножении на обратимую матрицу. Такой метод шифрования допустим."
   ]
  },
  {
   "cell_type": "markdown",
   "metadata": {},
   "source": [
    "## Проверка алгоритма"
   ]
  },
  {
   "cell_type": "markdown",
   "metadata": {},
   "source": [
    "Создадим и обучим модель на исходных данных"
   ]
  },
  {
   "cell_type": "code",
   "execution_count": 6,
   "metadata": {},
   "outputs": [],
   "source": [
    "features = data.drop(['Страховые выплаты'], axis=1)\n",
    "target = data['Страховые выплаты']\n",
    "\n",
    "features_train, features_valid, target_train, target_valid = train_test_split(features, target, test_size=.25, \n",
    "                                                                            random_state=12345)"
   ]
  },
  {
   "cell_type": "code",
   "execution_count": 7,
   "metadata": {},
   "outputs": [
    {
     "name": "stdout",
     "output_type": "stream",
     "text": [
      "features_train (3750, 4)\n",
      "target_train (3750,)\n",
      "features_valid (1250, 4)\n",
      "target_valid (1250,)\n"
     ]
    }
   ],
   "source": [
    "print('features_train', features_train.shape)\n",
    "print('target_train', target_train.shape)\n",
    "print('features_valid', features_valid.shape)\n",
    "print('target_valid', target_valid.shape)"
   ]
  },
  {
   "cell_type": "code",
   "execution_count": 8,
   "metadata": {},
   "outputs": [
    {
     "name": "stdout",
     "output_type": "stream",
     "text": [
      "R2 на исходных данных: 0.43522757127026546\n"
     ]
    }
   ],
   "source": [
    "model = LinearRegression()\n",
    "model.fit(features_train, target_train)\n",
    "predictions = model.predict(features_valid)\n",
    "score = r2_score(target_valid, predictions)\n",
    "\n",
    "print('R2 на исходных данных:', score)"
   ]
  },
  {
   "cell_type": "markdown",
   "metadata": {},
   "source": [
    "Зашифруем исходные данные"
   ]
  },
  {
   "cell_type": "code",
   "execution_count": 9,
   "metadata": {},
   "outputs": [],
   "source": [
    "matrix = np.random.normal(size=(features.shape[1],features.shape[1]))\n",
    "inv_matrix = np.linalg.inv(matrix)\n",
    "features_p = features @ inv_matrix\n",
    "features_p.columns = features.columns"
   ]
  },
  {
   "cell_type": "code",
   "execution_count": 10,
   "metadata": {},
   "outputs": [
    {
     "name": "stdout",
     "output_type": "stream",
     "text": [
      "<class 'pandas.core.frame.DataFrame'>\n",
      "RangeIndex: 5000 entries, 0 to 4999\n",
      "Data columns (total 4 columns):\n",
      " #   Column       Non-Null Count  Dtype  \n",
      "---  ------       --------------  -----  \n",
      " 0   Пол          5000 non-null   float64\n",
      " 1   Возраст      5000 non-null   float64\n",
      " 2   Зарплата     5000 non-null   float64\n",
      " 3   Члены семьи  5000 non-null   float64\n",
      "dtypes: float64(4)\n",
      "memory usage: 156.4 KB\n"
     ]
    }
   ],
   "source": [
    "features_p.info()"
   ]
  },
  {
   "cell_type": "code",
   "execution_count": 11,
   "metadata": {},
   "outputs": [
    {
     "data": {
      "text/html": [
       "<div>\n",
       "<style scoped>\n",
       "    .dataframe tbody tr th:only-of-type {\n",
       "        vertical-align: middle;\n",
       "    }\n",
       "\n",
       "    .dataframe tbody tr th {\n",
       "        vertical-align: top;\n",
       "    }\n",
       "\n",
       "    .dataframe thead th {\n",
       "        text-align: right;\n",
       "    }\n",
       "</style>\n",
       "<table border=\"1\" class=\"dataframe\">\n",
       "  <thead>\n",
       "    <tr style=\"text-align: right;\">\n",
       "      <th></th>\n",
       "      <th>Пол</th>\n",
       "      <th>Возраст</th>\n",
       "      <th>Зарплата</th>\n",
       "      <th>Члены семьи</th>\n",
       "    </tr>\n",
       "  </thead>\n",
       "  <tbody>\n",
       "    <tr>\n",
       "      <th>count</th>\n",
       "      <td>5000.000000</td>\n",
       "      <td>5000.000000</td>\n",
       "      <td>5000.000000</td>\n",
       "      <td>5000.000000</td>\n",
       "    </tr>\n",
       "    <tr>\n",
       "      <th>mean</th>\n",
       "      <td>1735.875393</td>\n",
       "      <td>-6163.348906</td>\n",
       "      <td>14103.202422</td>\n",
       "      <td>15965.492895</td>\n",
       "    </tr>\n",
       "    <tr>\n",
       "      <th>std</th>\n",
       "      <td>430.257934</td>\n",
       "      <td>1526.335556</td>\n",
       "      <td>3503.400642</td>\n",
       "      <td>3959.064923</td>\n",
       "    </tr>\n",
       "    <tr>\n",
       "      <th>min</th>\n",
       "      <td>231.591608</td>\n",
       "      <td>-12191.788096</td>\n",
       "      <td>1861.907703</td>\n",
       "      <td>2121.419240</td>\n",
       "    </tr>\n",
       "    <tr>\n",
       "      <th>25%</th>\n",
       "      <td>1448.681208</td>\n",
       "      <td>-7193.585988</td>\n",
       "      <td>11763.998183</td>\n",
       "      <td>13319.797693</td>\n",
       "    </tr>\n",
       "    <tr>\n",
       "      <th>50%</th>\n",
       "      <td>1747.129995</td>\n",
       "      <td>-6204.899478</td>\n",
       "      <td>14201.209102</td>\n",
       "      <td>16077.903347</td>\n",
       "    </tr>\n",
       "    <tr>\n",
       "      <th>75%</th>\n",
       "      <td>2027.250586</td>\n",
       "      <td>-5139.928163</td>\n",
       "      <td>16472.610215</td>\n",
       "      <td>18638.935944</td>\n",
       "    </tr>\n",
       "    <tr>\n",
       "      <th>max</th>\n",
       "      <td>3435.438144</td>\n",
       "      <td>-822.886689</td>\n",
       "      <td>27927.151305</td>\n",
       "      <td>31596.576474</td>\n",
       "    </tr>\n",
       "  </tbody>\n",
       "</table>\n",
       "</div>"
      ],
      "text/plain": [
       "               Пол       Возраст      Зарплата   Члены семьи\n",
       "count  5000.000000   5000.000000   5000.000000   5000.000000\n",
       "mean   1735.875393  -6163.348906  14103.202422  15965.492895\n",
       "std     430.257934   1526.335556   3503.400642   3959.064923\n",
       "min     231.591608 -12191.788096   1861.907703   2121.419240\n",
       "25%    1448.681208  -7193.585988  11763.998183  13319.797693\n",
       "50%    1747.129995  -6204.899478  14201.209102  16077.903347\n",
       "75%    2027.250586  -5139.928163  16472.610215  18638.935944\n",
       "max    3435.438144   -822.886689  27927.151305  31596.576474"
      ]
     },
     "execution_count": 11,
     "metadata": {},
     "output_type": "execute_result"
    }
   ],
   "source": [
    "features_p.describe()"
   ]
  },
  {
   "cell_type": "code",
   "execution_count": 12,
   "metadata": {},
   "outputs": [
    {
     "data": {
      "text/html": [
       "<div>\n",
       "<style scoped>\n",
       "    .dataframe tbody tr th:only-of-type {\n",
       "        vertical-align: middle;\n",
       "    }\n",
       "\n",
       "    .dataframe tbody tr th {\n",
       "        vertical-align: top;\n",
       "    }\n",
       "\n",
       "    .dataframe thead th {\n",
       "        text-align: right;\n",
       "    }\n",
       "</style>\n",
       "<table border=\"1\" class=\"dataframe\">\n",
       "  <thead>\n",
       "    <tr style=\"text-align: right;\">\n",
       "      <th></th>\n",
       "      <th>Пол</th>\n",
       "      <th>Возраст</th>\n",
       "      <th>Зарплата</th>\n",
       "      <th>Члены семьи</th>\n",
       "    </tr>\n",
       "  </thead>\n",
       "  <tbody>\n",
       "    <tr>\n",
       "      <th>0</th>\n",
       "      <td>2156.742605</td>\n",
       "      <td>-7659.755349</td>\n",
       "      <td>17522.232821</td>\n",
       "      <td>19838.271820</td>\n",
       "    </tr>\n",
       "    <tr>\n",
       "      <th>1</th>\n",
       "      <td>1651.967688</td>\n",
       "      <td>-5872.952641</td>\n",
       "      <td>13413.190373</td>\n",
       "      <td>15199.678691</td>\n",
       "    </tr>\n",
       "    <tr>\n",
       "      <th>2</th>\n",
       "      <td>912.391189</td>\n",
       "      <td>-3247.164655</td>\n",
       "      <td>7409.147088</td>\n",
       "      <td>8399.409775</td>\n",
       "    </tr>\n",
       "    <tr>\n",
       "      <th>3</th>\n",
       "      <td>1813.955296</td>\n",
       "      <td>-6434.495574</td>\n",
       "      <td>14742.746358</td>\n",
       "      <td>16679.202389</td>\n",
       "    </tr>\n",
       "    <tr>\n",
       "      <th>4</th>\n",
       "      <td>1134.617177</td>\n",
       "      <td>-4033.124458</td>\n",
       "      <td>9215.014056</td>\n",
       "      <td>10438.800009</td>\n",
       "    </tr>\n",
       "  </tbody>\n",
       "</table>\n",
       "</div>"
      ],
      "text/plain": [
       "           Пол      Возраст      Зарплата   Члены семьи\n",
       "0  2156.742605 -7659.755349  17522.232821  19838.271820\n",
       "1  1651.967688 -5872.952641  13413.190373  15199.678691\n",
       "2   912.391189 -3247.164655   7409.147088   8399.409775\n",
       "3  1813.955296 -6434.495574  14742.746358  16679.202389\n",
       "4  1134.617177 -4033.124458   9215.014056  10438.800009"
      ]
     },
     "execution_count": 12,
     "metadata": {},
     "output_type": "execute_result"
    }
   ],
   "source": [
    "features_p.head()"
   ]
  },
  {
   "cell_type": "markdown",
   "metadata": {},
   "source": [
    "Данные зашифрованы - по ним было сложно восстановить персональную информацию."
   ]
  },
  {
   "cell_type": "markdown",
   "metadata": {},
   "source": [
    "Создадим и обучим модель на зашифрованных данных"
   ]
  },
  {
   "cell_type": "code",
   "execution_count": 13,
   "metadata": {},
   "outputs": [],
   "source": [
    "features_train_p, features_valid_p, target_train, target_valid = train_test_split(features_p, target, \n",
    "                                                                                  test_size=.25, random_state=12345)"
   ]
  },
  {
   "cell_type": "code",
   "execution_count": 14,
   "metadata": {},
   "outputs": [
    {
     "name": "stdout",
     "output_type": "stream",
     "text": [
      "features_train_p (3750, 4)\n",
      "features_valid_p (1250, 4)\n",
      "target_train (3750,)\n",
      "target_valid (1250,)\n"
     ]
    }
   ],
   "source": [
    "print('features_train_p', features_train_p.shape)\n",
    "print('features_valid_p', features_valid_p.shape)\n",
    "print('target_train', target_train.shape)\n",
    "print('target_valid', target_valid.shape)"
   ]
  },
  {
   "cell_type": "code",
   "execution_count": 15,
   "metadata": {},
   "outputs": [
    {
     "name": "stdout",
     "output_type": "stream",
     "text": [
      "R2 на зашифрованных данных: 0.4352275712702951\n"
     ]
    }
   ],
   "source": [
    "model.fit(features_train_p, target_train)\n",
    "predictions_p = model.predict(features_valid_p)\n",
    "score_p = r2_score(target_valid, predictions_p)\n",
    "print('R2 на зашифрованных данных:', score_p)"
   ]
  },
  {
   "cell_type": "markdown",
   "metadata": {},
   "source": [
    "### Вывод\n",
    "Качество линейной регрессии из sklearn не отличается до и после преобразования. Метрика R2 в обоих случаях равна 0.4352."
   ]
  },
  {
   "cell_type": "markdown",
   "metadata": {},
   "source": [
    "## Вывод"
   ]
  },
  {
   "cell_type": "markdown",
   "metadata": {},
   "source": [
    "1. Были получены данные о клиентах страховой компании «Хоть потоп». Структура данных: \"Пол\", \"Возраст\", \"Зарплата\", \"Члены семьи\", \"Страховые выплаты\". Выбросов и аномалий в данных нет. \n",
    "\n",
    "2. Для защиты персональной информации, исходные данные были умножены на обратимую матрицу. Матрица данных приобрела вид, затрудняющий получение персональных данных.\n",
    "\n",
    "3. Для проверки качества линейной регрессии, на исходных и измененных данных, были созданы модели линейной регресии. Метрика R2, отражающая качество линейной регресии, в обоих случаях, показала одинаковый результат. Качество линейней регрессии на исходных и измененных данных одинаково."
   ]
  },
  {
   "cell_type": "markdown",
   "metadata": {},
   "source": [
    "## Чек-лист проверки"
   ]
  },
  {
   "cell_type": "markdown",
   "metadata": {},
   "source": [
    "Поставьте 'x' в выполненных пунктах. Далее нажмите Shift+Enter."
   ]
  },
  {
   "cell_type": "markdown",
   "metadata": {},
   "source": [
    "- [x]  Jupyter Notebook открыт\n",
    "- [x]  Весь код выполняется без ошибок\n",
    "- [x]  Ячейки с кодом расположены в порядке исполнения\n",
    "- [x]  Выполнен шаг 1: данные загружены\n",
    "- [x]  Выполнен шаг 2: получен ответ на вопрос об умножении матриц\n",
    "    - [x]  Указан правильный вариант ответа\n",
    "    - [x]  Вариант обоснован\n",
    "- [x]  Выполнен шаг 3: предложен алгоритм преобразования\n",
    "    - [x]  Алгоритм описан\n",
    "    - [x]  Алгоритм обоснован\n",
    "- [x]  Выполнен шаг 4: алгоритм проверен\n",
    "    - [x]  Алгоритм реализован\n",
    "    - [x]  Проведено сравнение качества моделей до и после преобразования"
   ]
  },
  {
   "cell_type": "code",
   "execution_count": null,
   "metadata": {},
   "outputs": [],
   "source": []
  }
 ],
 "metadata": {
  "ExecuteTimeLog": [
   {
    "duration": 882,
    "start_time": "2022-06-10T19:10:12.618Z"
   },
   {
    "duration": 77,
    "start_time": "2022-06-10T19:10:14.713Z"
   },
   {
    "duration": 10,
    "start_time": "2022-06-10T19:10:30.675Z"
   },
   {
    "duration": 24,
    "start_time": "2022-06-10T19:10:55.812Z"
   },
   {
    "duration": 8,
    "start_time": "2022-06-10T19:23:04.283Z"
   },
   {
    "duration": 6,
    "start_time": "2022-06-10T19:23:38.758Z"
   },
   {
    "duration": 6,
    "start_time": "2022-06-10T19:23:55.763Z"
   },
   {
    "duration": 31,
    "start_time": "2022-06-11T11:02:37.309Z"
   },
   {
    "duration": 46,
    "start_time": "2022-06-11T18:38:01.887Z"
   },
   {
    "duration": 1013,
    "start_time": "2022-06-11T18:43:59.866Z"
   },
   {
    "duration": 27,
    "start_time": "2022-06-11T18:44:00.880Z"
   },
   {
    "duration": 11,
    "start_time": "2022-06-11T18:44:00.908Z"
   },
   {
    "duration": 33,
    "start_time": "2022-06-11T18:44:00.922Z"
   },
   {
    "duration": 7,
    "start_time": "2022-06-11T18:44:00.956Z"
   },
   {
    "duration": 11,
    "start_time": "2022-06-11T18:44:00.964Z"
   },
   {
    "duration": 4,
    "start_time": "2022-06-11T18:52:58.658Z"
   },
   {
    "duration": 85,
    "start_time": "2022-06-11T18:53:57.766Z"
   },
   {
    "duration": 11,
    "start_time": "2022-06-11T18:54:05.553Z"
   },
   {
    "duration": 5,
    "start_time": "2022-06-11T19:01:12.101Z"
   },
   {
    "duration": 5,
    "start_time": "2022-06-11T19:01:52.396Z"
   },
   {
    "duration": 8,
    "start_time": "2022-06-11T19:09:35.099Z"
   },
   {
    "duration": 9,
    "start_time": "2022-06-11T19:11:33.062Z"
   },
   {
    "duration": 9,
    "start_time": "2022-06-11T19:13:08.705Z"
   },
   {
    "duration": 7,
    "start_time": "2022-06-11T19:13:43.422Z"
   },
   {
    "duration": 9,
    "start_time": "2022-06-11T19:13:58.735Z"
   },
   {
    "duration": 11,
    "start_time": "2022-06-11T19:19:58.054Z"
   },
   {
    "duration": 12,
    "start_time": "2022-06-11T19:20:15.490Z"
   },
   {
    "duration": 5,
    "start_time": "2022-06-11T19:20:47.709Z"
   },
   {
    "duration": 13,
    "start_time": "2022-06-11T19:20:48.561Z"
   },
   {
    "duration": 15,
    "start_time": "2022-06-11T19:21:10.797Z"
   },
   {
    "duration": 28,
    "start_time": "2022-06-11T19:21:15.064Z"
   },
   {
    "duration": 5,
    "start_time": "2022-06-11T19:29:23.800Z"
   },
   {
    "duration": 3,
    "start_time": "2022-06-11T19:29:24.506Z"
   },
   {
    "duration": 6,
    "start_time": "2022-06-11T19:30:59.651Z"
   },
   {
    "duration": 13,
    "start_time": "2022-06-11T19:31:39.475Z"
   },
   {
    "duration": 8,
    "start_time": "2022-06-11T19:32:04.676Z"
   },
   {
    "duration": 9,
    "start_time": "2022-06-11T19:32:22.861Z"
   },
   {
    "duration": 9,
    "start_time": "2022-06-11T19:38:55.568Z"
   },
   {
    "duration": 1007,
    "start_time": "2022-06-11T19:39:12.193Z"
   },
   {
    "duration": 26,
    "start_time": "2022-06-11T19:39:13.202Z"
   },
   {
    "duration": 10,
    "start_time": "2022-06-11T19:39:13.230Z"
   },
   {
    "duration": 39,
    "start_time": "2022-06-11T19:39:13.242Z"
   },
   {
    "duration": 7,
    "start_time": "2022-06-11T19:39:13.282Z"
   },
   {
    "duration": 4,
    "start_time": "2022-06-11T19:39:13.290Z"
   },
   {
    "duration": 17,
    "start_time": "2022-06-11T19:39:13.295Z"
   },
   {
    "duration": 16,
    "start_time": "2022-06-11T19:39:13.313Z"
   },
   {
    "duration": 14,
    "start_time": "2022-06-11T19:39:13.331Z"
   },
   {
    "duration": 25,
    "start_time": "2022-06-11T19:39:13.347Z"
   },
   {
    "duration": 5,
    "start_time": "2022-06-11T19:39:13.374Z"
   },
   {
    "duration": 105,
    "start_time": "2022-06-11T19:39:13.380Z"
   },
   {
    "duration": 103,
    "start_time": "2022-06-11T19:39:13.487Z"
   },
   {
    "duration": 5,
    "start_time": "2022-06-11T19:39:13.592Z"
   },
   {
    "duration": 18,
    "start_time": "2022-06-11T19:39:13.599Z"
   },
   {
    "duration": 93,
    "start_time": "2022-06-11T19:39:13.618Z"
   },
   {
    "duration": 0,
    "start_time": "2022-06-11T19:39:13.712Z"
   },
   {
    "duration": 9,
    "start_time": "2022-06-11T19:39:34.026Z"
   },
   {
    "duration": 11,
    "start_time": "2022-06-11T19:40:48.670Z"
   },
   {
    "duration": 10,
    "start_time": "2022-06-11T19:41:03.393Z"
   },
   {
    "duration": 12,
    "start_time": "2022-06-11T19:41:13.241Z"
   },
   {
    "duration": 932,
    "start_time": "2022-06-11T19:41:24.897Z"
   },
   {
    "duration": 26,
    "start_time": "2022-06-11T19:41:25.831Z"
   },
   {
    "duration": 10,
    "start_time": "2022-06-11T19:41:25.859Z"
   },
   {
    "duration": 27,
    "start_time": "2022-06-11T19:41:25.871Z"
   },
   {
    "duration": 7,
    "start_time": "2022-06-11T19:41:25.900Z"
   },
   {
    "duration": 2,
    "start_time": "2022-06-11T19:41:25.908Z"
   },
   {
    "duration": 5,
    "start_time": "2022-06-11T19:41:25.912Z"
   },
   {
    "duration": 5,
    "start_time": "2022-06-11T19:41:25.918Z"
   },
   {
    "duration": 5,
    "start_time": "2022-06-11T19:41:25.925Z"
   },
   {
    "duration": 8,
    "start_time": "2022-06-11T19:41:25.932Z"
   },
   {
    "duration": 37,
    "start_time": "2022-06-11T19:41:25.941Z"
   },
   {
    "duration": 10,
    "start_time": "2022-06-11T19:41:25.979Z"
   },
   {
    "duration": 101,
    "start_time": "2022-06-11T19:41:25.991Z"
   },
   {
    "duration": 4,
    "start_time": "2022-06-11T19:41:26.093Z"
   },
   {
    "duration": 8,
    "start_time": "2022-06-11T19:41:26.098Z"
   },
   {
    "duration": 103,
    "start_time": "2022-06-11T19:41:26.108Z"
   },
   {
    "duration": 0,
    "start_time": "2022-06-11T19:41:26.213Z"
   },
   {
    "duration": 11,
    "start_time": "2022-06-11T19:41:34.442Z"
   },
   {
    "duration": 8,
    "start_time": "2022-06-11T19:46:09.414Z"
   },
   {
    "duration": 5,
    "start_time": "2022-06-11T19:51:28.611Z"
   },
   {
    "duration": 5,
    "start_time": "2022-06-11T19:51:29.274Z"
   },
   {
    "duration": 11,
    "start_time": "2022-06-11T19:51:50.062Z"
   },
   {
    "duration": 876,
    "start_time": "2022-06-11T19:54:12.905Z"
   },
   {
    "duration": 27,
    "start_time": "2022-06-11T19:54:13.782Z"
   },
   {
    "duration": 12,
    "start_time": "2022-06-11T19:54:13.811Z"
   },
   {
    "duration": 32,
    "start_time": "2022-06-11T19:54:13.825Z"
   },
   {
    "duration": 9,
    "start_time": "2022-06-11T19:54:13.859Z"
   },
   {
    "duration": 9,
    "start_time": "2022-06-11T19:54:13.870Z"
   },
   {
    "duration": 6,
    "start_time": "2022-06-11T19:54:13.881Z"
   },
   {
    "duration": 9,
    "start_time": "2022-06-11T19:54:13.888Z"
   },
   {
    "duration": 5,
    "start_time": "2022-06-11T19:54:13.898Z"
   },
   {
    "duration": 12,
    "start_time": "2022-06-11T19:54:13.905Z"
   },
   {
    "duration": 6,
    "start_time": "2022-06-11T19:54:13.919Z"
   },
   {
    "duration": 56,
    "start_time": "2022-06-11T19:54:13.927Z"
   },
   {
    "duration": 101,
    "start_time": "2022-06-11T19:54:13.984Z"
   },
   {
    "duration": 8,
    "start_time": "2022-06-11T19:54:14.087Z"
   },
   {
    "duration": 9,
    "start_time": "2022-06-11T19:54:14.097Z"
   },
   {
    "duration": 9,
    "start_time": "2022-06-11T19:54:14.109Z"
   },
   {
    "duration": 13,
    "start_time": "2022-06-11T19:54:14.120Z"
   },
   {
    "duration": 850,
    "start_time": "2022-06-11T19:58:48.931Z"
   },
   {
    "duration": 26,
    "start_time": "2022-06-11T19:58:49.783Z"
   },
   {
    "duration": 11,
    "start_time": "2022-06-11T19:58:49.810Z"
   },
   {
    "duration": 24,
    "start_time": "2022-06-11T19:58:49.823Z"
   },
   {
    "duration": 9,
    "start_time": "2022-06-11T19:58:49.848Z"
   },
   {
    "duration": 3,
    "start_time": "2022-06-11T19:58:49.859Z"
   },
   {
    "duration": 14,
    "start_time": "2022-06-11T19:58:49.864Z"
   },
   {
    "duration": 7,
    "start_time": "2022-06-11T19:58:49.880Z"
   },
   {
    "duration": 6,
    "start_time": "2022-06-11T19:58:49.888Z"
   },
   {
    "duration": 10,
    "start_time": "2022-06-11T19:58:49.897Z"
   },
   {
    "duration": 4,
    "start_time": "2022-06-11T19:58:49.909Z"
   },
   {
    "duration": 113,
    "start_time": "2022-06-11T19:58:49.914Z"
   },
   {
    "duration": 0,
    "start_time": "2022-06-11T19:58:50.028Z"
   },
   {
    "duration": 0,
    "start_time": "2022-06-11T19:58:50.029Z"
   },
   {
    "duration": 0,
    "start_time": "2022-06-11T19:58:50.030Z"
   },
   {
    "duration": 0,
    "start_time": "2022-06-11T19:58:50.033Z"
   },
   {
    "duration": 0,
    "start_time": "2022-06-11T19:58:50.034Z"
   },
   {
    "duration": 0,
    "start_time": "2022-06-11T19:58:50.036Z"
   },
   {
    "duration": 0,
    "start_time": "2022-06-11T19:58:50.037Z"
   },
   {
    "duration": 0,
    "start_time": "2022-06-11T19:58:50.039Z"
   },
   {
    "duration": 0,
    "start_time": "2022-06-11T19:58:50.040Z"
   },
   {
    "duration": 0,
    "start_time": "2022-06-11T19:58:50.041Z"
   },
   {
    "duration": 0,
    "start_time": "2022-06-11T19:58:50.042Z"
   },
   {
    "duration": 977,
    "start_time": "2022-06-11T20:00:11.717Z"
   },
   {
    "duration": 29,
    "start_time": "2022-06-11T20:00:12.696Z"
   },
   {
    "duration": 15,
    "start_time": "2022-06-11T20:00:12.727Z"
   },
   {
    "duration": 33,
    "start_time": "2022-06-11T20:00:12.744Z"
   },
   {
    "duration": 9,
    "start_time": "2022-06-11T20:00:12.780Z"
   },
   {
    "duration": 3,
    "start_time": "2022-06-11T20:00:12.791Z"
   },
   {
    "duration": 12,
    "start_time": "2022-06-11T20:00:12.796Z"
   },
   {
    "duration": 6,
    "start_time": "2022-06-11T20:00:12.809Z"
   },
   {
    "duration": 5,
    "start_time": "2022-06-11T20:00:12.816Z"
   },
   {
    "duration": 9,
    "start_time": "2022-06-11T20:00:12.823Z"
   },
   {
    "duration": 7,
    "start_time": "2022-06-11T20:00:12.833Z"
   },
   {
    "duration": 37,
    "start_time": "2022-06-11T20:00:12.841Z"
   },
   {
    "duration": 13,
    "start_time": "2022-06-11T20:00:12.880Z"
   },
   {
    "duration": 88,
    "start_time": "2022-06-11T20:00:12.899Z"
   },
   {
    "duration": 10,
    "start_time": "2022-06-11T20:00:12.989Z"
   },
   {
    "duration": 169,
    "start_time": "2022-06-11T20:00:13.001Z"
   },
   {
    "duration": 0,
    "start_time": "2022-06-11T20:00:13.178Z"
   },
   {
    "duration": 0,
    "start_time": "2022-06-11T20:00:13.179Z"
   },
   {
    "duration": 0,
    "start_time": "2022-06-11T20:00:13.180Z"
   },
   {
    "duration": 0,
    "start_time": "2022-06-11T20:00:13.181Z"
   },
   {
    "duration": 0,
    "start_time": "2022-06-11T20:00:13.183Z"
   },
   {
    "duration": 0,
    "start_time": "2022-06-11T20:00:13.184Z"
   },
   {
    "duration": 0,
    "start_time": "2022-06-11T20:00:13.185Z"
   },
   {
    "duration": 11,
    "start_time": "2022-06-11T20:12:25.109Z"
   },
   {
    "duration": 944,
    "start_time": "2022-06-11T20:22:33.671Z"
   },
   {
    "duration": 25,
    "start_time": "2022-06-11T20:22:34.617Z"
   },
   {
    "duration": 12,
    "start_time": "2022-06-11T20:22:34.644Z"
   },
   {
    "duration": 24,
    "start_time": "2022-06-11T20:22:34.657Z"
   },
   {
    "duration": 6,
    "start_time": "2022-06-11T20:22:34.683Z"
   },
   {
    "duration": 3,
    "start_time": "2022-06-11T20:22:34.690Z"
   },
   {
    "duration": 6,
    "start_time": "2022-06-11T20:22:34.694Z"
   },
   {
    "duration": 6,
    "start_time": "2022-06-11T20:22:34.701Z"
   },
   {
    "duration": 6,
    "start_time": "2022-06-11T20:22:34.708Z"
   },
   {
    "duration": 9,
    "start_time": "2022-06-11T20:22:34.715Z"
   },
   {
    "duration": 7,
    "start_time": "2022-06-11T20:22:34.726Z"
   },
   {
    "duration": 12,
    "start_time": "2022-06-11T20:22:34.735Z"
   },
   {
    "duration": 31,
    "start_time": "2022-06-11T20:22:34.748Z"
   },
   {
    "duration": 5,
    "start_time": "2022-06-11T20:22:34.782Z"
   },
   {
    "duration": 9,
    "start_time": "2022-06-11T20:22:34.788Z"
   },
   {
    "duration": 6,
    "start_time": "2022-06-11T20:22:34.878Z"
   },
   {
    "duration": 10,
    "start_time": "2022-06-11T20:22:34.885Z"
   },
   {
    "duration": 7,
    "start_time": "2022-06-11T20:22:34.896Z"
   },
   {
    "duration": 5,
    "start_time": "2022-06-11T20:22:34.904Z"
   },
   {
    "duration": 5,
    "start_time": "2022-06-11T20:22:34.910Z"
   },
   {
    "duration": 110,
    "start_time": "2022-06-11T20:22:34.916Z"
   },
   {
    "duration": 0,
    "start_time": "2022-06-11T20:22:35.027Z"
   },
   {
    "duration": 0,
    "start_time": "2022-06-11T20:22:35.028Z"
   },
   {
    "duration": 0,
    "start_time": "2022-06-11T20:22:35.029Z"
   },
   {
    "duration": 875,
    "start_time": "2022-06-11T20:23:23.830Z"
   },
   {
    "duration": 26,
    "start_time": "2022-06-11T20:23:24.706Z"
   },
   {
    "duration": 11,
    "start_time": "2022-06-11T20:23:24.734Z"
   },
   {
    "duration": 28,
    "start_time": "2022-06-11T20:23:24.747Z"
   },
   {
    "duration": 6,
    "start_time": "2022-06-11T20:23:24.777Z"
   },
   {
    "duration": 6,
    "start_time": "2022-06-11T20:23:24.784Z"
   },
   {
    "duration": 6,
    "start_time": "2022-06-11T20:23:24.791Z"
   },
   {
    "duration": 7,
    "start_time": "2022-06-11T20:23:24.798Z"
   },
   {
    "duration": 5,
    "start_time": "2022-06-11T20:23:24.806Z"
   },
   {
    "duration": 11,
    "start_time": "2022-06-11T20:23:24.813Z"
   },
   {
    "duration": 9,
    "start_time": "2022-06-11T20:23:24.826Z"
   },
   {
    "duration": 8,
    "start_time": "2022-06-11T20:23:24.836Z"
   },
   {
    "duration": 35,
    "start_time": "2022-06-11T20:23:24.845Z"
   },
   {
    "duration": 6,
    "start_time": "2022-06-11T20:23:24.881Z"
   },
   {
    "duration": 5,
    "start_time": "2022-06-11T20:23:24.888Z"
   },
   {
    "duration": 84,
    "start_time": "2022-06-11T20:23:24.894Z"
   },
   {
    "duration": 2,
    "start_time": "2022-06-11T20:23:24.980Z"
   },
   {
    "duration": 8,
    "start_time": "2022-06-11T20:23:24.983Z"
   },
   {
    "duration": 6,
    "start_time": "2022-06-11T20:23:24.992Z"
   },
   {
    "duration": 5,
    "start_time": "2022-06-11T20:23:24.999Z"
   },
   {
    "duration": 5,
    "start_time": "2022-06-11T20:23:25.005Z"
   },
   {
    "duration": 7,
    "start_time": "2022-06-11T20:23:25.011Z"
   },
   {
    "duration": 5,
    "start_time": "2022-06-11T20:23:25.019Z"
   },
   {
    "duration": 10,
    "start_time": "2022-06-11T20:23:25.026Z"
   },
   {
    "duration": 939,
    "start_time": "2022-06-11T20:24:05.013Z"
   },
   {
    "duration": 26,
    "start_time": "2022-06-11T20:24:05.953Z"
   },
   {
    "duration": 11,
    "start_time": "2022-06-11T20:24:05.981Z"
   },
   {
    "duration": 28,
    "start_time": "2022-06-11T20:24:05.994Z"
   },
   {
    "duration": 7,
    "start_time": "2022-06-11T20:24:06.023Z"
   },
   {
    "duration": 2,
    "start_time": "2022-06-11T20:24:06.032Z"
   },
   {
    "duration": 6,
    "start_time": "2022-06-11T20:24:06.036Z"
   },
   {
    "duration": 7,
    "start_time": "2022-06-11T20:24:06.044Z"
   },
   {
    "duration": 26,
    "start_time": "2022-06-11T20:24:06.052Z"
   },
   {
    "duration": 10,
    "start_time": "2022-06-11T20:24:06.080Z"
   },
   {
    "duration": 5,
    "start_time": "2022-06-11T20:24:06.091Z"
   },
   {
    "duration": 6,
    "start_time": "2022-06-11T20:24:06.098Z"
   },
   {
    "duration": 5,
    "start_time": "2022-06-11T20:24:06.105Z"
   },
   {
    "duration": 67,
    "start_time": "2022-06-11T20:24:06.112Z"
   },
   {
    "duration": 4,
    "start_time": "2022-06-11T20:24:06.181Z"
   },
   {
    "duration": 6,
    "start_time": "2022-06-11T20:24:06.187Z"
   },
   {
    "duration": 84,
    "start_time": "2022-06-11T20:24:06.194Z"
   },
   {
    "duration": 2,
    "start_time": "2022-06-11T20:24:06.280Z"
   },
   {
    "duration": 10,
    "start_time": "2022-06-11T20:24:06.283Z"
   },
   {
    "duration": 6,
    "start_time": "2022-06-11T20:24:06.295Z"
   },
   {
    "duration": 8,
    "start_time": "2022-06-11T20:24:06.302Z"
   },
   {
    "duration": 7,
    "start_time": "2022-06-11T20:24:06.312Z"
   },
   {
    "duration": 5,
    "start_time": "2022-06-11T20:24:06.320Z"
   },
   {
    "duration": 8,
    "start_time": "2022-06-11T20:24:06.326Z"
   },
   {
    "duration": 9,
    "start_time": "2022-06-11T20:24:31.491Z"
   },
   {
    "duration": 7,
    "start_time": "2022-06-11T20:24:41.122Z"
   },
   {
    "duration": 967,
    "start_time": "2022-06-11T20:26:04.503Z"
   },
   {
    "duration": 43,
    "start_time": "2022-06-11T20:26:05.472Z"
   },
   {
    "duration": 15,
    "start_time": "2022-06-11T20:26:05.516Z"
   },
   {
    "duration": 32,
    "start_time": "2022-06-11T20:26:05.534Z"
   },
   {
    "duration": 6,
    "start_time": "2022-06-11T20:26:05.567Z"
   },
   {
    "duration": 8,
    "start_time": "2022-06-11T20:26:05.574Z"
   },
   {
    "duration": 11,
    "start_time": "2022-06-11T20:26:05.583Z"
   },
   {
    "duration": 7,
    "start_time": "2022-06-11T20:26:05.595Z"
   },
   {
    "duration": 7,
    "start_time": "2022-06-11T20:26:05.603Z"
   },
   {
    "duration": 15,
    "start_time": "2022-06-11T20:26:05.613Z"
   },
   {
    "duration": 6,
    "start_time": "2022-06-11T20:26:05.629Z"
   },
   {
    "duration": 16,
    "start_time": "2022-06-11T20:26:05.637Z"
   },
   {
    "duration": 11,
    "start_time": "2022-06-11T20:26:05.655Z"
   },
   {
    "duration": 22,
    "start_time": "2022-06-11T20:26:05.667Z"
   },
   {
    "duration": 7,
    "start_time": "2022-06-11T20:26:05.691Z"
   },
   {
    "duration": 78,
    "start_time": "2022-06-11T20:26:05.700Z"
   },
   {
    "duration": 2,
    "start_time": "2022-06-11T20:26:05.780Z"
   },
   {
    "duration": 10,
    "start_time": "2022-06-11T20:26:05.784Z"
   },
   {
    "duration": 11,
    "start_time": "2022-06-11T20:26:05.796Z"
   },
   {
    "duration": 7,
    "start_time": "2022-06-11T20:26:05.808Z"
   },
   {
    "duration": 7,
    "start_time": "2022-06-11T20:26:05.816Z"
   },
   {
    "duration": 7,
    "start_time": "2022-06-11T20:26:05.824Z"
   },
   {
    "duration": 47,
    "start_time": "2022-06-11T20:26:05.832Z"
   },
   {
    "duration": 6,
    "start_time": "2022-06-11T20:26:05.880Z"
   },
   {
    "duration": 5,
    "start_time": "2022-06-11T20:28:42.665Z"
   },
   {
    "duration": 5,
    "start_time": "2022-06-11T20:28:43.436Z"
   },
   {
    "duration": 4,
    "start_time": "2022-06-11T20:30:01.486Z"
   },
   {
    "duration": 5,
    "start_time": "2022-06-11T20:30:02.709Z"
   },
   {
    "duration": 4,
    "start_time": "2022-06-11T20:30:03.541Z"
   },
   {
    "duration": 5,
    "start_time": "2022-06-11T20:31:54.273Z"
   },
   {
    "duration": 4,
    "start_time": "2022-06-11T20:31:55.297Z"
   },
   {
    "duration": 5,
    "start_time": "2022-06-11T20:32:27.247Z"
   },
   {
    "duration": 4,
    "start_time": "2022-06-11T20:32:27.955Z"
   },
   {
    "duration": 6,
    "start_time": "2022-06-11T20:32:31.692Z"
   },
   {
    "duration": 4,
    "start_time": "2022-06-11T20:32:32.293Z"
   },
   {
    "duration": 6,
    "start_time": "2022-06-11T20:32:53.754Z"
   },
   {
    "duration": 5,
    "start_time": "2022-06-11T20:32:54.390Z"
   },
   {
    "duration": 4,
    "start_time": "2022-06-11T20:33:22.762Z"
   },
   {
    "duration": 4,
    "start_time": "2022-06-11T20:33:23.366Z"
   },
   {
    "duration": 12,
    "start_time": "2022-06-11T20:33:27.698Z"
   },
   {
    "duration": 4,
    "start_time": "2022-06-11T20:33:33.712Z"
   },
   {
    "duration": 7,
    "start_time": "2022-06-11T20:33:34.466Z"
   },
   {
    "duration": 4,
    "start_time": "2022-06-11T20:33:36.918Z"
   },
   {
    "duration": 5,
    "start_time": "2022-06-11T20:33:37.643Z"
   },
   {
    "duration": 4,
    "start_time": "2022-06-11T20:33:40.093Z"
   },
   {
    "duration": 2,
    "start_time": "2022-06-11T20:33:41.274Z"
   },
   {
    "duration": 2,
    "start_time": "2022-06-11T20:33:41.911Z"
   },
   {
    "duration": 2,
    "start_time": "2022-06-11T20:33:42.493Z"
   },
   {
    "duration": 6,
    "start_time": "2022-06-11T20:33:43.086Z"
   },
   {
    "duration": 4,
    "start_time": "2022-06-11T20:33:56.194Z"
   },
   {
    "duration": 4,
    "start_time": "2022-06-11T20:33:56.954Z"
   },
   {
    "duration": 8,
    "start_time": "2022-06-11T20:33:57.812Z"
   },
   {
    "duration": 1028,
    "start_time": "2022-06-11T20:36:29.567Z"
   },
   {
    "duration": 26,
    "start_time": "2022-06-11T20:36:30.597Z"
   },
   {
    "duration": 11,
    "start_time": "2022-06-11T20:36:30.625Z"
   },
   {
    "duration": 30,
    "start_time": "2022-06-11T20:36:30.638Z"
   },
   {
    "duration": 7,
    "start_time": "2022-06-11T20:36:30.669Z"
   },
   {
    "duration": 26,
    "start_time": "2022-06-11T20:36:30.677Z"
   },
   {
    "duration": 7,
    "start_time": "2022-06-11T20:36:30.705Z"
   },
   {
    "duration": 13,
    "start_time": "2022-06-11T20:36:30.713Z"
   },
   {
    "duration": 19,
    "start_time": "2022-06-11T20:36:30.727Z"
   },
   {
    "duration": 13,
    "start_time": "2022-06-11T20:36:30.748Z"
   },
   {
    "duration": 14,
    "start_time": "2022-06-11T20:36:30.762Z"
   },
   {
    "duration": 120,
    "start_time": "2022-06-11T20:36:30.777Z"
   },
   {
    "duration": 0,
    "start_time": "2022-06-11T20:36:30.898Z"
   },
   {
    "duration": 0,
    "start_time": "2022-06-11T20:36:30.899Z"
   },
   {
    "duration": 0,
    "start_time": "2022-06-11T20:36:30.900Z"
   },
   {
    "duration": 0,
    "start_time": "2022-06-11T20:36:30.901Z"
   },
   {
    "duration": 0,
    "start_time": "2022-06-11T20:36:30.902Z"
   },
   {
    "duration": 0,
    "start_time": "2022-06-11T20:36:30.902Z"
   },
   {
    "duration": 0,
    "start_time": "2022-06-11T20:36:30.903Z"
   },
   {
    "duration": 0,
    "start_time": "2022-06-11T20:36:30.904Z"
   },
   {
    "duration": 0,
    "start_time": "2022-06-11T20:36:30.905Z"
   },
   {
    "duration": 0,
    "start_time": "2022-06-11T20:36:30.905Z"
   },
   {
    "duration": 0,
    "start_time": "2022-06-11T20:36:30.906Z"
   },
   {
    "duration": 0,
    "start_time": "2022-06-11T20:36:30.907Z"
   },
   {
    "duration": 4,
    "start_time": "2022-06-11T20:36:58.137Z"
   },
   {
    "duration": 3,
    "start_time": "2022-06-11T20:37:06.365Z"
   },
   {
    "duration": 5,
    "start_time": "2022-06-11T20:37:12.101Z"
   },
   {
    "duration": 4,
    "start_time": "2022-06-11T20:37:17.213Z"
   },
   {
    "duration": 5,
    "start_time": "2022-06-11T20:44:06.098Z"
   },
   {
    "duration": 4,
    "start_time": "2022-06-11T20:44:07.800Z"
   },
   {
    "duration": 7,
    "start_time": "2022-06-11T20:44:08.529Z"
   },
   {
    "duration": 5,
    "start_time": "2022-06-11T20:44:09.209Z"
   },
   {
    "duration": 4,
    "start_time": "2022-06-11T20:44:41.197Z"
   },
   {
    "duration": 3,
    "start_time": "2022-06-11T20:44:42.216Z"
   },
   {
    "duration": 11,
    "start_time": "2022-06-11T20:45:57.342Z"
   },
   {
    "duration": 11,
    "start_time": "2022-06-11T20:46:30.213Z"
   },
   {
    "duration": 8,
    "start_time": "2022-06-11T20:46:32.746Z"
   },
   {
    "duration": 3,
    "start_time": "2022-06-11T20:46:36.567Z"
   },
   {
    "duration": 4,
    "start_time": "2022-06-11T20:46:37.808Z"
   },
   {
    "duration": 8,
    "start_time": "2022-06-11T20:46:38.383Z"
   },
   {
    "duration": 4,
    "start_time": "2022-06-11T20:46:38.945Z"
   },
   {
    "duration": 8,
    "start_time": "2022-06-11T20:46:39.754Z"
   },
   {
    "duration": 4,
    "start_time": "2022-06-11T20:47:18.365Z"
   },
   {
    "duration": 11,
    "start_time": "2022-06-11T20:47:19.340Z"
   },
   {
    "duration": 30,
    "start_time": "2022-06-11T20:47:22.930Z"
   },
   {
    "duration": 9,
    "start_time": "2022-06-11T20:47:24.059Z"
   },
   {
    "duration": 13,
    "start_time": "2022-06-11T20:48:56.452Z"
   },
   {
    "duration": 6,
    "start_time": "2022-06-11T20:49:15.514Z"
   },
   {
    "duration": 15,
    "start_time": "2022-06-11T20:49:17.286Z"
   },
   {
    "duration": 4,
    "start_time": "2022-06-11T20:49:58.345Z"
   },
   {
    "duration": 15,
    "start_time": "2022-06-11T20:51:44.380Z"
   },
   {
    "duration": 12,
    "start_time": "2022-06-11T20:51:52.323Z"
   },
   {
    "duration": 5,
    "start_time": "2022-06-11T20:51:56.208Z"
   },
   {
    "duration": 4,
    "start_time": "2022-06-11T20:52:03.472Z"
   },
   {
    "duration": 14,
    "start_time": "2022-06-11T20:52:04.461Z"
   },
   {
    "duration": 5,
    "start_time": "2022-06-11T20:52:07.603Z"
   },
   {
    "duration": 5,
    "start_time": "2022-06-11T20:52:08.241Z"
   },
   {
    "duration": 11,
    "start_time": "2022-06-11T20:52:08.942Z"
   },
   {
    "duration": 5,
    "start_time": "2022-06-11T20:52:20.303Z"
   },
   {
    "duration": 4,
    "start_time": "2022-06-11T20:52:20.906Z"
   },
   {
    "duration": 10,
    "start_time": "2022-06-11T20:52:21.540Z"
   },
   {
    "duration": 5,
    "start_time": "2022-06-11T20:52:23.924Z"
   },
   {
    "duration": 4,
    "start_time": "2022-06-11T20:52:24.449Z"
   },
   {
    "duration": 10,
    "start_time": "2022-06-11T20:52:24.998Z"
   },
   {
    "duration": 5,
    "start_time": "2022-06-11T20:52:30.037Z"
   },
   {
    "duration": 6,
    "start_time": "2022-06-11T20:52:30.514Z"
   },
   {
    "duration": 9,
    "start_time": "2022-06-11T20:52:31.093Z"
   },
   {
    "duration": 2808,
    "start_time": "2022-06-11T20:57:45.806Z"
   },
   {
    "duration": 33,
    "start_time": "2022-06-11T20:57:48.616Z"
   },
   {
    "duration": 10,
    "start_time": "2022-06-11T20:57:48.653Z"
   },
   {
    "duration": 46,
    "start_time": "2022-06-11T20:57:48.665Z"
   },
   {
    "duration": 11,
    "start_time": "2022-06-11T20:57:48.713Z"
   },
   {
    "duration": 3,
    "start_time": "2022-06-11T20:57:48.725Z"
   },
   {
    "duration": 6,
    "start_time": "2022-06-11T20:57:48.729Z"
   },
   {
    "duration": 9,
    "start_time": "2022-06-11T20:57:48.736Z"
   },
   {
    "duration": 5,
    "start_time": "2022-06-11T20:57:48.746Z"
   },
   {
    "duration": 29,
    "start_time": "2022-06-11T20:57:48.753Z"
   },
   {
    "duration": 4,
    "start_time": "2022-06-11T20:57:48.785Z"
   },
   {
    "duration": 26,
    "start_time": "2022-06-11T20:57:48.790Z"
   },
   {
    "duration": 3,
    "start_time": "2022-06-11T20:57:48.818Z"
   },
   {
    "duration": 4,
    "start_time": "2022-06-11T20:57:48.823Z"
   },
   {
    "duration": 4,
    "start_time": "2022-06-11T20:57:48.828Z"
   },
   {
    "duration": 5,
    "start_time": "2022-06-11T20:57:48.834Z"
   },
   {
    "duration": 53,
    "start_time": "2022-06-11T20:57:48.841Z"
   },
   {
    "duration": 87,
    "start_time": "2022-06-11T20:57:48.895Z"
   },
   {
    "duration": 10,
    "start_time": "2022-06-11T20:57:48.986Z"
   },
   {
    "duration": 23,
    "start_time": "2022-06-11T20:57:48.998Z"
   },
   {
    "duration": 8,
    "start_time": "2022-06-11T20:57:49.023Z"
   },
   {
    "duration": 6,
    "start_time": "2022-06-11T20:57:49.032Z"
   },
   {
    "duration": 14,
    "start_time": "2022-06-11T20:57:49.039Z"
   },
   {
    "duration": 107,
    "start_time": "2022-06-11T20:58:44.966Z"
   },
   {
    "duration": 10,
    "start_time": "2022-06-11T20:58:53.524Z"
   },
   {
    "duration": 8,
    "start_time": "2022-06-11T20:58:58.421Z"
   },
   {
    "duration": 1034,
    "start_time": "2022-06-11T20:59:06.429Z"
   },
   {
    "duration": 36,
    "start_time": "2022-06-11T20:59:07.465Z"
   },
   {
    "duration": 17,
    "start_time": "2022-06-11T20:59:07.503Z"
   },
   {
    "duration": 39,
    "start_time": "2022-06-11T20:59:07.522Z"
   },
   {
    "duration": 7,
    "start_time": "2022-06-11T20:59:07.563Z"
   },
   {
    "duration": 3,
    "start_time": "2022-06-11T20:59:07.572Z"
   },
   {
    "duration": 51,
    "start_time": "2022-06-11T20:59:07.578Z"
   },
   {
    "duration": 31,
    "start_time": "2022-06-11T20:59:07.632Z"
   },
   {
    "duration": 11,
    "start_time": "2022-06-11T20:59:07.665Z"
   },
   {
    "duration": 58,
    "start_time": "2022-06-11T20:59:07.679Z"
   },
   {
    "duration": 22,
    "start_time": "2022-06-11T20:59:07.739Z"
   },
   {
    "duration": 11,
    "start_time": "2022-06-11T20:59:07.763Z"
   },
   {
    "duration": 33,
    "start_time": "2022-06-11T20:59:07.776Z"
   },
   {
    "duration": 33,
    "start_time": "2022-06-11T20:59:07.811Z"
   },
   {
    "duration": 7,
    "start_time": "2022-06-11T20:59:07.847Z"
   },
   {
    "duration": 11,
    "start_time": "2022-06-11T20:59:07.856Z"
   },
   {
    "duration": 148,
    "start_time": "2022-06-11T20:59:07.869Z"
   },
   {
    "duration": 28,
    "start_time": "2022-06-11T20:59:08.018Z"
   },
   {
    "duration": 33,
    "start_time": "2022-06-11T20:59:08.049Z"
   },
   {
    "duration": 21,
    "start_time": "2022-06-11T20:59:08.084Z"
   },
   {
    "duration": 19,
    "start_time": "2022-06-11T20:59:08.108Z"
   },
   {
    "duration": 19,
    "start_time": "2022-06-11T20:59:08.128Z"
   },
   {
    "duration": 26,
    "start_time": "2022-06-11T20:59:08.150Z"
   },
   {
    "duration": 98,
    "start_time": "2022-06-11T21:03:30.963Z"
   },
   {
    "duration": 7,
    "start_time": "2022-06-11T21:03:42.997Z"
   },
   {
    "duration": 6,
    "start_time": "2022-06-11T21:03:56.820Z"
   },
   {
    "duration": 4,
    "start_time": "2022-06-11T21:03:57.472Z"
   },
   {
    "duration": 10,
    "start_time": "2022-06-11T21:04:30.142Z"
   },
   {
    "duration": 4,
    "start_time": "2022-06-11T21:05:43.265Z"
   },
   {
    "duration": 9,
    "start_time": "2022-06-11T21:05:46.533Z"
   },
   {
    "duration": 19,
    "start_time": "2022-06-11T21:05:47.297Z"
   },
   {
    "duration": 21,
    "start_time": "2022-06-11T21:05:50.777Z"
   },
   {
    "duration": 6,
    "start_time": "2022-06-11T21:07:45.206Z"
   },
   {
    "duration": 4,
    "start_time": "2022-06-11T21:07:45.811Z"
   },
   {
    "duration": 10,
    "start_time": "2022-06-11T21:09:18.462Z"
   },
   {
    "duration": 1075,
    "start_time": "2022-06-11T21:11:28.254Z"
   },
   {
    "duration": 31,
    "start_time": "2022-06-11T21:11:29.332Z"
   },
   {
    "duration": 18,
    "start_time": "2022-06-11T21:11:29.365Z"
   },
   {
    "duration": 38,
    "start_time": "2022-06-11T21:11:29.385Z"
   },
   {
    "duration": 7,
    "start_time": "2022-06-11T21:11:29.425Z"
   },
   {
    "duration": 7,
    "start_time": "2022-06-11T21:11:29.434Z"
   },
   {
    "duration": 10,
    "start_time": "2022-06-11T21:11:29.443Z"
   },
   {
    "duration": 5,
    "start_time": "2022-06-11T21:11:29.455Z"
   },
   {
    "duration": 152,
    "start_time": "2022-06-11T21:11:29.478Z"
   },
   {
    "duration": 0,
    "start_time": "2022-06-11T21:11:29.633Z"
   },
   {
    "duration": 0,
    "start_time": "2022-06-11T21:11:29.634Z"
   },
   {
    "duration": 0,
    "start_time": "2022-06-11T21:11:29.635Z"
   },
   {
    "duration": 0,
    "start_time": "2022-06-11T21:11:29.636Z"
   },
   {
    "duration": 0,
    "start_time": "2022-06-11T21:11:29.637Z"
   },
   {
    "duration": 0,
    "start_time": "2022-06-11T21:11:29.638Z"
   },
   {
    "duration": 0,
    "start_time": "2022-06-11T21:11:29.639Z"
   },
   {
    "duration": 0,
    "start_time": "2022-06-11T21:11:29.640Z"
   },
   {
    "duration": 0,
    "start_time": "2022-06-11T21:11:29.641Z"
   },
   {
    "duration": 0,
    "start_time": "2022-06-11T21:11:29.642Z"
   },
   {
    "duration": 0,
    "start_time": "2022-06-11T21:11:29.644Z"
   },
   {
    "duration": 0,
    "start_time": "2022-06-11T21:11:29.645Z"
   },
   {
    "duration": 0,
    "start_time": "2022-06-11T21:11:29.646Z"
   },
   {
    "duration": 0,
    "start_time": "2022-06-11T21:11:29.646Z"
   },
   {
    "duration": 1046,
    "start_time": "2022-06-11T21:11:46.379Z"
   },
   {
    "duration": 26,
    "start_time": "2022-06-11T21:11:47.427Z"
   },
   {
    "duration": 13,
    "start_time": "2022-06-11T21:11:47.455Z"
   },
   {
    "duration": 28,
    "start_time": "2022-06-11T21:11:47.470Z"
   },
   {
    "duration": 8,
    "start_time": "2022-06-11T21:11:47.500Z"
   },
   {
    "duration": 4,
    "start_time": "2022-06-11T21:11:47.510Z"
   },
   {
    "duration": 11,
    "start_time": "2022-06-11T21:11:47.516Z"
   },
   {
    "duration": 7,
    "start_time": "2022-06-11T21:11:47.528Z"
   },
   {
    "duration": 10,
    "start_time": "2022-06-11T21:11:47.536Z"
   },
   {
    "duration": 30,
    "start_time": "2022-06-11T21:11:47.549Z"
   },
   {
    "duration": 3,
    "start_time": "2022-06-11T21:11:47.581Z"
   },
   {
    "duration": 8,
    "start_time": "2022-06-11T21:11:47.585Z"
   },
   {
    "duration": 6,
    "start_time": "2022-06-11T21:11:47.595Z"
   },
   {
    "duration": 5,
    "start_time": "2022-06-11T21:11:47.603Z"
   },
   {
    "duration": 5,
    "start_time": "2022-06-11T21:11:47.610Z"
   },
   {
    "duration": 9,
    "start_time": "2022-06-11T21:11:47.616Z"
   },
   {
    "duration": 63,
    "start_time": "2022-06-11T21:11:47.627Z"
   },
   {
    "duration": 112,
    "start_time": "2022-06-11T21:11:47.692Z"
   },
   {
    "duration": 12,
    "start_time": "2022-06-11T21:11:47.807Z"
   },
   {
    "duration": 11,
    "start_time": "2022-06-11T21:11:47.827Z"
   },
   {
    "duration": 36,
    "start_time": "2022-06-11T21:11:47.840Z"
   },
   {
    "duration": 9,
    "start_time": "2022-06-11T21:11:47.878Z"
   },
   {
    "duration": 20,
    "start_time": "2022-06-11T21:11:47.889Z"
   },
   {
    "duration": 981,
    "start_time": "2022-06-12T14:44:25.864Z"
   },
   {
    "duration": 27,
    "start_time": "2022-06-12T14:44:26.847Z"
   },
   {
    "duration": 10,
    "start_time": "2022-06-12T14:44:26.875Z"
   },
   {
    "duration": 25,
    "start_time": "2022-06-12T14:44:26.887Z"
   },
   {
    "duration": 6,
    "start_time": "2022-06-12T14:44:26.914Z"
   },
   {
    "duration": 7,
    "start_time": "2022-06-12T14:44:26.923Z"
   },
   {
    "duration": 14,
    "start_time": "2022-06-12T14:44:26.931Z"
   },
   {
    "duration": 17,
    "start_time": "2022-06-12T14:44:26.946Z"
   },
   {
    "duration": 5,
    "start_time": "2022-06-12T14:44:26.965Z"
   },
   {
    "duration": 58,
    "start_time": "2022-06-12T14:44:26.973Z"
   },
   {
    "duration": 102,
    "start_time": "2022-06-12T14:44:27.034Z"
   },
   {
    "duration": 8,
    "start_time": "2022-06-12T14:44:27.137Z"
   },
   {
    "duration": 7,
    "start_time": "2022-06-12T14:44:27.147Z"
   },
   {
    "duration": 114,
    "start_time": "2022-06-12T14:44:27.155Z"
   },
   {
    "duration": 0,
    "start_time": "2022-06-12T14:44:27.271Z"
   },
   {
    "duration": 1064,
    "start_time": "2022-06-12T15:03:07.868Z"
   },
   {
    "duration": 83,
    "start_time": "2022-06-12T15:03:08.934Z"
   },
   {
    "duration": 13,
    "start_time": "2022-06-12T15:03:09.019Z"
   },
   {
    "duration": 31,
    "start_time": "2022-06-12T15:03:09.034Z"
   },
   {
    "duration": 8,
    "start_time": "2022-06-12T15:03:09.067Z"
   },
   {
    "duration": 7,
    "start_time": "2022-06-12T15:03:09.076Z"
   },
   {
    "duration": 7,
    "start_time": "2022-06-12T15:03:09.084Z"
   },
   {
    "duration": 9,
    "start_time": "2022-06-12T15:03:09.093Z"
   },
   {
    "duration": 4,
    "start_time": "2022-06-12T15:03:09.105Z"
   },
   {
    "duration": 60,
    "start_time": "2022-06-12T15:03:09.112Z"
   },
   {
    "duration": 102,
    "start_time": "2022-06-12T15:03:09.175Z"
   },
   {
    "duration": 9,
    "start_time": "2022-06-12T15:03:09.279Z"
   },
   {
    "duration": 6,
    "start_time": "2022-06-12T15:03:09.290Z"
   },
   {
    "duration": 5,
    "start_time": "2022-06-12T15:03:09.298Z"
   },
   {
    "duration": 9,
    "start_time": "2022-06-12T15:03:09.305Z"
   },
   {
    "duration": 1049,
    "start_time": "2022-06-12T15:04:28.301Z"
   },
   {
    "duration": 29,
    "start_time": "2022-06-12T15:04:29.352Z"
   },
   {
    "duration": 13,
    "start_time": "2022-06-12T15:04:29.383Z"
   },
   {
    "duration": 44,
    "start_time": "2022-06-12T15:04:29.399Z"
   },
   {
    "duration": 9,
    "start_time": "2022-06-12T15:04:29.445Z"
   },
   {
    "duration": 20,
    "start_time": "2022-06-12T15:04:29.456Z"
   },
   {
    "duration": 25,
    "start_time": "2022-06-12T15:04:29.478Z"
   },
   {
    "duration": 19,
    "start_time": "2022-06-12T15:04:29.505Z"
   },
   {
    "duration": 11,
    "start_time": "2022-06-12T15:04:29.526Z"
   },
   {
    "duration": 27,
    "start_time": "2022-06-12T15:04:29.541Z"
   },
   {
    "duration": 108,
    "start_time": "2022-06-12T15:04:29.571Z"
   },
   {
    "duration": 24,
    "start_time": "2022-06-12T15:04:29.680Z"
   },
   {
    "duration": 17,
    "start_time": "2022-06-12T15:04:29.706Z"
   },
   {
    "duration": 17,
    "start_time": "2022-06-12T15:04:29.725Z"
   },
   {
    "duration": 17,
    "start_time": "2022-06-12T15:04:29.743Z"
   },
   {
    "duration": 1076,
    "start_time": "2022-06-12T15:05:38.351Z"
   },
   {
    "duration": 30,
    "start_time": "2022-06-12T15:05:39.430Z"
   },
   {
    "duration": 12,
    "start_time": "2022-06-12T15:05:39.462Z"
   },
   {
    "duration": 33,
    "start_time": "2022-06-12T15:05:39.476Z"
   },
   {
    "duration": 7,
    "start_time": "2022-06-12T15:05:39.511Z"
   },
   {
    "duration": 11,
    "start_time": "2022-06-12T15:05:39.520Z"
   },
   {
    "duration": 8,
    "start_time": "2022-06-12T15:05:39.533Z"
   },
   {
    "duration": 29,
    "start_time": "2022-06-12T15:05:39.542Z"
   },
   {
    "duration": 7,
    "start_time": "2022-06-12T15:05:39.573Z"
   },
   {
    "duration": 78,
    "start_time": "2022-06-12T15:05:39.583Z"
   },
   {
    "duration": 111,
    "start_time": "2022-06-12T15:05:39.663Z"
   },
   {
    "duration": 9,
    "start_time": "2022-06-12T15:05:39.776Z"
   },
   {
    "duration": 6,
    "start_time": "2022-06-12T15:05:39.787Z"
   },
   {
    "duration": 7,
    "start_time": "2022-06-12T15:05:39.795Z"
   },
   {
    "duration": 12,
    "start_time": "2022-06-12T15:05:39.803Z"
   },
   {
    "duration": 1017,
    "start_time": "2022-06-12T15:10:56.603Z"
   },
   {
    "duration": 27,
    "start_time": "2022-06-12T15:10:57.622Z"
   },
   {
    "duration": 12,
    "start_time": "2022-06-12T15:10:57.651Z"
   },
   {
    "duration": 36,
    "start_time": "2022-06-12T15:10:57.665Z"
   },
   {
    "duration": 9,
    "start_time": "2022-06-12T15:10:57.703Z"
   },
   {
    "duration": 6,
    "start_time": "2022-06-12T15:10:57.714Z"
   },
   {
    "duration": 5,
    "start_time": "2022-06-12T15:10:57.722Z"
   },
   {
    "duration": 35,
    "start_time": "2022-06-12T15:10:57.728Z"
   },
   {
    "duration": 6,
    "start_time": "2022-06-12T15:10:57.765Z"
   },
   {
    "duration": 93,
    "start_time": "2022-06-12T15:10:57.775Z"
   },
   {
    "duration": 98,
    "start_time": "2022-06-12T15:10:57.869Z"
   },
   {
    "duration": 8,
    "start_time": "2022-06-12T15:10:57.969Z"
   },
   {
    "duration": 6,
    "start_time": "2022-06-12T15:10:57.978Z"
   },
   {
    "duration": 5,
    "start_time": "2022-06-12T15:10:57.985Z"
   },
   {
    "duration": 10,
    "start_time": "2022-06-12T15:10:57.992Z"
   },
   {
    "duration": 1121,
    "start_time": "2022-06-12T15:24:24.450Z"
   },
   {
    "duration": 28,
    "start_time": "2022-06-12T15:24:25.572Z"
   },
   {
    "duration": 13,
    "start_time": "2022-06-12T15:24:25.602Z"
   },
   {
    "duration": 34,
    "start_time": "2022-06-12T15:24:25.617Z"
   },
   {
    "duration": 9,
    "start_time": "2022-06-12T15:24:25.653Z"
   },
   {
    "duration": 7,
    "start_time": "2022-06-12T15:24:25.664Z"
   },
   {
    "duration": 6,
    "start_time": "2022-06-12T15:24:25.673Z"
   },
   {
    "duration": 17,
    "start_time": "2022-06-12T15:24:25.680Z"
   },
   {
    "duration": 6,
    "start_time": "2022-06-12T15:24:25.698Z"
   },
   {
    "duration": 71,
    "start_time": "2022-06-12T15:24:25.707Z"
   },
   {
    "duration": 109,
    "start_time": "2022-06-12T15:24:25.780Z"
   },
   {
    "duration": 8,
    "start_time": "2022-06-12T15:24:25.891Z"
   },
   {
    "duration": 10,
    "start_time": "2022-06-12T15:24:25.901Z"
   },
   {
    "duration": 10,
    "start_time": "2022-06-12T15:24:25.913Z"
   },
   {
    "duration": 10,
    "start_time": "2022-06-12T15:24:25.925Z"
   },
   {
    "duration": 1076,
    "start_time": "2022-06-12T15:29:22.333Z"
   },
   {
    "duration": 29,
    "start_time": "2022-06-12T15:29:23.411Z"
   },
   {
    "duration": 12,
    "start_time": "2022-06-12T15:29:23.441Z"
   },
   {
    "duration": 30,
    "start_time": "2022-06-12T15:29:23.455Z"
   },
   {
    "duration": 8,
    "start_time": "2022-06-12T15:29:23.487Z"
   },
   {
    "duration": 6,
    "start_time": "2022-06-12T15:29:23.497Z"
   },
   {
    "duration": 14,
    "start_time": "2022-06-12T15:29:23.505Z"
   },
   {
    "duration": 9,
    "start_time": "2022-06-12T15:29:23.521Z"
   },
   {
    "duration": 32,
    "start_time": "2022-06-12T15:29:23.532Z"
   },
   {
    "duration": 93,
    "start_time": "2022-06-12T15:29:23.567Z"
   },
   {
    "duration": 26,
    "start_time": "2022-06-12T15:29:23.662Z"
   },
   {
    "duration": 9,
    "start_time": "2022-06-12T15:29:23.690Z"
   },
   {
    "duration": 60,
    "start_time": "2022-06-12T15:29:23.701Z"
   },
   {
    "duration": 6,
    "start_time": "2022-06-12T15:29:23.763Z"
   },
   {
    "duration": 15,
    "start_time": "2022-06-12T15:29:23.771Z"
   },
   {
    "duration": 897,
    "start_time": "2022-06-13T04:07:40.249Z"
   },
   {
    "duration": 27,
    "start_time": "2022-06-13T04:07:41.147Z"
   },
   {
    "duration": 11,
    "start_time": "2022-06-13T04:07:41.176Z"
   },
   {
    "duration": 24,
    "start_time": "2022-06-13T04:07:41.189Z"
   },
   {
    "duration": 6,
    "start_time": "2022-06-13T04:07:41.215Z"
   },
   {
    "duration": 8,
    "start_time": "2022-06-13T04:07:41.222Z"
   },
   {
    "duration": 8,
    "start_time": "2022-06-13T04:07:41.232Z"
   },
   {
    "duration": 16,
    "start_time": "2022-06-13T04:07:41.242Z"
   },
   {
    "duration": 4,
    "start_time": "2022-06-13T04:07:41.260Z"
   },
   {
    "duration": 64,
    "start_time": "2022-06-13T04:07:41.267Z"
   },
   {
    "duration": 103,
    "start_time": "2022-06-13T04:07:41.334Z"
   },
   {
    "duration": 7,
    "start_time": "2022-06-13T04:07:41.438Z"
   },
   {
    "duration": 6,
    "start_time": "2022-06-13T04:07:41.447Z"
   },
   {
    "duration": 6,
    "start_time": "2022-06-13T04:07:41.454Z"
   },
   {
    "duration": 8,
    "start_time": "2022-06-13T04:07:41.462Z"
   }
  ],
  "kernelspec": {
   "display_name": "Python 3 (ipykernel)",
   "language": "python",
   "name": "python3"
  },
  "language_info": {
   "codemirror_mode": {
    "name": "ipython",
    "version": 3
   },
   "file_extension": ".py",
   "mimetype": "text/x-python",
   "name": "python",
   "nbconvert_exporter": "python",
   "pygments_lexer": "ipython3",
   "version": "3.9.5"
  },
  "toc": {
   "base_numbering": 1,
   "nav_menu": {},
   "number_sections": true,
   "sideBar": true,
   "skip_h1_title": true,
   "title_cell": "Содержание",
   "title_sidebar": "Contents",
   "toc_cell": true,
   "toc_position": {
    "height": "calc(100% - 180px)",
    "left": "10px",
    "top": "150px",
    "width": "248.594px"
   },
   "toc_section_display": true,
   "toc_window_display": true
  }
 },
 "nbformat": 4,
 "nbformat_minor": 2
}
