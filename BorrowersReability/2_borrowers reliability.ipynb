{
 "cells": [
  {
   "cell_type": "markdown",
   "metadata": {},
   "source": [
    "# Исследование надежности заемщиков."
   ]
  },
  {
   "cell_type": "markdown",
   "metadata": {},
   "source": [
    "*Цель исследования* - определить, влияет ли семейное положение и количество детей клиента на факт погашения кредита в срок.\n",
    "\n",
    "*Заказчик* - кредитный отдел банка.\n",
    "\n",
    "*Практическое применение* - результаты исследования будут учтены при построении модели кредитного скоринга — специальной системы, которая оценивает способность потенциального заёмщика вернуть кредит банку."
   ]
  },
  {
   "cell_type": "markdown",
   "metadata": {},
   "source": [
    "**Общие выводы:  клиенты банка достаточно дисциплинированы - 90% заемщиков не допускает просрочек по кредитам. Самые дисциплинированные категории: заемщики без детей, вдовцы и вдовы, с уровнем дохода в диапазоне от 30001–50000, берущие кредит на операции с недвижимостью.**"
   ]
  },
  {
   "cell_type": "markdown",
   "metadata": {},
   "source": [
    "### Шаг 1. Обзор данных"
   ]
  },
  {
   "cell_type": "markdown",
   "metadata": {},
   "source": [
    "Данные предоставлены в файле data.csv.\n",
    "Описание данных:\n",
    "- children — количество детей в семье;\n",
    "- days_employed — общий трудовой стаж в днях;\n",
    "- dob_years — возраст клиента в годах;\n",
    "- education — уровень образования клиента;\n",
    "- education_id — идентификатор уровня образования;\n",
    "- family_status — семейное положение;\n",
    "- family_status_id — идентификатор семейного положения;\n",
    "- gender — пол клиента;\n",
    "- income_type — тип занятости;\n",
    "- debt — имел ли задолженность по возврату кредитов;\n",
    "- total_income — ежемесячный доход;\n",
    "- purpose — цель получения кредита/"
   ]
  },
  {
   "cell_type": "code",
   "execution_count": 1,
   "metadata": {},
   "outputs": [],
   "source": [
    "# импорт библиотек\n",
    "import pandas as pd\n",
    "from IPython.display import display"
   ]
  },
  {
   "cell_type": "code",
   "execution_count": 2,
   "metadata": {},
   "outputs": [],
   "source": [
    "# загрузка данных\n",
    "data = pd.read_csv('/datasets/data.csv')"
   ]
  },
  {
   "cell_type": "code",
   "execution_count": 3,
   "metadata": {},
   "outputs": [
    {
     "data": {
      "text/html": [
       "<div>\n",
       "<style scoped>\n",
       "    .dataframe tbody tr th:only-of-type {\n",
       "        vertical-align: middle;\n",
       "    }\n",
       "\n",
       "    .dataframe tbody tr th {\n",
       "        vertical-align: top;\n",
       "    }\n",
       "\n",
       "    .dataframe thead th {\n",
       "        text-align: right;\n",
       "    }\n",
       "</style>\n",
       "<table border=\"1\" class=\"dataframe\">\n",
       "  <thead>\n",
       "    <tr style=\"text-align: right;\">\n",
       "      <th></th>\n",
       "      <th>children</th>\n",
       "      <th>days_employed</th>\n",
       "      <th>dob_years</th>\n",
       "      <th>education</th>\n",
       "      <th>education_id</th>\n",
       "      <th>family_status</th>\n",
       "      <th>family_status_id</th>\n",
       "      <th>gender</th>\n",
       "      <th>income_type</th>\n",
       "      <th>debt</th>\n",
       "      <th>total_income</th>\n",
       "      <th>purpose</th>\n",
       "    </tr>\n",
       "  </thead>\n",
       "  <tbody>\n",
       "    <tr>\n",
       "      <td>0</td>\n",
       "      <td>1</td>\n",
       "      <td>-8437.673028</td>\n",
       "      <td>42</td>\n",
       "      <td>высшее</td>\n",
       "      <td>0</td>\n",
       "      <td>женат / замужем</td>\n",
       "      <td>0</td>\n",
       "      <td>F</td>\n",
       "      <td>сотрудник</td>\n",
       "      <td>0</td>\n",
       "      <td>253875.639453</td>\n",
       "      <td>покупка жилья</td>\n",
       "    </tr>\n",
       "    <tr>\n",
       "      <td>1</td>\n",
       "      <td>1</td>\n",
       "      <td>-4024.803754</td>\n",
       "      <td>36</td>\n",
       "      <td>среднее</td>\n",
       "      <td>1</td>\n",
       "      <td>женат / замужем</td>\n",
       "      <td>0</td>\n",
       "      <td>F</td>\n",
       "      <td>сотрудник</td>\n",
       "      <td>0</td>\n",
       "      <td>112080.014102</td>\n",
       "      <td>приобретение автомобиля</td>\n",
       "    </tr>\n",
       "    <tr>\n",
       "      <td>2</td>\n",
       "      <td>0</td>\n",
       "      <td>-5623.422610</td>\n",
       "      <td>33</td>\n",
       "      <td>Среднее</td>\n",
       "      <td>1</td>\n",
       "      <td>женат / замужем</td>\n",
       "      <td>0</td>\n",
       "      <td>M</td>\n",
       "      <td>сотрудник</td>\n",
       "      <td>0</td>\n",
       "      <td>145885.952297</td>\n",
       "      <td>покупка жилья</td>\n",
       "    </tr>\n",
       "  </tbody>\n",
       "</table>\n",
       "</div>"
      ],
      "text/plain": [
       "   children  days_employed  dob_years education  education_id  \\\n",
       "0         1   -8437.673028         42    высшее             0   \n",
       "1         1   -4024.803754         36   среднее             1   \n",
       "2         0   -5623.422610         33   Среднее             1   \n",
       "\n",
       "     family_status  family_status_id gender income_type  debt   total_income  \\\n",
       "0  женат / замужем                 0      F   сотрудник     0  253875.639453   \n",
       "1  женат / замужем                 0      F   сотрудник     0  112080.014102   \n",
       "2  женат / замужем                 0      M   сотрудник     0  145885.952297   \n",
       "\n",
       "                   purpose  \n",
       "0            покупка жилья  \n",
       "1  приобретение автомобиля  \n",
       "2            покупка жилья  "
      ]
     },
     "execution_count": 3,
     "metadata": {},
     "output_type": "execute_result"
    }
   ],
   "source": [
    "# просмотр первых строк и шапки данных\n",
    "data.head(3)"
   ]
  },
  {
   "cell_type": "code",
   "execution_count": 4,
   "metadata": {},
   "outputs": [
    {
     "data": {
      "text/html": [
       "<div>\n",
       "<style scoped>\n",
       "    .dataframe tbody tr th:only-of-type {\n",
       "        vertical-align: middle;\n",
       "    }\n",
       "\n",
       "    .dataframe tbody tr th {\n",
       "        vertical-align: top;\n",
       "    }\n",
       "\n",
       "    .dataframe thead th {\n",
       "        text-align: right;\n",
       "    }\n",
       "</style>\n",
       "<table border=\"1\" class=\"dataframe\">\n",
       "  <thead>\n",
       "    <tr style=\"text-align: right;\">\n",
       "      <th></th>\n",
       "      <th>children</th>\n",
       "      <th>days_employed</th>\n",
       "      <th>dob_years</th>\n",
       "      <th>education_id</th>\n",
       "      <th>family_status_id</th>\n",
       "      <th>debt</th>\n",
       "      <th>total_income</th>\n",
       "    </tr>\n",
       "  </thead>\n",
       "  <tbody>\n",
       "    <tr>\n",
       "      <td>count</td>\n",
       "      <td>21525.000000</td>\n",
       "      <td>19351.000000</td>\n",
       "      <td>21525.000000</td>\n",
       "      <td>21525.000000</td>\n",
       "      <td>21525.000000</td>\n",
       "      <td>21525.000000</td>\n",
       "      <td>1.935100e+04</td>\n",
       "    </tr>\n",
       "    <tr>\n",
       "      <td>mean</td>\n",
       "      <td>0.538908</td>\n",
       "      <td>63046.497661</td>\n",
       "      <td>43.293380</td>\n",
       "      <td>0.817236</td>\n",
       "      <td>0.972544</td>\n",
       "      <td>0.080883</td>\n",
       "      <td>1.674223e+05</td>\n",
       "    </tr>\n",
       "    <tr>\n",
       "      <td>std</td>\n",
       "      <td>1.381587</td>\n",
       "      <td>140827.311974</td>\n",
       "      <td>12.574584</td>\n",
       "      <td>0.548138</td>\n",
       "      <td>1.420324</td>\n",
       "      <td>0.272661</td>\n",
       "      <td>1.029716e+05</td>\n",
       "    </tr>\n",
       "    <tr>\n",
       "      <td>min</td>\n",
       "      <td>-1.000000</td>\n",
       "      <td>-18388.949901</td>\n",
       "      <td>0.000000</td>\n",
       "      <td>0.000000</td>\n",
       "      <td>0.000000</td>\n",
       "      <td>0.000000</td>\n",
       "      <td>2.066726e+04</td>\n",
       "    </tr>\n",
       "    <tr>\n",
       "      <td>25%</td>\n",
       "      <td>0.000000</td>\n",
       "      <td>-2747.423625</td>\n",
       "      <td>33.000000</td>\n",
       "      <td>1.000000</td>\n",
       "      <td>0.000000</td>\n",
       "      <td>0.000000</td>\n",
       "      <td>1.030532e+05</td>\n",
       "    </tr>\n",
       "    <tr>\n",
       "      <td>50%</td>\n",
       "      <td>0.000000</td>\n",
       "      <td>-1203.369529</td>\n",
       "      <td>42.000000</td>\n",
       "      <td>1.000000</td>\n",
       "      <td>0.000000</td>\n",
       "      <td>0.000000</td>\n",
       "      <td>1.450179e+05</td>\n",
       "    </tr>\n",
       "    <tr>\n",
       "      <td>75%</td>\n",
       "      <td>1.000000</td>\n",
       "      <td>-291.095954</td>\n",
       "      <td>53.000000</td>\n",
       "      <td>1.000000</td>\n",
       "      <td>1.000000</td>\n",
       "      <td>0.000000</td>\n",
       "      <td>2.034351e+05</td>\n",
       "    </tr>\n",
       "    <tr>\n",
       "      <td>max</td>\n",
       "      <td>20.000000</td>\n",
       "      <td>401755.400475</td>\n",
       "      <td>75.000000</td>\n",
       "      <td>4.000000</td>\n",
       "      <td>4.000000</td>\n",
       "      <td>1.000000</td>\n",
       "      <td>2.265604e+06</td>\n",
       "    </tr>\n",
       "  </tbody>\n",
       "</table>\n",
       "</div>"
      ],
      "text/plain": [
       "           children  days_employed     dob_years  education_id  \\\n",
       "count  21525.000000   19351.000000  21525.000000  21525.000000   \n",
       "mean       0.538908   63046.497661     43.293380      0.817236   \n",
       "std        1.381587  140827.311974     12.574584      0.548138   \n",
       "min       -1.000000  -18388.949901      0.000000      0.000000   \n",
       "25%        0.000000   -2747.423625     33.000000      1.000000   \n",
       "50%        0.000000   -1203.369529     42.000000      1.000000   \n",
       "75%        1.000000    -291.095954     53.000000      1.000000   \n",
       "max       20.000000  401755.400475     75.000000      4.000000   \n",
       "\n",
       "       family_status_id          debt  total_income  \n",
       "count      21525.000000  21525.000000  1.935100e+04  \n",
       "mean           0.972544      0.080883  1.674223e+05  \n",
       "std            1.420324      0.272661  1.029716e+05  \n",
       "min            0.000000      0.000000  2.066726e+04  \n",
       "25%            0.000000      0.000000  1.030532e+05  \n",
       "50%            0.000000      0.000000  1.450179e+05  \n",
       "75%            1.000000      0.000000  2.034351e+05  \n",
       "max            4.000000      1.000000  2.265604e+06  "
      ]
     },
     "execution_count": 4,
     "metadata": {},
     "output_type": "execute_result"
    }
   ],
   "source": [
    "# просмотр статистических характеристик\n",
    "data.describe()"
   ]
  },
  {
   "cell_type": "code",
   "execution_count": 5,
   "metadata": {},
   "outputs": [
    {
     "name": "stdout",
     "output_type": "stream",
     "text": [
      "<class 'pandas.core.frame.DataFrame'>\n",
      "RangeIndex: 21525 entries, 0 to 21524\n",
      "Data columns (total 12 columns):\n",
      "children            21525 non-null int64\n",
      "days_employed       19351 non-null float64\n",
      "dob_years           21525 non-null int64\n",
      "education           21525 non-null object\n",
      "education_id        21525 non-null int64\n",
      "family_status       21525 non-null object\n",
      "family_status_id    21525 non-null int64\n",
      "gender              21525 non-null object\n",
      "income_type         21525 non-null object\n",
      "debt                21525 non-null int64\n",
      "total_income        19351 non-null float64\n",
      "purpose             21525 non-null object\n",
      "dtypes: float64(2), int64(5), object(5)\n",
      "memory usage: 2.0+ MB\n"
     ]
    }
   ],
   "source": [
    "# просмотр информации о данных\n",
    "data.info()"
   ]
  },
  {
   "cell_type": "markdown",
   "metadata": {},
   "source": [
    "Выводы:\n",
    "1. Из 12 переменных только 2 содержат пропуски. Это days_employed и total_income. Число их одинаково, что говорит о том, что среди клиентов банка нет самозанятых.\n",
    "2. Переменные children и days_employed содержат, как отрицательные значения, так и аномально высокие. Необходима корректировка данных.\n",
    "3. Переменная dob_years содержит значение 0, что невозможно для клиента банка. Необходима корректировка данных.\n",
    "4. Переменная days_employed как минимум 75% отрицательных значений. Очевидно, что произошла ошибка при выгрузке данных. Необходимо уточнить у специалиста, ответственного за формирование данных. \n",
    "5. Переменная education содержит не стандартизированные записи о уровне образования. Необходимо привести к единому регистру."
   ]
  },
  {
   "cell_type": "markdown",
   "metadata": {},
   "source": [
    "### Шаг 2.1 Заполнение пропусков"
   ]
  },
  {
   "cell_type": "markdown",
   "metadata": {},
   "source": [
    "Пропуски есть только в переменных days_employed и total_income. При этом, days_employed содержит такой набор данных, что минимум 75% -  отрицательные значения. days_employed не важна для целей проекта, исключаем из анализа, но оставляем в наборе данных.\n",
    "Чуть более 10% данных в столбце total_income отсутствуют. Заменим пропуски на медианное значение по подгруппам income_type"
   ]
  },
  {
   "cell_type": "code",
   "execution_count": 6,
   "metadata": {},
   "outputs": [
    {
     "data": {
      "text/plain": [
       "0"
      ]
     },
     "execution_count": 6,
     "metadata": {},
     "output_type": "execute_result"
    }
   ],
   "source": [
    "#замена пропусков в total_income на медианное значение по подгруппам income_type\n",
    "data['total_income'] = data['total_income'].fillna(data.groupby('income_type')['total_income'].transform('median'))\n",
    "data['total_income'].isna().sum()"
   ]
  },
  {
   "cell_type": "markdown",
   "metadata": {},
   "source": [
    "### Шаг 2.2 Проверка данных на аномалии и исправления."
   ]
  },
  {
   "cell_type": "markdown",
   "metadata": {},
   "source": [
    "В столбце children максимальное значение - 20, минимальное - (-1). Вероятно, имеет место ошибка ввода данных. Необходимо заменить на 2 и 1."
   ]
  },
  {
   "cell_type": "code",
   "execution_count": 7,
   "metadata": {},
   "outputs": [
    {
     "data": {
      "text/plain": [
       "array([1, 0, 3, 2, 4, 5])"
      ]
     },
     "execution_count": 7,
     "metadata": {},
     "output_type": "execute_result"
    }
   ],
   "source": [
    "# замена максимального и минимального значений столбца children\n",
    "data.loc[data['children'] == 20, 'children'] = 2\n",
    "data.loc[data['children'] == -1, 'children'] = 1\n",
    "\n",
    "# проверка уникальный значений столбца children\n",
    "data['children'].unique()"
   ]
  },
  {
   "cell_type": "code",
   "execution_count": 8,
   "metadata": {},
   "outputs": [
    {
     "name": "stdout",
     "output_type": "stream",
     "text": [
      "0    14149\n",
      "1     4865\n",
      "2     2131\n",
      "3      330\n",
      "4       41\n",
      "5        9\n",
      "Name: children, dtype: int64\n"
     ]
    }
   ],
   "source": [
    "# если в столбце наличие 5 детей встречается не единожды, оставляем значение 5\n",
    "print(data['children'].value_counts())"
   ]
  },
  {
   "cell_type": "markdown",
   "metadata": {},
   "source": [
    "Столбец days_employed пропускаем, как полностью неверный, но в исследовании не нужный. На данный момент нет возможности получить данные в другом виде, а для анализа нет необходимости корректировать имеющиеся. \n",
    "Переменная спорная - отражает общий трудовой стаж, что никак не иллюстрирует заинтересованность работодателя в заемщике на данный момент.\n",
    "\n",
    "В столбце dob_years - возраст заемщика,  минимальное значение 0. Посмотрим частоту значений переменной."
   ]
  },
  {
   "cell_type": "code",
   "execution_count": 9,
   "metadata": {},
   "outputs": [
    {
     "name": "stdout",
     "output_type": "stream",
     "text": [
      "35    617\n",
      "40    609\n",
      "41    607\n",
      "34    603\n",
      "38    598\n",
      "42    597\n",
      "33    581\n",
      "39    573\n",
      "31    560\n",
      "36    555\n",
      "44    547\n",
      "29    545\n",
      "30    540\n",
      "48    538\n",
      "37    537\n",
      "50    514\n",
      "43    513\n",
      "32    510\n",
      "49    508\n",
      "28    503\n",
      "45    497\n",
      "27    493\n",
      "56    487\n",
      "52    484\n",
      "47    480\n",
      "54    479\n",
      "46    475\n",
      "58    461\n",
      "57    460\n",
      "53    459\n",
      "51    448\n",
      "59    444\n",
      "55    443\n",
      "26    408\n",
      "60    377\n",
      "25    357\n",
      "61    355\n",
      "62    352\n",
      "63    269\n",
      "64    265\n",
      "24    264\n",
      "23    254\n",
      "65    194\n",
      "66    183\n",
      "22    183\n",
      "67    167\n",
      "21    111\n",
      "0     101\n",
      "68     99\n",
      "69     85\n",
      "70     65\n",
      "71     58\n",
      "20     51\n",
      "72     33\n",
      "19     14\n",
      "73      8\n",
      "74      6\n",
      "75      1\n",
      "Name: dob_years, dtype: int64\n"
     ]
    }
   ],
   "source": [
    "print(data['dob_years'].value_counts())"
   ]
  },
  {
   "cell_type": "markdown",
   "metadata": {},
   "source": [
    "101 значение равно 0, при этом, среднее арифметическое и медианное значения достаточно близки. Заменим 0 на медиану. Изменим тип переменной."
   ]
  },
  {
   "cell_type": "code",
   "execution_count": 10,
   "metadata": {},
   "outputs": [
    {
     "data": {
      "text/plain": [
       "array([19., 20., 21., 22., 23., 24., 25., 26., 27., 28., 29., 30., 31.,\n",
       "       32., 33., 34., 35., 36., 37., 38., 39., 40., 41., 42., 43., 44.,\n",
       "       45., 46., 47., 48., 49., 50., 51., 52., 53., 54., 55., 56., 57.,\n",
       "       58., 59., 60., 61., 62., 63., 64., 65., 66., 67., 68., 69., 70.,\n",
       "       71., 72., 73., 74., 75.])"
      ]
     },
     "execution_count": 10,
     "metadata": {},
     "output_type": "execute_result"
    }
   ],
   "source": [
    "data.loc[data['dob_years'] == 0, 'dob_years'] = data['dob_years'].median()\n",
    "data['dob_years'].sort_values().unique()"
   ]
  },
  {
   "cell_type": "code",
   "execution_count": 11,
   "metadata": {},
   "outputs": [
    {
     "data": {
      "text/plain": [
       "array(['ВЫСШЕЕ', 'Высшее', 'НАЧАЛЬНОЕ', 'НЕОКОНЧЕННОЕ ВЫСШЕЕ',\n",
       "       'Начальное', 'Неоконченное высшее', 'СРЕДНЕЕ', 'Среднее',\n",
       "       'УЧЕНАЯ СТЕПЕНЬ', 'Ученая степень', 'высшее', 'начальное',\n",
       "       'неоконченное высшее', 'среднее', 'ученая степень'], dtype=object)"
      ]
     },
     "execution_count": 11,
     "metadata": {},
     "output_type": "execute_result"
    }
   ],
   "source": [
    "# посмотрим уникальные значения education\n",
    "data['education'].sort_values().unique()"
   ]
  },
  {
   "cell_type": "code",
   "execution_count": 12,
   "metadata": {},
   "outputs": [
    {
     "data": {
      "text/plain": [
       "array(['высшее', 'начальное', 'неоконченное высшее', 'среднее',\n",
       "       'ученая степень'], dtype=object)"
      ]
     },
     "execution_count": 12,
     "metadata": {},
     "output_type": "execute_result"
    }
   ],
   "source": [
    "# приведем к нижнему регистру\n",
    "data['education'] = data['education'].str.lower()\n",
    "data['education'].sort_values().unique()"
   ]
  },
  {
   "cell_type": "code",
   "execution_count": 13,
   "metadata": {},
   "outputs": [
    {
     "data": {
      "text/plain": [
       "array(['Не женат / не замужем', 'в разводе', 'вдовец / вдова',\n",
       "       'гражданский брак', 'женат / замужем'], dtype=object)"
      ]
     },
     "execution_count": 13,
     "metadata": {},
     "output_type": "execute_result"
    }
   ],
   "source": [
    "# посмотрим уникальные значения family_status\n",
    "data['family_status'].sort_values().unique()"
   ]
  },
  {
   "cell_type": "code",
   "execution_count": 14,
   "metadata": {},
   "outputs": [
    {
     "data": {
      "text/plain": [
       "array(['в разводе', 'вдовец / вдова', 'гражданский брак',\n",
       "       'женат / замужем', 'не женат / не замужем'], dtype=object)"
      ]
     },
     "execution_count": 14,
     "metadata": {},
     "output_type": "execute_result"
    }
   ],
   "source": [
    "# приведем к нижнему регистру\n",
    "data['family_status'] = data['family_status'].str.lower()\n",
    "data['family_status'].sort_values().unique()"
   ]
  },
  {
   "cell_type": "code",
   "execution_count": 15,
   "metadata": {},
   "outputs": [
    {
     "data": {
      "text/plain": [
       "array(['F', 'M', 'XNA'], dtype=object)"
      ]
     },
     "execution_count": 15,
     "metadata": {},
     "output_type": "execute_result"
    }
   ],
   "source": [
    "# посмотрим уникальные значения gender\n",
    "data['gender'].sort_values().unique()"
   ]
  },
  {
   "cell_type": "markdown",
   "metadata": {},
   "source": [
    "В гендерном распределении есть значение XNA, вероятно это комбинация Now Answer и X. Посмотрим количество таких данных."
   ]
  },
  {
   "cell_type": "code",
   "execution_count": 16,
   "metadata": {},
   "outputs": [
    {
     "name": "stdout",
     "output_type": "stream",
     "text": [
      "F      14236\n",
      "M       7288\n",
      "XNA        1\n",
      "Name: gender, dtype: int64\n"
     ]
    }
   ],
   "source": [
    "print(data['gender'].value_counts())"
   ]
  },
  {
   "cell_type": "code",
   "execution_count": 17,
   "metadata": {},
   "outputs": [
    {
     "name": "stdout",
     "output_type": "stream",
     "text": [
      "F    14236\n",
      "M     7288\n",
      "Name: gender, dtype: int64\n"
     ]
    }
   ],
   "source": [
    "# XNA - 1 раз встречается, удаляем.\n",
    "data = data[data['gender'] != 'XNA']\n",
    "print(data['gender'].value_counts())"
   ]
  },
  {
   "cell_type": "code",
   "execution_count": 18,
   "metadata": {},
   "outputs": [
    {
     "data": {
      "text/plain": [
       "array(['безработный', 'в декрете', 'госслужащий', 'компаньон',\n",
       "       'пенсионер', 'предприниматель', 'сотрудник', 'студент'],\n",
       "      dtype=object)"
      ]
     },
     "execution_count": 18,
     "metadata": {},
     "output_type": "execute_result"
    }
   ],
   "source": [
    "# посмотрим уникальные значения income_type\n",
    "data['income_type'].sort_values().unique()"
   ]
  },
  {
   "cell_type": "code",
   "execution_count": 19,
   "metadata": {},
   "outputs": [
    {
     "name": "stdout",
     "output_type": "stream",
     "text": [
      "сотрудник          11119\n",
      "компаньон           5084\n",
      "пенсионер           3856\n",
      "госслужащий         1459\n",
      "предприниматель        2\n",
      "безработный            2\n",
      "в декрете              1\n",
      "студент                1\n",
      "Name: income_type, dtype: int64\n"
     ]
    }
   ],
   "source": [
    "#income_type не меняем, проверим распределение\n",
    "print(data['income_type'].value_counts())"
   ]
  },
  {
   "cell_type": "markdown",
   "metadata": {},
   "source": [
    "### Шаг 2.3. Изменение типов данных."
   ]
  },
  {
   "cell_type": "markdown",
   "metadata": {},
   "source": [
    "Изменение типов данных необходимо для переменных: dob_years и total_income. В первом случае не нужна дробная часть, во втором - float лучше заменить на int"
   ]
  },
  {
   "cell_type": "code",
   "execution_count": 20,
   "metadata": {},
   "outputs": [
    {
     "data": {
      "text/plain": [
       "array([19, 20, 21, 22, 23, 24, 25, 26, 27, 28, 29, 30, 31, 32, 33, 34, 35,\n",
       "       36, 37, 38, 39, 40, 41, 42, 43, 44, 45, 46, 47, 48, 49, 50, 51, 52,\n",
       "       53, 54, 55, 56, 57, 58, 59, 60, 61, 62, 63, 64, 65, 66, 67, 68, 69,\n",
       "       70, 71, 72, 73, 74, 75])"
      ]
     },
     "execution_count": 20,
     "metadata": {},
     "output_type": "execute_result"
    }
   ],
   "source": [
    "# изменение типа данных dob_years\n",
    "data['dob_years'] = data['dob_years'].astype('int64')\n",
    "data['dob_years'].sort_values().unique()"
   ]
  },
  {
   "cell_type": "code",
   "execution_count": 21,
   "metadata": {},
   "outputs": [],
   "source": [
    "# изменение типа данных total_income\n",
    "data['total_income'] = data['total_income'].astype('int64')"
   ]
  },
  {
   "cell_type": "markdown",
   "metadata": {},
   "source": [
    "### Шаг 2.4. Удаление дубликатов."
   ]
  },
  {
   "cell_type": "code",
   "execution_count": 22,
   "metadata": {},
   "outputs": [
    {
     "name": "stdout",
     "output_type": "stream",
     "text": [
      "<class 'pandas.core.frame.DataFrame'>\n",
      "Int64Index: 21452 entries, 0 to 21524\n",
      "Data columns (total 12 columns):\n",
      "children            21452 non-null int64\n",
      "days_employed       19350 non-null float64\n",
      "dob_years           21452 non-null int64\n",
      "education           21452 non-null object\n",
      "education_id        21452 non-null int64\n",
      "family_status       21452 non-null object\n",
      "family_status_id    21452 non-null int64\n",
      "gender              21452 non-null object\n",
      "income_type         21452 non-null object\n",
      "debt                21452 non-null int64\n",
      "total_income        21452 non-null int64\n",
      "purpose             21452 non-null object\n",
      "dtypes: float64(1), int64(6), object(5)\n",
      "memory usage: 2.1+ MB\n"
     ]
    }
   ],
   "source": [
    "# удаление дубликатов\n",
    "data.duplicated().sum()\n",
    "data = data.drop_duplicates()\n",
    "data.info()"
   ]
  },
  {
   "cell_type": "markdown",
   "metadata": {},
   "source": [
    "### Шаг 2.5. Формирование дополнительных датафреймов словарей, декомпозиция исходного датафрейма."
   ]
  },
  {
   "cell_type": "markdown",
   "metadata": {},
   "source": [
    "Необходимо создать словари по уровню образования и семейному положению."
   ]
  },
  {
   "cell_type": "code",
   "execution_count": 23,
   "metadata": {},
   "outputs": [],
   "source": [
    "# словарь по уровню образования\n",
    "edu_dict = data[['education_id', 'education']]\n",
    "edu_dict = edu_dict.drop_duplicates().reset_index(drop=True)\n",
    "data.drop(columns = ['education'],axis = 1, inplace=True)"
   ]
  },
  {
   "cell_type": "code",
   "execution_count": 24,
   "metadata": {},
   "outputs": [
    {
     "data": {
      "text/html": [
       "<div>\n",
       "<style scoped>\n",
       "    .dataframe tbody tr th:only-of-type {\n",
       "        vertical-align: middle;\n",
       "    }\n",
       "\n",
       "    .dataframe tbody tr th {\n",
       "        vertical-align: top;\n",
       "    }\n",
       "\n",
       "    .dataframe thead th {\n",
       "        text-align: right;\n",
       "    }\n",
       "</style>\n",
       "<table border=\"1\" class=\"dataframe\">\n",
       "  <thead>\n",
       "    <tr style=\"text-align: right;\">\n",
       "      <th></th>\n",
       "      <th>children</th>\n",
       "      <th>days_employed</th>\n",
       "      <th>dob_years</th>\n",
       "      <th>education_id</th>\n",
       "      <th>family_status</th>\n",
       "      <th>family_status_id</th>\n",
       "      <th>gender</th>\n",
       "      <th>income_type</th>\n",
       "      <th>debt</th>\n",
       "      <th>total_income</th>\n",
       "      <th>purpose</th>\n",
       "    </tr>\n",
       "  </thead>\n",
       "  <tbody>\n",
       "    <tr>\n",
       "      <td>0</td>\n",
       "      <td>1</td>\n",
       "      <td>-8437.673028</td>\n",
       "      <td>42</td>\n",
       "      <td>0</td>\n",
       "      <td>женат / замужем</td>\n",
       "      <td>0</td>\n",
       "      <td>F</td>\n",
       "      <td>сотрудник</td>\n",
       "      <td>0</td>\n",
       "      <td>253875</td>\n",
       "      <td>покупка жилья</td>\n",
       "    </tr>\n",
       "    <tr>\n",
       "      <td>1</td>\n",
       "      <td>1</td>\n",
       "      <td>-4024.803754</td>\n",
       "      <td>36</td>\n",
       "      <td>1</td>\n",
       "      <td>женат / замужем</td>\n",
       "      <td>0</td>\n",
       "      <td>F</td>\n",
       "      <td>сотрудник</td>\n",
       "      <td>0</td>\n",
       "      <td>112080</td>\n",
       "      <td>приобретение автомобиля</td>\n",
       "    </tr>\n",
       "    <tr>\n",
       "      <td>2</td>\n",
       "      <td>0</td>\n",
       "      <td>-5623.422610</td>\n",
       "      <td>33</td>\n",
       "      <td>1</td>\n",
       "      <td>женат / замужем</td>\n",
       "      <td>0</td>\n",
       "      <td>M</td>\n",
       "      <td>сотрудник</td>\n",
       "      <td>0</td>\n",
       "      <td>145885</td>\n",
       "      <td>покупка жилья</td>\n",
       "    </tr>\n",
       "    <tr>\n",
       "      <td>3</td>\n",
       "      <td>3</td>\n",
       "      <td>-4124.747207</td>\n",
       "      <td>32</td>\n",
       "      <td>1</td>\n",
       "      <td>женат / замужем</td>\n",
       "      <td>0</td>\n",
       "      <td>M</td>\n",
       "      <td>сотрудник</td>\n",
       "      <td>0</td>\n",
       "      <td>267628</td>\n",
       "      <td>дополнительное образование</td>\n",
       "    </tr>\n",
       "    <tr>\n",
       "      <td>4</td>\n",
       "      <td>0</td>\n",
       "      <td>340266.072047</td>\n",
       "      <td>53</td>\n",
       "      <td>1</td>\n",
       "      <td>гражданский брак</td>\n",
       "      <td>1</td>\n",
       "      <td>F</td>\n",
       "      <td>пенсионер</td>\n",
       "      <td>0</td>\n",
       "      <td>158616</td>\n",
       "      <td>сыграть свадьбу</td>\n",
       "    </tr>\n",
       "  </tbody>\n",
       "</table>\n",
       "</div>"
      ],
      "text/plain": [
       "   children  days_employed  dob_years  education_id     family_status  \\\n",
       "0         1   -8437.673028         42             0   женат / замужем   \n",
       "1         1   -4024.803754         36             1   женат / замужем   \n",
       "2         0   -5623.422610         33             1   женат / замужем   \n",
       "3         3   -4124.747207         32             1   женат / замужем   \n",
       "4         0  340266.072047         53             1  гражданский брак   \n",
       "\n",
       "   family_status_id gender income_type  debt  total_income  \\\n",
       "0                 0      F   сотрудник     0        253875   \n",
       "1                 0      F   сотрудник     0        112080   \n",
       "2                 0      M   сотрудник     0        145885   \n",
       "3                 0      M   сотрудник     0        267628   \n",
       "4                 1      F   пенсионер     0        158616   \n",
       "\n",
       "                      purpose  \n",
       "0               покупка жилья  \n",
       "1     приобретение автомобиля  \n",
       "2               покупка жилья  \n",
       "3  дополнительное образование  \n",
       "4             сыграть свадьбу  "
      ]
     },
     "execution_count": 24,
     "metadata": {},
     "output_type": "execute_result"
    }
   ],
   "source": [
    "data.head()"
   ]
  },
  {
   "cell_type": "code",
   "execution_count": 25,
   "metadata": {},
   "outputs": [],
   "source": [
    "# словарь по семейному положению\n",
    "fam_dict = data[['family_status_id', 'family_status']]\n",
    "fam_dict = fam_dict.drop_duplicates().reset_index(drop=True)\n",
    "data.drop(columns = ['family_status'],axis = 1, inplace=True)"
   ]
  },
  {
   "cell_type": "code",
   "execution_count": 26,
   "metadata": {},
   "outputs": [
    {
     "data": {
      "text/html": [
       "<div>\n",
       "<style scoped>\n",
       "    .dataframe tbody tr th:only-of-type {\n",
       "        vertical-align: middle;\n",
       "    }\n",
       "\n",
       "    .dataframe tbody tr th {\n",
       "        vertical-align: top;\n",
       "    }\n",
       "\n",
       "    .dataframe thead th {\n",
       "        text-align: right;\n",
       "    }\n",
       "</style>\n",
       "<table border=\"1\" class=\"dataframe\">\n",
       "  <thead>\n",
       "    <tr style=\"text-align: right;\">\n",
       "      <th></th>\n",
       "      <th>children</th>\n",
       "      <th>days_employed</th>\n",
       "      <th>dob_years</th>\n",
       "      <th>education_id</th>\n",
       "      <th>family_status_id</th>\n",
       "      <th>gender</th>\n",
       "      <th>income_type</th>\n",
       "      <th>debt</th>\n",
       "      <th>total_income</th>\n",
       "      <th>purpose</th>\n",
       "    </tr>\n",
       "  </thead>\n",
       "  <tbody>\n",
       "    <tr>\n",
       "      <td>0</td>\n",
       "      <td>1</td>\n",
       "      <td>-8437.673028</td>\n",
       "      <td>42</td>\n",
       "      <td>0</td>\n",
       "      <td>0</td>\n",
       "      <td>F</td>\n",
       "      <td>сотрудник</td>\n",
       "      <td>0</td>\n",
       "      <td>253875</td>\n",
       "      <td>покупка жилья</td>\n",
       "    </tr>\n",
       "    <tr>\n",
       "      <td>1</td>\n",
       "      <td>1</td>\n",
       "      <td>-4024.803754</td>\n",
       "      <td>36</td>\n",
       "      <td>1</td>\n",
       "      <td>0</td>\n",
       "      <td>F</td>\n",
       "      <td>сотрудник</td>\n",
       "      <td>0</td>\n",
       "      <td>112080</td>\n",
       "      <td>приобретение автомобиля</td>\n",
       "    </tr>\n",
       "    <tr>\n",
       "      <td>2</td>\n",
       "      <td>0</td>\n",
       "      <td>-5623.422610</td>\n",
       "      <td>33</td>\n",
       "      <td>1</td>\n",
       "      <td>0</td>\n",
       "      <td>M</td>\n",
       "      <td>сотрудник</td>\n",
       "      <td>0</td>\n",
       "      <td>145885</td>\n",
       "      <td>покупка жилья</td>\n",
       "    </tr>\n",
       "    <tr>\n",
       "      <td>3</td>\n",
       "      <td>3</td>\n",
       "      <td>-4124.747207</td>\n",
       "      <td>32</td>\n",
       "      <td>1</td>\n",
       "      <td>0</td>\n",
       "      <td>M</td>\n",
       "      <td>сотрудник</td>\n",
       "      <td>0</td>\n",
       "      <td>267628</td>\n",
       "      <td>дополнительное образование</td>\n",
       "    </tr>\n",
       "    <tr>\n",
       "      <td>4</td>\n",
       "      <td>0</td>\n",
       "      <td>340266.072047</td>\n",
       "      <td>53</td>\n",
       "      <td>1</td>\n",
       "      <td>1</td>\n",
       "      <td>F</td>\n",
       "      <td>пенсионер</td>\n",
       "      <td>0</td>\n",
       "      <td>158616</td>\n",
       "      <td>сыграть свадьбу</td>\n",
       "    </tr>\n",
       "  </tbody>\n",
       "</table>\n",
       "</div>"
      ],
      "text/plain": [
       "   children  days_employed  dob_years  education_id  family_status_id gender  \\\n",
       "0         1   -8437.673028         42             0                 0      F   \n",
       "1         1   -4024.803754         36             1                 0      F   \n",
       "2         0   -5623.422610         33             1                 0      M   \n",
       "3         3   -4124.747207         32             1                 0      M   \n",
       "4         0  340266.072047         53             1                 1      F   \n",
       "\n",
       "  income_type  debt  total_income                     purpose  \n",
       "0   сотрудник     0        253875               покупка жилья  \n",
       "1   сотрудник     0        112080     приобретение автомобиля  \n",
       "2   сотрудник     0        145885               покупка жилья  \n",
       "3   сотрудник     0        267628  дополнительное образование  \n",
       "4   пенсионер     0        158616             сыграть свадьбу  "
      ]
     },
     "execution_count": 26,
     "metadata": {},
     "output_type": "execute_result"
    }
   ],
   "source": [
    "data.head()"
   ]
  },
  {
   "cell_type": "markdown",
   "metadata": {},
   "source": [
    "### Шаг 2.6. Категоризация дохода."
   ]
  },
  {
   "cell_type": "code",
   "execution_count": 27,
   "metadata": {},
   "outputs": [
    {
     "data": {
      "text/html": [
       "<div>\n",
       "<style scoped>\n",
       "    .dataframe tbody tr th:only-of-type {\n",
       "        vertical-align: middle;\n",
       "    }\n",
       "\n",
       "    .dataframe tbody tr th {\n",
       "        vertical-align: top;\n",
       "    }\n",
       "\n",
       "    .dataframe thead th {\n",
       "        text-align: right;\n",
       "    }\n",
       "</style>\n",
       "<table border=\"1\" class=\"dataframe\">\n",
       "  <thead>\n",
       "    <tr style=\"text-align: right;\">\n",
       "      <th></th>\n",
       "      <th>children</th>\n",
       "      <th>days_employed</th>\n",
       "      <th>dob_years</th>\n",
       "      <th>education_id</th>\n",
       "      <th>family_status_id</th>\n",
       "      <th>gender</th>\n",
       "      <th>income_type</th>\n",
       "      <th>debt</th>\n",
       "      <th>total_income</th>\n",
       "      <th>purpose</th>\n",
       "      <th>income_level</th>\n",
       "    </tr>\n",
       "  </thead>\n",
       "  <tbody>\n",
       "    <tr>\n",
       "      <td>0</td>\n",
       "      <td>1</td>\n",
       "      <td>-8437.673028</td>\n",
       "      <td>42</td>\n",
       "      <td>0</td>\n",
       "      <td>0</td>\n",
       "      <td>F</td>\n",
       "      <td>сотрудник</td>\n",
       "      <td>0</td>\n",
       "      <td>253875</td>\n",
       "      <td>покупка жилья</td>\n",
       "      <td>B</td>\n",
       "    </tr>\n",
       "    <tr>\n",
       "      <td>1</td>\n",
       "      <td>1</td>\n",
       "      <td>-4024.803754</td>\n",
       "      <td>36</td>\n",
       "      <td>1</td>\n",
       "      <td>0</td>\n",
       "      <td>F</td>\n",
       "      <td>сотрудник</td>\n",
       "      <td>0</td>\n",
       "      <td>112080</td>\n",
       "      <td>приобретение автомобиля</td>\n",
       "      <td>C</td>\n",
       "    </tr>\n",
       "    <tr>\n",
       "      <td>2</td>\n",
       "      <td>0</td>\n",
       "      <td>-5623.422610</td>\n",
       "      <td>33</td>\n",
       "      <td>1</td>\n",
       "      <td>0</td>\n",
       "      <td>M</td>\n",
       "      <td>сотрудник</td>\n",
       "      <td>0</td>\n",
       "      <td>145885</td>\n",
       "      <td>покупка жилья</td>\n",
       "      <td>C</td>\n",
       "    </tr>\n",
       "    <tr>\n",
       "      <td>3</td>\n",
       "      <td>3</td>\n",
       "      <td>-4124.747207</td>\n",
       "      <td>32</td>\n",
       "      <td>1</td>\n",
       "      <td>0</td>\n",
       "      <td>M</td>\n",
       "      <td>сотрудник</td>\n",
       "      <td>0</td>\n",
       "      <td>267628</td>\n",
       "      <td>дополнительное образование</td>\n",
       "      <td>B</td>\n",
       "    </tr>\n",
       "    <tr>\n",
       "      <td>4</td>\n",
       "      <td>0</td>\n",
       "      <td>340266.072047</td>\n",
       "      <td>53</td>\n",
       "      <td>1</td>\n",
       "      <td>1</td>\n",
       "      <td>F</td>\n",
       "      <td>пенсионер</td>\n",
       "      <td>0</td>\n",
       "      <td>158616</td>\n",
       "      <td>сыграть свадьбу</td>\n",
       "      <td>C</td>\n",
       "    </tr>\n",
       "  </tbody>\n",
       "</table>\n",
       "</div>"
      ],
      "text/plain": [
       "   children  days_employed  dob_years  education_id  family_status_id gender  \\\n",
       "0         1   -8437.673028         42             0                 0      F   \n",
       "1         1   -4024.803754         36             1                 0      F   \n",
       "2         0   -5623.422610         33             1                 0      M   \n",
       "3         3   -4124.747207         32             1                 0      M   \n",
       "4         0  340266.072047         53             1                 1      F   \n",
       "\n",
       "  income_type  debt  total_income                     purpose income_level  \n",
       "0   сотрудник     0        253875               покупка жилья            B  \n",
       "1   сотрудник     0        112080     приобретение автомобиля            C  \n",
       "2   сотрудник     0        145885               покупка жилья            C  \n",
       "3   сотрудник     0        267628  дополнительное образование            B  \n",
       "4   пенсионер     0        158616             сыграть свадьбу            C  "
      ]
     },
     "execution_count": 27,
     "metadata": {},
     "output_type": "execute_result"
    }
   ],
   "source": [
    "# необходимо выделить следующие категории дохода:\n",
    "# 0–30000 — 'E';\n",
    "# 30001–50000 — 'D';\n",
    "# 50001–200000 — 'C';\n",
    "# 200001–1000000 — 'B';\n",
    "# 1000001 и выше — 'A'\n",
    "def income_level(income):\n",
    "    if income < 30000:\n",
    "        return 'E'\n",
    "    if 30001 < income < 50000:\n",
    "        return 'D'\n",
    "    if 50001 < income < 200000:\n",
    "        return 'C'\n",
    "    if 200001 < income < 1000000:\n",
    "        return 'B'\n",
    "    return 'A'\n",
    "data['income_level'] = data['total_income'].apply(income_level)\n",
    "data.head()\n",
    "        \n"
   ]
  },
  {
   "cell_type": "markdown",
   "metadata": {},
   "source": [
    "### Шаг 2.7. Категоризация целей кредита."
   ]
  },
  {
   "cell_type": "code",
   "execution_count": 28,
   "metadata": {},
   "outputs": [
    {
     "name": "stdout",
     "output_type": "stream",
     "text": [
      "['покупка жилья' 'приобретение автомобиля' 'дополнительное образование'\n",
      " 'сыграть свадьбу' 'операции с жильем' 'образование'\n",
      " 'на проведение свадьбы' 'покупка жилья для семьи' 'покупка недвижимости'\n",
      " 'покупка коммерческой недвижимости' 'покупка жилой недвижимости'\n",
      " 'строительство собственной недвижимости' 'недвижимость'\n",
      " 'строительство недвижимости' 'на покупку подержанного автомобиля'\n",
      " 'на покупку своего автомобиля' 'операции с коммерческой недвижимостью'\n",
      " 'строительство жилой недвижимости' 'жилье'\n",
      " 'операции со своей недвижимостью' 'автомобили' 'заняться образованием'\n",
      " 'сделка с подержанным автомобилем' 'получение образования' 'автомобиль'\n",
      " 'свадьба' 'получение дополнительного образования' 'покупка своего жилья'\n",
      " 'операции с недвижимостью' 'получение высшего образования'\n",
      " 'свой автомобиль' 'сделка с автомобилем' 'профильное образование'\n",
      " 'высшее образование' 'покупка жилья для сдачи' 'на покупку автомобиля'\n",
      " 'ремонт жилью' 'заняться высшим образованием']\n"
     ]
    }
   ],
   "source": [
    "from pymystem3 import Mystem\n",
    "m = Mystem()\n",
    "# находим уникальные значения в столбце \n",
    "lem_purpose = data['purpose'].unique()\n",
    "print(lem_purpose)"
   ]
  },
  {
   "cell_type": "markdown",
   "metadata": {},
   "source": [
    "Все цели кредита необходимо разбить на следующие группы:\n",
    "'операции с автомобилем',\n",
    "'операции с недвижимостью',\n",
    "'проведение свадьбы',\n",
    "'получение образования'."
   ]
  },
  {
   "cell_type": "code",
   "execution_count": 29,
   "metadata": {},
   "outputs": [
    {
     "data": {
      "text/plain": [
       "операции с недвижимостью    10810\n",
       "операции с автомобилем       4306\n",
       "получение образования        4013\n",
       "проведение свадьбы           2323\n",
       "Name: lemmas_purpose, dtype: int64"
      ]
     },
     "execution_count": 29,
     "metadata": {},
     "output_type": "execute_result"
    }
   ],
   "source": [
    "def lemmas_purpose(purpose):\n",
    "    lemma = m.lemmatize(purpose)\n",
    "    for value in lemma:\n",
    "        if 'автомоб' in value:\n",
    "            return 'операции с автомобилем'    \n",
    "        elif 'жил' in value or 'недвиж' in value:\n",
    "            return 'операции с недвижимостью'\n",
    "        elif 'свадь' in value:\n",
    "            return 'проведение свадьбы'\n",
    "        elif 'образов' in value:\n",
    "            return 'получение образования'   \n",
    "      \n",
    "\n",
    "    \n",
    "data['lemmas_purpose'] = data['purpose'].apply(lemmas_purpose)\n",
    "\n",
    "data['lemmas_purpose'].value_counts()"
   ]
  },
  {
   "cell_type": "markdown",
   "metadata": {},
   "source": [
    "### Ответы на вопросы."
   ]
  },
  {
   "cell_type": "markdown",
   "metadata": {},
   "source": [
    "##### Вопрос 1: наличие зависимости между количеством детей и возвратом кредита в срок"
   ]
  },
  {
   "cell_type": "markdown",
   "metadata": {},
   "source": [
    "Есть ли зависимость между количеством детей и возвратом кредита в срок?\n",
    "Для ответа на этот вопрос можно построить сводную таблицу и определить долю клиентов, имеющих просроченные платежи."
   ]
  },
  {
   "cell_type": "code",
   "execution_count": 30,
   "metadata": {
    "scrolled": true
   },
   "outputs": [
    {
     "data": {
      "text/html": [
       "<div>\n",
       "<style scoped>\n",
       "    .dataframe tbody tr th:only-of-type {\n",
       "        vertical-align: middle;\n",
       "    }\n",
       "\n",
       "    .dataframe tbody tr th {\n",
       "        vertical-align: top;\n",
       "    }\n",
       "\n",
       "    .dataframe thead th {\n",
       "        text-align: right;\n",
       "    }\n",
       "</style>\n",
       "<table border=\"1\" class=\"dataframe\">\n",
       "  <thead>\n",
       "    <tr style=\"text-align: right;\">\n",
       "      <th>debt</th>\n",
       "      <th>0</th>\n",
       "      <th>1</th>\n",
       "    </tr>\n",
       "    <tr>\n",
       "      <th>children</th>\n",
       "      <th></th>\n",
       "      <th></th>\n",
       "    </tr>\n",
       "  </thead>\n",
       "  <tbody>\n",
       "    <tr>\n",
       "      <td>0</td>\n",
       "      <td>13026.0</td>\n",
       "      <td>1063.0</td>\n",
       "    </tr>\n",
       "    <tr>\n",
       "      <td>1</td>\n",
       "      <td>4410.0</td>\n",
       "      <td>445.0</td>\n",
       "    </tr>\n",
       "    <tr>\n",
       "      <td>2</td>\n",
       "      <td>1926.0</td>\n",
       "      <td>202.0</td>\n",
       "    </tr>\n",
       "    <tr>\n",
       "      <td>3</td>\n",
       "      <td>303.0</td>\n",
       "      <td>27.0</td>\n",
       "    </tr>\n",
       "    <tr>\n",
       "      <td>4</td>\n",
       "      <td>37.0</td>\n",
       "      <td>4.0</td>\n",
       "    </tr>\n",
       "    <tr>\n",
       "      <td>5</td>\n",
       "      <td>9.0</td>\n",
       "      <td>0.0</td>\n",
       "    </tr>\n",
       "  </tbody>\n",
       "</table>\n",
       "</div>"
      ],
      "text/plain": [
       "debt            0       1\n",
       "children                 \n",
       "0         13026.0  1063.0\n",
       "1          4410.0   445.0\n",
       "2          1926.0   202.0\n",
       "3           303.0    27.0\n",
       "4            37.0     4.0\n",
       "5             9.0     0.0"
      ]
     },
     "metadata": {},
     "output_type": "display_data"
    }
   ],
   "source": [
    "# сводная таблица наличия детей в семье заемщика и наличия просроченных платежей по кредиту\n",
    "data_children_pivot = data.pivot_table(index=['children'], columns='debt', values='gender', aggfunc='count')\n",
    "data_children_pivot = data_children_pivot.fillna(0)\n",
    "display(data_children_pivot)"
   ]
  },
  {
   "cell_type": "code",
   "execution_count": 31,
   "metadata": {},
   "outputs": [
    {
     "data": {
      "text/plain": [
       "children\n",
       "0    7.544893\n",
       "1    9.165808\n",
       "2    9.492481\n",
       "3    8.181818\n",
       "4    9.756098\n",
       "5         NaN\n",
       "dtype: float64"
      ]
     },
     "metadata": {},
     "output_type": "display_data"
    }
   ],
   "source": [
    "# доля клиентов, имеющих просроченные платежи и ее распределение в зависимости от числа детей в семье заемщика\n",
    "debt_child = data.pivot_table(index=['children'], columns='debt', values='gender', aggfunc='count')\n",
    "display(debt_child[1] / (debt_child[0]+debt_child[1]) *100)"
   ]
  },
  {
   "cell_type": "markdown",
   "metadata": {},
   "source": [
    "Вывод 1: Можно говорить о достаточно высокой дисциплине среди заемщиков банка - 90% и более заемщиков исправно платят по кредитам. Среди клиентов самая дисциплинированная группа заемщиков - группа без детей, на втором месте - с 3 детьми.  При определении кредитного рейтинга, группе, не имеющей детей можно присвоить ранг 1, группе с 3 детьми - ранг 2, с 1 ребенком - ранг 3, с 2 детьми - ранг 4. В велом же, разница между группами несущественная."
   ]
  },
  {
   "cell_type": "markdown",
   "metadata": {},
   "source": [
    "##### Вопрос 2:  наличие зависимости между семейным положением и возвратом кредита в срок"
   ]
  },
  {
   "cell_type": "markdown",
   "metadata": {},
   "source": [
    "Есть ли зависимость между семейным положением и возвратом кредита в срок?\n",
    "Для ответа на этот вопрос можно построить сводную таблицу и определить долю клиентов, имеющих просроченные платежи."
   ]
  },
  {
   "cell_type": "code",
   "execution_count": 32,
   "metadata": {
    "scrolled": true
   },
   "outputs": [
    {
     "data": {
      "text/html": [
       "<div>\n",
       "<style scoped>\n",
       "    .dataframe tbody tr th:only-of-type {\n",
       "        vertical-align: middle;\n",
       "    }\n",
       "\n",
       "    .dataframe tbody tr th {\n",
       "        vertical-align: top;\n",
       "    }\n",
       "\n",
       "    .dataframe thead th {\n",
       "        text-align: right;\n",
       "    }\n",
       "</style>\n",
       "<table border=\"1\" class=\"dataframe\">\n",
       "  <thead>\n",
       "    <tr style=\"text-align: right;\">\n",
       "      <th></th>\n",
       "      <th>family_status_id</th>\n",
       "      <th>0</th>\n",
       "      <th>1</th>\n",
       "      <th>family_status</th>\n",
       "    </tr>\n",
       "  </thead>\n",
       "  <tbody>\n",
       "    <tr>\n",
       "      <td>0</td>\n",
       "      <td>0</td>\n",
       "      <td>11408</td>\n",
       "      <td>931</td>\n",
       "      <td>женат / замужем</td>\n",
       "    </tr>\n",
       "    <tr>\n",
       "      <td>1</td>\n",
       "      <td>1</td>\n",
       "      <td>3761</td>\n",
       "      <td>388</td>\n",
       "      <td>гражданский брак</td>\n",
       "    </tr>\n",
       "    <tr>\n",
       "      <td>2</td>\n",
       "      <td>2</td>\n",
       "      <td>896</td>\n",
       "      <td>63</td>\n",
       "      <td>вдовец / вдова</td>\n",
       "    </tr>\n",
       "    <tr>\n",
       "      <td>3</td>\n",
       "      <td>3</td>\n",
       "      <td>1110</td>\n",
       "      <td>85</td>\n",
       "      <td>в разводе</td>\n",
       "    </tr>\n",
       "    <tr>\n",
       "      <td>4</td>\n",
       "      <td>4</td>\n",
       "      <td>2536</td>\n",
       "      <td>274</td>\n",
       "      <td>не женат / не замужем</td>\n",
       "    </tr>\n",
       "  </tbody>\n",
       "</table>\n",
       "</div>"
      ],
      "text/plain": [
       "   family_status_id      0    1          family_status\n",
       "0                 0  11408  931        женат / замужем\n",
       "1                 1   3761  388       гражданский брак\n",
       "2                 2    896   63         вдовец / вдова\n",
       "3                 3   1110   85              в разводе\n",
       "4                 4   2536  274  не женат / не замужем"
      ]
     },
     "metadata": {},
     "output_type": "display_data"
    }
   ],
   "source": [
    "# сводная таблица семейного положения заемщика и наличия просроченных платежей по кредиту\n",
    "data_family_pivot = data.pivot_table(index=['family_status_id'], columns='debt', values='gender', aggfunc='count')\n",
    "data_family_pivot = data_family_pivot.fillna(0)\n",
    "res_family = data_family_pivot.merge(fam_dict, on='family_status_id', how='left')\n",
    "display(res_family)"
   ]
  },
  {
   "cell_type": "code",
   "execution_count": 33,
   "metadata": {},
   "outputs": [
    {
     "data": {
      "text/plain": [
       "family_status_id\n",
       "0    7.545182\n",
       "1    9.351651\n",
       "2    6.569343\n",
       "3    7.112971\n",
       "4    9.750890\n",
       "dtype: float64"
      ]
     },
     "metadata": {},
     "output_type": "display_data"
    }
   ],
   "source": [
    "# доля клиентов, имеющих просроченные платежи и ее распределение в зависимости от семейного положения заемщика\n",
    "debt_family = data.pivot_table(index=['family_status_id'], columns='debt', values='gender', aggfunc='count')\n",
    "display(debt_family[1] / (debt_family[0]+debt_family[1]) *100)"
   ]
  },
  {
   "cell_type": "markdown",
   "metadata": {},
   "source": [
    "Вывод 2: Среди клиентов, самая дисциплинированная группа заемщиков, в зависимости от семейного положения - \"вдовец/вдова\", на втором месте - \"в разводе\". Разница между группами несущественная. Разница между частотой возникновения просрочек по кредитам между группами говорит от обсутствии какой-либо связи между возвратом кредита и семейным положением."
   ]
  },
  {
   "cell_type": "markdown",
   "metadata": {},
   "source": [
    "##### Вопрос 3: наличие зависимости между уровнем дохода и возвратом кредита в срок"
   ]
  },
  {
   "cell_type": "markdown",
   "metadata": {},
   "source": [
    "Есть ли зависимость между уровнем дохода и возвратом кредита в срок?\n",
    "Для ответа на этот вопрос можно построить сводную таблицу и определить долю клиентов, имеющих просроченные платежи."
   ]
  },
  {
   "cell_type": "code",
   "execution_count": 34,
   "metadata": {
    "scrolled": false
   },
   "outputs": [
    {
     "data": {
      "text/html": [
       "<div>\n",
       "<style scoped>\n",
       "    .dataframe tbody tr th:only-of-type {\n",
       "        vertical-align: middle;\n",
       "    }\n",
       "\n",
       "    .dataframe tbody tr th {\n",
       "        vertical-align: top;\n",
       "    }\n",
       "\n",
       "    .dataframe thead th {\n",
       "        text-align: right;\n",
       "    }\n",
       "</style>\n",
       "<table border=\"1\" class=\"dataframe\">\n",
       "  <thead>\n",
       "    <tr style=\"text-align: right;\">\n",
       "      <th>debt</th>\n",
       "      <th>0</th>\n",
       "      <th>1</th>\n",
       "    </tr>\n",
       "    <tr>\n",
       "      <th>income_level</th>\n",
       "      <th></th>\n",
       "      <th></th>\n",
       "    </tr>\n",
       "  </thead>\n",
       "  <tbody>\n",
       "    <tr>\n",
       "      <td>A</td>\n",
       "      <td>24</td>\n",
       "      <td>2</td>\n",
       "    </tr>\n",
       "    <tr>\n",
       "      <td>B</td>\n",
       "      <td>4684</td>\n",
       "      <td>356</td>\n",
       "    </tr>\n",
       "    <tr>\n",
       "      <td>C</td>\n",
       "      <td>14654</td>\n",
       "      <td>1360</td>\n",
       "    </tr>\n",
       "    <tr>\n",
       "      <td>D</td>\n",
       "      <td>329</td>\n",
       "      <td>21</td>\n",
       "    </tr>\n",
       "    <tr>\n",
       "      <td>E</td>\n",
       "      <td>20</td>\n",
       "      <td>2</td>\n",
       "    </tr>\n",
       "  </tbody>\n",
       "</table>\n",
       "</div>"
      ],
      "text/plain": [
       "debt              0     1\n",
       "income_level             \n",
       "A                24     2\n",
       "B              4684   356\n",
       "C             14654  1360\n",
       "D               329    21\n",
       "E                20     2"
      ]
     },
     "metadata": {},
     "output_type": "display_data"
    }
   ],
   "source": [
    "# сводная таблица уровня дохода заемщика и наличия просроченных платежей по кредиту\n",
    "data_income_pivot = data.pivot_table(index=['income_level'], columns='debt', values='gender', aggfunc='count')\n",
    "data_income_pivot = data_income_pivot.fillna(0)\n",
    "display(data_income_pivot)"
   ]
  },
  {
   "cell_type": "code",
   "execution_count": 35,
   "metadata": {},
   "outputs": [
    {
     "data": {
      "text/plain": [
       "income_level\n",
       "A    7.692308\n",
       "B    7.063492\n",
       "C    8.492569\n",
       "D    6.000000\n",
       "E    9.090909\n",
       "dtype: float64"
      ]
     },
     "metadata": {},
     "output_type": "display_data"
    }
   ],
   "source": [
    "# доля клиентов, имеющих просроченные платежи и ее распределение в зависимости от уровня дохода\n",
    "debt_income = data.pivot_table(index=['income_level'], columns='debt', values='gender', aggfunc='count')\n",
    "display(debt_income[1] / (debt_income[0]+debt_income[1]) *100)"
   ]
  },
  {
   "cell_type": "markdown",
   "metadata": {},
   "source": [
    "Вывод 3: Среди клиентов, самая дисциплинированная группа заемщиков, в зависимости от уровня дохода - \"D (30001–50000)\". В целом же разница между группами несущественная."
   ]
  },
  {
   "cell_type": "markdown",
   "metadata": {},
   "source": [
    "##### Вопрос 4: Как разные цели кредита влияют на его возврат в срок"
   ]
  },
  {
   "cell_type": "code",
   "execution_count": 36,
   "metadata": {},
   "outputs": [
    {
     "data": {
      "text/plain": [
       "income_level\n",
       "A    7.692308\n",
       "B    7.063492\n",
       "C    8.492569\n",
       "D    6.000000\n",
       "E    9.090909\n",
       "dtype: float64"
      ]
     },
     "metadata": {},
     "output_type": "display_data"
    }
   ],
   "source": [
    "# доля клиентов, имеющих просроченные платежи и ее распределение в зависимости от семейного положения заемщика\n",
    "debt_income = data.pivot_table(index=['income_level'], columns='debt', values='gender', aggfunc='count')\n",
    "display(debt_income[1] / (debt_income[0]+debt_income[1]) *100)"
   ]
  },
  {
   "cell_type": "markdown",
   "metadata": {},
   "source": [
    "Есть ли зависимость между целями кредита и возвратом кредита в срок?\n",
    "Для ответа на этот вопрос можно построить сводную таблицу и определить долю клиентов, имеющих просроченные платежи."
   ]
  },
  {
   "cell_type": "code",
   "execution_count": 37,
   "metadata": {
    "scrolled": true
   },
   "outputs": [
    {
     "data": {
      "text/html": [
       "<div>\n",
       "<style scoped>\n",
       "    .dataframe tbody tr th:only-of-type {\n",
       "        vertical-align: middle;\n",
       "    }\n",
       "\n",
       "    .dataframe tbody tr th {\n",
       "        vertical-align: top;\n",
       "    }\n",
       "\n",
       "    .dataframe thead th {\n",
       "        text-align: right;\n",
       "    }\n",
       "</style>\n",
       "<table border=\"1\" class=\"dataframe\">\n",
       "  <thead>\n",
       "    <tr style=\"text-align: right;\">\n",
       "      <th>debt</th>\n",
       "      <th>0</th>\n",
       "      <th>1</th>\n",
       "    </tr>\n",
       "    <tr>\n",
       "      <th>lemmas_purpose</th>\n",
       "      <th></th>\n",
       "      <th></th>\n",
       "    </tr>\n",
       "  </thead>\n",
       "  <tbody>\n",
       "    <tr>\n",
       "      <td>операции с автомобилем</td>\n",
       "      <td>3903</td>\n",
       "      <td>403</td>\n",
       "    </tr>\n",
       "    <tr>\n",
       "      <td>операции с недвижимостью</td>\n",
       "      <td>10028</td>\n",
       "      <td>782</td>\n",
       "    </tr>\n",
       "    <tr>\n",
       "      <td>получение образования</td>\n",
       "      <td>3643</td>\n",
       "      <td>370</td>\n",
       "    </tr>\n",
       "    <tr>\n",
       "      <td>проведение свадьбы</td>\n",
       "      <td>2137</td>\n",
       "      <td>186</td>\n",
       "    </tr>\n",
       "  </tbody>\n",
       "</table>\n",
       "</div>"
      ],
      "text/plain": [
       "debt                          0    1\n",
       "lemmas_purpose                      \n",
       "операции с автомобилем     3903  403\n",
       "операции с недвижимостью  10028  782\n",
       "получение образования      3643  370\n",
       "проведение свадьбы         2137  186"
      ]
     },
     "metadata": {},
     "output_type": "display_data"
    }
   ],
   "source": [
    "# сводная таблица целей кредита и наличия просроченных платежей по кредиту\n",
    "data_purpose_pivot = data.pivot_table(index=['lemmas_purpose'], columns='debt', values='gender', aggfunc='count')\n",
    "data_purpose_pivot = data_purpose_pivot.fillna(0)\n",
    "display(data_purpose_pivot)"
   ]
  },
  {
   "cell_type": "code",
   "execution_count": 38,
   "metadata": {},
   "outputs": [
    {
     "data": {
      "text/plain": [
       "lemmas_purpose\n",
       "операции с автомобилем      9.359034\n",
       "операции с недвижимостью    7.234043\n",
       "получение образования       9.220035\n",
       "проведение свадьбы          8.006888\n",
       "dtype: float64"
      ]
     },
     "metadata": {},
     "output_type": "display_data"
    }
   ],
   "source": [
    "# доля клиентов, имеющих просроченные платежи и ее распределение в зависимости от целей кредита\n",
    "debt_purpose = data.pivot_table(index=['lemmas_purpose'], columns='debt', values='gender', aggfunc='count')\n",
    "display(debt_purpose[1] / (debt_purpose[0]+debt_purpose[1]) *100)"
   ]
  },
  {
   "cell_type": "markdown",
   "metadata": {},
   "source": [
    "Вывод 4: Чаще остальных, клиенты, оформляющие кредит на операции с недвижимостью не допускают просрочек."
   ]
  },
  {
   "cell_type": "markdown",
   "metadata": {},
   "source": [
    "### Общий вывод:"
   ]
  },
  {
   "cell_type": "markdown",
   "metadata": {},
   "source": [
    "В целом, клиенты банка достаточно дисциплинированы - 90% заемщиков не допускает просрочек по кредитам. Самые дисциплинированные категории:\n",
    "- заемщики без детей; \n",
    "- вдовцы и вдовы; \n",
    "- с уровнем дохода в диапазоне от 30001–50000;\n",
    "- берущие кредит на операции с недвижимостью.\n",
    "\n",
    "Наименее дисциплинированные:\n",
    "\n",
    "- заемщики с 4 детьми;\n",
    "- не женатые/замужние;\n",
    "- с уровнем дохода 0–30000;\n",
    "- берущие кредит на операции с автомобилем.\n",
    "\n",
    "Явной зависимости возврата кредита в срок и описанными выше характеристиками заемщика нет."
   ]
  },
  {
   "cell_type": "code",
   "execution_count": null,
   "metadata": {},
   "outputs": [],
   "source": []
  }
 ],
 "metadata": {
  "ExecuteTimeLog": [
   {
    "duration": 419,
    "start_time": "2022-02-18T08:30:01.282Z"
   },
   {
    "duration": 714,
    "start_time": "2022-02-18T08:30:16.855Z"
   },
   {
    "duration": 75,
    "start_time": "2022-02-18T08:30:18.943Z"
   },
   {
    "duration": 29,
    "start_time": "2022-02-18T09:01:27.131Z"
   },
   {
    "duration": 26,
    "start_time": "2022-02-18T09:04:57.983Z"
   },
   {
    "duration": 16,
    "start_time": "2022-02-18T09:05:12.170Z"
   },
   {
    "duration": 50,
    "start_time": "2022-02-18T09:09:23.233Z"
   },
   {
    "duration": 7,
    "start_time": "2022-02-18T10:21:19.084Z"
   },
   {
    "duration": 7,
    "start_time": "2022-02-18T10:22:56.681Z"
   },
   {
    "duration": 403,
    "start_time": "2022-02-18T10:23:24.645Z"
   },
   {
    "duration": 346,
    "start_time": "2022-02-18T10:24:47.309Z"
   },
   {
    "duration": 375,
    "start_time": "2022-02-18T14:58:39.936Z"
   },
   {
    "duration": 768,
    "start_time": "2022-02-18T15:01:43.194Z"
   },
   {
    "duration": 63,
    "start_time": "2022-02-18T15:01:44.893Z"
   },
   {
    "duration": 29,
    "start_time": "2022-02-18T15:01:46.069Z"
   },
   {
    "duration": 52,
    "start_time": "2022-02-18T15:01:47.094Z"
   },
   {
    "duration": 16,
    "start_time": "2022-02-18T15:01:48.191Z"
   },
   {
    "duration": 13,
    "start_time": "2022-02-18T15:01:52.191Z"
   },
   {
    "duration": 15,
    "start_time": "2022-02-18T16:07:17.995Z"
   },
   {
    "duration": 7,
    "start_time": "2022-02-18T16:09:35.784Z"
   },
   {
    "duration": 9,
    "start_time": "2022-02-18T16:15:41.681Z"
   },
   {
    "duration": 13,
    "start_time": "2022-02-18T16:32:15.875Z"
   },
   {
    "duration": 15,
    "start_time": "2022-02-18T16:34:20.804Z"
   },
   {
    "duration": 15,
    "start_time": "2022-02-18T16:35:10.914Z"
   },
   {
    "duration": 19,
    "start_time": "2022-02-18T16:38:22.748Z"
   },
   {
    "duration": 16,
    "start_time": "2022-02-18T16:38:41.249Z"
   },
   {
    "duration": 10,
    "start_time": "2022-02-18T16:39:24.427Z"
   },
   {
    "duration": 10,
    "start_time": "2022-02-18T16:39:47.060Z"
   },
   {
    "duration": 17,
    "start_time": "2022-02-18T16:40:05.415Z"
   },
   {
    "duration": 7,
    "start_time": "2022-02-18T16:48:09.699Z"
   },
   {
    "duration": 6,
    "start_time": "2022-02-18T16:48:26.402Z"
   },
   {
    "duration": 3,
    "start_time": "2022-02-18T16:48:46.761Z"
   },
   {
    "duration": 3,
    "start_time": "2022-02-18T16:48:52.355Z"
   },
   {
    "duration": 59,
    "start_time": "2022-02-18T16:48:55.511Z"
   },
   {
    "duration": 29,
    "start_time": "2022-02-18T16:48:56.959Z"
   },
   {
    "duration": 56,
    "start_time": "2022-02-18T16:48:57.757Z"
   },
   {
    "duration": 15,
    "start_time": "2022-02-18T16:48:58.553Z"
   },
   {
    "duration": 13,
    "start_time": "2022-02-18T16:49:02.411Z"
   },
   {
    "duration": 13,
    "start_time": "2022-02-18T16:49:05.593Z"
   },
   {
    "duration": 7,
    "start_time": "2022-02-18T16:49:07.327Z"
   },
   {
    "duration": 8,
    "start_time": "2022-02-18T16:49:26.014Z"
   },
   {
    "duration": 9,
    "start_time": "2022-02-18T16:49:34.296Z"
   },
   {
    "duration": 7,
    "start_time": "2022-02-18T16:49:46.285Z"
   },
   {
    "duration": 8,
    "start_time": "2022-02-18T16:51:32.837Z"
   },
   {
    "duration": 701,
    "start_time": "2022-02-18T16:53:23.334Z"
   },
   {
    "duration": 64,
    "start_time": "2022-02-18T16:53:24.951Z"
   },
   {
    "duration": 42,
    "start_time": "2022-02-18T16:53:26.290Z"
   },
   {
    "duration": 55,
    "start_time": "2022-02-18T16:53:31.097Z"
   },
   {
    "duration": 15,
    "start_time": "2022-02-18T16:53:35.769Z"
   },
   {
    "duration": 12,
    "start_time": "2022-02-18T16:53:47.941Z"
   },
   {
    "duration": 15,
    "start_time": "2022-02-18T16:54:03.662Z"
   },
   {
    "duration": 7,
    "start_time": "2022-02-18T16:54:04.758Z"
   },
   {
    "duration": 9,
    "start_time": "2022-02-18T16:54:13.757Z"
   },
   {
    "duration": 9,
    "start_time": "2022-02-18T16:54:20.590Z"
   },
   {
    "duration": 16,
    "start_time": "2022-02-18T16:54:36.291Z"
   },
   {
    "duration": 22,
    "start_time": "2022-02-18T16:56:19.597Z"
   },
   {
    "duration": 52,
    "start_time": "2022-02-18T16:59:25.544Z"
   },
   {
    "duration": 22,
    "start_time": "2022-02-18T17:00:37.502Z"
   },
   {
    "duration": 69,
    "start_time": "2022-02-18T17:01:24.775Z"
   },
   {
    "duration": 21,
    "start_time": "2022-02-18T17:11:58.707Z"
   },
   {
    "duration": 8,
    "start_time": "2022-02-18T17:17:36.476Z"
   },
   {
    "duration": 16,
    "start_time": "2022-02-18T17:20:24.900Z"
   },
   {
    "duration": 17,
    "start_time": "2022-02-18T17:20:40.943Z"
   },
   {
    "duration": 22,
    "start_time": "2022-02-18T17:21:56.520Z"
   },
   {
    "duration": 9,
    "start_time": "2022-02-18T17:23:55.666Z"
   },
   {
    "duration": 11,
    "start_time": "2022-02-18T17:53:07.553Z"
   },
   {
    "duration": 18,
    "start_time": "2022-02-18T17:54:15.729Z"
   },
   {
    "duration": 10,
    "start_time": "2022-02-18T18:02:06.145Z"
   },
   {
    "duration": 12,
    "start_time": "2022-02-18T18:02:45.944Z"
   },
   {
    "duration": 12,
    "start_time": "2022-02-18T18:06:47.306Z"
   },
   {
    "duration": 12,
    "start_time": "2022-02-18T18:07:11.503Z"
   },
   {
    "duration": 12,
    "start_time": "2022-02-18T18:07:22.169Z"
   },
   {
    "duration": 16,
    "start_time": "2022-02-18T18:08:07.842Z"
   },
   {
    "duration": 13,
    "start_time": "2022-02-18T18:08:31.143Z"
   },
   {
    "duration": 66,
    "start_time": "2022-02-18T18:13:25.788Z"
   },
   {
    "duration": 308,
    "start_time": "2022-02-19T17:57:13.021Z"
   },
   {
    "duration": 582,
    "start_time": "2022-02-19T17:57:26.568Z"
   },
   {
    "duration": 51,
    "start_time": "2022-02-19T17:57:27.152Z"
   },
   {
    "duration": 24,
    "start_time": "2022-02-19T17:57:27.205Z"
   },
   {
    "duration": 44,
    "start_time": "2022-02-19T17:57:27.231Z"
   },
   {
    "duration": 13,
    "start_time": "2022-02-19T17:57:27.331Z"
   },
   {
    "duration": 10,
    "start_time": "2022-02-19T17:57:28.606Z"
   },
   {
    "duration": 12,
    "start_time": "2022-02-19T17:57:30.382Z"
   },
   {
    "duration": 5,
    "start_time": "2022-02-19T17:57:30.959Z"
   },
   {
    "duration": 6,
    "start_time": "2022-02-19T17:57:32.352Z"
   },
   {
    "duration": 11,
    "start_time": "2022-02-19T17:57:35.976Z"
   },
   {
    "duration": 25,
    "start_time": "2022-02-19T17:57:36.600Z"
   },
   {
    "duration": 38,
    "start_time": "2022-02-19T17:57:37.371Z"
   },
   {
    "duration": 16,
    "start_time": "2022-02-19T17:57:37.976Z"
   },
   {
    "duration": 46,
    "start_time": "2022-02-19T17:57:38.620Z"
   },
   {
    "duration": 16,
    "start_time": "2022-02-19T17:57:39.250Z"
   },
   {
    "duration": 7,
    "start_time": "2022-02-19T17:57:40.791Z"
   },
   {
    "duration": 13,
    "start_time": "2022-02-19T17:57:41.339Z"
   },
   {
    "duration": 16,
    "start_time": "2022-02-19T17:57:42.172Z"
   },
   {
    "duration": 7,
    "start_time": "2022-02-19T17:57:43.060Z"
   },
   {
    "duration": 15,
    "start_time": "2022-02-19T17:57:45.982Z"
   },
   {
    "duration": 14,
    "start_time": "2022-02-19T17:57:57.710Z"
   },
   {
    "duration": 15,
    "start_time": "2022-02-19T17:58:42.850Z"
   },
   {
    "duration": 294,
    "start_time": "2022-02-19T18:00:11.027Z"
   },
   {
    "duration": 271,
    "start_time": "2022-02-19T18:00:17.501Z"
   },
   {
    "duration": 9,
    "start_time": "2022-02-19T18:01:10.671Z"
   },
   {
    "duration": 578,
    "start_time": "2022-02-19T18:01:50.464Z"
   },
   {
    "duration": 50,
    "start_time": "2022-02-19T18:01:51.059Z"
   },
   {
    "duration": 21,
    "start_time": "2022-02-19T18:01:51.792Z"
   },
   {
    "duration": 36,
    "start_time": "2022-02-19T18:01:52.451Z"
   },
   {
    "duration": 11,
    "start_time": "2022-02-19T18:01:53.182Z"
   },
   {
    "duration": 9,
    "start_time": "2022-02-19T18:01:56.088Z"
   },
   {
    "duration": 11,
    "start_time": "2022-02-19T18:02:09.714Z"
   },
   {
    "duration": 6,
    "start_time": "2022-02-19T18:02:10.706Z"
   },
   {
    "duration": 7,
    "start_time": "2022-02-19T18:02:14.911Z"
   },
   {
    "duration": 12,
    "start_time": "2022-02-19T18:02:16.823Z"
   },
   {
    "duration": 15,
    "start_time": "2022-02-19T18:02:17.490Z"
   },
   {
    "duration": 37,
    "start_time": "2022-02-19T18:02:18.448Z"
   },
   {
    "duration": 18,
    "start_time": "2022-02-19T18:02:21.931Z"
   },
   {
    "duration": 42,
    "start_time": "2022-02-19T18:02:22.555Z"
   },
   {
    "duration": 15,
    "start_time": "2022-02-19T18:02:23.397Z"
   },
   {
    "duration": 7,
    "start_time": "2022-02-19T18:02:24.677Z"
   },
   {
    "duration": 12,
    "start_time": "2022-02-19T18:02:26.763Z"
   },
   {
    "duration": 16,
    "start_time": "2022-02-19T18:02:27.363Z"
   },
   {
    "duration": 6,
    "start_time": "2022-02-19T18:02:28.131Z"
   },
   {
    "duration": 9,
    "start_time": "2022-02-19T18:03:05.990Z"
   },
   {
    "duration": 620,
    "start_time": "2022-02-19T18:03:29.763Z"
   },
   {
    "duration": 56,
    "start_time": "2022-02-19T18:03:30.385Z"
   },
   {
    "duration": 20,
    "start_time": "2022-02-19T18:03:30.446Z"
   },
   {
    "duration": 58,
    "start_time": "2022-02-19T18:03:30.468Z"
   },
   {
    "duration": 12,
    "start_time": "2022-02-19T18:03:30.528Z"
   },
   {
    "duration": 84,
    "start_time": "2022-02-19T18:03:30.541Z"
   },
   {
    "duration": 54,
    "start_time": "2022-02-19T18:03:30.628Z"
   },
   {
    "duration": 10,
    "start_time": "2022-02-19T18:03:30.684Z"
   },
   {
    "duration": 16,
    "start_time": "2022-02-19T18:03:30.695Z"
   },
   {
    "duration": 16,
    "start_time": "2022-02-19T18:03:30.713Z"
   },
   {
    "duration": 16,
    "start_time": "2022-02-19T18:03:30.732Z"
   },
   {
    "duration": 44,
    "start_time": "2022-02-19T18:03:30.750Z"
   },
   {
    "duration": 24,
    "start_time": "2022-02-19T18:03:30.796Z"
   },
   {
    "duration": 57,
    "start_time": "2022-02-19T18:03:30.822Z"
   },
   {
    "duration": 16,
    "start_time": "2022-02-19T18:03:30.881Z"
   },
   {
    "duration": 21,
    "start_time": "2022-02-19T18:03:30.899Z"
   },
   {
    "duration": 31,
    "start_time": "2022-02-19T18:03:30.921Z"
   },
   {
    "duration": 29,
    "start_time": "2022-02-19T18:03:30.954Z"
   },
   {
    "duration": 33,
    "start_time": "2022-02-19T18:03:30.984Z"
   },
   {
    "duration": 62,
    "start_time": "2022-02-19T18:03:31.019Z"
   },
   {
    "duration": 22,
    "start_time": "2022-02-19T18:03:31.083Z"
   },
   {
    "duration": 31,
    "start_time": "2022-02-19T18:03:31.108Z"
   },
   {
    "duration": 50,
    "start_time": "2022-02-19T18:03:31.141Z"
   },
   {
    "duration": 4,
    "start_time": "2022-02-19T18:03:31.192Z"
   },
   {
    "duration": 650,
    "start_time": "2022-02-19T18:05:03.435Z"
   },
   {
    "duration": 50,
    "start_time": "2022-02-19T18:05:04.092Z"
   },
   {
    "duration": 23,
    "start_time": "2022-02-19T18:05:04.996Z"
   },
   {
    "duration": 36,
    "start_time": "2022-02-19T18:05:08.135Z"
   },
   {
    "duration": 12,
    "start_time": "2022-02-19T18:05:10.675Z"
   },
   {
    "duration": 12,
    "start_time": "2022-02-19T18:05:15.059Z"
   },
   {
    "duration": 8,
    "start_time": "2022-02-19T18:07:02.152Z"
   },
   {
    "duration": 10,
    "start_time": "2022-02-19T18:07:03.185Z"
   },
   {
    "duration": 34,
    "start_time": "2022-02-19T18:07:06.327Z"
   },
   {
    "duration": 11,
    "start_time": "2022-02-19T18:08:15.999Z"
   },
   {
    "duration": 12,
    "start_time": "2022-02-19T18:08:20.961Z"
   },
   {
    "duration": 6,
    "start_time": "2022-02-19T18:08:21.513Z"
   },
   {
    "duration": 585,
    "start_time": "2022-02-19T18:08:29.060Z"
   },
   {
    "duration": 54,
    "start_time": "2022-02-19T18:08:29.647Z"
   },
   {
    "duration": 18,
    "start_time": "2022-02-19T18:08:29.703Z"
   },
   {
    "duration": 41,
    "start_time": "2022-02-19T18:08:29.723Z"
   },
   {
    "duration": 11,
    "start_time": "2022-02-19T18:08:29.766Z"
   },
   {
    "duration": 9,
    "start_time": "2022-02-19T18:08:29.779Z"
   },
   {
    "duration": 39,
    "start_time": "2022-02-19T18:08:29.791Z"
   },
   {
    "duration": 4,
    "start_time": "2022-02-19T18:08:29.833Z"
   },
   {
    "duration": 11,
    "start_time": "2022-02-19T18:08:29.840Z"
   },
   {
    "duration": 15,
    "start_time": "2022-02-19T18:08:29.854Z"
   },
   {
    "duration": 49,
    "start_time": "2022-02-19T18:08:29.871Z"
   },
   {
    "duration": 39,
    "start_time": "2022-02-19T18:08:29.922Z"
   },
   {
    "duration": 18,
    "start_time": "2022-02-19T18:08:29.963Z"
   },
   {
    "duration": 76,
    "start_time": "2022-02-19T18:08:29.983Z"
   },
   {
    "duration": 16,
    "start_time": "2022-02-19T18:08:30.062Z"
   },
   {
    "duration": 8,
    "start_time": "2022-02-19T18:08:30.080Z"
   },
   {
    "duration": 39,
    "start_time": "2022-02-19T18:08:30.090Z"
   },
   {
    "duration": 17,
    "start_time": "2022-02-19T18:08:30.131Z"
   },
   {
    "duration": 7,
    "start_time": "2022-02-19T18:08:30.150Z"
   },
   {
    "duration": 17,
    "start_time": "2022-02-19T18:08:30.159Z"
   },
   {
    "duration": 11,
    "start_time": "2022-02-19T18:08:30.177Z"
   },
   {
    "duration": 47,
    "start_time": "2022-02-19T18:08:30.219Z"
   },
   {
    "duration": 4,
    "start_time": "2022-02-19T18:08:30.269Z"
   },
   {
    "duration": 8,
    "start_time": "2022-02-19T18:09:22.891Z"
   },
   {
    "duration": 9,
    "start_time": "2022-02-19T18:09:23.839Z"
   },
   {
    "duration": 4,
    "start_time": "2022-02-19T18:10:01.157Z"
   },
   {
    "duration": 87,
    "start_time": "2022-02-19T18:12:46.927Z"
   },
   {
    "duration": 322,
    "start_time": "2022-02-19T18:12:53.400Z"
   },
   {
    "duration": 8,
    "start_time": "2022-02-19T18:13:10.946Z"
   },
   {
    "duration": 330,
    "start_time": "2022-02-19T18:15:40.331Z"
   },
   {
    "duration": 10,
    "start_time": "2022-02-19T18:16:05.231Z"
   },
   {
    "duration": 12,
    "start_time": "2022-02-19T18:18:09.313Z"
   },
   {
    "duration": 13,
    "start_time": "2022-02-19T18:34:55.123Z"
   },
   {
    "duration": 270,
    "start_time": "2022-02-19T18:39:32.121Z"
   },
   {
    "duration": 283,
    "start_time": "2022-02-19T18:39:43.363Z"
   },
   {
    "duration": 272,
    "start_time": "2022-02-19T18:40:28.815Z"
   },
   {
    "duration": 346,
    "start_time": "2022-02-19T18:46:17.747Z"
   },
   {
    "duration": 270,
    "start_time": "2022-02-19T18:47:16.861Z"
   },
   {
    "duration": 253,
    "start_time": "2022-02-19T18:48:26.269Z"
   },
   {
    "duration": 297,
    "start_time": "2022-02-19T18:50:50.679Z"
   },
   {
    "duration": 261,
    "start_time": "2022-02-19T18:53:13.918Z"
   },
   {
    "duration": 303,
    "start_time": "2022-02-19T18:53:57.578Z"
   },
   {
    "duration": 272,
    "start_time": "2022-02-19T18:56:43.042Z"
   },
   {
    "duration": 33,
    "start_time": "2022-02-19T18:56:51.908Z"
   },
   {
    "duration": 259,
    "start_time": "2022-02-19T18:56:54.622Z"
   },
   {
    "duration": 627,
    "start_time": "2022-02-19T18:57:30.353Z"
   },
   {
    "duration": 3,
    "start_time": "2022-02-19T18:57:35.141Z"
   },
   {
    "duration": 66,
    "start_time": "2022-02-19T18:57:35.146Z"
   },
   {
    "duration": 19,
    "start_time": "2022-02-19T18:57:35.214Z"
   },
   {
    "duration": 51,
    "start_time": "2022-02-19T18:57:35.235Z"
   },
   {
    "duration": 11,
    "start_time": "2022-02-19T18:57:35.288Z"
   },
   {
    "duration": 34,
    "start_time": "2022-02-19T18:57:35.301Z"
   },
   {
    "duration": 41,
    "start_time": "2022-02-19T18:57:35.336Z"
   },
   {
    "duration": 28,
    "start_time": "2022-02-19T18:57:35.379Z"
   },
   {
    "duration": 14,
    "start_time": "2022-02-19T18:57:35.409Z"
   },
   {
    "duration": 29,
    "start_time": "2022-02-19T18:57:35.425Z"
   },
   {
    "duration": 28,
    "start_time": "2022-02-19T18:57:35.456Z"
   },
   {
    "duration": 50,
    "start_time": "2022-02-19T18:57:35.486Z"
   },
   {
    "duration": 32,
    "start_time": "2022-02-19T18:57:35.538Z"
   },
   {
    "duration": 55,
    "start_time": "2022-02-19T18:57:35.572Z"
   },
   {
    "duration": 15,
    "start_time": "2022-02-19T18:57:35.628Z"
   },
   {
    "duration": 37,
    "start_time": "2022-02-19T18:57:35.644Z"
   },
   {
    "duration": 23,
    "start_time": "2022-02-19T18:57:35.683Z"
   },
   {
    "duration": 20,
    "start_time": "2022-02-19T18:57:35.707Z"
   },
   {
    "duration": 8,
    "start_time": "2022-02-19T18:57:35.728Z"
   },
   {
    "duration": 13,
    "start_time": "2022-02-19T18:57:35.737Z"
   },
   {
    "duration": 12,
    "start_time": "2022-02-19T18:57:35.751Z"
   },
   {
    "duration": 65,
    "start_time": "2022-02-19T18:57:35.764Z"
   },
   {
    "duration": 20,
    "start_time": "2022-02-19T18:57:35.832Z"
   },
   {
    "duration": 13,
    "start_time": "2022-02-19T18:57:35.854Z"
   },
   {
    "duration": 28,
    "start_time": "2022-02-19T18:58:25.251Z"
   },
   {
    "duration": 29,
    "start_time": "2022-02-19T18:58:36.817Z"
   },
   {
    "duration": 25,
    "start_time": "2022-02-19T18:58:48.550Z"
   },
   {
    "duration": 21,
    "start_time": "2022-02-19T18:59:22.379Z"
   },
   {
    "duration": 25,
    "start_time": "2022-02-19T18:59:36.011Z"
   },
   {
    "duration": 15,
    "start_time": "2022-02-19T19:00:21.383Z"
   },
   {
    "duration": 339,
    "start_time": "2022-02-19T19:00:28.180Z"
   },
   {
    "duration": 337,
    "start_time": "2022-02-19T19:01:12.068Z"
   },
   {
    "duration": 264,
    "start_time": "2022-02-19T19:01:31.256Z"
   },
   {
    "duration": 593,
    "start_time": "2022-02-19T19:02:08.760Z"
   },
   {
    "duration": 52,
    "start_time": "2022-02-19T19:02:09.732Z"
   },
   {
    "duration": 20,
    "start_time": "2022-02-19T19:02:11.670Z"
   },
   {
    "duration": 33,
    "start_time": "2022-02-19T19:02:19.274Z"
   },
   {
    "duration": 12,
    "start_time": "2022-02-19T19:02:47.565Z"
   },
   {
    "duration": 9,
    "start_time": "2022-02-19T19:02:52.207Z"
   },
   {
    "duration": 12,
    "start_time": "2022-02-19T19:02:55.055Z"
   },
   {
    "duration": 6,
    "start_time": "2022-02-19T19:02:55.978Z"
   },
   {
    "duration": 6,
    "start_time": "2022-02-19T19:02:57.644Z"
   },
   {
    "duration": 12,
    "start_time": "2022-02-19T19:03:02.947Z"
   },
   {
    "duration": 17,
    "start_time": "2022-02-19T19:03:04.431Z"
   },
   {
    "duration": 35,
    "start_time": "2022-02-19T19:03:05.517Z"
   },
   {
    "duration": 16,
    "start_time": "2022-02-19T19:03:06.762Z"
   },
   {
    "duration": 46,
    "start_time": "2022-02-19T19:03:07.568Z"
   },
   {
    "duration": 19,
    "start_time": "2022-02-19T19:03:08.430Z"
   },
   {
    "duration": 7,
    "start_time": "2022-02-19T19:03:10.272Z"
   },
   {
    "duration": 13,
    "start_time": "2022-02-19T19:03:11.074Z"
   },
   {
    "duration": 17,
    "start_time": "2022-02-19T19:03:12.062Z"
   },
   {
    "duration": 6,
    "start_time": "2022-02-19T19:03:13.514Z"
   },
   {
    "duration": 11,
    "start_time": "2022-02-19T19:03:18.981Z"
   },
   {
    "duration": 10,
    "start_time": "2022-02-19T19:03:23.732Z"
   },
   {
    "duration": 39,
    "start_time": "2022-02-19T19:03:25.768Z"
   },
   {
    "duration": 13,
    "start_time": "2022-02-19T19:03:29.400Z"
   },
   {
    "duration": 12,
    "start_time": "2022-02-19T19:03:30.426Z"
   },
   {
    "duration": 13,
    "start_time": "2022-02-19T19:05:06.477Z"
   },
   {
    "duration": 11,
    "start_time": "2022-02-19T19:05:17.015Z"
   },
   {
    "duration": 381,
    "start_time": "2022-02-19T19:06:00.556Z"
   },
   {
    "duration": 674,
    "start_time": "2022-02-19T19:06:10.217Z"
   },
   {
    "duration": 54,
    "start_time": "2022-02-19T19:06:10.892Z"
   },
   {
    "duration": 19,
    "start_time": "2022-02-19T19:06:11.492Z"
   },
   {
    "duration": 32,
    "start_time": "2022-02-19T19:06:12.202Z"
   },
   {
    "duration": 11,
    "start_time": "2022-02-19T19:06:12.875Z"
   },
   {
    "duration": 9,
    "start_time": "2022-02-19T19:06:15.886Z"
   },
   {
    "duration": 12,
    "start_time": "2022-02-19T19:06:18.020Z"
   },
   {
    "duration": 7,
    "start_time": "2022-02-19T19:06:19.096Z"
   },
   {
    "duration": 6,
    "start_time": "2022-02-19T19:06:20.406Z"
   },
   {
    "duration": 11,
    "start_time": "2022-02-19T19:06:22.196Z"
   },
   {
    "duration": 16,
    "start_time": "2022-02-19T19:06:22.853Z"
   },
   {
    "duration": 34,
    "start_time": "2022-02-19T19:06:24.421Z"
   },
   {
    "duration": 21,
    "start_time": "2022-02-19T19:06:25.121Z"
   },
   {
    "duration": 45,
    "start_time": "2022-02-19T19:06:25.867Z"
   },
   {
    "duration": 16,
    "start_time": "2022-02-19T19:06:26.632Z"
   },
   {
    "duration": 7,
    "start_time": "2022-02-19T19:06:28.154Z"
   },
   {
    "duration": 12,
    "start_time": "2022-02-19T19:06:28.846Z"
   },
   {
    "duration": 19,
    "start_time": "2022-02-19T19:06:29.616Z"
   },
   {
    "duration": 7,
    "start_time": "2022-02-19T19:06:30.310Z"
   },
   {
    "duration": 10,
    "start_time": "2022-02-19T19:06:33.660Z"
   },
   {
    "duration": 11,
    "start_time": "2022-02-19T19:06:37.347Z"
   },
   {
    "duration": 46,
    "start_time": "2022-02-19T19:06:41.132Z"
   },
   {
    "duration": 13,
    "start_time": "2022-02-19T19:06:43.169Z"
   },
   {
    "duration": 13,
    "start_time": "2022-02-19T19:06:44.027Z"
   },
   {
    "duration": 14,
    "start_time": "2022-02-19T19:06:44.678Z"
   },
   {
    "duration": 10,
    "start_time": "2022-02-19T19:06:45.315Z"
   },
   {
    "duration": 570,
    "start_time": "2022-02-19T19:07:03.657Z"
   },
   {
    "duration": 47,
    "start_time": "2022-02-19T19:07:04.244Z"
   },
   {
    "duration": 18,
    "start_time": "2022-02-19T19:07:05.781Z"
   },
   {
    "duration": 33,
    "start_time": "2022-02-19T19:07:06.935Z"
   },
   {
    "duration": 11,
    "start_time": "2022-02-19T19:07:07.829Z"
   },
   {
    "duration": 10,
    "start_time": "2022-02-19T19:07:10.326Z"
   },
   {
    "duration": 12,
    "start_time": "2022-02-19T19:07:12.284Z"
   },
   {
    "duration": 6,
    "start_time": "2022-02-19T19:07:13.228Z"
   },
   {
    "duration": 6,
    "start_time": "2022-02-19T19:07:14.667Z"
   },
   {
    "duration": 12,
    "start_time": "2022-02-19T19:07:16.644Z"
   },
   {
    "duration": 16,
    "start_time": "2022-02-19T19:07:17.316Z"
   },
   {
    "duration": 37,
    "start_time": "2022-02-19T19:07:18.014Z"
   },
   {
    "duration": 30,
    "start_time": "2022-02-19T19:07:18.759Z"
   },
   {
    "duration": 45,
    "start_time": "2022-02-19T19:07:19.616Z"
   },
   {
    "duration": 15,
    "start_time": "2022-02-19T19:07:20.399Z"
   },
   {
    "duration": 7,
    "start_time": "2022-02-19T19:07:22.036Z"
   },
   {
    "duration": 12,
    "start_time": "2022-02-19T19:07:22.804Z"
   },
   {
    "duration": 17,
    "start_time": "2022-02-19T19:07:23.552Z"
   },
   {
    "duration": 7,
    "start_time": "2022-02-19T19:07:24.342Z"
   },
   {
    "duration": 9,
    "start_time": "2022-02-19T19:07:27.836Z"
   },
   {
    "duration": 10,
    "start_time": "2022-02-19T19:07:42.735Z"
   },
   {
    "duration": 42,
    "start_time": "2022-02-19T19:07:46.816Z"
   },
   {
    "duration": 12,
    "start_time": "2022-02-19T19:07:50.936Z"
   },
   {
    "duration": 11,
    "start_time": "2022-02-19T19:07:51.668Z"
   },
   {
    "duration": 14,
    "start_time": "2022-02-19T19:07:53.098Z"
   },
   {
    "duration": 10,
    "start_time": "2022-02-19T19:07:53.766Z"
   },
   {
    "duration": 631,
    "start_time": "2022-02-19T19:12:12.697Z"
   },
   {
    "duration": 48,
    "start_time": "2022-02-19T19:12:13.330Z"
   },
   {
    "duration": 18,
    "start_time": "2022-02-19T19:12:13.383Z"
   },
   {
    "duration": 45,
    "start_time": "2022-02-19T19:12:13.402Z"
   },
   {
    "duration": 11,
    "start_time": "2022-02-19T19:12:13.448Z"
   },
   {
    "duration": 10,
    "start_time": "2022-02-19T19:12:13.460Z"
   },
   {
    "duration": 10,
    "start_time": "2022-02-19T19:12:13.472Z"
   },
   {
    "duration": 4,
    "start_time": "2022-02-19T19:12:13.484Z"
   },
   {
    "duration": 32,
    "start_time": "2022-02-19T19:12:13.490Z"
   },
   {
    "duration": 13,
    "start_time": "2022-02-19T19:12:13.524Z"
   },
   {
    "duration": 18,
    "start_time": "2022-02-19T19:12:13.539Z"
   },
   {
    "duration": 36,
    "start_time": "2022-02-19T19:12:13.559Z"
   },
   {
    "duration": 17,
    "start_time": "2022-02-19T19:12:13.617Z"
   },
   {
    "duration": 44,
    "start_time": "2022-02-19T19:12:13.636Z"
   },
   {
    "duration": 15,
    "start_time": "2022-02-19T19:12:13.681Z"
   },
   {
    "duration": 6,
    "start_time": "2022-02-19T19:12:13.719Z"
   },
   {
    "duration": 16,
    "start_time": "2022-02-19T19:12:13.727Z"
   },
   {
    "duration": 16,
    "start_time": "2022-02-19T19:12:13.745Z"
   },
   {
    "duration": 6,
    "start_time": "2022-02-19T19:12:13.762Z"
   },
   {
    "duration": 15,
    "start_time": "2022-02-19T19:12:13.770Z"
   },
   {
    "duration": 34,
    "start_time": "2022-02-19T19:12:13.787Z"
   },
   {
    "duration": 45,
    "start_time": "2022-02-19T19:12:13.823Z"
   },
   {
    "duration": 11,
    "start_time": "2022-02-19T19:12:13.870Z"
   },
   {
    "duration": 35,
    "start_time": "2022-02-19T19:12:13.883Z"
   },
   {
    "duration": 13,
    "start_time": "2022-02-19T19:12:13.921Z"
   },
   {
    "duration": 21,
    "start_time": "2022-02-19T19:12:13.935Z"
   },
   {
    "duration": 4,
    "start_time": "2022-02-19T19:13:47.443Z"
   },
   {
    "duration": 4,
    "start_time": "2022-02-19T19:13:53.133Z"
   },
   {
    "duration": 34,
    "start_time": "2022-02-19T19:14:07.469Z"
   },
   {
    "duration": 8,
    "start_time": "2022-02-19T19:16:44.722Z"
   },
   {
    "duration": 11,
    "start_time": "2022-02-19T19:16:49.027Z"
   },
   {
    "duration": 23,
    "start_time": "2022-02-19T19:37:24.683Z"
   },
   {
    "duration": 89,
    "start_time": "2022-02-19T19:38:56.617Z"
   },
   {
    "duration": 3,
    "start_time": "2022-02-19T19:39:16.977Z"
   },
   {
    "duration": 90,
    "start_time": "2022-02-19T19:39:25.875Z"
   },
   {
    "duration": 19,
    "start_time": "2022-02-19T19:39:39.204Z"
   },
   {
    "duration": 20,
    "start_time": "2022-02-19T19:43:33.792Z"
   },
   {
    "duration": 3646,
    "start_time": "2022-02-19T20:22:58.647Z"
   },
   {
    "duration": 1608,
    "start_time": "2022-02-19T20:25:14.749Z"
   },
   {
    "duration": 3842,
    "start_time": "2022-02-19T20:26:03.211Z"
   },
   {
    "duration": 4081,
    "start_time": "2022-02-19T20:26:07.107Z"
   },
   {
    "duration": 1505,
    "start_time": "2022-02-19T20:26:25.688Z"
   },
   {
    "duration": 657,
    "start_time": "2022-02-20T16:16:58.294Z"
   },
   {
    "duration": 434,
    "start_time": "2022-02-20T16:17:06.036Z"
   },
   {
    "duration": 745,
    "start_time": "2022-02-20T16:17:20.059Z"
   },
   {
    "duration": 78,
    "start_time": "2022-02-20T16:17:20.810Z"
   },
   {
    "duration": 29,
    "start_time": "2022-02-20T16:17:20.891Z"
   },
   {
    "duration": 50,
    "start_time": "2022-02-20T16:17:20.923Z"
   },
   {
    "duration": 35,
    "start_time": "2022-02-20T16:17:20.976Z"
   },
   {
    "duration": 13,
    "start_time": "2022-02-20T16:17:21.014Z"
   },
   {
    "duration": 17,
    "start_time": "2022-02-20T16:17:21.029Z"
   },
   {
    "duration": 6,
    "start_time": "2022-02-20T16:17:21.050Z"
   },
   {
    "duration": 10,
    "start_time": "2022-02-20T16:17:21.059Z"
   },
   {
    "duration": 15,
    "start_time": "2022-02-20T16:17:21.111Z"
   },
   {
    "duration": 23,
    "start_time": "2022-02-20T16:17:21.128Z"
   },
   {
    "duration": 74,
    "start_time": "2022-02-20T16:17:21.153Z"
   },
   {
    "duration": 23,
    "start_time": "2022-02-20T16:17:21.229Z"
   },
   {
    "duration": 87,
    "start_time": "2022-02-20T16:17:21.255Z"
   },
   {
    "duration": 20,
    "start_time": "2022-02-20T16:17:21.345Z"
   },
   {
    "duration": 9,
    "start_time": "2022-02-20T16:17:21.367Z"
   },
   {
    "duration": 41,
    "start_time": "2022-02-20T16:17:21.379Z"
   },
   {
    "duration": 22,
    "start_time": "2022-02-20T16:17:21.423Z"
   },
   {
    "duration": 8,
    "start_time": "2022-02-20T16:17:21.448Z"
   },
   {
    "duration": 14,
    "start_time": "2022-02-20T16:17:21.459Z"
   },
   {
    "duration": 14,
    "start_time": "2022-02-20T16:17:21.511Z"
   },
   {
    "duration": 61,
    "start_time": "2022-02-20T16:17:21.528Z"
   },
   {
    "duration": 35,
    "start_time": "2022-02-20T16:17:21.593Z"
   },
   {
    "duration": 17,
    "start_time": "2022-02-20T16:17:21.631Z"
   },
   {
    "duration": 18,
    "start_time": "2022-02-20T16:17:21.650Z"
   },
   {
    "duration": 53,
    "start_time": "2022-02-20T16:17:21.671Z"
   },
   {
    "duration": 31,
    "start_time": "2022-02-20T16:17:21.727Z"
   },
   {
    "duration": 54,
    "start_time": "2022-02-20T16:17:21.760Z"
   },
   {
    "duration": 4960,
    "start_time": "2022-02-20T16:17:21.817Z"
   },
   {
    "duration": 2377,
    "start_time": "2022-02-20T16:17:26.780Z"
   },
   {
    "duration": 47,
    "start_time": "2022-02-20T16:18:07.079Z"
   },
   {
    "duration": 2150,
    "start_time": "2022-02-20T16:19:51.621Z"
   },
   {
    "duration": 130,
    "start_time": "2022-02-20T16:23:44.900Z"
   },
   {
    "duration": 2380,
    "start_time": "2022-02-20T16:24:42.102Z"
   },
   {
    "duration": 124,
    "start_time": "2022-02-20T16:25:36.636Z"
   },
   {
    "duration": 2167,
    "start_time": "2022-02-20T16:26:07.618Z"
   },
   {
    "duration": 2217,
    "start_time": "2022-02-20T16:29:53.833Z"
   },
   {
    "duration": 2195,
    "start_time": "2022-02-20T16:32:50.550Z"
   },
   {
    "duration": 122,
    "start_time": "2022-02-20T16:37:37.533Z"
   },
   {
    "duration": 2189,
    "start_time": "2022-02-20T16:37:54.194Z"
   },
   {
    "duration": 136,
    "start_time": "2022-02-20T16:54:40.734Z"
   },
   {
    "duration": 2009,
    "start_time": "2022-02-20T16:55:46.619Z"
   },
   {
    "duration": 852,
    "start_time": "2022-02-20T16:57:31.908Z"
   },
   {
    "duration": 70,
    "start_time": "2022-02-20T16:57:32.763Z"
   },
   {
    "duration": 29,
    "start_time": "2022-02-20T16:57:33.360Z"
   },
   {
    "duration": 48,
    "start_time": "2022-02-20T16:57:38.929Z"
   },
   {
    "duration": 22,
    "start_time": "2022-02-20T16:57:40.042Z"
   },
   {
    "duration": 19,
    "start_time": "2022-02-20T16:57:44.752Z"
   },
   {
    "duration": 14,
    "start_time": "2022-02-20T16:57:47.790Z"
   },
   {
    "duration": 9,
    "start_time": "2022-02-20T16:57:48.662Z"
   },
   {
    "duration": 11,
    "start_time": "2022-02-20T16:57:52.084Z"
   },
   {
    "duration": 20,
    "start_time": "2022-02-20T16:57:55.702Z"
   },
   {
    "duration": 22,
    "start_time": "2022-02-20T16:57:58.461Z"
   },
   {
    "duration": 48,
    "start_time": "2022-02-20T16:58:01.112Z"
   },
   {
    "duration": 22,
    "start_time": "2022-02-20T16:58:01.970Z"
   },
   {
    "duration": 95,
    "start_time": "2022-02-20T16:58:02.762Z"
   },
   {
    "duration": 21,
    "start_time": "2022-02-20T16:58:05.131Z"
   },
   {
    "duration": 8,
    "start_time": "2022-02-20T16:58:06.797Z"
   },
   {
    "duration": 16,
    "start_time": "2022-02-20T16:58:07.912Z"
   },
   {
    "duration": 22,
    "start_time": "2022-02-20T16:58:10.135Z"
   },
   {
    "duration": 10,
    "start_time": "2022-02-20T16:58:11.031Z"
   },
   {
    "duration": 12,
    "start_time": "2022-02-20T16:58:16.289Z"
   },
   {
    "duration": 11,
    "start_time": "2022-02-20T16:58:25.757Z"
   },
   {
    "duration": 14,
    "start_time": "2022-02-20T16:58:26.469Z"
   },
   {
    "duration": 84,
    "start_time": "2022-02-20T16:58:28.025Z"
   },
   {
    "duration": 1003,
    "start_time": "2022-02-20T16:59:10.915Z"
   },
   {
    "duration": 65,
    "start_time": "2022-02-20T16:59:11.921Z"
   },
   {
    "duration": 29,
    "start_time": "2022-02-20T16:59:11.989Z"
   },
   {
    "duration": 54,
    "start_time": "2022-02-20T16:59:12.021Z"
   },
   {
    "duration": 33,
    "start_time": "2022-02-20T16:59:12.077Z"
   },
   {
    "duration": 16,
    "start_time": "2022-02-20T16:59:12.113Z"
   },
   {
    "duration": 16,
    "start_time": "2022-02-20T16:59:12.132Z"
   },
   {
    "duration": 13,
    "start_time": "2022-02-20T16:59:12.153Z"
   },
   {
    "duration": 45,
    "start_time": "2022-02-20T16:59:12.170Z"
   },
   {
    "duration": 17,
    "start_time": "2022-02-20T16:59:12.217Z"
   },
   {
    "duration": 21,
    "start_time": "2022-02-20T16:59:12.236Z"
   },
   {
    "duration": 80,
    "start_time": "2022-02-20T16:59:12.260Z"
   },
   {
    "duration": 24,
    "start_time": "2022-02-20T16:59:12.343Z"
   },
   {
    "duration": 109,
    "start_time": "2022-02-20T16:59:12.370Z"
   },
   {
    "duration": 29,
    "start_time": "2022-02-20T16:59:12.483Z"
   },
   {
    "duration": 8,
    "start_time": "2022-02-20T16:59:12.514Z"
   },
   {
    "duration": 16,
    "start_time": "2022-02-20T16:59:12.525Z"
   },
   {
    "duration": 22,
    "start_time": "2022-02-20T16:59:12.544Z"
   },
   {
    "duration": 52,
    "start_time": "2022-02-20T16:59:12.568Z"
   },
   {
    "duration": 18,
    "start_time": "2022-02-20T16:59:12.623Z"
   },
   {
    "duration": 18,
    "start_time": "2022-02-20T16:59:12.644Z"
   },
   {
    "duration": 91,
    "start_time": "2022-02-20T16:59:12.665Z"
   },
   {
    "duration": 16,
    "start_time": "2022-02-20T16:59:12.761Z"
   },
   {
    "duration": 33,
    "start_time": "2022-02-20T16:59:12.779Z"
   },
   {
    "duration": 15,
    "start_time": "2022-02-20T16:59:12.815Z"
   },
   {
    "duration": 16,
    "start_time": "2022-02-20T16:59:12.832Z"
   },
   {
    "duration": 65,
    "start_time": "2022-02-20T16:59:12.851Z"
   },
   {
    "duration": 27,
    "start_time": "2022-02-20T16:59:12.918Z"
   },
   {
    "duration": 5785,
    "start_time": "2022-02-20T16:59:12.948Z"
   },
   {
    "duration": 53,
    "start_time": "2022-02-20T16:59:18.737Z"
   },
   {
    "duration": 2103,
    "start_time": "2022-02-20T16:59:18.793Z"
   },
   {
    "duration": 14,
    "start_time": "2022-02-20T17:00:01.007Z"
   },
   {
    "duration": 11,
    "start_time": "2022-02-20T17:00:06.501Z"
   },
   {
    "duration": 15,
    "start_time": "2022-02-20T17:00:49.180Z"
   },
   {
    "duration": 6,
    "start_time": "2022-02-20T17:01:21.941Z"
   },
   {
    "duration": 83,
    "start_time": "2022-02-20T17:01:27.151Z"
   },
   {
    "duration": 1968,
    "start_time": "2022-02-20T17:02:28.688Z"
   },
   {
    "duration": 776,
    "start_time": "2022-02-20T17:05:46.762Z"
   },
   {
    "duration": 70,
    "start_time": "2022-02-20T17:05:47.541Z"
   },
   {
    "duration": 27,
    "start_time": "2022-02-20T17:05:47.614Z"
   },
   {
    "duration": 72,
    "start_time": "2022-02-20T17:05:47.644Z"
   },
   {
    "duration": 16,
    "start_time": "2022-02-20T17:05:47.719Z"
   },
   {
    "duration": 15,
    "start_time": "2022-02-20T17:05:47.737Z"
   },
   {
    "duration": 15,
    "start_time": "2022-02-20T17:05:47.754Z"
   },
   {
    "duration": 44,
    "start_time": "2022-02-20T17:05:47.773Z"
   },
   {
    "duration": 9,
    "start_time": "2022-02-20T17:05:47.820Z"
   },
   {
    "duration": 17,
    "start_time": "2022-02-20T17:05:47.831Z"
   },
   {
    "duration": 63,
    "start_time": "2022-02-20T17:05:47.851Z"
   },
   {
    "duration": 49,
    "start_time": "2022-02-20T17:05:47.917Z"
   },
   {
    "duration": 48,
    "start_time": "2022-02-20T17:05:47.969Z"
   },
   {
    "duration": 60,
    "start_time": "2022-02-20T17:05:48.020Z"
   },
   {
    "duration": 45,
    "start_time": "2022-02-20T17:05:48.083Z"
   },
   {
    "duration": 10,
    "start_time": "2022-02-20T17:05:48.131Z"
   },
   {
    "duration": 17,
    "start_time": "2022-02-20T17:05:48.144Z"
   },
   {
    "duration": 58,
    "start_time": "2022-02-20T17:05:48.164Z"
   },
   {
    "duration": 12,
    "start_time": "2022-02-20T17:05:48.225Z"
   },
   {
    "duration": 15,
    "start_time": "2022-02-20T17:05:48.240Z"
   },
   {
    "duration": 55,
    "start_time": "2022-02-20T17:05:48.258Z"
   },
   {
    "duration": 5,
    "start_time": "2022-02-20T17:05:48.315Z"
   },
   {
    "duration": 52,
    "start_time": "2022-02-20T17:05:48.324Z"
   },
   {
    "duration": 45,
    "start_time": "2022-02-20T17:05:48.378Z"
   },
   {
    "duration": 15,
    "start_time": "2022-02-20T17:05:48.426Z"
   },
   {
    "duration": 16,
    "start_time": "2022-02-20T17:05:48.443Z"
   },
   {
    "duration": 54,
    "start_time": "2022-02-20T17:05:48.462Z"
   },
   {
    "duration": 33,
    "start_time": "2022-02-20T17:05:48.520Z"
   },
   {
    "duration": 58,
    "start_time": "2022-02-20T17:05:48.556Z"
   },
   {
    "duration": 5969,
    "start_time": "2022-02-20T17:05:48.616Z"
   },
   {
    "duration": 81,
    "start_time": "2022-02-20T17:05:54.588Z"
   },
   {
    "duration": 1905,
    "start_time": "2022-02-20T17:05:54.673Z"
   },
   {
    "duration": 5762,
    "start_time": "2022-02-20T17:08:39.090Z"
   },
   {
    "duration": 54,
    "start_time": "2022-02-20T17:40:06.695Z"
   },
   {
    "duration": 6,
    "start_time": "2022-02-20T17:44:08.616Z"
   },
   {
    "duration": 5,
    "start_time": "2022-02-20T17:44:39.064Z"
   },
   {
    "duration": 5477,
    "start_time": "2022-02-20T17:44:47.416Z"
   },
   {
    "duration": 4271,
    "start_time": "2022-02-20T17:44:53.254Z"
   },
   {
    "duration": 29,
    "start_time": "2022-02-20T17:47:53.584Z"
   },
   {
    "duration": 915,
    "start_time": "2022-02-20T17:48:59.789Z"
   },
   {
    "duration": 69,
    "start_time": "2022-02-20T17:49:01.766Z"
   },
   {
    "duration": 29,
    "start_time": "2022-02-20T17:49:02.569Z"
   },
   {
    "duration": 50,
    "start_time": "2022-02-20T17:49:06.095Z"
   },
   {
    "duration": 24,
    "start_time": "2022-02-20T17:49:06.960Z"
   },
   {
    "duration": 13,
    "start_time": "2022-02-20T17:49:13.804Z"
   },
   {
    "duration": 16,
    "start_time": "2022-02-20T17:49:18.108Z"
   },
   {
    "duration": 6,
    "start_time": "2022-02-20T17:49:22.679Z"
   },
   {
    "duration": 8,
    "start_time": "2022-02-20T17:49:24.762Z"
   },
   {
    "duration": 17,
    "start_time": "2022-02-20T17:49:28.920Z"
   },
   {
    "duration": 23,
    "start_time": "2022-02-20T17:49:30.292Z"
   },
   {
    "duration": 49,
    "start_time": "2022-02-20T17:49:33.612Z"
   },
   {
    "duration": 26,
    "start_time": "2022-02-20T17:49:34.644Z"
   },
   {
    "duration": 62,
    "start_time": "2022-02-20T17:49:35.938Z"
   },
   {
    "duration": 21,
    "start_time": "2022-02-20T17:49:37.526Z"
   },
   {
    "duration": 9,
    "start_time": "2022-02-20T17:49:42.002Z"
   },
   {
    "duration": 15,
    "start_time": "2022-02-20T17:49:42.968Z"
   },
   {
    "duration": 22,
    "start_time": "2022-02-20T17:49:44.692Z"
   },
   {
    "duration": 8,
    "start_time": "2022-02-20T17:49:45.666Z"
   },
   {
    "duration": 16,
    "start_time": "2022-02-20T17:49:48.220Z"
   },
   {
    "duration": 817,
    "start_time": "2022-02-20T17:50:18.833Z"
   },
   {
    "duration": 724,
    "start_time": "2022-02-20T17:50:22.637Z"
   },
   {
    "duration": 15,
    "start_time": "2022-02-20T17:50:28.124Z"
   },
   {
    "duration": 6,
    "start_time": "2022-02-20T17:50:32.407Z"
   },
   {
    "duration": 53,
    "start_time": "2022-02-20T17:50:34.196Z"
   },
   {
    "duration": 16,
    "start_time": "2022-02-20T17:50:37.165Z"
   },
   {
    "duration": 18,
    "start_time": "2022-02-20T17:50:37.184Z"
   },
   {
    "duration": 22,
    "start_time": "2022-02-20T17:50:38.025Z"
   },
   {
    "duration": 18,
    "start_time": "2022-02-20T17:50:40.146Z"
   },
   {
    "duration": 33,
    "start_time": "2022-02-20T17:50:42.050Z"
   },
   {
    "duration": 162,
    "start_time": "2022-02-20T17:50:51.300Z"
   },
   {
    "duration": 5562,
    "start_time": "2022-02-20T17:50:53.188Z"
   },
   {
    "duration": 21,
    "start_time": "2022-02-20T17:59:41.428Z"
   },
   {
    "duration": 124,
    "start_time": "2022-02-20T18:05:38.017Z"
   },
   {
    "duration": 127,
    "start_time": "2022-02-20T18:07:13.521Z"
   },
   {
    "duration": 126,
    "start_time": "2022-02-20T18:11:01.197Z"
   },
   {
    "duration": 37,
    "start_time": "2022-02-20T18:11:23.878Z"
   },
   {
    "duration": 27,
    "start_time": "2022-02-20T18:14:47.593Z"
   },
   {
    "duration": 29,
    "start_time": "2022-02-20T18:21:38.596Z"
   },
   {
    "duration": 32,
    "start_time": "2022-02-20T18:22:06.188Z"
   },
   {
    "duration": 8,
    "start_time": "2022-02-20T18:22:22.942Z"
   },
   {
    "duration": 8,
    "start_time": "2022-02-20T18:22:33.451Z"
   },
   {
    "duration": 585,
    "start_time": "2022-02-20T18:23:04.160Z"
   },
   {
    "duration": 394,
    "start_time": "2022-02-20T18:23:14.474Z"
   },
   {
    "duration": 378,
    "start_time": "2022-02-20T18:24:05.342Z"
   },
   {
    "duration": 47,
    "start_time": "2022-02-20T18:25:09.477Z"
   },
   {
    "duration": 26,
    "start_time": "2022-02-20T18:25:48.930Z"
   },
   {
    "duration": 30,
    "start_time": "2022-02-20T18:26:56.388Z"
   },
   {
    "duration": 25,
    "start_time": "2022-02-20T18:30:35.389Z"
   },
   {
    "duration": 26,
    "start_time": "2022-02-20T18:32:42.799Z"
   },
   {
    "duration": 27,
    "start_time": "2022-02-20T18:38:19.891Z"
   },
   {
    "duration": 43,
    "start_time": "2022-02-20T18:41:41.614Z"
   },
   {
    "duration": 38,
    "start_time": "2022-02-20T18:42:27.681Z"
   },
   {
    "duration": 445,
    "start_time": "2022-02-20T18:43:55.120Z"
   },
   {
    "duration": 27,
    "start_time": "2022-02-20T18:51:30.549Z"
   },
   {
    "duration": 481,
    "start_time": "2022-02-20T18:52:09.000Z"
   },
   {
    "duration": 134,
    "start_time": "2022-02-20T18:52:31.024Z"
   },
   {
    "duration": 119,
    "start_time": "2022-02-20T18:52:41.201Z"
   },
   {
    "duration": 26,
    "start_time": "2022-02-20T18:52:55.303Z"
   },
   {
    "duration": 29,
    "start_time": "2022-02-20T18:53:10.641Z"
   },
   {
    "duration": 26,
    "start_time": "2022-02-20T18:53:13.218Z"
   },
   {
    "duration": 28,
    "start_time": "2022-02-20T18:54:18.635Z"
   },
   {
    "duration": 29,
    "start_time": "2022-02-20T18:54:33.946Z"
   },
   {
    "duration": 154,
    "start_time": "2022-02-20T18:59:31.122Z"
   },
   {
    "duration": 26,
    "start_time": "2022-02-20T18:59:43.162Z"
   },
   {
    "duration": 32,
    "start_time": "2022-02-20T19:03:02.274Z"
   },
   {
    "duration": 28,
    "start_time": "2022-02-20T19:03:33.073Z"
   },
   {
    "duration": 28,
    "start_time": "2022-02-20T19:19:00.251Z"
   },
   {
    "duration": 26,
    "start_time": "2022-02-20T19:19:01.422Z"
   },
   {
    "duration": 550,
    "start_time": "2022-02-20T19:34:43.721Z"
   },
   {
    "duration": 28,
    "start_time": "2022-02-20T19:35:19.459Z"
   },
   {
    "duration": 8,
    "start_time": "2022-02-20T19:43:34.920Z"
   },
   {
    "duration": 1095,
    "start_time": "2022-02-20T19:44:37.207Z"
   },
   {
    "duration": 1001,
    "start_time": "2022-02-20T19:44:45.324Z"
   },
   {
    "duration": 434,
    "start_time": "2022-02-20T19:45:00.440Z"
   },
   {
    "duration": 27,
    "start_time": "2022-02-20T19:45:25.684Z"
   },
   {
    "duration": 384,
    "start_time": "2022-02-20T20:05:50.896Z"
   },
   {
    "duration": 803,
    "start_time": "2022-02-20T20:08:22.004Z"
   },
   {
    "duration": 71,
    "start_time": "2022-02-20T20:08:22.809Z"
   },
   {
    "duration": 29,
    "start_time": "2022-02-20T20:08:22.883Z"
   },
   {
    "duration": 52,
    "start_time": "2022-02-20T20:08:22.916Z"
   },
   {
    "duration": 49,
    "start_time": "2022-02-20T20:08:22.972Z"
   },
   {
    "duration": 14,
    "start_time": "2022-02-20T20:08:23.024Z"
   },
   {
    "duration": 16,
    "start_time": "2022-02-20T20:08:23.041Z"
   },
   {
    "duration": 48,
    "start_time": "2022-02-20T20:08:23.063Z"
   },
   {
    "duration": 10,
    "start_time": "2022-02-20T20:08:23.115Z"
   },
   {
    "duration": 19,
    "start_time": "2022-02-20T20:08:23.127Z"
   },
   {
    "duration": 24,
    "start_time": "2022-02-20T20:08:23.149Z"
   },
   {
    "duration": 81,
    "start_time": "2022-02-20T20:08:23.175Z"
   },
   {
    "duration": 23,
    "start_time": "2022-02-20T20:08:23.258Z"
   },
   {
    "duration": 61,
    "start_time": "2022-02-20T20:08:23.311Z"
   },
   {
    "duration": 38,
    "start_time": "2022-02-20T20:08:23.374Z"
   },
   {
    "duration": 8,
    "start_time": "2022-02-20T20:08:23.415Z"
   },
   {
    "duration": 23,
    "start_time": "2022-02-20T20:08:23.426Z"
   },
   {
    "duration": 22,
    "start_time": "2022-02-20T20:08:23.451Z"
   },
   {
    "duration": 36,
    "start_time": "2022-02-20T20:08:23.475Z"
   },
   {
    "duration": 12,
    "start_time": "2022-02-20T20:08:23.513Z"
   },
   {
    "duration": 11,
    "start_time": "2022-02-20T20:08:23.528Z"
   },
   {
    "duration": 4,
    "start_time": "2022-02-20T20:08:23.542Z"
   },
   {
    "duration": 103,
    "start_time": "2022-02-20T20:08:23.551Z"
   },
   {
    "duration": 14,
    "start_time": "2022-02-20T20:08:23.657Z"
   },
   {
    "duration": 16,
    "start_time": "2022-02-20T20:08:23.674Z"
   },
   {
    "duration": 16,
    "start_time": "2022-02-20T20:08:23.710Z"
   },
   {
    "duration": 15,
    "start_time": "2022-02-20T20:08:23.729Z"
   },
   {
    "duration": 63,
    "start_time": "2022-02-20T20:08:23.747Z"
   },
   {
    "duration": 14,
    "start_time": "2022-02-20T20:08:23.813Z"
   },
   {
    "duration": 5494,
    "start_time": "2022-02-20T20:08:23.830Z"
   },
   {
    "duration": 34,
    "start_time": "2022-02-20T20:08:29.327Z"
   },
   {
    "duration": 58,
    "start_time": "2022-02-20T20:08:29.364Z"
   },
   {
    "duration": 28,
    "start_time": "2022-02-20T20:08:29.425Z"
   },
   {
    "duration": 6,
    "start_time": "2022-02-20T20:08:29.456Z"
   },
   {
    "duration": 509,
    "start_time": "2022-02-20T20:13:53.783Z"
   },
   {
    "duration": 37,
    "start_time": "2022-02-20T20:14:35.628Z"
   },
   {
    "duration": 36,
    "start_time": "2022-02-20T20:16:38.874Z"
   },
   {
    "duration": 40,
    "start_time": "2022-02-20T20:20:13.957Z"
   },
   {
    "duration": 383,
    "start_time": "2022-02-20T20:20:36.626Z"
   },
   {
    "duration": 30,
    "start_time": "2022-02-20T20:21:01.294Z"
   },
   {
    "duration": 35,
    "start_time": "2022-02-20T20:59:35.524Z"
   },
   {
    "duration": 29,
    "start_time": "2022-02-20T20:59:56.212Z"
   },
   {
    "duration": 399,
    "start_time": "2022-02-20T21:01:58.720Z"
   },
   {
    "duration": 27,
    "start_time": "2022-02-20T21:02:08.953Z"
   },
   {
    "duration": 463,
    "start_time": "2022-02-20T21:16:23.334Z"
   },
   {
    "duration": 45,
    "start_time": "2022-02-20T21:16:37.343Z"
   },
   {
    "duration": 28,
    "start_time": "2022-02-20T21:18:04.984Z"
   },
   {
    "duration": 997,
    "start_time": "2022-02-21T07:46:47.151Z"
   },
   {
    "duration": 4,
    "start_time": "2022-02-21T07:51:30.310Z"
   },
   {
    "duration": 66,
    "start_time": "2022-02-21T07:51:30.982Z"
   },
   {
    "duration": 27,
    "start_time": "2022-02-21T07:51:31.652Z"
   },
   {
    "duration": 20,
    "start_time": "2022-02-21T07:51:48.947Z"
   },
   {
    "duration": 51,
    "start_time": "2022-02-21T07:51:57.477Z"
   },
   {
    "duration": 17,
    "start_time": "2022-02-21T07:52:01.149Z"
   },
   {
    "duration": 14,
    "start_time": "2022-02-21T07:53:20.287Z"
   },
   {
    "duration": 14,
    "start_time": "2022-02-21T07:53:31.325Z"
   },
   {
    "duration": 7,
    "start_time": "2022-02-21T07:53:39.553Z"
   },
   {
    "duration": 8,
    "start_time": "2022-02-21T07:53:52.544Z"
   },
   {
    "duration": 17,
    "start_time": "2022-02-21T07:54:11.221Z"
   },
   {
    "duration": 21,
    "start_time": "2022-02-21T07:54:14.912Z"
   },
   {
    "duration": 45,
    "start_time": "2022-02-21T07:54:17.705Z"
   },
   {
    "duration": 23,
    "start_time": "2022-02-21T07:54:23.948Z"
   },
   {
    "duration": 68,
    "start_time": "2022-02-21T07:54:28.881Z"
   },
   {
    "duration": 19,
    "start_time": "2022-02-21T07:54:32.217Z"
   },
   {
    "duration": 10,
    "start_time": "2022-02-21T07:54:40.969Z"
   },
   {
    "duration": 17,
    "start_time": "2022-02-21T07:54:45.193Z"
   },
   {
    "duration": 24,
    "start_time": "2022-02-21T07:54:54.538Z"
   },
   {
    "duration": 8,
    "start_time": "2022-02-21T07:54:59.582Z"
   },
   {
    "duration": 12,
    "start_time": "2022-02-21T08:00:05.964Z"
   },
   {
    "duration": 674,
    "start_time": "2022-02-21T08:00:58.349Z"
   },
   {
    "duration": 19,
    "start_time": "2022-02-21T08:01:47.007Z"
   },
   {
    "duration": 633,
    "start_time": "2022-02-21T08:02:46.067Z"
   },
   {
    "duration": 414,
    "start_time": "2022-02-21T08:04:00.256Z"
   },
   {
    "duration": 1534,
    "start_time": "2022-02-21T08:04:23.945Z"
   },
   {
    "duration": 13,
    "start_time": "2022-02-21T08:06:25.360Z"
   },
   {
    "duration": 13,
    "start_time": "2022-02-21T08:06:37.309Z"
   },
   {
    "duration": 6,
    "start_time": "2022-02-21T08:06:38.045Z"
   },
   {
    "duration": 54,
    "start_time": "2022-02-21T08:06:39.449Z"
   },
   {
    "duration": 17,
    "start_time": "2022-02-21T08:06:41.928Z"
   },
   {
    "duration": 16,
    "start_time": "2022-02-21T08:06:42.626Z"
   },
   {
    "duration": 16,
    "start_time": "2022-02-21T08:06:43.462Z"
   },
   {
    "duration": 14,
    "start_time": "2022-02-21T08:06:44.162Z"
   },
   {
    "duration": 31,
    "start_time": "2022-02-21T08:06:45.758Z"
   },
   {
    "duration": 14,
    "start_time": "2022-02-21T08:06:57.474Z"
   },
   {
    "duration": 4881,
    "start_time": "2022-02-21T08:06:58.904Z"
   },
   {
    "duration": 32,
    "start_time": "2022-02-21T08:07:10.456Z"
   },
   {
    "duration": 33,
    "start_time": "2022-02-21T08:07:11.217Z"
   },
   {
    "duration": 32,
    "start_time": "2022-02-21T08:07:13.836Z"
   },
   {
    "duration": 7,
    "start_time": "2022-02-21T08:07:14.598Z"
   },
   {
    "duration": 27,
    "start_time": "2022-02-21T08:07:15.218Z"
   },
   {
    "duration": 31,
    "start_time": "2022-02-21T08:07:17.855Z"
   },
   {
    "duration": 28,
    "start_time": "2022-02-21T08:07:18.528Z"
   },
   {
    "duration": 27,
    "start_time": "2022-02-21T08:07:20.448Z"
   },
   {
    "duration": 30,
    "start_time": "2022-02-21T08:07:29.313Z"
   },
   {
    "duration": 28,
    "start_time": "2022-02-21T08:07:30.476Z"
   },
   {
    "duration": 937,
    "start_time": "2022-02-21T08:08:17.257Z"
   },
   {
    "duration": 4,
    "start_time": "2022-02-21T08:08:25.621Z"
   },
   {
    "duration": 78,
    "start_time": "2022-02-21T08:08:26.301Z"
   },
   {
    "duration": 27,
    "start_time": "2022-02-21T08:08:26.937Z"
   },
   {
    "duration": 48,
    "start_time": "2022-02-21T08:08:28.898Z"
   },
   {
    "duration": 16,
    "start_time": "2022-02-21T08:08:29.921Z"
   },
   {
    "duration": 13,
    "start_time": "2022-02-21T08:08:40.429Z"
   },
   {
    "duration": 16,
    "start_time": "2022-02-21T08:08:42.497Z"
   },
   {
    "duration": 7,
    "start_time": "2022-02-21T08:08:43.267Z"
   },
   {
    "duration": 9,
    "start_time": "2022-02-21T08:08:45.192Z"
   },
   {
    "duration": 16,
    "start_time": "2022-02-21T08:08:49.015Z"
   },
   {
    "duration": 22,
    "start_time": "2022-02-21T08:08:50.477Z"
   },
   {
    "duration": 46,
    "start_time": "2022-02-21T08:08:51.529Z"
   },
   {
    "duration": 22,
    "start_time": "2022-02-21T08:08:52.404Z"
   },
   {
    "duration": 58,
    "start_time": "2022-02-21T08:08:54.252Z"
   },
   {
    "duration": 31,
    "start_time": "2022-02-21T08:08:54.897Z"
   },
   {
    "duration": 9,
    "start_time": "2022-02-21T08:08:56.102Z"
   },
   {
    "duration": 15,
    "start_time": "2022-02-21T08:08:56.795Z"
   },
   {
    "duration": 21,
    "start_time": "2022-02-21T08:08:57.471Z"
   },
   {
    "duration": 9,
    "start_time": "2022-02-21T08:08:59.326Z"
   },
   {
    "duration": 12,
    "start_time": "2022-02-21T08:09:01.806Z"
   },
   {
    "duration": 5,
    "start_time": "2022-02-21T08:09:02.639Z"
   },
   {
    "duration": 55,
    "start_time": "2022-02-21T08:09:04.182Z"
   },
   {
    "duration": 17,
    "start_time": "2022-02-21T08:09:07.107Z"
   },
   {
    "duration": 17,
    "start_time": "2022-02-21T08:09:07.779Z"
   },
   {
    "duration": 14,
    "start_time": "2022-02-21T08:09:08.709Z"
   },
   {
    "duration": 15,
    "start_time": "2022-02-21T08:09:09.440Z"
   },
   {
    "duration": 32,
    "start_time": "2022-02-21T08:09:10.898Z"
   },
   {
    "duration": 15,
    "start_time": "2022-02-21T08:09:12.676Z"
   },
   {
    "duration": 5107,
    "start_time": "2022-02-21T08:09:14.688Z"
   },
   {
    "duration": 42,
    "start_time": "2022-02-21T08:09:24.822Z"
   },
   {
    "duration": 35,
    "start_time": "2022-02-21T08:09:26.116Z"
   },
   {
    "duration": 34,
    "start_time": "2022-02-21T08:09:34.690Z"
   },
   {
    "duration": 6,
    "start_time": "2022-02-21T08:09:37.050Z"
   },
   {
    "duration": 26,
    "start_time": "2022-02-21T08:09:37.963Z"
   },
   {
    "duration": 28,
    "start_time": "2022-02-21T08:09:42.868Z"
   },
   {
    "duration": 28,
    "start_time": "2022-02-21T08:09:43.620Z"
   },
   {
    "duration": 28,
    "start_time": "2022-02-21T08:09:45.960Z"
   },
   {
    "duration": 31,
    "start_time": "2022-02-21T08:09:47.396Z"
   },
   {
    "duration": 27,
    "start_time": "2022-02-21T08:09:48.446Z"
   },
   {
    "duration": 736,
    "start_time": "2022-02-21T08:26:07.751Z"
   },
   {
    "duration": 30,
    "start_time": "2022-02-21T08:26:55.141Z"
   },
   {
    "duration": 29,
    "start_time": "2022-02-21T08:27:02.730Z"
   },
   {
    "duration": 29,
    "start_time": "2022-02-21T08:27:12.949Z"
   },
   {
    "duration": 28,
    "start_time": "2022-02-21T08:27:43.224Z"
   },
   {
    "duration": 24,
    "start_time": "2022-02-21T08:27:58.491Z"
   },
   {
    "duration": 6,
    "start_time": "2022-02-21T08:43:45.227Z"
   },
   {
    "duration": 811,
    "start_time": "2022-02-21T08:50:38.882Z"
   },
   {
    "duration": 78,
    "start_time": "2022-02-21T08:50:39.972Z"
   },
   {
    "duration": 26,
    "start_time": "2022-02-21T08:50:41.190Z"
   },
   {
    "duration": 47,
    "start_time": "2022-02-21T08:50:48.395Z"
   },
   {
    "duration": 16,
    "start_time": "2022-02-21T08:50:52.248Z"
   },
   {
    "duration": 13,
    "start_time": "2022-02-21T08:50:56.940Z"
   },
   {
    "duration": 15,
    "start_time": "2022-02-21T08:50:59.654Z"
   },
   {
    "duration": 9,
    "start_time": "2022-02-21T08:51:02.533Z"
   },
   {
    "duration": 11,
    "start_time": "2022-02-21T08:51:04.594Z"
   },
   {
    "duration": 22,
    "start_time": "2022-02-21T08:51:09.204Z"
   },
   {
    "duration": 31,
    "start_time": "2022-02-21T08:51:10.146Z"
   },
   {
    "duration": 89,
    "start_time": "2022-02-21T08:51:11.009Z"
   },
   {
    "duration": 23,
    "start_time": "2022-02-21T08:51:11.897Z"
   },
   {
    "duration": 55,
    "start_time": "2022-02-21T08:51:12.752Z"
   },
   {
    "duration": 24,
    "start_time": "2022-02-21T08:51:13.633Z"
   },
   {
    "duration": 8,
    "start_time": "2022-02-21T08:51:16.757Z"
   },
   {
    "duration": 18,
    "start_time": "2022-02-21T08:51:18.363Z"
   },
   {
    "duration": 21,
    "start_time": "2022-02-21T08:51:19.171Z"
   },
   {
    "duration": 8,
    "start_time": "2022-02-21T08:51:20.568Z"
   },
   {
    "duration": 10,
    "start_time": "2022-02-21T08:51:24.165Z"
   },
   {
    "duration": 6,
    "start_time": "2022-02-21T08:51:28.376Z"
   },
   {
    "duration": 57,
    "start_time": "2022-02-21T08:51:30.175Z"
   },
   {
    "duration": 18,
    "start_time": "2022-02-21T08:51:33.975Z"
   },
   {
    "duration": 25,
    "start_time": "2022-02-21T08:51:34.887Z"
   },
   {
    "duration": 14,
    "start_time": "2022-02-21T08:51:42.199Z"
   },
   {
    "duration": 16,
    "start_time": "2022-02-21T08:51:42.775Z"
   },
   {
    "duration": 29,
    "start_time": "2022-02-21T08:51:54.943Z"
   },
   {
    "duration": 15,
    "start_time": "2022-02-21T08:51:57.850Z"
   },
   {
    "duration": 5799,
    "start_time": "2022-02-21T08:52:01.463Z"
   },
   {
    "duration": 31,
    "start_time": "2022-02-21T08:52:07.615Z"
   },
   {
    "duration": 32,
    "start_time": "2022-02-21T08:52:13.340Z"
   },
   {
    "duration": 54,
    "start_time": "2022-02-21T08:52:18.094Z"
   },
   {
    "duration": 39,
    "start_time": "2022-02-21T08:52:20.514Z"
   },
   {
    "duration": 35,
    "start_time": "2022-02-21T08:52:23.162Z"
   },
   {
    "duration": 27,
    "start_time": "2022-02-21T08:52:25.748Z"
   },
   {
    "duration": 26,
    "start_time": "2022-02-21T08:52:27.909Z"
   },
   {
    "duration": 30,
    "start_time": "2022-02-21T08:52:30.863Z"
   },
   {
    "duration": 26,
    "start_time": "2022-02-21T08:52:32.810Z"
   }
  ],
  "kernelspec": {
   "display_name": "Python 3",
   "language": "python",
   "name": "python3"
  },
  "language_info": {
   "codemirror_mode": {
    "name": "ipython",
    "version": 3
   },
   "file_extension": ".py",
   "mimetype": "text/x-python",
   "name": "python",
   "nbconvert_exporter": "python",
   "pygments_lexer": "ipython3",
   "version": "3.7.8"
  },
  "toc": {
   "base_numbering": 1,
   "nav_menu": {
    "height": "331px",
    "width": "392px"
   },
   "number_sections": true,
   "sideBar": true,
   "skip_h1_title": true,
   "title_cell": "Table of Contents",
   "title_sidebar": "Contents",
   "toc_cell": false,
   "toc_position": {
    "height": "calc(100% - 180px)",
    "left": "10px",
    "top": "150px",
    "width": "366.391px"
   },
   "toc_section_display": true,
   "toc_window_display": true
  }
 },
 "nbformat": 4,
 "nbformat_minor": 5
}
