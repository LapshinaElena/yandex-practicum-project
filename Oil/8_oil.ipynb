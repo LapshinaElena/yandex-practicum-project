{
 "cells": [
  {
   "cell_type": "markdown",
   "metadata": {
    "toc": true
   },
   "source": [
    "<h1>Содержание:<span class=\"tocSkip\"></span></h1>\n",
    "<div class=\"toc\"><ul class=\"toc-item\"><li><span><a href=\"#Загрузка-и-подготовка-данных\" data-toc-modified-id=\"Загрузка-и-подготовка-данных-1\"><span class=\"toc-item-num\">1&nbsp;&nbsp;</span>Загрузка и подготовка данных</a></span><ul class=\"toc-item\"><li><span><a href=\"#Вывод\" data-toc-modified-id=\"Вывод-1.1\"><span class=\"toc-item-num\">1.1&nbsp;&nbsp;</span>Вывод</a></span></li></ul></li><li><span><a href=\"#Обучение-и-проверка-модели\" data-toc-modified-id=\"Обучение-и-проверка-модели-2\"><span class=\"toc-item-num\">2&nbsp;&nbsp;</span>Обучение и проверка модели</a></span><ul class=\"toc-item\"><li><span><a href=\"#Вывод\" data-toc-modified-id=\"Вывод-2.1\"><span class=\"toc-item-num\">2.1&nbsp;&nbsp;</span>Вывод</a></span></li></ul></li><li><span><a href=\"#Расчёт-прибыли-и-рисков\" data-toc-modified-id=\"Расчёт-прибыли-и-рисков-3\"><span class=\"toc-item-num\">3&nbsp;&nbsp;</span>Расчёт прибыли и рисков</a></span><ul class=\"toc-item\"><li><span><a href=\"#Вывод\" data-toc-modified-id=\"Вывод-3.1\"><span class=\"toc-item-num\">3.1&nbsp;&nbsp;</span>Вывод</a></span></li></ul></li><li><span><a href=\"#Чек-лист-готовности-проекта\" data-toc-modified-id=\"Чек-лист-готовности-проекта-4\"><span class=\"toc-item-num\">4&nbsp;&nbsp;</span>Чек-лист готовности проекта</a></span></li></ul></div>"
   ]
  },
  {
   "cell_type": "markdown",
   "metadata": {},
   "source": [
    "# Выбор локации для скважины"
   ]
  },
  {
   "cell_type": "markdown",
   "metadata": {},
   "source": [
    "Допустим, вы работаете в добывающей компании «ГлавРосГосНефть». Нужно решить, где бурить новую скважину.\n",
    "\n",
    "Вам предоставлены пробы нефти в трёх регионах: в каждом 10 000 месторождений, где измерили качество нефти и объём её запасов. Постройте модель машинного обучения, которая поможет определить регион, где добыча принесёт наибольшую прибыль. Проанализируйте возможную прибыль и риски техникой *Bootstrap.*\n",
    "\n",
    "Шаги для выбора локации:\n",
    "\n",
    "- В избранном регионе ищут месторождения, для каждого определяют значения признаков;\n",
    "- Строят модель и оценивают объём запасов;\n",
    "- Выбирают месторождения с самым высокими оценками значений. Количество месторождений зависит от бюджета компании и стоимости разработки одной скважины;\n",
    "- Прибыль равна суммарной прибыли отобранных месторождений."
   ]
  },
  {
   "cell_type": "markdown",
   "metadata": {},
   "source": [
    "## Загрузка и подготовка данных"
   ]
  },
  {
   "cell_type": "code",
   "execution_count": 1,
   "metadata": {},
   "outputs": [],
   "source": [
    "import pandas as pd\n",
    "from sklearn.linear_model import LinearRegression\n",
    "from sklearn.model_selection import train_test_split\n",
    "from sklearn.metrics import mean_squared_error\n",
    "import warnings\n",
    "warnings.filterwarnings(\"ignore\")\n",
    "import numpy as np"
   ]
  },
  {
   "cell_type": "code",
   "execution_count": 2,
   "metadata": {},
   "outputs": [],
   "source": [
    "# загрузим и посмотрим данные\n",
    "data_0 = pd.read_csv('/datasets/geo_data_0.csv')\n",
    "data_1 = pd.read_csv('/datasets/geo_data_1.csv')\n",
    "data_2 = pd.read_csv('/datasets/geo_data_2.csv')\n"
   ]
  },
  {
   "cell_type": "code",
   "execution_count": 3,
   "metadata": {},
   "outputs": [
    {
     "name": "stdout",
     "output_type": "stream",
     "text": [
      "<class 'pandas.core.frame.DataFrame'>\n",
      "RangeIndex: 100000 entries, 0 to 99999\n",
      "Data columns (total 5 columns):\n",
      " #   Column   Non-Null Count   Dtype  \n",
      "---  ------   --------------   -----  \n",
      " 0   id       100000 non-null  object \n",
      " 1   f0       100000 non-null  float64\n",
      " 2   f1       100000 non-null  float64\n",
      " 3   f2       100000 non-null  float64\n",
      " 4   product  100000 non-null  float64\n",
      "dtypes: float64(4), object(1)\n",
      "memory usage: 3.8+ MB\n"
     ]
    }
   ],
   "source": [
    "data_0.info()"
   ]
  },
  {
   "cell_type": "code",
   "execution_count": 4,
   "metadata": {},
   "outputs": [
    {
     "name": "stdout",
     "output_type": "stream",
     "text": [
      "<class 'pandas.core.frame.DataFrame'>\n",
      "RangeIndex: 100000 entries, 0 to 99999\n",
      "Data columns (total 5 columns):\n",
      " #   Column   Non-Null Count   Dtype  \n",
      "---  ------   --------------   -----  \n",
      " 0   id       100000 non-null  object \n",
      " 1   f0       100000 non-null  float64\n",
      " 2   f1       100000 non-null  float64\n",
      " 3   f2       100000 non-null  float64\n",
      " 4   product  100000 non-null  float64\n",
      "dtypes: float64(4), object(1)\n",
      "memory usage: 3.8+ MB\n"
     ]
    }
   ],
   "source": [
    "data_1.info()"
   ]
  },
  {
   "cell_type": "code",
   "execution_count": 5,
   "metadata": {},
   "outputs": [
    {
     "name": "stdout",
     "output_type": "stream",
     "text": [
      "<class 'pandas.core.frame.DataFrame'>\n",
      "RangeIndex: 100000 entries, 0 to 99999\n",
      "Data columns (total 5 columns):\n",
      " #   Column   Non-Null Count   Dtype  \n",
      "---  ------   --------------   -----  \n",
      " 0   id       100000 non-null  object \n",
      " 1   f0       100000 non-null  float64\n",
      " 2   f1       100000 non-null  float64\n",
      " 3   f2       100000 non-null  float64\n",
      " 4   product  100000 non-null  float64\n",
      "dtypes: float64(4), object(1)\n",
      "memory usage: 3.8+ MB\n"
     ]
    }
   ],
   "source": [
    "data_2.info()"
   ]
  },
  {
   "cell_type": "code",
   "execution_count": 6,
   "metadata": {},
   "outputs": [],
   "source": [
    "# удалим столбец id\n",
    "data_0.drop(columns=['id'], inplace=True)\n",
    "data_1.drop(columns=['id'], inplace=True)\n",
    "data_2.drop(columns=['id'], inplace=True)"
   ]
  },
  {
   "cell_type": "markdown",
   "metadata": {},
   "source": [
    "### Вывод\n",
    "Пропусков в данных ни в одном наборе нет. По условиям задачи: \"f0, f1, f2 — три признака точек (неважно, что они означают, но сами признаки значимы)\". Стобец id удален, как не используемый в работе, но увеличивающий время обучения модели."
   ]
  },
  {
   "cell_type": "markdown",
   "metadata": {},
   "source": [
    "## Обучение и проверка модели"
   ]
  },
  {
   "cell_type": "code",
   "execution_count": 7,
   "metadata": {},
   "outputs": [],
   "source": [
    "# создадим объект RandomState() из модуля numpy.random\n",
    "state = np.random.RandomState(12345)"
   ]
  },
  {
   "cell_type": "code",
   "execution_count": 8,
   "metadata": {},
   "outputs": [
    {
     "name": "stdout",
     "output_type": "stream",
     "text": [
      "feature_train_0 (75000, 3)\n",
      "target_train_0 (75000,)\n",
      "feature_valid_0 (25000, 3)\n",
      "target_valid_0 (25000,)\n"
     ]
    }
   ],
   "source": [
    "# создадим выборки для набора 0\n",
    "train_0, valid_0 = train_test_split(data_0, test_size = 0.25, random_state = state)\n",
    "feature_train_0 = train_0.drop(['product'], axis=1)\n",
    "target_train_0 = train_0['product']\n",
    "feature_valid_0 = valid_0.drop(['product'], axis=1)\n",
    "target_valid_0 = valid_0['product']\n",
    "print('feature_train_0', feature_train_0.shape)\n",
    "print('target_train_0', target_train_0.shape)\n",
    "print('feature_valid_0', feature_valid_0.shape)\n",
    "print('target_valid_0', target_valid_0.shape)\n"
   ]
  },
  {
   "cell_type": "code",
   "execution_count": 9,
   "metadata": {},
   "outputs": [
    {
     "name": "stdout",
     "output_type": "stream",
     "text": [
      "feature_train_1 (75000, 3)\n",
      "target_train_1 (75000,)\n",
      "feature_valid_1 (25000, 3)\n",
      "target_valid_1 (25000,)\n"
     ]
    }
   ],
   "source": [
    "# создадим выборки для набора 1\n",
    "train_1, valid_1 = train_test_split(data_1, test_size = 0.25, random_state = state)\n",
    "feature_train_1 = train_1.drop(['product'], axis=1)\n",
    "target_train_1 = train_1['product']\n",
    "feature_valid_1 = valid_1.drop(['product'], axis=1)\n",
    "target_valid_1 = valid_1['product']\n",
    "print('feature_train_1', feature_train_1.shape)\n",
    "print('target_train_1', target_train_1.shape)\n",
    "print('feature_valid_1', feature_valid_1.shape)\n",
    "print('target_valid_1', target_valid_1.shape)"
   ]
  },
  {
   "cell_type": "code",
   "execution_count": 10,
   "metadata": {},
   "outputs": [
    {
     "name": "stdout",
     "output_type": "stream",
     "text": [
      "feature_train_2 (75000, 3)\n",
      "target_train_2 (75000,)\n",
      "feature_valid_2 (25000, 3)\n",
      "target_valid_2 (25000,)\n"
     ]
    }
   ],
   "source": [
    "# создадим выборки для набора 2\n",
    "train_2, valid_2 = train_test_split(data_2, test_size = 0.25, random_state = state)\n",
    "feature_train_2 = train_2.drop(['product'], axis=1)\n",
    "target_train_2 = train_2['product']\n",
    "feature_valid_2 = valid_2.drop(['product'], axis=1)\n",
    "target_valid_2 = valid_2['product']\n",
    "print('feature_train_2', feature_train_2.shape)\n",
    "print('target_train_2', target_train_2.shape)\n",
    "print('feature_valid_2', feature_valid_2.shape)\n",
    "print('target_valid_2', target_valid_2.shape)"
   ]
  },
  {
   "cell_type": "code",
   "execution_count": 11,
   "metadata": {},
   "outputs": [
    {
     "name": "stdout",
     "output_type": "stream",
     "text": [
      "средний запас предсказанного сырья в регионе 0: 92.59\n",
      "RMSE модели линейной регрессии 0 на валидационной выборке: 37.58\n"
     ]
    }
   ],
   "source": [
    "# модель 0\n",
    "model = LinearRegression()\n",
    "model.fit(feature_train_0, target_train_0)\n",
    "predicted_valid_0 = pd.Series(model.predict(feature_valid_0), index = target_valid_0.index)\n",
    "result_0 = mean_squared_error(target_valid_0, predicted_valid_0)**0.5 \n",
    "\n",
    "print('средний запас предсказанного сырья в регионе 0:', predicted_valid_0.mean().round(2))\n",
    "print(\"RMSE модели линейной регрессии 0 на валидационной выборке:\", result_0.round(2))\n"
   ]
  },
  {
   "cell_type": "code",
   "execution_count": 12,
   "metadata": {},
   "outputs": [
    {
     "name": "stdout",
     "output_type": "stream",
     "text": [
      "средний запас предсказанного сырья в регионе 1: 68.77\n",
      "RMSE модели линейной регрессии 1 на валидационной выборке: 0.89\n"
     ]
    }
   ],
   "source": [
    "# модель 1\n",
    "model = LinearRegression()\n",
    "model.fit(feature_train_1, target_train_1)\n",
    "predicted_valid_1 = pd.Series(model.predict(feature_valid_1), index = target_valid_1.index)\n",
    "result_1 = mean_squared_error(target_valid_1, predicted_valid_1)**0.5 \n",
    "\n",
    "print('средний запас предсказанного сырья в регионе 1:', predicted_valid_1.mean().round(2))\n",
    "print(\"RMSE модели линейной регрессии 1 на валидационной выборке:\", result_1.round(2))\n"
   ]
  },
  {
   "cell_type": "code",
   "execution_count": 13,
   "metadata": {},
   "outputs": [
    {
     "name": "stdout",
     "output_type": "stream",
     "text": [
      "средний запас предсказанного сырья в регионе 2: 95.09\n",
      "RMSE модели линейной регрессии 2 на валидационной выборке: 39.96\n"
     ]
    }
   ],
   "source": [
    "# модель 2\n",
    "model = LinearRegression()\n",
    "model.fit(feature_train_2, target_train_2)\n",
    "predicted_valid_2 = pd.Series(model.predict(feature_valid_2), index = target_valid_2.index)\n",
    "result_2 = mean_squared_error(target_valid_2, predicted_valid_2)**0.5 \n",
    "\n",
    "print('средний запас предсказанного сырья в регионе 2:', predicted_valid_2.mean().round(2))\n",
    "print(\"RMSE модели линейной регрессии 2 на валидационной выборке:\", result_2.round(2))\n"
   ]
  },
  {
   "cell_type": "markdown",
   "metadata": {},
   "source": [
    "### Вывод\n",
    "По трем регионам (0, 1, 2) созданы обучающая и валидационная выборки в соотношении 75:25. Для каждого региона обучена модель линейной регрессии, получены предсказания.\n",
    "По региону 0: средний запас предсказанного сырья: 92.59, RMSE модели линейной регрессии на валидационной выборке: 37.58.\n",
    "По региону 1: средний запас предсказанного сырья: 68.77, RMSE модели линейной регрессии на валидационной выборке: 0.89.\n",
    "По региону 2: средний запас предсказанного сырья: 95.09, RMSE модели линейной регрессии 2 на валидационной выборке: 39.96.\n",
    "Итого, дучше обучилась модель региона 1 - RMSE = 0.89 - самая маленькая величина ошибки."
   ]
  },
  {
   "cell_type": "markdown",
   "metadata": {},
   "source": [
    "## Расчёт прибыли и рисков "
   ]
  },
  {
   "cell_type": "code",
   "execution_count": 14,
   "metadata": {},
   "outputs": [],
   "source": [
    "# ключевые значения для расчётов сохраним в отдельных переменных\n",
    "budget = 10000000000\n",
    "product_revenue = 450000\n",
    "wells = 500\n",
    "wells_count = 200"
   ]
  },
  {
   "cell_type": "code",
   "execution_count": 15,
   "metadata": {
    "scrolled": true
   },
   "outputs": [
    {
     "name": "stdout",
     "output_type": "stream",
     "text": [
      "достаточный объём сырья для безубыточной разработки новой скважины: 111.11\n",
      "cредний запас в регионе 0: 92.5\n",
      "cредний запас в регионе 1: 68.83\n",
      "cредний запас в регионе 2: 95.0\n"
     ]
    }
   ],
   "source": [
    "# достаточный объём сырья для безубыточной разработки новой скважины и средний запас в каждом регионе\n",
    "print('достаточный объём сырья для безубыточной разработки новой скважины:', round(budget/product_revenue/wells_count, 2))\n",
    "print('cредний запас в регионе 0:', round(data_0['product'].mean(), 2))\n",
    "print('cредний запас в регионе 1:', round(data_1['product'].mean(), 2))\n",
    "print('cредний запас в регионе 2:', round(data_2['product'].mean(), 2))"
   ]
  },
  {
   "cell_type": "code",
   "execution_count": 16,
   "metadata": {},
   "outputs": [],
   "source": [
    "# создадим функцию, чтоб подсчитать возможную выручку\n",
    "def revenue(target, predicted):\n",
    "    pred_sorted = predicted.sort_values(ascending=False)\n",
    "    selected = target[pred_sorted.index][:wells_count] \n",
    "    rev = selected.sum()*product_revenue-budget\n",
    "    return rev\n"
   ]
  },
  {
   "cell_type": "code",
   "execution_count": 17,
   "metadata": {},
   "outputs": [],
   "source": [
    "# создадим функцию, найти доверительный интервал и определить риск\n",
    "def fin (target, predicted):\n",
    "    values = []\n",
    "    for i in range(1000):\n",
    "        target_subsample = target.sample(n=wells, replace=True, random_state=state)\n",
    "        pred_subsample = predicted[target_subsample.index]\n",
    "        values.append(revenue(target_subsample, pred_subsample))\n",
    "\n",
    "    values = pd.Series(values)\n",
    "    lower = values.quantile(0.025)\n",
    "    upper = values.quantile(0.075)\n",
    "    mean = values.mean()\n",
    "    risk = len(values[values<0]) / len(values) * 100\n",
    "    print('Нижняя граница доверительного интервала:', round(lower, 2))\n",
    "    print('Верхняя граница доверительного интервала:', round(upper,2))\n",
    "    print('Средняя прибыль:', round(mean, 2))\n",
    "    print('Риск:', round(risk, 2), '%')"
   ]
  },
  {
   "cell_type": "code",
   "execution_count": 18,
   "metadata": {},
   "outputs": [
    {
     "name": "stdout",
     "output_type": "stream",
     "text": [
      "Регион 0\n",
      "Нижняя граница доверительного интервала: -76187813.89\n",
      "Верхняя граница доверительного интервала: 39384582.8\n",
      "Средняя прибыль: 423897237.92\n",
      "Риск: 4.8 %\n"
     ]
    }
   ],
   "source": [
    "# рассмотрм модель 0 (регион 0)\n",
    "print('Регион 0')\n",
    "fin(target_valid_0, predicted_valid_0)\n"
   ]
  },
  {
   "cell_type": "code",
   "execution_count": 19,
   "metadata": {},
   "outputs": [
    {
     "name": "stdout",
     "output_type": "stream",
     "text": [
      "Регион 1\n",
      "Нижняя граница доверительного интервала: 108066895.23\n",
      "Верхняя граница доверительного интервала: 193692740.54\n",
      "Средняя прибыль: 513256698.92\n",
      "Риск: 0.6 %\n"
     ]
    }
   ],
   "source": [
    "# рассмотрм модель 1 (регион 1)\n",
    "print('Регион 1')\n",
    "fin(target_valid_1, predicted_valid_1)"
   ]
  },
  {
   "cell_type": "code",
   "execution_count": 20,
   "metadata": {},
   "outputs": [
    {
     "name": "stdout",
     "output_type": "stream",
     "text": [
      "Регион 2\n",
      "Нижняя граница доверительного интервала: -142800630.09\n",
      "Верхняя граница доверительного интервала: 5750893.57\n",
      "Средняя прибыль: 381120359.58\n",
      "Риск: 7.4 %\n"
     ]
    }
   ],
   "source": [
    "# рассмотрм модель 2 (регион 2)\n",
    "print('Регион 2')\n",
    "fin(target_valid_2, predicted_valid_2)"
   ]
  },
  {
   "cell_type": "markdown",
   "metadata": {},
   "source": [
    "### Вывод\n",
    "По трем регионам (0, 1, 2) проведены расчеты рисков, которые показывают, что требуемым условиям (вероятность убытков меньше 2.5%) соответствует только регион 1, где риск = 0.6%. Регион 0 (риск = 4.8%) и регион 2 (риск = 7.4%) не подходят для целей добывающей компании «ГлавРосГосНефть». Необходимо отметить, что достаточного среднего запаса сырья нет ни в одном из рассмотренных регионов. Так, достаточный объём сырья для безубыточной разработки новой скважины составляет 111.11 тыс. барр., а средний запас в рассмотренных регионах составляет от 68.83 до 95.0 тыс. барр."
   ]
  },
  {
   "cell_type": "markdown",
   "metadata": {},
   "source": [
    "## Чек-лист готовности проекта"
   ]
  },
  {
   "cell_type": "markdown",
   "metadata": {},
   "source": [
    "Поставьте 'x' в выполненных пунктах. Далее нажмите Shift+Enter."
   ]
  },
  {
   "cell_type": "markdown",
   "metadata": {},
   "source": [
    "- [x]  Jupyter Notebook открыт\n",
    "- [x]  Весь код выполняется без ошибок\n",
    "- [x]  Ячейки с кодом расположены в порядке исполнения\n",
    "- [x]  Выполнен шаг 1: данные подготовлены\n",
    "- [x]  Выполнен шаг 2: модели обучены и проверены\n",
    "    - [x]  Данные корректно разбиты на обучающую и валидационную выборки\n",
    "    - [x]  Модели обучены, предсказания сделаны\n",
    "    - [x]  Предсказания и правильные ответы на валидационной выборке сохранены\n",
    "    - [x]  На экране напечатаны результаты\n",
    "    - [x]  Сделаны выводы\n",
    "- [x]  Выполнен шаг 3: проведена подготовка к расчёту прибыли\n",
    "    - [x]  Для всех ключевых значений созданы константы Python\n",
    "    - [x]  Посчитано минимальное среднее количество продукта в месторождениях региона, достаточное для разработки\n",
    "    - [x]  По предыдущему пункту сделаны выводы\n",
    "    - [x]  Написана функция расчёта прибыли\n",
    "- [x]  Выполнен шаг 4: посчитаны риски и прибыль\n",
    "    - [x]  Проведена процедура *Bootstrap*\n",
    "    - [x]  Все параметры бутстрепа соответствуют условию\n",
    "    - [x]  Найдены все нужные величины\n",
    "    - [x]  Предложен регион для разработки месторождения\n",
    "    - [x]  Выбор региона обоснован"
   ]
  },
  {
   "cell_type": "code",
   "execution_count": null,
   "metadata": {},
   "outputs": [],
   "source": []
  }
 ],
 "metadata": {
  "ExecuteTimeLog": [
   {
    "duration": 1433,
    "start_time": "2022-05-11T13:10:59.346Z"
   },
   {
    "duration": 180,
    "start_time": "2022-05-11T13:11:05.485Z"
   },
   {
    "duration": 855,
    "start_time": "2022-05-11T13:11:58.759Z"
   },
   {
    "duration": 17,
    "start_time": "2022-05-11T13:12:23.954Z"
   },
   {
    "duration": 15,
    "start_time": "2022-05-11T13:12:40.254Z"
   },
   {
    "duration": 15,
    "start_time": "2022-05-11T13:12:58.302Z"
   },
   {
    "duration": 136,
    "start_time": "2022-05-11T14:02:35.267Z"
   },
   {
    "duration": 150,
    "start_time": "2022-05-11T14:03:07.154Z"
   },
   {
    "duration": 3,
    "start_time": "2022-05-11T14:05:13.325Z"
   },
   {
    "duration": 360,
    "start_time": "2022-05-11T14:05:13.964Z"
   },
   {
    "duration": 19,
    "start_time": "2022-05-11T14:05:14.827Z"
   },
   {
    "duration": 16,
    "start_time": "2022-05-11T14:05:15.502Z"
   },
   {
    "duration": 14,
    "start_time": "2022-05-11T14:05:16.138Z"
   },
   {
    "duration": 130,
    "start_time": "2022-05-11T14:05:17.810Z"
   },
   {
    "duration": 145,
    "start_time": "2022-05-11T14:05:57.361Z"
   },
   {
    "duration": 132,
    "start_time": "2022-05-11T14:07:01.843Z"
   },
   {
    "duration": 30,
    "start_time": "2022-05-11T14:08:02.113Z"
   },
   {
    "duration": 31,
    "start_time": "2022-05-11T14:08:24.056Z"
   },
   {
    "duration": 27,
    "start_time": "2022-05-11T14:28:43.760Z"
   },
   {
    "duration": 30,
    "start_time": "2022-05-11T14:28:46.689Z"
   },
   {
    "duration": 1264,
    "start_time": "2022-05-12T04:31:23.048Z"
   },
   {
    "duration": 945,
    "start_time": "2022-05-12T04:31:24.314Z"
   },
   {
    "duration": 16,
    "start_time": "2022-05-12T04:31:25.261Z"
   },
   {
    "duration": 15,
    "start_time": "2022-05-12T04:31:25.279Z"
   },
   {
    "duration": 15,
    "start_time": "2022-05-12T04:31:25.296Z"
   },
   {
    "duration": 3,
    "start_time": "2022-05-12T04:31:25.312Z"
   },
   {
    "duration": 63,
    "start_time": "2022-05-12T04:31:25.317Z"
   },
   {
    "duration": 48,
    "start_time": "2022-05-12T04:31:25.382Z"
   },
   {
    "duration": 55,
    "start_time": "2022-05-12T04:31:25.444Z"
   },
   {
    "duration": 165,
    "start_time": "2022-05-12T04:31:25.502Z"
   },
   {
    "duration": 1239,
    "start_time": "2022-05-12T04:40:19.564Z"
   },
   {
    "duration": 404,
    "start_time": "2022-05-12T04:40:20.805Z"
   },
   {
    "duration": 16,
    "start_time": "2022-05-12T04:40:21.211Z"
   },
   {
    "duration": 28,
    "start_time": "2022-05-12T04:40:21.229Z"
   },
   {
    "duration": 27,
    "start_time": "2022-05-12T04:40:21.259Z"
   },
   {
    "duration": 3,
    "start_time": "2022-05-12T04:40:21.288Z"
   },
   {
    "duration": 30,
    "start_time": "2022-05-12T04:40:21.293Z"
   },
   {
    "duration": 51,
    "start_time": "2022-05-12T04:40:21.325Z"
   },
   {
    "duration": 29,
    "start_time": "2022-05-12T04:40:21.378Z"
   },
   {
    "duration": 133,
    "start_time": "2022-05-12T04:40:21.410Z"
   },
   {
    "duration": 11,
    "start_time": "2022-05-12T04:41:39.825Z"
   },
   {
    "duration": 39,
    "start_time": "2022-05-12T04:41:52.383Z"
   },
   {
    "duration": 1271,
    "start_time": "2022-05-12T06:40:19.700Z"
   },
   {
    "duration": 398,
    "start_time": "2022-05-12T06:40:20.973Z"
   },
   {
    "duration": 16,
    "start_time": "2022-05-12T06:40:21.372Z"
   },
   {
    "duration": 13,
    "start_time": "2022-05-12T06:40:21.391Z"
   },
   {
    "duration": 15,
    "start_time": "2022-05-12T06:40:21.405Z"
   },
   {
    "duration": 41,
    "start_time": "2022-05-12T06:40:21.422Z"
   },
   {
    "duration": 9,
    "start_time": "2022-05-12T06:40:21.465Z"
   },
   {
    "duration": 19,
    "start_time": "2022-05-12T06:40:21.476Z"
   },
   {
    "duration": 19,
    "start_time": "2022-05-12T06:40:21.496Z"
   },
   {
    "duration": 43,
    "start_time": "2022-05-12T06:40:21.517Z"
   },
   {
    "duration": 81,
    "start_time": "2022-05-12T06:40:21.562Z"
   },
   {
    "duration": 16,
    "start_time": "2022-05-12T06:41:14.329Z"
   },
   {
    "duration": 16,
    "start_time": "2022-05-12T06:41:25.126Z"
   },
   {
    "duration": 16,
    "start_time": "2022-05-12T06:42:54.599Z"
   },
   {
    "duration": 17,
    "start_time": "2022-05-12T06:45:52.319Z"
   },
   {
    "duration": 106,
    "start_time": "2022-05-12T08:07:27.357Z"
   },
   {
    "duration": 9,
    "start_time": "2022-05-12T08:07:42.312Z"
   },
   {
    "duration": 3,
    "start_time": "2022-05-12T08:07:49.397Z"
   },
   {
    "duration": 3,
    "start_time": "2022-05-12T08:07:50.104Z"
   },
   {
    "duration": 3,
    "start_time": "2022-05-12T08:08:00.379Z"
   },
   {
    "duration": 4,
    "start_time": "2022-05-12T08:08:00.879Z"
   },
   {
    "duration": 3,
    "start_time": "2022-05-12T08:08:32.315Z"
   },
   {
    "duration": 4,
    "start_time": "2022-05-12T08:08:32.855Z"
   },
   {
    "duration": 3,
    "start_time": "2022-05-12T08:08:56.784Z"
   },
   {
    "duration": 135,
    "start_time": "2022-05-12T08:08:57.284Z"
   },
   {
    "duration": 9,
    "start_time": "2022-05-12T08:09:10.364Z"
   },
   {
    "duration": 9,
    "start_time": "2022-05-12T08:09:38.671Z"
   },
   {
    "duration": 12,
    "start_time": "2022-05-12T08:09:58.955Z"
   },
   {
    "duration": 4,
    "start_time": "2022-05-12T08:15:02.818Z"
   },
   {
    "duration": 4,
    "start_time": "2022-05-12T08:15:48.204Z"
   },
   {
    "duration": 10,
    "start_time": "2022-05-12T08:19:32.628Z"
   },
   {
    "duration": 8,
    "start_time": "2022-05-12T08:19:51.441Z"
   },
   {
    "duration": 172,
    "start_time": "2022-05-12T08:20:14.962Z"
   },
   {
    "duration": 5,
    "start_time": "2022-05-12T08:20:25.699Z"
   },
   {
    "duration": 7,
    "start_time": "2022-05-12T08:20:49.887Z"
   },
   {
    "duration": 1248,
    "start_time": "2022-05-12T15:36:12.767Z"
   },
   {
    "duration": 6992,
    "start_time": "2022-05-12T15:36:14.017Z"
   },
   {
    "duration": 20,
    "start_time": "2022-05-12T15:36:21.011Z"
   },
   {
    "duration": 17,
    "start_time": "2022-05-12T15:36:21.033Z"
   },
   {
    "duration": 18,
    "start_time": "2022-05-12T15:36:21.052Z"
   },
   {
    "duration": 33,
    "start_time": "2022-05-12T15:36:21.072Z"
   },
   {
    "duration": 13,
    "start_time": "2022-05-12T15:36:21.106Z"
   },
   {
    "duration": 24,
    "start_time": "2022-05-12T15:36:21.121Z"
   },
   {
    "duration": 19,
    "start_time": "2022-05-12T15:36:21.147Z"
   },
   {
    "duration": 19,
    "start_time": "2022-05-12T15:36:21.167Z"
   },
   {
    "duration": 21,
    "start_time": "2022-05-12T15:36:21.199Z"
   },
   {
    "duration": 197,
    "start_time": "2022-05-12T15:36:21.222Z"
   },
   {
    "duration": 110,
    "start_time": "2022-05-12T15:36:21.420Z"
   },
   {
    "duration": 70,
    "start_time": "2022-05-12T15:36:21.533Z"
   },
   {
    "duration": 112,
    "start_time": "2022-05-12T15:36:21.608Z"
   },
   {
    "duration": 96,
    "start_time": "2022-05-12T15:36:21.722Z"
   },
   {
    "duration": 1341,
    "start_time": "2022-05-12T15:55:26.629Z"
   },
   {
    "duration": 384,
    "start_time": "2022-05-12T15:55:27.972Z"
   },
   {
    "duration": 17,
    "start_time": "2022-05-12T15:55:28.357Z"
   },
   {
    "duration": 31,
    "start_time": "2022-05-12T15:55:28.376Z"
   },
   {
    "duration": 18,
    "start_time": "2022-05-12T15:55:28.409Z"
   },
   {
    "duration": 15,
    "start_time": "2022-05-12T15:55:28.429Z"
   },
   {
    "duration": 7,
    "start_time": "2022-05-12T15:55:28.445Z"
   },
   {
    "duration": 20,
    "start_time": "2022-05-12T15:55:28.454Z"
   },
   {
    "duration": 42,
    "start_time": "2022-05-12T15:55:28.476Z"
   },
   {
    "duration": 15,
    "start_time": "2022-05-12T15:55:28.523Z"
   },
   {
    "duration": 83,
    "start_time": "2022-05-12T15:55:28.540Z"
   },
   {
    "duration": 97,
    "start_time": "2022-05-12T15:55:28.626Z"
   },
   {
    "duration": 204,
    "start_time": "2022-05-12T15:55:28.725Z"
   },
   {
    "duration": 75,
    "start_time": "2022-05-12T15:55:28.931Z"
   },
   {
    "duration": 117,
    "start_time": "2022-05-12T15:55:29.009Z"
   },
   {
    "duration": 7,
    "start_time": "2022-05-12T15:55:29.128Z"
   },
   {
    "duration": 3,
    "start_time": "2022-05-12T15:55:58.396Z"
   },
   {
    "duration": 4,
    "start_time": "2022-05-12T16:45:50.380Z"
   },
   {
    "duration": 103,
    "start_time": "2022-05-12T17:54:28.319Z"
   },
   {
    "duration": 198,
    "start_time": "2022-05-12T17:54:35.296Z"
   },
   {
    "duration": 213,
    "start_time": "2022-05-12T17:54:51.440Z"
   },
   {
    "duration": 303,
    "start_time": "2022-05-12T17:55:03.417Z"
   },
   {
    "duration": 3,
    "start_time": "2022-05-12T17:55:28.983Z"
   },
   {
    "duration": 232,
    "start_time": "2022-05-12T17:55:29.995Z"
   },
   {
    "duration": 210,
    "start_time": "2022-05-12T17:55:37.308Z"
   },
   {
    "duration": 4,
    "start_time": "2022-05-12T17:58:18.437Z"
   },
   {
    "duration": 204,
    "start_time": "2022-05-12T17:58:19.483Z"
   },
   {
    "duration": 189,
    "start_time": "2022-05-12T17:58:32.610Z"
   },
   {
    "duration": 2,
    "start_time": "2022-05-12T18:10:37.972Z"
   },
   {
    "duration": 3,
    "start_time": "2022-05-12T18:15:12.434Z"
   },
   {
    "duration": 182,
    "start_time": "2022-05-12T18:15:13.096Z"
   },
   {
    "duration": 1191,
    "start_time": "2022-05-12T18:15:21.801Z"
   },
   {
    "duration": 363,
    "start_time": "2022-05-12T18:15:22.994Z"
   },
   {
    "duration": 14,
    "start_time": "2022-05-12T18:15:23.359Z"
   },
   {
    "duration": 25,
    "start_time": "2022-05-12T18:15:23.375Z"
   },
   {
    "duration": 19,
    "start_time": "2022-05-12T18:15:23.402Z"
   },
   {
    "duration": 15,
    "start_time": "2022-05-12T18:15:23.423Z"
   },
   {
    "duration": 6,
    "start_time": "2022-05-12T18:15:23.440Z"
   },
   {
    "duration": 17,
    "start_time": "2022-05-12T18:15:23.448Z"
   },
   {
    "duration": 15,
    "start_time": "2022-05-12T18:15:23.466Z"
   },
   {
    "duration": 16,
    "start_time": "2022-05-12T18:15:23.510Z"
   },
   {
    "duration": 77,
    "start_time": "2022-05-12T18:15:23.528Z"
   },
   {
    "duration": 100,
    "start_time": "2022-05-12T18:15:23.609Z"
   },
   {
    "duration": 194,
    "start_time": "2022-05-12T18:15:23.711Z"
   },
   {
    "duration": 96,
    "start_time": "2022-05-12T18:15:23.907Z"
   },
   {
    "duration": 22,
    "start_time": "2022-05-12T18:15:24.004Z"
   },
   {
    "duration": 3,
    "start_time": "2022-05-12T18:15:24.027Z"
   },
   {
    "duration": 183,
    "start_time": "2022-05-12T18:15:24.032Z"
   },
   {
    "duration": 0,
    "start_time": "2022-05-12T18:15:24.217Z"
   },
   {
    "duration": 3,
    "start_time": "2022-05-12T18:16:04.518Z"
   },
   {
    "duration": 98,
    "start_time": "2022-05-12T18:20:27.625Z"
   },
   {
    "duration": 17,
    "start_time": "2022-05-12T18:22:59.703Z"
   },
   {
    "duration": 16,
    "start_time": "2022-05-12T18:23:06.853Z"
   },
   {
    "duration": 17,
    "start_time": "2022-05-12T18:23:31.671Z"
   },
   {
    "duration": 17,
    "start_time": "2022-05-12T18:32:20.195Z"
   },
   {
    "duration": 16,
    "start_time": "2022-05-12T18:33:08.332Z"
   },
   {
    "duration": 13,
    "start_time": "2022-05-12T18:36:56.967Z"
   },
   {
    "duration": 1105,
    "start_time": "2022-05-12T18:37:34.115Z"
   },
   {
    "duration": 1095,
    "start_time": "2022-05-12T18:37:52.089Z"
   },
   {
    "duration": 1102,
    "start_time": "2022-05-12T18:38:39.039Z"
   },
   {
    "duration": 4,
    "start_time": "2022-05-12T18:38:55.234Z"
   },
   {
    "duration": 4,
    "start_time": "2022-05-12T18:39:01.644Z"
   },
   {
    "duration": 19,
    "start_time": "2022-05-12T18:39:02.403Z"
   },
   {
    "duration": 3,
    "start_time": "2022-05-12T18:39:31.688Z"
   },
   {
    "duration": 5,
    "start_time": "2022-05-12T18:39:32.326Z"
   },
   {
    "duration": 1232,
    "start_time": "2022-05-12T18:39:39.010Z"
   },
   {
    "duration": 382,
    "start_time": "2022-05-12T18:39:40.244Z"
   },
   {
    "duration": 14,
    "start_time": "2022-05-12T18:39:40.628Z"
   },
   {
    "duration": 11,
    "start_time": "2022-05-12T18:39:40.644Z"
   },
   {
    "duration": 20,
    "start_time": "2022-05-12T18:39:40.657Z"
   },
   {
    "duration": 27,
    "start_time": "2022-05-12T18:39:40.678Z"
   },
   {
    "duration": 18,
    "start_time": "2022-05-12T18:39:40.706Z"
   },
   {
    "duration": 20,
    "start_time": "2022-05-12T18:39:40.726Z"
   },
   {
    "duration": 16,
    "start_time": "2022-05-12T18:39:40.748Z"
   },
   {
    "duration": 14,
    "start_time": "2022-05-12T18:39:40.766Z"
   },
   {
    "duration": 27,
    "start_time": "2022-05-12T18:39:40.782Z"
   },
   {
    "duration": 102,
    "start_time": "2022-05-12T18:39:40.811Z"
   },
   {
    "duration": 193,
    "start_time": "2022-05-12T18:39:40.915Z"
   },
   {
    "duration": 5,
    "start_time": "2022-05-12T18:39:41.110Z"
   },
   {
    "duration": 187,
    "start_time": "2022-05-12T18:39:41.117Z"
   },
   {
    "duration": 10,
    "start_time": "2022-05-12T18:39:41.306Z"
   },
   {
    "duration": 12,
    "start_time": "2022-05-12T18:39:41.318Z"
   },
   {
    "duration": 1171,
    "start_time": "2022-05-12T18:39:41.331Z"
   },
   {
    "duration": 1236,
    "start_time": "2022-05-12T18:41:43.833Z"
   },
   {
    "duration": 355,
    "start_time": "2022-05-12T18:41:45.071Z"
   },
   {
    "duration": 14,
    "start_time": "2022-05-12T18:41:45.428Z"
   },
   {
    "duration": 12,
    "start_time": "2022-05-12T18:41:45.444Z"
   },
   {
    "duration": 13,
    "start_time": "2022-05-12T18:41:45.457Z"
   },
   {
    "duration": 33,
    "start_time": "2022-05-12T18:41:45.471Z"
   },
   {
    "duration": 5,
    "start_time": "2022-05-12T18:41:45.505Z"
   },
   {
    "duration": 15,
    "start_time": "2022-05-12T18:41:45.511Z"
   },
   {
    "duration": 14,
    "start_time": "2022-05-12T18:41:45.528Z"
   },
   {
    "duration": 15,
    "start_time": "2022-05-12T18:41:45.544Z"
   },
   {
    "duration": 53,
    "start_time": "2022-05-12T18:41:45.560Z"
   },
   {
    "duration": 104,
    "start_time": "2022-05-12T18:41:45.700Z"
   },
   {
    "duration": 197,
    "start_time": "2022-05-12T18:41:45.807Z"
   },
   {
    "duration": 3,
    "start_time": "2022-05-12T18:41:46.006Z"
   },
   {
    "duration": 99,
    "start_time": "2022-05-12T18:41:46.010Z"
   },
   {
    "duration": 3,
    "start_time": "2022-05-12T18:41:46.112Z"
   },
   {
    "duration": 5,
    "start_time": "2022-05-12T18:41:46.117Z"
   },
   {
    "duration": 1189,
    "start_time": "2022-05-12T18:41:46.124Z"
   },
   {
    "duration": 1357,
    "start_time": "2022-05-12T18:43:38.424Z"
   },
   {
    "duration": 466,
    "start_time": "2022-05-12T18:43:39.783Z"
   },
   {
    "duration": 21,
    "start_time": "2022-05-12T18:43:40.250Z"
   },
   {
    "duration": 27,
    "start_time": "2022-05-12T18:43:40.273Z"
   },
   {
    "duration": 12,
    "start_time": "2022-05-12T18:43:40.302Z"
   },
   {
    "duration": 13,
    "start_time": "2022-05-12T18:43:40.316Z"
   },
   {
    "duration": 6,
    "start_time": "2022-05-12T18:43:40.331Z"
   },
   {
    "duration": 19,
    "start_time": "2022-05-12T18:43:40.339Z"
   },
   {
    "duration": 41,
    "start_time": "2022-05-12T18:43:40.360Z"
   },
   {
    "duration": 15,
    "start_time": "2022-05-12T18:43:40.404Z"
   },
   {
    "duration": 23,
    "start_time": "2022-05-12T18:43:40.420Z"
   },
   {
    "duration": 104,
    "start_time": "2022-05-12T18:43:40.501Z"
   },
   {
    "duration": 205,
    "start_time": "2022-05-12T18:43:40.607Z"
   },
   {
    "duration": 89,
    "start_time": "2022-05-12T18:43:40.815Z"
   },
   {
    "duration": 12,
    "start_time": "2022-05-12T18:43:40.905Z"
   },
   {
    "duration": 9,
    "start_time": "2022-05-12T18:43:40.919Z"
   },
   {
    "duration": 10,
    "start_time": "2022-05-12T18:43:40.929Z"
   },
   {
    "duration": 1687,
    "start_time": "2022-05-12T18:43:40.941Z"
   },
   {
    "duration": 192,
    "start_time": "2022-05-12T18:43:59.329Z"
   },
   {
    "duration": 4,
    "start_time": "2022-05-12T18:44:14.536Z"
   },
   {
    "duration": 1052,
    "start_time": "2022-05-12T18:44:15.354Z"
   },
   {
    "duration": 5,
    "start_time": "2022-05-12T18:45:56.678Z"
   },
   {
    "duration": 1073,
    "start_time": "2022-05-12T18:45:58.638Z"
   },
   {
    "duration": 95,
    "start_time": "2022-05-12T18:46:44.656Z"
   },
   {
    "duration": 1154,
    "start_time": "2022-05-12T18:47:42.539Z"
   },
   {
    "duration": 332,
    "start_time": "2022-05-12T18:47:43.694Z"
   },
   {
    "duration": 14,
    "start_time": "2022-05-12T18:47:44.027Z"
   },
   {
    "duration": 12,
    "start_time": "2022-05-12T18:47:44.043Z"
   },
   {
    "duration": 12,
    "start_time": "2022-05-12T18:47:44.057Z"
   },
   {
    "duration": 32,
    "start_time": "2022-05-12T18:47:44.070Z"
   },
   {
    "duration": 7,
    "start_time": "2022-05-12T18:47:44.103Z"
   },
   {
    "duration": 16,
    "start_time": "2022-05-12T18:47:44.111Z"
   },
   {
    "duration": 16,
    "start_time": "2022-05-12T18:47:44.129Z"
   },
   {
    "duration": 15,
    "start_time": "2022-05-12T18:47:44.147Z"
   },
   {
    "duration": 51,
    "start_time": "2022-05-12T18:47:44.164Z"
   },
   {
    "duration": 184,
    "start_time": "2022-05-12T18:47:44.217Z"
   },
   {
    "duration": 100,
    "start_time": "2022-05-12T18:47:44.404Z"
   },
   {
    "duration": 198,
    "start_time": "2022-05-12T18:47:44.505Z"
   },
   {
    "duration": 10,
    "start_time": "2022-05-12T18:47:44.705Z"
   },
   {
    "duration": 3,
    "start_time": "2022-05-12T18:47:44.717Z"
   },
   {
    "duration": 5,
    "start_time": "2022-05-12T18:47:44.721Z"
   },
   {
    "duration": 1112,
    "start_time": "2022-05-12T18:47:44.727Z"
   },
   {
    "duration": 1091,
    "start_time": "2022-05-12T18:47:45.841Z"
   },
   {
    "duration": 1087,
    "start_time": "2022-05-12T18:51:05.669Z"
   },
   {
    "duration": 1142,
    "start_time": "2022-05-12T18:52:50.062Z"
   },
   {
    "duration": 406,
    "start_time": "2022-05-12T18:52:51.206Z"
   },
   {
    "duration": 23,
    "start_time": "2022-05-12T18:52:51.614Z"
   },
   {
    "duration": 17,
    "start_time": "2022-05-12T18:52:51.638Z"
   },
   {
    "duration": 13,
    "start_time": "2022-05-12T18:52:51.657Z"
   },
   {
    "duration": 42,
    "start_time": "2022-05-12T18:52:51.672Z"
   },
   {
    "duration": 6,
    "start_time": "2022-05-12T18:52:51.716Z"
   },
   {
    "duration": 16,
    "start_time": "2022-05-12T18:52:51.724Z"
   },
   {
    "duration": 16,
    "start_time": "2022-05-12T18:52:51.742Z"
   },
   {
    "duration": 41,
    "start_time": "2022-05-12T18:52:51.760Z"
   },
   {
    "duration": 118,
    "start_time": "2022-05-12T18:52:51.803Z"
   },
   {
    "duration": 13,
    "start_time": "2022-05-12T18:52:52.001Z"
   },
   {
    "duration": 192,
    "start_time": "2022-05-12T18:52:52.016Z"
   },
   {
    "duration": 105,
    "start_time": "2022-05-12T18:52:52.213Z"
   },
   {
    "duration": 8,
    "start_time": "2022-05-12T18:52:52.320Z"
   },
   {
    "duration": 7,
    "start_time": "2022-05-12T18:52:52.329Z"
   },
   {
    "duration": 7,
    "start_time": "2022-05-12T18:52:52.337Z"
   },
   {
    "duration": 1164,
    "start_time": "2022-05-12T18:52:52.346Z"
   },
   {
    "duration": 1233,
    "start_time": "2022-05-12T18:52:53.511Z"
   },
   {
    "duration": 1116,
    "start_time": "2022-05-12T18:52:54.746Z"
   },
   {
    "duration": 1426,
    "start_time": "2022-05-12T19:31:52.120Z"
   },
   {
    "duration": 501,
    "start_time": "2022-05-12T19:31:53.548Z"
   },
   {
    "duration": 21,
    "start_time": "2022-05-12T19:31:54.051Z"
   },
   {
    "duration": 32,
    "start_time": "2022-05-12T19:31:54.074Z"
   },
   {
    "duration": 19,
    "start_time": "2022-05-12T19:31:54.109Z"
   },
   {
    "duration": 17,
    "start_time": "2022-05-12T19:31:54.130Z"
   },
   {
    "duration": 7,
    "start_time": "2022-05-12T19:31:54.149Z"
   },
   {
    "duration": 19,
    "start_time": "2022-05-12T19:31:54.159Z"
   },
   {
    "duration": 39,
    "start_time": "2022-05-12T19:31:54.179Z"
   },
   {
    "duration": 18,
    "start_time": "2022-05-12T19:31:54.220Z"
   },
   {
    "duration": 65,
    "start_time": "2022-05-12T19:31:54.240Z"
   },
   {
    "duration": 109,
    "start_time": "2022-05-12T19:31:54.309Z"
   },
   {
    "duration": 184,
    "start_time": "2022-05-12T19:31:54.422Z"
   },
   {
    "duration": 89,
    "start_time": "2022-05-12T19:31:54.613Z"
   },
   {
    "duration": 12,
    "start_time": "2022-05-12T19:31:54.704Z"
   },
   {
    "duration": 3,
    "start_time": "2022-05-12T19:31:54.719Z"
   },
   {
    "duration": 6,
    "start_time": "2022-05-12T19:31:54.724Z"
   },
   {
    "duration": 1233,
    "start_time": "2022-05-12T19:31:54.732Z"
   },
   {
    "duration": 1146,
    "start_time": "2022-05-12T19:31:55.967Z"
   },
   {
    "duration": 1299,
    "start_time": "2022-05-12T19:31:57.115Z"
   },
   {
    "duration": 1166,
    "start_time": "2022-05-12T19:37:09.758Z"
   },
   {
    "duration": 342,
    "start_time": "2022-05-12T19:37:10.925Z"
   },
   {
    "duration": 14,
    "start_time": "2022-05-12T19:37:11.269Z"
   },
   {
    "duration": 21,
    "start_time": "2022-05-12T19:37:11.285Z"
   },
   {
    "duration": 13,
    "start_time": "2022-05-12T19:37:11.309Z"
   },
   {
    "duration": 15,
    "start_time": "2022-05-12T19:37:11.323Z"
   },
   {
    "duration": 5,
    "start_time": "2022-05-12T19:37:11.340Z"
   },
   {
    "duration": 22,
    "start_time": "2022-05-12T19:37:11.346Z"
   },
   {
    "duration": 42,
    "start_time": "2022-05-12T19:37:11.369Z"
   },
   {
    "duration": 16,
    "start_time": "2022-05-12T19:37:11.413Z"
   },
   {
    "duration": 77,
    "start_time": "2022-05-12T19:37:11.430Z"
   },
   {
    "duration": 194,
    "start_time": "2022-05-12T19:37:11.509Z"
   },
   {
    "duration": 106,
    "start_time": "2022-05-12T19:37:11.707Z"
   },
   {
    "duration": 91,
    "start_time": "2022-05-12T19:37:11.818Z"
   },
   {
    "duration": 94,
    "start_time": "2022-05-12T19:37:11.915Z"
   },
   {
    "duration": 4,
    "start_time": "2022-05-12T19:37:12.011Z"
   },
   {
    "duration": 8,
    "start_time": "2022-05-12T19:37:12.017Z"
   },
   {
    "duration": 1940,
    "start_time": "2022-05-12T19:37:12.026Z"
   },
   {
    "duration": 1906,
    "start_time": "2022-05-12T19:37:13.968Z"
   },
   {
    "duration": 1891,
    "start_time": "2022-05-12T19:37:15.876Z"
   }
  ],
  "kernelspec": {
   "display_name": "Python 3 (ipykernel)",
   "language": "python",
   "name": "python3"
  },
  "language_info": {
   "codemirror_mode": {
    "name": "ipython",
    "version": 3
   },
   "file_extension": ".py",
   "mimetype": "text/x-python",
   "name": "python",
   "nbconvert_exporter": "python",
   "pygments_lexer": "ipython3",
   "version": "3.9.5"
  },
  "toc": {
   "base_numbering": 1,
   "nav_menu": {
    "height": "234px",
    "width": "240px"
   },
   "number_sections": true,
   "sideBar": true,
   "skip_h1_title": true,
   "title_cell": "Содержание:",
   "title_sidebar": "Contents",
   "toc_cell": true,
   "toc_position": {},
   "toc_section_display": true,
   "toc_window_display": true
  }
 },
 "nbformat": 4,
 "nbformat_minor": 2
}
