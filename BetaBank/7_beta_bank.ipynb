{
 "cells": [
  {
   "cell_type": "markdown",
   "metadata": {
    "toc": true
   },
   "source": [
    "<h1>Содержание<span class=\"tocSkip\"></span></h1>\n",
    "<div class=\"toc\"><ul class=\"toc-item\"><li><span><a href=\"#Подготовка-данных\" data-toc-modified-id=\"Подготовка-данных-1\"><span class=\"toc-item-num\">1&nbsp;&nbsp;</span>Подготовка данных</a></span><ul class=\"toc-item\"><li><span><a href=\"#Вывод\" data-toc-modified-id=\"Вывод-1.1\"><span class=\"toc-item-num\">1.1&nbsp;&nbsp;</span>Вывод</a></span></li></ul></li><li><span><a href=\"#Исследование-задачи\" data-toc-modified-id=\"Исследование-задачи-2\"><span class=\"toc-item-num\">2&nbsp;&nbsp;</span>Исследование задачи</a></span><ul class=\"toc-item\"><li><span><a href=\"#Дисбаланс-данных\" data-toc-modified-id=\"Дисбаланс-данных-2.1\"><span class=\"toc-item-num\">2.1&nbsp;&nbsp;</span>Дисбаланс данных</a></span><ul class=\"toc-item\"><li><span><a href=\"#Дерево-решений\" data-toc-modified-id=\"Дерево-решений-2.1.1\"><span class=\"toc-item-num\">2.1.1&nbsp;&nbsp;</span>Дерево решений</a></span></li><li><span><a href=\"#Случайный-лес\" data-toc-modified-id=\"Случайный-лес-2.1.2\"><span class=\"toc-item-num\">2.1.2&nbsp;&nbsp;</span>Случайный лес</a></span></li><li><span><a href=\"#Логистическая-регрессия\" data-toc-modified-id=\"Логистическая-регрессия-2.1.3\"><span class=\"toc-item-num\">2.1.3&nbsp;&nbsp;</span>Логистическая регрессия</a></span></li></ul></li><li><span><a href=\"#Вывод\" data-toc-modified-id=\"Вывод-2.2\"><span class=\"toc-item-num\">2.2&nbsp;&nbsp;</span>Вывод</a></span></li></ul></li><li><span><a href=\"#Борьба-с-дисбалансом\" data-toc-modified-id=\"Борьба-с-дисбалансом-3\"><span class=\"toc-item-num\">3&nbsp;&nbsp;</span>Борьба с дисбалансом</a></span><ul class=\"toc-item\"><li><span><a href=\"#Взвешивание-классов\" data-toc-modified-id=\"Взвешивание-классов-3.1\"><span class=\"toc-item-num\">3.1&nbsp;&nbsp;</span>Взвешивание классов</a></span><ul class=\"toc-item\"><li><span><a href=\"#Дерево-решений\" data-toc-modified-id=\"Дерево-решений-3.1.1\"><span class=\"toc-item-num\">3.1.1&nbsp;&nbsp;</span>Дерево решений</a></span></li><li><span><a href=\"#Случайный-лес\" data-toc-modified-id=\"Случайный-лес-3.1.2\"><span class=\"toc-item-num\">3.1.2&nbsp;&nbsp;</span>Случайный лес</a></span></li><li><span><a href=\"#Логистическая-регрессия\" data-toc-modified-id=\"Логистическая-регрессия-3.1.3\"><span class=\"toc-item-num\">3.1.3&nbsp;&nbsp;</span>Логистическая регрессия</a></span></li></ul></li><li><span><a href=\"#Увеличение-выборки\" data-toc-modified-id=\"Увеличение-выборки-3.2\"><span class=\"toc-item-num\">3.2&nbsp;&nbsp;</span>Увеличение выборки</a></span><ul class=\"toc-item\"><li><span><a href=\"#Дерево-решений\" data-toc-modified-id=\"Дерево-решений-3.2.1\"><span class=\"toc-item-num\">3.2.1&nbsp;&nbsp;</span>Дерево решений</a></span></li><li><span><a href=\"#Случайный-лес\" data-toc-modified-id=\"Случайный-лес-3.2.2\"><span class=\"toc-item-num\">3.2.2&nbsp;&nbsp;</span>Случайный лес</a></span></li><li><span><a href=\"#Логистическая-регрессия\" data-toc-modified-id=\"Логистическая-регрессия-3.2.3\"><span class=\"toc-item-num\">3.2.3&nbsp;&nbsp;</span>Логистическая регрессия</a></span></li><li><span><a href=\"#Вывод\" data-toc-modified-id=\"Вывод-3.2.4\"><span class=\"toc-item-num\">3.2.4&nbsp;&nbsp;</span>Вывод</a></span></li></ul></li><li><span><a href=\"#Уменьшение-выборки\" data-toc-modified-id=\"Уменьшение-выборки-3.3\"><span class=\"toc-item-num\">3.3&nbsp;&nbsp;</span>Уменьшение выборки</a></span><ul class=\"toc-item\"><li><span><a href=\"#Дерево-решений\" data-toc-modified-id=\"Дерево-решений-3.3.1\"><span class=\"toc-item-num\">3.3.1&nbsp;&nbsp;</span>Дерево решений</a></span></li><li><span><a href=\"#Случайный-лес\" data-toc-modified-id=\"Случайный-лес-3.3.2\"><span class=\"toc-item-num\">3.3.2&nbsp;&nbsp;</span>Случайный лес</a></span></li><li><span><a href=\"#Логистическая-регрессия\" data-toc-modified-id=\"Логистическая-регрессия-3.3.3\"><span class=\"toc-item-num\">3.3.3&nbsp;&nbsp;</span>Логистическая регрессия</a></span></li><li><span><a href=\"#Вывод\" data-toc-modified-id=\"Вывод-3.3.4\"><span class=\"toc-item-num\">3.3.4&nbsp;&nbsp;</span>Вывод</a></span></li></ul></li></ul></li><li><span><a href=\"#Тестирование-модели\" data-toc-modified-id=\"Тестирование-модели-4\"><span class=\"toc-item-num\">4&nbsp;&nbsp;</span>Тестирование модели</a></span><ul class=\"toc-item\"><li><ul class=\"toc-item\"><li><span><a href=\"#Случайный-лес\" data-toc-modified-id=\"Случайный-лес-4.0.1\"><span class=\"toc-item-num\">4.0.1&nbsp;&nbsp;</span>Случайный лес</a></span></li><li><span><a href=\"#Вывод\" data-toc-modified-id=\"Вывод-4.0.2\"><span class=\"toc-item-num\">4.0.2&nbsp;&nbsp;</span>Вывод</a></span></li></ul></li></ul></li><li><span><a href=\"#Вывод\" data-toc-modified-id=\"Вывод-5\"><span class=\"toc-item-num\">5&nbsp;&nbsp;</span>Вывод</a></span></li><li><span><a href=\"#Чек-лист-готовности-проекта\" data-toc-modified-id=\"Чек-лист-готовности-проекта-6\"><span class=\"toc-item-num\">6&nbsp;&nbsp;</span>Чек-лист готовности проекта</a></span></li></ul></div>"
   ]
  },
  {
   "cell_type": "markdown",
   "metadata": {},
   "source": [
    "# Отток клиентов"
   ]
  },
  {
   "cell_type": "markdown",
   "metadata": {},
   "source": [
    "Из «Бета-Банка» стали уходить клиенты. Каждый месяц. Немного, но заметно. Банковские маркетологи посчитали: сохранять текущих клиентов дешевле, чем привлекать новых.\n",
    "\n",
    "Нужно спрогнозировать, уйдёт клиент из банка в ближайшее время или нет. Вам предоставлены исторические данные о поведении клиентов и расторжении договоров с банком. \n",
    "\n",
    "Постройте модель с предельно большим значением *F1*-меры. Чтобы сдать проект успешно, нужно довести метрику до 0.59. Проверьте *F1*-меру на тестовой выборке самостоятельно.\n",
    "\n",
    "Дополнительно измеряйте *AUC-ROC*, сравнивайте её значение с *F1*-мерой.\n",
    "\n",
    "Источник данных: [https://www.kaggle.com/barelydedicated/bank-customer-churn-modeling](https://www.kaggle.com/barelydedicated/bank-customer-churn-modeling)"
   ]
  },
  {
   "cell_type": "markdown",
   "metadata": {},
   "source": [
    "## Подготовка данных"
   ]
  },
  {
   "cell_type": "code",
   "execution_count": 1,
   "metadata": {},
   "outputs": [],
   "source": [
    "# Импорт библиотек\n",
    "import pandas as pd\n",
    "from sklearn.tree import DecisionTreeClassifier\n",
    "from sklearn.model_selection import train_test_split  \n",
    "from sklearn.ensemble import RandomForestClassifier \n",
    "from sklearn.linear_model import LogisticRegression\n",
    "from sklearn.metrics import mean_squared_error\n",
    "import warnings\n",
    "warnings.filterwarnings(\"ignore\")\n",
    "from sklearn.utils import shuffle\n",
    "from sklearn.metrics import f1_score\n",
    "from sklearn.metrics import roc_curve\n",
    "from sklearn.metrics import roc_auc_score \n",
    "from sklearn.preprocessing import StandardScaler "
   ]
  },
  {
   "cell_type": "markdown",
   "metadata": {},
   "source": [
    "Изучение файла данных"
   ]
  },
  {
   "cell_type": "code",
   "execution_count": 2,
   "metadata": {},
   "outputs": [],
   "source": [
    "data = pd.read_csv('/datasets/Churn.csv')"
   ]
  },
  {
   "cell_type": "code",
   "execution_count": 3,
   "metadata": {},
   "outputs": [
    {
     "name": "stdout",
     "output_type": "stream",
     "text": [
      "<class 'pandas.core.frame.DataFrame'>\n",
      "RangeIndex: 10000 entries, 0 to 9999\n",
      "Data columns (total 14 columns):\n",
      " #   Column           Non-Null Count  Dtype  \n",
      "---  ------           --------------  -----  \n",
      " 0   RowNumber        10000 non-null  int64  \n",
      " 1   CustomerId       10000 non-null  int64  \n",
      " 2   Surname          10000 non-null  object \n",
      " 3   CreditScore      10000 non-null  int64  \n",
      " 4   Geography        10000 non-null  object \n",
      " 5   Gender           10000 non-null  object \n",
      " 6   Age              10000 non-null  int64  \n",
      " 7   Tenure           9091 non-null   float64\n",
      " 8   Balance          10000 non-null  float64\n",
      " 9   NumOfProducts    10000 non-null  int64  \n",
      " 10  HasCrCard        10000 non-null  int64  \n",
      " 11  IsActiveMember   10000 non-null  int64  \n",
      " 12  EstimatedSalary  10000 non-null  float64\n",
      " 13  Exited           10000 non-null  int64  \n",
      "dtypes: float64(3), int64(8), object(3)\n",
      "memory usage: 1.1+ MB\n"
     ]
    }
   ],
   "source": [
    "data.info()"
   ]
  },
  {
   "cell_type": "code",
   "execution_count": 4,
   "metadata": {},
   "outputs": [
    {
     "data": {
      "text/html": [
       "<div>\n",
       "<style scoped>\n",
       "    .dataframe tbody tr th:only-of-type {\n",
       "        vertical-align: middle;\n",
       "    }\n",
       "\n",
       "    .dataframe tbody tr th {\n",
       "        vertical-align: top;\n",
       "    }\n",
       "\n",
       "    .dataframe thead th {\n",
       "        text-align: right;\n",
       "    }\n",
       "</style>\n",
       "<table border=\"1\" class=\"dataframe\">\n",
       "  <thead>\n",
       "    <tr style=\"text-align: right;\">\n",
       "      <th></th>\n",
       "      <th>RowNumber</th>\n",
       "      <th>CustomerId</th>\n",
       "      <th>Surname</th>\n",
       "      <th>CreditScore</th>\n",
       "      <th>Geography</th>\n",
       "      <th>Gender</th>\n",
       "      <th>Age</th>\n",
       "      <th>Tenure</th>\n",
       "      <th>Balance</th>\n",
       "      <th>NumOfProducts</th>\n",
       "      <th>HasCrCard</th>\n",
       "      <th>IsActiveMember</th>\n",
       "      <th>EstimatedSalary</th>\n",
       "      <th>Exited</th>\n",
       "    </tr>\n",
       "  </thead>\n",
       "  <tbody>\n",
       "    <tr>\n",
       "      <th>0</th>\n",
       "      <td>1</td>\n",
       "      <td>15634602</td>\n",
       "      <td>Hargrave</td>\n",
       "      <td>619</td>\n",
       "      <td>France</td>\n",
       "      <td>Female</td>\n",
       "      <td>42</td>\n",
       "      <td>2.0</td>\n",
       "      <td>0.00</td>\n",
       "      <td>1</td>\n",
       "      <td>1</td>\n",
       "      <td>1</td>\n",
       "      <td>101348.88</td>\n",
       "      <td>1</td>\n",
       "    </tr>\n",
       "    <tr>\n",
       "      <th>1</th>\n",
       "      <td>2</td>\n",
       "      <td>15647311</td>\n",
       "      <td>Hill</td>\n",
       "      <td>608</td>\n",
       "      <td>Spain</td>\n",
       "      <td>Female</td>\n",
       "      <td>41</td>\n",
       "      <td>1.0</td>\n",
       "      <td>83807.86</td>\n",
       "      <td>1</td>\n",
       "      <td>0</td>\n",
       "      <td>1</td>\n",
       "      <td>112542.58</td>\n",
       "      <td>0</td>\n",
       "    </tr>\n",
       "    <tr>\n",
       "      <th>2</th>\n",
       "      <td>3</td>\n",
       "      <td>15619304</td>\n",
       "      <td>Onio</td>\n",
       "      <td>502</td>\n",
       "      <td>France</td>\n",
       "      <td>Female</td>\n",
       "      <td>42</td>\n",
       "      <td>8.0</td>\n",
       "      <td>159660.80</td>\n",
       "      <td>3</td>\n",
       "      <td>1</td>\n",
       "      <td>0</td>\n",
       "      <td>113931.57</td>\n",
       "      <td>1</td>\n",
       "    </tr>\n",
       "    <tr>\n",
       "      <th>3</th>\n",
       "      <td>4</td>\n",
       "      <td>15701354</td>\n",
       "      <td>Boni</td>\n",
       "      <td>699</td>\n",
       "      <td>France</td>\n",
       "      <td>Female</td>\n",
       "      <td>39</td>\n",
       "      <td>1.0</td>\n",
       "      <td>0.00</td>\n",
       "      <td>2</td>\n",
       "      <td>0</td>\n",
       "      <td>0</td>\n",
       "      <td>93826.63</td>\n",
       "      <td>0</td>\n",
       "    </tr>\n",
       "    <tr>\n",
       "      <th>4</th>\n",
       "      <td>5</td>\n",
       "      <td>15737888</td>\n",
       "      <td>Mitchell</td>\n",
       "      <td>850</td>\n",
       "      <td>Spain</td>\n",
       "      <td>Female</td>\n",
       "      <td>43</td>\n",
       "      <td>2.0</td>\n",
       "      <td>125510.82</td>\n",
       "      <td>1</td>\n",
       "      <td>1</td>\n",
       "      <td>1</td>\n",
       "      <td>79084.10</td>\n",
       "      <td>0</td>\n",
       "    </tr>\n",
       "  </tbody>\n",
       "</table>\n",
       "</div>"
      ],
      "text/plain": [
       "   RowNumber  CustomerId   Surname  CreditScore Geography  Gender  Age  \\\n",
       "0          1    15634602  Hargrave          619    France  Female   42   \n",
       "1          2    15647311      Hill          608     Spain  Female   41   \n",
       "2          3    15619304      Onio          502    France  Female   42   \n",
       "3          4    15701354      Boni          699    France  Female   39   \n",
       "4          5    15737888  Mitchell          850     Spain  Female   43   \n",
       "\n",
       "   Tenure    Balance  NumOfProducts  HasCrCard  IsActiveMember  \\\n",
       "0     2.0       0.00              1          1               1   \n",
       "1     1.0   83807.86              1          0               1   \n",
       "2     8.0  159660.80              3          1               0   \n",
       "3     1.0       0.00              2          0               0   \n",
       "4     2.0  125510.82              1          1               1   \n",
       "\n",
       "   EstimatedSalary  Exited  \n",
       "0        101348.88       1  \n",
       "1        112542.58       0  \n",
       "2        113931.57       1  \n",
       "3         93826.63       0  \n",
       "4         79084.10       0  "
      ]
     },
     "execution_count": 4,
     "metadata": {},
     "output_type": "execute_result"
    }
   ],
   "source": [
    "data.head()"
   ]
  },
  {
   "cell_type": "code",
   "execution_count": 5,
   "metadata": {},
   "outputs": [
    {
     "data": {
      "text/html": [
       "<div>\n",
       "<style scoped>\n",
       "    .dataframe tbody tr th:only-of-type {\n",
       "        vertical-align: middle;\n",
       "    }\n",
       "\n",
       "    .dataframe tbody tr th {\n",
       "        vertical-align: top;\n",
       "    }\n",
       "\n",
       "    .dataframe thead th {\n",
       "        text-align: right;\n",
       "    }\n",
       "</style>\n",
       "<table border=\"1\" class=\"dataframe\">\n",
       "  <thead>\n",
       "    <tr style=\"text-align: right;\">\n",
       "      <th></th>\n",
       "      <th>RowNumber</th>\n",
       "      <th>CustomerId</th>\n",
       "      <th>CreditScore</th>\n",
       "      <th>Age</th>\n",
       "      <th>Tenure</th>\n",
       "      <th>Balance</th>\n",
       "      <th>NumOfProducts</th>\n",
       "      <th>HasCrCard</th>\n",
       "      <th>IsActiveMember</th>\n",
       "      <th>EstimatedSalary</th>\n",
       "      <th>Exited</th>\n",
       "    </tr>\n",
       "  </thead>\n",
       "  <tbody>\n",
       "    <tr>\n",
       "      <th>count</th>\n",
       "      <td>10000.00000</td>\n",
       "      <td>1.000000e+04</td>\n",
       "      <td>10000.000000</td>\n",
       "      <td>10000.000000</td>\n",
       "      <td>9091.000000</td>\n",
       "      <td>10000.000000</td>\n",
       "      <td>10000.000000</td>\n",
       "      <td>10000.00000</td>\n",
       "      <td>10000.000000</td>\n",
       "      <td>10000.000000</td>\n",
       "      <td>10000.000000</td>\n",
       "    </tr>\n",
       "    <tr>\n",
       "      <th>mean</th>\n",
       "      <td>5000.50000</td>\n",
       "      <td>1.569094e+07</td>\n",
       "      <td>650.528800</td>\n",
       "      <td>38.921800</td>\n",
       "      <td>4.997690</td>\n",
       "      <td>76485.889288</td>\n",
       "      <td>1.530200</td>\n",
       "      <td>0.70550</td>\n",
       "      <td>0.515100</td>\n",
       "      <td>100090.239881</td>\n",
       "      <td>0.203700</td>\n",
       "    </tr>\n",
       "    <tr>\n",
       "      <th>std</th>\n",
       "      <td>2886.89568</td>\n",
       "      <td>7.193619e+04</td>\n",
       "      <td>96.653299</td>\n",
       "      <td>10.487806</td>\n",
       "      <td>2.894723</td>\n",
       "      <td>62397.405202</td>\n",
       "      <td>0.581654</td>\n",
       "      <td>0.45584</td>\n",
       "      <td>0.499797</td>\n",
       "      <td>57510.492818</td>\n",
       "      <td>0.402769</td>\n",
       "    </tr>\n",
       "    <tr>\n",
       "      <th>min</th>\n",
       "      <td>1.00000</td>\n",
       "      <td>1.556570e+07</td>\n",
       "      <td>350.000000</td>\n",
       "      <td>18.000000</td>\n",
       "      <td>0.000000</td>\n",
       "      <td>0.000000</td>\n",
       "      <td>1.000000</td>\n",
       "      <td>0.00000</td>\n",
       "      <td>0.000000</td>\n",
       "      <td>11.580000</td>\n",
       "      <td>0.000000</td>\n",
       "    </tr>\n",
       "    <tr>\n",
       "      <th>25%</th>\n",
       "      <td>2500.75000</td>\n",
       "      <td>1.562853e+07</td>\n",
       "      <td>584.000000</td>\n",
       "      <td>32.000000</td>\n",
       "      <td>2.000000</td>\n",
       "      <td>0.000000</td>\n",
       "      <td>1.000000</td>\n",
       "      <td>0.00000</td>\n",
       "      <td>0.000000</td>\n",
       "      <td>51002.110000</td>\n",
       "      <td>0.000000</td>\n",
       "    </tr>\n",
       "    <tr>\n",
       "      <th>50%</th>\n",
       "      <td>5000.50000</td>\n",
       "      <td>1.569074e+07</td>\n",
       "      <td>652.000000</td>\n",
       "      <td>37.000000</td>\n",
       "      <td>5.000000</td>\n",
       "      <td>97198.540000</td>\n",
       "      <td>1.000000</td>\n",
       "      <td>1.00000</td>\n",
       "      <td>1.000000</td>\n",
       "      <td>100193.915000</td>\n",
       "      <td>0.000000</td>\n",
       "    </tr>\n",
       "    <tr>\n",
       "      <th>75%</th>\n",
       "      <td>7500.25000</td>\n",
       "      <td>1.575323e+07</td>\n",
       "      <td>718.000000</td>\n",
       "      <td>44.000000</td>\n",
       "      <td>7.000000</td>\n",
       "      <td>127644.240000</td>\n",
       "      <td>2.000000</td>\n",
       "      <td>1.00000</td>\n",
       "      <td>1.000000</td>\n",
       "      <td>149388.247500</td>\n",
       "      <td>0.000000</td>\n",
       "    </tr>\n",
       "    <tr>\n",
       "      <th>max</th>\n",
       "      <td>10000.00000</td>\n",
       "      <td>1.581569e+07</td>\n",
       "      <td>850.000000</td>\n",
       "      <td>92.000000</td>\n",
       "      <td>10.000000</td>\n",
       "      <td>250898.090000</td>\n",
       "      <td>4.000000</td>\n",
       "      <td>1.00000</td>\n",
       "      <td>1.000000</td>\n",
       "      <td>199992.480000</td>\n",
       "      <td>1.000000</td>\n",
       "    </tr>\n",
       "  </tbody>\n",
       "</table>\n",
       "</div>"
      ],
      "text/plain": [
       "         RowNumber    CustomerId   CreditScore           Age       Tenure  \\\n",
       "count  10000.00000  1.000000e+04  10000.000000  10000.000000  9091.000000   \n",
       "mean    5000.50000  1.569094e+07    650.528800     38.921800     4.997690   \n",
       "std     2886.89568  7.193619e+04     96.653299     10.487806     2.894723   \n",
       "min        1.00000  1.556570e+07    350.000000     18.000000     0.000000   \n",
       "25%     2500.75000  1.562853e+07    584.000000     32.000000     2.000000   \n",
       "50%     5000.50000  1.569074e+07    652.000000     37.000000     5.000000   \n",
       "75%     7500.25000  1.575323e+07    718.000000     44.000000     7.000000   \n",
       "max    10000.00000  1.581569e+07    850.000000     92.000000    10.000000   \n",
       "\n",
       "             Balance  NumOfProducts    HasCrCard  IsActiveMember  \\\n",
       "count   10000.000000   10000.000000  10000.00000    10000.000000   \n",
       "mean    76485.889288       1.530200      0.70550        0.515100   \n",
       "std     62397.405202       0.581654      0.45584        0.499797   \n",
       "min         0.000000       1.000000      0.00000        0.000000   \n",
       "25%         0.000000       1.000000      0.00000        0.000000   \n",
       "50%     97198.540000       1.000000      1.00000        1.000000   \n",
       "75%    127644.240000       2.000000      1.00000        1.000000   \n",
       "max    250898.090000       4.000000      1.00000        1.000000   \n",
       "\n",
       "       EstimatedSalary        Exited  \n",
       "count     10000.000000  10000.000000  \n",
       "mean     100090.239881      0.203700  \n",
       "std       57510.492818      0.402769  \n",
       "min          11.580000      0.000000  \n",
       "25%       51002.110000      0.000000  \n",
       "50%      100193.915000      0.000000  \n",
       "75%      149388.247500      0.000000  \n",
       "max      199992.480000      1.000000  "
      ]
     },
     "execution_count": 5,
     "metadata": {},
     "output_type": "execute_result"
    }
   ],
   "source": [
    "data.describe()"
   ]
  },
  {
   "cell_type": "code",
   "execution_count": 6,
   "metadata": {},
   "outputs": [],
   "source": [
    "# приведем к нижнему регистру\n",
    "data.columns = data.columns.str.lower()"
   ]
  },
  {
   "cell_type": "code",
   "execution_count": 7,
   "metadata": {},
   "outputs": [
    {
     "data": {
      "text/html": [
       "<div>\n",
       "<style scoped>\n",
       "    .dataframe tbody tr th:only-of-type {\n",
       "        vertical-align: middle;\n",
       "    }\n",
       "\n",
       "    .dataframe tbody tr th {\n",
       "        vertical-align: top;\n",
       "    }\n",
       "\n",
       "    .dataframe thead th {\n",
       "        text-align: right;\n",
       "    }\n",
       "</style>\n",
       "<table border=\"1\" class=\"dataframe\">\n",
       "  <thead>\n",
       "    <tr style=\"text-align: right;\">\n",
       "      <th></th>\n",
       "      <th>rownumber</th>\n",
       "      <th>customerid</th>\n",
       "      <th>surname</th>\n",
       "      <th>creditscore</th>\n",
       "      <th>geography</th>\n",
       "      <th>gender</th>\n",
       "      <th>age</th>\n",
       "      <th>tenure</th>\n",
       "      <th>balance</th>\n",
       "      <th>numofproducts</th>\n",
       "      <th>hascrcard</th>\n",
       "      <th>isactivemember</th>\n",
       "      <th>estimatedsalary</th>\n",
       "      <th>exited</th>\n",
       "    </tr>\n",
       "  </thead>\n",
       "  <tbody>\n",
       "    <tr>\n",
       "      <th>0</th>\n",
       "      <td>1</td>\n",
       "      <td>15634602</td>\n",
       "      <td>Hargrave</td>\n",
       "      <td>619</td>\n",
       "      <td>France</td>\n",
       "      <td>Female</td>\n",
       "      <td>42</td>\n",
       "      <td>2.0</td>\n",
       "      <td>0.00</td>\n",
       "      <td>1</td>\n",
       "      <td>1</td>\n",
       "      <td>1</td>\n",
       "      <td>101348.88</td>\n",
       "      <td>1</td>\n",
       "    </tr>\n",
       "    <tr>\n",
       "      <th>1</th>\n",
       "      <td>2</td>\n",
       "      <td>15647311</td>\n",
       "      <td>Hill</td>\n",
       "      <td>608</td>\n",
       "      <td>Spain</td>\n",
       "      <td>Female</td>\n",
       "      <td>41</td>\n",
       "      <td>1.0</td>\n",
       "      <td>83807.86</td>\n",
       "      <td>1</td>\n",
       "      <td>0</td>\n",
       "      <td>1</td>\n",
       "      <td>112542.58</td>\n",
       "      <td>0</td>\n",
       "    </tr>\n",
       "  </tbody>\n",
       "</table>\n",
       "</div>"
      ],
      "text/plain": [
       "   rownumber  customerid   surname  creditscore geography  gender  age  \\\n",
       "0          1    15634602  Hargrave          619    France  Female   42   \n",
       "1          2    15647311      Hill          608     Spain  Female   41   \n",
       "\n",
       "   tenure   balance  numofproducts  hascrcard  isactivemember  \\\n",
       "0     2.0      0.00              1          1               1   \n",
       "1     1.0  83807.86              1          0               1   \n",
       "\n",
       "   estimatedsalary  exited  \n",
       "0        101348.88       1  \n",
       "1        112542.58       0  "
      ]
     },
     "execution_count": 7,
     "metadata": {},
     "output_type": "execute_result"
    }
   ],
   "source": [
    "data.head(2)"
   ]
  },
  {
   "cell_type": "code",
   "execution_count": 8,
   "metadata": {},
   "outputs": [],
   "source": [
    "# удалим признаки: rownumber, customerid, surname\n",
    "data.drop(columns=['rownumber','customerid','surname'],inplace=True)"
   ]
  },
  {
   "cell_type": "markdown",
   "metadata": {},
   "source": [
    "Пропуски есть только в tenure, их необходимо удалить, т.к. и замена на медиану по группам (возраст, страна) и замена на рандомные значения, не давала возможность построить модели необходимого качества."
   ]
  },
  {
   "cell_type": "code",
   "execution_count": 9,
   "metadata": {},
   "outputs": [],
   "source": [
    "# удалим пропуски в данных\n",
    "data.dropna(inplace=True)"
   ]
  },
  {
   "cell_type": "code",
   "execution_count": 10,
   "metadata": {},
   "outputs": [
    {
     "data": {
      "text/html": [
       "<div>\n",
       "<style scoped>\n",
       "    .dataframe tbody tr th:only-of-type {\n",
       "        vertical-align: middle;\n",
       "    }\n",
       "\n",
       "    .dataframe tbody tr th {\n",
       "        vertical-align: top;\n",
       "    }\n",
       "\n",
       "    .dataframe thead th {\n",
       "        text-align: right;\n",
       "    }\n",
       "</style>\n",
       "<table border=\"1\" class=\"dataframe\">\n",
       "  <thead>\n",
       "    <tr style=\"text-align: right;\">\n",
       "      <th></th>\n",
       "      <th>creditscore</th>\n",
       "      <th>geography</th>\n",
       "      <th>gender</th>\n",
       "      <th>age</th>\n",
       "      <th>tenure</th>\n",
       "      <th>balance</th>\n",
       "      <th>numofproducts</th>\n",
       "      <th>hascrcard</th>\n",
       "      <th>isactivemember</th>\n",
       "      <th>estimatedsalary</th>\n",
       "      <th>exited</th>\n",
       "    </tr>\n",
       "  </thead>\n",
       "  <tbody>\n",
       "    <tr>\n",
       "      <th>0</th>\n",
       "      <td>619</td>\n",
       "      <td>France</td>\n",
       "      <td>Female</td>\n",
       "      <td>42</td>\n",
       "      <td>2.0</td>\n",
       "      <td>0.00</td>\n",
       "      <td>1</td>\n",
       "      <td>1</td>\n",
       "      <td>1</td>\n",
       "      <td>101348.88</td>\n",
       "      <td>1</td>\n",
       "    </tr>\n",
       "    <tr>\n",
       "      <th>1</th>\n",
       "      <td>608</td>\n",
       "      <td>Spain</td>\n",
       "      <td>Female</td>\n",
       "      <td>41</td>\n",
       "      <td>1.0</td>\n",
       "      <td>83807.86</td>\n",
       "      <td>1</td>\n",
       "      <td>0</td>\n",
       "      <td>1</td>\n",
       "      <td>112542.58</td>\n",
       "      <td>0</td>\n",
       "    </tr>\n",
       "    <tr>\n",
       "      <th>2</th>\n",
       "      <td>502</td>\n",
       "      <td>France</td>\n",
       "      <td>Female</td>\n",
       "      <td>42</td>\n",
       "      <td>8.0</td>\n",
       "      <td>159660.80</td>\n",
       "      <td>3</td>\n",
       "      <td>1</td>\n",
       "      <td>0</td>\n",
       "      <td>113931.57</td>\n",
       "      <td>1</td>\n",
       "    </tr>\n",
       "    <tr>\n",
       "      <th>3</th>\n",
       "      <td>699</td>\n",
       "      <td>France</td>\n",
       "      <td>Female</td>\n",
       "      <td>39</td>\n",
       "      <td>1.0</td>\n",
       "      <td>0.00</td>\n",
       "      <td>2</td>\n",
       "      <td>0</td>\n",
       "      <td>0</td>\n",
       "      <td>93826.63</td>\n",
       "      <td>0</td>\n",
       "    </tr>\n",
       "    <tr>\n",
       "      <th>4</th>\n",
       "      <td>850</td>\n",
       "      <td>Spain</td>\n",
       "      <td>Female</td>\n",
       "      <td>43</td>\n",
       "      <td>2.0</td>\n",
       "      <td>125510.82</td>\n",
       "      <td>1</td>\n",
       "      <td>1</td>\n",
       "      <td>1</td>\n",
       "      <td>79084.10</td>\n",
       "      <td>0</td>\n",
       "    </tr>\n",
       "  </tbody>\n",
       "</table>\n",
       "</div>"
      ],
      "text/plain": [
       "   creditscore geography  gender  age  tenure    balance  numofproducts  \\\n",
       "0          619    France  Female   42     2.0       0.00              1   \n",
       "1          608     Spain  Female   41     1.0   83807.86              1   \n",
       "2          502    France  Female   42     8.0  159660.80              3   \n",
       "3          699    France  Female   39     1.0       0.00              2   \n",
       "4          850     Spain  Female   43     2.0  125510.82              1   \n",
       "\n",
       "   hascrcard  isactivemember  estimatedsalary  exited  \n",
       "0          1               1        101348.88       1  \n",
       "1          0               1        112542.58       0  \n",
       "2          1               0        113931.57       1  \n",
       "3          0               0         93826.63       0  \n",
       "4          1               1         79084.10       0  "
      ]
     },
     "execution_count": 10,
     "metadata": {},
     "output_type": "execute_result"
    }
   ],
   "source": [
    "data.head()"
   ]
  },
  {
   "cell_type": "code",
   "execution_count": 11,
   "metadata": {},
   "outputs": [
    {
     "name": "stdout",
     "output_type": "stream",
     "text": [
      "<class 'pandas.core.frame.DataFrame'>\n",
      "Int64Index: 9091 entries, 0 to 9998\n",
      "Data columns (total 11 columns):\n",
      " #   Column           Non-Null Count  Dtype  \n",
      "---  ------           --------------  -----  \n",
      " 0   creditscore      9091 non-null   int64  \n",
      " 1   geography        9091 non-null   object \n",
      " 2   gender           9091 non-null   object \n",
      " 3   age              9091 non-null   int64  \n",
      " 4   tenure           9091 non-null   float64\n",
      " 5   balance          9091 non-null   float64\n",
      " 6   numofproducts    9091 non-null   int64  \n",
      " 7   hascrcard        9091 non-null   int64  \n",
      " 8   isactivemember   9091 non-null   int64  \n",
      " 9   estimatedsalary  9091 non-null   float64\n",
      " 10  exited           9091 non-null   int64  \n",
      "dtypes: float64(3), int64(6), object(2)\n",
      "memory usage: 852.3+ KB\n"
     ]
    }
   ],
   "source": [
    "data.info()"
   ]
  },
  {
   "cell_type": "code",
   "execution_count": 12,
   "metadata": {},
   "outputs": [
    {
     "data": {
      "text/plain": [
       "0    7237\n",
       "1    1854\n",
       "Name: exited, dtype: int64"
      ]
     },
     "execution_count": 12,
     "metadata": {},
     "output_type": "execute_result"
    }
   ],
   "source": [
    "data['exited'].value_counts()"
   ]
  },
  {
   "cell_type": "code",
   "execution_count": 13,
   "metadata": {},
   "outputs": [],
   "source": [
    "# заменим тип данных признака tenure\n",
    "data['tenure'] = data['tenure'].astype(int)"
   ]
  },
  {
   "cell_type": "code",
   "execution_count": 14,
   "metadata": {},
   "outputs": [
    {
     "name": "stdout",
     "output_type": "stream",
     "text": [
      "<class 'pandas.core.frame.DataFrame'>\n",
      "Int64Index: 9091 entries, 0 to 9998\n",
      "Data columns (total 11 columns):\n",
      " #   Column           Non-Null Count  Dtype  \n",
      "---  ------           --------------  -----  \n",
      " 0   creditscore      9091 non-null   int64  \n",
      " 1   geography        9091 non-null   object \n",
      " 2   gender           9091 non-null   object \n",
      " 3   age              9091 non-null   int64  \n",
      " 4   tenure           9091 non-null   int64  \n",
      " 5   balance          9091 non-null   float64\n",
      " 6   numofproducts    9091 non-null   int64  \n",
      " 7   hascrcard        9091 non-null   int64  \n",
      " 8   isactivemember   9091 non-null   int64  \n",
      " 9   estimatedsalary  9091 non-null   float64\n",
      " 10  exited           9091 non-null   int64  \n",
      "dtypes: float64(2), int64(7), object(2)\n",
      "memory usage: 852.3+ KB\n"
     ]
    }
   ],
   "source": [
    "data.info()"
   ]
  },
  {
   "cell_type": "code",
   "execution_count": 15,
   "metadata": {},
   "outputs": [
    {
     "data": {
      "text/plain": [
       "France     4550\n",
       "Germany    2293\n",
       "Spain      2248\n",
       "Name: geography, dtype: int64"
      ]
     },
     "execution_count": 15,
     "metadata": {},
     "output_type": "execute_result"
    }
   ],
   "source": [
    "data['geography'].value_counts()"
   ]
  },
  {
   "cell_type": "code",
   "execution_count": 16,
   "metadata": {},
   "outputs": [
    {
     "data": {
      "text/plain": [
       "Male      4974\n",
       "Female    4117\n",
       "Name: gender, dtype: int64"
      ]
     },
     "execution_count": 16,
     "metadata": {},
     "output_type": "execute_result"
    }
   ],
   "source": [
    "data['gender'].value_counts()"
   ]
  },
  {
   "cell_type": "code",
   "execution_count": 17,
   "metadata": {},
   "outputs": [],
   "source": [
    "# преобразуем категориальные признаки\n",
    "data = pd.get_dummies((data), drop_first = True)"
   ]
  },
  {
   "cell_type": "code",
   "execution_count": 18,
   "metadata": {},
   "outputs": [
    {
     "data": {
      "text/html": [
       "<div>\n",
       "<style scoped>\n",
       "    .dataframe tbody tr th:only-of-type {\n",
       "        vertical-align: middle;\n",
       "    }\n",
       "\n",
       "    .dataframe tbody tr th {\n",
       "        vertical-align: top;\n",
       "    }\n",
       "\n",
       "    .dataframe thead th {\n",
       "        text-align: right;\n",
       "    }\n",
       "</style>\n",
       "<table border=\"1\" class=\"dataframe\">\n",
       "  <thead>\n",
       "    <tr style=\"text-align: right;\">\n",
       "      <th></th>\n",
       "      <th>creditscore</th>\n",
       "      <th>age</th>\n",
       "      <th>tenure</th>\n",
       "      <th>balance</th>\n",
       "      <th>numofproducts</th>\n",
       "      <th>hascrcard</th>\n",
       "      <th>isactivemember</th>\n",
       "      <th>estimatedsalary</th>\n",
       "      <th>exited</th>\n",
       "      <th>geography_Germany</th>\n",
       "      <th>geography_Spain</th>\n",
       "      <th>gender_Male</th>\n",
       "    </tr>\n",
       "  </thead>\n",
       "  <tbody>\n",
       "    <tr>\n",
       "      <th>0</th>\n",
       "      <td>619</td>\n",
       "      <td>42</td>\n",
       "      <td>2</td>\n",
       "      <td>0.00</td>\n",
       "      <td>1</td>\n",
       "      <td>1</td>\n",
       "      <td>1</td>\n",
       "      <td>101348.88</td>\n",
       "      <td>1</td>\n",
       "      <td>0</td>\n",
       "      <td>0</td>\n",
       "      <td>0</td>\n",
       "    </tr>\n",
       "    <tr>\n",
       "      <th>1</th>\n",
       "      <td>608</td>\n",
       "      <td>41</td>\n",
       "      <td>1</td>\n",
       "      <td>83807.86</td>\n",
       "      <td>1</td>\n",
       "      <td>0</td>\n",
       "      <td>1</td>\n",
       "      <td>112542.58</td>\n",
       "      <td>0</td>\n",
       "      <td>0</td>\n",
       "      <td>1</td>\n",
       "      <td>0</td>\n",
       "    </tr>\n",
       "    <tr>\n",
       "      <th>2</th>\n",
       "      <td>502</td>\n",
       "      <td>42</td>\n",
       "      <td>8</td>\n",
       "      <td>159660.80</td>\n",
       "      <td>3</td>\n",
       "      <td>1</td>\n",
       "      <td>0</td>\n",
       "      <td>113931.57</td>\n",
       "      <td>1</td>\n",
       "      <td>0</td>\n",
       "      <td>0</td>\n",
       "      <td>0</td>\n",
       "    </tr>\n",
       "    <tr>\n",
       "      <th>3</th>\n",
       "      <td>699</td>\n",
       "      <td>39</td>\n",
       "      <td>1</td>\n",
       "      <td>0.00</td>\n",
       "      <td>2</td>\n",
       "      <td>0</td>\n",
       "      <td>0</td>\n",
       "      <td>93826.63</td>\n",
       "      <td>0</td>\n",
       "      <td>0</td>\n",
       "      <td>0</td>\n",
       "      <td>0</td>\n",
       "    </tr>\n",
       "    <tr>\n",
       "      <th>4</th>\n",
       "      <td>850</td>\n",
       "      <td>43</td>\n",
       "      <td>2</td>\n",
       "      <td>125510.82</td>\n",
       "      <td>1</td>\n",
       "      <td>1</td>\n",
       "      <td>1</td>\n",
       "      <td>79084.10</td>\n",
       "      <td>0</td>\n",
       "      <td>0</td>\n",
       "      <td>1</td>\n",
       "      <td>0</td>\n",
       "    </tr>\n",
       "  </tbody>\n",
       "</table>\n",
       "</div>"
      ],
      "text/plain": [
       "   creditscore  age  tenure    balance  numofproducts  hascrcard  \\\n",
       "0          619   42       2       0.00              1          1   \n",
       "1          608   41       1   83807.86              1          0   \n",
       "2          502   42       8  159660.80              3          1   \n",
       "3          699   39       1       0.00              2          0   \n",
       "4          850   43       2  125510.82              1          1   \n",
       "\n",
       "   isactivemember  estimatedsalary  exited  geography_Germany  \\\n",
       "0               1        101348.88       1                  0   \n",
       "1               1        112542.58       0                  0   \n",
       "2               0        113931.57       1                  0   \n",
       "3               0         93826.63       0                  0   \n",
       "4               1         79084.10       0                  0   \n",
       "\n",
       "   geography_Spain  gender_Male  \n",
       "0                0            0  \n",
       "1                1            0  \n",
       "2                0            0  \n",
       "3                0            0  \n",
       "4                1            0  "
      ]
     },
     "execution_count": 18,
     "metadata": {},
     "output_type": "execute_result"
    }
   ],
   "source": [
    "data.head()"
   ]
  },
  {
   "cell_type": "markdown",
   "metadata": {},
   "source": [
    "### Вывод\n",
    " - В данных были пропуски в признаке tenure - удалены. Тип данных заменен на int. \n",
    " - Удалены признаки rownumber, customerid, surname - они не понадобятся для решения задачи, но увеличат время обучения модели.\n",
    " - Категориальные признаки преобразованы техникой OHE."
   ]
  },
  {
   "cell_type": "markdown",
   "metadata": {},
   "source": [
    "## Исследование задачи"
   ]
  },
  {
   "cell_type": "markdown",
   "metadata": {},
   "source": [
    "### Дисбаланс данных"
   ]
  },
  {
   "cell_type": "code",
   "execution_count": 19,
   "metadata": {},
   "outputs": [],
   "source": [
    "# создадим переменные features и target\n",
    "features = data.drop(['exited'], axis=1)\n",
    "target = data['exited']"
   ]
  },
  {
   "cell_type": "code",
   "execution_count": 20,
   "metadata": {},
   "outputs": [],
   "source": [
    "# создадим тестовые выборки\n",
    "features, features_test, target, target_test = train_test_split(features, target, test_size= 0.2, random_state=12345)"
   ]
  },
  {
   "cell_type": "code",
   "execution_count": 21,
   "metadata": {},
   "outputs": [],
   "source": [
    "# создадим обучающую и валидационную выборки\n",
    "features_train, features_valid, target_train, target_valid = train_test_split(features, target, test_size=0.25, random_state=12345)"
   ]
  },
  {
   "cell_type": "code",
   "execution_count": 22,
   "metadata": {},
   "outputs": [
    {
     "name": "stdout",
     "output_type": "stream",
     "text": [
      "features_test (1819, 11)\n",
      "target_test (1819,)\n",
      "features_train (5454, 11)\n",
      "target_train (5454,)\n",
      "features_valid (1818, 11)\n",
      "target_valid (1818,)\n"
     ]
    }
   ],
   "source": [
    "print('features_test', features_test.shape)\n",
    "print('target_test', target_test.shape)\n",
    "print('features_train', features_train.shape)\n",
    "print('target_train', target_train.shape)\n",
    "print('features_valid', features_valid.shape)\n",
    "print('target_valid', target_valid.shape)"
   ]
  },
  {
   "cell_type": "code",
   "execution_count": 23,
   "metadata": {},
   "outputs": [],
   "source": [
    "# проведем масштабирование численных признаков\n",
    "numeric = ['creditscore', 'age', 'tenure', 'numofproducts', 'estimatedsalary', 'balance']\n",
    "\n",
    "scaler = StandardScaler()\n",
    "scaler.fit(features_train[numeric])\n",
    "features_train[numeric] = scaler.transform(features_train[numeric])\n",
    "features_valid[numeric] = scaler.transform(features_valid[numeric])\n",
    "features_test[numeric] = scaler.transform(features_test[numeric])"
   ]
  },
  {
   "cell_type": "markdown",
   "metadata": {},
   "source": [
    "Для анализа будам использовать модели: дерево решений, случайный лес, логистическую регрессию."
   ]
  },
  {
   "cell_type": "markdown",
   "metadata": {},
   "source": [
    "#### Дерево решений"
   ]
  },
  {
   "cell_type": "code",
   "execution_count": 24,
   "metadata": {},
   "outputs": [
    {
     "name": "stdout",
     "output_type": "stream",
     "text": [
      "Глубина дерева: 9\n",
      "F1: 0.56\n",
      "AUC-ROC: 0.81\n",
      "CPU times: user 166 ms, sys: 2.57 ms, total: 169 ms\n",
      "Wall time: 179 ms\n"
     ]
    }
   ],
   "source": [
    "%%time\n",
    "best_model_dtc = None\n",
    "best_depth_dtc = 0\n",
    "best_f1_dtc = 0\n",
    "best_auc_roc_dtc = 0\n",
    "for depth in range(1, 11):\n",
    "    model_dtc = DecisionTreeClassifier(random_state=12345, max_depth=depth) \n",
    "    model_dtc.fit(features_train, target_train)\n",
    "    predicted_dtc = model_dtc.predict(features_valid)\n",
    "    predicted_proba_dtc = model_dtc.predict_proba(features_valid)\n",
    "    probabilities_one_valid_dtc = predicted_proba_dtc[:, 1]\n",
    "    f1_dtc = f1_score(target_valid, predicted_dtc)\n",
    "    roc_dtc = roc_auc_score(target_valid, probabilities_one_valid_dtc)\n",
    "    if f1_dtc > best_f1_dtc:\n",
    "        best_model_dtc = model_dtc\n",
    "        best_depth_dtc = depth\n",
    "        best_f1_dtc = f1_dtc\n",
    "        best_auc_roc_dtc = roc_dtc\n",
    "        \n",
    "print(\"Глубина дерева:\", best_depth_dtc)\n",
    "print(\"F1:\", best_f1_dtc.round(2))\n",
    "print(\"AUC-ROC:\", best_auc_roc_dtc.round(2))\n"
   ]
  },
  {
   "cell_type": "markdown",
   "metadata": {},
   "source": [
    "#### Случайный лес"
   ]
  },
  {
   "cell_type": "code",
   "execution_count": 25,
   "metadata": {},
   "outputs": [
    {
     "name": "stdout",
     "output_type": "stream",
     "text": [
      "Количество деревьев: 40\n",
      "Глубина дерева: 20\n",
      "F1: 0.56\n",
      "AUC-ROC: 0.82\n",
      "CPU times: user 25.5 s, sys: 135 ms, total: 25.6 s\n",
      "Wall time: 25.7 s\n"
     ]
    }
   ],
   "source": [
    "%%time\n",
    "best_model_rfc = None\n",
    "best_est_rfc = 0\n",
    "best_depth_rfc = 0\n",
    "best_f1_rfc = 0\n",
    "best_auc_roc_rfc = 0\n",
    "for est in range(10, 51, 10):\n",
    "    for depth in range (1, 31):\n",
    "        model_rfc = RandomForestClassifier(random_state=12345, n_estimators=est, max_depth=depth)\n",
    "        model_rfc.fit(features_train, target_train)\n",
    "        predicted_rfc = model_rfc.predict(features_valid)\n",
    "        predicted_proba_rfc = model_rfc.predict_proba(features_valid)\n",
    "        probabilities_one_valid_rfc = predicted_proba_rfc[:, 1]\n",
    "        f1_rfc = f1_score(target_valid, predicted_rfc)\n",
    "        roc_rfc = roc_auc_score(target_valid, probabilities_one_valid_rfc)\n",
    "        if f1_rfc > best_f1_rfc:\n",
    "            best_model_rfc = model_rfc \n",
    "            best_est_rfc = est\n",
    "            best_depth_rfc = depth\n",
    "            best_f1_rfc = f1_rfc\n",
    "            best_auc_roc_rfc = roc_rfc\n",
    "            \n",
    "print(\"Количество деревьев:\", best_est_rfc)\n",
    "print(\"Глубина дерева:\", best_depth_rfc)\n",
    "print(\"F1:\", best_f1_rfc.round(2))\n",
    "print(\"AUC-ROC:\", best_auc_roc_rfc.round(2))"
   ]
  },
  {
   "cell_type": "markdown",
   "metadata": {},
   "source": [
    "#### Логистическая регрессия"
   ]
  },
  {
   "cell_type": "code",
   "execution_count": 26,
   "metadata": {},
   "outputs": [
    {
     "name": "stdout",
     "output_type": "stream",
     "text": [
      "F1: 0.3\n",
      "AUC-ROC: 0.77\n",
      "CPU times: user 83.5 ms, sys: 84.5 ms, total: 168 ms\n",
      "Wall time: 108 ms\n"
     ]
    }
   ],
   "source": [
    "%%time\n",
    "model_lr = LogisticRegression(random_state=12345)\n",
    "model_lr.fit(features_train, target_train) \n",
    "result_lr = model_lr.score(features_valid, target_valid) \n",
    "predicted_lr = model_lr.predict(features_valid)\n",
    "predicted_proba_lr = model_lr.predict_proba(features_valid)\n",
    "probabilities_one_valid_lr = predicted_proba_lr[:, 1]\n",
    "f1_lr = f1_score(target_valid, predicted_lr)\n",
    "roc_lr = roc_auc_score(target_valid, probabilities_one_valid_lr)\n",
    "\n",
    "print(\"F1:\", f1_lr.round(1))\n",
    "print(\"AUC-ROC:\", roc_lr.round(2))"
   ]
  },
  {
   "cell_type": "markdown",
   "metadata": {},
   "source": [
    "### Вывод\n",
    "Ни одна из моделей не показала значение F1-меры больше или равно 0.59.\n",
    "Необходимо провести работу с дисбалансом."
   ]
  },
  {
   "cell_type": "markdown",
   "metadata": {},
   "source": [
    "## Борьба с дисбалансом"
   ]
  },
  {
   "cell_type": "code",
   "execution_count": 27,
   "metadata": {},
   "outputs": [
    {
     "name": "stdout",
     "output_type": "stream",
     "text": [
      "0    0.796062\n",
      "1    0.203938\n",
      "Name: exited, dtype: float64\n"
     ]
    }
   ],
   "source": [
    "# посмотрим частоты классов\n",
    "class_frequency = data['exited'].value_counts(normalize = True)\n",
    "print(class_frequency)"
   ]
  },
  {
   "cell_type": "markdown",
   "metadata": {},
   "source": [
    "Соотношение классов 1 к 4. Применим методы борьбы с дисбалансом: взвешивание классов, увеличение и уменьшение выборок."
   ]
  },
  {
   "cell_type": "markdown",
   "metadata": {},
   "source": [
    "### Взвешивание классов"
   ]
  },
  {
   "cell_type": "markdown",
   "metadata": {},
   "source": [
    "#### Дерево решений"
   ]
  },
  {
   "cell_type": "code",
   "execution_count": 28,
   "metadata": {},
   "outputs": [
    {
     "name": "stdout",
     "output_type": "stream",
     "text": [
      "Глубина дерева: 7\n",
      "F1: 0.56\n",
      "AUC-ROC: 0.82\n",
      "CPU times: user 162 ms, sys: 4.49 ms, total: 167 ms\n",
      "Wall time: 174 ms\n"
     ]
    }
   ],
   "source": [
    "%%time\n",
    "best_model_dtc_c = None\n",
    "best_depth_dtc_c = 0\n",
    "best_f1_dtc_c = 0\n",
    "best_auc_roc_dtc_c = 0\n",
    "for depth in range(1, 10):\n",
    "    model_dtc_c = DecisionTreeClassifier(random_state=12345, max_depth=depth, class_weight='balanced') \n",
    "    model_dtc_c.fit(features_train, target_train)\n",
    "    predicted_dtc_c = model_dtc_c.predict(features_valid)\n",
    "    predicted_proba_dtc_c = model_dtc_c.predict_proba(features_valid)\n",
    "    probabilities_one_valid_dtc_c = predicted_proba_dtc_c[:, 1]\n",
    "    f1_dtc_c = f1_score(target_valid, predicted_dtc_c)\n",
    "    roc_dtc_c = roc_auc_score(target_valid, probabilities_one_valid_dtc_c)\n",
    "    if f1_dtc_c > best_f1_dtc_c:\n",
    "        best_model_dtc_c = model_dtc_c\n",
    "        best_depth_dtc_c = depth\n",
    "        best_f1_dtc_c = f1_dtc_c\n",
    "        best_auc_roc_dtc_c = roc_dtc_c\n",
    "        \n",
    "print(\"Глубина дерева:\", best_depth_dtc_c)\n",
    "print(\"F1:\", best_f1_dtc_c.round(2))\n",
    "print(\"AUC-ROC:\", best_auc_roc_dtc_c.round(2))    \n",
    "\n",
    "    "
   ]
  },
  {
   "cell_type": "markdown",
   "metadata": {},
   "source": [
    "#### Случайный лес"
   ]
  },
  {
   "cell_type": "code",
   "execution_count": 29,
   "metadata": {},
   "outputs": [
    {
     "name": "stdout",
     "output_type": "stream",
     "text": [
      "Количество деревьев: 30\n",
      "Глубина дерева: 9\n",
      "F1: 0.6\n",
      "AUC-ROC: 0.85\n",
      "CPU times: user 25.9 s, sys: 151 ms, total: 26 s\n",
      "Wall time: 26.2 s\n"
     ]
    }
   ],
   "source": [
    "%%time\n",
    "best_model_rfc_c = None\n",
    "best_est_rfc_c = 0\n",
    "best_depth_rfc_c = 0\n",
    "best_f1_rfc_c = 0\n",
    "best_auc_roc_rfc_c = 0\n",
    "for est in range(10, 51, 10):\n",
    "    for depth in range (1, 31):\n",
    "        model_rfc_c = RandomForestClassifier(random_state=12345, n_estimators=est, max_depth=depth, class_weight='balanced')\n",
    "        model_rfc_c.fit(features_train, target_train)\n",
    "        predicted_rfc_c = model_rfc_c.predict(features_valid)\n",
    "        predicted_proba_rfc_c = model_rfc_c.predict_proba(features_valid)\n",
    "        probabilities_one_valid_rfc_c = predicted_proba_rfc_c[:, 1]\n",
    "        f1_rfc_c = f1_score(target_valid, predicted_rfc_c)\n",
    "        roc_rfc_c = roc_auc_score(target_valid, probabilities_one_valid_rfc_c)\n",
    "        if f1_rfc_c > best_f1_rfc_c:\n",
    "            best_model_rfc_c = model_rfc_c \n",
    "            best_est_rfc_c = est\n",
    "            best_depth_rfc_c = depth\n",
    "            best_f1_rfc_c = f1_rfc_c\n",
    "            best_auc_roc_rfc_c = roc_rfc_c\n",
    "            \n",
    "print(\"Количество деревьев:\", best_est_rfc_c)\n",
    "print(\"Глубина дерева:\", best_depth_rfc_c)\n",
    "print(\"F1:\", best_f1_rfc_c.round(2))\n",
    "print(\"AUC-ROC:\", best_auc_roc_rfc_c.round(2))\n"
   ]
  },
  {
   "cell_type": "markdown",
   "metadata": {},
   "source": [
    "#### Логистическая регрессия"
   ]
  },
  {
   "cell_type": "code",
   "execution_count": 30,
   "metadata": {},
   "outputs": [
    {
     "name": "stdout",
     "output_type": "stream",
     "text": [
      "F1: 0.5\n",
      "AUC-ROC: 0.77\n",
      "CPU times: user 125 ms, sys: 141 ms, total: 266 ms\n",
      "Wall time: 200 ms\n"
     ]
    }
   ],
   "source": [
    "%%time\n",
    "model_lr_c = LogisticRegression(random_state=12345, class_weight='balanced')\n",
    "model_lr_c.fit(features_train, target_train) \n",
    "result_lr_c = model_lr_c.score(features_valid, target_valid) \n",
    "predicted_lr_c = model_lr_c.predict(features_valid)\n",
    "predicted_proba_lr_c = model_lr_c.predict_proba(features_valid)\n",
    "probabilities_one_valid_lr_c = predicted_proba_lr_c[:, 1]\n",
    "f1_lr_c = f1_score(target_valid, predicted_lr_c)\n",
    "roc_lr_c = roc_auc_score(target_valid, probabilities_one_valid_lr_c)\n",
    "\n",
    "print(\"F1:\", f1_lr_c.round(2))\n",
    "print(\"AUC-ROC:\", roc_lr_c.round(2))"
   ]
  },
  {
   "cell_type": "markdown",
   "metadata": {},
   "source": [
    "###### Вывод\n",
    "Модель \"Случайный лес\" показала лучший (из всех рассмариваемых моделей) результат при взвешивании классов. Значение F1-меры - 0.6. "
   ]
  },
  {
   "cell_type": "markdown",
   "metadata": {},
   "source": [
    "### Увеличение выборки"
   ]
  },
  {
   "cell_type": "markdown",
   "metadata": {},
   "source": [
    "Разделим объекты класса на положительные и отрицательные, объединим их и перемешаем. Так как исходное соотношение классов было примерно 1 к 4, увеличим выборки в 4 раза."
   ]
  },
  {
   "cell_type": "code",
   "execution_count": 31,
   "metadata": {},
   "outputs": [
    {
     "name": "stdout",
     "output_type": "stream",
     "text": [
      "(8811, 11)\n",
      "(8811,)\n"
     ]
    }
   ],
   "source": [
    "features_zeros = features_train[target_train == 0]\n",
    "features_ones = features_train[target_train == 1]\n",
    "target_zeros = target_train[target_train == 0]\n",
    "target_ones = target_train[target_train == 1]\n",
    "\n",
    "repeat = 4\n",
    "features_upsampled = pd.concat([features_zeros] + [features_ones] * repeat)\n",
    "target_upsampled = pd.concat([target_zeros] + [target_ones] * repeat)\n",
    "\n",
    "features_upsampled, target_upsampled = shuffle(features_upsampled, target_upsampled, random_state=12345)\n",
    "\n",
    "print(features_upsampled.shape)\n",
    "print(target_upsampled.shape)"
   ]
  },
  {
   "cell_type": "code",
   "execution_count": 32,
   "metadata": {},
   "outputs": [
    {
     "data": {
      "text/plain": [
       "<AxesSubplot:ylabel='Frequency'>"
      ]
     },
     "execution_count": 32,
     "metadata": {},
     "output_type": "execute_result"
    },
    {
     "data": {
      "image/png": "[encoded data removed]",
      "text/plain": [
       "<Figure size 432x288 with 1 Axes>"
      ]
     },
     "metadata": {
      "needs_background": "light"
     },
     "output_type": "display_data"
    }
   ],
   "source": [
    "# проверим баланс\n",
    "target_upsampled.plot(kind='hist', bins=3)"
   ]
  },
  {
   "cell_type": "markdown",
   "metadata": {},
   "source": [
    "#### Дерево решений"
   ]
  },
  {
   "cell_type": "code",
   "execution_count": 33,
   "metadata": {},
   "outputs": [
    {
     "name": "stdout",
     "output_type": "stream",
     "text": [
      "Глубина дерева: 7\n",
      "F1: 0.56\n",
      "AUC-ROC: 0.82\n",
      "CPU times: user 213 ms, sys: 3.85 ms, total: 217 ms\n",
      "Wall time: 219 ms\n"
     ]
    }
   ],
   "source": [
    "%%time\n",
    "best_model_dtc_u = None\n",
    "best_depth_dtc_u = 0\n",
    "best_f1_dtc_u = 0\n",
    "best_auc_roc_dtc_u = 0\n",
    "for depth in range(1, 11):\n",
    "    model_dtc_u = DecisionTreeClassifier(random_state=12345, max_depth=depth) \n",
    "    model_dtc_u.fit(features_upsampled, target_upsampled)\n",
    "    predicted_dtc_u = model_dtc_u.predict(features_valid)\n",
    "    predicted_proba_dtc_u = model_dtc_u.predict_proba(features_valid)\n",
    "    probabilities_one_valid_dtc_u = predicted_proba_dtc_u[:, 1]\n",
    "    f1_dtc_u = f1_score(target_valid, predicted_dtc_u)\n",
    "    roc_dtc_u = roc_auc_score(target_valid, probabilities_one_valid_dtc_u)\n",
    "    if f1_dtc_u > best_f1_dtc_u:\n",
    "        best_model_dtc_u = model_dtc_u\n",
    "        best_depth_dtc_u = depth\n",
    "        best_f1_dtc_u = f1_dtc_u\n",
    "        best_auc_roc_dtc_u = roc_dtc_u\n",
    "        \n",
    "print(\"Глубина дерева:\", best_depth_dtc_u)\n",
    "print(\"F1:\", best_f1_dtc_u.round(2))\n",
    "print(\"AUC-ROC:\", best_auc_roc_dtc_u.round(2))   \n",
    "    "
   ]
  },
  {
   "cell_type": "markdown",
   "metadata": {},
   "source": [
    "#### Случайный лес"
   ]
  },
  {
   "cell_type": "code",
   "execution_count": 34,
   "metadata": {},
   "outputs": [
    {
     "name": "stdout",
     "output_type": "stream",
     "text": [
      "Количество деревьев: 40\n",
      "Глубина дерева: 9\n",
      "F1: 0.61\n",
      "AUC-ROC: 0.85\n",
      "CPU times: user 33.6 s, sys: 139 ms, total: 33.7 s\n",
      "Wall time: 33.8 s\n"
     ]
    }
   ],
   "source": [
    "%%time\n",
    "best_model_rfc_u = None\n",
    "best_est_rfc_u = 0\n",
    "best_depth_rfc_u = 0\n",
    "best_f1_rfc_u = 0\n",
    "best_auc_roc_rfc_u = 0\n",
    "for est in range(10, 51, 10):\n",
    "    for depth in range (1, 31):\n",
    "        model_rfc_u = RandomForestClassifier(random_state=12345, n_estimators=est, max_depth=depth)\n",
    "        model_rfc_u.fit(features_upsampled, target_upsampled)\n",
    "        predicted_rfc_u = model_rfc_u.predict(features_valid)\n",
    "        predicted_proba_rfc_u = model_rfc_u.predict_proba(features_valid)\n",
    "        probabilities_one_valid_rfc_u = predicted_proba_rfc_u[:, 1]\n",
    "        f1_rfc_u = f1_score(target_valid, predicted_rfc_u)\n",
    "        roc_rfc_u = roc_auc_score(target_valid, probabilities_one_valid_rfc_u)\n",
    "        if f1_rfc_u > best_f1_rfc_u:\n",
    "            best_model_rfc_u = model_rfc_u \n",
    "            best_est_rfc_u = est\n",
    "            best_depth_rfc_u = depth\n",
    "            best_f1_rfc_u = f1_rfc_u\n",
    "            best_auc_roc_rfc_u = roc_rfc_u\n",
    "            \n",
    "print(\"Количество деревьев:\", best_est_rfc_u)\n",
    "print(\"Глубина дерева:\", best_depth_rfc_u)\n",
    "print(\"F1:\", best_f1_rfc_u.round(2))\n",
    "print(\"AUC-ROC:\", best_auc_roc_rfc_u.round(2))\n"
   ]
  },
  {
   "cell_type": "markdown",
   "metadata": {},
   "source": [
    "#### Логистическая регрессия"
   ]
  },
  {
   "cell_type": "code",
   "execution_count": 35,
   "metadata": {},
   "outputs": [
    {
     "name": "stdout",
     "output_type": "stream",
     "text": [
      "F1: 0.5\n",
      "AUC-ROC: 0.77\n",
      "CPU times: user 148 ms, sys: 170 ms, total: 317 ms\n",
      "Wall time: 312 ms\n"
     ]
    }
   ],
   "source": [
    "%%time\n",
    "model_lr_u = LogisticRegression(random_state=12345)\n",
    "model_lr_u.fit(features_upsampled, target_upsampled) \n",
    "result_lr_u = model_lr_u.score(features_valid, target_valid) \n",
    "predicted_lr_u = model_lr_u.predict(features_valid)\n",
    "predicted_proba_lr_u = model_lr_u.predict_proba(features_valid)\n",
    "probabilities_one_valid_lr_u = predicted_proba_lr_u[:, 1]\n",
    "f1_lr_u = f1_score(target_valid, predicted_lr_u)\n",
    "roc_lr_u = roc_auc_score(target_valid, probabilities_one_valid_lr_u)\n",
    "\n",
    "print(\"F1:\", f1_lr_u.round(2))\n",
    "print(\"AUC-ROC:\", roc_lr_u.round(2))"
   ]
  },
  {
   "cell_type": "markdown",
   "metadata": {},
   "source": [
    "#### Вывод\n",
    "Лучший результат у модели \"Случайный лес\". Значение F1-меры - 0.61."
   ]
  },
  {
   "cell_type": "markdown",
   "metadata": {},
   "source": [
    "### Уменьшение выборки"
   ]
  },
  {
   "cell_type": "markdown",
   "metadata": {},
   "source": [
    "Разделим обучающую выборку на отрицательные и положительные объекты. Случайным образом отбросим часть из отрицательных объектов;\n",
    "С учётом полученных данных создадим новую обучающую выборку. Перемешаем данные. Соотношение используем 1 к 4"
   ]
  },
  {
   "cell_type": "code",
   "execution_count": 36,
   "metadata": {},
   "outputs": [],
   "source": [
    "def downsample(features, target, fraction):\n",
    "    features_zeros = features[target == 0]\n",
    "    features_ones = features[target == 1]\n",
    "    target_zeros = target[target == 0]\n",
    "    target_ones = target[target == 1]\n",
    "    \n",
    "    features_downsampled = pd.concat([features_zeros.sample(frac=fraction, random_state=12345)] + [features_ones])\n",
    "    target_downsampled = pd.concat([target_zeros.sample(frac=fraction, random_state=12345)] + [target_ones])\n",
    "    \n",
    "    features_downsampled, target_downsampled = shuffle(features_downsampled, target_downsampled, random_state=12345)\n",
    "    \n",
    "    return features_downsampled, target_downsampled\n",
    "features_downsampled, target_downsampled = downsample(features_train, target_train, 0.25)"
   ]
  },
  {
   "cell_type": "code",
   "execution_count": 37,
   "metadata": {},
   "outputs": [
    {
     "data": {
      "text/plain": [
       "<AxesSubplot:ylabel='Frequency'>"
      ]
     },
     "execution_count": 37,
     "metadata": {},
     "output_type": "execute_result"
    },
    {
     "data": {
      "image/png": "[encoded data removed]",
      "text/plain": [
       "<Figure size 432x288 with 1 Axes>"
      ]
     },
     "metadata": {
      "needs_background": "light"
     },
     "output_type": "display_data"
    }
   ],
   "source": [
    "# проверим баланс\n",
    "target_downsampled.plot(kind='hist', bins=3)"
   ]
  },
  {
   "cell_type": "markdown",
   "metadata": {},
   "source": [
    "#### Дерево решений"
   ]
  },
  {
   "cell_type": "code",
   "execution_count": 38,
   "metadata": {},
   "outputs": [
    {
     "name": "stdout",
     "output_type": "stream",
     "text": [
      "Глубина дерева: 5\n",
      "F1: 0.55\n",
      "AUC-ROC: 0.81\n",
      "CPU times: user 102 ms, sys: 3.96 ms, total: 106 ms\n",
      "Wall time: 112 ms\n"
     ]
    }
   ],
   "source": [
    "%%time\n",
    "best_model_dtc_d = None\n",
    "best_depth_dtc_d = 0\n",
    "best_f1_dtc_d = 0\n",
    "best_auc_roc_dtc_d = 0\n",
    "for depth in range(1, 11):\n",
    "    model_dtc_d = DecisionTreeClassifier(random_state=12345, max_depth=depth) \n",
    "    model_dtc_d.fit(features_downsampled, target_downsampled)\n",
    "    predicted_dtc_d = model_dtc_d.predict(features_valid)\n",
    "    predicted_proba_dtc_d = model_dtc_d.predict_proba(features_valid)\n",
    "    probabilities_one_valid_dtc_d = predicted_proba_dtc_d[:, 1]\n",
    "    f1_dtc_d = f1_score(target_valid, predicted_dtc_d)\n",
    "    roc_dtc_d = roc_auc_score(target_valid, probabilities_one_valid_dtc_d)\n",
    "    if f1_dtc_d > best_f1_dtc_d:\n",
    "        best_model_dtc_d = model_dtc_d\n",
    "        best_depth_dtc_d = depth\n",
    "        best_f1_dtc_d = f1_dtc_d\n",
    "        best_auc_roc_dtc_d = roc_dtc_d\n",
    "        \n",
    "print(\"Глубина дерева:\", best_depth_dtc_d)\n",
    "print(\"F1:\", best_f1_dtc_d.round(2))\n",
    "print(\"AUC-ROC:\", best_auc_roc_dtc_d.round(2)) \n",
    "    "
   ]
  },
  {
   "cell_type": "markdown",
   "metadata": {},
   "source": [
    "#### Случайный лес"
   ]
  },
  {
   "cell_type": "code",
   "execution_count": 39,
   "metadata": {},
   "outputs": [
    {
     "name": "stdout",
     "output_type": "stream",
     "text": [
      "Количество деревьев: 30\n",
      "Глубина дерева: 15\n",
      "F1: 0.59\n",
      "AUC-ROC: 0.84\n",
      "CPU times: user 14.6 s, sys: 51.4 ms, total: 14.7 s\n",
      "Wall time: 14.7 s\n"
     ]
    }
   ],
   "source": [
    "%%time\n",
    "best_model_rfc_d = None\n",
    "best_est_rfc_d = 0\n",
    "best_depth_rfc_d = 0\n",
    "best_f1_rfc_d = 0\n",
    "best_auc_roc_rfc_d = 0\n",
    "for est in range(10, 51, 10):\n",
    "    for depth in range (1, 31):\n",
    "        model_rfc_d = RandomForestClassifier(random_state=12345, n_estimators=est, max_depth=depth)\n",
    "        model_rfc_d.fit(features_downsampled, target_downsampled)\n",
    "        predicted_rfc_d = model_rfc_d.predict(features_valid)\n",
    "        predicted_proba_rfc_d = model_rfc_d.predict_proba(features_valid)\n",
    "        probabilities_one_valid_rfc_d = predicted_proba_rfc_d[:, 1]\n",
    "        f1_rfc_d = f1_score(target_valid, predicted_rfc_d)\n",
    "        roc_rfc_d = roc_auc_score(target_valid, probabilities_one_valid_rfc_d)\n",
    "        if f1_rfc_d > best_f1_rfc_d:\n",
    "            best_model_rfc_d = model_rfc_d \n",
    "            best_est_rfc_d = est\n",
    "            best_depth_rfc_d = depth\n",
    "            best_f1_rfc_d = f1_rfc_d\n",
    "            best_auc_roc_rfc_d = roc_rfc_d\n",
    "            \n",
    "print(\"Количество деревьев:\", best_est_rfc_d)\n",
    "print(\"Глубина дерева:\", best_depth_rfc_d)\n",
    "print(\"F1:\", best_f1_rfc_d.round(2))\n",
    "print(\"AUC-ROC:\", best_auc_roc_rfc_d.round(2))\n",
    "\n"
   ]
  },
  {
   "cell_type": "markdown",
   "metadata": {},
   "source": [
    "#### Логистическая регрессия"
   ]
  },
  {
   "cell_type": "code",
   "execution_count": 40,
   "metadata": {},
   "outputs": [
    {
     "name": "stdout",
     "output_type": "stream",
     "text": [
      "F1: 0.5\n",
      "AUC-ROC: 0.78\n",
      "CPU times: user 110 ms, sys: 85 ms, total: 195 ms\n",
      "Wall time: 140 ms\n"
     ]
    }
   ],
   "source": [
    "%%time\n",
    "model_lr_d = LogisticRegression(random_state=12345)\n",
    "model_lr_d.fit(features_downsampled, target_downsampled) \n",
    "result_lr_d = model_lr_d.score(features_valid, target_valid) \n",
    "predicted_lr_d = model_lr_d.predict(features_valid)\n",
    "predicted_proba_lr_d = model_lr_d.predict_proba(features_valid)\n",
    "probabilities_one_valid_lr_d = predicted_proba_lr_d[:, 1]\n",
    "f1_lr_d = f1_score(target_valid, predicted_lr_d)\n",
    "roc_lr_d = roc_auc_score(target_valid, probabilities_one_valid_lr_d)\n",
    "\n",
    "print(\"F1:\", f1_lr_d.round(2))\n",
    "print(\"AUC-ROC:\", roc_lr_d.round(2))\n"
   ]
  },
  {
   "cell_type": "markdown",
   "metadata": {},
   "source": [
    "#### Вывод\n",
    "Модель \"Случайный лес\" показала лучший (из всех рассмариваемых моделей) результат при уменьшении выборки. Значение F1-меры - 0.59.\n",
    "Самый хороший результат у модели \"Случайный лес\" на увеличенной выборке - 0.60. При взвешивании классов и уменьшении выборки, результат чуть хуже."
   ]
  },
  {
   "cell_type": "markdown",
   "metadata": {},
   "source": [
    "## Тестирование модели"
   ]
  },
  {
   "cell_type": "markdown",
   "metadata": {},
   "source": [
    "#### Случайный лес"
   ]
  },
  {
   "cell_type": "code",
   "execution_count": 41,
   "metadata": {},
   "outputs": [
    {
     "name": "stdout",
     "output_type": "stream",
     "text": [
      "F1: 0.59\n",
      "AUC-ROC: 0.86\n"
     ]
    }
   ],
   "source": [
    "# Увеличение выборки\n",
    "\n",
    "test_predicted_rfc_u = best_model_rfc_u.predict(features_test)\n",
    "test_predicted_proba_rfc_u = best_model_rfc_u.predict_proba(features_test)\n",
    "test_probabilities_one_valid_rfc_u = test_predicted_proba_rfc_u[:, 1]\n",
    "test_f1_rfc_u = f1_score(target_test, test_predicted_rfc_u)\n",
    "test_roc_rfc_u = roc_auc_score(target_test, test_probabilities_one_valid_rfc_u)\n",
    "    \n",
    "\n",
    "print(\"F1:\", test_f1_rfc_u.round(2))\n",
    "print(\"AUC-ROC:\", test_roc_rfc_u.round(2))    "
   ]
  },
  {
   "cell_type": "markdown",
   "metadata": {},
   "source": [
    "#### Вывод\n",
    "Модель \"Случайный лес\", показавшая лучшие результаты на валидационной выборке (F1 - 0.61) показала хороший результат и на тестовой выборке - F1 - 0.59. Параметры модели: количество деревьев - 40, глубина дерева - 9; метод корректировки дисбаланса - увеличение выборки."
   ]
  },
  {
   "cell_type": "markdown",
   "metadata": {},
   "source": [
    "## Вывод\n",
    "\n",
    "Исследованы модели: дерево решений, случайный лес, логистическая регрессия. Исходные данные не сбалансированы - качество моделей низкое.\n",
    "Проведена работа с дисбалансом: взвешивание классов, увеличение выборки, уменьшение выборки. На валидационной выборке лучший F1 - 0.61 у модели \"Случайный лес\" при увеличении выбрки (гиперпараметры: количество деревьев - 40, глубина дерева - 9).  \n",
    "\n",
    "У всех рассмотренных моделей:\n",
    " - F1 при взвешивании классов: дерево решений - 0.56, случайный лес – 0.6, логистическая регрессия – 0.5.\n",
    " - F1 при увеличении выборки: дерево решений – 0.56, случайный лес – 0.61, логистическая регрессия – 0.5.\n",
    " - F1 при уменьшении выборки: дерево решений – 0.55, случайный лес - 0.59, логистическая регрессия – 0.5.\n",
    "\n",
    "Тестирование так же показало хорошее качество модели \"Случайный лес\" при увеличении выбрки - F1 - 0.59."
   ]
  },
  {
   "cell_type": "markdown",
   "metadata": {},
   "source": [
    "## Чек-лист готовности проекта"
   ]
  },
  {
   "cell_type": "markdown",
   "metadata": {},
   "source": [
    "Поставьте 'x' в выполненных пунктах. Далее нажмите Shift+Enter."
   ]
  },
  {
   "cell_type": "markdown",
   "metadata": {},
   "source": [
    "- [x]  Jupyter Notebook открыт\n",
    "- [x]  Весь код выполняется без ошибок\n",
    "- [x]  Ячейки с кодом расположены в порядке исполнения\n",
    "- [x]  Выполнен шаг 1: данные подготовлены\n",
    "- [x]  Выполнен шаг 2: задача исследована\n",
    "    - [x]  Исследован баланс классов\n",
    "    - [x]  Изучены модели без учёта дисбаланса\n",
    "    - [x]  Написаны выводы по результатам исследования\n",
    "- [x]  Выполнен шаг 3: учтён дисбаланс\n",
    "    - [x]  Применено несколько способов борьбы с дисбалансом\n",
    "    - [x]  Написаны выводы по результатам исследования\n",
    "- [x]  Выполнен шаг 4: проведено тестирование\n",
    "- [x]  Удалось достичь *F1*-меры не менее 0.59\n",
    "- [x]  Исследована метрика *AUC-ROC*"
   ]
  }
 ],
 "metadata": {
  "ExecuteTimeLog": [
   {
    "duration": 1705,
    "start_time": "2022-04-29T08:11:38.462Z"
   },
   {
    "duration": 32,
    "start_time": "2022-04-29T08:13:30.551Z"
   },
   {
    "duration": 18,
    "start_time": "2022-04-29T08:13:50.731Z"
   },
   {
    "duration": 18,
    "start_time": "2022-04-29T08:14:27.565Z"
   },
   {
    "duration": 44,
    "start_time": "2022-04-29T08:15:27.346Z"
   },
   {
    "duration": 3,
    "start_time": "2022-04-29T08:20:22.607Z"
   },
   {
    "duration": 12,
    "start_time": "2022-04-29T08:20:39.949Z"
   },
   {
    "duration": 3,
    "start_time": "2022-04-29T08:25:49.249Z"
   },
   {
    "duration": 7,
    "start_time": "2022-04-29T08:25:57.327Z"
   },
   {
    "duration": 23,
    "start_time": "2022-04-29T08:29:56.568Z"
   },
   {
    "duration": 33,
    "start_time": "2022-04-29T08:30:30.596Z"
   },
   {
    "duration": 23,
    "start_time": "2022-04-29T08:31:07.711Z"
   },
   {
    "duration": 30,
    "start_time": "2022-04-29T08:31:44.540Z"
   },
   {
    "duration": 6,
    "start_time": "2022-04-29T08:43:44.386Z"
   },
   {
    "duration": 6,
    "start_time": "2022-04-29T10:54:31.118Z"
   },
   {
    "duration": 5,
    "start_time": "2022-04-29T10:55:03.007Z"
   },
   {
    "duration": 39,
    "start_time": "2022-04-29T10:55:04.489Z"
   },
   {
    "duration": 13,
    "start_time": "2022-04-29T10:55:05.151Z"
   },
   {
    "duration": 14,
    "start_time": "2022-04-29T10:55:05.908Z"
   },
   {
    "duration": 42,
    "start_time": "2022-04-29T10:55:06.778Z"
   },
   {
    "duration": 3,
    "start_time": "2022-04-29T10:55:09.470Z"
   },
   {
    "duration": 12,
    "start_time": "2022-04-29T10:55:10.952Z"
   },
   {
    "duration": 33,
    "start_time": "2022-04-29T10:55:11.971Z"
   },
   {
    "duration": 5,
    "start_time": "2022-04-29T10:55:18.534Z"
   },
   {
    "duration": 31,
    "start_time": "2022-04-29T10:55:37.028Z"
   },
   {
    "duration": 145,
    "start_time": "2022-04-29T10:56:15.814Z"
   },
   {
    "duration": 5,
    "start_time": "2022-04-29T10:56:23.080Z"
   },
   {
    "duration": 9,
    "start_time": "2022-04-29T10:56:27.651Z"
   },
   {
    "duration": 9,
    "start_time": "2022-04-29T10:56:47.447Z"
   },
   {
    "duration": 8,
    "start_time": "2022-04-29T10:57:08.749Z"
   },
   {
    "duration": 4,
    "start_time": "2022-04-29T11:00:41.235Z"
   },
   {
    "duration": 29,
    "start_time": "2022-04-29T11:00:42.651Z"
   },
   {
    "duration": 14,
    "start_time": "2022-04-29T11:00:43.277Z"
   },
   {
    "duration": 14,
    "start_time": "2022-04-29T11:00:44.032Z"
   },
   {
    "duration": 44,
    "start_time": "2022-04-29T11:00:45.034Z"
   },
   {
    "duration": 4,
    "start_time": "2022-04-29T11:00:47.954Z"
   },
   {
    "duration": 12,
    "start_time": "2022-04-29T11:00:48.504Z"
   },
   {
    "duration": 31,
    "start_time": "2022-04-29T11:00:49.254Z"
   },
   {
    "duration": 6,
    "start_time": "2022-04-29T11:00:50.390Z"
   },
   {
    "duration": 5,
    "start_time": "2022-04-29T11:00:51.589Z"
   },
   {
    "duration": 31,
    "start_time": "2022-04-29T11:00:52.531Z"
   },
   {
    "duration": 13,
    "start_time": "2022-04-29T11:07:20.262Z"
   },
   {
    "duration": 5,
    "start_time": "2022-04-29T11:07:29.235Z"
   },
   {
    "duration": 12,
    "start_time": "2022-04-29T11:26:47.298Z"
   },
   {
    "duration": 59,
    "start_time": "2022-04-29T11:27:17.603Z"
   },
   {
    "duration": 442,
    "start_time": "2022-04-29T11:27:24.102Z"
   },
   {
    "duration": 178,
    "start_time": "2022-04-29T11:29:06.177Z"
   },
   {
    "duration": 145,
    "start_time": "2022-04-29T11:29:20.760Z"
   },
   {
    "duration": 233,
    "start_time": "2022-04-29T11:29:32.482Z"
   },
   {
    "duration": 141,
    "start_time": "2022-04-29T11:29:43.806Z"
   },
   {
    "duration": 5,
    "start_time": "2022-04-29T11:33:12.309Z"
   },
   {
    "duration": 140,
    "start_time": "2022-04-29T11:33:24.860Z"
   },
   {
    "duration": 1740,
    "start_time": "2022-04-29T11:41:31.402Z"
   },
   {
    "duration": 39,
    "start_time": "2022-04-29T11:41:33.144Z"
   },
   {
    "duration": 14,
    "start_time": "2022-04-29T11:41:33.187Z"
   },
   {
    "duration": 19,
    "start_time": "2022-04-29T11:41:33.204Z"
   },
   {
    "duration": 54,
    "start_time": "2022-04-29T11:41:33.225Z"
   },
   {
    "duration": 3,
    "start_time": "2022-04-29T11:41:33.281Z"
   },
   {
    "duration": 24,
    "start_time": "2022-04-29T11:41:33.286Z"
   },
   {
    "duration": 58,
    "start_time": "2022-04-29T11:41:33.312Z"
   },
   {
    "duration": 5,
    "start_time": "2022-04-29T11:41:33.372Z"
   },
   {
    "duration": 9,
    "start_time": "2022-04-29T11:41:33.379Z"
   },
   {
    "duration": 9,
    "start_time": "2022-04-29T11:41:33.390Z"
   },
   {
    "duration": 170,
    "start_time": "2022-04-29T11:41:33.401Z"
   },
   {
    "duration": 14,
    "start_time": "2022-04-29T11:41:33.573Z"
   },
   {
    "duration": 165,
    "start_time": "2022-04-29T11:41:33.589Z"
   },
   {
    "duration": 1626,
    "start_time": "2022-04-29T11:42:16.042Z"
   },
   {
    "duration": 32,
    "start_time": "2022-04-29T11:42:17.670Z"
   },
   {
    "duration": 17,
    "start_time": "2022-04-29T11:42:17.704Z"
   },
   {
    "duration": 24,
    "start_time": "2022-04-29T11:42:17.722Z"
   },
   {
    "duration": 45,
    "start_time": "2022-04-29T11:42:17.749Z"
   },
   {
    "duration": 4,
    "start_time": "2022-04-29T11:42:17.795Z"
   },
   {
    "duration": 37,
    "start_time": "2022-04-29T11:42:17.800Z"
   },
   {
    "duration": 37,
    "start_time": "2022-04-29T11:42:17.839Z"
   },
   {
    "duration": 6,
    "start_time": "2022-04-29T11:42:17.878Z"
   },
   {
    "duration": 10,
    "start_time": "2022-04-29T11:42:17.886Z"
   },
   {
    "duration": 6,
    "start_time": "2022-04-29T11:42:17.899Z"
   },
   {
    "duration": 180,
    "start_time": "2022-04-29T11:42:17.907Z"
   },
   {
    "duration": 14,
    "start_time": "2022-04-29T11:42:18.089Z"
   },
   {
    "duration": 166,
    "start_time": "2022-04-29T11:42:18.105Z"
   },
   {
    "duration": 1574,
    "start_time": "2022-04-29T11:43:00.165Z"
   },
   {
    "duration": 42,
    "start_time": "2022-04-29T11:43:01.741Z"
   },
   {
    "duration": 15,
    "start_time": "2022-04-29T11:43:01.785Z"
   },
   {
    "duration": 24,
    "start_time": "2022-04-29T11:43:01.802Z"
   },
   {
    "duration": 46,
    "start_time": "2022-04-29T11:43:01.828Z"
   },
   {
    "duration": 3,
    "start_time": "2022-04-29T11:43:01.877Z"
   },
   {
    "duration": 20,
    "start_time": "2022-04-29T11:43:01.882Z"
   },
   {
    "duration": 50,
    "start_time": "2022-04-29T11:43:01.905Z"
   },
   {
    "duration": 7,
    "start_time": "2022-04-29T11:43:01.958Z"
   },
   {
    "duration": 9,
    "start_time": "2022-04-29T11:43:01.967Z"
   },
   {
    "duration": 10,
    "start_time": "2022-04-29T11:43:01.978Z"
   },
   {
    "duration": 180,
    "start_time": "2022-04-29T11:43:01.990Z"
   },
   {
    "duration": 12,
    "start_time": "2022-04-29T11:43:02.172Z"
   },
   {
    "duration": 177,
    "start_time": "2022-04-29T11:43:02.186Z"
   },
   {
    "duration": 16,
    "start_time": "2022-04-29T11:43:20.350Z"
   },
   {
    "duration": 1666,
    "start_time": "2022-04-29T11:44:10.735Z"
   },
   {
    "duration": 33,
    "start_time": "2022-04-29T11:44:12.403Z"
   },
   {
    "duration": 16,
    "start_time": "2022-04-29T11:44:12.438Z"
   },
   {
    "duration": 31,
    "start_time": "2022-04-29T11:44:12.457Z"
   },
   {
    "duration": 86,
    "start_time": "2022-04-29T11:44:12.491Z"
   },
   {
    "duration": 4,
    "start_time": "2022-04-29T11:44:12.579Z"
   },
   {
    "duration": 39,
    "start_time": "2022-04-29T11:44:12.586Z"
   },
   {
    "duration": 70,
    "start_time": "2022-04-29T11:44:12.627Z"
   },
   {
    "duration": 7,
    "start_time": "2022-04-29T11:44:12.698Z"
   },
   {
    "duration": 14,
    "start_time": "2022-04-29T11:44:12.707Z"
   },
   {
    "duration": 27,
    "start_time": "2022-04-29T11:44:12.723Z"
   },
   {
    "duration": 185,
    "start_time": "2022-04-29T11:44:12.752Z"
   },
   {
    "duration": 148,
    "start_time": "2022-04-29T11:44:12.938Z"
   },
   {
    "duration": 0,
    "start_time": "2022-04-29T11:44:13.089Z"
   },
   {
    "duration": 11,
    "start_time": "2022-04-29T11:45:28.828Z"
   },
   {
    "duration": 1565,
    "start_time": "2022-04-29T11:45:36.744Z"
   },
   {
    "duration": 31,
    "start_time": "2022-04-29T11:45:38.311Z"
   },
   {
    "duration": 14,
    "start_time": "2022-04-29T11:45:38.344Z"
   },
   {
    "duration": 17,
    "start_time": "2022-04-29T11:45:38.360Z"
   },
   {
    "duration": 59,
    "start_time": "2022-04-29T11:45:38.379Z"
   },
   {
    "duration": 4,
    "start_time": "2022-04-29T11:45:38.439Z"
   },
   {
    "duration": 14,
    "start_time": "2022-04-29T11:45:38.444Z"
   },
   {
    "duration": 35,
    "start_time": "2022-04-29T11:45:38.460Z"
   },
   {
    "duration": 6,
    "start_time": "2022-04-29T11:45:38.497Z"
   },
   {
    "duration": 32,
    "start_time": "2022-04-29T11:45:38.505Z"
   },
   {
    "duration": 9,
    "start_time": "2022-04-29T11:45:38.539Z"
   },
   {
    "duration": 157,
    "start_time": "2022-04-29T11:45:38.550Z"
   },
   {
    "duration": 125,
    "start_time": "2022-04-29T11:45:38.709Z"
   },
   {
    "duration": 0,
    "start_time": "2022-04-29T11:45:38.836Z"
   },
   {
    "duration": 1616,
    "start_time": "2022-04-29T11:46:22.861Z"
   },
   {
    "duration": 31,
    "start_time": "2022-04-29T11:46:24.479Z"
   },
   {
    "duration": 15,
    "start_time": "2022-04-29T11:46:24.512Z"
   },
   {
    "duration": 17,
    "start_time": "2022-04-29T11:46:24.533Z"
   },
   {
    "duration": 46,
    "start_time": "2022-04-29T11:46:24.552Z"
   },
   {
    "duration": 4,
    "start_time": "2022-04-29T11:46:24.600Z"
   },
   {
    "duration": 18,
    "start_time": "2022-04-29T11:46:24.633Z"
   },
   {
    "duration": 39,
    "start_time": "2022-04-29T11:46:24.653Z"
   },
   {
    "duration": 6,
    "start_time": "2022-04-29T11:46:24.694Z"
   },
   {
    "duration": 34,
    "start_time": "2022-04-29T11:46:24.702Z"
   },
   {
    "duration": 15,
    "start_time": "2022-04-29T11:46:24.738Z"
   },
   {
    "duration": 164,
    "start_time": "2022-04-29T11:46:24.755Z"
   },
   {
    "duration": 134,
    "start_time": "2022-04-29T11:46:24.921Z"
   },
   {
    "duration": 0,
    "start_time": "2022-04-29T11:46:25.057Z"
   },
   {
    "duration": 22,
    "start_time": "2022-04-29T11:46:48.051Z"
   },
   {
    "duration": 21,
    "start_time": "2022-04-29T11:47:35.833Z"
   },
   {
    "duration": 5,
    "start_time": "2022-04-29T11:48:20.454Z"
   },
   {
    "duration": 12,
    "start_time": "2022-04-29T11:48:33.251Z"
   },
   {
    "duration": 16,
    "start_time": "2022-04-29T11:48:39.143Z"
   },
   {
    "duration": 8,
    "start_time": "2022-04-29T11:48:58.618Z"
   },
   {
    "duration": 1790,
    "start_time": "2022-04-29T11:49:16.190Z"
   },
   {
    "duration": 40,
    "start_time": "2022-04-29T11:49:17.982Z"
   },
   {
    "duration": 16,
    "start_time": "2022-04-29T11:49:18.024Z"
   },
   {
    "duration": 30,
    "start_time": "2022-04-29T11:49:18.043Z"
   },
   {
    "duration": 45,
    "start_time": "2022-04-29T11:49:18.074Z"
   },
   {
    "duration": 15,
    "start_time": "2022-04-29T11:49:18.120Z"
   },
   {
    "duration": 16,
    "start_time": "2022-04-29T11:49:18.137Z"
   },
   {
    "duration": 35,
    "start_time": "2022-04-29T11:49:18.154Z"
   },
   {
    "duration": 6,
    "start_time": "2022-04-29T11:49:18.191Z"
   },
   {
    "duration": 38,
    "start_time": "2022-04-29T11:49:18.200Z"
   },
   {
    "duration": 7,
    "start_time": "2022-04-29T11:49:18.240Z"
   },
   {
    "duration": 180,
    "start_time": "2022-04-29T11:49:18.249Z"
   },
   {
    "duration": 8,
    "start_time": "2022-04-29T11:49:18.431Z"
   },
   {
    "duration": 163,
    "start_time": "2022-04-29T11:49:18.441Z"
   },
   {
    "duration": 15,
    "start_time": "2022-04-29T11:50:47.734Z"
   },
   {
    "duration": 9,
    "start_time": "2022-04-29T11:51:14.406Z"
   },
   {
    "duration": 16,
    "start_time": "2022-04-29T11:51:15.528Z"
   },
   {
    "duration": 1668,
    "start_time": "2022-04-29T11:51:49.684Z"
   },
   {
    "duration": 31,
    "start_time": "2022-04-29T11:51:51.354Z"
   },
   {
    "duration": 15,
    "start_time": "2022-04-29T11:51:51.387Z"
   },
   {
    "duration": 19,
    "start_time": "2022-04-29T11:51:51.405Z"
   },
   {
    "duration": 46,
    "start_time": "2022-04-29T11:51:51.443Z"
   },
   {
    "duration": 3,
    "start_time": "2022-04-29T11:51:51.491Z"
   },
   {
    "duration": 16,
    "start_time": "2022-04-29T11:51:51.496Z"
   },
   {
    "duration": 57,
    "start_time": "2022-04-29T11:51:51.514Z"
   },
   {
    "duration": 6,
    "start_time": "2022-04-29T11:51:51.573Z"
   },
   {
    "duration": 5,
    "start_time": "2022-04-29T11:51:51.582Z"
   },
   {
    "duration": 8,
    "start_time": "2022-04-29T11:51:51.589Z"
   },
   {
    "duration": 181,
    "start_time": "2022-04-29T11:51:51.599Z"
   },
   {
    "duration": 8,
    "start_time": "2022-04-29T11:51:51.782Z"
   },
   {
    "duration": 9,
    "start_time": "2022-04-29T11:51:51.792Z"
   },
   {
    "duration": 193,
    "start_time": "2022-04-29T11:51:51.803Z"
   },
   {
    "duration": 1752,
    "start_time": "2022-04-29T12:04:06.466Z"
   },
   {
    "duration": 31,
    "start_time": "2022-04-29T12:04:08.220Z"
   },
   {
    "duration": 16,
    "start_time": "2022-04-29T12:04:08.253Z"
   },
   {
    "duration": 38,
    "start_time": "2022-04-29T12:04:08.273Z"
   },
   {
    "duration": 78,
    "start_time": "2022-04-29T12:04:08.314Z"
   },
   {
    "duration": 4,
    "start_time": "2022-04-29T12:04:08.394Z"
   },
   {
    "duration": 34,
    "start_time": "2022-04-29T12:04:08.400Z"
   },
   {
    "duration": 14,
    "start_time": "2022-04-29T12:04:08.436Z"
   },
   {
    "duration": 171,
    "start_time": "2022-04-29T12:04:08.452Z"
   },
   {
    "duration": 10,
    "start_time": "2022-04-29T12:04:08.626Z"
   },
   {
    "duration": 22,
    "start_time": "2022-04-29T12:04:08.638Z"
   },
   {
    "duration": 187,
    "start_time": "2022-04-29T12:04:08.662Z"
   },
   {
    "duration": 46,
    "start_time": "2022-04-29T12:04:08.851Z"
   },
   {
    "duration": 7,
    "start_time": "2022-04-29T12:04:08.899Z"
   },
   {
    "duration": 34,
    "start_time": "2022-04-29T12:04:08.908Z"
   },
   {
    "duration": 1601,
    "start_time": "2022-04-29T12:04:39.530Z"
   },
   {
    "duration": 30,
    "start_time": "2022-04-29T12:04:41.133Z"
   },
   {
    "duration": 14,
    "start_time": "2022-04-29T12:04:41.165Z"
   },
   {
    "duration": 18,
    "start_time": "2022-04-29T12:04:41.181Z"
   },
   {
    "duration": 59,
    "start_time": "2022-04-29T12:04:41.200Z"
   },
   {
    "duration": 3,
    "start_time": "2022-04-29T12:04:41.261Z"
   },
   {
    "duration": 25,
    "start_time": "2022-04-29T12:04:41.266Z"
   },
   {
    "duration": 9,
    "start_time": "2022-04-29T12:04:41.293Z"
   },
   {
    "duration": 170,
    "start_time": "2022-04-29T12:04:41.304Z"
   },
   {
    "duration": 6,
    "start_time": "2022-04-29T12:04:41.477Z"
   },
   {
    "duration": 13,
    "start_time": "2022-04-29T12:04:41.485Z"
   },
   {
    "duration": 163,
    "start_time": "2022-04-29T12:04:41.500Z"
   },
   {
    "duration": 29,
    "start_time": "2022-04-29T12:04:41.665Z"
   },
   {
    "duration": 9,
    "start_time": "2022-04-29T12:04:41.696Z"
   },
   {
    "duration": 30,
    "start_time": "2022-04-29T12:04:41.706Z"
   },
   {
    "duration": 28,
    "start_time": "2022-04-29T12:07:21.737Z"
   },
   {
    "duration": 10,
    "start_time": "2022-04-29T12:07:41.079Z"
   },
   {
    "duration": 126,
    "start_time": "2022-04-29T17:21:15.013Z"
   },
   {
    "duration": 2240,
    "start_time": "2022-04-29T17:21:26.417Z"
   },
   {
    "duration": 37,
    "start_time": "2022-04-29T17:21:28.659Z"
   },
   {
    "duration": 19,
    "start_time": "2022-04-29T17:21:28.699Z"
   },
   {
    "duration": 26,
    "start_time": "2022-04-29T17:21:28.721Z"
   },
   {
    "duration": 82,
    "start_time": "2022-04-29T17:21:28.749Z"
   },
   {
    "duration": 5,
    "start_time": "2022-04-29T17:21:28.833Z"
   },
   {
    "duration": 43,
    "start_time": "2022-04-29T17:21:28.840Z"
   },
   {
    "duration": 7,
    "start_time": "2022-04-29T17:21:28.886Z"
   },
   {
    "duration": 241,
    "start_time": "2022-04-29T17:21:28.895Z"
   },
   {
    "duration": 9,
    "start_time": "2022-04-29T17:21:29.139Z"
   },
   {
    "duration": 11,
    "start_time": "2022-04-29T17:21:29.151Z"
   },
   {
    "duration": 213,
    "start_time": "2022-04-29T17:21:29.182Z"
   },
   {
    "duration": 43,
    "start_time": "2022-04-29T17:21:29.397Z"
   },
   {
    "duration": 6,
    "start_time": "2022-04-29T17:21:29.443Z"
   },
   {
    "duration": 32,
    "start_time": "2022-04-29T17:21:29.452Z"
   },
   {
    "duration": 4,
    "start_time": "2022-04-29T17:21:29.486Z"
   },
   {
    "duration": 21,
    "start_time": "2022-04-29T17:21:52.145Z"
   },
   {
    "duration": 9,
    "start_time": "2022-04-29T17:25:03.398Z"
   },
   {
    "duration": 9,
    "start_time": "2022-04-29T17:25:30.483Z"
   },
   {
    "duration": 15,
    "start_time": "2022-04-29T17:30:38.221Z"
   },
   {
    "duration": 6,
    "start_time": "2022-04-29T17:46:49.653Z"
   },
   {
    "duration": 18,
    "start_time": "2022-04-29T17:47:25.158Z"
   },
   {
    "duration": 17,
    "start_time": "2022-04-29T17:49:13.532Z"
   },
   {
    "duration": 8,
    "start_time": "2022-04-29T17:49:50.959Z"
   },
   {
    "duration": 8,
    "start_time": "2022-04-29T17:54:00.807Z"
   },
   {
    "duration": 1994,
    "start_time": "2022-04-29T17:54:37.683Z"
   },
   {
    "duration": 31,
    "start_time": "2022-04-29T17:54:39.680Z"
   },
   {
    "duration": 18,
    "start_time": "2022-04-29T17:54:39.714Z"
   },
   {
    "duration": 26,
    "start_time": "2022-04-29T17:54:39.736Z"
   },
   {
    "duration": 75,
    "start_time": "2022-04-29T17:54:39.764Z"
   },
   {
    "duration": 4,
    "start_time": "2022-04-29T17:54:39.841Z"
   },
   {
    "duration": 36,
    "start_time": "2022-04-29T17:54:39.847Z"
   },
   {
    "duration": 8,
    "start_time": "2022-04-29T17:54:39.886Z"
   },
   {
    "duration": 7,
    "start_time": "2022-04-29T17:54:39.896Z"
   },
   {
    "duration": 247,
    "start_time": "2022-04-29T17:54:39.906Z"
   },
   {
    "duration": 9,
    "start_time": "2022-04-29T17:54:40.155Z"
   },
   {
    "duration": 12,
    "start_time": "2022-04-29T17:54:40.182Z"
   },
   {
    "duration": 220,
    "start_time": "2022-04-29T17:54:40.196Z"
   },
   {
    "duration": 44,
    "start_time": "2022-04-29T17:54:40.419Z"
   },
   {
    "duration": 21,
    "start_time": "2022-04-29T17:54:40.465Z"
   },
   {
    "duration": 7,
    "start_time": "2022-04-29T17:54:40.488Z"
   },
   {
    "duration": 4,
    "start_time": "2022-04-29T17:54:40.497Z"
   },
   {
    "duration": 17,
    "start_time": "2022-04-29T17:54:40.503Z"
   },
   {
    "duration": 16,
    "start_time": "2022-04-29T17:54:40.522Z"
   },
   {
    "duration": 42,
    "start_time": "2022-04-29T17:54:40.540Z"
   },
   {
    "duration": 9,
    "start_time": "2022-04-29T17:54:40.584Z"
   },
   {
    "duration": 19,
    "start_time": "2022-04-29T17:54:40.595Z"
   },
   {
    "duration": 16,
    "start_time": "2022-04-29T17:54:40.616Z"
   },
   {
    "duration": 2107,
    "start_time": "2022-04-29T18:46:35.800Z"
   },
   {
    "duration": 32,
    "start_time": "2022-04-29T18:46:37.910Z"
   },
   {
    "duration": 21,
    "start_time": "2022-04-29T18:46:37.944Z"
   },
   {
    "duration": 26,
    "start_time": "2022-04-29T18:46:37.981Z"
   },
   {
    "duration": 77,
    "start_time": "2022-04-29T18:46:38.010Z"
   },
   {
    "duration": 4,
    "start_time": "2022-04-29T18:46:38.090Z"
   },
   {
    "duration": 32,
    "start_time": "2022-04-29T18:46:38.096Z"
   },
   {
    "duration": 18,
    "start_time": "2022-04-29T18:46:38.131Z"
   },
   {
    "duration": 246,
    "start_time": "2022-04-29T18:46:38.151Z"
   },
   {
    "duration": 9,
    "start_time": "2022-04-29T18:46:38.403Z"
   },
   {
    "duration": 231,
    "start_time": "2022-04-29T18:46:38.415Z"
   },
   {
    "duration": 56,
    "start_time": "2022-04-29T18:46:38.648Z"
   },
   {
    "duration": 9,
    "start_time": "2022-04-29T18:46:38.707Z"
   },
   {
    "duration": 12,
    "start_time": "2022-04-29T18:46:38.719Z"
   },
   {
    "duration": 7,
    "start_time": "2022-04-29T18:46:38.733Z"
   },
   {
    "duration": 56,
    "start_time": "2022-04-29T18:46:38.743Z"
   },
   {
    "duration": 9,
    "start_time": "2022-04-29T18:46:38.802Z"
   },
   {
    "duration": 12,
    "start_time": "2022-04-29T18:46:38.813Z"
   },
   {
    "duration": 17,
    "start_time": "2022-04-29T18:46:38.828Z"
   },
   {
    "duration": 50,
    "start_time": "2022-04-29T18:46:38.848Z"
   },
   {
    "duration": 1612,
    "start_time": "2022-04-30T13:00:00.340Z"
   },
   {
    "duration": 26,
    "start_time": "2022-04-30T13:00:01.954Z"
   },
   {
    "duration": 26,
    "start_time": "2022-04-30T13:00:01.982Z"
   },
   {
    "duration": 20,
    "start_time": "2022-04-30T13:00:02.011Z"
   },
   {
    "duration": 62,
    "start_time": "2022-04-30T13:00:02.033Z"
   },
   {
    "duration": 4,
    "start_time": "2022-04-30T13:00:02.097Z"
   },
   {
    "duration": 41,
    "start_time": "2022-04-30T13:00:02.103Z"
   },
   {
    "duration": 20,
    "start_time": "2022-04-30T13:00:02.146Z"
   },
   {
    "duration": 183,
    "start_time": "2022-04-30T13:00:02.168Z"
   },
   {
    "duration": 6,
    "start_time": "2022-04-30T13:00:02.354Z"
   },
   {
    "duration": 156,
    "start_time": "2022-04-30T13:00:02.361Z"
   },
   {
    "duration": 29,
    "start_time": "2022-04-30T13:00:02.518Z"
   },
   {
    "duration": 6,
    "start_time": "2022-04-30T13:00:02.548Z"
   },
   {
    "duration": 5,
    "start_time": "2022-04-30T13:00:02.556Z"
   },
   {
    "duration": 6,
    "start_time": "2022-04-30T13:00:02.563Z"
   },
   {
    "duration": 36,
    "start_time": "2022-04-30T13:00:02.571Z"
   },
   {
    "duration": 7,
    "start_time": "2022-04-30T13:00:02.609Z"
   },
   {
    "duration": 17,
    "start_time": "2022-04-30T13:00:02.617Z"
   },
   {
    "duration": 13,
    "start_time": "2022-04-30T13:00:02.635Z"
   },
   {
    "duration": 21,
    "start_time": "2022-04-30T13:00:02.649Z"
   },
   {
    "duration": 4,
    "start_time": "2022-04-30T13:00:02.672Z"
   },
   {
    "duration": 7,
    "start_time": "2022-04-30T13:00:02.678Z"
   },
   {
    "duration": 25,
    "start_time": "2022-04-30T13:00:02.686Z"
   },
   {
    "duration": 7,
    "start_time": "2022-04-30T13:00:02.713Z"
   },
   {
    "duration": 25,
    "start_time": "2022-04-30T13:11:01.631Z"
   },
   {
    "duration": 194,
    "start_time": "2022-04-30T15:40:20.311Z"
   },
   {
    "duration": 1409,
    "start_time": "2022-04-30T15:41:25.118Z"
   },
   {
    "duration": 25,
    "start_time": "2022-04-30T15:41:26.529Z"
   },
   {
    "duration": 14,
    "start_time": "2022-04-30T15:41:26.555Z"
   },
   {
    "duration": 17,
    "start_time": "2022-04-30T15:41:26.571Z"
   },
   {
    "duration": 53,
    "start_time": "2022-04-30T15:41:26.590Z"
   },
   {
    "duration": 3,
    "start_time": "2022-04-30T15:41:26.645Z"
   },
   {
    "duration": 16,
    "start_time": "2022-04-30T15:41:26.650Z"
   },
   {
    "duration": 6,
    "start_time": "2022-04-30T15:41:26.667Z"
   },
   {
    "duration": 164,
    "start_time": "2022-04-30T15:41:26.675Z"
   },
   {
    "duration": 7,
    "start_time": "2022-04-30T15:41:26.842Z"
   },
   {
    "duration": 149,
    "start_time": "2022-04-30T15:41:26.851Z"
   },
   {
    "duration": 31,
    "start_time": "2022-04-30T15:41:27.001Z"
   },
   {
    "duration": 5,
    "start_time": "2022-04-30T15:41:27.034Z"
   },
   {
    "duration": 4,
    "start_time": "2022-04-30T15:41:27.040Z"
   },
   {
    "duration": 5,
    "start_time": "2022-04-30T15:41:27.046Z"
   },
   {
    "duration": 13,
    "start_time": "2022-04-30T15:41:27.052Z"
   },
   {
    "duration": 6,
    "start_time": "2022-04-30T15:41:27.067Z"
   },
   {
    "duration": 7,
    "start_time": "2022-04-30T15:41:27.107Z"
   },
   {
    "duration": 12,
    "start_time": "2022-04-30T15:41:27.115Z"
   },
   {
    "duration": 10,
    "start_time": "2022-04-30T15:41:27.129Z"
   },
   {
    "duration": 4,
    "start_time": "2022-04-30T15:41:27.141Z"
   },
   {
    "duration": 9,
    "start_time": "2022-04-30T15:41:27.146Z"
   },
   {
    "duration": 5,
    "start_time": "2022-04-30T15:41:27.156Z"
   },
   {
    "duration": 6,
    "start_time": "2022-04-30T15:41:27.163Z"
   },
   {
    "duration": 60,
    "start_time": "2022-04-30T15:41:27.170Z"
   },
   {
    "duration": 185,
    "start_time": "2022-04-30T15:41:27.232Z"
   },
   {
    "duration": 3349,
    "start_time": "2022-04-30T15:42:27.388Z"
   },
   {
    "duration": 1415,
    "start_time": "2022-04-30T15:43:36.182Z"
   },
   {
    "duration": 24,
    "start_time": "2022-04-30T15:43:37.599Z"
   },
   {
    "duration": 12,
    "start_time": "2022-04-30T15:43:37.625Z"
   },
   {
    "duration": 16,
    "start_time": "2022-04-30T15:43:37.639Z"
   },
   {
    "duration": 58,
    "start_time": "2022-04-30T15:43:37.657Z"
   },
   {
    "duration": 3,
    "start_time": "2022-04-30T15:43:37.717Z"
   },
   {
    "duration": 13,
    "start_time": "2022-04-30T15:43:37.722Z"
   },
   {
    "duration": 4,
    "start_time": "2022-04-30T15:43:37.737Z"
   },
   {
    "duration": 165,
    "start_time": "2022-04-30T15:43:37.742Z"
   },
   {
    "duration": 6,
    "start_time": "2022-04-30T15:43:37.910Z"
   },
   {
    "duration": 136,
    "start_time": "2022-04-30T15:43:37.917Z"
   },
   {
    "duration": 25,
    "start_time": "2022-04-30T15:43:38.055Z"
   },
   {
    "duration": 4,
    "start_time": "2022-04-30T15:43:38.082Z"
   },
   {
    "duration": 5,
    "start_time": "2022-04-30T15:43:38.107Z"
   },
   {
    "duration": 6,
    "start_time": "2022-04-30T15:43:38.113Z"
   },
   {
    "duration": 12,
    "start_time": "2022-04-30T15:43:38.120Z"
   },
   {
    "duration": 6,
    "start_time": "2022-04-30T15:43:38.134Z"
   },
   {
    "duration": 7,
    "start_time": "2022-04-30T15:43:38.141Z"
   },
   {
    "duration": 11,
    "start_time": "2022-04-30T15:43:38.149Z"
   },
   {
    "duration": 46,
    "start_time": "2022-04-30T15:43:38.162Z"
   },
   {
    "duration": 4,
    "start_time": "2022-04-30T15:43:38.210Z"
   },
   {
    "duration": 6,
    "start_time": "2022-04-30T15:43:38.216Z"
   },
   {
    "duration": 4,
    "start_time": "2022-04-30T15:43:38.223Z"
   },
   {
    "duration": 6,
    "start_time": "2022-04-30T15:43:38.229Z"
   },
   {
    "duration": 26,
    "start_time": "2022-04-30T15:43:38.236Z"
   },
   {
    "duration": 3217,
    "start_time": "2022-04-30T15:43:38.264Z"
   },
   {
    "duration": 2759,
    "start_time": "2022-04-30T15:44:21.848Z"
   },
   {
    "duration": 25,
    "start_time": "2022-04-30T15:44:24.609Z"
   },
   {
    "duration": 15,
    "start_time": "2022-04-30T15:44:24.635Z"
   },
   {
    "duration": 16,
    "start_time": "2022-04-30T15:44:24.652Z"
   },
   {
    "duration": 63,
    "start_time": "2022-04-30T15:44:24.670Z"
   },
   {
    "duration": 3,
    "start_time": "2022-04-30T15:44:24.736Z"
   },
   {
    "duration": 13,
    "start_time": "2022-04-30T15:44:24.741Z"
   },
   {
    "duration": 6,
    "start_time": "2022-04-30T15:44:24.756Z"
   },
   {
    "duration": 169,
    "start_time": "2022-04-30T15:44:24.763Z"
   },
   {
    "duration": 7,
    "start_time": "2022-04-30T15:44:24.936Z"
   },
   {
    "duration": 151,
    "start_time": "2022-04-30T15:44:24.946Z"
   },
   {
    "duration": 28,
    "start_time": "2022-04-30T15:44:25.108Z"
   },
   {
    "duration": 6,
    "start_time": "2022-04-30T15:44:25.138Z"
   },
   {
    "duration": 4,
    "start_time": "2022-04-30T15:44:25.146Z"
   },
   {
    "duration": 6,
    "start_time": "2022-04-30T15:44:25.151Z"
   },
   {
    "duration": 15,
    "start_time": "2022-04-30T15:44:25.159Z"
   },
   {
    "duration": 35,
    "start_time": "2022-04-30T15:44:25.176Z"
   },
   {
    "duration": 7,
    "start_time": "2022-04-30T15:44:25.213Z"
   },
   {
    "duration": 14,
    "start_time": "2022-04-30T15:44:25.221Z"
   },
   {
    "duration": 11,
    "start_time": "2022-04-30T15:44:25.237Z"
   },
   {
    "duration": 5,
    "start_time": "2022-04-30T15:44:25.250Z"
   },
   {
    "duration": 6,
    "start_time": "2022-04-30T15:44:25.256Z"
   },
   {
    "duration": 44,
    "start_time": "2022-04-30T15:44:25.263Z"
   },
   {
    "duration": 5,
    "start_time": "2022-04-30T15:44:25.309Z"
   },
   {
    "duration": 26,
    "start_time": "2022-04-30T15:44:25.316Z"
   },
   {
    "duration": 3324,
    "start_time": "2022-04-30T15:44:25.343Z"
   },
   {
    "duration": 3342,
    "start_time": "2022-04-30T15:52:05.915Z"
   },
   {
    "duration": 3359,
    "start_time": "2022-04-30T15:52:17.630Z"
   },
   {
    "duration": 3265,
    "start_time": "2022-04-30T15:52:28.630Z"
   },
   {
    "duration": 3189,
    "start_time": "2022-04-30T15:52:38.464Z"
   },
   {
    "duration": 3236,
    "start_time": "2022-04-30T15:52:49.501Z"
   },
   {
    "duration": 3345,
    "start_time": "2022-04-30T15:53:21.877Z"
   },
   {
    "duration": 3352,
    "start_time": "2022-04-30T15:53:30.575Z"
   },
   {
    "duration": 3348,
    "start_time": "2022-04-30T15:53:39.351Z"
   },
   {
    "duration": 3237,
    "start_time": "2022-04-30T15:53:54.389Z"
   },
   {
    "duration": 3274,
    "start_time": "2022-04-30T15:54:26.563Z"
   },
   {
    "duration": 3231,
    "start_time": "2022-04-30T15:54:35.138Z"
   },
   {
    "duration": 3248,
    "start_time": "2022-04-30T15:54:47.303Z"
   },
   {
    "duration": 543,
    "start_time": "2022-04-30T16:22:01.731Z"
   },
   {
    "duration": 7037,
    "start_time": "2022-04-30T16:23:18.063Z"
   },
   {
    "duration": 6729,
    "start_time": "2022-04-30T16:23:37.863Z"
   },
   {
    "duration": 6853,
    "start_time": "2022-04-30T16:23:56.473Z"
   },
   {
    "duration": 7103,
    "start_time": "2022-04-30T16:24:08.564Z"
   },
   {
    "duration": 312,
    "start_time": "2022-04-30T16:30:11.104Z"
   },
   {
    "duration": 272,
    "start_time": "2022-04-30T16:30:34.737Z"
   },
   {
    "duration": 4,
    "start_time": "2022-04-30T17:01:01.588Z"
   },
   {
    "duration": 6,
    "start_time": "2022-04-30T17:01:23.591Z"
   },
   {
    "duration": 180,
    "start_time": "2022-04-30T17:54:41.963Z"
   },
   {
    "duration": 227,
    "start_time": "2022-05-01T15:17:54.888Z"
   },
   {
    "duration": 2473,
    "start_time": "2022-05-01T15:19:26.457Z"
   },
   {
    "duration": 34,
    "start_time": "2022-05-01T15:19:29.492Z"
   },
   {
    "duration": 21,
    "start_time": "2022-05-01T15:19:30.286Z"
   },
   {
    "duration": 25,
    "start_time": "2022-05-01T15:19:31.360Z"
   },
   {
    "duration": 61,
    "start_time": "2022-05-01T15:19:31.991Z"
   },
   {
    "duration": 5,
    "start_time": "2022-05-01T15:19:32.645Z"
   },
   {
    "duration": 17,
    "start_time": "2022-05-01T15:19:33.248Z"
   },
   {
    "duration": 6,
    "start_time": "2022-05-01T15:19:33.869Z"
   },
   {
    "duration": 217,
    "start_time": "2022-05-01T15:19:34.497Z"
   },
   {
    "duration": 10,
    "start_time": "2022-05-01T15:19:35.153Z"
   },
   {
    "duration": 200,
    "start_time": "2022-05-01T15:19:35.783Z"
   },
   {
    "duration": 52,
    "start_time": "2022-05-01T15:19:36.593Z"
   },
   {
    "duration": 8,
    "start_time": "2022-05-01T15:19:37.309Z"
   },
   {
    "duration": 3,
    "start_time": "2022-05-01T15:19:37.991Z"
   },
   {
    "duration": 5,
    "start_time": "2022-05-01T15:19:38.648Z"
   },
   {
    "duration": 18,
    "start_time": "2022-05-01T15:19:39.313Z"
   },
   {
    "duration": 9,
    "start_time": "2022-05-01T15:19:39.973Z"
   },
   {
    "duration": 9,
    "start_time": "2022-05-01T15:19:40.622Z"
   },
   {
    "duration": 22,
    "start_time": "2022-05-01T15:19:41.302Z"
   },
   {
    "duration": 27,
    "start_time": "2022-05-01T15:19:41.952Z"
   },
   {
    "duration": 7,
    "start_time": "2022-05-01T15:19:43.842Z"
   },
   {
    "duration": 8,
    "start_time": "2022-05-01T15:19:44.501Z"
   },
   {
    "duration": 8,
    "start_time": "2022-05-01T15:19:45.151Z"
   },
   {
    "duration": 9,
    "start_time": "2022-05-01T15:19:45.937Z"
   },
   {
    "duration": 38,
    "start_time": "2022-05-01T15:19:46.549Z"
   },
   {
    "duration": 395,
    "start_time": "2022-05-01T15:19:47.906Z"
   },
   {
    "duration": 10530,
    "start_time": "2022-05-01T15:19:49.397Z"
   },
   {
    "duration": 397,
    "start_time": "2022-05-01T15:19:59.930Z"
   },
   {
    "duration": 94,
    "start_time": "2022-05-01T15:20:00.331Z"
   },
   {
    "duration": 263,
    "start_time": "2022-05-01T15:20:03.714Z"
   },
   {
    "duration": 10690,
    "start_time": "2022-05-01T15:22:01.575Z"
   },
   {
    "duration": 224,
    "start_time": "2022-05-01T15:40:45.311Z"
   },
   {
    "duration": 14807,
    "start_time": "2022-05-01T15:43:46.336Z"
   },
   {
    "duration": 15116,
    "start_time": "2022-05-01T15:44:21.211Z"
   },
   {
    "duration": 11853,
    "start_time": "2022-05-01T15:45:05.791Z"
   },
   {
    "duration": 271,
    "start_time": "2022-05-01T15:45:28.081Z"
   },
   {
    "duration": 10448,
    "start_time": "2022-05-01T15:45:45.910Z"
   },
   {
    "duration": 1972,
    "start_time": "2022-05-01T15:46:12.163Z"
   },
   {
    "duration": 39,
    "start_time": "2022-05-01T15:46:14.138Z"
   },
   {
    "duration": 20,
    "start_time": "2022-05-01T15:46:14.180Z"
   },
   {
    "duration": 34,
    "start_time": "2022-05-01T15:46:14.204Z"
   },
   {
    "duration": 61,
    "start_time": "2022-05-01T15:46:14.240Z"
   },
   {
    "duration": 5,
    "start_time": "2022-05-01T15:46:14.325Z"
   },
   {
    "duration": 25,
    "start_time": "2022-05-01T15:46:14.333Z"
   },
   {
    "duration": 12,
    "start_time": "2022-05-01T15:46:14.360Z"
   },
   {
    "duration": 249,
    "start_time": "2022-05-01T15:46:14.375Z"
   },
   {
    "duration": 12,
    "start_time": "2022-05-01T15:46:14.630Z"
   },
   {
    "duration": 229,
    "start_time": "2022-05-01T15:46:14.644Z"
   },
   {
    "duration": 56,
    "start_time": "2022-05-01T15:46:14.875Z"
   },
   {
    "duration": 8,
    "start_time": "2022-05-01T15:46:14.934Z"
   },
   {
    "duration": 5,
    "start_time": "2022-05-01T15:46:14.945Z"
   },
   {
    "duration": 8,
    "start_time": "2022-05-01T15:46:14.953Z"
   },
   {
    "duration": 20,
    "start_time": "2022-05-01T15:46:14.964Z"
   },
   {
    "duration": 46,
    "start_time": "2022-05-01T15:46:14.986Z"
   },
   {
    "duration": 21,
    "start_time": "2022-05-01T15:46:15.034Z"
   },
   {
    "duration": 23,
    "start_time": "2022-05-01T15:46:15.057Z"
   },
   {
    "duration": 42,
    "start_time": "2022-05-01T15:46:15.082Z"
   },
   {
    "duration": 9,
    "start_time": "2022-05-01T15:46:15.127Z"
   },
   {
    "duration": 13,
    "start_time": "2022-05-01T15:46:15.138Z"
   },
   {
    "duration": 13,
    "start_time": "2022-05-01T15:46:15.154Z"
   },
   {
    "duration": 9,
    "start_time": "2022-05-01T15:46:15.170Z"
   },
   {
    "duration": 77,
    "start_time": "2022-05-01T15:46:15.182Z"
   },
   {
    "duration": 264,
    "start_time": "2022-05-01T15:46:15.261Z"
   },
   {
    "duration": 15168,
    "start_time": "2022-05-01T15:46:15.528Z"
   },
   {
    "duration": 835,
    "start_time": "2022-05-01T15:46:30.700Z"
   },
   {
    "duration": 90,
    "start_time": "2022-05-01T15:46:31.540Z"
   },
   {
    "duration": 350,
    "start_time": "2022-05-01T15:46:31.634Z"
   },
   {
    "duration": 10070,
    "start_time": "2022-05-01T15:46:31.986Z"
   },
   {
    "duration": 272,
    "start_time": "2022-05-01T15:46:42.059Z"
   },
   {
    "duration": 185,
    "start_time": "2022-05-01T16:09:46.281Z"
   },
   {
    "duration": 2133,
    "start_time": "2022-05-01T16:10:07.398Z"
   },
   {
    "duration": 40,
    "start_time": "2022-05-01T16:10:09.534Z"
   },
   {
    "duration": 20,
    "start_time": "2022-05-01T16:10:09.576Z"
   },
   {
    "duration": 40,
    "start_time": "2022-05-01T16:10:09.600Z"
   },
   {
    "duration": 57,
    "start_time": "2022-05-01T16:10:09.643Z"
   },
   {
    "duration": 29,
    "start_time": "2022-05-01T16:10:09.703Z"
   },
   {
    "duration": 26,
    "start_time": "2022-05-01T16:10:09.734Z"
   },
   {
    "duration": 8,
    "start_time": "2022-05-01T16:10:09.762Z"
   },
   {
    "duration": 241,
    "start_time": "2022-05-01T16:10:09.772Z"
   },
   {
    "duration": 18,
    "start_time": "2022-05-01T16:10:10.017Z"
   },
   {
    "duration": 216,
    "start_time": "2022-05-01T16:10:10.038Z"
   },
   {
    "duration": 42,
    "start_time": "2022-05-01T16:10:10.256Z"
   },
   {
    "duration": 27,
    "start_time": "2022-05-01T16:10:10.301Z"
   },
   {
    "duration": 11,
    "start_time": "2022-05-01T16:10:10.335Z"
   },
   {
    "duration": 8,
    "start_time": "2022-05-01T16:10:10.348Z"
   },
   {
    "duration": 21,
    "start_time": "2022-05-01T16:10:10.358Z"
   },
   {
    "duration": 12,
    "start_time": "2022-05-01T16:10:10.382Z"
   },
   {
    "duration": 40,
    "start_time": "2022-05-01T16:10:10.397Z"
   },
   {
    "duration": 27,
    "start_time": "2022-05-01T16:10:10.439Z"
   },
   {
    "duration": 17,
    "start_time": "2022-05-01T16:10:10.468Z"
   },
   {
    "duration": 8,
    "start_time": "2022-05-01T16:10:10.488Z"
   },
   {
    "duration": 30,
    "start_time": "2022-05-01T16:10:10.498Z"
   },
   {
    "duration": 9,
    "start_time": "2022-05-01T16:10:10.537Z"
   },
   {
    "duration": 11,
    "start_time": "2022-05-01T16:10:10.548Z"
   },
   {
    "duration": 43,
    "start_time": "2022-05-01T16:10:10.561Z"
   },
   {
    "duration": 271,
    "start_time": "2022-05-01T16:10:10.606Z"
   },
   {
    "duration": 10234,
    "start_time": "2022-05-01T16:10:10.880Z"
   },
   {
    "duration": 908,
    "start_time": "2022-05-01T16:10:21.129Z"
   },
   {
    "duration": 10,
    "start_time": "2022-05-01T16:10:22.041Z"
   },
   {
    "duration": 325,
    "start_time": "2022-05-01T16:10:22.054Z"
   },
   {
    "duration": 10746,
    "start_time": "2022-05-01T16:10:22.381Z"
   },
   {
    "duration": 297,
    "start_time": "2022-05-01T16:10:33.130Z"
   },
   {
    "duration": 262,
    "start_time": "2022-05-01T16:10:33.440Z"
   },
   {
    "duration": 30,
    "start_time": "2022-05-01T16:17:26.818Z"
   },
   {
    "duration": 2808,
    "start_time": "2022-05-01T17:47:23.054Z"
   },
   {
    "duration": 32,
    "start_time": "2022-05-01T17:47:25.864Z"
   },
   {
    "duration": 16,
    "start_time": "2022-05-01T17:47:25.897Z"
   },
   {
    "duration": 30,
    "start_time": "2022-05-01T17:47:25.916Z"
   },
   {
    "duration": 61,
    "start_time": "2022-05-01T17:47:25.948Z"
   },
   {
    "duration": 3,
    "start_time": "2022-05-01T17:47:26.011Z"
   },
   {
    "duration": 21,
    "start_time": "2022-05-01T17:47:26.016Z"
   },
   {
    "duration": 6,
    "start_time": "2022-05-01T17:47:26.039Z"
   },
   {
    "duration": 180,
    "start_time": "2022-05-01T17:47:26.046Z"
   },
   {
    "duration": 6,
    "start_time": "2022-05-01T17:47:26.229Z"
   },
   {
    "duration": 145,
    "start_time": "2022-05-01T17:47:26.237Z"
   },
   {
    "duration": 28,
    "start_time": "2022-05-01T17:47:26.385Z"
   },
   {
    "duration": 6,
    "start_time": "2022-05-01T17:47:26.415Z"
   },
   {
    "duration": 6,
    "start_time": "2022-05-01T17:47:26.423Z"
   },
   {
    "duration": 7,
    "start_time": "2022-05-01T17:47:26.431Z"
   },
   {
    "duration": 40,
    "start_time": "2022-05-01T17:47:26.440Z"
   },
   {
    "duration": 14,
    "start_time": "2022-05-01T17:47:26.482Z"
   },
   {
    "duration": 9,
    "start_time": "2022-05-01T17:47:26.498Z"
   },
   {
    "duration": 14,
    "start_time": "2022-05-01T17:47:26.509Z"
   },
   {
    "duration": 12,
    "start_time": "2022-05-01T17:47:26.525Z"
   },
   {
    "duration": 35,
    "start_time": "2022-05-01T17:47:26.539Z"
   },
   {
    "duration": 8,
    "start_time": "2022-05-01T17:47:26.577Z"
   },
   {
    "duration": 9,
    "start_time": "2022-05-01T17:47:26.587Z"
   },
   {
    "duration": 5,
    "start_time": "2022-05-01T17:47:26.598Z"
   },
   {
    "duration": 27,
    "start_time": "2022-05-01T17:47:26.605Z"
   },
   {
    "duration": 196,
    "start_time": "2022-05-01T17:47:26.633Z"
   },
   {
    "duration": 6964,
    "start_time": "2022-05-01T17:47:26.831Z"
   },
   {
    "duration": 196,
    "start_time": "2022-05-01T17:47:33.800Z"
   },
   {
    "duration": 84,
    "start_time": "2022-05-01T17:47:33.999Z"
   },
   {
    "duration": 309,
    "start_time": "2022-05-01T17:47:34.090Z"
   },
   {
    "duration": 6978,
    "start_time": "2022-05-01T17:47:34.401Z"
   },
   {
    "duration": 101,
    "start_time": "2022-05-01T17:47:41.382Z"
   },
   {
    "duration": 104,
    "start_time": "2022-05-01T17:47:41.485Z"
   },
   {
    "duration": 106,
    "start_time": "2022-05-01T18:33:55.217Z"
   },
   {
    "duration": 8,
    "start_time": "2022-05-01T18:40:49.018Z"
   },
   {
    "duration": 3,
    "start_time": "2022-05-01T18:40:49.968Z"
   },
   {
    "duration": 7,
    "start_time": "2022-05-01T18:40:50.806Z"
   },
   {
    "duration": 7,
    "start_time": "2022-05-01T18:40:51.573Z"
   },
   {
    "duration": 49,
    "start_time": "2022-05-01T18:48:13.562Z"
   },
   {
    "duration": 176,
    "start_time": "2022-05-01T18:50:40.648Z"
   },
   {
    "duration": 173,
    "start_time": "2022-05-01T18:50:58.802Z"
   },
   {
    "duration": 272,
    "start_time": "2022-05-01T18:56:23.336Z"
   },
   {
    "duration": 10304,
    "start_time": "2022-05-01T18:58:40.574Z"
   },
   {
    "duration": 3115,
    "start_time": "2022-05-01T19:00:07.359Z"
   },
   {
    "duration": 175,
    "start_time": "2022-05-01T19:00:16.052Z"
   },
   {
    "duration": 1423,
    "start_time": "2022-05-01T19:14:31.379Z"
   },
   {
    "duration": 26,
    "start_time": "2022-05-01T19:14:32.804Z"
   },
   {
    "duration": 15,
    "start_time": "2022-05-01T19:14:32.832Z"
   },
   {
    "duration": 28,
    "start_time": "2022-05-01T19:14:32.849Z"
   },
   {
    "duration": 41,
    "start_time": "2022-05-01T19:14:32.878Z"
   },
   {
    "duration": 3,
    "start_time": "2022-05-01T19:14:32.920Z"
   },
   {
    "duration": 14,
    "start_time": "2022-05-01T19:14:32.925Z"
   },
   {
    "duration": 5,
    "start_time": "2022-05-01T19:14:32.940Z"
   },
   {
    "duration": 171,
    "start_time": "2022-05-01T19:14:32.947Z"
   },
   {
    "duration": 6,
    "start_time": "2022-05-01T19:14:33.121Z"
   },
   {
    "duration": 139,
    "start_time": "2022-05-01T19:14:33.129Z"
   },
   {
    "duration": 27,
    "start_time": "2022-05-01T19:14:33.273Z"
   },
   {
    "duration": 6,
    "start_time": "2022-05-01T19:14:33.301Z"
   },
   {
    "duration": 5,
    "start_time": "2022-05-01T19:14:33.309Z"
   },
   {
    "duration": 5,
    "start_time": "2022-05-01T19:14:33.316Z"
   },
   {
    "duration": 15,
    "start_time": "2022-05-01T19:14:33.323Z"
   },
   {
    "duration": 6,
    "start_time": "2022-05-01T19:14:33.340Z"
   },
   {
    "duration": 32,
    "start_time": "2022-05-01T19:14:33.347Z"
   },
   {
    "duration": 14,
    "start_time": "2022-05-01T19:14:33.381Z"
   },
   {
    "duration": 12,
    "start_time": "2022-05-01T19:14:33.397Z"
   },
   {
    "duration": 5,
    "start_time": "2022-05-01T19:14:33.411Z"
   },
   {
    "duration": 9,
    "start_time": "2022-05-01T19:14:33.417Z"
   },
   {
    "duration": 5,
    "start_time": "2022-05-01T19:14:33.428Z"
   },
   {
    "duration": 39,
    "start_time": "2022-05-01T19:14:33.434Z"
   },
   {
    "duration": 28,
    "start_time": "2022-05-01T19:14:33.475Z"
   },
   {
    "duration": 186,
    "start_time": "2022-05-01T19:14:33.504Z"
   },
   {
    "duration": 103555,
    "start_time": "2022-05-01T19:14:33.692Z"
   },
   {
    "duration": 231,
    "start_time": "2022-05-01T19:16:17.250Z"
   },
   {
    "duration": 98,
    "start_time": "2022-05-01T19:16:17.483Z"
   },
   {
    "duration": 268,
    "start_time": "2022-05-01T19:16:17.583Z"
   },
   {
    "duration": 6603,
    "start_time": "2022-05-01T19:16:17.853Z"
   },
   {
    "duration": 218,
    "start_time": "2022-05-01T19:16:24.458Z"
   },
   {
    "duration": 95,
    "start_time": "2022-05-01T19:16:24.678Z"
   },
   {
    "duration": 9,
    "start_time": "2022-05-01T19:16:24.775Z"
   },
   {
    "duration": 9,
    "start_time": "2022-05-01T19:16:24.785Z"
   },
   {
    "duration": 306,
    "start_time": "2022-05-01T19:16:24.796Z"
   },
   {
    "duration": 10760,
    "start_time": "2022-05-01T19:16:25.104Z"
   },
   {
    "duration": 14569,
    "start_time": "2022-05-01T19:23:33.127Z"
   },
   {
    "duration": 19629,
    "start_time": "2022-05-01T19:23:57.263Z"
   },
   {
    "duration": 893,
    "start_time": "2022-05-01T19:25:10.585Z"
   },
   {
    "duration": 35211,
    "start_time": "2022-05-01T19:30:46.940Z"
   },
   {
    "duration": 214,
    "start_time": "2022-05-02T04:56:33.219Z"
   },
   {
    "duration": 2238,
    "start_time": "2022-05-02T04:56:40.564Z"
   },
   {
    "duration": 34,
    "start_time": "2022-05-02T04:56:42.805Z"
   },
   {
    "duration": 23,
    "start_time": "2022-05-02T04:56:42.841Z"
   },
   {
    "duration": 27,
    "start_time": "2022-05-02T04:56:42.866Z"
   },
   {
    "duration": 57,
    "start_time": "2022-05-02T04:56:42.925Z"
   },
   {
    "duration": 4,
    "start_time": "2022-05-02T04:56:42.984Z"
   },
   {
    "duration": 41,
    "start_time": "2022-05-02T04:56:42.990Z"
   },
   {
    "duration": 23,
    "start_time": "2022-05-02T04:56:43.033Z"
   },
   {
    "duration": 227,
    "start_time": "2022-05-02T04:56:43.058Z"
   },
   {
    "duration": 9,
    "start_time": "2022-05-02T04:56:43.287Z"
   },
   {
    "duration": 220,
    "start_time": "2022-05-02T04:56:43.298Z"
   },
   {
    "duration": 44,
    "start_time": "2022-05-02T04:56:43.520Z"
   },
   {
    "duration": 8,
    "start_time": "2022-05-02T04:56:43.566Z"
   },
   {
    "duration": 3,
    "start_time": "2022-05-02T04:56:43.579Z"
   },
   {
    "duration": 41,
    "start_time": "2022-05-02T04:56:43.584Z"
   },
   {
    "duration": 18,
    "start_time": "2022-05-02T04:56:43.628Z"
   },
   {
    "duration": 8,
    "start_time": "2022-05-02T04:56:43.648Z"
   },
   {
    "duration": 11,
    "start_time": "2022-05-02T04:56:43.659Z"
   },
   {
    "duration": 16,
    "start_time": "2022-05-02T04:56:43.672Z"
   },
   {
    "duration": 49,
    "start_time": "2022-05-02T04:56:43.691Z"
   },
   {
    "duration": 7,
    "start_time": "2022-05-02T04:56:43.742Z"
   },
   {
    "duration": 6,
    "start_time": "2022-05-02T04:56:43.751Z"
   },
   {
    "duration": 7,
    "start_time": "2022-05-02T04:56:43.759Z"
   },
   {
    "duration": 9,
    "start_time": "2022-05-02T04:56:43.768Z"
   },
   {
    "duration": 87,
    "start_time": "2022-05-02T04:56:43.779Z"
   },
   {
    "duration": 259,
    "start_time": "2022-05-02T04:56:43.868Z"
   },
   {
    "duration": 153128,
    "start_time": "2022-05-02T04:56:44.129Z"
   },
   {
    "duration": 368,
    "start_time": "2022-05-02T04:59:17.260Z"
   },
   {
    "duration": 93,
    "start_time": "2022-05-02T04:59:17.632Z"
   },
   {
    "duration": 281,
    "start_time": "2022-05-02T04:59:17.728Z"
   },
   {
    "duration": 10091,
    "start_time": "2022-05-02T04:59:18.012Z"
   },
   {
    "duration": 224,
    "start_time": "2022-05-02T04:59:28.105Z"
   },
   {
    "duration": 99,
    "start_time": "2022-05-02T04:59:28.332Z"
   },
   {
    "duration": 10,
    "start_time": "2022-05-02T04:59:28.433Z"
   },
   {
    "duration": 11,
    "start_time": "2022-05-02T04:59:28.445Z"
   },
   {
    "duration": 519,
    "start_time": "2022-05-02T04:59:28.458Z"
   },
   {
    "duration": 1786,
    "start_time": "2022-05-02T13:26:03.091Z"
   },
   {
    "duration": 24,
    "start_time": "2022-05-02T13:26:04.880Z"
   },
   {
    "duration": 20,
    "start_time": "2022-05-02T13:26:04.906Z"
   },
   {
    "duration": 24,
    "start_time": "2022-05-02T13:26:04.928Z"
   },
   {
    "duration": 50,
    "start_time": "2022-05-02T13:26:04.953Z"
   },
   {
    "duration": 3,
    "start_time": "2022-05-02T13:26:05.005Z"
   },
   {
    "duration": 35,
    "start_time": "2022-05-02T13:26:05.009Z"
   },
   {
    "duration": 46,
    "start_time": "2022-05-02T13:26:05.045Z"
   },
   {
    "duration": 163,
    "start_time": "2022-05-02T13:26:05.092Z"
   },
   {
    "duration": 6,
    "start_time": "2022-05-02T13:26:05.258Z"
   },
   {
    "duration": 126,
    "start_time": "2022-05-02T13:26:05.266Z"
   },
   {
    "duration": 24,
    "start_time": "2022-05-02T13:26:05.393Z"
   },
   {
    "duration": 5,
    "start_time": "2022-05-02T13:26:05.419Z"
   },
   {
    "duration": 19,
    "start_time": "2022-05-02T13:26:05.425Z"
   },
   {
    "duration": 9,
    "start_time": "2022-05-02T13:26:05.446Z"
   },
   {
    "duration": 32,
    "start_time": "2022-05-02T13:26:05.457Z"
   },
   {
    "duration": 13,
    "start_time": "2022-05-02T13:26:05.491Z"
   },
   {
    "duration": 20,
    "start_time": "2022-05-02T13:26:05.505Z"
   },
   {
    "duration": 28,
    "start_time": "2022-05-02T13:26:05.527Z"
   },
   {
    "duration": 16,
    "start_time": "2022-05-02T13:26:05.557Z"
   },
   {
    "duration": 16,
    "start_time": "2022-05-02T13:26:05.574Z"
   },
   {
    "duration": 21,
    "start_time": "2022-05-02T13:26:05.591Z"
   },
   {
    "duration": 22,
    "start_time": "2022-05-02T13:26:05.613Z"
   },
   {
    "duration": 17,
    "start_time": "2022-05-02T13:26:05.637Z"
   },
   {
    "duration": 50,
    "start_time": "2022-05-02T13:26:05.655Z"
   },
   {
    "duration": 185,
    "start_time": "2022-05-02T13:26:05.706Z"
   },
   {
    "duration": 27708,
    "start_time": "2022-05-02T13:26:05.892Z"
   },
   {
    "duration": 254,
    "start_time": "2022-05-02T13:26:33.603Z"
   },
   {
    "duration": 96,
    "start_time": "2022-05-02T13:26:33.859Z"
   },
   {
    "duration": 250,
    "start_time": "2022-05-02T13:26:33.957Z"
   },
   {
    "duration": 8830,
    "start_time": "2022-05-02T13:26:34.209Z"
   },
   {
    "duration": 123,
    "start_time": "2022-05-02T13:26:43.041Z"
   },
   {
    "duration": 8,
    "start_time": "2022-05-02T13:26:43.255Z"
   },
   {
    "duration": 102,
    "start_time": "2022-05-02T13:26:43.264Z"
   },
   {
    "duration": 8,
    "start_time": "2022-05-02T13:26:43.368Z"
   },
   {
    "duration": 316,
    "start_time": "2022-05-02T13:26:43.378Z"
   },
   {
    "duration": 48538,
    "start_time": "2022-05-02T13:26:43.696Z"
   },
   {
    "duration": 1221,
    "start_time": "2022-05-02T13:27:32.236Z"
   },
   {
    "duration": 102,
    "start_time": "2022-05-02T13:27:33.460Z"
   },
   {
    "duration": 7211,
    "start_time": "2022-05-02T13:30:17.806Z"
   },
   {
    "duration": 7360,
    "start_time": "2022-05-02T13:30:38.084Z"
   },
   {
    "duration": 8591,
    "start_time": "2022-05-02T13:30:53.738Z"
   },
   {
    "duration": 55455,
    "start_time": "2022-05-02T13:31:53.063Z"
   },
   {
    "duration": 201,
    "start_time": "2022-05-02T16:19:21.387Z"
   },
   {
    "duration": 1613,
    "start_time": "2022-05-02T16:19:33.799Z"
   },
   {
    "duration": 27,
    "start_time": "2022-05-02T16:19:35.414Z"
   },
   {
    "duration": 12,
    "start_time": "2022-05-02T16:19:35.443Z"
   },
   {
    "duration": 17,
    "start_time": "2022-05-02T16:19:35.457Z"
   },
   {
    "duration": 44,
    "start_time": "2022-05-02T16:19:35.476Z"
   },
   {
    "duration": 3,
    "start_time": "2022-05-02T16:19:35.522Z"
   },
   {
    "duration": 14,
    "start_time": "2022-05-02T16:19:35.527Z"
   },
   {
    "duration": 6,
    "start_time": "2022-05-02T16:19:35.543Z"
   },
   {
    "duration": 146,
    "start_time": "2022-05-02T16:19:35.551Z"
   },
   {
    "duration": 6,
    "start_time": "2022-05-02T16:19:35.701Z"
   },
   {
    "duration": 138,
    "start_time": "2022-05-02T16:19:35.709Z"
   },
   {
    "duration": 25,
    "start_time": "2022-05-02T16:19:35.849Z"
   },
   {
    "duration": 19,
    "start_time": "2022-05-02T16:19:35.876Z"
   },
   {
    "duration": 2,
    "start_time": "2022-05-02T16:19:35.898Z"
   },
   {
    "duration": 5,
    "start_time": "2022-05-02T16:19:35.902Z"
   },
   {
    "duration": 12,
    "start_time": "2022-05-02T16:19:35.909Z"
   },
   {
    "duration": 6,
    "start_time": "2022-05-02T16:19:35.923Z"
   },
   {
    "duration": 7,
    "start_time": "2022-05-02T16:19:35.931Z"
   },
   {
    "duration": 11,
    "start_time": "2022-05-02T16:19:35.940Z"
   },
   {
    "duration": 49,
    "start_time": "2022-05-02T16:19:35.952Z"
   },
   {
    "duration": 5,
    "start_time": "2022-05-02T16:19:36.003Z"
   },
   {
    "duration": 7,
    "start_time": "2022-05-02T16:19:36.009Z"
   },
   {
    "duration": 5,
    "start_time": "2022-05-02T16:19:36.018Z"
   },
   {
    "duration": 8,
    "start_time": "2022-05-02T16:19:36.024Z"
   },
   {
    "duration": 38,
    "start_time": "2022-05-02T16:19:36.033Z"
   },
   {
    "duration": 213,
    "start_time": "2022-05-02T16:19:36.073Z"
   },
   {
    "duration": 27963,
    "start_time": "2022-05-02T16:19:36.292Z"
   },
   {
    "duration": 335,
    "start_time": "2022-05-02T16:20:04.259Z"
   },
   {
    "duration": 96,
    "start_time": "2022-05-02T16:20:04.597Z"
   },
   {
    "duration": 187,
    "start_time": "2022-05-02T16:20:04.694Z"
   },
   {
    "duration": 6567,
    "start_time": "2022-05-02T16:20:04.882Z"
   },
   {
    "duration": 242,
    "start_time": "2022-05-02T16:20:11.451Z"
   },
   {
    "duration": 97,
    "start_time": "2022-05-02T16:20:11.696Z"
   },
   {
    "duration": 7,
    "start_time": "2022-05-02T16:20:11.795Z"
   },
   {
    "duration": 6,
    "start_time": "2022-05-02T16:20:11.803Z"
   },
   {
    "duration": 340,
    "start_time": "2022-05-02T16:20:11.811Z"
   },
   {
    "duration": 46679,
    "start_time": "2022-05-02T16:20:12.153Z"
   },
   {
    "duration": 666,
    "start_time": "2022-05-02T16:20:58.834Z"
   },
   {
    "duration": 12,
    "start_time": "2022-05-02T16:20:59.593Z"
   },
   {
    "duration": 172,
    "start_time": "2022-05-02T16:21:21.295Z"
   },
   {
    "duration": 68,
    "start_time": "2022-05-02T16:39:29.871Z"
   },
   {
    "duration": 166,
    "start_time": "2022-05-02T16:40:53.734Z"
   },
   {
    "duration": 6421,
    "start_time": "2022-05-02T16:42:02.693Z"
   },
   {
    "duration": 16827,
    "start_time": "2022-05-02T16:42:29.691Z"
   },
   {
    "duration": 6380,
    "start_time": "2022-05-02T16:43:06.283Z"
   },
   {
    "duration": 185,
    "start_time": "2022-05-02T16:44:10.908Z"
   },
   {
    "duration": 298,
    "start_time": "2022-05-02T16:45:40.677Z"
   },
   {
    "duration": 47663,
    "start_time": "2022-05-02T16:47:08.536Z"
   },
   {
    "duration": 106,
    "start_time": "2022-05-02T16:50:18.404Z"
   },
   {
    "duration": 104,
    "start_time": "2022-05-02T16:51:00.606Z"
   },
   {
    "duration": 112,
    "start_time": "2022-05-02T16:51:05.378Z"
   },
   {
    "duration": 117,
    "start_time": "2022-05-02T16:51:22.881Z"
   },
   {
    "duration": 108,
    "start_time": "2022-05-02T16:52:20.658Z"
   },
   {
    "duration": 12,
    "start_time": "2022-05-02T16:52:26.911Z"
   },
   {
    "duration": 109,
    "start_time": "2022-05-02T16:52:27.639Z"
   },
   {
    "duration": 131,
    "start_time": "2022-05-02T16:52:47.220Z"
   },
   {
    "duration": 165,
    "start_time": "2022-05-02T17:10:57.378Z"
   },
   {
    "duration": 113,
    "start_time": "2022-05-02T17:12:22.587Z"
   },
   {
    "duration": 13,
    "start_time": "2022-05-02T17:21:02.633Z"
   },
   {
    "duration": 113,
    "start_time": "2022-05-02T17:21:06.469Z"
   },
   {
    "duration": 12,
    "start_time": "2022-05-02T17:22:43.347Z"
   },
   {
    "duration": 115,
    "start_time": "2022-05-02T17:22:45.841Z"
   },
   {
    "duration": 12,
    "start_time": "2022-05-02T17:23:15.378Z"
   },
   {
    "duration": 109,
    "start_time": "2022-05-02T17:23:18.597Z"
   },
   {
    "duration": 13,
    "start_time": "2022-05-02T17:23:30.165Z"
   },
   {
    "duration": 11,
    "start_time": "2022-05-02T17:23:39.642Z"
   },
   {
    "duration": 12,
    "start_time": "2022-05-02T17:23:45.205Z"
   },
   {
    "duration": 13,
    "start_time": "2022-05-02T17:23:58.863Z"
   },
   {
    "duration": 11,
    "start_time": "2022-05-02T17:24:07.865Z"
   },
   {
    "duration": 670,
    "start_time": "2022-05-02T17:27:53.527Z"
   },
   {
    "duration": 13,
    "start_time": "2022-05-02T17:30:35.255Z"
   },
   {
    "duration": 11,
    "start_time": "2022-05-02T17:31:23.121Z"
   },
   {
    "duration": 15,
    "start_time": "2022-05-02T17:34:58.330Z"
   },
   {
    "duration": 1508,
    "start_time": "2022-05-02T17:35:25.538Z"
   },
   {
    "duration": 29,
    "start_time": "2022-05-02T17:35:27.048Z"
   },
   {
    "duration": 13,
    "start_time": "2022-05-02T17:35:27.078Z"
   },
   {
    "duration": 27,
    "start_time": "2022-05-02T17:35:27.095Z"
   },
   {
    "duration": 38,
    "start_time": "2022-05-02T17:35:27.123Z"
   },
   {
    "duration": 3,
    "start_time": "2022-05-02T17:35:27.163Z"
   },
   {
    "duration": 30,
    "start_time": "2022-05-02T17:35:27.168Z"
   },
   {
    "duration": 13,
    "start_time": "2022-05-02T17:35:27.199Z"
   },
   {
    "duration": 147,
    "start_time": "2022-05-02T17:35:27.214Z"
   },
   {
    "duration": 6,
    "start_time": "2022-05-02T17:35:27.363Z"
   },
   {
    "duration": 139,
    "start_time": "2022-05-02T17:35:27.371Z"
   },
   {
    "duration": 27,
    "start_time": "2022-05-02T17:35:27.512Z"
   },
   {
    "duration": 6,
    "start_time": "2022-05-02T17:35:27.542Z"
   },
   {
    "duration": 6,
    "start_time": "2022-05-02T17:35:27.549Z"
   },
   {
    "duration": 5,
    "start_time": "2022-05-02T17:35:27.557Z"
   },
   {
    "duration": 50,
    "start_time": "2022-05-02T17:35:27.564Z"
   },
   {
    "duration": 6,
    "start_time": "2022-05-02T17:35:27.616Z"
   },
   {
    "duration": 9,
    "start_time": "2022-05-02T17:35:27.624Z"
   },
   {
    "duration": 12,
    "start_time": "2022-05-02T17:35:27.635Z"
   },
   {
    "duration": 13,
    "start_time": "2022-05-02T17:35:27.649Z"
   },
   {
    "duration": 5,
    "start_time": "2022-05-02T17:35:27.664Z"
   },
   {
    "duration": 20,
    "start_time": "2022-05-02T17:35:27.692Z"
   },
   {
    "duration": 7,
    "start_time": "2022-05-02T17:35:27.714Z"
   },
   {
    "duration": 7,
    "start_time": "2022-05-02T17:35:27.723Z"
   },
   {
    "duration": 29,
    "start_time": "2022-05-02T17:35:27.731Z"
   },
   {
    "duration": 175,
    "start_time": "2022-05-02T17:35:27.762Z"
   },
   {
    "duration": 29446,
    "start_time": "2022-05-02T17:35:27.939Z"
   },
   {
    "duration": 111,
    "start_time": "2022-05-02T17:35:57.394Z"
   },
   {
    "duration": 90,
    "start_time": "2022-05-02T17:35:57.507Z"
   },
   {
    "duration": 284,
    "start_time": "2022-05-02T17:35:57.599Z"
   },
   {
    "duration": 7227,
    "start_time": "2022-05-02T17:35:57.885Z"
   },
   {
    "duration": 179,
    "start_time": "2022-05-02T17:36:05.113Z"
   },
   {
    "duration": 110,
    "start_time": "2022-05-02T17:36:05.296Z"
   },
   {
    "duration": 9,
    "start_time": "2022-05-02T17:36:05.408Z"
   },
   {
    "duration": 10,
    "start_time": "2022-05-02T17:36:05.419Z"
   },
   {
    "duration": 119,
    "start_time": "2022-05-02T17:36:05.431Z"
   },
   {
    "duration": 357,
    "start_time": "2022-05-02T17:36:05.552Z"
   },
   {
    "duration": 50436,
    "start_time": "2022-05-02T17:36:05.911Z"
   },
   {
    "duration": 860,
    "start_time": "2022-05-02T17:36:56.349Z"
   },
   {
    "duration": 307,
    "start_time": "2022-05-02T17:36:57.211Z"
   },
   {
    "duration": 0,
    "start_time": "2022-05-02T17:36:57.520Z"
   },
   {
    "duration": 4,
    "start_time": "2022-05-02T17:37:51.944Z"
   },
   {
    "duration": 10,
    "start_time": "2022-05-02T17:38:13.659Z"
   },
   {
    "duration": 117,
    "start_time": "2022-05-02T17:38:15.329Z"
   },
   {
    "duration": 4,
    "start_time": "2022-05-02T17:59:05.048Z"
   },
   {
    "duration": 134,
    "start_time": "2022-05-02T17:59:06.425Z"
   },
   {
    "duration": 335,
    "start_time": "2022-05-02T18:01:47.031Z"
   },
   {
    "duration": 159,
    "start_time": "2022-05-02T18:02:26.373Z"
   },
   {
    "duration": 20200,
    "start_time": "2022-05-02T18:04:10.056Z"
   },
   {
    "duration": 25485,
    "start_time": "2022-05-02T18:05:02.725Z"
   },
   {
    "duration": 18230,
    "start_time": "2022-05-02T18:05:44.767Z"
   },
   {
    "duration": 794,
    "start_time": "2022-05-02T18:07:10.003Z"
   },
   {
    "duration": 483,
    "start_time": "2022-05-02T18:07:36.411Z"
   },
   {
    "duration": 1485,
    "start_time": "2022-05-02T18:10:41.139Z"
   },
   {
    "duration": 24,
    "start_time": "2022-05-02T18:10:42.625Z"
   },
   {
    "duration": 13,
    "start_time": "2022-05-02T18:10:42.651Z"
   },
   {
    "duration": 17,
    "start_time": "2022-05-02T18:10:42.666Z"
   },
   {
    "duration": 39,
    "start_time": "2022-05-02T18:10:42.693Z"
   },
   {
    "duration": 3,
    "start_time": "2022-05-02T18:10:42.734Z"
   },
   {
    "duration": 14,
    "start_time": "2022-05-02T18:10:42.739Z"
   },
   {
    "duration": 5,
    "start_time": "2022-05-02T18:10:42.755Z"
   },
   {
    "duration": 155,
    "start_time": "2022-05-02T18:10:42.762Z"
   },
   {
    "duration": 6,
    "start_time": "2022-05-02T18:10:42.920Z"
   },
   {
    "duration": 126,
    "start_time": "2022-05-02T18:10:42.928Z"
   },
   {
    "duration": 26,
    "start_time": "2022-05-02T18:10:43.056Z"
   },
   {
    "duration": 5,
    "start_time": "2022-05-02T18:10:43.092Z"
   },
   {
    "duration": 4,
    "start_time": "2022-05-02T18:10:43.099Z"
   },
   {
    "duration": 5,
    "start_time": "2022-05-02T18:10:43.104Z"
   },
   {
    "duration": 13,
    "start_time": "2022-05-02T18:10:43.110Z"
   },
   {
    "duration": 6,
    "start_time": "2022-05-02T18:10:43.124Z"
   },
   {
    "duration": 10,
    "start_time": "2022-05-02T18:10:43.131Z"
   },
   {
    "duration": 11,
    "start_time": "2022-05-02T18:10:43.143Z"
   },
   {
    "duration": 45,
    "start_time": "2022-05-02T18:10:43.155Z"
   },
   {
    "duration": 5,
    "start_time": "2022-05-02T18:10:43.202Z"
   },
   {
    "duration": 6,
    "start_time": "2022-05-02T18:10:43.209Z"
   },
   {
    "duration": 5,
    "start_time": "2022-05-02T18:10:43.217Z"
   },
   {
    "duration": 8,
    "start_time": "2022-05-02T18:10:43.224Z"
   },
   {
    "duration": 59,
    "start_time": "2022-05-02T18:10:43.234Z"
   },
   {
    "duration": 172,
    "start_time": "2022-05-02T18:10:43.295Z"
   },
   {
    "duration": 27556,
    "start_time": "2022-05-02T18:10:43.469Z"
   },
   {
    "duration": 175,
    "start_time": "2022-05-02T18:11:11.028Z"
   },
   {
    "duration": 7,
    "start_time": "2022-05-02T18:11:11.294Z"
   },
   {
    "duration": 184,
    "start_time": "2022-05-02T18:11:11.393Z"
   },
   {
    "duration": 6855,
    "start_time": "2022-05-02T18:11:11.579Z"
   },
   {
    "duration": 159,
    "start_time": "2022-05-02T18:11:18.436Z"
   },
   {
    "duration": 96,
    "start_time": "2022-05-02T18:11:18.597Z"
   },
   {
    "duration": 8,
    "start_time": "2022-05-02T18:11:18.695Z"
   },
   {
    "duration": 9,
    "start_time": "2022-05-02T18:11:18.705Z"
   },
   {
    "duration": 142,
    "start_time": "2022-05-02T18:11:18.715Z"
   },
   {
    "duration": 312,
    "start_time": "2022-05-02T18:11:18.859Z"
   },
   {
    "duration": 47380,
    "start_time": "2022-05-02T18:11:19.173Z"
   },
   {
    "duration": 842,
    "start_time": "2022-05-02T18:12:06.555Z"
   },
   {
    "duration": 95,
    "start_time": "2022-05-02T18:12:07.400Z"
   },
   {
    "duration": 124,
    "start_time": "2022-05-02T18:12:07.497Z"
   },
   {
    "duration": 0,
    "start_time": "2022-05-02T18:12:07.623Z"
   },
   {
    "duration": 0,
    "start_time": "2022-05-02T18:12:07.624Z"
   },
   {
    "duration": 0,
    "start_time": "2022-05-02T18:12:07.625Z"
   },
   {
    "duration": 0,
    "start_time": "2022-05-02T18:12:07.626Z"
   },
   {
    "duration": 0,
    "start_time": "2022-05-02T18:12:07.627Z"
   },
   {
    "duration": 0,
    "start_time": "2022-05-02T18:12:07.628Z"
   },
   {
    "duration": 0,
    "start_time": "2022-05-02T18:12:07.629Z"
   },
   {
    "duration": 0,
    "start_time": "2022-05-02T18:12:07.630Z"
   },
   {
    "duration": 0,
    "start_time": "2022-05-02T18:12:07.631Z"
   },
   {
    "duration": 6620,
    "start_time": "2022-05-02T18:12:15.453Z"
   },
   {
    "duration": 48517,
    "start_time": "2022-05-02T18:12:49.481Z"
   },
   {
    "duration": 4,
    "start_time": "2022-05-02T18:14:51.365Z"
   },
   {
    "duration": 10,
    "start_time": "2022-05-02T18:14:52.564Z"
   },
   {
    "duration": 9,
    "start_time": "2022-05-02T18:15:13.626Z"
   },
   {
    "duration": 4,
    "start_time": "2022-05-02T18:16:04.210Z"
   },
   {
    "duration": 10,
    "start_time": "2022-05-02T18:16:09.937Z"
   },
   {
    "duration": 10,
    "start_time": "2022-05-02T18:19:47.712Z"
   },
   {
    "duration": 124,
    "start_time": "2022-05-02T18:19:51.205Z"
   },
   {
    "duration": 3,
    "start_time": "2022-05-02T18:46:41.482Z"
   },
   {
    "duration": 1542,
    "start_time": "2022-05-02T18:46:54.327Z"
   },
   {
    "duration": 28,
    "start_time": "2022-05-02T18:46:55.871Z"
   },
   {
    "duration": 12,
    "start_time": "2022-05-02T18:46:55.901Z"
   },
   {
    "duration": 15,
    "start_time": "2022-05-02T18:46:55.916Z"
   },
   {
    "duration": 36,
    "start_time": "2022-05-02T18:46:55.933Z"
   },
   {
    "duration": 3,
    "start_time": "2022-05-02T18:46:55.992Z"
   },
   {
    "duration": 15,
    "start_time": "2022-05-02T18:46:55.997Z"
   },
   {
    "duration": 9,
    "start_time": "2022-05-02T18:46:56.013Z"
   },
   {
    "duration": 139,
    "start_time": "2022-05-02T18:46:56.023Z"
   },
   {
    "duration": 6,
    "start_time": "2022-05-02T18:46:56.164Z"
   },
   {
    "duration": 125,
    "start_time": "2022-05-02T18:46:56.172Z"
   },
   {
    "duration": 26,
    "start_time": "2022-05-02T18:46:56.298Z"
   },
   {
    "duration": 6,
    "start_time": "2022-05-02T18:46:56.325Z"
   },
   {
    "duration": 3,
    "start_time": "2022-05-02T18:46:56.333Z"
   },
   {
    "duration": 5,
    "start_time": "2022-05-02T18:46:56.338Z"
   },
   {
    "duration": 13,
    "start_time": "2022-05-02T18:46:56.344Z"
   },
   {
    "duration": 37,
    "start_time": "2022-05-02T18:46:56.359Z"
   },
   {
    "duration": 7,
    "start_time": "2022-05-02T18:46:56.398Z"
   },
   {
    "duration": 12,
    "start_time": "2022-05-02T18:46:56.407Z"
   },
   {
    "duration": 12,
    "start_time": "2022-05-02T18:46:56.421Z"
   },
   {
    "duration": 6,
    "start_time": "2022-05-02T18:46:56.435Z"
   },
   {
    "duration": 8,
    "start_time": "2022-05-02T18:46:56.442Z"
   },
   {
    "duration": 45,
    "start_time": "2022-05-02T18:46:56.451Z"
   },
   {
    "duration": 10,
    "start_time": "2022-05-02T18:46:56.498Z"
   },
   {
    "duration": 27,
    "start_time": "2022-05-02T18:46:56.510Z"
   },
   {
    "duration": 178,
    "start_time": "2022-05-02T18:46:56.539Z"
   },
   {
    "duration": 28345,
    "start_time": "2022-05-02T18:46:56.719Z"
   },
   {
    "duration": 229,
    "start_time": "2022-05-02T18:47:25.067Z"
   },
   {
    "duration": 96,
    "start_time": "2022-05-02T18:47:25.298Z"
   },
   {
    "duration": 272,
    "start_time": "2022-05-02T18:47:25.396Z"
   },
   {
    "duration": 6857,
    "start_time": "2022-05-02T18:47:25.670Z"
   },
   {
    "duration": 377,
    "start_time": "2022-05-02T18:47:32.529Z"
   },
   {
    "duration": 8,
    "start_time": "2022-05-02T18:47:32.994Z"
   },
   {
    "duration": 8,
    "start_time": "2022-05-02T18:47:33.004Z"
   },
   {
    "duration": 8,
    "start_time": "2022-05-02T18:47:33.014Z"
   },
   {
    "duration": 140,
    "start_time": "2022-05-02T18:47:33.024Z"
   },
   {
    "duration": 307,
    "start_time": "2022-05-02T18:47:33.165Z"
   },
   {
    "duration": 47087,
    "start_time": "2022-05-02T18:47:33.474Z"
   },
   {
    "duration": 839,
    "start_time": "2022-05-02T18:48:20.563Z"
   },
   {
    "duration": 4,
    "start_time": "2022-05-02T18:48:21.494Z"
   },
   {
    "duration": 246,
    "start_time": "2022-05-02T18:48:21.499Z"
   },
   {
    "duration": 0,
    "start_time": "2022-05-02T18:48:21.747Z"
   },
   {
    "duration": 0,
    "start_time": "2022-05-02T18:48:21.748Z"
   },
   {
    "duration": 0,
    "start_time": "2022-05-02T18:48:21.749Z"
   },
   {
    "duration": 0,
    "start_time": "2022-05-02T18:48:21.750Z"
   },
   {
    "duration": 0,
    "start_time": "2022-05-02T18:48:21.751Z"
   },
   {
    "duration": 0,
    "start_time": "2022-05-02T18:48:21.753Z"
   },
   {
    "duration": 0,
    "start_time": "2022-05-02T18:48:21.753Z"
   },
   {
    "duration": 0,
    "start_time": "2022-05-02T18:48:21.754Z"
   },
   {
    "duration": 14,
    "start_time": "2022-05-02T18:49:07.269Z"
   },
   {
    "duration": 4,
    "start_time": "2022-05-02T18:51:49.592Z"
   },
   {
    "duration": 13,
    "start_time": "2022-05-02T18:51:50.656Z"
   },
   {
    "duration": 1563,
    "start_time": "2022-05-02T18:54:27.648Z"
   },
   {
    "duration": 29,
    "start_time": "2022-05-02T18:54:29.213Z"
   },
   {
    "duration": 15,
    "start_time": "2022-05-02T18:54:29.244Z"
   },
   {
    "duration": 20,
    "start_time": "2022-05-02T18:54:29.262Z"
   },
   {
    "duration": 39,
    "start_time": "2022-05-02T18:54:29.293Z"
   },
   {
    "duration": 3,
    "start_time": "2022-05-02T18:54:29.334Z"
   },
   {
    "duration": 15,
    "start_time": "2022-05-02T18:54:29.339Z"
   },
   {
    "duration": 8,
    "start_time": "2022-05-02T18:54:29.356Z"
   },
   {
    "duration": 154,
    "start_time": "2022-05-02T18:54:29.366Z"
   },
   {
    "duration": 6,
    "start_time": "2022-05-02T18:54:29.523Z"
   },
   {
    "duration": 136,
    "start_time": "2022-05-02T18:54:29.531Z"
   },
   {
    "duration": 39,
    "start_time": "2022-05-02T18:54:29.668Z"
   },
   {
    "duration": 5,
    "start_time": "2022-05-02T18:54:29.709Z"
   },
   {
    "duration": 4,
    "start_time": "2022-05-02T18:54:29.716Z"
   },
   {
    "duration": 6,
    "start_time": "2022-05-02T18:54:29.722Z"
   },
   {
    "duration": 17,
    "start_time": "2022-05-02T18:54:29.730Z"
   },
   {
    "duration": 6,
    "start_time": "2022-05-02T18:54:29.749Z"
   },
   {
    "duration": 7,
    "start_time": "2022-05-02T18:54:29.757Z"
   },
   {
    "duration": 36,
    "start_time": "2022-05-02T18:54:29.766Z"
   },
   {
    "duration": 11,
    "start_time": "2022-05-02T18:54:29.804Z"
   },
   {
    "duration": 7,
    "start_time": "2022-05-02T18:54:29.817Z"
   },
   {
    "duration": 10,
    "start_time": "2022-05-02T18:54:29.825Z"
   },
   {
    "duration": 11,
    "start_time": "2022-05-02T18:54:29.837Z"
   },
   {
    "duration": 14,
    "start_time": "2022-05-02T18:54:29.850Z"
   },
   {
    "duration": 53,
    "start_time": "2022-05-02T18:54:29.866Z"
   },
   {
    "duration": 196,
    "start_time": "2022-05-02T18:54:29.921Z"
   },
   {
    "duration": 29416,
    "start_time": "2022-05-02T18:54:30.119Z"
   },
   {
    "duration": 263,
    "start_time": "2022-05-02T18:54:59.539Z"
   },
   {
    "duration": 8,
    "start_time": "2022-05-02T18:54:59.892Z"
   },
   {
    "duration": 287,
    "start_time": "2022-05-02T18:54:59.902Z"
   },
   {
    "duration": 6902,
    "start_time": "2022-05-02T18:55:00.192Z"
   },
   {
    "duration": 199,
    "start_time": "2022-05-02T18:55:07.096Z"
   },
   {
    "duration": 97,
    "start_time": "2022-05-02T18:55:07.297Z"
   },
   {
    "duration": 138,
    "start_time": "2022-05-02T18:55:07.396Z"
   },
   {
    "duration": 0,
    "start_time": "2022-05-02T18:55:07.535Z"
   },
   {
    "duration": 0,
    "start_time": "2022-05-02T18:55:07.537Z"
   },
   {
    "duration": 0,
    "start_time": "2022-05-02T18:55:07.538Z"
   },
   {
    "duration": 0,
    "start_time": "2022-05-02T18:55:07.539Z"
   },
   {
    "duration": 0,
    "start_time": "2022-05-02T18:55:07.540Z"
   },
   {
    "duration": 0,
    "start_time": "2022-05-02T18:55:07.541Z"
   },
   {
    "duration": 0,
    "start_time": "2022-05-02T18:55:07.542Z"
   },
   {
    "duration": 0,
    "start_time": "2022-05-02T18:55:07.544Z"
   },
   {
    "duration": 0,
    "start_time": "2022-05-02T18:55:07.545Z"
   },
   {
    "duration": 0,
    "start_time": "2022-05-02T18:55:07.546Z"
   },
   {
    "duration": 0,
    "start_time": "2022-05-02T18:55:07.547Z"
   },
   {
    "duration": 0,
    "start_time": "2022-05-02T18:55:07.548Z"
   },
   {
    "duration": 6,
    "start_time": "2022-05-02T18:55:48.603Z"
   },
   {
    "duration": 18,
    "start_time": "2022-05-02T19:00:03.411Z"
   },
   {
    "duration": 11,
    "start_time": "2022-05-02T19:06:38.774Z"
   },
   {
    "duration": 1512,
    "start_time": "2022-05-02T19:06:52.014Z"
   },
   {
    "duration": 23,
    "start_time": "2022-05-02T19:06:53.528Z"
   },
   {
    "duration": 13,
    "start_time": "2022-05-02T19:06:53.552Z"
   },
   {
    "duration": 29,
    "start_time": "2022-05-02T19:06:53.567Z"
   },
   {
    "duration": 37,
    "start_time": "2022-05-02T19:06:53.598Z"
   },
   {
    "duration": 3,
    "start_time": "2022-05-02T19:06:53.636Z"
   },
   {
    "duration": 14,
    "start_time": "2022-05-02T19:06:53.641Z"
   },
   {
    "duration": 5,
    "start_time": "2022-05-02T19:06:53.656Z"
   },
   {
    "duration": 162,
    "start_time": "2022-05-02T19:06:53.663Z"
   },
   {
    "duration": 5,
    "start_time": "2022-05-02T19:06:53.828Z"
   },
   {
    "duration": 131,
    "start_time": "2022-05-02T19:06:53.835Z"
   },
   {
    "duration": 38,
    "start_time": "2022-05-02T19:06:53.968Z"
   },
   {
    "duration": 6,
    "start_time": "2022-05-02T19:06:54.007Z"
   },
   {
    "duration": 6,
    "start_time": "2022-05-02T19:06:54.014Z"
   },
   {
    "duration": 5,
    "start_time": "2022-05-02T19:06:54.021Z"
   },
   {
    "duration": 13,
    "start_time": "2022-05-02T19:06:54.028Z"
   },
   {
    "duration": 6,
    "start_time": "2022-05-02T19:06:54.043Z"
   },
   {
    "duration": 7,
    "start_time": "2022-05-02T19:06:54.050Z"
   },
   {
    "duration": 39,
    "start_time": "2022-05-02T19:06:54.059Z"
   },
   {
    "duration": 11,
    "start_time": "2022-05-02T19:06:54.100Z"
   },
   {
    "duration": 5,
    "start_time": "2022-05-02T19:06:54.112Z"
   },
   {
    "duration": 10,
    "start_time": "2022-05-02T19:06:54.118Z"
   },
   {
    "duration": 9,
    "start_time": "2022-05-02T19:06:54.130Z"
   },
   {
    "duration": 10,
    "start_time": "2022-05-02T19:06:54.141Z"
   },
   {
    "duration": 44,
    "start_time": "2022-05-02T19:06:54.152Z"
   },
   {
    "duration": 197,
    "start_time": "2022-05-02T19:06:54.197Z"
   },
   {
    "duration": 27556,
    "start_time": "2022-05-02T19:06:54.395Z"
   },
   {
    "duration": 538,
    "start_time": "2022-05-02T19:07:21.955Z"
   },
   {
    "duration": 5,
    "start_time": "2022-05-02T19:07:22.495Z"
   },
   {
    "duration": 232,
    "start_time": "2022-05-02T19:07:22.502Z"
   },
   {
    "duration": 6744,
    "start_time": "2022-05-02T19:07:22.736Z"
   },
   {
    "duration": 124,
    "start_time": "2022-05-02T19:07:29.482Z"
   },
   {
    "duration": 202,
    "start_time": "2022-05-02T19:07:29.693Z"
   },
   {
    "duration": 0,
    "start_time": "2022-05-02T19:07:29.896Z"
   },
   {
    "duration": 0,
    "start_time": "2022-05-02T19:07:29.897Z"
   },
   {
    "duration": 0,
    "start_time": "2022-05-02T19:07:29.898Z"
   },
   {
    "duration": 0,
    "start_time": "2022-05-02T19:07:29.899Z"
   },
   {
    "duration": 0,
    "start_time": "2022-05-02T19:07:29.900Z"
   },
   {
    "duration": 0,
    "start_time": "2022-05-02T19:07:29.901Z"
   },
   {
    "duration": 0,
    "start_time": "2022-05-02T19:07:29.902Z"
   },
   {
    "duration": 0,
    "start_time": "2022-05-02T19:07:29.903Z"
   },
   {
    "duration": 0,
    "start_time": "2022-05-02T19:07:29.904Z"
   },
   {
    "duration": 0,
    "start_time": "2022-05-02T19:07:29.905Z"
   },
   {
    "duration": 0,
    "start_time": "2022-05-02T19:07:29.906Z"
   },
   {
    "duration": 0,
    "start_time": "2022-05-02T19:07:29.907Z"
   },
   {
    "duration": 0,
    "start_time": "2022-05-02T19:07:29.907Z"
   },
   {
    "duration": 1512,
    "start_time": "2022-05-02T19:10:57.461Z"
   },
   {
    "duration": 23,
    "start_time": "2022-05-02T19:10:58.975Z"
   },
   {
    "duration": 13,
    "start_time": "2022-05-02T19:10:59.000Z"
   },
   {
    "duration": 18,
    "start_time": "2022-05-02T19:10:59.015Z"
   },
   {
    "duration": 36,
    "start_time": "2022-05-02T19:10:59.034Z"
   },
   {
    "duration": 2,
    "start_time": "2022-05-02T19:10:59.072Z"
   },
   {
    "duration": 11,
    "start_time": "2022-05-02T19:10:59.092Z"
   },
   {
    "duration": 5,
    "start_time": "2022-05-02T19:10:59.104Z"
   },
   {
    "duration": 140,
    "start_time": "2022-05-02T19:10:59.111Z"
   },
   {
    "duration": 6,
    "start_time": "2022-05-02T19:10:59.255Z"
   },
   {
    "duration": 132,
    "start_time": "2022-05-02T19:10:59.262Z"
   },
   {
    "duration": 28,
    "start_time": "2022-05-02T19:10:59.396Z"
   },
   {
    "duration": 5,
    "start_time": "2022-05-02T19:10:59.427Z"
   },
   {
    "duration": 6,
    "start_time": "2022-05-02T19:10:59.434Z"
   },
   {
    "duration": 7,
    "start_time": "2022-05-02T19:10:59.441Z"
   },
   {
    "duration": 12,
    "start_time": "2022-05-02T19:10:59.449Z"
   },
   {
    "duration": 34,
    "start_time": "2022-05-02T19:10:59.462Z"
   },
   {
    "duration": 8,
    "start_time": "2022-05-02T19:10:59.498Z"
   },
   {
    "duration": 11,
    "start_time": "2022-05-02T19:10:59.508Z"
   },
   {
    "duration": 11,
    "start_time": "2022-05-02T19:10:59.521Z"
   },
   {
    "duration": 6,
    "start_time": "2022-05-02T19:10:59.533Z"
   },
   {
    "duration": 7,
    "start_time": "2022-05-02T19:10:59.540Z"
   },
   {
    "duration": 9,
    "start_time": "2022-05-02T19:10:59.548Z"
   },
   {
    "duration": 38,
    "start_time": "2022-05-02T19:10:59.558Z"
   },
   {
    "duration": 26,
    "start_time": "2022-05-02T19:10:59.598Z"
   },
   {
    "duration": 181,
    "start_time": "2022-05-02T19:10:59.626Z"
   },
   {
    "duration": 27320,
    "start_time": "2022-05-02T19:10:59.809Z"
   },
   {
    "duration": 260,
    "start_time": "2022-05-02T19:11:27.133Z"
   },
   {
    "duration": 97,
    "start_time": "2022-05-02T19:11:27.395Z"
   },
   {
    "duration": 185,
    "start_time": "2022-05-02T19:11:27.494Z"
   },
   {
    "duration": 6557,
    "start_time": "2022-05-02T19:11:27.681Z"
   },
   {
    "duration": 253,
    "start_time": "2022-05-02T19:11:34.240Z"
   },
   {
    "duration": 105,
    "start_time": "2022-05-02T19:11:34.495Z"
   },
   {
    "duration": 113,
    "start_time": "2022-05-02T19:11:34.602Z"
   },
   {
    "duration": 236,
    "start_time": "2022-05-02T19:11:34.717Z"
   },
   {
    "duration": 36571,
    "start_time": "2022-05-02T19:11:34.954Z"
   },
   {
    "duration": 268,
    "start_time": "2022-05-02T19:12:11.527Z"
   },
   {
    "duration": 96,
    "start_time": "2022-05-02T19:12:11.797Z"
   },
   {
    "duration": 125,
    "start_time": "2022-05-02T19:12:11.895Z"
   },
   {
    "duration": 0,
    "start_time": "2022-05-02T19:12:12.022Z"
   },
   {
    "duration": 0,
    "start_time": "2022-05-02T19:12:12.023Z"
   },
   {
    "duration": 0,
    "start_time": "2022-05-02T19:12:12.024Z"
   },
   {
    "duration": 0,
    "start_time": "2022-05-02T19:12:12.026Z"
   },
   {
    "duration": 0,
    "start_time": "2022-05-02T19:12:12.027Z"
   },
   {
    "duration": 0,
    "start_time": "2022-05-02T19:12:12.028Z"
   },
   {
    "duration": 1445,
    "start_time": "2022-05-02T19:13:33.736Z"
   },
   {
    "duration": 24,
    "start_time": "2022-05-02T19:13:35.183Z"
   },
   {
    "duration": 13,
    "start_time": "2022-05-02T19:13:35.208Z"
   },
   {
    "duration": 16,
    "start_time": "2022-05-02T19:13:35.223Z"
   },
   {
    "duration": 52,
    "start_time": "2022-05-02T19:13:35.241Z"
   },
   {
    "duration": 3,
    "start_time": "2022-05-02T19:13:35.295Z"
   },
   {
    "duration": 14,
    "start_time": "2022-05-02T19:13:35.299Z"
   },
   {
    "duration": 5,
    "start_time": "2022-05-02T19:13:35.315Z"
   },
   {
    "duration": 145,
    "start_time": "2022-05-02T19:13:35.322Z"
   },
   {
    "duration": 6,
    "start_time": "2022-05-02T19:13:35.470Z"
   },
   {
    "duration": 130,
    "start_time": "2022-05-02T19:13:35.477Z"
   },
   {
    "duration": 25,
    "start_time": "2022-05-02T19:13:35.608Z"
   },
   {
    "duration": 5,
    "start_time": "2022-05-02T19:13:35.635Z"
   },
   {
    "duration": 6,
    "start_time": "2022-05-02T19:13:35.641Z"
   },
   {
    "duration": 6,
    "start_time": "2022-05-02T19:13:35.648Z"
   },
   {
    "duration": 11,
    "start_time": "2022-05-02T19:13:35.655Z"
   },
   {
    "duration": 5,
    "start_time": "2022-05-02T19:13:35.692Z"
   },
   {
    "duration": 9,
    "start_time": "2022-05-02T19:13:35.699Z"
   },
   {
    "duration": 11,
    "start_time": "2022-05-02T19:13:35.709Z"
   },
   {
    "duration": 10,
    "start_time": "2022-05-02T19:13:35.721Z"
   },
   {
    "duration": 4,
    "start_time": "2022-05-02T19:13:35.733Z"
   },
   {
    "duration": 8,
    "start_time": "2022-05-02T19:13:35.739Z"
   },
   {
    "duration": 9,
    "start_time": "2022-05-02T19:13:35.748Z"
   },
   {
    "duration": 10,
    "start_time": "2022-05-02T19:13:35.758Z"
   },
   {
    "duration": 25,
    "start_time": "2022-05-02T19:13:35.792Z"
   },
   {
    "duration": 184,
    "start_time": "2022-05-02T19:13:35.818Z"
   },
   {
    "duration": 27070,
    "start_time": "2022-05-02T19:13:36.004Z"
   },
   {
    "duration": 127,
    "start_time": "2022-05-02T19:14:03.077Z"
   },
   {
    "duration": 91,
    "start_time": "2022-05-02T19:14:03.206Z"
   },
   {
    "duration": 267,
    "start_time": "2022-05-02T19:14:03.301Z"
   },
   {
    "duration": 6460,
    "start_time": "2022-05-02T19:14:03.570Z"
   },
   {
    "duration": 71,
    "start_time": "2022-05-02T19:14:10.031Z"
   },
   {
    "duration": 100,
    "start_time": "2022-05-02T19:14:10.194Z"
   },
   {
    "duration": 119,
    "start_time": "2022-05-02T19:14:10.296Z"
   },
   {
    "duration": 236,
    "start_time": "2022-05-02T19:14:10.417Z"
   },
   {
    "duration": 36770,
    "start_time": "2022-05-02T19:14:10.655Z"
   },
   {
    "duration": 269,
    "start_time": "2022-05-02T19:14:47.426Z"
   },
   {
    "duration": 101,
    "start_time": "2022-05-02T19:14:47.697Z"
   },
   {
    "duration": 120,
    "start_time": "2022-05-02T19:14:47.800Z"
   },
   {
    "duration": 115,
    "start_time": "2022-05-02T19:14:47.922Z"
   },
   {
    "duration": 13460,
    "start_time": "2022-05-02T19:14:48.039Z"
   },
   {
    "duration": 193,
    "start_time": "2022-05-02T19:15:01.501Z"
   },
   {
    "duration": 205,
    "start_time": "2022-05-02T19:15:01.697Z"
   },
   {
    "duration": 0,
    "start_time": "2022-05-02T19:15:01.904Z"
   },
   {
    "duration": 11,
    "start_time": "2022-05-02T19:16:48.418Z"
   },
   {
    "duration": 117,
    "start_time": "2022-05-02T19:16:50.709Z"
   },
   {
    "duration": 13,
    "start_time": "2022-05-02T19:16:59.673Z"
   },
   {
    "duration": 9,
    "start_time": "2022-05-02T19:17:20.745Z"
   },
   {
    "duration": 108,
    "start_time": "2022-05-02T19:17:22.349Z"
   },
   {
    "duration": 15,
    "start_time": "2022-05-02T19:29:24.191Z"
   },
   {
    "duration": 17,
    "start_time": "2022-05-02T19:30:15.661Z"
   },
   {
    "duration": 11,
    "start_time": "2022-05-02T19:30:41.652Z"
   },
   {
    "duration": 117,
    "start_time": "2022-05-02T19:30:46.545Z"
   },
   {
    "duration": 16402,
    "start_time": "2022-05-02T19:49:39.747Z"
   },
   {
    "duration": 22816,
    "start_time": "2022-05-02T19:50:16.385Z"
   },
   {
    "duration": 16640,
    "start_time": "2022-05-02T19:50:48.001Z"
   },
   {
    "duration": 11,
    "start_time": "2022-05-02T20:07:58.663Z"
   },
   {
    "duration": 12,
    "start_time": "2022-05-02T20:11:11.245Z"
   },
   {
    "duration": 7,
    "start_time": "2022-05-02T20:24:46.208Z"
   },
   {
    "duration": 12,
    "start_time": "2022-05-02T20:24:54.320Z"
   },
   {
    "duration": 11,
    "start_time": "2022-05-02T20:26:49.709Z"
   },
   {
    "duration": 11,
    "start_time": "2022-05-02T20:28:03.474Z"
   },
   {
    "duration": 30,
    "start_time": "2022-05-02T20:34:57.256Z"
   },
   {
    "duration": 28,
    "start_time": "2022-05-02T20:35:01.668Z"
   },
   {
    "duration": 34,
    "start_time": "2022-05-02T20:35:05.238Z"
   },
   {
    "duration": 179,
    "start_time": "2022-05-02T20:41:51.770Z"
   },
   {
    "duration": 7,
    "start_time": "2022-05-02T20:42:40.214Z"
   },
   {
    "duration": 204,
    "start_time": "2022-05-02T20:42:45.386Z"
   },
   {
    "duration": 13,
    "start_time": "2022-05-02T20:43:07.738Z"
   },
   {
    "duration": 13,
    "start_time": "2022-05-02T20:43:26.433Z"
   },
   {
    "duration": 15,
    "start_time": "2022-05-02T20:43:33.552Z"
   },
   {
    "duration": 31,
    "start_time": "2022-05-02T20:43:38.226Z"
   },
   {
    "duration": 7271,
    "start_time": "2022-05-02T20:45:36.615Z"
   },
   {
    "duration": 35,
    "start_time": "2022-05-02T20:45:54.505Z"
   },
   {
    "duration": 1661,
    "start_time": "2022-05-02T20:46:28.853Z"
   },
   {
    "duration": 28,
    "start_time": "2022-05-02T20:46:30.516Z"
   },
   {
    "duration": 13,
    "start_time": "2022-05-02T20:46:30.546Z"
   },
   {
    "duration": 43,
    "start_time": "2022-05-02T20:46:30.562Z"
   },
   {
    "duration": 41,
    "start_time": "2022-05-02T20:46:30.608Z"
   },
   {
    "duration": 3,
    "start_time": "2022-05-02T20:46:30.651Z"
   },
   {
    "duration": 20,
    "start_time": "2022-05-02T20:46:30.656Z"
   },
   {
    "duration": 15,
    "start_time": "2022-05-02T20:46:30.679Z"
   },
   {
    "duration": 162,
    "start_time": "2022-05-02T20:46:30.696Z"
   },
   {
    "duration": 7,
    "start_time": "2022-05-02T20:46:30.861Z"
   },
   {
    "duration": 139,
    "start_time": "2022-05-02T20:46:30.870Z"
   },
   {
    "duration": 29,
    "start_time": "2022-05-02T20:46:31.011Z"
   },
   {
    "duration": 7,
    "start_time": "2022-05-02T20:46:31.041Z"
   },
   {
    "duration": 12,
    "start_time": "2022-05-02T20:46:31.049Z"
   },
   {
    "duration": 10,
    "start_time": "2022-05-02T20:46:31.063Z"
   },
   {
    "duration": 44,
    "start_time": "2022-05-02T20:46:31.075Z"
   },
   {
    "duration": 13,
    "start_time": "2022-05-02T20:46:31.121Z"
   },
   {
    "duration": 17,
    "start_time": "2022-05-02T20:46:31.136Z"
   },
   {
    "duration": 18,
    "start_time": "2022-05-02T20:46:31.154Z"
   },
   {
    "duration": 16,
    "start_time": "2022-05-02T20:46:31.174Z"
   },
   {
    "duration": 24,
    "start_time": "2022-05-02T20:46:31.192Z"
   },
   {
    "duration": 25,
    "start_time": "2022-05-02T20:46:31.218Z"
   },
   {
    "duration": 25,
    "start_time": "2022-05-02T20:46:31.245Z"
   },
   {
    "duration": 20,
    "start_time": "2022-05-02T20:46:31.272Z"
   },
   {
    "duration": 44,
    "start_time": "2022-05-02T20:46:31.294Z"
   },
   {
    "duration": 188,
    "start_time": "2022-05-02T20:46:31.341Z"
   },
   {
    "duration": 31062,
    "start_time": "2022-05-02T20:46:31.531Z"
   },
   {
    "duration": 214,
    "start_time": "2022-05-02T20:47:02.598Z"
   },
   {
    "duration": 18,
    "start_time": "2022-05-02T20:47:02.898Z"
   },
   {
    "duration": 291,
    "start_time": "2022-05-02T20:47:02.918Z"
   },
   {
    "duration": 7228,
    "start_time": "2022-05-02T20:47:03.211Z"
   },
   {
    "duration": 256,
    "start_time": "2022-05-02T20:47:10.440Z"
   },
   {
    "duration": 109,
    "start_time": "2022-05-02T20:47:10.699Z"
   },
   {
    "duration": 134,
    "start_time": "2022-05-02T20:47:10.812Z"
   },
   {
    "duration": 351,
    "start_time": "2022-05-02T20:47:10.948Z"
   },
   {
    "duration": 41201,
    "start_time": "2022-05-02T20:47:11.301Z"
   },
   {
    "duration": 307,
    "start_time": "2022-05-02T20:47:52.505Z"
   },
   {
    "duration": 96,
    "start_time": "2022-05-02T20:47:52.815Z"
   },
   {
    "duration": 133,
    "start_time": "2022-05-02T20:47:52.913Z"
   },
   {
    "duration": 131,
    "start_time": "2022-05-02T20:47:53.048Z"
   },
   {
    "duration": 17361,
    "start_time": "2022-05-02T20:47:53.181Z"
   },
   {
    "duration": 256,
    "start_time": "2022-05-02T20:48:10.544Z"
   },
   {
    "duration": 6,
    "start_time": "2022-05-02T20:48:10.807Z"
   },
   {
    "duration": 19,
    "start_time": "2022-05-02T20:48:10.893Z"
   },
   {
    "duration": 12,
    "start_time": "2022-05-02T20:48:10.914Z"
   },
   {
    "duration": 11,
    "start_time": "2022-05-02T20:48:10.928Z"
   },
   {
    "duration": 61,
    "start_time": "2022-05-02T20:48:10.940Z"
   },
   {
    "duration": 39,
    "start_time": "2022-05-02T20:48:11.004Z"
   },
   {
    "duration": 67,
    "start_time": "2022-05-02T20:48:11.044Z"
   },
   {
    "duration": 7077,
    "start_time": "2022-05-02T20:49:22.169Z"
   },
   {
    "duration": 193,
    "start_time": "2022-05-02T20:49:47.190Z"
   },
   {
    "duration": 7122,
    "start_time": "2022-05-02T20:49:54.333Z"
   },
   {
    "duration": 18956,
    "start_time": "2022-05-02T20:50:12.805Z"
   },
   {
    "duration": 7048,
    "start_time": "2022-05-02T20:50:48.479Z"
   },
   {
    "duration": 1624,
    "start_time": "2022-05-02T20:52:11.691Z"
   },
   {
    "duration": 23,
    "start_time": "2022-05-02T20:52:13.317Z"
   },
   {
    "duration": 13,
    "start_time": "2022-05-02T20:52:13.342Z"
   },
   {
    "duration": 17,
    "start_time": "2022-05-02T20:52:13.358Z"
   },
   {
    "duration": 59,
    "start_time": "2022-05-02T20:52:13.376Z"
   },
   {
    "duration": 3,
    "start_time": "2022-05-02T20:52:13.437Z"
   },
   {
    "duration": 13,
    "start_time": "2022-05-02T20:52:13.442Z"
   },
   {
    "duration": 6,
    "start_time": "2022-05-02T20:52:13.456Z"
   },
   {
    "duration": 169,
    "start_time": "2022-05-02T20:52:13.463Z"
   },
   {
    "duration": 6,
    "start_time": "2022-05-02T20:52:13.635Z"
   },
   {
    "duration": 137,
    "start_time": "2022-05-02T20:52:13.642Z"
   },
   {
    "duration": 43,
    "start_time": "2022-05-02T20:52:13.781Z"
   },
   {
    "duration": 6,
    "start_time": "2022-05-02T20:52:13.825Z"
   },
   {
    "duration": 9,
    "start_time": "2022-05-02T20:52:13.832Z"
   },
   {
    "duration": 6,
    "start_time": "2022-05-02T20:52:13.842Z"
   },
   {
    "duration": 13,
    "start_time": "2022-05-02T20:52:13.850Z"
   },
   {
    "duration": 5,
    "start_time": "2022-05-02T20:52:13.865Z"
   },
   {
    "duration": 27,
    "start_time": "2022-05-02T20:52:13.871Z"
   },
   {
    "duration": 12,
    "start_time": "2022-05-02T20:52:13.901Z"
   },
   {
    "duration": 10,
    "start_time": "2022-05-02T20:52:13.915Z"
   },
   {
    "duration": 7,
    "start_time": "2022-05-02T20:52:13.927Z"
   },
   {
    "duration": 9,
    "start_time": "2022-05-02T20:52:13.936Z"
   },
   {
    "duration": 8,
    "start_time": "2022-05-02T20:52:13.947Z"
   },
   {
    "duration": 10,
    "start_time": "2022-05-02T20:52:13.956Z"
   },
   {
    "duration": 54,
    "start_time": "2022-05-02T20:52:13.968Z"
   },
   {
    "duration": 211,
    "start_time": "2022-05-02T20:52:14.024Z"
   },
   {
    "duration": 29767,
    "start_time": "2022-05-02T20:52:14.237Z"
   },
   {
    "duration": 304,
    "start_time": "2022-05-02T20:52:44.008Z"
   },
   {
    "duration": 8,
    "start_time": "2022-05-02T20:52:44.394Z"
   },
   {
    "duration": 279,
    "start_time": "2022-05-02T20:52:44.404Z"
   },
   {
    "duration": 7298,
    "start_time": "2022-05-02T20:52:44.685Z"
   },
   {
    "duration": 218,
    "start_time": "2022-05-02T20:52:51.984Z"
   },
   {
    "duration": 110,
    "start_time": "2022-05-02T20:52:52.208Z"
   },
   {
    "duration": 155,
    "start_time": "2022-05-02T20:52:52.320Z"
   },
   {
    "duration": 272,
    "start_time": "2022-05-02T20:52:52.476Z"
   },
   {
    "duration": 43006,
    "start_time": "2022-05-02T20:52:52.750Z"
   },
   {
    "duration": 454,
    "start_time": "2022-05-02T20:53:35.758Z"
   },
   {
    "duration": 97,
    "start_time": "2022-05-02T20:53:36.214Z"
   },
   {
    "duration": 164,
    "start_time": "2022-05-02T20:53:36.313Z"
   },
   {
    "duration": 154,
    "start_time": "2022-05-02T20:53:36.479Z"
   },
   {
    "duration": 18690,
    "start_time": "2022-05-02T20:53:36.635Z"
   },
   {
    "duration": 177,
    "start_time": "2022-05-02T20:53:55.327Z"
   },
   {
    "duration": 104,
    "start_time": "2022-05-02T20:53:55.508Z"
   },
   {
    "duration": 13,
    "start_time": "2022-05-02T20:53:55.613Z"
   },
   {
    "duration": 12,
    "start_time": "2022-05-02T20:53:55.628Z"
   },
   {
    "duration": 65,
    "start_time": "2022-05-02T20:53:55.641Z"
   },
   {
    "duration": 18,
    "start_time": "2022-05-02T20:53:55.708Z"
   },
   {
    "duration": 28,
    "start_time": "2022-05-02T20:53:55.728Z"
   },
   {
    "duration": 40,
    "start_time": "2022-05-02T20:55:09.761Z"
   },
   {
    "duration": 19,
    "start_time": "2022-05-02T20:55:13.313Z"
   },
   {
    "duration": 28,
    "start_time": "2022-05-02T20:55:14.111Z"
   },
   {
    "duration": 48,
    "start_time": "2022-05-02T21:04:01.472Z"
   },
   {
    "duration": 189,
    "start_time": "2022-05-02T21:07:54.982Z"
   },
   {
    "duration": 30472,
    "start_time": "2022-05-02T21:08:19.605Z"
   },
   {
    "duration": 116488,
    "start_time": "2022-05-02T21:09:22.033Z"
   },
   {
    "duration": 421802,
    "start_time": "2022-05-02T21:12:18.753Z"
   },
   {
    "duration": 30110,
    "start_time": "2022-05-02T21:23:09.594Z"
   },
   {
    "duration": 1556,
    "start_time": "2022-05-02T21:24:40.055Z"
   },
   {
    "duration": 23,
    "start_time": "2022-05-02T21:24:41.613Z"
   },
   {
    "duration": 15,
    "start_time": "2022-05-02T21:24:41.638Z"
   },
   {
    "duration": 18,
    "start_time": "2022-05-02T21:24:41.656Z"
   },
   {
    "duration": 55,
    "start_time": "2022-05-02T21:24:41.675Z"
   },
   {
    "duration": 3,
    "start_time": "2022-05-02T21:24:41.731Z"
   },
   {
    "duration": 16,
    "start_time": "2022-05-02T21:24:41.735Z"
   },
   {
    "duration": 7,
    "start_time": "2022-05-02T21:24:41.753Z"
   },
   {
    "duration": 156,
    "start_time": "2022-05-02T21:24:41.762Z"
   },
   {
    "duration": 6,
    "start_time": "2022-05-02T21:24:41.921Z"
   },
   {
    "duration": 126,
    "start_time": "2022-05-02T21:24:41.929Z"
   },
   {
    "duration": 46,
    "start_time": "2022-05-02T21:24:42.057Z"
   },
   {
    "duration": 8,
    "start_time": "2022-05-02T21:24:42.105Z"
   },
   {
    "duration": 4,
    "start_time": "2022-05-02T21:24:42.115Z"
   },
   {
    "duration": 6,
    "start_time": "2022-05-02T21:24:42.120Z"
   },
   {
    "duration": 11,
    "start_time": "2022-05-02T21:24:42.128Z"
   },
   {
    "duration": 7,
    "start_time": "2022-05-02T21:24:42.141Z"
   },
   {
    "duration": 6,
    "start_time": "2022-05-02T21:24:42.150Z"
   },
   {
    "duration": 15,
    "start_time": "2022-05-02T21:24:42.198Z"
   },
   {
    "duration": 11,
    "start_time": "2022-05-02T21:24:42.214Z"
   },
   {
    "duration": 5,
    "start_time": "2022-05-02T21:24:42.227Z"
   },
   {
    "duration": 11,
    "start_time": "2022-05-02T21:24:42.233Z"
   },
   {
    "duration": 10,
    "start_time": "2022-05-02T21:24:42.246Z"
   },
   {
    "duration": 9,
    "start_time": "2022-05-02T21:24:42.257Z"
   },
   {
    "duration": 58,
    "start_time": "2022-05-02T21:24:42.268Z"
   },
   {
    "duration": 191,
    "start_time": "2022-05-02T21:24:42.328Z"
   },
   {
    "duration": 30241,
    "start_time": "2022-05-02T21:24:42.521Z"
   },
   {
    "duration": 544,
    "start_time": "2022-05-02T21:25:12.767Z"
   },
   {
    "duration": 86,
    "start_time": "2022-05-02T21:25:13.314Z"
   },
   {
    "duration": 210,
    "start_time": "2022-05-02T21:25:13.402Z"
   },
   {
    "duration": 30394,
    "start_time": "2022-05-02T21:25:13.614Z"
   },
   {
    "duration": 190,
    "start_time": "2022-05-02T21:25:44.010Z"
   },
   {
    "duration": 95,
    "start_time": "2022-05-02T21:25:44.210Z"
   },
   {
    "duration": 123,
    "start_time": "2022-05-02T21:25:44.307Z"
   },
   {
    "duration": 275,
    "start_time": "2022-05-02T21:25:44.432Z"
   },
   {
    "duration": 40972,
    "start_time": "2022-05-02T21:25:44.709Z"
   },
   {
    "duration": 532,
    "start_time": "2022-05-02T21:26:25.683Z"
   },
   {
    "duration": 15,
    "start_time": "2022-05-02T21:26:26.293Z"
   },
   {
    "duration": 135,
    "start_time": "2022-05-02T21:26:26.311Z"
   },
   {
    "duration": 148,
    "start_time": "2022-05-02T21:26:26.448Z"
   },
   {
    "duration": 19263,
    "start_time": "2022-05-02T21:26:26.599Z"
   },
   {
    "duration": 336,
    "start_time": "2022-05-02T21:26:45.864Z"
   },
   {
    "duration": 102,
    "start_time": "2022-05-02T21:26:46.202Z"
   },
   {
    "duration": 17,
    "start_time": "2022-05-02T21:26:46.307Z"
   },
   {
    "duration": 14,
    "start_time": "2022-05-02T21:26:46.325Z"
   },
   {
    "duration": 63,
    "start_time": "2022-05-02T21:26:46.341Z"
   },
   {
    "duration": 35,
    "start_time": "2022-05-02T21:26:46.406Z"
   },
   {
    "duration": 55,
    "start_time": "2022-05-02T21:26:46.442Z"
   },
   {
    "duration": 10,
    "start_time": "2022-05-02T21:38:10.312Z"
   },
   {
    "duration": 12,
    "start_time": "2022-05-02T21:38:11.306Z"
   },
   {
    "duration": 16,
    "start_time": "2022-05-02T21:38:13.882Z"
   },
   {
    "duration": 36,
    "start_time": "2022-05-02T21:38:17.040Z"
   },
   {
    "duration": 34,
    "start_time": "2022-05-02T21:38:18.707Z"
   },
   {
    "duration": 374,
    "start_time": "2022-05-02T21:43:40.306Z"
   },
   {
    "duration": 400,
    "start_time": "2022-05-02T21:44:00.574Z"
   },
   {
    "duration": 383,
    "start_time": "2022-05-02T21:44:04.645Z"
   },
   {
    "duration": 12,
    "start_time": "2022-05-02T21:45:16.426Z"
   },
   {
    "duration": 12,
    "start_time": "2022-05-02T21:45:17.230Z"
   },
   {
    "duration": 11,
    "start_time": "2022-05-02T21:45:18.347Z"
   },
   {
    "duration": 36,
    "start_time": "2022-05-02T21:45:22.906Z"
   },
   {
    "duration": 38,
    "start_time": "2022-05-02T21:45:25.782Z"
   },
   {
    "duration": 41,
    "start_time": "2022-05-02T21:45:27.391Z"
   },
   {
    "duration": 1510,
    "start_time": "2022-05-03T04:47:41.316Z"
   },
   {
    "duration": 29,
    "start_time": "2022-05-03T04:47:42.828Z"
   },
   {
    "duration": 14,
    "start_time": "2022-05-03T04:47:42.859Z"
   },
   {
    "duration": 22,
    "start_time": "2022-05-03T04:47:42.875Z"
   },
   {
    "duration": 40,
    "start_time": "2022-05-03T04:47:42.900Z"
   },
   {
    "duration": 4,
    "start_time": "2022-05-03T04:47:42.941Z"
   },
   {
    "duration": 22,
    "start_time": "2022-05-03T04:47:42.947Z"
   },
   {
    "duration": 23,
    "start_time": "2022-05-03T04:47:42.970Z"
   },
   {
    "duration": 5,
    "start_time": "2022-05-03T04:47:42.995Z"
   },
   {
    "duration": 5,
    "start_time": "2022-05-03T04:47:43.002Z"
   },
   {
    "duration": 5,
    "start_time": "2022-05-03T04:47:43.009Z"
   },
   {
    "duration": 35,
    "start_time": "2022-05-03T04:47:43.015Z"
   },
   {
    "duration": 5,
    "start_time": "2022-05-03T04:47:43.053Z"
   },
   {
    "duration": 30,
    "start_time": "2022-05-03T04:47:43.063Z"
   },
   {
    "duration": 3,
    "start_time": "2022-05-03T04:47:43.095Z"
   },
   {
    "duration": 194,
    "start_time": "2022-05-03T04:47:43.100Z"
   },
   {
    "duration": 0,
    "start_time": "2022-05-03T04:47:43.296Z"
   },
   {
    "duration": 0,
    "start_time": "2022-05-03T04:47:43.297Z"
   },
   {
    "duration": 0,
    "start_time": "2022-05-03T04:47:43.299Z"
   },
   {
    "duration": 0,
    "start_time": "2022-05-03T04:47:43.300Z"
   },
   {
    "duration": 0,
    "start_time": "2022-05-03T04:47:43.301Z"
   },
   {
    "duration": 0,
    "start_time": "2022-05-03T04:47:43.303Z"
   },
   {
    "duration": 0,
    "start_time": "2022-05-03T04:47:43.304Z"
   },
   {
    "duration": 0,
    "start_time": "2022-05-03T04:47:43.305Z"
   },
   {
    "duration": 0,
    "start_time": "2022-05-03T04:47:43.307Z"
   },
   {
    "duration": 0,
    "start_time": "2022-05-03T04:47:43.309Z"
   },
   {
    "duration": 0,
    "start_time": "2022-05-03T04:47:43.310Z"
   },
   {
    "duration": 0,
    "start_time": "2022-05-03T04:47:43.311Z"
   },
   {
    "duration": 0,
    "start_time": "2022-05-03T04:47:43.313Z"
   },
   {
    "duration": 0,
    "start_time": "2022-05-03T04:47:43.315Z"
   },
   {
    "duration": 0,
    "start_time": "2022-05-03T04:47:43.316Z"
   },
   {
    "duration": 0,
    "start_time": "2022-05-03T04:47:43.318Z"
   },
   {
    "duration": 0,
    "start_time": "2022-05-03T04:47:43.319Z"
   },
   {
    "duration": 0,
    "start_time": "2022-05-03T04:47:43.320Z"
   },
   {
    "duration": 0,
    "start_time": "2022-05-03T04:47:43.322Z"
   },
   {
    "duration": 0,
    "start_time": "2022-05-03T04:47:43.323Z"
   },
   {
    "duration": 0,
    "start_time": "2022-05-03T04:47:43.325Z"
   },
   {
    "duration": 0,
    "start_time": "2022-05-03T04:47:43.326Z"
   },
   {
    "duration": 0,
    "start_time": "2022-05-03T04:47:43.327Z"
   },
   {
    "duration": 0,
    "start_time": "2022-05-03T04:47:43.329Z"
   },
   {
    "duration": 0,
    "start_time": "2022-05-03T04:47:43.330Z"
   },
   {
    "duration": 0,
    "start_time": "2022-05-03T04:47:43.332Z"
   },
   {
    "duration": 0,
    "start_time": "2022-05-03T04:47:43.393Z"
   },
   {
    "duration": 0,
    "start_time": "2022-05-03T04:47:43.394Z"
   },
   {
    "duration": 0,
    "start_time": "2022-05-03T04:47:43.396Z"
   },
   {
    "duration": 0,
    "start_time": "2022-05-03T04:47:43.397Z"
   },
   {
    "duration": 0,
    "start_time": "2022-05-03T04:47:43.399Z"
   },
   {
    "duration": 0,
    "start_time": "2022-05-03T04:47:43.400Z"
   },
   {
    "duration": 0,
    "start_time": "2022-05-03T04:47:43.402Z"
   },
   {
    "duration": 1580,
    "start_time": "2022-05-03T04:50:20.198Z"
   },
   {
    "duration": 29,
    "start_time": "2022-05-03T04:50:21.781Z"
   },
   {
    "duration": 14,
    "start_time": "2022-05-03T04:50:21.811Z"
   },
   {
    "duration": 19,
    "start_time": "2022-05-03T04:50:21.827Z"
   },
   {
    "duration": 59,
    "start_time": "2022-05-03T04:50:21.849Z"
   },
   {
    "duration": 3,
    "start_time": "2022-05-03T04:50:21.910Z"
   },
   {
    "duration": 14,
    "start_time": "2022-05-03T04:50:21.915Z"
   },
   {
    "duration": 6,
    "start_time": "2022-05-03T04:50:21.931Z"
   },
   {
    "duration": 4,
    "start_time": "2022-05-03T04:50:21.939Z"
   },
   {
    "duration": 4,
    "start_time": "2022-05-03T04:50:21.944Z"
   },
   {
    "duration": 4,
    "start_time": "2022-05-03T04:50:21.950Z"
   },
   {
    "duration": 61,
    "start_time": "2022-05-03T04:50:21.956Z"
   },
   {
    "duration": 8,
    "start_time": "2022-05-03T04:50:22.018Z"
   },
   {
    "duration": 5,
    "start_time": "2022-05-03T04:50:22.030Z"
   },
   {
    "duration": 6,
    "start_time": "2022-05-03T04:50:22.037Z"
   },
   {
    "duration": 13,
    "start_time": "2022-05-03T04:50:22.045Z"
   },
   {
    "duration": 15,
    "start_time": "2022-05-03T04:50:22.060Z"
   },
   {
    "duration": 7,
    "start_time": "2022-05-03T04:50:22.093Z"
   },
   {
    "duration": 9,
    "start_time": "2022-05-03T04:50:22.102Z"
   },
   {
    "duration": 13,
    "start_time": "2022-05-03T04:50:22.113Z"
   },
   {
    "duration": 12,
    "start_time": "2022-05-03T04:50:22.128Z"
   },
   {
    "duration": 5,
    "start_time": "2022-05-03T04:50:22.142Z"
   },
   {
    "duration": 22,
    "start_time": "2022-05-03T04:50:22.149Z"
   },
   {
    "duration": 22,
    "start_time": "2022-05-03T04:50:22.173Z"
   },
   {
    "duration": 6,
    "start_time": "2022-05-03T04:50:22.197Z"
   },
   {
    "duration": 152,
    "start_time": "2022-05-03T04:50:22.205Z"
   },
   {
    "duration": 0,
    "start_time": "2022-05-03T04:50:22.359Z"
   },
   {
    "duration": 0,
    "start_time": "2022-05-03T04:50:22.360Z"
   },
   {
    "duration": 0,
    "start_time": "2022-05-03T04:50:22.361Z"
   },
   {
    "duration": 0,
    "start_time": "2022-05-03T04:50:22.362Z"
   },
   {
    "duration": 0,
    "start_time": "2022-05-03T04:50:22.363Z"
   },
   {
    "duration": 0,
    "start_time": "2022-05-03T04:50:22.364Z"
   },
   {
    "duration": 0,
    "start_time": "2022-05-03T04:50:22.365Z"
   },
   {
    "duration": 0,
    "start_time": "2022-05-03T04:50:22.366Z"
   },
   {
    "duration": 0,
    "start_time": "2022-05-03T04:50:22.367Z"
   },
   {
    "duration": 0,
    "start_time": "2022-05-03T04:50:22.369Z"
   },
   {
    "duration": 0,
    "start_time": "2022-05-03T04:50:22.370Z"
   },
   {
    "duration": 0,
    "start_time": "2022-05-03T04:50:22.371Z"
   },
   {
    "duration": 0,
    "start_time": "2022-05-03T04:50:22.372Z"
   },
   {
    "duration": 1,
    "start_time": "2022-05-03T04:50:22.392Z"
   },
   {
    "duration": 0,
    "start_time": "2022-05-03T04:50:22.394Z"
   },
   {
    "duration": 0,
    "start_time": "2022-05-03T04:50:22.395Z"
   },
   {
    "duration": 0,
    "start_time": "2022-05-03T04:50:22.396Z"
   },
   {
    "duration": 0,
    "start_time": "2022-05-03T04:50:22.397Z"
   },
   {
    "duration": 0,
    "start_time": "2022-05-03T04:50:22.398Z"
   },
   {
    "duration": 0,
    "start_time": "2022-05-03T04:50:22.399Z"
   },
   {
    "duration": 0,
    "start_time": "2022-05-03T04:50:22.400Z"
   },
   {
    "duration": 0,
    "start_time": "2022-05-03T04:50:22.401Z"
   },
   {
    "duration": 0,
    "start_time": "2022-05-03T04:50:22.402Z"
   },
   {
    "duration": 36,
    "start_time": "2022-05-03T04:51:37.932Z"
   },
   {
    "duration": 1669,
    "start_time": "2022-05-03T04:52:14.644Z"
   },
   {
    "duration": 24,
    "start_time": "2022-05-03T04:52:16.315Z"
   },
   {
    "duration": 14,
    "start_time": "2022-05-03T04:52:16.341Z"
   },
   {
    "duration": 18,
    "start_time": "2022-05-03T04:52:16.357Z"
   },
   {
    "duration": 51,
    "start_time": "2022-05-03T04:52:16.377Z"
   },
   {
    "duration": 3,
    "start_time": "2022-05-03T04:52:16.430Z"
   },
   {
    "duration": 13,
    "start_time": "2022-05-03T04:52:16.435Z"
   },
   {
    "duration": 8,
    "start_time": "2022-05-03T04:52:16.449Z"
   },
   {
    "duration": 5,
    "start_time": "2022-05-03T04:52:16.458Z"
   },
   {
    "duration": 27,
    "start_time": "2022-05-03T04:52:16.465Z"
   },
   {
    "duration": 4,
    "start_time": "2022-05-03T04:52:16.494Z"
   },
   {
    "duration": 32,
    "start_time": "2022-05-03T04:52:16.499Z"
   },
   {
    "duration": 8,
    "start_time": "2022-05-03T04:52:16.533Z"
   },
   {
    "duration": 6,
    "start_time": "2022-05-03T04:52:16.544Z"
   },
   {
    "duration": 7,
    "start_time": "2022-05-03T04:52:16.552Z"
   },
   {
    "duration": 31,
    "start_time": "2022-05-03T04:52:16.560Z"
   },
   {
    "duration": 11,
    "start_time": "2022-05-03T04:52:16.594Z"
   },
   {
    "duration": 7,
    "start_time": "2022-05-03T04:52:16.607Z"
   },
   {
    "duration": 9,
    "start_time": "2022-05-03T04:52:16.616Z"
   },
   {
    "duration": 16,
    "start_time": "2022-05-03T04:52:16.627Z"
   },
   {
    "duration": 11,
    "start_time": "2022-05-03T04:52:16.645Z"
   },
   {
    "duration": 5,
    "start_time": "2022-05-03T04:52:16.658Z"
   },
   {
    "duration": 6,
    "start_time": "2022-05-03T04:52:16.692Z"
   },
   {
    "duration": 6,
    "start_time": "2022-05-03T04:52:16.700Z"
   },
   {
    "duration": 6,
    "start_time": "2022-05-03T04:52:16.708Z"
   },
   {
    "duration": 157,
    "start_time": "2022-05-03T04:52:16.716Z"
   },
   {
    "duration": 0,
    "start_time": "2022-05-03T04:52:16.875Z"
   },
   {
    "duration": 0,
    "start_time": "2022-05-03T04:52:16.876Z"
   },
   {
    "duration": 0,
    "start_time": "2022-05-03T04:52:16.876Z"
   },
   {
    "duration": 0,
    "start_time": "2022-05-03T04:52:16.877Z"
   },
   {
    "duration": 0,
    "start_time": "2022-05-03T04:52:16.879Z"
   },
   {
    "duration": 0,
    "start_time": "2022-05-03T04:52:16.880Z"
   },
   {
    "duration": 0,
    "start_time": "2022-05-03T04:52:16.893Z"
   },
   {
    "duration": 0,
    "start_time": "2022-05-03T04:52:16.894Z"
   },
   {
    "duration": 0,
    "start_time": "2022-05-03T04:52:16.894Z"
   },
   {
    "duration": 0,
    "start_time": "2022-05-03T04:52:16.895Z"
   },
   {
    "duration": 0,
    "start_time": "2022-05-03T04:52:16.896Z"
   },
   {
    "duration": 0,
    "start_time": "2022-05-03T04:52:16.897Z"
   },
   {
    "duration": 0,
    "start_time": "2022-05-03T04:52:16.898Z"
   },
   {
    "duration": 0,
    "start_time": "2022-05-03T04:52:16.899Z"
   },
   {
    "duration": 0,
    "start_time": "2022-05-03T04:52:16.900Z"
   },
   {
    "duration": 0,
    "start_time": "2022-05-03T04:52:16.901Z"
   },
   {
    "duration": 0,
    "start_time": "2022-05-03T04:52:16.902Z"
   },
   {
    "duration": 0,
    "start_time": "2022-05-03T04:52:16.903Z"
   },
   {
    "duration": 0,
    "start_time": "2022-05-03T04:52:16.904Z"
   },
   {
    "duration": 0,
    "start_time": "2022-05-03T04:52:16.906Z"
   },
   {
    "duration": 0,
    "start_time": "2022-05-03T04:52:16.906Z"
   },
   {
    "duration": 0,
    "start_time": "2022-05-03T04:52:16.907Z"
   },
   {
    "duration": 0,
    "start_time": "2022-05-03T04:52:16.908Z"
   },
   {
    "duration": 4,
    "start_time": "2022-05-03T05:15:57.413Z"
   },
   {
    "duration": 1564,
    "start_time": "2022-05-03T05:25:10.256Z"
   },
   {
    "duration": 31,
    "start_time": "2022-05-03T05:25:13.774Z"
   },
   {
    "duration": 14,
    "start_time": "2022-05-03T05:25:14.760Z"
   },
   {
    "duration": 16,
    "start_time": "2022-05-03T05:25:17.455Z"
   },
   {
    "duration": 40,
    "start_time": "2022-05-03T05:25:20.080Z"
   },
   {
    "duration": 3,
    "start_time": "2022-05-03T05:25:21.259Z"
   },
   {
    "duration": 11,
    "start_time": "2022-05-03T05:25:22.168Z"
   },
   {
    "duration": 4,
    "start_time": "2022-05-03T05:25:25.871Z"
   },
   {
    "duration": 2,
    "start_time": "2022-05-03T05:25:28.059Z"
   },
   {
    "duration": 3,
    "start_time": "2022-05-03T05:25:28.648Z"
   },
   {
    "duration": 2,
    "start_time": "2022-05-03T05:25:29.188Z"
   },
   {
    "duration": 138,
    "start_time": "2022-05-03T05:25:30.014Z"
   },
   {
    "duration": 12,
    "start_time": "2022-05-03T05:25:32.819Z"
   },
   {
    "duration": 113,
    "start_time": "2022-05-03T05:25:34.782Z"
   },
   {
    "duration": 9,
    "start_time": "2022-05-03T05:25:59.551Z"
   },
   {
    "duration": 132,
    "start_time": "2022-05-03T05:26:00.639Z"
   },
   {
    "duration": 7,
    "start_time": "2022-05-03T05:26:26.153Z"
   },
   {
    "duration": 3,
    "start_time": "2022-05-03T05:26:26.988Z"
   },
   {
    "duration": 4,
    "start_time": "2022-05-03T05:26:27.647Z"
   },
   {
    "duration": 15,
    "start_time": "2022-05-03T05:26:28.515Z"
   },
   {
    "duration": 7,
    "start_time": "2022-05-03T05:26:31.100Z"
   },
   {
    "duration": 8,
    "start_time": "2022-05-03T05:26:31.849Z"
   },
   {
    "duration": 20,
    "start_time": "2022-05-03T05:26:32.592Z"
   },
   {
    "duration": 13,
    "start_time": "2022-05-03T05:26:34.362Z"
   },
   {
    "duration": 6,
    "start_time": "2022-05-03T05:26:38.991Z"
   },
   {
    "duration": 6,
    "start_time": "2022-05-03T05:26:39.780Z"
   },
   {
    "duration": 6,
    "start_time": "2022-05-03T05:26:41.185Z"
   },
   {
    "duration": 5,
    "start_time": "2022-05-03T05:26:41.965Z"
   },
   {
    "duration": 26,
    "start_time": "2022-05-03T05:26:43.069Z"
   },
   {
    "duration": 184,
    "start_time": "2022-05-03T05:26:49.914Z"
   },
   {
    "duration": 25588,
    "start_time": "2022-05-03T05:27:08.998Z"
   },
   {
    "duration": 539,
    "start_time": "2022-05-03T05:27:53.762Z"
   },
   {
    "duration": 202,
    "start_time": "2022-05-03T05:28:02.798Z"
   },
   {
    "duration": 5,
    "start_time": "2022-05-03T05:28:08.229Z"
   },
   {
    "duration": 181,
    "start_time": "2022-05-03T05:28:11.330Z"
   },
   {
    "duration": 25989,
    "start_time": "2022-05-03T05:28:44.946Z"
   },
   {
    "duration": 212,
    "start_time": "2022-05-03T05:29:34.583Z"
   },
   {
    "duration": 14,
    "start_time": "2022-05-03T05:29:41.195Z"
   },
   {
    "duration": 107,
    "start_time": "2022-05-03T05:29:47.220Z"
   },
   {
    "duration": 252,
    "start_time": "2022-05-03T05:29:50.832Z"
   },
   {
    "duration": 34673,
    "start_time": "2022-05-03T05:30:15.919Z"
   },
   {
    "duration": 167,
    "start_time": "2022-05-03T05:31:35.134Z"
   },
   {
    "duration": 12,
    "start_time": "2022-05-03T05:31:39.237Z"
   },
   {
    "duration": 111,
    "start_time": "2022-05-03T05:31:40.615Z"
   },
   {
    "duration": 124,
    "start_time": "2022-05-03T05:31:42.975Z"
   },
   {
    "duration": 15213,
    "start_time": "2022-05-03T05:31:45.443Z"
   },
   {
    "duration": 118,
    "start_time": "2022-05-03T05:32:06.475Z"
   },
   {
    "duration": 13,
    "start_time": "2022-05-03T05:32:10.082Z"
   },
   {
    "duration": 13,
    "start_time": "2022-05-03T05:32:11.662Z"
   },
   {
    "duration": 13,
    "start_time": "2022-05-03T05:32:14.704Z"
   },
   {
    "duration": 36,
    "start_time": "2022-05-03T05:32:16.561Z"
   },
   {
    "duration": 35,
    "start_time": "2022-05-03T05:32:17.971Z"
   },
   {
    "duration": 35,
    "start_time": "2022-05-03T05:32:19.104Z"
   },
   {
    "duration": 1553,
    "start_time": "2022-05-03T05:36:26.847Z"
   },
   {
    "duration": 25,
    "start_time": "2022-05-03T05:36:29.859Z"
   },
   {
    "duration": 14,
    "start_time": "2022-05-03T05:36:30.557Z"
   },
   {
    "duration": 16,
    "start_time": "2022-05-03T05:36:33.221Z"
   },
   {
    "duration": 40,
    "start_time": "2022-05-03T05:36:34.139Z"
   },
   {
    "duration": 3,
    "start_time": "2022-05-03T05:36:36.503Z"
   },
   {
    "duration": 11,
    "start_time": "2022-05-03T05:36:37.271Z"
   },
   {
    "duration": 2,
    "start_time": "2022-05-03T05:36:38.695Z"
   },
   {
    "duration": 2,
    "start_time": "2022-05-03T05:36:39.267Z"
   },
   {
    "duration": 3,
    "start_time": "2022-05-03T05:36:39.816Z"
   },
   {
    "duration": 13,
    "start_time": "2022-05-03T05:36:43.384Z"
   },
   {
    "duration": 3,
    "start_time": "2022-05-03T05:36:44.044Z"
   },
   {
    "duration": 2,
    "start_time": "2022-05-03T05:36:44.631Z"
   },
   {
    "duration": 2,
    "start_time": "2022-05-03T05:36:45.211Z"
   },
   {
    "duration": 3,
    "start_time": "2022-05-03T05:36:45.852Z"
   },
   {
    "duration": 6,
    "start_time": "2022-05-03T05:36:46.430Z"
   },
   {
    "duration": 2,
    "start_time": "2022-05-03T05:36:47.193Z"
   },
   {
    "duration": 4,
    "start_time": "2022-05-03T05:36:47.877Z"
   },
   {
    "duration": 12,
    "start_time": "2022-05-03T05:36:50.827Z"
   },
   {
    "duration": 7,
    "start_time": "2022-05-03T05:36:54.981Z"
   },
   {
    "duration": 6,
    "start_time": "2022-05-03T05:36:56.956Z"
   },
   {
    "duration": 162,
    "start_time": "2022-05-03T05:37:02.200Z"
   },
   {
    "duration": 84,
    "start_time": "2022-05-03T05:37:03.127Z"
   },
   {
    "duration": 56,
    "start_time": "2022-05-03T05:37:08.818Z"
   },
   {
    "duration": 53,
    "start_time": "2022-05-03T05:37:09.799Z"
   },
   {
    "duration": 41,
    "start_time": "2022-05-03T05:37:11.341Z"
   },
   {
    "duration": 4,
    "start_time": "2022-05-03T05:37:14.181Z"
   },
   {
    "duration": 142,
    "start_time": "2022-05-03T05:37:20.406Z"
   },
   {
    "duration": 5,
    "start_time": "2022-05-03T05:39:12.217Z"
   },
   {
    "duration": 20,
    "start_time": "2022-05-03T05:39:13.403Z"
   },
   {
    "duration": 12,
    "start_time": "2022-05-03T05:39:14.160Z"
   },
   {
    "duration": 12,
    "start_time": "2022-05-03T05:39:16.642Z"
   },
   {
    "duration": 36,
    "start_time": "2022-05-03T05:39:17.325Z"
   },
   {
    "duration": 3,
    "start_time": "2022-05-03T05:39:20.026Z"
   },
   {
    "duration": 10,
    "start_time": "2022-05-03T05:39:20.577Z"
   },
   {
    "duration": 2,
    "start_time": "2022-05-03T05:39:21.305Z"
   },
   {
    "duration": 3,
    "start_time": "2022-05-03T05:39:21.946Z"
   },
   {
    "duration": 3,
    "start_time": "2022-05-03T05:39:22.642Z"
   },
   {
    "duration": 8,
    "start_time": "2022-05-03T05:39:25.992Z"
   },
   {
    "duration": 3,
    "start_time": "2022-05-03T05:39:27.073Z"
   },
   {
    "duration": 2,
    "start_time": "2022-05-03T05:39:27.565Z"
   },
   {
    "duration": 3,
    "start_time": "2022-05-03T05:39:28.059Z"
   },
   {
    "duration": 3,
    "start_time": "2022-05-03T05:39:28.546Z"
   },
   {
    "duration": 9,
    "start_time": "2022-05-03T05:39:29.043Z"
   },
   {
    "duration": 9,
    "start_time": "2022-05-03T05:39:55.722Z"
   },
   {
    "duration": 9,
    "start_time": "2022-05-03T05:40:12.775Z"
   },
   {
    "duration": 4,
    "start_time": "2022-05-03T05:40:36.567Z"
   },
   {
    "duration": 20,
    "start_time": "2022-05-03T05:40:37.776Z"
   },
   {
    "duration": 12,
    "start_time": "2022-05-03T05:40:38.495Z"
   },
   {
    "duration": 12,
    "start_time": "2022-05-03T05:40:40.952Z"
   },
   {
    "duration": 37,
    "start_time": "2022-05-03T05:40:42.665Z"
   },
   {
    "duration": 3,
    "start_time": "2022-05-03T05:40:43.431Z"
   },
   {
    "duration": 11,
    "start_time": "2022-05-03T05:40:44.047Z"
   },
   {
    "duration": 2,
    "start_time": "2022-05-03T05:40:44.711Z"
   },
   {
    "duration": 2,
    "start_time": "2022-05-03T05:40:47.271Z"
   },
   {
    "duration": 2,
    "start_time": "2022-05-03T05:40:47.833Z"
   },
   {
    "duration": 8,
    "start_time": "2022-05-03T05:40:48.403Z"
   },
   {
    "duration": 14,
    "start_time": "2022-05-03T05:40:49.199Z"
   },
   {
    "duration": 12,
    "start_time": "2022-05-03T05:41:09.933Z"
   },
   {
    "duration": 3,
    "start_time": "2022-05-03T05:41:12.913Z"
   },
   {
    "duration": 2,
    "start_time": "2022-05-03T05:41:13.385Z"
   },
   {
    "duration": 3,
    "start_time": "2022-05-03T05:41:13.890Z"
   },
   {
    "duration": 3,
    "start_time": "2022-05-03T05:41:14.434Z"
   },
   {
    "duration": 6,
    "start_time": "2022-05-03T05:41:14.997Z"
   },
   {
    "duration": 3,
    "start_time": "2022-05-03T05:41:16.119Z"
   },
   {
    "duration": 4,
    "start_time": "2022-05-03T05:41:17.026Z"
   },
   {
    "duration": 13,
    "start_time": "2022-05-03T05:41:20.515Z"
   },
   {
    "duration": 7,
    "start_time": "2022-05-03T05:41:23.831Z"
   },
   {
    "duration": 7,
    "start_time": "2022-05-03T05:41:24.670Z"
   },
   {
    "duration": 163,
    "start_time": "2022-05-03T05:41:25.485Z"
   },
   {
    "duration": 148,
    "start_time": "2022-05-03T05:41:26.538Z"
   },
   {
    "duration": 24,
    "start_time": "2022-05-03T05:41:38.121Z"
   },
   {
    "duration": 18,
    "start_time": "2022-05-03T05:42:05.999Z"
   },
   {
    "duration": 5,
    "start_time": "2022-05-03T05:42:53.772Z"
   },
   {
    "duration": 27,
    "start_time": "2022-05-03T05:42:55.003Z"
   },
   {
    "duration": 14,
    "start_time": "2022-05-03T05:42:55.713Z"
   },
   {
    "duration": 12,
    "start_time": "2022-05-03T05:42:56.514Z"
   },
   {
    "duration": 37,
    "start_time": "2022-05-03T05:42:57.210Z"
   },
   {
    "duration": 4,
    "start_time": "2022-05-03T05:42:57.918Z"
   },
   {
    "duration": 11,
    "start_time": "2022-05-03T05:42:58.567Z"
   },
   {
    "duration": 5,
    "start_time": "2022-05-03T05:42:59.925Z"
   },
   {
    "duration": 3,
    "start_time": "2022-05-03T05:43:00.575Z"
   },
   {
    "duration": 2,
    "start_time": "2022-05-03T05:43:01.142Z"
   },
   {
    "duration": 8,
    "start_time": "2022-05-03T05:43:01.712Z"
   },
   {
    "duration": 14,
    "start_time": "2022-05-03T05:43:02.911Z"
   },
   {
    "duration": 12,
    "start_time": "2022-05-03T05:43:04.461Z"
   },
   {
    "duration": 2,
    "start_time": "2022-05-03T05:43:06.905Z"
   },
   {
    "duration": 2,
    "start_time": "2022-05-03T05:43:07.483Z"
   },
   {
    "duration": 2,
    "start_time": "2022-05-03T05:43:07.936Z"
   },
   {
    "duration": 2,
    "start_time": "2022-05-03T05:43:08.401Z"
   },
   {
    "duration": 5,
    "start_time": "2022-05-03T05:43:08.939Z"
   },
   {
    "duration": 2,
    "start_time": "2022-05-03T05:43:09.635Z"
   },
   {
    "duration": 4,
    "start_time": "2022-05-03T05:43:10.233Z"
   },
   {
    "duration": 11,
    "start_time": "2022-05-03T05:43:11.088Z"
   },
   {
    "duration": 7,
    "start_time": "2022-05-03T05:43:13.704Z"
   },
   {
    "duration": 6,
    "start_time": "2022-05-03T05:43:14.393Z"
   },
   {
    "duration": 11,
    "start_time": "2022-05-03T05:43:15.171Z"
   },
   {
    "duration": 11,
    "start_time": "2022-05-03T05:43:15.829Z"
   },
   {
    "duration": 11,
    "start_time": "2022-05-03T05:43:32.729Z"
   },
   {
    "duration": 5,
    "start_time": "2022-05-03T05:43:34.870Z"
   },
   {
    "duration": 5,
    "start_time": "2022-05-03T05:43:35.571Z"
   },
   {
    "duration": 5,
    "start_time": "2022-05-03T05:43:36.347Z"
   },
   {
    "duration": 5,
    "start_time": "2022-05-03T05:43:37.092Z"
   },
   {
    "duration": 34,
    "start_time": "2022-05-03T05:43:38.194Z"
   },
   {
    "duration": 36,
    "start_time": "2022-05-03T05:45:51.028Z"
   },
   {
    "duration": 24,
    "start_time": "2022-05-03T05:46:29.644Z"
   },
   {
    "duration": 23,
    "start_time": "2022-05-03T05:46:35.998Z"
   },
   {
    "duration": 183,
    "start_time": "2022-05-03T05:46:39.928Z"
   },
   {
    "duration": 26286,
    "start_time": "2022-05-03T05:46:44.730Z"
   },
   {
    "duration": 232,
    "start_time": "2022-05-03T05:51:31.062Z"
   },
   {
    "duration": 5,
    "start_time": "2022-05-03T05:51:34.699Z"
   },
   {
    "duration": 164,
    "start_time": "2022-05-03T05:51:39.705Z"
   },
   {
    "duration": 25866,
    "start_time": "2022-05-03T05:51:42.958Z"
   },
   {
    "duration": 184,
    "start_time": "2022-05-03T05:52:21.416Z"
   },
   {
    "duration": 12,
    "start_time": "2022-05-03T05:52:27.979Z"
   },
   {
    "duration": 125,
    "start_time": "2022-05-03T05:52:30.127Z"
   },
   {
    "duration": 221,
    "start_time": "2022-05-03T05:52:32.930Z"
   },
   {
    "duration": 35738,
    "start_time": "2022-05-03T05:52:37.661Z"
   },
   {
    "duration": 37666,
    "start_time": "2022-05-03T05:54:08.767Z"
   },
   {
    "duration": 457,
    "start_time": "2022-05-03T05:54:46.435Z"
   },
   {
    "duration": 12,
    "start_time": "2022-05-03T05:54:55.296Z"
   },
   {
    "duration": 115,
    "start_time": "2022-05-03T05:54:57.629Z"
   },
   {
    "duration": 125,
    "start_time": "2022-05-03T05:55:00.404Z"
   },
   {
    "duration": 16754,
    "start_time": "2022-05-03T05:55:03.613Z"
   },
   {
    "duration": 146,
    "start_time": "2022-05-03T05:55:26.849Z"
   },
   {
    "duration": 12,
    "start_time": "2022-05-03T05:55:32.882Z"
   },
   {
    "duration": 12,
    "start_time": "2022-05-03T05:55:39.639Z"
   },
   {
    "duration": 12,
    "start_time": "2022-05-03T05:55:41.182Z"
   },
   {
    "duration": 27,
    "start_time": "2022-05-03T05:55:42.780Z"
   },
   {
    "duration": 31,
    "start_time": "2022-05-03T05:55:43.918Z"
   },
   {
    "duration": 26,
    "start_time": "2022-05-03T05:55:45.307Z"
   },
   {
    "duration": 35931,
    "start_time": "2022-05-03T06:02:05.906Z"
   },
   {
    "duration": 11,
    "start_time": "2022-05-03T06:11:51.226Z"
   },
   {
    "duration": 10,
    "start_time": "2022-05-03T06:11:58.318Z"
   },
   {
    "duration": 37939,
    "start_time": "2022-05-03T06:12:15.366Z"
   },
   {
    "duration": 23,
    "start_time": "2022-05-03T06:15:04.486Z"
   },
   {
    "duration": 10,
    "start_time": "2022-05-03T06:15:05.549Z"
   },
   {
    "duration": 277,
    "start_time": "2022-05-03T06:16:18.270Z"
   },
   {
    "duration": 1555,
    "start_time": "2022-05-03T06:22:23.714Z"
   },
   {
    "duration": 28,
    "start_time": "2022-05-03T06:22:25.271Z"
   },
   {
    "duration": 14,
    "start_time": "2022-05-03T06:22:25.301Z"
   },
   {
    "duration": 18,
    "start_time": "2022-05-03T06:22:25.318Z"
   },
   {
    "duration": 55,
    "start_time": "2022-05-03T06:22:25.338Z"
   },
   {
    "duration": 4,
    "start_time": "2022-05-03T06:22:25.396Z"
   },
   {
    "duration": 17,
    "start_time": "2022-05-03T06:22:25.401Z"
   },
   {
    "duration": 5,
    "start_time": "2022-05-03T06:22:25.419Z"
   },
   {
    "duration": 3,
    "start_time": "2022-05-03T06:22:25.426Z"
   },
   {
    "duration": 4,
    "start_time": "2022-05-03T06:22:25.432Z"
   },
   {
    "duration": 12,
    "start_time": "2022-05-03T06:22:25.437Z"
   },
   {
    "duration": 11,
    "start_time": "2022-05-03T06:22:25.451Z"
   },
   {
    "duration": 39,
    "start_time": "2022-05-03T06:22:25.464Z"
   },
   {
    "duration": 3,
    "start_time": "2022-05-03T06:22:25.505Z"
   },
   {
    "duration": 7,
    "start_time": "2022-05-03T06:22:25.510Z"
   },
   {
    "duration": 10,
    "start_time": "2022-05-03T06:22:25.519Z"
   },
   {
    "duration": 7,
    "start_time": "2022-05-03T06:22:25.530Z"
   },
   {
    "duration": 16,
    "start_time": "2022-05-03T06:22:25.538Z"
   },
   {
    "duration": 6,
    "start_time": "2022-05-03T06:22:25.555Z"
   },
   {
    "duration": 9,
    "start_time": "2022-05-03T06:22:25.563Z"
   },
   {
    "duration": 29,
    "start_time": "2022-05-03T06:22:25.573Z"
   },
   {
    "duration": 6,
    "start_time": "2022-05-03T06:22:25.604Z"
   },
   {
    "duration": 9,
    "start_time": "2022-05-03T06:22:25.612Z"
   },
   {
    "duration": 15,
    "start_time": "2022-05-03T06:22:25.623Z"
   },
   {
    "duration": 11,
    "start_time": "2022-05-03T06:22:25.639Z"
   },
   {
    "duration": 10,
    "start_time": "2022-05-03T06:22:25.652Z"
   },
   {
    "duration": 30,
    "start_time": "2022-05-03T06:22:25.663Z"
   },
   {
    "duration": 6,
    "start_time": "2022-05-03T06:22:25.697Z"
   },
   {
    "duration": 6,
    "start_time": "2022-05-03T06:22:25.705Z"
   },
   {
    "duration": 30,
    "start_time": "2022-05-03T06:22:25.713Z"
   },
   {
    "duration": 210,
    "start_time": "2022-05-03T06:22:25.745Z"
   },
   {
    "duration": 28048,
    "start_time": "2022-05-03T06:22:25.957Z"
   },
   {
    "duration": 297,
    "start_time": "2022-05-03T06:22:54.006Z"
   },
   {
    "duration": 5,
    "start_time": "2022-05-03T06:22:54.393Z"
   },
   {
    "duration": 194,
    "start_time": "2022-05-03T06:22:54.400Z"
   },
   {
    "duration": 30643,
    "start_time": "2022-05-03T06:22:54.596Z"
   },
   {
    "duration": 455,
    "start_time": "2022-05-03T06:23:25.241Z"
   },
   {
    "duration": 105,
    "start_time": "2022-05-03T06:23:25.698Z"
   },
   {
    "duration": 149,
    "start_time": "2022-05-03T06:23:25.805Z"
   },
   {
    "duration": 246,
    "start_time": "2022-05-03T06:23:25.956Z"
   },
   {
    "duration": 37942,
    "start_time": "2022-05-03T06:23:26.204Z"
   },
   {
    "duration": 255,
    "start_time": "2022-05-03T06:24:04.148Z"
   },
   {
    "duration": 101,
    "start_time": "2022-05-03T06:24:04.405Z"
   },
   {
    "duration": 269,
    "start_time": "2022-05-03T06:24:04.507Z"
   },
   {
    "duration": 181,
    "start_time": "2022-05-03T06:24:04.778Z"
   },
   {
    "duration": 23573,
    "start_time": "2022-05-03T06:24:04.961Z"
   },
   {
    "duration": 71,
    "start_time": "2022-05-03T06:24:28.536Z"
   },
   {
    "duration": 106,
    "start_time": "2022-05-03T06:24:28.694Z"
   },
   {
    "duration": 9,
    "start_time": "2022-05-03T06:24:28.803Z"
   },
   {
    "duration": 456,
    "start_time": "2022-05-03T06:24:28.815Z"
   },
   {
    "duration": 27,
    "start_time": "2022-05-03T06:24:29.273Z"
   },
   {
    "duration": 22,
    "start_time": "2022-05-03T06:24:29.302Z"
   },
   {
    "duration": 14,
    "start_time": "2022-05-03T06:24:29.326Z"
   },
   {
    "duration": 33,
    "start_time": "2022-05-03T06:24:29.342Z"
   },
   {
    "duration": 38,
    "start_time": "2022-05-03T06:24:29.393Z"
   },
   {
    "duration": 33,
    "start_time": "2022-05-03T06:24:29.433Z"
   },
   {
    "duration": 289,
    "start_time": "2022-05-03T06:32:06.505Z"
   },
   {
    "duration": 71,
    "start_time": "2022-05-03T06:32:33.728Z"
   },
   {
    "duration": 70,
    "start_time": "2022-05-03T06:32:44.535Z"
   },
   {
    "duration": 109,
    "start_time": "2022-05-03T06:33:09.486Z"
   },
   {
    "duration": 16,
    "start_time": "2022-05-03T06:33:51.858Z"
   },
   {
    "duration": 123,
    "start_time": "2022-05-03T06:34:51.779Z"
   },
   {
    "duration": 61,
    "start_time": "2022-05-03T06:35:37.537Z"
   },
   {
    "duration": 1597,
    "start_time": "2022-05-03T06:35:50.023Z"
   },
   {
    "duration": 25,
    "start_time": "2022-05-03T06:35:51.622Z"
   },
   {
    "duration": 16,
    "start_time": "2022-05-03T06:35:51.649Z"
   },
   {
    "duration": 36,
    "start_time": "2022-05-03T06:35:51.668Z"
   },
   {
    "duration": 41,
    "start_time": "2022-05-03T06:35:51.706Z"
   },
   {
    "duration": 3,
    "start_time": "2022-05-03T06:35:51.749Z"
   },
   {
    "duration": 40,
    "start_time": "2022-05-03T06:35:51.754Z"
   },
   {
    "duration": 10,
    "start_time": "2022-05-03T06:35:51.796Z"
   },
   {
    "duration": 5,
    "start_time": "2022-05-03T06:35:51.808Z"
   },
   {
    "duration": 6,
    "start_time": "2022-05-03T06:35:51.816Z"
   },
   {
    "duration": 14,
    "start_time": "2022-05-03T06:35:51.824Z"
   },
   {
    "duration": 14,
    "start_time": "2022-05-03T06:35:51.840Z"
   },
   {
    "duration": 15,
    "start_time": "2022-05-03T06:35:51.856Z"
   },
   {
    "duration": 9,
    "start_time": "2022-05-03T06:35:51.893Z"
   },
   {
    "duration": 3,
    "start_time": "2022-05-03T06:35:51.905Z"
   },
   {
    "duration": 8,
    "start_time": "2022-05-03T06:35:51.910Z"
   },
   {
    "duration": 7,
    "start_time": "2022-05-03T06:35:51.920Z"
   },
   {
    "duration": 11,
    "start_time": "2022-05-03T06:35:51.929Z"
   },
   {
    "duration": 5,
    "start_time": "2022-05-03T06:35:51.941Z"
   },
   {
    "duration": 11,
    "start_time": "2022-05-03T06:35:51.948Z"
   },
   {
    "duration": 38,
    "start_time": "2022-05-03T06:35:51.960Z"
   },
   {
    "duration": 6,
    "start_time": "2022-05-03T06:35:52.001Z"
   },
   {
    "duration": 12,
    "start_time": "2022-05-03T06:35:52.009Z"
   },
   {
    "duration": 15,
    "start_time": "2022-05-03T06:35:52.022Z"
   },
   {
    "duration": 11,
    "start_time": "2022-05-03T06:35:52.039Z"
   },
   {
    "duration": 9,
    "start_time": "2022-05-03T06:35:52.052Z"
   },
   {
    "duration": 30,
    "start_time": "2022-05-03T06:35:52.063Z"
   },
   {
    "duration": 6,
    "start_time": "2022-05-03T06:35:52.097Z"
   },
   {
    "duration": 9,
    "start_time": "2022-05-03T06:35:52.104Z"
   },
   {
    "duration": 43,
    "start_time": "2022-05-03T06:35:52.115Z"
   },
   {
    "duration": 239,
    "start_time": "2022-05-03T06:35:52.160Z"
   },
   {
    "duration": 29334,
    "start_time": "2022-05-03T06:35:52.401Z"
   },
   {
    "duration": 666,
    "start_time": "2022-05-03T06:36:21.737Z"
   },
   {
    "duration": 6,
    "start_time": "2022-05-03T06:36:22.492Z"
   },
   {
    "duration": 255,
    "start_time": "2022-05-03T06:36:22.501Z"
   },
   {
    "duration": 35412,
    "start_time": "2022-05-03T06:36:22.758Z"
   },
   {
    "duration": 631,
    "start_time": "2022-05-03T06:36:58.171Z"
   },
   {
    "duration": 13,
    "start_time": "2022-05-03T06:36:58.892Z"
   },
   {
    "duration": 143,
    "start_time": "2022-05-03T06:36:58.907Z"
   },
   {
    "duration": 242,
    "start_time": "2022-05-03T06:36:59.052Z"
   },
   {
    "duration": 54080,
    "start_time": "2022-05-03T06:36:59.298Z"
   },
   {
    "duration": 521,
    "start_time": "2022-05-03T06:37:53.381Z"
   },
   {
    "duration": 100,
    "start_time": "2022-05-03T06:37:53.905Z"
   },
   {
    "duration": 194,
    "start_time": "2022-05-03T06:37:54.011Z"
   },
   {
    "duration": 194,
    "start_time": "2022-05-03T06:37:54.207Z"
   },
   {
    "duration": 16690,
    "start_time": "2022-05-03T06:37:54.403Z"
   },
   {
    "duration": 199,
    "start_time": "2022-05-03T06:38:11.095Z"
   },
   {
    "duration": 120,
    "start_time": "2022-05-03T06:38:11.297Z"
   },
   {
    "duration": 15,
    "start_time": "2022-05-03T06:38:11.419Z"
   },
   {
    "duration": 11,
    "start_time": "2022-05-03T06:38:11.436Z"
   },
   {
    "duration": 32,
    "start_time": "2022-05-03T06:38:11.448Z"
   },
   {
    "duration": 39,
    "start_time": "2022-05-03T06:38:11.493Z"
   },
   {
    "duration": 35,
    "start_time": "2022-05-03T06:38:11.534Z"
   },
   {
    "duration": 131,
    "start_time": "2022-05-03T06:38:11.570Z"
   },
   {
    "duration": 106,
    "start_time": "2022-05-03T06:38:11.703Z"
   },
   {
    "duration": 106,
    "start_time": "2022-05-03T06:38:11.895Z"
   },
   {
    "duration": 32,
    "start_time": "2022-05-03T06:48:15.073Z"
   },
   {
    "duration": 3,
    "start_time": "2022-05-03T07:06:25.591Z"
   },
   {
    "duration": 1622,
    "start_time": "2022-05-03T07:37:27.012Z"
   },
   {
    "duration": 27,
    "start_time": "2022-05-03T07:37:30.804Z"
   },
   {
    "duration": 17,
    "start_time": "2022-05-03T07:37:31.602Z"
   },
   {
    "duration": 16,
    "start_time": "2022-05-03T07:37:32.424Z"
   },
   {
    "duration": 41,
    "start_time": "2022-05-03T07:37:33.361Z"
   },
   {
    "duration": 5,
    "start_time": "2022-05-03T07:37:34.193Z"
   },
   {
    "duration": 17,
    "start_time": "2022-05-03T07:37:35.190Z"
   },
   {
    "duration": 4,
    "start_time": "2022-05-03T07:37:35.968Z"
   },
   {
    "duration": 10,
    "start_time": "2022-05-03T07:37:38.165Z"
   },
   {
    "duration": 12,
    "start_time": "2022-05-03T07:37:44.188Z"
   },
   {
    "duration": 11,
    "start_time": "2022-05-03T07:37:45.036Z"
   },
   {
    "duration": 5,
    "start_time": "2022-05-03T07:37:46.023Z"
   },
   {
    "duration": 4,
    "start_time": "2022-05-03T07:37:46.988Z"
   },
   {
    "duration": 11,
    "start_time": "2022-05-03T07:37:48.178Z"
   },
   {
    "duration": 7,
    "start_time": "2022-05-03T07:37:49.135Z"
   },
   {
    "duration": 6,
    "start_time": "2022-05-03T07:37:50.034Z"
   },
   {
    "duration": 10,
    "start_time": "2022-05-03T07:37:50.813Z"
   },
   {
    "duration": 11,
    "start_time": "2022-05-03T07:37:51.646Z"
   },
   {
    "duration": 5,
    "start_time": "2022-05-03T07:37:55.481Z"
   },
   {
    "duration": 6,
    "start_time": "2022-05-03T07:37:56.373Z"
   },
   {
    "duration": 5,
    "start_time": "2022-05-03T07:37:57.275Z"
   },
   {
    "duration": 5,
    "start_time": "2022-05-03T07:37:58.271Z"
   },
   {
    "duration": 25,
    "start_time": "2022-05-03T07:37:59.421Z"
   },
   {
    "duration": 191,
    "start_time": "2022-05-03T07:38:03.037Z"
   },
   {
    "duration": 28707,
    "start_time": "2022-05-03T07:38:06.109Z"
   },
   {
    "duration": 192,
    "start_time": "2022-05-03T07:38:50.514Z"
   },
   {
    "duration": 7,
    "start_time": "2022-05-03T07:38:55.472Z"
   },
   {
    "duration": 164,
    "start_time": "2022-05-03T07:39:11.324Z"
   },
   {
    "duration": 27584,
    "start_time": "2022-05-03T07:39:15.654Z"
   },
   {
    "duration": 317,
    "start_time": "2022-05-03T07:44:24.483Z"
   },
   {
    "duration": 329,
    "start_time": "2022-05-03T07:46:11.869Z"
   },
   {
    "duration": 18,
    "start_time": "2022-05-03T07:46:14.739Z"
   },
   {
    "duration": 198,
    "start_time": "2022-05-03T07:46:18.357Z"
   },
   {
    "duration": 234,
    "start_time": "2022-05-03T07:46:21.405Z"
   },
   {
    "duration": 38133,
    "start_time": "2022-05-03T07:46:24.761Z"
   },
   {
    "duration": 567,
    "start_time": "2022-05-03T07:47:09.525Z"
   },
   {
    "duration": 11,
    "start_time": "2022-05-03T07:47:45.784Z"
   },
   {
    "duration": 108,
    "start_time": "2022-05-03T07:47:48.070Z"
   },
   {
    "duration": 141,
    "start_time": "2022-05-03T07:47:50.040Z"
   },
   {
    "duration": 16670,
    "start_time": "2022-05-03T07:47:54.211Z"
   },
   {
    "duration": 124,
    "start_time": "2022-05-03T07:48:20.676Z"
   },
   {
    "duration": 11,
    "start_time": "2022-05-03T07:50:14.501Z"
   },
   {
    "duration": 12,
    "start_time": "2022-05-03T07:50:15.805Z"
   },
   {
    "duration": 11,
    "start_time": "2022-05-03T07:50:16.694Z"
   },
   {
    "duration": 29,
    "start_time": "2022-05-03T07:50:18.522Z"
   },
   {
    "duration": 37,
    "start_time": "2022-05-03T07:50:20.851Z"
   },
   {
    "duration": 33,
    "start_time": "2022-05-03T07:50:27.087Z"
   },
   {
    "duration": 16,
    "start_time": "2022-05-03T07:50:37.389Z"
   },
   {
    "duration": 13,
    "start_time": "2022-05-03T07:50:38.453Z"
   },
   {
    "duration": 14,
    "start_time": "2022-05-03T07:50:39.227Z"
   },
   {
    "duration": 1869,
    "start_time": "2022-05-03T12:58:17.865Z"
   },
   {
    "duration": 28,
    "start_time": "2022-05-03T12:58:19.736Z"
   },
   {
    "duration": 16,
    "start_time": "2022-05-03T12:58:19.765Z"
   },
   {
    "duration": 17,
    "start_time": "2022-05-03T12:58:19.783Z"
   },
   {
    "duration": 71,
    "start_time": "2022-05-03T12:58:19.801Z"
   },
   {
    "duration": 3,
    "start_time": "2022-05-03T12:58:19.874Z"
   },
   {
    "duration": 13,
    "start_time": "2022-05-03T12:58:19.878Z"
   },
   {
    "duration": 9,
    "start_time": "2022-05-03T12:58:19.893Z"
   },
   {
    "duration": 14,
    "start_time": "2022-05-03T12:58:19.903Z"
   },
   {
    "duration": 39,
    "start_time": "2022-05-03T12:58:19.921Z"
   },
   {
    "duration": 29,
    "start_time": "2022-05-03T12:58:19.961Z"
   },
   {
    "duration": 6,
    "start_time": "2022-05-03T12:58:19.992Z"
   },
   {
    "duration": 10,
    "start_time": "2022-05-03T12:58:20.000Z"
   },
   {
    "duration": 15,
    "start_time": "2022-05-03T12:58:20.012Z"
   },
   {
    "duration": 6,
    "start_time": "2022-05-03T12:58:20.029Z"
   },
   {
    "duration": 9,
    "start_time": "2022-05-03T12:58:20.052Z"
   },
   {
    "duration": 22,
    "start_time": "2022-05-03T12:58:20.063Z"
   },
   {
    "duration": 10,
    "start_time": "2022-05-03T12:58:20.087Z"
   },
   {
    "duration": 9,
    "start_time": "2022-05-03T12:58:20.099Z"
   },
   {
    "duration": 7,
    "start_time": "2022-05-03T12:58:20.110Z"
   },
   {
    "duration": 8,
    "start_time": "2022-05-03T12:58:20.119Z"
   },
   {
    "duration": 24,
    "start_time": "2022-05-03T12:58:20.129Z"
   },
   {
    "duration": 49,
    "start_time": "2022-05-03T12:58:20.157Z"
   },
   {
    "duration": 254,
    "start_time": "2022-05-03T12:58:20.208Z"
   },
   {
    "duration": 27308,
    "start_time": "2022-05-03T12:58:20.463Z"
   },
   {
    "duration": 602,
    "start_time": "2022-05-03T12:58:47.773Z"
   },
   {
    "duration": 81,
    "start_time": "2022-05-03T12:58:48.377Z"
   },
   {
    "duration": 325,
    "start_time": "2022-05-03T12:58:48.462Z"
   },
   {
    "duration": 30838,
    "start_time": "2022-05-03T12:58:48.789Z"
   },
   {
    "duration": 437,
    "start_time": "2022-05-03T12:59:19.629Z"
   },
   {
    "duration": 86,
    "start_time": "2022-05-03T12:59:20.074Z"
   },
   {
    "duration": 132,
    "start_time": "2022-05-03T12:59:20.162Z"
   },
   {
    "duration": 243,
    "start_time": "2022-05-03T12:59:20.296Z"
   },
   {
    "duration": 37040,
    "start_time": "2022-05-03T12:59:20.541Z"
   },
   {
    "duration": 467,
    "start_time": "2022-05-03T12:59:57.583Z"
   },
   {
    "duration": 102,
    "start_time": "2022-05-03T12:59:58.055Z"
   },
   {
    "duration": 124,
    "start_time": "2022-05-03T12:59:58.165Z"
   },
   {
    "duration": 127,
    "start_time": "2022-05-03T12:59:58.291Z"
   },
   {
    "duration": 17591,
    "start_time": "2022-05-03T12:59:58.420Z"
   },
   {
    "duration": 346,
    "start_time": "2022-05-03T13:00:16.013Z"
   },
   {
    "duration": 98,
    "start_time": "2022-05-03T13:00:16.365Z"
   },
   {
    "duration": 30,
    "start_time": "2022-05-03T13:00:16.468Z"
   },
   {
    "duration": 15,
    "start_time": "2022-05-03T13:00:16.500Z"
   },
   {
    "duration": 51,
    "start_time": "2022-05-03T13:00:16.517Z"
   },
   {
    "duration": 50,
    "start_time": "2022-05-03T13:00:16.569Z"
   },
   {
    "duration": 56,
    "start_time": "2022-05-03T13:00:16.621Z"
   },
   {
    "duration": 75,
    "start_time": "2022-05-03T13:00:16.680Z"
   },
   {
    "duration": 191,
    "start_time": "2022-05-03T13:00:16.758Z"
   },
   {
    "duration": 135,
    "start_time": "2022-05-03T13:00:16.951Z"
   },
   {
    "duration": 122,
    "start_time": "2022-05-04T05:50:32.432Z"
   },
   {
    "duration": 0,
    "start_time": "2022-05-04T05:50:32.556Z"
   },
   {
    "duration": 0,
    "start_time": "2022-05-04T05:50:32.557Z"
   },
   {
    "duration": 0,
    "start_time": "2022-05-04T05:50:32.559Z"
   },
   {
    "duration": 0,
    "start_time": "2022-05-04T05:50:32.559Z"
   },
   {
    "duration": 0,
    "start_time": "2022-05-04T05:50:32.560Z"
   },
   {
    "duration": 0,
    "start_time": "2022-05-04T05:50:32.562Z"
   },
   {
    "duration": 0,
    "start_time": "2022-05-04T05:50:32.562Z"
   },
   {
    "duration": 0,
    "start_time": "2022-05-04T05:50:32.563Z"
   },
   {
    "duration": 0,
    "start_time": "2022-05-04T05:50:32.564Z"
   },
   {
    "duration": 0,
    "start_time": "2022-05-04T05:50:32.565Z"
   },
   {
    "duration": 0,
    "start_time": "2022-05-04T05:50:32.566Z"
   },
   {
    "duration": 0,
    "start_time": "2022-05-04T05:50:32.567Z"
   },
   {
    "duration": 0,
    "start_time": "2022-05-04T05:50:32.568Z"
   },
   {
    "duration": 0,
    "start_time": "2022-05-04T05:50:32.569Z"
   },
   {
    "duration": 0,
    "start_time": "2022-05-04T05:50:32.570Z"
   },
   {
    "duration": 0,
    "start_time": "2022-05-04T05:50:32.571Z"
   },
   {
    "duration": 0,
    "start_time": "2022-05-04T05:50:32.572Z"
   },
   {
    "duration": 0,
    "start_time": "2022-05-04T05:50:32.573Z"
   },
   {
    "duration": 0,
    "start_time": "2022-05-04T05:50:32.574Z"
   },
   {
    "duration": 0,
    "start_time": "2022-05-04T05:50:32.575Z"
   },
   {
    "duration": 0,
    "start_time": "2022-05-04T05:50:32.576Z"
   },
   {
    "duration": 0,
    "start_time": "2022-05-04T05:50:32.577Z"
   },
   {
    "duration": 0,
    "start_time": "2022-05-04T05:50:32.579Z"
   },
   {
    "duration": 0,
    "start_time": "2022-05-04T05:50:32.580Z"
   },
   {
    "duration": 0,
    "start_time": "2022-05-04T05:50:32.580Z"
   },
   {
    "duration": 0,
    "start_time": "2022-05-04T05:50:32.581Z"
   },
   {
    "duration": 0,
    "start_time": "2022-05-04T05:50:32.583Z"
   },
   {
    "duration": 0,
    "start_time": "2022-05-04T05:50:32.584Z"
   },
   {
    "duration": 0,
    "start_time": "2022-05-04T05:50:32.585Z"
   },
   {
    "duration": 0,
    "start_time": "2022-05-04T05:50:32.586Z"
   },
   {
    "duration": 0,
    "start_time": "2022-05-04T05:50:32.587Z"
   },
   {
    "duration": 0,
    "start_time": "2022-05-04T05:50:32.588Z"
   },
   {
    "duration": 0,
    "start_time": "2022-05-04T05:50:32.589Z"
   },
   {
    "duration": 0,
    "start_time": "2022-05-04T05:50:32.590Z"
   },
   {
    "duration": 0,
    "start_time": "2022-05-04T05:50:32.591Z"
   },
   {
    "duration": 0,
    "start_time": "2022-05-04T05:50:32.592Z"
   },
   {
    "duration": 0,
    "start_time": "2022-05-04T05:50:32.624Z"
   },
   {
    "duration": 0,
    "start_time": "2022-05-04T05:50:32.625Z"
   },
   {
    "duration": 0,
    "start_time": "2022-05-04T05:50:32.626Z"
   },
   {
    "duration": 0,
    "start_time": "2022-05-04T05:50:32.628Z"
   },
   {
    "duration": 0,
    "start_time": "2022-05-04T05:50:32.629Z"
   },
   {
    "duration": 0,
    "start_time": "2022-05-04T05:50:32.630Z"
   },
   {
    "duration": 0,
    "start_time": "2022-05-04T05:50:32.631Z"
   },
   {
    "duration": 0,
    "start_time": "2022-05-04T05:50:32.632Z"
   },
   {
    "duration": 0,
    "start_time": "2022-05-04T05:50:32.633Z"
   },
   {
    "duration": 0,
    "start_time": "2022-05-04T05:50:32.635Z"
   },
   {
    "duration": 0,
    "start_time": "2022-05-04T05:50:32.636Z"
   },
   {
    "duration": 0,
    "start_time": "2022-05-04T05:50:32.637Z"
   },
   {
    "duration": 122,
    "start_time": "2022-05-04T05:52:19.385Z"
   },
   {
    "duration": 1153,
    "start_time": "2022-05-04T05:52:25.410Z"
   },
   {
    "duration": 1585,
    "start_time": "2022-05-04T05:52:33.680Z"
   },
   {
    "duration": 39,
    "start_time": "2022-05-04T05:52:35.267Z"
   },
   {
    "duration": 18,
    "start_time": "2022-05-04T05:52:35.309Z"
   },
   {
    "duration": 19,
    "start_time": "2022-05-04T05:52:35.329Z"
   },
   {
    "duration": 39,
    "start_time": "2022-05-04T05:52:35.350Z"
   },
   {
    "duration": 3,
    "start_time": "2022-05-04T05:52:35.391Z"
   },
   {
    "duration": 18,
    "start_time": "2022-05-04T05:52:35.424Z"
   },
   {
    "duration": 6,
    "start_time": "2022-05-04T05:52:35.444Z"
   },
   {
    "duration": 13,
    "start_time": "2022-05-04T05:52:35.452Z"
   },
   {
    "duration": 11,
    "start_time": "2022-05-04T05:52:35.469Z"
   },
   {
    "duration": 19,
    "start_time": "2022-05-04T05:52:35.482Z"
   },
   {
    "duration": 6,
    "start_time": "2022-05-04T05:52:35.524Z"
   },
   {
    "duration": 5,
    "start_time": "2022-05-04T05:52:35.531Z"
   },
   {
    "duration": 12,
    "start_time": "2022-05-04T05:52:35.538Z"
   },
   {
    "duration": 6,
    "start_time": "2022-05-04T05:52:35.552Z"
   },
   {
    "duration": 6,
    "start_time": "2022-05-04T05:52:35.559Z"
   },
   {
    "duration": 13,
    "start_time": "2022-05-04T05:52:35.567Z"
   },
   {
    "duration": 52,
    "start_time": "2022-05-04T05:52:35.582Z"
   },
   {
    "duration": 6,
    "start_time": "2022-05-04T05:52:35.636Z"
   },
   {
    "duration": 6,
    "start_time": "2022-05-04T05:52:35.644Z"
   },
   {
    "duration": 6,
    "start_time": "2022-05-04T05:52:35.652Z"
   },
   {
    "duration": 5,
    "start_time": "2022-05-04T05:52:35.660Z"
   },
   {
    "duration": 67,
    "start_time": "2022-05-04T05:52:35.666Z"
   },
   {
    "duration": 195,
    "start_time": "2022-05-04T05:52:35.735Z"
   },
   {
    "duration": 26283,
    "start_time": "2022-05-04T05:52:35.932Z"
   },
   {
    "duration": 209,
    "start_time": "2022-05-04T05:53:02.217Z"
   },
   {
    "duration": 6,
    "start_time": "2022-05-04T05:53:02.428Z"
   },
   {
    "duration": 259,
    "start_time": "2022-05-04T05:53:02.438Z"
   },
   {
    "duration": 25479,
    "start_time": "2022-05-04T05:53:02.699Z"
   },
   {
    "duration": 244,
    "start_time": "2022-05-04T05:53:28.180Z"
   },
   {
    "duration": 100,
    "start_time": "2022-05-04T05:53:28.427Z"
   },
   {
    "duration": 586,
    "start_time": "2022-05-04T05:53:28.528Z"
   },
   {
    "duration": 220,
    "start_time": "2022-05-04T05:53:29.116Z"
   },
   {
    "duration": 33872,
    "start_time": "2022-05-04T05:53:29.338Z"
   },
   {
    "duration": 313,
    "start_time": "2022-05-04T05:54:03.212Z"
   },
   {
    "duration": 98,
    "start_time": "2022-05-04T05:54:03.530Z"
   },
   {
    "duration": 184,
    "start_time": "2022-05-04T05:54:03.630Z"
   },
   {
    "duration": 122,
    "start_time": "2022-05-04T05:54:03.816Z"
   },
   {
    "duration": 15127,
    "start_time": "2022-05-04T05:54:03.940Z"
   },
   {
    "duration": 157,
    "start_time": "2022-05-04T05:54:19.068Z"
   },
   {
    "duration": 99,
    "start_time": "2022-05-04T05:54:19.228Z"
   },
   {
    "duration": 13,
    "start_time": "2022-05-04T05:54:19.329Z"
   },
   {
    "duration": 12,
    "start_time": "2022-05-04T05:54:19.344Z"
   },
   {
    "duration": 65,
    "start_time": "2022-05-04T05:54:19.359Z"
   },
   {
    "duration": 51,
    "start_time": "2022-05-04T05:54:19.427Z"
   },
   {
    "duration": 60,
    "start_time": "2022-05-04T05:54:19.481Z"
   },
   {
    "duration": 91,
    "start_time": "2022-05-04T05:54:19.543Z"
   },
   {
    "duration": 96,
    "start_time": "2022-05-04T05:54:19.636Z"
   },
   {
    "duration": 191,
    "start_time": "2022-05-04T05:54:19.734Z"
   },
   {
    "duration": 25168,
    "start_time": "2022-05-04T05:54:41.611Z"
   },
   {
    "duration": 26211,
    "start_time": "2022-05-04T06:08:54.960Z"
   },
   {
    "duration": 1153,
    "start_time": "2022-05-04T06:31:03.659Z"
   },
   {
    "duration": 31,
    "start_time": "2022-05-04T06:31:04.814Z"
   },
   {
    "duration": 14,
    "start_time": "2022-05-04T06:31:04.846Z"
   },
   {
    "duration": 18,
    "start_time": "2022-05-04T06:31:04.862Z"
   },
   {
    "duration": 55,
    "start_time": "2022-05-04T06:31:04.882Z"
   },
   {
    "duration": 3,
    "start_time": "2022-05-04T06:31:04.938Z"
   },
   {
    "duration": 16,
    "start_time": "2022-05-04T06:31:04.943Z"
   },
   {
    "duration": 8,
    "start_time": "2022-05-04T06:31:04.961Z"
   },
   {
    "duration": 17,
    "start_time": "2022-05-04T06:31:04.970Z"
   },
   {
    "duration": 11,
    "start_time": "2022-05-04T06:31:04.989Z"
   },
   {
    "duration": 24,
    "start_time": "2022-05-04T06:31:05.002Z"
   },
   {
    "duration": 11,
    "start_time": "2022-05-04T06:31:05.027Z"
   },
   {
    "duration": 9,
    "start_time": "2022-05-04T06:31:05.040Z"
   },
   {
    "duration": 13,
    "start_time": "2022-05-04T06:31:05.051Z"
   },
   {
    "duration": 5,
    "start_time": "2022-05-04T06:31:05.066Z"
   },
   {
    "duration": 14,
    "start_time": "2022-05-04T06:31:05.073Z"
   },
   {
    "duration": 21,
    "start_time": "2022-05-04T06:31:05.088Z"
   },
   {
    "duration": 15,
    "start_time": "2022-05-04T06:31:05.111Z"
   },
   {
    "duration": 19,
    "start_time": "2022-05-04T06:31:05.128Z"
   },
   {
    "duration": 10,
    "start_time": "2022-05-04T06:31:05.148Z"
   },
   {
    "duration": 8,
    "start_time": "2022-05-04T06:31:05.159Z"
   },
   {
    "duration": 7,
    "start_time": "2022-05-04T06:31:05.169Z"
   },
   {
    "duration": 27,
    "start_time": "2022-05-04T06:31:05.178Z"
   },
   {
    "duration": 184,
    "start_time": "2022-05-04T06:31:05.207Z"
   },
   {
    "duration": 26527,
    "start_time": "2022-05-04T06:31:05.393Z"
   },
   {
    "duration": 301,
    "start_time": "2022-05-04T06:31:31.924Z"
   },
   {
    "duration": 6,
    "start_time": "2022-05-04T06:31:32.227Z"
   },
   {
    "duration": 252,
    "start_time": "2022-05-04T06:31:32.241Z"
   },
   {
    "duration": 26423,
    "start_time": "2022-05-04T06:31:32.494Z"
   },
   {
    "duration": 226,
    "start_time": "2022-05-04T06:31:58.918Z"
   },
   {
    "duration": 180,
    "start_time": "2022-05-04T06:31:59.146Z"
   },
   {
    "duration": 367,
    "start_time": "2022-05-04T06:31:59.328Z"
   },
   {
    "duration": 330,
    "start_time": "2022-05-04T06:31:59.697Z"
   },
   {
    "duration": 35711,
    "start_time": "2022-05-04T06:32:00.029Z"
   },
   {
    "duration": 384,
    "start_time": "2022-05-04T06:32:35.742Z"
   },
   {
    "duration": 97,
    "start_time": "2022-05-04T06:32:36.132Z"
   },
   {
    "duration": 126,
    "start_time": "2022-05-04T06:32:36.231Z"
   },
   {
    "duration": 126,
    "start_time": "2022-05-04T06:32:36.359Z"
   },
   {
    "duration": 16622,
    "start_time": "2022-05-04T06:32:36.487Z"
   },
   {
    "duration": 436,
    "start_time": "2022-05-04T06:32:53.110Z"
   },
   {
    "duration": 125,
    "start_time": "2022-05-04T06:32:53.629Z"
   },
   {
    "duration": 25790,
    "start_time": "2022-05-04T06:34:28.799Z"
   },
   {
    "duration": 1157,
    "start_time": "2022-05-04T07:01:46.255Z"
   },
   {
    "duration": 23,
    "start_time": "2022-05-04T07:01:47.415Z"
   },
   {
    "duration": 14,
    "start_time": "2022-05-04T07:01:47.439Z"
   },
   {
    "duration": 20,
    "start_time": "2022-05-04T07:01:47.455Z"
   },
   {
    "duration": 47,
    "start_time": "2022-05-04T07:01:47.477Z"
   },
   {
    "duration": 3,
    "start_time": "2022-05-04T07:01:47.526Z"
   },
   {
    "duration": 19,
    "start_time": "2022-05-04T07:01:47.530Z"
   },
   {
    "duration": 6,
    "start_time": "2022-05-04T07:01:47.551Z"
   },
   {
    "duration": 34,
    "start_time": "2022-05-04T07:01:47.559Z"
   },
   {
    "duration": 11,
    "start_time": "2022-05-04T07:01:47.595Z"
   },
   {
    "duration": 12,
    "start_time": "2022-05-04T07:01:47.607Z"
   },
   {
    "duration": 5,
    "start_time": "2022-05-04T07:01:47.621Z"
   },
   {
    "duration": 6,
    "start_time": "2022-05-04T07:01:47.627Z"
   },
   {
    "duration": 13,
    "start_time": "2022-05-04T07:01:47.635Z"
   },
   {
    "duration": 5,
    "start_time": "2022-05-04T07:01:47.650Z"
   },
   {
    "duration": 8,
    "start_time": "2022-05-04T07:01:47.657Z"
   },
   {
    "duration": 13,
    "start_time": "2022-05-04T07:01:47.667Z"
   },
   {
    "duration": 11,
    "start_time": "2022-05-04T07:01:47.682Z"
   },
   {
    "duration": 30,
    "start_time": "2022-05-04T07:01:47.694Z"
   },
   {
    "duration": 5,
    "start_time": "2022-05-04T07:01:47.726Z"
   },
   {
    "duration": 7,
    "start_time": "2022-05-04T07:01:47.733Z"
   },
   {
    "duration": 8,
    "start_time": "2022-05-04T07:01:47.742Z"
   },
   {
    "duration": 33,
    "start_time": "2022-05-04T07:01:47.751Z"
   },
   {
    "duration": 184,
    "start_time": "2022-05-04T07:01:47.786Z"
   },
   {
    "duration": 25752,
    "start_time": "2022-05-04T07:01:47.972Z"
   },
   {
    "duration": 112,
    "start_time": "2022-05-04T07:02:13.726Z"
   },
   {
    "duration": 7,
    "start_time": "2022-05-04T07:02:13.924Z"
   },
   {
    "duration": 264,
    "start_time": "2022-05-04T07:02:13.935Z"
   },
   {
    "duration": 26229,
    "start_time": "2022-05-04T07:02:14.201Z"
   },
   {
    "duration": 292,
    "start_time": "2022-05-04T07:02:40.432Z"
   },
   {
    "duration": 102,
    "start_time": "2022-05-04T07:02:40.726Z"
   },
   {
    "duration": 1094,
    "start_time": "2022-05-04T07:02:40.830Z"
   },
   {
    "duration": 225,
    "start_time": "2022-05-04T07:02:41.925Z"
   },
   {
    "duration": 33756,
    "start_time": "2022-05-04T07:02:42.152Z"
   },
   {
    "duration": 316,
    "start_time": "2022-05-04T07:03:15.910Z"
   },
   {
    "duration": 98,
    "start_time": "2022-05-04T07:03:16.228Z"
   },
   {
    "duration": 120,
    "start_time": "2022-05-04T07:03:16.328Z"
   },
   {
    "duration": 116,
    "start_time": "2022-05-04T07:03:16.449Z"
   },
   {
    "duration": 14720,
    "start_time": "2022-05-04T07:03:16.567Z"
   },
   {
    "duration": 144,
    "start_time": "2022-05-04T07:03:31.289Z"
   },
   {
    "duration": 122,
    "start_time": "2022-05-04T07:03:31.524Z"
   }
  ],
  "kernelspec": {
   "display_name": "Python 3 (ipykernel)",
   "language": "python",
   "name": "python3"
  },
  "language_info": {
   "codemirror_mode": {
    "name": "ipython",
    "version": 3
   },
   "file_extension": ".py",
   "mimetype": "text/x-python",
   "name": "python",
   "nbconvert_exporter": "python",
   "pygments_lexer": "ipython3",
   "version": "3.9.5"
  },
  "toc": {
   "base_numbering": 1,
   "nav_menu": {},
   "number_sections": true,
   "sideBar": true,
   "skip_h1_title": true,
   "title_cell": "Содержание",
   "title_sidebar": "Contents",
   "toc_cell": true,
   "toc_position": {
    "height": "calc(100% - 180px)",
    "left": "10px",
    "top": "150px",
    "width": "236.667px"
   },
   "toc_section_display": true,
   "toc_window_display": false
  }
 },
 "nbformat": 4,
 "nbformat_minor": 2
}
