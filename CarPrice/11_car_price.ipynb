{
 "cells": [
  {
   "cell_type": "markdown",
   "metadata": {
    "toc": true
   },
   "source": [
    "<h1>Содержание:<span class=\"tocSkip\"></span></h1>\n",
    "<div class=\"toc\"><ul class=\"toc-item\"><li><span><a href=\"#Подготовка-данных\" data-toc-modified-id=\"Подготовка-данных-1\"><span class=\"toc-item-num\">1&nbsp;&nbsp;</span>Подготовка данных</a></span><ul class=\"toc-item\"><li><span><a href=\"#Вывод\" data-toc-modified-id=\"Вывод-1.1\"><span class=\"toc-item-num\">1.1&nbsp;&nbsp;</span>Вывод</a></span></li></ul></li><li><span><a href=\"#Обучение-моделей\" data-toc-modified-id=\"Обучение-моделей-2\"><span class=\"toc-item-num\">2&nbsp;&nbsp;</span>Обучение моделей</a></span><ul class=\"toc-item\"><li><span><a href=\"#Вывод\" data-toc-modified-id=\"Вывод-2.1\"><span class=\"toc-item-num\">2.1&nbsp;&nbsp;</span>Вывод</a></span></li></ul></li><li><span><a href=\"#Анализ-моделей\" data-toc-modified-id=\"Анализ-моделей-3\"><span class=\"toc-item-num\">3&nbsp;&nbsp;</span>Анализ моделей</a></span><ul class=\"toc-item\"><li><span><a href=\"#Вывод\" data-toc-modified-id=\"Вывод-3.1\"><span class=\"toc-item-num\">3.1&nbsp;&nbsp;</span>Вывод</a></span></li></ul></li><li><span><a href=\"#Чек-лист-проверки\" data-toc-modified-id=\"Чек-лист-проверки-4\"><span class=\"toc-item-num\">4&nbsp;&nbsp;</span>Чек-лист проверки</a></span></li></ul></div>"
   ]
  },
  {
   "cell_type": "markdown",
   "metadata": {},
   "source": [
    "# Определение стоимости автомобилей"
   ]
  },
  {
   "cell_type": "markdown",
   "metadata": {},
   "source": [
    "Сервис по продаже автомобилей с пробегом «Не бит, не крашен» разрабатывает приложение для привлечения новых клиентов. В нём можно быстро узнать рыночную стоимость своего автомобиля. В вашем распоряжении исторические данные: технические характеристики, комплектации и цены автомобилей. Вам нужно построить модель для определения стоимости. \n",
    "\n",
    "Заказчику важны:\n",
    "\n",
    "- качество предсказания;\n",
    "- скорость предсказания;\n",
    "- время обучения."
   ]
  },
  {
   "cell_type": "markdown",
   "metadata": {},
   "source": [
    "## Подготовка данных"
   ]
  },
  {
   "cell_type": "code",
   "execution_count": 1,
   "metadata": {},
   "outputs": [],
   "source": [
    "import pandas as pd\n",
    "import numpy as np\n",
    "import matplotlib.pyplot as plt\n",
    "import seaborn as sns\n",
    "import time\n",
    "import warnings\n",
    "warnings.filterwarnings(\"ignore\")\n",
    "\n",
    "from sklearn.dummy import DummyRegressor\n",
    "from sklearn.metrics import mean_squared_error\n",
    "from sklearn.linear_model import LinearRegression\n",
    "from sklearn.model_selection import train_test_split\n",
    "from sklearn.preprocessing import StandardScaler\n",
    "from sklearn.tree import DecisionTreeRegressor\n",
    "from catboost import CatBoostRegressor\n",
    "from lightgbm import LGBMRegressor\n"
   ]
  },
  {
   "cell_type": "code",
   "execution_count": 2,
   "metadata": {},
   "outputs": [],
   "source": [
    "data = pd.read_csv('/datasets/autos.csv')"
   ]
  },
  {
   "cell_type": "code",
   "execution_count": 3,
   "metadata": {},
   "outputs": [
    {
     "name": "stdout",
     "output_type": "stream",
     "text": [
      "<class 'pandas.core.frame.DataFrame'>\n",
      "RangeIndex: 354369 entries, 0 to 354368\n",
      "Data columns (total 16 columns):\n",
      " #   Column             Non-Null Count   Dtype \n",
      "---  ------             --------------   ----- \n",
      " 0   DateCrawled        354369 non-null  object\n",
      " 1   Price              354369 non-null  int64 \n",
      " 2   VehicleType        316879 non-null  object\n",
      " 3   RegistrationYear   354369 non-null  int64 \n",
      " 4   Gearbox            334536 non-null  object\n",
      " 5   Power              354369 non-null  int64 \n",
      " 6   Model              334664 non-null  object\n",
      " 7   Kilometer          354369 non-null  int64 \n",
      " 8   RegistrationMonth  354369 non-null  int64 \n",
      " 9   FuelType           321474 non-null  object\n",
      " 10  Brand              354369 non-null  object\n",
      " 11  NotRepaired        283215 non-null  object\n",
      " 12  DateCreated        354369 non-null  object\n",
      " 13  NumberOfPictures   354369 non-null  int64 \n",
      " 14  PostalCode         354369 non-null  int64 \n",
      " 15  LastSeen           354369 non-null  object\n",
      "dtypes: int64(7), object(9)\n",
      "memory usage: 43.3+ MB\n"
     ]
    }
   ],
   "source": [
    "data.info()"
   ]
  },
  {
   "cell_type": "code",
   "execution_count": 4,
   "metadata": {},
   "outputs": [
    {
     "data": {
      "text/plain": [
       "4"
      ]
     },
     "execution_count": 4,
     "metadata": {},
     "output_type": "execute_result"
    }
   ],
   "source": [
    "# Проверим наличие дублей\n",
    "data.duplicated().sum()"
   ]
  },
  {
   "cell_type": "code",
   "execution_count": 5,
   "metadata": {},
   "outputs": [],
   "source": [
    "data.drop_duplicates(inplace=True)"
   ]
  },
  {
   "cell_type": "code",
   "execution_count": 6,
   "metadata": {},
   "outputs": [
    {
     "data": {
      "text/html": [
       "<div>\n",
       "<style scoped>\n",
       "    .dataframe tbody tr th:only-of-type {\n",
       "        vertical-align: middle;\n",
       "    }\n",
       "\n",
       "    .dataframe tbody tr th {\n",
       "        vertical-align: top;\n",
       "    }\n",
       "\n",
       "    .dataframe thead th {\n",
       "        text-align: right;\n",
       "    }\n",
       "</style>\n",
       "<table border=\"1\" class=\"dataframe\">\n",
       "  <thead>\n",
       "    <tr style=\"text-align: right;\">\n",
       "      <th></th>\n",
       "      <th>Price</th>\n",
       "      <th>RegistrationYear</th>\n",
       "      <th>Power</th>\n",
       "      <th>Kilometer</th>\n",
       "      <th>RegistrationMonth</th>\n",
       "      <th>NumberOfPictures</th>\n",
       "      <th>PostalCode</th>\n",
       "    </tr>\n",
       "  </thead>\n",
       "  <tbody>\n",
       "    <tr>\n",
       "      <th>count</th>\n",
       "      <td>354365.000000</td>\n",
       "      <td>354365.000000</td>\n",
       "      <td>354365.000000</td>\n",
       "      <td>354365.000000</td>\n",
       "      <td>354365.000000</td>\n",
       "      <td>354365.0</td>\n",
       "      <td>354365.000000</td>\n",
       "    </tr>\n",
       "    <tr>\n",
       "      <th>mean</th>\n",
       "      <td>4416.679830</td>\n",
       "      <td>2004.234481</td>\n",
       "      <td>110.093816</td>\n",
       "      <td>128211.363989</td>\n",
       "      <td>5.714650</td>\n",
       "      <td>0.0</td>\n",
       "      <td>50508.503800</td>\n",
       "    </tr>\n",
       "    <tr>\n",
       "      <th>std</th>\n",
       "      <td>4514.176349</td>\n",
       "      <td>90.228466</td>\n",
       "      <td>189.851330</td>\n",
       "      <td>37905.083858</td>\n",
       "      <td>3.726432</td>\n",
       "      <td>0.0</td>\n",
       "      <td>25783.100078</td>\n",
       "    </tr>\n",
       "    <tr>\n",
       "      <th>min</th>\n",
       "      <td>0.000000</td>\n",
       "      <td>1000.000000</td>\n",
       "      <td>0.000000</td>\n",
       "      <td>5000.000000</td>\n",
       "      <td>0.000000</td>\n",
       "      <td>0.0</td>\n",
       "      <td>1067.000000</td>\n",
       "    </tr>\n",
       "    <tr>\n",
       "      <th>25%</th>\n",
       "      <td>1050.000000</td>\n",
       "      <td>1999.000000</td>\n",
       "      <td>69.000000</td>\n",
       "      <td>125000.000000</td>\n",
       "      <td>3.000000</td>\n",
       "      <td>0.0</td>\n",
       "      <td>30165.000000</td>\n",
       "    </tr>\n",
       "    <tr>\n",
       "      <th>50%</th>\n",
       "      <td>2700.000000</td>\n",
       "      <td>2003.000000</td>\n",
       "      <td>105.000000</td>\n",
       "      <td>150000.000000</td>\n",
       "      <td>6.000000</td>\n",
       "      <td>0.0</td>\n",
       "      <td>49413.000000</td>\n",
       "    </tr>\n",
       "    <tr>\n",
       "      <th>75%</th>\n",
       "      <td>6400.000000</td>\n",
       "      <td>2008.000000</td>\n",
       "      <td>143.000000</td>\n",
       "      <td>150000.000000</td>\n",
       "      <td>9.000000</td>\n",
       "      <td>0.0</td>\n",
       "      <td>71083.000000</td>\n",
       "    </tr>\n",
       "    <tr>\n",
       "      <th>max</th>\n",
       "      <td>20000.000000</td>\n",
       "      <td>9999.000000</td>\n",
       "      <td>20000.000000</td>\n",
       "      <td>150000.000000</td>\n",
       "      <td>12.000000</td>\n",
       "      <td>0.0</td>\n",
       "      <td>99998.000000</td>\n",
       "    </tr>\n",
       "  </tbody>\n",
       "</table>\n",
       "</div>"
      ],
      "text/plain": [
       "               Price  RegistrationYear          Power      Kilometer  \\\n",
       "count  354365.000000     354365.000000  354365.000000  354365.000000   \n",
       "mean     4416.679830       2004.234481     110.093816  128211.363989   \n",
       "std      4514.176349         90.228466     189.851330   37905.083858   \n",
       "min         0.000000       1000.000000       0.000000    5000.000000   \n",
       "25%      1050.000000       1999.000000      69.000000  125000.000000   \n",
       "50%      2700.000000       2003.000000     105.000000  150000.000000   \n",
       "75%      6400.000000       2008.000000     143.000000  150000.000000   \n",
       "max     20000.000000       9999.000000   20000.000000  150000.000000   \n",
       "\n",
       "       RegistrationMonth  NumberOfPictures     PostalCode  \n",
       "count      354365.000000          354365.0  354365.000000  \n",
       "mean            5.714650               0.0   50508.503800  \n",
       "std             3.726432               0.0   25783.100078  \n",
       "min             0.000000               0.0    1067.000000  \n",
       "25%             3.000000               0.0   30165.000000  \n",
       "50%             6.000000               0.0   49413.000000  \n",
       "75%             9.000000               0.0   71083.000000  \n",
       "max            12.000000               0.0   99998.000000  "
      ]
     },
     "execution_count": 6,
     "metadata": {},
     "output_type": "execute_result"
    }
   ],
   "source": [
    "data.describe()"
   ]
  },
  {
   "cell_type": "markdown",
   "metadata": {},
   "source": [
    "Данные содержат параметры не нужные для дальнейшей работы - DateCrawled, RegistrationMonth, NumberOfPictures, PostalCode, LastSeen. Удалим эти столбцы."
   ]
  },
  {
   "cell_type": "code",
   "execution_count": 7,
   "metadata": {},
   "outputs": [],
   "source": [
    "data = data.drop(['DateCrawled', 'RegistrationMonth', 'NumberOfPictures', 'PostalCode', 'LastSeen' ], axis = 1)"
   ]
  },
  {
   "cell_type": "code",
   "execution_count": 8,
   "metadata": {},
   "outputs": [
    {
     "name": "stdout",
     "output_type": "stream",
     "text": [
      "<class 'pandas.core.frame.DataFrame'>\n",
      "Int64Index: 354365 entries, 0 to 354368\n",
      "Data columns (total 11 columns):\n",
      " #   Column            Non-Null Count   Dtype \n",
      "---  ------            --------------   ----- \n",
      " 0   Price             354365 non-null  int64 \n",
      " 1   VehicleType       316875 non-null  object\n",
      " 2   RegistrationYear  354365 non-null  int64 \n",
      " 3   Gearbox           334532 non-null  object\n",
      " 4   Power             354365 non-null  int64 \n",
      " 5   Model             334660 non-null  object\n",
      " 6   Kilometer         354365 non-null  int64 \n",
      " 7   FuelType          321470 non-null  object\n",
      " 8   Brand             354365 non-null  object\n",
      " 9   NotRepaired       283211 non-null  object\n",
      " 10  DateCreated       354365 non-null  object\n",
      "dtypes: int64(4), object(7)\n",
      "memory usage: 32.4+ MB\n"
     ]
    }
   ],
   "source": [
    "data.info()"
   ]
  },
  {
   "cell_type": "code",
   "execution_count": 9,
   "metadata": {},
   "outputs": [],
   "source": [
    "# DateCreated сделаем датой\n",
    "data['DateCreated'] = pd.to_datetime(data['DateCreated'])"
   ]
  },
  {
   "cell_type": "code",
   "execution_count": 10,
   "metadata": {},
   "outputs": [
    {
     "data": {
      "text/html": [
       "<div>\n",
       "<style scoped>\n",
       "    .dataframe tbody tr th:only-of-type {\n",
       "        vertical-align: middle;\n",
       "    }\n",
       "\n",
       "    .dataframe tbody tr th {\n",
       "        vertical-align: top;\n",
       "    }\n",
       "\n",
       "    .dataframe thead th {\n",
       "        text-align: right;\n",
       "    }\n",
       "</style>\n",
       "<table border=\"1\" class=\"dataframe\">\n",
       "  <thead>\n",
       "    <tr style=\"text-align: right;\">\n",
       "      <th></th>\n",
       "      <th>Price</th>\n",
       "      <th>VehicleType</th>\n",
       "      <th>RegistrationYear</th>\n",
       "      <th>Gearbox</th>\n",
       "      <th>Power</th>\n",
       "      <th>Model</th>\n",
       "      <th>Kilometer</th>\n",
       "      <th>FuelType</th>\n",
       "      <th>Brand</th>\n",
       "      <th>NotRepaired</th>\n",
       "      <th>DateCreated</th>\n",
       "    </tr>\n",
       "  </thead>\n",
       "  <tbody>\n",
       "    <tr>\n",
       "      <th>0</th>\n",
       "      <td>480</td>\n",
       "      <td>NaN</td>\n",
       "      <td>1993</td>\n",
       "      <td>manual</td>\n",
       "      <td>0</td>\n",
       "      <td>golf</td>\n",
       "      <td>150000</td>\n",
       "      <td>petrol</td>\n",
       "      <td>volkswagen</td>\n",
       "      <td>NaN</td>\n",
       "      <td>2016-03-24</td>\n",
       "    </tr>\n",
       "    <tr>\n",
       "      <th>1</th>\n",
       "      <td>18300</td>\n",
       "      <td>coupe</td>\n",
       "      <td>2011</td>\n",
       "      <td>manual</td>\n",
       "      <td>190</td>\n",
       "      <td>NaN</td>\n",
       "      <td>125000</td>\n",
       "      <td>gasoline</td>\n",
       "      <td>audi</td>\n",
       "      <td>yes</td>\n",
       "      <td>2016-03-24</td>\n",
       "    </tr>\n",
       "    <tr>\n",
       "      <th>2</th>\n",
       "      <td>9800</td>\n",
       "      <td>suv</td>\n",
       "      <td>2004</td>\n",
       "      <td>auto</td>\n",
       "      <td>163</td>\n",
       "      <td>grand</td>\n",
       "      <td>125000</td>\n",
       "      <td>gasoline</td>\n",
       "      <td>jeep</td>\n",
       "      <td>NaN</td>\n",
       "      <td>2016-03-14</td>\n",
       "    </tr>\n",
       "    <tr>\n",
       "      <th>3</th>\n",
       "      <td>1500</td>\n",
       "      <td>small</td>\n",
       "      <td>2001</td>\n",
       "      <td>manual</td>\n",
       "      <td>75</td>\n",
       "      <td>golf</td>\n",
       "      <td>150000</td>\n",
       "      <td>petrol</td>\n",
       "      <td>volkswagen</td>\n",
       "      <td>no</td>\n",
       "      <td>2016-03-17</td>\n",
       "    </tr>\n",
       "    <tr>\n",
       "      <th>4</th>\n",
       "      <td>3600</td>\n",
       "      <td>small</td>\n",
       "      <td>2008</td>\n",
       "      <td>manual</td>\n",
       "      <td>69</td>\n",
       "      <td>fabia</td>\n",
       "      <td>90000</td>\n",
       "      <td>gasoline</td>\n",
       "      <td>skoda</td>\n",
       "      <td>no</td>\n",
       "      <td>2016-03-31</td>\n",
       "    </tr>\n",
       "  </tbody>\n",
       "</table>\n",
       "</div>"
      ],
      "text/plain": [
       "   Price VehicleType  RegistrationYear Gearbox  Power  Model  Kilometer  \\\n",
       "0    480         NaN              1993  manual      0   golf     150000   \n",
       "1  18300       coupe              2011  manual    190    NaN     125000   \n",
       "2   9800         suv              2004    auto    163  grand     125000   \n",
       "3   1500       small              2001  manual     75   golf     150000   \n",
       "4   3600       small              2008  manual     69  fabia      90000   \n",
       "\n",
       "   FuelType       Brand NotRepaired DateCreated  \n",
       "0    petrol  volkswagen         NaN  2016-03-24  \n",
       "1  gasoline        audi         yes  2016-03-24  \n",
       "2  gasoline        jeep         NaN  2016-03-14  \n",
       "3    petrol  volkswagen          no  2016-03-17  \n",
       "4  gasoline       skoda          no  2016-03-31  "
      ]
     },
     "execution_count": 10,
     "metadata": {},
     "output_type": "execute_result"
    }
   ],
   "source": [
    "data.head()"
   ]
  },
  {
   "cell_type": "code",
   "execution_count": 11,
   "metadata": {},
   "outputs": [
    {
     "data": {
      "text/plain": [
       "Price               0.000000\n",
       "VehicleType         0.105795\n",
       "RegistrationYear    0.000000\n",
       "Gearbox             0.055968\n",
       "Power               0.000000\n",
       "Model               0.055607\n",
       "Kilometer           0.000000\n",
       "FuelType            0.092828\n",
       "Brand               0.000000\n",
       "NotRepaired         0.200793\n",
       "DateCreated         0.000000\n",
       "dtype: float64"
      ]
     },
     "execution_count": 11,
     "metadata": {},
     "output_type": "execute_result"
    }
   ],
   "source": [
    "# Посмотрим пропуски\n",
    "data.isna().mean()"
   ]
  },
  {
   "cell_type": "code",
   "execution_count": 12,
   "metadata": {},
   "outputs": [],
   "source": [
    "# Нет уверенности, что можно корректно заменить пропуски по подгруппам. Добавим новый вариант unknown\n",
    "for col in data.columns:\n",
    "    if data[col].isnull().sum() > 0:\n",
    "        data[col].fillna('unknown', inplace=True)        "
   ]
  },
  {
   "cell_type": "code",
   "execution_count": 13,
   "metadata": {},
   "outputs": [
    {
     "data": {
      "text/plain": [
       "Price               0.0\n",
       "VehicleType         0.0\n",
       "RegistrationYear    0.0\n",
       "Gearbox             0.0\n",
       "Power               0.0\n",
       "Model               0.0\n",
       "Kilometer           0.0\n",
       "FuelType            0.0\n",
       "Brand               0.0\n",
       "NotRepaired         0.0\n",
       "DateCreated         0.0\n",
       "dtype: float64"
      ]
     },
     "execution_count": 13,
     "metadata": {},
     "output_type": "execute_result"
    }
   ],
   "source": [
    "# Проверим\n",
    "data.isna().mean()"
   ]
  },
  {
   "cell_type": "markdown",
   "metadata": {},
   "source": [
    "**Посмотрим выбросы**"
   ]
  },
  {
   "cell_type": "markdown",
   "metadata": {},
   "source": [
    "Исходя из таблицы описательных статистик, стоит проверить год регистрации автомобиля."
   ]
  },
  {
   "cell_type": "code",
   "execution_count": 14,
   "metadata": {},
   "outputs": [
    {
     "data": {
      "text/plain": [
       "2000    24490\n",
       "1999    22727\n",
       "2005    22109\n",
       "2001    20123\n",
       "2006    19900\n",
       "        ...  \n",
       "4100        1\n",
       "1200        1\n",
       "5300        1\n",
       "8888        1\n",
       "2290        1\n",
       "Name: RegistrationYear, Length: 151, dtype: int64"
      ]
     },
     "execution_count": 14,
     "metadata": {},
     "output_type": "execute_result"
    }
   ],
   "source": [
    "data['RegistrationYear'].value_counts(sort=True)"
   ]
  },
  {
   "cell_type": "code",
   "execution_count": 15,
   "metadata": {},
   "outputs": [
    {
     "name": "stdout",
     "output_type": "stream",
     "text": [
      "[1000 1001 1039 1111 1200 1234 1253 1255 1300 1400 1500 1600 1602 1688\n",
      " 1800 1910 1915 1919 1920 1923 1925 1927 1928 1929 1930 1931 1932 1933\n",
      " 1934 1935 1936 1937 1938 1940 1941 1942 1943 1944 1945 1946 1947 1948\n",
      " 1949 1950 1951 1952 1953 1954 1955 1956 1957 1958 1959 1960 1961 1962\n",
      " 1963 1964 1965 1966 1967 1968 1969 1970 1971 1972 1973 1974 1975 1976\n",
      " 1977 1978 1979 1980 1981 1982 1983 1984 1985 1986 1987 1988 1989 1990\n",
      " 1991 1992 1993 1994 1995 1996 1997 1998 1999 2000 2001 2002 2003 2004\n",
      " 2005 2006 2007 2008 2009 2010 2011 2012 2013 2014 2015 2016 2017 2018\n",
      " 2019 2066 2200 2222 2290 2500 2800 2900 3000 3200 3500 3700 3800 4000\n",
      " 4100 4500 4800 5000 5300 5555 5600 5900 5911 6000 6500 7000 7100 7500\n",
      " 7800 8000 8200 8455 8500 8888 9000 9229 9450 9996 9999]\n"
     ]
    }
   ],
   "source": [
    "print (np.sort(data['RegistrationYear'].unique()))"
   ]
  },
  {
   "cell_type": "markdown",
   "metadata": {},
   "source": [
    "Наличие и структура слишком высоких и слишком низких значений в показателе говорит о том, что нужно определить границы - год, который мы будем считать минимально возможным для решения нашей задачи, и год, максимально возможный. Скорее всего, регистрация автомобиля не могла произойти после создания анкеты."
   ]
  },
  {
   "cell_type": "code",
   "execution_count": 16,
   "metadata": {},
   "outputs": [
    {
     "data": {
      "text/html": [
       "<div>\n",
       "<style scoped>\n",
       "    .dataframe tbody tr th:only-of-type {\n",
       "        vertical-align: middle;\n",
       "    }\n",
       "\n",
       "    .dataframe tbody tr th {\n",
       "        vertical-align: top;\n",
       "    }\n",
       "\n",
       "    .dataframe thead th {\n",
       "        text-align: right;\n",
       "    }\n",
       "</style>\n",
       "<table border=\"1\" class=\"dataframe\">\n",
       "  <thead>\n",
       "    <tr style=\"text-align: right;\">\n",
       "      <th></th>\n",
       "      <th>Price</th>\n",
       "      <th>VehicleType</th>\n",
       "      <th>RegistrationYear</th>\n",
       "      <th>Gearbox</th>\n",
       "      <th>Power</th>\n",
       "      <th>Model</th>\n",
       "      <th>Kilometer</th>\n",
       "      <th>FuelType</th>\n",
       "      <th>Brand</th>\n",
       "      <th>NotRepaired</th>\n",
       "      <th>DateCreated</th>\n",
       "    </tr>\n",
       "  </thead>\n",
       "  <tbody>\n",
       "    <tr>\n",
       "      <th>61207</th>\n",
       "      <td>8999</td>\n",
       "      <td>unknown</td>\n",
       "      <td>2005</td>\n",
       "      <td>unknown</td>\n",
       "      <td>0</td>\n",
       "      <td>147</td>\n",
       "      <td>125000</td>\n",
       "      <td>petrol</td>\n",
       "      <td>alfa_romeo</td>\n",
       "      <td>unknown</td>\n",
       "      <td>2014-03-10</td>\n",
       "    </tr>\n",
       "    <tr>\n",
       "      <th>4001</th>\n",
       "      <td>6000</td>\n",
       "      <td>bus</td>\n",
       "      <td>1995</td>\n",
       "      <td>auto</td>\n",
       "      <td>200</td>\n",
       "      <td>other</td>\n",
       "      <td>150000</td>\n",
       "      <td>petrol</td>\n",
       "      <td>chevrolet</td>\n",
       "      <td>no</td>\n",
       "      <td>2015-03-20</td>\n",
       "    </tr>\n",
       "    <tr>\n",
       "      <th>342275</th>\n",
       "      <td>10400</td>\n",
       "      <td>bus</td>\n",
       "      <td>1993</td>\n",
       "      <td>unknown</td>\n",
       "      <td>0</td>\n",
       "      <td>ducato</td>\n",
       "      <td>30000</td>\n",
       "      <td>gasoline</td>\n",
       "      <td>fiat</td>\n",
       "      <td>unknown</td>\n",
       "      <td>2015-06-18</td>\n",
       "    </tr>\n",
       "    <tr>\n",
       "      <th>86601</th>\n",
       "      <td>14250</td>\n",
       "      <td>convertible</td>\n",
       "      <td>2005</td>\n",
       "      <td>manual</td>\n",
       "      <td>163</td>\n",
       "      <td>slk</td>\n",
       "      <td>150000</td>\n",
       "      <td>petrol</td>\n",
       "      <td>mercedes_benz</td>\n",
       "      <td>no</td>\n",
       "      <td>2015-08-07</td>\n",
       "    </tr>\n",
       "    <tr>\n",
       "      <th>175103</th>\n",
       "      <td>5200</td>\n",
       "      <td>convertible</td>\n",
       "      <td>2006</td>\n",
       "      <td>manual</td>\n",
       "      <td>109</td>\n",
       "      <td>2_reihe</td>\n",
       "      <td>80000</td>\n",
       "      <td>petrol</td>\n",
       "      <td>peugeot</td>\n",
       "      <td>no</td>\n",
       "      <td>2015-08-10</td>\n",
       "    </tr>\n",
       "    <tr>\n",
       "      <th>...</th>\n",
       "      <td>...</td>\n",
       "      <td>...</td>\n",
       "      <td>...</td>\n",
       "      <td>...</td>\n",
       "      <td>...</td>\n",
       "      <td>...</td>\n",
       "      <td>...</td>\n",
       "      <td>...</td>\n",
       "      <td>...</td>\n",
       "      <td>...</td>\n",
       "      <td>...</td>\n",
       "    </tr>\n",
       "    <tr>\n",
       "      <th>184411</th>\n",
       "      <td>550</td>\n",
       "      <td>small</td>\n",
       "      <td>1997</td>\n",
       "      <td>manual</td>\n",
       "      <td>60</td>\n",
       "      <td>ka</td>\n",
       "      <td>150000</td>\n",
       "      <td>petrol</td>\n",
       "      <td>ford</td>\n",
       "      <td>no</td>\n",
       "      <td>2016-04-07</td>\n",
       "    </tr>\n",
       "    <tr>\n",
       "      <th>262340</th>\n",
       "      <td>2190</td>\n",
       "      <td>wagon</td>\n",
       "      <td>1998</td>\n",
       "      <td>manual</td>\n",
       "      <td>110</td>\n",
       "      <td>a4</td>\n",
       "      <td>150000</td>\n",
       "      <td>gasoline</td>\n",
       "      <td>audi</td>\n",
       "      <td>no</td>\n",
       "      <td>2016-04-07</td>\n",
       "    </tr>\n",
       "    <tr>\n",
       "      <th>214462</th>\n",
       "      <td>1890</td>\n",
       "      <td>wagon</td>\n",
       "      <td>2000</td>\n",
       "      <td>manual</td>\n",
       "      <td>150</td>\n",
       "      <td>a4</td>\n",
       "      <td>5000</td>\n",
       "      <td>gasoline</td>\n",
       "      <td>audi</td>\n",
       "      <td>no</td>\n",
       "      <td>2016-04-07</td>\n",
       "    </tr>\n",
       "    <tr>\n",
       "      <th>241969</th>\n",
       "      <td>15490</td>\n",
       "      <td>convertible</td>\n",
       "      <td>2010</td>\n",
       "      <td>manual</td>\n",
       "      <td>150</td>\n",
       "      <td>c_reihe</td>\n",
       "      <td>125000</td>\n",
       "      <td>gasoline</td>\n",
       "      <td>volvo</td>\n",
       "      <td>no</td>\n",
       "      <td>2016-04-07</td>\n",
       "    </tr>\n",
       "    <tr>\n",
       "      <th>260600</th>\n",
       "      <td>850</td>\n",
       "      <td>sedan</td>\n",
       "      <td>1991</td>\n",
       "      <td>manual</td>\n",
       "      <td>100</td>\n",
       "      <td>3er</td>\n",
       "      <td>30000</td>\n",
       "      <td>petrol</td>\n",
       "      <td>bmw</td>\n",
       "      <td>no</td>\n",
       "      <td>2016-04-07</td>\n",
       "    </tr>\n",
       "  </tbody>\n",
       "</table>\n",
       "<p>354365 rows × 11 columns</p>\n",
       "</div>"
      ],
      "text/plain": [
       "        Price  VehicleType  RegistrationYear  Gearbox  Power    Model  \\\n",
       "61207    8999      unknown              2005  unknown      0      147   \n",
       "4001     6000          bus              1995     auto    200    other   \n",
       "342275  10400          bus              1993  unknown      0   ducato   \n",
       "86601   14250  convertible              2005   manual    163      slk   \n",
       "175103   5200  convertible              2006   manual    109  2_reihe   \n",
       "...       ...          ...               ...      ...    ...      ...   \n",
       "184411    550        small              1997   manual     60       ka   \n",
       "262340   2190        wagon              1998   manual    110       a4   \n",
       "214462   1890        wagon              2000   manual    150       a4   \n",
       "241969  15490  convertible              2010   manual    150  c_reihe   \n",
       "260600    850        sedan              1991   manual    100      3er   \n",
       "\n",
       "        Kilometer  FuelType          Brand NotRepaired DateCreated  \n",
       "61207      125000    petrol     alfa_romeo     unknown  2014-03-10  \n",
       "4001       150000    petrol      chevrolet          no  2015-03-20  \n",
       "342275      30000  gasoline           fiat     unknown  2015-06-18  \n",
       "86601      150000    petrol  mercedes_benz          no  2015-08-07  \n",
       "175103      80000    petrol        peugeot          no  2015-08-10  \n",
       "...           ...       ...            ...         ...         ...  \n",
       "184411     150000    petrol           ford          no  2016-04-07  \n",
       "262340     150000  gasoline           audi          no  2016-04-07  \n",
       "214462       5000  gasoline           audi          no  2016-04-07  \n",
       "241969     125000  gasoline          volvo          no  2016-04-07  \n",
       "260600      30000    petrol            bmw          no  2016-04-07  \n",
       "\n",
       "[354365 rows x 11 columns]"
      ]
     },
     "execution_count": 16,
     "metadata": {},
     "output_type": "execute_result"
    }
   ],
   "source": [
    "# Посмотрим даты создания анкет\n",
    "data.sort_values(by='DateCreated', ascending=True)"
   ]
  },
  {
   "cell_type": "markdown",
   "metadata": {},
   "source": [
    "Согласно Википедии: \"В Европе предпочитают использовать термин олдтаймер (англ. Oldtimer) — «старинный, раритетный автомобиль». Как правило, под этим словом имеют в виду машину, выпущенную более 30 лет назад.\" URL: https://ru.wikipedia.org/wiki/%D0%9A%D0%BB%D0%B0%D1%81%D1%81%D0%B8%D1%87%D0%B5%D1%81%D0%BA%D0%B8%D0%B9_%D0%B0%D0%B2%D1%82%D0%BE%D0%BC%D0%BE%D0%B1%D0%B8%D0%BB%D1%8C"
   ]
  },
  {
   "cell_type": "markdown",
   "metadata": {},
   "source": [
    "Таким образом, из общей базы необходимо удалить все автомобили, зарегестрированные позже 2016 года и все автомобили, зарегестрированные ранее 1986 года, как раритеные."
   ]
  },
  {
   "cell_type": "code",
   "execution_count": 17,
   "metadata": {},
   "outputs": [],
   "source": [
    "data.drop(data[data['RegistrationYear'] > 2016].index, inplace=True)\n",
    "data.drop(data[data['RegistrationYear'] < 1986].index, inplace=True)"
   ]
  },
  {
   "cell_type": "code",
   "execution_count": 18,
   "metadata": {
    "scrolled": false
   },
   "outputs": [
    {
     "name": "stdout",
     "output_type": "stream",
     "text": [
      "<class 'pandas.core.frame.DataFrame'>\n",
      "Int64Index: 333631 entries, 0 to 354368\n",
      "Data columns (total 11 columns):\n",
      " #   Column            Non-Null Count   Dtype         \n",
      "---  ------            --------------   -----         \n",
      " 0   Price             333631 non-null  int64         \n",
      " 1   VehicleType       333631 non-null  object        \n",
      " 2   RegistrationYear  333631 non-null  int64         \n",
      " 3   Gearbox           333631 non-null  object        \n",
      " 4   Power             333631 non-null  int64         \n",
      " 5   Model             333631 non-null  object        \n",
      " 6   Kilometer         333631 non-null  int64         \n",
      " 7   FuelType          333631 non-null  object        \n",
      " 8   Brand             333631 non-null  object        \n",
      " 9   NotRepaired       333631 non-null  object        \n",
      " 10  DateCreated       333631 non-null  datetime64[ns]\n",
      "dtypes: datetime64[ns](1), int64(4), object(6)\n",
      "memory usage: 30.5+ MB\n"
     ]
    }
   ],
   "source": [
    "data.info()"
   ]
  },
  {
   "cell_type": "markdown",
   "metadata": {},
   "source": [
    "Посмотрим распределение цены"
   ]
  },
  {
   "cell_type": "code",
   "execution_count": 19,
   "metadata": {},
   "outputs": [
    {
     "data": {
      "image/png": "[encoded data removed]",
      "text/plain": [
       "<Figure size 1080x360 with 1 Axes>"
      ]
     },
     "metadata": {
      "needs_background": "light"
     },
     "output_type": "display_data"
    }
   ],
   "source": [
    "data.hist('Price', bins=100, color='blue', figsize = (15, 5))\n",
    "plt.title('Цена автомобиля')\n",
    "plt.xlabel('цена, евро')\n",
    "plt.ylabel('количество, ед.')\n",
    "plt.axvline(x=data['Price'].median(), \n",
    "            color='red', lw=4, label=['Медиана',round(data['Price'].median(),2)])\n",
    "plt.legend() \n",
    "plt.show()"
   ]
  },
  {
   "cell_type": "code",
   "execution_count": 20,
   "metadata": {},
   "outputs": [
    {
     "data": {
      "text/plain": [
       "count    333631.000000\n",
       "mean       4448.099841\n",
       "std        4528.658346\n",
       "min           0.000000\n",
       "25%        1099.000000\n",
       "50%        2750.000000\n",
       "75%        6499.000000\n",
       "max       20000.000000\n",
       "Name: Price, dtype: float64"
      ]
     },
     "execution_count": 20,
     "metadata": {},
     "output_type": "execute_result"
    }
   ],
   "source": [
    "data['Price'].describe()"
   ]
  },
  {
   "cell_type": "markdown",
   "metadata": {},
   "source": [
    "Нужно убрать значения 0"
   ]
  },
  {
   "cell_type": "code",
   "execution_count": 21,
   "metadata": {},
   "outputs": [],
   "source": [
    "data.drop(data[data['Price'] == 0].index, inplace=True)"
   ]
  },
  {
   "cell_type": "code",
   "execution_count": 22,
   "metadata": {},
   "outputs": [],
   "source": [
    "data1 = data[data['Price']<1099]"
   ]
  },
  {
   "cell_type": "code",
   "execution_count": 23,
   "metadata": {},
   "outputs": [
    {
     "data": {
      "text/plain": [
       "count    73830.000000\n",
       "mean       607.771556\n",
       "std        281.730514\n",
       "min          1.000000\n",
       "25%        400.000000\n",
       "50%        600.000000\n",
       "75%        850.000000\n",
       "max       1098.000000\n",
       "Name: Price, dtype: float64"
      ]
     },
     "execution_count": 23,
     "metadata": {},
     "output_type": "execute_result"
    }
   ],
   "source": [
    "data1['Price'].describe()"
   ]
  },
  {
   "cell_type": "code",
   "execution_count": 24,
   "metadata": {},
   "outputs": [
    {
     "data": {
      "image/png": "[encoded data removed]",
      "text/plain": [
       "<Figure size 1080x360 with 1 Axes>"
      ]
     },
     "metadata": {
      "needs_background": "light"
     },
     "output_type": "display_data"
    }
   ],
   "source": [
    "data1.hist('Price', bins=100, color='blue', figsize = (15, 5))\n",
    "plt.show()"
   ]
  },
  {
   "cell_type": "markdown",
   "metadata": {},
   "source": [
    "Удалим данные, где стоимость менее 200 евро. Восстановить данные, достоверно, крайне затруднительно."
   ]
  },
  {
   "cell_type": "code",
   "execution_count": 25,
   "metadata": {},
   "outputs": [],
   "source": [
    "data.drop(data[data['Price'] < 200].index, inplace=True)"
   ]
  },
  {
   "cell_type": "code",
   "execution_count": 26,
   "metadata": {},
   "outputs": [
    {
     "data": {
      "text/plain": [
       "<AxesSubplot:ylabel='Price'>"
      ]
     },
     "execution_count": 26,
     "metadata": {},
     "output_type": "execute_result"
    },
    {
     "data": {
      "image/png": "[encoded data removed]",
      "text/plain": [
       "<Figure size 698.4x432 with 1 Axes>"
      ]
     },
     "metadata": {
      "needs_background": "light"
     },
     "output_type": "display_data"
    }
   ],
   "source": [
    "plt.figure(figsize=(9.7, 6))\n",
    "sns.boxplot(y=data['Price'])"
   ]
  },
  {
   "cell_type": "markdown",
   "metadata": {},
   "source": [
    "В стоимости автомобилей  нет значений, которые можно было бы назвать аномально высокими. Оставим."
   ]
  },
  {
   "cell_type": "code",
   "execution_count": 27,
   "metadata": {},
   "outputs": [
    {
     "data": {
      "text/html": [
       "<div>\n",
       "<style scoped>\n",
       "    .dataframe tbody tr th:only-of-type {\n",
       "        vertical-align: middle;\n",
       "    }\n",
       "\n",
       "    .dataframe tbody tr th {\n",
       "        vertical-align: top;\n",
       "    }\n",
       "\n",
       "    .dataframe thead th {\n",
       "        text-align: right;\n",
       "    }\n",
       "</style>\n",
       "<table border=\"1\" class=\"dataframe\">\n",
       "  <thead>\n",
       "    <tr style=\"text-align: right;\">\n",
       "      <th></th>\n",
       "      <th>Price</th>\n",
       "      <th>RegistrationYear</th>\n",
       "      <th>Power</th>\n",
       "      <th>Kilometer</th>\n",
       "    </tr>\n",
       "  </thead>\n",
       "  <tbody>\n",
       "    <tr>\n",
       "      <th>count</th>\n",
       "      <td>317845.000000</td>\n",
       "      <td>317845.000000</td>\n",
       "      <td>317845.000000</td>\n",
       "      <td>317845.000000</td>\n",
       "    </tr>\n",
       "    <tr>\n",
       "      <th>mean</th>\n",
       "      <td>4667.014073</td>\n",
       "      <td>2003.138703</td>\n",
       "      <td>113.630279</td>\n",
       "      <td>128853.906778</td>\n",
       "    </tr>\n",
       "    <tr>\n",
       "      <th>std</th>\n",
       "      <td>4529.269884</td>\n",
       "      <td>5.745849</td>\n",
       "      <td>183.907250</td>\n",
       "      <td>36670.529900</td>\n",
       "    </tr>\n",
       "    <tr>\n",
       "      <th>min</th>\n",
       "      <td>200.000000</td>\n",
       "      <td>1986.000000</td>\n",
       "      <td>0.000000</td>\n",
       "      <td>5000.000000</td>\n",
       "    </tr>\n",
       "    <tr>\n",
       "      <th>25%</th>\n",
       "      <td>1250.000000</td>\n",
       "      <td>1999.000000</td>\n",
       "      <td>75.000000</td>\n",
       "      <td>125000.000000</td>\n",
       "    </tr>\n",
       "    <tr>\n",
       "      <th>50%</th>\n",
       "      <td>2990.000000</td>\n",
       "      <td>2003.000000</td>\n",
       "      <td>105.000000</td>\n",
       "      <td>150000.000000</td>\n",
       "    </tr>\n",
       "    <tr>\n",
       "      <th>75%</th>\n",
       "      <td>6700.000000</td>\n",
       "      <td>2007.000000</td>\n",
       "      <td>143.000000</td>\n",
       "      <td>150000.000000</td>\n",
       "    </tr>\n",
       "    <tr>\n",
       "      <th>max</th>\n",
       "      <td>20000.000000</td>\n",
       "      <td>2016.000000</td>\n",
       "      <td>20000.000000</td>\n",
       "      <td>150000.000000</td>\n",
       "    </tr>\n",
       "  </tbody>\n",
       "</table>\n",
       "</div>"
      ],
      "text/plain": [
       "               Price  RegistrationYear          Power      Kilometer\n",
       "count  317845.000000     317845.000000  317845.000000  317845.000000\n",
       "mean     4667.014073       2003.138703     113.630279  128853.906778\n",
       "std      4529.269884          5.745849     183.907250   36670.529900\n",
       "min       200.000000       1986.000000       0.000000    5000.000000\n",
       "25%      1250.000000       1999.000000      75.000000  125000.000000\n",
       "50%      2990.000000       2003.000000     105.000000  150000.000000\n",
       "75%      6700.000000       2007.000000     143.000000  150000.000000\n",
       "max     20000.000000       2016.000000   20000.000000  150000.000000"
      ]
     },
     "execution_count": 27,
     "metadata": {},
     "output_type": "execute_result"
    }
   ],
   "source": [
    "data.describe()"
   ]
  },
  {
   "cell_type": "markdown",
   "metadata": {},
   "source": [
    "У 75% авто мощность не превышает 143 л.с. Существует ряд автомобилей, с очень высокой мощностью, но 1500 л.с. есть только в обсуждениях (15 лучших автомобилей мощностью 1000 л.с. и более, https://1gai.ru/publ/515244-15-luchshih-avtomobiley-moschnostyu-1000-ls-i-bolee.html).  "
   ]
  },
  {
   "cell_type": "code",
   "execution_count": 28,
   "metadata": {},
   "outputs": [
    {
     "data": {
      "text/plain": [
       "(-10.0, 1000.0)"
      ]
     },
     "execution_count": 28,
     "metadata": {},
     "output_type": "execute_result"
    },
    {
     "data": {
      "image/png": "[encoded data removed]",
      "text/plain": [
       "<Figure size 698.4x432 with 1 Axes>"
      ]
     },
     "metadata": {
      "needs_background": "light"
     },
     "output_type": "display_data"
    }
   ],
   "source": [
    "plt.figure(figsize=(9.7, 6))\n",
    "sns.boxplot(y=data['Power'])\n",
    "plt.ylim(-10, 1000)\n",
    " "
   ]
  },
  {
   "cell_type": "code",
   "execution_count": 29,
   "metadata": {},
   "outputs": [
    {
     "data": {
      "text/html": [
       "<div>\n",
       "<style scoped>\n",
       "    .dataframe tbody tr th:only-of-type {\n",
       "        vertical-align: middle;\n",
       "    }\n",
       "\n",
       "    .dataframe tbody tr th {\n",
       "        vertical-align: top;\n",
       "    }\n",
       "\n",
       "    .dataframe thead th {\n",
       "        text-align: right;\n",
       "    }\n",
       "</style>\n",
       "<table border=\"1\" class=\"dataframe\">\n",
       "  <thead>\n",
       "    <tr style=\"text-align: right;\">\n",
       "      <th></th>\n",
       "      <th>Price</th>\n",
       "      <th>VehicleType</th>\n",
       "      <th>RegistrationYear</th>\n",
       "      <th>Gearbox</th>\n",
       "      <th>Power</th>\n",
       "      <th>Model</th>\n",
       "      <th>Kilometer</th>\n",
       "      <th>FuelType</th>\n",
       "      <th>Brand</th>\n",
       "      <th>NotRepaired</th>\n",
       "      <th>DateCreated</th>\n",
       "    </tr>\n",
       "  </thead>\n",
       "  <tbody>\n",
       "    <tr>\n",
       "      <th>41</th>\n",
       "      <td>7500</td>\n",
       "      <td>sedan</td>\n",
       "      <td>2002</td>\n",
       "      <td>auto</td>\n",
       "      <td>306</td>\n",
       "      <td>e_klasse</td>\n",
       "      <td>150000</td>\n",
       "      <td>unknown</td>\n",
       "      <td>mercedes_benz</td>\n",
       "      <td>unknown</td>\n",
       "      <td>2016-03-30</td>\n",
       "    </tr>\n",
       "    <tr>\n",
       "      <th>172</th>\n",
       "      <td>19750</td>\n",
       "      <td>convertible</td>\n",
       "      <td>2006</td>\n",
       "      <td>manual</td>\n",
       "      <td>305</td>\n",
       "      <td>mustang</td>\n",
       "      <td>50000</td>\n",
       "      <td>petrol</td>\n",
       "      <td>ford</td>\n",
       "      <td>no</td>\n",
       "      <td>2016-03-07</td>\n",
       "    </tr>\n",
       "    <tr>\n",
       "      <th>204</th>\n",
       "      <td>18400</td>\n",
       "      <td>wagon</td>\n",
       "      <td>2011</td>\n",
       "      <td>auto</td>\n",
       "      <td>313</td>\n",
       "      <td>5er</td>\n",
       "      <td>150000</td>\n",
       "      <td>gasoline</td>\n",
       "      <td>bmw</td>\n",
       "      <td>no</td>\n",
       "      <td>2016-03-31</td>\n",
       "    </tr>\n",
       "    <tr>\n",
       "      <th>393</th>\n",
       "      <td>6250</td>\n",
       "      <td>unknown</td>\n",
       "      <td>2016</td>\n",
       "      <td>manual</td>\n",
       "      <td>310</td>\n",
       "      <td>astra</td>\n",
       "      <td>150000</td>\n",
       "      <td>unknown</td>\n",
       "      <td>opel</td>\n",
       "      <td>unknown</td>\n",
       "      <td>2016-04-01</td>\n",
       "    </tr>\n",
       "    <tr>\n",
       "      <th>485</th>\n",
       "      <td>15200</td>\n",
       "      <td>sedan</td>\n",
       "      <td>2007</td>\n",
       "      <td>auto</td>\n",
       "      <td>320</td>\n",
       "      <td>s_klasse</td>\n",
       "      <td>150000</td>\n",
       "      <td>gasoline</td>\n",
       "      <td>mercedes_benz</td>\n",
       "      <td>no</td>\n",
       "      <td>2016-03-07</td>\n",
       "    </tr>\n",
       "    <tr>\n",
       "      <th>...</th>\n",
       "      <td>...</td>\n",
       "      <td>...</td>\n",
       "      <td>...</td>\n",
       "      <td>...</td>\n",
       "      <td>...</td>\n",
       "      <td>...</td>\n",
       "      <td>...</td>\n",
       "      <td>...</td>\n",
       "      <td>...</td>\n",
       "      <td>...</td>\n",
       "      <td>...</td>\n",
       "    </tr>\n",
       "    <tr>\n",
       "      <th>354045</th>\n",
       "      <td>20000</td>\n",
       "      <td>coupe</td>\n",
       "      <td>2006</td>\n",
       "      <td>auto</td>\n",
       "      <td>476</td>\n",
       "      <td>other</td>\n",
       "      <td>125000</td>\n",
       "      <td>petrol</td>\n",
       "      <td>mercedes_benz</td>\n",
       "      <td>no</td>\n",
       "      <td>2016-03-22</td>\n",
       "    </tr>\n",
       "    <tr>\n",
       "      <th>354067</th>\n",
       "      <td>11500</td>\n",
       "      <td>wagon</td>\n",
       "      <td>2005</td>\n",
       "      <td>auto</td>\n",
       "      <td>340</td>\n",
       "      <td>300c</td>\n",
       "      <td>150000</td>\n",
       "      <td>petrol</td>\n",
       "      <td>chrysler</td>\n",
       "      <td>no</td>\n",
       "      <td>2016-03-20</td>\n",
       "    </tr>\n",
       "    <tr>\n",
       "      <th>354096</th>\n",
       "      <td>15550</td>\n",
       "      <td>sedan</td>\n",
       "      <td>2006</td>\n",
       "      <td>auto</td>\n",
       "      <td>334</td>\n",
       "      <td>a6</td>\n",
       "      <td>90000</td>\n",
       "      <td>petrol</td>\n",
       "      <td>audi</td>\n",
       "      <td>unknown</td>\n",
       "      <td>2016-03-16</td>\n",
       "    </tr>\n",
       "    <tr>\n",
       "      <th>354260</th>\n",
       "      <td>399</td>\n",
       "      <td>other</td>\n",
       "      <td>1994</td>\n",
       "      <td>unknown</td>\n",
       "      <td>1103</td>\n",
       "      <td>3er</td>\n",
       "      <td>150000</td>\n",
       "      <td>unknown</td>\n",
       "      <td>bmw</td>\n",
       "      <td>unknown</td>\n",
       "      <td>2016-03-09</td>\n",
       "    </tr>\n",
       "    <tr>\n",
       "      <th>354337</th>\n",
       "      <td>11500</td>\n",
       "      <td>sedan</td>\n",
       "      <td>2004</td>\n",
       "      <td>auto</td>\n",
       "      <td>445</td>\n",
       "      <td>7er</td>\n",
       "      <td>125000</td>\n",
       "      <td>petrol</td>\n",
       "      <td>bmw</td>\n",
       "      <td>unknown</td>\n",
       "      <td>2016-03-26</td>\n",
       "    </tr>\n",
       "  </tbody>\n",
       "</table>\n",
       "<p>3203 rows × 11 columns</p>\n",
       "</div>"
      ],
      "text/plain": [
       "        Price  VehicleType  RegistrationYear  Gearbox  Power     Model  \\\n",
       "41       7500        sedan              2002     auto    306  e_klasse   \n",
       "172     19750  convertible              2006   manual    305   mustang   \n",
       "204     18400        wagon              2011     auto    313       5er   \n",
       "393      6250      unknown              2016   manual    310     astra   \n",
       "485     15200        sedan              2007     auto    320  s_klasse   \n",
       "...       ...          ...               ...      ...    ...       ...   \n",
       "354045  20000        coupe              2006     auto    476     other   \n",
       "354067  11500        wagon              2005     auto    340      300c   \n",
       "354096  15550        sedan              2006     auto    334        a6   \n",
       "354260    399        other              1994  unknown   1103       3er   \n",
       "354337  11500        sedan              2004     auto    445       7er   \n",
       "\n",
       "        Kilometer  FuelType          Brand NotRepaired DateCreated  \n",
       "41         150000   unknown  mercedes_benz     unknown  2016-03-30  \n",
       "172         50000    petrol           ford          no  2016-03-07  \n",
       "204        150000  gasoline            bmw          no  2016-03-31  \n",
       "393        150000   unknown           opel     unknown  2016-04-01  \n",
       "485        150000  gasoline  mercedes_benz          no  2016-03-07  \n",
       "...           ...       ...            ...         ...         ...  \n",
       "354045     125000    petrol  mercedes_benz          no  2016-03-22  \n",
       "354067     150000    petrol       chrysler          no  2016-03-20  \n",
       "354096      90000    petrol           audi     unknown  2016-03-16  \n",
       "354260     150000   unknown            bmw     unknown  2016-03-09  \n",
       "354337     125000    petrol            bmw     unknown  2016-03-26  \n",
       "\n",
       "[3203 rows x 11 columns]"
      ]
     },
     "execution_count": 29,
     "metadata": {},
     "output_type": "execute_result"
    }
   ],
   "source": [
    "data[data['Power'] > 300]"
   ]
  },
  {
   "cell_type": "markdown",
   "metadata": {},
   "source": [
    "В нашем случае, значения выше 300 л.с. являются выбросами. Всего таких записей 3203, что чуть больше 1%. Удалим."
   ]
  },
  {
   "cell_type": "code",
   "execution_count": 30,
   "metadata": {},
   "outputs": [],
   "source": [
    "data.drop(data[data['Power'] > 300].index, inplace=True)"
   ]
  },
  {
   "cell_type": "code",
   "execution_count": 31,
   "metadata": {},
   "outputs": [
    {
     "data": {
      "text/plain": [
       "count    314642.000000\n",
       "mean        108.146443\n",
       "std          57.689423\n",
       "min           0.000000\n",
       "25%          75.000000\n",
       "50%         105.000000\n",
       "75%         143.000000\n",
       "max         300.000000\n",
       "Name: Power, dtype: float64"
      ]
     },
     "execution_count": 31,
     "metadata": {},
     "output_type": "execute_result"
    }
   ],
   "source": [
    "data['Power'].describe()"
   ]
  },
  {
   "cell_type": "markdown",
   "metadata": {},
   "source": [
    "Заменим 0 на медиану по подгруппам"
   ]
  },
  {
   "cell_type": "code",
   "execution_count": 32,
   "metadata": {},
   "outputs": [
    {
     "data": {
      "text/html": [
       "<div>\n",
       "<style scoped>\n",
       "    .dataframe tbody tr th:only-of-type {\n",
       "        vertical-align: middle;\n",
       "    }\n",
       "\n",
       "    .dataframe tbody tr th {\n",
       "        vertical-align: top;\n",
       "    }\n",
       "\n",
       "    .dataframe thead th {\n",
       "        text-align: right;\n",
       "    }\n",
       "</style>\n",
       "<table border=\"1\" class=\"dataframe\">\n",
       "  <thead>\n",
       "    <tr style=\"text-align: right;\">\n",
       "      <th></th>\n",
       "      <th>Price</th>\n",
       "      <th>VehicleType</th>\n",
       "      <th>RegistrationYear</th>\n",
       "      <th>Gearbox</th>\n",
       "      <th>Power</th>\n",
       "      <th>Model</th>\n",
       "      <th>Kilometer</th>\n",
       "      <th>FuelType</th>\n",
       "      <th>Brand</th>\n",
       "      <th>NotRepaired</th>\n",
       "      <th>DateCreated</th>\n",
       "    </tr>\n",
       "  </thead>\n",
       "  <tbody>\n",
       "    <tr>\n",
       "      <th>0</th>\n",
       "      <td>480</td>\n",
       "      <td>unknown</td>\n",
       "      <td>1993</td>\n",
       "      <td>manual</td>\n",
       "      <td>0</td>\n",
       "      <td>golf</td>\n",
       "      <td>150000</td>\n",
       "      <td>petrol</td>\n",
       "      <td>volkswagen</td>\n",
       "      <td>unknown</td>\n",
       "      <td>2016-03-24</td>\n",
       "    </tr>\n",
       "    <tr>\n",
       "      <th>32</th>\n",
       "      <td>245</td>\n",
       "      <td>sedan</td>\n",
       "      <td>1994</td>\n",
       "      <td>unknown</td>\n",
       "      <td>0</td>\n",
       "      <td>golf</td>\n",
       "      <td>150000</td>\n",
       "      <td>petrol</td>\n",
       "      <td>volkswagen</td>\n",
       "      <td>no</td>\n",
       "      <td>2016-03-15</td>\n",
       "    </tr>\n",
       "    <tr>\n",
       "      <th>37</th>\n",
       "      <td>1500</td>\n",
       "      <td>unknown</td>\n",
       "      <td>2016</td>\n",
       "      <td>unknown</td>\n",
       "      <td>0</td>\n",
       "      <td>kangoo</td>\n",
       "      <td>150000</td>\n",
       "      <td>gasoline</td>\n",
       "      <td>renault</td>\n",
       "      <td>no</td>\n",
       "      <td>2016-03-28</td>\n",
       "    </tr>\n",
       "    <tr>\n",
       "      <th>54</th>\n",
       "      <td>4700</td>\n",
       "      <td>wagon</td>\n",
       "      <td>2005</td>\n",
       "      <td>manual</td>\n",
       "      <td>0</td>\n",
       "      <td>signum</td>\n",
       "      <td>150000</td>\n",
       "      <td>unknown</td>\n",
       "      <td>opel</td>\n",
       "      <td>no</td>\n",
       "      <td>2016-03-17</td>\n",
       "    </tr>\n",
       "    <tr>\n",
       "      <th>55</th>\n",
       "      <td>550</td>\n",
       "      <td>wagon</td>\n",
       "      <td>1999</td>\n",
       "      <td>manual</td>\n",
       "      <td>0</td>\n",
       "      <td>astra</td>\n",
       "      <td>150000</td>\n",
       "      <td>gasoline</td>\n",
       "      <td>opel</td>\n",
       "      <td>yes</td>\n",
       "      <td>2016-03-26</td>\n",
       "    </tr>\n",
       "    <tr>\n",
       "      <th>...</th>\n",
       "      <td>...</td>\n",
       "      <td>...</td>\n",
       "      <td>...</td>\n",
       "      <td>...</td>\n",
       "      <td>...</td>\n",
       "      <td>...</td>\n",
       "      <td>...</td>\n",
       "      <td>...</td>\n",
       "      <td>...</td>\n",
       "      <td>...</td>\n",
       "      <td>...</td>\n",
       "    </tr>\n",
       "    <tr>\n",
       "      <th>354335</th>\n",
       "      <td>390</td>\n",
       "      <td>small</td>\n",
       "      <td>1997</td>\n",
       "      <td>auto</td>\n",
       "      <td>0</td>\n",
       "      <td>corsa</td>\n",
       "      <td>100000</td>\n",
       "      <td>petrol</td>\n",
       "      <td>opel</td>\n",
       "      <td>yes</td>\n",
       "      <td>2016-04-04</td>\n",
       "    </tr>\n",
       "    <tr>\n",
       "      <th>354336</th>\n",
       "      <td>3299</td>\n",
       "      <td>unknown</td>\n",
       "      <td>2005</td>\n",
       "      <td>auto</td>\n",
       "      <td>0</td>\n",
       "      <td>outlander</td>\n",
       "      <td>150000</td>\n",
       "      <td>petrol</td>\n",
       "      <td>mitsubishi</td>\n",
       "      <td>unknown</td>\n",
       "      <td>2016-03-05</td>\n",
       "    </tr>\n",
       "    <tr>\n",
       "      <th>354346</th>\n",
       "      <td>2600</td>\n",
       "      <td>unknown</td>\n",
       "      <td>2005</td>\n",
       "      <td>auto</td>\n",
       "      <td>0</td>\n",
       "      <td>c_klasse</td>\n",
       "      <td>150000</td>\n",
       "      <td>unknown</td>\n",
       "      <td>mercedes_benz</td>\n",
       "      <td>unknown</td>\n",
       "      <td>2016-03-07</td>\n",
       "    </tr>\n",
       "    <tr>\n",
       "      <th>354363</th>\n",
       "      <td>1150</td>\n",
       "      <td>bus</td>\n",
       "      <td>2000</td>\n",
       "      <td>manual</td>\n",
       "      <td>0</td>\n",
       "      <td>zafira</td>\n",
       "      <td>150000</td>\n",
       "      <td>petrol</td>\n",
       "      <td>opel</td>\n",
       "      <td>no</td>\n",
       "      <td>2016-03-27</td>\n",
       "    </tr>\n",
       "    <tr>\n",
       "      <th>354365</th>\n",
       "      <td>2200</td>\n",
       "      <td>unknown</td>\n",
       "      <td>2005</td>\n",
       "      <td>unknown</td>\n",
       "      <td>0</td>\n",
       "      <td>unknown</td>\n",
       "      <td>20000</td>\n",
       "      <td>unknown</td>\n",
       "      <td>sonstige_autos</td>\n",
       "      <td>unknown</td>\n",
       "      <td>2016-03-14</td>\n",
       "    </tr>\n",
       "  </tbody>\n",
       "</table>\n",
       "<p>28885 rows × 11 columns</p>\n",
       "</div>"
      ],
      "text/plain": [
       "        Price VehicleType  RegistrationYear  Gearbox  Power      Model  \\\n",
       "0         480     unknown              1993   manual      0       golf   \n",
       "32        245       sedan              1994  unknown      0       golf   \n",
       "37       1500     unknown              2016  unknown      0     kangoo   \n",
       "54       4700       wagon              2005   manual      0     signum   \n",
       "55        550       wagon              1999   manual      0      astra   \n",
       "...       ...         ...               ...      ...    ...        ...   \n",
       "354335    390       small              1997     auto      0      corsa   \n",
       "354336   3299     unknown              2005     auto      0  outlander   \n",
       "354346   2600     unknown              2005     auto      0   c_klasse   \n",
       "354363   1150         bus              2000   manual      0     zafira   \n",
       "354365   2200     unknown              2005  unknown      0    unknown   \n",
       "\n",
       "        Kilometer  FuelType           Brand NotRepaired DateCreated  \n",
       "0          150000    petrol      volkswagen     unknown  2016-03-24  \n",
       "32         150000    petrol      volkswagen          no  2016-03-15  \n",
       "37         150000  gasoline         renault          no  2016-03-28  \n",
       "54         150000   unknown            opel          no  2016-03-17  \n",
       "55         150000  gasoline            opel         yes  2016-03-26  \n",
       "...           ...       ...             ...         ...         ...  \n",
       "354335     100000    petrol            opel         yes  2016-04-04  \n",
       "354336     150000    petrol      mitsubishi     unknown  2016-03-05  \n",
       "354346     150000   unknown   mercedes_benz     unknown  2016-03-07  \n",
       "354363     150000    petrol            opel          no  2016-03-27  \n",
       "354365      20000   unknown  sonstige_autos     unknown  2016-03-14  \n",
       "\n",
       "[28885 rows x 11 columns]"
      ]
     },
     "execution_count": 32,
     "metadata": {},
     "output_type": "execute_result"
    }
   ],
   "source": [
    "data[data['Power'] == 0]"
   ]
  },
  {
   "cell_type": "code",
   "execution_count": 33,
   "metadata": {},
   "outputs": [],
   "source": [
    "data['Power'] = data['Power'].replace(0, np.nan)\n",
    "median = data.groupby(['Brand', 'Model', 'FuelType'])['Power'].transform('median')\n",
    "data['Power'] = data['Power'].fillna(median)"
   ]
  },
  {
   "cell_type": "code",
   "execution_count": 34,
   "metadata": {},
   "outputs": [
    {
     "data": {
      "text/plain": [
       "56"
      ]
     },
     "execution_count": 34,
     "metadata": {},
     "output_type": "execute_result"
    }
   ],
   "source": [
    "# Проверим \n",
    "data['Power'].isnull().sum()"
   ]
  },
  {
   "cell_type": "code",
   "execution_count": 35,
   "metadata": {},
   "outputs": [],
   "source": [
    "data.dropna(inplace=True)"
   ]
  },
  {
   "cell_type": "code",
   "execution_count": 36,
   "metadata": {},
   "outputs": [
    {
     "data": {
      "text/plain": [
       "0"
      ]
     },
     "execution_count": 36,
     "metadata": {},
     "output_type": "execute_result"
    }
   ],
   "source": [
    "data.isnull().sum().sum()"
   ]
  },
  {
   "cell_type": "code",
   "execution_count": 37,
   "metadata": {},
   "outputs": [
    {
     "name": "stdout",
     "output_type": "stream",
     "text": [
      "<class 'pandas.core.frame.DataFrame'>\n",
      "Int64Index: 314586 entries, 0 to 354368\n",
      "Data columns (total 11 columns):\n",
      " #   Column            Non-Null Count   Dtype         \n",
      "---  ------            --------------   -----         \n",
      " 0   Price             314586 non-null  int64         \n",
      " 1   VehicleType       314586 non-null  object        \n",
      " 2   RegistrationYear  314586 non-null  int64         \n",
      " 3   Gearbox           314586 non-null  object        \n",
      " 4   Power             314586 non-null  float64       \n",
      " 5   Model             314586 non-null  object        \n",
      " 6   Kilometer         314586 non-null  int64         \n",
      " 7   FuelType          314586 non-null  object        \n",
      " 8   Brand             314586 non-null  object        \n",
      " 9   NotRepaired       314586 non-null  object        \n",
      " 10  DateCreated       314586 non-null  datetime64[ns]\n",
      "dtypes: datetime64[ns](1), float64(1), int64(3), object(6)\n",
      "memory usage: 28.8+ MB\n"
     ]
    }
   ],
   "source": [
    "data.info()"
   ]
  },
  {
   "cell_type": "code",
   "execution_count": 38,
   "metadata": {},
   "outputs": [
    {
     "data": {
      "text/plain": [
       "count    314586.000000\n",
       "mean     128792.460567\n",
       "std       36705.626129\n",
       "min        5000.000000\n",
       "25%      125000.000000\n",
       "50%      150000.000000\n",
       "75%      150000.000000\n",
       "max      150000.000000\n",
       "Name: Kilometer, dtype: float64"
      ]
     },
     "execution_count": 38,
     "metadata": {},
     "output_type": "execute_result"
    }
   ],
   "source": [
    "data['Kilometer'].describe()"
   ]
  },
  {
   "cell_type": "markdown",
   "metadata": {},
   "source": [
    "В данных о пробеге, выбросов нет."
   ]
  },
  {
   "cell_type": "markdown",
   "metadata": {},
   "source": [
    "Посмотрим, нет ли еще каких-то неточностей."
   ]
  },
  {
   "cell_type": "code",
   "execution_count": 39,
   "metadata": {},
   "outputs": [
    {
     "data": {
      "text/plain": [
       "sedan          85524\n",
       "small          75036\n",
       "wagon          62478\n",
       "bus            27943\n",
       "convertible    18856\n",
       "unknown        17038\n",
       "coupe          13947\n",
       "suv            11004\n",
       "other           2760\n",
       "Name: VehicleType, dtype: int64"
      ]
     },
     "execution_count": 39,
     "metadata": {},
     "output_type": "execute_result"
    }
   ],
   "source": [
    "data['VehicleType'].value_counts()"
   ]
  },
  {
   "cell_type": "code",
   "execution_count": 40,
   "metadata": {},
   "outputs": [
    {
     "data": {
      "text/plain": [
       "manual     242551\n",
       "auto        59047\n",
       "unknown     12988\n",
       "Name: Gearbox, dtype: int64"
      ]
     },
     "execution_count": 40,
     "metadata": {},
     "output_type": "execute_result"
    }
   ],
   "source": [
    "data['Gearbox'].value_counts()"
   ]
  },
  {
   "cell_type": "code",
   "execution_count": 41,
   "metadata": {},
   "outputs": [
    {
     "data": {
      "text/plain": [
       "array(['golf', 'unknown', 'grand', 'fabia', '3er', '2_reihe', 'c_max',\n",
       "       '3_reihe', 'passat', 'navara', 'polo', 'twingo', 'a_klasse',\n",
       "       'scirocco', '5er', 'arosa', 'other', 'civic', 'punto', 'e_klasse',\n",
       "       'clio', 'kadett', 'kangoo', 'one', 'fortwo', '1er', 'b_klasse',\n",
       "       'signum', 'astra', 'a8', 'jetta', 'fiesta', 'c_klasse', 'micra',\n",
       "       'vito', 'sprinter', '156', 'escort', 'forester', 'xc_reihe',\n",
       "       'scenic', 'a4', 'ka', 'a1', 'insignia', 'transporter', 'combo',\n",
       "       'focus', 'tt', 'corsa', 'a6', 'jazz', 'omega', 'slk', '7er', '80',\n",
       "       '147', 'z_reihe', 'sorento', 'v40', 'ibiza', 'eos', 'touran',\n",
       "       'getz', 'a3', 'almera', 'megane', 'lupo', 'r19', 'mondeo',\n",
       "       'cordoba', 'colt', 'impreza', 'vectra', 'berlingo', 'tiguan',\n",
       "       'mustang', 'sharan', '6_reihe', 'c4', 'panda', 'up', 'i_reihe',\n",
       "       'ceed', '5_reihe', 'yeti', 'octavia', 'zafira', 'mii', 'rx_reihe',\n",
       "       'modus', 'fox', 'matiz', 'beetle', 'rio', 'touareg', 'logan',\n",
       "       'caddy', 'spider', 'cuore', 's_max', 'a2', 'galaxy', 'c3', 'viano',\n",
       "       '1_reihe', 'avensis', 'roomster', 'santa', 'cooper', 'leon',\n",
       "       '4_reihe', 'a5', 'sportage', 'laguna', 'ptcruiser', 'clk',\n",
       "       'primera', 'espace', 'x_reihe', 'exeo', '159', 'transit', 'juke',\n",
       "       'qashqai', 'carisma', 's_klasse', 'accord', 'corolla', 'lanos',\n",
       "       'phaeton', 'verso', 'swift', 'rav', 'picanto', 'boxster', 'kalos',\n",
       "       'superb', 'stilo', 'alhambra', 'roadster', 'ypsilon', 'galant',\n",
       "       'justy', '90', 'sirion', 'crossfire', 'agila', 'duster', 'v50',\n",
       "       'mx_reihe', 'meriva', 'c_reihe', 'v_klasse', 'm_klasse', 'yaris',\n",
       "       'c5', 'aygo', 'cc', 'carnival', 'fusion', 'bora', 'forfour', '100',\n",
       "       'cl', 'tigra', '300c', '500', 'cr_reihe', 'spark', 'v70', 'kuga',\n",
       "       'x_type', 'ducato', 's_type', 'x_trail', 'toledo', 'altea',\n",
       "       'voyager', 'bravo', 'antara', 'tucson', 'c1', 'citigo', 'jimny',\n",
       "       'wrangler', 'lybra', 'q7', 'lancer', 'captiva', 'sl', 'discovery',\n",
       "       'freelander', 'sandero', 'note', 'seicento', '900', 'cherokee',\n",
       "       'clubman', 'defender', 'cx_reihe', 'legacy', 'pajero', 'auris',\n",
       "       'c2', 'niva', 'cayenne', 's60', 'nubira', 'vivaro', 'g_klasse',\n",
       "       'lodgy', '850', 'range_rover', 'q3', 'calibra', 'glk', 'charade',\n",
       "       'croma', '911', 'outlander', 'kaefer', 'doblo', 'musa', 'move',\n",
       "       '9000', 'v60', '145', '601', 'b_max', '200', 'range_rover_sport',\n",
       "       'aveo', '6er', 'terios', 'm_reihe', 'samara', 'rangerover', 'q5',\n",
       "       'range_rover_evoque', 'materia', 'delta', 'gl', 'kalina',\n",
       "       'elefantino', 'i3', 'amarok', 'kappa'], dtype=object)"
      ]
     },
     "execution_count": 41,
     "metadata": {},
     "output_type": "execute_result"
    }
   ],
   "source": [
    "data['Model'].unique()"
   ]
  },
  {
   "cell_type": "code",
   "execution_count": 42,
   "metadata": {},
   "outputs": [
    {
     "data": {
      "text/plain": [
       "petrol      194276\n",
       "gasoline     93783\n",
       "unknown      20949\n",
       "lpg           4675\n",
       "cng            516\n",
       "hybrid         215\n",
       "other           91\n",
       "electric        81\n",
       "Name: FuelType, dtype: int64"
      ]
     },
     "execution_count": 42,
     "metadata": {},
     "output_type": "execute_result"
    }
   ],
   "source": [
    "data['FuelType'].value_counts()"
   ]
  },
  {
   "cell_type": "code",
   "execution_count": 43,
   "metadata": {},
   "outputs": [
    {
     "data": {
      "text/plain": [
       "volkswagen        68067\n",
       "opel              34934\n",
       "bmw               33472\n",
       "mercedes_benz     28319\n",
       "audi              26715\n",
       "ford              22135\n",
       "renault           15775\n",
       "peugeot           10201\n",
       "fiat               8328\n",
       "seat               6205\n",
       "skoda              5239\n",
       "mazda              5139\n",
       "smart              4935\n",
       "citroen            4579\n",
       "nissan             4449\n",
       "toyota             4339\n",
       "hyundai            3355\n",
       "mini               3031\n",
       "volvo              2943\n",
       "mitsubishi         2719\n",
       "honda              2550\n",
       "kia                2282\n",
       "suzuki             2104\n",
       "alfa_romeo         2031\n",
       "sonstige_autos     1677\n",
       "chevrolet          1479\n",
       "chrysler           1252\n",
       "dacia               862\n",
       "daihatsu            700\n",
       "subaru              679\n",
       "jeep                579\n",
       "land_rover          491\n",
       "saab                483\n",
       "daewoo              481\n",
       "jaguar              419\n",
       "rover               408\n",
       "porsche             400\n",
       "lancia              390\n",
       "trabant             263\n",
       "lada                177\n",
       "Name: Brand, dtype: int64"
      ]
     },
     "execution_count": 43,
     "metadata": {},
     "output_type": "execute_result"
    }
   ],
   "source": [
    "data['Brand'].value_counts()"
   ]
  },
  {
   "cell_type": "code",
   "execution_count": 44,
   "metadata": {},
   "outputs": [
    {
     "data": {
      "text/plain": [
       "no         229903\n",
       "unknown     54475\n",
       "yes         30208\n",
       "Name: NotRepaired, dtype: int64"
      ]
     },
     "execution_count": 44,
     "metadata": {},
     "output_type": "execute_result"
    }
   ],
   "source": [
    "data['NotRepaired'].value_counts()"
   ]
  },
  {
   "cell_type": "markdown",
   "metadata": {},
   "source": [
    "Ничего сомнительного нет. "
   ]
  },
  {
   "cell_type": "code",
   "execution_count": 45,
   "metadata": {},
   "outputs": [],
   "source": [
    "# Дата создания анкеты больше не нужна\n",
    "data = data.drop(['DateCreated'], axis = 1)"
   ]
  },
  {
   "cell_type": "code",
   "execution_count": 46,
   "metadata": {},
   "outputs": [
    {
     "data": {
      "text/plain": [
       "Price                 int64\n",
       "VehicleType          object\n",
       "RegistrationYear      int64\n",
       "Gearbox              object\n",
       "Power               float64\n",
       "Model                object\n",
       "Kilometer             int64\n",
       "FuelType             object\n",
       "Brand                object\n",
       "NotRepaired          object\n",
       "dtype: object"
      ]
     },
     "execution_count": 46,
     "metadata": {},
     "output_type": "execute_result"
    }
   ],
   "source": [
    "# Проверим тип данных\n",
    "data.dtypes"
   ]
  },
  {
   "cell_type": "code",
   "execution_count": 47,
   "metadata": {},
   "outputs": [],
   "source": [
    "# Преобразуем категориальные переменные\n",
    "cols_cat = data.select_dtypes(include='object').columns\n",
    "for col in cols_cat:\n",
    "    data[col] = data[col].astype('category')"
   ]
  },
  {
   "cell_type": "code",
   "execution_count": 48,
   "metadata": {},
   "outputs": [],
   "source": [
    "# Преобразуем категориальные признаки\n",
    "data = pd.get_dummies((data), drop_first = True)"
   ]
  },
  {
   "cell_type": "markdown",
   "metadata": {},
   "source": [
    "### Вывод"
   ]
  },
  {
   "cell_type": "markdown",
   "metadata": {},
   "source": [
    "Был обработан массив данных, содержащий технические характеристики, комплектации и цены автомобилей:\n",
    "- Удалены дубликаты.\n",
    "- Неответы категореальных признаков замененв на unknown.\n",
    "- Удалены выбросы.\n",
    "- Неответы в признаке Power скорректированы в соответствии со значениями признаков Model, Brand, FuelType.\n",
    "- Категориальные признаки преобразованы техникой OHE."
   ]
  },
  {
   "cell_type": "markdown",
   "metadata": {},
   "source": [
    "## Обучение моделей"
   ]
  },
  {
   "cell_type": "code",
   "execution_count": 49,
   "metadata": {},
   "outputs": [],
   "source": [
    "# Создадим объект RandomState() из модуля numpy.random\n",
    "state = np.random.RandomState(12345)"
   ]
  },
  {
   "cell_type": "code",
   "execution_count": 50,
   "metadata": {},
   "outputs": [],
   "source": [
    "# Создадим переменные features и target\n",
    "features = data.drop(['Price'], axis=1)\n",
    "target = data['Price']"
   ]
  },
  {
   "cell_type": "code",
   "execution_count": 51,
   "metadata": {},
   "outputs": [],
   "source": [
    "# Создадим тестовые выборки\n",
    "features, features_test, target, target_test = train_test_split(features, target, test_size= 0.2, random_state=state)"
   ]
  },
  {
   "cell_type": "code",
   "execution_count": 52,
   "metadata": {},
   "outputs": [],
   "source": [
    "# Создадим обучающую и валидационную выборки\n",
    "features_train, features_valid, target_train, target_valid = train_test_split(features, target, test_size=0.25, random_state=state)"
   ]
  },
  {
   "cell_type": "code",
   "execution_count": 53,
   "metadata": {},
   "outputs": [
    {
     "name": "stdout",
     "output_type": "stream",
     "text": [
      "features_test (62918, 308)\n",
      "target_test (62918,)\n",
      "features_train (188751, 308)\n",
      "target_train (188751,)\n",
      "features_valid (62917, 308)\n",
      "target_valid (62917,)\n"
     ]
    }
   ],
   "source": [
    "# Проверим\n",
    "print('features_test', features_test.shape)\n",
    "print('target_test', target_test.shape)\n",
    "print('features_train', features_train.shape)\n",
    "print('target_train', target_train.shape)\n",
    "print('features_valid', features_valid.shape)\n",
    "print('target_valid', target_valid.shape)"
   ]
  },
  {
   "cell_type": "code",
   "execution_count": 54,
   "metadata": {},
   "outputs": [],
   "source": [
    "# проведем масштабирование численных признаков\n",
    "numeric = ['RegistrationYear', 'Power', 'Kilometer']\n",
    "\n",
    "scaler = StandardScaler()\n",
    "scaler.fit(features_train[numeric])\n",
    "features_train[numeric] = scaler.transform(features_train[numeric])\n",
    "features_valid[numeric] = scaler.transform(features_valid[numeric])\n",
    "features_test[numeric] = scaler.transform(features_test[numeric])"
   ]
  },
  {
   "cell_type": "code",
   "execution_count": 55,
   "metadata": {},
   "outputs": [
    {
     "data": {
      "text/html": [
       "<div>\n",
       "<style scoped>\n",
       "    .dataframe tbody tr th:only-of-type {\n",
       "        vertical-align: middle;\n",
       "    }\n",
       "\n",
       "    .dataframe tbody tr th {\n",
       "        vertical-align: top;\n",
       "    }\n",
       "\n",
       "    .dataframe thead th {\n",
       "        text-align: right;\n",
       "    }\n",
       "</style>\n",
       "<table border=\"1\" class=\"dataframe\">\n",
       "  <thead>\n",
       "    <tr style=\"text-align: right;\">\n",
       "      <th></th>\n",
       "      <th>RegistrationYear</th>\n",
       "      <th>Power</th>\n",
       "      <th>Kilometer</th>\n",
       "      <th>VehicleType_convertible</th>\n",
       "      <th>VehicleType_coupe</th>\n",
       "      <th>VehicleType_other</th>\n",
       "      <th>VehicleType_sedan</th>\n",
       "      <th>VehicleType_small</th>\n",
       "      <th>VehicleType_suv</th>\n",
       "      <th>VehicleType_unknown</th>\n",
       "      <th>...</th>\n",
       "      <th>Brand_smart</th>\n",
       "      <th>Brand_sonstige_autos</th>\n",
       "      <th>Brand_subaru</th>\n",
       "      <th>Brand_suzuki</th>\n",
       "      <th>Brand_toyota</th>\n",
       "      <th>Brand_trabant</th>\n",
       "      <th>Brand_volkswagen</th>\n",
       "      <th>Brand_volvo</th>\n",
       "      <th>NotRepaired_unknown</th>\n",
       "      <th>NotRepaired_yes</th>\n",
       "    </tr>\n",
       "  </thead>\n",
       "  <tbody>\n",
       "    <tr>\n",
       "      <th>228060</th>\n",
       "      <td>0.495036</td>\n",
       "      <td>-0.897136</td>\n",
       "      <td>-2.966584</td>\n",
       "      <td>0</td>\n",
       "      <td>0</td>\n",
       "      <td>0</td>\n",
       "      <td>0</td>\n",
       "      <td>1</td>\n",
       "      <td>0</td>\n",
       "      <td>0</td>\n",
       "      <td>...</td>\n",
       "      <td>0</td>\n",
       "      <td>0</td>\n",
       "      <td>0</td>\n",
       "      <td>0</td>\n",
       "      <td>0</td>\n",
       "      <td>0</td>\n",
       "      <td>0</td>\n",
       "      <td>0</td>\n",
       "      <td>0</td>\n",
       "      <td>0</td>\n",
       "    </tr>\n",
       "  </tbody>\n",
       "</table>\n",
       "<p>1 rows × 308 columns</p>\n",
       "</div>"
      ],
      "text/plain": [
       "        RegistrationYear     Power  Kilometer  VehicleType_convertible  \\\n",
       "228060          0.495036 -0.897136  -2.966584                        0   \n",
       "\n",
       "        VehicleType_coupe  VehicleType_other  VehicleType_sedan  \\\n",
       "228060                  0                  0                  0   \n",
       "\n",
       "        VehicleType_small  VehicleType_suv  VehicleType_unknown  ...  \\\n",
       "228060                  1                0                    0  ...   \n",
       "\n",
       "        Brand_smart  Brand_sonstige_autos  Brand_subaru  Brand_suzuki  \\\n",
       "228060            0                     0             0             0   \n",
       "\n",
       "        Brand_toyota  Brand_trabant  Brand_volkswagen  Brand_volvo  \\\n",
       "228060             0              0                 0            0   \n",
       "\n",
       "        NotRepaired_unknown  NotRepaired_yes  \n",
       "228060                    0                0  \n",
       "\n",
       "[1 rows x 308 columns]"
      ]
     },
     "execution_count": 55,
     "metadata": {},
     "output_type": "execute_result"
    }
   ],
   "source": [
    "features_train.sample()"
   ]
  },
  {
   "cell_type": "markdown",
   "metadata": {},
   "source": [
    "Добавим функцию времени, позволяющую ответить на вопрос Заказчика о скорости предсказания и времени обучения."
   ]
  },
  {
   "cell_type": "code",
   "execution_count": 56,
   "metadata": {},
   "outputs": [],
   "source": [
    "import time\n",
    "def exec_time(start, end):\n",
    "    diff_time = end - start\n",
    "    m, s = divmod(diff_time, 60)\n",
    "    h, m = divmod(m, 60)\n",
    "    s,m,h = int(round(s, 0)), int(round(m, 0)), int(round(h, 0))\n",
    "    print(\"Execution Time: \" + \"{0:02d}:{1:02d}:{2:02d}\".format(h, m, s))"
   ]
  },
  {
   "cell_type": "markdown",
   "metadata": {},
   "source": [
    "Добавим функцию rmse"
   ]
  },
  {
   "cell_type": "code",
   "execution_count": 57,
   "metadata": {},
   "outputs": [],
   "source": [
    "def rmse(target, predictions):\n",
    "    mse = mean_squared_error(target, predictions)\n",
    "    rmse = mse**0.5\n",
    "    return rmse"
   ]
  },
  {
   "cell_type": "markdown",
   "metadata": {},
   "source": [
    "Рассмотрим 4 модели: линейную регрессию, дерево решений, LightGBM и CatBoost."
   ]
  },
  {
   "cell_type": "markdown",
   "metadata": {},
   "source": [
    "Линейная регрессия"
   ]
  },
  {
   "cell_type": "code",
   "execution_count": 58,
   "metadata": {},
   "outputs": [
    {
     "name": "stdout",
     "output_type": "stream",
     "text": [
      "Execution Time: 00:00:23\n",
      "Execution Time: 00:00:00\n",
      "RMSE: 2333.4\n",
      "CPU times: user 11.7 s, sys: 11.6 s, total: 23.2 s\n",
      "Wall time: 23.2 s\n"
     ]
    }
   ],
   "source": [
    "%%time\n",
    "start = time.time()\n",
    "model_lr = LinearRegression()\n",
    "model_lr.fit(features_train, target_train)\n",
    "end = time.time()\n",
    "exec_time(start,end)\n",
    "start = time.time()\n",
    "predicted_lr = model_lr.predict(features_valid)\n",
    "end = time.time()\n",
    "exec_time(start,end)\n",
    "rmse_lr = rmse(target_valid, predicted_lr)\n",
    "print('RMSE:', rmse_lr.round(2))"
   ]
  },
  {
   "cell_type": "markdown",
   "metadata": {},
   "source": [
    "Дерево решений"
   ]
  },
  {
   "cell_type": "code",
   "execution_count": 59,
   "metadata": {},
   "outputs": [
    {
     "name": "stdout",
     "output_type": "stream",
     "text": [
      "Execution Time: 00:00:01\n",
      "Execution Time: 00:00:00\n",
      "RMSE: 3489.26\n",
      "CPU times: user 423 ms, sys: 267 ms, total: 690 ms\n",
      "Wall time: 726 ms\n"
     ]
    }
   ],
   "source": [
    "%%time\n",
    "model_dtc = DecisionTreeRegressor(random_state=state, max_depth=1) \n",
    "start = time.time()\n",
    "model_dtc.fit(features_train, target_train)\n",
    "end = time.time()\n",
    "exec_time(start,end)\n",
    "start = time.time()\n",
    "predicted_dtc = model_dtc.predict(features_valid)\n",
    "end = time.time()\n",
    "exec_time(start,end)\n",
    "rmse_dtc = rmse(target_valid, predicted_dtc)           \n",
    "\n",
    "print('RMSE:', rmse_dtc.round(2))"
   ]
  },
  {
   "cell_type": "markdown",
   "metadata": {},
   "source": [
    "LGBMRegressor"
   ]
  },
  {
   "cell_type": "code",
   "execution_count": 60,
   "metadata": {},
   "outputs": [
    {
     "name": "stdout",
     "output_type": "stream",
     "text": [
      "Execution Time: 00:06:45\n",
      "Execution Time: 00:00:01\n",
      "RMSE: 1572.23\n",
      "CPU times: user 6min 38s, sys: 4.31 s, total: 6min 42s\n",
      "Wall time: 6min 46s\n"
     ]
    }
   ],
   "source": [
    "%%time\n",
    "model_lgbm = LGBMRegressor(n_estimators=120, max_depth=16, random_state = state)\n",
    "start = time.time()\n",
    "model_lgbm.fit(features_train, target_train)\n",
    "end = time.time()\n",
    "exec_time(start,end)\n",
    "start = time.time()\n",
    "predicted_lgbm = model_lgbm.predict(features_valid, verbose=2)\n",
    "end = time.time()\n",
    "exec_time(start,end)\n",
    "rmse_lgbm = rmse(target_valid, predicted_lgbm)\n",
    "print('RMSE:', rmse_lgbm.round(2))"
   ]
  },
  {
   "cell_type": "markdown",
   "metadata": {},
   "source": [
    "CatBoostRegressor"
   ]
  },
  {
   "cell_type": "markdown",
   "metadata": {},
   "source": [
    "Вариант 1. Гиперпараметры: iterations=10, loss_function='RMSE', depth=16"
   ]
  },
  {
   "cell_type": "code",
   "execution_count": 61,
   "metadata": {},
   "outputs": [
    {
     "name": "stdout",
     "output_type": "stream",
     "text": [
      "Learning rate set to 0.5\n",
      "0:\tlearn: 2894.9384402\ttotal: 1.26s\tremaining: 2m 29s\n",
      "1:\tlearn: 2163.0227489\ttotal: 2.43s\tremaining: 2m 23s\n",
      "2:\tlearn: 1877.8747128\ttotal: 3.58s\tremaining: 2m 19s\n",
      "3:\tlearn: 1741.3271544\ttotal: 4.74s\tremaining: 2m 17s\n",
      "4:\tlearn: 1673.6996845\ttotal: 5.84s\tremaining: 2m 14s\n",
      "5:\tlearn: 1638.1817367\ttotal: 6.93s\tremaining: 2m 11s\n",
      "6:\tlearn: 1602.2701138\ttotal: 8s\tremaining: 2m 9s\n",
      "7:\tlearn: 1586.3770171\ttotal: 9.07s\tremaining: 2m 7s\n",
      "8:\tlearn: 1571.9266587\ttotal: 10.2s\tremaining: 2m 5s\n",
      "9:\tlearn: 1557.1131401\ttotal: 11.3s\tremaining: 2m 4s\n",
      "10:\tlearn: 1547.9889723\ttotal: 12.5s\tremaining: 2m 4s\n",
      "11:\tlearn: 1538.7143134\ttotal: 13.6s\tremaining: 2m 2s\n",
      "12:\tlearn: 1529.1748087\ttotal: 14.8s\tremaining: 2m 1s\n",
      "13:\tlearn: 1519.3252103\ttotal: 15.9s\tremaining: 2m\n",
      "14:\tlearn: 1510.0674107\ttotal: 17s\tremaining: 1m 59s\n",
      "15:\tlearn: 1502.0414182\ttotal: 18.1s\tremaining: 1m 57s\n",
      "16:\tlearn: 1494.2989555\ttotal: 19.4s\tremaining: 1m 57s\n",
      "17:\tlearn: 1487.0723542\ttotal: 20.6s\tremaining: 1m 56s\n",
      "18:\tlearn: 1480.2954486\ttotal: 21.8s\tremaining: 1m 56s\n",
      "19:\tlearn: 1475.2242930\ttotal: 23.1s\tremaining: 1m 55s\n",
      "20:\tlearn: 1470.8224830\ttotal: 24.2s\tremaining: 1m 54s\n",
      "21:\tlearn: 1465.2350689\ttotal: 25.4s\tremaining: 1m 53s\n",
      "22:\tlearn: 1454.0041566\ttotal: 26.5s\tremaining: 1m 51s\n",
      "23:\tlearn: 1448.9900868\ttotal: 27.6s\tremaining: 1m 50s\n",
      "24:\tlearn: 1441.0917878\ttotal: 28.7s\tremaining: 1m 48s\n",
      "25:\tlearn: 1432.4802139\ttotal: 29.8s\tremaining: 1m 47s\n",
      "26:\tlearn: 1427.5759776\ttotal: 30.9s\tremaining: 1m 46s\n",
      "27:\tlearn: 1421.8805350\ttotal: 32s\tremaining: 1m 45s\n",
      "28:\tlearn: 1418.5790288\ttotal: 33.1s\tremaining: 1m 43s\n",
      "29:\tlearn: 1410.2278240\ttotal: 34.3s\tremaining: 1m 42s\n",
      "30:\tlearn: 1404.3482438\ttotal: 35.4s\tremaining: 1m 41s\n",
      "31:\tlearn: 1400.4306648\ttotal: 36.5s\tremaining: 1m 40s\n",
      "32:\tlearn: 1394.1873490\ttotal: 37.6s\tremaining: 1m 39s\n",
      "33:\tlearn: 1389.8647189\ttotal: 38.8s\tremaining: 1m 38s\n",
      "34:\tlearn: 1383.7274282\ttotal: 39.9s\tremaining: 1m 36s\n",
      "35:\tlearn: 1378.8292006\ttotal: 41s\tremaining: 1m 35s\n",
      "36:\tlearn: 1374.6929824\ttotal: 42.1s\tremaining: 1m 34s\n",
      "37:\tlearn: 1370.1406918\ttotal: 43.3s\tremaining: 1m 33s\n",
      "38:\tlearn: 1366.3070458\ttotal: 44.4s\tremaining: 1m 32s\n",
      "39:\tlearn: 1362.8598125\ttotal: 45.5s\tremaining: 1m 31s\n",
      "40:\tlearn: 1358.8793729\ttotal: 46.6s\tremaining: 1m 29s\n",
      "41:\tlearn: 1356.2991498\ttotal: 47.8s\tremaining: 1m 28s\n",
      "42:\tlearn: 1354.0194815\ttotal: 48.9s\tremaining: 1m 27s\n",
      "43:\tlearn: 1349.8634762\ttotal: 50s\tremaining: 1m 26s\n",
      "44:\tlearn: 1348.1016821\ttotal: 51.1s\tremaining: 1m 25s\n",
      "45:\tlearn: 1345.3702997\ttotal: 52.2s\tremaining: 1m 23s\n",
      "46:\tlearn: 1340.0864727\ttotal: 53.3s\tremaining: 1m 22s\n",
      "47:\tlearn: 1337.7155785\ttotal: 54.4s\tremaining: 1m 21s\n",
      "48:\tlearn: 1334.5777847\ttotal: 55.5s\tremaining: 1m 20s\n",
      "49:\tlearn: 1329.0496063\ttotal: 56.6s\tremaining: 1m 19s\n",
      "50:\tlearn: 1325.2686056\ttotal: 57.8s\tremaining: 1m 18s\n",
      "51:\tlearn: 1322.7331125\ttotal: 58.9s\tremaining: 1m 16s\n",
      "52:\tlearn: 1319.3341520\ttotal: 60s\tremaining: 1m 15s\n",
      "53:\tlearn: 1316.3071508\ttotal: 1m 1s\tremaining: 1m 14s\n",
      "54:\tlearn: 1311.4549400\ttotal: 1m 2s\tremaining: 1m 13s\n",
      "55:\tlearn: 1308.4084609\ttotal: 1m 3s\tremaining: 1m 12s\n",
      "56:\tlearn: 1306.2185878\ttotal: 1m 4s\tremaining: 1m 11s\n",
      "57:\tlearn: 1303.8852506\ttotal: 1m 5s\tremaining: 1m 10s\n",
      "58:\tlearn: 1301.2692923\ttotal: 1m 6s\tremaining: 1m 8s\n",
      "59:\tlearn: 1296.9524867\ttotal: 1m 7s\tremaining: 1m 7s\n",
      "60:\tlearn: 1294.9720547\ttotal: 1m 8s\tremaining: 1m 6s\n",
      "61:\tlearn: 1291.6947007\ttotal: 1m 9s\tremaining: 1m 5s\n",
      "62:\tlearn: 1290.0036380\ttotal: 1m 11s\tremaining: 1m 4s\n",
      "63:\tlearn: 1288.1628661\ttotal: 1m 12s\tremaining: 1m 3s\n",
      "64:\tlearn: 1285.5376058\ttotal: 1m 13s\tremaining: 1m 2s\n",
      "65:\tlearn: 1283.3290304\ttotal: 1m 14s\tremaining: 1m 1s\n",
      "66:\tlearn: 1281.0494657\ttotal: 1m 15s\tremaining: 59.9s\n",
      "67:\tlearn: 1279.0903139\ttotal: 1m 16s\tremaining: 58.7s\n",
      "68:\tlearn: 1276.3916665\ttotal: 1m 17s\tremaining: 57.6s\n",
      "69:\tlearn: 1273.0990798\ttotal: 1m 19s\tremaining: 56.5s\n",
      "70:\tlearn: 1272.5143519\ttotal: 1m 20s\tremaining: 55.4s\n",
      "71:\tlearn: 1270.0892623\ttotal: 1m 21s\tremaining: 54.2s\n",
      "72:\tlearn: 1267.6219140\ttotal: 1m 22s\tremaining: 53.1s\n",
      "73:\tlearn: 1264.6186156\ttotal: 1m 23s\tremaining: 51.9s\n",
      "74:\tlearn: 1263.6569428\ttotal: 1m 24s\tremaining: 50.8s\n",
      "75:\tlearn: 1260.3929251\ttotal: 1m 25s\tremaining: 49.7s\n",
      "76:\tlearn: 1258.6978869\ttotal: 1m 27s\tremaining: 48.6s\n",
      "77:\tlearn: 1256.3960896\ttotal: 1m 28s\tremaining: 47.5s\n",
      "78:\tlearn: 1252.7950168\ttotal: 1m 29s\tremaining: 46.3s\n",
      "79:\tlearn: 1250.5272214\ttotal: 1m 30s\tremaining: 45.2s\n",
      "80:\tlearn: 1247.4148929\ttotal: 1m 31s\tremaining: 44s\n",
      "81:\tlearn: 1244.8940450\ttotal: 1m 32s\tremaining: 42.9s\n",
      "82:\tlearn: 1243.5301627\ttotal: 1m 33s\tremaining: 41.8s\n",
      "83:\tlearn: 1241.8470093\ttotal: 1m 34s\tremaining: 40.7s\n",
      "84:\tlearn: 1240.5021181\ttotal: 1m 36s\tremaining: 39.6s\n",
      "85:\tlearn: 1238.7670330\ttotal: 1m 37s\tremaining: 38.4s\n",
      "86:\tlearn: 1236.3194623\ttotal: 1m 38s\tremaining: 37.3s\n",
      "87:\tlearn: 1234.5302699\ttotal: 1m 39s\tremaining: 36.2s\n",
      "88:\tlearn: 1233.2654563\ttotal: 1m 40s\tremaining: 35s\n",
      "89:\tlearn: 1231.7623666\ttotal: 1m 41s\tremaining: 33.9s\n",
      "90:\tlearn: 1229.1116591\ttotal: 1m 42s\tremaining: 32.8s\n",
      "91:\tlearn: 1226.7290028\ttotal: 1m 44s\tremaining: 31.7s\n",
      "92:\tlearn: 1224.5778044\ttotal: 1m 45s\tremaining: 30.5s\n",
      "93:\tlearn: 1223.1421264\ttotal: 1m 46s\tremaining: 29.4s\n",
      "94:\tlearn: 1221.7478116\ttotal: 1m 47s\tremaining: 28.3s\n",
      "95:\tlearn: 1220.6796343\ttotal: 1m 48s\tremaining: 27.1s\n",
      "96:\tlearn: 1218.8923670\ttotal: 1m 49s\tremaining: 26s\n",
      "97:\tlearn: 1217.3904945\ttotal: 1m 50s\tremaining: 24.9s\n",
      "98:\tlearn: 1215.7936626\ttotal: 1m 51s\tremaining: 23.7s\n",
      "99:\tlearn: 1213.5980196\ttotal: 1m 53s\tremaining: 22.6s\n",
      "100:\tlearn: 1212.2762516\ttotal: 1m 54s\tremaining: 21.5s\n",
      "101:\tlearn: 1210.5351343\ttotal: 1m 55s\tremaining: 20.3s\n",
      "102:\tlearn: 1209.1856617\ttotal: 1m 56s\tremaining: 19.2s\n",
      "103:\tlearn: 1207.5133980\ttotal: 1m 57s\tremaining: 18.1s\n",
      "104:\tlearn: 1206.3408788\ttotal: 1m 58s\tremaining: 16.9s\n",
      "105:\tlearn: 1204.9198216\ttotal: 1m 59s\tremaining: 15.8s\n",
      "106:\tlearn: 1202.7340469\ttotal: 2m\tremaining: 14.7s\n",
      "107:\tlearn: 1201.5756647\ttotal: 2m 1s\tremaining: 13.5s\n",
      "108:\tlearn: 1199.3751561\ttotal: 2m 2s\tremaining: 12.4s\n",
      "109:\tlearn: 1198.8435437\ttotal: 2m 4s\tremaining: 11.3s\n",
      "110:\tlearn: 1197.4959497\ttotal: 2m 5s\tremaining: 10.2s\n",
      "111:\tlearn: 1196.1559509\ttotal: 2m 6s\tremaining: 9.02s\n",
      "112:\tlearn: 1194.1886950\ttotal: 2m 7s\tremaining: 7.89s\n",
      "113:\tlearn: 1192.3275116\ttotal: 2m 8s\tremaining: 6.76s\n",
      "114:\tlearn: 1191.2632812\ttotal: 2m 9s\tremaining: 5.63s\n",
      "115:\tlearn: 1190.1242825\ttotal: 2m 10s\tremaining: 4.5s\n",
      "116:\tlearn: 1188.2226666\ttotal: 2m 11s\tremaining: 3.38s\n",
      "117:\tlearn: 1186.5194920\ttotal: 2m 12s\tremaining: 2.25s\n",
      "118:\tlearn: 1184.2385199\ttotal: 2m 13s\tremaining: 1.12s\n",
      "119:\tlearn: 1183.3908533\ttotal: 2m 15s\tremaining: 0us\n",
      "Execution Time: 00:02:17\n",
      "Execution Time: 00:00:00\n",
      "RMSE: 1478.38\n",
      "CPU times: user 1min 26s, sys: 50 s, total: 2min 16s\n",
      "Wall time: 2min 17s\n"
     ]
    }
   ],
   "source": [
    "%%time\n",
    "\n",
    "model_cat = CatBoostRegressor(random_state=12345, iterations=120, loss_function='RMSE', depth=16)\n",
    "start = time.time()\n",
    "model_cat.fit(features_train, target_train)\n",
    "end = time.time()\n",
    "exec_time(start,end)\n",
    "start = time.time()\n",
    "predicted_cat = model_cat.predict(features_valid, verbose=1)\n",
    "end = time.time()\n",
    "exec_time(start,end)\n",
    "rmse_cat = rmse(target_valid, predicted_cat)\n",
    "               \n",
    "print('RMSE:', rmse_cat.round(2))"
   ]
  },
  {
   "cell_type": "markdown",
   "metadata": {},
   "source": [
    "Вариант 2. Гиперпараметры: iterations=5, loss_function='RMSE', depth=10"
   ]
  },
  {
   "cell_type": "code",
   "execution_count": 62,
   "metadata": {},
   "outputs": [
    {
     "name": "stdout",
     "output_type": "stream",
     "text": [
      "Learning rate set to 0.5\n",
      "0:\tlearn: 3000.2887504\ttotal: 44.1ms\tremaining: 176ms\n",
      "1:\tlearn: 2331.7824199\ttotal: 88.5ms\tremaining: 133ms\n",
      "2:\tlearn: 2047.2047265\ttotal: 134ms\tremaining: 89.6ms\n",
      "3:\tlearn: 1901.9725512\ttotal: 180ms\tremaining: 45ms\n",
      "4:\tlearn: 1832.7197926\ttotal: 226ms\tremaining: 0us\n",
      "Execution Time: 00:00:02\n",
      "Execution Time: 00:00:00\n",
      "RMSE: 1812.05\n",
      "CPU times: user 1.21 s, sys: 21.7 ms, total: 1.23 s\n",
      "Wall time: 1.95 s\n"
     ]
    }
   ],
   "source": [
    "%%time\n",
    "\n",
    "model_cat = CatBoostRegressor(random_state=12345, iterations=5, loss_function='RMSE', depth=10)\n",
    "start = time.time()\n",
    "model_cat.fit(features_train, target_train)\n",
    "end = time.time()\n",
    "exec_time(start,end)\n",
    "start = time.time()\n",
    "predicted_cat = model_cat.predict(features_valid, verbose=1)\n",
    "end = time.time()\n",
    "exec_time(start,end)\n",
    "rmse_cat = rmse(target_valid, predicted_cat)\n",
    "               \n",
    "print('RMSE:', rmse_cat.round(2))"
   ]
  },
  {
   "cell_type": "markdown",
   "metadata": {},
   "source": [
    "Вариант 3. Гиперпараметры: iterations=1, loss_function='RMSE', depth=3"
   ]
  },
  {
   "cell_type": "code",
   "execution_count": 63,
   "metadata": {},
   "outputs": [
    {
     "name": "stdout",
     "output_type": "stream",
     "text": [
      "Learning rate set to 0.5\n",
      "0:\tlearn: 3391.9267342\ttotal: 17ms\tremaining: 0us\n",
      "Execution Time: 00:00:01\n",
      "Execution Time: 00:00:00\n",
      "RMSE: 3362.72\n",
      "CPU times: user 1.14 s, sys: 10.9 ms, total: 1.15 s\n",
      "Wall time: 1.5 s\n"
     ]
    }
   ],
   "source": [
    "%%time\n",
    "\n",
    "model_cat = CatBoostRegressor(random_state=12345, iterations=1, loss_function='RMSE', depth=3)\n",
    "start = time.time()\n",
    "model_cat.fit(features_train, target_train)\n",
    "end = time.time()\n",
    "exec_time(start,end)\n",
    "start = time.time()\n",
    "predicted_cat = model_cat.predict(features_valid, verbose=1)\n",
    "end = time.time()\n",
    "exec_time(start,end)\n",
    "rmse_cat = rmse(target_valid, predicted_cat)\n",
    "               \n",
    "print('RMSE:', rmse_cat.round(2))"
   ]
  },
  {
   "cell_type": "markdown",
   "metadata": {},
   "source": [
    "Самые хорошие результаты, среди трех вариантов моделиCatBoostRegressor, у модели с гиперпараметрами iterations=10, loss_function='RMSE', depth=16. Ее RMSE = 1478.38.У двух других вариантов -  1812.05 и 3362.72."
   ]
  },
  {
   "cell_type": "markdown",
   "metadata": {},
   "source": [
    "### Вывод\n",
    "Обучены 4 модели: линейная регрессия, дерево решений, LightGBM и CatBoost."
   ]
  },
  {
   "cell_type": "markdown",
   "metadata": {},
   "source": [
    "## Анализ моделей"
   ]
  },
  {
   "cell_type": "markdown",
   "metadata": {},
   "source": [
    "**Модель линейной регрессии:**\n",
    " - Длительность обучения:  23 секунды\n",
    " - Длительность предсказания: менее 0 секунд\n",
    " - RMSE: 2333.4\n",
    " - Общее время: 23.2 секунды\n",
    "\n",
    "**Дерево решений**\n",
    " - Длительность обучения: менее 1 секунды\n",
    " - Длительность предсказания: менее 0 секунд\n",
    " - RMSE: 3489.26\n",
    " - Общее время: 726 милисекунд\n",
    " \n",
    "   \n",
    "**LGBMRegressor**\n",
    " - Длительность обучения: 6 минут 45 секунд\n",
    " - Длительность предсказания: 1 секунда\n",
    " - RMSE: 1572.23\n",
    " - Общее время:  6 минут 46 секунд\n",
    "\n",
    " \n",
    "**CatBoostRegressor**\n",
    " - Длительность обучения: 2 минуты 17 секунд\n",
    " - Длительность предсказания: менее 0 секунд\n",
    " - RMSE: 1478.38\n",
    " - Общее время: 2 минуты 17 секунд\n"
   ]
  },
  {
   "cell_type": "markdown",
   "metadata": {},
   "source": [
    "### Вывод\n",
    "Наиболее эффективно показала себя модель CatBoostRegressor. Гиперпараметры: iterations=10, loss_function='RMSE', depth=16."
   ]
  },
  {
   "cell_type": "markdown",
   "metadata": {},
   "source": [
    "Проверим ее на тестовой выборке"
   ]
  },
  {
   "cell_type": "code",
   "execution_count": 65,
   "metadata": {},
   "outputs": [
    {
     "name": "stdout",
     "output_type": "stream",
     "text": [
      "Learning rate set to 0.5\n",
      "0:\tlearn: 2894.9384402\ttotal: 1.1s\tremaining: 2m 10s\n",
      "1:\tlearn: 2163.0227489\ttotal: 2.21s\tremaining: 2m 10s\n",
      "2:\tlearn: 1877.8747128\ttotal: 3.31s\tremaining: 2m 8s\n",
      "3:\tlearn: 1741.3271544\ttotal: 4.45s\tremaining: 2m 9s\n",
      "4:\tlearn: 1673.6996845\ttotal: 5.67s\tremaining: 2m 10s\n",
      "5:\tlearn: 1638.1817367\ttotal: 6.76s\tremaining: 2m 8s\n",
      "6:\tlearn: 1602.2701138\ttotal: 7.86s\tremaining: 2m 6s\n",
      "7:\tlearn: 1586.3770171\ttotal: 9.02s\tremaining: 2m 6s\n",
      "8:\tlearn: 1571.9266587\ttotal: 10.1s\tremaining: 2m 4s\n",
      "9:\tlearn: 1557.1131401\ttotal: 11.2s\tremaining: 2m 3s\n",
      "10:\tlearn: 1547.9889723\ttotal: 12.3s\tremaining: 2m 2s\n",
      "11:\tlearn: 1538.7143134\ttotal: 13.5s\tremaining: 2m 1s\n",
      "12:\tlearn: 1529.1748087\ttotal: 14.6s\tremaining: 2m\n",
      "13:\tlearn: 1519.3252103\ttotal: 15.7s\tremaining: 1m 58s\n",
      "14:\tlearn: 1510.0674107\ttotal: 16.8s\tremaining: 1m 57s\n",
      "15:\tlearn: 1502.0414182\ttotal: 17.8s\tremaining: 1m 56s\n",
      "16:\tlearn: 1494.2989555\ttotal: 19s\tremaining: 1m 55s\n",
      "17:\tlearn: 1487.0723542\ttotal: 20.1s\tremaining: 1m 53s\n",
      "18:\tlearn: 1480.2954486\ttotal: 21.2s\tremaining: 1m 52s\n",
      "19:\tlearn: 1475.2242930\ttotal: 22.2s\tremaining: 1m 51s\n",
      "20:\tlearn: 1470.8224830\ttotal: 23.3s\tremaining: 1m 49s\n",
      "21:\tlearn: 1465.2350689\ttotal: 24.4s\tremaining: 1m 48s\n",
      "22:\tlearn: 1454.0041566\ttotal: 25.6s\tremaining: 1m 48s\n",
      "23:\tlearn: 1448.9900868\ttotal: 26.8s\tremaining: 1m 47s\n",
      "24:\tlearn: 1441.0917878\ttotal: 27.9s\tremaining: 1m 46s\n",
      "25:\tlearn: 1432.4802139\ttotal: 29.1s\tremaining: 1m 45s\n",
      "26:\tlearn: 1427.5759776\ttotal: 30.1s\tremaining: 1m 43s\n",
      "27:\tlearn: 1421.8805350\ttotal: 31.2s\tremaining: 1m 42s\n",
      "28:\tlearn: 1418.5790288\ttotal: 32.3s\tremaining: 1m 41s\n",
      "29:\tlearn: 1410.2278240\ttotal: 33.4s\tremaining: 1m 40s\n",
      "30:\tlearn: 1404.3482438\ttotal: 34.6s\tremaining: 1m 39s\n",
      "31:\tlearn: 1400.4306648\ttotal: 35.7s\tremaining: 1m 38s\n",
      "32:\tlearn: 1394.1873490\ttotal: 36.8s\tremaining: 1m 36s\n",
      "33:\tlearn: 1389.8647189\ttotal: 37.9s\tremaining: 1m 35s\n",
      "34:\tlearn: 1383.7274282\ttotal: 39.1s\tremaining: 1m 34s\n",
      "35:\tlearn: 1378.8292006\ttotal: 40.2s\tremaining: 1m 33s\n",
      "36:\tlearn: 1374.6929824\ttotal: 41.3s\tremaining: 1m 32s\n",
      "37:\tlearn: 1370.1406918\ttotal: 42.5s\tremaining: 1m 31s\n",
      "38:\tlearn: 1366.3070458\ttotal: 43.7s\tremaining: 1m 30s\n",
      "39:\tlearn: 1362.8598125\ttotal: 44.8s\tremaining: 1m 29s\n",
      "40:\tlearn: 1358.8793729\ttotal: 46s\tremaining: 1m 28s\n",
      "41:\tlearn: 1356.2991498\ttotal: 47.2s\tremaining: 1m 27s\n",
      "42:\tlearn: 1354.0194815\ttotal: 48.4s\tremaining: 1m 26s\n",
      "43:\tlearn: 1349.8634762\ttotal: 49.5s\tremaining: 1m 25s\n",
      "44:\tlearn: 1348.1016821\ttotal: 50.6s\tremaining: 1m 24s\n",
      "45:\tlearn: 1345.3702997\ttotal: 51.7s\tremaining: 1m 23s\n",
      "46:\tlearn: 1340.0864727\ttotal: 52.9s\tremaining: 1m 22s\n",
      "47:\tlearn: 1337.7155785\ttotal: 54.1s\tremaining: 1m 21s\n",
      "48:\tlearn: 1334.5777847\ttotal: 55.2s\tremaining: 1m 19s\n",
      "49:\tlearn: 1329.0496063\ttotal: 56.4s\tremaining: 1m 18s\n",
      "50:\tlearn: 1325.2686056\ttotal: 57.5s\tremaining: 1m 17s\n",
      "51:\tlearn: 1322.7331125\ttotal: 58.7s\tremaining: 1m 16s\n",
      "52:\tlearn: 1319.3341520\ttotal: 59.8s\tremaining: 1m 15s\n",
      "53:\tlearn: 1316.3071508\ttotal: 1m\tremaining: 1m 14s\n",
      "54:\tlearn: 1311.4549400\ttotal: 1m 2s\tremaining: 1m 13s\n",
      "55:\tlearn: 1308.4084609\ttotal: 1m 3s\tremaining: 1m 12s\n",
      "56:\tlearn: 1306.2185878\ttotal: 1m 4s\tremaining: 1m 11s\n",
      "57:\tlearn: 1303.8852506\ttotal: 1m 5s\tremaining: 1m 10s\n",
      "58:\tlearn: 1301.2692923\ttotal: 1m 6s\tremaining: 1m 8s\n",
      "59:\tlearn: 1296.9524867\ttotal: 1m 7s\tremaining: 1m 7s\n",
      "60:\tlearn: 1294.9720547\ttotal: 1m 9s\tremaining: 1m 6s\n",
      "61:\tlearn: 1291.6947007\ttotal: 1m 10s\tremaining: 1m 5s\n",
      "62:\tlearn: 1290.0036380\ttotal: 1m 11s\tremaining: 1m 4s\n",
      "63:\tlearn: 1288.1628661\ttotal: 1m 12s\tremaining: 1m 3s\n",
      "64:\tlearn: 1285.5376058\ttotal: 1m 13s\tremaining: 1m 2s\n",
      "65:\tlearn: 1283.3290304\ttotal: 1m 15s\tremaining: 1m 1s\n",
      "66:\tlearn: 1281.0494657\ttotal: 1m 16s\tremaining: 1m\n",
      "67:\tlearn: 1279.0903139\ttotal: 1m 17s\tremaining: 59.3s\n",
      "68:\tlearn: 1276.3916665\ttotal: 1m 18s\tremaining: 58.1s\n",
      "69:\tlearn: 1273.0990798\ttotal: 1m 19s\tremaining: 57s\n",
      "70:\tlearn: 1272.5143519\ttotal: 1m 20s\tremaining: 55.9s\n",
      "71:\tlearn: 1270.0892623\ttotal: 1m 22s\tremaining: 54.7s\n",
      "72:\tlearn: 1267.6219140\ttotal: 1m 23s\tremaining: 53.6s\n",
      "73:\tlearn: 1264.6186156\ttotal: 1m 24s\tremaining: 52.4s\n",
      "74:\tlearn: 1263.6569428\ttotal: 1m 25s\tremaining: 51.3s\n",
      "75:\tlearn: 1260.3929251\ttotal: 1m 26s\tremaining: 50.2s\n",
      "76:\tlearn: 1258.6978869\ttotal: 1m 27s\tremaining: 49.1s\n",
      "77:\tlearn: 1256.3960896\ttotal: 1m 29s\tremaining: 48s\n",
      "78:\tlearn: 1252.7950168\ttotal: 1m 30s\tremaining: 46.8s\n",
      "79:\tlearn: 1250.5272214\ttotal: 1m 31s\tremaining: 45.7s\n",
      "80:\tlearn: 1247.4148929\ttotal: 1m 32s\tremaining: 44.5s\n",
      "81:\tlearn: 1244.8940450\ttotal: 1m 33s\tremaining: 43.4s\n",
      "82:\tlearn: 1243.5301627\ttotal: 1m 34s\tremaining: 42.2s\n",
      "83:\tlearn: 1241.8470093\ttotal: 1m 35s\tremaining: 41.1s\n",
      "84:\tlearn: 1240.5021181\ttotal: 1m 37s\tremaining: 40s\n",
      "85:\tlearn: 1238.7670330\ttotal: 1m 38s\tremaining: 38.8s\n",
      "86:\tlearn: 1236.3194623\ttotal: 1m 39s\tremaining: 37.7s\n",
      "87:\tlearn: 1234.5302699\ttotal: 1m 40s\tremaining: 36.5s\n",
      "88:\tlearn: 1233.2654563\ttotal: 1m 41s\tremaining: 35.4s\n",
      "89:\tlearn: 1231.7623666\ttotal: 1m 42s\tremaining: 34.2s\n",
      "90:\tlearn: 1229.1116591\ttotal: 1m 43s\tremaining: 33.1s\n",
      "91:\tlearn: 1226.7290028\ttotal: 1m 44s\tremaining: 31.9s\n",
      "92:\tlearn: 1224.5778044\ttotal: 1m 46s\tremaining: 30.8s\n",
      "93:\tlearn: 1223.1421264\ttotal: 1m 47s\tremaining: 29.7s\n",
      "94:\tlearn: 1221.7478116\ttotal: 1m 48s\tremaining: 28.5s\n",
      "95:\tlearn: 1220.6796343\ttotal: 1m 49s\tremaining: 27.4s\n",
      "96:\tlearn: 1218.8923670\ttotal: 1m 50s\tremaining: 26.2s\n",
      "97:\tlearn: 1217.3904945\ttotal: 1m 51s\tremaining: 25.1s\n",
      "98:\tlearn: 1215.7936626\ttotal: 1m 52s\tremaining: 23.9s\n",
      "99:\tlearn: 1213.5980196\ttotal: 1m 53s\tremaining: 22.8s\n",
      "100:\tlearn: 1212.2762516\ttotal: 1m 55s\tremaining: 21.6s\n",
      "101:\tlearn: 1210.5351343\ttotal: 1m 56s\tremaining: 20.5s\n",
      "102:\tlearn: 1209.1856617\ttotal: 1m 57s\tremaining: 19.4s\n",
      "103:\tlearn: 1207.5133980\ttotal: 1m 58s\tremaining: 18.2s\n",
      "104:\tlearn: 1206.3408788\ttotal: 1m 59s\tremaining: 17.1s\n",
      "105:\tlearn: 1204.9198216\ttotal: 2m\tremaining: 15.9s\n",
      "106:\tlearn: 1202.7340469\ttotal: 2m 1s\tremaining: 14.8s\n",
      "107:\tlearn: 1201.5756647\ttotal: 2m 2s\tremaining: 13.6s\n",
      "108:\tlearn: 1199.3751561\ttotal: 2m 3s\tremaining: 12.5s\n",
      "109:\tlearn: 1198.8435437\ttotal: 2m 5s\tremaining: 11.4s\n",
      "110:\tlearn: 1197.4959497\ttotal: 2m 6s\tremaining: 10.2s\n",
      "111:\tlearn: 1196.1559509\ttotal: 2m 7s\tremaining: 9.09s\n",
      "112:\tlearn: 1194.1886950\ttotal: 2m 8s\tremaining: 7.96s\n",
      "113:\tlearn: 1192.3275116\ttotal: 2m 9s\tremaining: 6.82s\n",
      "114:\tlearn: 1191.2632812\ttotal: 2m 10s\tremaining: 5.68s\n",
      "115:\tlearn: 1190.1242825\ttotal: 2m 11s\tremaining: 4.54s\n",
      "116:\tlearn: 1188.2226666\ttotal: 2m 12s\tremaining: 3.41s\n",
      "117:\tlearn: 1186.5194920\ttotal: 2m 14s\tremaining: 2.27s\n",
      "118:\tlearn: 1184.2385199\ttotal: 2m 15s\tremaining: 1.14s\n",
      "119:\tlearn: 1183.3908533\ttotal: 2m 16s\tremaining: 0us\n",
      "RMSE: 1467.69\n",
      "CPU times: user 1min 28s, sys: 49.1 s, total: 2min 17s\n",
      "Wall time: 2min 18s\n"
     ]
    }
   ],
   "source": [
    "%%time\n",
    "model_best = CatBoostRegressor(random_state=12345, iterations=120, loss_function='RMSE', depth=16)\n",
    "model_best.fit(features_train, target_train)\n",
    "predicted = model_best.predict(features_test, verbose=1)\n",
    "rmse_best = rmse(target_test, predicted)\n",
    "print('RMSE:', rmse_best.round(2))"
   ]
  },
  {
   "cell_type": "markdown",
   "metadata": {},
   "source": [
    "Хороший результат. RMSE на тестовой выборке 1467.69"
   ]
  },
  {
   "cell_type": "markdown",
   "metadata": {},
   "source": [
    "## Чек-лист проверки"
   ]
  },
  {
   "cell_type": "markdown",
   "metadata": {},
   "source": [
    "Поставьте 'x' в выполненных пунктах. Далее нажмите Shift+Enter."
   ]
  },
  {
   "cell_type": "markdown",
   "metadata": {},
   "source": [
    "- [x]  Jupyter Notebook открыт\n",
    "- [x]  Весь код выполняется без ошибок\n",
    "- [x]  Ячейки с кодом расположены в порядке исполнения\n",
    "- [x]  Выполнена загрузка и подготовка данных\n",
    "- [x]  Выполнено обучение моделей\n",
    "- [x]  Есть анализ скорости работы и качества моделей"
   ]
  },
  {
   "cell_type": "code",
   "execution_count": null,
   "metadata": {},
   "outputs": [],
   "source": []
  }
 ],
 "metadata": {
  "ExecuteTimeLog": [
   {
    "duration": 419,
    "start_time": "2022-06-22T07:57:23.695Z"
   },
   {
    "duration": 3461,
    "start_time": "2022-06-22T07:58:29.877Z"
   },
   {
    "duration": 233,
    "start_time": "2022-06-22T07:58:50.273Z"
   },
   {
    "duration": 100,
    "start_time": "2022-06-22T07:59:52.709Z"
   },
   {
    "duration": 155,
    "start_time": "2022-06-22T08:00:34.239Z"
   },
   {
    "duration": 90,
    "start_time": "2022-06-22T08:00:55.034Z"
   },
   {
    "duration": 125,
    "start_time": "2022-06-22T08:01:36.392Z"
   },
   {
    "duration": 10,
    "start_time": "2022-06-22T08:09:31.734Z"
   },
   {
    "duration": 408,
    "start_time": "2022-06-22T15:13:02.140Z"
   },
   {
    "duration": 3134,
    "start_time": "2022-06-22T15:13:02.550Z"
   },
   {
    "duration": 150,
    "start_time": "2022-06-22T15:13:05.685Z"
   },
   {
    "duration": 111,
    "start_time": "2022-06-22T15:13:05.838Z"
   },
   {
    "duration": 130,
    "start_time": "2022-06-22T15:13:05.952Z"
   },
   {
    "duration": 93,
    "start_time": "2022-06-22T15:14:11.651Z"
   },
   {
    "duration": 19,
    "start_time": "2022-06-22T15:16:57.696Z"
   },
   {
    "duration": 99,
    "start_time": "2022-06-22T15:19:21.307Z"
   },
   {
    "duration": 68,
    "start_time": "2022-06-22T15:20:55.373Z"
   },
   {
    "duration": 33,
    "start_time": "2022-06-22T15:21:11.190Z"
   },
   {
    "duration": 31,
    "start_time": "2022-06-22T15:21:26.693Z"
   },
   {
    "duration": 43,
    "start_time": "2022-06-22T15:21:52.273Z"
   },
   {
    "duration": 8,
    "start_time": "2022-06-22T15:25:02.193Z"
   },
   {
    "duration": 11,
    "start_time": "2022-06-22T15:25:19.909Z"
   },
   {
    "duration": 11,
    "start_time": "2022-06-22T15:25:33.199Z"
   },
   {
    "duration": 18,
    "start_time": "2022-06-22T15:26:25.751Z"
   },
   {
    "duration": 8,
    "start_time": "2022-06-22T15:26:45.286Z"
   },
   {
    "duration": 8,
    "start_time": "2022-06-22T15:29:05.946Z"
   },
   {
    "duration": 6,
    "start_time": "2022-06-22T15:30:07.097Z"
   },
   {
    "duration": 6,
    "start_time": "2022-06-22T15:30:21.318Z"
   },
   {
    "duration": 8,
    "start_time": "2022-06-22T15:30:52.114Z"
   },
   {
    "duration": 8,
    "start_time": "2022-06-22T15:31:57.277Z"
   },
   {
    "duration": 2,
    "start_time": "2022-06-22T15:33:21.154Z"
   },
   {
    "duration": 5,
    "start_time": "2022-06-22T15:33:45.168Z"
   },
   {
    "duration": 29,
    "start_time": "2022-06-22T15:42:58.874Z"
   },
   {
    "duration": 35,
    "start_time": "2022-06-22T15:47:04.440Z"
   },
   {
    "duration": 7,
    "start_time": "2022-06-22T15:47:31.364Z"
   },
   {
    "duration": 4,
    "start_time": "2022-06-22T15:47:36.900Z"
   },
   {
    "duration": 11,
    "start_time": "2022-06-22T15:47:39.373Z"
   },
   {
    "duration": 9,
    "start_time": "2022-06-22T15:50:37.168Z"
   },
   {
    "duration": 12,
    "start_time": "2022-06-22T15:50:40.676Z"
   },
   {
    "duration": 7,
    "start_time": "2022-06-22T15:50:55.569Z"
   },
   {
    "duration": 13,
    "start_time": "2022-06-22T15:50:59.522Z"
   },
   {
    "duration": 8,
    "start_time": "2022-06-22T15:51:16.768Z"
   },
   {
    "duration": 13,
    "start_time": "2022-06-22T15:51:19.322Z"
   },
   {
    "duration": 44,
    "start_time": "2022-06-23T13:16:45.906Z"
   },
   {
    "duration": 404,
    "start_time": "2022-06-23T13:16:51.873Z"
   },
   {
    "duration": 1072,
    "start_time": "2022-06-23T13:16:52.279Z"
   },
   {
    "duration": 114,
    "start_time": "2022-06-23T13:16:53.352Z"
   },
   {
    "duration": 112,
    "start_time": "2022-06-23T13:16:53.467Z"
   },
   {
    "duration": 110,
    "start_time": "2022-06-23T13:16:53.581Z"
   },
   {
    "duration": 90,
    "start_time": "2022-06-23T13:16:53.693Z"
   },
   {
    "duration": 102,
    "start_time": "2022-06-23T13:16:53.785Z"
   },
   {
    "duration": 13,
    "start_time": "2022-06-23T13:16:53.889Z"
   },
   {
    "duration": 51,
    "start_time": "2022-06-23T13:16:53.904Z"
   },
   {
    "duration": 8,
    "start_time": "2022-06-23T13:16:53.957Z"
   },
   {
    "duration": 20,
    "start_time": "2022-06-23T13:16:53.967Z"
   },
   {
    "duration": 148,
    "start_time": "2022-06-23T13:16:53.989Z"
   },
   {
    "duration": 15,
    "start_time": "2022-06-23T13:16:54.139Z"
   },
   {
    "duration": 8,
    "start_time": "2022-06-23T13:16:54.157Z"
   },
   {
    "duration": 23,
    "start_time": "2022-06-23T13:16:54.166Z"
   },
   {
    "duration": 11,
    "start_time": "2022-06-23T13:16:54.191Z"
   },
   {
    "duration": 10,
    "start_time": "2022-06-23T13:18:09.327Z"
   },
   {
    "duration": 12,
    "start_time": "2022-06-23T13:18:11.971Z"
   },
   {
    "duration": 13,
    "start_time": "2022-06-23T13:18:12.667Z"
   },
   {
    "duration": 7,
    "start_time": "2022-06-23T13:19:14.833Z"
   },
   {
    "duration": 10,
    "start_time": "2022-06-23T13:19:15.505Z"
   },
   {
    "duration": 12,
    "start_time": "2022-06-23T13:19:16.155Z"
   },
   {
    "duration": 878,
    "start_time": "2022-06-23T13:21:47.665Z"
   },
   {
    "duration": 101,
    "start_time": "2022-06-23T13:22:23.322Z"
   },
   {
    "duration": 1176,
    "start_time": "2022-06-23T13:22:31.942Z"
   },
   {
    "duration": 856,
    "start_time": "2022-06-23T13:22:33.120Z"
   },
   {
    "duration": 125,
    "start_time": "2022-06-23T13:22:33.977Z"
   },
   {
    "duration": 107,
    "start_time": "2022-06-23T13:22:34.104Z"
   },
   {
    "duration": 115,
    "start_time": "2022-06-23T13:22:34.213Z"
   },
   {
    "duration": 96,
    "start_time": "2022-06-23T13:22:34.330Z"
   },
   {
    "duration": 102,
    "start_time": "2022-06-23T13:22:34.428Z"
   },
   {
    "duration": 24,
    "start_time": "2022-06-23T13:22:34.532Z"
   },
   {
    "duration": 45,
    "start_time": "2022-06-23T13:22:34.558Z"
   },
   {
    "duration": 9,
    "start_time": "2022-06-23T13:22:34.605Z"
   },
   {
    "duration": 5,
    "start_time": "2022-06-23T13:22:34.615Z"
   },
   {
    "duration": 147,
    "start_time": "2022-06-23T13:22:34.621Z"
   },
   {
    "duration": 101,
    "start_time": "2022-06-23T13:22:34.770Z"
   },
   {
    "duration": 0,
    "start_time": "2022-06-23T13:22:34.872Z"
   },
   {
    "duration": 0,
    "start_time": "2022-06-23T13:22:34.873Z"
   },
   {
    "duration": 0,
    "start_time": "2022-06-23T13:22:34.874Z"
   },
   {
    "duration": 0,
    "start_time": "2022-06-23T13:22:34.875Z"
   },
   {
    "duration": 9,
    "start_time": "2022-06-23T13:22:56.118Z"
   },
   {
    "duration": 105,
    "start_time": "2022-06-23T13:23:03.328Z"
   },
   {
    "duration": 110,
    "start_time": "2022-06-23T13:23:10.942Z"
   },
   {
    "duration": 124,
    "start_time": "2022-06-23T13:23:35.850Z"
   },
   {
    "duration": 113,
    "start_time": "2022-06-23T13:24:11.016Z"
   },
   {
    "duration": 116,
    "start_time": "2022-06-23T13:24:30.266Z"
   },
   {
    "duration": 132,
    "start_time": "2022-06-23T13:27:34.694Z"
   },
   {
    "duration": 135,
    "start_time": "2022-06-23T13:30:02.874Z"
   },
   {
    "duration": 140,
    "start_time": "2022-06-23T13:30:11.339Z"
   },
   {
    "duration": 2,
    "start_time": "2022-06-23T13:30:59.283Z"
   },
   {
    "duration": 224,
    "start_time": "2022-06-23T13:31:04.181Z"
   },
   {
    "duration": 133,
    "start_time": "2022-06-23T13:31:16.372Z"
   },
   {
    "duration": 205,
    "start_time": "2022-06-23T13:31:50.722Z"
   },
   {
    "duration": 72,
    "start_time": "2022-06-23T13:32:28.174Z"
   },
   {
    "duration": 70,
    "start_time": "2022-06-23T13:32:38.286Z"
   },
   {
    "duration": 55,
    "start_time": "2022-06-23T13:32:53.616Z"
   },
   {
    "duration": 133,
    "start_time": "2022-06-23T13:33:01.007Z"
   },
   {
    "duration": 459,
    "start_time": "2022-06-23T13:35:06.506Z"
   },
   {
    "duration": 329,
    "start_time": "2022-06-23T13:35:44.854Z"
   },
   {
    "duration": 317,
    "start_time": "2022-06-23T13:35:53.296Z"
   },
   {
    "duration": 304,
    "start_time": "2022-06-23T13:39:15.464Z"
   },
   {
    "duration": 1117,
    "start_time": "2022-06-23T13:39:47.929Z"
   },
   {
    "duration": 755,
    "start_time": "2022-06-23T13:39:49.048Z"
   },
   {
    "duration": 115,
    "start_time": "2022-06-23T13:39:49.805Z"
   },
   {
    "duration": 112,
    "start_time": "2022-06-23T13:39:49.922Z"
   },
   {
    "duration": 121,
    "start_time": "2022-06-23T13:39:50.036Z"
   },
   {
    "duration": 97,
    "start_time": "2022-06-23T13:39:50.159Z"
   },
   {
    "duration": 106,
    "start_time": "2022-06-23T13:39:50.257Z"
   },
   {
    "duration": 14,
    "start_time": "2022-06-23T13:39:50.365Z"
   },
   {
    "duration": 43,
    "start_time": "2022-06-23T13:39:50.381Z"
   },
   {
    "duration": 18,
    "start_time": "2022-06-23T13:39:50.426Z"
   },
   {
    "duration": 27,
    "start_time": "2022-06-23T13:39:50.446Z"
   },
   {
    "duration": 156,
    "start_time": "2022-06-23T13:39:50.475Z"
   },
   {
    "duration": 160,
    "start_time": "2022-06-23T13:39:50.632Z"
   },
   {
    "duration": 361,
    "start_time": "2022-06-23T13:39:50.794Z"
   },
   {
    "duration": 10,
    "start_time": "2022-06-23T13:39:51.157Z"
   },
   {
    "duration": 13,
    "start_time": "2022-06-23T13:39:51.169Z"
   },
   {
    "duration": 16,
    "start_time": "2022-06-23T13:39:51.183Z"
   },
   {
    "duration": 14,
    "start_time": "2022-06-23T13:39:51.201Z"
   },
   {
    "duration": 1826,
    "start_time": "2022-06-23T13:40:03.441Z"
   },
   {
    "duration": 329,
    "start_time": "2022-06-23T13:40:14.004Z"
   },
   {
    "duration": 141,
    "start_time": "2022-06-23T13:41:51.211Z"
   },
   {
    "duration": 133,
    "start_time": "2022-06-23T13:41:57.929Z"
   },
   {
    "duration": 124,
    "start_time": "2022-06-23T13:42:08.386Z"
   },
   {
    "duration": 237,
    "start_time": "2022-06-23T13:42:15.960Z"
   },
   {
    "duration": 141,
    "start_time": "2022-06-23T13:42:23.062Z"
   },
   {
    "duration": 127,
    "start_time": "2022-06-23T13:42:28.188Z"
   },
   {
    "duration": 134,
    "start_time": "2022-06-23T13:43:52.292Z"
   },
   {
    "duration": 104,
    "start_time": "2022-06-23T13:45:44.790Z"
   },
   {
    "duration": 115,
    "start_time": "2022-06-23T13:54:10.557Z"
   },
   {
    "duration": 324,
    "start_time": "2022-06-23T13:54:33.947Z"
   },
   {
    "duration": 167,
    "start_time": "2022-06-23T13:55:02.357Z"
   },
   {
    "duration": 164,
    "start_time": "2022-06-23T13:55:09.529Z"
   },
   {
    "duration": 111,
    "start_time": "2022-06-23T13:57:23.348Z"
   },
   {
    "duration": 139,
    "start_time": "2022-06-23T14:00:48.646Z"
   },
   {
    "duration": 131,
    "start_time": "2022-06-23T14:00:58.986Z"
   },
   {
    "duration": 141,
    "start_time": "2022-06-23T14:01:05.390Z"
   },
   {
    "duration": 148,
    "start_time": "2022-06-23T14:01:11.220Z"
   },
   {
    "duration": 147,
    "start_time": "2022-06-23T14:01:16.816Z"
   },
   {
    "duration": 127,
    "start_time": "2022-06-23T14:01:24.439Z"
   },
   {
    "duration": 223,
    "start_time": "2022-06-23T14:01:31.924Z"
   },
   {
    "duration": 138,
    "start_time": "2022-06-23T14:01:37.009Z"
   },
   {
    "duration": 149,
    "start_time": "2022-06-23T14:01:44.967Z"
   },
   {
    "duration": 1395,
    "start_time": "2022-06-23T14:15:27.574Z"
   },
   {
    "duration": 1045,
    "start_time": "2022-06-23T14:15:36.199Z"
   },
   {
    "duration": 773,
    "start_time": "2022-06-23T14:15:37.246Z"
   },
   {
    "duration": 103,
    "start_time": "2022-06-23T14:15:38.021Z"
   },
   {
    "duration": 111,
    "start_time": "2022-06-23T14:15:38.126Z"
   },
   {
    "duration": 104,
    "start_time": "2022-06-23T14:15:38.239Z"
   },
   {
    "duration": 87,
    "start_time": "2022-06-23T14:15:38.345Z"
   },
   {
    "duration": 98,
    "start_time": "2022-06-23T14:15:38.434Z"
   },
   {
    "duration": 27,
    "start_time": "2022-06-23T14:15:38.534Z"
   },
   {
    "duration": 38,
    "start_time": "2022-06-23T14:15:38.563Z"
   },
   {
    "duration": 11,
    "start_time": "2022-06-23T14:15:38.602Z"
   },
   {
    "duration": 5,
    "start_time": "2022-06-23T14:15:38.615Z"
   },
   {
    "duration": 118,
    "start_time": "2022-06-23T14:15:38.621Z"
   },
   {
    "duration": 125,
    "start_time": "2022-06-23T14:15:38.740Z"
   },
   {
    "duration": 1459,
    "start_time": "2022-06-23T14:15:38.867Z"
   },
   {
    "duration": 103,
    "start_time": "2022-06-23T14:15:49.189Z"
   },
   {
    "duration": 72,
    "start_time": "2022-06-23T14:16:01.341Z"
   },
   {
    "duration": 275,
    "start_time": "2022-06-23T14:29:00.183Z"
   },
   {
    "duration": 1531,
    "start_time": "2022-06-23T14:30:32.778Z"
   },
   {
    "duration": 476,
    "start_time": "2022-06-23T14:31:09.381Z"
   },
   {
    "duration": 546,
    "start_time": "2022-06-23T14:32:03.008Z"
   },
   {
    "duration": 50,
    "start_time": "2022-06-23T14:56:50.054Z"
   },
   {
    "duration": 6535,
    "start_time": "2022-06-23T14:57:49.504Z"
   },
   {
    "duration": 139,
    "start_time": "2022-06-23T15:09:37.488Z"
   },
   {
    "duration": 1103,
    "start_time": "2022-06-23T15:14:38.483Z"
   },
   {
    "duration": 785,
    "start_time": "2022-06-23T15:14:39.587Z"
   },
   {
    "duration": 111,
    "start_time": "2022-06-23T15:14:40.373Z"
   },
   {
    "duration": 105,
    "start_time": "2022-06-23T15:14:40.486Z"
   },
   {
    "duration": 121,
    "start_time": "2022-06-23T15:14:40.593Z"
   },
   {
    "duration": 91,
    "start_time": "2022-06-23T15:14:40.716Z"
   },
   {
    "duration": 106,
    "start_time": "2022-06-23T15:14:40.808Z"
   },
   {
    "duration": 15,
    "start_time": "2022-06-23T15:14:40.915Z"
   },
   {
    "duration": 53,
    "start_time": "2022-06-23T15:14:40.932Z"
   },
   {
    "duration": 11,
    "start_time": "2022-06-23T15:14:40.987Z"
   },
   {
    "duration": 5,
    "start_time": "2022-06-23T15:14:40.999Z"
   },
   {
    "duration": 124,
    "start_time": "2022-06-23T15:14:41.005Z"
   },
   {
    "duration": 114,
    "start_time": "2022-06-23T15:14:41.131Z"
   },
   {
    "duration": 78,
    "start_time": "2022-06-23T15:14:41.248Z"
   },
   {
    "duration": 502,
    "start_time": "2022-06-23T15:14:41.327Z"
   },
   {
    "duration": 54,
    "start_time": "2022-06-23T15:14:41.831Z"
   },
   {
    "duration": 143,
    "start_time": "2022-06-23T15:14:41.887Z"
   },
   {
    "duration": 45,
    "start_time": "2022-06-24T05:19:42.655Z"
   },
   {
    "duration": 1289,
    "start_time": "2022-06-24T05:19:48.175Z"
   },
   {
    "duration": 1035,
    "start_time": "2022-06-24T05:19:49.470Z"
   },
   {
    "duration": 123,
    "start_time": "2022-06-24T05:19:50.506Z"
   },
   {
    "duration": 105,
    "start_time": "2022-06-24T05:19:50.632Z"
   },
   {
    "duration": 120,
    "start_time": "2022-06-24T05:19:50.739Z"
   },
   {
    "duration": 83,
    "start_time": "2022-06-24T05:19:50.861Z"
   },
   {
    "duration": 101,
    "start_time": "2022-06-24T05:19:50.946Z"
   },
   {
    "duration": 15,
    "start_time": "2022-06-24T05:19:51.058Z"
   },
   {
    "duration": 63,
    "start_time": "2022-06-24T05:19:51.075Z"
   },
   {
    "duration": 25,
    "start_time": "2022-06-24T05:19:51.141Z"
   },
   {
    "duration": 7,
    "start_time": "2022-06-24T05:19:51.168Z"
   },
   {
    "duration": 125,
    "start_time": "2022-06-24T05:19:51.177Z"
   },
   {
    "duration": 117,
    "start_time": "2022-06-24T05:19:51.304Z"
   },
   {
    "duration": 84,
    "start_time": "2022-06-24T05:19:51.423Z"
   },
   {
    "duration": 530,
    "start_time": "2022-06-24T05:19:51.509Z"
   },
   {
    "duration": 54,
    "start_time": "2022-06-24T05:19:52.041Z"
   },
   {
    "duration": 149,
    "start_time": "2022-06-24T05:19:52.097Z"
   },
   {
    "duration": 20,
    "start_time": "2022-06-24T05:19:52.248Z"
   },
   {
    "duration": 1162,
    "start_time": "2022-06-24T05:20:36.585Z"
   },
   {
    "duration": 748,
    "start_time": "2022-06-24T05:20:37.749Z"
   },
   {
    "duration": 127,
    "start_time": "2022-06-24T05:20:38.499Z"
   },
   {
    "duration": 106,
    "start_time": "2022-06-24T05:20:38.628Z"
   },
   {
    "duration": 130,
    "start_time": "2022-06-24T05:20:38.736Z"
   },
   {
    "duration": 79,
    "start_time": "2022-06-24T05:20:38.867Z"
   },
   {
    "duration": 100,
    "start_time": "2022-06-24T05:20:38.948Z"
   },
   {
    "duration": 21,
    "start_time": "2022-06-24T05:20:39.050Z"
   },
   {
    "duration": 37,
    "start_time": "2022-06-24T05:20:39.072Z"
   },
   {
    "duration": 13,
    "start_time": "2022-06-24T05:20:39.110Z"
   },
   {
    "duration": 5,
    "start_time": "2022-06-24T05:20:39.125Z"
   },
   {
    "duration": 120,
    "start_time": "2022-06-24T05:20:39.131Z"
   },
   {
    "duration": 111,
    "start_time": "2022-06-24T05:20:39.253Z"
   },
   {
    "duration": 79,
    "start_time": "2022-06-24T05:20:39.367Z"
   },
   {
    "duration": 455,
    "start_time": "2022-06-24T05:20:39.448Z"
   },
   {
    "duration": 17,
    "start_time": "2022-06-24T05:20:39.905Z"
   },
   {
    "duration": 56,
    "start_time": "2022-06-24T05:20:39.923Z"
   },
   {
    "duration": 141,
    "start_time": "2022-06-24T05:20:39.981Z"
   },
   {
    "duration": 16,
    "start_time": "2022-06-24T05:21:44.679Z"
   },
   {
    "duration": 12,
    "start_time": "2022-06-24T05:23:03.044Z"
   },
   {
    "duration": 10,
    "start_time": "2022-06-24T05:23:42.887Z"
   },
   {
    "duration": 130,
    "start_time": "2022-06-24T05:37:36.706Z"
   },
   {
    "duration": 240,
    "start_time": "2022-06-24T05:39:13.332Z"
   },
   {
    "duration": 131,
    "start_time": "2022-06-24T05:42:27.493Z"
   },
   {
    "duration": 1255,
    "start_time": "2022-06-24T05:47:55.703Z"
   },
   {
    "duration": 828,
    "start_time": "2022-06-24T05:47:56.960Z"
   },
   {
    "duration": 129,
    "start_time": "2022-06-24T05:47:57.790Z"
   },
   {
    "duration": 97,
    "start_time": "2022-06-24T05:47:57.920Z"
   },
   {
    "duration": 106,
    "start_time": "2022-06-24T05:47:58.019Z"
   },
   {
    "duration": 90,
    "start_time": "2022-06-24T05:47:58.127Z"
   },
   {
    "duration": 92,
    "start_time": "2022-06-24T05:47:58.219Z"
   },
   {
    "duration": 13,
    "start_time": "2022-06-24T05:47:58.313Z"
   },
   {
    "duration": 46,
    "start_time": "2022-06-24T05:47:58.328Z"
   },
   {
    "duration": 10,
    "start_time": "2022-06-24T05:47:58.376Z"
   },
   {
    "duration": 4,
    "start_time": "2022-06-24T05:47:58.388Z"
   },
   {
    "duration": 127,
    "start_time": "2022-06-24T05:47:58.394Z"
   },
   {
    "duration": 111,
    "start_time": "2022-06-24T05:47:58.522Z"
   },
   {
    "duration": 89,
    "start_time": "2022-06-24T05:47:58.635Z"
   },
   {
    "duration": 461,
    "start_time": "2022-06-24T05:47:58.726Z"
   },
   {
    "duration": 16,
    "start_time": "2022-06-24T05:47:59.188Z"
   },
   {
    "duration": 62,
    "start_time": "2022-06-24T05:47:59.205Z"
   },
   {
    "duration": 11,
    "start_time": "2022-06-24T05:47:59.269Z"
   },
   {
    "duration": 9,
    "start_time": "2022-06-24T05:47:59.282Z"
   },
   {
    "duration": 247,
    "start_time": "2022-06-24T05:47:59.292Z"
   },
   {
    "duration": 125,
    "start_time": "2022-06-24T05:47:59.540Z"
   },
   {
    "duration": 41,
    "start_time": "2022-06-24T05:47:59.666Z"
   },
   {
    "duration": 132,
    "start_time": "2022-06-24T05:47:59.709Z"
   },
   {
    "duration": 82,
    "start_time": "2022-06-24T05:58:19.915Z"
   },
   {
    "duration": 58,
    "start_time": "2022-06-24T13:15:57.801Z"
   },
   {
    "duration": 86,
    "start_time": "2022-06-24T13:16:19.034Z"
   },
   {
    "duration": 48,
    "start_time": "2022-06-24T13:16:53.734Z"
   },
   {
    "duration": 1523,
    "start_time": "2022-06-24T13:17:00.942Z"
   },
   {
    "duration": 1169,
    "start_time": "2022-06-24T13:17:02.467Z"
   },
   {
    "duration": 139,
    "start_time": "2022-06-24T13:17:03.638Z"
   },
   {
    "duration": 123,
    "start_time": "2022-06-24T13:17:03.779Z"
   },
   {
    "duration": 147,
    "start_time": "2022-06-24T13:17:03.904Z"
   },
   {
    "duration": 102,
    "start_time": "2022-06-24T13:17:04.054Z"
   },
   {
    "duration": 117,
    "start_time": "2022-06-24T13:17:04.158Z"
   },
   {
    "duration": 19,
    "start_time": "2022-06-24T13:17:04.277Z"
   },
   {
    "duration": 73,
    "start_time": "2022-06-24T13:17:04.298Z"
   },
   {
    "duration": 16,
    "start_time": "2022-06-24T13:17:04.374Z"
   },
   {
    "duration": 6,
    "start_time": "2022-06-24T13:17:04.392Z"
   },
   {
    "duration": 164,
    "start_time": "2022-06-24T13:17:04.399Z"
   },
   {
    "duration": 149,
    "start_time": "2022-06-24T13:17:04.566Z"
   },
   {
    "duration": 134,
    "start_time": "2022-06-24T13:17:04.717Z"
   },
   {
    "duration": 549,
    "start_time": "2022-06-24T13:17:04.852Z"
   },
   {
    "duration": 31,
    "start_time": "2022-06-24T13:17:05.403Z"
   },
   {
    "duration": 54,
    "start_time": "2022-06-24T13:17:05.436Z"
   },
   {
    "duration": 13,
    "start_time": "2022-06-24T13:17:05.492Z"
   },
   {
    "duration": 28,
    "start_time": "2022-06-24T13:17:05.507Z"
   },
   {
    "duration": 312,
    "start_time": "2022-06-24T13:17:05.537Z"
   },
   {
    "duration": 153,
    "start_time": "2022-06-24T13:17:05.851Z"
   },
   {
    "duration": 60,
    "start_time": "2022-06-24T13:17:06.006Z"
   },
   {
    "duration": 147,
    "start_time": "2022-06-24T13:17:06.068Z"
   },
   {
    "duration": 94,
    "start_time": "2022-06-24T13:17:06.217Z"
   },
   {
    "duration": 22,
    "start_time": "2022-06-24T13:17:06.313Z"
   },
   {
    "duration": 359,
    "start_time": "2022-06-24T13:18:09.399Z"
   },
   {
    "duration": 15,
    "start_time": "2022-06-24T13:19:02.501Z"
   },
   {
    "duration": 39,
    "start_time": "2022-06-24T13:19:24.279Z"
   },
   {
    "duration": 127,
    "start_time": "2022-06-24T13:20:01.815Z"
   },
   {
    "duration": 234,
    "start_time": "2022-06-24T13:22:32.389Z"
   },
   {
    "duration": 166,
    "start_time": "2022-06-24T13:23:07.330Z"
   },
   {
    "duration": 133,
    "start_time": "2022-06-24T13:23:22.190Z"
   },
   {
    "duration": 117,
    "start_time": "2022-06-24T13:24:56.677Z"
   },
   {
    "duration": 48,
    "start_time": "2022-06-24T13:26:01.244Z"
   },
   {
    "duration": 2706,
    "start_time": "2022-06-24T13:28:31.133Z"
   },
   {
    "duration": 334,
    "start_time": "2022-06-24T13:29:17.168Z"
   },
   {
    "duration": 10,
    "start_time": "2022-06-24T13:30:40.970Z"
   },
   {
    "duration": 26,
    "start_time": "2022-06-24T13:31:05.778Z"
   },
   {
    "duration": 5,
    "start_time": "2022-06-24T13:34:50.509Z"
   },
   {
    "duration": 103,
    "start_time": "2022-06-24T13:35:42.771Z"
   },
   {
    "duration": 6,
    "start_time": "2022-06-24T13:35:51.598Z"
   },
   {
    "duration": 6,
    "start_time": "2022-06-24T13:36:15.714Z"
   },
   {
    "duration": 78,
    "start_time": "2022-06-24T13:50:56.002Z"
   },
   {
    "duration": 18,
    "start_time": "2022-06-24T13:51:05.905Z"
   },
   {
    "duration": 1889,
    "start_time": "2022-06-24T13:51:42.669Z"
   },
   {
    "duration": 176,
    "start_time": "2022-06-24T13:52:31.551Z"
   },
   {
    "duration": 152,
    "start_time": "2022-06-24T13:53:40.247Z"
   },
   {
    "duration": 138,
    "start_time": "2022-06-24T13:54:05.281Z"
   },
   {
    "duration": 109,
    "start_time": "2022-06-24T13:54:11.634Z"
   },
   {
    "duration": 115,
    "start_time": "2022-06-24T13:54:21.697Z"
   },
   {
    "duration": 162,
    "start_time": "2022-06-24T13:56:37.466Z"
   },
   {
    "duration": 175,
    "start_time": "2022-06-24T13:56:43.516Z"
   },
   {
    "duration": 78,
    "start_time": "2022-06-24T13:59:22.398Z"
   },
   {
    "duration": 1144,
    "start_time": "2022-06-24T18:51:03.265Z"
   },
   {
    "duration": 1016,
    "start_time": "2022-06-24T18:51:04.411Z"
   },
   {
    "duration": 110,
    "start_time": "2022-06-24T18:51:05.428Z"
   },
   {
    "duration": 86,
    "start_time": "2022-06-24T18:51:05.540Z"
   },
   {
    "duration": 109,
    "start_time": "2022-06-24T18:51:05.628Z"
   },
   {
    "duration": 79,
    "start_time": "2022-06-24T18:51:05.738Z"
   },
   {
    "duration": 90,
    "start_time": "2022-06-24T18:51:05.818Z"
   },
   {
    "duration": 12,
    "start_time": "2022-06-24T18:51:05.910Z"
   },
   {
    "duration": 61,
    "start_time": "2022-06-24T18:51:05.923Z"
   },
   {
    "duration": 25,
    "start_time": "2022-06-24T18:51:05.985Z"
   },
   {
    "duration": 24,
    "start_time": "2022-06-24T18:51:06.012Z"
   },
   {
    "duration": 108,
    "start_time": "2022-06-24T18:51:06.038Z"
   },
   {
    "duration": 94,
    "start_time": "2022-06-24T18:51:06.147Z"
   },
   {
    "duration": 71,
    "start_time": "2022-06-24T18:51:06.243Z"
   },
   {
    "duration": 445,
    "start_time": "2022-06-24T18:51:06.315Z"
   },
   {
    "duration": 15,
    "start_time": "2022-06-24T18:51:06.761Z"
   },
   {
    "duration": 38,
    "start_time": "2022-06-24T18:51:06.777Z"
   },
   {
    "duration": 10,
    "start_time": "2022-06-24T18:51:06.817Z"
   },
   {
    "duration": 28,
    "start_time": "2022-06-24T18:51:06.828Z"
   },
   {
    "duration": 217,
    "start_time": "2022-06-24T18:51:06.865Z"
   },
   {
    "duration": 105,
    "start_time": "2022-06-24T18:51:07.083Z"
   },
   {
    "duration": 38,
    "start_time": "2022-06-24T18:51:07.189Z"
   },
   {
    "duration": 143,
    "start_time": "2022-06-24T18:51:07.229Z"
   },
   {
    "duration": 88,
    "start_time": "2022-06-24T18:51:07.374Z"
   },
   {
    "duration": 116,
    "start_time": "2022-06-24T18:51:07.463Z"
   },
   {
    "duration": 35,
    "start_time": "2022-06-24T18:51:07.580Z"
   },
   {
    "duration": 213,
    "start_time": "2022-06-24T18:51:07.616Z"
   },
   {
    "duration": 75,
    "start_time": "2022-06-24T18:51:19.716Z"
   },
   {
    "duration": 8,
    "start_time": "2022-06-24T18:52:07.566Z"
   },
   {
    "duration": 5,
    "start_time": "2022-06-24T18:52:25.874Z"
   },
   {
    "duration": 6,
    "start_time": "2022-06-24T18:54:00.141Z"
   },
   {
    "duration": 19,
    "start_time": "2022-06-24T18:54:22.067Z"
   },
   {
    "duration": 1016,
    "start_time": "2022-06-24T18:55:06.280Z"
   },
   {
    "duration": 712,
    "start_time": "2022-06-24T18:55:07.298Z"
   },
   {
    "duration": 107,
    "start_time": "2022-06-24T18:55:08.011Z"
   },
   {
    "duration": 87,
    "start_time": "2022-06-24T18:55:08.119Z"
   },
   {
    "duration": 110,
    "start_time": "2022-06-24T18:55:08.208Z"
   },
   {
    "duration": 85,
    "start_time": "2022-06-24T18:55:08.319Z"
   },
   {
    "duration": 96,
    "start_time": "2022-06-24T18:55:08.405Z"
   },
   {
    "duration": 12,
    "start_time": "2022-06-24T18:55:08.502Z"
   },
   {
    "duration": 41,
    "start_time": "2022-06-24T18:55:08.515Z"
   },
   {
    "duration": 8,
    "start_time": "2022-06-24T18:55:08.561Z"
   },
   {
    "duration": 5,
    "start_time": "2022-06-24T18:55:08.570Z"
   },
   {
    "duration": 114,
    "start_time": "2022-06-24T18:55:08.576Z"
   },
   {
    "duration": 104,
    "start_time": "2022-06-24T18:55:08.691Z"
   },
   {
    "duration": 73,
    "start_time": "2022-06-24T18:55:08.798Z"
   },
   {
    "duration": 454,
    "start_time": "2022-06-24T18:55:08.873Z"
   },
   {
    "duration": 21,
    "start_time": "2022-06-24T18:55:09.329Z"
   },
   {
    "duration": 41,
    "start_time": "2022-06-24T18:55:09.354Z"
   },
   {
    "duration": 11,
    "start_time": "2022-06-24T18:55:09.397Z"
   },
   {
    "duration": 9,
    "start_time": "2022-06-24T18:55:09.409Z"
   },
   {
    "duration": 241,
    "start_time": "2022-06-24T18:55:09.419Z"
   },
   {
    "duration": 106,
    "start_time": "2022-06-24T18:55:09.662Z"
   },
   {
    "duration": 43,
    "start_time": "2022-06-24T18:55:09.771Z"
   },
   {
    "duration": 153,
    "start_time": "2022-06-24T18:55:09.815Z"
   },
   {
    "duration": 71,
    "start_time": "2022-06-24T18:55:09.970Z"
   },
   {
    "duration": 123,
    "start_time": "2022-06-24T18:55:10.042Z"
   },
   {
    "duration": 38,
    "start_time": "2022-06-24T18:55:10.167Z"
   },
   {
    "duration": 85,
    "start_time": "2022-06-24T18:55:10.207Z"
   },
   {
    "duration": 13,
    "start_time": "2022-06-24T18:55:10.293Z"
   },
   {
    "duration": 4,
    "start_time": "2022-06-24T18:55:10.308Z"
   },
   {
    "duration": 918,
    "start_time": "2022-06-24T18:55:46.911Z"
   },
   {
    "duration": 704,
    "start_time": "2022-06-24T18:55:47.830Z"
   },
   {
    "duration": 103,
    "start_time": "2022-06-24T18:55:48.535Z"
   },
   {
    "duration": 85,
    "start_time": "2022-06-24T18:55:48.639Z"
   },
   {
    "duration": 112,
    "start_time": "2022-06-24T18:55:48.725Z"
   },
   {
    "duration": 91,
    "start_time": "2022-06-24T18:55:48.838Z"
   },
   {
    "duration": 95,
    "start_time": "2022-06-24T18:55:48.930Z"
   },
   {
    "duration": 12,
    "start_time": "2022-06-24T18:55:49.026Z"
   },
   {
    "duration": 40,
    "start_time": "2022-06-24T18:55:49.040Z"
   },
   {
    "duration": 9,
    "start_time": "2022-06-24T18:55:49.083Z"
   },
   {
    "duration": 5,
    "start_time": "2022-06-24T18:55:49.094Z"
   },
   {
    "duration": 121,
    "start_time": "2022-06-24T18:55:49.101Z"
   },
   {
    "duration": 105,
    "start_time": "2022-06-24T18:55:49.224Z"
   },
   {
    "duration": 80,
    "start_time": "2022-06-24T18:55:49.330Z"
   },
   {
    "duration": 438,
    "start_time": "2022-06-24T18:55:49.411Z"
   },
   {
    "duration": 22,
    "start_time": "2022-06-24T18:55:49.851Z"
   },
   {
    "duration": 45,
    "start_time": "2022-06-24T18:55:49.875Z"
   },
   {
    "duration": 11,
    "start_time": "2022-06-24T18:55:49.921Z"
   },
   {
    "duration": 22,
    "start_time": "2022-06-24T18:55:49.934Z"
   },
   {
    "duration": 226,
    "start_time": "2022-06-24T18:55:49.964Z"
   },
   {
    "duration": 122,
    "start_time": "2022-06-24T18:55:50.192Z"
   },
   {
    "duration": 54,
    "start_time": "2022-06-24T18:55:50.315Z"
   },
   {
    "duration": 138,
    "start_time": "2022-06-24T18:55:50.370Z"
   },
   {
    "duration": 79,
    "start_time": "2022-06-24T18:55:50.509Z"
   },
   {
    "duration": 109,
    "start_time": "2022-06-24T18:55:50.589Z"
   },
   {
    "duration": 43,
    "start_time": "2022-06-24T18:55:50.699Z"
   },
   {
    "duration": 21,
    "start_time": "2022-06-24T18:55:50.744Z"
   },
   {
    "duration": 65,
    "start_time": "2022-06-24T18:55:50.769Z"
   },
   {
    "duration": 28,
    "start_time": "2022-06-24T18:55:50.836Z"
   },
   {
    "duration": 3,
    "start_time": "2022-06-24T18:55:50.867Z"
   },
   {
    "duration": 16,
    "start_time": "2022-06-24T18:56:25.690Z"
   },
   {
    "duration": 64,
    "start_time": "2022-06-24T18:56:26.513Z"
   },
   {
    "duration": 14,
    "start_time": "2022-06-24T18:56:27.278Z"
   },
   {
    "duration": 14,
    "start_time": "2022-06-24T18:56:40.414Z"
   },
   {
    "duration": 114,
    "start_time": "2022-06-24T18:56:41.079Z"
   },
   {
    "duration": 19,
    "start_time": "2022-06-24T18:56:41.709Z"
   },
   {
    "duration": 4,
    "start_time": "2022-06-24T18:57:03.865Z"
   },
   {
    "duration": 115,
    "start_time": "2022-06-24T19:31:47.961Z"
   },
   {
    "duration": 15,
    "start_time": "2022-06-24T19:33:09.698Z"
   },
   {
    "duration": 61,
    "start_time": "2022-06-24T19:33:30.088Z"
   },
   {
    "duration": 15,
    "start_time": "2022-06-24T19:34:14.084Z"
   },
   {
    "duration": 12,
    "start_time": "2022-06-24T19:34:18.765Z"
   },
   {
    "duration": 73,
    "start_time": "2022-06-24T19:38:10.181Z"
   },
   {
    "duration": 141,
    "start_time": "2022-06-24T19:50:10.251Z"
   },
   {
    "duration": 60,
    "start_time": "2022-06-24T19:50:55.899Z"
   },
   {
    "duration": 7,
    "start_time": "2022-06-24T19:51:55.660Z"
   },
   {
    "duration": 1187,
    "start_time": "2022-06-24T19:52:09.437Z"
   },
   {
    "duration": 673,
    "start_time": "2022-06-24T19:52:10.626Z"
   },
   {
    "duration": 103,
    "start_time": "2022-06-24T19:52:11.301Z"
   },
   {
    "duration": 87,
    "start_time": "2022-06-24T19:52:11.406Z"
   },
   {
    "duration": 46,
    "start_time": "2022-06-24T19:52:11.495Z"
   },
   {
    "duration": 78,
    "start_time": "2022-06-24T19:52:11.543Z"
   },
   {
    "duration": 79,
    "start_time": "2022-06-24T19:52:11.622Z"
   },
   {
    "duration": 11,
    "start_time": "2022-06-24T19:52:11.702Z"
   },
   {
    "duration": 67,
    "start_time": "2022-06-24T19:52:11.714Z"
   },
   {
    "duration": 114,
    "start_time": "2022-06-24T19:52:11.782Z"
   },
   {
    "duration": 63,
    "start_time": "2022-06-24T19:52:11.898Z"
   },
   {
    "duration": 6,
    "start_time": "2022-06-24T19:52:11.963Z"
   },
   {
    "duration": 5,
    "start_time": "2022-06-24T19:52:11.971Z"
   },
   {
    "duration": 103,
    "start_time": "2022-06-24T19:52:11.979Z"
   },
   {
    "duration": 90,
    "start_time": "2022-06-24T19:52:12.083Z"
   },
   {
    "duration": 59,
    "start_time": "2022-06-24T19:52:12.175Z"
   },
   {
    "duration": 384,
    "start_time": "2022-06-24T19:52:12.235Z"
   },
   {
    "duration": 14,
    "start_time": "2022-06-24T19:52:12.621Z"
   },
   {
    "duration": 50,
    "start_time": "2022-06-24T19:52:12.636Z"
   },
   {
    "duration": 10,
    "start_time": "2022-06-24T19:52:12.688Z"
   },
   {
    "duration": 9,
    "start_time": "2022-06-24T19:52:12.699Z"
   },
   {
    "duration": 226,
    "start_time": "2022-06-24T19:52:12.709Z"
   },
   {
    "duration": 78,
    "start_time": "2022-06-24T19:52:12.936Z"
   },
   {
    "duration": 44,
    "start_time": "2022-06-24T19:52:13.016Z"
   },
   {
    "duration": 136,
    "start_time": "2022-06-24T19:52:13.061Z"
   },
   {
    "duration": 53,
    "start_time": "2022-06-24T19:52:13.198Z"
   },
   {
    "duration": 105,
    "start_time": "2022-06-24T19:52:13.252Z"
   },
   {
    "duration": 40,
    "start_time": "2022-06-24T19:52:13.358Z"
   },
   {
    "duration": 14,
    "start_time": "2022-06-24T19:52:13.399Z"
   },
   {
    "duration": 84,
    "start_time": "2022-06-24T19:52:13.415Z"
   },
   {
    "duration": 13,
    "start_time": "2022-06-24T19:52:13.501Z"
   },
   {
    "duration": 4,
    "start_time": "2022-06-24T19:52:13.516Z"
   },
   {
    "duration": 71,
    "start_time": "2022-06-24T19:54:03.208Z"
   },
   {
    "duration": 17,
    "start_time": "2022-06-24T19:55:23.373Z"
   },
   {
    "duration": 999,
    "start_time": "2022-06-24T20:02:43.222Z"
   },
   {
    "duration": 16,
    "start_time": "2022-06-24T20:02:44.486Z"
   },
   {
    "duration": 5,
    "start_time": "2022-06-24T20:02:51.143Z"
   },
   {
    "duration": 116,
    "start_time": "2022-06-24T20:03:13.263Z"
   },
   {
    "duration": 21,
    "start_time": "2022-06-24T20:03:14.174Z"
   },
   {
    "duration": 5,
    "start_time": "2022-06-24T20:04:36.607Z"
   },
   {
    "duration": 1121,
    "start_time": "2022-06-24T20:04:43.726Z"
   },
   {
    "duration": 721,
    "start_time": "2022-06-24T20:04:44.848Z"
   },
   {
    "duration": 103,
    "start_time": "2022-06-24T20:04:45.571Z"
   },
   {
    "duration": 100,
    "start_time": "2022-06-24T20:04:45.676Z"
   },
   {
    "duration": 45,
    "start_time": "2022-06-24T20:04:45.779Z"
   },
   {
    "duration": 89,
    "start_time": "2022-06-24T20:04:45.826Z"
   },
   {
    "duration": 91,
    "start_time": "2022-06-24T20:04:45.918Z"
   },
   {
    "duration": 11,
    "start_time": "2022-06-24T20:04:46.011Z"
   },
   {
    "duration": 76,
    "start_time": "2022-06-24T20:04:46.024Z"
   },
   {
    "duration": 123,
    "start_time": "2022-06-24T20:04:46.102Z"
   },
   {
    "duration": 63,
    "start_time": "2022-06-24T20:04:46.226Z"
   },
   {
    "duration": 8,
    "start_time": "2022-06-24T20:04:46.290Z"
   },
   {
    "duration": 6,
    "start_time": "2022-06-24T20:04:46.299Z"
   },
   {
    "duration": 113,
    "start_time": "2022-06-24T20:04:46.307Z"
   },
   {
    "duration": 101,
    "start_time": "2022-06-24T20:04:46.422Z"
   },
   {
    "duration": 88,
    "start_time": "2022-06-24T20:04:46.525Z"
   },
   {
    "duration": 489,
    "start_time": "2022-06-24T20:04:46.615Z"
   },
   {
    "duration": 15,
    "start_time": "2022-06-24T20:04:47.106Z"
   },
   {
    "duration": 58,
    "start_time": "2022-06-24T20:04:47.123Z"
   },
   {
    "duration": 10,
    "start_time": "2022-06-24T20:04:47.183Z"
   },
   {
    "duration": 12,
    "start_time": "2022-06-24T20:04:47.195Z"
   },
   {
    "duration": 241,
    "start_time": "2022-06-24T20:04:47.208Z"
   },
   {
    "duration": 40,
    "start_time": "2022-06-24T20:04:47.450Z"
   },
   {
    "duration": 147,
    "start_time": "2022-06-24T20:04:47.492Z"
   },
   {
    "duration": 52,
    "start_time": "2022-06-24T20:04:47.641Z"
   },
   {
    "duration": 113,
    "start_time": "2022-06-24T20:04:47.695Z"
   },
   {
    "duration": 49,
    "start_time": "2022-06-24T20:04:47.810Z"
   },
   {
    "duration": 14,
    "start_time": "2022-06-24T20:04:47.861Z"
   },
   {
    "duration": 124,
    "start_time": "2022-06-24T20:04:47.878Z"
   },
   {
    "duration": 6,
    "start_time": "2022-06-24T20:04:48.003Z"
   },
   {
    "duration": 1020,
    "start_time": "2022-06-24T20:05:30.296Z"
   },
   {
    "duration": 705,
    "start_time": "2022-06-24T20:05:31.318Z"
   },
   {
    "duration": 106,
    "start_time": "2022-06-24T20:05:32.024Z"
   },
   {
    "duration": 90,
    "start_time": "2022-06-24T20:05:32.132Z"
   },
   {
    "duration": 54,
    "start_time": "2022-06-24T20:05:32.225Z"
   },
   {
    "duration": 80,
    "start_time": "2022-06-24T20:05:32.280Z"
   },
   {
    "duration": 78,
    "start_time": "2022-06-24T20:05:32.361Z"
   },
   {
    "duration": 10,
    "start_time": "2022-06-24T20:05:32.441Z"
   },
   {
    "duration": 80,
    "start_time": "2022-06-24T20:05:32.453Z"
   },
   {
    "duration": 125,
    "start_time": "2022-06-24T20:05:32.535Z"
   },
   {
    "duration": 59,
    "start_time": "2022-06-24T20:05:32.662Z"
   },
   {
    "duration": 17,
    "start_time": "2022-06-24T20:05:32.723Z"
   },
   {
    "duration": 37,
    "start_time": "2022-06-24T20:05:32.741Z"
   },
   {
    "duration": 100,
    "start_time": "2022-06-24T20:05:32.781Z"
   },
   {
    "duration": 89,
    "start_time": "2022-06-24T20:05:32.882Z"
   },
   {
    "duration": 65,
    "start_time": "2022-06-24T20:05:32.973Z"
   },
   {
    "duration": 437,
    "start_time": "2022-06-24T20:05:33.039Z"
   },
   {
    "duration": 15,
    "start_time": "2022-06-24T20:05:33.477Z"
   },
   {
    "duration": 42,
    "start_time": "2022-06-24T20:05:33.493Z"
   },
   {
    "duration": 10,
    "start_time": "2022-06-24T20:05:33.551Z"
   },
   {
    "duration": 15,
    "start_time": "2022-06-24T20:05:33.562Z"
   },
   {
    "duration": 223,
    "start_time": "2022-06-24T20:05:33.578Z"
   },
   {
    "duration": 49,
    "start_time": "2022-06-24T20:05:33.802Z"
   },
   {
    "duration": 129,
    "start_time": "2022-06-24T20:05:33.852Z"
   },
   {
    "duration": 44,
    "start_time": "2022-06-24T20:05:33.982Z"
   },
   {
    "duration": 123,
    "start_time": "2022-06-24T20:05:34.028Z"
   },
   {
    "duration": 36,
    "start_time": "2022-06-24T20:05:34.152Z"
   },
   {
    "duration": 14,
    "start_time": "2022-06-24T20:05:34.189Z"
   },
   {
    "duration": 4,
    "start_time": "2022-06-24T20:05:34.204Z"
   },
   {
    "duration": 128,
    "start_time": "2022-06-24T20:05:34.209Z"
   },
   {
    "duration": 12,
    "start_time": "2022-06-24T20:05:34.339Z"
   },
   {
    "duration": 21,
    "start_time": "2022-06-24T20:06:17.225Z"
   },
   {
    "duration": 5,
    "start_time": "2022-06-24T20:06:17.917Z"
   },
   {
    "duration": 1118,
    "start_time": "2022-06-24T20:06:24.370Z"
   },
   {
    "duration": 820,
    "start_time": "2022-06-24T20:06:25.491Z"
   },
   {
    "duration": 146,
    "start_time": "2022-06-24T20:06:26.312Z"
   },
   {
    "duration": 109,
    "start_time": "2022-06-24T20:06:26.460Z"
   },
   {
    "duration": 50,
    "start_time": "2022-06-24T20:06:26.572Z"
   },
   {
    "duration": 105,
    "start_time": "2022-06-24T20:06:26.624Z"
   },
   {
    "duration": 82,
    "start_time": "2022-06-24T20:06:26.732Z"
   },
   {
    "duration": 17,
    "start_time": "2022-06-24T20:06:26.816Z"
   },
   {
    "duration": 89,
    "start_time": "2022-06-24T20:06:26.836Z"
   },
   {
    "duration": 149,
    "start_time": "2022-06-24T20:06:26.927Z"
   },
   {
    "duration": 78,
    "start_time": "2022-06-24T20:06:27.078Z"
   },
   {
    "duration": 8,
    "start_time": "2022-06-24T20:06:27.157Z"
   },
   {
    "duration": 6,
    "start_time": "2022-06-24T20:06:27.167Z"
   },
   {
    "duration": 122,
    "start_time": "2022-06-24T20:06:27.176Z"
   },
   {
    "duration": 106,
    "start_time": "2022-06-24T20:06:27.300Z"
   },
   {
    "duration": 79,
    "start_time": "2022-06-24T20:06:27.408Z"
   },
   {
    "duration": 564,
    "start_time": "2022-06-24T20:06:27.492Z"
   },
   {
    "duration": 17,
    "start_time": "2022-06-24T20:06:28.057Z"
   },
   {
    "duration": 45,
    "start_time": "2022-06-24T20:06:28.076Z"
   },
   {
    "duration": 31,
    "start_time": "2022-06-24T20:06:28.123Z"
   },
   {
    "duration": 12,
    "start_time": "2022-06-24T20:06:28.156Z"
   },
   {
    "duration": 288,
    "start_time": "2022-06-24T20:06:28.170Z"
   },
   {
    "duration": 63,
    "start_time": "2022-06-24T20:06:28.460Z"
   },
   {
    "duration": 175,
    "start_time": "2022-06-24T20:06:28.525Z"
   },
   {
    "duration": 65,
    "start_time": "2022-06-24T20:06:28.701Z"
   },
   {
    "duration": 143,
    "start_time": "2022-06-24T20:06:28.768Z"
   },
   {
    "duration": 59,
    "start_time": "2022-06-24T20:06:28.914Z"
   },
   {
    "duration": 20,
    "start_time": "2022-06-24T20:06:28.974Z"
   },
   {
    "duration": 6,
    "start_time": "2022-06-24T20:06:28.996Z"
   },
   {
    "duration": 182,
    "start_time": "2022-06-24T20:06:29.004Z"
   },
   {
    "duration": 6,
    "start_time": "2022-06-24T20:06:29.188Z"
   },
   {
    "duration": 80,
    "start_time": "2022-06-24T20:07:21.797Z"
   },
   {
    "duration": 10,
    "start_time": "2022-06-24T20:07:28.027Z"
   },
   {
    "duration": 1109,
    "start_time": "2022-06-24T20:07:34.218Z"
   },
   {
    "duration": 726,
    "start_time": "2022-06-24T20:07:35.329Z"
   },
   {
    "duration": 123,
    "start_time": "2022-06-24T20:07:36.057Z"
   },
   {
    "duration": 89,
    "start_time": "2022-06-24T20:07:36.182Z"
   },
   {
    "duration": 42,
    "start_time": "2022-06-24T20:07:36.273Z"
   },
   {
    "duration": 138,
    "start_time": "2022-06-24T20:07:36.318Z"
   },
   {
    "duration": 106,
    "start_time": "2022-06-24T20:07:36.459Z"
   },
   {
    "duration": 13,
    "start_time": "2022-06-24T20:07:36.567Z"
   },
   {
    "duration": 78,
    "start_time": "2022-06-24T20:07:36.582Z"
   },
   {
    "duration": 125,
    "start_time": "2022-06-24T20:07:36.662Z"
   },
   {
    "duration": 66,
    "start_time": "2022-06-24T20:07:36.789Z"
   },
   {
    "duration": 8,
    "start_time": "2022-06-24T20:07:36.856Z"
   },
   {
    "duration": 6,
    "start_time": "2022-06-24T20:07:36.865Z"
   },
   {
    "duration": 130,
    "start_time": "2022-06-24T20:07:36.874Z"
   },
   {
    "duration": 93,
    "start_time": "2022-06-24T20:07:37.005Z"
   },
   {
    "duration": 69,
    "start_time": "2022-06-24T20:07:37.100Z"
   },
   {
    "duration": 475,
    "start_time": "2022-06-24T20:07:37.170Z"
   },
   {
    "duration": 19,
    "start_time": "2022-06-24T20:07:37.647Z"
   },
   {
    "duration": 58,
    "start_time": "2022-06-24T20:07:37.669Z"
   },
   {
    "duration": 31,
    "start_time": "2022-06-24T20:07:37.729Z"
   },
   {
    "duration": 9,
    "start_time": "2022-06-24T20:07:37.762Z"
   },
   {
    "duration": 245,
    "start_time": "2022-06-24T20:07:37.772Z"
   },
   {
    "duration": 48,
    "start_time": "2022-06-24T20:07:38.018Z"
   },
   {
    "duration": 143,
    "start_time": "2022-06-24T20:07:38.067Z"
   },
   {
    "duration": 51,
    "start_time": "2022-06-24T20:07:38.212Z"
   },
   {
    "duration": 113,
    "start_time": "2022-06-24T20:07:38.267Z"
   },
   {
    "duration": 40,
    "start_time": "2022-06-24T20:07:38.381Z"
   },
   {
    "duration": 28,
    "start_time": "2022-06-24T20:07:38.423Z"
   },
   {
    "duration": 24,
    "start_time": "2022-06-24T20:07:38.452Z"
   },
   {
    "duration": 3,
    "start_time": "2022-06-24T20:07:38.479Z"
   },
   {
    "duration": 137,
    "start_time": "2022-06-24T20:07:38.484Z"
   },
   {
    "duration": 3,
    "start_time": "2022-06-24T20:07:38.623Z"
   },
   {
    "duration": 7,
    "start_time": "2022-06-24T20:08:41.212Z"
   },
   {
    "duration": 56,
    "start_time": "2022-06-24T20:08:52.889Z"
   },
   {
    "duration": 13,
    "start_time": "2022-06-24T20:09:00.269Z"
   },
   {
    "duration": 5,
    "start_time": "2022-06-24T20:09:05.036Z"
   },
   {
    "duration": 8,
    "start_time": "2022-06-24T20:09:31.540Z"
   },
   {
    "duration": 98,
    "start_time": "2022-06-24T20:09:57.583Z"
   },
   {
    "duration": 9,
    "start_time": "2022-06-24T20:10:03.422Z"
   },
   {
    "duration": 10,
    "start_time": "2022-06-24T20:10:27.855Z"
   },
   {
    "duration": 170,
    "start_time": "2022-06-24T20:15:47.982Z"
   },
   {
    "duration": 15,
    "start_time": "2022-06-24T20:17:04.491Z"
   },
   {
    "duration": 24,
    "start_time": "2022-06-24T20:19:01.297Z"
   },
   {
    "duration": 23,
    "start_time": "2022-06-24T20:19:23.258Z"
   },
   {
    "duration": 31,
    "start_time": "2022-06-24T20:19:50.015Z"
   },
   {
    "duration": 29,
    "start_time": "2022-06-24T20:20:10.614Z"
   },
   {
    "duration": 23,
    "start_time": "2022-06-24T20:22:12.025Z"
   },
   {
    "duration": 24,
    "start_time": "2022-06-24T20:23:23.522Z"
   },
   {
    "duration": 23,
    "start_time": "2022-06-24T20:23:54.808Z"
   },
   {
    "duration": 162,
    "start_time": "2022-06-24T20:25:54.570Z"
   },
   {
    "duration": 127,
    "start_time": "2022-06-24T20:27:10.611Z"
   },
   {
    "duration": 1027,
    "start_time": "2022-06-24T20:27:19.704Z"
   },
   {
    "duration": 789,
    "start_time": "2022-06-24T20:27:20.732Z"
   },
   {
    "duration": 121,
    "start_time": "2022-06-24T20:27:21.523Z"
   },
   {
    "duration": 454,
    "start_time": "2022-06-24T20:27:21.650Z"
   },
   {
    "duration": 90,
    "start_time": "2022-06-24T20:27:22.106Z"
   },
   {
    "duration": 55,
    "start_time": "2022-06-24T20:27:22.198Z"
   },
   {
    "duration": 82,
    "start_time": "2022-06-24T20:27:22.255Z"
   },
   {
    "duration": 76,
    "start_time": "2022-06-24T20:27:22.339Z"
   },
   {
    "duration": 13,
    "start_time": "2022-06-24T20:27:22.416Z"
   },
   {
    "duration": 93,
    "start_time": "2022-06-24T20:27:22.433Z"
   },
   {
    "duration": 145,
    "start_time": "2022-06-24T20:27:22.527Z"
   },
   {
    "duration": 69,
    "start_time": "2022-06-24T20:27:22.674Z"
   },
   {
    "duration": 7,
    "start_time": "2022-06-24T20:27:22.751Z"
   },
   {
    "duration": 11,
    "start_time": "2022-06-24T20:27:22.759Z"
   },
   {
    "duration": 99,
    "start_time": "2022-06-24T20:27:22.771Z"
   },
   {
    "duration": 98,
    "start_time": "2022-06-24T20:27:22.871Z"
   },
   {
    "duration": 65,
    "start_time": "2022-06-24T20:27:22.970Z"
   },
   {
    "duration": 538,
    "start_time": "2022-06-24T20:27:23.037Z"
   },
   {
    "duration": 14,
    "start_time": "2022-06-24T20:27:23.577Z"
   },
   {
    "duration": 40,
    "start_time": "2022-06-24T20:27:23.593Z"
   },
   {
    "duration": 10,
    "start_time": "2022-06-24T20:27:23.650Z"
   },
   {
    "duration": 9,
    "start_time": "2022-06-24T20:27:23.662Z"
   },
   {
    "duration": 235,
    "start_time": "2022-06-24T20:27:23.672Z"
   },
   {
    "duration": 49,
    "start_time": "2022-06-24T20:27:23.909Z"
   },
   {
    "duration": 135,
    "start_time": "2022-06-24T20:27:23.960Z"
   },
   {
    "duration": 56,
    "start_time": "2022-06-24T20:27:24.097Z"
   },
   {
    "duration": 114,
    "start_time": "2022-06-24T20:27:24.155Z"
   },
   {
    "duration": 41,
    "start_time": "2022-06-24T20:27:24.273Z"
   },
   {
    "duration": 15,
    "start_time": "2022-06-24T20:27:24.315Z"
   },
   {
    "duration": 50,
    "start_time": "2022-06-24T20:27:24.332Z"
   },
   {
    "duration": 192,
    "start_time": "2022-06-24T20:27:24.384Z"
   },
   {
    "duration": 10,
    "start_time": "2022-06-24T20:27:24.578Z"
   },
   {
    "duration": 31,
    "start_time": "2022-06-24T20:27:24.592Z"
   },
   {
    "duration": 34,
    "start_time": "2022-06-24T20:27:24.624Z"
   },
   {
    "duration": 51,
    "start_time": "2022-06-24T20:27:24.660Z"
   },
   {
    "duration": 39,
    "start_time": "2022-06-24T20:27:24.712Z"
   },
   {
    "duration": 27,
    "start_time": "2022-06-24T20:27:24.752Z"
   },
   {
    "duration": 34,
    "start_time": "2022-06-24T20:27:24.781Z"
   },
   {
    "duration": 41,
    "start_time": "2022-06-24T20:27:24.816Z"
   },
   {
    "duration": 137,
    "start_time": "2022-06-24T20:27:24.859Z"
   },
   {
    "duration": 1041,
    "start_time": "2022-06-24T20:28:41.433Z"
   },
   {
    "duration": 680,
    "start_time": "2022-06-24T20:28:42.476Z"
   },
   {
    "duration": 163,
    "start_time": "2022-06-24T20:28:43.160Z"
   },
   {
    "duration": 45,
    "start_time": "2022-06-24T20:28:43.326Z"
   },
   {
    "duration": 0,
    "start_time": "2022-06-24T20:28:43.374Z"
   },
   {
    "duration": 0,
    "start_time": "2022-06-24T20:28:43.376Z"
   },
   {
    "duration": 0,
    "start_time": "2022-06-24T20:28:43.378Z"
   },
   {
    "duration": 0,
    "start_time": "2022-06-24T20:28:43.379Z"
   },
   {
    "duration": 0,
    "start_time": "2022-06-24T20:28:43.380Z"
   },
   {
    "duration": 0,
    "start_time": "2022-06-24T20:28:43.382Z"
   },
   {
    "duration": 0,
    "start_time": "2022-06-24T20:28:43.383Z"
   },
   {
    "duration": 0,
    "start_time": "2022-06-24T20:28:43.384Z"
   },
   {
    "duration": 0,
    "start_time": "2022-06-24T20:28:43.385Z"
   },
   {
    "duration": 1,
    "start_time": "2022-06-24T20:28:43.386Z"
   },
   {
    "duration": 0,
    "start_time": "2022-06-24T20:28:43.388Z"
   },
   {
    "duration": 0,
    "start_time": "2022-06-24T20:28:43.389Z"
   },
   {
    "duration": 0,
    "start_time": "2022-06-24T20:28:43.390Z"
   },
   {
    "duration": 0,
    "start_time": "2022-06-24T20:28:43.392Z"
   },
   {
    "duration": 0,
    "start_time": "2022-06-24T20:28:43.393Z"
   },
   {
    "duration": 0,
    "start_time": "2022-06-24T20:28:43.394Z"
   },
   {
    "duration": 0,
    "start_time": "2022-06-24T20:28:43.395Z"
   },
   {
    "duration": 0,
    "start_time": "2022-06-24T20:28:43.396Z"
   },
   {
    "duration": 0,
    "start_time": "2022-06-24T20:28:43.397Z"
   },
   {
    "duration": 0,
    "start_time": "2022-06-24T20:28:43.398Z"
   },
   {
    "duration": 0,
    "start_time": "2022-06-24T20:28:43.399Z"
   },
   {
    "duration": 0,
    "start_time": "2022-06-24T20:28:43.401Z"
   },
   {
    "duration": 0,
    "start_time": "2022-06-24T20:28:43.402Z"
   },
   {
    "duration": 0,
    "start_time": "2022-06-24T20:28:43.403Z"
   },
   {
    "duration": 0,
    "start_time": "2022-06-24T20:28:43.405Z"
   },
   {
    "duration": 0,
    "start_time": "2022-06-24T20:28:43.406Z"
   },
   {
    "duration": 0,
    "start_time": "2022-06-24T20:28:43.407Z"
   },
   {
    "duration": 0,
    "start_time": "2022-06-24T20:28:43.409Z"
   },
   {
    "duration": 0,
    "start_time": "2022-06-24T20:28:43.410Z"
   },
   {
    "duration": 0,
    "start_time": "2022-06-24T20:28:43.411Z"
   },
   {
    "duration": 0,
    "start_time": "2022-06-24T20:28:43.413Z"
   },
   {
    "duration": 0,
    "start_time": "2022-06-24T20:28:43.414Z"
   },
   {
    "duration": 0,
    "start_time": "2022-06-24T20:28:43.451Z"
   },
   {
    "duration": 0,
    "start_time": "2022-06-24T20:28:43.452Z"
   },
   {
    "duration": 0,
    "start_time": "2022-06-24T20:28:43.454Z"
   },
   {
    "duration": 0,
    "start_time": "2022-06-24T20:28:43.455Z"
   },
   {
    "duration": 0,
    "start_time": "2022-06-24T20:28:43.456Z"
   },
   {
    "duration": 1007,
    "start_time": "2022-06-24T20:29:05.393Z"
   },
   {
    "duration": 735,
    "start_time": "2022-06-24T20:29:06.402Z"
   },
   {
    "duration": 143,
    "start_time": "2022-06-24T20:29:07.140Z"
   },
   {
    "duration": 417,
    "start_time": "2022-06-24T20:29:07.286Z"
   },
   {
    "duration": 438,
    "start_time": "2022-06-24T20:29:07.705Z"
   },
   {
    "duration": 88,
    "start_time": "2022-06-24T20:29:08.146Z"
   },
   {
    "duration": 47,
    "start_time": "2022-06-24T20:29:08.236Z"
   },
   {
    "duration": 81,
    "start_time": "2022-06-24T20:29:08.285Z"
   },
   {
    "duration": 70,
    "start_time": "2022-06-24T20:29:08.367Z"
   },
   {
    "duration": 21,
    "start_time": "2022-06-24T20:29:08.439Z"
   },
   {
    "duration": 73,
    "start_time": "2022-06-24T20:29:08.462Z"
   },
   {
    "duration": 132,
    "start_time": "2022-06-24T20:29:08.537Z"
   },
   {
    "duration": 66,
    "start_time": "2022-06-24T20:29:08.673Z"
   },
   {
    "duration": 10,
    "start_time": "2022-06-24T20:29:08.751Z"
   },
   {
    "duration": 15,
    "start_time": "2022-06-24T20:29:08.768Z"
   },
   {
    "duration": 85,
    "start_time": "2022-06-24T20:29:08.785Z"
   },
   {
    "duration": 99,
    "start_time": "2022-06-24T20:29:08.872Z"
   },
   {
    "duration": 60,
    "start_time": "2022-06-24T20:29:08.973Z"
   },
   {
    "duration": 482,
    "start_time": "2022-06-24T20:29:09.035Z"
   },
   {
    "duration": 18,
    "start_time": "2022-06-24T20:29:09.519Z"
   },
   {
    "duration": 45,
    "start_time": "2022-06-24T20:29:09.538Z"
   },
   {
    "duration": 9,
    "start_time": "2022-06-24T20:29:09.585Z"
   },
   {
    "duration": 9,
    "start_time": "2022-06-24T20:29:09.596Z"
   },
   {
    "duration": 252,
    "start_time": "2022-06-24T20:29:09.606Z"
   },
   {
    "duration": 42,
    "start_time": "2022-06-24T20:29:09.860Z"
   },
   {
    "duration": 167,
    "start_time": "2022-06-24T20:29:09.903Z"
   },
   {
    "duration": 43,
    "start_time": "2022-06-24T20:29:10.072Z"
   },
   {
    "duration": 151,
    "start_time": "2022-06-24T20:29:10.117Z"
   },
   {
    "duration": 36,
    "start_time": "2022-06-24T20:29:10.270Z"
   },
   {
    "duration": 14,
    "start_time": "2022-06-24T20:29:10.308Z"
   },
   {
    "duration": 42,
    "start_time": "2022-06-24T20:29:10.323Z"
   },
   {
    "duration": 125,
    "start_time": "2022-06-24T20:29:10.366Z"
   },
   {
    "duration": 8,
    "start_time": "2022-06-24T20:29:10.492Z"
   },
   {
    "duration": 17,
    "start_time": "2022-06-24T20:29:10.501Z"
   },
   {
    "duration": 34,
    "start_time": "2022-06-24T20:29:10.519Z"
   },
   {
    "duration": 30,
    "start_time": "2022-06-24T20:29:10.555Z"
   },
   {
    "duration": 27,
    "start_time": "2022-06-24T20:29:10.587Z"
   },
   {
    "duration": 47,
    "start_time": "2022-06-24T20:29:10.616Z"
   },
   {
    "duration": 33,
    "start_time": "2022-06-24T20:29:10.664Z"
   },
   {
    "duration": 25,
    "start_time": "2022-06-24T20:29:10.700Z"
   },
   {
    "duration": 1604,
    "start_time": "2022-06-25T11:15:56.419Z"
   },
   {
    "duration": 1098,
    "start_time": "2022-06-25T11:15:58.026Z"
   },
   {
    "duration": 132,
    "start_time": "2022-06-25T11:15:59.125Z"
   },
   {
    "duration": 489,
    "start_time": "2022-06-25T11:15:59.260Z"
   },
   {
    "duration": 551,
    "start_time": "2022-06-25T11:15:59.751Z"
   },
   {
    "duration": 97,
    "start_time": "2022-06-25T11:16:00.304Z"
   },
   {
    "duration": 51,
    "start_time": "2022-06-25T11:16:00.403Z"
   },
   {
    "duration": 108,
    "start_time": "2022-06-25T11:16:00.456Z"
   },
   {
    "duration": 86,
    "start_time": "2022-06-25T11:16:00.566Z"
   },
   {
    "duration": 13,
    "start_time": "2022-06-25T11:16:00.654Z"
   },
   {
    "duration": 95,
    "start_time": "2022-06-25T11:16:00.668Z"
   },
   {
    "duration": 161,
    "start_time": "2022-06-25T11:16:00.765Z"
   },
   {
    "duration": 82,
    "start_time": "2022-06-25T11:16:00.928Z"
   },
   {
    "duration": 38,
    "start_time": "2022-06-25T11:16:01.012Z"
   },
   {
    "duration": 21,
    "start_time": "2022-06-25T11:16:01.052Z"
   },
   {
    "duration": 117,
    "start_time": "2022-06-25T11:16:01.075Z"
   },
   {
    "duration": 119,
    "start_time": "2022-06-25T11:16:01.193Z"
   },
   {
    "duration": 89,
    "start_time": "2022-06-25T11:16:01.314Z"
   },
   {
    "duration": 584,
    "start_time": "2022-06-25T11:16:01.405Z"
   },
   {
    "duration": 18,
    "start_time": "2022-06-25T11:16:01.990Z"
   },
   {
    "duration": 59,
    "start_time": "2022-06-25T11:16:02.011Z"
   },
   {
    "duration": 12,
    "start_time": "2022-06-25T11:16:02.072Z"
   },
   {
    "duration": 11,
    "start_time": "2022-06-25T11:16:02.086Z"
   },
   {
    "duration": 342,
    "start_time": "2022-06-25T11:16:02.122Z"
   },
   {
    "duration": 56,
    "start_time": "2022-06-25T11:16:02.467Z"
   },
   {
    "duration": 197,
    "start_time": "2022-06-25T11:16:02.526Z"
   },
   {
    "duration": 64,
    "start_time": "2022-06-25T11:16:02.724Z"
   },
   {
    "duration": 142,
    "start_time": "2022-06-25T11:16:02.792Z"
   },
   {
    "duration": 42,
    "start_time": "2022-06-25T11:16:02.936Z"
   },
   {
    "duration": 16,
    "start_time": "2022-06-25T11:16:02.980Z"
   },
   {
    "duration": 45,
    "start_time": "2022-06-25T11:16:02.998Z"
   },
   {
    "duration": 142,
    "start_time": "2022-06-25T11:16:03.045Z"
   },
   {
    "duration": 9,
    "start_time": "2022-06-25T11:16:03.188Z"
   },
   {
    "duration": 25,
    "start_time": "2022-06-25T11:16:03.199Z"
   },
   {
    "duration": 36,
    "start_time": "2022-06-25T11:16:03.226Z"
   },
   {
    "duration": 37,
    "start_time": "2022-06-25T11:16:03.263Z"
   },
   {
    "duration": 37,
    "start_time": "2022-06-25T11:16:03.301Z"
   },
   {
    "duration": 32,
    "start_time": "2022-06-25T11:16:03.340Z"
   },
   {
    "duration": 35,
    "start_time": "2022-06-25T11:16:03.373Z"
   },
   {
    "duration": 33,
    "start_time": "2022-06-25T11:16:03.423Z"
   },
   {
    "duration": 642,
    "start_time": "2022-06-25T11:17:24.143Z"
   },
   {
    "duration": 17,
    "start_time": "2022-06-25T11:17:45.224Z"
   },
   {
    "duration": 4,
    "start_time": "2022-06-25T11:19:07.175Z"
   },
   {
    "duration": 1577,
    "start_time": "2022-06-25T11:24:32.904Z"
   },
   {
    "duration": 825,
    "start_time": "2022-06-25T11:24:34.483Z"
   },
   {
    "duration": 141,
    "start_time": "2022-06-25T11:24:35.310Z"
   },
   {
    "duration": 488,
    "start_time": "2022-06-25T11:24:35.453Z"
   },
   {
    "duration": 559,
    "start_time": "2022-06-25T11:24:35.943Z"
   },
   {
    "duration": 97,
    "start_time": "2022-06-25T11:24:36.504Z"
   },
   {
    "duration": 53,
    "start_time": "2022-06-25T11:24:36.602Z"
   },
   {
    "duration": 108,
    "start_time": "2022-06-25T11:24:36.657Z"
   },
   {
    "duration": 93,
    "start_time": "2022-06-25T11:24:36.767Z"
   },
   {
    "duration": 11,
    "start_time": "2022-06-25T11:24:36.864Z"
   },
   {
    "duration": 99,
    "start_time": "2022-06-25T11:24:36.877Z"
   },
   {
    "duration": 208,
    "start_time": "2022-06-25T11:24:36.978Z"
   },
   {
    "duration": 97,
    "start_time": "2022-06-25T11:24:37.188Z"
   },
   {
    "duration": 22,
    "start_time": "2022-06-25T11:24:37.287Z"
   },
   {
    "duration": 41,
    "start_time": "2022-06-25T11:24:37.311Z"
   },
   {
    "duration": 131,
    "start_time": "2022-06-25T11:24:37.355Z"
   },
   {
    "duration": 115,
    "start_time": "2022-06-25T11:24:37.488Z"
   },
   {
    "duration": 90,
    "start_time": "2022-06-25T11:24:37.605Z"
   },
   {
    "duration": 515,
    "start_time": "2022-06-25T11:24:37.697Z"
   },
   {
    "duration": 21,
    "start_time": "2022-06-25T11:24:38.213Z"
   },
   {
    "duration": 60,
    "start_time": "2022-06-25T11:24:38.236Z"
   },
   {
    "duration": 11,
    "start_time": "2022-06-25T11:24:38.297Z"
   },
   {
    "duration": 25,
    "start_time": "2022-06-25T11:24:38.309Z"
   },
   {
    "duration": 348,
    "start_time": "2022-06-25T11:24:38.335Z"
   },
   {
    "duration": 49,
    "start_time": "2022-06-25T11:24:38.685Z"
   },
   {
    "duration": 157,
    "start_time": "2022-06-25T11:24:38.736Z"
   },
   {
    "duration": 69,
    "start_time": "2022-06-25T11:24:38.895Z"
   },
   {
    "duration": 143,
    "start_time": "2022-06-25T11:24:38.969Z"
   },
   {
    "duration": 50,
    "start_time": "2022-06-25T11:24:39.115Z"
   },
   {
    "duration": 16,
    "start_time": "2022-06-25T11:24:39.167Z"
   },
   {
    "duration": 24,
    "start_time": "2022-06-25T11:24:39.185Z"
   },
   {
    "duration": 170,
    "start_time": "2022-06-25T11:24:39.224Z"
   },
   {
    "duration": 8,
    "start_time": "2022-06-25T11:24:39.395Z"
   },
   {
    "duration": 30,
    "start_time": "2022-06-25T11:24:39.405Z"
   },
   {
    "duration": 36,
    "start_time": "2022-06-25T11:24:39.436Z"
   },
   {
    "duration": 35,
    "start_time": "2022-06-25T11:24:39.474Z"
   },
   {
    "duration": 28,
    "start_time": "2022-06-25T11:24:39.510Z"
   },
   {
    "duration": 33,
    "start_time": "2022-06-25T11:24:39.539Z"
   },
   {
    "duration": 50,
    "start_time": "2022-06-25T11:24:39.574Z"
   },
   {
    "duration": 38,
    "start_time": "2022-06-25T11:24:39.626Z"
   },
   {
    "duration": 691,
    "start_time": "2022-06-25T11:24:39.666Z"
   },
   {
    "duration": 17,
    "start_time": "2022-06-25T11:24:40.359Z"
   },
   {
    "duration": 3,
    "start_time": "2022-06-25T11:24:40.378Z"
   },
   {
    "duration": 218,
    "start_time": "2022-06-25T11:24:40.383Z"
   },
   {
    "duration": 327,
    "start_time": "2022-06-25T11:24:40.603Z"
   },
   {
    "duration": 250,
    "start_time": "2022-06-25T11:24:40.933Z"
   },
   {
    "duration": 6,
    "start_time": "2022-06-25T11:24:41.184Z"
   },
   {
    "duration": 1760,
    "start_time": "2022-06-25T11:25:41.919Z"
   },
   {
    "duration": 156,
    "start_time": "2022-06-25T11:27:43.926Z"
   },
   {
    "duration": 1381,
    "start_time": "2022-06-25T11:37:46.309Z"
   },
   {
    "duration": 830,
    "start_time": "2022-06-25T11:37:47.691Z"
   },
   {
    "duration": 128,
    "start_time": "2022-06-25T11:37:48.522Z"
   },
   {
    "duration": 468,
    "start_time": "2022-06-25T11:37:48.652Z"
   },
   {
    "duration": 510,
    "start_time": "2022-06-25T11:37:49.122Z"
   },
   {
    "duration": 101,
    "start_time": "2022-06-25T11:37:49.634Z"
   },
   {
    "duration": 38,
    "start_time": "2022-06-25T11:37:49.737Z"
   },
   {
    "duration": 111,
    "start_time": "2022-06-25T11:37:49.776Z"
   },
   {
    "duration": 79,
    "start_time": "2022-06-25T11:37:49.889Z"
   },
   {
    "duration": 11,
    "start_time": "2022-06-25T11:37:49.971Z"
   },
   {
    "duration": 92,
    "start_time": "2022-06-25T11:37:49.984Z"
   },
   {
    "duration": 156,
    "start_time": "2022-06-25T11:37:50.078Z"
   },
   {
    "duration": 91,
    "start_time": "2022-06-25T11:37:50.235Z"
   },
   {
    "duration": 8,
    "start_time": "2022-06-25T11:37:50.327Z"
   },
   {
    "duration": 8,
    "start_time": "2022-06-25T11:37:50.337Z"
   },
   {
    "duration": 106,
    "start_time": "2022-06-25T11:37:50.347Z"
   },
   {
    "duration": 113,
    "start_time": "2022-06-25T11:37:50.455Z"
   },
   {
    "duration": 84,
    "start_time": "2022-06-25T11:37:50.570Z"
   },
   {
    "duration": 465,
    "start_time": "2022-06-25T11:37:50.656Z"
   },
   {
    "duration": 16,
    "start_time": "2022-06-25T11:37:51.123Z"
   },
   {
    "duration": 47,
    "start_time": "2022-06-25T11:37:51.140Z"
   },
   {
    "duration": 10,
    "start_time": "2022-06-25T11:37:51.189Z"
   },
   {
    "duration": 26,
    "start_time": "2022-06-25T11:37:51.201Z"
   },
   {
    "duration": 337,
    "start_time": "2022-06-25T11:37:51.229Z"
   },
   {
    "duration": 40,
    "start_time": "2022-06-25T11:37:51.567Z"
   },
   {
    "duration": 161,
    "start_time": "2022-06-25T11:37:51.609Z"
   },
   {
    "duration": 55,
    "start_time": "2022-06-25T11:37:51.772Z"
   },
   {
    "duration": 128,
    "start_time": "2022-06-25T11:37:51.830Z"
   },
   {
    "duration": 40,
    "start_time": "2022-06-25T11:37:51.960Z"
   },
   {
    "duration": 33,
    "start_time": "2022-06-25T11:37:52.001Z"
   },
   {
    "duration": 22,
    "start_time": "2022-06-25T11:37:52.035Z"
   },
   {
    "duration": 141,
    "start_time": "2022-06-25T11:37:52.058Z"
   },
   {
    "duration": 9,
    "start_time": "2022-06-25T11:37:52.200Z"
   },
   {
    "duration": 24,
    "start_time": "2022-06-25T11:37:52.210Z"
   },
   {
    "duration": 32,
    "start_time": "2022-06-25T11:37:52.236Z"
   },
   {
    "duration": 31,
    "start_time": "2022-06-25T11:37:52.269Z"
   },
   {
    "duration": 37,
    "start_time": "2022-06-25T11:37:52.302Z"
   },
   {
    "duration": 31,
    "start_time": "2022-06-25T11:37:52.340Z"
   },
   {
    "duration": 54,
    "start_time": "2022-06-25T11:37:52.372Z"
   },
   {
    "duration": 28,
    "start_time": "2022-06-25T11:37:52.428Z"
   },
   {
    "duration": 682,
    "start_time": "2022-06-25T11:37:52.458Z"
   },
   {
    "duration": 16,
    "start_time": "2022-06-25T11:37:53.142Z"
   },
   {
    "duration": 3,
    "start_time": "2022-06-25T11:37:53.159Z"
   },
   {
    "duration": 213,
    "start_time": "2022-06-25T11:37:53.164Z"
   },
   {
    "duration": 295,
    "start_time": "2022-06-25T11:37:53.379Z"
   },
   {
    "duration": 227,
    "start_time": "2022-06-25T11:37:53.676Z"
   },
   {
    "duration": 5,
    "start_time": "2022-06-25T11:37:53.905Z"
   },
   {
    "duration": 150,
    "start_time": "2022-06-25T11:37:53.911Z"
   },
   {
    "duration": 5,
    "start_time": "2022-06-25T11:37:54.063Z"
   },
   {
    "duration": 6,
    "start_time": "2022-06-25T11:39:55.862Z"
   },
   {
    "duration": 7,
    "start_time": "2022-06-25T11:40:05.633Z"
   },
   {
    "duration": 166,
    "start_time": "2022-06-25T11:41:11.637Z"
   },
   {
    "duration": 1463,
    "start_time": "2022-06-25T11:41:21.778Z"
   },
   {
    "duration": 815,
    "start_time": "2022-06-25T11:41:23.245Z"
   },
   {
    "duration": 141,
    "start_time": "2022-06-25T11:41:24.062Z"
   },
   {
    "duration": 486,
    "start_time": "2022-06-25T11:41:24.205Z"
   },
   {
    "duration": 536,
    "start_time": "2022-06-25T11:41:24.692Z"
   },
   {
    "duration": 99,
    "start_time": "2022-06-25T11:41:25.230Z"
   },
   {
    "duration": 44,
    "start_time": "2022-06-25T11:41:25.331Z"
   },
   {
    "duration": 114,
    "start_time": "2022-06-25T11:41:25.376Z"
   },
   {
    "duration": 90,
    "start_time": "2022-06-25T11:41:25.492Z"
   },
   {
    "duration": 11,
    "start_time": "2022-06-25T11:41:25.585Z"
   },
   {
    "duration": 96,
    "start_time": "2022-06-25T11:41:25.598Z"
   },
   {
    "duration": 160,
    "start_time": "2022-06-25T11:41:25.696Z"
   },
   {
    "duration": 86,
    "start_time": "2022-06-25T11:41:25.858Z"
   },
   {
    "duration": 8,
    "start_time": "2022-06-25T11:41:25.946Z"
   },
   {
    "duration": 8,
    "start_time": "2022-06-25T11:41:25.955Z"
   },
   {
    "duration": 111,
    "start_time": "2022-06-25T11:41:25.965Z"
   },
   {
    "duration": 114,
    "start_time": "2022-06-25T11:41:26.078Z"
   },
   {
    "duration": 98,
    "start_time": "2022-06-25T11:41:26.193Z"
   },
   {
    "duration": 439,
    "start_time": "2022-06-25T11:41:26.293Z"
   },
   {
    "duration": 17,
    "start_time": "2022-06-25T11:41:26.734Z"
   },
   {
    "duration": 44,
    "start_time": "2022-06-25T11:41:26.753Z"
   },
   {
    "duration": 33,
    "start_time": "2022-06-25T11:41:26.799Z"
   },
   {
    "duration": 11,
    "start_time": "2022-06-25T11:41:26.833Z"
   },
   {
    "duration": 352,
    "start_time": "2022-06-25T11:41:26.845Z"
   },
   {
    "duration": 46,
    "start_time": "2022-06-25T11:41:27.199Z"
   },
   {
    "duration": 158,
    "start_time": "2022-06-25T11:41:27.246Z"
   },
   {
    "duration": 55,
    "start_time": "2022-06-25T11:41:27.406Z"
   },
   {
    "duration": 122,
    "start_time": "2022-06-25T11:41:27.465Z"
   },
   {
    "duration": 46,
    "start_time": "2022-06-25T11:41:27.589Z"
   },
   {
    "duration": 16,
    "start_time": "2022-06-25T11:41:27.637Z"
   },
   {
    "duration": 22,
    "start_time": "2022-06-25T11:41:27.655Z"
   },
   {
    "duration": 154,
    "start_time": "2022-06-25T11:41:27.679Z"
   },
   {
    "duration": 8,
    "start_time": "2022-06-25T11:41:27.835Z"
   },
   {
    "duration": 17,
    "start_time": "2022-06-25T11:41:27.844Z"
   },
   {
    "duration": 28,
    "start_time": "2022-06-25T11:41:27.863Z"
   },
   {
    "duration": 51,
    "start_time": "2022-06-25T11:41:27.892Z"
   },
   {
    "duration": 28,
    "start_time": "2022-06-25T11:41:27.945Z"
   },
   {
    "duration": 48,
    "start_time": "2022-06-25T11:41:27.974Z"
   },
   {
    "duration": 30,
    "start_time": "2022-06-25T11:41:28.024Z"
   },
   {
    "duration": 31,
    "start_time": "2022-06-25T11:41:28.055Z"
   },
   {
    "duration": 649,
    "start_time": "2022-06-25T11:41:28.087Z"
   },
   {
    "duration": 16,
    "start_time": "2022-06-25T11:41:28.738Z"
   },
   {
    "duration": 2,
    "start_time": "2022-06-25T11:41:28.756Z"
   },
   {
    "duration": 210,
    "start_time": "2022-06-25T11:41:28.760Z"
   },
   {
    "duration": 305,
    "start_time": "2022-06-25T11:41:28.972Z"
   },
   {
    "duration": 235,
    "start_time": "2022-06-25T11:41:29.280Z"
   },
   {
    "duration": 8,
    "start_time": "2022-06-25T11:41:29.517Z"
   },
   {
    "duration": 151,
    "start_time": "2022-06-25T11:41:29.527Z"
   },
   {
    "duration": 157,
    "start_time": "2022-06-25T11:41:29.680Z"
   },
   {
    "duration": 4,
    "start_time": "2022-06-25T11:42:29.452Z"
   },
   {
    "duration": 1413,
    "start_time": "2022-06-25T11:42:36.394Z"
   },
   {
    "duration": 799,
    "start_time": "2022-06-25T11:42:37.809Z"
   },
   {
    "duration": 133,
    "start_time": "2022-06-25T11:42:38.610Z"
   },
   {
    "duration": 483,
    "start_time": "2022-06-25T11:42:38.745Z"
   },
   {
    "duration": 548,
    "start_time": "2022-06-25T11:42:39.230Z"
   },
   {
    "duration": 98,
    "start_time": "2022-06-25T11:42:39.780Z"
   },
   {
    "duration": 55,
    "start_time": "2022-06-25T11:42:39.880Z"
   },
   {
    "duration": 115,
    "start_time": "2022-06-25T11:42:39.937Z"
   },
   {
    "duration": 86,
    "start_time": "2022-06-25T11:42:40.054Z"
   },
   {
    "duration": 11,
    "start_time": "2022-06-25T11:42:40.143Z"
   },
   {
    "duration": 90,
    "start_time": "2022-06-25T11:42:40.156Z"
   },
   {
    "duration": 159,
    "start_time": "2022-06-25T11:42:40.248Z"
   },
   {
    "duration": 83,
    "start_time": "2022-06-25T11:42:40.408Z"
   },
   {
    "duration": 7,
    "start_time": "2022-06-25T11:42:40.492Z"
   },
   {
    "duration": 22,
    "start_time": "2022-06-25T11:42:40.501Z"
   },
   {
    "duration": 89,
    "start_time": "2022-06-25T11:42:40.525Z"
   },
   {
    "duration": 113,
    "start_time": "2022-06-25T11:42:40.615Z"
   },
   {
    "duration": 81,
    "start_time": "2022-06-25T11:42:40.729Z"
   },
   {
    "duration": 465,
    "start_time": "2022-06-25T11:42:40.811Z"
   },
   {
    "duration": 16,
    "start_time": "2022-06-25T11:42:41.278Z"
   },
   {
    "duration": 60,
    "start_time": "2022-06-25T11:42:41.295Z"
   },
   {
    "duration": 10,
    "start_time": "2022-06-25T11:42:41.357Z"
   },
   {
    "duration": 9,
    "start_time": "2022-06-25T11:42:41.369Z"
   },
   {
    "duration": 332,
    "start_time": "2022-06-25T11:42:41.380Z"
   },
   {
    "duration": 50,
    "start_time": "2022-06-25T11:42:41.713Z"
   },
   {
    "duration": 150,
    "start_time": "2022-06-25T11:42:41.765Z"
   },
   {
    "duration": 55,
    "start_time": "2022-06-25T11:42:41.916Z"
   },
   {
    "duration": 123,
    "start_time": "2022-06-25T11:42:41.974Z"
   },
   {
    "duration": 56,
    "start_time": "2022-06-25T11:42:42.099Z"
   },
   {
    "duration": 18,
    "start_time": "2022-06-25T11:42:42.156Z"
   },
   {
    "duration": 23,
    "start_time": "2022-06-25T11:42:42.176Z"
   },
   {
    "duration": 153,
    "start_time": "2022-06-25T11:42:42.201Z"
   },
   {
    "duration": 9,
    "start_time": "2022-06-25T11:42:42.355Z"
   },
   {
    "duration": 16,
    "start_time": "2022-06-25T11:42:42.365Z"
   },
   {
    "duration": 47,
    "start_time": "2022-06-25T11:42:42.382Z"
   },
   {
    "duration": 28,
    "start_time": "2022-06-25T11:42:42.431Z"
   },
   {
    "duration": 25,
    "start_time": "2022-06-25T11:42:42.461Z"
   },
   {
    "duration": 53,
    "start_time": "2022-06-25T11:42:42.487Z"
   },
   {
    "duration": 40,
    "start_time": "2022-06-25T11:42:42.542Z"
   },
   {
    "duration": 48,
    "start_time": "2022-06-25T11:42:42.585Z"
   },
   {
    "duration": 679,
    "start_time": "2022-06-25T11:42:42.635Z"
   },
   {
    "duration": 19,
    "start_time": "2022-06-25T11:42:43.316Z"
   },
   {
    "duration": 2,
    "start_time": "2022-06-25T11:42:43.337Z"
   },
   {
    "duration": 204,
    "start_time": "2022-06-25T11:42:43.341Z"
   },
   {
    "duration": 302,
    "start_time": "2022-06-25T11:42:43.547Z"
   },
   {
    "duration": 241,
    "start_time": "2022-06-25T11:42:43.851Z"
   },
   {
    "duration": 5,
    "start_time": "2022-06-25T11:42:44.094Z"
   },
   {
    "duration": 153,
    "start_time": "2022-06-25T11:42:44.100Z"
   },
   {
    "duration": 206,
    "start_time": "2022-06-25T11:42:44.255Z"
   },
   {
    "duration": 1508,
    "start_time": "2022-06-25T12:04:24.704Z"
   },
   {
    "duration": 827,
    "start_time": "2022-06-25T12:04:26.214Z"
   },
   {
    "duration": 141,
    "start_time": "2022-06-25T12:04:27.043Z"
   },
   {
    "duration": 473,
    "start_time": "2022-06-25T12:04:27.186Z"
   },
   {
    "duration": 542,
    "start_time": "2022-06-25T12:04:27.660Z"
   },
   {
    "duration": 102,
    "start_time": "2022-06-25T12:04:28.204Z"
   },
   {
    "duration": 50,
    "start_time": "2022-06-25T12:04:28.308Z"
   },
   {
    "duration": 112,
    "start_time": "2022-06-25T12:04:28.360Z"
   },
   {
    "duration": 75,
    "start_time": "2022-06-25T12:04:28.474Z"
   },
   {
    "duration": 12,
    "start_time": "2022-06-25T12:04:28.551Z"
   },
   {
    "duration": 92,
    "start_time": "2022-06-25T12:04:28.564Z"
   },
   {
    "duration": 158,
    "start_time": "2022-06-25T12:04:28.658Z"
   },
   {
    "duration": 82,
    "start_time": "2022-06-25T12:04:28.818Z"
   },
   {
    "duration": 26,
    "start_time": "2022-06-25T12:04:28.902Z"
   },
   {
    "duration": 6,
    "start_time": "2022-06-25T12:04:28.930Z"
   },
   {
    "duration": 109,
    "start_time": "2022-06-25T12:04:28.938Z"
   },
   {
    "duration": 113,
    "start_time": "2022-06-25T12:04:29.049Z"
   },
   {
    "duration": 97,
    "start_time": "2022-06-25T12:04:29.163Z"
   },
   {
    "duration": 473,
    "start_time": "2022-06-25T12:04:29.261Z"
   },
   {
    "duration": 17,
    "start_time": "2022-06-25T12:04:29.735Z"
   },
   {
    "duration": 46,
    "start_time": "2022-06-25T12:04:29.753Z"
   },
   {
    "duration": 23,
    "start_time": "2022-06-25T12:04:29.801Z"
   },
   {
    "duration": 10,
    "start_time": "2022-06-25T12:04:29.826Z"
   },
   {
    "duration": 360,
    "start_time": "2022-06-25T12:04:29.838Z"
   },
   {
    "duration": 55,
    "start_time": "2022-06-25T12:04:30.200Z"
   },
   {
    "duration": 142,
    "start_time": "2022-06-25T12:04:30.257Z"
   },
   {
    "duration": 59,
    "start_time": "2022-06-25T12:04:30.401Z"
   },
   {
    "duration": 125,
    "start_time": "2022-06-25T12:04:30.464Z"
   },
   {
    "duration": 50,
    "start_time": "2022-06-25T12:04:30.591Z"
   },
   {
    "duration": 17,
    "start_time": "2022-06-25T12:04:30.644Z"
   },
   {
    "duration": 23,
    "start_time": "2022-06-25T12:04:30.663Z"
   },
   {
    "duration": 150,
    "start_time": "2022-06-25T12:04:30.688Z"
   },
   {
    "duration": 8,
    "start_time": "2022-06-25T12:04:30.840Z"
   },
   {
    "duration": 29,
    "start_time": "2022-06-25T12:04:30.849Z"
   },
   {
    "duration": 38,
    "start_time": "2022-06-25T12:04:30.880Z"
   },
   {
    "duration": 47,
    "start_time": "2022-06-25T12:04:30.920Z"
   },
   {
    "duration": 38,
    "start_time": "2022-06-25T12:04:30.968Z"
   },
   {
    "duration": 40,
    "start_time": "2022-06-25T12:04:31.008Z"
   },
   {
    "duration": 54,
    "start_time": "2022-06-25T12:04:31.050Z"
   },
   {
    "duration": 48,
    "start_time": "2022-06-25T12:04:31.106Z"
   },
   {
    "duration": 692,
    "start_time": "2022-06-25T12:04:31.156Z"
   },
   {
    "duration": 17,
    "start_time": "2022-06-25T12:04:31.850Z"
   },
   {
    "duration": 3,
    "start_time": "2022-06-25T12:04:31.869Z"
   },
   {
    "duration": 212,
    "start_time": "2022-06-25T12:04:31.873Z"
   },
   {
    "duration": 294,
    "start_time": "2022-06-25T12:04:32.087Z"
   },
   {
    "duration": 246,
    "start_time": "2022-06-25T12:04:32.383Z"
   },
   {
    "duration": 5,
    "start_time": "2022-06-25T12:04:32.631Z"
   },
   {
    "duration": 195,
    "start_time": "2022-06-25T12:04:32.638Z"
   },
   {
    "duration": 230,
    "start_time": "2022-06-25T12:04:32.835Z"
   },
   {
    "duration": 1434,
    "start_time": "2022-06-25T12:56:08.762Z"
   },
   {
    "duration": 885,
    "start_time": "2022-06-25T12:56:10.197Z"
   },
   {
    "duration": 139,
    "start_time": "2022-06-25T12:56:11.084Z"
   },
   {
    "duration": 476,
    "start_time": "2022-06-25T12:56:11.225Z"
   },
   {
    "duration": 552,
    "start_time": "2022-06-25T12:56:11.703Z"
   },
   {
    "duration": 95,
    "start_time": "2022-06-25T12:56:12.257Z"
   },
   {
    "duration": 46,
    "start_time": "2022-06-25T12:56:12.354Z"
   },
   {
    "duration": 106,
    "start_time": "2022-06-25T12:56:12.402Z"
   },
   {
    "duration": 100,
    "start_time": "2022-06-25T12:56:12.509Z"
   },
   {
    "duration": 25,
    "start_time": "2022-06-25T12:56:12.612Z"
   },
   {
    "duration": 115,
    "start_time": "2022-06-25T12:56:12.639Z"
   },
   {
    "duration": 190,
    "start_time": "2022-06-25T12:56:12.756Z"
   },
   {
    "duration": 86,
    "start_time": "2022-06-25T12:56:12.948Z"
   },
   {
    "duration": 8,
    "start_time": "2022-06-25T12:56:13.036Z"
   },
   {
    "duration": 5,
    "start_time": "2022-06-25T12:56:13.045Z"
   },
   {
    "duration": 117,
    "start_time": "2022-06-25T12:56:13.051Z"
   },
   {
    "duration": 129,
    "start_time": "2022-06-25T12:56:13.170Z"
   },
   {
    "duration": 84,
    "start_time": "2022-06-25T12:56:13.301Z"
   },
   {
    "duration": 466,
    "start_time": "2022-06-25T12:56:13.386Z"
   },
   {
    "duration": 17,
    "start_time": "2022-06-25T12:56:13.854Z"
   },
   {
    "duration": 58,
    "start_time": "2022-06-25T12:56:13.873Z"
   },
   {
    "duration": 12,
    "start_time": "2022-06-25T12:56:13.933Z"
   },
   {
    "duration": 12,
    "start_time": "2022-06-25T12:56:13.946Z"
   },
   {
    "duration": 337,
    "start_time": "2022-06-25T12:56:13.959Z"
   },
   {
    "duration": 51,
    "start_time": "2022-06-25T12:56:14.298Z"
   },
   {
    "duration": 150,
    "start_time": "2022-06-25T12:56:14.350Z"
   },
   {
    "duration": 54,
    "start_time": "2022-06-25T12:56:14.501Z"
   },
   {
    "duration": 122,
    "start_time": "2022-06-25T12:56:14.558Z"
   },
   {
    "duration": 50,
    "start_time": "2022-06-25T12:56:14.681Z"
   },
   {
    "duration": 15,
    "start_time": "2022-06-25T12:56:14.732Z"
   },
   {
    "duration": 22,
    "start_time": "2022-06-25T12:56:14.749Z"
   },
   {
    "duration": 146,
    "start_time": "2022-06-25T12:56:14.772Z"
   },
   {
    "duration": 10,
    "start_time": "2022-06-25T12:56:14.919Z"
   },
   {
    "duration": 16,
    "start_time": "2022-06-25T12:56:14.931Z"
   },
   {
    "duration": 29,
    "start_time": "2022-06-25T12:56:14.948Z"
   },
   {
    "duration": 53,
    "start_time": "2022-06-25T12:56:14.978Z"
   },
   {
    "duration": 29,
    "start_time": "2022-06-25T12:56:15.033Z"
   },
   {
    "duration": 29,
    "start_time": "2022-06-25T12:56:15.064Z"
   },
   {
    "duration": 41,
    "start_time": "2022-06-25T12:56:15.094Z"
   },
   {
    "duration": 34,
    "start_time": "2022-06-25T12:56:15.137Z"
   },
   {
    "duration": 650,
    "start_time": "2022-06-25T12:56:15.173Z"
   },
   {
    "duration": 17,
    "start_time": "2022-06-25T12:56:15.825Z"
   },
   {
    "duration": 7,
    "start_time": "2022-06-25T12:56:15.843Z"
   },
   {
    "duration": 212,
    "start_time": "2022-06-25T12:56:15.852Z"
   },
   {
    "duration": 294,
    "start_time": "2022-06-25T12:56:16.066Z"
   },
   {
    "duration": 242,
    "start_time": "2022-06-25T12:56:16.362Z"
   },
   {
    "duration": 4,
    "start_time": "2022-06-25T12:56:16.606Z"
   },
   {
    "duration": 154,
    "start_time": "2022-06-25T12:56:16.612Z"
   },
   {
    "duration": 3,
    "start_time": "2022-06-25T12:56:16.768Z"
   },
   {
    "duration": 184,
    "start_time": "2022-06-25T12:56:16.773Z"
   },
   {
    "duration": 0,
    "start_time": "2022-06-25T12:56:16.959Z"
   },
   {
    "duration": 18,
    "start_time": "2022-06-25T12:56:51.237Z"
   },
   {
    "duration": 18,
    "start_time": "2022-06-25T12:57:08.258Z"
   },
   {
    "duration": 10,
    "start_time": "2022-06-25T12:57:30.108Z"
   },
   {
    "duration": 1527,
    "start_time": "2022-06-25T13:00:09.419Z"
   },
   {
    "duration": 867,
    "start_time": "2022-06-25T13:00:10.948Z"
   },
   {
    "duration": 131,
    "start_time": "2022-06-25T13:00:11.817Z"
   },
   {
    "duration": 509,
    "start_time": "2022-06-25T13:00:11.950Z"
   },
   {
    "duration": 614,
    "start_time": "2022-06-25T13:00:12.461Z"
   },
   {
    "duration": 101,
    "start_time": "2022-06-25T13:00:13.076Z"
   },
   {
    "duration": 49,
    "start_time": "2022-06-25T13:00:13.179Z"
   },
   {
    "duration": 116,
    "start_time": "2022-06-25T13:00:13.230Z"
   },
   {
    "duration": 78,
    "start_time": "2022-06-25T13:00:13.347Z"
   },
   {
    "duration": 12,
    "start_time": "2022-06-25T13:00:13.428Z"
   },
   {
    "duration": 94,
    "start_time": "2022-06-25T13:00:13.442Z"
   },
   {
    "duration": 160,
    "start_time": "2022-06-25T13:00:13.539Z"
   },
   {
    "duration": 87,
    "start_time": "2022-06-25T13:00:13.701Z"
   },
   {
    "duration": 8,
    "start_time": "2022-06-25T13:00:13.789Z"
   },
   {
    "duration": 25,
    "start_time": "2022-06-25T13:00:13.799Z"
   },
   {
    "duration": 99,
    "start_time": "2022-06-25T13:00:13.825Z"
   },
   {
    "duration": 119,
    "start_time": "2022-06-25T13:00:13.926Z"
   },
   {
    "duration": 86,
    "start_time": "2022-06-25T13:00:14.047Z"
   },
   {
    "duration": 489,
    "start_time": "2022-06-25T13:00:14.135Z"
   },
   {
    "duration": 16,
    "start_time": "2022-06-25T13:00:14.626Z"
   },
   {
    "duration": 48,
    "start_time": "2022-06-25T13:00:14.643Z"
   },
   {
    "duration": 30,
    "start_time": "2022-06-25T13:00:14.693Z"
   },
   {
    "duration": 10,
    "start_time": "2022-06-25T13:00:14.725Z"
   },
   {
    "duration": 339,
    "start_time": "2022-06-25T13:00:14.736Z"
   },
   {
    "duration": 54,
    "start_time": "2022-06-25T13:00:15.077Z"
   },
   {
    "duration": 150,
    "start_time": "2022-06-25T13:00:15.133Z"
   },
   {
    "duration": 59,
    "start_time": "2022-06-25T13:00:15.284Z"
   },
   {
    "duration": 132,
    "start_time": "2022-06-25T13:00:15.347Z"
   },
   {
    "duration": 54,
    "start_time": "2022-06-25T13:00:15.481Z"
   },
   {
    "duration": 16,
    "start_time": "2022-06-25T13:00:15.537Z"
   },
   {
    "duration": 25,
    "start_time": "2022-06-25T13:00:15.555Z"
   },
   {
    "duration": 147,
    "start_time": "2022-06-25T13:00:15.582Z"
   },
   {
    "duration": 9,
    "start_time": "2022-06-25T13:00:15.732Z"
   },
   {
    "duration": 16,
    "start_time": "2022-06-25T13:00:15.742Z"
   },
   {
    "duration": 33,
    "start_time": "2022-06-25T13:00:15.760Z"
   },
   {
    "duration": 47,
    "start_time": "2022-06-25T13:00:15.795Z"
   },
   {
    "duration": 24,
    "start_time": "2022-06-25T13:00:15.844Z"
   },
   {
    "duration": 31,
    "start_time": "2022-06-25T13:00:15.870Z"
   },
   {
    "duration": 33,
    "start_time": "2022-06-25T13:00:15.924Z"
   },
   {
    "duration": 44,
    "start_time": "2022-06-25T13:00:15.958Z"
   },
   {
    "duration": 668,
    "start_time": "2022-06-25T13:00:16.004Z"
   },
   {
    "duration": 16,
    "start_time": "2022-06-25T13:00:16.674Z"
   },
   {
    "duration": 16,
    "start_time": "2022-06-25T13:00:16.692Z"
   },
   {
    "duration": 16,
    "start_time": "2022-06-25T13:00:16.709Z"
   },
   {
    "duration": 210,
    "start_time": "2022-06-25T13:00:16.727Z"
   },
   {
    "duration": 303,
    "start_time": "2022-06-25T13:00:16.939Z"
   },
   {
    "duration": 233,
    "start_time": "2022-06-25T13:00:17.244Z"
   },
   {
    "duration": 6,
    "start_time": "2022-06-25T13:00:17.479Z"
   },
   {
    "duration": 154,
    "start_time": "2022-06-25T13:00:17.486Z"
   },
   {
    "duration": 3,
    "start_time": "2022-06-25T13:00:17.642Z"
   },
   {
    "duration": 202,
    "start_time": "2022-06-25T13:00:17.647Z"
   },
   {
    "duration": 0,
    "start_time": "2022-06-25T13:00:17.851Z"
   },
   {
    "duration": 24,
    "start_time": "2022-06-25T13:02:32.498Z"
   },
   {
    "duration": 69,
    "start_time": "2022-06-25T13:03:24.038Z"
   },
   {
    "duration": 1562,
    "start_time": "2022-06-25T13:05:48.425Z"
   },
   {
    "duration": 924,
    "start_time": "2022-06-25T13:05:49.990Z"
   },
   {
    "duration": 163,
    "start_time": "2022-06-25T13:05:50.916Z"
   },
   {
    "duration": 488,
    "start_time": "2022-06-25T13:05:57.199Z"
   },
   {
    "duration": 539,
    "start_time": "2022-06-25T13:05:58.345Z"
   },
   {
    "duration": 126,
    "start_time": "2022-06-25T13:06:01.199Z"
   },
   {
    "duration": 48,
    "start_time": "2022-06-25T13:06:04.743Z"
   },
   {
    "duration": 96,
    "start_time": "2022-06-25T13:06:07.064Z"
   },
   {
    "duration": 70,
    "start_time": "2022-06-25T13:06:11.022Z"
   },
   {
    "duration": 12,
    "start_time": "2022-06-25T13:06:11.851Z"
   },
   {
    "duration": 80,
    "start_time": "2022-06-25T13:06:17.859Z"
   },
   {
    "duration": 154,
    "start_time": "2022-06-25T13:06:19.582Z"
   },
   {
    "duration": 80,
    "start_time": "2022-06-25T13:06:30.166Z"
   },
   {
    "duration": 8,
    "start_time": "2022-06-25T13:06:33.755Z"
   },
   {
    "duration": 6,
    "start_time": "2022-06-25T13:06:34.595Z"
   },
   {
    "duration": 93,
    "start_time": "2022-06-25T13:06:37.179Z"
   },
   {
    "duration": 109,
    "start_time": "2022-06-25T13:06:40.408Z"
   },
   {
    "duration": 88,
    "start_time": "2022-06-25T13:06:41.168Z"
   },
   {
    "duration": 463,
    "start_time": "2022-06-25T13:06:45.462Z"
   },
   {
    "duration": 16,
    "start_time": "2022-06-25T13:06:46.622Z"
   },
   {
    "duration": 45,
    "start_time": "2022-06-25T13:06:48.180Z"
   },
   {
    "duration": 12,
    "start_time": "2022-06-25T13:06:49.019Z"
   },
   {
    "duration": 11,
    "start_time": "2022-06-25T13:06:51.859Z"
   },
   {
    "duration": 400,
    "start_time": "2022-06-25T13:06:52.503Z"
   },
   {
    "duration": 48,
    "start_time": "2022-06-25T13:06:56.026Z"
   },
   {
    "duration": 146,
    "start_time": "2022-06-25T13:06:58.159Z"
   },
   {
    "duration": 52,
    "start_time": "2022-06-25T13:07:01.052Z"
   },
   {
    "duration": 133,
    "start_time": "2022-06-25T13:07:02.465Z"
   },
   {
    "duration": 41,
    "start_time": "2022-06-25T13:07:04.973Z"
   },
   {
    "duration": 19,
    "start_time": "2022-06-25T13:07:06.995Z"
   },
   {
    "duration": 27,
    "start_time": "2022-06-25T13:07:09.248Z"
   },
   {
    "duration": 128,
    "start_time": "2022-06-25T13:07:11.383Z"
   },
   {
    "duration": 11,
    "start_time": "2022-06-25T13:07:11.916Z"
   },
   {
    "duration": 14,
    "start_time": "2022-06-25T13:07:14.159Z"
   },
   {
    "duration": 154,
    "start_time": "2022-06-25T13:07:15.775Z"
   },
   {
    "duration": 10,
    "start_time": "2022-06-25T13:07:17.854Z"
   },
   {
    "duration": 7,
    "start_time": "2022-06-25T13:07:26.938Z"
   },
   {
    "duration": 7,
    "start_time": "2022-06-25T13:07:29.385Z"
   },
   {
    "duration": 108,
    "start_time": "2022-06-25T13:08:09.655Z"
   },
   {
    "duration": 7,
    "start_time": "2022-06-25T13:08:16.473Z"
   },
   {
    "duration": 7,
    "start_time": "2022-06-25T13:08:31.512Z"
   },
   {
    "duration": 7,
    "start_time": "2022-06-25T13:08:40.160Z"
   },
   {
    "duration": 8,
    "start_time": "2022-06-25T13:08:43.388Z"
   },
   {
    "duration": 8,
    "start_time": "2022-06-25T13:08:44.119Z"
   },
   {
    "duration": 7,
    "start_time": "2022-06-25T13:08:55.381Z"
   },
   {
    "duration": 7,
    "start_time": "2022-06-25T13:08:56.071Z"
   },
   {
    "duration": 577,
    "start_time": "2022-06-25T13:08:57.676Z"
   },
   {
    "duration": 4,
    "start_time": "2022-06-25T13:09:01.853Z"
   },
   {
    "duration": 206,
    "start_time": "2022-06-25T13:09:04.121Z"
   },
   {
    "duration": 311,
    "start_time": "2022-06-25T13:09:04.876Z"
   },
   {
    "duration": 274,
    "start_time": "2022-06-25T13:09:05.664Z"
   },
   {
    "duration": 6,
    "start_time": "2022-06-25T13:09:07.836Z"
   },
   {
    "duration": 153,
    "start_time": "2022-06-25T13:09:08.708Z"
   },
   {
    "duration": 22,
    "start_time": "2022-06-25T13:09:10.409Z"
   },
   {
    "duration": 3,
    "start_time": "2022-06-25T13:09:11.305Z"
   },
   {
    "duration": 106,
    "start_time": "2022-06-25T13:09:12.532Z"
   },
   {
    "duration": 46,
    "start_time": "2022-06-25T13:10:50.823Z"
   },
   {
    "duration": 112,
    "start_time": "2022-06-25T13:11:01.771Z"
   },
   {
    "duration": 6,
    "start_time": "2022-06-25T13:11:02.842Z"
   },
   {
    "duration": 1328,
    "start_time": "2022-06-25T13:11:17.766Z"
   },
   {
    "duration": 818,
    "start_time": "2022-06-25T13:11:19.096Z"
   },
   {
    "duration": 149,
    "start_time": "2022-06-25T13:11:19.916Z"
   },
   {
    "duration": 496,
    "start_time": "2022-06-25T13:11:20.068Z"
   },
   {
    "duration": 539,
    "start_time": "2022-06-25T13:11:20.566Z"
   },
   {
    "duration": 117,
    "start_time": "2022-06-25T13:11:21.107Z"
   },
   {
    "duration": 47,
    "start_time": "2022-06-25T13:11:21.226Z"
   },
   {
    "duration": 118,
    "start_time": "2022-06-25T13:11:21.275Z"
   },
   {
    "duration": 85,
    "start_time": "2022-06-25T13:11:21.395Z"
   },
   {
    "duration": 16,
    "start_time": "2022-06-25T13:11:21.484Z"
   },
   {
    "duration": 96,
    "start_time": "2022-06-25T13:11:21.502Z"
   },
   {
    "duration": 152,
    "start_time": "2022-06-25T13:11:21.599Z"
   },
   {
    "duration": 90,
    "start_time": "2022-06-25T13:11:21.753Z"
   },
   {
    "duration": 9,
    "start_time": "2022-06-25T13:11:21.844Z"
   },
   {
    "duration": 5,
    "start_time": "2022-06-25T13:11:21.855Z"
   },
   {
    "duration": 128,
    "start_time": "2022-06-25T13:11:21.862Z"
   },
   {
    "duration": 119,
    "start_time": "2022-06-25T13:11:21.992Z"
   },
   {
    "duration": 81,
    "start_time": "2022-06-25T13:11:22.113Z"
   },
   {
    "duration": 501,
    "start_time": "2022-06-25T13:11:22.196Z"
   },
   {
    "duration": 30,
    "start_time": "2022-06-25T13:11:22.699Z"
   },
   {
    "duration": 51,
    "start_time": "2022-06-25T13:11:22.731Z"
   },
   {
    "duration": 14,
    "start_time": "2022-06-25T13:11:22.785Z"
   },
   {
    "duration": 23,
    "start_time": "2022-06-25T13:11:22.802Z"
   },
   {
    "duration": 356,
    "start_time": "2022-06-25T13:11:22.827Z"
   },
   {
    "duration": 52,
    "start_time": "2022-06-25T13:11:23.185Z"
   },
   {
    "duration": 156,
    "start_time": "2022-06-25T13:11:23.239Z"
   },
   {
    "duration": 57,
    "start_time": "2022-06-25T13:11:23.397Z"
   },
   {
    "duration": 122,
    "start_time": "2022-06-25T13:11:23.458Z"
   },
   {
    "duration": 52,
    "start_time": "2022-06-25T13:11:23.582Z"
   },
   {
    "duration": 16,
    "start_time": "2022-06-25T13:11:23.636Z"
   },
   {
    "duration": 21,
    "start_time": "2022-06-25T13:11:23.654Z"
   },
   {
    "duration": 147,
    "start_time": "2022-06-25T13:11:23.677Z"
   },
   {
    "duration": 9,
    "start_time": "2022-06-25T13:11:23.825Z"
   },
   {
    "duration": 20,
    "start_time": "2022-06-25T13:11:23.835Z"
   },
   {
    "duration": 18,
    "start_time": "2022-06-25T13:11:23.856Z"
   },
   {
    "duration": 170,
    "start_time": "2022-06-25T13:11:23.875Z"
   },
   {
    "duration": 5,
    "start_time": "2022-06-25T13:11:24.047Z"
   },
   {
    "duration": 9,
    "start_time": "2022-06-25T13:11:24.054Z"
   },
   {
    "duration": 6,
    "start_time": "2022-06-25T13:11:24.065Z"
   },
   {
    "duration": 8,
    "start_time": "2022-06-25T13:11:24.072Z"
   },
   {
    "duration": 6,
    "start_time": "2022-06-25T13:11:24.081Z"
   },
   {
    "duration": 35,
    "start_time": "2022-06-25T13:11:24.089Z"
   },
   {
    "duration": 7,
    "start_time": "2022-06-25T13:11:24.126Z"
   },
   {
    "duration": 510,
    "start_time": "2022-06-25T13:11:24.135Z"
   },
   {
    "duration": 3,
    "start_time": "2022-06-25T13:11:24.647Z"
   },
   {
    "duration": 211,
    "start_time": "2022-06-25T13:11:24.652Z"
   },
   {
    "duration": 290,
    "start_time": "2022-06-25T13:11:24.865Z"
   },
   {
    "duration": 227,
    "start_time": "2022-06-25T13:11:25.157Z"
   },
   {
    "duration": 6,
    "start_time": "2022-06-25T13:11:25.386Z"
   },
   {
    "duration": 161,
    "start_time": "2022-06-25T13:11:25.394Z"
   },
   {
    "duration": 20,
    "start_time": "2022-06-25T13:11:25.556Z"
   },
   {
    "duration": 3,
    "start_time": "2022-06-25T13:11:25.578Z"
   },
   {
    "duration": 409,
    "start_time": "2022-06-25T13:11:25.583Z"
   },
   {
    "duration": 0,
    "start_time": "2022-06-25T13:11:25.994Z"
   },
   {
    "duration": 1310,
    "start_time": "2022-06-25T13:13:17.678Z"
   },
   {
    "duration": 816,
    "start_time": "2022-06-25T13:13:18.991Z"
   },
   {
    "duration": 151,
    "start_time": "2022-06-25T13:13:19.809Z"
   },
   {
    "duration": 506,
    "start_time": "2022-06-25T13:13:19.962Z"
   },
   {
    "duration": 532,
    "start_time": "2022-06-25T13:13:20.471Z"
   },
   {
    "duration": 94,
    "start_time": "2022-06-25T13:13:21.004Z"
   },
   {
    "duration": 54,
    "start_time": "2022-06-25T13:13:21.099Z"
   },
   {
    "duration": 97,
    "start_time": "2022-06-25T13:13:21.155Z"
   },
   {
    "duration": 87,
    "start_time": "2022-06-25T13:13:21.253Z"
   },
   {
    "duration": 11,
    "start_time": "2022-06-25T13:13:21.341Z"
   },
   {
    "duration": 88,
    "start_time": "2022-06-25T13:13:21.354Z"
   },
   {
    "duration": 155,
    "start_time": "2022-06-25T13:13:21.443Z"
   },
   {
    "duration": 86,
    "start_time": "2022-06-25T13:13:21.600Z"
   },
   {
    "duration": 8,
    "start_time": "2022-06-25T13:13:21.690Z"
   },
   {
    "duration": 23,
    "start_time": "2022-06-25T13:13:21.700Z"
   },
   {
    "duration": 103,
    "start_time": "2022-06-25T13:13:21.724Z"
   },
   {
    "duration": 110,
    "start_time": "2022-06-25T13:13:21.829Z"
   },
   {
    "duration": 90,
    "start_time": "2022-06-25T13:13:21.941Z"
   },
   {
    "duration": 474,
    "start_time": "2022-06-25T13:13:22.033Z"
   },
   {
    "duration": 29,
    "start_time": "2022-06-25T13:13:22.509Z"
   },
   {
    "duration": 58,
    "start_time": "2022-06-25T13:13:22.540Z"
   },
   {
    "duration": 31,
    "start_time": "2022-06-25T13:13:22.600Z"
   },
   {
    "duration": 12,
    "start_time": "2022-06-25T13:13:22.634Z"
   },
   {
    "duration": 370,
    "start_time": "2022-06-25T13:13:22.648Z"
   },
   {
    "duration": 49,
    "start_time": "2022-06-25T13:13:23.020Z"
   },
   {
    "duration": 164,
    "start_time": "2022-06-25T13:13:23.071Z"
   },
   {
    "duration": 53,
    "start_time": "2022-06-25T13:13:23.236Z"
   },
   {
    "duration": 144,
    "start_time": "2022-06-25T13:13:23.291Z"
   },
   {
    "duration": 41,
    "start_time": "2022-06-25T13:13:23.436Z"
   },
   {
    "duration": 16,
    "start_time": "2022-06-25T13:13:23.478Z"
   },
   {
    "duration": 43,
    "start_time": "2022-06-25T13:13:23.495Z"
   },
   {
    "duration": 138,
    "start_time": "2022-06-25T13:13:23.539Z"
   },
   {
    "duration": 7,
    "start_time": "2022-06-25T13:13:23.679Z"
   },
   {
    "duration": 14,
    "start_time": "2022-06-25T13:13:23.688Z"
   },
   {
    "duration": 21,
    "start_time": "2022-06-25T13:13:23.703Z"
   },
   {
    "duration": 29,
    "start_time": "2022-06-25T13:13:23.725Z"
   },
   {
    "duration": 32,
    "start_time": "2022-06-25T13:13:23.755Z"
   },
   {
    "duration": 37,
    "start_time": "2022-06-25T13:13:23.789Z"
   },
   {
    "duration": 29,
    "start_time": "2022-06-25T13:13:23.827Z"
   },
   {
    "duration": 31,
    "start_time": "2022-06-25T13:13:23.858Z"
   },
   {
    "duration": 45,
    "start_time": "2022-06-25T13:13:23.893Z"
   },
   {
    "duration": 27,
    "start_time": "2022-06-25T13:13:23.940Z"
   },
   {
    "duration": 147,
    "start_time": "2022-06-25T13:13:23.969Z"
   },
   {
    "duration": 517,
    "start_time": "2022-06-25T13:13:24.118Z"
   },
   {
    "duration": 3,
    "start_time": "2022-06-25T13:13:24.637Z"
   },
   {
    "duration": 203,
    "start_time": "2022-06-25T13:13:24.642Z"
   },
   {
    "duration": 306,
    "start_time": "2022-06-25T13:13:24.846Z"
   },
   {
    "duration": 235,
    "start_time": "2022-06-25T13:13:25.153Z"
   },
   {
    "duration": 6,
    "start_time": "2022-06-25T13:13:25.390Z"
   },
   {
    "duration": 155,
    "start_time": "2022-06-25T13:13:25.397Z"
   },
   {
    "duration": 18,
    "start_time": "2022-06-25T13:13:25.554Z"
   },
   {
    "duration": 3,
    "start_time": "2022-06-25T13:13:25.573Z"
   },
   {
    "duration": 395,
    "start_time": "2022-06-25T13:13:25.577Z"
   },
   {
    "duration": 0,
    "start_time": "2022-06-25T13:13:25.974Z"
   },
   {
    "duration": 1718,
    "start_time": "2022-06-25T13:13:52.512Z"
   },
   {
    "duration": 121,
    "start_time": "2022-06-25T13:17:36.717Z"
   },
   {
    "duration": 122,
    "start_time": "2022-06-25T13:17:46.062Z"
   },
   {
    "duration": 4,
    "start_time": "2022-06-25T13:41:18.925Z"
   },
   {
    "duration": 762,
    "start_time": "2022-06-25T13:41:19.532Z"
   },
   {
    "duration": 131,
    "start_time": "2022-06-25T13:41:20.297Z"
   },
   {
    "duration": 396,
    "start_time": "2022-06-25T13:41:21.989Z"
   },
   {
    "duration": 444,
    "start_time": "2022-06-25T13:41:22.991Z"
   },
   {
    "duration": 95,
    "start_time": "2022-06-25T13:41:23.890Z"
   },
   {
    "duration": 39,
    "start_time": "2022-06-25T13:41:27.190Z"
   },
   {
    "duration": 94,
    "start_time": "2022-06-25T13:41:28.195Z"
   },
   {
    "duration": 59,
    "start_time": "2022-06-25T13:41:31.517Z"
   },
   {
    "duration": 11,
    "start_time": "2022-06-25T13:41:32.186Z"
   },
   {
    "duration": 78,
    "start_time": "2022-06-25T13:41:36.390Z"
   },
   {
    "duration": 163,
    "start_time": "2022-06-25T13:41:38.143Z"
   },
   {
    "duration": 77,
    "start_time": "2022-06-25T13:41:41.100Z"
   },
   {
    "duration": 82,
    "start_time": "2022-06-25T13:41:47.314Z"
   },
   {
    "duration": 78,
    "start_time": "2022-06-25T13:41:48.238Z"
   },
   {
    "duration": 80,
    "start_time": "2022-06-25T13:42:27.205Z"
   },
   {
    "duration": 77,
    "start_time": "2022-06-25T13:42:47.627Z"
   },
   {
    "duration": 1458,
    "start_time": "2022-06-25T13:43:18.644Z"
   },
   {
    "duration": 836,
    "start_time": "2022-06-25T13:43:20.104Z"
   },
   {
    "duration": 137,
    "start_time": "2022-06-25T13:43:20.941Z"
   },
   {
    "duration": 498,
    "start_time": "2022-06-25T13:43:21.080Z"
   },
   {
    "duration": 564,
    "start_time": "2022-06-25T13:43:21.580Z"
   },
   {
    "duration": 104,
    "start_time": "2022-06-25T13:43:22.146Z"
   },
   {
    "duration": 46,
    "start_time": "2022-06-25T13:43:22.252Z"
   },
   {
    "duration": 111,
    "start_time": "2022-06-25T13:43:22.300Z"
   },
   {
    "duration": 83,
    "start_time": "2022-06-25T13:43:22.413Z"
   },
   {
    "duration": 11,
    "start_time": "2022-06-25T13:43:22.499Z"
   },
   {
    "duration": 114,
    "start_time": "2022-06-25T13:43:22.524Z"
   },
   {
    "duration": 209,
    "start_time": "2022-06-25T13:43:22.641Z"
   },
   {
    "duration": 87,
    "start_time": "2022-06-25T13:43:22.852Z"
   },
   {
    "duration": 92,
    "start_time": "2022-06-25T13:43:22.940Z"
   },
   {
    "duration": 9,
    "start_time": "2022-06-25T13:43:23.034Z"
   },
   {
    "duration": 7,
    "start_time": "2022-06-25T13:43:23.045Z"
   },
   {
    "duration": 129,
    "start_time": "2022-06-25T13:43:23.054Z"
   },
   {
    "duration": 131,
    "start_time": "2022-06-25T13:43:23.185Z"
   },
   {
    "duration": 90,
    "start_time": "2022-06-25T13:43:23.318Z"
   },
   {
    "duration": 492,
    "start_time": "2022-06-25T13:43:23.422Z"
   },
   {
    "duration": 18,
    "start_time": "2022-06-25T13:43:23.916Z"
   },
   {
    "duration": 55,
    "start_time": "2022-06-25T13:43:23.935Z"
   },
   {
    "duration": 30,
    "start_time": "2022-06-25T13:43:23.993Z"
   },
   {
    "duration": 9,
    "start_time": "2022-06-25T13:43:24.025Z"
   },
   {
    "duration": 330,
    "start_time": "2022-06-25T13:43:24.035Z"
   },
   {
    "duration": 43,
    "start_time": "2022-06-25T13:43:24.367Z"
   },
   {
    "duration": 160,
    "start_time": "2022-06-25T13:43:24.411Z"
   },
   {
    "duration": 59,
    "start_time": "2022-06-25T13:43:24.574Z"
   },
   {
    "duration": 129,
    "start_time": "2022-06-25T13:43:24.635Z"
   },
   {
    "duration": 43,
    "start_time": "2022-06-25T13:43:24.766Z"
   },
   {
    "duration": 24,
    "start_time": "2022-06-25T13:43:24.810Z"
   },
   {
    "duration": 21,
    "start_time": "2022-06-25T13:43:24.836Z"
   },
   {
    "duration": 145,
    "start_time": "2022-06-25T13:43:24.860Z"
   },
   {
    "duration": 17,
    "start_time": "2022-06-25T13:43:25.007Z"
   },
   {
    "duration": 79,
    "start_time": "2022-06-25T13:43:25.026Z"
   },
   {
    "duration": 19,
    "start_time": "2022-06-25T13:43:25.107Z"
   },
   {
    "duration": 5,
    "start_time": "2022-06-25T13:43:25.127Z"
   },
   {
    "duration": 38,
    "start_time": "2022-06-25T13:43:25.133Z"
   },
   {
    "duration": 31,
    "start_time": "2022-06-25T13:43:25.173Z"
   },
   {
    "duration": 42,
    "start_time": "2022-06-25T13:43:25.205Z"
   },
   {
    "duration": 30,
    "start_time": "2022-06-25T13:43:25.249Z"
   },
   {
    "duration": 44,
    "start_time": "2022-06-25T13:43:25.280Z"
   },
   {
    "duration": 28,
    "start_time": "2022-06-25T13:43:25.325Z"
   },
   {
    "duration": 20,
    "start_time": "2022-06-25T13:43:25.355Z"
   },
   {
    "duration": 88,
    "start_time": "2022-06-25T13:43:25.377Z"
   },
   {
    "duration": 151,
    "start_time": "2022-06-25T13:43:25.466Z"
   },
   {
    "duration": 536,
    "start_time": "2022-06-25T13:43:25.619Z"
   },
   {
    "duration": 4,
    "start_time": "2022-06-25T13:43:26.156Z"
   },
   {
    "duration": 205,
    "start_time": "2022-06-25T13:43:26.161Z"
   },
   {
    "duration": 293,
    "start_time": "2022-06-25T13:43:26.368Z"
   },
   {
    "duration": 234,
    "start_time": "2022-06-25T13:43:26.663Z"
   },
   {
    "duration": 6,
    "start_time": "2022-06-25T13:43:26.898Z"
   },
   {
    "duration": 156,
    "start_time": "2022-06-25T13:43:26.906Z"
   },
   {
    "duration": 18,
    "start_time": "2022-06-25T13:43:27.064Z"
   },
   {
    "duration": 3,
    "start_time": "2022-06-25T13:43:27.083Z"
   },
   {
    "duration": 391,
    "start_time": "2022-06-25T13:43:27.087Z"
   },
   {
    "duration": 0,
    "start_time": "2022-06-25T13:43:27.479Z"
   },
   {
    "duration": 0,
    "start_time": "2022-06-25T13:43:27.481Z"
   },
   {
    "duration": 123,
    "start_time": "2022-06-25T13:43:40.830Z"
   },
   {
    "duration": 1405,
    "start_time": "2022-06-25T13:44:06.417Z"
   },
   {
    "duration": 853,
    "start_time": "2022-06-25T13:44:07.824Z"
   },
   {
    "duration": 144,
    "start_time": "2022-06-25T13:44:08.679Z"
   },
   {
    "duration": 540,
    "start_time": "2022-06-25T13:44:08.825Z"
   },
   {
    "duration": 596,
    "start_time": "2022-06-25T13:44:09.367Z"
   },
   {
    "duration": 107,
    "start_time": "2022-06-25T13:44:09.965Z"
   },
   {
    "duration": 68,
    "start_time": "2022-06-25T13:44:10.075Z"
   },
   {
    "duration": 117,
    "start_time": "2022-06-25T13:44:10.147Z"
   },
   {
    "duration": 102,
    "start_time": "2022-06-25T13:44:10.266Z"
   },
   {
    "duration": 11,
    "start_time": "2022-06-25T13:44:10.372Z"
   },
   {
    "duration": 86,
    "start_time": "2022-06-25T13:44:10.384Z"
   },
   {
    "duration": 190,
    "start_time": "2022-06-25T13:44:10.472Z"
   },
   {
    "duration": 93,
    "start_time": "2022-06-25T13:44:10.664Z"
   },
   {
    "duration": 113,
    "start_time": "2022-06-25T13:44:10.758Z"
   },
   {
    "duration": 8,
    "start_time": "2022-06-25T13:44:10.873Z"
   },
   {
    "duration": 8,
    "start_time": "2022-06-25T13:44:10.882Z"
   },
   {
    "duration": 108,
    "start_time": "2022-06-25T13:44:10.891Z"
   },
   {
    "duration": 114,
    "start_time": "2022-06-25T13:44:11.000Z"
   },
   {
    "duration": 83,
    "start_time": "2022-06-25T13:44:11.116Z"
   },
   {
    "duration": 479,
    "start_time": "2022-06-25T13:44:11.201Z"
   },
   {
    "duration": 16,
    "start_time": "2022-06-25T13:44:11.682Z"
   },
   {
    "duration": 57,
    "start_time": "2022-06-25T13:44:11.700Z"
   },
   {
    "duration": 12,
    "start_time": "2022-06-25T13:44:11.758Z"
   },
   {
    "duration": 10,
    "start_time": "2022-06-25T13:44:11.772Z"
   },
   {
    "duration": 354,
    "start_time": "2022-06-25T13:44:11.783Z"
   },
   {
    "duration": 47,
    "start_time": "2022-06-25T13:44:12.139Z"
   },
   {
    "duration": 168,
    "start_time": "2022-06-25T13:44:12.187Z"
   },
   {
    "duration": 50,
    "start_time": "2022-06-25T13:44:12.359Z"
   },
   {
    "duration": 142,
    "start_time": "2022-06-25T13:44:12.411Z"
   },
   {
    "duration": 48,
    "start_time": "2022-06-25T13:44:12.555Z"
   },
   {
    "duration": 31,
    "start_time": "2022-06-25T13:44:12.605Z"
   },
   {
    "duration": 30,
    "start_time": "2022-06-25T13:44:12.638Z"
   },
   {
    "duration": 175,
    "start_time": "2022-06-25T13:44:12.669Z"
   },
   {
    "duration": 9,
    "start_time": "2022-06-25T13:44:12.845Z"
   },
   {
    "duration": 77,
    "start_time": "2022-06-25T13:44:12.855Z"
   },
   {
    "duration": 16,
    "start_time": "2022-06-25T13:44:12.934Z"
   },
   {
    "duration": 6,
    "start_time": "2022-06-25T13:44:12.952Z"
   },
   {
    "duration": 31,
    "start_time": "2022-06-25T13:44:12.959Z"
   },
   {
    "duration": 52,
    "start_time": "2022-06-25T13:44:12.992Z"
   },
   {
    "duration": 25,
    "start_time": "2022-06-25T13:44:13.047Z"
   },
   {
    "duration": 49,
    "start_time": "2022-06-25T13:44:13.074Z"
   },
   {
    "duration": 30,
    "start_time": "2022-06-25T13:44:13.125Z"
   },
   {
    "duration": 30,
    "start_time": "2022-06-25T13:44:13.156Z"
   },
   {
    "duration": 39,
    "start_time": "2022-06-25T13:44:13.188Z"
   },
   {
    "duration": 72,
    "start_time": "2022-06-25T13:44:13.229Z"
   },
   {
    "duration": 154,
    "start_time": "2022-06-25T13:44:13.303Z"
   },
   {
    "duration": 493,
    "start_time": "2022-06-25T13:44:13.458Z"
   },
   {
    "duration": 4,
    "start_time": "2022-06-25T13:44:13.953Z"
   },
   {
    "duration": 133,
    "start_time": "2022-06-25T13:44:13.958Z"
   },
   {
    "duration": 203,
    "start_time": "2022-06-25T13:44:14.093Z"
   },
   {
    "duration": 296,
    "start_time": "2022-06-25T13:44:14.298Z"
   },
   {
    "duration": 231,
    "start_time": "2022-06-25T13:44:14.596Z"
   },
   {
    "duration": 5,
    "start_time": "2022-06-25T13:44:14.829Z"
   },
   {
    "duration": 161,
    "start_time": "2022-06-25T13:44:14.835Z"
   },
   {
    "duration": 26,
    "start_time": "2022-06-25T13:44:14.997Z"
   },
   {
    "duration": 3,
    "start_time": "2022-06-25T13:44:15.025Z"
   },
   {
    "duration": 404,
    "start_time": "2022-06-25T13:44:15.029Z"
   },
   {
    "duration": 0,
    "start_time": "2022-06-25T13:44:15.434Z"
   },
   {
    "duration": 0,
    "start_time": "2022-06-25T13:44:15.435Z"
   },
   {
    "duration": 10,
    "start_time": "2022-06-25T13:45:12.857Z"
   },
   {
    "duration": 56,
    "start_time": "2022-06-25T13:45:21.414Z"
   },
   {
    "duration": 55,
    "start_time": "2022-06-25T13:48:08.290Z"
   },
   {
    "duration": 49,
    "start_time": "2022-06-25T13:48:17.359Z"
   },
   {
    "duration": 9,
    "start_time": "2022-06-25T13:48:28.707Z"
   },
   {
    "duration": 20,
    "start_time": "2022-06-25T13:49:58.330Z"
   },
   {
    "duration": 1428,
    "start_time": "2022-06-25T13:50:06.987Z"
   },
   {
    "duration": 839,
    "start_time": "2022-06-25T13:50:08.417Z"
   },
   {
    "duration": 148,
    "start_time": "2022-06-25T13:50:09.257Z"
   },
   {
    "duration": 489,
    "start_time": "2022-06-25T13:50:09.406Z"
   },
   {
    "duration": 564,
    "start_time": "2022-06-25T13:50:09.897Z"
   },
   {
    "duration": 101,
    "start_time": "2022-06-25T13:50:10.463Z"
   },
   {
    "duration": 79,
    "start_time": "2022-06-25T13:50:10.565Z"
   },
   {
    "duration": 131,
    "start_time": "2022-06-25T13:50:10.646Z"
   },
   {
    "duration": 86,
    "start_time": "2022-06-25T13:50:10.778Z"
   },
   {
    "duration": 11,
    "start_time": "2022-06-25T13:50:10.866Z"
   },
   {
    "duration": 97,
    "start_time": "2022-06-25T13:50:10.878Z"
   },
   {
    "duration": 164,
    "start_time": "2022-06-25T13:50:10.976Z"
   },
   {
    "duration": 84,
    "start_time": "2022-06-25T13:50:11.142Z"
   },
   {
    "duration": 78,
    "start_time": "2022-06-25T13:50:11.229Z"
   },
   {
    "duration": 20,
    "start_time": "2022-06-25T13:50:11.309Z"
   },
   {
    "duration": 6,
    "start_time": "2022-06-25T13:50:11.331Z"
   },
   {
    "duration": 110,
    "start_time": "2022-06-25T13:50:11.338Z"
   },
   {
    "duration": 117,
    "start_time": "2022-06-25T13:50:11.449Z"
   },
   {
    "duration": 78,
    "start_time": "2022-06-25T13:50:11.567Z"
   },
   {
    "duration": 487,
    "start_time": "2022-06-25T13:50:11.647Z"
   },
   {
    "duration": 17,
    "start_time": "2022-06-25T13:50:12.136Z"
   },
   {
    "duration": 45,
    "start_time": "2022-06-25T13:50:12.154Z"
   },
   {
    "duration": 27,
    "start_time": "2022-06-25T13:50:12.201Z"
   },
   {
    "duration": 10,
    "start_time": "2022-06-25T13:50:12.230Z"
   },
   {
    "duration": 360,
    "start_time": "2022-06-25T13:50:12.242Z"
   },
   {
    "duration": 69,
    "start_time": "2022-06-25T13:50:12.604Z"
   },
   {
    "duration": 179,
    "start_time": "2022-06-25T13:50:12.676Z"
   },
   {
    "duration": 50,
    "start_time": "2022-06-25T13:50:12.857Z"
   },
   {
    "duration": 143,
    "start_time": "2022-06-25T13:50:12.909Z"
   },
   {
    "duration": 41,
    "start_time": "2022-06-25T13:50:13.054Z"
   },
   {
    "duration": 29,
    "start_time": "2022-06-25T13:50:13.097Z"
   },
   {
    "duration": 23,
    "start_time": "2022-06-25T13:50:13.128Z"
   },
   {
    "duration": 150,
    "start_time": "2022-06-25T13:50:13.153Z"
   },
   {
    "duration": 9,
    "start_time": "2022-06-25T13:50:13.304Z"
   },
   {
    "duration": 74,
    "start_time": "2022-06-25T13:50:13.314Z"
   },
   {
    "duration": 89,
    "start_time": "2022-06-25T13:50:13.389Z"
   },
   {
    "duration": 820,
    "start_time": "2022-06-25T13:50:13.480Z"
   },
   {
    "duration": 0,
    "start_time": "2022-06-25T13:50:14.302Z"
   },
   {
    "duration": 0,
    "start_time": "2022-06-25T13:50:14.303Z"
   },
   {
    "duration": 0,
    "start_time": "2022-06-25T13:50:14.304Z"
   },
   {
    "duration": 0,
    "start_time": "2022-06-25T13:50:14.305Z"
   },
   {
    "duration": 0,
    "start_time": "2022-06-25T13:50:14.306Z"
   },
   {
    "duration": 0,
    "start_time": "2022-06-25T13:50:14.307Z"
   },
   {
    "duration": 0,
    "start_time": "2022-06-25T13:50:14.308Z"
   },
   {
    "duration": 0,
    "start_time": "2022-06-25T13:50:14.308Z"
   },
   {
    "duration": 0,
    "start_time": "2022-06-25T13:50:14.309Z"
   },
   {
    "duration": 0,
    "start_time": "2022-06-25T13:50:14.311Z"
   },
   {
    "duration": 0,
    "start_time": "2022-06-25T13:50:14.312Z"
   },
   {
    "duration": 0,
    "start_time": "2022-06-25T13:50:14.313Z"
   },
   {
    "duration": 0,
    "start_time": "2022-06-25T13:50:14.314Z"
   },
   {
    "duration": 1,
    "start_time": "2022-06-25T13:50:14.314Z"
   },
   {
    "duration": 0,
    "start_time": "2022-06-25T13:50:14.315Z"
   },
   {
    "duration": 0,
    "start_time": "2022-06-25T13:50:14.316Z"
   },
   {
    "duration": 0,
    "start_time": "2022-06-25T13:50:14.317Z"
   },
   {
    "duration": 0,
    "start_time": "2022-06-25T13:50:14.318Z"
   },
   {
    "duration": 0,
    "start_time": "2022-06-25T13:50:14.319Z"
   },
   {
    "duration": 0,
    "start_time": "2022-06-25T13:50:14.320Z"
   },
   {
    "duration": 0,
    "start_time": "2022-06-25T13:50:14.321Z"
   },
   {
    "duration": 0,
    "start_time": "2022-06-25T13:50:14.322Z"
   },
   {
    "duration": 0,
    "start_time": "2022-06-25T13:50:14.323Z"
   },
   {
    "duration": 0,
    "start_time": "2022-06-25T13:50:14.324Z"
   },
   {
    "duration": 6,
    "start_time": "2022-06-25T13:50:36.428Z"
   },
   {
    "duration": 15,
    "start_time": "2022-06-25T13:50:47.419Z"
   },
   {
    "duration": 4,
    "start_time": "2022-06-25T13:50:56.188Z"
   },
   {
    "duration": 17,
    "start_time": "2022-06-25T13:51:05.135Z"
   },
   {
    "duration": 4,
    "start_time": "2022-06-25T13:51:13.288Z"
   },
   {
    "duration": 15,
    "start_time": "2022-06-25T13:52:02.958Z"
   },
   {
    "duration": 5,
    "start_time": "2022-06-25T13:52:17.589Z"
   },
   {
    "duration": 16,
    "start_time": "2022-06-25T13:52:26.490Z"
   },
   {
    "duration": 5,
    "start_time": "2022-06-25T13:52:35.654Z"
   },
   {
    "duration": 6,
    "start_time": "2022-06-25T13:56:34.491Z"
   },
   {
    "duration": 84,
    "start_time": "2022-06-25T13:57:09.852Z"
   },
   {
    "duration": 1523,
    "start_time": "2022-06-25T13:57:18.998Z"
   },
   {
    "duration": 858,
    "start_time": "2022-06-25T13:57:20.524Z"
   },
   {
    "duration": 144,
    "start_time": "2022-06-25T13:57:21.384Z"
   },
   {
    "duration": 503,
    "start_time": "2022-06-25T13:57:21.530Z"
   },
   {
    "duration": 577,
    "start_time": "2022-06-25T13:57:22.035Z"
   },
   {
    "duration": 120,
    "start_time": "2022-06-25T13:57:22.614Z"
   },
   {
    "duration": 65,
    "start_time": "2022-06-25T13:57:22.736Z"
   },
   {
    "duration": 119,
    "start_time": "2022-06-25T13:57:22.804Z"
   },
   {
    "duration": 80,
    "start_time": "2022-06-25T13:57:22.925Z"
   },
   {
    "duration": 24,
    "start_time": "2022-06-25T13:57:23.007Z"
   },
   {
    "duration": 96,
    "start_time": "2022-06-25T13:57:23.033Z"
   },
   {
    "duration": 177,
    "start_time": "2022-06-25T13:57:23.131Z"
   },
   {
    "duration": 88,
    "start_time": "2022-06-25T13:57:23.310Z"
   },
   {
    "duration": 7,
    "start_time": "2022-06-25T13:57:23.400Z"
   },
   {
    "duration": 19,
    "start_time": "2022-06-25T13:57:23.409Z"
   },
   {
    "duration": 111,
    "start_time": "2022-06-25T13:57:23.430Z"
   },
   {
    "duration": 123,
    "start_time": "2022-06-25T13:57:23.543Z"
   },
   {
    "duration": 118,
    "start_time": "2022-06-25T13:57:23.668Z"
   },
   {
    "duration": 523,
    "start_time": "2022-06-25T13:57:23.788Z"
   },
   {
    "duration": 26,
    "start_time": "2022-06-25T13:57:24.313Z"
   },
   {
    "duration": 58,
    "start_time": "2022-06-25T13:57:24.341Z"
   },
   {
    "duration": 26,
    "start_time": "2022-06-25T13:57:24.401Z"
   },
   {
    "duration": 10,
    "start_time": "2022-06-25T13:57:24.428Z"
   },
   {
    "duration": 360,
    "start_time": "2022-06-25T13:57:24.439Z"
   },
   {
    "duration": 58,
    "start_time": "2022-06-25T13:57:24.800Z"
   },
   {
    "duration": 194,
    "start_time": "2022-06-25T13:57:24.860Z"
   },
   {
    "duration": 53,
    "start_time": "2022-06-25T13:57:25.055Z"
   },
   {
    "duration": 151,
    "start_time": "2022-06-25T13:57:25.122Z"
   },
   {
    "duration": 51,
    "start_time": "2022-06-25T13:57:25.275Z"
   },
   {
    "duration": 17,
    "start_time": "2022-06-25T13:57:25.328Z"
   },
   {
    "duration": 24,
    "start_time": "2022-06-25T13:57:25.347Z"
   },
   {
    "duration": 164,
    "start_time": "2022-06-25T13:57:25.372Z"
   },
   {
    "duration": 6,
    "start_time": "2022-06-25T13:57:25.538Z"
   },
   {
    "duration": 6,
    "start_time": "2022-06-25T13:57:25.546Z"
   },
   {
    "duration": 96,
    "start_time": "2022-06-25T13:57:25.554Z"
   },
   {
    "duration": 20,
    "start_time": "2022-06-25T13:57:25.652Z"
   },
   {
    "duration": 6,
    "start_time": "2022-06-25T13:57:25.674Z"
   },
   {
    "duration": 55,
    "start_time": "2022-06-25T13:57:25.682Z"
   },
   {
    "duration": 34,
    "start_time": "2022-06-25T13:57:25.739Z"
   },
   {
    "duration": 31,
    "start_time": "2022-06-25T13:57:25.775Z"
   },
   {
    "duration": 59,
    "start_time": "2022-06-25T13:57:25.808Z"
   },
   {
    "duration": 59,
    "start_time": "2022-06-25T13:57:25.869Z"
   },
   {
    "duration": 34,
    "start_time": "2022-06-25T13:57:25.931Z"
   },
   {
    "duration": 25,
    "start_time": "2022-06-25T13:57:25.967Z"
   },
   {
    "duration": 90,
    "start_time": "2022-06-25T13:57:25.994Z"
   },
   {
    "duration": 187,
    "start_time": "2022-06-25T13:57:26.086Z"
   },
   {
    "duration": 615,
    "start_time": "2022-06-25T13:57:26.275Z"
   },
   {
    "duration": 4,
    "start_time": "2022-06-25T13:57:26.892Z"
   },
   {
    "duration": 128,
    "start_time": "2022-06-25T13:57:26.897Z"
   },
   {
    "duration": 210,
    "start_time": "2022-06-25T13:57:27.027Z"
   },
   {
    "duration": 303,
    "start_time": "2022-06-25T13:57:27.239Z"
   },
   {
    "duration": 243,
    "start_time": "2022-06-25T13:57:27.544Z"
   },
   {
    "duration": 6,
    "start_time": "2022-06-25T13:57:27.789Z"
   },
   {
    "duration": 164,
    "start_time": "2022-06-25T13:57:27.796Z"
   },
   {
    "duration": 23,
    "start_time": "2022-06-25T13:57:27.962Z"
   },
   {
    "duration": 3,
    "start_time": "2022-06-25T13:57:27.990Z"
   },
   {
    "duration": 413,
    "start_time": "2022-06-25T13:57:27.995Z"
   },
   {
    "duration": 0,
    "start_time": "2022-06-25T13:57:28.411Z"
   },
   {
    "duration": 0,
    "start_time": "2022-06-25T13:57:28.414Z"
   },
   {
    "duration": 411,
    "start_time": "2022-06-25T13:57:51.550Z"
   },
   {
    "duration": 136,
    "start_time": "2022-06-25T13:57:52.534Z"
   },
   {
    "duration": 15,
    "start_time": "2022-06-25T13:58:08.321Z"
   },
   {
    "duration": 6,
    "start_time": "2022-06-25T13:58:13.732Z"
   },
   {
    "duration": 721,
    "start_time": "2022-06-25T13:58:15.741Z"
   },
   {
    "duration": 741,
    "start_time": "2022-06-25T13:58:26.090Z"
   },
   {
    "duration": 20,
    "start_time": "2022-06-25T13:58:49.163Z"
   },
   {
    "duration": 1467,
    "start_time": "2022-06-25T13:58:55.562Z"
   },
   {
    "duration": 849,
    "start_time": "2022-06-25T13:58:57.031Z"
   },
   {
    "duration": 164,
    "start_time": "2022-06-25T13:58:57.881Z"
   },
   {
    "duration": 558,
    "start_time": "2022-06-25T13:58:58.047Z"
   },
   {
    "duration": 580,
    "start_time": "2022-06-25T13:58:58.607Z"
   },
   {
    "duration": 112,
    "start_time": "2022-06-25T13:58:59.188Z"
   },
   {
    "duration": 56,
    "start_time": "2022-06-25T13:58:59.302Z"
   },
   {
    "duration": 100,
    "start_time": "2022-06-25T13:58:59.360Z"
   },
   {
    "duration": 85,
    "start_time": "2022-06-25T13:58:59.462Z"
   },
   {
    "duration": 11,
    "start_time": "2022-06-25T13:58:59.550Z"
   },
   {
    "duration": 108,
    "start_time": "2022-06-25T13:58:59.563Z"
   },
   {
    "duration": 184,
    "start_time": "2022-06-25T13:58:59.673Z"
   },
   {
    "duration": 105,
    "start_time": "2022-06-25T13:58:59.859Z"
   },
   {
    "duration": 11,
    "start_time": "2022-06-25T13:58:59.965Z"
   },
   {
    "duration": 19,
    "start_time": "2022-06-25T13:58:59.978Z"
   },
   {
    "duration": 139,
    "start_time": "2022-06-25T13:58:59.999Z"
   },
   {
    "duration": 119,
    "start_time": "2022-06-25T13:59:00.140Z"
   },
   {
    "duration": 90,
    "start_time": "2022-06-25T13:59:00.261Z"
   },
   {
    "duration": 513,
    "start_time": "2022-06-25T13:59:00.352Z"
   },
   {
    "duration": 17,
    "start_time": "2022-06-25T13:59:00.867Z"
   },
   {
    "duration": 62,
    "start_time": "2022-06-25T13:59:00.886Z"
   },
   {
    "duration": 11,
    "start_time": "2022-06-25T13:59:00.950Z"
   },
   {
    "duration": 23,
    "start_time": "2022-06-25T13:59:00.963Z"
   },
   {
    "duration": 355,
    "start_time": "2022-06-25T13:59:00.988Z"
   },
   {
    "duration": 81,
    "start_time": "2022-06-25T13:59:01.345Z"
   },
   {
    "duration": 162,
    "start_time": "2022-06-25T13:59:01.433Z"
   },
   {
    "duration": 70,
    "start_time": "2022-06-25T13:59:01.597Z"
   },
   {
    "duration": 140,
    "start_time": "2022-06-25T13:59:01.671Z"
   },
   {
    "duration": 54,
    "start_time": "2022-06-25T13:59:01.813Z"
   },
   {
    "duration": 17,
    "start_time": "2022-06-25T13:59:01.869Z"
   },
   {
    "duration": 50,
    "start_time": "2022-06-25T13:59:01.887Z"
   },
   {
    "duration": 144,
    "start_time": "2022-06-25T13:59:01.940Z"
   },
   {
    "duration": 4,
    "start_time": "2022-06-25T13:59:02.086Z"
   },
   {
    "duration": 117,
    "start_time": "2022-06-25T13:59:02.092Z"
   },
   {
    "duration": 85,
    "start_time": "2022-06-25T13:59:02.211Z"
   },
   {
    "duration": 99,
    "start_time": "2022-06-25T13:59:02.297Z"
   },
   {
    "duration": 40,
    "start_time": "2022-06-25T13:59:02.398Z"
   },
   {
    "duration": 6,
    "start_time": "2022-06-25T13:59:02.440Z"
   },
   {
    "duration": 53,
    "start_time": "2022-06-25T13:59:02.448Z"
   },
   {
    "duration": 49,
    "start_time": "2022-06-25T13:59:02.503Z"
   },
   {
    "duration": 64,
    "start_time": "2022-06-25T13:59:02.555Z"
   },
   {
    "duration": 79,
    "start_time": "2022-06-25T13:59:02.621Z"
   },
   {
    "duration": 72,
    "start_time": "2022-06-25T13:59:02.702Z"
   },
   {
    "duration": 67,
    "start_time": "2022-06-25T13:59:02.776Z"
   },
   {
    "duration": 24,
    "start_time": "2022-06-25T13:59:02.848Z"
   },
   {
    "duration": 86,
    "start_time": "2022-06-25T13:59:02.875Z"
   },
   {
    "duration": 179,
    "start_time": "2022-06-25T13:59:02.963Z"
   },
   {
    "duration": 653,
    "start_time": "2022-06-25T13:59:03.144Z"
   },
   {
    "duration": 4,
    "start_time": "2022-06-25T13:59:03.799Z"
   },
   {
    "duration": 136,
    "start_time": "2022-06-25T13:59:03.805Z"
   },
   {
    "duration": 204,
    "start_time": "2022-06-25T13:59:03.943Z"
   },
   {
    "duration": 322,
    "start_time": "2022-06-25T13:59:04.149Z"
   },
   {
    "duration": 237,
    "start_time": "2022-06-25T13:59:04.473Z"
   },
   {
    "duration": 6,
    "start_time": "2022-06-25T13:59:04.711Z"
   },
   {
    "duration": 158,
    "start_time": "2022-06-25T13:59:04.723Z"
   },
   {
    "duration": 21,
    "start_time": "2022-06-25T13:59:04.883Z"
   },
   {
    "duration": 3,
    "start_time": "2022-06-25T13:59:04.906Z"
   },
   {
    "duration": 38101,
    "start_time": "2022-06-25T13:59:04.931Z"
   },
   {
    "duration": 0,
    "start_time": "2022-06-25T13:59:43.040Z"
   },
   {
    "duration": 0,
    "start_time": "2022-06-25T13:59:43.041Z"
   },
   {
    "duration": 3,
    "start_time": "2022-06-25T14:00:15.448Z"
   },
   {
    "duration": 41885,
    "start_time": "2022-06-25T14:00:16.651Z"
   },
   {
    "duration": 22343,
    "start_time": "2022-06-25T14:03:38.112Z"
   },
   {
    "duration": 1972,
    "start_time": "2022-06-25T17:39:09.675Z"
   },
   {
    "duration": 1432,
    "start_time": "2022-06-25T17:39:11.649Z"
   },
   {
    "duration": 145,
    "start_time": "2022-06-25T17:39:13.083Z"
   },
   {
    "duration": 586,
    "start_time": "2022-06-25T17:39:13.230Z"
   },
   {
    "duration": 632,
    "start_time": "2022-06-25T17:39:13.819Z"
   },
   {
    "duration": 148,
    "start_time": "2022-06-25T17:39:14.454Z"
   },
   {
    "duration": 61,
    "start_time": "2022-06-25T17:39:14.605Z"
   },
   {
    "duration": 140,
    "start_time": "2022-06-25T17:39:14.668Z"
   },
   {
    "duration": 97,
    "start_time": "2022-06-25T17:39:14.810Z"
   },
   {
    "duration": 14,
    "start_time": "2022-06-25T17:39:14.910Z"
   },
   {
    "duration": 156,
    "start_time": "2022-06-25T17:39:14.926Z"
   },
   {
    "duration": 200,
    "start_time": "2022-06-25T17:39:15.084Z"
   },
   {
    "duration": 94,
    "start_time": "2022-06-25T17:39:15.286Z"
   },
   {
    "duration": 13,
    "start_time": "2022-06-25T17:39:15.385Z"
   },
   {
    "duration": 6,
    "start_time": "2022-06-25T17:39:15.400Z"
   },
   {
    "duration": 152,
    "start_time": "2022-06-25T17:39:15.407Z"
   },
   {
    "duration": 141,
    "start_time": "2022-06-25T17:39:15.561Z"
   },
   {
    "duration": 96,
    "start_time": "2022-06-25T17:39:15.704Z"
   },
   {
    "duration": 621,
    "start_time": "2022-06-25T17:39:15.803Z"
   },
   {
    "duration": 30,
    "start_time": "2022-06-25T17:39:16.426Z"
   },
   {
    "duration": 55,
    "start_time": "2022-06-25T17:39:16.459Z"
   },
   {
    "duration": 15,
    "start_time": "2022-06-25T17:39:16.516Z"
   },
   {
    "duration": 14,
    "start_time": "2022-06-25T17:39:16.552Z"
   },
   {
    "duration": 438,
    "start_time": "2022-06-25T17:39:16.568Z"
   },
   {
    "duration": 77,
    "start_time": "2022-06-25T17:39:17.008Z"
   },
   {
    "duration": 216,
    "start_time": "2022-06-25T17:39:17.087Z"
   },
   {
    "duration": 79,
    "start_time": "2022-06-25T17:39:17.306Z"
   },
   {
    "duration": 170,
    "start_time": "2022-06-25T17:39:17.388Z"
   },
   {
    "duration": 48,
    "start_time": "2022-06-25T17:39:17.560Z"
   },
   {
    "duration": 39,
    "start_time": "2022-06-25T17:39:17.612Z"
   },
   {
    "duration": 36,
    "start_time": "2022-06-25T17:39:17.653Z"
   },
   {
    "duration": 228,
    "start_time": "2022-06-25T17:39:17.691Z"
   },
   {
    "duration": 7,
    "start_time": "2022-06-25T17:39:17.921Z"
   },
   {
    "duration": 140,
    "start_time": "2022-06-25T17:39:17.930Z"
   },
   {
    "duration": 86,
    "start_time": "2022-06-25T17:39:18.073Z"
   },
   {
    "duration": 98,
    "start_time": "2022-06-25T17:39:18.162Z"
   },
   {
    "duration": 27,
    "start_time": "2022-06-25T17:39:18.263Z"
   },
   {
    "duration": 9,
    "start_time": "2022-06-25T17:39:18.292Z"
   },
   {
    "duration": 77,
    "start_time": "2022-06-25T17:39:18.303Z"
   },
   {
    "duration": 47,
    "start_time": "2022-06-25T17:39:18.383Z"
   },
   {
    "duration": 39,
    "start_time": "2022-06-25T17:39:18.452Z"
   },
   {
    "duration": 36,
    "start_time": "2022-06-25T17:39:18.493Z"
   },
   {
    "duration": 53,
    "start_time": "2022-06-25T17:39:18.551Z"
   },
   {
    "duration": 50,
    "start_time": "2022-06-25T17:39:18.606Z"
   },
   {
    "duration": 40,
    "start_time": "2022-06-25T17:39:18.658Z"
   },
   {
    "duration": 86,
    "start_time": "2022-06-25T17:39:18.699Z"
   },
   {
    "duration": 265,
    "start_time": "2022-06-25T17:39:18.788Z"
   },
   {
    "duration": 839,
    "start_time": "2022-06-25T17:39:19.056Z"
   },
   {
    "duration": 5,
    "start_time": "2022-06-25T17:39:19.897Z"
   },
   {
    "duration": 180,
    "start_time": "2022-06-25T17:39:19.905Z"
   },
   {
    "duration": 244,
    "start_time": "2022-06-25T17:39:20.087Z"
   },
   {
    "duration": 406,
    "start_time": "2022-06-25T17:39:20.333Z"
   },
   {
    "duration": 296,
    "start_time": "2022-06-25T17:39:20.741Z"
   },
   {
    "duration": 13,
    "start_time": "2022-06-25T17:39:21.040Z"
   },
   {
    "duration": 198,
    "start_time": "2022-06-25T17:39:21.055Z"
   },
   {
    "duration": 28,
    "start_time": "2022-06-25T17:39:21.256Z"
   },
   {
    "duration": 4,
    "start_time": "2022-06-25T17:39:21.287Z"
   },
   {
    "duration": 26279,
    "start_time": "2022-06-25T17:39:21.292Z"
   },
   {
    "duration": 32051,
    "start_time": "2022-06-25T17:39:47.573Z"
   },
   {
    "duration": 28176,
    "start_time": "2022-06-25T17:40:52.696Z"
   },
   {
    "duration": 209,
    "start_time": "2022-06-25T18:38:48.915Z"
   },
   {
    "duration": 1775,
    "start_time": "2022-06-25T19:33:57.318Z"
   },
   {
    "duration": 1379,
    "start_time": "2022-06-25T19:33:59.096Z"
   },
   {
    "duration": 153,
    "start_time": "2022-06-25T19:34:00.477Z"
   },
   {
    "duration": 611,
    "start_time": "2022-06-25T19:34:00.632Z"
   },
   {
    "duration": 630,
    "start_time": "2022-06-25T19:34:01.246Z"
   },
   {
    "duration": 117,
    "start_time": "2022-06-25T19:34:01.878Z"
   },
   {
    "duration": 66,
    "start_time": "2022-06-25T19:34:01.998Z"
   },
   {
    "duration": 107,
    "start_time": "2022-06-25T19:34:02.066Z"
   },
   {
    "duration": 95,
    "start_time": "2022-06-25T19:34:02.174Z"
   },
   {
    "duration": 19,
    "start_time": "2022-06-25T19:34:02.273Z"
   },
   {
    "duration": 118,
    "start_time": "2022-06-25T19:34:02.295Z"
   },
   {
    "duration": 177,
    "start_time": "2022-06-25T19:34:02.415Z"
   },
   {
    "duration": 90,
    "start_time": "2022-06-25T19:34:02.594Z"
   },
   {
    "duration": 9,
    "start_time": "2022-06-25T19:34:02.686Z"
   },
   {
    "duration": 6,
    "start_time": "2022-06-25T19:34:02.697Z"
   },
   {
    "duration": 134,
    "start_time": "2022-06-25T19:34:02.705Z"
   },
   {
    "duration": 135,
    "start_time": "2022-06-25T19:34:02.841Z"
   },
   {
    "duration": 88,
    "start_time": "2022-06-25T19:34:02.978Z"
   },
   {
    "duration": 558,
    "start_time": "2022-06-25T19:34:03.070Z"
   },
   {
    "duration": 26,
    "start_time": "2022-06-25T19:34:03.631Z"
   },
   {
    "duration": 52,
    "start_time": "2022-06-25T19:34:03.662Z"
   },
   {
    "duration": 12,
    "start_time": "2022-06-25T19:34:03.715Z"
   },
   {
    "duration": 40,
    "start_time": "2022-06-25T19:34:03.729Z"
   },
   {
    "duration": 385,
    "start_time": "2022-06-25T19:34:03.771Z"
   },
   {
    "duration": 51,
    "start_time": "2022-06-25T19:34:04.158Z"
   },
   {
    "duration": 197,
    "start_time": "2022-06-25T19:34:04.211Z"
   },
   {
    "duration": 82,
    "start_time": "2022-06-25T19:34:04.411Z"
   },
   {
    "duration": 183,
    "start_time": "2022-06-25T19:34:04.498Z"
   },
   {
    "duration": 77,
    "start_time": "2022-06-25T19:34:04.683Z"
   },
   {
    "duration": 24,
    "start_time": "2022-06-25T19:34:04.767Z"
   },
   {
    "duration": 45,
    "start_time": "2022-06-25T19:34:04.794Z"
   },
   {
    "duration": 188,
    "start_time": "2022-06-25T19:34:04.842Z"
   },
   {
    "duration": 5,
    "start_time": "2022-06-25T19:34:05.033Z"
   },
   {
    "duration": 120,
    "start_time": "2022-06-25T19:34:05.040Z"
   },
   {
    "duration": 78,
    "start_time": "2022-06-25T19:34:05.162Z"
   },
   {
    "duration": 97,
    "start_time": "2022-06-25T19:34:05.242Z"
   },
   {
    "duration": 27,
    "start_time": "2022-06-25T19:34:05.341Z"
   },
   {
    "duration": 6,
    "start_time": "2022-06-25T19:34:05.370Z"
   },
   {
    "duration": 38,
    "start_time": "2022-06-25T19:34:05.380Z"
   },
   {
    "duration": 56,
    "start_time": "2022-06-25T19:34:05.420Z"
   },
   {
    "duration": 28,
    "start_time": "2022-06-25T19:34:05.478Z"
   },
   {
    "duration": 60,
    "start_time": "2022-06-25T19:34:05.509Z"
   },
   {
    "duration": 36,
    "start_time": "2022-06-25T19:34:05.571Z"
   },
   {
    "duration": 45,
    "start_time": "2022-06-25T19:34:05.609Z"
   },
   {
    "duration": 21,
    "start_time": "2022-06-25T19:34:05.656Z"
   },
   {
    "duration": 87,
    "start_time": "2022-06-25T19:34:05.679Z"
   },
   {
    "duration": 180,
    "start_time": "2022-06-25T19:34:05.768Z"
   },
   {
    "duration": 668,
    "start_time": "2022-06-25T19:34:05.950Z"
   },
   {
    "duration": 5,
    "start_time": "2022-06-25T19:34:06.619Z"
   },
   {
    "duration": 158,
    "start_time": "2022-06-25T19:34:06.626Z"
   },
   {
    "duration": 219,
    "start_time": "2022-06-25T19:34:06.787Z"
   },
   {
    "duration": 340,
    "start_time": "2022-06-25T19:34:07.008Z"
   },
   {
    "duration": 303,
    "start_time": "2022-06-25T19:34:07.350Z"
   },
   {
    "duration": 8,
    "start_time": "2022-06-25T19:34:07.662Z"
   },
   {
    "duration": 174,
    "start_time": "2022-06-25T19:34:07.672Z"
   },
   {
    "duration": 29,
    "start_time": "2022-06-25T19:34:07.848Z"
   },
   {
    "duration": 7,
    "start_time": "2022-06-25T19:34:07.879Z"
   },
   {
    "duration": 42268,
    "start_time": "2022-06-25T19:34:07.888Z"
   },
   {
    "duration": 22127,
    "start_time": "2022-06-25T19:34:50.165Z"
   },
   {
    "duration": 1569,
    "start_time": "2022-06-25T19:36:45.380Z"
   },
   {
    "duration": 955,
    "start_time": "2022-06-25T19:36:46.958Z"
   },
   {
    "duration": 160,
    "start_time": "2022-06-25T19:36:47.918Z"
   },
   {
    "duration": 557,
    "start_time": "2022-06-25T19:36:48.080Z"
   },
   {
    "duration": 626,
    "start_time": "2022-06-25T19:36:48.638Z"
   },
   {
    "duration": 117,
    "start_time": "2022-06-25T19:36:49.266Z"
   },
   {
    "duration": 47,
    "start_time": "2022-06-25T19:36:49.385Z"
   },
   {
    "duration": 128,
    "start_time": "2022-06-25T19:36:49.434Z"
   },
   {
    "duration": 91,
    "start_time": "2022-06-25T19:36:49.566Z"
   },
   {
    "duration": 16,
    "start_time": "2022-06-25T19:36:49.659Z"
   },
   {
    "duration": 102,
    "start_time": "2022-06-25T19:36:49.678Z"
   },
   {
    "duration": 181,
    "start_time": "2022-06-25T19:36:49.782Z"
   },
   {
    "duration": 78,
    "start_time": "2022-06-25T19:36:49.965Z"
   },
   {
    "duration": 22,
    "start_time": "2022-06-25T19:36:50.045Z"
   },
   {
    "duration": 8,
    "start_time": "2022-06-25T19:36:50.069Z"
   },
   {
    "duration": 153,
    "start_time": "2022-06-25T19:36:50.079Z"
   },
   {
    "duration": 148,
    "start_time": "2022-06-25T19:36:50.234Z"
   },
   {
    "duration": 109,
    "start_time": "2022-06-25T19:36:50.384Z"
   },
   {
    "duration": 527,
    "start_time": "2022-06-25T19:36:50.495Z"
   },
   {
    "duration": 34,
    "start_time": "2022-06-25T19:36:51.024Z"
   },
   {
    "duration": 51,
    "start_time": "2022-06-25T19:36:51.060Z"
   },
   {
    "duration": 13,
    "start_time": "2022-06-25T19:36:51.113Z"
   },
   {
    "duration": 37,
    "start_time": "2022-06-25T19:36:51.128Z"
   },
   {
    "duration": 413,
    "start_time": "2022-06-25T19:36:51.168Z"
   },
   {
    "duration": 49,
    "start_time": "2022-06-25T19:36:51.583Z"
   },
   {
    "duration": 191,
    "start_time": "2022-06-25T19:36:51.634Z"
   },
   {
    "duration": 80,
    "start_time": "2022-06-25T19:36:51.830Z"
   },
   {
    "duration": 155,
    "start_time": "2022-06-25T19:36:51.912Z"
   },
   {
    "duration": 46,
    "start_time": "2022-06-25T19:36:52.070Z"
   },
   {
    "duration": 46,
    "start_time": "2022-06-25T19:36:52.118Z"
   },
   {
    "duration": 30,
    "start_time": "2022-06-25T19:36:52.165Z"
   },
   {
    "duration": 168,
    "start_time": "2022-06-25T19:36:52.197Z"
   },
   {
    "duration": 6,
    "start_time": "2022-06-25T19:36:52.367Z"
   },
   {
    "duration": 102,
    "start_time": "2022-06-25T19:36:52.374Z"
   },
   {
    "duration": 86,
    "start_time": "2022-06-25T19:36:52.478Z"
   },
   {
    "duration": 74,
    "start_time": "2022-06-25T19:36:52.566Z"
   },
   {
    "duration": 29,
    "start_time": "2022-06-25T19:36:52.642Z"
   },
   {
    "duration": 6,
    "start_time": "2022-06-25T19:36:52.672Z"
   },
   {
    "duration": 32,
    "start_time": "2022-06-25T19:36:52.679Z"
   },
   {
    "duration": 56,
    "start_time": "2022-06-25T19:36:52.713Z"
   },
   {
    "duration": 27,
    "start_time": "2022-06-25T19:36:52.771Z"
   },
   {
    "duration": 32,
    "start_time": "2022-06-25T19:36:52.800Z"
   },
   {
    "duration": 56,
    "start_time": "2022-06-25T19:36:52.834Z"
   },
   {
    "duration": 31,
    "start_time": "2022-06-25T19:36:52.891Z"
   },
   {
    "duration": 42,
    "start_time": "2022-06-25T19:36:52.924Z"
   },
   {
    "duration": 70,
    "start_time": "2022-06-25T19:36:52.968Z"
   },
   {
    "duration": 221,
    "start_time": "2022-06-25T19:36:53.041Z"
   },
   {
    "duration": 909,
    "start_time": "2022-06-25T19:36:53.265Z"
   },
   {
    "duration": 4,
    "start_time": "2022-06-25T19:36:54.176Z"
   },
   {
    "duration": 152,
    "start_time": "2022-06-25T19:36:54.181Z"
   },
   {
    "duration": 237,
    "start_time": "2022-06-25T19:36:54.335Z"
   },
   {
    "duration": 388,
    "start_time": "2022-06-25T19:36:54.575Z"
   },
   {
    "duration": 279,
    "start_time": "2022-06-25T19:36:54.965Z"
   },
   {
    "duration": 23,
    "start_time": "2022-06-25T19:36:55.245Z"
   },
   {
    "duration": 195,
    "start_time": "2022-06-25T19:36:55.274Z"
   },
   {
    "duration": 23,
    "start_time": "2022-06-25T19:36:55.471Z"
   },
   {
    "duration": 3,
    "start_time": "2022-06-25T19:36:55.496Z"
   },
   {
    "duration": 36341,
    "start_time": "2022-06-25T19:36:55.510Z"
   },
   {
    "duration": 25284,
    "start_time": "2022-06-25T19:37:31.853Z"
   },
   {
    "duration": 737503,
    "start_time": "2022-06-25T19:37:57.139Z"
   },
   {
    "duration": 15,
    "start_time": "2022-06-25T19:50:14.645Z"
   },
   {
    "duration": 0,
    "start_time": "2022-06-25T19:50:14.663Z"
   },
   {
    "duration": 0,
    "start_time": "2022-06-25T19:50:14.669Z"
   },
   {
    "duration": 773880,
    "start_time": "2022-06-25T19:50:19.687Z"
   },
   {
    "duration": 12,
    "start_time": "2022-06-25T20:03:13.931Z"
   },
   {
    "duration": 11,
    "start_time": "2022-06-25T20:03:19.263Z"
   },
   {
    "duration": 3,
    "start_time": "2022-06-25T20:04:08.296Z"
   },
   {
    "duration": 4,
    "start_time": "2022-06-25T20:04:12.362Z"
   },
   {
    "duration": 23,
    "start_time": "2022-06-25T20:04:13.640Z"
   },
   {
    "duration": 4,
    "start_time": "2022-06-25T20:04:51.205Z"
   },
   {
    "duration": 3,
    "start_time": "2022-06-25T20:05:06.279Z"
   },
   {
    "duration": 141006,
    "start_time": "2022-06-25T20:05:13.173Z"
   },
   {
    "duration": 300481,
    "start_time": "2022-06-25T20:07:57.411Z"
   },
   {
    "duration": 4,
    "start_time": "2022-06-25T20:21:47.362Z"
   },
   {
    "duration": 3,
    "start_time": "2022-06-25T20:21:48.329Z"
   },
   {
    "duration": 108805,
    "start_time": "2022-06-25T20:21:49.747Z"
   },
   {
    "duration": 3,
    "start_time": "2022-06-25T20:25:59.523Z"
   },
   {
    "duration": 1723,
    "start_time": "2022-06-25T20:27:29.773Z"
   },
   {
    "duration": 993,
    "start_time": "2022-06-25T20:27:31.498Z"
   },
   {
    "duration": 152,
    "start_time": "2022-06-25T20:27:32.493Z"
   },
   {
    "duration": 570,
    "start_time": "2022-06-25T20:27:32.647Z"
   },
   {
    "duration": 648,
    "start_time": "2022-06-25T20:27:33.219Z"
   },
   {
    "duration": 117,
    "start_time": "2022-06-25T20:27:33.869Z"
   },
   {
    "duration": 48,
    "start_time": "2022-06-25T20:27:33.988Z"
   },
   {
    "duration": 124,
    "start_time": "2022-06-25T20:27:34.038Z"
   },
   {
    "duration": 101,
    "start_time": "2022-06-25T20:27:34.169Z"
   },
   {
    "duration": 14,
    "start_time": "2022-06-25T20:27:34.273Z"
   },
   {
    "duration": 118,
    "start_time": "2022-06-25T20:27:34.289Z"
   },
   {
    "duration": 249,
    "start_time": "2022-06-25T20:27:34.412Z"
   },
   {
    "duration": 119,
    "start_time": "2022-06-25T20:27:34.668Z"
   },
   {
    "duration": 13,
    "start_time": "2022-06-25T20:27:34.790Z"
   },
   {
    "duration": 7,
    "start_time": "2022-06-25T20:27:34.806Z"
   },
   {
    "duration": 151,
    "start_time": "2022-06-25T20:27:34.816Z"
   },
   {
    "duration": 142,
    "start_time": "2022-06-25T20:27:34.969Z"
   },
   {
    "duration": 87,
    "start_time": "2022-06-25T20:27:35.114Z"
   },
   {
    "duration": 571,
    "start_time": "2022-06-25T20:27:35.203Z"
   },
   {
    "duration": 19,
    "start_time": "2022-06-25T20:27:35.775Z"
   },
   {
    "duration": 73,
    "start_time": "2022-06-25T20:27:35.796Z"
   },
   {
    "duration": 13,
    "start_time": "2022-06-25T20:27:35.871Z"
   },
   {
    "duration": 12,
    "start_time": "2022-06-25T20:27:35.886Z"
   },
   {
    "duration": 404,
    "start_time": "2022-06-25T20:27:35.900Z"
   },
   {
    "duration": 62,
    "start_time": "2022-06-25T20:27:36.306Z"
   },
   {
    "duration": 197,
    "start_time": "2022-06-25T20:27:36.371Z"
   },
   {
    "duration": 58,
    "start_time": "2022-06-25T20:27:36.570Z"
   },
   {
    "duration": 156,
    "start_time": "2022-06-25T20:27:36.633Z"
   },
   {
    "duration": 75,
    "start_time": "2022-06-25T20:27:36.791Z"
   },
   {
    "duration": 22,
    "start_time": "2022-06-25T20:27:36.868Z"
   },
   {
    "duration": 41,
    "start_time": "2022-06-25T20:27:36.892Z"
   },
   {
    "duration": 179,
    "start_time": "2022-06-25T20:27:36.935Z"
   },
   {
    "duration": 7,
    "start_time": "2022-06-25T20:27:37.116Z"
   },
   {
    "duration": 113,
    "start_time": "2022-06-25T20:27:37.125Z"
   },
   {
    "duration": 81,
    "start_time": "2022-06-25T20:27:37.240Z"
   },
   {
    "duration": 113,
    "start_time": "2022-06-25T20:27:37.322Z"
   },
   {
    "duration": 37,
    "start_time": "2022-06-25T20:27:37.438Z"
   },
   {
    "duration": 13,
    "start_time": "2022-06-25T20:27:37.478Z"
   },
   {
    "duration": 67,
    "start_time": "2022-06-25T20:27:37.494Z"
   },
   {
    "duration": 38,
    "start_time": "2022-06-25T20:27:37.569Z"
   },
   {
    "duration": 39,
    "start_time": "2022-06-25T20:27:37.609Z"
   },
   {
    "duration": 59,
    "start_time": "2022-06-25T20:27:37.652Z"
   },
   {
    "duration": 54,
    "start_time": "2022-06-25T20:27:37.714Z"
   },
   {
    "duration": 32,
    "start_time": "2022-06-25T20:27:37.771Z"
   },
   {
    "duration": 21,
    "start_time": "2022-06-25T20:27:37.805Z"
   },
   {
    "duration": 97,
    "start_time": "2022-06-25T20:27:37.829Z"
   },
   {
    "duration": 198,
    "start_time": "2022-06-25T20:27:37.928Z"
   },
   {
    "duration": 681,
    "start_time": "2022-06-25T20:27:38.128Z"
   },
   {
    "duration": 3,
    "start_time": "2022-06-25T20:27:38.811Z"
   },
   {
    "duration": 161,
    "start_time": "2022-06-25T20:27:38.816Z"
   },
   {
    "duration": 225,
    "start_time": "2022-06-25T20:27:38.979Z"
   },
   {
    "duration": 365,
    "start_time": "2022-06-25T20:27:39.206Z"
   },
   {
    "duration": 269,
    "start_time": "2022-06-25T20:27:39.572Z"
   },
   {
    "duration": 22,
    "start_time": "2022-06-25T20:27:39.843Z"
   },
   {
    "duration": 174,
    "start_time": "2022-06-25T20:27:39.867Z"
   },
   {
    "duration": 27,
    "start_time": "2022-06-25T20:27:40.043Z"
   },
   {
    "duration": 8,
    "start_time": "2022-06-25T20:27:40.073Z"
   },
   {
    "duration": 36184,
    "start_time": "2022-06-25T20:27:40.082Z"
   },
   {
    "duration": 26333,
    "start_time": "2022-06-25T20:28:16.271Z"
   },
   {
    "duration": 754880,
    "start_time": "2022-06-25T20:28:42.606Z"
   },
   {
    "duration": 3,
    "start_time": "2022-06-25T20:41:17.488Z"
   },
   {
    "duration": 1715,
    "start_time": "2022-06-25T20:42:11.077Z"
   },
   {
    "duration": 971,
    "start_time": "2022-06-25T20:42:12.794Z"
   },
   {
    "duration": 180,
    "start_time": "2022-06-25T20:42:14.510Z"
   },
   {
    "duration": 612,
    "start_time": "2022-06-25T20:42:17.569Z"
   },
   {
    "duration": 699,
    "start_time": "2022-06-25T20:42:18.748Z"
   },
   {
    "duration": 119,
    "start_time": "2022-06-25T20:42:20.997Z"
   },
   {
    "duration": 57,
    "start_time": "2022-06-25T20:42:22.631Z"
   },
   {
    "duration": 105,
    "start_time": "2022-06-25T20:42:23.602Z"
   },
   {
    "duration": 102,
    "start_time": "2022-06-25T20:42:26.919Z"
   },
   {
    "duration": 14,
    "start_time": "2022-06-25T20:42:28.529Z"
   },
   {
    "duration": 98,
    "start_time": "2022-06-25T20:42:31.306Z"
   },
   {
    "duration": 176,
    "start_time": "2022-06-25T20:42:32.665Z"
   },
   {
    "duration": 92,
    "start_time": "2022-06-25T20:42:33.517Z"
   },
   {
    "duration": 20,
    "start_time": "2022-06-25T20:42:35.536Z"
   },
   {
    "duration": 7,
    "start_time": "2022-06-25T20:42:36.240Z"
   },
   {
    "duration": 119,
    "start_time": "2022-06-25T20:42:37.644Z"
   },
   {
    "duration": 141,
    "start_time": "2022-06-25T20:42:40.983Z"
   },
   {
    "duration": 96,
    "start_time": "2022-06-25T20:42:43.272Z"
   },
   {
    "duration": 513,
    "start_time": "2022-06-25T20:42:50.712Z"
   },
   {
    "duration": 19,
    "start_time": "2022-06-25T20:42:53.492Z"
   },
   {
    "duration": 56,
    "start_time": "2022-06-25T20:42:55.067Z"
   },
   {
    "duration": 16,
    "start_time": "2022-06-25T20:42:55.746Z"
   },
   {
    "duration": 11,
    "start_time": "2022-06-25T20:42:56.634Z"
   },
   {
    "duration": 373,
    "start_time": "2022-06-25T20:42:57.353Z"
   },
   {
    "duration": 47,
    "start_time": "2022-06-25T20:43:02.700Z"
   },
   {
    "duration": 189,
    "start_time": "2022-06-25T20:43:03.540Z"
   },
   {
    "duration": 60,
    "start_time": "2022-06-25T20:43:07.288Z"
   },
   {
    "duration": 142,
    "start_time": "2022-06-25T20:43:08.695Z"
   },
   {
    "duration": 48,
    "start_time": "2022-06-25T20:43:11.899Z"
   },
   {
    "duration": 27,
    "start_time": "2022-06-25T20:43:12.936Z"
   },
   {
    "duration": 27,
    "start_time": "2022-06-25T20:43:15.500Z"
   },
   {
    "duration": 197,
    "start_time": "2022-06-25T20:43:17.521Z"
   },
   {
    "duration": 6,
    "start_time": "2022-06-25T20:43:18.131Z"
   },
   {
    "duration": 108,
    "start_time": "2022-06-25T20:43:18.871Z"
   },
   {
    "duration": 80,
    "start_time": "2022-06-25T20:43:19.592Z"
   },
   {
    "duration": 85,
    "start_time": "2022-06-25T20:43:20.300Z"
   },
   {
    "duration": 17,
    "start_time": "2022-06-25T20:43:21.015Z"
   },
   {
    "duration": 20,
    "start_time": "2022-06-25T20:43:24.551Z"
   },
   {
    "duration": 31,
    "start_time": "2022-06-25T20:43:25.608Z"
   },
   {
    "duration": 31,
    "start_time": "2022-06-25T20:43:26.184Z"
   },
   {
    "duration": 25,
    "start_time": "2022-06-25T20:43:28.418Z"
   },
   {
    "duration": 32,
    "start_time": "2022-06-25T20:43:28.963Z"
   },
   {
    "duration": 33,
    "start_time": "2022-06-25T20:43:29.598Z"
   },
   {
    "duration": 40,
    "start_time": "2022-06-25T20:43:30.163Z"
   },
   {
    "duration": 21,
    "start_time": "2022-06-25T20:43:31.663Z"
   },
   {
    "duration": 84,
    "start_time": "2022-06-25T20:43:32.239Z"
   },
   {
    "duration": 194,
    "start_time": "2022-06-25T20:43:32.914Z"
   },
   {
    "duration": 762,
    "start_time": "2022-06-25T20:43:34.473Z"
   },
   {
    "duration": 4,
    "start_time": "2022-06-25T20:43:38.696Z"
   },
   {
    "duration": 154,
    "start_time": "2022-06-25T20:43:40.014Z"
   },
   {
    "duration": 217,
    "start_time": "2022-06-25T20:43:41.285Z"
   },
   {
    "duration": 133,
    "start_time": "2022-06-25T20:43:50.958Z"
   },
   {
    "duration": 343,
    "start_time": "2022-06-25T20:43:51.763Z"
   },
   {
    "duration": 260,
    "start_time": "2022-06-25T20:43:52.860Z"
   },
   {
    "duration": 7,
    "start_time": "2022-06-25T20:43:53.758Z"
   },
   {
    "duration": 186,
    "start_time": "2022-06-25T20:43:56.216Z"
   },
   {
    "duration": 30,
    "start_time": "2022-06-25T20:43:57.134Z"
   },
   {
    "duration": 3,
    "start_time": "2022-06-25T20:44:00.389Z"
   },
   {
    "duration": 33647,
    "start_time": "2022-06-25T20:44:01.610Z"
   },
   {
    "duration": 4,
    "start_time": "2022-06-25T20:44:41.388Z"
   },
   {
    "duration": 41025,
    "start_time": "2022-06-25T20:44:42.529Z"
   },
   {
    "duration": 669,
    "start_time": "2022-06-25T20:55:05.033Z"
   },
   {
    "duration": 905,
    "start_time": "2022-06-25T20:55:28.895Z"
   },
   {
    "duration": 55966,
    "start_time": "2022-06-25T20:55:45.596Z"
   },
   {
    "duration": 1791,
    "start_time": "2022-06-25T20:57:57.390Z"
   },
   {
    "duration": 1025,
    "start_time": "2022-06-25T20:57:59.184Z"
   },
   {
    "duration": 187,
    "start_time": "2022-06-25T20:58:00.211Z"
   },
   {
    "duration": 662,
    "start_time": "2022-06-25T20:58:00.400Z"
   },
   {
    "duration": 727,
    "start_time": "2022-06-25T20:58:01.064Z"
   },
   {
    "duration": 124,
    "start_time": "2022-06-25T20:58:01.793Z"
   },
   {
    "duration": 59,
    "start_time": "2022-06-25T20:58:01.919Z"
   },
   {
    "duration": 106,
    "start_time": "2022-06-25T20:58:01.981Z"
   },
   {
    "duration": 106,
    "start_time": "2022-06-25T20:58:02.089Z"
   },
   {
    "duration": 12,
    "start_time": "2022-06-25T20:58:02.199Z"
   },
   {
    "duration": 100,
    "start_time": "2022-06-25T20:58:02.213Z"
   },
   {
    "duration": 196,
    "start_time": "2022-06-25T20:58:02.316Z"
   },
   {
    "duration": 98,
    "start_time": "2022-06-25T20:58:02.514Z"
   },
   {
    "duration": 13,
    "start_time": "2022-06-25T20:58:02.614Z"
   },
   {
    "duration": 17,
    "start_time": "2022-06-25T20:58:02.629Z"
   },
   {
    "duration": 133,
    "start_time": "2022-06-25T20:58:02.662Z"
   },
   {
    "duration": 143,
    "start_time": "2022-06-25T20:58:02.797Z"
   },
   {
    "duration": 92,
    "start_time": "2022-06-25T20:58:02.942Z"
   },
   {
    "duration": 577,
    "start_time": "2022-06-25T20:58:03.035Z"
   },
   {
    "duration": 19,
    "start_time": "2022-06-25T20:58:03.614Z"
   },
   {
    "duration": 68,
    "start_time": "2022-06-25T20:58:03.635Z"
   },
   {
    "duration": 13,
    "start_time": "2022-06-25T20:58:03.705Z"
   },
   {
    "duration": 11,
    "start_time": "2022-06-25T20:58:03.719Z"
   },
   {
    "duration": 428,
    "start_time": "2022-06-25T20:58:03.732Z"
   },
   {
    "duration": 48,
    "start_time": "2022-06-25T20:58:04.163Z"
   },
   {
    "duration": 195,
    "start_time": "2022-06-25T20:58:04.213Z"
   },
   {
    "duration": 84,
    "start_time": "2022-06-25T20:58:04.410Z"
   },
   {
    "duration": 191,
    "start_time": "2022-06-25T20:58:04.500Z"
   },
   {
    "duration": 70,
    "start_time": "2022-06-25T20:58:04.694Z"
   },
   {
    "duration": 19,
    "start_time": "2022-06-25T20:58:04.766Z"
   },
   {
    "duration": 27,
    "start_time": "2022-06-25T20:58:04.787Z"
   },
   {
    "duration": 193,
    "start_time": "2022-06-25T20:58:04.816Z"
   },
   {
    "duration": 6,
    "start_time": "2022-06-25T20:58:05.011Z"
   },
   {
    "duration": 114,
    "start_time": "2022-06-25T20:58:05.019Z"
   },
   {
    "duration": 85,
    "start_time": "2022-06-25T20:58:05.135Z"
   },
   {
    "duration": 90,
    "start_time": "2022-06-25T20:58:05.222Z"
   },
   {
    "duration": 16,
    "start_time": "2022-06-25T20:58:05.314Z"
   },
   {
    "duration": 5,
    "start_time": "2022-06-25T20:58:05.332Z"
   },
   {
    "duration": 33,
    "start_time": "2022-06-25T20:58:05.362Z"
   },
   {
    "duration": 33,
    "start_time": "2022-06-25T20:58:05.397Z"
   },
   {
    "duration": 63,
    "start_time": "2022-06-25T20:58:05.431Z"
   },
   {
    "duration": 32,
    "start_time": "2022-06-25T20:58:05.496Z"
   },
   {
    "duration": 47,
    "start_time": "2022-06-25T20:58:05.530Z"
   },
   {
    "duration": 31,
    "start_time": "2022-06-25T20:58:05.578Z"
   },
   {
    "duration": 23,
    "start_time": "2022-06-25T20:58:05.611Z"
   },
   {
    "duration": 91,
    "start_time": "2022-06-25T20:58:05.635Z"
   },
   {
    "duration": 198,
    "start_time": "2022-06-25T20:58:05.727Z"
   },
   {
    "duration": 765,
    "start_time": "2022-06-25T20:58:05.927Z"
   },
   {
    "duration": 4,
    "start_time": "2022-06-25T20:58:06.694Z"
   },
   {
    "duration": 231,
    "start_time": "2022-06-25T20:58:06.700Z"
   },
   {
    "duration": 349,
    "start_time": "2022-06-25T20:58:06.933Z"
   },
   {
    "duration": 297,
    "start_time": "2022-06-25T20:58:07.283Z"
   },
   {
    "duration": 6,
    "start_time": "2022-06-25T20:58:07.582Z"
   },
   {
    "duration": 194,
    "start_time": "2022-06-25T20:58:07.590Z"
   },
   {
    "duration": 22,
    "start_time": "2022-06-25T20:58:07.786Z"
   },
   {
    "duration": 3,
    "start_time": "2022-06-25T20:58:07.810Z"
   },
   {
    "duration": 37738,
    "start_time": "2022-06-25T20:58:07.815Z"
   },
   {
    "duration": 25588,
    "start_time": "2022-06-25T20:58:45.555Z"
   },
   {
    "duration": 1728,
    "start_time": "2022-06-26T05:05:17.008Z"
   },
   {
    "duration": 1270,
    "start_time": "2022-06-26T05:05:18.743Z"
   },
   {
    "duration": 151,
    "start_time": "2022-06-26T05:05:20.014Z"
   },
   {
    "duration": 535,
    "start_time": "2022-06-26T05:05:20.167Z"
   },
   {
    "duration": 776,
    "start_time": "2022-06-26T05:05:20.704Z"
   },
   {
    "duration": 110,
    "start_time": "2022-06-26T05:05:21.481Z"
   },
   {
    "duration": 40,
    "start_time": "2022-06-26T05:05:21.593Z"
   },
   {
    "duration": 126,
    "start_time": "2022-06-26T05:05:21.635Z"
   },
   {
    "duration": 78,
    "start_time": "2022-06-26T05:05:21.763Z"
   },
   {
    "duration": 30,
    "start_time": "2022-06-26T05:05:21.843Z"
   },
   {
    "duration": 99,
    "start_time": "2022-06-26T05:05:21.875Z"
   },
   {
    "duration": 176,
    "start_time": "2022-06-26T05:05:21.977Z"
   },
   {
    "duration": 89,
    "start_time": "2022-06-26T05:05:22.155Z"
   },
   {
    "duration": 20,
    "start_time": "2022-06-26T05:05:22.247Z"
   },
   {
    "duration": 17,
    "start_time": "2022-06-26T05:05:22.269Z"
   },
   {
    "duration": 116,
    "start_time": "2022-06-26T05:05:22.288Z"
   },
   {
    "duration": 121,
    "start_time": "2022-06-26T05:05:22.406Z"
   },
   {
    "duration": 90,
    "start_time": "2022-06-26T05:05:22.528Z"
   },
   {
    "duration": 609,
    "start_time": "2022-06-26T05:05:22.620Z"
   },
   {
    "duration": 16,
    "start_time": "2022-06-26T05:05:23.231Z"
   },
   {
    "duration": 50,
    "start_time": "2022-06-26T05:05:23.261Z"
   },
   {
    "duration": 10,
    "start_time": "2022-06-26T05:05:23.313Z"
   },
   {
    "duration": 10,
    "start_time": "2022-06-26T05:05:23.325Z"
   },
   {
    "duration": 359,
    "start_time": "2022-06-26T05:05:23.336Z"
   },
   {
    "duration": 45,
    "start_time": "2022-06-26T05:05:23.696Z"
   },
   {
    "duration": 183,
    "start_time": "2022-06-26T05:05:23.742Z"
   },
   {
    "duration": 65,
    "start_time": "2022-06-26T05:05:23.927Z"
   },
   {
    "duration": 138,
    "start_time": "2022-06-26T05:05:23.993Z"
   },
   {
    "duration": 52,
    "start_time": "2022-06-26T05:05:24.133Z"
   },
   {
    "duration": 16,
    "start_time": "2022-06-26T05:05:24.186Z"
   },
   {
    "duration": 22,
    "start_time": "2022-06-26T05:05:24.203Z"
   },
   {
    "duration": 166,
    "start_time": "2022-06-26T05:05:24.226Z"
   },
   {
    "duration": 5,
    "start_time": "2022-06-26T05:05:24.394Z"
   },
   {
    "duration": 116,
    "start_time": "2022-06-26T05:05:24.401Z"
   },
   {
    "duration": 82,
    "start_time": "2022-06-26T05:05:24.519Z"
   },
   {
    "duration": 102,
    "start_time": "2022-06-26T05:05:24.603Z"
   },
   {
    "duration": 14,
    "start_time": "2022-06-26T05:05:24.706Z"
   },
   {
    "duration": 5,
    "start_time": "2022-06-26T05:05:24.722Z"
   },
   {
    "duration": 78,
    "start_time": "2022-06-26T05:05:24.729Z"
   },
   {
    "duration": 34,
    "start_time": "2022-06-26T05:05:24.810Z"
   },
   {
    "duration": 26,
    "start_time": "2022-06-26T05:05:24.866Z"
   },
   {
    "duration": 31,
    "start_time": "2022-06-26T05:05:24.893Z"
   },
   {
    "duration": 59,
    "start_time": "2022-06-26T05:05:24.926Z"
   },
   {
    "duration": 37,
    "start_time": "2022-06-26T05:05:24.986Z"
   },
   {
    "duration": 35,
    "start_time": "2022-06-26T05:05:25.024Z"
   },
   {
    "duration": 86,
    "start_time": "2022-06-26T05:05:25.061Z"
   },
   {
    "duration": 181,
    "start_time": "2022-06-26T05:05:25.149Z"
   },
   {
    "duration": 658,
    "start_time": "2022-06-26T05:05:25.332Z"
   },
   {
    "duration": 3,
    "start_time": "2022-06-26T05:05:25.992Z"
   },
   {
    "duration": 216,
    "start_time": "2022-06-26T05:05:25.997Z"
   },
   {
    "duration": 313,
    "start_time": "2022-06-26T05:05:26.215Z"
   },
   {
    "duration": 263,
    "start_time": "2022-06-26T05:05:26.530Z"
   },
   {
    "duration": 6,
    "start_time": "2022-06-26T05:05:26.795Z"
   },
   {
    "duration": 187,
    "start_time": "2022-06-26T05:05:26.803Z"
   },
   {
    "duration": 21,
    "start_time": "2022-06-26T05:05:26.992Z"
   },
   {
    "duration": 3,
    "start_time": "2022-06-26T05:05:27.016Z"
   },
   {
    "duration": 27544,
    "start_time": "2022-06-26T05:05:27.021Z"
   },
   {
    "duration": 25335,
    "start_time": "2022-06-26T05:05:54.568Z"
   },
   {
    "duration": 130,
    "start_time": "2022-06-26T05:06:19.905Z"
   },
   {
    "duration": 0,
    "start_time": "2022-06-26T05:06:20.037Z"
   },
   {
    "duration": 0,
    "start_time": "2022-06-26T05:06:20.039Z"
   },
   {
    "duration": 0,
    "start_time": "2022-06-26T05:06:20.040Z"
   },
   {
    "duration": 0,
    "start_time": "2022-06-26T05:06:20.041Z"
   },
   {
    "duration": 0,
    "start_time": "2022-06-26T05:06:20.042Z"
   },
   {
    "duration": 0,
    "start_time": "2022-06-26T05:06:20.059Z"
   },
   {
    "duration": 0,
    "start_time": "2022-06-26T05:06:20.061Z"
   },
   {
    "duration": 0,
    "start_time": "2022-06-26T05:06:20.062Z"
   },
   {
    "duration": 3,
    "start_time": "2022-06-26T05:16:05.913Z"
   },
   {
    "duration": 404190,
    "start_time": "2022-06-26T05:16:08.068Z"
   },
   {
    "duration": 43604,
    "start_time": "2022-06-26T05:26:33.546Z"
   },
   {
    "duration": 43345,
    "start_time": "2022-06-26T05:27:38.622Z"
   },
   {
    "duration": 4,
    "start_time": "2022-06-26T05:32:38.124Z"
   },
   {
    "duration": 3,
    "start_time": "2022-06-26T05:32:39.113Z"
   },
   {
    "duration": 7158263,
    "start_time": "2022-06-26T05:32:41.504Z"
   },
   {
    "duration": 2,
    "start_time": "2022-06-26T07:32:23.977Z"
   },
   {
    "duration": 3,
    "start_time": "2022-06-26T07:33:25.377Z"
   },
   {
    "duration": 7093,
    "start_time": "2022-06-26T07:33:25.382Z"
   },
   {
    "duration": 3,
    "start_time": "2022-06-26T07:34:49.294Z"
   },
   {
    "duration": 27988,
    "start_time": "2022-06-26T07:34:50.297Z"
   },
   {
    "duration": 3,
    "start_time": "2022-06-26T07:39:32.827Z"
   },
   {
    "duration": 179990,
    "start_time": "2022-06-26T07:39:34.485Z"
   },
   {
    "duration": 60,
    "start_time": "2022-06-26T08:00:01.218Z"
   },
   {
    "duration": 12,
    "start_time": "2022-06-26T13:08:02.423Z"
   },
   {
    "duration": 87,
    "start_time": "2022-06-26T13:09:33.532Z"
   },
   {
    "duration": 1613,
    "start_time": "2022-06-26T13:10:37.043Z"
   },
   {
    "duration": 1063,
    "start_time": "2022-06-26T13:10:38.659Z"
   },
   {
    "duration": 145,
    "start_time": "2022-06-26T13:10:39.723Z"
   },
   {
    "duration": 466,
    "start_time": "2022-06-26T13:10:39.870Z"
   },
   {
    "duration": 502,
    "start_time": "2022-06-26T13:10:40.338Z"
   },
   {
    "duration": 127,
    "start_time": "2022-06-26T13:10:40.842Z"
   },
   {
    "duration": 37,
    "start_time": "2022-06-26T13:10:40.971Z"
   },
   {
    "duration": 99,
    "start_time": "2022-06-26T13:10:41.129Z"
   },
   {
    "duration": 74,
    "start_time": "2022-06-26T13:10:41.361Z"
   },
   {
    "duration": 15,
    "start_time": "2022-06-26T13:10:41.621Z"
   },
   {
    "duration": 84,
    "start_time": "2022-06-26T13:10:41.838Z"
   },
   {
    "duration": 149,
    "start_time": "2022-06-26T13:10:42.069Z"
   },
   {
    "duration": 78,
    "start_time": "2022-06-26T13:10:42.312Z"
   },
   {
    "duration": 8,
    "start_time": "2022-06-26T13:10:45.420Z"
   },
   {
    "duration": 5,
    "start_time": "2022-06-26T13:10:46.258Z"
   },
   {
    "duration": 86,
    "start_time": "2022-06-26T13:10:47.752Z"
   },
   {
    "duration": 105,
    "start_time": "2022-06-26T13:10:49.881Z"
   },
   {
    "duration": 83,
    "start_time": "2022-06-26T13:10:50.217Z"
   },
   {
    "duration": 567,
    "start_time": "2022-06-26T13:10:51.879Z"
   },
   {
    "duration": 18,
    "start_time": "2022-06-26T13:10:52.483Z"
   },
   {
    "duration": 49,
    "start_time": "2022-06-26T13:10:53.640Z"
   },
   {
    "duration": 10,
    "start_time": "2022-06-26T13:10:54.065Z"
   },
   {
    "duration": 11,
    "start_time": "2022-06-26T13:10:54.335Z"
   },
   {
    "duration": 412,
    "start_time": "2022-06-26T13:10:54.560Z"
   },
   {
    "duration": 50,
    "start_time": "2022-06-26T13:10:55.439Z"
   },
   {
    "duration": 183,
    "start_time": "2022-06-26T13:10:55.699Z"
   },
   {
    "duration": 50,
    "start_time": "2022-06-26T13:10:56.767Z"
   },
   {
    "duration": 152,
    "start_time": "2022-06-26T13:10:57.933Z"
   },
   {
    "duration": 40,
    "start_time": "2022-06-26T13:10:58.879Z"
   },
   {
    "duration": 17,
    "start_time": "2022-06-26T13:10:59.270Z"
   },
   {
    "duration": 21,
    "start_time": "2022-06-26T13:11:03.355Z"
   },
   {
    "duration": 136,
    "start_time": "2022-06-26T13:11:04.053Z"
   },
   {
    "duration": 6,
    "start_time": "2022-06-26T13:11:04.644Z"
   },
   {
    "duration": 99,
    "start_time": "2022-06-26T13:11:05.195Z"
   },
   {
    "duration": 74,
    "start_time": "2022-06-26T13:11:05.792Z"
   },
   {
    "duration": 77,
    "start_time": "2022-06-26T13:11:06.254Z"
   },
   {
    "duration": 14,
    "start_time": "2022-06-26T13:11:06.753Z"
   },
   {
    "duration": 31,
    "start_time": "2022-06-26T13:11:08.513Z"
   },
   {
    "duration": 31,
    "start_time": "2022-06-26T13:11:09.078Z"
   },
   {
    "duration": 24,
    "start_time": "2022-06-26T13:11:09.855Z"
   },
   {
    "duration": 31,
    "start_time": "2022-06-26T13:11:10.315Z"
   },
   {
    "duration": 32,
    "start_time": "2022-06-26T13:11:10.892Z"
   },
   {
    "duration": 44,
    "start_time": "2022-06-26T13:11:11.399Z"
   },
   {
    "duration": 20,
    "start_time": "2022-06-26T13:11:12.813Z"
   },
   {
    "duration": 6,
    "start_time": "2022-06-26T13:11:13.249Z"
   },
   {
    "duration": 140,
    "start_time": "2022-06-26T13:11:13.770Z"
   },
   {
    "duration": 549,
    "start_time": "2022-06-26T13:11:14.644Z"
   },
   {
    "duration": 3,
    "start_time": "2022-06-26T13:11:16.696Z"
   },
   {
    "duration": 199,
    "start_time": "2022-06-26T13:11:17.221Z"
   },
   {
    "duration": 279,
    "start_time": "2022-06-26T13:11:17.936Z"
   },
   {
    "duration": 224,
    "start_time": "2022-06-26T13:11:18.384Z"
   },
   {
    "duration": 6,
    "start_time": "2022-06-26T13:11:18.865Z"
   },
   {
    "duration": 147,
    "start_time": "2022-06-26T13:11:19.824Z"
   },
   {
    "duration": 20,
    "start_time": "2022-06-26T13:11:20.594Z"
   },
   {
    "duration": 4,
    "start_time": "2022-06-26T13:11:22.011Z"
   },
   {
    "duration": 3,
    "start_time": "2022-06-26T13:11:23.015Z"
   },
   {
    "duration": 23605,
    "start_time": "2022-06-26T13:11:23.940Z"
   },
   {
    "duration": 28,
    "start_time": "2022-06-26T13:14:03.936Z"
   },
   {
    "duration": 26693,
    "start_time": "2022-06-26T13:14:22.943Z"
   },
   {
    "duration": 21581,
    "start_time": "2022-06-26T13:23:03.254Z"
   },
   {
    "duration": 644,
    "start_time": "2022-06-26T13:25:44.357Z"
   },
   {
    "duration": 146,
    "start_time": "2022-06-26T13:27:25.394Z"
   },
   {
    "duration": 3,
    "start_time": "2022-06-26T13:27:27.125Z"
   },
   {
    "duration": 7636,
    "start_time": "2022-06-26T13:27:28.594Z"
   },
   {
    "duration": 44269,
    "start_time": "2022-06-26T13:32:40.025Z"
   },
   {
    "duration": 18097,
    "start_time": "2022-06-26T13:58:51.133Z"
   },
   {
    "duration": 264344,
    "start_time": "2022-06-26T13:59:31.683Z"
   },
   {
    "duration": 25,
    "start_time": "2022-06-26T14:03:56.029Z"
   },
   {
    "duration": 839890,
    "start_time": "2022-06-26T14:09:17.638Z"
   },
   {
    "duration": 1510,
    "start_time": "2022-06-26T14:32:12.712Z"
   },
   {
    "duration": 807,
    "start_time": "2022-06-26T14:32:14.224Z"
   },
   {
    "duration": 142,
    "start_time": "2022-06-26T14:32:15.033Z"
   },
   {
    "duration": 458,
    "start_time": "2022-06-26T14:32:15.177Z"
   },
   {
    "duration": 514,
    "start_time": "2022-06-26T14:32:15.637Z"
   },
   {
    "duration": 96,
    "start_time": "2022-06-26T14:32:16.153Z"
   },
   {
    "duration": 38,
    "start_time": "2022-06-26T14:32:16.251Z"
   },
   {
    "duration": 116,
    "start_time": "2022-06-26T14:32:16.290Z"
   },
   {
    "duration": 80,
    "start_time": "2022-06-26T14:32:16.408Z"
   },
   {
    "duration": 11,
    "start_time": "2022-06-26T14:32:16.491Z"
   },
   {
    "duration": 98,
    "start_time": "2022-06-26T14:32:16.503Z"
   },
   {
    "duration": 171,
    "start_time": "2022-06-26T14:32:16.602Z"
   },
   {
    "duration": 93,
    "start_time": "2022-06-26T14:32:16.775Z"
   },
   {
    "duration": 9,
    "start_time": "2022-06-26T14:32:16.870Z"
   },
   {
    "duration": 5,
    "start_time": "2022-06-26T14:32:16.881Z"
   },
   {
    "duration": 104,
    "start_time": "2022-06-26T14:32:16.888Z"
   },
   {
    "duration": 105,
    "start_time": "2022-06-26T14:32:16.994Z"
   },
   {
    "duration": 86,
    "start_time": "2022-06-26T14:32:17.101Z"
   },
   {
    "duration": 463,
    "start_time": "2022-06-26T14:32:17.188Z"
   },
   {
    "duration": 17,
    "start_time": "2022-06-26T14:32:17.653Z"
   },
   {
    "duration": 66,
    "start_time": "2022-06-26T14:32:17.672Z"
   },
   {
    "duration": 11,
    "start_time": "2022-06-26T14:32:17.740Z"
   },
   {
    "duration": 21,
    "start_time": "2022-06-26T14:32:17.753Z"
   },
   {
    "duration": 346,
    "start_time": "2022-06-26T14:32:17.776Z"
   },
   {
    "duration": 41,
    "start_time": "2022-06-26T14:32:18.126Z"
   },
   {
    "duration": 153,
    "start_time": "2022-06-26T14:32:18.169Z"
   },
   {
    "duration": 50,
    "start_time": "2022-06-26T14:32:18.327Z"
   },
   {
    "duration": 131,
    "start_time": "2022-06-26T14:32:18.380Z"
   },
   {
    "duration": 48,
    "start_time": "2022-06-26T14:32:18.513Z"
   },
   {
    "duration": 16,
    "start_time": "2022-06-26T14:32:18.563Z"
   },
   {
    "duration": 21,
    "start_time": "2022-06-26T14:32:18.580Z"
   },
   {
    "duration": 178,
    "start_time": "2022-06-26T14:32:18.603Z"
   },
   {
    "duration": 5,
    "start_time": "2022-06-26T14:32:18.783Z"
   },
   {
    "duration": 105,
    "start_time": "2022-06-26T14:32:18.789Z"
   },
   {
    "duration": 77,
    "start_time": "2022-06-26T14:32:18.896Z"
   },
   {
    "duration": 84,
    "start_time": "2022-06-26T14:32:18.975Z"
   },
   {
    "duration": 15,
    "start_time": "2022-06-26T14:32:19.061Z"
   },
   {
    "duration": 50,
    "start_time": "2022-06-26T14:32:19.077Z"
   },
   {
    "duration": 29,
    "start_time": "2022-06-26T14:32:19.129Z"
   },
   {
    "duration": 27,
    "start_time": "2022-06-26T14:32:19.160Z"
   },
   {
    "duration": 68,
    "start_time": "2022-06-26T14:32:19.189Z"
   },
   {
    "duration": 35,
    "start_time": "2022-06-26T14:32:19.259Z"
   },
   {
    "duration": 38,
    "start_time": "2022-06-26T14:32:19.296Z"
   },
   {
    "duration": 19,
    "start_time": "2022-06-26T14:32:19.336Z"
   },
   {
    "duration": 5,
    "start_time": "2022-06-26T14:32:19.357Z"
   },
   {
    "duration": 177,
    "start_time": "2022-06-26T14:32:19.364Z"
   },
   {
    "duration": 535,
    "start_time": "2022-06-26T14:32:19.543Z"
   },
   {
    "duration": 3,
    "start_time": "2022-06-26T14:32:20.080Z"
   },
   {
    "duration": 207,
    "start_time": "2022-06-26T14:32:20.085Z"
   },
   {
    "duration": 294,
    "start_time": "2022-06-26T14:32:20.294Z"
   },
   {
    "duration": 234,
    "start_time": "2022-06-26T14:32:20.589Z"
   },
   {
    "duration": 6,
    "start_time": "2022-06-26T14:32:20.827Z"
   },
   {
    "duration": 181,
    "start_time": "2022-06-26T14:32:20.835Z"
   },
   {
    "duration": 24,
    "start_time": "2022-06-26T14:32:21.018Z"
   },
   {
    "duration": 6,
    "start_time": "2022-06-26T14:32:21.045Z"
   },
   {
    "duration": 12,
    "start_time": "2022-06-26T14:32:21.053Z"
   },
   {
    "duration": 21768,
    "start_time": "2022-06-26T14:32:21.067Z"
   },
   {
    "duration": 810,
    "start_time": "2022-06-26T14:32:42.838Z"
   },
   {
    "duration": 267680,
    "start_time": "2022-06-26T14:53:56.341Z"
   },
   {
    "duration": 47,
    "start_time": "2022-06-26T14:58:24.026Z"
   },
   {
    "duration": 216319,
    "start_time": "2022-06-26T18:24:24.988Z"
   },
   {
    "duration": 1416,
    "start_time": "2022-06-26T18:28:16.580Z"
   },
   {
    "duration": 788,
    "start_time": "2022-06-26T18:28:17.998Z"
   },
   {
    "duration": 148,
    "start_time": "2022-06-26T18:28:18.788Z"
   },
   {
    "duration": 468,
    "start_time": "2022-06-26T18:28:18.938Z"
   },
   {
    "duration": 561,
    "start_time": "2022-06-26T18:28:19.409Z"
   },
   {
    "duration": 107,
    "start_time": "2022-06-26T18:28:19.972Z"
   },
   {
    "duration": 46,
    "start_time": "2022-06-26T18:28:20.081Z"
   },
   {
    "duration": 108,
    "start_time": "2022-06-26T18:28:20.129Z"
   },
   {
    "duration": 71,
    "start_time": "2022-06-26T18:28:20.239Z"
   },
   {
    "duration": 21,
    "start_time": "2022-06-26T18:28:20.312Z"
   },
   {
    "duration": 91,
    "start_time": "2022-06-26T18:28:20.335Z"
   },
   {
    "duration": 156,
    "start_time": "2022-06-26T18:28:20.428Z"
   },
   {
    "duration": 88,
    "start_time": "2022-06-26T18:28:20.586Z"
   },
   {
    "duration": 9,
    "start_time": "2022-06-26T18:28:20.678Z"
   },
   {
    "duration": 6,
    "start_time": "2022-06-26T18:28:20.689Z"
   },
   {
    "duration": 118,
    "start_time": "2022-06-26T18:28:20.697Z"
   },
   {
    "duration": 101,
    "start_time": "2022-06-26T18:28:20.817Z"
   },
   {
    "duration": 83,
    "start_time": "2022-06-26T18:28:20.927Z"
   },
   {
    "duration": 521,
    "start_time": "2022-06-26T18:28:21.011Z"
   },
   {
    "duration": 20,
    "start_time": "2022-06-26T18:28:21.534Z"
   },
   {
    "duration": 71,
    "start_time": "2022-06-26T18:28:21.556Z"
   },
   {
    "duration": 12,
    "start_time": "2022-06-26T18:28:21.630Z"
   },
   {
    "duration": 14,
    "start_time": "2022-06-26T18:28:21.645Z"
   },
   {
    "duration": 358,
    "start_time": "2022-06-26T18:28:21.661Z"
   },
   {
    "duration": 46,
    "start_time": "2022-06-26T18:28:22.027Z"
   },
   {
    "duration": 162,
    "start_time": "2022-06-26T18:28:22.074Z"
   },
   {
    "duration": 49,
    "start_time": "2022-06-26T18:28:22.238Z"
   },
   {
    "duration": 130,
    "start_time": "2022-06-26T18:28:22.289Z"
   },
   {
    "duration": 40,
    "start_time": "2022-06-26T18:28:22.427Z"
   },
   {
    "duration": 17,
    "start_time": "2022-06-26T18:28:22.468Z"
   },
   {
    "duration": 41,
    "start_time": "2022-06-26T18:28:22.487Z"
   },
   {
    "duration": 145,
    "start_time": "2022-06-26T18:28:22.530Z"
   },
   {
    "duration": 6,
    "start_time": "2022-06-26T18:28:22.676Z"
   },
   {
    "duration": 105,
    "start_time": "2022-06-26T18:28:22.683Z"
   },
   {
    "duration": 78,
    "start_time": "2022-06-26T18:28:22.790Z"
   },
   {
    "duration": 87,
    "start_time": "2022-06-26T18:28:22.869Z"
   },
   {
    "duration": 13,
    "start_time": "2022-06-26T18:28:22.957Z"
   },
   {
    "duration": 30,
    "start_time": "2022-06-26T18:28:22.972Z"
   },
   {
    "duration": 49,
    "start_time": "2022-06-26T18:28:23.004Z"
   },
   {
    "duration": 26,
    "start_time": "2022-06-26T18:28:23.055Z"
   },
   {
    "duration": 43,
    "start_time": "2022-06-26T18:28:23.085Z"
   },
   {
    "duration": 35,
    "start_time": "2022-06-26T18:28:23.130Z"
   },
   {
    "duration": 33,
    "start_time": "2022-06-26T18:28:23.167Z"
   },
   {
    "duration": 34,
    "start_time": "2022-06-26T18:28:23.201Z"
   },
   {
    "duration": 5,
    "start_time": "2022-06-26T18:28:23.237Z"
   },
   {
    "duration": 153,
    "start_time": "2022-06-26T18:28:23.243Z"
   },
   {
    "duration": 517,
    "start_time": "2022-06-26T18:28:23.398Z"
   },
   {
    "duration": 3,
    "start_time": "2022-06-26T18:28:23.916Z"
   },
   {
    "duration": 195,
    "start_time": "2022-06-26T18:28:23.926Z"
   },
   {
    "duration": 291,
    "start_time": "2022-06-26T18:28:24.123Z"
   },
   {
    "duration": 241,
    "start_time": "2022-06-26T18:28:24.416Z"
   },
   {
    "duration": 5,
    "start_time": "2022-06-26T18:28:24.659Z"
   },
   {
    "duration": 151,
    "start_time": "2022-06-26T18:28:24.666Z"
   },
   {
    "duration": 20,
    "start_time": "2022-06-26T18:28:24.819Z"
   },
   {
    "duration": 3,
    "start_time": "2022-06-26T18:28:24.841Z"
   },
   {
    "duration": 6,
    "start_time": "2022-06-26T18:28:24.846Z"
   },
   {
    "duration": 16181,
    "start_time": "2022-06-26T18:28:24.853Z"
   },
   {
    "duration": 700,
    "start_time": "2022-06-26T18:28:41.127Z"
   },
   {
    "duration": 90829,
    "start_time": "2022-06-26T18:28:41.828Z"
   },
   {
    "duration": 1419,
    "start_time": "2022-06-26T18:31:23.484Z"
   },
   {
    "duration": 766,
    "start_time": "2022-06-26T18:31:24.906Z"
   },
   {
    "duration": 137,
    "start_time": "2022-06-26T18:31:25.674Z"
   },
   {
    "duration": 457,
    "start_time": "2022-06-26T18:31:25.813Z"
   },
   {
    "duration": 494,
    "start_time": "2022-06-26T18:31:26.272Z"
   },
   {
    "duration": 94,
    "start_time": "2022-06-26T18:31:26.768Z"
   },
   {
    "duration": 35,
    "start_time": "2022-06-26T18:31:26.864Z"
   },
   {
    "duration": 113,
    "start_time": "2022-06-26T18:31:26.901Z"
   },
   {
    "duration": 73,
    "start_time": "2022-06-26T18:31:27.016Z"
   },
   {
    "duration": 11,
    "start_time": "2022-06-26T18:31:27.090Z"
   },
   {
    "duration": 92,
    "start_time": "2022-06-26T18:31:27.102Z"
   },
   {
    "duration": 151,
    "start_time": "2022-06-26T18:31:27.195Z"
   },
   {
    "duration": 84,
    "start_time": "2022-06-26T18:31:27.347Z"
   },
   {
    "duration": 8,
    "start_time": "2022-06-26T18:31:27.434Z"
   },
   {
    "duration": 26,
    "start_time": "2022-06-26T18:31:27.443Z"
   },
   {
    "duration": 98,
    "start_time": "2022-06-26T18:31:27.471Z"
   },
   {
    "duration": 106,
    "start_time": "2022-06-26T18:31:27.571Z"
   },
   {
    "duration": 81,
    "start_time": "2022-06-26T18:31:27.678Z"
   },
   {
    "duration": 477,
    "start_time": "2022-06-26T18:31:27.760Z"
   },
   {
    "duration": 16,
    "start_time": "2022-06-26T18:31:28.238Z"
   },
   {
    "duration": 56,
    "start_time": "2022-06-26T18:31:28.256Z"
   },
   {
    "duration": 16,
    "start_time": "2022-06-26T18:31:28.314Z"
   },
   {
    "duration": 14,
    "start_time": "2022-06-26T18:31:28.332Z"
   },
   {
    "duration": 322,
    "start_time": "2022-06-26T18:31:28.348Z"
   },
   {
    "duration": 43,
    "start_time": "2022-06-26T18:31:28.672Z"
   },
   {
    "duration": 148,
    "start_time": "2022-06-26T18:31:28.727Z"
   },
   {
    "duration": 54,
    "start_time": "2022-06-26T18:31:28.877Z"
   },
   {
    "duration": 134,
    "start_time": "2022-06-26T18:31:28.933Z"
   },
   {
    "duration": 39,
    "start_time": "2022-06-26T18:31:29.068Z"
   },
   {
    "duration": 29,
    "start_time": "2022-06-26T18:31:29.108Z"
   },
   {
    "duration": 21,
    "start_time": "2022-06-26T18:31:29.139Z"
   },
   {
    "duration": 135,
    "start_time": "2022-06-26T18:31:29.162Z"
   },
   {
    "duration": 4,
    "start_time": "2022-06-26T18:31:29.299Z"
   },
   {
    "duration": 106,
    "start_time": "2022-06-26T18:31:29.305Z"
   },
   {
    "duration": 73,
    "start_time": "2022-06-26T18:31:29.413Z"
   },
   {
    "duration": 105,
    "start_time": "2022-06-26T18:31:29.488Z"
   },
   {
    "duration": 25,
    "start_time": "2022-06-26T18:31:29.595Z"
   },
   {
    "duration": 44,
    "start_time": "2022-06-26T18:31:29.622Z"
   },
   {
    "duration": 39,
    "start_time": "2022-06-26T18:31:29.667Z"
   },
   {
    "duration": 38,
    "start_time": "2022-06-26T18:31:29.707Z"
   },
   {
    "duration": 29,
    "start_time": "2022-06-26T18:31:29.748Z"
   },
   {
    "duration": 46,
    "start_time": "2022-06-26T18:31:29.779Z"
   },
   {
    "duration": 55,
    "start_time": "2022-06-26T18:31:29.827Z"
   },
   {
    "duration": 26,
    "start_time": "2022-06-26T18:31:29.883Z"
   },
   {
    "duration": 6,
    "start_time": "2022-06-26T18:31:29.910Z"
   },
   {
    "duration": 172,
    "start_time": "2022-06-26T18:31:29.917Z"
   },
   {
    "duration": 482,
    "start_time": "2022-06-26T18:31:30.091Z"
   },
   {
    "duration": 4,
    "start_time": "2022-06-26T18:31:30.575Z"
   },
   {
    "duration": 210,
    "start_time": "2022-06-26T18:31:30.581Z"
   },
   {
    "duration": 289,
    "start_time": "2022-06-26T18:31:30.793Z"
   },
   {
    "duration": 219,
    "start_time": "2022-06-26T18:31:31.083Z"
   },
   {
    "duration": 5,
    "start_time": "2022-06-26T18:31:31.304Z"
   },
   {
    "duration": 169,
    "start_time": "2022-06-26T18:31:31.311Z"
   },
   {
    "duration": 24,
    "start_time": "2022-06-26T18:31:31.482Z"
   },
   {
    "duration": 19,
    "start_time": "2022-06-26T18:31:31.508Z"
   },
   {
    "duration": 4,
    "start_time": "2022-06-26T18:31:31.528Z"
   },
   {
    "duration": 15657,
    "start_time": "2022-06-26T18:31:31.534Z"
   },
   {
    "duration": 645,
    "start_time": "2022-06-26T18:31:47.193Z"
   },
   {
    "duration": 2503,
    "start_time": "2022-06-26T18:31:47.839Z"
   },
   {
    "duration": 1412,
    "start_time": "2022-06-26T18:32:51.030Z"
   },
   {
    "duration": 813,
    "start_time": "2022-06-26T18:32:52.444Z"
   },
   {
    "duration": 139,
    "start_time": "2022-06-26T18:32:53.258Z"
   },
   {
    "duration": 536,
    "start_time": "2022-06-26T18:32:53.399Z"
   },
   {
    "duration": 489,
    "start_time": "2022-06-26T18:32:53.937Z"
   },
   {
    "duration": 88,
    "start_time": "2022-06-26T18:32:54.428Z"
   },
   {
    "duration": 46,
    "start_time": "2022-06-26T18:32:54.517Z"
   },
   {
    "duration": 114,
    "start_time": "2022-06-26T18:32:54.565Z"
   },
   {
    "duration": 78,
    "start_time": "2022-06-26T18:32:54.680Z"
   },
   {
    "duration": 11,
    "start_time": "2022-06-26T18:32:54.760Z"
   },
   {
    "duration": 92,
    "start_time": "2022-06-26T18:32:54.773Z"
   },
   {
    "duration": 159,
    "start_time": "2022-06-26T18:32:54.867Z"
   },
   {
    "duration": 82,
    "start_time": "2022-06-26T18:32:55.028Z"
   },
   {
    "duration": 16,
    "start_time": "2022-06-26T18:32:55.111Z"
   },
   {
    "duration": 5,
    "start_time": "2022-06-26T18:32:55.129Z"
   },
   {
    "duration": 101,
    "start_time": "2022-06-26T18:32:55.136Z"
   },
   {
    "duration": 104,
    "start_time": "2022-06-26T18:32:55.239Z"
   },
   {
    "duration": 90,
    "start_time": "2022-06-26T18:32:55.345Z"
   },
   {
    "duration": 477,
    "start_time": "2022-06-26T18:32:55.436Z"
   },
   {
    "duration": 22,
    "start_time": "2022-06-26T18:32:55.914Z"
   },
   {
    "duration": 40,
    "start_time": "2022-06-26T18:32:55.938Z"
   },
   {
    "duration": 10,
    "start_time": "2022-06-26T18:32:55.980Z"
   },
   {
    "duration": 9,
    "start_time": "2022-06-26T18:32:55.991Z"
   },
   {
    "duration": 346,
    "start_time": "2022-06-26T18:32:56.002Z"
   },
   {
    "duration": 40,
    "start_time": "2022-06-26T18:32:56.350Z"
   },
   {
    "duration": 154,
    "start_time": "2022-06-26T18:32:56.392Z"
   },
   {
    "duration": 51,
    "start_time": "2022-06-26T18:32:56.548Z"
   },
   {
    "duration": 145,
    "start_time": "2022-06-26T18:32:56.603Z"
   },
   {
    "duration": 36,
    "start_time": "2022-06-26T18:32:56.750Z"
   },
   {
    "duration": 17,
    "start_time": "2022-06-26T18:32:56.788Z"
   },
   {
    "duration": 39,
    "start_time": "2022-06-26T18:32:56.806Z"
   },
   {
    "duration": 152,
    "start_time": "2022-06-26T18:32:56.847Z"
   },
   {
    "duration": 5,
    "start_time": "2022-06-26T18:32:57.001Z"
   },
   {
    "duration": 109,
    "start_time": "2022-06-26T18:32:57.007Z"
   },
   {
    "duration": 72,
    "start_time": "2022-06-26T18:32:57.118Z"
   },
   {
    "duration": 89,
    "start_time": "2022-06-26T18:32:57.192Z"
   },
   {
    "duration": 14,
    "start_time": "2022-06-26T18:32:57.283Z"
   },
   {
    "duration": 41,
    "start_time": "2022-06-26T18:32:57.298Z"
   },
   {
    "duration": 28,
    "start_time": "2022-06-26T18:32:57.341Z"
   },
   {
    "duration": 25,
    "start_time": "2022-06-26T18:32:57.370Z"
   },
   {
    "duration": 42,
    "start_time": "2022-06-26T18:32:57.397Z"
   },
   {
    "duration": 30,
    "start_time": "2022-06-26T18:32:57.440Z"
   },
   {
    "duration": 39,
    "start_time": "2022-06-26T18:32:57.472Z"
   },
   {
    "duration": 26,
    "start_time": "2022-06-26T18:32:57.512Z"
   },
   {
    "duration": 4,
    "start_time": "2022-06-26T18:32:57.540Z"
   },
   {
    "duration": 154,
    "start_time": "2022-06-26T18:32:57.546Z"
   },
   {
    "duration": 530,
    "start_time": "2022-06-26T18:32:57.702Z"
   },
   {
    "duration": 3,
    "start_time": "2022-06-26T18:32:58.234Z"
   },
   {
    "duration": 220,
    "start_time": "2022-06-26T18:32:58.239Z"
   },
   {
    "duration": 295,
    "start_time": "2022-06-26T18:32:58.461Z"
   },
   {
    "duration": 241,
    "start_time": "2022-06-26T18:32:58.759Z"
   },
   {
    "duration": 6,
    "start_time": "2022-06-26T18:32:59.002Z"
   },
   {
    "duration": 156,
    "start_time": "2022-06-26T18:32:59.010Z"
   },
   {
    "duration": 19,
    "start_time": "2022-06-26T18:32:59.168Z"
   },
   {
    "duration": 5,
    "start_time": "2022-06-26T18:32:59.189Z"
   },
   {
    "duration": 31,
    "start_time": "2022-06-26T18:32:59.195Z"
   },
   {
    "duration": 15809,
    "start_time": "2022-06-26T18:32:59.227Z"
   },
   {
    "duration": 828,
    "start_time": "2022-06-26T18:33:15.038Z"
   },
   {
    "duration": 2765,
    "start_time": "2022-06-26T18:33:15.868Z"
   },
   {
    "duration": 13515,
    "start_time": "2022-06-26T18:33:18.635Z"
   },
   {
    "duration": 7718,
    "start_time": "2022-06-26T18:34:16.720Z"
   },
   {
    "duration": 70,
    "start_time": "2022-06-27T11:47:51.214Z"
   },
   {
    "duration": 1832,
    "start_time": "2022-06-27T11:48:01.303Z"
   },
   {
    "duration": 1333,
    "start_time": "2022-06-27T11:48:03.203Z"
   },
   {
    "duration": 156,
    "start_time": "2022-06-27T11:48:04.538Z"
   },
   {
    "duration": 560,
    "start_time": "2022-06-27T11:48:04.696Z"
   },
   {
    "duration": 654,
    "start_time": "2022-06-27T11:48:05.765Z"
   },
   {
    "duration": 103,
    "start_time": "2022-06-27T11:48:07.011Z"
   },
   {
    "duration": 52,
    "start_time": "2022-06-27T11:48:18.947Z"
   },
   {
    "duration": 100,
    "start_time": "2022-06-27T11:48:19.862Z"
   },
   {
    "duration": 86,
    "start_time": "2022-06-27T11:48:22.673Z"
   },
   {
    "duration": 17,
    "start_time": "2022-06-27T11:48:23.556Z"
   },
   {
    "duration": 85,
    "start_time": "2022-06-27T11:48:36.917Z"
   },
   {
    "duration": 171,
    "start_time": "2022-06-27T11:48:49.092Z"
   },
   {
    "duration": 83,
    "start_time": "2022-06-27T11:48:49.680Z"
   },
   {
    "duration": 9,
    "start_time": "2022-06-27T11:48:53.078Z"
   },
   {
    "duration": 6,
    "start_time": "2022-06-27T11:48:53.808Z"
   },
   {
    "duration": 95,
    "start_time": "2022-06-27T11:48:55.411Z"
   },
   {
    "duration": 112,
    "start_time": "2022-06-27T11:49:00.183Z"
   },
   {
    "duration": 82,
    "start_time": "2022-06-27T11:49:01.555Z"
   },
   {
    "duration": 516,
    "start_time": "2022-06-27T11:49:04.346Z"
   },
   {
    "duration": 17,
    "start_time": "2022-06-27T11:49:05.348Z"
   },
   {
    "duration": 45,
    "start_time": "2022-06-27T11:49:11.079Z"
   },
   {
    "duration": 12,
    "start_time": "2022-06-27T11:49:11.640Z"
   },
   {
    "duration": 10,
    "start_time": "2022-06-27T11:49:12.255Z"
   },
   {
    "duration": 416,
    "start_time": "2022-06-27T11:49:22.442Z"
   },
   {
    "duration": 42,
    "start_time": "2022-06-27T11:49:29.311Z"
   },
   {
    "duration": 157,
    "start_time": "2022-06-27T11:49:30.931Z"
   },
   {
    "duration": 50,
    "start_time": "2022-06-27T11:49:36.395Z"
   },
   {
    "duration": 138,
    "start_time": "2022-06-27T11:49:38.622Z"
   },
   {
    "duration": 14,
    "start_time": "2022-06-27T11:49:42.144Z"
   },
   {
    "duration": 20,
    "start_time": "2022-06-27T11:49:59.996Z"
   },
   {
    "duration": 21,
    "start_time": "2022-06-27T11:50:14.628Z"
   },
   {
    "duration": 137,
    "start_time": "2022-06-27T11:56:46.368Z"
   },
   {
    "duration": 1510,
    "start_time": "2022-06-27T11:56:55.386Z"
   },
   {
    "duration": 810,
    "start_time": "2022-06-27T11:56:56.898Z"
   },
   {
    "duration": 131,
    "start_time": "2022-06-27T11:56:57.710Z"
   },
   {
    "duration": 513,
    "start_time": "2022-06-27T11:56:57.843Z"
   },
   {
    "duration": 537,
    "start_time": "2022-06-27T11:56:58.358Z"
   },
   {
    "duration": 109,
    "start_time": "2022-06-27T11:56:58.897Z"
   },
   {
    "duration": 45,
    "start_time": "2022-06-27T11:56:59.008Z"
   },
   {
    "duration": 108,
    "start_time": "2022-06-27T11:56:59.055Z"
   },
   {
    "duration": 90,
    "start_time": "2022-06-27T11:56:59.164Z"
   },
   {
    "duration": 18,
    "start_time": "2022-06-27T11:56:59.256Z"
   },
   {
    "duration": 127,
    "start_time": "2022-06-27T11:56:59.276Z"
   },
   {
    "duration": 171,
    "start_time": "2022-06-27T11:56:59.405Z"
   },
   {
    "duration": 89,
    "start_time": "2022-06-27T11:56:59.578Z"
   },
   {
    "duration": 8,
    "start_time": "2022-06-27T11:56:59.670Z"
   },
   {
    "duration": 8,
    "start_time": "2022-06-27T11:56:59.680Z"
   },
   {
    "duration": 123,
    "start_time": "2022-06-27T11:56:59.690Z"
   },
   {
    "duration": 116,
    "start_time": "2022-06-27T11:56:59.815Z"
   },
   {
    "duration": 115,
    "start_time": "2022-06-27T11:56:59.934Z"
   },
   {
    "duration": 587,
    "start_time": "2022-06-27T11:57:00.051Z"
   },
   {
    "duration": 18,
    "start_time": "2022-06-27T11:57:00.640Z"
   },
   {
    "duration": 65,
    "start_time": "2022-06-27T11:57:00.660Z"
   },
   {
    "duration": 12,
    "start_time": "2022-06-27T11:57:00.727Z"
   },
   {
    "duration": 20,
    "start_time": "2022-06-27T11:57:00.741Z"
   },
   {
    "duration": 389,
    "start_time": "2022-06-27T11:57:00.763Z"
   },
   {
    "duration": 48,
    "start_time": "2022-06-27T11:57:01.153Z"
   },
   {
    "duration": 167,
    "start_time": "2022-06-27T11:57:01.203Z"
   },
   {
    "duration": 67,
    "start_time": "2022-06-27T11:57:01.371Z"
   },
   {
    "duration": 145,
    "start_time": "2022-06-27T11:57:01.440Z"
   },
   {
    "duration": 22,
    "start_time": "2022-06-27T11:57:01.587Z"
   },
   {
    "duration": 71,
    "start_time": "2022-06-27T11:57:01.611Z"
   },
   {
    "duration": 23,
    "start_time": "2022-06-27T11:57:01.685Z"
   },
   {
    "duration": 60,
    "start_time": "2022-06-27T11:57:01.710Z"
   },
   {
    "duration": 145,
    "start_time": "2022-06-27T11:57:01.772Z"
   },
   {
    "duration": 7,
    "start_time": "2022-06-27T11:57:01.918Z"
   },
   {
    "duration": 121,
    "start_time": "2022-06-27T11:57:01.926Z"
   },
   {
    "duration": 77,
    "start_time": "2022-06-27T11:57:02.049Z"
   },
   {
    "duration": 131,
    "start_time": "2022-06-27T11:57:02.128Z"
   },
   {
    "duration": 15,
    "start_time": "2022-06-27T11:57:02.261Z"
   },
   {
    "duration": 31,
    "start_time": "2022-06-27T11:57:02.278Z"
   },
   {
    "duration": 52,
    "start_time": "2022-06-27T11:57:02.324Z"
   },
   {
    "duration": 37,
    "start_time": "2022-06-27T11:57:02.381Z"
   },
   {
    "duration": 35,
    "start_time": "2022-06-27T11:57:02.423Z"
   },
   {
    "duration": 38,
    "start_time": "2022-06-27T11:57:02.460Z"
   },
   {
    "duration": 52,
    "start_time": "2022-06-27T11:57:02.500Z"
   },
   {
    "duration": 55,
    "start_time": "2022-06-27T11:57:02.553Z"
   },
   {
    "duration": 9,
    "start_time": "2022-06-27T11:57:02.610Z"
   },
   {
    "duration": 187,
    "start_time": "2022-06-27T11:57:02.622Z"
   },
   {
    "duration": 629,
    "start_time": "2022-06-27T11:57:02.811Z"
   },
   {
    "duration": 4,
    "start_time": "2022-06-27T11:57:03.441Z"
   },
   {
    "duration": 206,
    "start_time": "2022-06-27T11:57:03.446Z"
   },
   {
    "duration": 309,
    "start_time": "2022-06-27T11:57:03.654Z"
   },
   {
    "duration": 247,
    "start_time": "2022-06-27T11:57:03.965Z"
   },
   {
    "duration": 8,
    "start_time": "2022-06-27T11:57:04.214Z"
   },
   {
    "duration": 151,
    "start_time": "2022-06-27T11:57:04.224Z"
   },
   {
    "duration": 20,
    "start_time": "2022-06-27T11:57:04.377Z"
   },
   {
    "duration": 4,
    "start_time": "2022-06-27T11:57:04.399Z"
   },
   {
    "duration": 4,
    "start_time": "2022-06-27T11:57:04.423Z"
   },
   {
    "duration": 37700,
    "start_time": "2022-06-27T11:57:04.428Z"
   },
   {
    "duration": 894,
    "start_time": "2022-06-27T11:57:42.131Z"
   },
   {
    "duration": 268419,
    "start_time": "2022-06-27T11:57:43.027Z"
   },
   {
    "duration": 14215,
    "start_time": "2022-06-27T12:02:11.447Z"
   },
   {
    "duration": 1888,
    "start_time": "2022-06-27T12:02:25.663Z"
   },
   {
    "duration": 35,
    "start_time": "2022-06-27T12:22:59.759Z"
   },
   {
    "duration": 1954,
    "start_time": "2022-06-27T12:23:55.119Z"
   },
   {
    "duration": 1639,
    "start_time": "2022-06-27T12:24:08.740Z"
   },
   {
    "duration": 1440,
    "start_time": "2022-06-27T13:22:54.071Z"
   },
   {
    "duration": 837,
    "start_time": "2022-06-27T13:22:55.513Z"
   },
   {
    "duration": 134,
    "start_time": "2022-06-27T13:22:56.352Z"
   },
   {
    "duration": 529,
    "start_time": "2022-06-27T13:22:56.488Z"
   },
   {
    "duration": 551,
    "start_time": "2022-06-27T13:22:57.023Z"
   },
   {
    "duration": 105,
    "start_time": "2022-06-27T13:22:57.576Z"
   },
   {
    "duration": 56,
    "start_time": "2022-06-27T13:22:57.683Z"
   },
   {
    "duration": 102,
    "start_time": "2022-06-27T13:22:57.741Z"
   },
   {
    "duration": 90,
    "start_time": "2022-06-27T13:22:57.846Z"
   },
   {
    "duration": 25,
    "start_time": "2022-06-27T13:22:57.940Z"
   },
   {
    "duration": 105,
    "start_time": "2022-06-27T13:22:57.967Z"
   },
   {
    "duration": 180,
    "start_time": "2022-06-27T13:22:58.074Z"
   },
   {
    "duration": 99,
    "start_time": "2022-06-27T13:22:58.256Z"
   },
   {
    "duration": 11,
    "start_time": "2022-06-27T13:22:58.357Z"
   },
   {
    "duration": 7,
    "start_time": "2022-06-27T13:22:58.370Z"
   },
   {
    "duration": 120,
    "start_time": "2022-06-27T13:22:58.378Z"
   },
   {
    "duration": 119,
    "start_time": "2022-06-27T13:22:58.500Z"
   },
   {
    "duration": 110,
    "start_time": "2022-06-27T13:22:58.622Z"
   },
   {
    "duration": 529,
    "start_time": "2022-06-27T13:22:58.737Z"
   },
   {
    "duration": 20,
    "start_time": "2022-06-27T13:22:59.268Z"
   },
   {
    "duration": 64,
    "start_time": "2022-06-27T13:22:59.290Z"
   },
   {
    "duration": 11,
    "start_time": "2022-06-27T13:22:59.356Z"
   },
   {
    "duration": 10,
    "start_time": "2022-06-27T13:22:59.369Z"
   },
   {
    "duration": 366,
    "start_time": "2022-06-27T13:22:59.381Z"
   },
   {
    "duration": 47,
    "start_time": "2022-06-27T13:22:59.748Z"
   },
   {
    "duration": 185,
    "start_time": "2022-06-27T13:22:59.798Z"
   },
   {
    "duration": 62,
    "start_time": "2022-06-27T13:22:59.984Z"
   },
   {
    "duration": 142,
    "start_time": "2022-06-27T13:23:00.050Z"
   },
   {
    "duration": 30,
    "start_time": "2022-06-27T13:23:00.194Z"
   },
   {
    "duration": 45,
    "start_time": "2022-06-27T13:23:00.227Z"
   },
   {
    "duration": 16,
    "start_time": "2022-06-27T13:23:00.273Z"
   },
   {
    "duration": 41,
    "start_time": "2022-06-27T13:23:00.291Z"
   },
   {
    "duration": 148,
    "start_time": "2022-06-27T13:23:00.337Z"
   },
   {
    "duration": 5,
    "start_time": "2022-06-27T13:23:00.488Z"
   },
   {
    "duration": 110,
    "start_time": "2022-06-27T13:23:00.494Z"
   },
   {
    "duration": 92,
    "start_time": "2022-06-27T13:23:00.606Z"
   },
   {
    "duration": 101,
    "start_time": "2022-06-27T13:23:00.700Z"
   },
   {
    "duration": 25,
    "start_time": "2022-06-27T13:23:00.803Z"
   },
   {
    "duration": 46,
    "start_time": "2022-06-27T13:23:00.832Z"
   },
   {
    "duration": 59,
    "start_time": "2022-06-27T13:23:00.880Z"
   },
   {
    "duration": 40,
    "start_time": "2022-06-27T13:23:00.941Z"
   },
   {
    "duration": 31,
    "start_time": "2022-06-27T13:23:00.982Z"
   },
   {
    "duration": 61,
    "start_time": "2022-06-27T13:23:01.015Z"
   },
   {
    "duration": 44,
    "start_time": "2022-06-27T13:23:01.077Z"
   },
   {
    "duration": 40,
    "start_time": "2022-06-27T13:23:01.127Z"
   },
   {
    "duration": 13,
    "start_time": "2022-06-27T13:23:01.169Z"
   },
   {
    "duration": 169,
    "start_time": "2022-06-27T13:23:01.183Z"
   },
   {
    "duration": 771,
    "start_time": "2022-06-27T13:23:01.354Z"
   },
   {
    "duration": 10,
    "start_time": "2022-06-27T13:23:02.129Z"
   },
   {
    "duration": 246,
    "start_time": "2022-06-27T13:23:02.141Z"
   },
   {
    "duration": 361,
    "start_time": "2022-06-27T13:23:02.389Z"
   },
   {
    "duration": 412,
    "start_time": "2022-06-27T13:23:02.751Z"
   },
   {
    "duration": 5,
    "start_time": "2022-06-27T13:23:03.164Z"
   },
   {
    "duration": 173,
    "start_time": "2022-06-27T13:23:03.171Z"
   },
   {
    "duration": 18,
    "start_time": "2022-06-27T13:23:03.346Z"
   },
   {
    "duration": 3,
    "start_time": "2022-06-27T13:23:03.366Z"
   },
   {
    "duration": 6,
    "start_time": "2022-06-27T13:23:03.370Z"
   },
   {
    "duration": 45551,
    "start_time": "2022-06-27T13:23:03.377Z"
   },
   {
    "duration": 783,
    "start_time": "2022-06-27T13:23:48.931Z"
   },
   {
    "duration": 108203,
    "start_time": "2022-06-27T13:23:49.716Z"
   },
   {
    "duration": 15133,
    "start_time": "2022-06-27T13:25:37.921Z"
   },
   {
    "duration": 50,
    "start_time": "2022-06-27T13:25:53.056Z"
   },
   {
    "duration": 0,
    "start_time": "2022-06-27T13:25:53.108Z"
   },
   {
    "duration": 0,
    "start_time": "2022-06-27T13:25:53.110Z"
   },
   {
    "duration": 2033,
    "start_time": "2022-06-27T13:26:22.415Z"
   },
   {
    "duration": 1757,
    "start_time": "2022-06-27T13:28:21.411Z"
   },
   {
    "duration": 1543,
    "start_time": "2022-06-27T13:42:41.934Z"
   },
   {
    "duration": 955,
    "start_time": "2022-06-27T13:42:43.481Z"
   },
   {
    "duration": 159,
    "start_time": "2022-06-27T13:42:44.438Z"
   },
   {
    "duration": 551,
    "start_time": "2022-06-27T13:42:44.600Z"
   },
   {
    "duration": 609,
    "start_time": "2022-06-27T13:42:45.153Z"
   },
   {
    "duration": 144,
    "start_time": "2022-06-27T13:42:45.764Z"
   },
   {
    "duration": 62,
    "start_time": "2022-06-27T13:42:45.910Z"
   },
   {
    "duration": 163,
    "start_time": "2022-06-27T13:42:45.974Z"
   },
   {
    "duration": 98,
    "start_time": "2022-06-27T13:42:46.139Z"
   },
   {
    "duration": 15,
    "start_time": "2022-06-27T13:42:46.240Z"
   },
   {
    "duration": 120,
    "start_time": "2022-06-27T13:42:46.257Z"
   },
   {
    "duration": 233,
    "start_time": "2022-06-27T13:42:46.380Z"
   },
   {
    "duration": 91,
    "start_time": "2022-06-27T13:42:46.615Z"
   },
   {
    "duration": 18,
    "start_time": "2022-06-27T13:42:46.707Z"
   },
   {
    "duration": 18,
    "start_time": "2022-06-27T13:42:46.727Z"
   },
   {
    "duration": 116,
    "start_time": "2022-06-27T13:42:46.748Z"
   },
   {
    "duration": 124,
    "start_time": "2022-06-27T13:42:46.867Z"
   },
   {
    "duration": 86,
    "start_time": "2022-06-27T13:42:46.993Z"
   },
   {
    "duration": 498,
    "start_time": "2022-06-27T13:42:47.081Z"
   },
   {
    "duration": 18,
    "start_time": "2022-06-27T13:42:47.581Z"
   },
   {
    "duration": 75,
    "start_time": "2022-06-27T13:42:47.602Z"
   },
   {
    "duration": 11,
    "start_time": "2022-06-27T13:42:47.679Z"
   },
   {
    "duration": 32,
    "start_time": "2022-06-27T13:42:47.693Z"
   },
   {
    "duration": 429,
    "start_time": "2022-06-27T13:42:47.728Z"
   },
   {
    "duration": 46,
    "start_time": "2022-06-27T13:42:48.159Z"
   },
   {
    "duration": 217,
    "start_time": "2022-06-27T13:42:48.207Z"
   },
   {
    "duration": 71,
    "start_time": "2022-06-27T13:42:48.427Z"
   },
   {
    "duration": 164,
    "start_time": "2022-06-27T13:42:48.504Z"
   },
   {
    "duration": 22,
    "start_time": "2022-06-27T13:42:48.670Z"
   },
   {
    "duration": 62,
    "start_time": "2022-06-27T13:42:48.694Z"
   },
   {
    "duration": 18,
    "start_time": "2022-06-27T13:42:48.758Z"
   },
   {
    "duration": 49,
    "start_time": "2022-06-27T13:42:48.777Z"
   },
   {
    "duration": 209,
    "start_time": "2022-06-27T13:42:48.828Z"
   },
   {
    "duration": 6,
    "start_time": "2022-06-27T13:42:49.040Z"
   },
   {
    "duration": 124,
    "start_time": "2022-06-27T13:42:49.048Z"
   },
   {
    "duration": 154,
    "start_time": "2022-06-27T13:42:49.174Z"
   },
   {
    "duration": 130,
    "start_time": "2022-06-27T13:42:49.330Z"
   },
   {
    "duration": 17,
    "start_time": "2022-06-27T13:42:49.462Z"
   },
   {
    "duration": 32,
    "start_time": "2022-06-27T13:42:49.522Z"
   },
   {
    "duration": 96,
    "start_time": "2022-06-27T13:42:49.556Z"
   },
   {
    "duration": 67,
    "start_time": "2022-06-27T13:42:49.672Z"
   },
   {
    "duration": 33,
    "start_time": "2022-06-27T13:42:49.741Z"
   },
   {
    "duration": 48,
    "start_time": "2022-06-27T13:42:49.776Z"
   },
   {
    "duration": 36,
    "start_time": "2022-06-27T13:42:49.826Z"
   },
   {
    "duration": 24,
    "start_time": "2022-06-27T13:42:49.864Z"
   },
   {
    "duration": 6,
    "start_time": "2022-06-27T13:42:49.890Z"
   },
   {
    "duration": 197,
    "start_time": "2022-06-27T13:42:49.898Z"
   },
   {
    "duration": 860,
    "start_time": "2022-06-27T13:42:50.097Z"
   },
   {
    "duration": 4,
    "start_time": "2022-06-27T13:42:50.959Z"
   },
   {
    "duration": 238,
    "start_time": "2022-06-27T13:42:50.964Z"
   },
   {
    "duration": 345,
    "start_time": "2022-06-27T13:42:51.204Z"
   },
   {
    "duration": 255,
    "start_time": "2022-06-27T13:42:51.551Z"
   },
   {
    "duration": 5,
    "start_time": "2022-06-27T13:42:51.808Z"
   },
   {
    "duration": 168,
    "start_time": "2022-06-27T13:42:51.823Z"
   },
   {
    "duration": 32,
    "start_time": "2022-06-27T13:42:51.993Z"
   },
   {
    "duration": 4,
    "start_time": "2022-06-27T13:42:52.027Z"
   },
   {
    "duration": 19,
    "start_time": "2022-06-27T13:42:52.032Z"
   },
   {
    "duration": 30579,
    "start_time": "2022-06-27T13:42:52.053Z"
   },
   {
    "duration": 851,
    "start_time": "2022-06-27T13:43:22.635Z"
   },
   {
    "duration": 133843,
    "start_time": "2022-06-27T13:43:23.488Z"
   },
   {
    "duration": 14048,
    "start_time": "2022-06-27T13:45:37.333Z"
   },
   {
    "duration": 1907,
    "start_time": "2022-06-27T13:45:51.383Z"
   },
   {
    "duration": 1593,
    "start_time": "2022-06-27T13:45:53.291Z"
   },
   {
    "duration": 127205,
    "start_time": "2022-06-27T13:45:54.885Z"
   },
   {
    "duration": 9,
    "start_time": "2022-06-27T14:01:24.635Z"
   },
   {
    "duration": 1609,
    "start_time": "2022-06-27T14:03:26.722Z"
   },
   {
    "duration": 908,
    "start_time": "2022-06-27T14:03:28.337Z"
   },
   {
    "duration": 165,
    "start_time": "2022-06-27T14:03:29.246Z"
   },
   {
    "duration": 560,
    "start_time": "2022-06-27T14:03:29.414Z"
   },
   {
    "duration": 642,
    "start_time": "2022-06-27T14:03:29.976Z"
   },
   {
    "duration": 117,
    "start_time": "2022-06-27T14:03:30.620Z"
   },
   {
    "duration": 45,
    "start_time": "2022-06-27T14:03:30.739Z"
   },
   {
    "duration": 117,
    "start_time": "2022-06-27T14:03:30.786Z"
   },
   {
    "duration": 92,
    "start_time": "2022-06-27T14:03:30.905Z"
   },
   {
    "duration": 13,
    "start_time": "2022-06-27T14:03:30.999Z"
   },
   {
    "duration": 101,
    "start_time": "2022-06-27T14:03:31.014Z"
   },
   {
    "duration": 186,
    "start_time": "2022-06-27T14:03:31.117Z"
   },
   {
    "duration": 96,
    "start_time": "2022-06-27T14:03:31.305Z"
   },
   {
    "duration": 36,
    "start_time": "2022-06-27T14:03:31.403Z"
   },
   {
    "duration": 6,
    "start_time": "2022-06-27T14:03:31.441Z"
   },
   {
    "duration": 128,
    "start_time": "2022-06-27T14:03:31.449Z"
   },
   {
    "duration": 122,
    "start_time": "2022-06-27T14:03:31.579Z"
   },
   {
    "duration": 94,
    "start_time": "2022-06-27T14:03:31.703Z"
   },
   {
    "duration": 512,
    "start_time": "2022-06-27T14:03:31.798Z"
   },
   {
    "duration": 31,
    "start_time": "2022-06-27T14:03:32.312Z"
   },
   {
    "duration": 52,
    "start_time": "2022-06-27T14:03:32.345Z"
   },
   {
    "duration": 36,
    "start_time": "2022-06-27T14:03:32.399Z"
   },
   {
    "duration": 13,
    "start_time": "2022-06-27T14:03:32.438Z"
   },
   {
    "duration": 514,
    "start_time": "2022-06-27T14:03:32.453Z"
   },
   {
    "duration": 75,
    "start_time": "2022-06-27T14:03:32.969Z"
   },
   {
    "duration": 162,
    "start_time": "2022-06-27T14:03:33.048Z"
   },
   {
    "duration": 66,
    "start_time": "2022-06-27T14:03:33.211Z"
   },
   {
    "duration": 153,
    "start_time": "2022-06-27T14:03:33.281Z"
   },
   {
    "duration": 23,
    "start_time": "2022-06-27T14:03:33.437Z"
   },
   {
    "duration": 47,
    "start_time": "2022-06-27T14:03:33.462Z"
   },
   {
    "duration": 25,
    "start_time": "2022-06-27T14:03:33.511Z"
   },
   {
    "duration": 30,
    "start_time": "2022-06-27T14:03:33.538Z"
   },
   {
    "duration": 170,
    "start_time": "2022-06-27T14:03:33.570Z"
   },
   {
    "duration": 5,
    "start_time": "2022-06-27T14:03:33.742Z"
   },
   {
    "duration": 111,
    "start_time": "2022-06-27T14:03:33.749Z"
   },
   {
    "duration": 99,
    "start_time": "2022-06-27T14:03:33.862Z"
   },
   {
    "duration": 110,
    "start_time": "2022-06-27T14:03:33.963Z"
   },
   {
    "duration": 15,
    "start_time": "2022-06-27T14:03:34.075Z"
   },
   {
    "duration": 56,
    "start_time": "2022-06-27T14:03:34.092Z"
   },
   {
    "duration": 36,
    "start_time": "2022-06-27T14:03:34.150Z"
   },
   {
    "duration": 24,
    "start_time": "2022-06-27T14:03:34.188Z"
   },
   {
    "duration": 41,
    "start_time": "2022-06-27T14:03:34.227Z"
   },
   {
    "duration": 39,
    "start_time": "2022-06-27T14:03:34.270Z"
   },
   {
    "duration": 61,
    "start_time": "2022-06-27T14:03:34.311Z"
   },
   {
    "duration": 20,
    "start_time": "2022-06-27T14:03:34.374Z"
   },
   {
    "duration": 6,
    "start_time": "2022-06-27T14:03:34.396Z"
   },
   {
    "duration": 181,
    "start_time": "2022-06-27T14:03:34.403Z"
   },
   {
    "duration": 665,
    "start_time": "2022-06-27T14:03:34.586Z"
   },
   {
    "duration": 4,
    "start_time": "2022-06-27T14:03:35.253Z"
   },
   {
    "duration": 223,
    "start_time": "2022-06-27T14:03:35.259Z"
   },
   {
    "duration": 318,
    "start_time": "2022-06-27T14:03:35.484Z"
   },
   {
    "duration": 282,
    "start_time": "2022-06-27T14:03:35.804Z"
   },
   {
    "duration": 6,
    "start_time": "2022-06-27T14:03:36.088Z"
   },
   {
    "duration": 177,
    "start_time": "2022-06-27T14:03:36.095Z"
   },
   {
    "duration": 19,
    "start_time": "2022-06-27T14:03:36.274Z"
   },
   {
    "duration": 3,
    "start_time": "2022-06-27T14:03:36.295Z"
   },
   {
    "duration": 23,
    "start_time": "2022-06-27T14:03:36.300Z"
   },
   {
    "duration": 45396,
    "start_time": "2022-06-27T14:03:36.330Z"
   },
   {
    "duration": 918,
    "start_time": "2022-06-27T14:04:21.727Z"
   },
   {
    "duration": 1486,
    "start_time": "2022-06-27T14:10:08.186Z"
   },
   {
    "duration": 921,
    "start_time": "2022-06-27T14:10:15.123Z"
   },
   {
    "duration": 147,
    "start_time": "2022-06-27T14:10:17.971Z"
   },
   {
    "duration": 508,
    "start_time": "2022-06-27T14:10:20.291Z"
   },
   {
    "duration": 581,
    "start_time": "2022-06-27T14:10:22.005Z"
   },
   {
    "duration": 105,
    "start_time": "2022-06-27T14:10:23.950Z"
   },
   {
    "duration": 48,
    "start_time": "2022-06-27T14:10:26.174Z"
   },
   {
    "duration": 106,
    "start_time": "2022-06-27T14:10:29.062Z"
   },
   {
    "duration": 67,
    "start_time": "2022-06-27T14:10:31.326Z"
   },
   {
    "duration": 12,
    "start_time": "2022-06-27T14:10:33.450Z"
   },
   {
    "duration": 93,
    "start_time": "2022-06-27T14:10:35.168Z"
   },
   {
    "duration": 164,
    "start_time": "2022-06-27T14:10:38.546Z"
   },
   {
    "duration": 88,
    "start_time": "2022-06-27T14:10:41.031Z"
   },
   {
    "duration": 8,
    "start_time": "2022-06-27T14:10:45.699Z"
   },
   {
    "duration": 7,
    "start_time": "2022-06-27T14:10:47.497Z"
   },
   {
    "duration": 96,
    "start_time": "2022-06-27T14:10:49.412Z"
   },
   {
    "duration": 124,
    "start_time": "2022-06-27T14:10:52.019Z"
   },
   {
    "duration": 93,
    "start_time": "2022-06-27T14:10:54.363Z"
   },
   {
    "duration": 498,
    "start_time": "2022-06-27T14:10:56.268Z"
   },
   {
    "duration": 18,
    "start_time": "2022-06-27T14:10:59.457Z"
   },
   {
    "duration": 51,
    "start_time": "2022-06-27T14:11:01.269Z"
   },
   {
    "duration": 15,
    "start_time": "2022-06-27T14:11:03.620Z"
   },
   {
    "duration": 11,
    "start_time": "2022-06-27T14:11:04.978Z"
   },
   {
    "duration": 388,
    "start_time": "2022-06-27T14:11:07.201Z"
   },
   {
    "duration": 49,
    "start_time": "2022-06-27T14:11:09.460Z"
   },
   {
    "duration": 171,
    "start_time": "2022-06-27T14:11:11.674Z"
   },
   {
    "duration": 57,
    "start_time": "2022-06-27T14:11:13.989Z"
   },
   {
    "duration": 130,
    "start_time": "2022-06-27T14:11:16.427Z"
   },
   {
    "duration": 22,
    "start_time": "2022-06-27T14:11:18.340Z"
   },
   {
    "duration": 55,
    "start_time": "2022-06-27T14:11:27.622Z"
   },
   {
    "duration": 17,
    "start_time": "2022-06-27T14:11:31.294Z"
   },
   {
    "duration": 24,
    "start_time": "2022-06-27T14:11:41.090Z"
   },
   {
    "duration": 154,
    "start_time": "2022-06-27T14:11:42.914Z"
   },
   {
    "duration": 9,
    "start_time": "2022-06-27T14:11:44.817Z"
   },
   {
    "duration": 103,
    "start_time": "2022-06-27T14:11:46.261Z"
   },
   {
    "duration": 83,
    "start_time": "2022-06-27T14:11:47.469Z"
   },
   {
    "duration": 86,
    "start_time": "2022-06-27T14:11:49.571Z"
   },
   {
    "duration": 16,
    "start_time": "2022-06-27T14:11:51.962Z"
   },
   {
    "duration": 40,
    "start_time": "2022-06-27T14:11:53.305Z"
   },
   {
    "duration": 30,
    "start_time": "2022-06-27T14:11:54.861Z"
   },
   {
    "duration": 21,
    "start_time": "2022-06-27T14:11:56.566Z"
   },
   {
    "duration": 31,
    "start_time": "2022-06-27T14:11:58.851Z"
   },
   {
    "duration": 32,
    "start_time": "2022-06-27T14:12:00.749Z"
   },
   {
    "duration": 31,
    "start_time": "2022-06-27T14:12:03.360Z"
   },
   {
    "duration": 18,
    "start_time": "2022-06-27T14:12:04.959Z"
   },
   {
    "duration": 11,
    "start_time": "2022-06-27T14:12:06.023Z"
   },
   {
    "duration": 174,
    "start_time": "2022-06-27T14:12:08.107Z"
   },
   {
    "duration": 626,
    "start_time": "2022-06-27T14:12:09.454Z"
   },
   {
    "duration": 4,
    "start_time": "2022-06-27T14:12:12.656Z"
   },
   {
    "duration": 206,
    "start_time": "2022-06-27T14:12:14.700Z"
   },
   {
    "duration": 320,
    "start_time": "2022-06-27T14:12:15.769Z"
   },
   {
    "duration": 246,
    "start_time": "2022-06-27T14:12:16.684Z"
   },
   {
    "duration": 5,
    "start_time": "2022-06-27T14:12:17.660Z"
   },
   {
    "duration": 175,
    "start_time": "2022-06-27T14:12:19.426Z"
   },
   {
    "duration": 26,
    "start_time": "2022-06-27T14:12:20.678Z"
   },
   {
    "duration": 3,
    "start_time": "2022-06-27T14:12:22.303Z"
   },
   {
    "duration": 17,
    "start_time": "2022-06-27T14:12:23.820Z"
   },
   {
    "duration": 42351,
    "start_time": "2022-06-27T14:12:25.773Z"
   },
   {
    "duration": 698,
    "start_time": "2022-06-27T14:15:59.244Z"
   },
   {
    "duration": 203477,
    "start_time": "2022-06-27T14:16:13.249Z"
   },
   {
    "duration": 15374,
    "start_time": "2022-06-27T14:19:53.452Z"
   },
   {
    "duration": 1831,
    "start_time": "2022-06-27T14:20:25.886Z"
   },
   {
    "duration": 1661,
    "start_time": "2022-06-27T14:20:32.347Z"
   },
   {
    "duration": 28,
    "start_time": "2022-06-27T14:20:58.268Z"
   },
   {
    "duration": 351702,
    "start_time": "2022-06-27T14:22:20.685Z"
   },
   {
    "duration": 157948,
    "start_time": "2022-06-27T14:28:12.389Z"
   },
   {
    "duration": 1677,
    "start_time": "2022-06-27T17:45:24.348Z"
   },
   {
    "duration": 1121,
    "start_time": "2022-06-27T17:45:26.027Z"
   },
   {
    "duration": 108,
    "start_time": "2022-06-27T17:45:27.149Z"
   },
   {
    "duration": 474,
    "start_time": "2022-06-27T17:45:27.260Z"
   },
   {
    "duration": 504,
    "start_time": "2022-06-27T17:45:27.736Z"
   },
   {
    "duration": 127,
    "start_time": "2022-06-27T17:45:28.242Z"
   },
   {
    "duration": 43,
    "start_time": "2022-06-27T17:45:28.371Z"
   },
   {
    "duration": 151,
    "start_time": "2022-06-27T17:45:28.417Z"
   },
   {
    "duration": 104,
    "start_time": "2022-06-27T17:45:28.570Z"
   },
   {
    "duration": 16,
    "start_time": "2022-06-27T17:45:28.678Z"
   },
   {
    "duration": 87,
    "start_time": "2022-06-27T17:45:28.695Z"
   },
   {
    "duration": 168,
    "start_time": "2022-06-27T17:45:28.785Z"
   },
   {
    "duration": 84,
    "start_time": "2022-06-27T17:45:28.955Z"
   },
   {
    "duration": 24,
    "start_time": "2022-06-27T17:45:29.042Z"
   },
   {
    "duration": 7,
    "start_time": "2022-06-27T17:45:29.069Z"
   },
   {
    "duration": 103,
    "start_time": "2022-06-27T17:45:29.078Z"
   },
   {
    "duration": 109,
    "start_time": "2022-06-27T17:45:29.183Z"
   },
   {
    "duration": 74,
    "start_time": "2022-06-27T17:45:29.293Z"
   },
   {
    "duration": 531,
    "start_time": "2022-06-27T17:45:29.370Z"
   },
   {
    "duration": 16,
    "start_time": "2022-06-27T17:45:29.903Z"
   },
   {
    "duration": 56,
    "start_time": "2022-06-27T17:45:29.921Z"
   },
   {
    "duration": 9,
    "start_time": "2022-06-27T17:45:29.979Z"
   },
   {
    "duration": 12,
    "start_time": "2022-06-27T17:45:29.990Z"
   },
   {
    "duration": 337,
    "start_time": "2022-06-27T17:45:30.003Z"
   },
   {
    "duration": 49,
    "start_time": "2022-06-27T17:45:30.342Z"
   },
   {
    "duration": 159,
    "start_time": "2022-06-27T17:45:30.393Z"
   },
   {
    "duration": 56,
    "start_time": "2022-06-27T17:45:30.553Z"
   },
   {
    "duration": 129,
    "start_time": "2022-06-27T17:45:30.613Z"
   },
   {
    "duration": 26,
    "start_time": "2022-06-27T17:45:30.744Z"
   },
   {
    "duration": 37,
    "start_time": "2022-06-27T17:45:30.772Z"
   },
   {
    "duration": 16,
    "start_time": "2022-06-27T17:45:30.811Z"
   },
   {
    "duration": 48,
    "start_time": "2022-06-27T17:45:30.829Z"
   },
   {
    "duration": 159,
    "start_time": "2022-06-27T17:45:30.879Z"
   },
   {
    "duration": 5,
    "start_time": "2022-06-27T17:45:31.039Z"
   },
   {
    "duration": 91,
    "start_time": "2022-06-27T17:45:31.045Z"
   },
   {
    "duration": 62,
    "start_time": "2022-06-27T17:45:31.138Z"
   },
   {
    "duration": 67,
    "start_time": "2022-06-27T17:45:31.202Z"
   },
   {
    "duration": 14,
    "start_time": "2022-06-27T17:45:31.271Z"
   },
   {
    "duration": 26,
    "start_time": "2022-06-27T17:45:31.287Z"
   },
   {
    "duration": 33,
    "start_time": "2022-06-27T17:45:31.314Z"
   },
   {
    "duration": 20,
    "start_time": "2022-06-27T17:45:31.367Z"
   },
   {
    "duration": 25,
    "start_time": "2022-06-27T17:45:31.389Z"
   },
   {
    "duration": 35,
    "start_time": "2022-06-27T17:45:31.416Z"
   },
   {
    "duration": 33,
    "start_time": "2022-06-27T17:45:31.468Z"
   },
   {
    "duration": 21,
    "start_time": "2022-06-27T17:45:31.503Z"
   },
   {
    "duration": 5,
    "start_time": "2022-06-27T17:45:31.526Z"
   },
   {
    "duration": 192,
    "start_time": "2022-06-27T17:45:31.533Z"
   },
   {
    "duration": 589,
    "start_time": "2022-06-27T17:45:31.728Z"
   },
   {
    "duration": 3,
    "start_time": "2022-06-27T17:45:32.319Z"
   },
   {
    "duration": 208,
    "start_time": "2022-06-27T17:45:32.323Z"
   },
   {
    "duration": 291,
    "start_time": "2022-06-27T17:45:32.533Z"
   },
   {
    "duration": 223,
    "start_time": "2022-06-27T17:45:32.826Z"
   },
   {
    "duration": 4,
    "start_time": "2022-06-27T17:45:33.051Z"
   },
   {
    "duration": 142,
    "start_time": "2022-06-27T17:45:33.057Z"
   },
   {
    "duration": 25,
    "start_time": "2022-06-27T17:45:33.201Z"
   },
   {
    "duration": 4,
    "start_time": "2022-06-27T17:45:33.228Z"
   },
   {
    "duration": 9,
    "start_time": "2022-06-27T17:45:33.234Z"
   },
   {
    "duration": 23237,
    "start_time": "2022-06-27T17:45:33.244Z"
   },
   {
    "duration": 732,
    "start_time": "2022-06-27T17:45:56.570Z"
   },
   {
    "duration": 406177,
    "start_time": "2022-06-27T17:45:57.303Z"
   },
   {
    "duration": 137365,
    "start_time": "2022-06-27T17:52:43.482Z"
   },
   {
    "duration": 1952,
    "start_time": "2022-06-27T17:55:00.849Z"
   },
   {
    "duration": 1509,
    "start_time": "2022-06-27T17:55:02.803Z"
   },
   {
    "duration": 392859,
    "start_time": "2022-06-27T17:55:04.313Z"
   },
   {
    "duration": 138340,
    "start_time": "2022-06-27T18:12:49.839Z"
   }
  ],
  "kernelspec": {
   "display_name": "Python 3 (ipykernel)",
   "language": "python",
   "name": "python3"
  },
  "language_info": {
   "codemirror_mode": {
    "name": "ipython",
    "version": 3
   },
   "file_extension": ".py",
   "mimetype": "text/x-python",
   "name": "python",
   "nbconvert_exporter": "python",
   "pygments_lexer": "ipython3",
   "version": "3.9.5"
  },
  "toc": {
   "base_numbering": 1,
   "nav_menu": {
    "height": "362px",
    "width": "408px"
   },
   "number_sections": true,
   "sideBar": true,
   "skip_h1_title": true,
   "title_cell": "Содержание:",
   "title_sidebar": "Contents",
   "toc_cell": true,
   "toc_position": {
    "height": "calc(100% - 180px)",
    "left": "10px",
    "top": "150px",
    "width": "270.625px"
   },
   "toc_section_display": true,
   "toc_window_display": true
  }
 },
 "nbformat": 4,
 "nbformat_minor": 2
}
