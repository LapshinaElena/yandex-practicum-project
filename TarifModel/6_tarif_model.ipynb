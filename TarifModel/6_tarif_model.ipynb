{
 "cells": [
  {
   "cell_type": "markdown",
   "metadata": {},
   "source": [
    "# Рекомендация тарифов"
   ]
  },
  {
   "cell_type": "markdown",
   "metadata": {
    "toc": true
   },
   "source": [
    "<h1>Содержание:<span class=\"tocSkip\"></span></h1>\n",
    "<div class=\"toc\"><ul class=\"toc-item\"><li><span><a href=\"#Откройте-и-изучите-файл\" data-toc-modified-id=\"Откройте-и-изучите-файл-1\"><span class=\"toc-item-num\">1&nbsp;&nbsp;</span>Откройте и изучите файл</a></span></li><li><span><a href=\"#Разбейте-данные-на-выборки\" data-toc-modified-id=\"Разбейте-данные-на-выборки-2\"><span class=\"toc-item-num\">2&nbsp;&nbsp;</span>Разбейте данные на выборки</a></span></li><li><span><a href=\"#Исследуйте-модели\" data-toc-modified-id=\"Исследуйте-модели-3\"><span class=\"toc-item-num\">3&nbsp;&nbsp;</span>Исследуйте модели</a></span></li><li><span><a href=\"#Проверьте-модель-на-тестовой-выборке\" data-toc-modified-id=\"Проверьте-модель-на-тестовой-выборке-4\"><span class=\"toc-item-num\">4&nbsp;&nbsp;</span>Проверьте модель на тестовой выборке</a></span></li><li><span><a href=\"#(бонус)-Проверьте-модели-на-адекватность\" data-toc-modified-id=\"(бонус)-Проверьте-модели-на-адекватность-5\"><span class=\"toc-item-num\">5&nbsp;&nbsp;</span>(бонус) Проверьте модели на адекватность</a></span></li><li><span><a href=\"#Вывод\" data-toc-modified-id=\"Вывод-6\"><span class=\"toc-item-num\">6&nbsp;&nbsp;</span>Вывод</a></span></li><li><span><a href=\"#Чек-лист-готовности-проекта\" data-toc-modified-id=\"Чек-лист-готовности-проекта-7\"><span class=\"toc-item-num\">7&nbsp;&nbsp;</span>Чек-лист готовности проекта</a></span></li></ul></div>"
   ]
  },
  {
   "cell_type": "markdown",
   "metadata": {},
   "source": [
    "В вашем распоряжении данные о поведении клиентов, которые уже перешли на эти тарифы (из проекта курса «Статистический анализ данных»). Нужно построить модель для задачи классификации, которая выберет подходящий тариф. Предобработка данных не понадобится — вы её уже сделали.\n",
    "\n",
    "Постройте модель с максимально большим значением *accuracy*. Чтобы сдать проект успешно, нужно довести долю правильных ответов по крайней мере до 0.75. Проверьте *accuracy* на тестовой выборке самостоятельно."
   ]
  },
  {
   "cell_type": "markdown",
   "metadata": {},
   "source": [
    "## Откройте и изучите файл"
   ]
  },
  {
   "cell_type": "code",
   "execution_count": 1,
   "metadata": {},
   "outputs": [],
   "source": [
    "import pandas as pd\n",
    "from sklearn.tree import DecisionTreeClassifier\n",
    "from sklearn.metrics import accuracy_score\n",
    "from sklearn.model_selection import train_test_split \n",
    "from sklearn.ensemble import RandomForestClassifier \n",
    "from sklearn.linear_model import LogisticRegression\n",
    "from sklearn.metrics import mean_squared_error\n",
    "import warnings\n",
    "warnings.filterwarnings(\"ignore\")\n",
    "from sklearn.dummy import DummyClassifier"
   ]
  },
  {
   "cell_type": "code",
   "execution_count": 2,
   "metadata": {},
   "outputs": [],
   "source": [
    "df = pd.read_csv('/datasets/users_behavior.csv')"
   ]
  },
  {
   "cell_type": "code",
   "execution_count": 3,
   "metadata": {},
   "outputs": [
    {
     "name": "stdout",
     "output_type": "stream",
     "text": [
      "<class 'pandas.core.frame.DataFrame'>\n",
      "RangeIndex: 3214 entries, 0 to 3213\n",
      "Data columns (total 5 columns):\n",
      " #   Column    Non-Null Count  Dtype  \n",
      "---  ------    --------------  -----  \n",
      " 0   calls     3214 non-null   float64\n",
      " 1   minutes   3214 non-null   float64\n",
      " 2   messages  3214 non-null   float64\n",
      " 3   mb_used   3214 non-null   float64\n",
      " 4   is_ultra  3214 non-null   int64  \n",
      "dtypes: float64(4), int64(1)\n",
      "memory usage: 125.7 KB\n"
     ]
    }
   ],
   "source": [
    "df.info()"
   ]
  },
  {
   "cell_type": "code",
   "execution_count": 4,
   "metadata": {},
   "outputs": [
    {
     "name": "stdout",
     "output_type": "stream",
     "text": [
      "(3214, 5)\n"
     ]
    }
   ],
   "source": [
    "print(df.shape)"
   ]
  },
  {
   "cell_type": "code",
   "execution_count": 5,
   "metadata": {},
   "outputs": [
    {
     "data": {
      "text/html": [
       "<div>\n",
       "<style scoped>\n",
       "    .dataframe tbody tr th:only-of-type {\n",
       "        vertical-align: middle;\n",
       "    }\n",
       "\n",
       "    .dataframe tbody tr th {\n",
       "        vertical-align: top;\n",
       "    }\n",
       "\n",
       "    .dataframe thead th {\n",
       "        text-align: right;\n",
       "    }\n",
       "</style>\n",
       "<table border=\"1\" class=\"dataframe\">\n",
       "  <thead>\n",
       "    <tr style=\"text-align: right;\">\n",
       "      <th></th>\n",
       "      <th>calls</th>\n",
       "      <th>minutes</th>\n",
       "      <th>messages</th>\n",
       "      <th>mb_used</th>\n",
       "      <th>is_ultra</th>\n",
       "    </tr>\n",
       "  </thead>\n",
       "  <tbody>\n",
       "    <tr>\n",
       "      <th>count</th>\n",
       "      <td>3214.000000</td>\n",
       "      <td>3214.000000</td>\n",
       "      <td>3214.000000</td>\n",
       "      <td>3214.000000</td>\n",
       "      <td>3214.000000</td>\n",
       "    </tr>\n",
       "    <tr>\n",
       "      <th>mean</th>\n",
       "      <td>63.038892</td>\n",
       "      <td>438.208787</td>\n",
       "      <td>38.281269</td>\n",
       "      <td>17207.673836</td>\n",
       "      <td>0.306472</td>\n",
       "    </tr>\n",
       "    <tr>\n",
       "      <th>std</th>\n",
       "      <td>33.236368</td>\n",
       "      <td>234.569872</td>\n",
       "      <td>36.148326</td>\n",
       "      <td>7570.968246</td>\n",
       "      <td>0.461100</td>\n",
       "    </tr>\n",
       "    <tr>\n",
       "      <th>min</th>\n",
       "      <td>0.000000</td>\n",
       "      <td>0.000000</td>\n",
       "      <td>0.000000</td>\n",
       "      <td>0.000000</td>\n",
       "      <td>0.000000</td>\n",
       "    </tr>\n",
       "    <tr>\n",
       "      <th>25%</th>\n",
       "      <td>40.000000</td>\n",
       "      <td>274.575000</td>\n",
       "      <td>9.000000</td>\n",
       "      <td>12491.902500</td>\n",
       "      <td>0.000000</td>\n",
       "    </tr>\n",
       "    <tr>\n",
       "      <th>50%</th>\n",
       "      <td>62.000000</td>\n",
       "      <td>430.600000</td>\n",
       "      <td>30.000000</td>\n",
       "      <td>16943.235000</td>\n",
       "      <td>0.000000</td>\n",
       "    </tr>\n",
       "    <tr>\n",
       "      <th>75%</th>\n",
       "      <td>82.000000</td>\n",
       "      <td>571.927500</td>\n",
       "      <td>57.000000</td>\n",
       "      <td>21424.700000</td>\n",
       "      <td>1.000000</td>\n",
       "    </tr>\n",
       "    <tr>\n",
       "      <th>max</th>\n",
       "      <td>244.000000</td>\n",
       "      <td>1632.060000</td>\n",
       "      <td>224.000000</td>\n",
       "      <td>49745.730000</td>\n",
       "      <td>1.000000</td>\n",
       "    </tr>\n",
       "  </tbody>\n",
       "</table>\n",
       "</div>"
      ],
      "text/plain": [
       "             calls      minutes     messages       mb_used     is_ultra\n",
       "count  3214.000000  3214.000000  3214.000000   3214.000000  3214.000000\n",
       "mean     63.038892   438.208787    38.281269  17207.673836     0.306472\n",
       "std      33.236368   234.569872    36.148326   7570.968246     0.461100\n",
       "min       0.000000     0.000000     0.000000      0.000000     0.000000\n",
       "25%      40.000000   274.575000     9.000000  12491.902500     0.000000\n",
       "50%      62.000000   430.600000    30.000000  16943.235000     0.000000\n",
       "75%      82.000000   571.927500    57.000000  21424.700000     1.000000\n",
       "max     244.000000  1632.060000   224.000000  49745.730000     1.000000"
      ]
     },
     "execution_count": 5,
     "metadata": {},
     "output_type": "execute_result"
    }
   ],
   "source": [
    "df.describe()"
   ]
  },
  {
   "cell_type": "code",
   "execution_count": 6,
   "metadata": {},
   "outputs": [],
   "source": [
    "df['calls'] = df['calls'].astype('int')\n",
    "df['messages'] = df['messages'].astype('int')"
   ]
  },
  {
   "cell_type": "markdown",
   "metadata": {},
   "source": [
    "**Вывод**\n",
    "\n",
    "В данных нет пропущенных значений. Предобработка была проведена ранее. Признакам calls и messages тип данных изменен на int, т.к. это целочисленные данные."
   ]
  },
  {
   "cell_type": "markdown",
   "metadata": {},
   "source": [
    "## Разбейте данные на выборки"
   ]
  },
  {
   "cell_type": "markdown",
   "metadata": {},
   "source": [
    "Создадим переменные features и target"
   ]
  },
  {
   "cell_type": "code",
   "execution_count": 7,
   "metadata": {},
   "outputs": [],
   "source": [
    "features = df.drop(['is_ultra'], axis=1)\n",
    "target = df['is_ultra']"
   ]
  },
  {
   "cell_type": "markdown",
   "metadata": {},
   "source": [
    "Создадим тестовые выборки"
   ]
  },
  {
   "cell_type": "code",
   "execution_count": 8,
   "metadata": {},
   "outputs": [],
   "source": [
    "features, features_test, target, target_test = train_test_split(features, target, test_size= 0.2, random_state=12345)"
   ]
  },
  {
   "cell_type": "markdown",
   "metadata": {},
   "source": [
    "Создадим обучающую и валидационную выборки"
   ]
  },
  {
   "cell_type": "code",
   "execution_count": 9,
   "metadata": {},
   "outputs": [],
   "source": [
    "features_train, features_valid, target_train, target_valid = train_test_split(features, target, test_size=0.2, random_state=12345)"
   ]
  },
  {
   "cell_type": "markdown",
   "metadata": {},
   "source": [
    "**Вывод**\n",
    "\n",
    "Данные разбиты на три части: обучающую, валидационную и тестовую. Размеры тестового и валидационного наборов  равны. Исходные данные разбиты в соотношении 3:1:1"
   ]
  },
  {
   "cell_type": "markdown",
   "metadata": {},
   "source": [
    "## Исследуйте модели"
   ]
  },
  {
   "cell_type": "markdown",
   "metadata": {},
   "source": [
    "**Дерево решений**"
   ]
  },
  {
   "cell_type": "code",
   "execution_count": 10,
   "metadata": {},
   "outputs": [
    {
     "name": "stdout",
     "output_type": "stream",
     "text": [
      "Accuracy лучшей модели: 0.7650485436893204\n",
      "Глубина дерева: 7\n",
      "CPU times: user 49.1 ms, sys: 2.9 ms, total: 52 ms\n",
      "Wall time: 51.2 ms\n"
     ]
    }
   ],
   "source": [
    "%%time\n",
    "best_model_dtc = None\n",
    "best_result_dtc = 0\n",
    "best_depth_dtc = 0\n",
    "for depth in range(1, 10):\n",
    "    model_dtc = DecisionTreeClassifier(random_state=12345, max_depth=depth, min_samples_split = 2) \n",
    "    model_dtc.fit(features_train, target_train)\n",
    "    result_dtc = model_dtc.score(features_valid, target_valid)\n",
    "    if result_dtc > best_result_dtc:\n",
    "        best_model_dtc = model_dtc\n",
    "        best_result_dtc = result_dtc\n",
    "        best_depth_dtc = depth\n",
    "print(\"Accuracy лучшей модели:\", best_result_dtc)\n",
    "print(\"Глубина дерева:\", best_depth_dtc)\n"
   ]
  },
  {
   "cell_type": "markdown",
   "metadata": {},
   "source": [
    "**Случайный лес**"
   ]
  },
  {
   "cell_type": "code",
   "execution_count": 11,
   "metadata": {},
   "outputs": [
    {
     "name": "stdout",
     "output_type": "stream",
     "text": [
      "Accuracy наилучшей модели на валидационной выборке: 0.7902912621359224\n",
      "Количество деревьев: 50\n",
      "Глубина дерева: 8\n",
      "CPU times: user 3.47 s, sys: 30.2 ms, total: 3.5 s\n",
      "Wall time: 3.52 s\n"
     ]
    }
   ],
   "source": [
    "%%time\n",
    "best_model_rfc = None\n",
    "best_result_rfc = 0\n",
    "best_est_rfc = 0\n",
    "best_depth_rfc = 0\n",
    "for est in range(10, 51, 10):\n",
    "    for depth in range (1, 11):\n",
    "        model_rfc = RandomForestClassifier(random_state=12345, n_estimators=est, max_depth=depth, min_samples_split = 2)\n",
    "        model_rfc.fit(features_train, target_train)\n",
    "        result_rfc = model_rfc.score(features_valid, target_valid)\n",
    "        if result_rfc > best_result_rfc:\n",
    "            best_model_rfc = model_rfc \n",
    "            best_result_rfc = result_rfc\n",
    "            best_est_rfc = est\n",
    "            best_depth_rfc = depth\n",
    "print(\"Accuracy наилучшей модели на валидационной выборке:\", best_result_rfc)\n",
    "print(\"Количество деревьев:\", best_est_rfc)\n",
    "print(\"Глубина дерева:\", best_depth_rfc)\n"
   ]
  },
  {
   "cell_type": "markdown",
   "metadata": {},
   "source": [
    "**Логистическая регрессия**"
   ]
  },
  {
   "cell_type": "code",
   "execution_count": 12,
   "metadata": {},
   "outputs": [
    {
     "name": "stdout",
     "output_type": "stream",
     "text": [
      "Accuracy логистической регрессии: 0.7165048543689321\n",
      "CPU times: user 28.2 ms, sys: 4 µs, total: 28.2 ms\n",
      "Wall time: 35.2 ms\n"
     ]
    }
   ],
   "source": [
    "%%time\n",
    "model_lr = LogisticRegression(random_state=12345)\n",
    "model_lr.fit(features_train, target_train) \n",
    "result_lr = model_lr.score(features_valid, target_valid) \n",
    "print(\"Accuracy логистической регрессии:\", result_lr)"
   ]
  },
  {
   "cell_type": "markdown",
   "metadata": {},
   "source": [
    "**Вывод**\n",
    "\n",
    "Быстрее всего сработала логистическая регрессия. Модель быстро обучается из-за  отсутствия гиперпараметров, но результат проверки модели на валидационной выборке худший - accuracy 0.72\n",
    "\n",
    "На втором месте по скорости обучения - дерево решений. Модель обучалась дольше, но и результат лучше - accuracy 0.77.\n",
    "\n",
    "Дольше всего обучалась модель случайный лес, зато она показала самый высокий результат - accuracy 0.79.\n",
    "\n",
    "Суммарно, по показателям скорость обучения и accuracy, наиболее эффективна модель дерево решений - невысокая скорость обучения и довольно хороший результат."
   ]
  },
  {
   "cell_type": "markdown",
   "metadata": {},
   "source": [
    "## Проверьте модель на тестовой выборке"
   ]
  },
  {
   "cell_type": "markdown",
   "metadata": {},
   "source": [
    "**Дерево решений**"
   ]
  },
  {
   "cell_type": "code",
   "execution_count": 13,
   "metadata": {},
   "outputs": [
    {
     "name": "stdout",
     "output_type": "stream",
     "text": [
      "Accuracy модели дерево решений: 0.7916018662519441\n",
      "CPU times: user 3.91 ms, sys: 0 ns, total: 3.91 ms\n",
      "Wall time: 2.83 ms\n"
     ]
    }
   ],
   "source": [
    "%%time\n",
    "test_result_dtc = best_model_dtc.score(features_test, target_test)\n",
    "print('Accuracy модели дерево решений:', test_result_dtc)"
   ]
  },
  {
   "cell_type": "markdown",
   "metadata": {},
   "source": [
    "**Случайный лес**"
   ]
  },
  {
   "cell_type": "code",
   "execution_count": 14,
   "metadata": {},
   "outputs": [
    {
     "name": "stdout",
     "output_type": "stream",
     "text": [
      "Accuracy модели случайный лес: 0.8040435458786936\n",
      "CPU times: user 8.66 ms, sys: 53 µs, total: 8.72 ms\n",
      "Wall time: 8.27 ms\n"
     ]
    }
   ],
   "source": [
    "%%time\n",
    "test_result_rfc = best_model_rfc.score(features_test, target_test)\n",
    "print('Accuracy модели случайный лес:', test_result_rfc)\n"
   ]
  },
  {
   "cell_type": "markdown",
   "metadata": {},
   "source": [
    "**Логистическая регрессия**"
   ]
  },
  {
   "cell_type": "code",
   "execution_count": 15,
   "metadata": {},
   "outputs": [
    {
     "name": "stdout",
     "output_type": "stream",
     "text": [
      "Accuracy логистической регресии: 0.76049766718507\n",
      "CPU times: user 3.14 ms, sys: 0 ns, total: 3.14 ms\n",
      "Wall time: 2.26 ms\n"
     ]
    }
   ],
   "source": [
    "%%time\n",
    "test_result_lr = model_lr.score(features_test, target_test)\n",
    "print('Accuracy логистической регресии:', test_result_lr)"
   ]
  },
  {
   "cell_type": "markdown",
   "metadata": {},
   "source": [
    "**Вывод**\n",
    "\n",
    "На тестовой выборке результаты следующие - у дерева решений самое короткое время и достаточно хороший accuracy, у случайного леса самый высокий accuracy и самое продолжительное время, у логистической регрессии - самый низкий accuracy и довольно короткое время обучения."
   ]
  },
  {
   "cell_type": "markdown",
   "metadata": {},
   "source": [
    "## (бонус) Проверьте модели на адекватность"
   ]
  },
  {
   "cell_type": "markdown",
   "metadata": {},
   "source": [
    "Мы можем воспользоваться DummyClassifier, который всегда предсказывает мажоритарный класс. Дамми-классификатор, который генерирует случайные прогнозы, имеет намного худшее качество (с точки зрения правильности), чем рассмотренные выше модели."
   ]
  },
  {
   "cell_type": "code",
   "execution_count": 16,
   "metadata": {},
   "outputs": [
    {
     "name": "stdout",
     "output_type": "stream",
     "text": [
      "Accuracy  модели DummyClassifier: 0.6757281553398058\n",
      "CPU times: user 1.14 ms, sys: 98 µs, total: 1.23 ms\n",
      "Wall time: 1.01 ms\n"
     ]
    }
   ],
   "source": [
    "%%time\n",
    "model_dc = DummyClassifier(random_state=12345)\n",
    "model_dc.fit(features_train, target_train)\n",
    "result_dc = model_dc.score(features_valid, target_valid)\n",
    "print('Accuracy  модели DummyClassifier:', result_dc)"
   ]
  },
  {
   "cell_type": "markdown",
   "metadata": {},
   "source": [
    "**Вывод**\n",
    "\n",
    "Результат случайного прогноза DummyClassifier ниже, чем у всех трех предыдущих моделей. Модели вполне адекватны."
   ]
  },
  {
   "cell_type": "markdown",
   "metadata": {},
   "source": [
    "## Вывод\n",
    "\n",
    "Ниаболее эффективна модель - дерево решений - малое время обучения, достаточно высокий accuracy во всех расмотренных случаях. На вторм месте модель случайный лес - accuracy самый высокий, но и продолжительность самая высокая. На третьем - логистическая регрессия - достаточно малое время, но и результат низкий."
   ]
  },
  {
   "cell_type": "markdown",
   "metadata": {},
   "source": [
    "## Чек-лист готовности проекта"
   ]
  },
  {
   "cell_type": "markdown",
   "metadata": {},
   "source": [
    "Поставьте 'x' в выполненных пунктах. Далее нажмите Shift+Enter."
   ]
  },
  {
   "cell_type": "markdown",
   "metadata": {},
   "source": [
    "- [x] Jupyter Notebook открыт\n",
    "- [x] Весь код исполняется без ошибок\n",
    "- [x] Ячейки с кодом расположены в порядке исполнения\n",
    "- [x] Выполнено задание 1: данные загружены и изучены\n",
    "- [x] Выполнено задание 2: данные разбиты на три выборки\n",
    "- [x] Выполнено задание 3: проведено исследование моделей\n",
    "    - [x] Рассмотрено больше одной модели\n",
    "    - [x] Рассмотрено хотя бы 3 значения гипепараметров для какой-нибудь модели\n",
    "    - [x] Написаны выводы по результатам исследования\n",
    "- [x] Выполнено задание 3: Проведено тестирование\n",
    "- [x] Удалось достичь accuracy не меньше 0.75\n"
   ]
  },
  {
   "cell_type": "code",
   "execution_count": null,
   "metadata": {},
   "outputs": [],
   "source": []
  }
 ],
 "metadata": {
  "ExecuteTimeLog": [
   {
    "duration": 1173,
    "start_time": "2022-04-18T04:49:34.956Z"
   },
   {
    "duration": 30,
    "start_time": "2022-04-18T04:53:14.620Z"
   },
   {
    "duration": 87,
    "start_time": "2022-04-18T04:53:27.942Z"
   },
   {
    "duration": 11,
    "start_time": "2022-04-18T04:53:39.932Z"
   },
   {
    "duration": 8,
    "start_time": "2022-04-18T04:53:58.303Z"
   },
   {
    "duration": 3,
    "start_time": "2022-04-18T04:54:41.031Z"
   },
   {
    "duration": 26,
    "start_time": "2022-04-18T04:55:12.190Z"
   },
   {
    "duration": 1173,
    "start_time": "2022-04-18T11:37:58.518Z"
   },
   {
    "duration": 17,
    "start_time": "2022-04-18T11:37:59.693Z"
   },
   {
    "duration": 12,
    "start_time": "2022-04-18T11:38:00.113Z"
   },
   {
    "duration": 3,
    "start_time": "2022-04-18T11:38:00.929Z"
   },
   {
    "duration": 26,
    "start_time": "2022-04-18T11:38:01.771Z"
   },
   {
    "duration": 4,
    "start_time": "2022-04-18T11:38:04.076Z"
   },
   {
    "duration": 4,
    "start_time": "2022-04-18T11:38:05.626Z"
   },
   {
    "duration": 4,
    "start_time": "2022-04-18T11:38:06.985Z"
   },
   {
    "duration": 52,
    "start_time": "2022-04-18T11:38:09.465Z"
   },
   {
    "duration": 71,
    "start_time": "2022-04-18T11:47:36.399Z"
   },
   {
    "duration": 54,
    "start_time": "2022-04-18T11:48:11.621Z"
   },
   {
    "duration": 55,
    "start_time": "2022-04-18T11:48:36.623Z"
   },
   {
    "duration": 64,
    "start_time": "2022-04-18T11:50:56.432Z"
   },
   {
    "duration": 238,
    "start_time": "2022-04-18T12:13:07.886Z"
   },
   {
    "duration": 4466,
    "start_time": "2022-04-18T12:13:17.878Z"
   },
   {
    "duration": 253,
    "start_time": "2022-04-18T12:14:14.922Z"
   },
   {
    "duration": 31,
    "start_time": "2022-04-18T12:50:36.132Z"
   },
   {
    "duration": 3,
    "start_time": "2022-04-18T13:41:48.035Z"
   },
   {
    "duration": 12,
    "start_time": "2022-04-18T13:41:48.767Z"
   },
   {
    "duration": 10,
    "start_time": "2022-04-18T13:41:49.561Z"
   },
   {
    "duration": 3,
    "start_time": "2022-04-18T13:41:52.449Z"
   },
   {
    "duration": 20,
    "start_time": "2022-04-18T13:41:53.167Z"
   },
   {
    "duration": 4,
    "start_time": "2022-04-18T13:41:56.482Z"
   },
   {
    "duration": 5,
    "start_time": "2022-04-18T13:41:57.767Z"
   },
   {
    "duration": 5,
    "start_time": "2022-04-18T13:41:59.040Z"
   },
   {
    "duration": 55,
    "start_time": "2022-04-18T13:42:03.621Z"
   },
   {
    "duration": 236,
    "start_time": "2022-04-18T13:42:06.752Z"
   },
   {
    "duration": 30,
    "start_time": "2022-04-18T13:42:10.867Z"
   },
   {
    "duration": 5,
    "start_time": "2022-04-18T13:46:27.119Z"
   },
   {
    "duration": 8,
    "start_time": "2022-04-18T13:48:19.225Z"
   },
   {
    "duration": 8,
    "start_time": "2022-04-18T13:53:34.129Z"
   },
   {
    "duration": 5,
    "start_time": "2022-04-18T13:53:42.330Z"
   },
   {
    "duration": 9,
    "start_time": "2022-04-18T13:53:46.007Z"
   },
   {
    "duration": 94,
    "start_time": "2022-04-18T13:55:37.786Z"
   },
   {
    "duration": 5,
    "start_time": "2022-04-18T13:56:37.424Z"
   },
   {
    "duration": 11,
    "start_time": "2022-04-18T13:57:25.113Z"
   },
   {
    "duration": 7,
    "start_time": "2022-04-18T13:58:09.370Z"
   },
   {
    "duration": 6,
    "start_time": "2022-04-18T13:59:11.243Z"
   },
   {
    "duration": 178,
    "start_time": "2022-04-18T14:11:59.960Z"
   },
   {
    "duration": 3549,
    "start_time": "2022-04-18T14:12:32.182Z"
   },
   {
    "duration": 3544,
    "start_time": "2022-04-18T14:14:06.517Z"
   },
   {
    "duration": 3520,
    "start_time": "2022-04-18T14:14:32.180Z"
   },
   {
    "duration": 3,
    "start_time": "2022-04-18T14:14:48.757Z"
   },
   {
    "duration": 11,
    "start_time": "2022-04-18T14:14:49.602Z"
   },
   {
    "duration": 9,
    "start_time": "2022-04-18T14:14:50.360Z"
   },
   {
    "duration": 3,
    "start_time": "2022-04-18T14:14:51.528Z"
   },
   {
    "duration": 20,
    "start_time": "2022-04-18T14:14:52.277Z"
   },
   {
    "duration": 3,
    "start_time": "2022-04-18T14:14:54.427Z"
   },
   {
    "duration": 4,
    "start_time": "2022-04-18T14:14:56.029Z"
   },
   {
    "duration": 5,
    "start_time": "2022-04-18T14:14:57.446Z"
   },
   {
    "duration": 54,
    "start_time": "2022-04-18T14:14:59.621Z"
   },
   {
    "duration": 3513,
    "start_time": "2022-04-18T14:15:12.379Z"
   },
   {
    "duration": 18,
    "start_time": "2022-04-18T14:18:04.378Z"
   },
   {
    "duration": 54,
    "start_time": "2022-04-18T14:21:29.101Z"
   },
   {
    "duration": 3476,
    "start_time": "2022-04-18T14:21:37.642Z"
   },
   {
    "duration": 4636,
    "start_time": "2022-04-18T14:23:17.682Z"
   },
   {
    "duration": 21234,
    "start_time": "2022-04-18T14:23:40.606Z"
   },
   {
    "duration": 21102,
    "start_time": "2022-04-18T14:24:21.795Z"
   },
   {
    "duration": 3471,
    "start_time": "2022-04-18T14:25:34.000Z"
   },
   {
    "duration": 6,
    "start_time": "2022-04-18T14:26:11.736Z"
   },
   {
    "duration": 14,
    "start_time": "2022-04-18T14:26:14.277Z"
   },
   {
    "duration": 7,
    "start_time": "2022-04-18T14:27:35.089Z"
   },
   {
    "duration": 6,
    "start_time": "2022-04-18T14:27:59.454Z"
   },
   {
    "duration": 44,
    "start_time": "2022-04-18T19:02:11.889Z"
   },
   {
    "duration": 1388,
    "start_time": "2022-04-18T19:02:29.704Z"
   },
   {
    "duration": 161,
    "start_time": "2022-04-18T19:02:31.094Z"
   },
   {
    "duration": 11,
    "start_time": "2022-04-18T19:02:31.257Z"
   },
   {
    "duration": 2,
    "start_time": "2022-04-18T19:02:31.571Z"
   },
   {
    "duration": 25,
    "start_time": "2022-04-18T19:02:32.172Z"
   },
   {
    "duration": 4,
    "start_time": "2022-04-18T19:02:33.877Z"
   },
   {
    "duration": 5,
    "start_time": "2022-04-18T19:02:35.010Z"
   },
   {
    "duration": 4,
    "start_time": "2022-04-18T19:02:36.060Z"
   },
   {
    "duration": 54,
    "start_time": "2022-04-18T19:02:37.784Z"
   },
   {
    "duration": 3406,
    "start_time": "2022-04-18T19:02:38.997Z"
   },
   {
    "duration": 30,
    "start_time": "2022-04-18T19:02:42.405Z"
   },
   {
    "duration": 5,
    "start_time": "2022-04-18T19:02:42.436Z"
   },
   {
    "duration": 13,
    "start_time": "2022-04-18T19:02:43.602Z"
   },
   {
    "duration": 5,
    "start_time": "2022-04-18T19:02:45.434Z"
   },
   {
    "duration": 5,
    "start_time": "2022-04-18T19:03:05.957Z"
   },
   {
    "duration": 31,
    "start_time": "2022-04-18T19:08:54.475Z"
   },
   {
    "duration": 36,
    "start_time": "2022-04-18T19:09:01.896Z"
   },
   {
    "duration": 31,
    "start_time": "2022-04-18T19:09:17.795Z"
   },
   {
    "duration": 3413,
    "start_time": "2022-04-18T19:13:11.472Z"
   },
   {
    "duration": 54,
    "start_time": "2022-04-18T19:13:41.460Z"
   },
   {
    "duration": 55,
    "start_time": "2022-04-18T19:13:46.869Z"
   },
   {
    "duration": 53,
    "start_time": "2022-04-18T19:13:54.818Z"
   },
   {
    "duration": 3352,
    "start_time": "2022-04-18T19:14:05.367Z"
   },
   {
    "duration": 31,
    "start_time": "2022-04-18T19:14:23.244Z"
   },
   {
    "duration": 1163,
    "start_time": "2022-04-18T19:15:18.733Z"
   },
   {
    "duration": 19,
    "start_time": "2022-04-18T19:15:19.898Z"
   },
   {
    "duration": 12,
    "start_time": "2022-04-18T19:15:19.918Z"
   },
   {
    "duration": 4,
    "start_time": "2022-04-18T19:15:19.932Z"
   },
   {
    "duration": 27,
    "start_time": "2022-04-18T19:15:19.938Z"
   },
   {
    "duration": 3,
    "start_time": "2022-04-18T19:15:19.966Z"
   },
   {
    "duration": 6,
    "start_time": "2022-04-18T19:15:19.971Z"
   },
   {
    "duration": 4,
    "start_time": "2022-04-18T19:15:19.979Z"
   },
   {
    "duration": 63,
    "start_time": "2022-04-18T19:15:19.985Z"
   },
   {
    "duration": 3569,
    "start_time": "2022-04-18T19:15:20.050Z"
   },
   {
    "duration": 32,
    "start_time": "2022-04-18T19:15:23.621Z"
   },
   {
    "duration": 5,
    "start_time": "2022-04-18T19:15:23.655Z"
   },
   {
    "duration": 13,
    "start_time": "2022-04-18T19:15:23.662Z"
   },
   {
    "duration": 26,
    "start_time": "2022-04-18T19:15:23.676Z"
   },
   {
    "duration": 6,
    "start_time": "2022-04-18T19:15:23.703Z"
   },
   {
    "duration": 73,
    "start_time": "2022-04-19T05:47:24.406Z"
   },
   {
    "duration": 1691,
    "start_time": "2022-04-19T05:47:30.539Z"
   },
   {
    "duration": 54,
    "start_time": "2022-04-19T05:47:32.233Z"
   },
   {
    "duration": 18,
    "start_time": "2022-04-19T05:47:32.289Z"
   },
   {
    "duration": 5,
    "start_time": "2022-04-19T05:47:32.758Z"
   },
   {
    "duration": 42,
    "start_time": "2022-04-19T05:47:36.128Z"
   },
   {
    "duration": 102,
    "start_time": "2022-04-19T05:47:38.280Z"
   },
   {
    "duration": 9,
    "start_time": "2022-04-19T05:49:55.173Z"
   },
   {
    "duration": 6,
    "start_time": "2022-04-19T05:49:57.884Z"
   },
   {
    "duration": 8,
    "start_time": "2022-04-19T05:50:09.153Z"
   },
   {
    "duration": 7,
    "start_time": "2022-04-19T05:50:10.278Z"
   },
   {
    "duration": 89,
    "start_time": "2022-04-19T05:50:12.077Z"
   },
   {
    "duration": 5525,
    "start_time": "2022-04-19T05:50:21.052Z"
   },
   {
    "duration": 63,
    "start_time": "2022-04-19T05:50:26.582Z"
   },
   {
    "duration": 10,
    "start_time": "2022-04-19T05:50:31.200Z"
   },
   {
    "duration": 20,
    "start_time": "2022-04-19T05:50:32.628Z"
   },
   {
    "duration": 8,
    "start_time": "2022-04-19T05:50:35.369Z"
   },
   {
    "duration": 8,
    "start_time": "2022-04-19T05:50:39.064Z"
   },
   {
    "duration": 1827,
    "start_time": "2022-04-19T05:51:03.055Z"
   },
   {
    "duration": 18,
    "start_time": "2022-04-19T05:51:04.885Z"
   },
   {
    "duration": 22,
    "start_time": "2022-04-19T05:51:04.910Z"
   },
   {
    "duration": 5,
    "start_time": "2022-04-19T05:51:04.935Z"
   },
   {
    "duration": 48,
    "start_time": "2022-04-19T05:51:04.981Z"
   },
   {
    "duration": 6,
    "start_time": "2022-04-19T05:51:05.031Z"
   },
   {
    "duration": 44,
    "start_time": "2022-04-19T05:51:05.040Z"
   },
   {
    "duration": 8,
    "start_time": "2022-04-19T05:51:05.087Z"
   },
   {
    "duration": 8,
    "start_time": "2022-04-19T05:51:05.100Z"
   },
   {
    "duration": 123,
    "start_time": "2022-04-19T05:51:05.111Z"
   },
   {
    "duration": 5536,
    "start_time": "2022-04-19T05:51:05.237Z"
   },
   {
    "duration": 52,
    "start_time": "2022-04-19T05:51:10.775Z"
   },
   {
    "duration": 7,
    "start_time": "2022-04-19T05:51:10.829Z"
   },
   {
    "duration": 21,
    "start_time": "2022-04-19T05:51:10.838Z"
   },
   {
    "duration": 9,
    "start_time": "2022-04-19T05:51:10.881Z"
   },
   {
    "duration": 11,
    "start_time": "2022-04-19T05:51:10.892Z"
   },
   {
    "duration": 1547,
    "start_time": "2022-04-19T05:56:59.490Z"
   },
   {
    "duration": 21,
    "start_time": "2022-04-19T05:57:01.040Z"
   },
   {
    "duration": 25,
    "start_time": "2022-04-19T05:57:01.063Z"
   },
   {
    "duration": 10,
    "start_time": "2022-04-19T05:57:01.091Z"
   },
   {
    "duration": 48,
    "start_time": "2022-04-19T05:57:01.103Z"
   },
   {
    "duration": 22,
    "start_time": "2022-04-19T05:57:01.154Z"
   },
   {
    "duration": 8,
    "start_time": "2022-04-19T05:57:01.181Z"
   },
   {
    "duration": 11,
    "start_time": "2022-04-19T05:57:01.191Z"
   },
   {
    "duration": 11,
    "start_time": "2022-04-19T05:57:01.204Z"
   },
   {
    "duration": 115,
    "start_time": "2022-04-19T05:57:01.219Z"
   },
   {
    "duration": 5702,
    "start_time": "2022-04-19T05:57:01.336Z"
   },
   {
    "duration": 63,
    "start_time": "2022-04-19T05:57:07.040Z"
   },
   {
    "duration": 8,
    "start_time": "2022-04-19T05:57:07.105Z"
   },
   {
    "duration": 20,
    "start_time": "2022-04-19T05:57:07.115Z"
   },
   {
    "duration": 10,
    "start_time": "2022-04-19T05:57:07.137Z"
   },
   {
    "duration": 35,
    "start_time": "2022-04-19T05:57:07.149Z"
   },
   {
    "duration": 91,
    "start_time": "2022-04-19T06:02:11.005Z"
   },
   {
    "duration": 5746,
    "start_time": "2022-04-19T06:02:22.537Z"
   },
   {
    "duration": 53,
    "start_time": "2022-04-19T06:02:38.093Z"
   },
   {
    "duration": 168,
    "start_time": "2022-04-19T10:46:01.039Z"
   },
   {
    "duration": 1112,
    "start_time": "2022-04-19T10:46:29.149Z"
   },
   {
    "duration": 12,
    "start_time": "2022-04-19T10:46:30.263Z"
   },
   {
    "duration": 12,
    "start_time": "2022-04-19T10:46:30.276Z"
   },
   {
    "duration": 13,
    "start_time": "2022-04-19T10:46:30.290Z"
   },
   {
    "duration": 36,
    "start_time": "2022-04-19T10:46:30.305Z"
   },
   {
    "duration": 6,
    "start_time": "2022-04-19T10:46:30.342Z"
   },
   {
    "duration": 16,
    "start_time": "2022-04-19T10:46:30.350Z"
   },
   {
    "duration": 7,
    "start_time": "2022-04-19T10:46:30.367Z"
   },
   {
    "duration": 8,
    "start_time": "2022-04-19T10:46:30.376Z"
   },
   {
    "duration": 70,
    "start_time": "2022-04-19T10:46:30.387Z"
   },
   {
    "duration": 3492,
    "start_time": "2022-04-19T10:46:30.459Z"
   },
   {
    "duration": 31,
    "start_time": "2022-04-19T10:46:33.953Z"
   },
   {
    "duration": 6,
    "start_time": "2022-04-19T10:46:33.986Z"
   },
   {
    "duration": 36,
    "start_time": "2022-04-19T10:46:33.993Z"
   },
   {
    "duration": 5,
    "start_time": "2022-04-19T10:46:34.031Z"
   },
   {
    "duration": 19,
    "start_time": "2022-04-19T10:46:34.038Z"
   },
   {
    "duration": 1048,
    "start_time": "2022-04-19T11:17:33.662Z"
   },
   {
    "duration": 17,
    "start_time": "2022-04-19T11:17:34.712Z"
   },
   {
    "duration": 12,
    "start_time": "2022-04-19T11:17:34.731Z"
   },
   {
    "duration": 5,
    "start_time": "2022-04-19T11:17:34.745Z"
   },
   {
    "duration": 29,
    "start_time": "2022-04-19T11:17:34.752Z"
   },
   {
    "duration": 4,
    "start_time": "2022-04-19T11:17:34.782Z"
   },
   {
    "duration": 6,
    "start_time": "2022-04-19T11:17:34.787Z"
   },
   {
    "duration": 9,
    "start_time": "2022-04-19T11:17:34.794Z"
   },
   {
    "duration": 5,
    "start_time": "2022-04-19T11:17:34.804Z"
   },
   {
    "duration": 66,
    "start_time": "2022-04-19T11:17:34.811Z"
   },
   {
    "duration": 3520,
    "start_time": "2022-04-19T11:17:34.879Z"
   },
   {
    "duration": 39,
    "start_time": "2022-04-19T11:17:38.400Z"
   },
   {
    "duration": 6,
    "start_time": "2022-04-19T11:17:38.440Z"
   },
   {
    "duration": 13,
    "start_time": "2022-04-19T11:17:38.447Z"
   },
   {
    "duration": 5,
    "start_time": "2022-04-19T11:17:38.461Z"
   },
   {
    "duration": 6,
    "start_time": "2022-04-19T11:17:38.468Z"
   }
  ],
  "kernelspec": {
   "display_name": "Python 3 (ipykernel)",
   "language": "python",
   "name": "python3"
  },
  "language_info": {
   "codemirror_mode": {
    "name": "ipython",
    "version": 3
   },
   "file_extension": ".py",
   "mimetype": "text/x-python",
   "name": "python",
   "nbconvert_exporter": "python",
   "pygments_lexer": "ipython3",
   "version": "3.9.5"
  },
  "toc": {
   "base_numbering": 1,
   "nav_menu": {
    "height": "285px",
    "width": "298px"
   },
   "number_sections": true,
   "sideBar": true,
   "skip_h1_title": true,
   "title_cell": "Содержание:",
   "title_sidebar": "Contents",
   "toc_cell": true,
   "toc_position": {
    "height": "calc(100% - 180px)",
    "left": "10px",
    "top": "150px",
    "width": "270.625px"
   },
   "toc_section_display": true,
   "toc_window_display": true
  }
 },
 "nbformat": 4,
 "nbformat_minor": 2
}
