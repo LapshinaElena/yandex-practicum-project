{
 "cells": [
  {
   "cell_type": "markdown",
   "metadata": {
    "toc": true
   },
   "source": [
    "<h1>Содержание:<span class=\"tocSkip\"></span></h1>\n",
    "<div class=\"toc\"><ul class=\"toc-item\"><li><span><a href=\"#Краткое-описание\" data-toc-modified-id=\"Краткое-описание-1\"><span class=\"toc-item-num\">1&nbsp;&nbsp;</span><strong>Краткое описание</strong></a></span></li><li><span><a href=\"#Предобработка-данных\" data-toc-modified-id=\"Предобработка-данных-2\"><span class=\"toc-item-num\">2&nbsp;&nbsp;</span>Предобработка данных</a></span><ul class=\"toc-item\"><li><span><a href=\"#Вывод\" data-toc-modified-id=\"Вывод-2.1\"><span class=\"toc-item-num\">2.1&nbsp;&nbsp;</span>Вывод</a></span></li></ul></li><li><span><a href=\"#Анализ-данных\" data-toc-modified-id=\"Анализ-данных-3\"><span class=\"toc-item-num\">3&nbsp;&nbsp;</span>Анализ данных</a></span><ul class=\"toc-item\"><li><span><a href=\"#Расчеты-для-каждого-пользователя\" data-toc-modified-id=\"Расчеты-для-каждого-пользователя-3.1\"><span class=\"toc-item-num\">3.1&nbsp;&nbsp;</span>Расчеты для каждого пользователя</a></span></li><li><span><a href=\"#Анализ-данных-по-тарифам\" data-toc-modified-id=\"Анализ-данных-по-тарифам-3.2\"><span class=\"toc-item-num\">3.2&nbsp;&nbsp;</span>Анализ данных по тарифам</a></span><ul class=\"toc-item\"><li><span><a href=\"#Минуты\" data-toc-modified-id=\"Минуты-3.2.1\"><span class=\"toc-item-num\">3.2.1&nbsp;&nbsp;</span>Минуты</a></span></li><li><span><a href=\"#СМС\" data-toc-modified-id=\"СМС-3.2.2\"><span class=\"toc-item-num\">3.2.2&nbsp;&nbsp;</span>СМС</a></span></li><li><span><a href=\"#Интернет\" data-toc-modified-id=\"Интернет-3.2.3\"><span class=\"toc-item-num\">3.2.3&nbsp;&nbsp;</span>Интернет</a></span></li></ul></li><li><span><a href=\"#Вывод\" data-toc-modified-id=\"Вывод-3.3\"><span class=\"toc-item-num\">3.3&nbsp;&nbsp;</span>Вывод</a></span></li></ul></li><li><span><a href=\"#Проверка-гипотез\" data-toc-modified-id=\"Проверка-гипотез-4\"><span class=\"toc-item-num\">4&nbsp;&nbsp;</span>Проверка гипотез</a></span></li><li><span><a href=\"#Общий-вывод\" data-toc-modified-id=\"Общий-вывод-5\"><span class=\"toc-item-num\">5&nbsp;&nbsp;</span>Общий вывод</a></span></li></ul></div>"
   ]
  },
  {
   "cell_type": "markdown",
   "metadata": {},
   "source": [
    " **Определение перспективного тарифа для телеком-компании**\n",
    "\n",
    "\n",
    "## **Краткое описание**\n",
    "\n",
    "Клиентам предлагают два тарифных плана: «Смарт» и «Ультра». Чтобы скорректировать рекламный бюджет, коммерческий департамент хочет понять, какой тариф приносит больше денег.\n",
    "Необходимо сделать предварительный анализ тарифов на небольшой выборке клиентов. Доступны данные 500 пользователей «Мегалайна»: кто они, откуда, каким тарифом пользуются, сколько звонков и сообщений каждый отправил за 2018 год. Нужно проанализировать поведение клиентов и сделать вывод — какой тариф лучше.\n",
    "*Описание тарифов:*\n",
    "- 1. Тариф «Смарт»\n",
    "    - Ежемесячная плата: 550 рублей\n",
    "    - Включено 500 минут разговора, 50 сообщений и 15 Гб интернет-трафика\n",
    "    Стоимость услуг сверх тарифного пакета:\n",
    "    - минута разговора: 3 рубля\n",
    "    - сообщение: 3 рубля\n",
    "    - 1 Гб интернет-трафика: 200 рублей\n",
    "- 2. Тариф «Ультра»\n",
    "    - Ежемесячная плата: 1950 рублей\n",
    "    - Включено 3000 минут разговора, 1000 сообщений и 30 Гб интернет-трафика\n",
    "    Стоимость услуг сверх тарифного пакета:\n",
    "    - минута разговора: 1 рубль\n",
    "    - сообщение: 1 рубль\n",
    "    - 1 Гб интернет-трафика: 150 рублей\n"
   ]
  },
  {
   "cell_type": "markdown",
   "metadata": {},
   "source": [
    "## Предобработка данных"
   ]
  },
  {
   "cell_type": "markdown",
   "metadata": {},
   "source": [
    "Загрузим и познакомимся с данными"
   ]
  },
  {
   "cell_type": "code",
   "execution_count": 1,
   "metadata": {},
   "outputs": [],
   "source": [
    "# Загрузка библилиотек\n",
    "import pandas as pd\n",
    "import math\n",
    "import matplotlib.pyplot as plt\n",
    "import numpy as np\n",
    "import seaborn as sns\n",
    "from scipy import stats as st"
   ]
  },
  {
   "cell_type": "code",
   "execution_count": 2,
   "metadata": {},
   "outputs": [],
   "source": [
    "# Загрузка файлов \n",
    "internet = pd.read_csv('/datasets/internet.csv')\n",
    "calls = pd.read_csv('/datasets/calls.csv')\n",
    "messages = pd.read_csv('/datasets/messages.csv')\n",
    "users = pd.read_csv('/datasets/users.csv')\n",
    "tariffs = pd.read_csv('/datasets/tariffs.csv')"
   ]
  },
  {
   "cell_type": "code",
   "execution_count": 3,
   "metadata": {},
   "outputs": [
    {
     "name": "stdout",
     "output_type": "stream",
     "text": [
      "<class 'pandas.core.frame.DataFrame'>\n",
      "RangeIndex: 149396 entries, 0 to 149395\n",
      "Data columns (total 5 columns):\n",
      " #   Column        Non-Null Count   Dtype  \n",
      "---  ------        --------------   -----  \n",
      " 0   Unnamed: 0    149396 non-null  int64  \n",
      " 1   id            149396 non-null  object \n",
      " 2   mb_used       149396 non-null  float64\n",
      " 3   session_date  149396 non-null  object \n",
      " 4   user_id       149396 non-null  int64  \n",
      "dtypes: float64(1), int64(2), object(2)\n",
      "memory usage: 5.7+ MB\n"
     ]
    }
   ],
   "source": [
    "internet.info()"
   ]
  },
  {
   "cell_type": "code",
   "execution_count": 4,
   "metadata": {},
   "outputs": [
    {
     "name": "stdout",
     "output_type": "stream",
     "text": [
      "<class 'pandas.core.frame.DataFrame'>\n",
      "RangeIndex: 202607 entries, 0 to 202606\n",
      "Data columns (total 4 columns):\n",
      " #   Column     Non-Null Count   Dtype  \n",
      "---  ------     --------------   -----  \n",
      " 0   id         202607 non-null  object \n",
      " 1   call_date  202607 non-null  object \n",
      " 2   duration   202607 non-null  float64\n",
      " 3   user_id    202607 non-null  int64  \n",
      "dtypes: float64(1), int64(1), object(2)\n",
      "memory usage: 6.2+ MB\n"
     ]
    }
   ],
   "source": [
    "calls.info()"
   ]
  },
  {
   "cell_type": "code",
   "execution_count": 5,
   "metadata": {},
   "outputs": [
    {
     "name": "stdout",
     "output_type": "stream",
     "text": [
      "<class 'pandas.core.frame.DataFrame'>\n",
      "RangeIndex: 123036 entries, 0 to 123035\n",
      "Data columns (total 3 columns):\n",
      " #   Column        Non-Null Count   Dtype \n",
      "---  ------        --------------   ----- \n",
      " 0   id            123036 non-null  object\n",
      " 1   message_date  123036 non-null  object\n",
      " 2   user_id       123036 non-null  int64 \n",
      "dtypes: int64(1), object(2)\n",
      "memory usage: 2.8+ MB\n"
     ]
    }
   ],
   "source": [
    "messages.info()"
   ]
  },
  {
   "cell_type": "code",
   "execution_count": 6,
   "metadata": {},
   "outputs": [
    {
     "name": "stdout",
     "output_type": "stream",
     "text": [
      "<class 'pandas.core.frame.DataFrame'>\n",
      "RangeIndex: 500 entries, 0 to 499\n",
      "Data columns (total 8 columns):\n",
      " #   Column      Non-Null Count  Dtype \n",
      "---  ------      --------------  ----- \n",
      " 0   user_id     500 non-null    int64 \n",
      " 1   age         500 non-null    int64 \n",
      " 2   churn_date  38 non-null     object\n",
      " 3   city        500 non-null    object\n",
      " 4   first_name  500 non-null    object\n",
      " 5   last_name   500 non-null    object\n",
      " 6   reg_date    500 non-null    object\n",
      " 7   tariff      500 non-null    object\n",
      "dtypes: int64(2), object(6)\n",
      "memory usage: 31.4+ KB\n"
     ]
    }
   ],
   "source": [
    "users.info()"
   ]
  },
  {
   "cell_type": "code",
   "execution_count": 7,
   "metadata": {},
   "outputs": [
    {
     "name": "stdout",
     "output_type": "stream",
     "text": [
      "<class 'pandas.core.frame.DataFrame'>\n",
      "RangeIndex: 2 entries, 0 to 1\n",
      "Data columns (total 8 columns):\n",
      " #   Column                 Non-Null Count  Dtype \n",
      "---  ------                 --------------  ----- \n",
      " 0   messages_included      2 non-null      int64 \n",
      " 1   mb_per_month_included  2 non-null      int64 \n",
      " 2   minutes_included       2 non-null      int64 \n",
      " 3   rub_monthly_fee        2 non-null      int64 \n",
      " 4   rub_per_gb             2 non-null      int64 \n",
      " 5   rub_per_message        2 non-null      int64 \n",
      " 6   rub_per_minute         2 non-null      int64 \n",
      " 7   tariff_name            2 non-null      object\n",
      "dtypes: int64(7), object(1)\n",
      "memory usage: 256.0+ bytes\n"
     ]
    }
   ],
   "source": [
    "tariffs.info()"
   ]
  },
  {
   "cell_type": "code",
   "execution_count": 8,
   "metadata": {},
   "outputs": [],
   "source": [
    "# Изменение типа данных на дату\n",
    "internet['session_date'] = pd.to_datetime(internet['session_date'], format = '%Y-%m-%d')\n",
    "calls['call_date'] = pd.to_datetime(calls['call_date'], format = '%Y-%m-%d')\n",
    "messages['message_date'] = pd.to_datetime(messages['message_date'], format = '%Y-%m-%d')\n",
    "users['churn_date'] = pd.to_datetime(users['churn_date'], format = '%Y-%m-%d')\n",
    "users['reg_date'] = pd.to_datetime(users['reg_date'], format = '%Y-%m-%d')"
   ]
  },
  {
   "cell_type": "code",
   "execution_count": 9,
   "metadata": {},
   "outputs": [],
   "source": [
    "# Округление данных\n",
    "calls['duration'] = np.ceil(calls['duration']).astype('int')\n",
    "#internet['mb_used'] = np.ceil(internet['mb_used']).astype('int')"
   ]
  },
  {
   "cell_type": "code",
   "execution_count": 10,
   "metadata": {},
   "outputs": [],
   "source": [
    "# Дополнительные столбцы с месяцами\n",
    "internet['month'] = internet['session_date'].dt.month\n",
    "calls['month'] = calls['call_date'].dt.month\n",
    "messages['month'] = messages['message_date'].dt.month"
   ]
  },
  {
   "cell_type": "code",
   "execution_count": 11,
   "metadata": {},
   "outputs": [
    {
     "data": {
      "text/html": [
       "<div>\n",
       "<style scoped>\n",
       "    .dataframe tbody tr th:only-of-type {\n",
       "        vertical-align: middle;\n",
       "    }\n",
       "\n",
       "    .dataframe tbody tr th {\n",
       "        vertical-align: top;\n",
       "    }\n",
       "\n",
       "    .dataframe thead th {\n",
       "        text-align: right;\n",
       "    }\n",
       "</style>\n",
       "<table border=\"1\" class=\"dataframe\">\n",
       "  <thead>\n",
       "    <tr style=\"text-align: right;\">\n",
       "      <th></th>\n",
       "      <th>Unnamed: 0</th>\n",
       "      <th>mb_used</th>\n",
       "      <th>user_id</th>\n",
       "      <th>month</th>\n",
       "    </tr>\n",
       "  </thead>\n",
       "  <tbody>\n",
       "    <tr>\n",
       "      <th>count</th>\n",
       "      <td>149396.000000</td>\n",
       "      <td>149396.000000</td>\n",
       "      <td>149396.000000</td>\n",
       "      <td>149396.000000</td>\n",
       "    </tr>\n",
       "    <tr>\n",
       "      <th>mean</th>\n",
       "      <td>74697.500000</td>\n",
       "      <td>370.192426</td>\n",
       "      <td>1252.099842</td>\n",
       "      <td>8.563315</td>\n",
       "    </tr>\n",
       "    <tr>\n",
       "      <th>std</th>\n",
       "      <td>43127.054745</td>\n",
       "      <td>278.300951</td>\n",
       "      <td>144.050823</td>\n",
       "      <td>2.788717</td>\n",
       "    </tr>\n",
       "    <tr>\n",
       "      <th>min</th>\n",
       "      <td>0.000000</td>\n",
       "      <td>0.000000</td>\n",
       "      <td>1000.000000</td>\n",
       "      <td>1.000000</td>\n",
       "    </tr>\n",
       "    <tr>\n",
       "      <th>25%</th>\n",
       "      <td>37348.750000</td>\n",
       "      <td>138.187500</td>\n",
       "      <td>1130.000000</td>\n",
       "      <td>7.000000</td>\n",
       "    </tr>\n",
       "    <tr>\n",
       "      <th>50%</th>\n",
       "      <td>74697.500000</td>\n",
       "      <td>348.015000</td>\n",
       "      <td>1251.000000</td>\n",
       "      <td>9.000000</td>\n",
       "    </tr>\n",
       "    <tr>\n",
       "      <th>75%</th>\n",
       "      <td>112046.250000</td>\n",
       "      <td>559.552500</td>\n",
       "      <td>1380.000000</td>\n",
       "      <td>11.000000</td>\n",
       "    </tr>\n",
       "    <tr>\n",
       "      <th>max</th>\n",
       "      <td>149395.000000</td>\n",
       "      <td>1724.830000</td>\n",
       "      <td>1499.000000</td>\n",
       "      <td>12.000000</td>\n",
       "    </tr>\n",
       "  </tbody>\n",
       "</table>\n",
       "</div>"
      ],
      "text/plain": [
       "          Unnamed: 0        mb_used        user_id          month\n",
       "count  149396.000000  149396.000000  149396.000000  149396.000000\n",
       "mean    74697.500000     370.192426    1252.099842       8.563315\n",
       "std     43127.054745     278.300951     144.050823       2.788717\n",
       "min         0.000000       0.000000    1000.000000       1.000000\n",
       "25%     37348.750000     138.187500    1130.000000       7.000000\n",
       "50%     74697.500000     348.015000    1251.000000       9.000000\n",
       "75%    112046.250000     559.552500    1380.000000      11.000000\n",
       "max    149395.000000    1724.830000    1499.000000      12.000000"
      ]
     },
     "execution_count": 11,
     "metadata": {},
     "output_type": "execute_result"
    }
   ],
   "source": [
    "# Описательные статистики\n",
    "internet.describe()"
   ]
  },
  {
   "cell_type": "code",
   "execution_count": 12,
   "metadata": {},
   "outputs": [
    {
     "data": {
      "text/html": [
       "<div>\n",
       "<style scoped>\n",
       "    .dataframe tbody tr th:only-of-type {\n",
       "        vertical-align: middle;\n",
       "    }\n",
       "\n",
       "    .dataframe tbody tr th {\n",
       "        vertical-align: top;\n",
       "    }\n",
       "\n",
       "    .dataframe thead th {\n",
       "        text-align: right;\n",
       "    }\n",
       "</style>\n",
       "<table border=\"1\" class=\"dataframe\">\n",
       "  <thead>\n",
       "    <tr style=\"text-align: right;\">\n",
       "      <th></th>\n",
       "      <th>duration</th>\n",
       "      <th>user_id</th>\n",
       "      <th>month</th>\n",
       "    </tr>\n",
       "  </thead>\n",
       "  <tbody>\n",
       "    <tr>\n",
       "      <th>count</th>\n",
       "      <td>202607.000000</td>\n",
       "      <td>202607.000000</td>\n",
       "      <td>202607.000000</td>\n",
       "    </tr>\n",
       "    <tr>\n",
       "      <th>mean</th>\n",
       "      <td>7.158198</td>\n",
       "      <td>1253.940619</td>\n",
       "      <td>8.574067</td>\n",
       "    </tr>\n",
       "    <tr>\n",
       "      <th>std</th>\n",
       "      <td>5.959173</td>\n",
       "      <td>144.722751</td>\n",
       "      <td>2.787093</td>\n",
       "    </tr>\n",
       "    <tr>\n",
       "      <th>min</th>\n",
       "      <td>0.000000</td>\n",
       "      <td>1000.000000</td>\n",
       "      <td>1.000000</td>\n",
       "    </tr>\n",
       "    <tr>\n",
       "      <th>25%</th>\n",
       "      <td>2.000000</td>\n",
       "      <td>1126.000000</td>\n",
       "      <td>7.000000</td>\n",
       "    </tr>\n",
       "    <tr>\n",
       "      <th>50%</th>\n",
       "      <td>6.000000</td>\n",
       "      <td>1260.000000</td>\n",
       "      <td>9.000000</td>\n",
       "    </tr>\n",
       "    <tr>\n",
       "      <th>75%</th>\n",
       "      <td>11.000000</td>\n",
       "      <td>1379.000000</td>\n",
       "      <td>11.000000</td>\n",
       "    </tr>\n",
       "    <tr>\n",
       "      <th>max</th>\n",
       "      <td>38.000000</td>\n",
       "      <td>1499.000000</td>\n",
       "      <td>12.000000</td>\n",
       "    </tr>\n",
       "  </tbody>\n",
       "</table>\n",
       "</div>"
      ],
      "text/plain": [
       "            duration        user_id          month\n",
       "count  202607.000000  202607.000000  202607.000000\n",
       "mean        7.158198    1253.940619       8.574067\n",
       "std         5.959173     144.722751       2.787093\n",
       "min         0.000000    1000.000000       1.000000\n",
       "25%         2.000000    1126.000000       7.000000\n",
       "50%         6.000000    1260.000000       9.000000\n",
       "75%        11.000000    1379.000000      11.000000\n",
       "max        38.000000    1499.000000      12.000000"
      ]
     },
     "execution_count": 12,
     "metadata": {},
     "output_type": "execute_result"
    }
   ],
   "source": [
    "calls.describe()"
   ]
  },
  {
   "cell_type": "code",
   "execution_count": 13,
   "metadata": {},
   "outputs": [
    {
     "data": {
      "text/html": [
       "<div>\n",
       "<style scoped>\n",
       "    .dataframe tbody tr th:only-of-type {\n",
       "        vertical-align: middle;\n",
       "    }\n",
       "\n",
       "    .dataframe tbody tr th {\n",
       "        vertical-align: top;\n",
       "    }\n",
       "\n",
       "    .dataframe thead th {\n",
       "        text-align: right;\n",
       "    }\n",
       "</style>\n",
       "<table border=\"1\" class=\"dataframe\">\n",
       "  <thead>\n",
       "    <tr style=\"text-align: right;\">\n",
       "      <th></th>\n",
       "      <th>user_id</th>\n",
       "      <th>month</th>\n",
       "    </tr>\n",
       "  </thead>\n",
       "  <tbody>\n",
       "    <tr>\n",
       "      <th>count</th>\n",
       "      <td>123036.000000</td>\n",
       "      <td>123036.000000</td>\n",
       "    </tr>\n",
       "    <tr>\n",
       "      <th>mean</th>\n",
       "      <td>1256.989410</td>\n",
       "      <td>8.632262</td>\n",
       "    </tr>\n",
       "    <tr>\n",
       "      <th>std</th>\n",
       "      <td>143.523967</td>\n",
       "      <td>2.747328</td>\n",
       "    </tr>\n",
       "    <tr>\n",
       "      <th>min</th>\n",
       "      <td>1000.000000</td>\n",
       "      <td>1.000000</td>\n",
       "    </tr>\n",
       "    <tr>\n",
       "      <th>25%</th>\n",
       "      <td>1134.000000</td>\n",
       "      <td>7.000000</td>\n",
       "    </tr>\n",
       "    <tr>\n",
       "      <th>50%</th>\n",
       "      <td>1271.000000</td>\n",
       "      <td>9.000000</td>\n",
       "    </tr>\n",
       "    <tr>\n",
       "      <th>75%</th>\n",
       "      <td>1381.000000</td>\n",
       "      <td>11.000000</td>\n",
       "    </tr>\n",
       "    <tr>\n",
       "      <th>max</th>\n",
       "      <td>1499.000000</td>\n",
       "      <td>12.000000</td>\n",
       "    </tr>\n",
       "  </tbody>\n",
       "</table>\n",
       "</div>"
      ],
      "text/plain": [
       "             user_id          month\n",
       "count  123036.000000  123036.000000\n",
       "mean     1256.989410       8.632262\n",
       "std       143.523967       2.747328\n",
       "min      1000.000000       1.000000\n",
       "25%      1134.000000       7.000000\n",
       "50%      1271.000000       9.000000\n",
       "75%      1381.000000      11.000000\n",
       "max      1499.000000      12.000000"
      ]
     },
     "execution_count": 13,
     "metadata": {},
     "output_type": "execute_result"
    }
   ],
   "source": [
    "messages.describe()"
   ]
  },
  {
   "cell_type": "code",
   "execution_count": 14,
   "metadata": {},
   "outputs": [
    {
     "data": {
      "text/html": [
       "<div>\n",
       "<style scoped>\n",
       "    .dataframe tbody tr th:only-of-type {\n",
       "        vertical-align: middle;\n",
       "    }\n",
       "\n",
       "    .dataframe tbody tr th {\n",
       "        vertical-align: top;\n",
       "    }\n",
       "\n",
       "    .dataframe thead th {\n",
       "        text-align: right;\n",
       "    }\n",
       "</style>\n",
       "<table border=\"1\" class=\"dataframe\">\n",
       "  <thead>\n",
       "    <tr style=\"text-align: right;\">\n",
       "      <th></th>\n",
       "      <th>user_id</th>\n",
       "      <th>age</th>\n",
       "    </tr>\n",
       "  </thead>\n",
       "  <tbody>\n",
       "    <tr>\n",
       "      <th>count</th>\n",
       "      <td>500.000000</td>\n",
       "      <td>500.00000</td>\n",
       "    </tr>\n",
       "    <tr>\n",
       "      <th>mean</th>\n",
       "      <td>1249.500000</td>\n",
       "      <td>46.58800</td>\n",
       "    </tr>\n",
       "    <tr>\n",
       "      <th>std</th>\n",
       "      <td>144.481833</td>\n",
       "      <td>16.66763</td>\n",
       "    </tr>\n",
       "    <tr>\n",
       "      <th>min</th>\n",
       "      <td>1000.000000</td>\n",
       "      <td>18.00000</td>\n",
       "    </tr>\n",
       "    <tr>\n",
       "      <th>25%</th>\n",
       "      <td>1124.750000</td>\n",
       "      <td>32.00000</td>\n",
       "    </tr>\n",
       "    <tr>\n",
       "      <th>50%</th>\n",
       "      <td>1249.500000</td>\n",
       "      <td>46.00000</td>\n",
       "    </tr>\n",
       "    <tr>\n",
       "      <th>75%</th>\n",
       "      <td>1374.250000</td>\n",
       "      <td>62.00000</td>\n",
       "    </tr>\n",
       "    <tr>\n",
       "      <th>max</th>\n",
       "      <td>1499.000000</td>\n",
       "      <td>75.00000</td>\n",
       "    </tr>\n",
       "  </tbody>\n",
       "</table>\n",
       "</div>"
      ],
      "text/plain": [
       "           user_id        age\n",
       "count   500.000000  500.00000\n",
       "mean   1249.500000   46.58800\n",
       "std     144.481833   16.66763\n",
       "min    1000.000000   18.00000\n",
       "25%    1124.750000   32.00000\n",
       "50%    1249.500000   46.00000\n",
       "75%    1374.250000   62.00000\n",
       "max    1499.000000   75.00000"
      ]
     },
     "execution_count": 14,
     "metadata": {},
     "output_type": "execute_result"
    }
   ],
   "source": [
    "users.describe()"
   ]
  },
  {
   "cell_type": "code",
   "execution_count": 15,
   "metadata": {},
   "outputs": [],
   "source": [
    "# Группировка баз данных перед объединением\n",
    "internet_group = internet.groupby(['user_id', 'month']).agg({'mb_used': 'sum'}).reset_index()\n",
    "calls_group = calls.groupby(['user_id', 'month']).agg({'duration': 'sum','id': 'count'}).reset_index()\n",
    "messages_group = messages.groupby(['user_id', 'month']).agg({'id': 'count'}).reset_index()"
   ]
  },
  {
   "cell_type": "code",
   "execution_count": 16,
   "metadata": {},
   "outputs": [
    {
     "name": "stdout",
     "output_type": "stream",
     "text": [
      "<class 'pandas.core.frame.DataFrame'>\n",
      "RangeIndex: 3203 entries, 0 to 3202\n",
      "Data columns (total 3 columns):\n",
      " #   Column   Non-Null Count  Dtype  \n",
      "---  ------   --------------  -----  \n",
      " 0   user_id  3203 non-null   int64  \n",
      " 1   month    3203 non-null   int64  \n",
      " 2   mb_used  3203 non-null   float64\n",
      "dtypes: float64(1), int64(2)\n",
      "memory usage: 75.2 KB\n"
     ]
    }
   ],
   "source": [
    "internet_group.info()"
   ]
  },
  {
   "cell_type": "code",
   "execution_count": 17,
   "metadata": {},
   "outputs": [
    {
     "name": "stdout",
     "output_type": "stream",
     "text": [
      "<class 'pandas.core.frame.DataFrame'>\n",
      "RangeIndex: 3174 entries, 0 to 3173\n",
      "Data columns (total 4 columns):\n",
      " #   Column    Non-Null Count  Dtype\n",
      "---  ------    --------------  -----\n",
      " 0   user_id   3174 non-null   int64\n",
      " 1   month     3174 non-null   int64\n",
      " 2   duration  3174 non-null   int64\n",
      " 3   id        3174 non-null   int64\n",
      "dtypes: int64(4)\n",
      "memory usage: 99.3 KB\n"
     ]
    }
   ],
   "source": [
    "calls_group.info()"
   ]
  },
  {
   "cell_type": "code",
   "execution_count": 18,
   "metadata": {},
   "outputs": [
    {
     "name": "stdout",
     "output_type": "stream",
     "text": [
      "<class 'pandas.core.frame.DataFrame'>\n",
      "RangeIndex: 2717 entries, 0 to 2716\n",
      "Data columns (total 3 columns):\n",
      " #   Column   Non-Null Count  Dtype\n",
      "---  ------   --------------  -----\n",
      " 0   user_id  2717 non-null   int64\n",
      " 1   month    2717 non-null   int64\n",
      " 2   id       2717 non-null   int64\n",
      "dtypes: int64(3)\n",
      "memory usage: 63.8 KB\n"
     ]
    }
   ],
   "source": [
    "messages_group.info()"
   ]
  },
  {
   "cell_type": "code",
   "execution_count": 19,
   "metadata": {},
   "outputs": [
    {
     "name": "stdout",
     "output_type": "stream",
     "text": [
      "<class 'pandas.core.frame.DataFrame'>\n",
      "Int64Index: 3214 entries, 0 to 3213\n",
      "Data columns (total 6 columns):\n",
      " #   Column    Non-Null Count  Dtype  \n",
      "---  ------    --------------  -----  \n",
      " 0   user_id   3214 non-null   int64  \n",
      " 1   month     3214 non-null   int64  \n",
      " 2   mb_used   3203 non-null   float64\n",
      " 3   duration  3174 non-null   float64\n",
      " 4   id_sms    3174 non-null   float64\n",
      " 5   id_count  2717 non-null   float64\n",
      "dtypes: float64(4), int64(2)\n",
      "memory usage: 175.8 KB\n"
     ]
    }
   ],
   "source": [
    "# Объединим базы\n",
    "data = internet_group.merge(calls_group, on=['user_id', 'month'], how='outer')\n",
    "data_1 = data.merge(messages_group, on = ['user_id', 'month'], how = 'outer', suffixes = ('_sms','_count'))\n",
    "# Посмотрим, что получилось\n",
    "data_1.info()"
   ]
  },
  {
   "cell_type": "code",
   "execution_count": 20,
   "metadata": {},
   "outputs": [],
   "source": [
    "# Лучше переименовать столбцы\n",
    "data_1.rename(columns = {'id_sms': 'sms'}, inplace = True)\n",
    "data_1.rename(columns = {'id_count': 'calls_count'}, inplace = True)"
   ]
  },
  {
   "cell_type": "code",
   "execution_count": 21,
   "metadata": {},
   "outputs": [
    {
     "data": {
      "text/plain": [
       "user_id          0\n",
       "month            0\n",
       "mb_used         11\n",
       "duration        40\n",
       "sms             40\n",
       "calls_count    497\n",
       "dtype: int64"
      ]
     },
     "execution_count": 21,
     "metadata": {},
     "output_type": "execute_result"
    }
   ],
   "source": [
    "# Посмотрим пропуски\n",
    "data_1.isna().sum()"
   ]
  },
  {
   "cell_type": "code",
   "execution_count": 22,
   "metadata": {},
   "outputs": [
    {
     "data": {
      "text/html": [
       "<div>\n",
       "<style scoped>\n",
       "    .dataframe tbody tr th:only-of-type {\n",
       "        vertical-align: middle;\n",
       "    }\n",
       "\n",
       "    .dataframe tbody tr th {\n",
       "        vertical-align: top;\n",
       "    }\n",
       "\n",
       "    .dataframe thead th {\n",
       "        text-align: right;\n",
       "    }\n",
       "</style>\n",
       "<table border=\"1\" class=\"dataframe\">\n",
       "  <thead>\n",
       "    <tr style=\"text-align: right;\">\n",
       "      <th></th>\n",
       "      <th>user_id</th>\n",
       "      <th>month</th>\n",
       "      <th>mb_used</th>\n",
       "      <th>duration</th>\n",
       "      <th>sms</th>\n",
       "      <th>calls_count</th>\n",
       "    </tr>\n",
       "  </thead>\n",
       "  <tbody>\n",
       "    <tr>\n",
       "      <th>0</th>\n",
       "      <td>1000</td>\n",
       "      <td>5</td>\n",
       "      <td>2253</td>\n",
       "      <td>159</td>\n",
       "      <td>22</td>\n",
       "      <td>22</td>\n",
       "    </tr>\n",
       "    <tr>\n",
       "      <th>1</th>\n",
       "      <td>1000</td>\n",
       "      <td>6</td>\n",
       "      <td>23233</td>\n",
       "      <td>172</td>\n",
       "      <td>43</td>\n",
       "      <td>60</td>\n",
       "    </tr>\n",
       "    <tr>\n",
       "      <th>2</th>\n",
       "      <td>1000</td>\n",
       "      <td>7</td>\n",
       "      <td>14003</td>\n",
       "      <td>340</td>\n",
       "      <td>47</td>\n",
       "      <td>75</td>\n",
       "    </tr>\n",
       "    <tr>\n",
       "      <th>3</th>\n",
       "      <td>1000</td>\n",
       "      <td>8</td>\n",
       "      <td>14055</td>\n",
       "      <td>408</td>\n",
       "      <td>52</td>\n",
       "      <td>81</td>\n",
       "    </tr>\n",
       "    <tr>\n",
       "      <th>4</th>\n",
       "      <td>1000</td>\n",
       "      <td>9</td>\n",
       "      <td>14568</td>\n",
       "      <td>466</td>\n",
       "      <td>58</td>\n",
       "      <td>57</td>\n",
       "    </tr>\n",
       "    <tr>\n",
       "      <th>...</th>\n",
       "      <td>...</td>\n",
       "      <td>...</td>\n",
       "      <td>...</td>\n",
       "      <td>...</td>\n",
       "      <td>...</td>\n",
       "      <td>...</td>\n",
       "    </tr>\n",
       "    <tr>\n",
       "      <th>3209</th>\n",
       "      <td>1273</td>\n",
       "      <td>11</td>\n",
       "      <td>0</td>\n",
       "      <td>272</td>\n",
       "      <td>45</td>\n",
       "      <td>29</td>\n",
       "    </tr>\n",
       "    <tr>\n",
       "      <th>3210</th>\n",
       "      <td>1273</td>\n",
       "      <td>12</td>\n",
       "      <td>0</td>\n",
       "      <td>260</td>\n",
       "      <td>41</td>\n",
       "      <td>39</td>\n",
       "    </tr>\n",
       "    <tr>\n",
       "      <th>3211</th>\n",
       "      <td>1377</td>\n",
       "      <td>2</td>\n",
       "      <td>0</td>\n",
       "      <td>179</td>\n",
       "      <td>23</td>\n",
       "      <td>2</td>\n",
       "    </tr>\n",
       "    <tr>\n",
       "      <th>3212</th>\n",
       "      <td>1392</td>\n",
       "      <td>2</td>\n",
       "      <td>0</td>\n",
       "      <td>13</td>\n",
       "      <td>2</td>\n",
       "      <td>3</td>\n",
       "    </tr>\n",
       "    <tr>\n",
       "      <th>3213</th>\n",
       "      <td>1446</td>\n",
       "      <td>8</td>\n",
       "      <td>0</td>\n",
       "      <td>50</td>\n",
       "      <td>4</td>\n",
       "      <td>1</td>\n",
       "    </tr>\n",
       "  </tbody>\n",
       "</table>\n",
       "<p>3214 rows × 6 columns</p>\n",
       "</div>"
      ],
      "text/plain": [
       "      user_id  month  mb_used  duration  sms  calls_count\n",
       "0        1000      5     2253       159   22           22\n",
       "1        1000      6    23233       172   43           60\n",
       "2        1000      7    14003       340   47           75\n",
       "3        1000      8    14055       408   52           81\n",
       "4        1000      9    14568       466   58           57\n",
       "...       ...    ...      ...       ...  ...          ...\n",
       "3209     1273     11        0       272   45           29\n",
       "3210     1273     12        0       260   41           39\n",
       "3211     1377      2        0       179   23            2\n",
       "3212     1392      2        0        13    2            3\n",
       "3213     1446      8        0        50    4            1\n",
       "\n",
       "[3214 rows x 6 columns]"
      ]
     },
     "execution_count": 22,
     "metadata": {},
     "output_type": "execute_result"
    }
   ],
   "source": [
    "# Заменим на 0\n",
    "data_1.fillna(0).astype('int')"
   ]
  },
  {
   "cell_type": "code",
   "execution_count": 23,
   "metadata": {},
   "outputs": [
    {
     "name": "stdout",
     "output_type": "stream",
     "text": [
      "<class 'pandas.core.frame.DataFrame'>\n",
      "Int64Index: 3214 entries, 0 to 3213\n",
      "Data columns (total 13 columns):\n",
      " #   Column       Non-Null Count  Dtype         \n",
      "---  ------       --------------  -----         \n",
      " 0   user_id      3214 non-null   int64         \n",
      " 1   month        3214 non-null   int64         \n",
      " 2   mb_used      3203 non-null   float64       \n",
      " 3   duration     3174 non-null   float64       \n",
      " 4   sms          3174 non-null   float64       \n",
      " 5   calls_count  2717 non-null   float64       \n",
      " 6   age          3214 non-null   int64         \n",
      " 7   churn_date   187 non-null    datetime64[ns]\n",
      " 8   city         3214 non-null   object        \n",
      " 9   first_name   3214 non-null   object        \n",
      " 10  last_name    3214 non-null   object        \n",
      " 11  reg_date     3214 non-null   datetime64[ns]\n",
      " 12  tariff       3214 non-null   object        \n",
      "dtypes: datetime64[ns](2), float64(4), int64(3), object(4)\n",
      "memory usage: 351.5+ KB\n"
     ]
    }
   ],
   "source": [
    "# Добавим остальные базы\n",
    "data_2 = data_1.merge(users, how = 'left')\n",
    "data_2.info()"
   ]
  },
  {
   "cell_type": "code",
   "execution_count": 24,
   "metadata": {},
   "outputs": [
    {
     "name": "stdout",
     "output_type": "stream",
     "text": [
      "<class 'pandas.core.frame.DataFrame'>\n",
      "Int64Index: 3214 entries, 0 to 3213\n",
      "Data columns (total 21 columns):\n",
      " #   Column                 Non-Null Count  Dtype         \n",
      "---  ------                 --------------  -----         \n",
      " 0   user_id                3214 non-null   int64         \n",
      " 1   month                  3214 non-null   int64         \n",
      " 2   mb_used                3203 non-null   float64       \n",
      " 3   duration               3174 non-null   float64       \n",
      " 4   sms                    3174 non-null   float64       \n",
      " 5   calls_count            2717 non-null   float64       \n",
      " 6   age                    3214 non-null   int64         \n",
      " 7   churn_date             187 non-null    datetime64[ns]\n",
      " 8   city                   3214 non-null   object        \n",
      " 9   first_name             3214 non-null   object        \n",
      " 10  last_name              3214 non-null   object        \n",
      " 11  reg_date               3214 non-null   datetime64[ns]\n",
      " 12  tariff                 3214 non-null   object        \n",
      " 13  messages_included      3214 non-null   int64         \n",
      " 14  mb_per_month_included  3214 non-null   int64         \n",
      " 15  minutes_included       3214 non-null   int64         \n",
      " 16  rub_monthly_fee        3214 non-null   int64         \n",
      " 17  rub_per_gb             3214 non-null   int64         \n",
      " 18  rub_per_message        3214 non-null   int64         \n",
      " 19  rub_per_minute         3214 non-null   int64         \n",
      " 20  tariff_name            3214 non-null   object        \n",
      "dtypes: datetime64[ns](2), float64(4), int64(10), object(5)\n",
      "memory usage: 552.4+ KB\n"
     ]
    }
   ],
   "source": [
    "data_3 = data_2.merge(tariffs, left_on='tariff', right_on='tariff_name', how='outer')\n",
    "data_3.info()"
   ]
  },
  {
   "cell_type": "code",
   "execution_count": 25,
   "metadata": {},
   "outputs": [
    {
     "data": {
      "text/html": [
       "<div>\n",
       "<style scoped>\n",
       "    .dataframe tbody tr th:only-of-type {\n",
       "        vertical-align: middle;\n",
       "    }\n",
       "\n",
       "    .dataframe tbody tr th {\n",
       "        vertical-align: top;\n",
       "    }\n",
       "\n",
       "    .dataframe thead th {\n",
       "        text-align: right;\n",
       "    }\n",
       "</style>\n",
       "<table border=\"1\" class=\"dataframe\">\n",
       "  <thead>\n",
       "    <tr style=\"text-align: right;\">\n",
       "      <th></th>\n",
       "      <th>user_id</th>\n",
       "      <th>month</th>\n",
       "      <th>mb_used</th>\n",
       "      <th>duration</th>\n",
       "      <th>sms</th>\n",
       "      <th>calls_count</th>\n",
       "      <th>age</th>\n",
       "      <th>churn_date</th>\n",
       "      <th>city</th>\n",
       "      <th>first_name</th>\n",
       "      <th>...</th>\n",
       "      <th>reg_date</th>\n",
       "      <th>tariff</th>\n",
       "      <th>messages_included</th>\n",
       "      <th>mb_per_month_included</th>\n",
       "      <th>minutes_included</th>\n",
       "      <th>rub_monthly_fee</th>\n",
       "      <th>rub_per_gb</th>\n",
       "      <th>rub_per_message</th>\n",
       "      <th>rub_per_minute</th>\n",
       "      <th>tariff_name</th>\n",
       "    </tr>\n",
       "  </thead>\n",
       "  <tbody>\n",
       "    <tr>\n",
       "      <th>0</th>\n",
       "      <td>1000</td>\n",
       "      <td>5</td>\n",
       "      <td>2253.49</td>\n",
       "      <td>159.0</td>\n",
       "      <td>22.0</td>\n",
       "      <td>22.0</td>\n",
       "      <td>52</td>\n",
       "      <td>0</td>\n",
       "      <td>Краснодар</td>\n",
       "      <td>Рафаил</td>\n",
       "      <td>...</td>\n",
       "      <td>2018-05-25</td>\n",
       "      <td>ultra</td>\n",
       "      <td>1000</td>\n",
       "      <td>30720</td>\n",
       "      <td>3000</td>\n",
       "      <td>1950</td>\n",
       "      <td>150</td>\n",
       "      <td>1</td>\n",
       "      <td>1</td>\n",
       "      <td>ultra</td>\n",
       "    </tr>\n",
       "    <tr>\n",
       "      <th>1</th>\n",
       "      <td>1000</td>\n",
       "      <td>6</td>\n",
       "      <td>23233.77</td>\n",
       "      <td>172.0</td>\n",
       "      <td>43.0</td>\n",
       "      <td>60.0</td>\n",
       "      <td>52</td>\n",
       "      <td>0</td>\n",
       "      <td>Краснодар</td>\n",
       "      <td>Рафаил</td>\n",
       "      <td>...</td>\n",
       "      <td>2018-05-25</td>\n",
       "      <td>ultra</td>\n",
       "      <td>1000</td>\n",
       "      <td>30720</td>\n",
       "      <td>3000</td>\n",
       "      <td>1950</td>\n",
       "      <td>150</td>\n",
       "      <td>1</td>\n",
       "      <td>1</td>\n",
       "      <td>ultra</td>\n",
       "    </tr>\n",
       "    <tr>\n",
       "      <th>2</th>\n",
       "      <td>1000</td>\n",
       "      <td>7</td>\n",
       "      <td>14003.64</td>\n",
       "      <td>340.0</td>\n",
       "      <td>47.0</td>\n",
       "      <td>75.0</td>\n",
       "      <td>52</td>\n",
       "      <td>0</td>\n",
       "      <td>Краснодар</td>\n",
       "      <td>Рафаил</td>\n",
       "      <td>...</td>\n",
       "      <td>2018-05-25</td>\n",
       "      <td>ultra</td>\n",
       "      <td>1000</td>\n",
       "      <td>30720</td>\n",
       "      <td>3000</td>\n",
       "      <td>1950</td>\n",
       "      <td>150</td>\n",
       "      <td>1</td>\n",
       "      <td>1</td>\n",
       "      <td>ultra</td>\n",
       "    </tr>\n",
       "    <tr>\n",
       "      <th>3</th>\n",
       "      <td>1000</td>\n",
       "      <td>8</td>\n",
       "      <td>14055.93</td>\n",
       "      <td>408.0</td>\n",
       "      <td>52.0</td>\n",
       "      <td>81.0</td>\n",
       "      <td>52</td>\n",
       "      <td>0</td>\n",
       "      <td>Краснодар</td>\n",
       "      <td>Рафаил</td>\n",
       "      <td>...</td>\n",
       "      <td>2018-05-25</td>\n",
       "      <td>ultra</td>\n",
       "      <td>1000</td>\n",
       "      <td>30720</td>\n",
       "      <td>3000</td>\n",
       "      <td>1950</td>\n",
       "      <td>150</td>\n",
       "      <td>1</td>\n",
       "      <td>1</td>\n",
       "      <td>ultra</td>\n",
       "    </tr>\n",
       "    <tr>\n",
       "      <th>4</th>\n",
       "      <td>1000</td>\n",
       "      <td>9</td>\n",
       "      <td>14568.91</td>\n",
       "      <td>466.0</td>\n",
       "      <td>58.0</td>\n",
       "      <td>57.0</td>\n",
       "      <td>52</td>\n",
       "      <td>0</td>\n",
       "      <td>Краснодар</td>\n",
       "      <td>Рафаил</td>\n",
       "      <td>...</td>\n",
       "      <td>2018-05-25</td>\n",
       "      <td>ultra</td>\n",
       "      <td>1000</td>\n",
       "      <td>30720</td>\n",
       "      <td>3000</td>\n",
       "      <td>1950</td>\n",
       "      <td>150</td>\n",
       "      <td>1</td>\n",
       "      <td>1</td>\n",
       "      <td>ultra</td>\n",
       "    </tr>\n",
       "    <tr>\n",
       "      <th>...</th>\n",
       "      <td>...</td>\n",
       "      <td>...</td>\n",
       "      <td>...</td>\n",
       "      <td>...</td>\n",
       "      <td>...</td>\n",
       "      <td>...</td>\n",
       "      <td>...</td>\n",
       "      <td>...</td>\n",
       "      <td>...</td>\n",
       "      <td>...</td>\n",
       "      <td>...</td>\n",
       "      <td>...</td>\n",
       "      <td>...</td>\n",
       "      <td>...</td>\n",
       "      <td>...</td>\n",
       "      <td>...</td>\n",
       "      <td>...</td>\n",
       "      <td>...</td>\n",
       "      <td>...</td>\n",
       "      <td>...</td>\n",
       "      <td>...</td>\n",
       "    </tr>\n",
       "    <tr>\n",
       "      <th>3209</th>\n",
       "      <td>1499</td>\n",
       "      <td>9</td>\n",
       "      <td>1845.75</td>\n",
       "      <td>70.0</td>\n",
       "      <td>9.0</td>\n",
       "      <td>11.0</td>\n",
       "      <td>35</td>\n",
       "      <td>0</td>\n",
       "      <td>Пермь</td>\n",
       "      <td>Гектор</td>\n",
       "      <td>...</td>\n",
       "      <td>2018-09-27</td>\n",
       "      <td>smart</td>\n",
       "      <td>50</td>\n",
       "      <td>15360</td>\n",
       "      <td>500</td>\n",
       "      <td>550</td>\n",
       "      <td>200</td>\n",
       "      <td>3</td>\n",
       "      <td>3</td>\n",
       "      <td>smart</td>\n",
       "    </tr>\n",
       "    <tr>\n",
       "      <th>3210</th>\n",
       "      <td>1499</td>\n",
       "      <td>10</td>\n",
       "      <td>17788.51</td>\n",
       "      <td>449.0</td>\n",
       "      <td>68.0</td>\n",
       "      <td>48.0</td>\n",
       "      <td>35</td>\n",
       "      <td>0</td>\n",
       "      <td>Пермь</td>\n",
       "      <td>Гектор</td>\n",
       "      <td>...</td>\n",
       "      <td>2018-09-27</td>\n",
       "      <td>smart</td>\n",
       "      <td>50</td>\n",
       "      <td>15360</td>\n",
       "      <td>500</td>\n",
       "      <td>550</td>\n",
       "      <td>200</td>\n",
       "      <td>3</td>\n",
       "      <td>3</td>\n",
       "      <td>smart</td>\n",
       "    </tr>\n",
       "    <tr>\n",
       "      <th>3211</th>\n",
       "      <td>1499</td>\n",
       "      <td>11</td>\n",
       "      <td>17963.31</td>\n",
       "      <td>612.0</td>\n",
       "      <td>74.0</td>\n",
       "      <td>59.0</td>\n",
       "      <td>35</td>\n",
       "      <td>0</td>\n",
       "      <td>Пермь</td>\n",
       "      <td>Гектор</td>\n",
       "      <td>...</td>\n",
       "      <td>2018-09-27</td>\n",
       "      <td>smart</td>\n",
       "      <td>50</td>\n",
       "      <td>15360</td>\n",
       "      <td>500</td>\n",
       "      <td>550</td>\n",
       "      <td>200</td>\n",
       "      <td>3</td>\n",
       "      <td>3</td>\n",
       "      <td>smart</td>\n",
       "    </tr>\n",
       "    <tr>\n",
       "      <th>3212</th>\n",
       "      <td>1499</td>\n",
       "      <td>12</td>\n",
       "      <td>13055.58</td>\n",
       "      <td>492.0</td>\n",
       "      <td>69.0</td>\n",
       "      <td>66.0</td>\n",
       "      <td>35</td>\n",
       "      <td>0</td>\n",
       "      <td>Пермь</td>\n",
       "      <td>Гектор</td>\n",
       "      <td>...</td>\n",
       "      <td>2018-09-27</td>\n",
       "      <td>smart</td>\n",
       "      <td>50</td>\n",
       "      <td>15360</td>\n",
       "      <td>500</td>\n",
       "      <td>550</td>\n",
       "      <td>200</td>\n",
       "      <td>3</td>\n",
       "      <td>3</td>\n",
       "      <td>smart</td>\n",
       "    </tr>\n",
       "    <tr>\n",
       "      <th>3213</th>\n",
       "      <td>1446</td>\n",
       "      <td>8</td>\n",
       "      <td>0.00</td>\n",
       "      <td>50.0</td>\n",
       "      <td>4.0</td>\n",
       "      <td>1.0</td>\n",
       "      <td>64</td>\n",
       "      <td>0</td>\n",
       "      <td>Липецк</td>\n",
       "      <td>Антонина</td>\n",
       "      <td>...</td>\n",
       "      <td>2018-08-31</td>\n",
       "      <td>smart</td>\n",
       "      <td>50</td>\n",
       "      <td>15360</td>\n",
       "      <td>500</td>\n",
       "      <td>550</td>\n",
       "      <td>200</td>\n",
       "      <td>3</td>\n",
       "      <td>3</td>\n",
       "      <td>smart</td>\n",
       "    </tr>\n",
       "  </tbody>\n",
       "</table>\n",
       "<p>3214 rows × 21 columns</p>\n",
       "</div>"
      ],
      "text/plain": [
       "      user_id  month   mb_used  duration   sms  calls_count  age churn_date  \\\n",
       "0        1000      5   2253.49     159.0  22.0         22.0   52          0   \n",
       "1        1000      6  23233.77     172.0  43.0         60.0   52          0   \n",
       "2        1000      7  14003.64     340.0  47.0         75.0   52          0   \n",
       "3        1000      8  14055.93     408.0  52.0         81.0   52          0   \n",
       "4        1000      9  14568.91     466.0  58.0         57.0   52          0   \n",
       "...       ...    ...       ...       ...   ...          ...  ...        ...   \n",
       "3209     1499      9   1845.75      70.0   9.0         11.0   35          0   \n",
       "3210     1499     10  17788.51     449.0  68.0         48.0   35          0   \n",
       "3211     1499     11  17963.31     612.0  74.0         59.0   35          0   \n",
       "3212     1499     12  13055.58     492.0  69.0         66.0   35          0   \n",
       "3213     1446      8      0.00      50.0   4.0          1.0   64          0   \n",
       "\n",
       "           city first_name  ...   reg_date tariff messages_included  \\\n",
       "0     Краснодар     Рафаил  ... 2018-05-25  ultra              1000   \n",
       "1     Краснодар     Рафаил  ... 2018-05-25  ultra              1000   \n",
       "2     Краснодар     Рафаил  ... 2018-05-25  ultra              1000   \n",
       "3     Краснодар     Рафаил  ... 2018-05-25  ultra              1000   \n",
       "4     Краснодар     Рафаил  ... 2018-05-25  ultra              1000   \n",
       "...         ...        ...  ...        ...    ...               ...   \n",
       "3209      Пермь     Гектор  ... 2018-09-27  smart                50   \n",
       "3210      Пермь     Гектор  ... 2018-09-27  smart                50   \n",
       "3211      Пермь     Гектор  ... 2018-09-27  smart                50   \n",
       "3212      Пермь     Гектор  ... 2018-09-27  smart                50   \n",
       "3213     Липецк   Антонина  ... 2018-08-31  smart                50   \n",
       "\n",
       "      mb_per_month_included  minutes_included  rub_monthly_fee  rub_per_gb  \\\n",
       "0                     30720              3000             1950         150   \n",
       "1                     30720              3000             1950         150   \n",
       "2                     30720              3000             1950         150   \n",
       "3                     30720              3000             1950         150   \n",
       "4                     30720              3000             1950         150   \n",
       "...                     ...               ...              ...         ...   \n",
       "3209                  15360               500              550         200   \n",
       "3210                  15360               500              550         200   \n",
       "3211                  15360               500              550         200   \n",
       "3212                  15360               500              550         200   \n",
       "3213                  15360               500              550         200   \n",
       "\n",
       "      rub_per_message  rub_per_minute  tariff_name  \n",
       "0                   1               1        ultra  \n",
       "1                   1               1        ultra  \n",
       "2                   1               1        ultra  \n",
       "3                   1               1        ultra  \n",
       "4                   1               1        ultra  \n",
       "...               ...             ...          ...  \n",
       "3209                3               3        smart  \n",
       "3210                3               3        smart  \n",
       "3211                3               3        smart  \n",
       "3212                3               3        smart  \n",
       "3213                3               3        smart  \n",
       "\n",
       "[3214 rows x 21 columns]"
      ]
     },
     "execution_count": 25,
     "metadata": {},
     "output_type": "execute_result"
    }
   ],
   "source": [
    "data_3.fillna(0)"
   ]
  },
  {
   "cell_type": "markdown",
   "metadata": {},
   "source": [
    "### Вывод"
   ]
  },
  {
   "cell_type": "markdown",
   "metadata": {},
   "source": [
    "1. Значения 0 есть только в продолжительности звонков, трафика и смс. Значения корректировать не нужно, т.к. 0 - отсутствие звонков и смс или потребления траффика.\n",
    "2. В данных о возрасте абонента минимальное значение 18, максимальное - 75 лет, что вполне нормально, выбросов нет.\n",
    "3. Все данные сведены в одну базу."
   ]
  },
  {
   "cell_type": "markdown",
   "metadata": {},
   "source": [
    "## Анализ данных"
   ]
  },
  {
   "cell_type": "markdown",
   "metadata": {},
   "source": [
    "### Расчеты для каждого пользователя"
   ]
  },
  {
   "cell_type": "markdown",
   "metadata": {},
   "source": [
    "**Количество сделанных звонков и израсходованных минут разговора по месяцам**"
   ]
  },
  {
   "cell_type": "code",
   "execution_count": 26,
   "metadata": {},
   "outputs": [
    {
     "data": {
      "text/html": [
       "<div>\n",
       "<style scoped>\n",
       "    .dataframe tbody tr th:only-of-type {\n",
       "        vertical-align: middle;\n",
       "    }\n",
       "\n",
       "    .dataframe tbody tr th {\n",
       "        vertical-align: top;\n",
       "    }\n",
       "\n",
       "    .dataframe thead tr th {\n",
       "        text-align: left;\n",
       "    }\n",
       "\n",
       "    .dataframe thead tr:last-of-type th {\n",
       "        text-align: right;\n",
       "    }\n",
       "</style>\n",
       "<table border=\"1\" class=\"dataframe\">\n",
       "  <thead>\n",
       "    <tr>\n",
       "      <th></th>\n",
       "      <th></th>\n",
       "      <th colspan=\"2\" halign=\"left\">sum</th>\n",
       "    </tr>\n",
       "    <tr>\n",
       "      <th></th>\n",
       "      <th></th>\n",
       "      <th>calls_count</th>\n",
       "      <th>duration</th>\n",
       "    </tr>\n",
       "    <tr>\n",
       "      <th>user_id</th>\n",
       "      <th>month</th>\n",
       "      <th></th>\n",
       "      <th></th>\n",
       "    </tr>\n",
       "  </thead>\n",
       "  <tbody>\n",
       "    <tr>\n",
       "      <th rowspan=\"5\" valign=\"top\">1000</th>\n",
       "      <th>5</th>\n",
       "      <td>22.0</td>\n",
       "      <td>159.0</td>\n",
       "    </tr>\n",
       "    <tr>\n",
       "      <th>6</th>\n",
       "      <td>60.0</td>\n",
       "      <td>172.0</td>\n",
       "    </tr>\n",
       "    <tr>\n",
       "      <th>7</th>\n",
       "      <td>75.0</td>\n",
       "      <td>340.0</td>\n",
       "    </tr>\n",
       "    <tr>\n",
       "      <th>8</th>\n",
       "      <td>81.0</td>\n",
       "      <td>408.0</td>\n",
       "    </tr>\n",
       "    <tr>\n",
       "      <th>9</th>\n",
       "      <td>57.0</td>\n",
       "      <td>466.0</td>\n",
       "    </tr>\n",
       "    <tr>\n",
       "      <th>...</th>\n",
       "      <th>...</th>\n",
       "      <td>...</td>\n",
       "      <td>...</td>\n",
       "    </tr>\n",
       "    <tr>\n",
       "      <th>1498</th>\n",
       "      <th>10</th>\n",
       "      <td>42.0</td>\n",
       "      <td>247.0</td>\n",
       "    </tr>\n",
       "    <tr>\n",
       "      <th rowspan=\"4\" valign=\"top\">1499</th>\n",
       "      <th>9</th>\n",
       "      <td>11.0</td>\n",
       "      <td>70.0</td>\n",
       "    </tr>\n",
       "    <tr>\n",
       "      <th>10</th>\n",
       "      <td>48.0</td>\n",
       "      <td>449.0</td>\n",
       "    </tr>\n",
       "    <tr>\n",
       "      <th>11</th>\n",
       "      <td>59.0</td>\n",
       "      <td>612.0</td>\n",
       "    </tr>\n",
       "    <tr>\n",
       "      <th>12</th>\n",
       "      <td>66.0</td>\n",
       "      <td>492.0</td>\n",
       "    </tr>\n",
       "  </tbody>\n",
       "</table>\n",
       "<p>3214 rows × 2 columns</p>\n",
       "</div>"
      ],
      "text/plain": [
       "                      sum         \n",
       "              calls_count duration\n",
       "user_id month                     \n",
       "1000    5            22.0    159.0\n",
       "        6            60.0    172.0\n",
       "        7            75.0    340.0\n",
       "        8            81.0    408.0\n",
       "        9            57.0    466.0\n",
       "...                   ...      ...\n",
       "1498    10           42.0    247.0\n",
       "1499    9            11.0     70.0\n",
       "        10           48.0    449.0\n",
       "        11           59.0    612.0\n",
       "        12           66.0    492.0\n",
       "\n",
       "[3214 rows x 2 columns]"
      ]
     },
     "execution_count": 26,
     "metadata": {},
     "output_type": "execute_result"
    }
   ],
   "source": [
    "data_3.pivot_table(index = ['user_id', 'month'], values = ['duration', 'calls_count'], aggfunc = ['sum'])"
   ]
  },
  {
   "cell_type": "markdown",
   "metadata": {},
   "source": [
    "**Количество отправленных сообщений по месяцам**"
   ]
  },
  {
   "cell_type": "code",
   "execution_count": 27,
   "metadata": {},
   "outputs": [
    {
     "data": {
      "text/html": [
       "<div>\n",
       "<style scoped>\n",
       "    .dataframe tbody tr th:only-of-type {\n",
       "        vertical-align: middle;\n",
       "    }\n",
       "\n",
       "    .dataframe tbody tr th {\n",
       "        vertical-align: top;\n",
       "    }\n",
       "\n",
       "    .dataframe thead tr th {\n",
       "        text-align: left;\n",
       "    }\n",
       "\n",
       "    .dataframe thead tr:last-of-type th {\n",
       "        text-align: right;\n",
       "    }\n",
       "</style>\n",
       "<table border=\"1\" class=\"dataframe\">\n",
       "  <thead>\n",
       "    <tr>\n",
       "      <th></th>\n",
       "      <th></th>\n",
       "      <th>sum</th>\n",
       "    </tr>\n",
       "    <tr>\n",
       "      <th></th>\n",
       "      <th></th>\n",
       "      <th>sms</th>\n",
       "    </tr>\n",
       "    <tr>\n",
       "      <th>user_id</th>\n",
       "      <th>month</th>\n",
       "      <th></th>\n",
       "    </tr>\n",
       "  </thead>\n",
       "  <tbody>\n",
       "    <tr>\n",
       "      <th rowspan=\"5\" valign=\"top\">1000</th>\n",
       "      <th>5</th>\n",
       "      <td>22.0</td>\n",
       "    </tr>\n",
       "    <tr>\n",
       "      <th>6</th>\n",
       "      <td>43.0</td>\n",
       "    </tr>\n",
       "    <tr>\n",
       "      <th>7</th>\n",
       "      <td>47.0</td>\n",
       "    </tr>\n",
       "    <tr>\n",
       "      <th>8</th>\n",
       "      <td>52.0</td>\n",
       "    </tr>\n",
       "    <tr>\n",
       "      <th>9</th>\n",
       "      <td>58.0</td>\n",
       "    </tr>\n",
       "    <tr>\n",
       "      <th>...</th>\n",
       "      <th>...</th>\n",
       "      <td>...</td>\n",
       "    </tr>\n",
       "    <tr>\n",
       "      <th>1498</th>\n",
       "      <th>10</th>\n",
       "      <td>41.0</td>\n",
       "    </tr>\n",
       "    <tr>\n",
       "      <th rowspan=\"4\" valign=\"top\">1499</th>\n",
       "      <th>9</th>\n",
       "      <td>9.0</td>\n",
       "    </tr>\n",
       "    <tr>\n",
       "      <th>10</th>\n",
       "      <td>68.0</td>\n",
       "    </tr>\n",
       "    <tr>\n",
       "      <th>11</th>\n",
       "      <td>74.0</td>\n",
       "    </tr>\n",
       "    <tr>\n",
       "      <th>12</th>\n",
       "      <td>69.0</td>\n",
       "    </tr>\n",
       "  </tbody>\n",
       "</table>\n",
       "<p>3214 rows × 1 columns</p>\n",
       "</div>"
      ],
      "text/plain": [
       "                sum\n",
       "                sms\n",
       "user_id month      \n",
       "1000    5      22.0\n",
       "        6      43.0\n",
       "        7      47.0\n",
       "        8      52.0\n",
       "        9      58.0\n",
       "...             ...\n",
       "1498    10     41.0\n",
       "1499    9       9.0\n",
       "        10     68.0\n",
       "        11     74.0\n",
       "        12     69.0\n",
       "\n",
       "[3214 rows x 1 columns]"
      ]
     },
     "execution_count": 27,
     "metadata": {},
     "output_type": "execute_result"
    }
   ],
   "source": [
    "data_3.pivot_table(index = ['user_id', 'month'], values = 'sms', aggfunc = ['sum'])"
   ]
  },
  {
   "cell_type": "markdown",
   "metadata": {},
   "source": [
    "**Объем израсходованного интернет-трафика по месяцам**"
   ]
  },
  {
   "cell_type": "code",
   "execution_count": 28,
   "metadata": {},
   "outputs": [
    {
     "data": {
      "text/html": [
       "<div>\n",
       "<style scoped>\n",
       "    .dataframe tbody tr th:only-of-type {\n",
       "        vertical-align: middle;\n",
       "    }\n",
       "\n",
       "    .dataframe tbody tr th {\n",
       "        vertical-align: top;\n",
       "    }\n",
       "\n",
       "    .dataframe thead tr th {\n",
       "        text-align: left;\n",
       "    }\n",
       "\n",
       "    .dataframe thead tr:last-of-type th {\n",
       "        text-align: right;\n",
       "    }\n",
       "</style>\n",
       "<table border=\"1\" class=\"dataframe\">\n",
       "  <thead>\n",
       "    <tr>\n",
       "      <th></th>\n",
       "      <th></th>\n",
       "      <th>sum</th>\n",
       "    </tr>\n",
       "    <tr>\n",
       "      <th></th>\n",
       "      <th></th>\n",
       "      <th>mb_used</th>\n",
       "    </tr>\n",
       "    <tr>\n",
       "      <th>user_id</th>\n",
       "      <th>month</th>\n",
       "      <th></th>\n",
       "    </tr>\n",
       "  </thead>\n",
       "  <tbody>\n",
       "    <tr>\n",
       "      <th rowspan=\"5\" valign=\"top\">1000</th>\n",
       "      <th>5</th>\n",
       "      <td>2253.49</td>\n",
       "    </tr>\n",
       "    <tr>\n",
       "      <th>6</th>\n",
       "      <td>23233.77</td>\n",
       "    </tr>\n",
       "    <tr>\n",
       "      <th>7</th>\n",
       "      <td>14003.64</td>\n",
       "    </tr>\n",
       "    <tr>\n",
       "      <th>8</th>\n",
       "      <td>14055.93</td>\n",
       "    </tr>\n",
       "    <tr>\n",
       "      <th>9</th>\n",
       "      <td>14568.91</td>\n",
       "    </tr>\n",
       "    <tr>\n",
       "      <th>...</th>\n",
       "      <th>...</th>\n",
       "      <td>...</td>\n",
       "    </tr>\n",
       "    <tr>\n",
       "      <th>1498</th>\n",
       "      <th>10</th>\n",
       "      <td>20579.36</td>\n",
       "    </tr>\n",
       "    <tr>\n",
       "      <th rowspan=\"4\" valign=\"top\">1499</th>\n",
       "      <th>9</th>\n",
       "      <td>1845.75</td>\n",
       "    </tr>\n",
       "    <tr>\n",
       "      <th>10</th>\n",
       "      <td>17788.51</td>\n",
       "    </tr>\n",
       "    <tr>\n",
       "      <th>11</th>\n",
       "      <td>17963.31</td>\n",
       "    </tr>\n",
       "    <tr>\n",
       "      <th>12</th>\n",
       "      <td>13055.58</td>\n",
       "    </tr>\n",
       "  </tbody>\n",
       "</table>\n",
       "<p>3214 rows × 1 columns</p>\n",
       "</div>"
      ],
      "text/plain": [
       "                    sum\n",
       "                mb_used\n",
       "user_id month          \n",
       "1000    5       2253.49\n",
       "        6      23233.77\n",
       "        7      14003.64\n",
       "        8      14055.93\n",
       "        9      14568.91\n",
       "...                 ...\n",
       "1498    10     20579.36\n",
       "1499    9       1845.75\n",
       "        10     17788.51\n",
       "        11     17963.31\n",
       "        12     13055.58\n",
       "\n",
       "[3214 rows x 1 columns]"
      ]
     },
     "execution_count": 28,
     "metadata": {},
     "output_type": "execute_result"
    }
   ],
   "source": [
    "data_3.pivot_table(index = ['user_id', 'month'], values = 'mb_used', aggfunc = ['sum'])"
   ]
  },
  {
   "cell_type": "markdown",
   "metadata": {},
   "source": [
    "**Помесячная выручка с каждого пользователя**"
   ]
  },
  {
   "cell_type": "code",
   "execution_count": 29,
   "metadata": {},
   "outputs": [],
   "source": [
    "# Создадим столбцы с разницой потраченного абонентом, и включенного в тарифный план\n",
    "data_3['duration_over'] = data_3['duration'] - data_3['minutes_included']\n",
    "data_3['sms_over'] = data_3['sms'] - data_3['messages_included']\n",
    "data_3['gb_over'] = np.ceil(((data_3['mb_used'] - data_3['mb_per_month_included']) / 1024))"
   ]
  },
  {
   "cell_type": "code",
   "execution_count": 30,
   "metadata": {},
   "outputs": [
    {
     "name": "stdout",
     "output_type": "stream",
     "text": [
      "<class 'pandas.core.frame.DataFrame'>\n",
      "Int64Index: 3214 entries, 0 to 3213\n",
      "Data columns (total 24 columns):\n",
      " #   Column                 Non-Null Count  Dtype         \n",
      "---  ------                 --------------  -----         \n",
      " 0   user_id                3214 non-null   int64         \n",
      " 1   month                  3214 non-null   int64         \n",
      " 2   mb_used                3203 non-null   float64       \n",
      " 3   duration               3174 non-null   float64       \n",
      " 4   sms                    3174 non-null   float64       \n",
      " 5   calls_count            2717 non-null   float64       \n",
      " 6   age                    3214 non-null   int64         \n",
      " 7   churn_date             187 non-null    datetime64[ns]\n",
      " 8   city                   3214 non-null   object        \n",
      " 9   first_name             3214 non-null   object        \n",
      " 10  last_name              3214 non-null   object        \n",
      " 11  reg_date               3214 non-null   datetime64[ns]\n",
      " 12  tariff                 3214 non-null   object        \n",
      " 13  messages_included      3214 non-null   int64         \n",
      " 14  mb_per_month_included  3214 non-null   int64         \n",
      " 15  minutes_included       3214 non-null   int64         \n",
      " 16  rub_monthly_fee        3214 non-null   int64         \n",
      " 17  rub_per_gb             3214 non-null   int64         \n",
      " 18  rub_per_message        3214 non-null   int64         \n",
      " 19  rub_per_minute         3214 non-null   int64         \n",
      " 20  tariff_name            3214 non-null   object        \n",
      " 21  duration_over          3174 non-null   float64       \n",
      " 22  sms_over               3174 non-null   float64       \n",
      " 23  gb_over                3203 non-null   float64       \n",
      "dtypes: datetime64[ns](2), float64(7), int64(10), object(5)\n",
      "memory usage: 627.7+ KB\n"
     ]
    }
   ],
   "source": [
    "data_3.info()"
   ]
  },
  {
   "cell_type": "code",
   "execution_count": 31,
   "metadata": {},
   "outputs": [],
   "source": [
    "def call_pay(row):\n",
    "    total = row['rub_monthly_fee']\n",
    "    if row['duration_over'] > 0:\n",
    "        total += row['duration_over'] * row['rub_per_minute']\n",
    "    if row['sms_over'] > 0:\n",
    "        total += row['sms_over'] * row['rub_per_message']\n",
    "    if row['gb_over'] > 0:\n",
    "        total += row['gb_over'] * row['rub_per_gb']\n",
    "    return total\n",
    "\n",
    "data_3['revenue'] = data_3.apply(call_pay, axis = 1)\n"
   ]
  },
  {
   "cell_type": "code",
   "execution_count": 32,
   "metadata": {},
   "outputs": [
    {
     "data": {
      "text/html": [
       "<div>\n",
       "<style scoped>\n",
       "    .dataframe tbody tr th:only-of-type {\n",
       "        vertical-align: middle;\n",
       "    }\n",
       "\n",
       "    .dataframe tbody tr th {\n",
       "        vertical-align: top;\n",
       "    }\n",
       "\n",
       "    .dataframe thead th {\n",
       "        text-align: right;\n",
       "    }\n",
       "</style>\n",
       "<table border=\"1\" class=\"dataframe\">\n",
       "  <thead>\n",
       "    <tr style=\"text-align: right;\">\n",
       "      <th></th>\n",
       "      <th>user_id</th>\n",
       "      <th>month</th>\n",
       "      <th>mb_used</th>\n",
       "      <th>duration</th>\n",
       "      <th>sms</th>\n",
       "      <th>calls_count</th>\n",
       "      <th>age</th>\n",
       "      <th>churn_date</th>\n",
       "      <th>city</th>\n",
       "      <th>first_name</th>\n",
       "      <th>...</th>\n",
       "      <th>minutes_included</th>\n",
       "      <th>rub_monthly_fee</th>\n",
       "      <th>rub_per_gb</th>\n",
       "      <th>rub_per_message</th>\n",
       "      <th>rub_per_minute</th>\n",
       "      <th>tariff_name</th>\n",
       "      <th>duration_over</th>\n",
       "      <th>sms_over</th>\n",
       "      <th>gb_over</th>\n",
       "      <th>revenue</th>\n",
       "    </tr>\n",
       "  </thead>\n",
       "  <tbody>\n",
       "    <tr>\n",
       "      <th>3209</th>\n",
       "      <td>1499</td>\n",
       "      <td>9</td>\n",
       "      <td>1845.75</td>\n",
       "      <td>70.0</td>\n",
       "      <td>9.0</td>\n",
       "      <td>11.0</td>\n",
       "      <td>35</td>\n",
       "      <td>NaT</td>\n",
       "      <td>Пермь</td>\n",
       "      <td>Гектор</td>\n",
       "      <td>...</td>\n",
       "      <td>500</td>\n",
       "      <td>550</td>\n",
       "      <td>200</td>\n",
       "      <td>3</td>\n",
       "      <td>3</td>\n",
       "      <td>smart</td>\n",
       "      <td>-430.0</td>\n",
       "      <td>-41.0</td>\n",
       "      <td>-13.0</td>\n",
       "      <td>550.0</td>\n",
       "    </tr>\n",
       "    <tr>\n",
       "      <th>3210</th>\n",
       "      <td>1499</td>\n",
       "      <td>10</td>\n",
       "      <td>17788.51</td>\n",
       "      <td>449.0</td>\n",
       "      <td>68.0</td>\n",
       "      <td>48.0</td>\n",
       "      <td>35</td>\n",
       "      <td>NaT</td>\n",
       "      <td>Пермь</td>\n",
       "      <td>Гектор</td>\n",
       "      <td>...</td>\n",
       "      <td>500</td>\n",
       "      <td>550</td>\n",
       "      <td>200</td>\n",
       "      <td>3</td>\n",
       "      <td>3</td>\n",
       "      <td>smart</td>\n",
       "      <td>-51.0</td>\n",
       "      <td>18.0</td>\n",
       "      <td>3.0</td>\n",
       "      <td>1204.0</td>\n",
       "    </tr>\n",
       "    <tr>\n",
       "      <th>3211</th>\n",
       "      <td>1499</td>\n",
       "      <td>11</td>\n",
       "      <td>17963.31</td>\n",
       "      <td>612.0</td>\n",
       "      <td>74.0</td>\n",
       "      <td>59.0</td>\n",
       "      <td>35</td>\n",
       "      <td>NaT</td>\n",
       "      <td>Пермь</td>\n",
       "      <td>Гектор</td>\n",
       "      <td>...</td>\n",
       "      <td>500</td>\n",
       "      <td>550</td>\n",
       "      <td>200</td>\n",
       "      <td>3</td>\n",
       "      <td>3</td>\n",
       "      <td>smart</td>\n",
       "      <td>112.0</td>\n",
       "      <td>24.0</td>\n",
       "      <td>3.0</td>\n",
       "      <td>1558.0</td>\n",
       "    </tr>\n",
       "    <tr>\n",
       "      <th>3212</th>\n",
       "      <td>1499</td>\n",
       "      <td>12</td>\n",
       "      <td>13055.58</td>\n",
       "      <td>492.0</td>\n",
       "      <td>69.0</td>\n",
       "      <td>66.0</td>\n",
       "      <td>35</td>\n",
       "      <td>NaT</td>\n",
       "      <td>Пермь</td>\n",
       "      <td>Гектор</td>\n",
       "      <td>...</td>\n",
       "      <td>500</td>\n",
       "      <td>550</td>\n",
       "      <td>200</td>\n",
       "      <td>3</td>\n",
       "      <td>3</td>\n",
       "      <td>smart</td>\n",
       "      <td>-8.0</td>\n",
       "      <td>19.0</td>\n",
       "      <td>-2.0</td>\n",
       "      <td>607.0</td>\n",
       "    </tr>\n",
       "  </tbody>\n",
       "</table>\n",
       "<p>4 rows × 25 columns</p>\n",
       "</div>"
      ],
      "text/plain": [
       "      user_id  month   mb_used  duration   sms  calls_count  age churn_date  \\\n",
       "3209     1499      9   1845.75      70.0   9.0         11.0   35        NaT   \n",
       "3210     1499     10  17788.51     449.0  68.0         48.0   35        NaT   \n",
       "3211     1499     11  17963.31     612.0  74.0         59.0   35        NaT   \n",
       "3212     1499     12  13055.58     492.0  69.0         66.0   35        NaT   \n",
       "\n",
       "       city first_name  ... minutes_included rub_monthly_fee rub_per_gb  \\\n",
       "3209  Пермь     Гектор  ...              500             550        200   \n",
       "3210  Пермь     Гектор  ...              500             550        200   \n",
       "3211  Пермь     Гектор  ...              500             550        200   \n",
       "3212  Пермь     Гектор  ...              500             550        200   \n",
       "\n",
       "      rub_per_message  rub_per_minute  tariff_name  duration_over  sms_over  \\\n",
       "3209                3               3        smart         -430.0     -41.0   \n",
       "3210                3               3        smart          -51.0      18.0   \n",
       "3211                3               3        smart          112.0      24.0   \n",
       "3212                3               3        smart           -8.0      19.0   \n",
       "\n",
       "      gb_over  revenue  \n",
       "3209    -13.0    550.0  \n",
       "3210      3.0   1204.0  \n",
       "3211      3.0   1558.0  \n",
       "3212     -2.0    607.0  \n",
       "\n",
       "[4 rows x 25 columns]"
      ]
     },
     "execution_count": 32,
     "metadata": {},
     "output_type": "execute_result"
    }
   ],
   "source": [
    "data_3.query(\"user_id == 1499\")"
   ]
  },
  {
   "cell_type": "code",
   "execution_count": 33,
   "metadata": {},
   "outputs": [],
   "source": [
    "data_3['revenue'] = np.ceil(data_3['revenue']).astype('int')"
   ]
  },
  {
   "cell_type": "code",
   "execution_count": 34,
   "metadata": {},
   "outputs": [
    {
     "data": {
      "text/html": [
       "<div>\n",
       "<style scoped>\n",
       "    .dataframe tbody tr th:only-of-type {\n",
       "        vertical-align: middle;\n",
       "    }\n",
       "\n",
       "    .dataframe tbody tr th {\n",
       "        vertical-align: top;\n",
       "    }\n",
       "\n",
       "    .dataframe thead th {\n",
       "        text-align: right;\n",
       "    }\n",
       "</style>\n",
       "<table border=\"1\" class=\"dataframe\">\n",
       "  <thead>\n",
       "    <tr style=\"text-align: right;\">\n",
       "      <th></th>\n",
       "      <th>user_id</th>\n",
       "      <th>month</th>\n",
       "      <th>mb_used</th>\n",
       "      <th>duration</th>\n",
       "      <th>sms</th>\n",
       "      <th>calls_count</th>\n",
       "      <th>age</th>\n",
       "      <th>churn_date</th>\n",
       "      <th>city</th>\n",
       "      <th>first_name</th>\n",
       "      <th>...</th>\n",
       "      <th>minutes_included</th>\n",
       "      <th>rub_monthly_fee</th>\n",
       "      <th>rub_per_gb</th>\n",
       "      <th>rub_per_message</th>\n",
       "      <th>rub_per_minute</th>\n",
       "      <th>tariff_name</th>\n",
       "      <th>duration_over</th>\n",
       "      <th>sms_over</th>\n",
       "      <th>gb_over</th>\n",
       "      <th>revenue</th>\n",
       "    </tr>\n",
       "  </thead>\n",
       "  <tbody>\n",
       "    <tr>\n",
       "      <th>0</th>\n",
       "      <td>1000</td>\n",
       "      <td>5</td>\n",
       "      <td>2253.49</td>\n",
       "      <td>159.0</td>\n",
       "      <td>22.0</td>\n",
       "      <td>22.0</td>\n",
       "      <td>52</td>\n",
       "      <td>0</td>\n",
       "      <td>Краснодар</td>\n",
       "      <td>Рафаил</td>\n",
       "      <td>...</td>\n",
       "      <td>3000</td>\n",
       "      <td>1950</td>\n",
       "      <td>150</td>\n",
       "      <td>1</td>\n",
       "      <td>1</td>\n",
       "      <td>ultra</td>\n",
       "      <td>-2841.0</td>\n",
       "      <td>-978.0</td>\n",
       "      <td>-27.0</td>\n",
       "      <td>1950</td>\n",
       "    </tr>\n",
       "    <tr>\n",
       "      <th>1</th>\n",
       "      <td>1000</td>\n",
       "      <td>6</td>\n",
       "      <td>23233.77</td>\n",
       "      <td>172.0</td>\n",
       "      <td>43.0</td>\n",
       "      <td>60.0</td>\n",
       "      <td>52</td>\n",
       "      <td>0</td>\n",
       "      <td>Краснодар</td>\n",
       "      <td>Рафаил</td>\n",
       "      <td>...</td>\n",
       "      <td>3000</td>\n",
       "      <td>1950</td>\n",
       "      <td>150</td>\n",
       "      <td>1</td>\n",
       "      <td>1</td>\n",
       "      <td>ultra</td>\n",
       "      <td>-2828.0</td>\n",
       "      <td>-957.0</td>\n",
       "      <td>-7.0</td>\n",
       "      <td>1950</td>\n",
       "    </tr>\n",
       "    <tr>\n",
       "      <th>2</th>\n",
       "      <td>1000</td>\n",
       "      <td>7</td>\n",
       "      <td>14003.64</td>\n",
       "      <td>340.0</td>\n",
       "      <td>47.0</td>\n",
       "      <td>75.0</td>\n",
       "      <td>52</td>\n",
       "      <td>0</td>\n",
       "      <td>Краснодар</td>\n",
       "      <td>Рафаил</td>\n",
       "      <td>...</td>\n",
       "      <td>3000</td>\n",
       "      <td>1950</td>\n",
       "      <td>150</td>\n",
       "      <td>1</td>\n",
       "      <td>1</td>\n",
       "      <td>ultra</td>\n",
       "      <td>-2660.0</td>\n",
       "      <td>-953.0</td>\n",
       "      <td>-16.0</td>\n",
       "      <td>1950</td>\n",
       "    </tr>\n",
       "    <tr>\n",
       "      <th>3</th>\n",
       "      <td>1000</td>\n",
       "      <td>8</td>\n",
       "      <td>14055.93</td>\n",
       "      <td>408.0</td>\n",
       "      <td>52.0</td>\n",
       "      <td>81.0</td>\n",
       "      <td>52</td>\n",
       "      <td>0</td>\n",
       "      <td>Краснодар</td>\n",
       "      <td>Рафаил</td>\n",
       "      <td>...</td>\n",
       "      <td>3000</td>\n",
       "      <td>1950</td>\n",
       "      <td>150</td>\n",
       "      <td>1</td>\n",
       "      <td>1</td>\n",
       "      <td>ultra</td>\n",
       "      <td>-2592.0</td>\n",
       "      <td>-948.0</td>\n",
       "      <td>-16.0</td>\n",
       "      <td>1950</td>\n",
       "    </tr>\n",
       "    <tr>\n",
       "      <th>4</th>\n",
       "      <td>1000</td>\n",
       "      <td>9</td>\n",
       "      <td>14568.91</td>\n",
       "      <td>466.0</td>\n",
       "      <td>58.0</td>\n",
       "      <td>57.0</td>\n",
       "      <td>52</td>\n",
       "      <td>0</td>\n",
       "      <td>Краснодар</td>\n",
       "      <td>Рафаил</td>\n",
       "      <td>...</td>\n",
       "      <td>3000</td>\n",
       "      <td>1950</td>\n",
       "      <td>150</td>\n",
       "      <td>1</td>\n",
       "      <td>1</td>\n",
       "      <td>ultra</td>\n",
       "      <td>-2534.0</td>\n",
       "      <td>-942.0</td>\n",
       "      <td>-15.0</td>\n",
       "      <td>1950</td>\n",
       "    </tr>\n",
       "    <tr>\n",
       "      <th>...</th>\n",
       "      <td>...</td>\n",
       "      <td>...</td>\n",
       "      <td>...</td>\n",
       "      <td>...</td>\n",
       "      <td>...</td>\n",
       "      <td>...</td>\n",
       "      <td>...</td>\n",
       "      <td>...</td>\n",
       "      <td>...</td>\n",
       "      <td>...</td>\n",
       "      <td>...</td>\n",
       "      <td>...</td>\n",
       "      <td>...</td>\n",
       "      <td>...</td>\n",
       "      <td>...</td>\n",
       "      <td>...</td>\n",
       "      <td>...</td>\n",
       "      <td>...</td>\n",
       "      <td>...</td>\n",
       "      <td>...</td>\n",
       "      <td>...</td>\n",
       "    </tr>\n",
       "    <tr>\n",
       "      <th>3209</th>\n",
       "      <td>1499</td>\n",
       "      <td>9</td>\n",
       "      <td>1845.75</td>\n",
       "      <td>70.0</td>\n",
       "      <td>9.0</td>\n",
       "      <td>11.0</td>\n",
       "      <td>35</td>\n",
       "      <td>0</td>\n",
       "      <td>Пермь</td>\n",
       "      <td>Гектор</td>\n",
       "      <td>...</td>\n",
       "      <td>500</td>\n",
       "      <td>550</td>\n",
       "      <td>200</td>\n",
       "      <td>3</td>\n",
       "      <td>3</td>\n",
       "      <td>smart</td>\n",
       "      <td>-430.0</td>\n",
       "      <td>-41.0</td>\n",
       "      <td>-13.0</td>\n",
       "      <td>550</td>\n",
       "    </tr>\n",
       "    <tr>\n",
       "      <th>3210</th>\n",
       "      <td>1499</td>\n",
       "      <td>10</td>\n",
       "      <td>17788.51</td>\n",
       "      <td>449.0</td>\n",
       "      <td>68.0</td>\n",
       "      <td>48.0</td>\n",
       "      <td>35</td>\n",
       "      <td>0</td>\n",
       "      <td>Пермь</td>\n",
       "      <td>Гектор</td>\n",
       "      <td>...</td>\n",
       "      <td>500</td>\n",
       "      <td>550</td>\n",
       "      <td>200</td>\n",
       "      <td>3</td>\n",
       "      <td>3</td>\n",
       "      <td>smart</td>\n",
       "      <td>-51.0</td>\n",
       "      <td>18.0</td>\n",
       "      <td>3.0</td>\n",
       "      <td>1204</td>\n",
       "    </tr>\n",
       "    <tr>\n",
       "      <th>3211</th>\n",
       "      <td>1499</td>\n",
       "      <td>11</td>\n",
       "      <td>17963.31</td>\n",
       "      <td>612.0</td>\n",
       "      <td>74.0</td>\n",
       "      <td>59.0</td>\n",
       "      <td>35</td>\n",
       "      <td>0</td>\n",
       "      <td>Пермь</td>\n",
       "      <td>Гектор</td>\n",
       "      <td>...</td>\n",
       "      <td>500</td>\n",
       "      <td>550</td>\n",
       "      <td>200</td>\n",
       "      <td>3</td>\n",
       "      <td>3</td>\n",
       "      <td>smart</td>\n",
       "      <td>112.0</td>\n",
       "      <td>24.0</td>\n",
       "      <td>3.0</td>\n",
       "      <td>1558</td>\n",
       "    </tr>\n",
       "    <tr>\n",
       "      <th>3212</th>\n",
       "      <td>1499</td>\n",
       "      <td>12</td>\n",
       "      <td>13055.58</td>\n",
       "      <td>492.0</td>\n",
       "      <td>69.0</td>\n",
       "      <td>66.0</td>\n",
       "      <td>35</td>\n",
       "      <td>0</td>\n",
       "      <td>Пермь</td>\n",
       "      <td>Гектор</td>\n",
       "      <td>...</td>\n",
       "      <td>500</td>\n",
       "      <td>550</td>\n",
       "      <td>200</td>\n",
       "      <td>3</td>\n",
       "      <td>3</td>\n",
       "      <td>smart</td>\n",
       "      <td>-8.0</td>\n",
       "      <td>19.0</td>\n",
       "      <td>-2.0</td>\n",
       "      <td>607</td>\n",
       "    </tr>\n",
       "    <tr>\n",
       "      <th>3213</th>\n",
       "      <td>1446</td>\n",
       "      <td>8</td>\n",
       "      <td>0.00</td>\n",
       "      <td>50.0</td>\n",
       "      <td>4.0</td>\n",
       "      <td>1.0</td>\n",
       "      <td>64</td>\n",
       "      <td>0</td>\n",
       "      <td>Липецк</td>\n",
       "      <td>Антонина</td>\n",
       "      <td>...</td>\n",
       "      <td>500</td>\n",
       "      <td>550</td>\n",
       "      <td>200</td>\n",
       "      <td>3</td>\n",
       "      <td>3</td>\n",
       "      <td>smart</td>\n",
       "      <td>-450.0</td>\n",
       "      <td>-46.0</td>\n",
       "      <td>0.0</td>\n",
       "      <td>550</td>\n",
       "    </tr>\n",
       "  </tbody>\n",
       "</table>\n",
       "<p>3214 rows × 25 columns</p>\n",
       "</div>"
      ],
      "text/plain": [
       "      user_id  month   mb_used  duration   sms  calls_count  age churn_date  \\\n",
       "0        1000      5   2253.49     159.0  22.0         22.0   52          0   \n",
       "1        1000      6  23233.77     172.0  43.0         60.0   52          0   \n",
       "2        1000      7  14003.64     340.0  47.0         75.0   52          0   \n",
       "3        1000      8  14055.93     408.0  52.0         81.0   52          0   \n",
       "4        1000      9  14568.91     466.0  58.0         57.0   52          0   \n",
       "...       ...    ...       ...       ...   ...          ...  ...        ...   \n",
       "3209     1499      9   1845.75      70.0   9.0         11.0   35          0   \n",
       "3210     1499     10  17788.51     449.0  68.0         48.0   35          0   \n",
       "3211     1499     11  17963.31     612.0  74.0         59.0   35          0   \n",
       "3212     1499     12  13055.58     492.0  69.0         66.0   35          0   \n",
       "3213     1446      8      0.00      50.0   4.0          1.0   64          0   \n",
       "\n",
       "           city first_name  ... minutes_included rub_monthly_fee rub_per_gb  \\\n",
       "0     Краснодар     Рафаил  ...             3000            1950        150   \n",
       "1     Краснодар     Рафаил  ...             3000            1950        150   \n",
       "2     Краснодар     Рафаил  ...             3000            1950        150   \n",
       "3     Краснодар     Рафаил  ...             3000            1950        150   \n",
       "4     Краснодар     Рафаил  ...             3000            1950        150   \n",
       "...         ...        ...  ...              ...             ...        ...   \n",
       "3209      Пермь     Гектор  ...              500             550        200   \n",
       "3210      Пермь     Гектор  ...              500             550        200   \n",
       "3211      Пермь     Гектор  ...              500             550        200   \n",
       "3212      Пермь     Гектор  ...              500             550        200   \n",
       "3213     Липецк   Антонина  ...              500             550        200   \n",
       "\n",
       "      rub_per_message  rub_per_minute  tariff_name  duration_over  sms_over  \\\n",
       "0                   1               1        ultra        -2841.0    -978.0   \n",
       "1                   1               1        ultra        -2828.0    -957.0   \n",
       "2                   1               1        ultra        -2660.0    -953.0   \n",
       "3                   1               1        ultra        -2592.0    -948.0   \n",
       "4                   1               1        ultra        -2534.0    -942.0   \n",
       "...               ...             ...          ...            ...       ...   \n",
       "3209                3               3        smart         -430.0     -41.0   \n",
       "3210                3               3        smart          -51.0      18.0   \n",
       "3211                3               3        smart          112.0      24.0   \n",
       "3212                3               3        smart           -8.0      19.0   \n",
       "3213                3               3        smart         -450.0     -46.0   \n",
       "\n",
       "      gb_over  revenue  \n",
       "0       -27.0     1950  \n",
       "1        -7.0     1950  \n",
       "2       -16.0     1950  \n",
       "3       -16.0     1950  \n",
       "4       -15.0     1950  \n",
       "...       ...      ...  \n",
       "3209    -13.0      550  \n",
       "3210      3.0     1204  \n",
       "3211      3.0     1558  \n",
       "3212     -2.0      607  \n",
       "3213      0.0      550  \n",
       "\n",
       "[3214 rows x 25 columns]"
      ]
     },
     "execution_count": 34,
     "metadata": {},
     "output_type": "execute_result"
    }
   ],
   "source": [
    "data_3.fillna(0)"
   ]
  },
  {
   "cell_type": "code",
   "execution_count": 35,
   "metadata": {},
   "outputs": [
    {
     "data": {
      "text/plain": [
       "count    3214.000000\n",
       "mean     1548.935594\n",
       "std       806.282911\n",
       "min       550.000000\n",
       "25%       762.000000\n",
       "50%      1719.500000\n",
       "75%      1950.000000\n",
       "max      6920.000000\n",
       "Name: revenue, dtype: float64"
      ]
     },
     "execution_count": 35,
     "metadata": {},
     "output_type": "execute_result"
    }
   ],
   "source": [
    "data_3['revenue'].describe()"
   ]
  },
  {
   "cell_type": "code",
   "execution_count": 36,
   "metadata": {},
   "outputs": [
    {
     "data": {
      "text/html": [
       "<div>\n",
       "<style scoped>\n",
       "    .dataframe tbody tr th:only-of-type {\n",
       "        vertical-align: middle;\n",
       "    }\n",
       "\n",
       "    .dataframe tbody tr th {\n",
       "        vertical-align: top;\n",
       "    }\n",
       "\n",
       "    .dataframe thead tr th {\n",
       "        text-align: left;\n",
       "    }\n",
       "\n",
       "    .dataframe thead tr:last-of-type th {\n",
       "        text-align: right;\n",
       "    }\n",
       "</style>\n",
       "<table border=\"1\" class=\"dataframe\">\n",
       "  <thead>\n",
       "    <tr>\n",
       "      <th></th>\n",
       "      <th></th>\n",
       "      <th></th>\n",
       "      <th>sum</th>\n",
       "    </tr>\n",
       "    <tr>\n",
       "      <th></th>\n",
       "      <th></th>\n",
       "      <th></th>\n",
       "      <th>revenue</th>\n",
       "    </tr>\n",
       "    <tr>\n",
       "      <th>user_id</th>\n",
       "      <th>month</th>\n",
       "      <th>tariff</th>\n",
       "      <th></th>\n",
       "    </tr>\n",
       "  </thead>\n",
       "  <tbody>\n",
       "    <tr>\n",
       "      <th rowspan=\"5\" valign=\"top\">1000</th>\n",
       "      <th>5</th>\n",
       "      <th>ultra</th>\n",
       "      <td>1950</td>\n",
       "    </tr>\n",
       "    <tr>\n",
       "      <th>6</th>\n",
       "      <th>ultra</th>\n",
       "      <td>1950</td>\n",
       "    </tr>\n",
       "    <tr>\n",
       "      <th>7</th>\n",
       "      <th>ultra</th>\n",
       "      <td>1950</td>\n",
       "    </tr>\n",
       "    <tr>\n",
       "      <th>8</th>\n",
       "      <th>ultra</th>\n",
       "      <td>1950</td>\n",
       "    </tr>\n",
       "    <tr>\n",
       "      <th>9</th>\n",
       "      <th>ultra</th>\n",
       "      <td>1950</td>\n",
       "    </tr>\n",
       "    <tr>\n",
       "      <th>...</th>\n",
       "      <th>...</th>\n",
       "      <th>...</th>\n",
       "      <td>...</td>\n",
       "    </tr>\n",
       "    <tr>\n",
       "      <th>1498</th>\n",
       "      <th>10</th>\n",
       "      <th>smart</th>\n",
       "      <td>1750</td>\n",
       "    </tr>\n",
       "    <tr>\n",
       "      <th rowspan=\"4\" valign=\"top\">1499</th>\n",
       "      <th>9</th>\n",
       "      <th>smart</th>\n",
       "      <td>550</td>\n",
       "    </tr>\n",
       "    <tr>\n",
       "      <th>10</th>\n",
       "      <th>smart</th>\n",
       "      <td>1204</td>\n",
       "    </tr>\n",
       "    <tr>\n",
       "      <th>11</th>\n",
       "      <th>smart</th>\n",
       "      <td>1558</td>\n",
       "    </tr>\n",
       "    <tr>\n",
       "      <th>12</th>\n",
       "      <th>smart</th>\n",
       "      <td>607</td>\n",
       "    </tr>\n",
       "  </tbody>\n",
       "</table>\n",
       "<p>3214 rows × 1 columns</p>\n",
       "</div>"
      ],
      "text/plain": [
       "                         sum\n",
       "                     revenue\n",
       "user_id month tariff        \n",
       "1000    5     ultra     1950\n",
       "        6     ultra     1950\n",
       "        7     ultra     1950\n",
       "        8     ultra     1950\n",
       "        9     ultra     1950\n",
       "...                      ...\n",
       "1498    10    smart     1750\n",
       "1499    9     smart      550\n",
       "        10    smart     1204\n",
       "        11    smart     1558\n",
       "        12    smart      607\n",
       "\n",
       "[3214 rows x 1 columns]"
      ]
     },
     "execution_count": 36,
     "metadata": {},
     "output_type": "execute_result"
    }
   ],
   "source": [
    "data_3.pivot_table(index = ['user_id', 'month', 'tariff'], values = 'revenue', aggfunc = ['sum'])"
   ]
  },
  {
   "cell_type": "code",
   "execution_count": 37,
   "metadata": {},
   "outputs": [
    {
     "data": {
      "text/html": [
       "<div>\n",
       "<style scoped>\n",
       "    .dataframe tbody tr th:only-of-type {\n",
       "        vertical-align: middle;\n",
       "    }\n",
       "\n",
       "    .dataframe tbody tr th {\n",
       "        vertical-align: top;\n",
       "    }\n",
       "\n",
       "    .dataframe thead tr th {\n",
       "        text-align: left;\n",
       "    }\n",
       "\n",
       "    .dataframe thead tr:last-of-type th {\n",
       "        text-align: right;\n",
       "    }\n",
       "</style>\n",
       "<table border=\"1\" class=\"dataframe\">\n",
       "  <thead>\n",
       "    <tr>\n",
       "      <th></th>\n",
       "      <th>sum</th>\n",
       "      <th>mean</th>\n",
       "    </tr>\n",
       "    <tr>\n",
       "      <th></th>\n",
       "      <th>revenue</th>\n",
       "      <th>revenue</th>\n",
       "    </tr>\n",
       "    <tr>\n",
       "      <th>tariff</th>\n",
       "      <th></th>\n",
       "      <th></th>\n",
       "    </tr>\n",
       "  </thead>\n",
       "  <tbody>\n",
       "    <tr>\n",
       "      <th>smart</th>\n",
       "      <td>2939179</td>\n",
       "      <td>1318.608793</td>\n",
       "    </tr>\n",
       "    <tr>\n",
       "      <th>ultra</th>\n",
       "      <td>2039100</td>\n",
       "      <td>2070.152284</td>\n",
       "    </tr>\n",
       "  </tbody>\n",
       "</table>\n",
       "</div>"
      ],
      "text/plain": [
       "            sum         mean\n",
       "        revenue      revenue\n",
       "tariff                      \n",
       "smart   2939179  1318.608793\n",
       "ultra   2039100  2070.152284"
      ]
     },
     "execution_count": 37,
     "metadata": {},
     "output_type": "execute_result"
    }
   ],
   "source": [
    "data_3.pivot_table(index = 'tariff', values = 'revenue', aggfunc = ['sum', 'mean'])"
   ]
  },
  {
   "cell_type": "markdown",
   "metadata": {},
   "source": [
    "### Анализ данных по тарифам"
   ]
  },
  {
   "cell_type": "markdown",
   "metadata": {},
   "source": [
    "#### Минуты"
   ]
  },
  {
   "cell_type": "code",
   "execution_count": 38,
   "metadata": {},
   "outputs": [
    {
     "data": {
      "text/html": [
       "<div>\n",
       "<style scoped>\n",
       "    .dataframe tbody tr th:only-of-type {\n",
       "        vertical-align: middle;\n",
       "    }\n",
       "\n",
       "    .dataframe tbody tr th {\n",
       "        vertical-align: top;\n",
       "    }\n",
       "\n",
       "    .dataframe thead th {\n",
       "        text-align: right;\n",
       "    }\n",
       "</style>\n",
       "<table border=\"1\" class=\"dataframe\">\n",
       "  <thead>\n",
       "    <tr style=\"text-align: right;\">\n",
       "      <th></th>\n",
       "      <th>duration</th>\n",
       "    </tr>\n",
       "    <tr>\n",
       "      <th>month</th>\n",
       "      <th></th>\n",
       "    </tr>\n",
       "  </thead>\n",
       "  <tbody>\n",
       "    <tr>\n",
       "      <th>1</th>\n",
       "      <td>428.111111</td>\n",
       "    </tr>\n",
       "    <tr>\n",
       "      <th>2</th>\n",
       "      <td>297.125000</td>\n",
       "    </tr>\n",
       "    <tr>\n",
       "      <th>3</th>\n",
       "      <td>489.648649</td>\n",
       "    </tr>\n",
       "    <tr>\n",
       "      <th>4</th>\n",
       "      <td>475.301887</td>\n",
       "    </tr>\n",
       "    <tr>\n",
       "      <th>5</th>\n",
       "      <td>534.250000</td>\n",
       "    </tr>\n",
       "    <tr>\n",
       "      <th>6</th>\n",
       "      <td>497.469136</td>\n",
       "    </tr>\n",
       "    <tr>\n",
       "      <th>7</th>\n",
       "      <td>564.397727</td>\n",
       "    </tr>\n",
       "    <tr>\n",
       "      <th>8</th>\n",
       "      <td>530.611650</td>\n",
       "    </tr>\n",
       "    <tr>\n",
       "      <th>9</th>\n",
       "      <td>558.882883</td>\n",
       "    </tr>\n",
       "    <tr>\n",
       "      <th>10</th>\n",
       "      <td>581.728814</td>\n",
       "    </tr>\n",
       "    <tr>\n",
       "      <th>11</th>\n",
       "      <td>562.364341</td>\n",
       "    </tr>\n",
       "    <tr>\n",
       "      <th>12</th>\n",
       "      <td>614.925373</td>\n",
       "    </tr>\n",
       "  </tbody>\n",
       "</table>\n",
       "</div>"
      ],
      "text/plain": [
       "         duration\n",
       "month            \n",
       "1      428.111111\n",
       "2      297.125000\n",
       "3      489.648649\n",
       "4      475.301887\n",
       "5      534.250000\n",
       "6      497.469136\n",
       "7      564.397727\n",
       "8      530.611650\n",
       "9      558.882883\n",
       "10     581.728814\n",
       "11     562.364341\n",
       "12     614.925373"
      ]
     },
     "execution_count": 38,
     "metadata": {},
     "output_type": "execute_result"
    }
   ],
   "source": [
    "# Минуты тариф ultra\n",
    "ultra = data_3.query('tariff == \"ultra\"').reset_index()\n",
    "ultra.pivot_table(index='month', values='duration', aggfunc = 'mean')"
   ]
  },
  {
   "cell_type": "code",
   "execution_count": 39,
   "metadata": {},
   "outputs": [
    {
     "name": "stdout",
     "output_type": "stream",
     "text": [
      "Среднее значение 545.4511041009464\n",
      "Дисперсия 94203.41839614809\n",
      "Стандартное отклонение 306.9257538821858\n"
     ]
    }
   ],
   "source": [
    "print('Среднее значение', ultra['duration'].mean())\n",
    "print('Дисперсия', np.var(ultra['duration'], ddof=1))\n",
    "print('Стандартное отклонение', np.std(ultra['duration'], ddof=1))"
   ]
  },
  {
   "cell_type": "code",
   "execution_count": 40,
   "metadata": {},
   "outputs": [
    {
     "data": {
      "text/html": [
       "<div>\n",
       "<style scoped>\n",
       "    .dataframe tbody tr th:only-of-type {\n",
       "        vertical-align: middle;\n",
       "    }\n",
       "\n",
       "    .dataframe tbody tr th {\n",
       "        vertical-align: top;\n",
       "    }\n",
       "\n",
       "    .dataframe thead th {\n",
       "        text-align: right;\n",
       "    }\n",
       "</style>\n",
       "<table border=\"1\" class=\"dataframe\">\n",
       "  <thead>\n",
       "    <tr style=\"text-align: right;\">\n",
       "      <th></th>\n",
       "      <th>duration</th>\n",
       "    </tr>\n",
       "    <tr>\n",
       "      <th>month</th>\n",
       "      <th></th>\n",
       "    </tr>\n",
       "  </thead>\n",
       "  <tbody>\n",
       "    <tr>\n",
       "      <th>1</th>\n",
       "      <td>203.852941</td>\n",
       "    </tr>\n",
       "    <tr>\n",
       "      <th>2</th>\n",
       "      <td>298.689655</td>\n",
       "    </tr>\n",
       "    <tr>\n",
       "      <th>3</th>\n",
       "      <td>390.051948</td>\n",
       "    </tr>\n",
       "    <tr>\n",
       "      <th>4</th>\n",
       "      <td>367.133929</td>\n",
       "    </tr>\n",
       "    <tr>\n",
       "      <th>5</th>\n",
       "      <td>387.361702</td>\n",
       "    </tr>\n",
       "    <tr>\n",
       "      <th>6</th>\n",
       "      <td>398.067485</td>\n",
       "    </tr>\n",
       "    <tr>\n",
       "      <th>7</th>\n",
       "      <td>408.353234</td>\n",
       "    </tr>\n",
       "    <tr>\n",
       "      <th>8</th>\n",
       "      <td>423.269231</td>\n",
       "    </tr>\n",
       "    <tr>\n",
       "      <th>9</th>\n",
       "      <td>430.266409</td>\n",
       "    </tr>\n",
       "    <tr>\n",
       "      <th>10</th>\n",
       "      <td>427.590444</td>\n",
       "    </tr>\n",
       "    <tr>\n",
       "      <th>11</th>\n",
       "      <td>436.647619</td>\n",
       "    </tr>\n",
       "    <tr>\n",
       "      <th>12</th>\n",
       "      <td>479.985119</td>\n",
       "    </tr>\n",
       "  </tbody>\n",
       "</table>\n",
       "</div>"
      ],
      "text/plain": [
       "         duration\n",
       "month            \n",
       "1      203.852941\n",
       "2      298.689655\n",
       "3      390.051948\n",
       "4      367.133929\n",
       "5      387.361702\n",
       "6      398.067485\n",
       "7      408.353234\n",
       "8      423.269231\n",
       "9      430.266409\n",
       "10     427.590444\n",
       "11     436.647619\n",
       "12     479.985119"
      ]
     },
     "execution_count": 40,
     "metadata": {},
     "output_type": "execute_result"
    }
   ],
   "source": [
    "# Минуты тариф smart\n",
    "smart = data_3.query('tariff == \"smart\"').reset_index()\n",
    "smart.pivot_table(index='month', values='duration', aggfunc = 'mean')\n"
   ]
  },
  {
   "cell_type": "code",
   "execution_count": 41,
   "metadata": {},
   "outputs": [
    {
     "name": "stdout",
     "output_type": "stream",
     "text": [
      "Среднее значение 419.0629779577148\n",
      "Дисперсия 35844.1895513438\n",
      "Стандартное отклонение 189.3256177894154\n"
     ]
    }
   ],
   "source": [
    "print('Среднее значение', smart['duration'].mean())\n",
    "print('Дисперсия', np.var(smart['duration'], ddof=1))\n",
    "print('Стандартное отклонение', np.std(smart['duration'], ddof=1))"
   ]
  },
  {
   "cell_type": "code",
   "execution_count": 42,
   "metadata": {},
   "outputs": [
    {
     "data": {
      "image/png": "[encoded data removed]",
      "text/plain": [
       "<Figure size 432x288 with 1 Axes>"
      ]
     },
     "metadata": {
      "needs_background": "light"
     },
     "output_type": "display_data"
    }
   ],
   "source": [
    "ultra['duration'].hist(bins=30, label='ultra', color='blue', alpha=0.7)\n",
    "smart['duration'].hist(bins=30, label='smart', color='pink', alpha=0.7)\n",
    "plt.legend()\n",
    "plt.xlabel('Минуты')\n",
    "plt.ylabel('Клиенты')\n",
    "plt.show()"
   ]
  },
  {
   "cell_type": "markdown",
   "metadata": {},
   "source": [
    "#### СМС"
   ]
  },
  {
   "cell_type": "code",
   "execution_count": 43,
   "metadata": {},
   "outputs": [
    {
     "data": {
      "text/html": [
       "<div>\n",
       "<style scoped>\n",
       "    .dataframe tbody tr th:only-of-type {\n",
       "        vertical-align: middle;\n",
       "    }\n",
       "\n",
       "    .dataframe tbody tr th {\n",
       "        vertical-align: top;\n",
       "    }\n",
       "\n",
       "    .dataframe thead th {\n",
       "        text-align: right;\n",
       "    }\n",
       "</style>\n",
       "<table border=\"1\" class=\"dataframe\">\n",
       "  <thead>\n",
       "    <tr style=\"text-align: right;\">\n",
       "      <th></th>\n",
       "      <th>sms</th>\n",
       "    </tr>\n",
       "    <tr>\n",
       "      <th>month</th>\n",
       "      <th></th>\n",
       "    </tr>\n",
       "  </thead>\n",
       "  <tbody>\n",
       "    <tr>\n",
       "      <th>1</th>\n",
       "      <td>59.444444</td>\n",
       "    </tr>\n",
       "    <tr>\n",
       "      <th>2</th>\n",
       "      <td>41.541667</td>\n",
       "    </tr>\n",
       "    <tr>\n",
       "      <th>3</th>\n",
       "      <td>67.675676</td>\n",
       "    </tr>\n",
       "    <tr>\n",
       "      <th>4</th>\n",
       "      <td>66.509434</td>\n",
       "    </tr>\n",
       "    <tr>\n",
       "      <th>5</th>\n",
       "      <td>75.906250</td>\n",
       "    </tr>\n",
       "    <tr>\n",
       "      <th>6</th>\n",
       "      <td>69.209877</td>\n",
       "    </tr>\n",
       "    <tr>\n",
       "      <th>7</th>\n",
       "      <td>78.363636</td>\n",
       "    </tr>\n",
       "    <tr>\n",
       "      <th>8</th>\n",
       "      <td>74.058252</td>\n",
       "    </tr>\n",
       "    <tr>\n",
       "      <th>9</th>\n",
       "      <td>77.288288</td>\n",
       "    </tr>\n",
       "    <tr>\n",
       "      <th>10</th>\n",
       "      <td>80.652542</td>\n",
       "    </tr>\n",
       "    <tr>\n",
       "      <th>11</th>\n",
       "      <td>78.031008</td>\n",
       "    </tr>\n",
       "    <tr>\n",
       "      <th>12</th>\n",
       "      <td>86.425373</td>\n",
       "    </tr>\n",
       "  </tbody>\n",
       "</table>\n",
       "</div>"
      ],
      "text/plain": [
       "             sms\n",
       "month           \n",
       "1      59.444444\n",
       "2      41.541667\n",
       "3      67.675676\n",
       "4      66.509434\n",
       "5      75.906250\n",
       "6      69.209877\n",
       "7      78.363636\n",
       "8      74.058252\n",
       "9      77.288288\n",
       "10     80.652542\n",
       "11     78.031008\n",
       "12     86.425373"
      ]
     },
     "execution_count": 43,
     "metadata": {},
     "output_type": "execute_result"
    }
   ],
   "source": [
    "# СМС тариф ultra\n",
    "ultra.pivot_table(index='month', values='sms', aggfunc = 'mean')"
   ]
  },
  {
   "cell_type": "code",
   "execution_count": 44,
   "metadata": {},
   "outputs": [
    {
     "name": "stdout",
     "output_type": "stream",
     "text": [
      "Среднее значение 76.01682439537329\n",
      "Дисперсия 1798.043927168078\n",
      "Стандартное отклонение 42.40334806554876\n"
     ]
    }
   ],
   "source": [
    "print('Среднее значение', ultra['sms'].mean())\n",
    "print('Дисперсия', np.var(ultra['sms'], ddof=1))\n",
    "print('Стандартное отклонение', np.std(ultra['sms'], ddof=1))"
   ]
  },
  {
   "cell_type": "code",
   "execution_count": 45,
   "metadata": {},
   "outputs": [
    {
     "data": {
      "text/html": [
       "<div>\n",
       "<style scoped>\n",
       "    .dataframe tbody tr th:only-of-type {\n",
       "        vertical-align: middle;\n",
       "    }\n",
       "\n",
       "    .dataframe tbody tr th {\n",
       "        vertical-align: top;\n",
       "    }\n",
       "\n",
       "    .dataframe thead th {\n",
       "        text-align: right;\n",
       "    }\n",
       "</style>\n",
       "<table border=\"1\" class=\"dataframe\">\n",
       "  <thead>\n",
       "    <tr style=\"text-align: right;\">\n",
       "      <th></th>\n",
       "      <th>sms</th>\n",
       "    </tr>\n",
       "    <tr>\n",
       "      <th>month</th>\n",
       "      <th></th>\n",
       "    </tr>\n",
       "  </thead>\n",
       "  <tbody>\n",
       "    <tr>\n",
       "      <th>1</th>\n",
       "      <td>27.676471</td>\n",
       "    </tr>\n",
       "    <tr>\n",
       "      <th>2</th>\n",
       "      <td>40.189655</td>\n",
       "    </tr>\n",
       "    <tr>\n",
       "      <th>3</th>\n",
       "      <td>54.324675</td>\n",
       "    </tr>\n",
       "    <tr>\n",
       "      <th>4</th>\n",
       "      <td>51.312500</td>\n",
       "    </tr>\n",
       "    <tr>\n",
       "      <th>5</th>\n",
       "      <td>55.241135</td>\n",
       "    </tr>\n",
       "    <tr>\n",
       "      <th>6</th>\n",
       "      <td>55.889571</td>\n",
       "    </tr>\n",
       "    <tr>\n",
       "      <th>7</th>\n",
       "      <td>56.726368</td>\n",
       "    </tr>\n",
       "    <tr>\n",
       "      <th>8</th>\n",
       "      <td>59.230769</td>\n",
       "    </tr>\n",
       "    <tr>\n",
       "      <th>9</th>\n",
       "      <td>59.776062</td>\n",
       "    </tr>\n",
       "    <tr>\n",
       "      <th>10</th>\n",
       "      <td>60.167235</td>\n",
       "    </tr>\n",
       "    <tr>\n",
       "      <th>11</th>\n",
       "      <td>61.698413</td>\n",
       "    </tr>\n",
       "    <tr>\n",
       "      <th>12</th>\n",
       "      <td>66.684524</td>\n",
       "    </tr>\n",
       "  </tbody>\n",
       "</table>\n",
       "</div>"
      ],
      "text/plain": [
       "             sms\n",
       "month           \n",
       "1      27.676471\n",
       "2      40.189655\n",
       "3      54.324675\n",
       "4      51.312500\n",
       "5      55.241135\n",
       "6      55.889571\n",
       "7      56.726368\n",
       "8      59.230769\n",
       "9      59.776062\n",
       "10     60.167235\n",
       "11     61.698413\n",
       "12     66.684524"
      ]
     },
     "execution_count": 45,
     "metadata": {},
     "output_type": "execute_result"
    }
   ],
   "source": [
    "# СМС тариф smart\n",
    "smart.pivot_table(index='month', values='sms', aggfunc = 'mean')"
   ]
  },
  {
   "cell_type": "code",
   "execution_count": 46,
   "metadata": {},
   "outputs": [
    {
     "name": "stdout",
     "output_type": "stream",
     "text": [
      "Среднее значение 58.62123256860099\n",
      "Дисперсия 665.4388289031333\n",
      "Стандартное отклонение 25.796101040721897\n"
     ]
    }
   ],
   "source": [
    "print('Среднее значение', smart['sms'].mean())\n",
    "print('Дисперсия', np.var(smart['sms'], ddof=1))\n",
    "print('Стандартное отклонение', np.std(smart['sms'], ddof=1))"
   ]
  },
  {
   "cell_type": "code",
   "execution_count": 47,
   "metadata": {},
   "outputs": [
    {
     "data": {
      "image/png": "[encoded data removed]",
      "text/plain": [
       "<Figure size 432x288 with 1 Axes>"
      ]
     },
     "metadata": {
      "needs_background": "light"
     },
     "output_type": "display_data"
    }
   ],
   "source": [
    "ultra['sms'].hist(bins=30, label='ultra', color='grey', alpha=0.9)\n",
    "smart['sms'].hist(bins=30, label='smart', color='yellow', alpha=0.7)\n",
    "plt.legend()\n",
    "plt.xlabel('СМС')\n",
    "plt.ylabel('Клиенты')\n",
    "plt.show()"
   ]
  },
  {
   "cell_type": "markdown",
   "metadata": {},
   "source": [
    "#### Интернет"
   ]
  },
  {
   "cell_type": "code",
   "execution_count": 48,
   "metadata": {},
   "outputs": [
    {
     "data": {
      "text/html": [
       "<div>\n",
       "<style scoped>\n",
       "    .dataframe tbody tr th:only-of-type {\n",
       "        vertical-align: middle;\n",
       "    }\n",
       "\n",
       "    .dataframe tbody tr th {\n",
       "        vertical-align: top;\n",
       "    }\n",
       "\n",
       "    .dataframe thead th {\n",
       "        text-align: right;\n",
       "    }\n",
       "</style>\n",
       "<table border=\"1\" class=\"dataframe\">\n",
       "  <thead>\n",
       "    <tr style=\"text-align: right;\">\n",
       "      <th></th>\n",
       "      <th>mb_used</th>\n",
       "    </tr>\n",
       "    <tr>\n",
       "      <th>month</th>\n",
       "      <th></th>\n",
       "    </tr>\n",
       "  </thead>\n",
       "  <tbody>\n",
       "    <tr>\n",
       "      <th>1</th>\n",
       "      <td>13140.681111</td>\n",
       "    </tr>\n",
       "    <tr>\n",
       "      <th>2</th>\n",
       "      <td>12846.477273</td>\n",
       "    </tr>\n",
       "    <tr>\n",
       "      <th>3</th>\n",
       "      <td>17535.550270</td>\n",
       "    </tr>\n",
       "    <tr>\n",
       "      <th>4</th>\n",
       "      <td>16828.134364</td>\n",
       "    </tr>\n",
       "    <tr>\n",
       "      <th>5</th>\n",
       "      <td>19656.534091</td>\n",
       "    </tr>\n",
       "    <tr>\n",
       "      <th>6</th>\n",
       "      <td>19152.950602</td>\n",
       "    </tr>\n",
       "    <tr>\n",
       "      <th>7</th>\n",
       "      <td>20723.394778</td>\n",
       "    </tr>\n",
       "    <tr>\n",
       "      <th>8</th>\n",
       "      <td>19760.734434</td>\n",
       "    </tr>\n",
       "    <tr>\n",
       "      <th>9</th>\n",
       "      <td>19372.735702</td>\n",
       "    </tr>\n",
       "    <tr>\n",
       "      <th>10</th>\n",
       "      <td>20209.643361</td>\n",
       "    </tr>\n",
       "    <tr>\n",
       "      <th>11</th>\n",
       "      <td>19935.585489</td>\n",
       "    </tr>\n",
       "    <tr>\n",
       "      <th>12</th>\n",
       "      <td>21951.094130</td>\n",
       "    </tr>\n",
       "  </tbody>\n",
       "</table>\n",
       "</div>"
      ],
      "text/plain": [
       "            mb_used\n",
       "month              \n",
       "1      13140.681111\n",
       "2      12846.477273\n",
       "3      17535.550270\n",
       "4      16828.134364\n",
       "5      19656.534091\n",
       "6      19152.950602\n",
       "7      20723.394778\n",
       "8      19760.734434\n",
       "9      19372.735702\n",
       "10     20209.643361\n",
       "11     19935.585489\n",
       "12     21951.094130"
      ]
     },
     "execution_count": 48,
     "metadata": {},
     "output_type": "execute_result"
    }
   ],
   "source": [
    "# Интернет тариф ultra\n",
    "ultra.pivot_table(index='month', values='mb_used', aggfunc = 'mean')"
   ]
  },
  {
   "cell_type": "code",
   "execution_count": 49,
   "metadata": {},
   "outputs": [
    {
     "name": "stdout",
     "output_type": "stream",
     "text": [
      "Среднее значение 19668.485261538463\n",
      "Дисперсия 98864248.95263153\n",
      "Стандартное отклонение 42.40334806554876\n"
     ]
    }
   ],
   "source": [
    "print('Среднее значение', ultra['mb_used'].mean())\n",
    "print('Дисперсия', np.var(ultra['mb_used'], ddof=1))\n",
    "print('Стандартное отклонение', np.std(ultra['sms'], ddof=1))"
   ]
  },
  {
   "cell_type": "code",
   "execution_count": 50,
   "metadata": {},
   "outputs": [
    {
     "data": {
      "text/html": [
       "<div>\n",
       "<style scoped>\n",
       "    .dataframe tbody tr th:only-of-type {\n",
       "        vertical-align: middle;\n",
       "    }\n",
       "\n",
       "    .dataframe tbody tr th {\n",
       "        vertical-align: top;\n",
       "    }\n",
       "\n",
       "    .dataframe thead th {\n",
       "        text-align: right;\n",
       "    }\n",
       "</style>\n",
       "<table border=\"1\" class=\"dataframe\">\n",
       "  <thead>\n",
       "    <tr style=\"text-align: right;\">\n",
       "      <th></th>\n",
       "      <th>mb_used</th>\n",
       "    </tr>\n",
       "    <tr>\n",
       "      <th>month</th>\n",
       "      <th></th>\n",
       "    </tr>\n",
       "  </thead>\n",
       "  <tbody>\n",
       "    <tr>\n",
       "      <th>1</th>\n",
       "      <td>8513.717647</td>\n",
       "    </tr>\n",
       "    <tr>\n",
       "      <th>2</th>\n",
       "      <td>11597.054310</td>\n",
       "    </tr>\n",
       "    <tr>\n",
       "      <th>3</th>\n",
       "      <td>15104.159091</td>\n",
       "    </tr>\n",
       "    <tr>\n",
       "      <th>4</th>\n",
       "      <td>13462.180625</td>\n",
       "    </tr>\n",
       "    <tr>\n",
       "      <th>5</th>\n",
       "      <td>15805.184326</td>\n",
       "    </tr>\n",
       "    <tr>\n",
       "      <th>6</th>\n",
       "      <td>15794.647988</td>\n",
       "    </tr>\n",
       "    <tr>\n",
       "      <th>7</th>\n",
       "      <td>15743.150348</td>\n",
       "    </tr>\n",
       "    <tr>\n",
       "      <th>8</th>\n",
       "      <td>16681.706068</td>\n",
       "    </tr>\n",
       "    <tr>\n",
       "      <th>9</th>\n",
       "      <td>16303.578808</td>\n",
       "    </tr>\n",
       "    <tr>\n",
       "      <th>10</th>\n",
       "      <td>16757.122891</td>\n",
       "    </tr>\n",
       "    <tr>\n",
       "      <th>11</th>\n",
       "      <td>16895.696646</td>\n",
       "    </tr>\n",
       "    <tr>\n",
       "      <th>12</th>\n",
       "      <td>18113.662047</td>\n",
       "    </tr>\n",
       "  </tbody>\n",
       "</table>\n",
       "</div>"
      ],
      "text/plain": [
       "            mb_used\n",
       "month              \n",
       "1       8513.717647\n",
       "2      11597.054310\n",
       "3      15104.159091\n",
       "4      13462.180625\n",
       "5      15805.184326\n",
       "6      15794.647988\n",
       "7      15743.150348\n",
       "8      16681.706068\n",
       "9      16303.578808\n",
       "10     16757.122891\n",
       "11     16895.696646\n",
       "12     18113.662047"
      ]
     },
     "execution_count": 50,
     "metadata": {},
     "output_type": "execute_result"
    }
   ],
   "source": [
    "# Интернет тариф smart\n",
    "smart.pivot_table(index='month', values='mb_used', aggfunc = 'mean')"
   ]
  },
  {
   "cell_type": "code",
   "execution_count": 51,
   "metadata": {},
   "outputs": [
    {
     "name": "stdout",
     "output_type": "stream",
     "text": [
      "Среднее значение 16215.661849192102\n",
      "Дисперсия 34359951.682283156\n",
      "Стандартное отклонение 5861.736234451629\n"
     ]
    }
   ],
   "source": [
    "print('Среднее значение', smart['mb_used'].mean())\n",
    "print('Дисперсия', np.var(smart['mb_used'], ddof=1))\n",
    "print('Стандартное отклонение', np.std(smart['mb_used'], ddof=1))"
   ]
  },
  {
   "cell_type": "code",
   "execution_count": 52,
   "metadata": {},
   "outputs": [
    {
     "data": {
      "image/png": "[encoded data removed]",
      "text/plain": [
       "<Figure size 432x288 with 1 Axes>"
      ]
     },
     "metadata": {
      "needs_background": "light"
     },
     "output_type": "display_data"
    }
   ],
   "source": [
    "ultra['mb_used'].hist(bins=40, label='ultra', color='green', alpha=0.9)\n",
    "smart['mb_used'].hist(bins=40, label='smart', color='orange', alpha=0.7)\n",
    "plt.legend()\n",
    "plt.xlabel('Мб., траффик')\n",
    "plt.ylabel('Клиенты')\n",
    "plt.show()"
   ]
  },
  {
   "cell_type": "markdown",
   "metadata": {},
   "source": [
    "### Вывод\n",
    "**Звонки**\n",
    "Пользоватили тарифа ultra, в среднем тратят 546 минут на разговоры по телефону. Меньше всего в феврале - 297 минут, больше всего в декабре - 615 минут.\n",
    "Пользователи тарифа smart, в среднем тратят 419 минут на разговоры по телефону. Меньше всего в феврале - 204 минуты, больше всего в декабре - 480 минут.\n",
    "Большая часть пользователей обеих групп тратит на разговоры по телефону 250 - 750 минут в месяц.\n",
    "\n",
    "**СМС**\n",
    "Пользоватили тарифа ultra, в среднем отправляют 61 смс в месяц. Меньше всего в феврале - 33 смс, больше всего в декабре - 72 смс.\n",
    "Пользователи тарифа smart, в среднем отправляют 39 смс в месяц. Меньше всего в январе - 20 смс, больше всего в декабре - 42 смс.\n",
    "Достаточно большое число пользователей обеих групп или не пользуются смс, или отправляют единичные сообщения.\n",
    "\n",
    "**Интернет**\n",
    "Пользоватили тарифа ultra, в среднем тратят 19668 мб. трафика. Меньше всего в феврале - 13140 мб., больше всего в декабре - 21951 мб.\n",
    "Пользователи тарифа smart, в среднем тратят 16215 мб. трафика. Меньше всего в январе - 8513 мб., больше всего в декабре - 18113 мб.\n",
    "Пользователи тарифа ultra часто используют до 30000 мб., smart - до 25000 мб.\n",
    "\n",
    "В среднем, выручка с 1 пользователя тарифа smart - 1318 руб., тарифа ultra - 2070 руб. в месяц. Стоимость пакетов - smart 550 руб., ultra - 1950 руб. Пользователи тарифа smart достаточно часто выходят за лимит услуг предусмотренных тарифным планом, но все равно, их затраты намного меньше стоимости тарифа ultra. Предлагать смену тарифного плана в массовом порядке не имеет смысла.\n",
    "\n"
   ]
  },
  {
   "cell_type": "markdown",
   "metadata": {},
   "source": [
    "Во всех трех случаях распределение - распределение Пуассона, т.к это распределение дискретного типа случайной величины, представляющей собой число событий, произошедших за фиксированное время, при условии, что данные события происходят с некоторой фиксированной средней интенсивностью и независимо друг от друга."
   ]
  },
  {
   "cell_type": "markdown",
   "metadata": {},
   "source": [
    "## Проверка гипотез"
   ]
  },
  {
   "cell_type": "markdown",
   "metadata": {},
   "source": [
    "**Средняя выручка пользователей тарифов «Ультра» и «Смарт» различаются**"
   ]
  },
  {
   "cell_type": "markdown",
   "metadata": {},
   "source": [
    "Н0 - средняя выручка пользователей тарифов «Ультра» равна средней выручке пользователей тарифов «Смарт» \n",
    "Н1 - средняя выручка пользователей тарифов «Ультра» не равна средней выручка пользователей тарифов «Смарт»\n",
    "\n",
    "Средняя выручка, в случае неравенства, может быть меньше или больше. Тест двухстороний. Выборки достаточно большие. Параметр equal_var лучше задать False, тест посчитает дисперсии выборок по отдельности"
   ]
  },
  {
   "cell_type": "code",
   "execution_count": 53,
   "metadata": {},
   "outputs": [
    {
     "name": "stdout",
     "output_type": "stream",
     "text": [
      "p-значение: 1.0519833366062768e-228\n",
      "Отвергаем нулевую гипотезу\n"
     ]
    }
   ],
   "source": [
    "\n",
    "alpha = .05\n",
    "\n",
    "results = st.ttest_ind(\n",
    "    ultra['revenue'], \n",
    "    smart['revenue'], equal_var=False)\n",
    "\n",
    "print('p-значение:', results.pvalue)\n",
    "\n",
    "if (results.pvalue < alpha):\n",
    "    print(\"Отвергаем нулевую гипотезу\")\n",
    "else:\n",
    "    print(\"Не получилось отвергнуть нулевую гипотезу\")"
   ]
  },
  {
   "cell_type": "markdown",
   "metadata": {},
   "source": [
    "Выше по тексту, мы уже смотрели средние выручки и видели, что они не равны. В данном случае, мы могли просто сравнить два средних значения, или провести тест."
   ]
  },
  {
   "cell_type": "markdown",
   "metadata": {},
   "source": [
    "**Средняя выручка пользователей из Москвы отличается от выручки пользователей из других регионов**"
   ]
  },
  {
   "cell_type": "code",
   "execution_count": 54,
   "metadata": {},
   "outputs": [
    {
     "data": {
      "text/plain": [
       "array(['Краснодар', 'Москва', 'Новокузнецк', 'Иваново', 'Омск', 'Уфа',\n",
       "       'Томск', 'Санкт-Петербург', 'Тверь', 'Ярославль', 'Тюмень',\n",
       "       'Ростов-на-Дону', 'Калуга', 'Тула', 'Волгоград', 'Саранск',\n",
       "       'Иркутск', 'Череповец', 'Набережные Челны', 'Новосибирск',\n",
       "       'Брянск', 'Тольятти', 'Нижний Тагил', 'Воронеж', 'Махачкала',\n",
       "       'Пермь', 'Сургут', 'Пенза', 'Мурманск', 'Самара',\n",
       "       'Нижний Новгород', 'Кемерово', 'Кострома', 'Оренбург', 'Чебоксары',\n",
       "       'Магнитогорск', 'Астрахань', 'Нижневартовск', 'Челябинск',\n",
       "       'Красноярск', 'Владивосток', 'Смоленск', 'Владимир', 'Казань',\n",
       "       'Курган', 'Саратов', 'Севастополь', 'Рязань', 'Екатеринбург',\n",
       "       'Стерлитамак', 'Ульяновск', 'Балашиха', 'Барнаул', 'Киров', 'Сочи',\n",
       "       'Вологда', 'Чита', 'Петрозаводск', 'Хабаровск', 'Ставрополь',\n",
       "       'Улан-Удэ', 'Курск', 'Якутск', 'Химки', 'Владикавказ', 'Ижевск',\n",
       "       'Орёл', 'Белгород', 'Архангельск', 'Липецк', 'Волжский', 'Тамбов',\n",
       "       'Калининград', 'Новороссийск', 'Грозный', 'Подольск'], dtype=object)"
      ]
     },
     "execution_count": 54,
     "metadata": {},
     "output_type": "execute_result"
    }
   ],
   "source": [
    "# Создадим нужные срезы\n",
    "data_3['city'].unique()"
   ]
  },
  {
   "cell_type": "code",
   "execution_count": 55,
   "metadata": {},
   "outputs": [],
   "source": [
    "moscow = data_3.query('city == \"Москва\"').reset_index()"
   ]
  },
  {
   "cell_type": "code",
   "execution_count": 56,
   "metadata": {},
   "outputs": [],
   "source": [
    "other = data_3.query('city != \"Москва\"').reset_index()"
   ]
  },
  {
   "cell_type": "markdown",
   "metadata": {},
   "source": [
    "Н0 - средняя выручка пользователей из Москвы равна средней выручке пользователей из других регионов \n",
    "Н1 - средняя выручка пользователей из Москвы не равна средней выручке пользователей из других регионов\n",
    "\n",
    "Средняя выручка, в случае неравенства, может быть меньше или больше. Тест двухстороний. Выборки достаточно большие. Параметр equal_var лучше задать False, тест посчитает дисперсии выборок по отдельности"
   ]
  },
  {
   "cell_type": "code",
   "execution_count": 57,
   "metadata": {},
   "outputs": [
    {
     "name": "stdout",
     "output_type": "stream",
     "text": [
      "p-значение: 0.5305308576929098\n",
      "Не получилось отвергнуть нулевую гипотезу\n"
     ]
    }
   ],
   "source": [
    "alpha = .05\n",
    "\n",
    "results = st.ttest_ind(\n",
    "    moscow['revenue'], \n",
    "    other['revenue'], equal_var=False)\n",
    "\n",
    "print('p-значение:', results.pvalue)\n",
    "\n",
    "if (results.pvalue < alpha):\n",
    "    print(\"Отвергаем нулевую гипотезу\")\n",
    "else:\n",
    "    print(\"Не получилось отвергнуть нулевую гипотезу\")"
   ]
  },
  {
   "cell_type": "code",
   "execution_count": 58,
   "metadata": {},
   "outputs": [
    {
     "name": "stdout",
     "output_type": "stream",
     "text": [
      "средняя выручка пользователей из Москвы: 1566.0\n",
      "средняя выручка пользователей из других регионов: 1545.0\n"
     ]
    }
   ],
   "source": [
    "print('средняя выручка пользователей из Москвы:', moscow['revenue'].mean().round(0))\n",
    "print('средняя выручка пользователей из других регионов:', other['revenue'].mean().round(0))"
   ]
  },
  {
   "cell_type": "markdown",
   "metadata": {},
   "source": [
    "Чтобы скорректировать рекламный бюджет, коммерческий департамент хочет понять, какой тариф приносит больше денег.\n",
    "Нужно проанализировать поведение клиентов и сделать вывод — какой тариф лучше."
   ]
  },
  {
   "cell_type": "markdown",
   "metadata": {},
   "source": [
    "## Общий вывод"
   ]
  },
  {
   "cell_type": "code",
   "execution_count": 59,
   "metadata": {},
   "outputs": [
    {
     "data": {
      "text/html": [
       "<div>\n",
       "<style scoped>\n",
       "    .dataframe tbody tr th:only-of-type {\n",
       "        vertical-align: middle;\n",
       "    }\n",
       "\n",
       "    .dataframe tbody tr th {\n",
       "        vertical-align: top;\n",
       "    }\n",
       "\n",
       "    .dataframe thead tr th {\n",
       "        text-align: left;\n",
       "    }\n",
       "\n",
       "    .dataframe thead tr:last-of-type th {\n",
       "        text-align: right;\n",
       "    }\n",
       "</style>\n",
       "<table border=\"1\" class=\"dataframe\">\n",
       "  <thead>\n",
       "    <tr>\n",
       "      <th></th>\n",
       "      <th>sum</th>\n",
       "      <th>mean</th>\n",
       "      <th>count</th>\n",
       "    </tr>\n",
       "    <tr>\n",
       "      <th></th>\n",
       "      <th>revenue</th>\n",
       "      <th>revenue</th>\n",
       "      <th>revenue</th>\n",
       "    </tr>\n",
       "    <tr>\n",
       "      <th>tariff</th>\n",
       "      <th></th>\n",
       "      <th></th>\n",
       "      <th></th>\n",
       "    </tr>\n",
       "  </thead>\n",
       "  <tbody>\n",
       "    <tr>\n",
       "      <th>smart</th>\n",
       "      <td>2939179</td>\n",
       "      <td>1318.608793</td>\n",
       "      <td>2229</td>\n",
       "    </tr>\n",
       "    <tr>\n",
       "      <th>ultra</th>\n",
       "      <td>2039100</td>\n",
       "      <td>2070.152284</td>\n",
       "      <td>985</td>\n",
       "    </tr>\n",
       "  </tbody>\n",
       "</table>\n",
       "</div>"
      ],
      "text/plain": [
       "            sum         mean   count\n",
       "        revenue      revenue revenue\n",
       "tariff                              \n",
       "smart   2939179  1318.608793    2229\n",
       "ultra   2039100  2070.152284     985"
      ]
     },
     "execution_count": 59,
     "metadata": {},
     "output_type": "execute_result"
    }
   ],
   "source": [
    "# иллюстрация для общего вывода\n",
    "data_3.pivot_table(index = 'tariff', values = 'revenue', aggfunc = ['sum', 'mean', 'count'])"
   ]
  },
  {
   "cell_type": "code",
   "execution_count": 60,
   "metadata": {},
   "outputs": [
    {
     "data": {
      "image/png": "[encoded data removed]",
      "text/plain": [
       "<Figure size 432x288 with 1 Axes>"
      ]
     },
     "metadata": {},
     "output_type": "display_data"
    }
   ],
   "source": [
    "data_3.pivot_table(index = 'tariff', values = 'revenue', aggfunc = 'sum').plot(kind='pie', subplots=True)\n",
    "plt.title('Вырука по тарифу, всего')\n",
    "plt.show()"
   ]
  },
  {
   "cell_type": "markdown",
   "metadata": {},
   "source": [
    "Основной задачей исследования являлось - определение тарифа, приносящего больше денег оператору. Эта информация должна послужить аргументом для корректировки рекламного бюджета.\n",
    "Несмотря на то, что стредняя выручка тарифа smart почти на 40% ниже средней выручки тарифа ultra, массовость тарифа smart обеспечивает почти 60% общей выручки (здесь под общей выручкой понимается сумма выручек двух анализируемых тарифов).\n",
    "Если отвечать на вопрос - какой тариф лучше для оператора, ориентируясь только на выручку, то smart.\n",
    "При составлении бюджета рекламной кампании, большее внимание стоит уделить тарифу smart, т.к. для абонента он все равно дешевле, чем ultra, а для оператора выгоднее."
   ]
  }
 ],
 "metadata": {
  "ExecuteTimeLog": [
   {
    "duration": 74,
    "start_time": "2022-03-22T07:20:27.868Z"
   },
   {
    "duration": 1825,
    "start_time": "2022-03-22T07:20:32.549Z"
   },
   {
    "duration": 322,
    "start_time": "2022-03-22T07:20:34.377Z"
   },
   {
    "duration": 667,
    "start_time": "2022-03-22T07:24:02.046Z"
   },
   {
    "duration": 149,
    "start_time": "2022-03-22T07:26:40.515Z"
   },
   {
    "duration": 159,
    "start_time": "2022-03-22T07:27:05.571Z"
   },
   {
    "duration": 15,
    "start_time": "2022-03-22T07:30:52.243Z"
   },
   {
    "duration": 18,
    "start_time": "2022-03-22T07:31:07.228Z"
   },
   {
    "duration": 13,
    "start_time": "2022-03-22T07:31:46.593Z"
   },
   {
    "duration": 33,
    "start_time": "2022-03-22T07:35:39.518Z"
   },
   {
    "duration": 33,
    "start_time": "2022-03-22T07:35:51.354Z"
   },
   {
    "duration": 32,
    "start_time": "2022-03-22T07:36:02.640Z"
   },
   {
    "duration": 22,
    "start_time": "2022-03-22T07:36:14.259Z"
   },
   {
    "duration": 21,
    "start_time": "2022-03-22T07:37:01.891Z"
   },
   {
    "duration": 116,
    "start_time": "2022-03-22T07:39:11.424Z"
   },
   {
    "duration": 6,
    "start_time": "2022-03-22T07:40:06.836Z"
   },
   {
    "duration": 71,
    "start_time": "2022-03-22T07:40:38.625Z"
   },
   {
    "duration": 58,
    "start_time": "2022-03-22T07:41:50.722Z"
   },
   {
    "duration": 44,
    "start_time": "2022-03-22T07:42:01.420Z"
   },
   {
    "duration": 27,
    "start_time": "2022-03-22T07:42:13.301Z"
   },
   {
    "duration": 21,
    "start_time": "2022-03-22T07:42:25.470Z"
   },
   {
    "duration": 12,
    "start_time": "2022-03-22T08:11:00.236Z"
   },
   {
    "duration": 5205,
    "start_time": "2022-03-22T08:11:09.578Z"
   },
   {
    "duration": 22,
    "start_time": "2022-03-22T08:15:01.048Z"
   },
   {
    "duration": 17,
    "start_time": "2022-03-22T08:15:26.595Z"
   },
   {
    "duration": 9,
    "start_time": "2022-03-22T08:16:04.457Z"
   },
   {
    "duration": 5,
    "start_time": "2022-03-22T08:26:47.360Z"
   },
   {
    "duration": 494,
    "start_time": "2022-03-22T08:26:47.792Z"
   },
   {
    "duration": 31,
    "start_time": "2022-03-22T08:26:48.289Z"
   },
   {
    "duration": 34,
    "start_time": "2022-03-22T08:26:48.672Z"
   },
   {
    "duration": 40,
    "start_time": "2022-03-22T08:26:49.220Z"
   },
   {
    "duration": 29,
    "start_time": "2022-03-22T08:26:49.768Z"
   },
   {
    "duration": 17,
    "start_time": "2022-03-22T08:26:50.328Z"
   },
   {
    "duration": 104,
    "start_time": "2022-03-22T08:26:50.938Z"
   },
   {
    "duration": 7,
    "start_time": "2022-03-22T08:26:51.697Z"
   },
   {
    "duration": 71,
    "start_time": "2022-03-22T08:26:52.255Z"
   },
   {
    "duration": 46,
    "start_time": "2022-03-22T08:26:53.249Z"
   },
   {
    "duration": 43,
    "start_time": "2022-03-22T08:26:54.662Z"
   },
   {
    "duration": 26,
    "start_time": "2022-03-22T08:26:56.595Z"
   },
   {
    "duration": 23,
    "start_time": "2022-03-22T08:26:56.623Z"
   },
   {
    "duration": 223,
    "start_time": "2022-03-22T10:21:29.460Z"
   },
   {
    "duration": 506,
    "start_time": "2022-03-22T10:25:23.460Z"
   },
   {
    "duration": 310,
    "start_time": "2022-03-22T10:27:25.348Z"
   },
   {
    "duration": 17,
    "start_time": "2022-03-22T10:27:33.201Z"
   },
   {
    "duration": 18,
    "start_time": "2022-03-22T10:28:24.767Z"
   },
   {
    "duration": 2146,
    "start_time": "2022-03-22T10:28:32.336Z"
   },
   {
    "duration": 753,
    "start_time": "2022-03-22T10:28:34.486Z"
   },
   {
    "duration": 48,
    "start_time": "2022-03-22T10:28:35.243Z"
   },
   {
    "duration": 55,
    "start_time": "2022-03-22T10:28:35.294Z"
   },
   {
    "duration": 55,
    "start_time": "2022-03-22T10:28:35.353Z"
   },
   {
    "duration": 17,
    "start_time": "2022-03-22T10:28:35.411Z"
   },
   {
    "duration": 51,
    "start_time": "2022-03-22T10:28:35.431Z"
   },
   {
    "duration": 188,
    "start_time": "2022-03-22T10:28:35.485Z"
   },
   {
    "duration": 8,
    "start_time": "2022-03-22T10:28:35.676Z"
   },
   {
    "duration": 106,
    "start_time": "2022-03-22T10:28:35.687Z"
   },
   {
    "duration": 92,
    "start_time": "2022-03-22T10:28:35.796Z"
   },
   {
    "duration": 57,
    "start_time": "2022-03-22T10:28:35.891Z"
   },
   {
    "duration": 50,
    "start_time": "2022-03-22T10:28:35.951Z"
   },
   {
    "duration": 21,
    "start_time": "2022-03-22T10:28:36.006Z"
   },
   {
    "duration": 173,
    "start_time": "2022-03-22T10:28:36.030Z"
   },
   {
    "duration": 75,
    "start_time": "2022-03-22T10:29:31.651Z"
   },
   {
    "duration": 13,
    "start_time": "2022-03-22T10:30:41.790Z"
   },
   {
    "duration": 10,
    "start_time": "2022-03-22T10:31:03.931Z"
   },
   {
    "duration": 11,
    "start_time": "2022-03-22T10:31:06.383Z"
   },
   {
    "duration": 13,
    "start_time": "2022-03-22T10:31:22.594Z"
   },
   {
    "duration": 30,
    "start_time": "2022-03-22T10:32:18.513Z"
   },
   {
    "duration": 11,
    "start_time": "2022-03-22T10:32:52.082Z"
   },
   {
    "duration": 1566,
    "start_time": "2022-03-22T10:33:18.448Z"
   },
   {
    "duration": 520,
    "start_time": "2022-03-22T10:33:20.017Z"
   },
   {
    "duration": 31,
    "start_time": "2022-03-22T10:33:20.540Z"
   },
   {
    "duration": 35,
    "start_time": "2022-03-22T10:33:20.573Z"
   },
   {
    "duration": 32,
    "start_time": "2022-03-22T10:33:20.611Z"
   },
   {
    "duration": 43,
    "start_time": "2022-03-22T10:33:20.645Z"
   },
   {
    "duration": 16,
    "start_time": "2022-03-22T10:33:20.705Z"
   },
   {
    "duration": 128,
    "start_time": "2022-03-22T10:33:20.724Z"
   },
   {
    "duration": 8,
    "start_time": "2022-03-22T10:33:20.855Z"
   },
   {
    "duration": 83,
    "start_time": "2022-03-22T10:33:20.865Z"
   },
   {
    "duration": 78,
    "start_time": "2022-03-22T10:33:20.951Z"
   },
   {
    "duration": 58,
    "start_time": "2022-03-22T10:33:21.032Z"
   },
   {
    "duration": 27,
    "start_time": "2022-03-22T10:33:21.094Z"
   },
   {
    "duration": 23,
    "start_time": "2022-03-22T10:33:21.124Z"
   },
   {
    "duration": 90,
    "start_time": "2022-03-22T10:33:21.150Z"
   },
   {
    "duration": 161,
    "start_time": "2022-03-22T10:33:21.243Z"
   },
   {
    "duration": 0,
    "start_time": "2022-03-22T10:33:21.407Z"
   },
   {
    "duration": 0,
    "start_time": "2022-03-22T10:33:21.409Z"
   },
   {
    "duration": 10,
    "start_time": "2022-03-22T10:35:29.847Z"
   },
   {
    "duration": 12,
    "start_time": "2022-03-22T10:35:50.066Z"
   },
   {
    "duration": 12,
    "start_time": "2022-03-22T10:36:16.944Z"
   },
   {
    "duration": 13,
    "start_time": "2022-03-22T10:36:35.309Z"
   },
   {
    "duration": 11,
    "start_time": "2022-03-22T10:46:57.581Z"
   },
   {
    "duration": 65,
    "start_time": "2022-03-22T10:47:35.703Z"
   },
   {
    "duration": 20,
    "start_time": "2022-03-22T10:47:49.051Z"
   },
   {
    "duration": 17,
    "start_time": "2022-03-22T10:48:01.427Z"
   },
   {
    "duration": 16,
    "start_time": "2022-03-22T10:48:13.236Z"
   },
   {
    "duration": 13,
    "start_time": "2022-03-22T10:48:24.206Z"
   },
   {
    "duration": 18,
    "start_time": "2022-03-22T10:49:46.593Z"
   },
   {
    "duration": 29,
    "start_time": "2022-03-22T10:51:33.819Z"
   },
   {
    "duration": 5662,
    "start_time": "2022-03-22T10:53:07.092Z"
   },
   {
    "duration": 5,
    "start_time": "2022-03-22T10:55:55.189Z"
   },
   {
    "duration": 12,
    "start_time": "2022-03-22T10:58:16.140Z"
   },
   {
    "duration": 14,
    "start_time": "2022-03-22T10:59:23.541Z"
   },
   {
    "duration": 20,
    "start_time": "2022-03-22T10:59:38.741Z"
   },
   {
    "duration": 20,
    "start_time": "2022-03-22T11:03:00.912Z"
   },
   {
    "duration": 12,
    "start_time": "2022-03-22T11:03:28.692Z"
   },
   {
    "duration": 26,
    "start_time": "2022-03-22T11:04:58.296Z"
   },
   {
    "duration": 18,
    "start_time": "2022-03-22T11:05:51.793Z"
   },
   {
    "duration": 10,
    "start_time": "2022-03-22T11:07:21.244Z"
   },
   {
    "duration": 18,
    "start_time": "2022-03-22T11:07:34.900Z"
   },
   {
    "duration": 25,
    "start_time": "2022-03-22T11:07:41.711Z"
   },
   {
    "duration": 47,
    "start_time": "2022-03-22T11:16:51.871Z"
   },
   {
    "duration": 31,
    "start_time": "2022-03-22T11:18:47.056Z"
   },
   {
    "duration": 35,
    "start_time": "2022-03-22T11:20:40.710Z"
   },
   {
    "duration": 252,
    "start_time": "2022-03-22T11:23:59.590Z"
   },
   {
    "duration": 88,
    "start_time": "2022-03-22T11:24:24.570Z"
   },
   {
    "duration": 24,
    "start_time": "2022-03-22T11:24:25.943Z"
   },
   {
    "duration": 22,
    "start_time": "2022-03-22T11:24:26.856Z"
   },
   {
    "duration": 22,
    "start_time": "2022-03-22T11:24:27.884Z"
   },
   {
    "duration": 41,
    "start_time": "2022-03-22T11:24:47.161Z"
   },
   {
    "duration": 24,
    "start_time": "2022-03-22T11:25:38.696Z"
   },
   {
    "duration": 15,
    "start_time": "2022-03-22T11:26:01.657Z"
   },
   {
    "duration": 70,
    "start_time": "2022-03-22T11:29:28.860Z"
   },
   {
    "duration": 10,
    "start_time": "2022-03-22T11:31:10.110Z"
   },
   {
    "duration": 61,
    "start_time": "2022-03-22T11:33:04.543Z"
   },
   {
    "duration": 16,
    "start_time": "2022-03-22T11:33:07.486Z"
   },
   {
    "duration": 18,
    "start_time": "2022-03-22T11:33:08.302Z"
   },
   {
    "duration": 14,
    "start_time": "2022-03-22T11:33:17.506Z"
   },
   {
    "duration": 69,
    "start_time": "2022-03-22T11:36:37.909Z"
   },
   {
    "duration": 18,
    "start_time": "2022-03-22T11:36:39.958Z"
   },
   {
    "duration": 16,
    "start_time": "2022-03-22T11:36:42.724Z"
   },
   {
    "duration": 11,
    "start_time": "2022-03-22T11:36:53.568Z"
   },
   {
    "duration": 16,
    "start_time": "2022-03-22T11:36:58.608Z"
   },
   {
    "duration": 30,
    "start_time": "2022-03-22T11:37:00.285Z"
   },
   {
    "duration": 4,
    "start_time": "2022-03-22T11:37:02.793Z"
   },
   {
    "duration": 66,
    "start_time": "2022-03-22T11:37:47.108Z"
   },
   {
    "duration": 16,
    "start_time": "2022-03-22T11:37:47.947Z"
   },
   {
    "duration": 15,
    "start_time": "2022-03-22T11:37:53.362Z"
   },
   {
    "duration": 11,
    "start_time": "2022-03-22T11:37:55.728Z"
   },
   {
    "duration": 15,
    "start_time": "2022-03-22T11:38:05.244Z"
   },
   {
    "duration": 5,
    "start_time": "2022-03-22T11:39:18.028Z"
   },
   {
    "duration": 9,
    "start_time": "2022-03-22T11:39:19.464Z"
   },
   {
    "duration": 15,
    "start_time": "2022-03-22T11:39:25.861Z"
   },
   {
    "duration": 27,
    "start_time": "2022-03-22T11:39:28.042Z"
   },
   {
    "duration": 26,
    "start_time": "2022-03-22T11:39:28.880Z"
   },
   {
    "duration": 31,
    "start_time": "2022-03-22T11:40:06.253Z"
   },
   {
    "duration": 32,
    "start_time": "2022-03-22T11:40:59.807Z"
   },
   {
    "duration": 31,
    "start_time": "2022-03-22T12:37:00.742Z"
   },
   {
    "duration": 31,
    "start_time": "2022-03-22T12:49:00.891Z"
   },
   {
    "duration": 28,
    "start_time": "2022-03-22T13:33:52.974Z"
   },
   {
    "duration": 8,
    "start_time": "2022-03-22T13:35:59.838Z"
   },
   {
    "duration": 20,
    "start_time": "2022-03-22T13:36:10.641Z"
   },
   {
    "duration": 13,
    "start_time": "2022-03-22T13:42:38.103Z"
   },
   {
    "duration": 224,
    "start_time": "2022-03-22T13:43:01.525Z"
   },
   {
    "duration": 11,
    "start_time": "2022-03-22T13:43:37.308Z"
   },
   {
    "duration": 214,
    "start_time": "2022-03-22T13:44:12.851Z"
   },
   {
    "duration": 13,
    "start_time": "2022-03-22T13:44:14.102Z"
   },
   {
    "duration": 142,
    "start_time": "2022-03-22T13:44:18.514Z"
   },
   {
    "duration": 17,
    "start_time": "2022-03-22T13:44:19.287Z"
   },
   {
    "duration": 140,
    "start_time": "2022-03-22T13:44:45.823Z"
   },
   {
    "duration": 13,
    "start_time": "2022-03-22T13:45:06.833Z"
   },
   {
    "duration": 9,
    "start_time": "2022-03-22T13:45:24.407Z"
   },
   {
    "duration": 134,
    "start_time": "2022-03-22T13:47:59.719Z"
   },
   {
    "duration": 14,
    "start_time": "2022-03-22T13:48:01.350Z"
   },
   {
    "duration": 219,
    "start_time": "2022-03-22T13:48:33.756Z"
   },
   {
    "duration": 16,
    "start_time": "2022-03-22T13:49:04.515Z"
   },
   {
    "duration": 6,
    "start_time": "2022-03-22T13:51:57.006Z"
   },
   {
    "duration": 12,
    "start_time": "2022-03-22T13:51:57.276Z"
   },
   {
    "duration": 136,
    "start_time": "2022-03-22T13:52:09.272Z"
   },
   {
    "duration": 5,
    "start_time": "2022-03-22T13:52:09.977Z"
   },
   {
    "duration": 14,
    "start_time": "2022-03-22T13:52:10.983Z"
   },
   {
    "duration": 5,
    "start_time": "2022-03-22T13:52:16.734Z"
   },
   {
    "duration": 12,
    "start_time": "2022-03-22T13:52:17.638Z"
   },
   {
    "duration": 10,
    "start_time": "2022-03-22T13:52:52.154Z"
   },
   {
    "duration": 37,
    "start_time": "2022-03-22T13:53:06.100Z"
   },
   {
    "duration": 11,
    "start_time": "2022-03-22T13:53:38.427Z"
   },
   {
    "duration": 11,
    "start_time": "2022-03-22T13:53:46.748Z"
   },
   {
    "duration": 31,
    "start_time": "2022-03-22T14:11:56.130Z"
   },
   {
    "duration": 51,
    "start_time": "2022-03-22T14:15:17.132Z"
   },
   {
    "duration": 2189,
    "start_time": "2022-03-22T17:39:57.218Z"
   },
   {
    "duration": 521,
    "start_time": "2022-03-22T17:39:59.411Z"
   },
   {
    "duration": 34,
    "start_time": "2022-03-22T17:39:59.934Z"
   },
   {
    "duration": 35,
    "start_time": "2022-03-22T17:39:59.971Z"
   },
   {
    "duration": 28,
    "start_time": "2022-03-22T17:40:00.009Z"
   },
   {
    "duration": 46,
    "start_time": "2022-03-22T17:40:00.040Z"
   },
   {
    "duration": 15,
    "start_time": "2022-03-22T17:40:00.088Z"
   },
   {
    "duration": 142,
    "start_time": "2022-03-22T17:40:00.105Z"
   },
   {
    "duration": 6,
    "start_time": "2022-03-22T17:40:00.250Z"
   },
   {
    "duration": 85,
    "start_time": "2022-03-22T17:40:00.260Z"
   },
   {
    "duration": 75,
    "start_time": "2022-03-22T17:40:00.347Z"
   },
   {
    "duration": 62,
    "start_time": "2022-03-22T17:40:00.425Z"
   },
   {
    "duration": 27,
    "start_time": "2022-03-22T17:40:00.491Z"
   },
   {
    "duration": 21,
    "start_time": "2022-03-22T17:40:00.521Z"
   },
   {
    "duration": 69,
    "start_time": "2022-03-22T17:40:00.574Z"
   },
   {
    "duration": 29,
    "start_time": "2022-03-22T17:40:00.645Z"
   },
   {
    "duration": 18,
    "start_time": "2022-03-22T17:40:00.676Z"
   },
   {
    "duration": 18,
    "start_time": "2022-03-22T17:40:00.697Z"
   },
   {
    "duration": 45,
    "start_time": "2022-03-22T17:40:00.717Z"
   },
   {
    "duration": 10,
    "start_time": "2022-03-22T17:40:00.775Z"
   },
   {
    "duration": 36,
    "start_time": "2022-03-22T17:40:00.788Z"
   },
   {
    "duration": 21,
    "start_time": "2022-03-22T17:40:00.827Z"
   },
   {
    "duration": 32,
    "start_time": "2022-03-22T17:40:00.850Z"
   },
   {
    "duration": 25,
    "start_time": "2022-03-22T17:40:00.885Z"
   },
   {
    "duration": 66,
    "start_time": "2022-03-22T17:40:00.912Z"
   },
   {
    "duration": 31,
    "start_time": "2022-03-22T17:40:00.981Z"
   },
   {
    "duration": 37,
    "start_time": "2022-03-22T17:40:01.014Z"
   },
   {
    "duration": 9,
    "start_time": "2022-03-22T17:40:01.073Z"
   },
   {
    "duration": 61,
    "start_time": "2022-03-22T17:40:01.085Z"
   },
   {
    "duration": 156,
    "start_time": "2022-03-22T17:40:01.148Z"
   },
   {
    "duration": 5,
    "start_time": "2022-03-22T17:40:01.308Z"
   },
   {
    "duration": 23,
    "start_time": "2022-03-22T17:40:01.316Z"
   },
   {
    "duration": 65,
    "start_time": "2022-03-22T17:40:01.342Z"
   },
   {
    "duration": 35,
    "start_time": "2022-03-22T17:42:46.719Z"
   },
   {
    "duration": 38,
    "start_time": "2022-03-22T17:42:47.953Z"
   },
   {
    "duration": 31,
    "start_time": "2022-03-22T17:42:49.156Z"
   },
   {
    "duration": 8,
    "start_time": "2022-03-22T17:42:50.285Z"
   },
   {
    "duration": 19,
    "start_time": "2022-03-22T17:42:50.875Z"
   },
   {
    "duration": 140,
    "start_time": "2022-03-22T17:42:51.453Z"
   },
   {
    "duration": 6,
    "start_time": "2022-03-22T17:42:52.028Z"
   },
   {
    "duration": 11,
    "start_time": "2022-03-22T17:42:52.579Z"
   },
   {
    "duration": 35,
    "start_time": "2022-03-22T17:42:53.202Z"
   },
   {
    "duration": 98,
    "start_time": "2022-03-22T17:54:10.554Z"
   },
   {
    "duration": 112,
    "start_time": "2022-03-22T17:54:36.265Z"
   },
   {
    "duration": 369,
    "start_time": "2022-03-22T17:54:51.629Z"
   },
   {
    "duration": 337,
    "start_time": "2022-03-22T17:55:32.978Z"
   },
   {
    "duration": 95,
    "start_time": "2022-03-22T17:57:01.078Z"
   },
   {
    "duration": 14,
    "start_time": "2022-03-22T17:57:06.986Z"
   },
   {
    "duration": 43,
    "start_time": "2022-03-22T17:57:07.945Z"
   },
   {
    "duration": 322,
    "start_time": "2022-03-22T17:57:10.243Z"
   },
   {
    "duration": 20,
    "start_time": "2022-03-22T17:58:02.926Z"
   },
   {
    "duration": 21,
    "start_time": "2022-03-22T17:58:08.285Z"
   },
   {
    "duration": 194,
    "start_time": "2022-03-22T17:58:39.845Z"
   },
   {
    "duration": 86,
    "start_time": "2022-03-22T17:59:02.764Z"
   },
   {
    "duration": 20,
    "start_time": "2022-03-22T17:59:22.795Z"
   },
   {
    "duration": 93,
    "start_time": "2022-03-22T17:59:51.858Z"
   },
   {
    "duration": 102,
    "start_time": "2022-03-22T18:00:03.428Z"
   },
   {
    "duration": 129,
    "start_time": "2022-03-22T18:00:26.475Z"
   },
   {
    "duration": 20,
    "start_time": "2022-03-22T18:00:35.706Z"
   },
   {
    "duration": 20,
    "start_time": "2022-03-22T18:01:31.752Z"
   },
   {
    "duration": 30,
    "start_time": "2022-03-22T18:02:01.374Z"
   },
   {
    "duration": 77,
    "start_time": "2022-03-22T18:29:28.483Z"
   },
   {
    "duration": 1944,
    "start_time": "2022-03-22T18:29:41.669Z"
   },
   {
    "duration": 528,
    "start_time": "2022-03-22T18:29:43.617Z"
   },
   {
    "duration": 34,
    "start_time": "2022-03-22T18:29:44.147Z"
   },
   {
    "duration": 47,
    "start_time": "2022-03-22T18:29:44.184Z"
   },
   {
    "duration": 53,
    "start_time": "2022-03-22T18:29:44.235Z"
   },
   {
    "duration": 27,
    "start_time": "2022-03-22T18:29:44.291Z"
   },
   {
    "duration": 29,
    "start_time": "2022-03-22T18:29:44.321Z"
   },
   {
    "duration": 148,
    "start_time": "2022-03-22T18:29:44.353Z"
   },
   {
    "duration": 7,
    "start_time": "2022-03-22T18:29:44.504Z"
   },
   {
    "duration": 96,
    "start_time": "2022-03-22T18:29:44.516Z"
   },
   {
    "duration": 83,
    "start_time": "2022-03-22T18:29:44.615Z"
   },
   {
    "duration": 50,
    "start_time": "2022-03-22T18:29:44.701Z"
   },
   {
    "duration": 43,
    "start_time": "2022-03-22T18:29:44.766Z"
   },
   {
    "duration": 36,
    "start_time": "2022-03-22T18:29:44.811Z"
   },
   {
    "duration": 93,
    "start_time": "2022-03-22T18:29:44.849Z"
   },
   {
    "duration": 14,
    "start_time": "2022-03-22T18:29:44.945Z"
   },
   {
    "duration": 20,
    "start_time": "2022-03-22T18:29:44.975Z"
   },
   {
    "duration": 22,
    "start_time": "2022-03-22T18:29:44.998Z"
   },
   {
    "duration": 54,
    "start_time": "2022-03-22T18:29:45.023Z"
   },
   {
    "duration": 6,
    "start_time": "2022-03-22T18:29:45.081Z"
   },
   {
    "duration": 19,
    "start_time": "2022-03-22T18:29:45.089Z"
   },
   {
    "duration": 18,
    "start_time": "2022-03-22T18:29:45.111Z"
   },
   {
    "duration": 52,
    "start_time": "2022-03-22T18:29:45.131Z"
   },
   {
    "duration": 28,
    "start_time": "2022-03-22T18:29:45.186Z"
   },
   {
    "duration": 61,
    "start_time": "2022-03-22T18:29:45.217Z"
   },
   {
    "duration": 32,
    "start_time": "2022-03-22T18:29:45.283Z"
   },
   {
    "duration": 67,
    "start_time": "2022-03-22T18:29:45.317Z"
   },
   {
    "duration": 11,
    "start_time": "2022-03-22T18:29:45.389Z"
   },
   {
    "duration": 24,
    "start_time": "2022-03-22T18:29:45.403Z"
   },
   {
    "duration": 161,
    "start_time": "2022-03-22T18:29:45.429Z"
   },
   {
    "duration": 6,
    "start_time": "2022-03-22T18:29:45.593Z"
   },
   {
    "duration": 109,
    "start_time": "2022-03-22T18:29:45.602Z"
   },
   {
    "duration": 11,
    "start_time": "2022-03-22T18:29:45.714Z"
   },
   {
    "duration": 68,
    "start_time": "2022-03-22T18:29:45.728Z"
   },
   {
    "duration": 27,
    "start_time": "2022-03-22T18:29:45.798Z"
   },
   {
    "duration": 36,
    "start_time": "2022-03-22T18:30:51.523Z"
   },
   {
    "duration": 37,
    "start_time": "2022-03-22T18:31:06.523Z"
   },
   {
    "duration": 24,
    "start_time": "2022-03-22T18:31:18.716Z"
   },
   {
    "duration": 24,
    "start_time": "2022-03-22T18:31:29.509Z"
   },
   {
    "duration": 38,
    "start_time": "2022-03-22T18:31:33.177Z"
   },
   {
    "duration": 26,
    "start_time": "2022-03-22T18:38:32.192Z"
   },
   {
    "duration": 23,
    "start_time": "2022-03-22T18:39:05.936Z"
   },
   {
    "duration": 21,
    "start_time": "2022-03-22T18:39:11.929Z"
   },
   {
    "duration": 24,
    "start_time": "2022-03-22T18:44:03.984Z"
   },
   {
    "duration": 1567,
    "start_time": "2022-03-22T18:45:19.051Z"
   },
   {
    "duration": 526,
    "start_time": "2022-03-22T18:45:20.621Z"
   },
   {
    "duration": 33,
    "start_time": "2022-03-22T18:45:21.149Z"
   },
   {
    "duration": 34,
    "start_time": "2022-03-22T18:45:21.188Z"
   },
   {
    "duration": 55,
    "start_time": "2022-03-22T18:45:21.225Z"
   },
   {
    "duration": 21,
    "start_time": "2022-03-22T18:45:21.286Z"
   },
   {
    "duration": 16,
    "start_time": "2022-03-22T18:45:21.310Z"
   },
   {
    "duration": 177,
    "start_time": "2022-03-22T18:45:21.329Z"
   },
   {
    "duration": 6,
    "start_time": "2022-03-22T18:45:21.509Z"
   },
   {
    "duration": 97,
    "start_time": "2022-03-22T18:45:21.521Z"
   },
   {
    "duration": 76,
    "start_time": "2022-03-22T18:45:21.620Z"
   },
   {
    "duration": 81,
    "start_time": "2022-03-22T18:45:21.700Z"
   },
   {
    "duration": 39,
    "start_time": "2022-03-22T18:45:21.784Z"
   },
   {
    "duration": 53,
    "start_time": "2022-03-22T18:45:21.826Z"
   },
   {
    "duration": 114,
    "start_time": "2022-03-22T18:45:21.881Z"
   },
   {
    "duration": 38,
    "start_time": "2022-03-22T18:45:21.998Z"
   },
   {
    "duration": 18,
    "start_time": "2022-03-22T18:45:22.039Z"
   },
   {
    "duration": 40,
    "start_time": "2022-03-22T18:45:22.067Z"
   },
   {
    "duration": 33,
    "start_time": "2022-03-22T18:45:22.111Z"
   },
   {
    "duration": 6,
    "start_time": "2022-03-22T18:45:22.147Z"
   },
   {
    "duration": 29,
    "start_time": "2022-03-22T18:45:22.168Z"
   },
   {
    "duration": 17,
    "start_time": "2022-03-22T18:45:22.200Z"
   },
   {
    "duration": 31,
    "start_time": "2022-03-22T18:45:22.219Z"
   },
   {
    "duration": 48,
    "start_time": "2022-03-22T18:45:22.268Z"
   },
   {
    "duration": 55,
    "start_time": "2022-03-22T18:45:22.319Z"
   },
   {
    "duration": 37,
    "start_time": "2022-03-22T18:45:22.378Z"
   },
   {
    "duration": 32,
    "start_time": "2022-03-22T18:45:22.417Z"
   },
   {
    "duration": 23,
    "start_time": "2022-03-22T18:45:22.453Z"
   },
   {
    "duration": 24,
    "start_time": "2022-03-22T18:45:22.479Z"
   },
   {
    "duration": 237,
    "start_time": "2022-03-22T18:45:22.505Z"
   },
   {
    "duration": 7,
    "start_time": "2022-03-22T18:45:22.745Z"
   },
   {
    "duration": 123,
    "start_time": "2022-03-22T18:45:22.754Z"
   },
   {
    "duration": 15,
    "start_time": "2022-03-22T18:45:22.879Z"
   },
   {
    "duration": 52,
    "start_time": "2022-03-22T18:45:22.896Z"
   },
   {
    "duration": 38,
    "start_time": "2022-03-22T18:45:22.950Z"
   },
   {
    "duration": 22,
    "start_time": "2022-03-22T18:45:22.991Z"
   },
   {
    "duration": 24,
    "start_time": "2022-03-22T18:45:43.747Z"
   },
   {
    "duration": 7,
    "start_time": "2022-03-22T18:45:50.292Z"
   },
   {
    "duration": 24,
    "start_time": "2022-03-22T18:46:06.402Z"
   },
   {
    "duration": 7,
    "start_time": "2022-03-22T18:46:09.696Z"
   },
   {
    "duration": 15,
    "start_time": "2022-03-22T18:49:44.791Z"
   },
   {
    "duration": 106,
    "start_time": "2022-03-22T18:50:55.129Z"
   },
   {
    "duration": 147,
    "start_time": "2022-03-22T18:51:15.033Z"
   },
   {
    "duration": 10,
    "start_time": "2022-03-22T18:52:13.791Z"
   },
   {
    "duration": 18,
    "start_time": "2022-03-22T18:52:14.611Z"
   },
   {
    "duration": 19,
    "start_time": "2022-03-22T18:53:11.059Z"
   },
   {
    "duration": 11,
    "start_time": "2022-03-22T18:54:13.103Z"
   },
   {
    "duration": 32,
    "start_time": "2022-03-22T18:55:07.384Z"
   },
   {
    "duration": 10,
    "start_time": "2022-03-22T18:55:11.825Z"
   },
   {
    "duration": 10,
    "start_time": "2022-03-22T18:56:18.741Z"
   },
   {
    "duration": 22,
    "start_time": "2022-03-22T19:27:24.228Z"
   },
   {
    "duration": 8,
    "start_time": "2022-03-22T19:27:26.919Z"
   },
   {
    "duration": 25,
    "start_time": "2022-03-22T19:27:27.977Z"
   },
   {
    "duration": 9,
    "start_time": "2022-03-22T19:27:32.099Z"
   },
   {
    "duration": 13,
    "start_time": "2022-03-22T19:27:32.834Z"
   },
   {
    "duration": 573,
    "start_time": "2022-03-22T19:28:44.002Z"
   },
   {
    "duration": 1431,
    "start_time": "2022-03-22T19:29:01.520Z"
   },
   {
    "duration": 543,
    "start_time": "2022-03-22T19:29:02.955Z"
   },
   {
    "duration": 31,
    "start_time": "2022-03-22T19:29:03.500Z"
   },
   {
    "duration": 33,
    "start_time": "2022-03-22T19:29:03.534Z"
   },
   {
    "duration": 25,
    "start_time": "2022-03-22T19:29:03.578Z"
   },
   {
    "duration": 15,
    "start_time": "2022-03-22T19:29:03.605Z"
   },
   {
    "duration": 18,
    "start_time": "2022-03-22T19:29:03.622Z"
   },
   {
    "duration": 116,
    "start_time": "2022-03-22T19:29:03.642Z"
   },
   {
    "duration": 13,
    "start_time": "2022-03-22T19:29:03.760Z"
   },
   {
    "duration": 93,
    "start_time": "2022-03-22T19:29:03.780Z"
   },
   {
    "duration": 57,
    "start_time": "2022-03-22T19:29:03.876Z"
   },
   {
    "duration": 67,
    "start_time": "2022-03-22T19:29:03.935Z"
   },
   {
    "duration": 81,
    "start_time": "2022-03-22T19:29:04.005Z"
   },
   {
    "duration": 20,
    "start_time": "2022-03-22T19:29:04.090Z"
   },
   {
    "duration": 99,
    "start_time": "2022-03-22T19:29:04.175Z"
   },
   {
    "duration": 19,
    "start_time": "2022-03-22T19:29:04.277Z"
   },
   {
    "duration": 21,
    "start_time": "2022-03-22T19:29:04.298Z"
   },
   {
    "duration": 14,
    "start_time": "2022-03-22T19:29:04.322Z"
   },
   {
    "duration": 56,
    "start_time": "2022-03-22T19:29:04.339Z"
   },
   {
    "duration": 5,
    "start_time": "2022-03-22T19:29:04.398Z"
   },
   {
    "duration": 12,
    "start_time": "2022-03-22T19:29:04.405Z"
   },
   {
    "duration": 17,
    "start_time": "2022-03-22T19:29:04.419Z"
   },
   {
    "duration": 64,
    "start_time": "2022-03-22T19:29:04.439Z"
   },
   {
    "duration": 24,
    "start_time": "2022-03-22T19:29:04.505Z"
   },
   {
    "duration": 61,
    "start_time": "2022-03-22T19:29:04.533Z"
   },
   {
    "duration": 32,
    "start_time": "2022-03-22T19:29:04.597Z"
   },
   {
    "duration": 55,
    "start_time": "2022-03-22T19:29:04.631Z"
   },
   {
    "duration": 9,
    "start_time": "2022-03-22T19:29:04.688Z"
   },
   {
    "duration": 24,
    "start_time": "2022-03-22T19:29:04.699Z"
   },
   {
    "duration": 162,
    "start_time": "2022-03-22T19:29:04.726Z"
   },
   {
    "duration": 5,
    "start_time": "2022-03-22T19:29:04.891Z"
   },
   {
    "duration": 107,
    "start_time": "2022-03-22T19:29:04.899Z"
   },
   {
    "duration": 12,
    "start_time": "2022-03-22T19:29:05.008Z"
   },
   {
    "duration": 61,
    "start_time": "2022-03-22T19:29:05.022Z"
   },
   {
    "duration": 27,
    "start_time": "2022-03-22T19:29:05.086Z"
   },
   {
    "duration": 8,
    "start_time": "2022-03-22T19:29:05.115Z"
   },
   {
    "duration": 59,
    "start_time": "2022-03-22T19:29:05.125Z"
   },
   {
    "duration": 13,
    "start_time": "2022-03-22T19:29:05.186Z"
   },
   {
    "duration": 442,
    "start_time": "2022-03-22T19:29:05.202Z"
   },
   {
    "duration": 424,
    "start_time": "2022-03-22T19:29:33.081Z"
   },
   {
    "duration": 395,
    "start_time": "2022-03-22T19:30:00.765Z"
   },
   {
    "duration": 466,
    "start_time": "2022-03-22T19:36:50.660Z"
   },
   {
    "duration": 418,
    "start_time": "2022-03-22T19:36:59.128Z"
   },
   {
    "duration": 526,
    "start_time": "2022-03-22T19:37:54.921Z"
   },
   {
    "duration": 421,
    "start_time": "2022-03-22T19:38:09.591Z"
   },
   {
    "duration": 411,
    "start_time": "2022-03-22T19:38:39.770Z"
   },
   {
    "duration": 392,
    "start_time": "2022-03-22T19:39:55.484Z"
   },
   {
    "duration": 539,
    "start_time": "2022-03-22T19:41:02.900Z"
   },
   {
    "duration": 450,
    "start_time": "2022-03-22T19:41:20.998Z"
   },
   {
    "duration": 29,
    "start_time": "2022-03-22T19:47:52.555Z"
   },
   {
    "duration": 8,
    "start_time": "2022-03-22T19:47:53.359Z"
   },
   {
    "duration": 24,
    "start_time": "2022-03-22T19:47:54.099Z"
   },
   {
    "duration": 8,
    "start_time": "2022-03-22T19:47:54.717Z"
   },
   {
    "duration": 387,
    "start_time": "2022-03-22T19:47:55.247Z"
   },
   {
    "duration": 1480,
    "start_time": "2022-03-22T19:52:15.972Z"
   },
   {
    "duration": 536,
    "start_time": "2022-03-22T19:52:17.455Z"
   },
   {
    "duration": 35,
    "start_time": "2022-03-22T19:52:17.994Z"
   },
   {
    "duration": 40,
    "start_time": "2022-03-22T19:52:18.033Z"
   },
   {
    "duration": 26,
    "start_time": "2022-03-22T19:52:18.076Z"
   },
   {
    "duration": 16,
    "start_time": "2022-03-22T19:52:18.105Z"
   },
   {
    "duration": 50,
    "start_time": "2022-03-22T19:52:18.123Z"
   },
   {
    "duration": 132,
    "start_time": "2022-03-22T19:52:18.176Z"
   },
   {
    "duration": 5,
    "start_time": "2022-03-22T19:52:18.311Z"
   },
   {
    "duration": 90,
    "start_time": "2022-03-22T19:52:18.320Z"
   },
   {
    "duration": 66,
    "start_time": "2022-03-22T19:52:18.412Z"
   },
   {
    "duration": 46,
    "start_time": "2022-03-22T19:52:18.481Z"
   },
   {
    "duration": 53,
    "start_time": "2022-03-22T19:52:18.529Z"
   },
   {
    "duration": 24,
    "start_time": "2022-03-22T19:52:18.587Z"
   },
   {
    "duration": 108,
    "start_time": "2022-03-22T19:52:18.613Z"
   },
   {
    "duration": 15,
    "start_time": "2022-03-22T19:52:18.723Z"
   },
   {
    "duration": 16,
    "start_time": "2022-03-22T19:52:18.740Z"
   },
   {
    "duration": 24,
    "start_time": "2022-03-22T19:52:18.767Z"
   },
   {
    "duration": 34,
    "start_time": "2022-03-22T19:52:18.794Z"
   },
   {
    "duration": 6,
    "start_time": "2022-03-22T19:52:18.830Z"
   },
   {
    "duration": 50,
    "start_time": "2022-03-22T19:52:18.838Z"
   },
   {
    "duration": 24,
    "start_time": "2022-03-22T19:52:18.891Z"
   },
   {
    "duration": 39,
    "start_time": "2022-03-22T19:52:18.917Z"
   },
   {
    "duration": 33,
    "start_time": "2022-03-22T19:52:18.967Z"
   },
   {
    "duration": 38,
    "start_time": "2022-03-22T19:52:19.003Z"
   },
   {
    "duration": 33,
    "start_time": "2022-03-22T19:52:19.068Z"
   },
   {
    "duration": 30,
    "start_time": "2022-03-22T19:52:19.104Z"
   },
   {
    "duration": 14,
    "start_time": "2022-03-22T19:52:19.171Z"
   },
   {
    "duration": 21,
    "start_time": "2022-03-22T19:52:19.187Z"
   },
   {
    "duration": 163,
    "start_time": "2022-03-22T19:52:19.210Z"
   },
   {
    "duration": 6,
    "start_time": "2022-03-22T19:52:19.377Z"
   },
   {
    "duration": 113,
    "start_time": "2022-03-22T19:52:19.385Z"
   },
   {
    "duration": 11,
    "start_time": "2022-03-22T19:52:19.501Z"
   },
   {
    "duration": 64,
    "start_time": "2022-03-22T19:52:19.514Z"
   },
   {
    "duration": 26,
    "start_time": "2022-03-22T19:52:19.581Z"
   },
   {
    "duration": 8,
    "start_time": "2022-03-22T19:52:19.609Z"
   },
   {
    "duration": 59,
    "start_time": "2022-03-22T19:52:19.619Z"
   },
   {
    "duration": 10,
    "start_time": "2022-03-22T19:52:19.681Z"
   },
   {
    "duration": 433,
    "start_time": "2022-03-22T19:52:19.693Z"
   },
   {
    "duration": 43,
    "start_time": "2022-03-22T19:52:20.129Z"
   },
   {
    "duration": 12,
    "start_time": "2022-03-22T19:52:20.175Z"
   },
   {
    "duration": 23,
    "start_time": "2022-03-22T19:52:20.190Z"
   },
   {
    "duration": 8,
    "start_time": "2022-03-22T19:52:20.216Z"
   },
   {
    "duration": 435,
    "start_time": "2022-03-22T19:52:20.226Z"
   },
   {
    "duration": 549,
    "start_time": "2022-03-22T19:52:40.464Z"
   },
   {
    "duration": 652,
    "start_time": "2022-03-22T19:52:48.181Z"
   },
   {
    "duration": 573,
    "start_time": "2022-03-22T19:53:05.735Z"
   },
   {
    "duration": 397,
    "start_time": "2022-03-22T19:53:13.071Z"
   },
   {
    "duration": 3,
    "start_time": "2022-03-22T19:54:04.799Z"
   },
   {
    "duration": 19,
    "start_time": "2022-03-22T19:56:15.285Z"
   },
   {
    "duration": 20,
    "start_time": "2022-03-22T19:56:27.039Z"
   },
   {
    "duration": 1520,
    "start_time": "2022-03-22T20:03:08.568Z"
   },
   {
    "duration": 551,
    "start_time": "2022-03-22T20:03:10.091Z"
   },
   {
    "duration": 35,
    "start_time": "2022-03-22T20:03:10.645Z"
   },
   {
    "duration": 43,
    "start_time": "2022-03-22T20:03:10.685Z"
   },
   {
    "duration": 39,
    "start_time": "2022-03-22T20:03:10.730Z"
   },
   {
    "duration": 25,
    "start_time": "2022-03-22T20:03:10.771Z"
   },
   {
    "duration": 16,
    "start_time": "2022-03-22T20:03:10.799Z"
   },
   {
    "duration": 155,
    "start_time": "2022-03-22T20:03:10.818Z"
   },
   {
    "duration": 6,
    "start_time": "2022-03-22T20:03:10.978Z"
   },
   {
    "duration": 88,
    "start_time": "2022-03-22T20:03:10.989Z"
   },
   {
    "duration": 89,
    "start_time": "2022-03-22T20:03:11.080Z"
   },
   {
    "duration": 63,
    "start_time": "2022-03-22T20:03:11.172Z"
   },
   {
    "duration": 60,
    "start_time": "2022-03-22T20:03:11.238Z"
   },
   {
    "duration": 31,
    "start_time": "2022-03-22T20:03:11.301Z"
   },
   {
    "duration": 138,
    "start_time": "2022-03-22T20:03:11.335Z"
   },
   {
    "duration": 21,
    "start_time": "2022-03-22T20:03:11.476Z"
   },
   {
    "duration": 23,
    "start_time": "2022-03-22T20:03:11.499Z"
   },
   {
    "duration": 56,
    "start_time": "2022-03-22T20:03:11.526Z"
   },
   {
    "duration": 31,
    "start_time": "2022-03-22T20:03:11.585Z"
   },
   {
    "duration": 7,
    "start_time": "2022-03-22T20:03:11.619Z"
   },
   {
    "duration": 15,
    "start_time": "2022-03-22T20:03:11.628Z"
   },
   {
    "duration": 20,
    "start_time": "2022-03-22T20:03:11.671Z"
   },
   {
    "duration": 25,
    "start_time": "2022-03-22T20:03:11.693Z"
   },
   {
    "duration": 56,
    "start_time": "2022-03-22T20:03:11.721Z"
   },
   {
    "duration": 42,
    "start_time": "2022-03-22T20:03:11.780Z"
   },
   {
    "duration": 53,
    "start_time": "2022-03-22T20:03:11.824Z"
   },
   {
    "duration": 36,
    "start_time": "2022-03-22T20:03:11.880Z"
   },
   {
    "duration": 11,
    "start_time": "2022-03-22T20:03:11.922Z"
   },
   {
    "duration": 56,
    "start_time": "2022-03-22T20:03:11.935Z"
   },
   {
    "duration": 196,
    "start_time": "2022-03-22T20:03:11.993Z"
   },
   {
    "duration": 6,
    "start_time": "2022-03-22T20:03:12.192Z"
   },
   {
    "duration": 112,
    "start_time": "2022-03-22T20:03:12.200Z"
   },
   {
    "duration": 11,
    "start_time": "2022-03-22T20:03:12.314Z"
   },
   {
    "duration": 71,
    "start_time": "2022-03-22T20:03:12.327Z"
   },
   {
    "duration": 24,
    "start_time": "2022-03-22T20:03:12.401Z"
   },
   {
    "duration": 9,
    "start_time": "2022-03-22T20:03:12.427Z"
   },
   {
    "duration": 54,
    "start_time": "2022-03-22T20:03:12.438Z"
   },
   {
    "duration": 7,
    "start_time": "2022-03-22T20:03:12.494Z"
   },
   {
    "duration": 435,
    "start_time": "2022-03-22T20:03:12.503Z"
   },
   {
    "duration": 29,
    "start_time": "2022-03-22T20:03:12.940Z"
   },
   {
    "duration": 21,
    "start_time": "2022-03-22T20:03:12.972Z"
   },
   {
    "duration": 19,
    "start_time": "2022-03-22T20:03:12.995Z"
   },
   {
    "duration": 13,
    "start_time": "2022-03-22T20:03:13.016Z"
   },
   {
    "duration": 438,
    "start_time": "2022-03-22T20:03:13.031Z"
   },
   {
    "duration": 23,
    "start_time": "2022-03-22T20:03:13.472Z"
   },
   {
    "duration": 20,
    "start_time": "2022-03-22T20:03:13.499Z"
   },
   {
    "duration": 45,
    "start_time": "2022-03-22T20:03:13.522Z"
   },
   {
    "duration": 18,
    "start_time": "2022-03-22T20:03:13.570Z"
   },
   {
    "duration": 420,
    "start_time": "2022-03-22T20:03:13.591Z"
   },
   {
    "duration": 469,
    "start_time": "2022-03-22T20:03:54.144Z"
   },
   {
    "duration": 19,
    "start_time": "2022-03-22T20:31:46.008Z"
   },
   {
    "duration": 8,
    "start_time": "2022-03-22T20:31:48.193Z"
   },
   {
    "duration": 473,
    "start_time": "2022-03-22T20:38:45.785Z"
   },
   {
    "duration": 18,
    "start_time": "2022-03-22T20:40:52.192Z"
   },
   {
    "duration": 28,
    "start_time": "2022-03-22T20:42:45.064Z"
   },
   {
    "duration": 34,
    "start_time": "2022-03-22T20:42:53.486Z"
   },
   {
    "duration": 47,
    "start_time": "2022-03-23T04:13:37.579Z"
   },
   {
    "duration": 1316,
    "start_time": "2022-03-23T04:13:46.410Z"
   },
   {
    "duration": 385,
    "start_time": "2022-03-23T04:13:47.728Z"
   },
   {
    "duration": 25,
    "start_time": "2022-03-23T04:13:48.115Z"
   },
   {
    "duration": 26,
    "start_time": "2022-03-23T04:13:48.142Z"
   },
   {
    "duration": 20,
    "start_time": "2022-03-23T04:13:48.171Z"
   },
   {
    "duration": 10,
    "start_time": "2022-03-23T04:13:48.193Z"
   },
   {
    "duration": 11,
    "start_time": "2022-03-23T04:13:48.233Z"
   },
   {
    "duration": 91,
    "start_time": "2022-03-23T04:13:48.246Z"
   },
   {
    "duration": 5,
    "start_time": "2022-03-23T04:13:48.338Z"
   },
   {
    "duration": 49,
    "start_time": "2022-03-23T04:13:48.344Z"
   },
   {
    "duration": 62,
    "start_time": "2022-03-23T04:13:48.394Z"
   },
   {
    "duration": 34,
    "start_time": "2022-03-23T04:13:48.457Z"
   },
   {
    "duration": 18,
    "start_time": "2022-03-23T04:13:48.492Z"
   },
   {
    "duration": 14,
    "start_time": "2022-03-23T04:13:48.532Z"
   },
   {
    "duration": 48,
    "start_time": "2022-03-23T04:13:48.548Z"
   },
   {
    "duration": 11,
    "start_time": "2022-03-23T04:13:48.597Z"
   },
   {
    "duration": 11,
    "start_time": "2022-03-23T04:13:48.633Z"
   },
   {
    "duration": 11,
    "start_time": "2022-03-23T04:13:48.646Z"
   },
   {
    "duration": 23,
    "start_time": "2022-03-23T04:13:48.659Z"
   },
   {
    "duration": 5,
    "start_time": "2022-03-23T04:13:48.684Z"
   },
   {
    "duration": 10,
    "start_time": "2022-03-23T04:13:48.691Z"
   },
   {
    "duration": 48,
    "start_time": "2022-03-23T04:13:48.703Z"
   },
   {
    "duration": 18,
    "start_time": "2022-03-23T04:13:48.753Z"
   },
   {
    "duration": 17,
    "start_time": "2022-03-23T04:13:48.774Z"
   },
   {
    "duration": 9,
    "start_time": "2022-03-23T04:13:48.792Z"
   },
   {
    "duration": 54,
    "start_time": "2022-03-23T04:13:48.802Z"
   },
   {
    "duration": 19,
    "start_time": "2022-03-23T04:13:48.858Z"
   },
   {
    "duration": 19,
    "start_time": "2022-03-23T04:13:48.879Z"
   },
   {
    "duration": 33,
    "start_time": "2022-03-23T04:13:48.900Z"
   },
   {
    "duration": 14,
    "start_time": "2022-03-23T04:13:48.935Z"
   },
   {
    "duration": 84,
    "start_time": "2022-03-23T04:13:48.951Z"
   },
   {
    "duration": 4,
    "start_time": "2022-03-23T04:13:49.037Z"
   },
   {
    "duration": 59,
    "start_time": "2022-03-23T04:13:49.043Z"
   },
   {
    "duration": 8,
    "start_time": "2022-03-23T04:13:49.103Z"
   },
   {
    "duration": 41,
    "start_time": "2022-03-23T04:13:49.113Z"
   },
   {
    "duration": 19,
    "start_time": "2022-03-23T04:13:49.155Z"
   },
   {
    "duration": 16,
    "start_time": "2022-03-23T04:13:49.176Z"
   },
   {
    "duration": 5,
    "start_time": "2022-03-23T04:13:49.194Z"
   },
   {
    "duration": 44,
    "start_time": "2022-03-23T04:13:49.200Z"
   },
   {
    "duration": 5,
    "start_time": "2022-03-23T04:13:49.246Z"
   },
   {
    "duration": 251,
    "start_time": "2022-03-23T04:13:49.255Z"
   },
   {
    "duration": 13,
    "start_time": "2022-03-23T04:13:49.508Z"
   },
   {
    "duration": 14,
    "start_time": "2022-03-23T04:13:49.523Z"
   },
   {
    "duration": 13,
    "start_time": "2022-03-23T04:13:49.539Z"
   },
   {
    "duration": 5,
    "start_time": "2022-03-23T04:13:49.554Z"
   },
   {
    "duration": 240,
    "start_time": "2022-03-23T04:13:49.561Z"
   },
   {
    "duration": 13,
    "start_time": "2022-03-23T04:13:49.802Z"
   },
   {
    "duration": 18,
    "start_time": "2022-03-23T04:13:49.817Z"
   },
   {
    "duration": 18,
    "start_time": "2022-03-23T04:13:49.837Z"
   },
   {
    "duration": 7,
    "start_time": "2022-03-23T04:13:49.856Z"
   },
   {
    "duration": 261,
    "start_time": "2022-03-23T04:13:49.864Z"
   },
   {
    "duration": 59,
    "start_time": "2022-03-23T04:15:26.087Z"
   },
   {
    "duration": 7,
    "start_time": "2022-03-23T04:15:52.078Z"
   },
   {
    "duration": 15,
    "start_time": "2022-03-23T04:17:57.498Z"
   },
   {
    "duration": 1177,
    "start_time": "2022-03-23T04:19:21.131Z"
   },
   {
    "duration": 375,
    "start_time": "2022-03-23T04:19:22.310Z"
   },
   {
    "duration": 24,
    "start_time": "2022-03-23T04:19:22.687Z"
   },
   {
    "duration": 24,
    "start_time": "2022-03-23T04:19:22.713Z"
   },
   {
    "duration": 18,
    "start_time": "2022-03-23T04:19:22.739Z"
   },
   {
    "duration": 11,
    "start_time": "2022-03-23T04:19:22.758Z"
   },
   {
    "duration": 11,
    "start_time": "2022-03-23T04:19:22.770Z"
   },
   {
    "duration": 105,
    "start_time": "2022-03-23T04:19:22.782Z"
   },
   {
    "duration": 4,
    "start_time": "2022-03-23T04:19:22.888Z"
   },
   {
    "duration": 62,
    "start_time": "2022-03-23T04:19:22.894Z"
   },
   {
    "duration": 44,
    "start_time": "2022-03-23T04:19:22.958Z"
   },
   {
    "duration": 53,
    "start_time": "2022-03-23T04:19:23.003Z"
   },
   {
    "duration": 19,
    "start_time": "2022-03-23T04:19:23.057Z"
   },
   {
    "duration": 15,
    "start_time": "2022-03-23T04:19:23.079Z"
   },
   {
    "duration": 75,
    "start_time": "2022-03-23T04:19:23.096Z"
   },
   {
    "duration": 10,
    "start_time": "2022-03-23T04:19:23.172Z"
   },
   {
    "duration": 13,
    "start_time": "2022-03-23T04:19:23.184Z"
   },
   {
    "duration": 13,
    "start_time": "2022-03-23T04:19:23.199Z"
   },
   {
    "duration": 34,
    "start_time": "2022-03-23T04:19:23.213Z"
   },
   {
    "duration": 3,
    "start_time": "2022-03-23T04:19:23.249Z"
   },
   {
    "duration": 9,
    "start_time": "2022-03-23T04:19:23.253Z"
   },
   {
    "duration": 11,
    "start_time": "2022-03-23T04:19:23.263Z"
   },
   {
    "duration": 16,
    "start_time": "2022-03-23T04:19:23.275Z"
   },
   {
    "duration": 48,
    "start_time": "2022-03-23T04:19:23.292Z"
   },
   {
    "duration": 53,
    "start_time": "2022-03-23T04:19:23.341Z"
   },
   {
    "duration": 38,
    "start_time": "2022-03-23T04:19:23.396Z"
   },
   {
    "duration": 21,
    "start_time": "2022-03-23T04:19:23.436Z"
   },
   {
    "duration": 20,
    "start_time": "2022-03-23T04:19:23.459Z"
   },
   {
    "duration": 6,
    "start_time": "2022-03-23T04:19:23.481Z"
   },
   {
    "duration": 20,
    "start_time": "2022-03-23T04:19:23.489Z"
   },
   {
    "duration": 94,
    "start_time": "2022-03-23T04:19:23.511Z"
   },
   {
    "duration": 4,
    "start_time": "2022-03-23T04:19:23.606Z"
   },
   {
    "duration": 67,
    "start_time": "2022-03-23T04:19:23.612Z"
   },
   {
    "duration": 8,
    "start_time": "2022-03-23T04:19:23.680Z"
   },
   {
    "duration": 24,
    "start_time": "2022-03-23T04:19:23.690Z"
   },
   {
    "duration": 38,
    "start_time": "2022-03-23T04:19:23.715Z"
   },
   {
    "duration": 17,
    "start_time": "2022-03-23T04:19:23.754Z"
   },
   {
    "duration": 5,
    "start_time": "2022-03-23T04:19:23.772Z"
   },
   {
    "duration": 19,
    "start_time": "2022-03-23T04:19:23.779Z"
   },
   {
    "duration": 5,
    "start_time": "2022-03-23T04:19:23.799Z"
   },
   {
    "duration": 232,
    "start_time": "2022-03-23T04:19:23.836Z"
   },
   {
    "duration": 12,
    "start_time": "2022-03-23T04:19:24.070Z"
   },
   {
    "duration": 12,
    "start_time": "2022-03-23T04:19:24.084Z"
   },
   {
    "duration": 16,
    "start_time": "2022-03-23T04:19:24.097Z"
   },
   {
    "duration": 23,
    "start_time": "2022-03-23T04:19:24.114Z"
   },
   {
    "duration": 222,
    "start_time": "2022-03-23T04:19:24.138Z"
   },
   {
    "duration": 13,
    "start_time": "2022-03-23T04:19:24.362Z"
   },
   {
    "duration": 8,
    "start_time": "2022-03-23T04:19:24.377Z"
   },
   {
    "duration": 16,
    "start_time": "2022-03-23T04:19:24.386Z"
   },
   {
    "duration": 29,
    "start_time": "2022-03-23T04:19:24.404Z"
   },
   {
    "duration": 250,
    "start_time": "2022-03-23T04:19:24.435Z"
   },
   {
    "duration": 203,
    "start_time": "2022-03-23T04:23:08.659Z"
   },
   {
    "duration": 96,
    "start_time": "2022-03-23T04:52:14.998Z"
   },
   {
    "duration": 14,
    "start_time": "2022-03-23T04:52:58.518Z"
   },
   {
    "duration": 14,
    "start_time": "2022-03-23T04:53:01.420Z"
   },
   {
    "duration": 6,
    "start_time": "2022-03-23T04:54:43.429Z"
   },
   {
    "duration": 6,
    "start_time": "2022-03-23T04:55:47.196Z"
   },
   {
    "duration": 5,
    "start_time": "2022-03-23T04:55:50.194Z"
   },
   {
    "duration": 5,
    "start_time": "2022-03-23T06:17:48.848Z"
   },
   {
    "duration": 7,
    "start_time": "2022-03-23T06:18:16.626Z"
   },
   {
    "duration": 8,
    "start_time": "2022-03-23T06:18:48.035Z"
   },
   {
    "duration": 9,
    "start_time": "2022-03-23T06:20:11.540Z"
   },
   {
    "duration": 9,
    "start_time": "2022-03-23T06:20:30.930Z"
   },
   {
    "duration": 9,
    "start_time": "2022-03-23T06:22:14.630Z"
   },
   {
    "duration": 5,
    "start_time": "2022-03-23T06:22:29.174Z"
   },
   {
    "duration": 7,
    "start_time": "2022-03-23T06:22:36.312Z"
   },
   {
    "duration": 5,
    "start_time": "2022-03-23T06:23:14.286Z"
   },
   {
    "duration": 9,
    "start_time": "2022-03-23T06:23:34.904Z"
   },
   {
    "duration": 5,
    "start_time": "2022-03-23T06:23:42.032Z"
   },
   {
    "duration": 5,
    "start_time": "2022-03-23T06:26:42.296Z"
   },
   {
    "duration": 2059,
    "start_time": "2022-03-23T06:28:03.787Z"
   },
   {
    "duration": 4,
    "start_time": "2022-03-23T06:29:37.323Z"
   },
   {
    "duration": 4,
    "start_time": "2022-03-23T06:29:56.681Z"
   },
   {
    "duration": 4,
    "start_time": "2022-03-23T06:31:02.119Z"
   },
   {
    "duration": 5,
    "start_time": "2022-03-23T06:31:16.157Z"
   },
   {
    "duration": 5,
    "start_time": "2022-03-23T06:32:16.527Z"
   },
   {
    "duration": 1165,
    "start_time": "2022-03-23T06:39:57.254Z"
   },
   {
    "duration": 384,
    "start_time": "2022-03-23T06:39:58.421Z"
   },
   {
    "duration": 23,
    "start_time": "2022-03-23T06:39:58.806Z"
   },
   {
    "duration": 25,
    "start_time": "2022-03-23T06:39:58.831Z"
   },
   {
    "duration": 19,
    "start_time": "2022-03-23T06:39:58.858Z"
   },
   {
    "duration": 11,
    "start_time": "2022-03-23T06:39:58.878Z"
   },
   {
    "duration": 15,
    "start_time": "2022-03-23T06:39:58.890Z"
   },
   {
    "duration": 97,
    "start_time": "2022-03-23T06:39:58.906Z"
   },
   {
    "duration": 4,
    "start_time": "2022-03-23T06:39:59.005Z"
   },
   {
    "duration": 67,
    "start_time": "2022-03-23T06:39:59.011Z"
   },
   {
    "duration": 54,
    "start_time": "2022-03-23T06:39:59.080Z"
   },
   {
    "duration": 33,
    "start_time": "2022-03-23T06:39:59.135Z"
   },
   {
    "duration": 17,
    "start_time": "2022-03-23T06:39:59.170Z"
   },
   {
    "duration": 13,
    "start_time": "2022-03-23T06:39:59.189Z"
   },
   {
    "duration": 81,
    "start_time": "2022-03-23T06:39:59.204Z"
   },
   {
    "duration": 10,
    "start_time": "2022-03-23T06:39:59.287Z"
   },
   {
    "duration": 16,
    "start_time": "2022-03-23T06:39:59.298Z"
   },
   {
    "duration": 17,
    "start_time": "2022-03-23T06:39:59.316Z"
   },
   {
    "duration": 19,
    "start_time": "2022-03-23T06:39:59.335Z"
   },
   {
    "duration": 4,
    "start_time": "2022-03-23T06:39:59.356Z"
   },
   {
    "duration": 12,
    "start_time": "2022-03-23T06:39:59.361Z"
   },
   {
    "duration": 15,
    "start_time": "2022-03-23T06:39:59.375Z"
   },
   {
    "duration": 41,
    "start_time": "2022-03-23T06:39:59.392Z"
   },
   {
    "duration": 16,
    "start_time": "2022-03-23T06:39:59.435Z"
   },
   {
    "duration": 56,
    "start_time": "2022-03-23T06:39:59.452Z"
   },
   {
    "duration": 43,
    "start_time": "2022-03-23T06:39:59.509Z"
   },
   {
    "duration": 20,
    "start_time": "2022-03-23T06:39:59.554Z"
   },
   {
    "duration": 21,
    "start_time": "2022-03-23T06:39:59.577Z"
   },
   {
    "duration": 6,
    "start_time": "2022-03-23T06:39:59.600Z"
   },
   {
    "duration": 18,
    "start_time": "2022-03-23T06:39:59.633Z"
   },
   {
    "duration": 85,
    "start_time": "2022-03-23T06:39:59.652Z"
   },
   {
    "duration": 4,
    "start_time": "2022-03-23T06:39:59.739Z"
   },
   {
    "duration": 63,
    "start_time": "2022-03-23T06:39:59.744Z"
   },
   {
    "duration": 8,
    "start_time": "2022-03-23T06:39:59.809Z"
   },
   {
    "duration": 33,
    "start_time": "2022-03-23T06:39:59.819Z"
   },
   {
    "duration": 20,
    "start_time": "2022-03-23T06:39:59.854Z"
   },
   {
    "duration": 16,
    "start_time": "2022-03-23T06:39:59.876Z"
   },
   {
    "duration": 6,
    "start_time": "2022-03-23T06:39:59.893Z"
   },
   {
    "duration": 18,
    "start_time": "2022-03-23T06:39:59.932Z"
   },
   {
    "duration": 7,
    "start_time": "2022-03-23T06:39:59.952Z"
   },
   {
    "duration": 258,
    "start_time": "2022-03-23T06:39:59.961Z"
   },
   {
    "duration": 22,
    "start_time": "2022-03-23T06:40:00.222Z"
   },
   {
    "duration": 48,
    "start_time": "2022-03-23T06:40:00.247Z"
   },
   {
    "duration": 19,
    "start_time": "2022-03-23T06:40:00.298Z"
   },
   {
    "duration": 14,
    "start_time": "2022-03-23T06:40:00.319Z"
   },
   {
    "duration": 218,
    "start_time": "2022-03-23T06:40:00.334Z"
   },
   {
    "duration": 13,
    "start_time": "2022-03-23T06:40:00.554Z"
   },
   {
    "duration": 10,
    "start_time": "2022-03-23T06:40:00.569Z"
   },
   {
    "duration": 14,
    "start_time": "2022-03-23T06:40:00.581Z"
   },
   {
    "duration": 22,
    "start_time": "2022-03-23T06:40:00.598Z"
   },
   {
    "duration": 258,
    "start_time": "2022-03-23T06:40:00.632Z"
   },
   {
    "duration": 5,
    "start_time": "2022-03-23T06:40:00.892Z"
   },
   {
    "duration": 11,
    "start_time": "2022-03-23T06:40:00.898Z"
   },
   {
    "duration": 22,
    "start_time": "2022-03-23T06:40:00.911Z"
   },
   {
    "duration": 7,
    "start_time": "2022-03-23T06:40:00.935Z"
   },
   {
    "duration": 20,
    "start_time": "2022-03-23T06:40:00.943Z"
   },
   {
    "duration": 30,
    "start_time": "2022-03-23T06:40:00.965Z"
   },
   {
    "duration": 7,
    "start_time": "2022-03-23T07:34:49.931Z"
   },
   {
    "duration": 62,
    "start_time": "2022-03-23T07:34:51.056Z"
   },
   {
    "duration": 53,
    "start_time": "2022-03-23T07:34:53.508Z"
   },
   {
    "duration": 49,
    "start_time": "2022-03-23T07:35:07.916Z"
   },
   {
    "duration": 26,
    "start_time": "2022-03-23T07:35:08.863Z"
   },
   {
    "duration": 18,
    "start_time": "2022-03-23T07:35:11.728Z"
   },
   {
    "duration": 58,
    "start_time": "2022-03-23T07:35:14.396Z"
   },
   {
    "duration": 12,
    "start_time": "2022-03-23T07:35:17.191Z"
   },
   {
    "duration": 11,
    "start_time": "2022-03-23T07:35:18.027Z"
   },
   {
    "duration": 10,
    "start_time": "2022-03-23T07:35:19.419Z"
   },
   {
    "duration": 18,
    "start_time": "2022-03-23T07:35:20.261Z"
   },
   {
    "duration": 4,
    "start_time": "2022-03-23T07:36:38.186Z"
   },
   {
    "duration": 7,
    "start_time": "2022-03-23T07:36:39.178Z"
   },
   {
    "duration": 11,
    "start_time": "2022-03-23T07:36:40.136Z"
   },
   {
    "duration": 18,
    "start_time": "2022-03-23T07:36:41.258Z"
   },
   {
    "duration": 16,
    "start_time": "2022-03-23T07:36:42.066Z"
   },
   {
    "duration": 53,
    "start_time": "2022-03-23T07:36:43.749Z"
   },
   {
    "duration": 25,
    "start_time": "2022-03-23T07:36:50.112Z"
   },
   {
    "duration": 23,
    "start_time": "2022-03-23T07:36:54.586Z"
   },
   {
    "duration": 22,
    "start_time": "2022-03-23T07:36:56.548Z"
   },
   {
    "duration": 8,
    "start_time": "2022-03-23T07:37:00.624Z"
   },
   {
    "duration": 13,
    "start_time": "2022-03-23T07:37:01.466Z"
   },
   {
    "duration": 233,
    "start_time": "2022-03-23T07:37:02.528Z"
   },
   {
    "duration": 5,
    "start_time": "2022-03-23T07:37:03.400Z"
   },
   {
    "duration": 54,
    "start_time": "2022-03-23T07:37:04.186Z"
   },
   {
    "duration": 8,
    "start_time": "2022-03-23T07:37:05.716Z"
   },
   {
    "duration": 24,
    "start_time": "2022-03-23T07:37:06.727Z"
   },
   {
    "duration": 19,
    "start_time": "2022-03-23T07:37:07.609Z"
   },
   {
    "duration": 1150,
    "start_time": "2022-03-23T07:37:54.800Z"
   },
   {
    "duration": 386,
    "start_time": "2022-03-23T07:37:55.952Z"
   },
   {
    "duration": 24,
    "start_time": "2022-03-23T07:37:56.340Z"
   },
   {
    "duration": 37,
    "start_time": "2022-03-23T07:37:56.366Z"
   },
   {
    "duration": 19,
    "start_time": "2022-03-23T07:37:56.405Z"
   },
   {
    "duration": 11,
    "start_time": "2022-03-23T07:37:56.432Z"
   },
   {
    "duration": 12,
    "start_time": "2022-03-23T07:37:56.445Z"
   },
   {
    "duration": 100,
    "start_time": "2022-03-23T07:37:56.459Z"
   },
   {
    "duration": 6,
    "start_time": "2022-03-23T07:37:56.561Z"
   },
   {
    "duration": 64,
    "start_time": "2022-03-23T07:37:56.569Z"
   },
   {
    "duration": 42,
    "start_time": "2022-03-23T07:37:56.635Z"
   },
   {
    "duration": 32,
    "start_time": "2022-03-23T07:37:56.679Z"
   },
   {
    "duration": 37,
    "start_time": "2022-03-23T07:37:56.713Z"
   },
   {
    "duration": 15,
    "start_time": "2022-03-23T07:37:56.752Z"
   },
   {
    "duration": 70,
    "start_time": "2022-03-23T07:37:56.769Z"
   },
   {
    "duration": 10,
    "start_time": "2022-03-23T07:37:56.840Z"
   },
   {
    "duration": 15,
    "start_time": "2022-03-23T07:37:56.852Z"
   },
   {
    "duration": 14,
    "start_time": "2022-03-23T07:37:56.869Z"
   },
   {
    "duration": 23,
    "start_time": "2022-03-23T07:37:56.885Z"
   },
   {
    "duration": 24,
    "start_time": "2022-03-23T07:37:56.909Z"
   },
   {
    "duration": 14,
    "start_time": "2022-03-23T07:37:56.935Z"
   },
   {
    "duration": 14,
    "start_time": "2022-03-23T07:37:56.951Z"
   },
   {
    "duration": 16,
    "start_time": "2022-03-23T07:37:56.967Z"
   },
   {
    "duration": 16,
    "start_time": "2022-03-23T07:37:56.985Z"
   },
   {
    "duration": 58,
    "start_time": "2022-03-23T07:37:57.033Z"
   },
   {
    "duration": 42,
    "start_time": "2022-03-23T07:37:57.092Z"
   },
   {
    "duration": 21,
    "start_time": "2022-03-23T07:37:57.136Z"
   },
   {
    "duration": 22,
    "start_time": "2022-03-23T07:37:57.160Z"
   },
   {
    "duration": 6,
    "start_time": "2022-03-23T07:37:57.184Z"
   },
   {
    "duration": 42,
    "start_time": "2022-03-23T07:37:57.192Z"
   },
   {
    "duration": 75,
    "start_time": "2022-03-23T07:37:57.236Z"
   },
   {
    "duration": 4,
    "start_time": "2022-03-23T07:37:57.313Z"
   },
   {
    "duration": 54,
    "start_time": "2022-03-23T07:37:57.332Z"
   },
   {
    "duration": 8,
    "start_time": "2022-03-23T07:37:57.388Z"
   },
   {
    "duration": 41,
    "start_time": "2022-03-23T07:37:57.398Z"
   },
   {
    "duration": 20,
    "start_time": "2022-03-23T07:37:57.441Z"
   },
   {
    "duration": 16,
    "start_time": "2022-03-23T07:37:57.463Z"
   },
   {
    "duration": 5,
    "start_time": "2022-03-23T07:37:57.481Z"
   },
   {
    "duration": 49,
    "start_time": "2022-03-23T07:37:57.487Z"
   },
   {
    "duration": 5,
    "start_time": "2022-03-23T07:37:57.538Z"
   },
   {
    "duration": 232,
    "start_time": "2022-03-23T07:37:57.545Z"
   },
   {
    "duration": 13,
    "start_time": "2022-03-23T07:37:57.779Z"
   },
   {
    "duration": 10,
    "start_time": "2022-03-23T07:37:57.793Z"
   },
   {
    "duration": 37,
    "start_time": "2022-03-23T07:37:57.805Z"
   },
   {
    "duration": 8,
    "start_time": "2022-03-23T07:37:57.844Z"
   },
   {
    "duration": 219,
    "start_time": "2022-03-23T07:37:57.854Z"
   },
   {
    "duration": 13,
    "start_time": "2022-03-23T07:37:58.075Z"
   },
   {
    "duration": 14,
    "start_time": "2022-03-23T07:37:58.090Z"
   },
   {
    "duration": 33,
    "start_time": "2022-03-23T07:37:58.106Z"
   },
   {
    "duration": 16,
    "start_time": "2022-03-23T07:37:58.140Z"
   },
   {
    "duration": 269,
    "start_time": "2022-03-23T07:37:58.158Z"
   },
   {
    "duration": 6,
    "start_time": "2022-03-23T07:37:58.433Z"
   },
   {
    "duration": 8,
    "start_time": "2022-03-23T07:37:58.440Z"
   },
   {
    "duration": 16,
    "start_time": "2022-03-23T07:37:58.449Z"
   },
   {
    "duration": 18,
    "start_time": "2022-03-23T07:37:58.467Z"
   },
   {
    "duration": 11,
    "start_time": "2022-03-23T07:37:58.486Z"
   },
   {
    "duration": 9,
    "start_time": "2022-03-23T07:37:58.498Z"
   },
   {
    "duration": 5,
    "start_time": "2022-03-23T08:17:34.386Z"
   },
   {
    "duration": 27,
    "start_time": "2022-03-23T08:27:29.855Z"
   },
   {
    "duration": 131,
    "start_time": "2022-03-23T08:44:13.334Z"
   },
   {
    "duration": 101,
    "start_time": "2022-03-23T08:44:22.796Z"
   },
   {
    "duration": 183,
    "start_time": "2022-03-23T08:45:43.620Z"
   },
   {
    "duration": 114,
    "start_time": "2022-03-23T08:46:17.090Z"
   },
   {
    "duration": 179,
    "start_time": "2022-03-23T08:49:36.466Z"
   },
   {
    "duration": 184,
    "start_time": "2022-03-23T08:49:56.883Z"
   },
   {
    "duration": 180,
    "start_time": "2022-03-23T08:50:04.887Z"
   },
   {
    "duration": 123,
    "start_time": "2022-03-23T08:50:40.931Z"
   },
   {
    "duration": 17,
    "start_time": "2022-03-23T08:52:12.654Z"
   },
   {
    "duration": 19,
    "start_time": "2022-03-23T08:52:48.291Z"
   },
   {
    "duration": 195,
    "start_time": "2022-03-23T08:53:16.665Z"
   },
   {
    "duration": 1141,
    "start_time": "2022-03-23T08:55:53.986Z"
   },
   {
    "duration": 562,
    "start_time": "2022-03-23T08:55:55.132Z"
   },
   {
    "duration": 24,
    "start_time": "2022-03-23T08:55:55.695Z"
   },
   {
    "duration": 26,
    "start_time": "2022-03-23T08:55:55.722Z"
   },
   {
    "duration": 19,
    "start_time": "2022-03-23T08:55:55.750Z"
   },
   {
    "duration": 10,
    "start_time": "2022-03-23T08:55:55.771Z"
   },
   {
    "duration": 16,
    "start_time": "2022-03-23T08:55:55.782Z"
   },
   {
    "duration": 97,
    "start_time": "2022-03-23T08:55:55.800Z"
   },
   {
    "duration": 6,
    "start_time": "2022-03-23T08:55:55.899Z"
   },
   {
    "duration": 63,
    "start_time": "2022-03-23T08:55:55.908Z"
   },
   {
    "duration": 43,
    "start_time": "2022-03-23T08:55:55.973Z"
   },
   {
    "duration": 47,
    "start_time": "2022-03-23T08:55:56.018Z"
   },
   {
    "duration": 19,
    "start_time": "2022-03-23T08:55:56.067Z"
   },
   {
    "duration": 15,
    "start_time": "2022-03-23T08:55:56.087Z"
   },
   {
    "duration": 76,
    "start_time": "2022-03-23T08:55:56.104Z"
   },
   {
    "duration": 11,
    "start_time": "2022-03-23T08:55:56.182Z"
   },
   {
    "duration": 39,
    "start_time": "2022-03-23T08:55:56.194Z"
   },
   {
    "duration": 14,
    "start_time": "2022-03-23T08:55:56.235Z"
   },
   {
    "duration": 22,
    "start_time": "2022-03-23T08:55:56.251Z"
   },
   {
    "duration": 5,
    "start_time": "2022-03-23T08:55:56.275Z"
   },
   {
    "duration": 8,
    "start_time": "2022-03-23T08:55:56.282Z"
   },
   {
    "duration": 11,
    "start_time": "2022-03-23T08:55:56.292Z"
   },
   {
    "duration": 42,
    "start_time": "2022-03-23T08:55:56.305Z"
   },
   {
    "duration": 17,
    "start_time": "2022-03-23T08:55:56.348Z"
   },
   {
    "duration": 84,
    "start_time": "2022-03-23T08:55:56.367Z"
   },
   {
    "duration": 24,
    "start_time": "2022-03-23T08:55:56.453Z"
   },
   {
    "duration": 20,
    "start_time": "2022-03-23T08:55:56.479Z"
   },
   {
    "duration": 49,
    "start_time": "2022-03-23T08:55:56.503Z"
   },
   {
    "duration": 7,
    "start_time": "2022-03-23T08:55:56.554Z"
   },
   {
    "duration": 14,
    "start_time": "2022-03-23T08:55:56.563Z"
   },
   {
    "duration": 100,
    "start_time": "2022-03-23T08:55:56.578Z"
   },
   {
    "duration": 4,
    "start_time": "2022-03-23T08:55:56.679Z"
   },
   {
    "duration": 65,
    "start_time": "2022-03-23T08:55:56.685Z"
   },
   {
    "duration": 8,
    "start_time": "2022-03-23T08:55:56.751Z"
   },
   {
    "duration": 28,
    "start_time": "2022-03-23T08:55:56.760Z"
   },
   {
    "duration": 19,
    "start_time": "2022-03-23T08:55:56.789Z"
   },
   {
    "duration": 38,
    "start_time": "2022-03-23T08:55:56.810Z"
   },
   {
    "duration": 5,
    "start_time": "2022-03-23T08:55:56.849Z"
   },
   {
    "duration": 18,
    "start_time": "2022-03-23T08:55:56.856Z"
   },
   {
    "duration": 6,
    "start_time": "2022-03-23T08:55:56.875Z"
   },
   {
    "duration": 267,
    "start_time": "2022-03-23T08:55:56.882Z"
   },
   {
    "duration": 15,
    "start_time": "2022-03-23T08:55:57.151Z"
   },
   {
    "duration": 8,
    "start_time": "2022-03-23T08:55:57.167Z"
   },
   {
    "duration": 17,
    "start_time": "2022-03-23T08:55:57.177Z"
   },
   {
    "duration": 11,
    "start_time": "2022-03-23T08:55:57.196Z"
   },
   {
    "duration": 218,
    "start_time": "2022-03-23T08:55:57.232Z"
   },
   {
    "duration": 11,
    "start_time": "2022-03-23T08:55:57.452Z"
   },
   {
    "duration": 11,
    "start_time": "2022-03-23T08:55:57.465Z"
   },
   {
    "duration": 17,
    "start_time": "2022-03-23T08:55:57.478Z"
   },
   {
    "duration": 6,
    "start_time": "2022-03-23T08:55:57.497Z"
   },
   {
    "duration": 408,
    "start_time": "2022-03-23T08:55:57.532Z"
   },
   {
    "duration": 8,
    "start_time": "2022-03-23T08:55:57.942Z"
   },
   {
    "duration": 7,
    "start_time": "2022-03-23T08:55:57.952Z"
   },
   {
    "duration": 9,
    "start_time": "2022-03-23T08:55:57.962Z"
   },
   {
    "duration": 9,
    "start_time": "2022-03-23T08:55:57.973Z"
   },
   {
    "duration": 7,
    "start_time": "2022-03-23T08:55:57.984Z"
   },
   {
    "duration": 40,
    "start_time": "2022-03-23T08:55:57.993Z"
   },
   {
    "duration": 24,
    "start_time": "2022-03-23T08:55:58.035Z"
   },
   {
    "duration": 139,
    "start_time": "2022-03-23T08:55:58.061Z"
   },
   {
    "duration": 1148,
    "start_time": "2022-03-23T09:08:31.497Z"
   },
   {
    "duration": 374,
    "start_time": "2022-03-23T09:08:32.646Z"
   },
   {
    "duration": 24,
    "start_time": "2022-03-23T09:08:33.022Z"
   },
   {
    "duration": 24,
    "start_time": "2022-03-23T09:08:33.048Z"
   },
   {
    "duration": 36,
    "start_time": "2022-03-23T09:08:33.074Z"
   },
   {
    "duration": 17,
    "start_time": "2022-03-23T09:08:33.112Z"
   },
   {
    "duration": 22,
    "start_time": "2022-03-23T09:08:33.132Z"
   },
   {
    "duration": 85,
    "start_time": "2022-03-23T09:08:33.156Z"
   },
   {
    "duration": 7,
    "start_time": "2022-03-23T09:08:33.243Z"
   },
   {
    "duration": 50,
    "start_time": "2022-03-23T09:08:33.254Z"
   },
   {
    "duration": 63,
    "start_time": "2022-03-23T09:08:33.306Z"
   },
   {
    "duration": 32,
    "start_time": "2022-03-23T09:08:33.370Z"
   },
   {
    "duration": 34,
    "start_time": "2022-03-23T09:08:33.404Z"
   },
   {
    "duration": 13,
    "start_time": "2022-03-23T09:08:33.440Z"
   },
   {
    "duration": 48,
    "start_time": "2022-03-23T09:08:33.454Z"
   },
   {
    "duration": 29,
    "start_time": "2022-03-23T09:08:33.504Z"
   },
   {
    "duration": 16,
    "start_time": "2022-03-23T09:08:33.535Z"
   },
   {
    "duration": 11,
    "start_time": "2022-03-23T09:08:33.553Z"
   },
   {
    "duration": 19,
    "start_time": "2022-03-23T09:08:33.565Z"
   },
   {
    "duration": 4,
    "start_time": "2022-03-23T09:08:33.586Z"
   },
   {
    "duration": 10,
    "start_time": "2022-03-23T09:08:33.592Z"
   },
   {
    "duration": 37,
    "start_time": "2022-03-23T09:08:33.604Z"
   },
   {
    "duration": 17,
    "start_time": "2022-03-23T09:08:33.643Z"
   },
   {
    "duration": 18,
    "start_time": "2022-03-23T09:08:33.662Z"
   },
   {
    "duration": 86,
    "start_time": "2022-03-23T09:08:33.682Z"
   },
   {
    "duration": 23,
    "start_time": "2022-03-23T09:08:33.770Z"
   },
   {
    "duration": 44,
    "start_time": "2022-03-23T09:08:33.794Z"
   },
   {
    "duration": 22,
    "start_time": "2022-03-23T09:08:33.843Z"
   },
   {
    "duration": 6,
    "start_time": "2022-03-23T09:08:33.867Z"
   },
   {
    "duration": 26,
    "start_time": "2022-03-23T09:08:33.875Z"
   },
   {
    "duration": 96,
    "start_time": "2022-03-23T09:08:33.903Z"
   },
   {
    "duration": 4,
    "start_time": "2022-03-23T09:08:34.001Z"
   },
   {
    "duration": 66,
    "start_time": "2022-03-23T09:08:34.006Z"
   },
   {
    "duration": 7,
    "start_time": "2022-03-23T09:08:34.074Z"
   },
   {
    "duration": 27,
    "start_time": "2022-03-23T09:08:34.083Z"
   },
   {
    "duration": 40,
    "start_time": "2022-03-23T09:08:34.111Z"
   },
   {
    "duration": 16,
    "start_time": "2022-03-23T09:08:34.153Z"
   },
   {
    "duration": 41,
    "start_time": "2022-03-23T09:08:34.171Z"
   },
   {
    "duration": 19,
    "start_time": "2022-03-23T09:08:34.214Z"
   },
   {
    "duration": 5,
    "start_time": "2022-03-23T09:08:34.235Z"
   },
   {
    "duration": 238,
    "start_time": "2022-03-23T09:08:34.242Z"
   },
   {
    "duration": 14,
    "start_time": "2022-03-23T09:08:34.481Z"
   },
   {
    "duration": 9,
    "start_time": "2022-03-23T09:08:34.497Z"
   },
   {
    "duration": 33,
    "start_time": "2022-03-23T09:08:34.508Z"
   },
   {
    "duration": 5,
    "start_time": "2022-03-23T09:08:34.542Z"
   },
   {
    "duration": 225,
    "start_time": "2022-03-23T09:08:34.549Z"
   },
   {
    "duration": 12,
    "start_time": "2022-03-23T09:08:34.776Z"
   },
   {
    "duration": 7,
    "start_time": "2022-03-23T09:08:34.790Z"
   },
   {
    "duration": 35,
    "start_time": "2022-03-23T09:08:34.799Z"
   },
   {
    "duration": 7,
    "start_time": "2022-03-23T09:08:34.836Z"
   },
   {
    "duration": 380,
    "start_time": "2022-03-23T09:08:34.845Z"
   },
   {
    "duration": 7,
    "start_time": "2022-03-23T09:08:35.228Z"
   },
   {
    "duration": 14,
    "start_time": "2022-03-23T09:08:35.237Z"
   },
   {
    "duration": 11,
    "start_time": "2022-03-23T09:08:35.253Z"
   },
   {
    "duration": 23,
    "start_time": "2022-03-23T09:08:35.265Z"
   },
   {
    "duration": 9,
    "start_time": "2022-03-23T09:08:35.289Z"
   },
   {
    "duration": 13,
    "start_time": "2022-03-23T09:08:35.300Z"
   },
   {
    "duration": 30,
    "start_time": "2022-03-23T09:08:35.315Z"
   },
   {
    "duration": 132,
    "start_time": "2022-03-23T09:08:35.347Z"
   },
   {
    "duration": 48,
    "start_time": "2022-04-03T10:44:13.303Z"
   },
   {
    "duration": 1276,
    "start_time": "2022-04-03T10:44:16.953Z"
   },
   {
    "duration": 382,
    "start_time": "2022-04-03T10:44:18.231Z"
   },
   {
    "duration": 24,
    "start_time": "2022-04-03T10:44:18.615Z"
   },
   {
    "duration": 26,
    "start_time": "2022-04-03T10:44:18.641Z"
   },
   {
    "duration": 40,
    "start_time": "2022-04-03T10:44:18.669Z"
   },
   {
    "duration": 11,
    "start_time": "2022-04-03T10:44:18.711Z"
   },
   {
    "duration": 13,
    "start_time": "2022-04-03T10:44:18.724Z"
   },
   {
    "duration": 110,
    "start_time": "2022-04-03T10:44:18.738Z"
   },
   {
    "duration": 6,
    "start_time": "2022-04-03T10:44:18.849Z"
   },
   {
    "duration": 65,
    "start_time": "2022-04-03T10:44:18.857Z"
   },
   {
    "duration": 45,
    "start_time": "2022-04-03T10:44:18.925Z"
   },
   {
    "duration": 61,
    "start_time": "2022-04-03T10:44:18.972Z"
   },
   {
    "duration": 19,
    "start_time": "2022-04-03T10:44:19.034Z"
   },
   {
    "duration": 14,
    "start_time": "2022-04-03T10:44:19.056Z"
   },
   {
    "duration": 81,
    "start_time": "2022-04-03T10:44:19.072Z"
   },
   {
    "duration": 9,
    "start_time": "2022-04-03T10:44:19.155Z"
   },
   {
    "duration": 14,
    "start_time": "2022-04-03T10:44:19.165Z"
   },
   {
    "duration": 12,
    "start_time": "2022-04-03T10:44:19.180Z"
   },
   {
    "duration": 26,
    "start_time": "2022-04-03T10:44:19.217Z"
   },
   {
    "duration": 4,
    "start_time": "2022-04-03T10:44:19.245Z"
   },
   {
    "duration": 9,
    "start_time": "2022-04-03T10:44:19.251Z"
   },
   {
    "duration": 13,
    "start_time": "2022-04-03T10:44:19.262Z"
   },
   {
    "duration": 45,
    "start_time": "2022-04-03T10:44:19.277Z"
   },
   {
    "duration": 21,
    "start_time": "2022-04-03T10:44:19.324Z"
   },
   {
    "duration": 16,
    "start_time": "2022-04-03T10:44:19.346Z"
   },
   {
    "duration": 90,
    "start_time": "2022-04-03T10:44:19.364Z"
   },
   {
    "duration": 23,
    "start_time": "2022-04-03T10:44:19.455Z"
   },
   {
    "duration": 30,
    "start_time": "2022-04-03T10:44:19.480Z"
   },
   {
    "duration": 24,
    "start_time": "2022-04-03T10:44:19.512Z"
   },
   {
    "duration": 6,
    "start_time": "2022-04-03T10:44:19.538Z"
   },
   {
    "duration": 13,
    "start_time": "2022-04-03T10:44:19.546Z"
   },
   {
    "duration": 109,
    "start_time": "2022-04-03T10:44:19.561Z"
   },
   {
    "duration": 4,
    "start_time": "2022-04-03T10:44:19.672Z"
   },
   {
    "duration": 64,
    "start_time": "2022-04-03T10:44:19.678Z"
   },
   {
    "duration": 9,
    "start_time": "2022-04-03T10:44:19.745Z"
   },
   {
    "duration": 24,
    "start_time": "2022-04-03T10:44:19.756Z"
   },
   {
    "duration": 47,
    "start_time": "2022-04-03T10:44:19.782Z"
   },
   {
    "duration": 28,
    "start_time": "2022-04-03T10:44:19.831Z"
   },
   {
    "duration": 21,
    "start_time": "2022-04-03T10:44:19.861Z"
   },
   {
    "duration": 23,
    "start_time": "2022-04-03T10:44:19.884Z"
   },
   {
    "duration": 7,
    "start_time": "2022-04-03T10:44:19.912Z"
   },
   {
    "duration": 274,
    "start_time": "2022-04-03T10:44:19.921Z"
   },
   {
    "duration": 25,
    "start_time": "2022-04-03T10:44:20.196Z"
   },
   {
    "duration": 10,
    "start_time": "2022-04-03T10:44:20.224Z"
   },
   {
    "duration": 12,
    "start_time": "2022-04-03T10:44:20.236Z"
   },
   {
    "duration": 8,
    "start_time": "2022-04-03T10:44:20.250Z"
   },
   {
    "duration": 282,
    "start_time": "2022-04-03T10:44:20.260Z"
   },
   {
    "duration": 14,
    "start_time": "2022-04-03T10:44:20.544Z"
   },
   {
    "duration": 9,
    "start_time": "2022-04-03T10:44:20.559Z"
   },
   {
    "duration": 12,
    "start_time": "2022-04-03T10:44:20.569Z"
   },
   {
    "duration": 9,
    "start_time": "2022-04-03T10:44:20.608Z"
   },
   {
    "duration": 313,
    "start_time": "2022-04-03T10:44:20.619Z"
   },
   {
    "duration": 5,
    "start_time": "2022-04-03T10:44:20.934Z"
   },
   {
    "duration": 8,
    "start_time": "2022-04-03T10:44:20.941Z"
   },
   {
    "duration": 8,
    "start_time": "2022-04-03T10:44:20.950Z"
   },
   {
    "duration": 14,
    "start_time": "2022-04-03T10:44:20.959Z"
   },
   {
    "duration": 8,
    "start_time": "2022-04-03T10:44:20.975Z"
   },
   {
    "duration": 26,
    "start_time": "2022-04-03T10:44:20.984Z"
   },
   {
    "duration": 32,
    "start_time": "2022-04-03T10:44:21.012Z"
   },
   {
    "duration": 224,
    "start_time": "2022-04-03T10:44:21.046Z"
   },
   {
    "duration": 15,
    "start_time": "2022-04-03T10:45:11.101Z"
   },
   {
    "duration": 1052,
    "start_time": "2022-04-03T10:51:12.647Z"
   },
   {
    "duration": 374,
    "start_time": "2022-04-03T10:51:13.701Z"
   },
   {
    "duration": 24,
    "start_time": "2022-04-03T10:51:14.077Z"
   },
   {
    "duration": 25,
    "start_time": "2022-04-03T10:51:14.102Z"
   },
   {
    "duration": 17,
    "start_time": "2022-04-03T10:51:14.130Z"
   },
   {
    "duration": 10,
    "start_time": "2022-04-03T10:51:14.149Z"
   },
   {
    "duration": 11,
    "start_time": "2022-04-03T10:51:14.161Z"
   },
   {
    "duration": 98,
    "start_time": "2022-04-03T10:51:14.174Z"
   },
   {
    "duration": 6,
    "start_time": "2022-04-03T10:51:14.273Z"
   },
   {
    "duration": 57,
    "start_time": "2022-04-03T10:51:14.281Z"
   },
   {
    "duration": 41,
    "start_time": "2022-04-03T10:51:14.339Z"
   },
   {
    "duration": 47,
    "start_time": "2022-04-03T10:51:14.381Z"
   },
   {
    "duration": 18,
    "start_time": "2022-04-03T10:51:14.430Z"
   },
   {
    "duration": 13,
    "start_time": "2022-04-03T10:51:14.452Z"
   },
   {
    "duration": 70,
    "start_time": "2022-04-03T10:51:14.467Z"
   },
   {
    "duration": 10,
    "start_time": "2022-04-03T10:51:14.538Z"
   },
   {
    "duration": 10,
    "start_time": "2022-04-03T10:51:14.550Z"
   },
   {
    "duration": 11,
    "start_time": "2022-04-03T10:51:14.562Z"
   },
   {
    "duration": 44,
    "start_time": "2022-04-03T10:51:14.575Z"
   },
   {
    "duration": 3,
    "start_time": "2022-04-03T10:51:14.621Z"
   },
   {
    "duration": 11,
    "start_time": "2022-04-03T10:51:14.626Z"
   },
   {
    "duration": 10,
    "start_time": "2022-04-03T10:51:14.638Z"
   },
   {
    "duration": 16,
    "start_time": "2022-04-03T10:51:14.650Z"
   },
   {
    "duration": 43,
    "start_time": "2022-04-03T10:51:14.667Z"
   },
   {
    "duration": 55,
    "start_time": "2022-04-03T10:51:14.712Z"
   },
   {
    "duration": 22,
    "start_time": "2022-04-03T10:51:14.769Z"
   },
   {
    "duration": 21,
    "start_time": "2022-04-03T10:51:14.809Z"
   },
   {
    "duration": 20,
    "start_time": "2022-04-03T10:51:14.832Z"
   },
   {
    "duration": 6,
    "start_time": "2022-04-03T10:51:14.854Z"
   },
   {
    "duration": 15,
    "start_time": "2022-04-03T10:51:14.862Z"
   },
   {
    "duration": 103,
    "start_time": "2022-04-03T10:51:14.879Z"
   },
   {
    "duration": 4,
    "start_time": "2022-04-03T10:51:14.983Z"
   },
   {
    "duration": 29,
    "start_time": "2022-04-03T10:51:14.989Z"
   },
   {
    "duration": 57,
    "start_time": "2022-04-03T10:51:15.020Z"
   },
   {
    "duration": 9,
    "start_time": "2022-04-03T10:51:15.078Z"
   },
   {
    "duration": 39,
    "start_time": "2022-04-03T10:51:15.089Z"
   },
   {
    "duration": 21,
    "start_time": "2022-04-03T10:51:15.130Z"
   },
   {
    "duration": 17,
    "start_time": "2022-04-03T10:51:15.152Z"
   },
   {
    "duration": 7,
    "start_time": "2022-04-03T10:51:15.170Z"
   },
   {
    "duration": 42,
    "start_time": "2022-04-03T10:51:15.178Z"
   },
   {
    "duration": 6,
    "start_time": "2022-04-03T10:51:15.224Z"
   },
   {
    "duration": 261,
    "start_time": "2022-04-03T10:51:15.231Z"
   },
   {
    "duration": 21,
    "start_time": "2022-04-03T10:51:15.494Z"
   },
   {
    "duration": 6,
    "start_time": "2022-04-03T10:51:15.517Z"
   },
   {
    "duration": 12,
    "start_time": "2022-04-03T10:51:15.524Z"
   },
   {
    "duration": 5,
    "start_time": "2022-04-03T10:51:15.538Z"
   },
   {
    "duration": 254,
    "start_time": "2022-04-03T10:51:15.545Z"
   },
   {
    "duration": 19,
    "start_time": "2022-04-03T10:51:15.800Z"
   },
   {
    "duration": 10,
    "start_time": "2022-04-03T10:51:15.820Z"
   },
   {
    "duration": 12,
    "start_time": "2022-04-03T10:51:15.832Z"
   },
   {
    "duration": 5,
    "start_time": "2022-04-03T10:51:15.846Z"
   },
   {
    "duration": 294,
    "start_time": "2022-04-03T10:51:15.853Z"
   },
   {
    "duration": 6,
    "start_time": "2022-04-03T10:51:16.148Z"
   },
   {
    "duration": 13,
    "start_time": "2022-04-03T10:51:16.155Z"
   },
   {
    "duration": 8,
    "start_time": "2022-04-03T10:51:16.170Z"
   },
   {
    "duration": 9,
    "start_time": "2022-04-03T10:51:16.179Z"
   },
   {
    "duration": 21,
    "start_time": "2022-04-03T10:51:16.190Z"
   },
   {
    "duration": 4,
    "start_time": "2022-04-03T10:51:16.213Z"
   },
   {
    "duration": 25,
    "start_time": "2022-04-03T10:51:16.219Z"
   },
   {
    "duration": 215,
    "start_time": "2022-04-03T10:51:16.246Z"
   },
   {
    "duration": 22,
    "start_time": "2022-04-03T10:56:58.424Z"
   },
   {
    "duration": 1118,
    "start_time": "2022-04-03T11:14:22.069Z"
   },
   {
    "duration": 372,
    "start_time": "2022-04-03T11:14:23.189Z"
   },
   {
    "duration": 25,
    "start_time": "2022-04-03T11:14:23.563Z"
   },
   {
    "duration": 24,
    "start_time": "2022-04-03T11:14:23.590Z"
   },
   {
    "duration": 19,
    "start_time": "2022-04-03T11:14:23.617Z"
   },
   {
    "duration": 9,
    "start_time": "2022-04-03T11:14:23.639Z"
   },
   {
    "duration": 24,
    "start_time": "2022-04-03T11:14:23.650Z"
   },
   {
    "duration": 100,
    "start_time": "2022-04-03T11:14:23.676Z"
   },
   {
    "duration": 7,
    "start_time": "2022-04-03T11:14:23.778Z"
   },
   {
    "duration": 65,
    "start_time": "2022-04-03T11:14:23.787Z"
   },
   {
    "duration": 42,
    "start_time": "2022-04-03T11:14:23.853Z"
   },
   {
    "duration": 43,
    "start_time": "2022-04-03T11:14:23.897Z"
   },
   {
    "duration": 23,
    "start_time": "2022-04-03T11:14:23.941Z"
   },
   {
    "duration": 41,
    "start_time": "2022-04-03T11:14:23.968Z"
   },
   {
    "duration": 45,
    "start_time": "2022-04-03T11:14:24.011Z"
   },
   {
    "duration": 10,
    "start_time": "2022-04-03T11:14:24.057Z"
   },
   {
    "duration": 11,
    "start_time": "2022-04-03T11:14:24.069Z"
   },
   {
    "duration": 10,
    "start_time": "2022-04-03T11:14:24.108Z"
   },
   {
    "duration": 22,
    "start_time": "2022-04-03T11:14:24.120Z"
   },
   {
    "duration": 4,
    "start_time": "2022-04-03T11:14:24.143Z"
   },
   {
    "duration": 9,
    "start_time": "2022-04-03T11:14:24.149Z"
   },
   {
    "duration": 12,
    "start_time": "2022-04-03T11:14:24.160Z"
   },
   {
    "duration": 47,
    "start_time": "2022-04-03T11:14:24.174Z"
   },
   {
    "duration": 15,
    "start_time": "2022-04-03T11:14:24.223Z"
   },
   {
    "duration": 76,
    "start_time": "2022-04-03T11:14:24.239Z"
   },
   {
    "duration": 24,
    "start_time": "2022-04-03T11:14:24.317Z"
   },
   {
    "duration": 28,
    "start_time": "2022-04-03T11:14:24.343Z"
   },
   {
    "duration": 50,
    "start_time": "2022-04-03T11:14:24.372Z"
   },
   {
    "duration": 6,
    "start_time": "2022-04-03T11:14:24.423Z"
   },
   {
    "duration": 13,
    "start_time": "2022-04-03T11:14:24.431Z"
   },
   {
    "duration": 96,
    "start_time": "2022-04-03T11:14:24.446Z"
   },
   {
    "duration": 23,
    "start_time": "2022-04-03T11:14:24.544Z"
   },
   {
    "duration": 4,
    "start_time": "2022-04-03T11:14:24.569Z"
   },
   {
    "duration": 72,
    "start_time": "2022-04-03T11:14:24.574Z"
   },
   {
    "duration": 11,
    "start_time": "2022-04-03T11:14:24.648Z"
   },
   {
    "duration": 49,
    "start_time": "2022-04-03T11:14:24.661Z"
   },
   {
    "duration": 29,
    "start_time": "2022-04-03T11:14:24.713Z"
   },
   {
    "duration": 16,
    "start_time": "2022-04-03T11:14:24.744Z"
   },
   {
    "duration": 6,
    "start_time": "2022-04-03T11:14:24.762Z"
   },
   {
    "duration": 51,
    "start_time": "2022-04-03T11:14:24.770Z"
   },
   {
    "duration": 7,
    "start_time": "2022-04-03T11:14:24.826Z"
   },
   {
    "duration": 258,
    "start_time": "2022-04-03T11:14:24.835Z"
   },
   {
    "duration": 18,
    "start_time": "2022-04-03T11:14:25.095Z"
   },
   {
    "duration": 8,
    "start_time": "2022-04-03T11:14:25.115Z"
   },
   {
    "duration": 17,
    "start_time": "2022-04-03T11:14:25.125Z"
   },
   {
    "duration": 6,
    "start_time": "2022-04-03T11:14:25.145Z"
   },
   {
    "duration": 270,
    "start_time": "2022-04-03T11:14:25.152Z"
   },
   {
    "duration": 17,
    "start_time": "2022-04-03T11:14:25.424Z"
   },
   {
    "duration": 8,
    "start_time": "2022-04-03T11:14:25.442Z"
   },
   {
    "duration": 17,
    "start_time": "2022-04-03T11:14:25.451Z"
   },
   {
    "duration": 52,
    "start_time": "2022-04-03T11:14:25.470Z"
   },
   {
    "duration": 288,
    "start_time": "2022-04-03T11:14:25.524Z"
   },
   {
    "duration": 7,
    "start_time": "2022-04-03T11:14:25.814Z"
   },
   {
    "duration": 11,
    "start_time": "2022-04-03T11:14:25.822Z"
   },
   {
    "duration": 9,
    "start_time": "2022-04-03T11:14:25.836Z"
   },
   {
    "duration": 10,
    "start_time": "2022-04-03T11:14:25.847Z"
   },
   {
    "duration": 6,
    "start_time": "2022-04-03T11:14:25.860Z"
   },
   {
    "duration": 40,
    "start_time": "2022-04-03T11:14:25.869Z"
   },
   {
    "duration": 35,
    "start_time": "2022-04-03T11:14:25.911Z"
   },
   {
    "duration": 215,
    "start_time": "2022-04-03T11:14:25.947Z"
   },
   {
    "duration": 1286,
    "start_time": "2022-04-03T19:18:25.788Z"
   },
   {
    "duration": 375,
    "start_time": "2022-04-03T19:18:27.109Z"
   },
   {
    "duration": 22,
    "start_time": "2022-04-03T19:18:28.295Z"
   },
   {
    "duration": 25,
    "start_time": "2022-04-03T19:18:29.327Z"
   },
   {
    "duration": 19,
    "start_time": "2022-04-03T19:18:30.292Z"
   },
   {
    "duration": 11,
    "start_time": "2022-04-03T19:18:31.628Z"
   },
   {
    "duration": 15,
    "start_time": "2022-04-03T19:18:32.589Z"
   },
   {
    "duration": 81,
    "start_time": "2022-04-03T19:18:33.935Z"
   },
   {
    "duration": 4,
    "start_time": "2022-04-03T19:18:37.049Z"
   },
   {
    "duration": 49,
    "start_time": "2022-04-03T19:18:43.188Z"
   },
   {
    "duration": 42,
    "start_time": "2022-04-03T19:18:45.132Z"
   },
   {
    "duration": 33,
    "start_time": "2022-04-03T19:18:46.368Z"
   },
   {
    "duration": 19,
    "start_time": "2022-04-03T19:18:47.396Z"
   },
   {
    "duration": 14,
    "start_time": "2022-04-03T19:18:48.405Z"
   },
   {
    "duration": 43,
    "start_time": "2022-04-03T19:18:53.758Z"
   },
   {
    "duration": 50,
    "start_time": "2022-04-03T19:19:00.730Z"
   },
   {
    "duration": 10,
    "start_time": "2022-04-03T19:19:02.064Z"
   },
   {
    "duration": 11,
    "start_time": "2022-04-03T19:19:03.749Z"
   },
   {
    "duration": 11,
    "start_time": "2022-04-03T19:19:11.475Z"
   },
   {
    "duration": 20,
    "start_time": "2022-04-03T19:19:12.261Z"
   },
   {
    "duration": 4,
    "start_time": "2022-04-03T19:19:15.071Z"
   },
   {
    "duration": 7,
    "start_time": "2022-04-03T19:19:16.373Z"
   },
   {
    "duration": 11,
    "start_time": "2022-04-03T19:19:19.280Z"
   },
   {
    "duration": 20,
    "start_time": "2022-04-03T19:19:22.631Z"
   },
   {
    "duration": 17,
    "start_time": "2022-04-03T19:19:23.393Z"
   },
   {
    "duration": 56,
    "start_time": "2022-04-03T19:19:25.562Z"
   },
   {
    "duration": 24,
    "start_time": "2022-04-03T19:20:01.147Z"
   },
   {
    "duration": 22,
    "start_time": "2022-04-03T19:20:04.650Z"
   },
   {
    "duration": 22,
    "start_time": "2022-04-03T19:20:08.264Z"
   },
   {
    "duration": 7,
    "start_time": "2022-04-03T19:20:20.083Z"
   },
   {
    "duration": 12,
    "start_time": "2022-04-03T19:20:20.862Z"
   },
   {
    "duration": 75,
    "start_time": "2022-04-03T19:20:28.372Z"
   },
   {
    "duration": 22,
    "start_time": "2022-04-03T19:20:31.660Z"
   },
   {
    "duration": 3,
    "start_time": "2022-04-03T19:28:18.169Z"
   },
   {
    "duration": 383,
    "start_time": "2022-04-03T19:28:18.826Z"
   },
   {
    "duration": 23,
    "start_time": "2022-04-03T19:28:19.573Z"
   },
   {
    "duration": 26,
    "start_time": "2022-04-03T19:28:20.321Z"
   },
   {
    "duration": 20,
    "start_time": "2022-04-03T19:28:21.078Z"
   },
   {
    "duration": 12,
    "start_time": "2022-04-03T19:28:21.840Z"
   },
   {
    "duration": 10,
    "start_time": "2022-04-03T19:28:23.184Z"
   },
   {
    "duration": 70,
    "start_time": "2022-04-03T19:28:26.226Z"
   },
   {
    "duration": 5,
    "start_time": "2022-04-03T19:28:27.512Z"
   },
   {
    "duration": 50,
    "start_time": "2022-04-03T19:28:32.080Z"
   },
   {
    "duration": 35,
    "start_time": "2022-04-03T19:28:32.797Z"
   },
   {
    "duration": 33,
    "start_time": "2022-04-03T19:28:33.477Z"
   },
   {
    "duration": 19,
    "start_time": "2022-04-03T19:28:34.336Z"
   },
   {
    "duration": 14,
    "start_time": "2022-04-03T19:28:35.274Z"
   },
   {
    "duration": 43,
    "start_time": "2022-04-03T19:28:44.546Z"
   },
   {
    "duration": 45,
    "start_time": "2022-04-03T19:28:45.752Z"
   },
   {
    "duration": 11,
    "start_time": "2022-04-03T19:28:46.759Z"
   },
   {
    "duration": 11,
    "start_time": "2022-04-03T19:28:48.007Z"
   },
   {
    "duration": 11,
    "start_time": "2022-04-03T19:28:49.185Z"
   },
   {
    "duration": 19,
    "start_time": "2022-04-03T19:28:51.063Z"
   },
   {
    "duration": 3,
    "start_time": "2022-04-03T19:28:54.032Z"
   },
   {
    "duration": 6,
    "start_time": "2022-04-03T19:28:55.172Z"
   },
   {
    "duration": 11,
    "start_time": "2022-04-03T19:28:57.671Z"
   },
   {
    "duration": 17,
    "start_time": "2022-04-03T19:29:00.447Z"
   },
   {
    "duration": 17,
    "start_time": "2022-04-03T19:29:02.395Z"
   },
   {
    "duration": 52,
    "start_time": "2022-04-03T19:29:06.357Z"
   },
   {
    "duration": 22,
    "start_time": "2022-04-03T19:29:26.558Z"
   },
   {
    "duration": 20,
    "start_time": "2022-04-03T19:29:30.316Z"
   },
   {
    "duration": 21,
    "start_time": "2022-04-03T19:29:31.685Z"
   },
   {
    "duration": 6,
    "start_time": "2022-04-03T19:29:35.729Z"
   },
   {
    "duration": 12,
    "start_time": "2022-04-03T19:29:36.419Z"
   },
   {
    "duration": 72,
    "start_time": "2022-04-03T19:29:38.989Z"
   },
   {
    "duration": 23,
    "start_time": "2022-04-03T19:29:43.089Z"
   },
   {
    "duration": 4,
    "start_time": "2022-04-03T19:30:11.402Z"
   },
   {
    "duration": 58,
    "start_time": "2022-04-03T19:30:12.098Z"
   },
   {
    "duration": 9,
    "start_time": "2022-04-03T19:30:13.116Z"
   },
   {
    "duration": 23,
    "start_time": "2022-04-03T19:30:14.026Z"
   },
   {
    "duration": 20,
    "start_time": "2022-04-03T19:30:17.216Z"
   },
   {
    "duration": 17,
    "start_time": "2022-04-03T19:30:23.603Z"
   },
   {
    "duration": 5,
    "start_time": "2022-04-03T19:30:26.854Z"
   },
   {
    "duration": 15,
    "start_time": "2022-04-03T19:30:28.673Z"
   },
   {
    "duration": 6,
    "start_time": "2022-04-03T19:30:31.384Z"
   },
   {
    "duration": 254,
    "start_time": "2022-04-03T19:30:32.544Z"
   },
   {
    "duration": 13,
    "start_time": "2022-04-03T19:30:36.785Z"
   },
   {
    "duration": 7,
    "start_time": "2022-04-03T19:30:37.633Z"
   },
   {
    "duration": 13,
    "start_time": "2022-04-03T19:30:40.334Z"
   },
   {
    "duration": 7,
    "start_time": "2022-04-03T19:30:44.637Z"
   },
   {
    "duration": 235,
    "start_time": "2022-04-03T19:30:45.618Z"
   },
   {
    "duration": 13,
    "start_time": "2022-04-03T19:30:50.766Z"
   },
   {
    "duration": 6,
    "start_time": "2022-04-03T19:31:00.620Z"
   },
   {
    "duration": 12,
    "start_time": "2022-04-03T19:31:02.236Z"
   },
   {
    "duration": 5,
    "start_time": "2022-04-03T19:31:13.475Z"
   },
   {
    "duration": 331,
    "start_time": "2022-04-03T19:31:14.129Z"
   },
   {
    "duration": 1138,
    "start_time": "2022-04-03T19:36:12.185Z"
   },
   {
    "duration": 383,
    "start_time": "2022-04-03T19:36:13.325Z"
   },
   {
    "duration": 24,
    "start_time": "2022-04-03T19:36:13.710Z"
   },
   {
    "duration": 27,
    "start_time": "2022-04-03T19:36:13.736Z"
   },
   {
    "duration": 44,
    "start_time": "2022-04-03T19:36:13.765Z"
   },
   {
    "duration": 11,
    "start_time": "2022-04-03T19:36:13.811Z"
   },
   {
    "duration": 12,
    "start_time": "2022-04-03T19:36:13.823Z"
   },
   {
    "duration": 103,
    "start_time": "2022-04-03T19:36:13.837Z"
   },
   {
    "duration": 5,
    "start_time": "2022-04-03T19:36:13.941Z"
   },
   {
    "duration": 67,
    "start_time": "2022-04-03T19:36:13.950Z"
   },
   {
    "duration": 48,
    "start_time": "2022-04-03T19:36:14.019Z"
   },
   {
    "duration": 59,
    "start_time": "2022-04-03T19:36:14.069Z"
   },
   {
    "duration": 21,
    "start_time": "2022-04-03T19:36:14.130Z"
   },
   {
    "duration": 17,
    "start_time": "2022-04-03T19:36:14.153Z"
   },
   {
    "duration": 75,
    "start_time": "2022-04-03T19:36:14.172Z"
   },
   {
    "duration": 60,
    "start_time": "2022-04-03T19:36:14.249Z"
   },
   {
    "duration": 12,
    "start_time": "2022-04-03T19:36:14.310Z"
   },
   {
    "duration": 11,
    "start_time": "2022-04-03T19:36:14.324Z"
   },
   {
    "duration": 11,
    "start_time": "2022-04-03T19:36:14.337Z"
   },
   {
    "duration": 20,
    "start_time": "2022-04-03T19:36:14.350Z"
   },
   {
    "duration": 37,
    "start_time": "2022-04-03T19:36:14.372Z"
   },
   {
    "duration": 7,
    "start_time": "2022-04-03T19:36:14.411Z"
   },
   {
    "duration": 12,
    "start_time": "2022-04-03T19:36:14.420Z"
   },
   {
    "duration": 18,
    "start_time": "2022-04-03T19:36:14.434Z"
   },
   {
    "duration": 56,
    "start_time": "2022-04-03T19:36:14.454Z"
   },
   {
    "duration": 55,
    "start_time": "2022-04-03T19:36:14.512Z"
   },
   {
    "duration": 47,
    "start_time": "2022-04-03T19:36:14.569Z"
   },
   {
    "duration": 20,
    "start_time": "2022-04-03T19:36:14.621Z"
   },
   {
    "duration": 20,
    "start_time": "2022-04-03T19:36:14.643Z"
   },
   {
    "duration": 7,
    "start_time": "2022-04-03T19:36:14.665Z"
   },
   {
    "duration": 44,
    "start_time": "2022-04-03T19:36:14.674Z"
   },
   {
    "duration": 94,
    "start_time": "2022-04-03T19:36:14.720Z"
   },
   {
    "duration": 26,
    "start_time": "2022-04-03T19:36:14.816Z"
   },
   {
    "duration": 4,
    "start_time": "2022-04-03T19:36:14.844Z"
   },
   {
    "duration": 78,
    "start_time": "2022-04-03T19:36:14.850Z"
   },
   {
    "duration": 9,
    "start_time": "2022-04-03T19:36:14.929Z"
   },
   {
    "duration": 22,
    "start_time": "2022-04-03T19:36:14.939Z"
   },
   {
    "duration": 46,
    "start_time": "2022-04-03T19:36:14.963Z"
   },
   {
    "duration": 18,
    "start_time": "2022-04-03T19:36:15.011Z"
   },
   {
    "duration": 5,
    "start_time": "2022-04-03T19:36:15.032Z"
   },
   {
    "duration": 18,
    "start_time": "2022-04-03T19:36:15.039Z"
   },
   {
    "duration": 7,
    "start_time": "2022-04-03T19:36:15.059Z"
   },
   {
    "duration": 289,
    "start_time": "2022-04-03T19:36:15.067Z"
   },
   {
    "duration": 12,
    "start_time": "2022-04-03T19:36:15.358Z"
   },
   {
    "duration": 11,
    "start_time": "2022-04-03T19:36:15.371Z"
   },
   {
    "duration": 26,
    "start_time": "2022-04-03T19:36:15.383Z"
   },
   {
    "duration": 5,
    "start_time": "2022-04-03T19:36:15.411Z"
   },
   {
    "duration": 252,
    "start_time": "2022-04-03T19:36:15.418Z"
   },
   {
    "duration": 12,
    "start_time": "2022-04-03T19:36:15.672Z"
   },
   {
    "duration": 23,
    "start_time": "2022-04-03T19:36:15.686Z"
   },
   {
    "duration": 12,
    "start_time": "2022-04-03T19:36:15.710Z"
   },
   {
    "duration": 11,
    "start_time": "2022-04-03T19:36:15.724Z"
   },
   {
    "duration": 288,
    "start_time": "2022-04-03T19:36:15.737Z"
   },
   {
    "duration": 5,
    "start_time": "2022-04-03T19:36:16.027Z"
   },
   {
    "duration": 12,
    "start_time": "2022-04-03T19:36:16.034Z"
   },
   {
    "duration": 7,
    "start_time": "2022-04-03T19:36:16.048Z"
   },
   {
    "duration": 13,
    "start_time": "2022-04-03T19:36:16.057Z"
   },
   {
    "duration": 5,
    "start_time": "2022-04-03T19:36:16.072Z"
   },
   {
    "duration": 10,
    "start_time": "2022-04-03T19:36:16.079Z"
   },
   {
    "duration": 107,
    "start_time": "2022-04-03T19:36:16.091Z"
   },
   {
    "duration": 152,
    "start_time": "2022-04-03T19:36:16.200Z"
   },
   {
    "duration": 1060,
    "start_time": "2022-04-03T19:54:51.031Z"
   },
   {
    "duration": 378,
    "start_time": "2022-04-03T19:54:52.092Z"
   },
   {
    "duration": 23,
    "start_time": "2022-04-03T19:54:52.472Z"
   },
   {
    "duration": 25,
    "start_time": "2022-04-03T19:54:52.498Z"
   },
   {
    "duration": 19,
    "start_time": "2022-04-03T19:54:52.525Z"
   },
   {
    "duration": 12,
    "start_time": "2022-04-03T19:54:52.545Z"
   },
   {
    "duration": 16,
    "start_time": "2022-04-03T19:54:52.558Z"
   },
   {
    "duration": 95,
    "start_time": "2022-04-03T19:54:52.576Z"
   },
   {
    "duration": 4,
    "start_time": "2022-04-03T19:54:52.673Z"
   },
   {
    "duration": 60,
    "start_time": "2022-04-03T19:54:52.680Z"
   },
   {
    "duration": 45,
    "start_time": "2022-04-03T19:54:52.741Z"
   },
   {
    "duration": 43,
    "start_time": "2022-04-03T19:54:52.788Z"
   },
   {
    "duration": 19,
    "start_time": "2022-04-03T19:54:52.832Z"
   },
   {
    "duration": 14,
    "start_time": "2022-04-03T19:54:52.852Z"
   },
   {
    "duration": 69,
    "start_time": "2022-04-03T19:54:52.868Z"
   },
   {
    "duration": 48,
    "start_time": "2022-04-03T19:54:52.939Z"
   },
   {
    "duration": 25,
    "start_time": "2022-04-03T19:54:52.988Z"
   },
   {
    "duration": 15,
    "start_time": "2022-04-03T19:54:53.014Z"
   },
   {
    "duration": 11,
    "start_time": "2022-04-03T19:54:53.031Z"
   },
   {
    "duration": 24,
    "start_time": "2022-04-03T19:54:53.044Z"
   },
   {
    "duration": 4,
    "start_time": "2022-04-03T19:54:53.070Z"
   },
   {
    "duration": 10,
    "start_time": "2022-04-03T19:54:53.075Z"
   },
   {
    "duration": 33,
    "start_time": "2022-04-03T19:54:53.086Z"
   },
   {
    "duration": 17,
    "start_time": "2022-04-03T19:54:53.120Z"
   },
   {
    "duration": 14,
    "start_time": "2022-04-03T19:54:53.139Z"
   },
   {
    "duration": 85,
    "start_time": "2022-04-03T19:54:53.155Z"
   },
   {
    "duration": 21,
    "start_time": "2022-04-03T19:54:53.242Z"
   },
   {
    "duration": 18,
    "start_time": "2022-04-03T19:54:53.267Z"
   },
   {
    "duration": 37,
    "start_time": "2022-04-03T19:54:53.287Z"
   },
   {
    "duration": 6,
    "start_time": "2022-04-03T19:54:53.326Z"
   },
   {
    "duration": 14,
    "start_time": "2022-04-03T19:54:53.334Z"
   },
   {
    "duration": 94,
    "start_time": "2022-04-03T19:54:53.350Z"
   },
   {
    "duration": 23,
    "start_time": "2022-04-03T19:54:53.445Z"
   },
   {
    "duration": 4,
    "start_time": "2022-04-03T19:54:53.469Z"
   },
   {
    "duration": 73,
    "start_time": "2022-04-03T19:54:53.474Z"
   },
   {
    "duration": 8,
    "start_time": "2022-04-03T19:54:53.549Z"
   },
   {
    "duration": 21,
    "start_time": "2022-04-03T19:54:53.558Z"
   },
   {
    "duration": 41,
    "start_time": "2022-04-03T19:54:53.580Z"
   },
   {
    "duration": 15,
    "start_time": "2022-04-03T19:54:53.623Z"
   },
   {
    "duration": 5,
    "start_time": "2022-04-03T19:54:53.640Z"
   },
   {
    "duration": 14,
    "start_time": "2022-04-03T19:54:53.646Z"
   },
   {
    "duration": 5,
    "start_time": "2022-04-03T19:54:53.662Z"
   },
   {
    "duration": 260,
    "start_time": "2022-04-03T19:54:53.669Z"
   },
   {
    "duration": 12,
    "start_time": "2022-04-03T19:54:53.931Z"
   },
   {
    "duration": 13,
    "start_time": "2022-04-03T19:54:53.945Z"
   },
   {
    "duration": 20,
    "start_time": "2022-04-03T19:54:53.959Z"
   },
   {
    "duration": 10,
    "start_time": "2022-04-03T19:54:53.981Z"
   },
   {
    "duration": 257,
    "start_time": "2022-04-03T19:54:53.993Z"
   },
   {
    "duration": 13,
    "start_time": "2022-04-03T19:54:54.252Z"
   },
   {
    "duration": 5,
    "start_time": "2022-04-03T19:54:54.266Z"
   },
   {
    "duration": 18,
    "start_time": "2022-04-03T19:54:54.272Z"
   },
   {
    "duration": 19,
    "start_time": "2022-04-03T19:54:54.292Z"
   },
   {
    "duration": 269,
    "start_time": "2022-04-03T19:54:54.313Z"
   },
   {
    "duration": 5,
    "start_time": "2022-04-03T19:54:54.583Z"
   },
   {
    "duration": 18,
    "start_time": "2022-04-03T19:54:54.590Z"
   },
   {
    "duration": 6,
    "start_time": "2022-04-03T19:54:54.610Z"
   },
   {
    "duration": 6,
    "start_time": "2022-04-03T19:54:54.617Z"
   },
   {
    "duration": 7,
    "start_time": "2022-04-03T19:54:54.625Z"
   },
   {
    "duration": 6,
    "start_time": "2022-04-03T19:54:54.634Z"
   },
   {
    "duration": 111,
    "start_time": "2022-04-03T19:54:54.641Z"
   },
   {
    "duration": 140,
    "start_time": "2022-04-03T19:54:54.754Z"
   },
   {
    "duration": 19,
    "start_time": "2022-04-03T20:03:10.412Z"
   },
   {
    "duration": 1168,
    "start_time": "2022-04-03T20:06:13.232Z"
   },
   {
    "duration": 384,
    "start_time": "2022-04-03T20:06:14.402Z"
   },
   {
    "duration": 23,
    "start_time": "2022-04-03T20:06:14.788Z"
   },
   {
    "duration": 26,
    "start_time": "2022-04-03T20:06:14.813Z"
   },
   {
    "duration": 19,
    "start_time": "2022-04-03T20:06:14.840Z"
   },
   {
    "duration": 10,
    "start_time": "2022-04-03T20:06:14.861Z"
   },
   {
    "duration": 37,
    "start_time": "2022-04-03T20:06:14.873Z"
   },
   {
    "duration": 83,
    "start_time": "2022-04-03T20:06:14.912Z"
   },
   {
    "duration": 14,
    "start_time": "2022-04-03T20:06:14.997Z"
   },
   {
    "duration": 52,
    "start_time": "2022-04-03T20:06:15.014Z"
   },
   {
    "duration": 64,
    "start_time": "2022-04-03T20:06:15.068Z"
   },
   {
    "duration": 35,
    "start_time": "2022-04-03T20:06:15.134Z"
   },
   {
    "duration": 39,
    "start_time": "2022-04-03T20:06:15.171Z"
   },
   {
    "duration": 15,
    "start_time": "2022-04-03T20:06:15.212Z"
   },
   {
    "duration": 48,
    "start_time": "2022-04-03T20:06:15.228Z"
   },
   {
    "duration": 69,
    "start_time": "2022-04-03T20:06:15.277Z"
   },
   {
    "duration": 10,
    "start_time": "2022-04-03T20:06:15.347Z"
   },
   {
    "duration": 12,
    "start_time": "2022-04-03T20:06:15.359Z"
   },
   {
    "duration": 11,
    "start_time": "2022-04-03T20:06:15.372Z"
   },
   {
    "duration": 40,
    "start_time": "2022-04-03T20:06:15.385Z"
   },
   {
    "duration": 2,
    "start_time": "2022-04-03T20:06:15.427Z"
   },
   {
    "duration": 22,
    "start_time": "2022-04-03T20:06:15.430Z"
   },
   {
    "duration": 12,
    "start_time": "2022-04-03T20:06:15.454Z"
   },
   {
    "duration": 17,
    "start_time": "2022-04-03T20:06:15.468Z"
   },
   {
    "duration": 32,
    "start_time": "2022-04-03T20:06:15.486Z"
   },
   {
    "duration": 55,
    "start_time": "2022-04-03T20:06:15.520Z"
   },
   {
    "duration": 121,
    "start_time": "2022-04-03T20:06:15.577Z"
   },
   {
    "duration": 0,
    "start_time": "2022-04-03T20:06:15.710Z"
   },
   {
    "duration": 0,
    "start_time": "2022-04-03T20:06:15.713Z"
   },
   {
    "duration": 0,
    "start_time": "2022-04-03T20:06:15.714Z"
   },
   {
    "duration": 0,
    "start_time": "2022-04-03T20:06:15.715Z"
   },
   {
    "duration": 0,
    "start_time": "2022-04-03T20:06:15.717Z"
   },
   {
    "duration": 0,
    "start_time": "2022-04-03T20:06:15.718Z"
   },
   {
    "duration": 0,
    "start_time": "2022-04-03T20:06:15.720Z"
   },
   {
    "duration": 0,
    "start_time": "2022-04-03T20:06:15.722Z"
   },
   {
    "duration": 0,
    "start_time": "2022-04-03T20:06:15.723Z"
   },
   {
    "duration": 0,
    "start_time": "2022-04-03T20:06:15.725Z"
   },
   {
    "duration": 0,
    "start_time": "2022-04-03T20:06:15.726Z"
   },
   {
    "duration": 0,
    "start_time": "2022-04-03T20:06:15.727Z"
   },
   {
    "duration": 0,
    "start_time": "2022-04-03T20:06:15.729Z"
   },
   {
    "duration": 0,
    "start_time": "2022-04-03T20:06:15.730Z"
   },
   {
    "duration": 0,
    "start_time": "2022-04-03T20:06:15.732Z"
   },
   {
    "duration": 0,
    "start_time": "2022-04-03T20:06:15.733Z"
   },
   {
    "duration": 0,
    "start_time": "2022-04-03T20:06:15.734Z"
   },
   {
    "duration": 0,
    "start_time": "2022-04-03T20:06:15.736Z"
   },
   {
    "duration": 0,
    "start_time": "2022-04-03T20:06:15.737Z"
   },
   {
    "duration": 0,
    "start_time": "2022-04-03T20:06:15.739Z"
   },
   {
    "duration": 0,
    "start_time": "2022-04-03T20:06:15.740Z"
   },
   {
    "duration": 0,
    "start_time": "2022-04-03T20:06:15.741Z"
   },
   {
    "duration": 0,
    "start_time": "2022-04-03T20:06:15.743Z"
   },
   {
    "duration": 0,
    "start_time": "2022-04-03T20:06:15.744Z"
   },
   {
    "duration": 0,
    "start_time": "2022-04-03T20:06:15.746Z"
   },
   {
    "duration": 0,
    "start_time": "2022-04-03T20:06:15.747Z"
   },
   {
    "duration": 0,
    "start_time": "2022-04-03T20:06:15.749Z"
   },
   {
    "duration": 0,
    "start_time": "2022-04-03T20:06:15.750Z"
   },
   {
    "duration": 0,
    "start_time": "2022-04-03T20:06:15.751Z"
   },
   {
    "duration": 0,
    "start_time": "2022-04-03T20:06:15.809Z"
   },
   {
    "duration": 0,
    "start_time": "2022-04-03T20:06:15.810Z"
   },
   {
    "duration": 0,
    "start_time": "2022-04-03T20:06:15.811Z"
   },
   {
    "duration": 0,
    "start_time": "2022-04-03T20:06:15.812Z"
   },
   {
    "duration": 0,
    "start_time": "2022-04-03T20:06:15.813Z"
   },
   {
    "duration": 3,
    "start_time": "2022-04-03T20:08:20.266Z"
   },
   {
    "duration": 410,
    "start_time": "2022-04-03T20:08:21.030Z"
   },
   {
    "duration": 22,
    "start_time": "2022-04-03T20:08:21.737Z"
   },
   {
    "duration": 25,
    "start_time": "2022-04-03T20:08:22.544Z"
   },
   {
    "duration": 20,
    "start_time": "2022-04-03T20:08:23.720Z"
   },
   {
    "duration": 10,
    "start_time": "2022-04-03T20:08:24.979Z"
   },
   {
    "duration": 17,
    "start_time": "2022-04-03T20:08:25.870Z"
   },
   {
    "duration": 100,
    "start_time": "2022-04-03T20:08:26.719Z"
   },
   {
    "duration": 5,
    "start_time": "2022-04-03T20:08:29.814Z"
   },
   {
    "duration": 47,
    "start_time": "2022-04-03T20:08:31.738Z"
   },
   {
    "duration": 34,
    "start_time": "2022-04-03T20:08:33.515Z"
   },
   {
    "duration": 34,
    "start_time": "2022-04-03T20:08:34.437Z"
   },
   {
    "duration": 21,
    "start_time": "2022-04-03T20:08:35.582Z"
   },
   {
    "duration": 15,
    "start_time": "2022-04-03T20:08:36.892Z"
   },
   {
    "duration": 40,
    "start_time": "2022-04-03T20:08:43.121Z"
   },
   {
    "duration": 47,
    "start_time": "2022-04-03T20:08:44.708Z"
   },
   {
    "duration": 10,
    "start_time": "2022-04-03T20:08:46.250Z"
   },
   {
    "duration": 10,
    "start_time": "2022-04-03T20:08:47.660Z"
   },
   {
    "duration": 10,
    "start_time": "2022-04-03T20:08:48.773Z"
   },
   {
    "duration": 17,
    "start_time": "2022-04-03T20:08:51.024Z"
   },
   {
    "duration": 2,
    "start_time": "2022-04-03T20:08:56.040Z"
   },
   {
    "duration": 6,
    "start_time": "2022-04-03T20:08:58.169Z"
   },
   {
    "duration": 12,
    "start_time": "2022-04-03T20:09:02.168Z"
   },
   {
    "duration": 16,
    "start_time": "2022-04-03T20:09:03.118Z"
   },
   {
    "duration": 16,
    "start_time": "2022-04-03T20:09:04.036Z"
   },
   {
    "duration": 53,
    "start_time": "2022-04-03T20:09:05.025Z"
   },
   {
    "duration": 12,
    "start_time": "2022-04-03T20:09:20.114Z"
   },
   {
    "duration": 4,
    "start_time": "2022-04-03T20:15:35.180Z"
   },
   {
    "duration": 7,
    "start_time": "2022-04-03T20:15:36.956Z"
   },
   {
    "duration": 11,
    "start_time": "2022-04-03T20:15:38.079Z"
   },
   {
    "duration": 16,
    "start_time": "2022-04-03T20:15:38.963Z"
   },
   {
    "duration": 15,
    "start_time": "2022-04-03T20:15:40.286Z"
   },
   {
    "duration": 52,
    "start_time": "2022-04-03T20:15:41.335Z"
   },
   {
    "duration": 22,
    "start_time": "2022-04-03T20:15:51.060Z"
   },
   {
    "duration": 20,
    "start_time": "2022-04-03T20:15:53.837Z"
   },
   {
    "duration": 20,
    "start_time": "2022-04-03T20:15:55.786Z"
   },
   {
    "duration": 7,
    "start_time": "2022-04-03T20:15:58.238Z"
   },
   {
    "duration": 12,
    "start_time": "2022-04-03T20:15:58.845Z"
   },
   {
    "duration": 76,
    "start_time": "2022-04-03T20:15:59.656Z"
   },
   {
    "duration": 24,
    "start_time": "2022-04-03T20:16:01.207Z"
   },
   {
    "duration": 5,
    "start_time": "2022-04-03T20:16:02.518Z"
   },
   {
    "duration": 52,
    "start_time": "2022-04-03T20:16:03.497Z"
   },
   {
    "duration": 8,
    "start_time": "2022-04-03T20:16:04.360Z"
   },
   {
    "duration": 21,
    "start_time": "2022-04-03T20:16:05.184Z"
   },
   {
    "duration": 19,
    "start_time": "2022-04-03T20:16:06.024Z"
   },
   {
    "duration": 16,
    "start_time": "2022-04-03T20:16:08.166Z"
   },
   {
    "duration": 6,
    "start_time": "2022-04-03T20:16:09.110Z"
   },
   {
    "duration": 16,
    "start_time": "2022-04-03T20:16:09.864Z"
   },
   {
    "duration": 6,
    "start_time": "2022-04-03T20:16:10.624Z"
   },
   {
    "duration": 226,
    "start_time": "2022-04-03T20:16:11.376Z"
   },
   {
    "duration": 12,
    "start_time": "2022-04-03T20:16:13.248Z"
   },
   {
    "duration": 6,
    "start_time": "2022-04-03T20:16:14.036Z"
   },
   {
    "duration": 14,
    "start_time": "2022-04-03T20:16:14.692Z"
   },
   {
    "duration": 6,
    "start_time": "2022-04-03T20:16:15.318Z"
   },
   {
    "duration": 221,
    "start_time": "2022-04-03T20:16:15.986Z"
   },
   {
    "duration": 13,
    "start_time": "2022-04-03T20:16:17.612Z"
   },
   {
    "duration": 5,
    "start_time": "2022-04-03T20:16:18.294Z"
   },
   {
    "duration": 13,
    "start_time": "2022-04-03T20:16:18.952Z"
   },
   {
    "duration": 5,
    "start_time": "2022-04-03T20:16:19.634Z"
   },
   {
    "duration": 333,
    "start_time": "2022-04-03T20:16:20.290Z"
   },
   {
    "duration": 5,
    "start_time": "2022-04-03T20:16:27.741Z"
   },
   {
    "duration": 4,
    "start_time": "2022-04-03T20:16:29.846Z"
   },
   {
    "duration": 6,
    "start_time": "2022-04-03T20:16:30.620Z"
   },
   {
    "duration": 7,
    "start_time": "2022-04-03T20:16:31.375Z"
   },
   {
    "duration": 5,
    "start_time": "2022-04-03T20:16:32.738Z"
   },
   {
    "duration": 5,
    "start_time": "2022-04-03T20:16:33.506Z"
   },
   {
    "duration": 23,
    "start_time": "2022-04-03T20:16:36.223Z"
   },
   {
    "duration": 116,
    "start_time": "2022-04-03T20:16:37.102Z"
   },
   {
    "duration": 1126,
    "start_time": "2022-04-03T20:17:24.468Z"
   },
   {
    "duration": 362,
    "start_time": "2022-04-03T20:17:25.596Z"
   },
   {
    "duration": 23,
    "start_time": "2022-04-03T20:17:25.960Z"
   },
   {
    "duration": 25,
    "start_time": "2022-04-03T20:17:25.985Z"
   },
   {
    "duration": 20,
    "start_time": "2022-04-03T20:17:26.012Z"
   },
   {
    "duration": 11,
    "start_time": "2022-04-03T20:17:26.033Z"
   },
   {
    "duration": 12,
    "start_time": "2022-04-03T20:17:26.045Z"
   },
   {
    "duration": 101,
    "start_time": "2022-04-03T20:17:26.058Z"
   },
   {
    "duration": 5,
    "start_time": "2022-04-03T20:17:26.160Z"
   },
   {
    "duration": 60,
    "start_time": "2022-04-03T20:17:26.167Z"
   },
   {
    "duration": 43,
    "start_time": "2022-04-03T20:17:26.229Z"
   },
   {
    "duration": 51,
    "start_time": "2022-04-03T20:17:26.273Z"
   },
   {
    "duration": 20,
    "start_time": "2022-04-03T20:17:26.326Z"
   },
   {
    "duration": 13,
    "start_time": "2022-04-03T20:17:26.348Z"
   },
   {
    "duration": 66,
    "start_time": "2022-04-03T20:17:26.363Z"
   },
   {
    "duration": 48,
    "start_time": "2022-04-03T20:17:26.431Z"
   },
   {
    "duration": 9,
    "start_time": "2022-04-03T20:17:26.481Z"
   },
   {
    "duration": 26,
    "start_time": "2022-04-03T20:17:26.491Z"
   },
   {
    "duration": 9,
    "start_time": "2022-04-03T20:17:26.519Z"
   },
   {
    "duration": 18,
    "start_time": "2022-04-03T20:17:26.530Z"
   },
   {
    "duration": 3,
    "start_time": "2022-04-03T20:17:26.550Z"
   },
   {
    "duration": 11,
    "start_time": "2022-04-03T20:17:26.555Z"
   },
   {
    "duration": 19,
    "start_time": "2022-04-03T20:17:26.567Z"
   },
   {
    "duration": 34,
    "start_time": "2022-04-03T20:17:26.588Z"
   },
   {
    "duration": 14,
    "start_time": "2022-04-03T20:17:26.624Z"
   },
   {
    "duration": 73,
    "start_time": "2022-04-03T20:17:26.640Z"
   },
   {
    "duration": 23,
    "start_time": "2022-04-03T20:17:26.715Z"
   },
   {
    "duration": 20,
    "start_time": "2022-04-03T20:17:26.742Z"
   },
   {
    "duration": 46,
    "start_time": "2022-04-03T20:17:26.764Z"
   },
   {
    "duration": 7,
    "start_time": "2022-04-03T20:17:26.811Z"
   },
   {
    "duration": 14,
    "start_time": "2022-04-03T20:17:26.819Z"
   },
   {
    "duration": 94,
    "start_time": "2022-04-03T20:17:26.835Z"
   },
   {
    "duration": 23,
    "start_time": "2022-04-03T20:17:26.930Z"
   },
   {
    "duration": 4,
    "start_time": "2022-04-03T20:17:26.955Z"
   },
   {
    "duration": 70,
    "start_time": "2022-04-03T20:17:26.960Z"
   },
   {
    "duration": 7,
    "start_time": "2022-04-03T20:17:27.032Z"
   },
   {
    "duration": 22,
    "start_time": "2022-04-03T20:17:27.040Z"
   },
   {
    "duration": 19,
    "start_time": "2022-04-03T20:17:27.063Z"
   },
   {
    "duration": 36,
    "start_time": "2022-04-03T20:17:27.084Z"
   },
   {
    "duration": 5,
    "start_time": "2022-04-03T20:17:27.122Z"
   },
   {
    "duration": 18,
    "start_time": "2022-04-03T20:17:27.128Z"
   },
   {
    "duration": 6,
    "start_time": "2022-04-03T20:17:27.148Z"
   },
   {
    "duration": 265,
    "start_time": "2022-04-03T20:17:27.155Z"
   },
   {
    "duration": 13,
    "start_time": "2022-04-03T20:17:27.421Z"
   },
   {
    "duration": 7,
    "start_time": "2022-04-03T20:17:27.436Z"
   },
   {
    "duration": 11,
    "start_time": "2022-04-03T20:17:27.445Z"
   },
   {
    "duration": 8,
    "start_time": "2022-04-03T20:17:27.458Z"
   },
   {
    "duration": 251,
    "start_time": "2022-04-03T20:17:27.467Z"
   },
   {
    "duration": 12,
    "start_time": "2022-04-03T20:17:27.720Z"
   },
   {
    "duration": 7,
    "start_time": "2022-04-03T20:17:27.733Z"
   },
   {
    "duration": 12,
    "start_time": "2022-04-03T20:17:27.741Z"
   },
   {
    "duration": 6,
    "start_time": "2022-04-03T20:17:27.755Z"
   },
   {
    "duration": 295,
    "start_time": "2022-04-03T20:17:27.763Z"
   },
   {
    "duration": 5,
    "start_time": "2022-04-03T20:17:28.060Z"
   },
   {
    "duration": 6,
    "start_time": "2022-04-03T20:17:28.067Z"
   },
   {
    "duration": 7,
    "start_time": "2022-04-03T20:17:28.074Z"
   },
   {
    "duration": 27,
    "start_time": "2022-04-03T20:17:28.083Z"
   },
   {
    "duration": 5,
    "start_time": "2022-04-03T20:17:28.112Z"
   },
   {
    "duration": 9,
    "start_time": "2022-04-03T20:17:28.119Z"
   },
   {
    "duration": 111,
    "start_time": "2022-04-03T20:17:28.129Z"
   },
   {
    "duration": 138,
    "start_time": "2022-04-03T20:17:28.241Z"
   },
   {
    "duration": 70,
    "start_time": "2022-04-04T02:03:46.963Z"
   },
   {
    "duration": 1481,
    "start_time": "2022-04-04T02:03:51.286Z"
   },
   {
    "duration": 475,
    "start_time": "2022-04-04T02:03:52.771Z"
   },
   {
    "duration": 34,
    "start_time": "2022-04-04T02:03:53.248Z"
   },
   {
    "duration": 35,
    "start_time": "2022-04-04T02:03:53.285Z"
   },
   {
    "duration": 55,
    "start_time": "2022-04-04T02:03:53.325Z"
   },
   {
    "duration": 16,
    "start_time": "2022-04-04T02:03:53.382Z"
   },
   {
    "duration": 17,
    "start_time": "2022-04-04T02:03:53.400Z"
   },
   {
    "duration": 144,
    "start_time": "2022-04-04T02:03:53.419Z"
   },
   {
    "duration": 6,
    "start_time": "2022-04-04T02:03:53.566Z"
   },
   {
    "duration": 71,
    "start_time": "2022-04-04T02:03:53.574Z"
   },
   {
    "duration": 72,
    "start_time": "2022-04-04T02:03:53.647Z"
   },
   {
    "duration": 61,
    "start_time": "2022-04-04T02:03:53.721Z"
   },
   {
    "duration": 25,
    "start_time": "2022-04-04T02:03:53.784Z"
   },
   {
    "duration": 20,
    "start_time": "2022-04-04T02:03:53.814Z"
   },
   {
    "duration": 59,
    "start_time": "2022-04-04T02:03:53.868Z"
   },
   {
    "duration": 80,
    "start_time": "2022-04-04T02:03:53.930Z"
   },
   {
    "duration": 15,
    "start_time": "2022-04-04T02:03:54.012Z"
   },
   {
    "duration": 14,
    "start_time": "2022-04-04T02:03:54.030Z"
   },
   {
    "duration": 15,
    "start_time": "2022-04-04T02:03:54.068Z"
   },
   {
    "duration": 27,
    "start_time": "2022-04-04T02:03:54.086Z"
   },
   {
    "duration": 6,
    "start_time": "2022-04-04T02:03:54.115Z"
   },
   {
    "duration": 46,
    "start_time": "2022-04-04T02:03:54.123Z"
   },
   {
    "duration": 16,
    "start_time": "2022-04-04T02:03:54.172Z"
   },
   {
    "duration": 26,
    "start_time": "2022-04-04T02:03:54.191Z"
   },
   {
    "duration": 62,
    "start_time": "2022-04-04T02:03:54.219Z"
   },
   {
    "duration": 95,
    "start_time": "2022-04-04T02:03:54.284Z"
   },
   {
    "duration": 36,
    "start_time": "2022-04-04T02:03:54.381Z"
   },
   {
    "duration": 60,
    "start_time": "2022-04-04T02:03:54.419Z"
   },
   {
    "duration": 36,
    "start_time": "2022-04-04T02:03:54.481Z"
   },
   {
    "duration": 11,
    "start_time": "2022-04-04T02:03:54.520Z"
   },
   {
    "duration": 87,
    "start_time": "2022-04-04T02:03:54.533Z"
   },
   {
    "duration": 24,
    "start_time": "2022-04-04T02:03:54.623Z"
   },
   {
    "duration": 159,
    "start_time": "2022-04-04T02:03:54.649Z"
   },
   {
    "duration": 36,
    "start_time": "2022-04-04T02:03:54.810Z"
   },
   {
    "duration": 19,
    "start_time": "2022-04-04T02:03:54.848Z"
   },
   {
    "duration": 83,
    "start_time": "2022-04-04T02:03:54.869Z"
   },
   {
    "duration": 21,
    "start_time": "2022-04-04T02:03:54.954Z"
   },
   {
    "duration": 35,
    "start_time": "2022-04-04T02:03:54.977Z"
   },
   {
    "duration": 58,
    "start_time": "2022-04-04T02:03:55.014Z"
   },
   {
    "duration": 24,
    "start_time": "2022-04-04T02:03:55.074Z"
   },
   {
    "duration": 8,
    "start_time": "2022-04-04T02:03:55.105Z"
   },
   {
    "duration": 53,
    "start_time": "2022-04-04T02:03:55.115Z"
   },
   {
    "duration": 8,
    "start_time": "2022-04-04T02:03:55.171Z"
   },
   {
    "duration": 381,
    "start_time": "2022-04-04T02:03:55.181Z"
   },
   {
    "duration": 18,
    "start_time": "2022-04-04T02:03:55.567Z"
   },
   {
    "duration": 8,
    "start_time": "2022-04-04T02:03:55.588Z"
   },
   {
    "duration": 19,
    "start_time": "2022-04-04T02:03:55.598Z"
   },
   {
    "duration": 9,
    "start_time": "2022-04-04T02:03:55.621Z"
   },
   {
    "duration": 348,
    "start_time": "2022-04-04T02:03:55.667Z"
   },
   {
    "duration": 18,
    "start_time": "2022-04-04T02:03:56.017Z"
   },
   {
    "duration": 8,
    "start_time": "2022-04-04T02:03:56.038Z"
   },
   {
    "duration": 22,
    "start_time": "2022-04-04T02:03:56.068Z"
   },
   {
    "duration": 8,
    "start_time": "2022-04-04T02:03:56.092Z"
   },
   {
    "duration": 443,
    "start_time": "2022-04-04T02:03:56.103Z"
   },
   {
    "duration": 20,
    "start_time": "2022-04-04T02:03:56.548Z"
   },
   {
    "duration": 15,
    "start_time": "2022-04-04T02:03:56.571Z"
   },
   {
    "duration": 20,
    "start_time": "2022-04-04T02:03:56.588Z"
   },
   {
    "duration": 12,
    "start_time": "2022-04-04T02:03:56.610Z"
   },
   {
    "duration": 12,
    "start_time": "2022-04-04T02:03:56.624Z"
   },
   {
    "duration": 30,
    "start_time": "2022-04-04T02:03:56.639Z"
   },
   {
    "duration": 41,
    "start_time": "2022-04-04T02:03:56.672Z"
   },
   {
    "duration": 298,
    "start_time": "2022-04-04T02:03:56.716Z"
   },
   {
    "duration": 12,
    "start_time": "2022-04-04T02:07:19.492Z"
   },
   {
    "duration": 1820,
    "start_time": "2022-04-04T07:45:56.027Z"
   },
   {
    "duration": 519,
    "start_time": "2022-04-04T07:45:57.850Z"
   },
   {
    "duration": 38,
    "start_time": "2022-04-04T07:45:58.373Z"
   },
   {
    "duration": 59,
    "start_time": "2022-04-04T07:45:58.414Z"
   },
   {
    "duration": 29,
    "start_time": "2022-04-04T07:45:58.477Z"
   },
   {
    "duration": 17,
    "start_time": "2022-04-04T07:45:58.508Z"
   },
   {
    "duration": 56,
    "start_time": "2022-04-04T07:45:58.527Z"
   },
   {
    "duration": 134,
    "start_time": "2022-04-04T07:45:58.586Z"
   },
   {
    "duration": 5,
    "start_time": "2022-04-04T07:45:58.723Z"
   },
   {
    "duration": 90,
    "start_time": "2022-04-04T07:45:58.732Z"
   },
   {
    "duration": 73,
    "start_time": "2022-04-04T07:45:58.825Z"
   },
   {
    "duration": 41,
    "start_time": "2022-04-04T07:45:58.901Z"
   },
   {
    "duration": 52,
    "start_time": "2022-04-04T07:45:58.944Z"
   },
   {
    "duration": 23,
    "start_time": "2022-04-04T07:45:58.999Z"
   },
   {
    "duration": 113,
    "start_time": "2022-04-04T07:45:59.024Z"
   },
   {
    "duration": 15,
    "start_time": "2022-04-04T07:45:59.139Z"
   },
   {
    "duration": 24,
    "start_time": "2022-04-04T07:45:59.156Z"
   },
   {
    "duration": 22,
    "start_time": "2022-04-04T07:45:59.182Z"
   },
   {
    "duration": 71,
    "start_time": "2022-04-04T07:45:59.208Z"
   },
   {
    "duration": 6,
    "start_time": "2022-04-04T07:45:59.283Z"
   },
   {
    "duration": 13,
    "start_time": "2022-04-04T07:45:59.292Z"
   },
   {
    "duration": 26,
    "start_time": "2022-04-04T07:45:59.308Z"
   },
   {
    "duration": 39,
    "start_time": "2022-04-04T07:45:59.369Z"
   },
   {
    "duration": 58,
    "start_time": "2022-04-04T07:45:59.411Z"
   },
   {
    "duration": 155,
    "start_time": "2022-04-04T07:45:59.471Z"
   },
   {
    "duration": 65,
    "start_time": "2022-04-04T07:45:59.629Z"
   },
   {
    "duration": 43,
    "start_time": "2022-04-04T07:45:59.697Z"
   },
   {
    "duration": 41,
    "start_time": "2022-04-04T07:45:59.767Z"
   },
   {
    "duration": 9,
    "start_time": "2022-04-04T07:45:59.811Z"
   },
   {
    "duration": 44,
    "start_time": "2022-04-04T07:45:59.823Z"
   },
   {
    "duration": 143,
    "start_time": "2022-04-04T07:45:59.870Z"
   },
   {
    "duration": 53,
    "start_time": "2022-04-04T07:46:00.015Z"
   },
   {
    "duration": 6,
    "start_time": "2022-04-04T07:46:00.071Z"
   },
   {
    "duration": 101,
    "start_time": "2022-04-04T07:46:00.080Z"
   },
   {
    "duration": 11,
    "start_time": "2022-04-04T07:46:00.184Z"
   },
   {
    "duration": 59,
    "start_time": "2022-04-04T07:46:00.198Z"
   },
   {
    "duration": 38,
    "start_time": "2022-04-04T07:46:00.259Z"
   },
   {
    "duration": 25,
    "start_time": "2022-04-04T07:46:00.300Z"
   },
   {
    "duration": 57,
    "start_time": "2022-04-04T07:46:00.328Z"
   },
   {
    "duration": 48,
    "start_time": "2022-04-04T07:46:00.388Z"
   },
   {
    "duration": 9,
    "start_time": "2022-04-04T07:46:00.439Z"
   },
   {
    "duration": 424,
    "start_time": "2022-04-04T07:46:00.451Z"
   },
   {
    "duration": 18,
    "start_time": "2022-04-04T07:46:00.879Z"
   },
   {
    "duration": 57,
    "start_time": "2022-04-04T07:46:00.900Z"
   },
   {
    "duration": 80,
    "start_time": "2022-04-04T07:46:00.959Z"
   },
   {
    "duration": 40,
    "start_time": "2022-04-04T07:46:01.042Z"
   },
   {
    "duration": 558,
    "start_time": "2022-04-04T07:46:01.086Z"
   },
   {
    "duration": 28,
    "start_time": "2022-04-04T07:46:01.646Z"
   },
   {
    "duration": 48,
    "start_time": "2022-04-04T07:46:01.677Z"
   },
   {
    "duration": 61,
    "start_time": "2022-04-04T07:46:01.728Z"
   },
   {
    "duration": 25,
    "start_time": "2022-04-04T07:46:01.792Z"
   },
   {
    "duration": 720,
    "start_time": "2022-04-04T07:46:01.820Z"
   },
   {
    "duration": 10,
    "start_time": "2022-04-04T07:46:02.543Z"
   },
   {
    "duration": 9,
    "start_time": "2022-04-04T07:46:02.570Z"
   },
   {
    "duration": 29,
    "start_time": "2022-04-04T07:46:02.582Z"
   },
   {
    "duration": 12,
    "start_time": "2022-04-04T07:46:02.614Z"
   },
   {
    "duration": 22,
    "start_time": "2022-04-04T07:46:02.629Z"
   },
   {
    "duration": 21,
    "start_time": "2022-04-04T07:46:02.653Z"
   },
   {
    "duration": 143,
    "start_time": "2022-04-04T07:46:02.676Z"
   },
   {
    "duration": 209,
    "start_time": "2022-04-04T07:46:02.821Z"
   },
   {
    "duration": 2140,
    "start_time": "2022-04-04T07:47:46.992Z"
   },
   {
    "duration": 723,
    "start_time": "2022-04-04T07:47:49.136Z"
   },
   {
    "duration": 36,
    "start_time": "2022-04-04T07:47:49.861Z"
   },
   {
    "duration": 35,
    "start_time": "2022-04-04T07:47:49.900Z"
   },
   {
    "duration": 49,
    "start_time": "2022-04-04T07:47:49.937Z"
   },
   {
    "duration": 16,
    "start_time": "2022-04-04T07:47:49.989Z"
   },
   {
    "duration": 19,
    "start_time": "2022-04-04T07:47:50.007Z"
   },
   {
    "duration": 158,
    "start_time": "2022-04-04T07:47:50.028Z"
   },
   {
    "duration": 7,
    "start_time": "2022-04-04T07:47:50.189Z"
   },
   {
    "duration": 91,
    "start_time": "2022-04-04T07:47:50.202Z"
   },
   {
    "duration": 72,
    "start_time": "2022-04-04T07:47:50.295Z"
   },
   {
    "duration": 46,
    "start_time": "2022-04-04T07:47:50.369Z"
   },
   {
    "duration": 56,
    "start_time": "2022-04-04T07:47:50.417Z"
   },
   {
    "duration": 21,
    "start_time": "2022-04-04T07:47:50.476Z"
   },
   {
    "duration": 91,
    "start_time": "2022-04-04T07:47:50.500Z"
   },
   {
    "duration": 16,
    "start_time": "2022-04-04T07:47:50.593Z"
   },
   {
    "duration": 18,
    "start_time": "2022-04-04T07:47:50.611Z"
   },
   {
    "duration": 46,
    "start_time": "2022-04-04T07:47:50.631Z"
   },
   {
    "duration": 28,
    "start_time": "2022-04-04T07:47:50.680Z"
   },
   {
    "duration": 6,
    "start_time": "2022-04-04T07:47:50.711Z"
   },
   {
    "duration": 50,
    "start_time": "2022-04-04T07:47:50.720Z"
   },
   {
    "duration": 23,
    "start_time": "2022-04-04T07:47:50.773Z"
   },
   {
    "duration": 26,
    "start_time": "2022-04-04T07:47:50.798Z"
   },
   {
    "duration": 60,
    "start_time": "2022-04-04T07:47:50.826Z"
   },
   {
    "duration": 100,
    "start_time": "2022-04-04T07:47:50.888Z"
   },
   {
    "duration": 37,
    "start_time": "2022-04-04T07:47:50.990Z"
   },
   {
    "duration": 51,
    "start_time": "2022-04-04T07:47:51.030Z"
   },
   {
    "duration": 30,
    "start_time": "2022-04-04T07:47:51.087Z"
   },
   {
    "duration": 9,
    "start_time": "2022-04-04T07:47:51.119Z"
   },
   {
    "duration": 51,
    "start_time": "2022-04-04T07:47:51.130Z"
   },
   {
    "duration": 148,
    "start_time": "2022-04-04T07:47:51.183Z"
   },
   {
    "duration": 45,
    "start_time": "2022-04-04T07:47:51.333Z"
   },
   {
    "duration": 6,
    "start_time": "2022-04-04T07:47:51.381Z"
   },
   {
    "duration": 107,
    "start_time": "2022-04-04T07:47:51.390Z"
   },
   {
    "duration": 11,
    "start_time": "2022-04-04T07:47:51.499Z"
   },
   {
    "duration": 55,
    "start_time": "2022-04-04T07:47:51.512Z"
   },
   {
    "duration": 32,
    "start_time": "2022-04-04T07:47:51.570Z"
   },
   {
    "duration": 28,
    "start_time": "2022-04-04T07:47:51.604Z"
   },
   {
    "duration": 35,
    "start_time": "2022-04-04T07:47:51.634Z"
   },
   {
    "duration": 24,
    "start_time": "2022-04-04T07:47:51.672Z"
   },
   {
    "duration": 8,
    "start_time": "2022-04-04T07:47:51.698Z"
   },
   {
    "duration": 398,
    "start_time": "2022-04-04T07:47:51.708Z"
   },
   {
    "duration": 19,
    "start_time": "2022-04-04T07:47:52.108Z"
   },
   {
    "duration": 12,
    "start_time": "2022-04-04T07:47:52.128Z"
   },
   {
    "duration": 38,
    "start_time": "2022-04-04T07:47:52.142Z"
   },
   {
    "duration": 8,
    "start_time": "2022-04-04T07:47:52.183Z"
   },
   {
    "duration": 359,
    "start_time": "2022-04-04T07:47:52.193Z"
   },
   {
    "duration": 22,
    "start_time": "2022-04-04T07:47:52.554Z"
   },
   {
    "duration": 9,
    "start_time": "2022-04-04T07:47:52.578Z"
   },
   {
    "duration": 21,
    "start_time": "2022-04-04T07:47:52.589Z"
   },
   {
    "duration": 19,
    "start_time": "2022-04-04T07:47:52.612Z"
   },
   {
    "duration": 450,
    "start_time": "2022-04-04T07:47:52.634Z"
   },
   {
    "duration": 8,
    "start_time": "2022-04-04T07:47:53.087Z"
   },
   {
    "duration": 11,
    "start_time": "2022-04-04T07:47:53.098Z"
   },
   {
    "duration": 11,
    "start_time": "2022-04-04T07:47:53.111Z"
   },
   {
    "duration": 47,
    "start_time": "2022-04-04T07:47:53.124Z"
   },
   {
    "duration": 7,
    "start_time": "2022-04-04T07:47:53.173Z"
   },
   {
    "duration": 7,
    "start_time": "2022-04-04T07:47:53.183Z"
   },
   {
    "duration": 81,
    "start_time": "2022-04-04T07:47:53.193Z"
   },
   {
    "duration": 305,
    "start_time": "2022-04-04T07:47:53.277Z"
   },
   {
    "duration": 1483,
    "start_time": "2022-04-04T07:56:42.884Z"
   },
   {
    "duration": 479,
    "start_time": "2022-04-04T07:56:44.370Z"
   },
   {
    "duration": 32,
    "start_time": "2022-04-04T07:56:44.852Z"
   },
   {
    "duration": 34,
    "start_time": "2022-04-04T07:56:44.887Z"
   },
   {
    "duration": 51,
    "start_time": "2022-04-04T07:56:44.923Z"
   },
   {
    "duration": 17,
    "start_time": "2022-04-04T07:56:44.976Z"
   },
   {
    "duration": 24,
    "start_time": "2022-04-04T07:56:44.996Z"
   },
   {
    "duration": 223,
    "start_time": "2022-04-04T07:56:45.023Z"
   },
   {
    "duration": 19,
    "start_time": "2022-04-04T07:56:45.249Z"
   },
   {
    "duration": 94,
    "start_time": "2022-04-04T07:56:45.274Z"
   },
   {
    "duration": 80,
    "start_time": "2022-04-04T07:56:45.371Z"
   },
   {
    "duration": 62,
    "start_time": "2022-04-04T07:56:45.467Z"
   },
   {
    "duration": 60,
    "start_time": "2022-04-04T07:56:45.532Z"
   },
   {
    "duration": 31,
    "start_time": "2022-04-04T07:56:45.595Z"
   },
   {
    "duration": 143,
    "start_time": "2022-04-04T07:56:45.629Z"
   },
   {
    "duration": 22,
    "start_time": "2022-04-04T07:56:45.775Z"
   },
   {
    "duration": 22,
    "start_time": "2022-04-04T07:56:45.800Z"
   },
   {
    "duration": 51,
    "start_time": "2022-04-04T07:56:45.825Z"
   },
   {
    "duration": 44,
    "start_time": "2022-04-04T07:56:45.880Z"
   },
   {
    "duration": 7,
    "start_time": "2022-04-04T07:56:45.927Z"
   },
   {
    "duration": 36,
    "start_time": "2022-04-04T07:56:45.937Z"
   },
   {
    "duration": 17,
    "start_time": "2022-04-04T07:56:45.975Z"
   },
   {
    "duration": 25,
    "start_time": "2022-04-04T07:56:45.994Z"
   },
   {
    "duration": 60,
    "start_time": "2022-04-04T07:56:46.022Z"
   },
   {
    "duration": 104,
    "start_time": "2022-04-04T07:56:46.084Z"
   },
   {
    "duration": 39,
    "start_time": "2022-04-04T07:56:46.190Z"
   },
   {
    "duration": 56,
    "start_time": "2022-04-04T07:56:46.231Z"
   },
   {
    "duration": 31,
    "start_time": "2022-04-04T07:56:46.295Z"
   },
   {
    "duration": 11,
    "start_time": "2022-04-04T07:56:46.329Z"
   },
   {
    "duration": 20,
    "start_time": "2022-04-04T07:56:46.369Z"
   },
   {
    "duration": 266,
    "start_time": "2022-04-04T07:56:46.392Z"
   },
   {
    "duration": 55,
    "start_time": "2022-04-04T07:56:46.661Z"
   },
   {
    "duration": 7,
    "start_time": "2022-04-04T07:56:46.719Z"
   },
   {
    "duration": 171,
    "start_time": "2022-04-04T07:56:46.728Z"
   },
   {
    "duration": 15,
    "start_time": "2022-04-04T07:56:46.902Z"
   },
   {
    "duration": 74,
    "start_time": "2022-04-04T07:56:46.920Z"
   },
   {
    "duration": 45,
    "start_time": "2022-04-04T07:56:46.998Z"
   },
   {
    "duration": 42,
    "start_time": "2022-04-04T07:56:47.046Z"
   },
   {
    "duration": 6,
    "start_time": "2022-04-04T07:56:47.091Z"
   },
   {
    "duration": 25,
    "start_time": "2022-04-04T07:56:47.100Z"
   },
   {
    "duration": 44,
    "start_time": "2022-04-04T07:56:47.127Z"
   },
   {
    "duration": 379,
    "start_time": "2022-04-04T07:56:47.173Z"
   },
   {
    "duration": 22,
    "start_time": "2022-04-04T07:56:47.554Z"
   },
   {
    "duration": 10,
    "start_time": "2022-04-04T07:56:47.578Z"
   },
   {
    "duration": 19,
    "start_time": "2022-04-04T07:56:47.590Z"
   },
   {
    "duration": 7,
    "start_time": "2022-04-04T07:56:47.611Z"
   },
   {
    "duration": 394,
    "start_time": "2022-04-04T07:56:47.620Z"
   },
   {
    "duration": 19,
    "start_time": "2022-04-04T07:56:48.017Z"
   },
   {
    "duration": 33,
    "start_time": "2022-04-04T07:56:48.039Z"
   },
   {
    "duration": 17,
    "start_time": "2022-04-04T07:56:48.075Z"
   },
   {
    "duration": 9,
    "start_time": "2022-04-04T07:56:48.095Z"
   },
   {
    "duration": 711,
    "start_time": "2022-04-04T07:56:48.107Z"
   },
   {
    "duration": 8,
    "start_time": "2022-04-04T07:56:48.821Z"
   },
   {
    "duration": 9,
    "start_time": "2022-04-04T07:56:48.832Z"
   },
   {
    "duration": 30,
    "start_time": "2022-04-04T07:56:48.843Z"
   },
   {
    "duration": 9,
    "start_time": "2022-04-04T07:56:48.875Z"
   },
   {
    "duration": 7,
    "start_time": "2022-04-04T07:56:48.886Z"
   },
   {
    "duration": 8,
    "start_time": "2022-04-04T07:56:48.895Z"
   },
   {
    "duration": 158,
    "start_time": "2022-04-04T07:56:48.905Z"
   },
   {
    "duration": 218,
    "start_time": "2022-04-04T07:56:49.065Z"
   }
  ],
  "kernelspec": {
   "display_name": "Python 3 (ipykernel)",
   "language": "python",
   "name": "python3"
  },
  "language_info": {
   "codemirror_mode": {
    "name": "ipython",
    "version": 3
   },
   "file_extension": ".py",
   "mimetype": "text/x-python",
   "name": "python",
   "nbconvert_exporter": "python",
   "pygments_lexer": "ipython3",
   "version": "3.9.5"
  },
  "toc": {
   "base_numbering": 1,
   "nav_menu": {
    "height": "263px",
    "width": "335px"
   },
   "number_sections": true,
   "sideBar": true,
   "skip_h1_title": true,
   "title_cell": "Содержание:",
   "title_sidebar": "Contents",
   "toc_cell": true,
   "toc_position": {
    "height": "calc(100% - 180px)",
    "left": "10px",
    "top": "150px",
    "width": "270.625px"
   },
   "toc_section_display": true,
   "toc_window_display": true
  }
 },
 "nbformat": 4,
 "nbformat_minor": 2
}
