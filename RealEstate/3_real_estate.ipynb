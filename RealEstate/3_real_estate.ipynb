{
 "cells": [
  {
   "cell_type": "markdown",
   "metadata": {},
   "source": [
    "# Исследование объявлений о продаже квартир\n",
    "\n",
    "В вашем распоряжении данные сервиса Яндекc Недвижимость — архив объявлений о продаже квартир в Санкт-Петербурге и соседних населённых пунктах за несколько лет. Нужно научиться определять рыночную стоимость объектов недвижимости. Ваша задача — установить параметры. Это позволит построить автоматизированную систему: она отследит аномалии и мошенническую деятельность. \n",
    "\n",
    "По каждой квартире на продажу доступны два вида данных. Первые вписаны пользователем, вторые получены автоматически на основе картографических данных. Например, расстояние до центра, аэропорта, ближайшего парка и водоёма. "
   ]
  },
  {
   "cell_type": "markdown",
   "metadata": {},
   "source": [
    "## Изучение данных из файла"
   ]
  },
  {
   "cell_type": "markdown",
   "metadata": {},
   "source": [
    "Описание данных:\n",
    " - airports_nearest — расстояние до ближайшего аэропорта в метрах (м)\n",
    " - balcony — число балконов\n",
    " - ceiling_height — высота потолков (м)\n",
    " - cityCenters_nearest — расстояние до центра города (м)\n",
    " - days_exposition — сколько дней было размещено объявление (от публикации до снятия)\n",
    " - first_day_exposition — дата публикации\n",
    " - floor — этаж\n",
    " - floors_total — всего этажей в доме\n",
    " - is_apartment — апартаменты (булев тип)\n",
    " - kitchen_area — площадь кухни в квадратных метрах (м²)\n",
    " - last_price — цена на момент снятия с публикации\n",
    " - living_area — жилая площадь в квадратных метрах (м²)\n",
    " - locality_name — название населённого пункта\n",
    " - open_plan — свободная планировка (булев тип)\n",
    " - parks_around3000 — число парков в радиусе 3 км\n",
    " - parks_nearest — расстояние до ближайшего парка (м)\n",
    " - ponds_around3000 — число водоёмов в радиусе 3 км\n",
    " - ponds_nearest — расстояние до ближайшего водоёма (м)\n",
    " - rooms — число комнат\n",
    " - studio — квартира-студия (булев тип)\n",
    " - total_area — площадь квартиры в квадратных метрах (м²)\n",
    " - total_images — число фотографий квартиры в объявлении"
   ]
  },
  {
   "cell_type": "markdown",
   "metadata": {},
   "source": [
    "Посмотрим: \"шапку\" таблицы и первые 10 записей, параметры переменных, стат. характеристики, пропуски."
   ]
  },
  {
   "cell_type": "code",
   "execution_count": 1,
   "metadata": {},
   "outputs": [
    {
     "name": "stdout",
     "output_type": "stream",
     "text": [
      "<class 'pandas.core.frame.DataFrame'>\n",
      "RangeIndex: 23699 entries, 0 to 23698\n",
      "Data columns (total 22 columns):\n",
      " #   Column                Non-Null Count  Dtype  \n",
      "---  ------                --------------  -----  \n",
      " 0   total_images          23699 non-null  int64  \n",
      " 1   last_price            23699 non-null  float64\n",
      " 2   total_area            23699 non-null  float64\n",
      " 3   first_day_exposition  23699 non-null  object \n",
      " 4   rooms                 23699 non-null  int64  \n",
      " 5   ceiling_height        14504 non-null  float64\n",
      " 6   floors_total          23613 non-null  float64\n",
      " 7   living_area           21796 non-null  float64\n",
      " 8   floor                 23699 non-null  int64  \n",
      " 9   is_apartment          2775 non-null   object \n",
      " 10  studio                23699 non-null  bool   \n",
      " 11  open_plan             23699 non-null  bool   \n",
      " 12  kitchen_area          21421 non-null  float64\n",
      " 13  balcony               12180 non-null  float64\n",
      " 14  locality_name         23650 non-null  object \n",
      " 15  airports_nearest      18157 non-null  float64\n",
      " 16  cityCenters_nearest   18180 non-null  float64\n",
      " 17  parks_around3000      18181 non-null  float64\n",
      " 18  parks_nearest         8079 non-null   float64\n",
      " 19  ponds_around3000      18181 non-null  float64\n",
      " 20  ponds_nearest         9110 non-null   float64\n",
      " 21  days_exposition       20518 non-null  float64\n",
      "dtypes: bool(2), float64(14), int64(3), object(3)\n",
      "memory usage: 3.7+ MB\n"
     ]
    },
    {
     "data": {
      "text/html": [
       "<div>\n",
       "<style scoped>\n",
       "    .dataframe tbody tr th:only-of-type {\n",
       "        vertical-align: middle;\n",
       "    }\n",
       "\n",
       "    .dataframe tbody tr th {\n",
       "        vertical-align: top;\n",
       "    }\n",
       "\n",
       "    .dataframe thead th {\n",
       "        text-align: right;\n",
       "    }\n",
       "</style>\n",
       "<table border=\"1\" class=\"dataframe\">\n",
       "  <thead>\n",
       "    <tr style=\"text-align: right;\">\n",
       "      <th></th>\n",
       "      <th>total_images</th>\n",
       "      <th>last_price</th>\n",
       "      <th>total_area</th>\n",
       "      <th>rooms</th>\n",
       "      <th>ceiling_height</th>\n",
       "      <th>floors_total</th>\n",
       "      <th>living_area</th>\n",
       "      <th>floor</th>\n",
       "      <th>kitchen_area</th>\n",
       "      <th>balcony</th>\n",
       "      <th>airports_nearest</th>\n",
       "      <th>cityCenters_nearest</th>\n",
       "      <th>parks_around3000</th>\n",
       "      <th>parks_nearest</th>\n",
       "      <th>ponds_around3000</th>\n",
       "      <th>ponds_nearest</th>\n",
       "      <th>days_exposition</th>\n",
       "    </tr>\n",
       "  </thead>\n",
       "  <tbody>\n",
       "    <tr>\n",
       "      <th>count</th>\n",
       "      <td>23699.000000</td>\n",
       "      <td>2.369900e+04</td>\n",
       "      <td>23699.000000</td>\n",
       "      <td>23699.000000</td>\n",
       "      <td>14504.000000</td>\n",
       "      <td>23613.000000</td>\n",
       "      <td>21796.000000</td>\n",
       "      <td>23699.000000</td>\n",
       "      <td>21421.000000</td>\n",
       "      <td>12180.000000</td>\n",
       "      <td>18157.000000</td>\n",
       "      <td>18180.000000</td>\n",
       "      <td>18181.000000</td>\n",
       "      <td>8079.000000</td>\n",
       "      <td>18181.000000</td>\n",
       "      <td>9110.000000</td>\n",
       "      <td>20518.000000</td>\n",
       "    </tr>\n",
       "    <tr>\n",
       "      <th>mean</th>\n",
       "      <td>9.858475</td>\n",
       "      <td>6.541549e+06</td>\n",
       "      <td>60.348651</td>\n",
       "      <td>2.070636</td>\n",
       "      <td>2.771499</td>\n",
       "      <td>10.673824</td>\n",
       "      <td>34.457852</td>\n",
       "      <td>5.892358</td>\n",
       "      <td>10.569807</td>\n",
       "      <td>1.150082</td>\n",
       "      <td>28793.672193</td>\n",
       "      <td>14191.277833</td>\n",
       "      <td>0.611408</td>\n",
       "      <td>490.804555</td>\n",
       "      <td>0.770255</td>\n",
       "      <td>517.980900</td>\n",
       "      <td>180.888634</td>\n",
       "    </tr>\n",
       "    <tr>\n",
       "      <th>std</th>\n",
       "      <td>5.682529</td>\n",
       "      <td>1.088701e+07</td>\n",
       "      <td>35.654083</td>\n",
       "      <td>1.078405</td>\n",
       "      <td>1.261056</td>\n",
       "      <td>6.597173</td>\n",
       "      <td>22.030445</td>\n",
       "      <td>4.885249</td>\n",
       "      <td>5.905438</td>\n",
       "      <td>1.071300</td>\n",
       "      <td>12630.880622</td>\n",
       "      <td>8608.386210</td>\n",
       "      <td>0.802074</td>\n",
       "      <td>342.317995</td>\n",
       "      <td>0.938346</td>\n",
       "      <td>277.720643</td>\n",
       "      <td>219.727988</td>\n",
       "    </tr>\n",
       "    <tr>\n",
       "      <th>min</th>\n",
       "      <td>0.000000</td>\n",
       "      <td>1.219000e+04</td>\n",
       "      <td>12.000000</td>\n",
       "      <td>0.000000</td>\n",
       "      <td>1.000000</td>\n",
       "      <td>1.000000</td>\n",
       "      <td>2.000000</td>\n",
       "      <td>1.000000</td>\n",
       "      <td>1.300000</td>\n",
       "      <td>0.000000</td>\n",
       "      <td>0.000000</td>\n",
       "      <td>181.000000</td>\n",
       "      <td>0.000000</td>\n",
       "      <td>1.000000</td>\n",
       "      <td>0.000000</td>\n",
       "      <td>13.000000</td>\n",
       "      <td>1.000000</td>\n",
       "    </tr>\n",
       "    <tr>\n",
       "      <th>25%</th>\n",
       "      <td>6.000000</td>\n",
       "      <td>3.400000e+06</td>\n",
       "      <td>40.000000</td>\n",
       "      <td>1.000000</td>\n",
       "      <td>2.520000</td>\n",
       "      <td>5.000000</td>\n",
       "      <td>18.600000</td>\n",
       "      <td>2.000000</td>\n",
       "      <td>7.000000</td>\n",
       "      <td>0.000000</td>\n",
       "      <td>18585.000000</td>\n",
       "      <td>9238.000000</td>\n",
       "      <td>0.000000</td>\n",
       "      <td>288.000000</td>\n",
       "      <td>0.000000</td>\n",
       "      <td>294.000000</td>\n",
       "      <td>45.000000</td>\n",
       "    </tr>\n",
       "    <tr>\n",
       "      <th>50%</th>\n",
       "      <td>9.000000</td>\n",
       "      <td>4.650000e+06</td>\n",
       "      <td>52.000000</td>\n",
       "      <td>2.000000</td>\n",
       "      <td>2.650000</td>\n",
       "      <td>9.000000</td>\n",
       "      <td>30.000000</td>\n",
       "      <td>4.000000</td>\n",
       "      <td>9.100000</td>\n",
       "      <td>1.000000</td>\n",
       "      <td>26726.000000</td>\n",
       "      <td>13098.500000</td>\n",
       "      <td>0.000000</td>\n",
       "      <td>455.000000</td>\n",
       "      <td>1.000000</td>\n",
       "      <td>502.000000</td>\n",
       "      <td>95.000000</td>\n",
       "    </tr>\n",
       "    <tr>\n",
       "      <th>75%</th>\n",
       "      <td>14.000000</td>\n",
       "      <td>6.800000e+06</td>\n",
       "      <td>69.900000</td>\n",
       "      <td>3.000000</td>\n",
       "      <td>2.800000</td>\n",
       "      <td>16.000000</td>\n",
       "      <td>42.300000</td>\n",
       "      <td>8.000000</td>\n",
       "      <td>12.000000</td>\n",
       "      <td>2.000000</td>\n",
       "      <td>37273.000000</td>\n",
       "      <td>16293.000000</td>\n",
       "      <td>1.000000</td>\n",
       "      <td>612.000000</td>\n",
       "      <td>1.000000</td>\n",
       "      <td>729.000000</td>\n",
       "      <td>232.000000</td>\n",
       "    </tr>\n",
       "    <tr>\n",
       "      <th>max</th>\n",
       "      <td>50.000000</td>\n",
       "      <td>7.630000e+08</td>\n",
       "      <td>900.000000</td>\n",
       "      <td>19.000000</td>\n",
       "      <td>100.000000</td>\n",
       "      <td>60.000000</td>\n",
       "      <td>409.700000</td>\n",
       "      <td>33.000000</td>\n",
       "      <td>112.000000</td>\n",
       "      <td>5.000000</td>\n",
       "      <td>84869.000000</td>\n",
       "      <td>65968.000000</td>\n",
       "      <td>3.000000</td>\n",
       "      <td>3190.000000</td>\n",
       "      <td>3.000000</td>\n",
       "      <td>1344.000000</td>\n",
       "      <td>1580.000000</td>\n",
       "    </tr>\n",
       "  </tbody>\n",
       "</table>\n",
       "</div>"
      ],
      "text/plain": [
       "       total_images    last_price    total_area         rooms  ceiling_height  \\\n",
       "count  23699.000000  2.369900e+04  23699.000000  23699.000000    14504.000000   \n",
       "mean       9.858475  6.541549e+06     60.348651      2.070636        2.771499   \n",
       "std        5.682529  1.088701e+07     35.654083      1.078405        1.261056   \n",
       "min        0.000000  1.219000e+04     12.000000      0.000000        1.000000   \n",
       "25%        6.000000  3.400000e+06     40.000000      1.000000        2.520000   \n",
       "50%        9.000000  4.650000e+06     52.000000      2.000000        2.650000   \n",
       "75%       14.000000  6.800000e+06     69.900000      3.000000        2.800000   \n",
       "max       50.000000  7.630000e+08    900.000000     19.000000      100.000000   \n",
       "\n",
       "       floors_total   living_area         floor  kitchen_area       balcony  \\\n",
       "count  23613.000000  21796.000000  23699.000000  21421.000000  12180.000000   \n",
       "mean      10.673824     34.457852      5.892358     10.569807      1.150082   \n",
       "std        6.597173     22.030445      4.885249      5.905438      1.071300   \n",
       "min        1.000000      2.000000      1.000000      1.300000      0.000000   \n",
       "25%        5.000000     18.600000      2.000000      7.000000      0.000000   \n",
       "50%        9.000000     30.000000      4.000000      9.100000      1.000000   \n",
       "75%       16.000000     42.300000      8.000000     12.000000      2.000000   \n",
       "max       60.000000    409.700000     33.000000    112.000000      5.000000   \n",
       "\n",
       "       airports_nearest  cityCenters_nearest  parks_around3000  parks_nearest  \\\n",
       "count      18157.000000         18180.000000      18181.000000    8079.000000   \n",
       "mean       28793.672193         14191.277833          0.611408     490.804555   \n",
       "std        12630.880622          8608.386210          0.802074     342.317995   \n",
       "min            0.000000           181.000000          0.000000       1.000000   \n",
       "25%        18585.000000          9238.000000          0.000000     288.000000   \n",
       "50%        26726.000000         13098.500000          0.000000     455.000000   \n",
       "75%        37273.000000         16293.000000          1.000000     612.000000   \n",
       "max        84869.000000         65968.000000          3.000000    3190.000000   \n",
       "\n",
       "       ponds_around3000  ponds_nearest  days_exposition  \n",
       "count      18181.000000    9110.000000     20518.000000  \n",
       "mean           0.770255     517.980900       180.888634  \n",
       "std            0.938346     277.720643       219.727988  \n",
       "min            0.000000      13.000000         1.000000  \n",
       "25%            0.000000     294.000000        45.000000  \n",
       "50%            1.000000     502.000000        95.000000  \n",
       "75%            1.000000     729.000000       232.000000  \n",
       "max            3.000000    1344.000000      1580.000000  "
      ]
     },
     "execution_count": 1,
     "metadata": {},
     "output_type": "execute_result"
    }
   ],
   "source": [
    "# импорт библиотек\n",
    "import pandas as pd\n",
    "from IPython.display import display\n",
    "import matplotlib.pyplot as plt\n",
    "import seaborn as sns\n",
    "import numpy as nu\n",
    "# загрузка данных\n",
    "data = pd.read_csv('/datasets/real_estate_data.csv', sep='\\t')\n",
    "\n",
    "# просмотр информации о данных\n",
    "data.info()\n",
    "\n",
    "# просмотр статистических характеристик\n",
    "data.describe()\n"
   ]
  },
  {
   "cell_type": "code",
   "execution_count": 2,
   "metadata": {
    "scrolled": false
   },
   "outputs": [
    {
     "data": {
      "text/html": [
       "<div>\n",
       "<style scoped>\n",
       "    .dataframe tbody tr th:only-of-type {\n",
       "        vertical-align: middle;\n",
       "    }\n",
       "\n",
       "    .dataframe tbody tr th {\n",
       "        vertical-align: top;\n",
       "    }\n",
       "\n",
       "    .dataframe thead th {\n",
       "        text-align: right;\n",
       "    }\n",
       "</style>\n",
       "<table border=\"1\" class=\"dataframe\">\n",
       "  <thead>\n",
       "    <tr style=\"text-align: right;\">\n",
       "      <th></th>\n",
       "      <th>total_images</th>\n",
       "      <th>last_price</th>\n",
       "      <th>total_area</th>\n",
       "      <th>first_day_exposition</th>\n",
       "      <th>rooms</th>\n",
       "      <th>ceiling_height</th>\n",
       "      <th>floors_total</th>\n",
       "      <th>living_area</th>\n",
       "      <th>floor</th>\n",
       "      <th>is_apartment</th>\n",
       "      <th>...</th>\n",
       "      <th>kitchen_area</th>\n",
       "      <th>balcony</th>\n",
       "      <th>locality_name</th>\n",
       "      <th>airports_nearest</th>\n",
       "      <th>cityCenters_nearest</th>\n",
       "      <th>parks_around3000</th>\n",
       "      <th>parks_nearest</th>\n",
       "      <th>ponds_around3000</th>\n",
       "      <th>ponds_nearest</th>\n",
       "      <th>days_exposition</th>\n",
       "    </tr>\n",
       "  </thead>\n",
       "  <tbody>\n",
       "    <tr>\n",
       "      <th>0</th>\n",
       "      <td>20</td>\n",
       "      <td>13000000.0</td>\n",
       "      <td>108.00</td>\n",
       "      <td>2019-03-07T00:00:00</td>\n",
       "      <td>3</td>\n",
       "      <td>2.70</td>\n",
       "      <td>16.0</td>\n",
       "      <td>51.00</td>\n",
       "      <td>8</td>\n",
       "      <td>NaN</td>\n",
       "      <td>...</td>\n",
       "      <td>25.00</td>\n",
       "      <td>NaN</td>\n",
       "      <td>Санкт-Петербург</td>\n",
       "      <td>18863.0</td>\n",
       "      <td>16028.0</td>\n",
       "      <td>1.0</td>\n",
       "      <td>482.0</td>\n",
       "      <td>2.0</td>\n",
       "      <td>755.0</td>\n",
       "      <td>NaN</td>\n",
       "    </tr>\n",
       "    <tr>\n",
       "      <th>1</th>\n",
       "      <td>7</td>\n",
       "      <td>3350000.0</td>\n",
       "      <td>40.40</td>\n",
       "      <td>2018-12-04T00:00:00</td>\n",
       "      <td>1</td>\n",
       "      <td>NaN</td>\n",
       "      <td>11.0</td>\n",
       "      <td>18.60</td>\n",
       "      <td>1</td>\n",
       "      <td>NaN</td>\n",
       "      <td>...</td>\n",
       "      <td>11.00</td>\n",
       "      <td>2.0</td>\n",
       "      <td>посёлок Шушары</td>\n",
       "      <td>12817.0</td>\n",
       "      <td>18603.0</td>\n",
       "      <td>0.0</td>\n",
       "      <td>NaN</td>\n",
       "      <td>0.0</td>\n",
       "      <td>NaN</td>\n",
       "      <td>81.0</td>\n",
       "    </tr>\n",
       "    <tr>\n",
       "      <th>2</th>\n",
       "      <td>10</td>\n",
       "      <td>5196000.0</td>\n",
       "      <td>56.00</td>\n",
       "      <td>2015-08-20T00:00:00</td>\n",
       "      <td>2</td>\n",
       "      <td>NaN</td>\n",
       "      <td>5.0</td>\n",
       "      <td>34.30</td>\n",
       "      <td>4</td>\n",
       "      <td>NaN</td>\n",
       "      <td>...</td>\n",
       "      <td>8.30</td>\n",
       "      <td>0.0</td>\n",
       "      <td>Санкт-Петербург</td>\n",
       "      <td>21741.0</td>\n",
       "      <td>13933.0</td>\n",
       "      <td>1.0</td>\n",
       "      <td>90.0</td>\n",
       "      <td>2.0</td>\n",
       "      <td>574.0</td>\n",
       "      <td>558.0</td>\n",
       "    </tr>\n",
       "    <tr>\n",
       "      <th>3</th>\n",
       "      <td>0</td>\n",
       "      <td>64900000.0</td>\n",
       "      <td>159.00</td>\n",
       "      <td>2015-07-24T00:00:00</td>\n",
       "      <td>3</td>\n",
       "      <td>NaN</td>\n",
       "      <td>14.0</td>\n",
       "      <td>NaN</td>\n",
       "      <td>9</td>\n",
       "      <td>NaN</td>\n",
       "      <td>...</td>\n",
       "      <td>NaN</td>\n",
       "      <td>0.0</td>\n",
       "      <td>Санкт-Петербург</td>\n",
       "      <td>28098.0</td>\n",
       "      <td>6800.0</td>\n",
       "      <td>2.0</td>\n",
       "      <td>84.0</td>\n",
       "      <td>3.0</td>\n",
       "      <td>234.0</td>\n",
       "      <td>424.0</td>\n",
       "    </tr>\n",
       "    <tr>\n",
       "      <th>4</th>\n",
       "      <td>2</td>\n",
       "      <td>10000000.0</td>\n",
       "      <td>100.00</td>\n",
       "      <td>2018-06-19T00:00:00</td>\n",
       "      <td>2</td>\n",
       "      <td>3.03</td>\n",
       "      <td>14.0</td>\n",
       "      <td>32.00</td>\n",
       "      <td>13</td>\n",
       "      <td>NaN</td>\n",
       "      <td>...</td>\n",
       "      <td>41.00</td>\n",
       "      <td>NaN</td>\n",
       "      <td>Санкт-Петербург</td>\n",
       "      <td>31856.0</td>\n",
       "      <td>8098.0</td>\n",
       "      <td>2.0</td>\n",
       "      <td>112.0</td>\n",
       "      <td>1.0</td>\n",
       "      <td>48.0</td>\n",
       "      <td>121.0</td>\n",
       "    </tr>\n",
       "    <tr>\n",
       "      <th>5</th>\n",
       "      <td>10</td>\n",
       "      <td>2890000.0</td>\n",
       "      <td>30.40</td>\n",
       "      <td>2018-09-10T00:00:00</td>\n",
       "      <td>1</td>\n",
       "      <td>NaN</td>\n",
       "      <td>12.0</td>\n",
       "      <td>14.40</td>\n",
       "      <td>5</td>\n",
       "      <td>NaN</td>\n",
       "      <td>...</td>\n",
       "      <td>9.10</td>\n",
       "      <td>NaN</td>\n",
       "      <td>городской посёлок Янино-1</td>\n",
       "      <td>NaN</td>\n",
       "      <td>NaN</td>\n",
       "      <td>NaN</td>\n",
       "      <td>NaN</td>\n",
       "      <td>NaN</td>\n",
       "      <td>NaN</td>\n",
       "      <td>55.0</td>\n",
       "    </tr>\n",
       "    <tr>\n",
       "      <th>6</th>\n",
       "      <td>6</td>\n",
       "      <td>3700000.0</td>\n",
       "      <td>37.30</td>\n",
       "      <td>2017-11-02T00:00:00</td>\n",
       "      <td>1</td>\n",
       "      <td>NaN</td>\n",
       "      <td>26.0</td>\n",
       "      <td>10.60</td>\n",
       "      <td>6</td>\n",
       "      <td>NaN</td>\n",
       "      <td>...</td>\n",
       "      <td>14.40</td>\n",
       "      <td>1.0</td>\n",
       "      <td>посёлок Парголово</td>\n",
       "      <td>52996.0</td>\n",
       "      <td>19143.0</td>\n",
       "      <td>0.0</td>\n",
       "      <td>NaN</td>\n",
       "      <td>0.0</td>\n",
       "      <td>NaN</td>\n",
       "      <td>155.0</td>\n",
       "    </tr>\n",
       "    <tr>\n",
       "      <th>7</th>\n",
       "      <td>5</td>\n",
       "      <td>7915000.0</td>\n",
       "      <td>71.60</td>\n",
       "      <td>2019-04-18T00:00:00</td>\n",
       "      <td>2</td>\n",
       "      <td>NaN</td>\n",
       "      <td>24.0</td>\n",
       "      <td>NaN</td>\n",
       "      <td>22</td>\n",
       "      <td>NaN</td>\n",
       "      <td>...</td>\n",
       "      <td>18.90</td>\n",
       "      <td>2.0</td>\n",
       "      <td>Санкт-Петербург</td>\n",
       "      <td>23982.0</td>\n",
       "      <td>11634.0</td>\n",
       "      <td>0.0</td>\n",
       "      <td>NaN</td>\n",
       "      <td>0.0</td>\n",
       "      <td>NaN</td>\n",
       "      <td>NaN</td>\n",
       "    </tr>\n",
       "    <tr>\n",
       "      <th>8</th>\n",
       "      <td>20</td>\n",
       "      <td>2900000.0</td>\n",
       "      <td>33.16</td>\n",
       "      <td>2018-05-23T00:00:00</td>\n",
       "      <td>1</td>\n",
       "      <td>NaN</td>\n",
       "      <td>27.0</td>\n",
       "      <td>15.43</td>\n",
       "      <td>26</td>\n",
       "      <td>NaN</td>\n",
       "      <td>...</td>\n",
       "      <td>8.81</td>\n",
       "      <td>NaN</td>\n",
       "      <td>посёлок Мурино</td>\n",
       "      <td>NaN</td>\n",
       "      <td>NaN</td>\n",
       "      <td>NaN</td>\n",
       "      <td>NaN</td>\n",
       "      <td>NaN</td>\n",
       "      <td>NaN</td>\n",
       "      <td>189.0</td>\n",
       "    </tr>\n",
       "    <tr>\n",
       "      <th>9</th>\n",
       "      <td>18</td>\n",
       "      <td>5400000.0</td>\n",
       "      <td>61.00</td>\n",
       "      <td>2017-02-26T00:00:00</td>\n",
       "      <td>3</td>\n",
       "      <td>2.50</td>\n",
       "      <td>9.0</td>\n",
       "      <td>43.60</td>\n",
       "      <td>7</td>\n",
       "      <td>NaN</td>\n",
       "      <td>...</td>\n",
       "      <td>6.50</td>\n",
       "      <td>2.0</td>\n",
       "      <td>Санкт-Петербург</td>\n",
       "      <td>50898.0</td>\n",
       "      <td>15008.0</td>\n",
       "      <td>0.0</td>\n",
       "      <td>NaN</td>\n",
       "      <td>0.0</td>\n",
       "      <td>NaN</td>\n",
       "      <td>289.0</td>\n",
       "    </tr>\n",
       "  </tbody>\n",
       "</table>\n",
       "<p>10 rows × 22 columns</p>\n",
       "</div>"
      ],
      "text/plain": [
       "   total_images  last_price  total_area first_day_exposition  rooms  \\\n",
       "0            20  13000000.0      108.00  2019-03-07T00:00:00      3   \n",
       "1             7   3350000.0       40.40  2018-12-04T00:00:00      1   \n",
       "2            10   5196000.0       56.00  2015-08-20T00:00:00      2   \n",
       "3             0  64900000.0      159.00  2015-07-24T00:00:00      3   \n",
       "4             2  10000000.0      100.00  2018-06-19T00:00:00      2   \n",
       "5            10   2890000.0       30.40  2018-09-10T00:00:00      1   \n",
       "6             6   3700000.0       37.30  2017-11-02T00:00:00      1   \n",
       "7             5   7915000.0       71.60  2019-04-18T00:00:00      2   \n",
       "8            20   2900000.0       33.16  2018-05-23T00:00:00      1   \n",
       "9            18   5400000.0       61.00  2017-02-26T00:00:00      3   \n",
       "\n",
       "   ceiling_height  floors_total  living_area  floor is_apartment  ...  \\\n",
       "0            2.70          16.0        51.00      8          NaN  ...   \n",
       "1             NaN          11.0        18.60      1          NaN  ...   \n",
       "2             NaN           5.0        34.30      4          NaN  ...   \n",
       "3             NaN          14.0          NaN      9          NaN  ...   \n",
       "4            3.03          14.0        32.00     13          NaN  ...   \n",
       "5             NaN          12.0        14.40      5          NaN  ...   \n",
       "6             NaN          26.0        10.60      6          NaN  ...   \n",
       "7             NaN          24.0          NaN     22          NaN  ...   \n",
       "8             NaN          27.0        15.43     26          NaN  ...   \n",
       "9            2.50           9.0        43.60      7          NaN  ...   \n",
       "\n",
       "   kitchen_area  balcony              locality_name  airports_nearest  \\\n",
       "0         25.00      NaN            Санкт-Петербург           18863.0   \n",
       "1         11.00      2.0             посёлок Шушары           12817.0   \n",
       "2          8.30      0.0            Санкт-Петербург           21741.0   \n",
       "3           NaN      0.0            Санкт-Петербург           28098.0   \n",
       "4         41.00      NaN            Санкт-Петербург           31856.0   \n",
       "5          9.10      NaN  городской посёлок Янино-1               NaN   \n",
       "6         14.40      1.0          посёлок Парголово           52996.0   \n",
       "7         18.90      2.0            Санкт-Петербург           23982.0   \n",
       "8          8.81      NaN             посёлок Мурино               NaN   \n",
       "9          6.50      2.0            Санкт-Петербург           50898.0   \n",
       "\n",
       "  cityCenters_nearest  parks_around3000  parks_nearest  ponds_around3000  \\\n",
       "0             16028.0               1.0          482.0               2.0   \n",
       "1             18603.0               0.0            NaN               0.0   \n",
       "2             13933.0               1.0           90.0               2.0   \n",
       "3              6800.0               2.0           84.0               3.0   \n",
       "4              8098.0               2.0          112.0               1.0   \n",
       "5                 NaN               NaN            NaN               NaN   \n",
       "6             19143.0               0.0            NaN               0.0   \n",
       "7             11634.0               0.0            NaN               0.0   \n",
       "8                 NaN               NaN            NaN               NaN   \n",
       "9             15008.0               0.0            NaN               0.0   \n",
       "\n",
       "   ponds_nearest  days_exposition  \n",
       "0          755.0              NaN  \n",
       "1            NaN             81.0  \n",
       "2          574.0            558.0  \n",
       "3          234.0            424.0  \n",
       "4           48.0            121.0  \n",
       "5            NaN             55.0  \n",
       "6            NaN            155.0  \n",
       "7            NaN              NaN  \n",
       "8            NaN            189.0  \n",
       "9            NaN            289.0  \n",
       "\n",
       "[10 rows x 22 columns]"
      ]
     },
     "execution_count": 2,
     "metadata": {},
     "output_type": "execute_result"
    }
   ],
   "source": [
    "# просмотр первых строк и шапки данных\n",
    "data.head(10)"
   ]
  },
  {
   "cell_type": "markdown",
   "metadata": {},
   "source": [
    "Нужно посмотреть квартиры с очень большой площадью, в частности, с площадью 900 кв.м.\n"
   ]
  },
  {
   "cell_type": "code",
   "execution_count": 3,
   "metadata": {},
   "outputs": [
    {
     "data": {
      "text/html": [
       "<div>\n",
       "<style scoped>\n",
       "    .dataframe tbody tr th:only-of-type {\n",
       "        vertical-align: middle;\n",
       "    }\n",
       "\n",
       "    .dataframe tbody tr th {\n",
       "        vertical-align: top;\n",
       "    }\n",
       "\n",
       "    .dataframe thead th {\n",
       "        text-align: right;\n",
       "    }\n",
       "</style>\n",
       "<table border=\"1\" class=\"dataframe\">\n",
       "  <thead>\n",
       "    <tr style=\"text-align: right;\">\n",
       "      <th></th>\n",
       "      <th>total_images</th>\n",
       "      <th>last_price</th>\n",
       "      <th>total_area</th>\n",
       "      <th>first_day_exposition</th>\n",
       "      <th>rooms</th>\n",
       "      <th>ceiling_height</th>\n",
       "      <th>floors_total</th>\n",
       "      <th>living_area</th>\n",
       "      <th>floor</th>\n",
       "      <th>is_apartment</th>\n",
       "      <th>...</th>\n",
       "      <th>kitchen_area</th>\n",
       "      <th>balcony</th>\n",
       "      <th>locality_name</th>\n",
       "      <th>airports_nearest</th>\n",
       "      <th>cityCenters_nearest</th>\n",
       "      <th>parks_around3000</th>\n",
       "      <th>parks_nearest</th>\n",
       "      <th>ponds_around3000</th>\n",
       "      <th>ponds_nearest</th>\n",
       "      <th>days_exposition</th>\n",
       "    </tr>\n",
       "  </thead>\n",
       "  <tbody>\n",
       "    <tr>\n",
       "      <th>660</th>\n",
       "      <td>3</td>\n",
       "      <td>49950000.0</td>\n",
       "      <td>483.90</td>\n",
       "      <td>2017-10-04T00:00:00</td>\n",
       "      <td>7</td>\n",
       "      <td>3.20</td>\n",
       "      <td>6.0</td>\n",
       "      <td>312.5</td>\n",
       "      <td>4</td>\n",
       "      <td>NaN</td>\n",
       "      <td>...</td>\n",
       "      <td>26.40</td>\n",
       "      <td>NaN</td>\n",
       "      <td>Санкт-Петербург</td>\n",
       "      <td>23079.0</td>\n",
       "      <td>945.0</td>\n",
       "      <td>3.0</td>\n",
       "      <td>461.0</td>\n",
       "      <td>3.0</td>\n",
       "      <td>22.0</td>\n",
       "      <td>391.0</td>\n",
       "    </tr>\n",
       "    <tr>\n",
       "      <th>3117</th>\n",
       "      <td>19</td>\n",
       "      <td>140000000.0</td>\n",
       "      <td>631.00</td>\n",
       "      <td>2019-03-30T00:00:00</td>\n",
       "      <td>7</td>\n",
       "      <td>NaN</td>\n",
       "      <td>5.0</td>\n",
       "      <td>NaN</td>\n",
       "      <td>5</td>\n",
       "      <td>NaN</td>\n",
       "      <td>...</td>\n",
       "      <td>60.00</td>\n",
       "      <td>NaN</td>\n",
       "      <td>Санкт-Петербург</td>\n",
       "      <td>25707.0</td>\n",
       "      <td>4972.0</td>\n",
       "      <td>0.0</td>\n",
       "      <td>NaN</td>\n",
       "      <td>2.0</td>\n",
       "      <td>210.0</td>\n",
       "      <td>NaN</td>\n",
       "    </tr>\n",
       "    <tr>\n",
       "      <th>3676</th>\n",
       "      <td>12</td>\n",
       "      <td>28789000.0</td>\n",
       "      <td>441.98</td>\n",
       "      <td>2019-01-23T00:00:00</td>\n",
       "      <td>4</td>\n",
       "      <td>NaN</td>\n",
       "      <td>6.0</td>\n",
       "      <td>NaN</td>\n",
       "      <td>6</td>\n",
       "      <td>NaN</td>\n",
       "      <td>...</td>\n",
       "      <td>35.05</td>\n",
       "      <td>NaN</td>\n",
       "      <td>Санкт-Петербург</td>\n",
       "      <td>20552.0</td>\n",
       "      <td>5181.0</td>\n",
       "      <td>0.0</td>\n",
       "      <td>NaN</td>\n",
       "      <td>0.0</td>\n",
       "      <td>NaN</td>\n",
       "      <td>NaN</td>\n",
       "    </tr>\n",
       "    <tr>\n",
       "      <th>4237</th>\n",
       "      <td>1</td>\n",
       "      <td>50000000.0</td>\n",
       "      <td>517.00</td>\n",
       "      <td>2017-10-14T00:00:00</td>\n",
       "      <td>7</td>\n",
       "      <td>NaN</td>\n",
       "      <td>4.0</td>\n",
       "      <td>332.0</td>\n",
       "      <td>3</td>\n",
       "      <td>NaN</td>\n",
       "      <td>...</td>\n",
       "      <td>22.00</td>\n",
       "      <td>NaN</td>\n",
       "      <td>Санкт-Петербург</td>\n",
       "      <td>22835.0</td>\n",
       "      <td>1847.0</td>\n",
       "      <td>2.0</td>\n",
       "      <td>477.0</td>\n",
       "      <td>2.0</td>\n",
       "      <td>540.0</td>\n",
       "      <td>NaN</td>\n",
       "    </tr>\n",
       "    <tr>\n",
       "      <th>5358</th>\n",
       "      <td>20</td>\n",
       "      <td>65000000.0</td>\n",
       "      <td>590.00</td>\n",
       "      <td>2019-02-14T00:00:00</td>\n",
       "      <td>15</td>\n",
       "      <td>3.50</td>\n",
       "      <td>6.0</td>\n",
       "      <td>409.0</td>\n",
       "      <td>3</td>\n",
       "      <td>NaN</td>\n",
       "      <td>...</td>\n",
       "      <td>100.00</td>\n",
       "      <td>NaN</td>\n",
       "      <td>Санкт-Петербург</td>\n",
       "      <td>24447.0</td>\n",
       "      <td>4666.0</td>\n",
       "      <td>1.0</td>\n",
       "      <td>767.0</td>\n",
       "      <td>0.0</td>\n",
       "      <td>NaN</td>\n",
       "      <td>14.0</td>\n",
       "    </tr>\n",
       "    <tr>\n",
       "      <th>5893</th>\n",
       "      <td>3</td>\n",
       "      <td>230000000.0</td>\n",
       "      <td>500.00</td>\n",
       "      <td>2017-05-31T00:00:00</td>\n",
       "      <td>6</td>\n",
       "      <td>NaN</td>\n",
       "      <td>7.0</td>\n",
       "      <td>NaN</td>\n",
       "      <td>7</td>\n",
       "      <td>NaN</td>\n",
       "      <td>...</td>\n",
       "      <td>40.00</td>\n",
       "      <td>0.0</td>\n",
       "      <td>Санкт-Петербург</td>\n",
       "      <td>32440.0</td>\n",
       "      <td>5297.0</td>\n",
       "      <td>0.0</td>\n",
       "      <td>NaN</td>\n",
       "      <td>2.0</td>\n",
       "      <td>198.0</td>\n",
       "      <td>50.0</td>\n",
       "    </tr>\n",
       "    <tr>\n",
       "      <th>6221</th>\n",
       "      <td>8</td>\n",
       "      <td>34000000.0</td>\n",
       "      <td>470.30</td>\n",
       "      <td>2018-01-14T00:00:00</td>\n",
       "      <td>4</td>\n",
       "      <td>NaN</td>\n",
       "      <td>3.0</td>\n",
       "      <td>248.7</td>\n",
       "      <td>3</td>\n",
       "      <td>NaN</td>\n",
       "      <td>...</td>\n",
       "      <td>40.00</td>\n",
       "      <td>NaN</td>\n",
       "      <td>Санкт-Петербург</td>\n",
       "      <td>43756.0</td>\n",
       "      <td>15459.0</td>\n",
       "      <td>1.0</td>\n",
       "      <td>852.0</td>\n",
       "      <td>3.0</td>\n",
       "      <td>122.0</td>\n",
       "      <td>179.0</td>\n",
       "    </tr>\n",
       "    <tr>\n",
       "      <th>6621</th>\n",
       "      <td>20</td>\n",
       "      <td>99000000.0</td>\n",
       "      <td>488.00</td>\n",
       "      <td>2017-04-09T00:00:00</td>\n",
       "      <td>5</td>\n",
       "      <td>2.95</td>\n",
       "      <td>20.0</td>\n",
       "      <td>216.0</td>\n",
       "      <td>17</td>\n",
       "      <td>NaN</td>\n",
       "      <td>...</td>\n",
       "      <td>50.00</td>\n",
       "      <td>NaN</td>\n",
       "      <td>Санкт-Петербург</td>\n",
       "      <td>27641.0</td>\n",
       "      <td>4598.0</td>\n",
       "      <td>1.0</td>\n",
       "      <td>646.0</td>\n",
       "      <td>1.0</td>\n",
       "      <td>368.0</td>\n",
       "      <td>351.0</td>\n",
       "    </tr>\n",
       "    <tr>\n",
       "      <th>8018</th>\n",
       "      <td>20</td>\n",
       "      <td>84000000.0</td>\n",
       "      <td>507.00</td>\n",
       "      <td>2015-12-17T00:00:00</td>\n",
       "      <td>5</td>\n",
       "      <td>4.45</td>\n",
       "      <td>7.0</td>\n",
       "      <td>301.5</td>\n",
       "      <td>7</td>\n",
       "      <td>True</td>\n",
       "      <td>...</td>\n",
       "      <td>45.50</td>\n",
       "      <td>1.0</td>\n",
       "      <td>Санкт-Петербург</td>\n",
       "      <td>NaN</td>\n",
       "      <td>5735.0</td>\n",
       "      <td>2.0</td>\n",
       "      <td>110.0</td>\n",
       "      <td>0.0</td>\n",
       "      <td>NaN</td>\n",
       "      <td>1078.0</td>\n",
       "    </tr>\n",
       "    <tr>\n",
       "      <th>9826</th>\n",
       "      <td>1</td>\n",
       "      <td>43185328.0</td>\n",
       "      <td>494.10</td>\n",
       "      <td>2017-05-12T00:00:00</td>\n",
       "      <td>1</td>\n",
       "      <td>2.85</td>\n",
       "      <td>12.0</td>\n",
       "      <td>NaN</td>\n",
       "      <td>3</td>\n",
       "      <td>NaN</td>\n",
       "      <td>...</td>\n",
       "      <td>NaN</td>\n",
       "      <td>0.0</td>\n",
       "      <td>Санкт-Петербург</td>\n",
       "      <td>28529.0</td>\n",
       "      <td>6832.0</td>\n",
       "      <td>1.0</td>\n",
       "      <td>592.0</td>\n",
       "      <td>0.0</td>\n",
       "      <td>NaN</td>\n",
       "      <td>5.0</td>\n",
       "    </tr>\n",
       "    <tr>\n",
       "      <th>12401</th>\n",
       "      <td>20</td>\n",
       "      <td>91500000.0</td>\n",
       "      <td>495.00</td>\n",
       "      <td>2017-06-19T00:00:00</td>\n",
       "      <td>7</td>\n",
       "      <td>4.65</td>\n",
       "      <td>7.0</td>\n",
       "      <td>347.5</td>\n",
       "      <td>7</td>\n",
       "      <td>NaN</td>\n",
       "      <td>...</td>\n",
       "      <td>25.00</td>\n",
       "      <td>0.0</td>\n",
       "      <td>Санкт-Петербург</td>\n",
       "      <td>NaN</td>\n",
       "      <td>5735.0</td>\n",
       "      <td>2.0</td>\n",
       "      <td>110.0</td>\n",
       "      <td>0.0</td>\n",
       "      <td>NaN</td>\n",
       "      <td>14.0</td>\n",
       "    </tr>\n",
       "    <tr>\n",
       "      <th>12859</th>\n",
       "      <td>20</td>\n",
       "      <td>140000000.0</td>\n",
       "      <td>631.20</td>\n",
       "      <td>2019-04-09T00:00:00</td>\n",
       "      <td>7</td>\n",
       "      <td>3.90</td>\n",
       "      <td>4.0</td>\n",
       "      <td>322.3</td>\n",
       "      <td>4</td>\n",
       "      <td>NaN</td>\n",
       "      <td>...</td>\n",
       "      <td>19.50</td>\n",
       "      <td>1.0</td>\n",
       "      <td>Санкт-Петербург</td>\n",
       "      <td>25707.0</td>\n",
       "      <td>4972.0</td>\n",
       "      <td>0.0</td>\n",
       "      <td>NaN</td>\n",
       "      <td>2.0</td>\n",
       "      <td>210.0</td>\n",
       "      <td>NaN</td>\n",
       "    </tr>\n",
       "    <tr>\n",
       "      <th>13749</th>\n",
       "      <td>7</td>\n",
       "      <td>240000000.0</td>\n",
       "      <td>410.00</td>\n",
       "      <td>2017-04-01T00:00:00</td>\n",
       "      <td>6</td>\n",
       "      <td>3.40</td>\n",
       "      <td>7.0</td>\n",
       "      <td>218.0</td>\n",
       "      <td>7</td>\n",
       "      <td>NaN</td>\n",
       "      <td>...</td>\n",
       "      <td>40.00</td>\n",
       "      <td>0.0</td>\n",
       "      <td>Санкт-Петербург</td>\n",
       "      <td>32440.0</td>\n",
       "      <td>5297.0</td>\n",
       "      <td>0.0</td>\n",
       "      <td>NaN</td>\n",
       "      <td>2.0</td>\n",
       "      <td>198.0</td>\n",
       "      <td>199.0</td>\n",
       "    </tr>\n",
       "    <tr>\n",
       "      <th>14088</th>\n",
       "      <td>8</td>\n",
       "      <td>51000000.0</td>\n",
       "      <td>402.00</td>\n",
       "      <td>2017-02-07T00:00:00</td>\n",
       "      <td>6</td>\n",
       "      <td>3.15</td>\n",
       "      <td>8.0</td>\n",
       "      <td>300.0</td>\n",
       "      <td>6</td>\n",
       "      <td>NaN</td>\n",
       "      <td>...</td>\n",
       "      <td>56.00</td>\n",
       "      <td>2.0</td>\n",
       "      <td>Санкт-Петербург</td>\n",
       "      <td>24484.0</td>\n",
       "      <td>5052.0</td>\n",
       "      <td>1.0</td>\n",
       "      <td>253.0</td>\n",
       "      <td>0.0</td>\n",
       "      <td>NaN</td>\n",
       "      <td>32.0</td>\n",
       "    </tr>\n",
       "    <tr>\n",
       "      <th>14706</th>\n",
       "      <td>15</td>\n",
       "      <td>401300000.0</td>\n",
       "      <td>401.00</td>\n",
       "      <td>2016-02-20T00:00:00</td>\n",
       "      <td>5</td>\n",
       "      <td>NaN</td>\n",
       "      <td>9.0</td>\n",
       "      <td>204.0</td>\n",
       "      <td>9</td>\n",
       "      <td>False</td>\n",
       "      <td>...</td>\n",
       "      <td>24.00</td>\n",
       "      <td>3.0</td>\n",
       "      <td>Санкт-Петербург</td>\n",
       "      <td>21912.0</td>\n",
       "      <td>2389.0</td>\n",
       "      <td>1.0</td>\n",
       "      <td>545.0</td>\n",
       "      <td>1.0</td>\n",
       "      <td>478.0</td>\n",
       "      <td>393.0</td>\n",
       "    </tr>\n",
       "    <tr>\n",
       "      <th>14991</th>\n",
       "      <td>19</td>\n",
       "      <td>45000000.0</td>\n",
       "      <td>413.50</td>\n",
       "      <td>2018-09-20T00:00:00</td>\n",
       "      <td>7</td>\n",
       "      <td>NaN</td>\n",
       "      <td>20.0</td>\n",
       "      <td>74.2</td>\n",
       "      <td>18</td>\n",
       "      <td>NaN</td>\n",
       "      <td>...</td>\n",
       "      <td>13.90</td>\n",
       "      <td>NaN</td>\n",
       "      <td>Санкт-Петербург</td>\n",
       "      <td>18748.0</td>\n",
       "      <td>4341.0</td>\n",
       "      <td>0.0</td>\n",
       "      <td>NaN</td>\n",
       "      <td>0.0</td>\n",
       "      <td>NaN</td>\n",
       "      <td>182.0</td>\n",
       "    </tr>\n",
       "    <tr>\n",
       "      <th>15016</th>\n",
       "      <td>8</td>\n",
       "      <td>150000000.0</td>\n",
       "      <td>500.00</td>\n",
       "      <td>2016-01-13T00:00:00</td>\n",
       "      <td>4</td>\n",
       "      <td>3.20</td>\n",
       "      <td>7.0</td>\n",
       "      <td>NaN</td>\n",
       "      <td>7</td>\n",
       "      <td>NaN</td>\n",
       "      <td>...</td>\n",
       "      <td>NaN</td>\n",
       "      <td>0.0</td>\n",
       "      <td>Санкт-Петербург</td>\n",
       "      <td>33058.0</td>\n",
       "      <td>6150.0</td>\n",
       "      <td>3.0</td>\n",
       "      <td>209.0</td>\n",
       "      <td>3.0</td>\n",
       "      <td>531.0</td>\n",
       "      <td>303.0</td>\n",
       "    </tr>\n",
       "    <tr>\n",
       "      <th>15651</th>\n",
       "      <td>20</td>\n",
       "      <td>300000000.0</td>\n",
       "      <td>618.00</td>\n",
       "      <td>2017-12-18T00:00:00</td>\n",
       "      <td>7</td>\n",
       "      <td>3.40</td>\n",
       "      <td>7.0</td>\n",
       "      <td>258.0</td>\n",
       "      <td>5</td>\n",
       "      <td>NaN</td>\n",
       "      <td>...</td>\n",
       "      <td>70.00</td>\n",
       "      <td>NaN</td>\n",
       "      <td>Санкт-Петербург</td>\n",
       "      <td>32440.0</td>\n",
       "      <td>5297.0</td>\n",
       "      <td>0.0</td>\n",
       "      <td>NaN</td>\n",
       "      <td>2.0</td>\n",
       "      <td>198.0</td>\n",
       "      <td>111.0</td>\n",
       "    </tr>\n",
       "    <tr>\n",
       "      <th>19540</th>\n",
       "      <td>8</td>\n",
       "      <td>420000000.0</td>\n",
       "      <td>900.00</td>\n",
       "      <td>2017-12-06T00:00:00</td>\n",
       "      <td>12</td>\n",
       "      <td>2.80</td>\n",
       "      <td>25.0</td>\n",
       "      <td>409.7</td>\n",
       "      <td>25</td>\n",
       "      <td>NaN</td>\n",
       "      <td>...</td>\n",
       "      <td>112.00</td>\n",
       "      <td>NaN</td>\n",
       "      <td>Санкт-Петербург</td>\n",
       "      <td>30706.0</td>\n",
       "      <td>7877.0</td>\n",
       "      <td>0.0</td>\n",
       "      <td>NaN</td>\n",
       "      <td>2.0</td>\n",
       "      <td>318.0</td>\n",
       "      <td>106.0</td>\n",
       "    </tr>\n",
       "    <tr>\n",
       "      <th>20273</th>\n",
       "      <td>12</td>\n",
       "      <td>20000000.0</td>\n",
       "      <td>460.80</td>\n",
       "      <td>2019-03-20T00:00:00</td>\n",
       "      <td>6</td>\n",
       "      <td>3.10</td>\n",
       "      <td>3.0</td>\n",
       "      <td>279.6</td>\n",
       "      <td>1</td>\n",
       "      <td>NaN</td>\n",
       "      <td>...</td>\n",
       "      <td>55.50</td>\n",
       "      <td>NaN</td>\n",
       "      <td>Санкт-Петербург</td>\n",
       "      <td>43756.0</td>\n",
       "      <td>15459.0</td>\n",
       "      <td>1.0</td>\n",
       "      <td>852.0</td>\n",
       "      <td>3.0</td>\n",
       "      <td>122.0</td>\n",
       "      <td>21.0</td>\n",
       "    </tr>\n",
       "    <tr>\n",
       "      <th>21955</th>\n",
       "      <td>19</td>\n",
       "      <td>130000000.0</td>\n",
       "      <td>431.00</td>\n",
       "      <td>2017-10-02T00:00:00</td>\n",
       "      <td>7</td>\n",
       "      <td>3.70</td>\n",
       "      <td>8.0</td>\n",
       "      <td>220.0</td>\n",
       "      <td>5</td>\n",
       "      <td>NaN</td>\n",
       "      <td>...</td>\n",
       "      <td>20.00</td>\n",
       "      <td>5.0</td>\n",
       "      <td>Санкт-Петербург</td>\n",
       "      <td>NaN</td>\n",
       "      <td>NaN</td>\n",
       "      <td>NaN</td>\n",
       "      <td>NaN</td>\n",
       "      <td>NaN</td>\n",
       "      <td>NaN</td>\n",
       "      <td>161.0</td>\n",
       "    </tr>\n",
       "    <tr>\n",
       "      <th>22131</th>\n",
       "      <td>14</td>\n",
       "      <td>27000000.0</td>\n",
       "      <td>422.20</td>\n",
       "      <td>2018-10-18T00:00:00</td>\n",
       "      <td>5</td>\n",
       "      <td>2.70</td>\n",
       "      <td>13.0</td>\n",
       "      <td>NaN</td>\n",
       "      <td>11</td>\n",
       "      <td>NaN</td>\n",
       "      <td>...</td>\n",
       "      <td>NaN</td>\n",
       "      <td>NaN</td>\n",
       "      <td>Санкт-Петербург</td>\n",
       "      <td>46625.0</td>\n",
       "      <td>16554.0</td>\n",
       "      <td>0.0</td>\n",
       "      <td>NaN</td>\n",
       "      <td>0.0</td>\n",
       "      <td>NaN</td>\n",
       "      <td>NaN</td>\n",
       "    </tr>\n",
       "    <tr>\n",
       "      <th>22494</th>\n",
       "      <td>7</td>\n",
       "      <td>91075000.0</td>\n",
       "      <td>491.00</td>\n",
       "      <td>2017-05-27T00:00:00</td>\n",
       "      <td>5</td>\n",
       "      <td>4.20</td>\n",
       "      <td>9.0</td>\n",
       "      <td>274.0</td>\n",
       "      <td>9</td>\n",
       "      <td>NaN</td>\n",
       "      <td>...</td>\n",
       "      <td>45.00</td>\n",
       "      <td>0.0</td>\n",
       "      <td>Санкт-Петербург</td>\n",
       "      <td>25525.0</td>\n",
       "      <td>5845.0</td>\n",
       "      <td>2.0</td>\n",
       "      <td>116.0</td>\n",
       "      <td>0.0</td>\n",
       "      <td>NaN</td>\n",
       "      <td>115.0</td>\n",
       "    </tr>\n",
       "  </tbody>\n",
       "</table>\n",
       "<p>23 rows × 22 columns</p>\n",
       "</div>"
      ],
      "text/plain": [
       "       total_images   last_price  total_area first_day_exposition  rooms  \\\n",
       "660               3   49950000.0      483.90  2017-10-04T00:00:00      7   \n",
       "3117             19  140000000.0      631.00  2019-03-30T00:00:00      7   \n",
       "3676             12   28789000.0      441.98  2019-01-23T00:00:00      4   \n",
       "4237              1   50000000.0      517.00  2017-10-14T00:00:00      7   \n",
       "5358             20   65000000.0      590.00  2019-02-14T00:00:00     15   \n",
       "5893              3  230000000.0      500.00  2017-05-31T00:00:00      6   \n",
       "6221              8   34000000.0      470.30  2018-01-14T00:00:00      4   \n",
       "6621             20   99000000.0      488.00  2017-04-09T00:00:00      5   \n",
       "8018             20   84000000.0      507.00  2015-12-17T00:00:00      5   \n",
       "9826              1   43185328.0      494.10  2017-05-12T00:00:00      1   \n",
       "12401            20   91500000.0      495.00  2017-06-19T00:00:00      7   \n",
       "12859            20  140000000.0      631.20  2019-04-09T00:00:00      7   \n",
       "13749             7  240000000.0      410.00  2017-04-01T00:00:00      6   \n",
       "14088             8   51000000.0      402.00  2017-02-07T00:00:00      6   \n",
       "14706            15  401300000.0      401.00  2016-02-20T00:00:00      5   \n",
       "14991            19   45000000.0      413.50  2018-09-20T00:00:00      7   \n",
       "15016             8  150000000.0      500.00  2016-01-13T00:00:00      4   \n",
       "15651            20  300000000.0      618.00  2017-12-18T00:00:00      7   \n",
       "19540             8  420000000.0      900.00  2017-12-06T00:00:00     12   \n",
       "20273            12   20000000.0      460.80  2019-03-20T00:00:00      6   \n",
       "21955            19  130000000.0      431.00  2017-10-02T00:00:00      7   \n",
       "22131            14   27000000.0      422.20  2018-10-18T00:00:00      5   \n",
       "22494             7   91075000.0      491.00  2017-05-27T00:00:00      5   \n",
       "\n",
       "       ceiling_height  floors_total  living_area  floor is_apartment  ...  \\\n",
       "660              3.20           6.0        312.5      4          NaN  ...   \n",
       "3117              NaN           5.0          NaN      5          NaN  ...   \n",
       "3676              NaN           6.0          NaN      6          NaN  ...   \n",
       "4237              NaN           4.0        332.0      3          NaN  ...   \n",
       "5358             3.50           6.0        409.0      3          NaN  ...   \n",
       "5893              NaN           7.0          NaN      7          NaN  ...   \n",
       "6221              NaN           3.0        248.7      3          NaN  ...   \n",
       "6621             2.95          20.0        216.0     17          NaN  ...   \n",
       "8018             4.45           7.0        301.5      7         True  ...   \n",
       "9826             2.85          12.0          NaN      3          NaN  ...   \n",
       "12401            4.65           7.0        347.5      7          NaN  ...   \n",
       "12859            3.90           4.0        322.3      4          NaN  ...   \n",
       "13749            3.40           7.0        218.0      7          NaN  ...   \n",
       "14088            3.15           8.0        300.0      6          NaN  ...   \n",
       "14706             NaN           9.0        204.0      9        False  ...   \n",
       "14991             NaN          20.0         74.2     18          NaN  ...   \n",
       "15016            3.20           7.0          NaN      7          NaN  ...   \n",
       "15651            3.40           7.0        258.0      5          NaN  ...   \n",
       "19540            2.80          25.0        409.7     25          NaN  ...   \n",
       "20273            3.10           3.0        279.6      1          NaN  ...   \n",
       "21955            3.70           8.0        220.0      5          NaN  ...   \n",
       "22131            2.70          13.0          NaN     11          NaN  ...   \n",
       "22494            4.20           9.0        274.0      9          NaN  ...   \n",
       "\n",
       "       kitchen_area  balcony    locality_name  airports_nearest  \\\n",
       "660           26.40      NaN  Санкт-Петербург           23079.0   \n",
       "3117          60.00      NaN  Санкт-Петербург           25707.0   \n",
       "3676          35.05      NaN  Санкт-Петербург           20552.0   \n",
       "4237          22.00      NaN  Санкт-Петербург           22835.0   \n",
       "5358         100.00      NaN  Санкт-Петербург           24447.0   \n",
       "5893          40.00      0.0  Санкт-Петербург           32440.0   \n",
       "6221          40.00      NaN  Санкт-Петербург           43756.0   \n",
       "6621          50.00      NaN  Санкт-Петербург           27641.0   \n",
       "8018          45.50      1.0  Санкт-Петербург               NaN   \n",
       "9826            NaN      0.0  Санкт-Петербург           28529.0   \n",
       "12401         25.00      0.0  Санкт-Петербург               NaN   \n",
       "12859         19.50      1.0  Санкт-Петербург           25707.0   \n",
       "13749         40.00      0.0  Санкт-Петербург           32440.0   \n",
       "14088         56.00      2.0  Санкт-Петербург           24484.0   \n",
       "14706         24.00      3.0  Санкт-Петербург           21912.0   \n",
       "14991         13.90      NaN  Санкт-Петербург           18748.0   \n",
       "15016           NaN      0.0  Санкт-Петербург           33058.0   \n",
       "15651         70.00      NaN  Санкт-Петербург           32440.0   \n",
       "19540        112.00      NaN  Санкт-Петербург           30706.0   \n",
       "20273         55.50      NaN  Санкт-Петербург           43756.0   \n",
       "21955         20.00      5.0  Санкт-Петербург               NaN   \n",
       "22131           NaN      NaN  Санкт-Петербург           46625.0   \n",
       "22494         45.00      0.0  Санкт-Петербург           25525.0   \n",
       "\n",
       "      cityCenters_nearest  parks_around3000  parks_nearest  ponds_around3000  \\\n",
       "660                 945.0               3.0          461.0               3.0   \n",
       "3117               4972.0               0.0            NaN               2.0   \n",
       "3676               5181.0               0.0            NaN               0.0   \n",
       "4237               1847.0               2.0          477.0               2.0   \n",
       "5358               4666.0               1.0          767.0               0.0   \n",
       "5893               5297.0               0.0            NaN               2.0   \n",
       "6221              15459.0               1.0          852.0               3.0   \n",
       "6621               4598.0               1.0          646.0               1.0   \n",
       "8018               5735.0               2.0          110.0               0.0   \n",
       "9826               6832.0               1.0          592.0               0.0   \n",
       "12401              5735.0               2.0          110.0               0.0   \n",
       "12859              4972.0               0.0            NaN               2.0   \n",
       "13749              5297.0               0.0            NaN               2.0   \n",
       "14088              5052.0               1.0          253.0               0.0   \n",
       "14706              2389.0               1.0          545.0               1.0   \n",
       "14991              4341.0               0.0            NaN               0.0   \n",
       "15016              6150.0               3.0          209.0               3.0   \n",
       "15651              5297.0               0.0            NaN               2.0   \n",
       "19540              7877.0               0.0            NaN               2.0   \n",
       "20273             15459.0               1.0          852.0               3.0   \n",
       "21955                 NaN               NaN            NaN               NaN   \n",
       "22131             16554.0               0.0            NaN               0.0   \n",
       "22494              5845.0               2.0          116.0               0.0   \n",
       "\n",
       "       ponds_nearest  days_exposition  \n",
       "660             22.0            391.0  \n",
       "3117           210.0              NaN  \n",
       "3676             NaN              NaN  \n",
       "4237           540.0              NaN  \n",
       "5358             NaN             14.0  \n",
       "5893           198.0             50.0  \n",
       "6221           122.0            179.0  \n",
       "6621           368.0            351.0  \n",
       "8018             NaN           1078.0  \n",
       "9826             NaN              5.0  \n",
       "12401            NaN             14.0  \n",
       "12859          210.0              NaN  \n",
       "13749          198.0            199.0  \n",
       "14088            NaN             32.0  \n",
       "14706          478.0            393.0  \n",
       "14991            NaN            182.0  \n",
       "15016          531.0            303.0  \n",
       "15651          198.0            111.0  \n",
       "19540          318.0            106.0  \n",
       "20273          122.0             21.0  \n",
       "21955            NaN            161.0  \n",
       "22131            NaN              NaN  \n",
       "22494            NaN            115.0  \n",
       "\n",
       "[23 rows x 22 columns]"
      ]
     },
     "metadata": {},
     "output_type": "display_data"
    }
   ],
   "source": [
    "rows = data['total_area'] > 400.0\n",
    "display(data.loc[rows])\n"
   ]
  },
  {
   "cell_type": "markdown",
   "metadata": {},
   "source": [
    "Нужно посмотреть квартиры с очень малой жилой площадью, в частности, с площадью 2 кв.м. Согласно СНиП 31-01-2003 минимальная жилая площадь - 14 кв.м., кухни - 5 кв.м."
   ]
  },
  {
   "cell_type": "code",
   "execution_count": 4,
   "metadata": {
    "scrolled": false
   },
   "outputs": [
    {
     "data": {
      "text/html": [
       "<div>\n",
       "<style scoped>\n",
       "    .dataframe tbody tr th:only-of-type {\n",
       "        vertical-align: middle;\n",
       "    }\n",
       "\n",
       "    .dataframe tbody tr th {\n",
       "        vertical-align: top;\n",
       "    }\n",
       "\n",
       "    .dataframe thead th {\n",
       "        text-align: right;\n",
       "    }\n",
       "</style>\n",
       "<table border=\"1\" class=\"dataframe\">\n",
       "  <thead>\n",
       "    <tr style=\"text-align: right;\">\n",
       "      <th></th>\n",
       "      <th>total_images</th>\n",
       "      <th>last_price</th>\n",
       "      <th>total_area</th>\n",
       "      <th>first_day_exposition</th>\n",
       "      <th>rooms</th>\n",
       "      <th>ceiling_height</th>\n",
       "      <th>floors_total</th>\n",
       "      <th>living_area</th>\n",
       "      <th>floor</th>\n",
       "      <th>is_apartment</th>\n",
       "      <th>...</th>\n",
       "      <th>kitchen_area</th>\n",
       "      <th>balcony</th>\n",
       "      <th>locality_name</th>\n",
       "      <th>airports_nearest</th>\n",
       "      <th>cityCenters_nearest</th>\n",
       "      <th>parks_around3000</th>\n",
       "      <th>parks_nearest</th>\n",
       "      <th>ponds_around3000</th>\n",
       "      <th>ponds_nearest</th>\n",
       "      <th>days_exposition</th>\n",
       "    </tr>\n",
       "  </thead>\n",
       "  <tbody>\n",
       "    <tr>\n",
       "      <th>6</th>\n",
       "      <td>6</td>\n",
       "      <td>3700000.0</td>\n",
       "      <td>37.30</td>\n",
       "      <td>2017-11-02T00:00:00</td>\n",
       "      <td>1</td>\n",
       "      <td>NaN</td>\n",
       "      <td>26.0</td>\n",
       "      <td>10.60</td>\n",
       "      <td>6</td>\n",
       "      <td>NaN</td>\n",
       "      <td>...</td>\n",
       "      <td>14.40</td>\n",
       "      <td>1.0</td>\n",
       "      <td>посёлок Парголово</td>\n",
       "      <td>52996.0</td>\n",
       "      <td>19143.0</td>\n",
       "      <td>0.0</td>\n",
       "      <td>NaN</td>\n",
       "      <td>0.0</td>\n",
       "      <td>NaN</td>\n",
       "      <td>155.0</td>\n",
       "    </tr>\n",
       "    <tr>\n",
       "      <th>101</th>\n",
       "      <td>4</td>\n",
       "      <td>3000000.0</td>\n",
       "      <td>37.00</td>\n",
       "      <td>2019-03-23T00:00:00</td>\n",
       "      <td>1</td>\n",
       "      <td>2.75</td>\n",
       "      <td>10.0</td>\n",
       "      <td>12.00</td>\n",
       "      <td>3</td>\n",
       "      <td>NaN</td>\n",
       "      <td>...</td>\n",
       "      <td>13.00</td>\n",
       "      <td>NaN</td>\n",
       "      <td>садовое товарищество Новая Ропша</td>\n",
       "      <td>NaN</td>\n",
       "      <td>NaN</td>\n",
       "      <td>NaN</td>\n",
       "      <td>NaN</td>\n",
       "      <td>NaN</td>\n",
       "      <td>NaN</td>\n",
       "      <td>NaN</td>\n",
       "    </tr>\n",
       "    <tr>\n",
       "      <th>114</th>\n",
       "      <td>5</td>\n",
       "      <td>4000000.0</td>\n",
       "      <td>21.40</td>\n",
       "      <td>2019-02-07T00:00:00</td>\n",
       "      <td>1</td>\n",
       "      <td>2.90</td>\n",
       "      <td>8.0</td>\n",
       "      <td>8.30</td>\n",
       "      <td>7</td>\n",
       "      <td>NaN</td>\n",
       "      <td>...</td>\n",
       "      <td>6.30</td>\n",
       "      <td>NaN</td>\n",
       "      <td>Санкт-Петербург</td>\n",
       "      <td>27089.0</td>\n",
       "      <td>5791.0</td>\n",
       "      <td>2.0</td>\n",
       "      <td>488.0</td>\n",
       "      <td>1.0</td>\n",
       "      <td>286.0</td>\n",
       "      <td>NaN</td>\n",
       "    </tr>\n",
       "    <tr>\n",
       "      <th>248</th>\n",
       "      <td>7</td>\n",
       "      <td>4100000.0</td>\n",
       "      <td>31.00</td>\n",
       "      <td>2015-08-02T00:00:00</td>\n",
       "      <td>1</td>\n",
       "      <td>3.00</td>\n",
       "      <td>17.0</td>\n",
       "      <td>10.00</td>\n",
       "      <td>6</td>\n",
       "      <td>False</td>\n",
       "      <td>...</td>\n",
       "      <td>NaN</td>\n",
       "      <td>0.0</td>\n",
       "      <td>Санкт-Петербург</td>\n",
       "      <td>39771.0</td>\n",
       "      <td>8672.0</td>\n",
       "      <td>1.0</td>\n",
       "      <td>139.0</td>\n",
       "      <td>0.0</td>\n",
       "      <td>NaN</td>\n",
       "      <td>637.0</td>\n",
       "    </tr>\n",
       "    <tr>\n",
       "      <th>352</th>\n",
       "      <td>3</td>\n",
       "      <td>5496074.0</td>\n",
       "      <td>48.60</td>\n",
       "      <td>2016-04-25T00:00:00</td>\n",
       "      <td>1</td>\n",
       "      <td>NaN</td>\n",
       "      <td>11.0</td>\n",
       "      <td>13.00</td>\n",
       "      <td>3</td>\n",
       "      <td>False</td>\n",
       "      <td>...</td>\n",
       "      <td>15.00</td>\n",
       "      <td>2.0</td>\n",
       "      <td>Санкт-Петербург</td>\n",
       "      <td>23609.0</td>\n",
       "      <td>5299.0</td>\n",
       "      <td>0.0</td>\n",
       "      <td>NaN</td>\n",
       "      <td>1.0</td>\n",
       "      <td>433.0</td>\n",
       "      <td>60.0</td>\n",
       "    </tr>\n",
       "    <tr>\n",
       "      <th>...</th>\n",
       "      <td>...</td>\n",
       "      <td>...</td>\n",
       "      <td>...</td>\n",
       "      <td>...</td>\n",
       "      <td>...</td>\n",
       "      <td>...</td>\n",
       "      <td>...</td>\n",
       "      <td>...</td>\n",
       "      <td>...</td>\n",
       "      <td>...</td>\n",
       "      <td>...</td>\n",
       "      <td>...</td>\n",
       "      <td>...</td>\n",
       "      <td>...</td>\n",
       "      <td>...</td>\n",
       "      <td>...</td>\n",
       "      <td>...</td>\n",
       "      <td>...</td>\n",
       "      <td>...</td>\n",
       "      <td>...</td>\n",
       "      <td>...</td>\n",
       "    </tr>\n",
       "    <tr>\n",
       "      <th>23481</th>\n",
       "      <td>1</td>\n",
       "      <td>3000000.0</td>\n",
       "      <td>37.29</td>\n",
       "      <td>2019-04-15T00:00:00</td>\n",
       "      <td>1</td>\n",
       "      <td>NaN</td>\n",
       "      <td>19.0</td>\n",
       "      <td>10.08</td>\n",
       "      <td>10</td>\n",
       "      <td>NaN</td>\n",
       "      <td>...</td>\n",
       "      <td>16.88</td>\n",
       "      <td>NaN</td>\n",
       "      <td>Санкт-Петербург</td>\n",
       "      <td>37006.0</td>\n",
       "      <td>15157.0</td>\n",
       "      <td>0.0</td>\n",
       "      <td>NaN</td>\n",
       "      <td>0.0</td>\n",
       "      <td>NaN</td>\n",
       "      <td>7.0</td>\n",
       "    </tr>\n",
       "    <tr>\n",
       "      <th>23573</th>\n",
       "      <td>8</td>\n",
       "      <td>6290000.0</td>\n",
       "      <td>47.67</td>\n",
       "      <td>2019-03-20T00:00:00</td>\n",
       "      <td>1</td>\n",
       "      <td>3.60</td>\n",
       "      <td>12.0</td>\n",
       "      <td>13.59</td>\n",
       "      <td>12</td>\n",
       "      <td>NaN</td>\n",
       "      <td>...</td>\n",
       "      <td>17.87</td>\n",
       "      <td>2.0</td>\n",
       "      <td>Санкт-Петербург</td>\n",
       "      <td>35726.0</td>\n",
       "      <td>16028.0</td>\n",
       "      <td>1.0</td>\n",
       "      <td>253.0</td>\n",
       "      <td>2.0</td>\n",
       "      <td>99.0</td>\n",
       "      <td>19.0</td>\n",
       "    </tr>\n",
       "    <tr>\n",
       "      <th>23574</th>\n",
       "      <td>14</td>\n",
       "      <td>64990000.0</td>\n",
       "      <td>139.00</td>\n",
       "      <td>2015-11-24T00:00:00</td>\n",
       "      <td>3</td>\n",
       "      <td>3.00</td>\n",
       "      <td>8.0</td>\n",
       "      <td>3.00</td>\n",
       "      <td>8</td>\n",
       "      <td>NaN</td>\n",
       "      <td>...</td>\n",
       "      <td>16.00</td>\n",
       "      <td>1.0</td>\n",
       "      <td>Санкт-Петербург</td>\n",
       "      <td>33255.0</td>\n",
       "      <td>5975.0</td>\n",
       "      <td>1.0</td>\n",
       "      <td>630.0</td>\n",
       "      <td>3.0</td>\n",
       "      <td>100.0</td>\n",
       "      <td>280.0</td>\n",
       "    </tr>\n",
       "    <tr>\n",
       "      <th>23673</th>\n",
       "      <td>9</td>\n",
       "      <td>3100000.0</td>\n",
       "      <td>23.00</td>\n",
       "      <td>2018-03-19T00:00:00</td>\n",
       "      <td>1</td>\n",
       "      <td>2.80</td>\n",
       "      <td>9.0</td>\n",
       "      <td>12.60</td>\n",
       "      <td>1</td>\n",
       "      <td>NaN</td>\n",
       "      <td>...</td>\n",
       "      <td>5.00</td>\n",
       "      <td>2.0</td>\n",
       "      <td>Санкт-Петербург</td>\n",
       "      <td>11813.0</td>\n",
       "      <td>11881.0</td>\n",
       "      <td>1.0</td>\n",
       "      <td>262.0</td>\n",
       "      <td>1.0</td>\n",
       "      <td>442.0</td>\n",
       "      <td>41.0</td>\n",
       "    </tr>\n",
       "    <tr>\n",
       "      <th>23698</th>\n",
       "      <td>4</td>\n",
       "      <td>1350000.0</td>\n",
       "      <td>32.30</td>\n",
       "      <td>2017-07-21T00:00:00</td>\n",
       "      <td>1</td>\n",
       "      <td>2.50</td>\n",
       "      <td>5.0</td>\n",
       "      <td>12.30</td>\n",
       "      <td>1</td>\n",
       "      <td>NaN</td>\n",
       "      <td>...</td>\n",
       "      <td>9.00</td>\n",
       "      <td>NaN</td>\n",
       "      <td>поселок Новый Учхоз</td>\n",
       "      <td>NaN</td>\n",
       "      <td>NaN</td>\n",
       "      <td>NaN</td>\n",
       "      <td>NaN</td>\n",
       "      <td>NaN</td>\n",
       "      <td>NaN</td>\n",
       "      <td>NaN</td>\n",
       "    </tr>\n",
       "  </tbody>\n",
       "</table>\n",
       "<p>322 rows × 22 columns</p>\n",
       "</div>"
      ],
      "text/plain": [
       "       total_images  last_price  total_area first_day_exposition  rooms  \\\n",
       "6                 6   3700000.0       37.30  2017-11-02T00:00:00      1   \n",
       "101               4   3000000.0       37.00  2019-03-23T00:00:00      1   \n",
       "114               5   4000000.0       21.40  2019-02-07T00:00:00      1   \n",
       "248               7   4100000.0       31.00  2015-08-02T00:00:00      1   \n",
       "352               3   5496074.0       48.60  2016-04-25T00:00:00      1   \n",
       "...             ...         ...         ...                  ...    ...   \n",
       "23481             1   3000000.0       37.29  2019-04-15T00:00:00      1   \n",
       "23573             8   6290000.0       47.67  2019-03-20T00:00:00      1   \n",
       "23574            14  64990000.0      139.00  2015-11-24T00:00:00      3   \n",
       "23673             9   3100000.0       23.00  2018-03-19T00:00:00      1   \n",
       "23698             4   1350000.0       32.30  2017-07-21T00:00:00      1   \n",
       "\n",
       "       ceiling_height  floors_total  living_area  floor is_apartment  ...  \\\n",
       "6                 NaN          26.0        10.60      6          NaN  ...   \n",
       "101              2.75          10.0        12.00      3          NaN  ...   \n",
       "114              2.90           8.0         8.30      7          NaN  ...   \n",
       "248              3.00          17.0        10.00      6        False  ...   \n",
       "352               NaN          11.0        13.00      3        False  ...   \n",
       "...               ...           ...          ...    ...          ...  ...   \n",
       "23481             NaN          19.0        10.08     10          NaN  ...   \n",
       "23573            3.60          12.0        13.59     12          NaN  ...   \n",
       "23574            3.00           8.0         3.00      8          NaN  ...   \n",
       "23673            2.80           9.0        12.60      1          NaN  ...   \n",
       "23698            2.50           5.0        12.30      1          NaN  ...   \n",
       "\n",
       "       kitchen_area  balcony                     locality_name  \\\n",
       "6             14.40      1.0                 посёлок Парголово   \n",
       "101           13.00      NaN  садовое товарищество Новая Ропша   \n",
       "114            6.30      NaN                   Санкт-Петербург   \n",
       "248             NaN      0.0                   Санкт-Петербург   \n",
       "352           15.00      2.0                   Санкт-Петербург   \n",
       "...             ...      ...                               ...   \n",
       "23481         16.88      NaN                   Санкт-Петербург   \n",
       "23573         17.87      2.0                   Санкт-Петербург   \n",
       "23574         16.00      1.0                   Санкт-Петербург   \n",
       "23673          5.00      2.0                   Санкт-Петербург   \n",
       "23698          9.00      NaN               поселок Новый Учхоз   \n",
       "\n",
       "       airports_nearest cityCenters_nearest  parks_around3000  parks_nearest  \\\n",
       "6               52996.0             19143.0               0.0            NaN   \n",
       "101                 NaN                 NaN               NaN            NaN   \n",
       "114             27089.0              5791.0               2.0          488.0   \n",
       "248             39771.0              8672.0               1.0          139.0   \n",
       "352             23609.0              5299.0               0.0            NaN   \n",
       "...                 ...                 ...               ...            ...   \n",
       "23481           37006.0             15157.0               0.0            NaN   \n",
       "23573           35726.0             16028.0               1.0          253.0   \n",
       "23574           33255.0              5975.0               1.0          630.0   \n",
       "23673           11813.0             11881.0               1.0          262.0   \n",
       "23698               NaN                 NaN               NaN            NaN   \n",
       "\n",
       "       ponds_around3000  ponds_nearest  days_exposition  \n",
       "6                   0.0            NaN            155.0  \n",
       "101                 NaN            NaN              NaN  \n",
       "114                 1.0          286.0              NaN  \n",
       "248                 0.0            NaN            637.0  \n",
       "352                 1.0          433.0             60.0  \n",
       "...                 ...            ...              ...  \n",
       "23481               0.0            NaN              7.0  \n",
       "23573               2.0           99.0             19.0  \n",
       "23574               3.0          100.0            280.0  \n",
       "23673               1.0          442.0             41.0  \n",
       "23698               NaN            NaN              NaN  \n",
       "\n",
       "[322 rows x 22 columns]"
      ]
     },
     "metadata": {},
     "output_type": "display_data"
    }
   ],
   "source": [
    "rows = data['living_area'] < 14.0\n",
    "display(data.loc[rows])"
   ]
  },
  {
   "cell_type": "markdown",
   "metadata": {},
   "source": [
    "Нужно посмотреть очень высокие потолки. Бывают 2-х этажные квартиры. Верояно, высота потолка более 10 метров - ошибка."
   ]
  },
  {
   "cell_type": "code",
   "execution_count": 5,
   "metadata": {},
   "outputs": [
    {
     "data": {
      "text/html": [
       "<div>\n",
       "<style scoped>\n",
       "    .dataframe tbody tr th:only-of-type {\n",
       "        vertical-align: middle;\n",
       "    }\n",
       "\n",
       "    .dataframe tbody tr th {\n",
       "        vertical-align: top;\n",
       "    }\n",
       "\n",
       "    .dataframe thead th {\n",
       "        text-align: right;\n",
       "    }\n",
       "</style>\n",
       "<table border=\"1\" class=\"dataframe\">\n",
       "  <thead>\n",
       "    <tr style=\"text-align: right;\">\n",
       "      <th></th>\n",
       "      <th>total_images</th>\n",
       "      <th>last_price</th>\n",
       "      <th>total_area</th>\n",
       "      <th>first_day_exposition</th>\n",
       "      <th>rooms</th>\n",
       "      <th>ceiling_height</th>\n",
       "      <th>floors_total</th>\n",
       "      <th>living_area</th>\n",
       "      <th>floor</th>\n",
       "      <th>is_apartment</th>\n",
       "      <th>...</th>\n",
       "      <th>kitchen_area</th>\n",
       "      <th>balcony</th>\n",
       "      <th>locality_name</th>\n",
       "      <th>airports_nearest</th>\n",
       "      <th>cityCenters_nearest</th>\n",
       "      <th>parks_around3000</th>\n",
       "      <th>parks_nearest</th>\n",
       "      <th>ponds_around3000</th>\n",
       "      <th>ponds_nearest</th>\n",
       "      <th>days_exposition</th>\n",
       "    </tr>\n",
       "  </thead>\n",
       "  <tbody>\n",
       "    <tr>\n",
       "      <th>355</th>\n",
       "      <td>17</td>\n",
       "      <td>3600000.0</td>\n",
       "      <td>55.2</td>\n",
       "      <td>2018-07-12T00:00:00</td>\n",
       "      <td>2</td>\n",
       "      <td>25.0</td>\n",
       "      <td>5.0</td>\n",
       "      <td>32.0</td>\n",
       "      <td>2</td>\n",
       "      <td>False</td>\n",
       "      <td>...</td>\n",
       "      <td>NaN</td>\n",
       "      <td>2.0</td>\n",
       "      <td>Гатчина</td>\n",
       "      <td>NaN</td>\n",
       "      <td>NaN</td>\n",
       "      <td>NaN</td>\n",
       "      <td>NaN</td>\n",
       "      <td>NaN</td>\n",
       "      <td>NaN</td>\n",
       "      <td>259.0</td>\n",
       "    </tr>\n",
       "    <tr>\n",
       "      <th>3148</th>\n",
       "      <td>14</td>\n",
       "      <td>2900000.0</td>\n",
       "      <td>75.0</td>\n",
       "      <td>2018-11-12T00:00:00</td>\n",
       "      <td>3</td>\n",
       "      <td>32.0</td>\n",
       "      <td>3.0</td>\n",
       "      <td>53.0</td>\n",
       "      <td>2</td>\n",
       "      <td>NaN</td>\n",
       "      <td>...</td>\n",
       "      <td>8.0</td>\n",
       "      <td>NaN</td>\n",
       "      <td>Волхов</td>\n",
       "      <td>NaN</td>\n",
       "      <td>NaN</td>\n",
       "      <td>NaN</td>\n",
       "      <td>NaN</td>\n",
       "      <td>NaN</td>\n",
       "      <td>NaN</td>\n",
       "      <td>NaN</td>\n",
       "    </tr>\n",
       "    <tr>\n",
       "      <th>4643</th>\n",
       "      <td>0</td>\n",
       "      <td>4300000.0</td>\n",
       "      <td>45.0</td>\n",
       "      <td>2018-02-01T00:00:00</td>\n",
       "      <td>2</td>\n",
       "      <td>25.0</td>\n",
       "      <td>9.0</td>\n",
       "      <td>30.0</td>\n",
       "      <td>2</td>\n",
       "      <td>NaN</td>\n",
       "      <td>...</td>\n",
       "      <td>7.0</td>\n",
       "      <td>1.0</td>\n",
       "      <td>Санкт-Петербург</td>\n",
       "      <td>12016.0</td>\n",
       "      <td>13256.0</td>\n",
       "      <td>1.0</td>\n",
       "      <td>658.0</td>\n",
       "      <td>1.0</td>\n",
       "      <td>331.0</td>\n",
       "      <td>181.0</td>\n",
       "    </tr>\n",
       "    <tr>\n",
       "      <th>4876</th>\n",
       "      <td>7</td>\n",
       "      <td>3000000.0</td>\n",
       "      <td>25.0</td>\n",
       "      <td>2017-09-27T00:00:00</td>\n",
       "      <td>0</td>\n",
       "      <td>27.0</td>\n",
       "      <td>25.0</td>\n",
       "      <td>17.0</td>\n",
       "      <td>17</td>\n",
       "      <td>NaN</td>\n",
       "      <td>...</td>\n",
       "      <td>NaN</td>\n",
       "      <td>2.0</td>\n",
       "      <td>посёлок Мурино</td>\n",
       "      <td>NaN</td>\n",
       "      <td>NaN</td>\n",
       "      <td>NaN</td>\n",
       "      <td>NaN</td>\n",
       "      <td>NaN</td>\n",
       "      <td>NaN</td>\n",
       "      <td>28.0</td>\n",
       "    </tr>\n",
       "    <tr>\n",
       "      <th>5076</th>\n",
       "      <td>0</td>\n",
       "      <td>3850000.0</td>\n",
       "      <td>30.5</td>\n",
       "      <td>2018-10-03T00:00:00</td>\n",
       "      <td>1</td>\n",
       "      <td>24.0</td>\n",
       "      <td>5.0</td>\n",
       "      <td>19.5</td>\n",
       "      <td>1</td>\n",
       "      <td>True</td>\n",
       "      <td>...</td>\n",
       "      <td>5.5</td>\n",
       "      <td>NaN</td>\n",
       "      <td>Санкт-Петербург</td>\n",
       "      <td>29686.0</td>\n",
       "      <td>8389.0</td>\n",
       "      <td>3.0</td>\n",
       "      <td>397.0</td>\n",
       "      <td>1.0</td>\n",
       "      <td>578.0</td>\n",
       "      <td>7.0</td>\n",
       "    </tr>\n",
       "    <tr>\n",
       "      <th>5246</th>\n",
       "      <td>0</td>\n",
       "      <td>2500000.0</td>\n",
       "      <td>54.0</td>\n",
       "      <td>2017-10-13T00:00:00</td>\n",
       "      <td>2</td>\n",
       "      <td>27.0</td>\n",
       "      <td>5.0</td>\n",
       "      <td>30.0</td>\n",
       "      <td>3</td>\n",
       "      <td>NaN</td>\n",
       "      <td>...</td>\n",
       "      <td>9.0</td>\n",
       "      <td>2.0</td>\n",
       "      <td>деревня Мины</td>\n",
       "      <td>NaN</td>\n",
       "      <td>NaN</td>\n",
       "      <td>NaN</td>\n",
       "      <td>NaN</td>\n",
       "      <td>NaN</td>\n",
       "      <td>NaN</td>\n",
       "      <td>540.0</td>\n",
       "    </tr>\n",
       "    <tr>\n",
       "      <th>5669</th>\n",
       "      <td>4</td>\n",
       "      <td>4400000.0</td>\n",
       "      <td>50.0</td>\n",
       "      <td>2017-08-08T00:00:00</td>\n",
       "      <td>2</td>\n",
       "      <td>26.0</td>\n",
       "      <td>9.0</td>\n",
       "      <td>21.3</td>\n",
       "      <td>3</td>\n",
       "      <td>NaN</td>\n",
       "      <td>...</td>\n",
       "      <td>7.0</td>\n",
       "      <td>2.0</td>\n",
       "      <td>Санкт-Петербург</td>\n",
       "      <td>28981.0</td>\n",
       "      <td>10912.0</td>\n",
       "      <td>1.0</td>\n",
       "      <td>305.0</td>\n",
       "      <td>0.0</td>\n",
       "      <td>NaN</td>\n",
       "      <td>267.0</td>\n",
       "    </tr>\n",
       "    <tr>\n",
       "      <th>5807</th>\n",
       "      <td>17</td>\n",
       "      <td>8150000.0</td>\n",
       "      <td>80.0</td>\n",
       "      <td>2019-01-09T00:00:00</td>\n",
       "      <td>2</td>\n",
       "      <td>27.0</td>\n",
       "      <td>36.0</td>\n",
       "      <td>41.0</td>\n",
       "      <td>13</td>\n",
       "      <td>NaN</td>\n",
       "      <td>...</td>\n",
       "      <td>12.0</td>\n",
       "      <td>5.0</td>\n",
       "      <td>Санкт-Петербург</td>\n",
       "      <td>18732.0</td>\n",
       "      <td>20444.0</td>\n",
       "      <td>0.0</td>\n",
       "      <td>NaN</td>\n",
       "      <td>3.0</td>\n",
       "      <td>80.0</td>\n",
       "      <td>38.0</td>\n",
       "    </tr>\n",
       "    <tr>\n",
       "      <th>6246</th>\n",
       "      <td>6</td>\n",
       "      <td>3300000.0</td>\n",
       "      <td>44.4</td>\n",
       "      <td>2019-03-25T00:00:00</td>\n",
       "      <td>2</td>\n",
       "      <td>25.0</td>\n",
       "      <td>5.0</td>\n",
       "      <td>31.3</td>\n",
       "      <td>5</td>\n",
       "      <td>NaN</td>\n",
       "      <td>...</td>\n",
       "      <td>5.7</td>\n",
       "      <td>NaN</td>\n",
       "      <td>Кронштадт</td>\n",
       "      <td>68923.0</td>\n",
       "      <td>50649.0</td>\n",
       "      <td>1.0</td>\n",
       "      <td>417.0</td>\n",
       "      <td>2.0</td>\n",
       "      <td>73.0</td>\n",
       "      <td>NaN</td>\n",
       "    </tr>\n",
       "    <tr>\n",
       "      <th>9379</th>\n",
       "      <td>5</td>\n",
       "      <td>3950000.0</td>\n",
       "      <td>42.0</td>\n",
       "      <td>2017-03-26T00:00:00</td>\n",
       "      <td>3</td>\n",
       "      <td>25.0</td>\n",
       "      <td>5.0</td>\n",
       "      <td>30.0</td>\n",
       "      <td>2</td>\n",
       "      <td>NaN</td>\n",
       "      <td>...</td>\n",
       "      <td>5.2</td>\n",
       "      <td>NaN</td>\n",
       "      <td>Санкт-Петербург</td>\n",
       "      <td>11647.0</td>\n",
       "      <td>13581.0</td>\n",
       "      <td>0.0</td>\n",
       "      <td>NaN</td>\n",
       "      <td>0.0</td>\n",
       "      <td>NaN</td>\n",
       "      <td>NaN</td>\n",
       "    </tr>\n",
       "    <tr>\n",
       "      <th>10773</th>\n",
       "      <td>8</td>\n",
       "      <td>3800000.0</td>\n",
       "      <td>58.0</td>\n",
       "      <td>2017-10-13T00:00:00</td>\n",
       "      <td>2</td>\n",
       "      <td>27.0</td>\n",
       "      <td>10.0</td>\n",
       "      <td>30.1</td>\n",
       "      <td>3</td>\n",
       "      <td>False</td>\n",
       "      <td>...</td>\n",
       "      <td>8.1</td>\n",
       "      <td>2.0</td>\n",
       "      <td>посёлок Мурино</td>\n",
       "      <td>NaN</td>\n",
       "      <td>NaN</td>\n",
       "      <td>NaN</td>\n",
       "      <td>NaN</td>\n",
       "      <td>NaN</td>\n",
       "      <td>NaN</td>\n",
       "      <td>71.0</td>\n",
       "    </tr>\n",
       "    <tr>\n",
       "      <th>11285</th>\n",
       "      <td>0</td>\n",
       "      <td>1950000.0</td>\n",
       "      <td>37.0</td>\n",
       "      <td>2019-03-20T00:00:00</td>\n",
       "      <td>1</td>\n",
       "      <td>25.0</td>\n",
       "      <td>5.0</td>\n",
       "      <td>17.0</td>\n",
       "      <td>4</td>\n",
       "      <td>False</td>\n",
       "      <td>...</td>\n",
       "      <td>9.0</td>\n",
       "      <td>2.0</td>\n",
       "      <td>Луга</td>\n",
       "      <td>NaN</td>\n",
       "      <td>NaN</td>\n",
       "      <td>NaN</td>\n",
       "      <td>NaN</td>\n",
       "      <td>NaN</td>\n",
       "      <td>NaN</td>\n",
       "      <td>18.0</td>\n",
       "    </tr>\n",
       "    <tr>\n",
       "      <th>14382</th>\n",
       "      <td>9</td>\n",
       "      <td>1700000.0</td>\n",
       "      <td>35.0</td>\n",
       "      <td>2015-12-04T00:00:00</td>\n",
       "      <td>1</td>\n",
       "      <td>25.0</td>\n",
       "      <td>5.0</td>\n",
       "      <td>20.0</td>\n",
       "      <td>2</td>\n",
       "      <td>False</td>\n",
       "      <td>...</td>\n",
       "      <td>8.0</td>\n",
       "      <td>1.0</td>\n",
       "      <td>поселок Новый Свет</td>\n",
       "      <td>NaN</td>\n",
       "      <td>NaN</td>\n",
       "      <td>NaN</td>\n",
       "      <td>NaN</td>\n",
       "      <td>NaN</td>\n",
       "      <td>NaN</td>\n",
       "      <td>206.0</td>\n",
       "    </tr>\n",
       "    <tr>\n",
       "      <th>15061</th>\n",
       "      <td>19</td>\n",
       "      <td>5600000.0</td>\n",
       "      <td>56.4</td>\n",
       "      <td>2018-05-11T00:00:00</td>\n",
       "      <td>2</td>\n",
       "      <td>14.0</td>\n",
       "      <td>14.0</td>\n",
       "      <td>32.4</td>\n",
       "      <td>5</td>\n",
       "      <td>NaN</td>\n",
       "      <td>...</td>\n",
       "      <td>9.1</td>\n",
       "      <td>2.0</td>\n",
       "      <td>Санкт-Петербург</td>\n",
       "      <td>14814.0</td>\n",
       "      <td>13610.0</td>\n",
       "      <td>0.0</td>\n",
       "      <td>NaN</td>\n",
       "      <td>0.0</td>\n",
       "      <td>NaN</td>\n",
       "      <td>315.0</td>\n",
       "    </tr>\n",
       "    <tr>\n",
       "      <th>17496</th>\n",
       "      <td>15</td>\n",
       "      <td>6700000.0</td>\n",
       "      <td>92.9</td>\n",
       "      <td>2019-02-19T00:00:00</td>\n",
       "      <td>3</td>\n",
       "      <td>20.0</td>\n",
       "      <td>17.0</td>\n",
       "      <td>53.2</td>\n",
       "      <td>14</td>\n",
       "      <td>NaN</td>\n",
       "      <td>...</td>\n",
       "      <td>12.0</td>\n",
       "      <td>5.0</td>\n",
       "      <td>Санкт-Петербург</td>\n",
       "      <td>16295.0</td>\n",
       "      <td>15092.0</td>\n",
       "      <td>1.0</td>\n",
       "      <td>967.0</td>\n",
       "      <td>0.0</td>\n",
       "      <td>NaN</td>\n",
       "      <td>NaN</td>\n",
       "    </tr>\n",
       "    <tr>\n",
       "      <th>17857</th>\n",
       "      <td>1</td>\n",
       "      <td>3900000.0</td>\n",
       "      <td>56.0</td>\n",
       "      <td>2017-12-22T00:00:00</td>\n",
       "      <td>3</td>\n",
       "      <td>27.0</td>\n",
       "      <td>5.0</td>\n",
       "      <td>33.0</td>\n",
       "      <td>4</td>\n",
       "      <td>False</td>\n",
       "      <td>...</td>\n",
       "      <td>NaN</td>\n",
       "      <td>NaN</td>\n",
       "      <td>Санкт-Петербург</td>\n",
       "      <td>41030.0</td>\n",
       "      <td>15543.0</td>\n",
       "      <td>0.0</td>\n",
       "      <td>NaN</td>\n",
       "      <td>0.0</td>\n",
       "      <td>NaN</td>\n",
       "      <td>73.0</td>\n",
       "    </tr>\n",
       "    <tr>\n",
       "      <th>18545</th>\n",
       "      <td>6</td>\n",
       "      <td>3750000.0</td>\n",
       "      <td>43.0</td>\n",
       "      <td>2019-03-18T00:00:00</td>\n",
       "      <td>2</td>\n",
       "      <td>25.0</td>\n",
       "      <td>5.0</td>\n",
       "      <td>29.0</td>\n",
       "      <td>3</td>\n",
       "      <td>False</td>\n",
       "      <td>...</td>\n",
       "      <td>NaN</td>\n",
       "      <td>NaN</td>\n",
       "      <td>Санкт-Петербург</td>\n",
       "      <td>27054.0</td>\n",
       "      <td>8033.0</td>\n",
       "      <td>1.0</td>\n",
       "      <td>540.0</td>\n",
       "      <td>0.0</td>\n",
       "      <td>NaN</td>\n",
       "      <td>12.0</td>\n",
       "    </tr>\n",
       "    <tr>\n",
       "      <th>20478</th>\n",
       "      <td>11</td>\n",
       "      <td>8000000.0</td>\n",
       "      <td>45.0</td>\n",
       "      <td>2017-07-18T00:00:00</td>\n",
       "      <td>1</td>\n",
       "      <td>27.0</td>\n",
       "      <td>4.0</td>\n",
       "      <td>22.0</td>\n",
       "      <td>2</td>\n",
       "      <td>NaN</td>\n",
       "      <td>...</td>\n",
       "      <td>10.0</td>\n",
       "      <td>1.0</td>\n",
       "      <td>Санкт-Петербург</td>\n",
       "      <td>18975.0</td>\n",
       "      <td>3246.0</td>\n",
       "      <td>0.0</td>\n",
       "      <td>NaN</td>\n",
       "      <td>3.0</td>\n",
       "      <td>449.0</td>\n",
       "      <td>429.0</td>\n",
       "    </tr>\n",
       "    <tr>\n",
       "      <th>20507</th>\n",
       "      <td>12</td>\n",
       "      <td>5950000.0</td>\n",
       "      <td>60.0</td>\n",
       "      <td>2018-02-19T00:00:00</td>\n",
       "      <td>2</td>\n",
       "      <td>22.6</td>\n",
       "      <td>14.0</td>\n",
       "      <td>35.0</td>\n",
       "      <td>11</td>\n",
       "      <td>NaN</td>\n",
       "      <td>...</td>\n",
       "      <td>13.0</td>\n",
       "      <td>1.0</td>\n",
       "      <td>Санкт-Петербург</td>\n",
       "      <td>27028.0</td>\n",
       "      <td>12570.0</td>\n",
       "      <td>0.0</td>\n",
       "      <td>NaN</td>\n",
       "      <td>0.0</td>\n",
       "      <td>NaN</td>\n",
       "      <td>40.0</td>\n",
       "    </tr>\n",
       "    <tr>\n",
       "      <th>21377</th>\n",
       "      <td>19</td>\n",
       "      <td>4900000.0</td>\n",
       "      <td>42.0</td>\n",
       "      <td>2017-04-18T00:00:00</td>\n",
       "      <td>1</td>\n",
       "      <td>27.5</td>\n",
       "      <td>24.0</td>\n",
       "      <td>37.7</td>\n",
       "      <td>19</td>\n",
       "      <td>False</td>\n",
       "      <td>...</td>\n",
       "      <td>11.0</td>\n",
       "      <td>2.0</td>\n",
       "      <td>Санкт-Петербург</td>\n",
       "      <td>42742.0</td>\n",
       "      <td>9760.0</td>\n",
       "      <td>0.0</td>\n",
       "      <td>NaN</td>\n",
       "      <td>0.0</td>\n",
       "      <td>NaN</td>\n",
       "      <td>61.0</td>\n",
       "    </tr>\n",
       "    <tr>\n",
       "      <th>21824</th>\n",
       "      <td>20</td>\n",
       "      <td>2450000.0</td>\n",
       "      <td>44.0</td>\n",
       "      <td>2019-02-12T00:00:00</td>\n",
       "      <td>2</td>\n",
       "      <td>27.0</td>\n",
       "      <td>2.0</td>\n",
       "      <td>38.0</td>\n",
       "      <td>2</td>\n",
       "      <td>False</td>\n",
       "      <td>...</td>\n",
       "      <td>8.6</td>\n",
       "      <td>2.0</td>\n",
       "      <td>городской поселок Большая Ижора</td>\n",
       "      <td>NaN</td>\n",
       "      <td>NaN</td>\n",
       "      <td>NaN</td>\n",
       "      <td>NaN</td>\n",
       "      <td>NaN</td>\n",
       "      <td>NaN</td>\n",
       "      <td>NaN</td>\n",
       "    </tr>\n",
       "    <tr>\n",
       "      <th>22309</th>\n",
       "      <td>20</td>\n",
       "      <td>5300000.0</td>\n",
       "      <td>45.0</td>\n",
       "      <td>2017-09-30T00:00:00</td>\n",
       "      <td>1</td>\n",
       "      <td>10.3</td>\n",
       "      <td>16.0</td>\n",
       "      <td>15.5</td>\n",
       "      <td>15</td>\n",
       "      <td>NaN</td>\n",
       "      <td>...</td>\n",
       "      <td>NaN</td>\n",
       "      <td>NaN</td>\n",
       "      <td>Санкт-Петербург</td>\n",
       "      <td>36353.0</td>\n",
       "      <td>11936.0</td>\n",
       "      <td>2.0</td>\n",
       "      <td>440.0</td>\n",
       "      <td>2.0</td>\n",
       "      <td>450.0</td>\n",
       "      <td>136.0</td>\n",
       "    </tr>\n",
       "    <tr>\n",
       "      <th>22336</th>\n",
       "      <td>19</td>\n",
       "      <td>9999000.0</td>\n",
       "      <td>92.4</td>\n",
       "      <td>2019-04-05T00:00:00</td>\n",
       "      <td>2</td>\n",
       "      <td>32.0</td>\n",
       "      <td>6.0</td>\n",
       "      <td>55.5</td>\n",
       "      <td>5</td>\n",
       "      <td>False</td>\n",
       "      <td>...</td>\n",
       "      <td>16.5</td>\n",
       "      <td>4.0</td>\n",
       "      <td>Санкт-Петербург</td>\n",
       "      <td>18838.0</td>\n",
       "      <td>3506.0</td>\n",
       "      <td>0.0</td>\n",
       "      <td>NaN</td>\n",
       "      <td>3.0</td>\n",
       "      <td>511.0</td>\n",
       "      <td>NaN</td>\n",
       "    </tr>\n",
       "    <tr>\n",
       "      <th>22869</th>\n",
       "      <td>0</td>\n",
       "      <td>15000000.0</td>\n",
       "      <td>25.0</td>\n",
       "      <td>2018-07-25T00:00:00</td>\n",
       "      <td>1</td>\n",
       "      <td>100.0</td>\n",
       "      <td>5.0</td>\n",
       "      <td>14.0</td>\n",
       "      <td>5</td>\n",
       "      <td>True</td>\n",
       "      <td>...</td>\n",
       "      <td>11.0</td>\n",
       "      <td>5.0</td>\n",
       "      <td>Санкт-Петербург</td>\n",
       "      <td>34963.0</td>\n",
       "      <td>8283.0</td>\n",
       "      <td>1.0</td>\n",
       "      <td>223.0</td>\n",
       "      <td>3.0</td>\n",
       "      <td>30.0</td>\n",
       "      <td>19.0</td>\n",
       "    </tr>\n",
       "    <tr>\n",
       "      <th>22938</th>\n",
       "      <td>14</td>\n",
       "      <td>4000000.0</td>\n",
       "      <td>98.0</td>\n",
       "      <td>2018-03-15T00:00:00</td>\n",
       "      <td>4</td>\n",
       "      <td>27.0</td>\n",
       "      <td>2.0</td>\n",
       "      <td>73.0</td>\n",
       "      <td>2</td>\n",
       "      <td>True</td>\n",
       "      <td>...</td>\n",
       "      <td>9.0</td>\n",
       "      <td>1.0</td>\n",
       "      <td>деревня Нижняя</td>\n",
       "      <td>NaN</td>\n",
       "      <td>NaN</td>\n",
       "      <td>NaN</td>\n",
       "      <td>NaN</td>\n",
       "      <td>NaN</td>\n",
       "      <td>NaN</td>\n",
       "      <td>27.0</td>\n",
       "    </tr>\n",
       "  </tbody>\n",
       "</table>\n",
       "<p>25 rows × 22 columns</p>\n",
       "</div>"
      ],
      "text/plain": [
       "       total_images  last_price  total_area first_day_exposition  rooms  \\\n",
       "355              17   3600000.0        55.2  2018-07-12T00:00:00      2   \n",
       "3148             14   2900000.0        75.0  2018-11-12T00:00:00      3   \n",
       "4643              0   4300000.0        45.0  2018-02-01T00:00:00      2   \n",
       "4876              7   3000000.0        25.0  2017-09-27T00:00:00      0   \n",
       "5076              0   3850000.0        30.5  2018-10-03T00:00:00      1   \n",
       "5246              0   2500000.0        54.0  2017-10-13T00:00:00      2   \n",
       "5669              4   4400000.0        50.0  2017-08-08T00:00:00      2   \n",
       "5807             17   8150000.0        80.0  2019-01-09T00:00:00      2   \n",
       "6246              6   3300000.0        44.4  2019-03-25T00:00:00      2   \n",
       "9379              5   3950000.0        42.0  2017-03-26T00:00:00      3   \n",
       "10773             8   3800000.0        58.0  2017-10-13T00:00:00      2   \n",
       "11285             0   1950000.0        37.0  2019-03-20T00:00:00      1   \n",
       "14382             9   1700000.0        35.0  2015-12-04T00:00:00      1   \n",
       "15061            19   5600000.0        56.4  2018-05-11T00:00:00      2   \n",
       "17496            15   6700000.0        92.9  2019-02-19T00:00:00      3   \n",
       "17857             1   3900000.0        56.0  2017-12-22T00:00:00      3   \n",
       "18545             6   3750000.0        43.0  2019-03-18T00:00:00      2   \n",
       "20478            11   8000000.0        45.0  2017-07-18T00:00:00      1   \n",
       "20507            12   5950000.0        60.0  2018-02-19T00:00:00      2   \n",
       "21377            19   4900000.0        42.0  2017-04-18T00:00:00      1   \n",
       "21824            20   2450000.0        44.0  2019-02-12T00:00:00      2   \n",
       "22309            20   5300000.0        45.0  2017-09-30T00:00:00      1   \n",
       "22336            19   9999000.0        92.4  2019-04-05T00:00:00      2   \n",
       "22869             0  15000000.0        25.0  2018-07-25T00:00:00      1   \n",
       "22938            14   4000000.0        98.0  2018-03-15T00:00:00      4   \n",
       "\n",
       "       ceiling_height  floors_total  living_area  floor is_apartment  ...  \\\n",
       "355              25.0           5.0         32.0      2        False  ...   \n",
       "3148             32.0           3.0         53.0      2          NaN  ...   \n",
       "4643             25.0           9.0         30.0      2          NaN  ...   \n",
       "4876             27.0          25.0         17.0     17          NaN  ...   \n",
       "5076             24.0           5.0         19.5      1         True  ...   \n",
       "5246             27.0           5.0         30.0      3          NaN  ...   \n",
       "5669             26.0           9.0         21.3      3          NaN  ...   \n",
       "5807             27.0          36.0         41.0     13          NaN  ...   \n",
       "6246             25.0           5.0         31.3      5          NaN  ...   \n",
       "9379             25.0           5.0         30.0      2          NaN  ...   \n",
       "10773            27.0          10.0         30.1      3        False  ...   \n",
       "11285            25.0           5.0         17.0      4        False  ...   \n",
       "14382            25.0           5.0         20.0      2        False  ...   \n",
       "15061            14.0          14.0         32.4      5          NaN  ...   \n",
       "17496            20.0          17.0         53.2     14          NaN  ...   \n",
       "17857            27.0           5.0         33.0      4        False  ...   \n",
       "18545            25.0           5.0         29.0      3        False  ...   \n",
       "20478            27.0           4.0         22.0      2          NaN  ...   \n",
       "20507            22.6          14.0         35.0     11          NaN  ...   \n",
       "21377            27.5          24.0         37.7     19        False  ...   \n",
       "21824            27.0           2.0         38.0      2        False  ...   \n",
       "22309            10.3          16.0         15.5     15          NaN  ...   \n",
       "22336            32.0           6.0         55.5      5        False  ...   \n",
       "22869           100.0           5.0         14.0      5         True  ...   \n",
       "22938            27.0           2.0         73.0      2         True  ...   \n",
       "\n",
       "       kitchen_area  balcony                    locality_name  \\\n",
       "355             NaN      2.0                          Гатчина   \n",
       "3148            8.0      NaN                           Волхов   \n",
       "4643            7.0      1.0                  Санкт-Петербург   \n",
       "4876            NaN      2.0                   посёлок Мурино   \n",
       "5076            5.5      NaN                  Санкт-Петербург   \n",
       "5246            9.0      2.0                     деревня Мины   \n",
       "5669            7.0      2.0                  Санкт-Петербург   \n",
       "5807           12.0      5.0                  Санкт-Петербург   \n",
       "6246            5.7      NaN                        Кронштадт   \n",
       "9379            5.2      NaN                  Санкт-Петербург   \n",
       "10773           8.1      2.0                   посёлок Мурино   \n",
       "11285           9.0      2.0                             Луга   \n",
       "14382           8.0      1.0               поселок Новый Свет   \n",
       "15061           9.1      2.0                  Санкт-Петербург   \n",
       "17496          12.0      5.0                  Санкт-Петербург   \n",
       "17857           NaN      NaN                  Санкт-Петербург   \n",
       "18545           NaN      NaN                  Санкт-Петербург   \n",
       "20478          10.0      1.0                  Санкт-Петербург   \n",
       "20507          13.0      1.0                  Санкт-Петербург   \n",
       "21377          11.0      2.0                  Санкт-Петербург   \n",
       "21824           8.6      2.0  городской поселок Большая Ижора   \n",
       "22309           NaN      NaN                  Санкт-Петербург   \n",
       "22336          16.5      4.0                  Санкт-Петербург   \n",
       "22869          11.0      5.0                  Санкт-Петербург   \n",
       "22938           9.0      1.0                   деревня Нижняя   \n",
       "\n",
       "       airports_nearest cityCenters_nearest  parks_around3000  parks_nearest  \\\n",
       "355                 NaN                 NaN               NaN            NaN   \n",
       "3148                NaN                 NaN               NaN            NaN   \n",
       "4643            12016.0             13256.0               1.0          658.0   \n",
       "4876                NaN                 NaN               NaN            NaN   \n",
       "5076            29686.0              8389.0               3.0          397.0   \n",
       "5246                NaN                 NaN               NaN            NaN   \n",
       "5669            28981.0             10912.0               1.0          305.0   \n",
       "5807            18732.0             20444.0               0.0            NaN   \n",
       "6246            68923.0             50649.0               1.0          417.0   \n",
       "9379            11647.0             13581.0               0.0            NaN   \n",
       "10773               NaN                 NaN               NaN            NaN   \n",
       "11285               NaN                 NaN               NaN            NaN   \n",
       "14382               NaN                 NaN               NaN            NaN   \n",
       "15061           14814.0             13610.0               0.0            NaN   \n",
       "17496           16295.0             15092.0               1.0          967.0   \n",
       "17857           41030.0             15543.0               0.0            NaN   \n",
       "18545           27054.0              8033.0               1.0          540.0   \n",
       "20478           18975.0              3246.0               0.0            NaN   \n",
       "20507           27028.0             12570.0               0.0            NaN   \n",
       "21377           42742.0              9760.0               0.0            NaN   \n",
       "21824               NaN                 NaN               NaN            NaN   \n",
       "22309           36353.0             11936.0               2.0          440.0   \n",
       "22336           18838.0              3506.0               0.0            NaN   \n",
       "22869           34963.0              8283.0               1.0          223.0   \n",
       "22938               NaN                 NaN               NaN            NaN   \n",
       "\n",
       "       ponds_around3000  ponds_nearest  days_exposition  \n",
       "355                 NaN            NaN            259.0  \n",
       "3148                NaN            NaN              NaN  \n",
       "4643                1.0          331.0            181.0  \n",
       "4876                NaN            NaN             28.0  \n",
       "5076                1.0          578.0              7.0  \n",
       "5246                NaN            NaN            540.0  \n",
       "5669                0.0            NaN            267.0  \n",
       "5807                3.0           80.0             38.0  \n",
       "6246                2.0           73.0              NaN  \n",
       "9379                0.0            NaN              NaN  \n",
       "10773               NaN            NaN             71.0  \n",
       "11285               NaN            NaN             18.0  \n",
       "14382               NaN            NaN            206.0  \n",
       "15061               0.0            NaN            315.0  \n",
       "17496               0.0            NaN              NaN  \n",
       "17857               0.0            NaN             73.0  \n",
       "18545               0.0            NaN             12.0  \n",
       "20478               3.0          449.0            429.0  \n",
       "20507               0.0            NaN             40.0  \n",
       "21377               0.0            NaN             61.0  \n",
       "21824               NaN            NaN              NaN  \n",
       "22309               2.0          450.0            136.0  \n",
       "22336               3.0          511.0              NaN  \n",
       "22869               3.0           30.0             19.0  \n",
       "22938               NaN            NaN             27.0  \n",
       "\n",
       "[25 rows x 22 columns]"
      ]
     },
     "metadata": {},
     "output_type": "display_data"
    }
   ],
   "source": [
    "rows = data['ceiling_height'] > 10.0\n",
    "display(data.loc[rows])"
   ]
  },
  {
   "cell_type": "code",
   "execution_count": 6,
   "metadata": {},
   "outputs": [
    {
     "name": "stdout",
     "output_type": "stream",
     "text": [
      "total_images             0.000000\n",
      "last_price               0.000000\n",
      "total_area               0.000000\n",
      "first_day_exposition     0.000000\n",
      "rooms                    0.000000\n",
      "ceiling_height          38.799105\n",
      "floors_total             0.362885\n",
      "living_area              8.029875\n",
      "floor                    0.000000\n",
      "is_apartment            88.290645\n",
      "studio                   0.000000\n",
      "open_plan                0.000000\n",
      "kitchen_area             9.612220\n",
      "balcony                 48.605426\n",
      "locality_name            0.206760\n",
      "airports_nearest        23.384953\n",
      "cityCenters_nearest     23.287902\n",
      "parks_around3000        23.283683\n",
      "parks_nearest           65.909954\n",
      "ponds_around3000        23.283683\n",
      "ponds_nearest           61.559559\n",
      "days_exposition         13.422507\n",
      "dtype: float64\n"
     ]
    }
   ],
   "source": [
    "# посмотрим долю неответов\n",
    "s = (data.isna().sum()/data.shape[0]*100)\n",
    "print(s)"
   ]
  },
  {
   "cell_type": "markdown",
   "metadata": {},
   "source": [
    "### Выводы"
   ]
  },
  {
   "cell_type": "markdown",
   "metadata": {},
   "source": [
    "1. Максимальные  значения площади, похожи на правду - действительно, есть большие квартиры с большим количеством комнат. \n",
    "2. Медианное и среднее значения по многим показателям достаточно близки (стоимостные показатели не рассматриваем), хотя разброс и достаточно высок.\n",
    "3. В данных есть пропуски. Больше всего пропусков в показателях: is_apartment, parks_nearest, ponds_nearest, balcony, ceiling_height.\n",
    "4. Переменную balcony нужно перевести в тип int.\n",
    "5. Переменную first_day_exposition нужно перевести в тип int.\n"
   ]
  },
  {
   "cell_type": "markdown",
   "metadata": {},
   "source": [
    "## Предобработка данных"
   ]
  },
  {
   "cell_type": "markdown",
   "metadata": {},
   "source": [
    "Изменим тип переменной first_day_exposition на дату"
   ]
  },
  {
   "cell_type": "code",
   "execution_count": 7,
   "metadata": {
    "scrolled": false
   },
   "outputs": [
    {
     "data": {
      "text/html": [
       "<div>\n",
       "<style scoped>\n",
       "    .dataframe tbody tr th:only-of-type {\n",
       "        vertical-align: middle;\n",
       "    }\n",
       "\n",
       "    .dataframe tbody tr th {\n",
       "        vertical-align: top;\n",
       "    }\n",
       "\n",
       "    .dataframe thead th {\n",
       "        text-align: right;\n",
       "    }\n",
       "</style>\n",
       "<table border=\"1\" class=\"dataframe\">\n",
       "  <thead>\n",
       "    <tr style=\"text-align: right;\">\n",
       "      <th></th>\n",
       "      <th>total_images</th>\n",
       "      <th>last_price</th>\n",
       "      <th>total_area</th>\n",
       "      <th>first_day_exposition</th>\n",
       "      <th>rooms</th>\n",
       "      <th>ceiling_height</th>\n",
       "      <th>floors_total</th>\n",
       "      <th>living_area</th>\n",
       "      <th>floor</th>\n",
       "      <th>is_apartment</th>\n",
       "      <th>...</th>\n",
       "      <th>kitchen_area</th>\n",
       "      <th>balcony</th>\n",
       "      <th>locality_name</th>\n",
       "      <th>airports_nearest</th>\n",
       "      <th>cityCenters_nearest</th>\n",
       "      <th>parks_around3000</th>\n",
       "      <th>parks_nearest</th>\n",
       "      <th>ponds_around3000</th>\n",
       "      <th>ponds_nearest</th>\n",
       "      <th>days_exposition</th>\n",
       "    </tr>\n",
       "  </thead>\n",
       "  <tbody>\n",
       "    <tr>\n",
       "      <th>0</th>\n",
       "      <td>20</td>\n",
       "      <td>13000000.0</td>\n",
       "      <td>108.0</td>\n",
       "      <td>2019-03-07</td>\n",
       "      <td>3</td>\n",
       "      <td>2.70</td>\n",
       "      <td>16.0</td>\n",
       "      <td>51.0</td>\n",
       "      <td>8</td>\n",
       "      <td>NaN</td>\n",
       "      <td>...</td>\n",
       "      <td>25.0</td>\n",
       "      <td>NaN</td>\n",
       "      <td>Санкт-Петербург</td>\n",
       "      <td>18863.0</td>\n",
       "      <td>16028.0</td>\n",
       "      <td>1.0</td>\n",
       "      <td>482.0</td>\n",
       "      <td>2.0</td>\n",
       "      <td>755.0</td>\n",
       "      <td>NaN</td>\n",
       "    </tr>\n",
       "    <tr>\n",
       "      <th>1</th>\n",
       "      <td>7</td>\n",
       "      <td>3350000.0</td>\n",
       "      <td>40.4</td>\n",
       "      <td>2018-12-04</td>\n",
       "      <td>1</td>\n",
       "      <td>NaN</td>\n",
       "      <td>11.0</td>\n",
       "      <td>18.6</td>\n",
       "      <td>1</td>\n",
       "      <td>NaN</td>\n",
       "      <td>...</td>\n",
       "      <td>11.0</td>\n",
       "      <td>2.0</td>\n",
       "      <td>посёлок Шушары</td>\n",
       "      <td>12817.0</td>\n",
       "      <td>18603.0</td>\n",
       "      <td>0.0</td>\n",
       "      <td>NaN</td>\n",
       "      <td>0.0</td>\n",
       "      <td>NaN</td>\n",
       "      <td>81.0</td>\n",
       "    </tr>\n",
       "    <tr>\n",
       "      <th>2</th>\n",
       "      <td>10</td>\n",
       "      <td>5196000.0</td>\n",
       "      <td>56.0</td>\n",
       "      <td>2015-08-20</td>\n",
       "      <td>2</td>\n",
       "      <td>NaN</td>\n",
       "      <td>5.0</td>\n",
       "      <td>34.3</td>\n",
       "      <td>4</td>\n",
       "      <td>NaN</td>\n",
       "      <td>...</td>\n",
       "      <td>8.3</td>\n",
       "      <td>0.0</td>\n",
       "      <td>Санкт-Петербург</td>\n",
       "      <td>21741.0</td>\n",
       "      <td>13933.0</td>\n",
       "      <td>1.0</td>\n",
       "      <td>90.0</td>\n",
       "      <td>2.0</td>\n",
       "      <td>574.0</td>\n",
       "      <td>558.0</td>\n",
       "    </tr>\n",
       "    <tr>\n",
       "      <th>3</th>\n",
       "      <td>0</td>\n",
       "      <td>64900000.0</td>\n",
       "      <td>159.0</td>\n",
       "      <td>2015-07-24</td>\n",
       "      <td>3</td>\n",
       "      <td>NaN</td>\n",
       "      <td>14.0</td>\n",
       "      <td>NaN</td>\n",
       "      <td>9</td>\n",
       "      <td>NaN</td>\n",
       "      <td>...</td>\n",
       "      <td>NaN</td>\n",
       "      <td>0.0</td>\n",
       "      <td>Санкт-Петербург</td>\n",
       "      <td>28098.0</td>\n",
       "      <td>6800.0</td>\n",
       "      <td>2.0</td>\n",
       "      <td>84.0</td>\n",
       "      <td>3.0</td>\n",
       "      <td>234.0</td>\n",
       "      <td>424.0</td>\n",
       "    </tr>\n",
       "    <tr>\n",
       "      <th>4</th>\n",
       "      <td>2</td>\n",
       "      <td>10000000.0</td>\n",
       "      <td>100.0</td>\n",
       "      <td>2018-06-19</td>\n",
       "      <td>2</td>\n",
       "      <td>3.03</td>\n",
       "      <td>14.0</td>\n",
       "      <td>32.0</td>\n",
       "      <td>13</td>\n",
       "      <td>NaN</td>\n",
       "      <td>...</td>\n",
       "      <td>41.0</td>\n",
       "      <td>NaN</td>\n",
       "      <td>Санкт-Петербург</td>\n",
       "      <td>31856.0</td>\n",
       "      <td>8098.0</td>\n",
       "      <td>2.0</td>\n",
       "      <td>112.0</td>\n",
       "      <td>1.0</td>\n",
       "      <td>48.0</td>\n",
       "      <td>121.0</td>\n",
       "    </tr>\n",
       "  </tbody>\n",
       "</table>\n",
       "<p>5 rows × 22 columns</p>\n",
       "</div>"
      ],
      "text/plain": [
       "   total_images  last_price  total_area first_day_exposition  rooms  \\\n",
       "0            20  13000000.0       108.0           2019-03-07      3   \n",
       "1             7   3350000.0        40.4           2018-12-04      1   \n",
       "2            10   5196000.0        56.0           2015-08-20      2   \n",
       "3             0  64900000.0       159.0           2015-07-24      3   \n",
       "4             2  10000000.0       100.0           2018-06-19      2   \n",
       "\n",
       "   ceiling_height  floors_total  living_area  floor is_apartment  ...  \\\n",
       "0            2.70          16.0         51.0      8          NaN  ...   \n",
       "1             NaN          11.0         18.6      1          NaN  ...   \n",
       "2             NaN           5.0         34.3      4          NaN  ...   \n",
       "3             NaN          14.0          NaN      9          NaN  ...   \n",
       "4            3.03          14.0         32.0     13          NaN  ...   \n",
       "\n",
       "   kitchen_area  balcony    locality_name  airports_nearest  \\\n",
       "0          25.0      NaN  Санкт-Петербург           18863.0   \n",
       "1          11.0      2.0   посёлок Шушары           12817.0   \n",
       "2           8.3      0.0  Санкт-Петербург           21741.0   \n",
       "3           NaN      0.0  Санкт-Петербург           28098.0   \n",
       "4          41.0      NaN  Санкт-Петербург           31856.0   \n",
       "\n",
       "  cityCenters_nearest  parks_around3000  parks_nearest  ponds_around3000  \\\n",
       "0             16028.0               1.0          482.0               2.0   \n",
       "1             18603.0               0.0            NaN               0.0   \n",
       "2             13933.0               1.0           90.0               2.0   \n",
       "3              6800.0               2.0           84.0               3.0   \n",
       "4              8098.0               2.0          112.0               1.0   \n",
       "\n",
       "   ponds_nearest  days_exposition  \n",
       "0          755.0              NaN  \n",
       "1            NaN             81.0  \n",
       "2          574.0            558.0  \n",
       "3          234.0            424.0  \n",
       "4           48.0            121.0  \n",
       "\n",
       "[5 rows x 22 columns]"
      ]
     },
     "execution_count": 7,
     "metadata": {},
     "output_type": "execute_result"
    }
   ],
   "source": [
    "data['first_day_exposition'] = pd.to_datetime(data['first_day_exposition'], format='%Y-%m-%dT%H:%M:%S')\n",
    "data.head()"
   ]
  },
  {
   "cell_type": "markdown",
   "metadata": {},
   "source": [
    "Минимальное число комнат - 0. Являются ли они студиями?"
   ]
  },
  {
   "cell_type": "code",
   "execution_count": 8,
   "metadata": {},
   "outputs": [
    {
     "name": "stdout",
     "output_type": "stream",
     "text": [
      "0.700507614213198\n"
     ]
    }
   ],
   "source": [
    "zero_rooms = data[data['rooms']==0]['rooms'].count()\n",
    "zero_studio = data[(data['rooms']==0)&(data['studio']==True)]['studio'].count()\n",
    "print(zero_studio/zero_rooms)"
   ]
  },
  {
   "cell_type": "markdown",
   "metadata": {},
   "source": [
    "В 70% случаев, 0 комнат указали владельцы студий. Заменим 0 на 1"
   ]
  },
  {
   "cell_type": "code",
   "execution_count": 9,
   "metadata": {},
   "outputs": [],
   "source": [
    "data.loc[data['rooms'] == 0, 'rooms'] = 1"
   ]
  },
  {
   "cell_type": "markdown",
   "metadata": {},
   "source": [
    "Для неответов в переменной ceiling_height нет данных для замены на что-то, кроме медианы."
   ]
  },
  {
   "cell_type": "markdown",
   "metadata": {},
   "source": [
    "Согласно СНиП 2.08.01-89 \"...Высота жилых помещений от пола до потолка должна быть не менее 2,5 м\". Все, что меньше 2.5 - ошибка. Выбросы удаляем, заменяем на медиану."
   ]
  },
  {
   "cell_type": "code",
   "execution_count": 10,
   "metadata": {},
   "outputs": [
    {
     "data": {
      "text/plain": [
       "count    23671.000000\n",
       "mean         2.697867\n",
       "std          0.231904\n",
       "min          2.000000\n",
       "25%          2.600000\n",
       "50%          2.650000\n",
       "75%          2.700000\n",
       "max          8.300000\n",
       "Name: ceiling_height, dtype: float64"
      ]
     },
     "execution_count": 10,
     "metadata": {},
     "output_type": "execute_result"
    }
   ],
   "source": [
    "data.drop(data[(data.ceiling_height>10) | (data.ceiling_height<2)].index, inplace=True)\n",
    "data['ceiling_height'].fillna(data['ceiling_height'].median(),inplace=True)\n",
    "data['ceiling_height'].describe()"
   ]
  },
  {
   "cell_type": "markdown",
   "metadata": {},
   "source": [
    "Для замены неответов в переменной floors_total нет данных для замены на что-то, кроме медианы."
   ]
  },
  {
   "cell_type": "code",
   "execution_count": 11,
   "metadata": {},
   "outputs": [],
   "source": [
    "data['floors_total'].fillna(data['floors_total'].median(),inplace=True)"
   ]
  },
  {
   "cell_type": "markdown",
   "metadata": {},
   "source": [
    "Неответ в переменной is_apartment - отсутствие явления, то есть False. Переменную лучше сделать булевой, т.к. она отражает нили наличие, или отсутствие явления"
   ]
  },
  {
   "cell_type": "code",
   "execution_count": 12,
   "metadata": {
    "scrolled": false
   },
   "outputs": [
    {
     "data": {
      "text/html": [
       "<div>\n",
       "<style scoped>\n",
       "    .dataframe tbody tr th:only-of-type {\n",
       "        vertical-align: middle;\n",
       "    }\n",
       "\n",
       "    .dataframe tbody tr th {\n",
       "        vertical-align: top;\n",
       "    }\n",
       "\n",
       "    .dataframe thead th {\n",
       "        text-align: right;\n",
       "    }\n",
       "</style>\n",
       "<table border=\"1\" class=\"dataframe\">\n",
       "  <thead>\n",
       "    <tr style=\"text-align: right;\">\n",
       "      <th></th>\n",
       "      <th>total_images</th>\n",
       "      <th>last_price</th>\n",
       "      <th>total_area</th>\n",
       "      <th>first_day_exposition</th>\n",
       "      <th>rooms</th>\n",
       "      <th>ceiling_height</th>\n",
       "      <th>floors_total</th>\n",
       "      <th>living_area</th>\n",
       "      <th>floor</th>\n",
       "      <th>is_apartment</th>\n",
       "      <th>...</th>\n",
       "      <th>kitchen_area</th>\n",
       "      <th>balcony</th>\n",
       "      <th>locality_name</th>\n",
       "      <th>airports_nearest</th>\n",
       "      <th>cityCenters_nearest</th>\n",
       "      <th>parks_around3000</th>\n",
       "      <th>parks_nearest</th>\n",
       "      <th>ponds_around3000</th>\n",
       "      <th>ponds_nearest</th>\n",
       "      <th>days_exposition</th>\n",
       "    </tr>\n",
       "  </thead>\n",
       "  <tbody>\n",
       "    <tr>\n",
       "      <th>0</th>\n",
       "      <td>20</td>\n",
       "      <td>13000000.0</td>\n",
       "      <td>108.0</td>\n",
       "      <td>2019-03-07</td>\n",
       "      <td>3</td>\n",
       "      <td>2.70</td>\n",
       "      <td>16.0</td>\n",
       "      <td>51.0</td>\n",
       "      <td>8</td>\n",
       "      <td>False</td>\n",
       "      <td>...</td>\n",
       "      <td>25.0</td>\n",
       "      <td>NaN</td>\n",
       "      <td>Санкт-Петербург</td>\n",
       "      <td>18863.0</td>\n",
       "      <td>16028.0</td>\n",
       "      <td>1.0</td>\n",
       "      <td>482.0</td>\n",
       "      <td>2.0</td>\n",
       "      <td>755.0</td>\n",
       "      <td>NaN</td>\n",
       "    </tr>\n",
       "    <tr>\n",
       "      <th>1</th>\n",
       "      <td>7</td>\n",
       "      <td>3350000.0</td>\n",
       "      <td>40.4</td>\n",
       "      <td>2018-12-04</td>\n",
       "      <td>1</td>\n",
       "      <td>2.65</td>\n",
       "      <td>11.0</td>\n",
       "      <td>18.6</td>\n",
       "      <td>1</td>\n",
       "      <td>False</td>\n",
       "      <td>...</td>\n",
       "      <td>11.0</td>\n",
       "      <td>2.0</td>\n",
       "      <td>посёлок Шушары</td>\n",
       "      <td>12817.0</td>\n",
       "      <td>18603.0</td>\n",
       "      <td>0.0</td>\n",
       "      <td>NaN</td>\n",
       "      <td>0.0</td>\n",
       "      <td>NaN</td>\n",
       "      <td>81.0</td>\n",
       "    </tr>\n",
       "    <tr>\n",
       "      <th>2</th>\n",
       "      <td>10</td>\n",
       "      <td>5196000.0</td>\n",
       "      <td>56.0</td>\n",
       "      <td>2015-08-20</td>\n",
       "      <td>2</td>\n",
       "      <td>2.65</td>\n",
       "      <td>5.0</td>\n",
       "      <td>34.3</td>\n",
       "      <td>4</td>\n",
       "      <td>False</td>\n",
       "      <td>...</td>\n",
       "      <td>8.3</td>\n",
       "      <td>0.0</td>\n",
       "      <td>Санкт-Петербург</td>\n",
       "      <td>21741.0</td>\n",
       "      <td>13933.0</td>\n",
       "      <td>1.0</td>\n",
       "      <td>90.0</td>\n",
       "      <td>2.0</td>\n",
       "      <td>574.0</td>\n",
       "      <td>558.0</td>\n",
       "    </tr>\n",
       "    <tr>\n",
       "      <th>3</th>\n",
       "      <td>0</td>\n",
       "      <td>64900000.0</td>\n",
       "      <td>159.0</td>\n",
       "      <td>2015-07-24</td>\n",
       "      <td>3</td>\n",
       "      <td>2.65</td>\n",
       "      <td>14.0</td>\n",
       "      <td>NaN</td>\n",
       "      <td>9</td>\n",
       "      <td>False</td>\n",
       "      <td>...</td>\n",
       "      <td>NaN</td>\n",
       "      <td>0.0</td>\n",
       "      <td>Санкт-Петербург</td>\n",
       "      <td>28098.0</td>\n",
       "      <td>6800.0</td>\n",
       "      <td>2.0</td>\n",
       "      <td>84.0</td>\n",
       "      <td>3.0</td>\n",
       "      <td>234.0</td>\n",
       "      <td>424.0</td>\n",
       "    </tr>\n",
       "    <tr>\n",
       "      <th>4</th>\n",
       "      <td>2</td>\n",
       "      <td>10000000.0</td>\n",
       "      <td>100.0</td>\n",
       "      <td>2018-06-19</td>\n",
       "      <td>2</td>\n",
       "      <td>3.03</td>\n",
       "      <td>14.0</td>\n",
       "      <td>32.0</td>\n",
       "      <td>13</td>\n",
       "      <td>False</td>\n",
       "      <td>...</td>\n",
       "      <td>41.0</td>\n",
       "      <td>NaN</td>\n",
       "      <td>Санкт-Петербург</td>\n",
       "      <td>31856.0</td>\n",
       "      <td>8098.0</td>\n",
       "      <td>2.0</td>\n",
       "      <td>112.0</td>\n",
       "      <td>1.0</td>\n",
       "      <td>48.0</td>\n",
       "      <td>121.0</td>\n",
       "    </tr>\n",
       "  </tbody>\n",
       "</table>\n",
       "<p>5 rows × 22 columns</p>\n",
       "</div>"
      ],
      "text/plain": [
       "   total_images  last_price  total_area first_day_exposition  rooms  \\\n",
       "0            20  13000000.0       108.0           2019-03-07      3   \n",
       "1             7   3350000.0        40.4           2018-12-04      1   \n",
       "2            10   5196000.0        56.0           2015-08-20      2   \n",
       "3             0  64900000.0       159.0           2015-07-24      3   \n",
       "4             2  10000000.0       100.0           2018-06-19      2   \n",
       "\n",
       "   ceiling_height  floors_total  living_area  floor  is_apartment  ...  \\\n",
       "0            2.70          16.0         51.0      8         False  ...   \n",
       "1            2.65          11.0         18.6      1         False  ...   \n",
       "2            2.65           5.0         34.3      4         False  ...   \n",
       "3            2.65          14.0          NaN      9         False  ...   \n",
       "4            3.03          14.0         32.0     13         False  ...   \n",
       "\n",
       "   kitchen_area  balcony    locality_name  airports_nearest  \\\n",
       "0          25.0      NaN  Санкт-Петербург           18863.0   \n",
       "1          11.0      2.0   посёлок Шушары           12817.0   \n",
       "2           8.3      0.0  Санкт-Петербург           21741.0   \n",
       "3           NaN      0.0  Санкт-Петербург           28098.0   \n",
       "4          41.0      NaN  Санкт-Петербург           31856.0   \n",
       "\n",
       "  cityCenters_nearest  parks_around3000  parks_nearest  ponds_around3000  \\\n",
       "0             16028.0               1.0          482.0               2.0   \n",
       "1             18603.0               0.0            NaN               0.0   \n",
       "2             13933.0               1.0           90.0               2.0   \n",
       "3              6800.0               2.0           84.0               3.0   \n",
       "4              8098.0               2.0          112.0               1.0   \n",
       "\n",
       "   ponds_nearest  days_exposition  \n",
       "0          755.0              NaN  \n",
       "1            NaN             81.0  \n",
       "2          574.0            558.0  \n",
       "3          234.0            424.0  \n",
       "4           48.0            121.0  \n",
       "\n",
       "[5 rows x 22 columns]"
      ]
     },
     "execution_count": 12,
     "metadata": {},
     "output_type": "execute_result"
    }
   ],
   "source": [
    "data['is_apartment'] = data['is_apartment'].fillna(False)\n",
    "data['is_apartment'] = data['is_apartment'].astype(bool)\n",
    "data.head()"
   ]
  },
  {
   "cell_type": "markdown",
   "metadata": {},
   "source": [
    "Распределим общую площадь на группы, согласно квантильным значениям. Заменим неответы на медианы по подгруппам."
   ]
  },
  {
   "cell_type": "code",
   "execution_count": 13,
   "metadata": {},
   "outputs": [
    {
     "data": {
      "text/plain": [
       "count    23666.000000\n",
       "mean        60.368033\n",
       "std         35.665224\n",
       "min         14.000000\n",
       "25%         40.000000\n",
       "50%         52.000000\n",
       "75%         69.900000\n",
       "max        900.000000\n",
       "Name: total_area, dtype: float64"
      ]
     },
     "execution_count": 13,
     "metadata": {},
     "output_type": "execute_result"
    }
   ],
   "source": [
    "\n",
    "def total_area_group(area):\n",
    "    if area <= 40.0:\n",
    "        return '1'\n",
    "    if 40.0 < area <= 52.0:\n",
    "        return '2'\n",
    "    if 52.0 < area <= 69.9:\n",
    "        return '3'\n",
    "    if area >= 70.0:\n",
    "        return '70 and more'\n",
    "    return 'l'\n",
    "\n",
    "data['total_area_group'] = data['total_area'].apply(total_area_group)\n",
    "\n",
    "data.drop(data[data.total_area<14].index, inplace=True)\n",
    "\n",
    "data['total_area'] = data['total_area'].fillna(data.groupby('total_area_group')['total_area'].transform('median'))\n",
    "data['total_area'].isna().sum()\n",
    "data['total_area'].describe()\n"
   ]
  },
  {
   "cell_type": "markdown",
   "metadata": {},
   "source": [
    "При корректировке неответов в living_area, необходимо соблюсти соотношение общей площади к жилой. Аналогично с площадью кухни."
   ]
  },
  {
   "cell_type": "markdown",
   "metadata": {},
   "source": [
    "В ряде случаев, допускается жилая площадь 8 кв.м.(для временного жилья). Значения меньше нужно удалить"
   ]
  },
  {
   "cell_type": "code",
   "execution_count": 14,
   "metadata": {},
   "outputs": [],
   "source": [
    "data.drop(data[data.living_area<8].index,inplace=True)"
   ]
  },
  {
   "cell_type": "code",
   "execution_count": 15,
   "metadata": {},
   "outputs": [],
   "source": [
    "#корректировка неответов в living_area\n",
    "living_to_total_median = data['living_area'].median()/data['total_area'].median()\n",
    "data['living_area'] = data['living_area'].fillna(data['total_area'] * living_to_total_median)\n"
   ]
  },
  {
   "cell_type": "markdown",
   "metadata": {},
   "source": [
    "В ряде случаев, допускается площадь кухни 5 кв.м. Значения меньше нужно удалить"
   ]
  },
  {
   "cell_type": "code",
   "execution_count": 16,
   "metadata": {},
   "outputs": [],
   "source": [
    "data.drop(data[data.kitchen_area<5].index, inplace=True)"
   ]
  },
  {
   "cell_type": "code",
   "execution_count": 17,
   "metadata": {},
   "outputs": [],
   "source": [
    "# корректировка неответов в kitchen_area\n",
    "kitchen_to_total_median = data['kitchen_area'].median()/data['living_area'].median()\n",
    "data['kitchen_area'] = data['kitchen_area'].fillna(data['total_area'] * kitchen_to_total_median)"
   ]
  },
  {
   "cell_type": "markdown",
   "metadata": {},
   "source": [
    "Проверим, что жилая площадь не превышает общую"
   ]
  },
  {
   "cell_type": "code",
   "execution_count": 18,
   "metadata": {},
   "outputs": [
    {
     "data": {
      "text/plain": [
       "0"
      ]
     },
     "execution_count": 18,
     "metadata": {},
     "output_type": "execute_result"
    }
   ],
   "source": [
    "len(data.query('living_area > total_area'))"
   ]
  },
  {
   "cell_type": "markdown",
   "metadata": {},
   "source": [
    "Удалим пропуски в переменной balcony"
   ]
  },
  {
   "cell_type": "code",
   "execution_count": 19,
   "metadata": {
    "scrolled": true
   },
   "outputs": [],
   "source": [
    "data['balcony'] = data['balcony'].fillna(0)"
   ]
  },
  {
   "cell_type": "markdown",
   "metadata": {},
   "source": [
    "Неответы в locality_name восстановить невозможно, но таких записей всего 0,2%. Необходимо удалить. "
   ]
  },
  {
   "cell_type": "code",
   "execution_count": 20,
   "metadata": {},
   "outputs": [],
   "source": [
    "data.dropna(subset=['locality_name'], inplace=True)"
   ]
  },
  {
   "cell_type": "markdown",
   "metadata": {},
   "source": [
    "У ряда переменных пропуски можно заменить на 0, т.к. неответ, скорее всего, означает 0"
   ]
  },
  {
   "cell_type": "code",
   "execution_count": 21,
   "metadata": {
    "scrolled": true
   },
   "outputs": [],
   "source": [
    "data['parks_around3000'] = data['parks_around3000'].fillna(0)\n",
    "data['ponds_around3000'] = data['ponds_around3000'].fillna(0)"
   ]
  },
  {
   "cell_type": "code",
   "execution_count": 22,
   "metadata": {
    "scrolled": true
   },
   "outputs": [
    {
     "data": {
      "text/plain": [
       "total_images                0\n",
       "last_price                  0\n",
       "total_area                  0\n",
       "first_day_exposition        0\n",
       "rooms                       0\n",
       "ceiling_height              0\n",
       "floors_total                0\n",
       "living_area                 0\n",
       "floor                       0\n",
       "is_apartment                0\n",
       "studio                      0\n",
       "open_plan                   0\n",
       "kitchen_area                0\n",
       "balcony                     0\n",
       "locality_name               0\n",
       "airports_nearest         5487\n",
       "cityCenters_nearest      5464\n",
       "parks_around3000            0\n",
       "parks_nearest           15478\n",
       "ponds_around3000            0\n",
       "ponds_nearest           14474\n",
       "days_exposition          3160\n",
       "total_area_group            0\n",
       "dtype: int64"
      ]
     },
     "execution_count": 22,
     "metadata": {},
     "output_type": "execute_result"
    }
   ],
   "source": [
    "data.isna().sum()"
   ]
  },
  {
   "cell_type": "markdown",
   "metadata": {},
   "source": [
    "Можно предположить, что переменная с названиями населенных пунктов содержит ошибки, опечатки и т.д."
   ]
  },
  {
   "cell_type": "code",
   "execution_count": 23,
   "metadata": {},
   "outputs": [
    {
     "data": {
      "text/plain": [
       "array(['Санкт-Петербург', 'посёлок Шушары', 'городской посёлок Янино-1',\n",
       "       'посёлок Парголово', 'посёлок Мурино', 'Ломоносов', 'Сертолово',\n",
       "       'Петергоф', 'Пушкин', 'деревня Кудрово', 'Коммунар', 'Колпино',\n",
       "       'поселок городского типа Красный Бор', 'Гатчина', 'поселок Мурино',\n",
       "       'деревня Фёдоровское', 'Выборг', 'Кронштадт', 'Кировск',\n",
       "       'деревня Новое Девяткино', 'посёлок Металлострой',\n",
       "       'посёлок городского типа Лебяжье',\n",
       "       'посёлок городского типа Сиверский', 'поселок Молодцово',\n",
       "       'поселок городского типа Кузьмоловский',\n",
       "       'садовое товарищество Новая Ропша', 'Павловск',\n",
       "       'деревня Пикколово', 'Всеволожск', 'Волхов', 'Кингисепп',\n",
       "       'Приозерск', 'Сестрорецк', 'деревня Куттузи', 'посёлок Аннино',\n",
       "       'поселок городского типа Ефимовский', 'посёлок Плодовое',\n",
       "       'деревня Заклинье', 'поселок Торковичи', 'поселок Первомайское',\n",
       "       'Красное Село', 'посёлок Понтонный', 'Сясьстрой', 'деревня Старая',\n",
       "       'деревня Лесколово', 'посёлок Новый Свет', 'Сланцы',\n",
       "       'село Путилово', 'Ивангород', 'Мурино', 'Шлиссельбург',\n",
       "       'Никольское', 'Зеленогорск', 'Сосновый Бор', 'поселок Новый Свет',\n",
       "       'деревня Оржицы', 'деревня Кальтино', 'Кудрово',\n",
       "       'поселок Романовка', 'посёлок Бугры', 'поселок Бугры',\n",
       "       'поселок городского типа Рощино', 'Луга', 'Волосово', 'Отрадное',\n",
       "       'село Павлово', 'поселок Оредеж', 'село Копорье',\n",
       "       'посёлок городского типа Красный Бор', 'посёлок Молодёжное',\n",
       "       'Тихвин', 'посёлок Победа', 'деревня Нурма',\n",
       "       'поселок городского типа Синявино', 'Тосно',\n",
       "       'посёлок городского типа Кузьмоловский', 'посёлок Стрельна',\n",
       "       'Бокситогорск', 'посёлок Александровская', 'деревня Лопухинка',\n",
       "       'Пикалёво', 'поселок Терволово',\n",
       "       'поселок городского типа Советский', 'Кириши', 'Подпорожье',\n",
       "       'посёлок Петровское', 'посёлок городского типа Токсово',\n",
       "       'поселок Сельцо', 'посёлок городского типа Вырица',\n",
       "       'деревня Кипень', 'деревня Келози', 'деревня Вартемяги',\n",
       "       'посёлок Тельмана', 'поселок Севастьяново',\n",
       "       'городской поселок Большая Ижора', 'городской посёлок Павлово',\n",
       "       'деревня Агалатово', 'посёлок Новогорелово',\n",
       "       'городской посёлок Лесогорский', 'деревня Лаголово',\n",
       "       'поселок Цвелодубово', 'поселок городского типа Рахья',\n",
       "       'поселок городского типа Вырица', 'деревня Белогорка',\n",
       "       'поселок Заводской', 'городской посёлок Новоселье',\n",
       "       'деревня Большие Колпаны', 'деревня Горбунки', 'деревня Батово',\n",
       "       'деревня Заневка', 'деревня Иссад', 'Приморск',\n",
       "       'городской посёлок Фёдоровское', 'деревня Мистолово',\n",
       "       'Новая Ладога', 'поселок Зимитицы', 'поселок Барышево',\n",
       "       'деревня Разметелево', 'поселок городского типа имени Свердлова',\n",
       "       'деревня Пеники', 'поселок Рябово', 'деревня Пудомяги',\n",
       "       'поселок станции Корнево', 'деревня Низино', 'деревня Бегуницы',\n",
       "       'посёлок Поляны', 'городской посёлок Мга', 'поселок Елизаветино',\n",
       "       'посёлок городского типа Кузнечное', 'деревня Колтуши',\n",
       "       'поселок Запорожское', 'посёлок городского типа Рощино',\n",
       "       'деревня Гостилицы', 'деревня Малое Карлино',\n",
       "       'посёлок Мичуринское', 'посёлок городского типа имени Морозова',\n",
       "       'посёлок Сосново', 'деревня Аро', 'поселок Ильичёво',\n",
       "       'посёлок городского типа Тайцы', 'деревня Малое Верево',\n",
       "       'деревня Извара', 'поселок станции Вещево', 'село Паша',\n",
       "       'деревня Калитино', 'посёлок городского типа Ульяновка',\n",
       "       'деревня Чудской Бор', 'поселок городского типа Дубровка',\n",
       "       'деревня Мины', 'поселок Войсковицы',\n",
       "       'посёлок городского типа имени Свердлова', 'деревня Коркино',\n",
       "       'посёлок Ропша', 'поселок городского типа Приладожский',\n",
       "       'посёлок Щеглово', 'посёлок Гаврилово', 'Лодейное Поле',\n",
       "       'деревня Рабитицы', 'поселок городского типа Никольский',\n",
       "       'деревня Кузьмолово', 'деревня Малые Колпаны', 'поселок Тельмана',\n",
       "       'посёлок Петро-Славянка', 'городской посёлок Назия',\n",
       "       'посёлок Репино', 'посёлок Ильичёво', 'поселок Углово',\n",
       "       'поселок Старая Малукса', 'садовое товарищество Рахья',\n",
       "       'поселок Аннино', 'поселок Победа', 'деревня Меньково',\n",
       "       'деревня Старые Бегуницы', 'посёлок Сапёрный', 'поселок Семрино',\n",
       "       'поселок Гаврилово', 'поселок Глажево', 'поселок Кобринское',\n",
       "       'деревня Гарболово', 'деревня Юкки',\n",
       "       'поселок станции Приветнинское', 'деревня Мануйлово',\n",
       "       'деревня Пчева', 'поселок Поляны', 'поселок Цвылёво',\n",
       "       'поселок Мельниково', 'посёлок Пудость', 'посёлок Усть-Луга',\n",
       "       'Светогорск', 'Любань', 'поселок Селезнёво',\n",
       "       'поселок городского типа Рябово', 'Каменногорск', 'деревня Кривко',\n",
       "       'поселок Глебычево', 'деревня Парицы', 'поселок Жилпосёлок',\n",
       "       'посёлок городского типа Мга', 'городской поселок Янино-1',\n",
       "       'посёлок Войскорово', 'село Никольское', 'посёлок Терволово',\n",
       "       'поселок Стеклянный', 'посёлок городского типа Важины',\n",
       "       'посёлок Мыза-Ивановка', 'село Русско-Высоцкое',\n",
       "       'поселок городского типа Лебяжье',\n",
       "       'поселок городского типа Форносово', 'село Старая Ладога',\n",
       "       'поселок Житково', 'городской посёлок Виллози', 'деревня Лампово',\n",
       "       'деревня Шпаньково', 'деревня Лаврики', 'посёлок Сумино',\n",
       "       'посёлок Возрождение', 'деревня Старосиверская',\n",
       "       'посёлок Кикерино', 'поселок Возрождение',\n",
       "       'деревня Старое Хинколово', 'посёлок Пригородный',\n",
       "       'посёлок Торфяное', 'городской посёлок Будогощь',\n",
       "       'поселок Суходолье', 'поселок Красная Долина', 'деревня Хапо-Ое',\n",
       "       'поселок городского типа Дружная Горка', 'поселок Лисий Нос',\n",
       "       'деревня Яльгелево', 'посёлок Стеклянный', 'село Рождествено',\n",
       "       'деревня Старополье', 'посёлок Левашово', 'деревня Сяськелево',\n",
       "       'деревня Камышовка',\n",
       "       'садоводческое некоммерческое товарищество Лесная Поляна',\n",
       "       'деревня Хязельки', 'поселок Жилгородок', 'деревня Ялгино',\n",
       "       'поселок Новый Учхоз', 'городской посёлок Рощино',\n",
       "       'поселок Гончарово', 'поселок Почап', 'посёлок Сапёрное',\n",
       "       'посёлок Платформа 69-й километр', 'поселок Каложицы',\n",
       "       'деревня Фалилеево', 'деревня Пельгора',\n",
       "       'поселок городского типа Лесогорский', 'деревня Торошковичи',\n",
       "       'посёлок Белоостров', 'посёлок Алексеевка', 'поселок Серебрянский',\n",
       "       'поселок Лукаши', 'посёлок Песочный', 'поселок Петровское',\n",
       "       'деревня Щеглово', 'поселок Мичуринское', 'деревня Тарасово',\n",
       "       'поселок Кингисеппский',\n",
       "       'посёлок при железнодорожной станции Вещево', 'поселок Ушаки',\n",
       "       'деревня Котлы', 'деревня Сижно', 'деревня Торосово',\n",
       "       'поселок городского типа Токсово', 'деревня Новолисино',\n",
       "       'посёлок станции Громово', 'деревня Глинка', 'посёлок Мельниково',\n",
       "       'поселок городского типа Назия', 'деревня Старая Пустошь',\n",
       "       'поселок Коммунары', 'поселок Починок',\n",
       "       'посёлок городского типа Вознесенье', 'деревня Разбегаево',\n",
       "       'посёлок городского типа Рябово', 'поселок Гладкое',\n",
       "       'посёлок при железнодорожной станции Приветнинское',\n",
       "       'поселок Тёсово-4', 'посёлок Жилгородок', 'деревня Бор',\n",
       "       'посёлок Коробицыно', 'деревня Большая Вруда', 'деревня Курковицы',\n",
       "       'посёлок Лисий Нос', 'городской посёлок Советский',\n",
       "       'посёлок Кобралово', 'деревня Суоранда', 'поселок Кобралово',\n",
       "       'поселок городского типа Кондратьево',\n",
       "       'коттеджный поселок Счастье', 'поселок Любань', 'деревня Реброво',\n",
       "       'деревня Зимитицы', 'деревня Тойворово', 'поселок Семиозерье',\n",
       "       'поселок Лесное', 'поселок Совхозный', 'поселок Усть-Луга',\n",
       "       'посёлок Ленинское', 'посёлок Суйда',\n",
       "       'посёлок городского типа Форносово', 'деревня Нижние Осельки',\n",
       "       'посёлок станции Свирь', 'поселок Перово', 'Высоцк',\n",
       "       'поселок Гарболово', 'село Шум', 'поселок Котельский',\n",
       "       'поселок станции Лужайка', 'деревня Большая Пустомержа',\n",
       "       'поселок Красносельское', 'деревня Вахнова Кара', 'деревня Пижма',\n",
       "       'коттеджный поселок Кивеннапа Север', 'поселок Коробицыно',\n",
       "       'поселок Ромашки', 'посёлок Перово', 'деревня Каськово',\n",
       "       'деревня Куровицы', 'посёлок Плоское', 'поселок Сумино',\n",
       "       'поселок городского типа Большая Ижора', 'поселок Кирпичное',\n",
       "       'посёлок городского типа Павлово', 'деревня Ям-Тесово',\n",
       "       'деревня Раздолье', 'деревня Терпилицы', 'посёлок Шугозеро',\n",
       "       'деревня Ваганово', 'поселок Пушное', 'садовое товарищество Садко',\n",
       "       'посёлок Усть-Ижора', 'деревня Выскатка',\n",
       "       'городской посёлок Свирьстрой', 'поселок Громово',\n",
       "       'деревня Кисельня', 'посёлок Старая Малукса',\n",
       "       'деревня Трубников Бор', 'поселок Калитино',\n",
       "       'посёлок Высокоключевой', 'садовое товарищество Приладожский',\n",
       "       'посёлок Пансионат Зелёный Бор', 'деревня Ненимяки',\n",
       "       'поселок Пансионат Зелёный Бор', 'деревня Снегирёвка',\n",
       "       'деревня Рапполово', 'деревня Пустынка', 'поселок Рабитицы',\n",
       "       'деревня Большой Сабск', 'деревня Русско', 'деревня Лупполово',\n",
       "       'деревня Большое Рейзино', 'деревня Малая Романовка',\n",
       "       'поселок Дружноселье', 'поселок Пчевжа', 'поселок Володарское',\n",
       "       'коттеджный посёлок Лесное', 'деревня Тихковицы',\n",
       "       'деревня Борисова Грива', 'посёлок Дзержинского'], dtype=object)"
      ]
     },
     "execution_count": 23,
     "metadata": {},
     "output_type": "execute_result"
    }
   ],
   "source": [
    "data['locality_name'].unique()"
   ]
  },
  {
   "cell_type": "markdown",
   "metadata": {},
   "source": [
    "Действительно, присутствует написание слов и  через ё, и через е. Нужно поменять ё на е. Тип населенного пункта не имеет значения, удалим."
   ]
  },
  {
   "cell_type": "code",
   "execution_count": 24,
   "metadata": {},
   "outputs": [
    {
     "data": {
      "text/plain": [
       "Санкт-Петербург    15642\n",
       "Мурино               583\n",
       "Кудрово              472\n",
       "Шушары               438\n",
       "Всеволожск           398\n",
       "Пушкин               366\n",
       "Колпино              338\n",
       "Парголово            327\n",
       "Гатчина              301\n",
       "Выборг               236\n",
       "Петергоф             201\n",
       "Сестрорецк           182\n",
       "Красное Село         176\n",
       "Новое Девяткино      144\n",
       "Сертолово            142\n",
       "Ломоносов            130\n",
       "Кириши               124\n",
       "Бугры                114\n",
       "Сланцы               112\n",
       "Волхов               109\n",
       "Тосно                104\n",
       "Кингисепп            104\n",
       "Никольское            94\n",
       "Кронштадт             92\n",
       "Коммунар              89\n",
       "Сосновый Бор          87\n",
       "Кировск               82\n",
       "Отрадное              79\n",
       "Янино-1               68\n",
       "Металлострой          66\n",
       "Name: locality_name, dtype: int64"
      ]
     },
     "execution_count": 24,
     "metadata": {},
     "output_type": "execute_result"
    }
   ],
   "source": [
    "import re \n",
    "def new_cities_words(row):\n",
    "    locality = row['locality_name'].replace('ё','е')\n",
    "    return re.sub(r'\\b[а-я]+\\s*', \"\", locality).strip()\n",
    "data['locality_name'] = data.apply(new_cities_words, axis=1)\n",
    "data['locality_name'].value_counts().head(30)"
   ]
  },
  {
   "cell_type": "markdown",
   "metadata": {},
   "source": [
    "Посмотрим медиану переменных airports_nearest, cityCenters_nearest, parks_nearest, ponds_nearest"
   ]
  },
  {
   "cell_type": "code",
   "execution_count": 25,
   "metadata": {
    "scrolled": true
   },
   "outputs": [
    {
     "data": {
      "text/html": [
       "<div>\n",
       "<style scoped>\n",
       "    .dataframe tbody tr th:only-of-type {\n",
       "        vertical-align: middle;\n",
       "    }\n",
       "\n",
       "    .dataframe tbody tr th {\n",
       "        vertical-align: top;\n",
       "    }\n",
       "\n",
       "    .dataframe thead th {\n",
       "        text-align: right;\n",
       "    }\n",
       "</style>\n",
       "<table border=\"1\" class=\"dataframe\">\n",
       "  <thead>\n",
       "    <tr style=\"text-align: right;\">\n",
       "      <th></th>\n",
       "      <th>airports_nearest</th>\n",
       "      <th>cityCenters_nearest</th>\n",
       "      <th>parks_nearest</th>\n",
       "      <th>ponds_nearest</th>\n",
       "    </tr>\n",
       "    <tr>\n",
       "      <th>locality_name</th>\n",
       "      <th></th>\n",
       "      <th></th>\n",
       "      <th></th>\n",
       "      <th></th>\n",
       "    </tr>\n",
       "  </thead>\n",
       "  <tbody>\n",
       "    <tr>\n",
       "      <th>Александровская</th>\n",
       "      <td>12896.5</td>\n",
       "      <td>27468.0</td>\n",
       "      <td>NaN</td>\n",
       "      <td>711.5</td>\n",
       "    </tr>\n",
       "    <tr>\n",
       "      <th>Белоостров</th>\n",
       "      <td>57769.0</td>\n",
       "      <td>38868.0</td>\n",
       "      <td>NaN</td>\n",
       "      <td>320.0</td>\n",
       "    </tr>\n",
       "    <tr>\n",
       "      <th>Зеленогорск</th>\n",
       "      <td>72280.0</td>\n",
       "      <td>53379.0</td>\n",
       "      <td>147.0</td>\n",
       "      <td>507.0</td>\n",
       "    </tr>\n",
       "    <tr>\n",
       "      <th>Колпино</th>\n",
       "      <td>26232.0</td>\n",
       "      <td>32018.0</td>\n",
       "      <td>393.0</td>\n",
       "      <td>509.0</td>\n",
       "    </tr>\n",
       "    <tr>\n",
       "      <th>Красное Село</th>\n",
       "      <td>25705.5</td>\n",
       "      <td>29130.5</td>\n",
       "      <td>428.5</td>\n",
       "      <td>225.5</td>\n",
       "    </tr>\n",
       "    <tr>\n",
       "      <th>Кронштадт</th>\n",
       "      <td>67844.0</td>\n",
       "      <td>49570.0</td>\n",
       "      <td>286.0</td>\n",
       "      <td>313.0</td>\n",
       "    </tr>\n",
       "    <tr>\n",
       "      <th>Левашово</th>\n",
       "      <td>52693.0</td>\n",
       "      <td>25727.0</td>\n",
       "      <td>NaN</td>\n",
       "      <td>NaN</td>\n",
       "    </tr>\n",
       "    <tr>\n",
       "      <th>Лисий Нос</th>\n",
       "      <td>55909.0</td>\n",
       "      <td>28226.0</td>\n",
       "      <td>NaN</td>\n",
       "      <td>NaN</td>\n",
       "    </tr>\n",
       "    <tr>\n",
       "      <th>Ломоносов</th>\n",
       "      <td>48406.0</td>\n",
       "      <td>51677.0</td>\n",
       "      <td>407.0</td>\n",
       "      <td>553.0</td>\n",
       "    </tr>\n",
       "    <tr>\n",
       "      <th>Металлострой</th>\n",
       "      <td>25758.0</td>\n",
       "      <td>27602.0</td>\n",
       "      <td>NaN</td>\n",
       "      <td>NaN</td>\n",
       "    </tr>\n",
       "    <tr>\n",
       "      <th>Молодежное</th>\n",
       "      <td>84665.0</td>\n",
       "      <td>65764.0</td>\n",
       "      <td>NaN</td>\n",
       "      <td>NaN</td>\n",
       "    </tr>\n",
       "    <tr>\n",
       "      <th>Мурино</th>\n",
       "      <td>51553.0</td>\n",
       "      <td>21888.0</td>\n",
       "      <td>NaN</td>\n",
       "      <td>133.0</td>\n",
       "    </tr>\n",
       "    <tr>\n",
       "      <th>Павловск</th>\n",
       "      <td>20529.5</td>\n",
       "      <td>32683.0</td>\n",
       "      <td>312.0</td>\n",
       "      <td>458.0</td>\n",
       "    </tr>\n",
       "    <tr>\n",
       "      <th>Парголово</th>\n",
       "      <td>53426.0</td>\n",
       "      <td>19311.0</td>\n",
       "      <td>733.0</td>\n",
       "      <td>593.0</td>\n",
       "    </tr>\n",
       "    <tr>\n",
       "      <th>Песочный</th>\n",
       "      <td>53036.0</td>\n",
       "      <td>27083.5</td>\n",
       "      <td>NaN</td>\n",
       "      <td>NaN</td>\n",
       "    </tr>\n",
       "    <tr>\n",
       "      <th>Петергоф</th>\n",
       "      <td>39231.0</td>\n",
       "      <td>33771.0</td>\n",
       "      <td>294.0</td>\n",
       "      <td>474.0</td>\n",
       "    </tr>\n",
       "    <tr>\n",
       "      <th>Петро-Славянка</th>\n",
       "      <td>20605.0</td>\n",
       "      <td>27165.0</td>\n",
       "      <td>NaN</td>\n",
       "      <td>663.0</td>\n",
       "    </tr>\n",
       "    <tr>\n",
       "      <th>Понтонный</th>\n",
       "      <td>30642.0</td>\n",
       "      <td>32354.0</td>\n",
       "      <td>NaN</td>\n",
       "      <td>638.0</td>\n",
       "    </tr>\n",
       "    <tr>\n",
       "      <th>Пушкин</th>\n",
       "      <td>15766.0</td>\n",
       "      <td>27920.0</td>\n",
       "      <td>399.5</td>\n",
       "      <td>444.0</td>\n",
       "    </tr>\n",
       "    <tr>\n",
       "      <th>Репино</th>\n",
       "      <td>61797.5</td>\n",
       "      <td>42896.5</td>\n",
       "      <td>NaN</td>\n",
       "      <td>NaN</td>\n",
       "    </tr>\n",
       "    <tr>\n",
       "      <th>Санкт-Петербург</th>\n",
       "      <td>26771.0</td>\n",
       "      <td>12245.0</td>\n",
       "      <td>460.0</td>\n",
       "      <td>503.0</td>\n",
       "    </tr>\n",
       "    <tr>\n",
       "      <th>Саперный</th>\n",
       "      <td>34147.5</td>\n",
       "      <td>35859.5</td>\n",
       "      <td>NaN</td>\n",
       "      <td>419.5</td>\n",
       "    </tr>\n",
       "    <tr>\n",
       "      <th>Сестрорецк</th>\n",
       "      <td>56692.0</td>\n",
       "      <td>34821.0</td>\n",
       "      <td>367.0</td>\n",
       "      <td>372.0</td>\n",
       "    </tr>\n",
       "    <tr>\n",
       "      <th>Стрельна</th>\n",
       "      <td>28317.0</td>\n",
       "      <td>23491.0</td>\n",
       "      <td>700.0</td>\n",
       "      <td>859.0</td>\n",
       "    </tr>\n",
       "    <tr>\n",
       "      <th>Усть-Ижора</th>\n",
       "      <td>26510.5</td>\n",
       "      <td>28222.5</td>\n",
       "      <td>NaN</td>\n",
       "      <td>NaN</td>\n",
       "    </tr>\n",
       "    <tr>\n",
       "      <th>Шушары</th>\n",
       "      <td>17429.0</td>\n",
       "      <td>24213.0</td>\n",
       "      <td>NaN</td>\n",
       "      <td>587.0</td>\n",
       "    </tr>\n",
       "    <tr>\n",
       "      <th>Щеглово</th>\n",
       "      <td>61908.0</td>\n",
       "      <td>34085.0</td>\n",
       "      <td>NaN</td>\n",
       "      <td>NaN</td>\n",
       "    </tr>\n",
       "  </tbody>\n",
       "</table>\n",
       "</div>"
      ],
      "text/plain": [
       "                 airports_nearest  cityCenters_nearest  parks_nearest  \\\n",
       "locality_name                                                           \n",
       "Александровская           12896.5              27468.0            NaN   \n",
       "Белоостров                57769.0              38868.0            NaN   \n",
       "Зеленогорск               72280.0              53379.0          147.0   \n",
       "Колпино                   26232.0              32018.0          393.0   \n",
       "Красное Село              25705.5              29130.5          428.5   \n",
       "Кронштадт                 67844.0              49570.0          286.0   \n",
       "Левашово                  52693.0              25727.0            NaN   \n",
       "Лисий Нос                 55909.0              28226.0            NaN   \n",
       "Ломоносов                 48406.0              51677.0          407.0   \n",
       "Металлострой              25758.0              27602.0            NaN   \n",
       "Молодежное                84665.0              65764.0            NaN   \n",
       "Мурино                    51553.0              21888.0            NaN   \n",
       "Павловск                  20529.5              32683.0          312.0   \n",
       "Парголово                 53426.0              19311.0          733.0   \n",
       "Песочный                  53036.0              27083.5            NaN   \n",
       "Петергоф                  39231.0              33771.0          294.0   \n",
       "Петро-Славянка            20605.0              27165.0            NaN   \n",
       "Понтонный                 30642.0              32354.0            NaN   \n",
       "Пушкин                    15766.0              27920.0          399.5   \n",
       "Репино                    61797.5              42896.5            NaN   \n",
       "Санкт-Петербург           26771.0              12245.0          460.0   \n",
       "Саперный                  34147.5              35859.5            NaN   \n",
       "Сестрорецк                56692.0              34821.0          367.0   \n",
       "Стрельна                  28317.0              23491.0          700.0   \n",
       "Усть-Ижора                26510.5              28222.5            NaN   \n",
       "Шушары                    17429.0              24213.0            NaN   \n",
       "Щеглово                   61908.0              34085.0            NaN   \n",
       "\n",
       "                 ponds_nearest  \n",
       "locality_name                   \n",
       "Александровская          711.5  \n",
       "Белоостров               320.0  \n",
       "Зеленогорск              507.0  \n",
       "Колпино                  509.0  \n",
       "Красное Село             225.5  \n",
       "Кронштадт                313.0  \n",
       "Левашово                   NaN  \n",
       "Лисий Нос                  NaN  \n",
       "Ломоносов                553.0  \n",
       "Металлострой               NaN  \n",
       "Молодежное                 NaN  \n",
       "Мурино                   133.0  \n",
       "Павловск                 458.0  \n",
       "Парголово                593.0  \n",
       "Песочный                   NaN  \n",
       "Петергоф                 474.0  \n",
       "Петро-Славянка           663.0  \n",
       "Понтонный                638.0  \n",
       "Пушкин                   444.0  \n",
       "Репино                     NaN  \n",
       "Санкт-Петербург          503.0  \n",
       "Саперный                 419.5  \n",
       "Сестрорецк               372.0  \n",
       "Стрельна                 859.0  \n",
       "Усть-Ижора                 NaN  \n",
       "Шушары                   587.0  \n",
       "Щеглово                    NaN  "
      ]
     },
     "metadata": {},
     "output_type": "display_data"
    }
   ],
   "source": [
    "median_data = data.pivot_table(\n",
    "    index='locality_name',\n",
    "    values=['airports_nearest', 'cityCenters_nearest', 'parks_nearest', 'ponds_nearest'],\n",
    "    aggfunc='median'\n",
    ")\n",
    "\n",
    "display(median_data)"
   ]
  },
  {
   "cell_type": "markdown",
   "metadata": {},
   "source": [
    "Пропуски в parks_nearest и ponds_nearest нужно заменить на 0, т.к. данных для замены на медиану нет. Неответы в airports_nearest и cityCenters_nearest заменить на медиану"
   ]
  },
  {
   "cell_type": "code",
   "execution_count": 26,
   "metadata": {},
   "outputs": [],
   "source": [
    "data['parks_nearest'] = data['parks_nearest'].fillna(0)\n",
    "data['ponds_nearest'] = data['ponds_nearest'].fillna(0)"
   ]
  },
  {
   "cell_type": "markdown",
   "metadata": {},
   "source": [
    "Данные о близости к центру города важны только для Санкт-Петербурга. Неответы в других населенных пунктах можно заменить на медиану."
   ]
  },
  {
   "cell_type": "code",
   "execution_count": 27,
   "metadata": {},
   "outputs": [],
   "source": [
    "city_non_SPB = data.query('(locality_name != \"Санкт-Петербург\") & (cityCenters_nearest == \"nan\")')\n",
    "data.loc[(data['cityCenters_nearest'].isna())&(data['locality_name'] != \"Санкт-Петербург\"),\n",
    "         'cityCenters_nearest'] = data['cityCenters_nearest'].median()\n",
    "data['cityCenters_nearest'] = data['cityCenters_nearest'].fillna(0)"
   ]
  },
  {
   "cell_type": "markdown",
   "metadata": {},
   "source": [
    "Пропуски в переменной airports_nearest заменим медианой"
   ]
  },
  {
   "cell_type": "code",
   "execution_count": 28,
   "metadata": {},
   "outputs": [],
   "source": [
    "data['airports_nearest'].fillna(data['airports_nearest'].median(),inplace=True)"
   ]
  },
  {
   "cell_type": "code",
   "execution_count": 29,
   "metadata": {},
   "outputs": [],
   "source": [
    "de_i  = data[data['days_exposition'].isna()]"
   ]
  },
  {
   "cell_type": "code",
   "execution_count": 30,
   "metadata": {},
   "outputs": [],
   "source": [
    "de_n = data[data['days_exposition'].notna()]"
   ]
  },
  {
   "cell_type": "code",
   "execution_count": 31,
   "metadata": {},
   "outputs": [
    {
     "data": {
      "image/png": "[encoded data removed]",
      "text/plain": [
       "<Figure size 1080x360 with 1 Axes>"
      ]
     },
     "metadata": {
      "needs_background": "light"
     },
     "output_type": "display_data"
    },
    {
     "data": {
      "image/png": "[encoded data removed]",
      "text/plain": [
       "<Figure size 1080x360 with 1 Axes>"
      ]
     },
     "metadata": {
      "needs_background": "light"
     },
     "output_type": "display_data"
    }
   ],
   "source": [
    "de_i.hist('first_day_exposition', bins=20, color='grey', figsize = (15, 5))\n",
    "plt.title('isna')\n",
    "plt.show()\n",
    "de_n.hist('first_day_exposition', bins=20, color='blue', figsize = (15, 5))\n",
    "plt.title('notna')\n",
    "plt.show()"
   ]
  },
  {
   "cell_type": "markdown",
   "metadata": {},
   "source": [
    "У ряда переменных не может быть дробной части, например, количество этажей.  У некоторых дробная часть не нужна, например, цена продажи. Заменим тип переменной на int."
   ]
  },
  {
   "cell_type": "code",
   "execution_count": 32,
   "metadata": {},
   "outputs": [],
   "source": [
    "data['last_price'] = data['last_price'].astype('int')\n",
    "data['floors_total'] = data['floors_total'].astype('int')\n",
    "data['balcony'] = data['balcony'].astype('int')\n",
    "data['parks_around3000'] = data['parks_around3000'].astype('int')\n",
    "data['parks_nearest'] = data['parks_nearest'].astype('int')\n",
    "data['ponds_around3000'] = data['ponds_around3000'].astype('int')\n",
    "data['ponds_nearest'] = data['ponds_nearest'].astype('int')"
   ]
  },
  {
   "cell_type": "code",
   "execution_count": 33,
   "metadata": {},
   "outputs": [
    {
     "name": "stdout",
     "output_type": "stream",
     "text": [
      "<class 'pandas.core.frame.DataFrame'>\n",
      "Int64Index: 23504 entries, 0 to 23698\n",
      "Data columns (total 23 columns):\n",
      " #   Column                Non-Null Count  Dtype         \n",
      "---  ------                --------------  -----         \n",
      " 0   total_images          23504 non-null  int64         \n",
      " 1   last_price            23504 non-null  int64         \n",
      " 2   total_area            23504 non-null  float64       \n",
      " 3   first_day_exposition  23504 non-null  datetime64[ns]\n",
      " 4   rooms                 23504 non-null  int64         \n",
      " 5   ceiling_height        23504 non-null  float64       \n",
      " 6   floors_total          23504 non-null  int64         \n",
      " 7   living_area           23504 non-null  float64       \n",
      " 8   floor                 23504 non-null  int64         \n",
      " 9   is_apartment          23504 non-null  bool          \n",
      " 10  studio                23504 non-null  bool          \n",
      " 11  open_plan             23504 non-null  bool          \n",
      " 12  kitchen_area          23504 non-null  float64       \n",
      " 13  balcony               23504 non-null  int64         \n",
      " 14  locality_name         23504 non-null  object        \n",
      " 15  airports_nearest      23504 non-null  float64       \n",
      " 16  cityCenters_nearest   23504 non-null  float64       \n",
      " 17  parks_around3000      23504 non-null  int64         \n",
      " 18  parks_nearest         23504 non-null  int64         \n",
      " 19  ponds_around3000      23504 non-null  int64         \n",
      " 20  ponds_nearest         23504 non-null  int64         \n",
      " 21  days_exposition       20344 non-null  float64       \n",
      " 22  total_area_group      23504 non-null  object        \n",
      "dtypes: bool(3), datetime64[ns](1), float64(7), int64(10), object(2)\n",
      "memory usage: 3.8+ MB\n"
     ]
    },
    {
     "data": {
      "text/plain": [
       "None"
      ]
     },
     "metadata": {},
     "output_type": "display_data"
    }
   ],
   "source": [
    "display(data.info())"
   ]
  },
  {
   "cell_type": "code",
   "execution_count": 34,
   "metadata": {},
   "outputs": [
    {
     "data": {
      "text/plain": [
       "total_images               0\n",
       "last_price                 0\n",
       "total_area                 0\n",
       "first_day_exposition       0\n",
       "rooms                      0\n",
       "ceiling_height             0\n",
       "floors_total               0\n",
       "living_area                0\n",
       "floor                      0\n",
       "is_apartment               0\n",
       "studio                     0\n",
       "open_plan                  0\n",
       "kitchen_area               0\n",
       "balcony                    0\n",
       "locality_name              0\n",
       "airports_nearest           0\n",
       "cityCenters_nearest        0\n",
       "parks_around3000           0\n",
       "parks_nearest              0\n",
       "ponds_around3000           0\n",
       "ponds_nearest              0\n",
       "days_exposition         3160\n",
       "total_area_group           0\n",
       "dtype: int64"
      ]
     },
     "execution_count": 34,
     "metadata": {},
     "output_type": "execute_result"
    }
   ],
   "source": [
    "data.isna().sum()"
   ]
  },
  {
   "cell_type": "markdown",
   "metadata": {},
   "source": [
    "Проверка дубликатов"
   ]
  },
  {
   "cell_type": "code",
   "execution_count": 35,
   "metadata": {},
   "outputs": [
    {
     "data": {
      "text/plain": [
       "0"
      ]
     },
     "execution_count": 35,
     "metadata": {},
     "output_type": "execute_result"
    }
   ],
   "source": [
    "data.duplicated().sum()"
   ]
  },
  {
   "cell_type": "markdown",
   "metadata": {},
   "source": [
    "###  Выводы\n",
    "1. Основная часть данных, отчищена от неответов.\n",
    "2. Проведена замена типа переменной, там, где это целесообразно.\n",
    "3. Исключены слишком спорные наблюдения"
   ]
  },
  {
   "cell_type": "markdown",
   "metadata": {},
   "source": [
    "## Расчёты и добавление результатов в таблицу"
   ]
  },
  {
   "cell_type": "markdown",
   "metadata": {},
   "source": [
    "Добавление в таблицу цены квадратного метра"
   ]
  },
  {
   "cell_type": "code",
   "execution_count": 36,
   "metadata": {},
   "outputs": [],
   "source": [
    "data['price_per_meter'] = data.last_price/data.total_area"
   ]
  },
  {
   "cell_type": "markdown",
   "metadata": {},
   "source": [
    "Добавление в таблицу дня недели, месяца и года публикации объявления"
   ]
  },
  {
   "cell_type": "code",
   "execution_count": 37,
   "metadata": {},
   "outputs": [],
   "source": [
    "data['day_exposition'] = data.first_day_exposition.dt.day\n",
    "data['day_of_week_exposition'] = data.first_day_exposition.dt.dayofweek\n",
    "data['month_exposition'] = data.first_day_exposition.dt.month\n",
    "data['year_exposition'] = data.first_day_exposition.dt.year\n",
    "\n",
    "week_dict={0:'Пн', 1:'Вт', 2:'Ср', 3:'Чт', 4:'Пт', 5:'Сб', 6:'Вс'}\n",
    "data['day_of_week_exposition'].replace(week_dict, inplace=True)\n",
    "data['day_of_week_exposition'] = data['day_of_week_exposition'].astype('category')"
   ]
  },
  {
   "cell_type": "markdown",
   "metadata": {},
   "source": [
    "Добавление в таблицу этажа квартиры; варианты — первый, последний, другой."
   ]
  },
  {
   "cell_type": "code",
   "execution_count": 38,
   "metadata": {},
   "outputs": [],
   "source": [
    "def floor_number(floor, floors_total):\n",
    "    if floor == 1:\n",
    "        return 'первый'\n",
    "    elif floor == floors_total:\n",
    "        return 'последний'\n",
    "    else:\n",
    "        return 'другой'\n",
    "\n",
    "data['floor_number'] = data.apply(lambda row: floor_number(row.floor, row.floors_total), axis=1).astype('category')"
   ]
  },
  {
   "cell_type": "markdown",
   "metadata": {},
   "source": [
    "Добавление в таблицу соотношения жилой и общей площади, а также отношения площади кухни к общей"
   ]
  },
  {
   "cell_type": "code",
   "execution_count": 39,
   "metadata": {},
   "outputs": [],
   "source": [
    "data['living/total'] = data.living_area / data.total_area\n",
    "data['kitchen/total'] = data.kitchen_area / data.total_area"
   ]
  },
  {
   "cell_type": "code",
   "execution_count": 40,
   "metadata": {
    "scrolled": true
   },
   "outputs": [
    {
     "data": {
      "text/html": [
       "<div>\n",
       "<style scoped>\n",
       "    .dataframe tbody tr th:only-of-type {\n",
       "        vertical-align: middle;\n",
       "    }\n",
       "\n",
       "    .dataframe tbody tr th {\n",
       "        vertical-align: top;\n",
       "    }\n",
       "\n",
       "    .dataframe thead th {\n",
       "        text-align: right;\n",
       "    }\n",
       "</style>\n",
       "<table border=\"1\" class=\"dataframe\">\n",
       "  <thead>\n",
       "    <tr style=\"text-align: right;\">\n",
       "      <th></th>\n",
       "      <th>total_images</th>\n",
       "      <th>last_price</th>\n",
       "      <th>total_area</th>\n",
       "      <th>first_day_exposition</th>\n",
       "      <th>rooms</th>\n",
       "      <th>ceiling_height</th>\n",
       "      <th>floors_total</th>\n",
       "      <th>living_area</th>\n",
       "      <th>floor</th>\n",
       "      <th>is_apartment</th>\n",
       "      <th>...</th>\n",
       "      <th>days_exposition</th>\n",
       "      <th>total_area_group</th>\n",
       "      <th>price_per_meter</th>\n",
       "      <th>day_exposition</th>\n",
       "      <th>day_of_week_exposition</th>\n",
       "      <th>month_exposition</th>\n",
       "      <th>year_exposition</th>\n",
       "      <th>floor_number</th>\n",
       "      <th>living/total</th>\n",
       "      <th>kitchen/total</th>\n",
       "    </tr>\n",
       "  </thead>\n",
       "  <tbody>\n",
       "    <tr>\n",
       "      <th>0</th>\n",
       "      <td>20</td>\n",
       "      <td>13000000</td>\n",
       "      <td>108.0</td>\n",
       "      <td>2019-03-07</td>\n",
       "      <td>3</td>\n",
       "      <td>2.70</td>\n",
       "      <td>16</td>\n",
       "      <td>51.0</td>\n",
       "      <td>8</td>\n",
       "      <td>False</td>\n",
       "      <td>...</td>\n",
       "      <td>NaN</td>\n",
       "      <td>70 and more</td>\n",
       "      <td>120370.370370</td>\n",
       "      <td>7</td>\n",
       "      <td>Чт</td>\n",
       "      <td>3</td>\n",
       "      <td>2019</td>\n",
       "      <td>другой</td>\n",
       "      <td>0.472222</td>\n",
       "      <td>0.231481</td>\n",
       "    </tr>\n",
       "    <tr>\n",
       "      <th>1</th>\n",
       "      <td>7</td>\n",
       "      <td>3350000</td>\n",
       "      <td>40.4</td>\n",
       "      <td>2018-12-04</td>\n",
       "      <td>1</td>\n",
       "      <td>2.65</td>\n",
       "      <td>11</td>\n",
       "      <td>18.6</td>\n",
       "      <td>1</td>\n",
       "      <td>False</td>\n",
       "      <td>...</td>\n",
       "      <td>81.0</td>\n",
       "      <td>2</td>\n",
       "      <td>82920.792079</td>\n",
       "      <td>4</td>\n",
       "      <td>Вт</td>\n",
       "      <td>12</td>\n",
       "      <td>2018</td>\n",
       "      <td>первый</td>\n",
       "      <td>0.460396</td>\n",
       "      <td>0.272277</td>\n",
       "    </tr>\n",
       "    <tr>\n",
       "      <th>2</th>\n",
       "      <td>10</td>\n",
       "      <td>5196000</td>\n",
       "      <td>56.0</td>\n",
       "      <td>2015-08-20</td>\n",
       "      <td>2</td>\n",
       "      <td>2.65</td>\n",
       "      <td>5</td>\n",
       "      <td>34.3</td>\n",
       "      <td>4</td>\n",
       "      <td>False</td>\n",
       "      <td>...</td>\n",
       "      <td>558.0</td>\n",
       "      <td>3</td>\n",
       "      <td>92785.714286</td>\n",
       "      <td>20</td>\n",
       "      <td>Чт</td>\n",
       "      <td>8</td>\n",
       "      <td>2015</td>\n",
       "      <td>другой</td>\n",
       "      <td>0.612500</td>\n",
       "      <td>0.148214</td>\n",
       "    </tr>\n",
       "  </tbody>\n",
       "</table>\n",
       "<p>3 rows × 31 columns</p>\n",
       "</div>"
      ],
      "text/plain": [
       "   total_images  last_price  total_area first_day_exposition  rooms  \\\n",
       "0            20    13000000       108.0           2019-03-07      3   \n",
       "1             7     3350000        40.4           2018-12-04      1   \n",
       "2            10     5196000        56.0           2015-08-20      2   \n",
       "\n",
       "   ceiling_height  floors_total  living_area  floor  is_apartment  ...  \\\n",
       "0            2.70            16         51.0      8         False  ...   \n",
       "1            2.65            11         18.6      1         False  ...   \n",
       "2            2.65             5         34.3      4         False  ...   \n",
       "\n",
       "   days_exposition  total_area_group  price_per_meter  day_exposition  \\\n",
       "0              NaN       70 and more    120370.370370               7   \n",
       "1             81.0                 2     82920.792079               4   \n",
       "2            558.0                 3     92785.714286              20   \n",
       "\n",
       "  day_of_week_exposition  month_exposition  year_exposition  floor_number  \\\n",
       "0                     Чт                 3             2019        другой   \n",
       "1                     Вт                12             2018        первый   \n",
       "2                     Чт                 8             2015        другой   \n",
       "\n",
       "   living/total  kitchen/total  \n",
       "0      0.472222       0.231481  \n",
       "1      0.460396       0.272277  \n",
       "2      0.612500       0.148214  \n",
       "\n",
       "[3 rows x 31 columns]"
      ]
     },
     "execution_count": 40,
     "metadata": {},
     "output_type": "execute_result"
    }
   ],
   "source": [
    "data.head(3)"
   ]
  },
  {
   "cell_type": "markdown",
   "metadata": {},
   "source": [
    "### Выводы\n",
    "1. Согласно задания проведены расчеты, в таблицу добавлены новые переменные"
   ]
  },
  {
   "cell_type": "markdown",
   "metadata": {},
   "source": [
    "## Исследовательский анализ данных"
   ]
  },
  {
   "cell_type": "markdown",
   "metadata": {},
   "source": [
    "### Анализ параметров: площадь, цена, число комнат, высота потолков."
   ]
  },
  {
   "cell_type": "markdown",
   "metadata": {},
   "source": [
    "Посмотрим на графическое отображение следующих параметров: площадь, цена, число комнат, высота потолков"
   ]
  },
  {
   "cell_type": "code",
   "execution_count": 41,
   "metadata": {},
   "outputs": [
    {
     "data": {
      "image/png": "[encoded data removed]",
      "text/plain": [
       "<Figure size 576x288 with 1 Axes>"
      ]
     },
     "metadata": {
      "needs_background": "light"
     },
     "output_type": "display_data"
    },
    {
     "data": {
      "image/png": "[encoded data removed]",
      "text/plain": [
       "<Figure size 576x288 with 1 Axes>"
      ]
     },
     "metadata": {
      "needs_background": "light"
     },
     "output_type": "display_data"
    },
    {
     "data": {
      "image/png": "[encoded data removed]",
      "text/plain": [
       "<Figure size 576x288 with 1 Axes>"
      ]
     },
     "metadata": {
      "needs_background": "light"
     },
     "output_type": "display_data"
    },
    {
     "data": {
      "image/png": "[encoded data removed]",
      "text/plain": [
       "<Figure size 576x288 with 1 Axes>"
      ]
     },
     "metadata": {
      "needs_background": "light"
     },
     "output_type": "display_data"
    },
    {
     "data": {
      "image/png": "[encoded data removed]",
      "text/plain": [
       "<Figure size 576x288 with 1 Axes>"
      ]
     },
     "metadata": {
      "needs_background": "light"
     },
     "output_type": "display_data"
    }
   ],
   "source": [
    "flat_var = {'total_area':'Общая площадь, кв.м',\n",
    "                  'kitchen_area':'Площадь кухни, кв.м.',\n",
    "                  'living_area':'Жилая площадь, кв.м.',\n",
    "                  'rooms':'Количество комнат, ед.',\n",
    "                  'ceiling_height':'Высота потолков, м.'}\n",
    "\n",
    "for key, value in flat_var.items():\n",
    "    data[key].hist(edgecolor='black', bins=30,color='green', figsize=(8,4)).set(title=value)\n",
    "    plt.axvline(x=data[key].median(), color='red', lw=4, label=['Медиана',round(data[key].median(),2)])\n",
    "    plt.legend() \n",
    "    plt.tight_layout()\n",
    "    plt.show()"
   ]
  },
  {
   "cell_type": "markdown",
   "metadata": {},
   "source": [
    "Посмотрим описательные статистики"
   ]
  },
  {
   "cell_type": "code",
   "execution_count": 42,
   "metadata": {},
   "outputs": [
    {
     "data": {
      "text/html": [
       "<div>\n",
       "<style scoped>\n",
       "    .dataframe tbody tr th:only-of-type {\n",
       "        vertical-align: middle;\n",
       "    }\n",
       "\n",
       "    .dataframe tbody tr th {\n",
       "        vertical-align: top;\n",
       "    }\n",
       "\n",
       "    .dataframe thead th {\n",
       "        text-align: right;\n",
       "    }\n",
       "</style>\n",
       "<table border=\"1\" class=\"dataframe\">\n",
       "  <thead>\n",
       "    <tr style=\"text-align: right;\">\n",
       "      <th></th>\n",
       "      <th>total_images</th>\n",
       "      <th>last_price</th>\n",
       "      <th>total_area</th>\n",
       "      <th>rooms</th>\n",
       "      <th>ceiling_height</th>\n",
       "      <th>floors_total</th>\n",
       "      <th>living_area</th>\n",
       "      <th>floor</th>\n",
       "      <th>kitchen_area</th>\n",
       "      <th>balcony</th>\n",
       "      <th>...</th>\n",
       "      <th>parks_nearest</th>\n",
       "      <th>ponds_around3000</th>\n",
       "      <th>ponds_nearest</th>\n",
       "      <th>days_exposition</th>\n",
       "      <th>price_per_meter</th>\n",
       "      <th>day_exposition</th>\n",
       "      <th>month_exposition</th>\n",
       "      <th>year_exposition</th>\n",
       "      <th>living/total</th>\n",
       "      <th>kitchen/total</th>\n",
       "    </tr>\n",
       "  </thead>\n",
       "  <tbody>\n",
       "    <tr>\n",
       "      <th>count</th>\n",
       "      <td>23504.000000</td>\n",
       "      <td>2.350400e+04</td>\n",
       "      <td>23504.000000</td>\n",
       "      <td>23504.000000</td>\n",
       "      <td>23504.000000</td>\n",
       "      <td>23504.000000</td>\n",
       "      <td>23504.000000</td>\n",
       "      <td>23504.000000</td>\n",
       "      <td>23504.000000</td>\n",
       "      <td>23504.000000</td>\n",
       "      <td>...</td>\n",
       "      <td>23504.000000</td>\n",
       "      <td>23504.000000</td>\n",
       "      <td>23504.000000</td>\n",
       "      <td>20344.000000</td>\n",
       "      <td>2.350400e+04</td>\n",
       "      <td>23504.000000</td>\n",
       "      <td>23504.000000</td>\n",
       "      <td>23504.000000</td>\n",
       "      <td>23504.000000</td>\n",
       "      <td>23504.000000</td>\n",
       "    </tr>\n",
       "    <tr>\n",
       "      <th>mean</th>\n",
       "      <td>9.867554</td>\n",
       "      <td>6.557064e+06</td>\n",
       "      <td>60.457223</td>\n",
       "      <td>2.080837</td>\n",
       "      <td>2.698080</td>\n",
       "      <td>10.683288</td>\n",
       "      <td>34.676833</td>\n",
       "      <td>5.898358</td>\n",
       "      <td>11.251588</td>\n",
       "      <td>0.591133</td>\n",
       "      <td>...</td>\n",
       "      <td>167.618661</td>\n",
       "      <td>0.590240</td>\n",
       "      <td>199.144699</td>\n",
       "      <td>180.919829</td>\n",
       "      <td>9.942744e+04</td>\n",
       "      <td>15.480854</td>\n",
       "      <td>6.401889</td>\n",
       "      <td>2017.369426</td>\n",
       "      <td>0.565349</td>\n",
       "      <td>0.199114</td>\n",
       "    </tr>\n",
       "    <tr>\n",
       "      <th>std</th>\n",
       "      <td>5.681818</td>\n",
       "      <td>1.091964e+07</td>\n",
       "      <td>35.706997</td>\n",
       "      <td>1.067568</td>\n",
       "      <td>0.232072</td>\n",
       "      <td>6.576090</td>\n",
       "      <td>22.422588</td>\n",
       "      <td>4.882259</td>\n",
       "      <td>7.114013</td>\n",
       "      <td>0.958635</td>\n",
       "      <td>...</td>\n",
       "      <td>307.229040</td>\n",
       "      <td>0.883279</td>\n",
       "      <td>305.171376</td>\n",
       "      <td>219.920625</td>\n",
       "      <td>5.021098e+04</td>\n",
       "      <td>8.643165</td>\n",
       "      <td>3.491931</td>\n",
       "      <td>1.038002</td>\n",
       "      <td>0.100591</td>\n",
       "      <td>0.077644</td>\n",
       "    </tr>\n",
       "    <tr>\n",
       "      <th>min</th>\n",
       "      <td>0.000000</td>\n",
       "      <td>1.219000e+04</td>\n",
       "      <td>15.000000</td>\n",
       "      <td>1.000000</td>\n",
       "      <td>2.000000</td>\n",
       "      <td>1.000000</td>\n",
       "      <td>8.000000</td>\n",
       "      <td>1.000000</td>\n",
       "      <td>4.600000</td>\n",
       "      <td>0.000000</td>\n",
       "      <td>...</td>\n",
       "      <td>0.000000</td>\n",
       "      <td>0.000000</td>\n",
       "      <td>0.000000</td>\n",
       "      <td>1.000000</td>\n",
       "      <td>1.118349e+02</td>\n",
       "      <td>1.000000</td>\n",
       "      <td>1.000000</td>\n",
       "      <td>2014.000000</td>\n",
       "      <td>0.134615</td>\n",
       "      <td>0.025381</td>\n",
       "    </tr>\n",
       "    <tr>\n",
       "      <th>25%</th>\n",
       "      <td>6.000000</td>\n",
       "      <td>3.450000e+06</td>\n",
       "      <td>40.000000</td>\n",
       "      <td>1.000000</td>\n",
       "      <td>2.600000</td>\n",
       "      <td>5.000000</td>\n",
       "      <td>19.000000</td>\n",
       "      <td>2.000000</td>\n",
       "      <td>7.300000</td>\n",
       "      <td>0.000000</td>\n",
       "      <td>...</td>\n",
       "      <td>0.000000</td>\n",
       "      <td>0.000000</td>\n",
       "      <td>0.000000</td>\n",
       "      <td>45.000000</td>\n",
       "      <td>7.666667e+04</td>\n",
       "      <td>8.000000</td>\n",
       "      <td>3.000000</td>\n",
       "      <td>2017.000000</td>\n",
       "      <td>0.500000</td>\n",
       "      <td>0.137255</td>\n",
       "    </tr>\n",
       "    <tr>\n",
       "      <th>50%</th>\n",
       "      <td>9.000000</td>\n",
       "      <td>4.650000e+06</td>\n",
       "      <td>52.000000</td>\n",
       "      <td>2.000000</td>\n",
       "      <td>2.650000</td>\n",
       "      <td>9.000000</td>\n",
       "      <td>30.000000</td>\n",
       "      <td>4.000000</td>\n",
       "      <td>9.700000</td>\n",
       "      <td>0.000000</td>\n",
       "      <td>...</td>\n",
       "      <td>0.000000</td>\n",
       "      <td>0.000000</td>\n",
       "      <td>0.000000</td>\n",
       "      <td>95.000000</td>\n",
       "      <td>9.500000e+04</td>\n",
       "      <td>15.000000</td>\n",
       "      <td>6.000000</td>\n",
       "      <td>2017.000000</td>\n",
       "      <td>0.576923</td>\n",
       "      <td>0.182733</td>\n",
       "    </tr>\n",
       "    <tr>\n",
       "      <th>75%</th>\n",
       "      <td>14.000000</td>\n",
       "      <td>6.800000e+06</td>\n",
       "      <td>70.000000</td>\n",
       "      <td>3.000000</td>\n",
       "      <td>2.700000</td>\n",
       "      <td>16.000000</td>\n",
       "      <td>42.200000</td>\n",
       "      <td>8.000000</td>\n",
       "      <td>12.573333</td>\n",
       "      <td>1.000000</td>\n",
       "      <td>...</td>\n",
       "      <td>302.000000</td>\n",
       "      <td>1.000000</td>\n",
       "      <td>390.000000</td>\n",
       "      <td>231.000000</td>\n",
       "      <td>1.142488e+05</td>\n",
       "      <td>23.000000</td>\n",
       "      <td>10.000000</td>\n",
       "      <td>2018.000000</td>\n",
       "      <td>0.630594</td>\n",
       "      <td>0.258065</td>\n",
       "    </tr>\n",
       "    <tr>\n",
       "      <th>max</th>\n",
       "      <td>50.000000</td>\n",
       "      <td>7.630000e+08</td>\n",
       "      <td>900.000000</td>\n",
       "      <td>19.000000</td>\n",
       "      <td>8.300000</td>\n",
       "      <td>60.000000</td>\n",
       "      <td>409.700000</td>\n",
       "      <td>33.000000</td>\n",
       "      <td>153.333333</td>\n",
       "      <td>5.000000</td>\n",
       "      <td>...</td>\n",
       "      <td>3190.000000</td>\n",
       "      <td>3.000000</td>\n",
       "      <td>1344.000000</td>\n",
       "      <td>1580.000000</td>\n",
       "      <td>1.907500e+06</td>\n",
       "      <td>31.000000</td>\n",
       "      <td>12.000000</td>\n",
       "      <td>2019.000000</td>\n",
       "      <td>1.000000</td>\n",
       "      <td>0.787879</td>\n",
       "    </tr>\n",
       "  </tbody>\n",
       "</table>\n",
       "<p>8 rows × 23 columns</p>\n",
       "</div>"
      ],
      "text/plain": [
       "       total_images    last_price    total_area         rooms  ceiling_height  \\\n",
       "count  23504.000000  2.350400e+04  23504.000000  23504.000000    23504.000000   \n",
       "mean       9.867554  6.557064e+06     60.457223      2.080837        2.698080   \n",
       "std        5.681818  1.091964e+07     35.706997      1.067568        0.232072   \n",
       "min        0.000000  1.219000e+04     15.000000      1.000000        2.000000   \n",
       "25%        6.000000  3.450000e+06     40.000000      1.000000        2.600000   \n",
       "50%        9.000000  4.650000e+06     52.000000      2.000000        2.650000   \n",
       "75%       14.000000  6.800000e+06     70.000000      3.000000        2.700000   \n",
       "max       50.000000  7.630000e+08    900.000000     19.000000        8.300000   \n",
       "\n",
       "       floors_total   living_area         floor  kitchen_area       balcony  \\\n",
       "count  23504.000000  23504.000000  23504.000000  23504.000000  23504.000000   \n",
       "mean      10.683288     34.676833      5.898358     11.251588      0.591133   \n",
       "std        6.576090     22.422588      4.882259      7.114013      0.958635   \n",
       "min        1.000000      8.000000      1.000000      4.600000      0.000000   \n",
       "25%        5.000000     19.000000      2.000000      7.300000      0.000000   \n",
       "50%        9.000000     30.000000      4.000000      9.700000      0.000000   \n",
       "75%       16.000000     42.200000      8.000000     12.573333      1.000000   \n",
       "max       60.000000    409.700000     33.000000    153.333333      5.000000   \n",
       "\n",
       "       ...  parks_nearest  ponds_around3000  ponds_nearest  days_exposition  \\\n",
       "count  ...   23504.000000      23504.000000   23504.000000     20344.000000   \n",
       "mean   ...     167.618661          0.590240     199.144699       180.919829   \n",
       "std    ...     307.229040          0.883279     305.171376       219.920625   \n",
       "min    ...       0.000000          0.000000       0.000000         1.000000   \n",
       "25%    ...       0.000000          0.000000       0.000000        45.000000   \n",
       "50%    ...       0.000000          0.000000       0.000000        95.000000   \n",
       "75%    ...     302.000000          1.000000     390.000000       231.000000   \n",
       "max    ...    3190.000000          3.000000    1344.000000      1580.000000   \n",
       "\n",
       "       price_per_meter  day_exposition  month_exposition  year_exposition  \\\n",
       "count     2.350400e+04    23504.000000      23504.000000     23504.000000   \n",
       "mean      9.942744e+04       15.480854          6.401889      2017.369426   \n",
       "std       5.021098e+04        8.643165          3.491931         1.038002   \n",
       "min       1.118349e+02        1.000000          1.000000      2014.000000   \n",
       "25%       7.666667e+04        8.000000          3.000000      2017.000000   \n",
       "50%       9.500000e+04       15.000000          6.000000      2017.000000   \n",
       "75%       1.142488e+05       23.000000         10.000000      2018.000000   \n",
       "max       1.907500e+06       31.000000         12.000000      2019.000000   \n",
       "\n",
       "       living/total  kitchen/total  \n",
       "count  23504.000000   23504.000000  \n",
       "mean       0.565349       0.199114  \n",
       "std        0.100591       0.077644  \n",
       "min        0.134615       0.025381  \n",
       "25%        0.500000       0.137255  \n",
       "50%        0.576923       0.182733  \n",
       "75%        0.630594       0.258065  \n",
       "max        1.000000       0.787879  \n",
       "\n",
       "[8 rows x 23 columns]"
      ]
     },
     "execution_count": 42,
     "metadata": {},
     "output_type": "execute_result"
    }
   ],
   "source": [
    "data.describe()"
   ]
  },
  {
   "cell_type": "markdown",
   "metadata": {},
   "source": [
    "Для большей наглядности, посмотрим те же характеристики, но в другом виде диаграмм"
   ]
  },
  {
   "cell_type": "code",
   "execution_count": 43,
   "metadata": {},
   "outputs": [
    {
     "data": {
      "image/png": "[encoded data removed]",
      "text/plain": [
       "<Figure size 432x288 with 1 Axes>"
      ]
     },
     "metadata": {
      "needs_background": "light"
     },
     "output_type": "display_data"
    },
    {
     "data": {
      "image/png": "[encoded data removed]",
      "text/plain": [
       "<Figure size 432x288 with 1 Axes>"
      ]
     },
     "metadata": {
      "needs_background": "light"
     },
     "output_type": "display_data"
    },
    {
     "data": {
      "image/png": "[encoded data removed]",
      "text/plain": [
       "<Figure size 432x288 with 1 Axes>"
      ]
     },
     "metadata": {
      "needs_background": "light"
     },
     "output_type": "display_data"
    },
    {
     "data": {
      "image/png": "[encoded data removed]",
      "text/plain": [
       "<Figure size 432x288 with 1 Axes>"
      ]
     },
     "metadata": {
      "needs_background": "light"
     },
     "output_type": "display_data"
    },
    {
     "data": {
      "image/png": "[encoded data removed]",
      "text/plain": [
       "<Figure size 432x288 with 1 Axes>"
      ]
     },
     "metadata": {
      "needs_background": "light"
     },
     "output_type": "display_data"
    }
   ],
   "source": [
    "flat_var = {'total_area':'Общая площадь, кв.м',\n",
    "                  'kitchen_area':'Площадь кухни, кв.м.',\n",
    "                  'living_area':'Жилая площадь, кв.м.',\n",
    "                  'rooms':'Количество комнат, ед.',\n",
    "                  'ceiling_height':'Высота потолков, м.'}\n",
    "\n",
    "for key, value in flat_var.items():\n",
    "    sns.boxplot(x=data[key]).set(title=value)\n",
    "    plt.tight_layout()\n",
    "    plt.show()"
   ]
  },
  {
   "cell_type": "markdown",
   "metadata": {},
   "source": [
    "Медианные значения:\n",
    " - общая площадь - 52.0 кв.м.\n",
    " - жилая площадь - 30.0 кв.м.\n",
    " - площадь кухни - 9.7 кв.м.\n",
    " - высота потолков - 2.65 м.\n",
    "Основная масса наблюдений находится в интервалах:\n",
    " - общая площадь - 40.0 - 70.0 кв.м.\n",
    " - жилая площадь - 19.0 - 42.2 кв.м.\n",
    " - площадь кухни - 7.3 - 12.6 кв.м.\n",
    " - высота потолков - 2.6 - 2.7 м.\n",
    " \n",
    "В целом, чаще всего продаются типичные 1,2, 3-х комнатные квартиры со стандартной планировкой. Сегмент нетипичных квартир был виден на предобработке данных. Это очень большие квартиры, 2-х этажные квартиры и крайне маленькие квартиры, которые, скорее всего предназначались для временного проживания.   "
   ]
  },
  {
   "cell_type": "markdown",
   "metadata": {},
   "source": [
    "### Анализ времени продажи квартиры"
   ]
  },
  {
   "cell_type": "markdown",
   "metadata": {},
   "source": [
    "Посмотрим описательные статистики пременной"
   ]
  },
  {
   "cell_type": "code",
   "execution_count": 44,
   "metadata": {},
   "outputs": [
    {
     "data": {
      "text/plain": [
       "count    20344.000000\n",
       "mean       180.919829\n",
       "std        219.920625\n",
       "min          1.000000\n",
       "25%         45.000000\n",
       "50%         95.000000\n",
       "75%        231.000000\n",
       "max       1580.000000\n",
       "Name: days_exposition, dtype: float64"
      ]
     },
     "execution_count": 44,
     "metadata": {},
     "output_type": "execute_result"
    }
   ],
   "source": [
    "data.days_exposition.describe()"
   ]
  },
  {
   "cell_type": "markdown",
   "metadata": {},
   "source": [
    "Графическое отображение:"
   ]
  },
  {
   "cell_type": "code",
   "execution_count": 45,
   "metadata": {},
   "outputs": [
    {
     "data": {
      "image/png": "[encoded data removed]",
      "text/plain": [
       "<Figure size 1080x360 with 1 Axes>"
      ]
     },
     "metadata": {
      "needs_background": "light"
     },
     "output_type": "display_data"
    }
   ],
   "source": [
    "data.hist('days_exposition', bins=100, color='blue', figsize = (15, 5))\n",
    "plt.title('длительность публикации объявления')\n",
    "plt.xlabel('дни, ед.')\n",
    "plt.ylabel('объявления, ед.')\n",
    "plt.axvline(x=data['days_exposition'].median(), \n",
    "            color='red', lw=4, label=['Медиана',round(data['days_exposition'].median(),2)])\n",
    "plt.legend() \n",
    "plt.show()"
   ]
  },
  {
   "cell_type": "markdown",
   "metadata": {},
   "source": [
    "В половине случаев, квартира продается за 95 дней. Быстрой продажей является до 45 дней, долгой - 198 дней. Среднее время продажи квартиры - 169 дней."
   ]
  },
  {
   "cell_type": "markdown",
   "metadata": {},
   "source": [
    "### Редкие и выбивающиеся значения"
   ]
  },
  {
   "cell_type": "markdown",
   "metadata": {},
   "source": [
    "Редкими и выбивающимися значениями будут значения, находящиеся за границами межквантильного размаха. Исключать их все нельзя. Исключим по 5% с каждой стороны."
   ]
  },
  {
   "cell_type": "code",
   "execution_count": 46,
   "metadata": {},
   "outputs": [],
   "source": [
    "data['last_price'] = data['last_price'].clip(lower = data['last_price'].quantile(0.05),\\\n",
    "                                         upper = data['last_price'].quantile(0.95))"
   ]
  },
  {
   "cell_type": "code",
   "execution_count": 47,
   "metadata": {},
   "outputs": [
    {
     "data": {
      "image/png": "[encoded data removed]",
      "text/plain": [
       "<Figure size 1080x360 with 1 Axes>"
      ]
     },
     "metadata": {
      "needs_background": "light"
     },
     "output_type": "display_data"
    }
   ],
   "source": [
    "total_area1_3 = data.query('total_area.quantile(0.05)<=total_area<= total_area.quantile(0.95)')\n",
    "total_area1_3.hist('total_area', bins=20, color='grey', figsize = (15, 5))\n",
    "plt.title('Общая площадь, кв.м')\n",
    "plt.show()"
   ]
  },
  {
   "cell_type": "code",
   "execution_count": 48,
   "metadata": {},
   "outputs": [
    {
     "data": {
      "image/png": "[encoded data removed]",
      "text/plain": [
       "<Figure size 1080x360 with 1 Axes>"
      ]
     },
     "metadata": {
      "needs_background": "light"
     },
     "output_type": "display_data"
    }
   ],
   "source": [
    "kitchen_area1_3 = data.query('kitchen_area.quantile(0.05)<=kitchen_area<= kitchen_area.quantile(0.95)')\n",
    "kitchen_area1_3.hist('kitchen_area', bins=20, color='grey', figsize = (15, 5))\n",
    "plt.title('Площадь кухни, кв.м.')\n",
    "plt.show()"
   ]
  },
  {
   "cell_type": "code",
   "execution_count": 49,
   "metadata": {},
   "outputs": [
    {
     "data": {
      "image/png": "[encoded data removed]",
      "text/plain": [
       "<Figure size 1080x360 with 1 Axes>"
      ]
     },
     "metadata": {
      "needs_background": "light"
     },
     "output_type": "display_data"
    }
   ],
   "source": [
    "living_area1_3 = data.query('living_area.quantile(0.05)<=living_area<= living_area.quantile(0.95)')\n",
    "living_area1_3.hist('living_area', bins=20, color='grey', figsize = (15, 5))\n",
    "plt.title('Жилая площадь, кв.м.')\n",
    "plt.show()"
   ]
  },
  {
   "cell_type": "code",
   "execution_count": 50,
   "metadata": {
    "scrolled": true
   },
   "outputs": [
    {
     "data": {
      "image/png": "[encoded data removed]",
      "text/plain": [
       "<Figure size 1080x360 with 1 Axes>"
      ]
     },
     "metadata": {
      "needs_background": "light"
     },
     "output_type": "display_data"
    }
   ],
   "source": [
    "rooms1_3 = data.query('rooms.quantile(0.05)<=rooms<= rooms.quantile(0.95)')\n",
    "rooms1_3.hist('rooms', bins=4, color='grey', figsize = (15, 5))\n",
    "plt.title('Количество комнат')\n",
    "plt.show()"
   ]
  },
  {
   "cell_type": "code",
   "execution_count": 51,
   "metadata": {
    "scrolled": true
   },
   "outputs": [
    {
     "data": {
      "image/png": "[encoded data removed]",
      "text/plain": [
       "<Figure size 1080x360 with 1 Axes>"
      ]
     },
     "metadata": {
      "needs_background": "light"
     },
     "output_type": "display_data"
    }
   ],
   "source": [
    "ceiling_height1_3 = data.query('ceiling_height.quantile(0.05)<=ceiling_height<= ceiling_height.quantile(0.95)')\n",
    "ceiling_height1_3.hist('ceiling_height', bins=20, color='grey', figsize = (15, 5))\n",
    "plt.title('Высота потолка')\n",
    "plt.show()"
   ]
  },
  {
   "cell_type": "code",
   "execution_count": 52,
   "metadata": {
    "scrolled": true
   },
   "outputs": [
    {
     "data": {
      "image/png": "[encoded data removed]",
      "text/plain": [
       "<Figure size 1080x360 with 1 Axes>"
      ]
     },
     "metadata": {
      "needs_background": "light"
     },
     "output_type": "display_data"
    }
   ],
   "source": [
    "days_exposition1_3 = data.query('days_exposition.quantile(0.05)<=days_exposition<= days_exposition.quantile(0.95)')\n",
    "\n",
    "days_exposition1_3.hist('days_exposition', bins=20, color='grey', figsize = (15, 5))\n",
    "plt.title('Длительность публикации объявления')\n",
    "plt.show()\n"
   ]
  },
  {
   "cell_type": "markdown",
   "metadata": {},
   "source": [
    "1. Редкие и выбивающиеся значения есть во всех переменных, но исключать их все нельзя, лучше удалить по 5% с каждой стороны."
   ]
  },
  {
   "cell_type": "markdown",
   "metadata": {},
   "source": [
    "### Факторы, влияющие на цену квартиры"
   ]
  },
  {
   "cell_type": "markdown",
   "metadata": {},
   "source": [
    "Какие факторы больше всего влияют на стоимость квартиры? Зависит ли цена от площади, числа комнат, удалённости от центра. Зависимость цены от того, на каком этаже расположена квартира: первом, последнем или другом. Зависимость от даты размещения: дня недели, месяца и года."
   ]
  },
  {
   "cell_type": "markdown",
   "metadata": {},
   "source": [
    "Зависимость цены от площади квартиры и количества комнат, удаленности от центра"
   ]
  },
  {
   "cell_type": "code",
   "execution_count": 53,
   "metadata": {},
   "outputs": [
    {
     "name": "stdout",
     "output_type": "stream",
     "text": [
      "Зависимость цены параметров\n",
      "0.7363368305843904 коэф. Пирсона цена х общая площадь\n",
      "0.5012452353688875 коэф. Пирсона цена х площадь кухни\n",
      "0.610613637298471 коэф. Пирсона цена х жилая площадь\n",
      "0.5006756757320391 коэф. Пирсона цена х количество комнат\n",
      "-0.33093180413185447 коэф. Пирсона цена х удаленность от центра\n"
     ]
    }
   ],
   "source": [
    "print('Зависимость цены параметров')\n",
    "print(total_area1_3['total_area'].corr(total_area1_3['last_price']), 'коэф. Пирсона цена х общая площадь')\n",
    "print(kitchen_area1_3['kitchen_area'].corr(kitchen_area1_3['last_price']), 'коэф. Пирсона цена х площадь кухни')\n",
    "print(living_area1_3['living_area'].corr(living_area1_3['last_price']), 'коэф. Пирсона цена х жилая площадь')\n",
    "print(rooms1_3['rooms'].corr(rooms1_3['last_price']), 'коэф. Пирсона цена х количество комнат')\n",
    "print(data['cityCenters_nearest'].corr(data['last_price']), 'коэф. Пирсона цена х удаленность от центра')"
   ]
  },
  {
   "cell_type": "markdown",
   "metadata": {},
   "source": [
    "Есть средняя зависимость цены и общей площади."
   ]
  },
  {
   "cell_type": "markdown",
   "metadata": {},
   "source": [
    "Зависимость цены от этажа"
   ]
  },
  {
   "cell_type": "code",
   "execution_count": 54,
   "metadata": {},
   "outputs": [
    {
     "data": {
      "image/png": "[encoded data removed]",
      "text/plain": [
       "<Figure size 432x288 with 1 Axes>"
      ]
     },
     "metadata": {
      "needs_background": "light"
     },
     "output_type": "display_data"
    }
   ],
   "source": [
    "data.pivot_table(index='floor_number', values='last_price', aggfunc='median').plot(kind='bar')\n",
    "plt.title('Цена квартиры')\n",
    "plt.xlabel('этаж')\n",
    "plt.ylabel('цена')\n",
    "plt.show()"
   ]
  },
  {
   "cell_type": "code",
   "execution_count": 55,
   "metadata": {},
   "outputs": [
    {
     "data": {
      "image/png": "[encoded data removed]",
      "text/plain": [
       "<Figure size 432x288 with 1 Axes>"
      ]
     },
     "metadata": {
      "needs_background": "light"
     },
     "output_type": "display_data"
    }
   ],
   "source": [
    "data.pivot_table(index='floor_number', values='price_per_meter', aggfunc='median').plot(kind='bar')\n",
    "plt.title('Цена за 1 кв.м.')\n",
    "plt.xlabel('этаж')\n",
    "plt.ylabel('цена')\n",
    "plt.show()"
   ]
  },
  {
   "cell_type": "markdown",
   "metadata": {},
   "source": [
    "Самая низкая стоимость квартир - на первом этаже. Чуть выше стоимость на последнем этаже. Стоимость квартир на этажах, не относящихся к первому и последнему заметно выше."
   ]
  },
  {
   "cell_type": "markdown",
   "metadata": {},
   "source": [
    "Зависимость от даты размещения: дня недели, месяца и года"
   ]
  },
  {
   "cell_type": "code",
   "execution_count": 56,
   "metadata": {},
   "outputs": [
    {
     "data": {
      "image/png": "[encoded data removed]",
      "text/plain": [
       "<Figure size 432x288 with 1 Axes>"
      ]
     },
     "metadata": {
      "needs_background": "light"
     },
     "output_type": "display_data"
    },
    {
     "data": {
      "image/png": "[encoded data removed]",
      "text/plain": [
       "<Figure size 432x288 with 1 Axes>"
      ]
     },
     "metadata": {
      "needs_background": "light"
     },
     "output_type": "display_data"
    },
    {
     "data": {
      "image/png": "[encoded data removed]",
      "text/plain": [
       "<Figure size 432x288 with 1 Axes>"
      ]
     },
     "metadata": {
      "needs_background": "light"
     },
     "output_type": "display_data"
    },
    {
     "data": {
      "image/png": "[encoded data removed]",
      "text/plain": [
       "<Figure size 432x288 with 1 Axes>"
      ]
     },
     "metadata": {
      "needs_background": "light"
     },
     "output_type": "display_data"
    }
   ],
   "source": [
    "data.pivot_table(index='day_of_week_exposition', values='last_price', aggfunc='median').plot(kind='bar')\n",
    "plt.title('Цена квартиры')\n",
    "plt.xlabel('день недели')\n",
    "plt.ylabel('цена')\n",
    "plt.show()\n",
    "\n",
    "data.pivot_table(index='day_exposition', values='last_price', aggfunc='median').plot(kind='bar')\n",
    "plt.title('Цена квартиры')\n",
    "plt.xlabel('день')\n",
    "plt.ylabel('цена')\n",
    "plt.show()\n",
    "\n",
    "data.pivot_table(index='month_exposition', values='last_price', aggfunc='median').plot(kind='bar')\n",
    "plt.title('Цена квартиры')\n",
    "plt.xlabel('месяц')\n",
    "plt.ylabel('цена')\n",
    "plt.show()\n",
    "\n",
    "data.pivot_table(index='year_exposition', values='last_price', aggfunc='median').plot(kind='bar')\n",
    "plt.title('Цена квартиры')\n",
    "plt.xlabel('год')\n",
    "plt.ylabel('цена')\n",
    "plt.show()\n"
   ]
  },
  {
   "cell_type": "markdown",
   "metadata": {},
   "source": [
    "Зависимости цены квартиры от дня  публикации нет. Летом стоимость квартир снижается. После 2014 года стоимость квартир снизилась. В 2016 - 2018 годах динамики не было, в 2019 году цены выросли."
   ]
  },
  {
   "cell_type": "markdown",
   "metadata": {},
   "source": [
    "### 10 населённых пунктов с наибольшим числом объявлений"
   ]
  },
  {
   "cell_type": "markdown",
   "metadata": {},
   "source": [
    "Посмотрим на 10 населённых пунктов с наибольшим числом объявлений и среднюю цену за 1 кв.м."
   ]
  },
  {
   "cell_type": "code",
   "execution_count": 57,
   "metadata": {},
   "outputs": [
    {
     "name": "stdout",
     "output_type": "stream",
     "text": [
      "Index(['Санкт-Петербург', 'Мурино', 'Кудрово', 'Шушары', 'Всеволожск',\n",
      "       'Пушкин', 'Колпино', 'Парголово', 'Гатчина', 'Выборг'],\n",
      "      dtype='object')\n"
     ]
    }
   ],
   "source": [
    "locality_top10 = data['locality_name'].value_counts().head(10).index\n",
    "print(locality_top10)"
   ]
  },
  {
   "cell_type": "code",
   "execution_count": 58,
   "metadata": {},
   "outputs": [
    {
     "data": {
      "text/html": [
       "<div>\n",
       "<style scoped>\n",
       "    .dataframe tbody tr th:only-of-type {\n",
       "        vertical-align: middle;\n",
       "    }\n",
       "\n",
       "    .dataframe tbody tr th {\n",
       "        vertical-align: top;\n",
       "    }\n",
       "\n",
       "    .dataframe thead th {\n",
       "        text-align: right;\n",
       "    }\n",
       "</style>\n",
       "<table border=\"1\" class=\"dataframe\">\n",
       "  <thead>\n",
       "    <tr style=\"text-align: right;\">\n",
       "      <th></th>\n",
       "      <th>price_per_meter</th>\n",
       "    </tr>\n",
       "    <tr>\n",
       "      <th>locality_name</th>\n",
       "      <th></th>\n",
       "    </tr>\n",
       "  </thead>\n",
       "  <tbody>\n",
       "    <tr>\n",
       "      <th>Всеволожск</th>\n",
       "      <td>68654.473986</td>\n",
       "    </tr>\n",
       "    <tr>\n",
       "      <th>Выборг</th>\n",
       "      <td>58188.871381</td>\n",
       "    </tr>\n",
       "    <tr>\n",
       "      <th>Гатчина</th>\n",
       "      <td>68858.478941</td>\n",
       "    </tr>\n",
       "    <tr>\n",
       "      <th>Колпино</th>\n",
       "      <td>75424.579098</td>\n",
       "    </tr>\n",
       "    <tr>\n",
       "      <th>Кудрово</th>\n",
       "      <td>95324.930544</td>\n",
       "    </tr>\n",
       "    <tr>\n",
       "      <th>Мурино</th>\n",
       "      <td>85942.165474</td>\n",
       "    </tr>\n",
       "    <tr>\n",
       "      <th>Парголово</th>\n",
       "      <td>90175.913458</td>\n",
       "    </tr>\n",
       "    <tr>\n",
       "      <th>Пушкин</th>\n",
       "      <td>103188.211357</td>\n",
       "    </tr>\n",
       "    <tr>\n",
       "      <th>Санкт-Петербург</th>\n",
       "      <td>114775.820395</td>\n",
       "    </tr>\n",
       "    <tr>\n",
       "      <th>Шушары</th>\n",
       "      <td>78513.333916</td>\n",
       "    </tr>\n",
       "  </tbody>\n",
       "</table>\n",
       "</div>"
      ],
      "text/plain": [
       "                 price_per_meter\n",
       "locality_name                   \n",
       "Всеволожск          68654.473986\n",
       "Выборг              58188.871381\n",
       "Гатчина             68858.478941\n",
       "Колпино             75424.579098\n",
       "Кудрово             95324.930544\n",
       "Мурино              85942.165474\n",
       "Парголово           90175.913458\n",
       "Пушкин             103188.211357\n",
       "Санкт-Петербург    114775.820395\n",
       "Шушары              78513.333916"
      ]
     },
     "execution_count": 58,
     "metadata": {},
     "output_type": "execute_result"
    }
   ],
   "source": [
    "data[data.locality_name.isin(locality_top10)].pivot_table(index='locality_name', \n",
    "                                                          values='price_per_meter', aggfunc = 'mean')"
   ]
  },
  {
   "cell_type": "markdown",
   "metadata": {},
   "source": [
    "Самая высокая средняя стоимость квадратного метра в Санкт-Петербурге, самая низкая - в Выборге."
   ]
  },
  {
   "cell_type": "markdown",
   "metadata": {},
   "source": [
    "*Квартиры в Санкт-Петербурге*"
   ]
  },
  {
   "cell_type": "markdown",
   "metadata": {},
   "source": [
    "Создадим столбец с расстоянием до центра в километрах, округлим до целых значений."
   ]
  },
  {
   "cell_type": "code",
   "execution_count": 59,
   "metadata": {},
   "outputs": [],
   "source": [
    "data['cityCenters_km'] = (data['cityCenters_nearest'] / 1000).round()\n"
   ]
  },
  {
   "cell_type": "markdown",
   "metadata": {},
   "source": [
    "Средняя цена для каждого километра"
   ]
  },
  {
   "cell_type": "code",
   "execution_count": 60,
   "metadata": {},
   "outputs": [],
   "source": [
    "data_spb = data.loc[data['locality_name'] == 'Санкт-Петербург']\n",
    "data_spb_km_price = data_spb.pivot_table(index='cityCenters_km', values='price_per_meter', aggfunc='mean').round()\n"
   ]
  },
  {
   "cell_type": "code",
   "execution_count": 61,
   "metadata": {},
   "outputs": [
    {
     "data": {
      "image/png": "[encoded data removed]",
      "text/plain": [
       "<Figure size 1080x360 with 1 Axes>"
      ]
     },
     "metadata": {
      "needs_background": "light"
     },
     "output_type": "display_data"
    }
   ],
   "source": [
    "# Определение центра города\n",
    "data_spb_km_price.plot(y='price_per_meter', style='o-', grid=True, figsize=(15, 5),title='СПБ, средняя цена для каждого километра ')\n",
    "plt.show()"
   ]
  },
  {
   "cell_type": "markdown",
   "metadata": {},
   "source": [
    "Начиная с 7 км. от центра города, цена начинает снижаться"
   ]
  },
  {
   "cell_type": "code",
   "execution_count": 62,
   "metadata": {},
   "outputs": [
    {
     "data": {
      "text/html": [
       "<div>\n",
       "<style scoped>\n",
       "    .dataframe tbody tr th:only-of-type {\n",
       "        vertical-align: middle;\n",
       "    }\n",
       "\n",
       "    .dataframe tbody tr th {\n",
       "        vertical-align: top;\n",
       "    }\n",
       "\n",
       "    .dataframe thead th {\n",
       "        text-align: right;\n",
       "    }\n",
       "</style>\n",
       "<table border=\"1\" class=\"dataframe\">\n",
       "  <thead>\n",
       "    <tr style=\"text-align: right;\">\n",
       "      <th></th>\n",
       "      <th>total_images</th>\n",
       "      <th>last_price</th>\n",
       "      <th>total_area</th>\n",
       "      <th>rooms</th>\n",
       "      <th>ceiling_height</th>\n",
       "      <th>floors_total</th>\n",
       "      <th>living_area</th>\n",
       "      <th>floor</th>\n",
       "      <th>kitchen_area</th>\n",
       "      <th>balcony</th>\n",
       "      <th>...</th>\n",
       "      <th>ponds_around3000</th>\n",
       "      <th>ponds_nearest</th>\n",
       "      <th>days_exposition</th>\n",
       "      <th>price_per_meter</th>\n",
       "      <th>day_exposition</th>\n",
       "      <th>month_exposition</th>\n",
       "      <th>year_exposition</th>\n",
       "      <th>living/total</th>\n",
       "      <th>kitchen/total</th>\n",
       "      <th>cityCenters_km</th>\n",
       "    </tr>\n",
       "  </thead>\n",
       "  <tbody>\n",
       "    <tr>\n",
       "      <th>count</th>\n",
       "      <td>3565.000000</td>\n",
       "      <td>3.565000e+03</td>\n",
       "      <td>3565.000000</td>\n",
       "      <td>3565.000000</td>\n",
       "      <td>3565.000000</td>\n",
       "      <td>3565.000000</td>\n",
       "      <td>3565.000000</td>\n",
       "      <td>3565.000000</td>\n",
       "      <td>3565.000000</td>\n",
       "      <td>3565.000000</td>\n",
       "      <td>...</td>\n",
       "      <td>3565.000000</td>\n",
       "      <td>3565.000000</td>\n",
       "      <td>2946.000000</td>\n",
       "      <td>3.565000e+03</td>\n",
       "      <td>3565.000000</td>\n",
       "      <td>3565.000000</td>\n",
       "      <td>3565.000000</td>\n",
       "      <td>3565.000000</td>\n",
       "      <td>3565.000000</td>\n",
       "      <td>3565.000000</td>\n",
       "    </tr>\n",
       "    <tr>\n",
       "      <th>mean</th>\n",
       "      <td>10.234222</td>\n",
       "      <td>9.968319e+06</td>\n",
       "      <td>93.408011</td>\n",
       "      <td>2.837588</td>\n",
       "      <td>2.937265</td>\n",
       "      <td>7.169705</td>\n",
       "      <td>55.166682</td>\n",
       "      <td>4.237588</td>\n",
       "      <td>16.093411</td>\n",
       "      <td>0.325666</td>\n",
       "      <td>...</td>\n",
       "      <td>1.272931</td>\n",
       "      <td>330.463955</td>\n",
       "      <td>247.308215</td>\n",
       "      <td>1.452500e+05</td>\n",
       "      <td>15.639832</td>\n",
       "      <td>6.405610</td>\n",
       "      <td>2017.190463</td>\n",
       "      <td>0.580651</td>\n",
       "      <td>0.186876</td>\n",
       "      <td>4.424404</td>\n",
       "    </tr>\n",
       "    <tr>\n",
       "      <th>std</th>\n",
       "      <td>5.990626</td>\n",
       "      <td>3.904234e+06</td>\n",
       "      <td>59.688073</td>\n",
       "      <td>1.443761</td>\n",
       "      <td>0.372572</td>\n",
       "      <td>3.916508</td>\n",
       "      <td>38.338404</td>\n",
       "      <td>2.999521</td>\n",
       "      <td>12.215740</td>\n",
       "      <td>0.765213</td>\n",
       "      <td>...</td>\n",
       "      <td>1.093989</td>\n",
       "      <td>310.393890</td>\n",
       "      <td>272.868277</td>\n",
       "      <td>9.345666e+04</td>\n",
       "      <td>8.627331</td>\n",
       "      <td>3.458406</td>\n",
       "      <td>1.131341</td>\n",
       "      <td>0.109704</td>\n",
       "      <td>0.088320</td>\n",
       "      <td>1.773106</td>\n",
       "    </tr>\n",
       "    <tr>\n",
       "      <th>min</th>\n",
       "      <td>0.000000</td>\n",
       "      <td>1.891050e+06</td>\n",
       "      <td>15.500000</td>\n",
       "      <td>1.000000</td>\n",
       "      <td>2.400000</td>\n",
       "      <td>2.000000</td>\n",
       "      <td>8.300000</td>\n",
       "      <td>1.000000</td>\n",
       "      <td>4.753333</td>\n",
       "      <td>0.000000</td>\n",
       "      <td>...</td>\n",
       "      <td>0.000000</td>\n",
       "      <td>0.000000</td>\n",
       "      <td>3.000000</td>\n",
       "      <td>1.534527e+04</td>\n",
       "      <td>1.000000</td>\n",
       "      <td>1.000000</td>\n",
       "      <td>2014.000000</td>\n",
       "      <td>0.141304</td>\n",
       "      <td>0.025381</td>\n",
       "      <td>0.000000</td>\n",
       "    </tr>\n",
       "    <tr>\n",
       "      <th>25%</th>\n",
       "      <td>6.000000</td>\n",
       "      <td>6.690000e+06</td>\n",
       "      <td>57.000000</td>\n",
       "      <td>2.000000</td>\n",
       "      <td>2.650000</td>\n",
       "      <td>5.000000</td>\n",
       "      <td>31.600000</td>\n",
       "      <td>2.000000</td>\n",
       "      <td>9.200000</td>\n",
       "      <td>0.000000</td>\n",
       "      <td>...</td>\n",
       "      <td>0.000000</td>\n",
       "      <td>0.000000</td>\n",
       "      <td>60.000000</td>\n",
       "      <td>9.985714e+04</td>\n",
       "      <td>9.000000</td>\n",
       "      <td>3.000000</td>\n",
       "      <td>2017.000000</td>\n",
       "      <td>0.522727</td>\n",
       "      <td>0.121025</td>\n",
       "      <td>3.000000</td>\n",
       "    </tr>\n",
       "    <tr>\n",
       "      <th>50%</th>\n",
       "      <td>10.000000</td>\n",
       "      <td>9.200000e+06</td>\n",
       "      <td>78.610000</td>\n",
       "      <td>3.000000</td>\n",
       "      <td>2.800000</td>\n",
       "      <td>6.000000</td>\n",
       "      <td>46.000000</td>\n",
       "      <td>4.000000</td>\n",
       "      <td>12.350000</td>\n",
       "      <td>0.000000</td>\n",
       "      <td>...</td>\n",
       "      <td>1.000000</td>\n",
       "      <td>265.000000</td>\n",
       "      <td>141.000000</td>\n",
       "      <td>1.235849e+05</td>\n",
       "      <td>16.000000</td>\n",
       "      <td>6.000000</td>\n",
       "      <td>2017.000000</td>\n",
       "      <td>0.581395</td>\n",
       "      <td>0.160000</td>\n",
       "      <td>5.000000</td>\n",
       "    </tr>\n",
       "    <tr>\n",
       "      <th>75%</th>\n",
       "      <td>15.000000</td>\n",
       "      <td>1.450000e+07</td>\n",
       "      <td>110.000000</td>\n",
       "      <td>3.000000</td>\n",
       "      <td>3.150000</td>\n",
       "      <td>9.000000</td>\n",
       "      <td>67.000000</td>\n",
       "      <td>5.000000</td>\n",
       "      <td>18.400000</td>\n",
       "      <td>0.000000</td>\n",
       "      <td>...</td>\n",
       "      <td>2.000000</td>\n",
       "      <td>573.000000</td>\n",
       "      <td>347.750000</td>\n",
       "      <td>1.559767e+05</td>\n",
       "      <td>23.000000</td>\n",
       "      <td>10.000000</td>\n",
       "      <td>2018.000000</td>\n",
       "      <td>0.656357</td>\n",
       "      <td>0.240000</td>\n",
       "      <td>6.000000</td>\n",
       "    </tr>\n",
       "    <tr>\n",
       "      <th>max</th>\n",
       "      <td>50.000000</td>\n",
       "      <td>1.535000e+07</td>\n",
       "      <td>631.200000</td>\n",
       "      <td>19.000000</td>\n",
       "      <td>6.000000</td>\n",
       "      <td>25.000000</td>\n",
       "      <td>409.000000</td>\n",
       "      <td>25.000000</td>\n",
       "      <td>153.333333</td>\n",
       "      <td>5.000000</td>\n",
       "      <td>...</td>\n",
       "      <td>3.000000</td>\n",
       "      <td>1293.000000</td>\n",
       "      <td>1572.000000</td>\n",
       "      <td>1.907500e+06</td>\n",
       "      <td>31.000000</td>\n",
       "      <td>12.000000</td>\n",
       "      <td>2019.000000</td>\n",
       "      <td>0.983447</td>\n",
       "      <td>0.636986</td>\n",
       "      <td>7.000000</td>\n",
       "    </tr>\n",
       "  </tbody>\n",
       "</table>\n",
       "<p>8 rows × 24 columns</p>\n",
       "</div>"
      ],
      "text/plain": [
       "       total_images    last_price   total_area        rooms  ceiling_height  \\\n",
       "count   3565.000000  3.565000e+03  3565.000000  3565.000000     3565.000000   \n",
       "mean      10.234222  9.968319e+06    93.408011     2.837588        2.937265   \n",
       "std        5.990626  3.904234e+06    59.688073     1.443761        0.372572   \n",
       "min        0.000000  1.891050e+06    15.500000     1.000000        2.400000   \n",
       "25%        6.000000  6.690000e+06    57.000000     2.000000        2.650000   \n",
       "50%       10.000000  9.200000e+06    78.610000     3.000000        2.800000   \n",
       "75%       15.000000  1.450000e+07   110.000000     3.000000        3.150000   \n",
       "max       50.000000  1.535000e+07   631.200000    19.000000        6.000000   \n",
       "\n",
       "       floors_total  living_area        floor  kitchen_area      balcony  ...  \\\n",
       "count   3565.000000  3565.000000  3565.000000   3565.000000  3565.000000  ...   \n",
       "mean       7.169705    55.166682     4.237588     16.093411     0.325666  ...   \n",
       "std        3.916508    38.338404     2.999521     12.215740     0.765213  ...   \n",
       "min        2.000000     8.300000     1.000000      4.753333     0.000000  ...   \n",
       "25%        5.000000    31.600000     2.000000      9.200000     0.000000  ...   \n",
       "50%        6.000000    46.000000     4.000000     12.350000     0.000000  ...   \n",
       "75%        9.000000    67.000000     5.000000     18.400000     0.000000  ...   \n",
       "max       25.000000   409.000000    25.000000    153.333333     5.000000  ...   \n",
       "\n",
       "       ponds_around3000  ponds_nearest  days_exposition  price_per_meter  \\\n",
       "count       3565.000000    3565.000000      2946.000000     3.565000e+03   \n",
       "mean           1.272931     330.463955       247.308215     1.452500e+05   \n",
       "std            1.093989     310.393890       272.868277     9.345666e+04   \n",
       "min            0.000000       0.000000         3.000000     1.534527e+04   \n",
       "25%            0.000000       0.000000        60.000000     9.985714e+04   \n",
       "50%            1.000000     265.000000       141.000000     1.235849e+05   \n",
       "75%            2.000000     573.000000       347.750000     1.559767e+05   \n",
       "max            3.000000    1293.000000      1572.000000     1.907500e+06   \n",
       "\n",
       "       day_exposition  month_exposition  year_exposition  living/total  \\\n",
       "count     3565.000000       3565.000000      3565.000000   3565.000000   \n",
       "mean        15.639832          6.405610      2017.190463      0.580651   \n",
       "std          8.627331          3.458406         1.131341      0.109704   \n",
       "min          1.000000          1.000000      2014.000000      0.141304   \n",
       "25%          9.000000          3.000000      2017.000000      0.522727   \n",
       "50%         16.000000          6.000000      2017.000000      0.581395   \n",
       "75%         23.000000         10.000000      2018.000000      0.656357   \n",
       "max         31.000000         12.000000      2019.000000      0.983447   \n",
       "\n",
       "       kitchen/total  cityCenters_km  \n",
       "count    3565.000000     3565.000000  \n",
       "mean        0.186876        4.424404  \n",
       "std         0.088320        1.773106  \n",
       "min         0.025381        0.000000  \n",
       "25%         0.121025        3.000000  \n",
       "50%         0.160000        5.000000  \n",
       "75%         0.240000        6.000000  \n",
       "max         0.636986        7.000000  \n",
       "\n",
       "[8 rows x 24 columns]"
      ]
     },
     "execution_count": 62,
     "metadata": {},
     "output_type": "execute_result"
    }
   ],
   "source": [
    "data_spb_center = data_spb.loc[data_spb['cityCenters_km'] <= 7]\n",
    "data_spb_center.describe()"
   ]
  },
  {
   "cell_type": "markdown",
   "metadata": {},
   "source": [
    "Удалим по 5% выбросов с каждой стороны и посмотрим параметры квартир в центре города"
   ]
  },
  {
   "cell_type": "code",
   "execution_count": 63,
   "metadata": {},
   "outputs": [
    {
     "data": {
      "image/png": "[encoded data removed]",
      "text/plain": [
       "<Figure size 1080x360 with 1 Axes>"
      ]
     },
     "metadata": {
      "needs_background": "light"
     },
     "output_type": "display_data"
    }
   ],
   "source": [
    "total_area1_3_spb = data_spb_center.query('total_area.quantile(0.05)<=total_area<= total_area.quantile(0.95)')\n",
    "total_area1_3_spb.hist('total_area', bins=30, color='orange', figsize = (15, 5))\n",
    "plt.title('Общая площадь, кв.м')\n",
    "plt.axvline(x=total_area1_3_spb['total_area'].median(), color='black', lw=4, label=['Медиана',round(total_area1_3_spb['total_area'].median(),2)])\n",
    "plt.legend() \n",
    "plt.show()"
   ]
  },
  {
   "cell_type": "code",
   "execution_count": 64,
   "metadata": {},
   "outputs": [
    {
     "data": {
      "image/png": "[encoded data removed]",
      "text/plain": [
       "<Figure size 1080x360 with 1 Axes>"
      ]
     },
     "metadata": {
      "needs_background": "light"
     },
     "output_type": "display_data"
    }
   ],
   "source": [
    "kitchen_area1_3_spb = data_spb_center.query('kitchen_area.quantile(0.05)<=kitchen_area<= kitchen_area.quantile(0.95)')\n",
    "kitchen_area1_3_spb.hist('kitchen_area', bins=30, color='orange', figsize = (15, 5))\n",
    "plt.title('Площадь кухни, кв.м.')\n",
    "plt.axvline(x=kitchen_area1_3_spb['kitchen_area'].median(), color='black', lw=4, \n",
    "            label=['Медиана',round(kitchen_area1_3_spb['kitchen_area'].median(),2)])\n",
    "plt.legend() \n",
    "plt.show()"
   ]
  },
  {
   "cell_type": "code",
   "execution_count": 65,
   "metadata": {},
   "outputs": [
    {
     "data": {
      "image/png": "[encoded data removed]",
      "text/plain": [
       "<Figure size 1080x360 with 1 Axes>"
      ]
     },
     "metadata": {
      "needs_background": "light"
     },
     "output_type": "display_data"
    }
   ],
   "source": [
    "living_area1_3_spb = data_spb_center.query('living_area.quantile(0.05)<=living_area<= living_area.quantile(0.95)')\n",
    "living_area1_3_spb.hist('living_area', bins=30, color='orange', figsize = (15, 5))\n",
    "plt.title('Жилая площадь, кв.м.')\n",
    "plt.axvline(x=living_area1_3_spb['living_area'].median(), color='black', lw=4, \n",
    "            label=['Медиана',round(living_area1_3_spb['living_area'].median(),2)])\n",
    "plt.legend() \n",
    "plt.show()"
   ]
  },
  {
   "cell_type": "code",
   "execution_count": 66,
   "metadata": {
    "scrolled": true
   },
   "outputs": [
    {
     "data": {
      "image/png": "[encoded data removed]",
      "text/plain": [
       "<Figure size 1080x360 with 1 Axes>"
      ]
     },
     "metadata": {
      "needs_background": "light"
     },
     "output_type": "display_data"
    }
   ],
   "source": [
    "rooms1_3_spb = data_spb_center.query('rooms.quantile(0.05)<=rooms<= rooms.quantile(0.95)')\n",
    "rooms1_3_spb.hist('rooms', bins=5, color='orange', figsize = (15, 5))\n",
    "plt.title('Количество комнат')\n",
    "plt.axvline(x=rooms1_3_spb['rooms'].median(), color='black', lw=4, label=['Медиана',round(rooms1_3_spb['rooms'].median(),2)])\n",
    "plt.legend() \n",
    "plt.show()"
   ]
  },
  {
   "cell_type": "code",
   "execution_count": 67,
   "metadata": {
    "scrolled": true
   },
   "outputs": [
    {
     "data": {
      "image/png": "[encoded data removed]",
      "text/plain": [
       "<Figure size 1080x360 with 1 Axes>"
      ]
     },
     "metadata": {
      "needs_background": "light"
     },
     "output_type": "display_data"
    }
   ],
   "source": [
    "ceiling_height1_3_spb = data_spb_center.query('ceiling_height.quantile(0.05)<=ceiling_height<= ceiling_height.quantile(0.95)')\n",
    "ceiling_height1_3_spb.hist('ceiling_height', bins=5, color='orange', figsize = (15, 5))\n",
    "plt.title('Высота потолков')\n",
    "plt.axvline(x=ceiling_height1_3_spb['ceiling_height'].median(), color='black', lw=4, \n",
    "            label=['Медиана',round(ceiling_height1_3_spb['ceiling_height'].median(),2)])\n",
    "plt.legend() \n",
    "plt.show()"
   ]
  },
  {
   "cell_type": "code",
   "execution_count": 68,
   "metadata": {},
   "outputs": [
    {
     "data": {
      "image/png": "[encoded data removed]",
      "text/plain": [
       "<Figure size 432x288 with 2 Axes>"
      ]
     },
     "metadata": {
      "needs_background": "light"
     },
     "output_type": "display_data"
    }
   ],
   "source": [
    "# посмотрим корреляции\n",
    "spb_center_corr = data_spb_center[['total_area', 'last_price', 'rooms', \n",
    "                                   'ceiling_height','price_per_meter', 'cityCenters_km']]\n",
    "sns.heatmap(spb_center_corr.corr(), annot=True)\n",
    "plt.show()"
   ]
  },
  {
   "cell_type": "markdown",
   "metadata": {},
   "source": [
    "Есть средняя зависимость цены от размера квартиры."
   ]
  },
  {
   "cell_type": "code",
   "execution_count": 69,
   "metadata": {},
   "outputs": [
    {
     "data": {
      "image/png": "[encoded data removed]",
      "text/plain": [
       "<Figure size 432x288 with 1 Axes>"
      ]
     },
     "metadata": {
      "needs_background": "light"
     },
     "output_type": "display_data"
    }
   ],
   "source": [
    "# посмотрим цену по этажам\n",
    "data_spb_center.pivot_table(index='floor_number', values='price_per_meter', aggfunc='median').plot(kind='bar')\n",
    "plt.title('Цена за 1 кв.м.')\n",
    "plt.xlabel('этаж')\n",
    "plt.ylabel('цена')\n",
    "plt.show()"
   ]
  },
  {
   "cell_type": "markdown",
   "metadata": {},
   "source": [
    "Квартиры на этажах, кроме первого и последнего, стоят дороже. "
   ]
  },
  {
   "cell_type": "markdown",
   "metadata": {},
   "source": [
    "### Выводы\n",
    "1. Очень заметной, кроме цены, разницы в жилом фонде нет.\n",
    "2. Квартиры в Санкт-Петербурге, особенно в центре, стоят дороже\n",
    "3. В  центре Санкт-Петербурга 1-комнатных квартир, выставленных на продажу, меньше, чем в целом по выборке.\n",
    "4. К продаже в Санкт-Петербурге предлагаются, в основном, 2-х и 3-х комнатные квартиры, площадью от 57 до 110 кв.м. В целом по выборке 1, 2, 3- комнатные квартиры, площадью от 40 до 69.9 кв. м."
   ]
  },
  {
   "cell_type": "code",
   "execution_count": 73,
   "metadata": {},
   "outputs": [
    {
     "data": {
      "image/png": "[encoded data removed]",
      "text/plain": [
       "<Figure size 432x288 with 1 Axes>"
      ]
     },
     "metadata": {
      "needs_background": "light"
     },
     "output_type": "display_data"
    },
    {
     "data": {
      "image/png": "[encoded data removed]",
      "text/plain": [
       "<Figure size 432x288 with 1 Axes>"
      ]
     },
     "metadata": {
      "needs_background": "light"
     },
     "output_type": "display_data"
    },
    {
     "data": {
      "image/png": "[encoded data removed]",
      "text/plain": [
       "<Figure size 432x288 with 1 Axes>"
      ]
     },
     "metadata": {
      "needs_background": "light"
     },
     "output_type": "display_data"
    },
    {
     "data": {
      "image/png": "[encoded data removed]",
      "text/plain": [
       "<Figure size 432x288 with 1 Axes>"
      ]
     },
     "metadata": {
      "needs_background": "light"
     },
     "output_type": "display_data"
    }
   ],
   "source": [
    "data_spb_center.pivot_table(index='day_of_week_exposition', values='last_price', aggfunc='median').plot(kind='bar')\n",
    "plt.title('Цена квартиры')\n",
    "plt.xlabel('день недели')\n",
    "plt.ylabel('цена')\n",
    "plt.show()\n",
    "\n",
    "data_spb_center.pivot_table(index='day_exposition', values='last_price', aggfunc='median').plot(kind='bar')\n",
    "plt.title('Цена квартиры')\n",
    "plt.xlabel('день')\n",
    "plt.ylabel('цена')\n",
    "plt.show()\n",
    "\n",
    "data_spb_center.pivot_table(index='month_exposition', values='last_price', aggfunc='median').plot(kind='bar')\n",
    "plt.title('Цена квартиры')\n",
    "plt.xlabel('месяц')\n",
    "plt.ylabel('цена')\n",
    "plt.show()\n",
    "\n",
    "data_spb_center.pivot_table(index='year_exposition', values='last_price', aggfunc='median').plot(kind='bar')\n",
    "plt.title('Цена квартиры')\n",
    "plt.xlabel('год')\n",
    "plt.ylabel('цена')\n",
    "plt.show()"
   ]
  },
  {
   "cell_type": "markdown",
   "metadata": {},
   "source": [
    "## Общий вывод"
   ]
  },
  {
   "cell_type": "markdown",
   "metadata": {},
   "source": [
    "1. Самые дорогие квартиры в Санкт-Петербурге, самые дешевые в Выборге.\n",
    "2. Стоимость квартир летом снижается.\n",
    "3. Начиная с 2019 года наблюдается рост стоимости квартир.\n",
    "4. Цена квартир в центре Санкт-Петербурга стабильна с 2017 года.\n",
    "5. В половине случаев, длительность реализации квартиры - около 3-х месяцев.\n",
    "6. Основным фактором, влияющим на стоимость квартиры является метраж."
   ]
  },
  {
   "cell_type": "markdown",
   "metadata": {},
   "source": [
    "## Чек-лист готовности проекта\n",
    "\n",
    "Поставьте 'x' в выполненных пунктах. Далее нажмите Shift+Enter."
   ]
  },
  {
   "cell_type": "markdown",
   "metadata": {},
   "source": [
    "- [x]  открыт файл\n",
    "- [x]  файлы изучены (выведены первые строки, метод `info()`)\n",
    "- [x]  определены пропущенные значения\n",
    "- [x]  заполнены пропущенные значения\n",
    "- [x]  есть пояснение, какие пропущенные значения обнаружены\n",
    "- [x]  изменены типы данных\n",
    "- [x]  есть пояснение, в каких столбцах изменены типы и почему\n",
    "- [x]  посчитано и добавлено в таблицу: цена квадратного метра\n",
    "- [x]  посчитано и добавлено в таблицу: день недели, месяц и год публикации объявления\n",
    "- [x]  посчитано и добавлено в таблицу: этаж квартиры; варианты — первый, последний, другой\n",
    "- [x]  посчитано и добавлено в таблицу: соотношение жилой и общей площади, а также отношение площади кухни к общей\n",
    "- [x]  изучены следующие параметры: площадь, цена, число комнат, высота потолков\n",
    "- [x]  построены гистограммы для каждого параметра\n",
    "- [x]  выполнено задание: «Изучите время продажи квартиры. Постройте гистограмму. Посчитайте среднее и медиану. Опишите, сколько обычно занимает продажа. Когда можно считать, что продажи прошли очень быстро, а когда необычно долго?»\n",
    "- [x]  выполнено задание: «Уберите редкие и выбивающиеся значения. Опишите, какие особенности обнаружили».\n",
    "- [x]  выполнено задание: «Какие факторы больше всего влияют на стоимость квартиры? Изучите, зависит ли цена от квадратного метра, числа комнат, этажа (первого или последнего), удалённости от центра. Также изучите зависимость от даты размещения: дня недели, месяца и года». \n",
    "- [x]  выполнено задание: «Выберите 10 населённых пунктов с наибольшим числом объявлений. Посчитайте среднюю цену квадратного метра в этих населённых пунктах. Выделите населённые пункты с самой высокой и низкой стоимостью жилья. Эти данные можно найти по имени в столбце `locality_name`».\n",
    "- [x]  выполнено задание: «Изучите предложения квартир: для каждой квартиры есть информация о расстоянии до центра. Выделите квартиры в Санкт-Петербурге (`locality_name`). Ваша задача — выяснить, какая область входит в центр. Создайте столбец с расстоянием до центра в километрах: округлите до целых значений. После этого посчитайте среднюю цену для каждого километра. Постройте график: он должен показывать, как цена зависит от удалённости от центра. Определите границу, где график сильно меняется — это и будет центральная зона».\n",
    "- [x]  выполнено задание: «Выделите сегмент квартир в центре. Проанализируйте эту территорию и изучите следующие параметры: площадь, цена, число комнат, высота потолков. Также выделите факторы, которые влияют на стоимость квартиры (число комнат, этаж, удалённость от центра, дата размещения объявления). Сделайте выводы. Отличаются ли они от общих выводов по всей базе?»\n",
    "- [x]  в каждом этапе есть выводы\n",
    "- [x]  есть общий вывод"
   ]
  }
 ],
 "metadata": {
  "ExecuteTimeLog": [
   {
    "duration": 673,
    "start_time": "2022-03-06T17:24:50.276Z"
   },
   {
    "duration": 126,
    "start_time": "2022-03-06T17:31:15.432Z"
   },
   {
    "duration": 122,
    "start_time": "2022-03-06T17:31:32.557Z"
   },
   {
    "duration": 131,
    "start_time": "2022-03-06T17:31:50.106Z"
   },
   {
    "duration": 133,
    "start_time": "2022-03-06T17:32:05.466Z"
   },
   {
    "duration": 126,
    "start_time": "2022-03-06T17:32:33.180Z"
   },
   {
    "duration": 129,
    "start_time": "2022-03-06T17:32:41.207Z"
   },
   {
    "duration": 703,
    "start_time": "2022-03-06T17:33:02.456Z"
   },
   {
    "duration": 23,
    "start_time": "2022-03-06T17:33:30.221Z"
   },
   {
    "duration": 17,
    "start_time": "2022-03-06T17:47:36.658Z"
   },
   {
    "duration": 31,
    "start_time": "2022-03-06T17:48:17.537Z"
   },
   {
    "duration": 20,
    "start_time": "2022-03-06T17:48:41.430Z"
   },
   {
    "duration": 27,
    "start_time": "2022-03-06T17:50:16.022Z"
   },
   {
    "duration": 28,
    "start_time": "2022-03-06T17:55:48.945Z"
   },
   {
    "duration": 9,
    "start_time": "2022-03-06T18:34:31.310Z"
   },
   {
    "duration": 12,
    "start_time": "2022-03-06T19:25:35.310Z"
   },
   {
    "duration": 9,
    "start_time": "2022-03-06T19:25:50.083Z"
   },
   {
    "duration": 345,
    "start_time": "2022-03-06T19:26:23.414Z"
   },
   {
    "duration": 11,
    "start_time": "2022-03-06T19:26:31.574Z"
   },
   {
    "duration": 295,
    "start_time": "2022-03-06T19:27:02.302Z"
   },
   {
    "duration": 299,
    "start_time": "2022-03-06T19:27:32.052Z"
   },
   {
    "duration": 8,
    "start_time": "2022-03-06T19:58:43.796Z"
   },
   {
    "duration": 8,
    "start_time": "2022-03-06T19:59:36.445Z"
   },
   {
    "duration": 337,
    "start_time": "2022-03-07T07:10:32.518Z"
   },
   {
    "duration": 748,
    "start_time": "2022-03-07T07:10:46.978Z"
   },
   {
    "duration": 22,
    "start_time": "2022-03-07T07:10:47.727Z"
   },
   {
    "duration": 28,
    "start_time": "2022-03-07T07:10:47.750Z"
   },
   {
    "duration": 50,
    "start_time": "2022-03-07T07:10:47.779Z"
   },
   {
    "duration": 9,
    "start_time": "2022-03-07T07:10:47.830Z"
   },
   {
    "duration": 6,
    "start_time": "2022-03-07T07:10:47.840Z"
   },
   {
    "duration": 365,
    "start_time": "2022-03-07T07:16:20.112Z"
   },
   {
    "duration": 722,
    "start_time": "2022-03-07T07:16:40.676Z"
   },
   {
    "duration": 21,
    "start_time": "2022-03-07T07:16:41.400Z"
   },
   {
    "duration": 26,
    "start_time": "2022-03-07T07:16:41.423Z"
   },
   {
    "duration": 27,
    "start_time": "2022-03-07T07:16:41.451Z"
   },
   {
    "duration": 28,
    "start_time": "2022-03-07T07:16:41.480Z"
   },
   {
    "duration": 356,
    "start_time": "2022-03-07T07:16:41.510Z"
   },
   {
    "duration": 280,
    "start_time": "2022-03-07T07:16:51.510Z"
   },
   {
    "duration": 25,
    "start_time": "2022-03-07T07:17:45.251Z"
   },
   {
    "duration": 305,
    "start_time": "2022-03-07T07:17:56.742Z"
   },
   {
    "duration": 20,
    "start_time": "2022-03-07T07:18:03.237Z"
   },
   {
    "duration": 360,
    "start_time": "2022-03-07T07:19:57.377Z"
   },
   {
    "duration": 22,
    "start_time": "2022-03-07T07:22:37.490Z"
   },
   {
    "duration": 21,
    "start_time": "2022-03-07T07:30:14.680Z"
   },
   {
    "duration": 23,
    "start_time": "2022-03-07T08:06:12.071Z"
   },
   {
    "duration": 673,
    "start_time": "2022-03-07T17:23:05.602Z"
   },
   {
    "duration": 26,
    "start_time": "2022-03-07T17:23:06.277Z"
   },
   {
    "duration": 46,
    "start_time": "2022-03-07T17:23:06.305Z"
   },
   {
    "duration": 34,
    "start_time": "2022-03-07T17:23:06.352Z"
   },
   {
    "duration": 14,
    "start_time": "2022-03-07T17:23:06.387Z"
   },
   {
    "duration": 49,
    "start_time": "2022-03-07T17:23:06.402Z"
   },
   {
    "duration": 24,
    "start_time": "2022-03-07T17:23:06.452Z"
   },
   {
    "duration": 23,
    "start_time": "2022-03-07T17:23:06.478Z"
   },
   {
    "duration": 47,
    "start_time": "2022-03-07T17:23:06.503Z"
   },
   {
    "duration": 5,
    "start_time": "2022-03-07T17:28:23.254Z"
   },
   {
    "duration": 4,
    "start_time": "2022-03-07T17:28:39.198Z"
   },
   {
    "duration": 5,
    "start_time": "2022-03-07T17:28:46.844Z"
   },
   {
    "duration": 5,
    "start_time": "2022-03-07T17:31:02.654Z"
   },
   {
    "duration": 229,
    "start_time": "2022-03-07T17:34:56.002Z"
   },
   {
    "duration": 11,
    "start_time": "2022-03-07T17:40:00.553Z"
   },
   {
    "duration": 6,
    "start_time": "2022-03-07T17:42:08.213Z"
   },
   {
    "duration": 5,
    "start_time": "2022-03-07T17:47:37.084Z"
   },
   {
    "duration": 6,
    "start_time": "2022-03-07T17:48:44.677Z"
   },
   {
    "duration": 9,
    "start_time": "2022-03-07T17:49:45.094Z"
   },
   {
    "duration": 8,
    "start_time": "2022-03-07T17:56:20.392Z"
   },
   {
    "duration": 4,
    "start_time": "2022-03-07T17:58:35.931Z"
   },
   {
    "duration": 4,
    "start_time": "2022-03-07T18:00:19.939Z"
   },
   {
    "duration": 58,
    "start_time": "2022-03-07T18:12:59.346Z"
   },
   {
    "duration": 29,
    "start_time": "2022-03-07T18:13:10.226Z"
   },
   {
    "duration": 10,
    "start_time": "2022-03-07T18:13:40.117Z"
   },
   {
    "duration": 7,
    "start_time": "2022-03-07T18:25:23.389Z"
   },
   {
    "duration": 6,
    "start_time": "2022-03-07T18:26:47.750Z"
   },
   {
    "duration": 9,
    "start_time": "2022-03-07T18:27:36.571Z"
   },
   {
    "duration": 32,
    "start_time": "2022-03-07T18:34:38.366Z"
   },
   {
    "duration": 32,
    "start_time": "2022-03-07T18:35:15.546Z"
   },
   {
    "duration": 7,
    "start_time": "2022-03-07T18:36:18.728Z"
   },
   {
    "duration": 171,
    "start_time": "2022-03-07T18:39:14.695Z"
   },
   {
    "duration": 167,
    "start_time": "2022-03-07T18:39:32.598Z"
   },
   {
    "duration": 170,
    "start_time": "2022-03-07T18:39:53.993Z"
   },
   {
    "duration": 190,
    "start_time": "2022-03-07T18:40:18.510Z"
   },
   {
    "duration": 12,
    "start_time": "2022-03-07T18:40:36.855Z"
   },
   {
    "duration": 13,
    "start_time": "2022-03-07T18:40:43.910Z"
   },
   {
    "duration": 11,
    "start_time": "2022-03-07T18:41:17.899Z"
   },
   {
    "duration": 674,
    "start_time": "2022-03-07T18:42:25.986Z"
   },
   {
    "duration": 28,
    "start_time": "2022-03-07T18:42:26.662Z"
   },
   {
    "duration": 52,
    "start_time": "2022-03-07T18:42:26.693Z"
   },
   {
    "duration": 34,
    "start_time": "2022-03-07T18:42:26.748Z"
   },
   {
    "duration": 12,
    "start_time": "2022-03-07T18:42:26.784Z"
   },
   {
    "duration": 54,
    "start_time": "2022-03-07T18:42:26.798Z"
   },
   {
    "duration": 5,
    "start_time": "2022-03-07T18:42:26.853Z"
   },
   {
    "duration": 4,
    "start_time": "2022-03-07T18:42:26.860Z"
   },
   {
    "duration": 6,
    "start_time": "2022-03-07T18:42:26.866Z"
   },
   {
    "duration": 48,
    "start_time": "2022-03-07T18:42:26.873Z"
   },
   {
    "duration": 18,
    "start_time": "2022-03-07T18:42:26.922Z"
   },
   {
    "duration": 28,
    "start_time": "2022-03-07T18:42:26.942Z"
   },
   {
    "duration": 7,
    "start_time": "2022-03-07T18:42:26.972Z"
   },
   {
    "duration": 10,
    "start_time": "2022-03-07T18:42:26.981Z"
   },
   {
    "duration": 12,
    "start_time": "2022-03-07T18:42:26.993Z"
   },
   {
    "duration": 36,
    "start_time": "2022-03-07T18:42:27.007Z"
   },
   {
    "duration": 5,
    "start_time": "2022-03-07T18:42:27.044Z"
   },
   {
    "duration": 34,
    "start_time": "2022-03-07T18:43:00.353Z"
   },
   {
    "duration": 12,
    "start_time": "2022-03-07T18:43:25.663Z"
   },
   {
    "duration": 31,
    "start_time": "2022-03-07T18:43:37.503Z"
   },
   {
    "duration": 5,
    "start_time": "2022-03-07T18:44:47.219Z"
   },
   {
    "duration": 8,
    "start_time": "2022-03-07T18:45:55.955Z"
   },
   {
    "duration": 7,
    "start_time": "2022-03-07T18:46:50.144Z"
   },
   {
    "duration": 7,
    "start_time": "2022-03-07T18:47:24.296Z"
   },
   {
    "duration": 9,
    "start_time": "2022-03-07T18:48:29.554Z"
   },
   {
    "duration": 11,
    "start_time": "2022-03-07T18:50:15.232Z"
   },
   {
    "duration": 12,
    "start_time": "2022-03-07T18:50:30.355Z"
   },
   {
    "duration": 32,
    "start_time": "2022-03-07T18:53:08.169Z"
   },
   {
    "duration": 12,
    "start_time": "2022-03-07T18:53:11.896Z"
   },
   {
    "duration": 237,
    "start_time": "2022-03-07T18:54:51.091Z"
   },
   {
    "duration": 686,
    "start_time": "2022-03-07T18:55:08.303Z"
   },
   {
    "duration": 26,
    "start_time": "2022-03-07T18:55:08.991Z"
   },
   {
    "duration": 49,
    "start_time": "2022-03-07T18:55:09.019Z"
   },
   {
    "duration": 35,
    "start_time": "2022-03-07T18:55:09.070Z"
   },
   {
    "duration": 32,
    "start_time": "2022-03-07T18:55:09.106Z"
   },
   {
    "duration": 29,
    "start_time": "2022-03-07T18:55:09.140Z"
   },
   {
    "duration": 5,
    "start_time": "2022-03-07T18:55:09.171Z"
   },
   {
    "duration": 6,
    "start_time": "2022-03-07T18:55:09.178Z"
   },
   {
    "duration": 9,
    "start_time": "2022-03-07T18:55:09.185Z"
   },
   {
    "duration": 56,
    "start_time": "2022-03-07T18:55:09.196Z"
   },
   {
    "duration": 11,
    "start_time": "2022-03-07T18:55:09.253Z"
   },
   {
    "duration": 27,
    "start_time": "2022-03-07T18:55:09.266Z"
   },
   {
    "duration": 8,
    "start_time": "2022-03-07T18:55:09.294Z"
   },
   {
    "duration": 60,
    "start_time": "2022-03-07T18:55:09.304Z"
   },
   {
    "duration": 11,
    "start_time": "2022-03-07T18:55:09.366Z"
   },
   {
    "duration": 232,
    "start_time": "2022-03-07T18:55:09.379Z"
   },
   {
    "duration": -770,
    "start_time": "2022-03-07T18:55:10.384Z"
   },
   {
    "duration": -784,
    "start_time": "2022-03-07T18:55:10.399Z"
   },
   {
    "duration": -785,
    "start_time": "2022-03-07T18:55:10.402Z"
   },
   {
    "duration": 175,
    "start_time": "2022-03-07T18:55:40.952Z"
   },
   {
    "duration": 179,
    "start_time": "2022-03-07T18:57:09.798Z"
   },
   {
    "duration": 177,
    "start_time": "2022-03-07T18:57:16.702Z"
   },
   {
    "duration": 37,
    "start_time": "2022-03-07T19:02:57.706Z"
   },
   {
    "duration": 26,
    "start_time": "2022-03-07T19:03:15.196Z"
   },
   {
    "duration": 10,
    "start_time": "2022-03-07T19:06:28.272Z"
   },
   {
    "duration": 799,
    "start_time": "2022-03-07T19:10:14.908Z"
   },
   {
    "duration": 28,
    "start_time": "2022-03-07T19:10:15.709Z"
   },
   {
    "duration": 40,
    "start_time": "2022-03-07T19:10:15.740Z"
   },
   {
    "duration": 36,
    "start_time": "2022-03-07T19:10:15.782Z"
   },
   {
    "duration": 24,
    "start_time": "2022-03-07T19:10:15.820Z"
   },
   {
    "duration": 46,
    "start_time": "2022-03-07T19:10:15.846Z"
   },
   {
    "duration": 7,
    "start_time": "2022-03-07T19:10:15.894Z"
   },
   {
    "duration": 13,
    "start_time": "2022-03-07T19:10:15.903Z"
   },
   {
    "duration": 18,
    "start_time": "2022-03-07T19:10:15.918Z"
   },
   {
    "duration": 36,
    "start_time": "2022-03-07T19:10:15.938Z"
   },
   {
    "duration": 12,
    "start_time": "2022-03-07T19:10:15.976Z"
   },
   {
    "duration": 50,
    "start_time": "2022-03-07T19:10:15.990Z"
   },
   {
    "duration": 9,
    "start_time": "2022-03-07T19:10:16.042Z"
   },
   {
    "duration": 11,
    "start_time": "2022-03-07T19:10:16.053Z"
   },
   {
    "duration": 36,
    "start_time": "2022-03-07T19:10:16.065Z"
   },
   {
    "duration": 10,
    "start_time": "2022-03-07T19:10:16.104Z"
   },
   {
    "duration": 7,
    "start_time": "2022-03-07T19:10:16.139Z"
   },
   {
    "duration": 19,
    "start_time": "2022-03-07T19:10:16.148Z"
   },
   {
    "duration": 32,
    "start_time": "2022-03-07T19:13:24.320Z"
   },
   {
    "duration": 8,
    "start_time": "2022-03-07T19:14:32.373Z"
   },
   {
    "duration": 7,
    "start_time": "2022-03-07T19:53:26.688Z"
   },
   {
    "duration": 63,
    "start_time": "2022-03-07T19:58:01.839Z"
   },
   {
    "duration": 55,
    "start_time": "2022-03-07T19:58:11.415Z"
   },
   {
    "duration": 60,
    "start_time": "2022-03-07T19:58:20.854Z"
   },
   {
    "duration": 56,
    "start_time": "2022-03-07T19:58:29.834Z"
   },
   {
    "duration": 60,
    "start_time": "2022-03-07T19:58:55.054Z"
   },
   {
    "duration": 57,
    "start_time": "2022-03-07T19:59:07.642Z"
   },
   {
    "duration": 60,
    "start_time": "2022-03-07T19:59:27.429Z"
   },
   {
    "duration": 23,
    "start_time": "2022-03-07T20:00:27.131Z"
   },
   {
    "duration": 31,
    "start_time": "2022-03-07T20:01:16.835Z"
   },
   {
    "duration": 6,
    "start_time": "2022-03-07T20:01:22.582Z"
   },
   {
    "duration": 9,
    "start_time": "2022-03-07T20:01:51.682Z"
   },
   {
    "duration": 22,
    "start_time": "2022-03-07T20:03:34.337Z"
   },
   {
    "duration": 9,
    "start_time": "2022-03-07T20:14:25.090Z"
   },
   {
    "duration": 11,
    "start_time": "2022-03-07T20:25:20.974Z"
   },
   {
    "duration": 11,
    "start_time": "2022-03-07T20:25:22.920Z"
   },
   {
    "duration": 236,
    "start_time": "2022-03-07T20:50:32.244Z"
   },
   {
    "duration": 207,
    "start_time": "2022-03-07T20:50:49.839Z"
   },
   {
    "duration": 20,
    "start_time": "2022-03-07T20:51:10.399Z"
   },
   {
    "duration": 7,
    "start_time": "2022-03-07T20:54:13.275Z"
   },
   {
    "duration": 13,
    "start_time": "2022-03-07T20:54:15.459Z"
   },
   {
    "duration": 729,
    "start_time": "2022-03-07T20:54:49.508Z"
   },
   {
    "duration": 24,
    "start_time": "2022-03-07T20:54:50.238Z"
   },
   {
    "duration": 35,
    "start_time": "2022-03-07T20:54:50.264Z"
   },
   {
    "duration": 53,
    "start_time": "2022-03-07T20:54:50.302Z"
   },
   {
    "duration": 12,
    "start_time": "2022-03-07T20:54:50.357Z"
   },
   {
    "duration": 29,
    "start_time": "2022-03-07T20:54:50.371Z"
   },
   {
    "duration": 4,
    "start_time": "2022-03-07T20:54:50.402Z"
   },
   {
    "duration": 4,
    "start_time": "2022-03-07T20:54:50.438Z"
   },
   {
    "duration": 7,
    "start_time": "2022-03-07T20:54:50.444Z"
   },
   {
    "duration": 37,
    "start_time": "2022-03-07T20:54:50.453Z"
   },
   {
    "duration": 10,
    "start_time": "2022-03-07T20:54:50.492Z"
   },
   {
    "duration": 49,
    "start_time": "2022-03-07T20:54:50.504Z"
   },
   {
    "duration": 7,
    "start_time": "2022-03-07T20:54:50.554Z"
   },
   {
    "duration": 30,
    "start_time": "2022-03-07T20:54:50.563Z"
   },
   {
    "duration": 10,
    "start_time": "2022-03-07T20:54:50.594Z"
   },
   {
    "duration": 36,
    "start_time": "2022-03-07T20:54:50.605Z"
   },
   {
    "duration": 12,
    "start_time": "2022-03-07T20:54:50.643Z"
   },
   {
    "duration": 5,
    "start_time": "2022-03-07T20:54:50.658Z"
   },
   {
    "duration": 10,
    "start_time": "2022-03-07T20:54:50.665Z"
   },
   {
    "duration": 20,
    "start_time": "2022-03-07T20:54:50.676Z"
   },
   {
    "duration": 18,
    "start_time": "2022-03-07T20:58:14.362Z"
   },
   {
    "duration": 9,
    "start_time": "2022-03-07T20:59:27.458Z"
   },
   {
    "duration": 11,
    "start_time": "2022-03-07T21:09:16.043Z"
   },
   {
    "duration": 9,
    "start_time": "2022-03-07T21:09:33.424Z"
   },
   {
    "duration": 746,
    "start_time": "2022-03-07T21:09:49.675Z"
   },
   {
    "duration": 27,
    "start_time": "2022-03-07T21:09:50.423Z"
   },
   {
    "duration": 40,
    "start_time": "2022-03-07T21:09:50.452Z"
   },
   {
    "duration": 46,
    "start_time": "2022-03-07T21:09:50.494Z"
   },
   {
    "duration": 11,
    "start_time": "2022-03-07T21:09:50.542Z"
   },
   {
    "duration": 30,
    "start_time": "2022-03-07T21:09:50.555Z"
   },
   {
    "duration": 5,
    "start_time": "2022-03-07T21:09:50.587Z"
   },
   {
    "duration": 12,
    "start_time": "2022-03-07T21:09:50.595Z"
   },
   {
    "duration": 30,
    "start_time": "2022-03-07T21:09:50.610Z"
   },
   {
    "duration": 38,
    "start_time": "2022-03-07T21:09:50.642Z"
   },
   {
    "duration": 9,
    "start_time": "2022-03-07T21:09:50.682Z"
   },
   {
    "duration": 49,
    "start_time": "2022-03-07T21:09:50.694Z"
   },
   {
    "duration": 7,
    "start_time": "2022-03-07T21:09:50.745Z"
   },
   {
    "duration": 29,
    "start_time": "2022-03-07T21:09:50.754Z"
   },
   {
    "duration": 22,
    "start_time": "2022-03-07T21:09:50.785Z"
   },
   {
    "duration": 6,
    "start_time": "2022-03-07T21:09:50.808Z"
   },
   {
    "duration": 26,
    "start_time": "2022-03-07T21:09:50.816Z"
   },
   {
    "duration": 3,
    "start_time": "2022-03-07T21:09:50.844Z"
   },
   {
    "duration": 9,
    "start_time": "2022-03-07T21:09:50.848Z"
   },
   {
    "duration": 8,
    "start_time": "2022-03-07T21:09:50.858Z"
   },
   {
    "duration": 18,
    "start_time": "2022-03-07T21:09:50.868Z"
   },
   {
    "duration": 9,
    "start_time": "2022-03-07T21:09:50.887Z"
   },
   {
    "duration": 727,
    "start_time": "2022-03-07T21:10:37.904Z"
   },
   {
    "duration": 28,
    "start_time": "2022-03-07T21:10:38.633Z"
   },
   {
    "duration": 41,
    "start_time": "2022-03-07T21:10:38.664Z"
   },
   {
    "duration": 51,
    "start_time": "2022-03-07T21:10:38.707Z"
   },
   {
    "duration": 9,
    "start_time": "2022-03-07T21:10:38.760Z"
   },
   {
    "duration": 30,
    "start_time": "2022-03-07T21:10:38.771Z"
   },
   {
    "duration": 4,
    "start_time": "2022-03-07T21:10:38.803Z"
   },
   {
    "duration": 30,
    "start_time": "2022-03-07T21:10:38.810Z"
   },
   {
    "duration": 6,
    "start_time": "2022-03-07T21:10:38.842Z"
   },
   {
    "duration": 37,
    "start_time": "2022-03-07T21:10:38.850Z"
   },
   {
    "duration": 10,
    "start_time": "2022-03-07T21:10:38.889Z"
   },
   {
    "duration": 49,
    "start_time": "2022-03-07T21:10:38.901Z"
   },
   {
    "duration": 7,
    "start_time": "2022-03-07T21:10:38.952Z"
   },
   {
    "duration": 34,
    "start_time": "2022-03-07T21:10:38.961Z"
   },
   {
    "duration": 41,
    "start_time": "2022-03-07T21:10:38.998Z"
   },
   {
    "duration": 7,
    "start_time": "2022-03-07T21:10:39.041Z"
   },
   {
    "duration": 14,
    "start_time": "2022-03-07T21:10:39.050Z"
   },
   {
    "duration": 6,
    "start_time": "2022-03-07T21:10:39.066Z"
   },
   {
    "duration": 10,
    "start_time": "2022-03-07T21:10:39.074Z"
   },
   {
    "duration": 52,
    "start_time": "2022-03-07T21:10:39.086Z"
   },
   {
    "duration": 10,
    "start_time": "2022-03-07T21:10:39.139Z"
   },
   {
    "duration": 9,
    "start_time": "2022-03-07T21:11:39.259Z"
   },
   {
    "duration": 7,
    "start_time": "2022-03-07T21:12:07.735Z"
   },
   {
    "duration": 16,
    "start_time": "2022-03-07T21:12:57.884Z"
   },
   {
    "duration": 17,
    "start_time": "2022-03-07T21:13:26.333Z"
   },
   {
    "duration": 17,
    "start_time": "2022-03-07T21:14:10.600Z"
   },
   {
    "duration": 211,
    "start_time": "2022-03-08T08:01:12.980Z"
   },
   {
    "duration": 729,
    "start_time": "2022-03-08T08:01:31.358Z"
   },
   {
    "duration": 28,
    "start_time": "2022-03-08T08:01:32.089Z"
   },
   {
    "duration": 43,
    "start_time": "2022-03-08T08:01:32.119Z"
   },
   {
    "duration": 34,
    "start_time": "2022-03-08T08:01:32.164Z"
   },
   {
    "duration": 9,
    "start_time": "2022-03-08T08:01:32.200Z"
   },
   {
    "duration": 49,
    "start_time": "2022-03-08T08:01:32.211Z"
   },
   {
    "duration": 5,
    "start_time": "2022-03-08T08:01:32.262Z"
   },
   {
    "duration": 11,
    "start_time": "2022-03-08T08:01:32.269Z"
   },
   {
    "duration": 7,
    "start_time": "2022-03-08T08:01:32.282Z"
   },
   {
    "duration": 51,
    "start_time": "2022-03-08T08:01:32.291Z"
   },
   {
    "duration": 11,
    "start_time": "2022-03-08T08:01:32.343Z"
   },
   {
    "duration": 28,
    "start_time": "2022-03-08T08:01:32.355Z"
   },
   {
    "duration": 14,
    "start_time": "2022-03-08T08:01:32.385Z"
   },
   {
    "duration": 54,
    "start_time": "2022-03-08T08:01:32.401Z"
   },
   {
    "duration": 11,
    "start_time": "2022-03-08T08:01:32.457Z"
   },
   {
    "duration": 7,
    "start_time": "2022-03-08T08:01:32.469Z"
   },
   {
    "duration": 13,
    "start_time": "2022-03-08T08:01:32.477Z"
   },
   {
    "duration": 9,
    "start_time": "2022-03-08T08:01:32.492Z"
   },
   {
    "duration": 38,
    "start_time": "2022-03-08T08:01:32.503Z"
   },
   {
    "duration": 8,
    "start_time": "2022-03-08T08:01:32.543Z"
   },
   {
    "duration": 22,
    "start_time": "2022-03-08T08:01:32.553Z"
   },
   {
    "duration": 10,
    "start_time": "2022-03-08T08:01:32.576Z"
   },
   {
    "duration": 8,
    "start_time": "2022-03-08T08:02:14.372Z"
   },
   {
    "duration": 9,
    "start_time": "2022-03-08T08:02:26.895Z"
   },
   {
    "duration": 388,
    "start_time": "2022-03-08T08:08:42.178Z"
   },
   {
    "duration": 372,
    "start_time": "2022-03-08T08:08:51.529Z"
   },
   {
    "duration": 431,
    "start_time": "2022-03-08T08:09:21.371Z"
   },
   {
    "duration": 17,
    "start_time": "2022-03-08T08:10:50.830Z"
   },
   {
    "duration": 19,
    "start_time": "2022-03-08T08:11:02.133Z"
   },
   {
    "duration": 777,
    "start_time": "2022-03-08T08:11:11.829Z"
   },
   {
    "duration": 33,
    "start_time": "2022-03-08T08:11:12.608Z"
   },
   {
    "duration": 35,
    "start_time": "2022-03-08T08:11:12.643Z"
   },
   {
    "duration": 34,
    "start_time": "2022-03-08T08:11:12.680Z"
   },
   {
    "duration": 31,
    "start_time": "2022-03-08T08:11:12.716Z"
   },
   {
    "duration": 31,
    "start_time": "2022-03-08T08:11:12.749Z"
   },
   {
    "duration": 5,
    "start_time": "2022-03-08T08:11:12.782Z"
   },
   {
    "duration": 10,
    "start_time": "2022-03-08T08:11:12.790Z"
   },
   {
    "duration": 7,
    "start_time": "2022-03-08T08:11:12.803Z"
   },
   {
    "duration": 34,
    "start_time": "2022-03-08T08:11:12.839Z"
   },
   {
    "duration": 12,
    "start_time": "2022-03-08T08:11:12.876Z"
   },
   {
    "duration": 55,
    "start_time": "2022-03-08T08:11:12.890Z"
   },
   {
    "duration": 8,
    "start_time": "2022-03-08T08:11:12.947Z"
   },
   {
    "duration": 34,
    "start_time": "2022-03-08T08:11:12.956Z"
   },
   {
    "duration": 10,
    "start_time": "2022-03-08T08:11:12.992Z"
   },
   {
    "duration": 36,
    "start_time": "2022-03-08T08:11:13.004Z"
   },
   {
    "duration": 13,
    "start_time": "2022-03-08T08:11:13.042Z"
   },
   {
    "duration": 7,
    "start_time": "2022-03-08T08:11:13.057Z"
   },
   {
    "duration": 11,
    "start_time": "2022-03-08T08:11:13.066Z"
   },
   {
    "duration": 9,
    "start_time": "2022-03-08T08:11:13.079Z"
   },
   {
    "duration": 434,
    "start_time": "2022-03-08T08:11:13.089Z"
   },
   {
    "duration": 26,
    "start_time": "2022-03-08T08:11:13.525Z"
   },
   {
    "duration": 10,
    "start_time": "2022-03-08T08:11:13.554Z"
   },
   {
    "duration": 13,
    "start_time": "2022-03-08T08:13:11.299Z"
   },
   {
    "duration": 399,
    "start_time": "2022-03-08T08:20:01.411Z"
   },
   {
    "duration": 451,
    "start_time": "2022-03-08T08:20:12.179Z"
   },
   {
    "duration": 593,
    "start_time": "2022-03-08T08:20:27.986Z"
   },
   {
    "duration": 373,
    "start_time": "2022-03-08T08:20:41.207Z"
   },
   {
    "duration": 365,
    "start_time": "2022-03-08T08:20:47.722Z"
   },
   {
    "duration": 411,
    "start_time": "2022-03-08T08:20:54.336Z"
   },
   {
    "duration": 8,
    "start_time": "2022-03-08T08:31:42.442Z"
   },
   {
    "duration": 6,
    "start_time": "2022-03-08T08:31:54.775Z"
   },
   {
    "duration": 682,
    "start_time": "2022-03-08T08:32:56.682Z"
   },
   {
    "duration": 25,
    "start_time": "2022-03-08T08:32:57.365Z"
   },
   {
    "duration": 47,
    "start_time": "2022-03-08T08:32:57.392Z"
   },
   {
    "duration": 33,
    "start_time": "2022-03-08T08:32:57.441Z"
   },
   {
    "duration": 8,
    "start_time": "2022-03-08T08:32:57.476Z"
   },
   {
    "duration": 53,
    "start_time": "2022-03-08T08:32:57.486Z"
   },
   {
    "duration": 5,
    "start_time": "2022-03-08T08:32:57.540Z"
   },
   {
    "duration": 4,
    "start_time": "2022-03-08T08:32:57.547Z"
   },
   {
    "duration": 5,
    "start_time": "2022-03-08T08:32:57.553Z"
   },
   {
    "duration": 28,
    "start_time": "2022-03-08T08:32:57.559Z"
   },
   {
    "duration": 9,
    "start_time": "2022-03-08T08:32:57.589Z"
   },
   {
    "duration": 59,
    "start_time": "2022-03-08T08:32:57.600Z"
   },
   {
    "duration": 6,
    "start_time": "2022-03-08T08:32:57.661Z"
   },
   {
    "duration": 33,
    "start_time": "2022-03-08T08:32:57.669Z"
   },
   {
    "duration": 35,
    "start_time": "2022-03-08T08:32:57.704Z"
   },
   {
    "duration": 7,
    "start_time": "2022-03-08T08:32:57.740Z"
   },
   {
    "duration": 13,
    "start_time": "2022-03-08T08:32:57.748Z"
   },
   {
    "duration": 6,
    "start_time": "2022-03-08T08:32:57.762Z"
   },
   {
    "duration": 9,
    "start_time": "2022-03-08T08:32:57.769Z"
   },
   {
    "duration": 6,
    "start_time": "2022-03-08T08:32:57.779Z"
   },
   {
    "duration": 418,
    "start_time": "2022-03-08T08:32:57.787Z"
   },
   {
    "duration": 8,
    "start_time": "2022-03-08T08:32:58.207Z"
   },
   {
    "duration": 710,
    "start_time": "2022-03-08T08:33:16.958Z"
   },
   {
    "duration": 28,
    "start_time": "2022-03-08T08:33:17.670Z"
   },
   {
    "duration": 52,
    "start_time": "2022-03-08T08:33:17.700Z"
   },
   {
    "duration": 34,
    "start_time": "2022-03-08T08:33:17.754Z"
   },
   {
    "duration": 23,
    "start_time": "2022-03-08T08:33:17.789Z"
   },
   {
    "duration": 39,
    "start_time": "2022-03-08T08:33:17.814Z"
   },
   {
    "duration": 5,
    "start_time": "2022-03-08T08:33:17.855Z"
   },
   {
    "duration": 5,
    "start_time": "2022-03-08T08:33:17.863Z"
   },
   {
    "duration": 18,
    "start_time": "2022-03-08T08:33:17.870Z"
   },
   {
    "duration": 53,
    "start_time": "2022-03-08T08:33:17.890Z"
   },
   {
    "duration": 11,
    "start_time": "2022-03-08T08:33:17.945Z"
   },
   {
    "duration": 29,
    "start_time": "2022-03-08T08:33:17.957Z"
   },
   {
    "duration": 7,
    "start_time": "2022-03-08T08:33:17.987Z"
   },
   {
    "duration": 56,
    "start_time": "2022-03-08T08:33:17.995Z"
   },
   {
    "duration": 10,
    "start_time": "2022-03-08T08:33:18.052Z"
   },
   {
    "duration": 9,
    "start_time": "2022-03-08T08:33:18.063Z"
   },
   {
    "duration": 20,
    "start_time": "2022-03-08T08:33:18.073Z"
   },
   {
    "duration": 16,
    "start_time": "2022-03-08T08:33:18.095Z"
   },
   {
    "duration": 14,
    "start_time": "2022-03-08T08:33:18.113Z"
   },
   {
    "duration": 19,
    "start_time": "2022-03-08T08:33:18.129Z"
   },
   {
    "duration": 379,
    "start_time": "2022-03-08T08:33:18.150Z"
   },
   {
    "duration": 9,
    "start_time": "2022-03-08T08:33:18.531Z"
   },
   {
    "duration": 581,
    "start_time": "2022-03-08T15:40:53.403Z"
   },
   {
    "duration": 2,
    "start_time": "2022-03-08T15:41:19.346Z"
   },
   {
    "duration": 729,
    "start_time": "2022-03-08T15:41:31.415Z"
   },
   {
    "duration": 22,
    "start_time": "2022-03-08T15:41:32.146Z"
   },
   {
    "duration": 40,
    "start_time": "2022-03-08T15:41:32.171Z"
   },
   {
    "duration": 28,
    "start_time": "2022-03-08T15:41:32.213Z"
   },
   {
    "duration": 8,
    "start_time": "2022-03-08T15:41:32.242Z"
   },
   {
    "duration": 26,
    "start_time": "2022-03-08T15:41:32.252Z"
   },
   {
    "duration": 4,
    "start_time": "2022-03-08T15:41:32.302Z"
   },
   {
    "duration": 4,
    "start_time": "2022-03-08T15:41:32.308Z"
   },
   {
    "duration": 4,
    "start_time": "2022-03-08T15:41:32.314Z"
   },
   {
    "duration": 26,
    "start_time": "2022-03-08T15:41:32.320Z"
   },
   {
    "duration": 8,
    "start_time": "2022-03-08T15:41:32.348Z"
   },
   {
    "duration": 55,
    "start_time": "2022-03-08T15:41:32.358Z"
   },
   {
    "duration": 6,
    "start_time": "2022-03-08T15:41:32.415Z"
   },
   {
    "duration": 28,
    "start_time": "2022-03-08T15:41:32.422Z"
   },
   {
    "duration": 9,
    "start_time": "2022-03-08T15:41:32.452Z"
   },
   {
    "duration": 6,
    "start_time": "2022-03-08T15:41:32.462Z"
   },
   {
    "duration": 40,
    "start_time": "2022-03-08T15:41:32.470Z"
   },
   {
    "duration": 3,
    "start_time": "2022-03-08T15:41:32.512Z"
   },
   {
    "duration": 12,
    "start_time": "2022-03-08T15:41:32.517Z"
   },
   {
    "duration": 6,
    "start_time": "2022-03-08T15:41:32.531Z"
   },
   {
    "duration": 390,
    "start_time": "2022-03-08T15:41:32.539Z"
   },
   {
    "duration": 8,
    "start_time": "2022-03-08T15:41:32.930Z"
   },
   {
    "duration": 5,
    "start_time": "2022-03-08T15:42:56.521Z"
   },
   {
    "duration": 5,
    "start_time": "2022-03-08T15:42:59.958Z"
   },
   {
    "duration": 9,
    "start_time": "2022-03-08T15:43:04.086Z"
   },
   {
    "duration": 362,
    "start_time": "2022-03-08T15:44:14.292Z"
   },
   {
    "duration": 17,
    "start_time": "2022-03-08T15:44:33.082Z"
   },
   {
    "duration": 14,
    "start_time": "2022-03-08T15:45:00.615Z"
   },
   {
    "duration": 16,
    "start_time": "2022-03-08T15:45:10.591Z"
   },
   {
    "duration": 19,
    "start_time": "2022-03-08T15:55:31.224Z"
   },
   {
    "duration": 8,
    "start_time": "2022-03-08T15:55:54.417Z"
   },
   {
    "duration": 8,
    "start_time": "2022-03-08T15:55:59.683Z"
   },
   {
    "duration": 92,
    "start_time": "2022-03-08T15:56:33.748Z"
   },
   {
    "duration": 284,
    "start_time": "2022-03-08T15:56:47.650Z"
   },
   {
    "duration": 7742,
    "start_time": "2022-03-08T15:57:38.935Z"
   },
   {
    "duration": 8,
    "start_time": "2022-03-08T15:57:46.678Z"
   },
   {
    "duration": 19,
    "start_time": "2022-03-08T15:58:35.320Z"
   },
   {
    "duration": 4,
    "start_time": "2022-03-08T16:04:32.496Z"
   },
   {
    "duration": 7710,
    "start_time": "2022-03-08T16:04:35.558Z"
   },
   {
    "duration": 660,
    "start_time": "2022-03-08T16:04:56.826Z"
   },
   {
    "duration": 24,
    "start_time": "2022-03-08T16:04:57.488Z"
   },
   {
    "duration": 26,
    "start_time": "2022-03-08T16:04:57.514Z"
   },
   {
    "duration": 29,
    "start_time": "2022-03-08T16:04:57.541Z"
   },
   {
    "duration": 30,
    "start_time": "2022-03-08T16:04:57.571Z"
   },
   {
    "duration": 23,
    "start_time": "2022-03-08T16:04:57.603Z"
   },
   {
    "duration": 9,
    "start_time": "2022-03-08T16:04:57.627Z"
   },
   {
    "duration": 11,
    "start_time": "2022-03-08T16:04:57.638Z"
   },
   {
    "duration": 16,
    "start_time": "2022-03-08T16:04:57.651Z"
   },
   {
    "duration": 40,
    "start_time": "2022-03-08T16:04:57.669Z"
   },
   {
    "duration": 9,
    "start_time": "2022-03-08T16:04:57.711Z"
   },
   {
    "duration": 25,
    "start_time": "2022-03-08T16:04:57.721Z"
   },
   {
    "duration": 5,
    "start_time": "2022-03-08T16:04:57.748Z"
   },
   {
    "duration": 47,
    "start_time": "2022-03-08T16:04:57.754Z"
   },
   {
    "duration": 8,
    "start_time": "2022-03-08T16:04:57.803Z"
   },
   {
    "duration": 6,
    "start_time": "2022-03-08T16:04:57.813Z"
   },
   {
    "duration": 12,
    "start_time": "2022-03-08T16:04:57.820Z"
   },
   {
    "duration": 4,
    "start_time": "2022-03-08T16:04:57.834Z"
   },
   {
    "duration": 9,
    "start_time": "2022-03-08T16:04:57.839Z"
   },
   {
    "duration": 7,
    "start_time": "2022-03-08T16:04:57.850Z"
   },
   {
    "duration": 401,
    "start_time": "2022-03-08T16:04:57.859Z"
   },
   {
    "duration": 18,
    "start_time": "2022-03-08T16:04:58.261Z"
   },
   {
    "duration": 4,
    "start_time": "2022-03-08T16:04:58.281Z"
   },
   {
    "duration": 7896,
    "start_time": "2022-03-08T16:04:58.286Z"
   },
   {
    "duration": 22,
    "start_time": "2022-03-08T16:05:06.184Z"
   },
   {
    "duration": 4,
    "start_time": "2022-03-08T16:05:29.025Z"
   },
   {
    "duration": 3905,
    "start_time": "2022-03-08T16:05:31.617Z"
   },
   {
    "duration": 12,
    "start_time": "2022-03-08T16:06:19.163Z"
   },
   {
    "duration": 4441,
    "start_time": "2022-03-08T16:06:24.390Z"
   },
   {
    "duration": 4026,
    "start_time": "2022-03-08T16:07:17.799Z"
   },
   {
    "duration": 8,
    "start_time": "2022-03-08T16:07:21.827Z"
   },
   {
    "duration": 3922,
    "start_time": "2022-03-08T16:10:01.315Z"
   },
   {
    "duration": 3902,
    "start_time": "2022-03-08T16:12:06.462Z"
   },
   {
    "duration": 8,
    "start_time": "2022-03-08T16:12:14.866Z"
   },
   {
    "duration": 7830,
    "start_time": "2022-03-08T16:13:01.619Z"
   },
   {
    "duration": 8,
    "start_time": "2022-03-08T16:13:09.451Z"
   },
   {
    "duration": 12,
    "start_time": "2022-03-08T16:14:01.665Z"
   },
   {
    "duration": 3854,
    "start_time": "2022-03-08T16:14:15.335Z"
   },
   {
    "duration": 693,
    "start_time": "2022-03-08T16:14:26.314Z"
   },
   {
    "duration": 21,
    "start_time": "2022-03-08T16:14:27.009Z"
   },
   {
    "duration": 27,
    "start_time": "2022-03-08T16:14:27.034Z"
   },
   {
    "duration": 54,
    "start_time": "2022-03-08T16:14:27.063Z"
   },
   {
    "duration": 10,
    "start_time": "2022-03-08T16:14:27.119Z"
   },
   {
    "duration": 24,
    "start_time": "2022-03-08T16:14:27.130Z"
   },
   {
    "duration": 5,
    "start_time": "2022-03-08T16:14:27.156Z"
   },
   {
    "duration": 4,
    "start_time": "2022-03-08T16:14:27.163Z"
   },
   {
    "duration": 32,
    "start_time": "2022-03-08T16:14:27.169Z"
   },
   {
    "duration": 27,
    "start_time": "2022-03-08T16:14:27.203Z"
   },
   {
    "duration": 8,
    "start_time": "2022-03-08T16:14:27.232Z"
   },
   {
    "duration": 23,
    "start_time": "2022-03-08T16:14:27.241Z"
   },
   {
    "duration": 36,
    "start_time": "2022-03-08T16:14:27.265Z"
   },
   {
    "duration": 28,
    "start_time": "2022-03-08T16:14:27.303Z"
   },
   {
    "duration": 9,
    "start_time": "2022-03-08T16:14:27.332Z"
   },
   {
    "duration": 6,
    "start_time": "2022-03-08T16:14:27.342Z"
   },
   {
    "duration": 11,
    "start_time": "2022-03-08T16:14:27.349Z"
   },
   {
    "duration": 4,
    "start_time": "2022-03-08T16:14:27.362Z"
   },
   {
    "duration": 38,
    "start_time": "2022-03-08T16:14:27.367Z"
   },
   {
    "duration": 5,
    "start_time": "2022-03-08T16:14:27.406Z"
   },
   {
    "duration": 384,
    "start_time": "2022-03-08T16:14:27.413Z"
   },
   {
    "duration": 18,
    "start_time": "2022-03-08T16:14:27.802Z"
   },
   {
    "duration": 10,
    "start_time": "2022-03-08T16:14:27.822Z"
   },
   {
    "duration": 4607,
    "start_time": "2022-03-08T16:14:27.834Z"
   },
   {
    "duration": 8,
    "start_time": "2022-03-08T16:14:32.443Z"
   },
   {
    "duration": 8,
    "start_time": "2022-03-08T16:19:47.184Z"
   },
   {
    "duration": 993,
    "start_time": "2022-03-08T16:20:20.249Z"
   },
   {
    "duration": 22,
    "start_time": "2022-03-08T16:20:21.244Z"
   },
   {
    "duration": 40,
    "start_time": "2022-03-08T16:20:21.268Z"
   },
   {
    "duration": 29,
    "start_time": "2022-03-08T16:20:21.310Z"
   },
   {
    "duration": 10,
    "start_time": "2022-03-08T16:20:21.340Z"
   },
   {
    "duration": 27,
    "start_time": "2022-03-08T16:20:21.351Z"
   },
   {
    "duration": 5,
    "start_time": "2022-03-08T16:20:21.402Z"
   },
   {
    "duration": 4,
    "start_time": "2022-03-08T16:20:21.410Z"
   },
   {
    "duration": 5,
    "start_time": "2022-03-08T16:20:21.416Z"
   },
   {
    "duration": 26,
    "start_time": "2022-03-08T16:20:21.423Z"
   },
   {
    "duration": 9,
    "start_time": "2022-03-08T16:20:21.451Z"
   },
   {
    "duration": 57,
    "start_time": "2022-03-08T16:20:21.461Z"
   },
   {
    "duration": 6,
    "start_time": "2022-03-08T16:20:21.519Z"
   },
   {
    "duration": 30,
    "start_time": "2022-03-08T16:20:21.527Z"
   },
   {
    "duration": 8,
    "start_time": "2022-03-08T16:20:21.558Z"
   },
   {
    "duration": 5,
    "start_time": "2022-03-08T16:20:21.568Z"
   },
   {
    "duration": 31,
    "start_time": "2022-03-08T16:20:21.574Z"
   },
   {
    "duration": 3,
    "start_time": "2022-03-08T16:20:21.607Z"
   },
   {
    "duration": 11,
    "start_time": "2022-03-08T16:20:21.611Z"
   },
   {
    "duration": 5,
    "start_time": "2022-03-08T16:20:21.623Z"
   },
   {
    "duration": 383,
    "start_time": "2022-03-08T16:20:21.630Z"
   },
   {
    "duration": 19,
    "start_time": "2022-03-08T16:20:22.014Z"
   },
   {
    "duration": 4,
    "start_time": "2022-03-08T16:20:22.035Z"
   },
   {
    "duration": 3936,
    "start_time": "2022-03-08T16:20:22.041Z"
   },
   {
    "duration": 8,
    "start_time": "2022-03-08T16:20:25.979Z"
   },
   {
    "duration": 16,
    "start_time": "2022-03-08T16:20:25.988Z"
   },
   {
    "duration": 678,
    "start_time": "2022-03-08T16:20:26.006Z"
   },
   {
    "duration": 3895,
    "start_time": "2022-03-08T16:22:52.591Z"
   },
   {
    "duration": 9,
    "start_time": "2022-03-08T16:23:11.150Z"
   },
   {
    "duration": 663,
    "start_time": "2022-03-08T16:23:58.349Z"
   },
   {
    "duration": 22,
    "start_time": "2022-03-08T16:23:59.013Z"
   },
   {
    "duration": 28,
    "start_time": "2022-03-08T16:23:59.037Z"
   },
   {
    "duration": 44,
    "start_time": "2022-03-08T16:23:59.067Z"
   },
   {
    "duration": 9,
    "start_time": "2022-03-08T16:23:59.113Z"
   },
   {
    "duration": 24,
    "start_time": "2022-03-08T16:23:59.123Z"
   },
   {
    "duration": 5,
    "start_time": "2022-03-08T16:23:59.148Z"
   },
   {
    "duration": 4,
    "start_time": "2022-03-08T16:23:59.155Z"
   },
   {
    "duration": 4,
    "start_time": "2022-03-08T16:23:59.161Z"
   },
   {
    "duration": 53,
    "start_time": "2022-03-08T16:23:59.166Z"
   },
   {
    "duration": 8,
    "start_time": "2022-03-08T16:23:59.220Z"
   },
   {
    "duration": 24,
    "start_time": "2022-03-08T16:23:59.229Z"
   },
   {
    "duration": 6,
    "start_time": "2022-03-08T16:23:59.254Z"
   },
   {
    "duration": 55,
    "start_time": "2022-03-08T16:23:59.261Z"
   },
   {
    "duration": 8,
    "start_time": "2022-03-08T16:23:59.318Z"
   },
   {
    "duration": 5,
    "start_time": "2022-03-08T16:23:59.327Z"
   },
   {
    "duration": 10,
    "start_time": "2022-03-08T16:23:59.333Z"
   },
   {
    "duration": 3,
    "start_time": "2022-03-08T16:23:59.345Z"
   },
   {
    "duration": 14,
    "start_time": "2022-03-08T16:23:59.350Z"
   },
   {
    "duration": 7,
    "start_time": "2022-03-08T16:23:59.366Z"
   },
   {
    "duration": 373,
    "start_time": "2022-03-08T16:23:59.401Z"
   },
   {
    "duration": 26,
    "start_time": "2022-03-08T16:23:59.776Z"
   },
   {
    "duration": 4,
    "start_time": "2022-03-08T16:23:59.806Z"
   },
   {
    "duration": 9,
    "start_time": "2022-03-08T16:23:59.812Z"
   },
   {
    "duration": 3947,
    "start_time": "2022-03-08T16:23:59.822Z"
   },
   {
    "duration": 9,
    "start_time": "2022-03-08T16:24:03.771Z"
   },
   {
    "duration": 25,
    "start_time": "2022-03-08T16:24:03.781Z"
   },
   {
    "duration": 334,
    "start_time": "2022-03-08T16:24:03.807Z"
   },
   {
    "duration": 11,
    "start_time": "2022-03-08T16:27:17.564Z"
   },
   {
    "duration": 7,
    "start_time": "2022-03-08T16:32:13.348Z"
   },
   {
    "duration": 4104,
    "start_time": "2022-03-08T17:02:07.701Z"
   },
   {
    "duration": 7,
    "start_time": "2022-03-08T17:02:11.807Z"
   },
   {
    "duration": 6,
    "start_time": "2022-03-08T17:02:41.465Z"
   },
   {
    "duration": 301,
    "start_time": "2022-03-08T17:06:43.196Z"
   },
   {
    "duration": 6,
    "start_time": "2022-03-08T17:06:52.641Z"
   },
   {
    "duration": 297,
    "start_time": "2022-03-08T17:21:55.617Z"
   },
   {
    "duration": 298,
    "start_time": "2022-03-08T17:23:19.437Z"
   },
   {
    "duration": 707,
    "start_time": "2022-03-08T17:24:27.911Z"
   },
   {
    "duration": 21,
    "start_time": "2022-03-08T17:24:28.620Z"
   },
   {
    "duration": 28,
    "start_time": "2022-03-08T17:24:28.643Z"
   },
   {
    "duration": 49,
    "start_time": "2022-03-08T17:24:28.673Z"
   },
   {
    "duration": 9,
    "start_time": "2022-03-08T17:24:28.724Z"
   },
   {
    "duration": 25,
    "start_time": "2022-03-08T17:24:28.735Z"
   },
   {
    "duration": 5,
    "start_time": "2022-03-08T17:24:28.762Z"
   },
   {
    "duration": 33,
    "start_time": "2022-03-08T17:24:28.769Z"
   },
   {
    "duration": 5,
    "start_time": "2022-03-08T17:24:28.804Z"
   },
   {
    "duration": 26,
    "start_time": "2022-03-08T17:24:28.810Z"
   },
   {
    "duration": 9,
    "start_time": "2022-03-08T17:24:28.838Z"
   },
   {
    "duration": 24,
    "start_time": "2022-03-08T17:24:28.849Z"
   },
   {
    "duration": 6,
    "start_time": "2022-03-08T17:24:28.902Z"
   },
   {
    "duration": 29,
    "start_time": "2022-03-08T17:24:28.910Z"
   },
   {
    "duration": 9,
    "start_time": "2022-03-08T17:24:28.941Z"
   },
   {
    "duration": 4,
    "start_time": "2022-03-08T17:24:28.951Z"
   },
   {
    "duration": 9,
    "start_time": "2022-03-08T17:24:28.957Z"
   },
   {
    "duration": 37,
    "start_time": "2022-03-08T17:24:28.967Z"
   },
   {
    "duration": 10,
    "start_time": "2022-03-08T17:24:29.006Z"
   },
   {
    "duration": 7,
    "start_time": "2022-03-08T17:24:29.018Z"
   },
   {
    "duration": 527,
    "start_time": "2022-03-08T17:24:29.027Z"
   },
   {
    "duration": 20,
    "start_time": "2022-03-08T17:24:29.556Z"
   },
   {
    "duration": 4,
    "start_time": "2022-03-08T17:24:29.578Z"
   },
   {
    "duration": 4225,
    "start_time": "2022-03-08T17:24:29.601Z"
   },
   {
    "duration": 5,
    "start_time": "2022-03-08T17:24:33.828Z"
   },
   {
    "duration": 10,
    "start_time": "2022-03-08T17:24:33.835Z"
   },
   {
    "duration": 486,
    "start_time": "2022-03-08T17:24:33.846Z"
   },
   {
    "duration": 4,
    "start_time": "2022-03-08T17:25:38.336Z"
   },
   {
    "duration": 4,
    "start_time": "2022-03-08T17:25:47.355Z"
   },
   {
    "duration": 4,
    "start_time": "2022-03-08T17:25:51.547Z"
   },
   {
    "duration": 301,
    "start_time": "2022-03-08T17:25:56.388Z"
   },
   {
    "duration": 317,
    "start_time": "2022-03-08T17:26:08.007Z"
   },
   {
    "duration": 9,
    "start_time": "2022-03-08T17:28:52.355Z"
   },
   {
    "duration": 310,
    "start_time": "2022-03-08T17:30:07.400Z"
   },
   {
    "duration": 7,
    "start_time": "2022-03-08T17:30:15.522Z"
   },
   {
    "duration": 7,
    "start_time": "2022-03-08T17:30:20.773Z"
   },
   {
    "duration": 7,
    "start_time": "2022-03-08T17:30:25.386Z"
   },
   {
    "duration": 8,
    "start_time": "2022-03-08T17:30:35.304Z"
   },
   {
    "duration": 9,
    "start_time": "2022-03-08T17:30:39.194Z"
   },
   {
    "duration": 22,
    "start_time": "2022-03-08T17:31:03.512Z"
   },
   {
    "duration": 14,
    "start_time": "2022-03-08T17:31:28.439Z"
   },
   {
    "duration": 20,
    "start_time": "2022-03-08T17:58:20.461Z"
   },
   {
    "duration": 33,
    "start_time": "2022-03-08T18:03:27.963Z"
   },
   {
    "duration": 28,
    "start_time": "2022-03-08T18:05:02.912Z"
   },
   {
    "duration": 29,
    "start_time": "2022-03-08T18:05:44.268Z"
   },
   {
    "duration": 27,
    "start_time": "2022-03-08T18:10:27.931Z"
   },
   {
    "duration": 27,
    "start_time": "2022-03-08T18:26:46.104Z"
   },
   {
    "duration": 26,
    "start_time": "2022-03-08T18:27:06.757Z"
   },
   {
    "duration": 302,
    "start_time": "2022-03-08T18:32:32.321Z"
   },
   {
    "duration": 9,
    "start_time": "2022-03-08T18:33:06.654Z"
   },
   {
    "duration": 8,
    "start_time": "2022-03-08T18:33:11.612Z"
   },
   {
    "duration": 22,
    "start_time": "2022-03-08T18:48:09.134Z"
   },
   {
    "duration": 31,
    "start_time": "2022-03-08T18:49:16.485Z"
   },
   {
    "duration": 9,
    "start_time": "2022-03-08T18:52:12.180Z"
   },
   {
    "duration": 15,
    "start_time": "2022-03-08T18:56:07.978Z"
   },
   {
    "duration": 7,
    "start_time": "2022-03-08T18:58:28.368Z"
   },
   {
    "duration": 297,
    "start_time": "2022-03-08T19:01:15.336Z"
   },
   {
    "duration": 290,
    "start_time": "2022-03-08T19:01:25.605Z"
   },
   {
    "duration": 38,
    "start_time": "2022-03-08T19:06:18.439Z"
   },
   {
    "duration": 30,
    "start_time": "2022-03-08T19:06:32.805Z"
   },
   {
    "duration": 28,
    "start_time": "2022-03-08T19:07:20.229Z"
   },
   {
    "duration": 749,
    "start_time": "2022-03-08T19:07:30.473Z"
   },
   {
    "duration": 15,
    "start_time": "2022-03-08T19:07:31.224Z"
   },
   {
    "duration": 21,
    "start_time": "2022-03-08T19:07:31.241Z"
   },
   {
    "duration": 47,
    "start_time": "2022-03-08T19:07:31.265Z"
   },
   {
    "duration": 32,
    "start_time": "2022-03-08T19:07:31.314Z"
   },
   {
    "duration": 18,
    "start_time": "2022-03-08T19:07:31.348Z"
   },
   {
    "duration": 58,
    "start_time": "2022-03-08T19:07:31.367Z"
   },
   {
    "duration": 31,
    "start_time": "2022-03-08T19:07:31.429Z"
   },
   {
    "duration": 11,
    "start_time": "2022-03-08T19:07:31.462Z"
   },
   {
    "duration": 34,
    "start_time": "2022-03-08T19:07:31.475Z"
   },
   {
    "duration": 26,
    "start_time": "2022-03-08T19:07:31.511Z"
   },
   {
    "duration": 4,
    "start_time": "2022-03-08T19:07:31.539Z"
   },
   {
    "duration": 4,
    "start_time": "2022-03-08T19:07:31.544Z"
   },
   {
    "duration": 5,
    "start_time": "2022-03-08T19:07:31.549Z"
   },
   {
    "duration": 55,
    "start_time": "2022-03-08T19:07:31.555Z"
   },
   {
    "duration": 10,
    "start_time": "2022-03-08T19:07:31.611Z"
   },
   {
    "duration": 25,
    "start_time": "2022-03-08T19:07:31.622Z"
   },
   {
    "duration": 7,
    "start_time": "2022-03-08T19:07:31.649Z"
   },
   {
    "duration": 61,
    "start_time": "2022-03-08T19:07:31.658Z"
   },
   {
    "duration": 8,
    "start_time": "2022-03-08T19:07:31.720Z"
   },
   {
    "duration": 3,
    "start_time": "2022-03-08T19:07:31.730Z"
   },
   {
    "duration": 10,
    "start_time": "2022-03-08T19:07:31.735Z"
   },
   {
    "duration": 3,
    "start_time": "2022-03-08T19:07:31.748Z"
   },
   {
    "duration": 11,
    "start_time": "2022-03-08T19:07:31.753Z"
   },
   {
    "duration": 6,
    "start_time": "2022-03-08T19:07:31.765Z"
   },
   {
    "duration": 384,
    "start_time": "2022-03-08T19:07:31.773Z"
   },
   {
    "duration": 17,
    "start_time": "2022-03-08T19:07:32.159Z"
   },
   {
    "duration": 4,
    "start_time": "2022-03-08T19:07:32.178Z"
   },
   {
    "duration": 3970,
    "start_time": "2022-03-08T19:07:32.183Z"
   },
   {
    "duration": 6,
    "start_time": "2022-03-08T19:07:36.154Z"
   },
   {
    "duration": 9,
    "start_time": "2022-03-08T19:07:36.161Z"
   },
   {
    "duration": 10,
    "start_time": "2022-03-08T19:07:36.172Z"
   },
   {
    "duration": 28,
    "start_time": "2022-03-08T19:07:36.183Z"
   },
   {
    "duration": 19,
    "start_time": "2022-03-08T19:07:36.212Z"
   },
   {
    "duration": 380,
    "start_time": "2022-03-08T19:20:17.047Z"
   },
   {
    "duration": 15,
    "start_time": "2022-03-08T19:20:43.537Z"
   },
   {
    "duration": 32,
    "start_time": "2022-03-08T19:20:46.973Z"
   },
   {
    "duration": 15,
    "start_time": "2022-03-08T19:20:59.016Z"
   },
   {
    "duration": 29,
    "start_time": "2022-03-08T19:21:14.862Z"
   },
   {
    "duration": 715,
    "start_time": "2022-03-08T19:22:27.842Z"
   },
   {
    "duration": 24,
    "start_time": "2022-03-08T19:22:28.559Z"
   },
   {
    "duration": 41,
    "start_time": "2022-03-08T19:22:28.585Z"
   },
   {
    "duration": 32,
    "start_time": "2022-03-08T19:22:28.628Z"
   },
   {
    "duration": 15,
    "start_time": "2022-03-08T19:22:28.662Z"
   },
   {
    "duration": 36,
    "start_time": "2022-03-08T19:22:28.679Z"
   },
   {
    "duration": 28,
    "start_time": "2022-03-08T19:22:28.717Z"
   },
   {
    "duration": 8,
    "start_time": "2022-03-08T19:22:28.748Z"
   },
   {
    "duration": 7,
    "start_time": "2022-03-08T19:22:28.758Z"
   },
   {
    "duration": 51,
    "start_time": "2022-03-08T19:22:28.766Z"
   },
   {
    "duration": 4,
    "start_time": "2022-03-08T19:22:28.819Z"
   },
   {
    "duration": 4,
    "start_time": "2022-03-08T19:22:28.825Z"
   },
   {
    "duration": 4,
    "start_time": "2022-03-08T19:22:28.831Z"
   },
   {
    "duration": 26,
    "start_time": "2022-03-08T19:22:28.837Z"
   },
   {
    "duration": 41,
    "start_time": "2022-03-08T19:22:28.865Z"
   },
   {
    "duration": 27,
    "start_time": "2022-03-08T19:22:28.908Z"
   },
   {
    "duration": 5,
    "start_time": "2022-03-08T19:22:28.937Z"
   },
   {
    "duration": 26,
    "start_time": "2022-03-08T19:22:28.944Z"
   },
   {
    "duration": 30,
    "start_time": "2022-03-08T19:22:28.972Z"
   },
   {
    "duration": 3,
    "start_time": "2022-03-08T19:22:29.003Z"
   },
   {
    "duration": 9,
    "start_time": "2022-03-08T19:22:29.008Z"
   },
   {
    "duration": 4,
    "start_time": "2022-03-08T19:22:29.018Z"
   },
   {
    "duration": 13,
    "start_time": "2022-03-08T19:22:29.025Z"
   },
   {
    "duration": 5,
    "start_time": "2022-03-08T19:22:29.040Z"
   },
   {
    "duration": 444,
    "start_time": "2022-03-08T19:22:29.047Z"
   },
   {
    "duration": 24,
    "start_time": "2022-03-08T19:22:29.493Z"
   },
   {
    "duration": 4,
    "start_time": "2022-03-08T19:22:29.519Z"
   },
   {
    "duration": 4669,
    "start_time": "2022-03-08T19:22:29.525Z"
   },
   {
    "duration": 6,
    "start_time": "2022-03-08T19:22:34.196Z"
   },
   {
    "duration": 7,
    "start_time": "2022-03-08T19:22:34.204Z"
   },
   {
    "duration": 15,
    "start_time": "2022-03-08T19:22:34.213Z"
   },
   {
    "duration": 18,
    "start_time": "2022-03-08T19:22:34.230Z"
   },
   {
    "duration": 27,
    "start_time": "2022-03-08T19:22:34.250Z"
   },
   {
    "duration": 14,
    "start_time": "2022-03-08T19:23:23.824Z"
   },
   {
    "duration": 15,
    "start_time": "2022-03-08T19:23:26.446Z"
   },
   {
    "duration": 30,
    "start_time": "2022-03-08T19:25:23.934Z"
   },
   {
    "duration": 686,
    "start_time": "2022-03-08T19:28:51.034Z"
   },
   {
    "duration": 21,
    "start_time": "2022-03-08T19:28:51.721Z"
   },
   {
    "duration": 26,
    "start_time": "2022-03-08T19:28:51.744Z"
   },
   {
    "duration": 51,
    "start_time": "2022-03-08T19:28:51.772Z"
   },
   {
    "duration": 9,
    "start_time": "2022-03-08T19:28:51.824Z"
   },
   {
    "duration": 31,
    "start_time": "2022-03-08T19:28:51.835Z"
   },
   {
    "duration": 46,
    "start_time": "2022-03-08T19:28:51.867Z"
   },
   {
    "duration": 10,
    "start_time": "2022-03-08T19:28:51.915Z"
   },
   {
    "duration": 7,
    "start_time": "2022-03-08T19:28:51.927Z"
   },
   {
    "duration": 23,
    "start_time": "2022-03-08T19:28:51.935Z"
   },
   {
    "duration": 3,
    "start_time": "2022-03-08T19:28:51.959Z"
   },
   {
    "duration": 4,
    "start_time": "2022-03-08T19:28:51.964Z"
   },
   {
    "duration": 32,
    "start_time": "2022-03-08T19:28:51.969Z"
   },
   {
    "duration": 24,
    "start_time": "2022-03-08T19:28:52.003Z"
   },
   {
    "duration": 9,
    "start_time": "2022-03-08T19:28:52.028Z"
   },
   {
    "duration": 25,
    "start_time": "2022-03-08T19:28:52.038Z"
   },
   {
    "duration": 7,
    "start_time": "2022-03-08T19:28:52.065Z"
   },
   {
    "duration": 27,
    "start_time": "2022-03-08T19:28:52.102Z"
   },
   {
    "duration": 8,
    "start_time": "2022-03-08T19:28:52.131Z"
   },
   {
    "duration": 3,
    "start_time": "2022-03-08T19:28:52.141Z"
   },
   {
    "duration": 11,
    "start_time": "2022-03-08T19:28:52.146Z"
   },
   {
    "duration": 5,
    "start_time": "2022-03-08T19:28:52.159Z"
   },
   {
    "duration": 37,
    "start_time": "2022-03-08T19:28:52.168Z"
   },
   {
    "duration": 6,
    "start_time": "2022-03-08T19:28:52.207Z"
   },
   {
    "duration": 372,
    "start_time": "2022-03-08T19:28:52.215Z"
   },
   {
    "duration": 26,
    "start_time": "2022-03-08T19:28:52.589Z"
   },
   {
    "duration": 6,
    "start_time": "2022-03-08T19:28:52.617Z"
   },
   {
    "duration": 3837,
    "start_time": "2022-03-08T19:28:52.624Z"
   },
   {
    "duration": 7,
    "start_time": "2022-03-08T19:28:56.463Z"
   },
   {
    "duration": 19,
    "start_time": "2022-03-08T19:28:56.471Z"
   },
   {
    "duration": 16,
    "start_time": "2022-03-08T19:28:56.491Z"
   },
   {
    "duration": 19,
    "start_time": "2022-03-08T19:28:56.509Z"
   },
   {
    "duration": 22,
    "start_time": "2022-03-08T19:28:56.530Z"
   },
   {
    "duration": 8,
    "start_time": "2022-03-08T19:30:08.038Z"
   },
   {
    "duration": 31,
    "start_time": "2022-03-08T19:30:11.545Z"
   },
   {
    "duration": 13,
    "start_time": "2022-03-08T19:33:41.405Z"
   },
   {
    "duration": 678,
    "start_time": "2022-03-08T19:33:54.933Z"
   },
   {
    "duration": 21,
    "start_time": "2022-03-08T19:33:55.613Z"
   },
   {
    "duration": 28,
    "start_time": "2022-03-08T19:33:55.638Z"
   },
   {
    "duration": 47,
    "start_time": "2022-03-08T19:33:55.668Z"
   },
   {
    "duration": 9,
    "start_time": "2022-03-08T19:33:55.717Z"
   },
   {
    "duration": 30,
    "start_time": "2022-03-08T19:33:55.728Z"
   },
   {
    "duration": 54,
    "start_time": "2022-03-08T19:33:55.761Z"
   },
   {
    "duration": 12,
    "start_time": "2022-03-08T19:33:55.817Z"
   },
   {
    "duration": 9,
    "start_time": "2022-03-08T19:33:55.830Z"
   },
   {
    "duration": 26,
    "start_time": "2022-03-08T19:33:55.840Z"
   },
   {
    "duration": 36,
    "start_time": "2022-03-08T19:33:55.867Z"
   },
   {
    "duration": 4,
    "start_time": "2022-03-08T19:33:55.905Z"
   },
   {
    "duration": 4,
    "start_time": "2022-03-08T19:33:55.910Z"
   },
   {
    "duration": 27,
    "start_time": "2022-03-08T19:33:55.916Z"
   },
   {
    "duration": 10,
    "start_time": "2022-03-08T19:33:55.945Z"
   },
   {
    "duration": 60,
    "start_time": "2022-03-08T19:33:55.957Z"
   },
   {
    "duration": 7,
    "start_time": "2022-03-08T19:33:56.019Z"
   },
   {
    "duration": 27,
    "start_time": "2022-03-08T19:33:56.028Z"
   },
   {
    "duration": 8,
    "start_time": "2022-03-08T19:33:56.056Z"
   },
   {
    "duration": 3,
    "start_time": "2022-03-08T19:33:56.065Z"
   },
   {
    "duration": 35,
    "start_time": "2022-03-08T19:33:56.069Z"
   },
   {
    "duration": 3,
    "start_time": "2022-03-08T19:33:56.108Z"
   },
   {
    "duration": 8,
    "start_time": "2022-03-08T19:33:56.113Z"
   },
   {
    "duration": 6,
    "start_time": "2022-03-08T19:33:56.122Z"
   },
   {
    "duration": 526,
    "start_time": "2022-03-08T19:33:56.129Z"
   },
   {
    "duration": 28,
    "start_time": "2022-03-08T19:33:56.657Z"
   },
   {
    "duration": 17,
    "start_time": "2022-03-08T19:33:56.687Z"
   },
   {
    "duration": 3932,
    "start_time": "2022-03-08T19:33:56.706Z"
   },
   {
    "duration": 5,
    "start_time": "2022-03-08T19:34:00.640Z"
   },
   {
    "duration": 9,
    "start_time": "2022-03-08T19:34:00.647Z"
   },
   {
    "duration": 25,
    "start_time": "2022-03-08T19:34:00.658Z"
   },
   {
    "duration": 18,
    "start_time": "2022-03-08T19:34:00.684Z"
   },
   {
    "duration": 22,
    "start_time": "2022-03-08T19:34:00.703Z"
   },
   {
    "duration": 686,
    "start_time": "2022-03-08T19:42:57.317Z"
   },
   {
    "duration": 22,
    "start_time": "2022-03-08T19:42:58.005Z"
   },
   {
    "duration": 27,
    "start_time": "2022-03-08T19:42:58.032Z"
   },
   {
    "duration": 50,
    "start_time": "2022-03-08T19:42:58.061Z"
   },
   {
    "duration": 28,
    "start_time": "2022-03-08T19:42:58.113Z"
   },
   {
    "duration": 10,
    "start_time": "2022-03-08T19:42:58.143Z"
   },
   {
    "duration": 50,
    "start_time": "2022-03-08T19:42:58.156Z"
   },
   {
    "duration": 5,
    "start_time": "2022-03-08T19:42:58.208Z"
   },
   {
    "duration": 4,
    "start_time": "2022-03-08T19:42:58.215Z"
   },
   {
    "duration": 7,
    "start_time": "2022-03-08T19:42:58.220Z"
   },
   {
    "duration": 27,
    "start_time": "2022-03-08T19:42:58.228Z"
   },
   {
    "duration": 9,
    "start_time": "2022-03-08T19:42:58.256Z"
   },
   {
    "duration": 54,
    "start_time": "2022-03-08T19:42:58.267Z"
   },
   {
    "duration": 6,
    "start_time": "2022-03-08T19:42:58.322Z"
   },
   {
    "duration": 27,
    "start_time": "2022-03-08T19:42:58.330Z"
   },
   {
    "duration": 9,
    "start_time": "2022-03-08T19:42:58.359Z"
   },
   {
    "duration": 54,
    "start_time": "2022-03-08T19:42:58.370Z"
   },
   {
    "duration": 3,
    "start_time": "2022-03-08T19:42:58.425Z"
   },
   {
    "duration": 10,
    "start_time": "2022-03-08T19:42:58.430Z"
   },
   {
    "duration": 3,
    "start_time": "2022-03-08T19:42:58.442Z"
   },
   {
    "duration": 9,
    "start_time": "2022-03-08T19:42:58.447Z"
   },
   {
    "duration": 6,
    "start_time": "2022-03-08T19:42:58.459Z"
   },
   {
    "duration": 389,
    "start_time": "2022-03-08T19:42:58.466Z"
   },
   {
    "duration": 18,
    "start_time": "2022-03-08T19:42:58.857Z"
   },
   {
    "duration": 4,
    "start_time": "2022-03-08T19:42:58.876Z"
   },
   {
    "duration": 4136,
    "start_time": "2022-03-08T19:42:58.881Z"
   },
   {
    "duration": 6,
    "start_time": "2022-03-08T19:43:03.019Z"
   },
   {
    "duration": 12,
    "start_time": "2022-03-08T19:43:03.026Z"
   },
   {
    "duration": 23,
    "start_time": "2022-03-08T19:43:03.039Z"
   },
   {
    "duration": 13,
    "start_time": "2022-03-08T19:43:03.064Z"
   },
   {
    "duration": 27,
    "start_time": "2022-03-08T19:43:03.079Z"
   },
   {
    "duration": 8,
    "start_time": "2022-03-08T19:46:04.786Z"
   },
   {
    "duration": 14,
    "start_time": "2022-03-08T19:47:06.387Z"
   },
   {
    "duration": 31,
    "start_time": "2022-03-08T19:47:58.989Z"
   },
   {
    "duration": 33,
    "start_time": "2022-03-08T19:57:08.540Z"
   },
   {
    "duration": 746,
    "start_time": "2022-03-08T19:57:52.109Z"
   },
   {
    "duration": 21,
    "start_time": "2022-03-08T19:57:52.857Z"
   },
   {
    "duration": 37,
    "start_time": "2022-03-08T19:57:52.880Z"
   },
   {
    "duration": 20,
    "start_time": "2022-03-08T19:57:52.919Z"
   },
   {
    "duration": 26,
    "start_time": "2022-03-08T19:57:52.941Z"
   },
   {
    "duration": 8,
    "start_time": "2022-03-08T19:57:52.968Z"
   },
   {
    "duration": 45,
    "start_time": "2022-03-08T19:57:52.977Z"
   },
   {
    "duration": 11,
    "start_time": "2022-03-08T19:57:53.024Z"
   },
   {
    "duration": 7,
    "start_time": "2022-03-08T19:57:53.037Z"
   },
   {
    "duration": 13,
    "start_time": "2022-03-08T19:57:53.046Z"
   },
   {
    "duration": 36,
    "start_time": "2022-03-08T19:57:53.060Z"
   },
   {
    "duration": 10,
    "start_time": "2022-03-08T19:57:53.097Z"
   },
   {
    "duration": 29,
    "start_time": "2022-03-08T19:57:53.108Z"
   },
   {
    "duration": 31,
    "start_time": "2022-03-08T19:57:53.138Z"
   },
   {
    "duration": 5,
    "start_time": "2022-03-08T19:57:53.171Z"
   },
   {
    "duration": 42,
    "start_time": "2022-03-08T19:57:53.178Z"
   },
   {
    "duration": 8,
    "start_time": "2022-03-08T19:57:53.222Z"
   },
   {
    "duration": 29,
    "start_time": "2022-03-08T19:57:53.231Z"
   },
   {
    "duration": 3,
    "start_time": "2022-03-08T19:57:53.262Z"
   },
   {
    "duration": 37,
    "start_time": "2022-03-08T19:57:53.266Z"
   },
   {
    "duration": 4,
    "start_time": "2022-03-08T19:57:53.305Z"
   },
   {
    "duration": 11,
    "start_time": "2022-03-08T19:57:53.310Z"
   },
   {
    "duration": 6,
    "start_time": "2022-03-08T19:57:53.323Z"
   },
   {
    "duration": 429,
    "start_time": "2022-03-08T19:57:53.331Z"
   },
   {
    "duration": 20,
    "start_time": "2022-03-08T19:57:53.762Z"
   },
   {
    "duration": 4,
    "start_time": "2022-03-08T19:57:53.783Z"
   },
   {
    "duration": 3977,
    "start_time": "2022-03-08T19:57:53.801Z"
   },
   {
    "duration": 5,
    "start_time": "2022-03-08T19:57:57.780Z"
   },
   {
    "duration": 15,
    "start_time": "2022-03-08T19:57:57.786Z"
   },
   {
    "duration": 19,
    "start_time": "2022-03-08T19:57:57.802Z"
   },
   {
    "duration": 17,
    "start_time": "2022-03-08T19:57:57.822Z"
   },
   {
    "duration": 19,
    "start_time": "2022-03-08T19:57:57.840Z"
   },
   {
    "duration": 96,
    "start_time": "2022-03-08T19:58:16.937Z"
   },
   {
    "duration": 29,
    "start_time": "2022-03-08T19:58:28.949Z"
   },
   {
    "duration": 7,
    "start_time": "2022-03-08T20:08:35.768Z"
   },
   {
    "duration": 5,
    "start_time": "2022-03-08T20:10:47.142Z"
   },
   {
    "duration": 7,
    "start_time": "2022-03-08T20:15:52.862Z"
   },
   {
    "duration": 6,
    "start_time": "2022-03-08T20:16:14.257Z"
   },
   {
    "duration": 34,
    "start_time": "2022-03-08T20:16:32.541Z"
   },
   {
    "duration": 750,
    "start_time": "2022-03-08T20:22:44.080Z"
   },
   {
    "duration": 22,
    "start_time": "2022-03-08T20:22:44.832Z"
   },
   {
    "duration": 27,
    "start_time": "2022-03-08T20:22:44.856Z"
   },
   {
    "duration": 42,
    "start_time": "2022-03-08T20:22:44.885Z"
   },
   {
    "duration": 27,
    "start_time": "2022-03-08T20:22:44.929Z"
   },
   {
    "duration": 9,
    "start_time": "2022-03-08T20:22:44.958Z"
   },
   {
    "duration": 50,
    "start_time": "2022-03-08T20:22:44.968Z"
   },
   {
    "duration": 13,
    "start_time": "2022-03-08T20:22:45.022Z"
   },
   {
    "duration": 3,
    "start_time": "2022-03-08T20:22:45.037Z"
   },
   {
    "duration": 8,
    "start_time": "2022-03-08T20:22:45.042Z"
   },
   {
    "duration": 4,
    "start_time": "2022-03-08T20:22:45.052Z"
   },
   {
    "duration": 6,
    "start_time": "2022-03-08T20:22:45.058Z"
   },
   {
    "duration": 37,
    "start_time": "2022-03-08T20:22:45.065Z"
   },
   {
    "duration": 31,
    "start_time": "2022-03-08T20:22:45.104Z"
   },
   {
    "duration": 22,
    "start_time": "2022-03-08T20:22:45.136Z"
   },
   {
    "duration": 46,
    "start_time": "2022-03-08T20:22:45.159Z"
   },
   {
    "duration": 5,
    "start_time": "2022-03-08T20:22:45.207Z"
   },
   {
    "duration": 27,
    "start_time": "2022-03-08T20:22:45.214Z"
   },
   {
    "duration": 9,
    "start_time": "2022-03-08T20:22:45.243Z"
   },
   {
    "duration": 64,
    "start_time": "2022-03-08T20:22:45.254Z"
   },
   {
    "duration": 4,
    "start_time": "2022-03-08T20:22:45.320Z"
   },
   {
    "duration": 10,
    "start_time": "2022-03-08T20:22:45.326Z"
   },
   {
    "duration": 4,
    "start_time": "2022-03-08T20:22:45.339Z"
   },
   {
    "duration": 9,
    "start_time": "2022-03-08T20:22:45.344Z"
   },
   {
    "duration": 6,
    "start_time": "2022-03-08T20:22:45.355Z"
   },
   {
    "duration": 380,
    "start_time": "2022-03-08T20:22:45.363Z"
   },
   {
    "duration": 17,
    "start_time": "2022-03-08T20:22:45.745Z"
   },
   {
    "duration": 4,
    "start_time": "2022-03-08T20:22:45.763Z"
   },
   {
    "duration": 3844,
    "start_time": "2022-03-08T20:22:45.769Z"
   },
   {
    "duration": 5,
    "start_time": "2022-03-08T20:22:49.615Z"
   },
   {
    "duration": 4,
    "start_time": "2022-03-08T20:22:49.622Z"
   },
   {
    "duration": 9,
    "start_time": "2022-03-08T20:22:49.628Z"
   },
   {
    "duration": 11,
    "start_time": "2022-03-08T20:22:49.639Z"
   },
   {
    "duration": 19,
    "start_time": "2022-03-08T20:22:49.652Z"
   },
   {
    "duration": 6,
    "start_time": "2022-03-08T20:24:41.472Z"
   },
   {
    "duration": 50,
    "start_time": "2022-03-08T20:24:45.651Z"
   },
   {
    "duration": 6,
    "start_time": "2022-03-08T20:25:45.697Z"
   },
   {
    "duration": 6,
    "start_time": "2022-03-08T20:26:19.072Z"
   },
   {
    "duration": 6,
    "start_time": "2022-03-08T20:28:16.116Z"
   },
   {
    "duration": 10,
    "start_time": "2022-03-08T20:29:31.316Z"
   },
   {
    "duration": 11,
    "start_time": "2022-03-08T20:29:54.193Z"
   },
   {
    "duration": 10,
    "start_time": "2022-03-08T20:31:03.895Z"
   },
   {
    "duration": 102,
    "start_time": "2022-03-08T20:32:59.930Z"
   },
   {
    "duration": 89,
    "start_time": "2022-03-08T20:33:13.864Z"
   },
   {
    "duration": 108,
    "start_time": "2022-03-08T20:33:26.971Z"
   },
   {
    "duration": 97,
    "start_time": "2022-03-08T20:33:35.590Z"
   },
   {
    "duration": 9,
    "start_time": "2022-03-08T20:35:57.841Z"
   },
   {
    "duration": 704,
    "start_time": "2022-03-08T20:36:54.203Z"
   },
   {
    "duration": 22,
    "start_time": "2022-03-08T20:36:54.909Z"
   },
   {
    "duration": 27,
    "start_time": "2022-03-08T20:36:54.936Z"
   },
   {
    "duration": 54,
    "start_time": "2022-03-08T20:36:54.965Z"
   },
   {
    "duration": 28,
    "start_time": "2022-03-08T20:36:55.020Z"
   },
   {
    "duration": 8,
    "start_time": "2022-03-08T20:36:55.050Z"
   },
   {
    "duration": 49,
    "start_time": "2022-03-08T20:36:55.060Z"
   },
   {
    "duration": 14,
    "start_time": "2022-03-08T20:36:55.111Z"
   },
   {
    "duration": 5,
    "start_time": "2022-03-08T20:36:55.127Z"
   },
   {
    "duration": 9,
    "start_time": "2022-03-08T20:36:55.134Z"
   },
   {
    "duration": 9,
    "start_time": "2022-03-08T20:36:55.145Z"
   },
   {
    "duration": 45,
    "start_time": "2022-03-08T20:36:55.156Z"
   },
   {
    "duration": 6,
    "start_time": "2022-03-08T20:36:55.203Z"
   },
   {
    "duration": 31,
    "start_time": "2022-03-08T20:36:55.211Z"
   },
   {
    "duration": 22,
    "start_time": "2022-03-08T20:36:55.244Z"
   },
   {
    "duration": 33,
    "start_time": "2022-03-08T20:36:55.268Z"
   },
   {
    "duration": 27,
    "start_time": "2022-03-08T20:36:55.303Z"
   },
   {
    "duration": 9,
    "start_time": "2022-03-08T20:36:55.332Z"
   },
   {
    "duration": 31,
    "start_time": "2022-03-08T20:36:55.342Z"
   },
   {
    "duration": 29,
    "start_time": "2022-03-08T20:36:55.374Z"
   },
   {
    "duration": 10,
    "start_time": "2022-03-08T20:36:55.405Z"
   },
   {
    "duration": 4,
    "start_time": "2022-03-08T20:36:55.418Z"
   },
   {
    "duration": 9,
    "start_time": "2022-03-08T20:36:55.423Z"
   },
   {
    "duration": 5,
    "start_time": "2022-03-08T20:36:55.434Z"
   },
   {
    "duration": 386,
    "start_time": "2022-03-08T20:36:55.440Z"
   },
   {
    "duration": 18,
    "start_time": "2022-03-08T20:36:55.827Z"
   },
   {
    "duration": 4,
    "start_time": "2022-03-08T20:36:55.846Z"
   },
   {
    "duration": 3964,
    "start_time": "2022-03-08T20:36:55.851Z"
   },
   {
    "duration": 6,
    "start_time": "2022-03-08T20:36:59.816Z"
   },
   {
    "duration": 5,
    "start_time": "2022-03-08T20:36:59.823Z"
   },
   {
    "duration": 10,
    "start_time": "2022-03-08T20:36:59.830Z"
   },
   {
    "duration": 12,
    "start_time": "2022-03-08T20:36:59.841Z"
   },
   {
    "duration": 51,
    "start_time": "2022-03-08T20:36:59.854Z"
   },
   {
    "duration": 6,
    "start_time": "2022-03-08T20:42:35.286Z"
   },
   {
    "duration": 6,
    "start_time": "2022-03-08T20:44:29.166Z"
   },
   {
    "duration": 702,
    "start_time": "2022-03-08T20:45:00.333Z"
   },
   {
    "duration": 24,
    "start_time": "2022-03-08T20:45:01.037Z"
   },
   {
    "duration": 39,
    "start_time": "2022-03-08T20:45:01.063Z"
   },
   {
    "duration": 30,
    "start_time": "2022-03-08T20:45:01.104Z"
   },
   {
    "duration": 29,
    "start_time": "2022-03-08T20:45:01.136Z"
   },
   {
    "duration": 35,
    "start_time": "2022-03-08T20:45:01.167Z"
   },
   {
    "duration": 27,
    "start_time": "2022-03-08T20:45:01.203Z"
   },
   {
    "duration": 13,
    "start_time": "2022-03-08T20:45:01.232Z"
   },
   {
    "duration": 3,
    "start_time": "2022-03-08T20:45:01.247Z"
   },
   {
    "duration": 17,
    "start_time": "2022-03-08T20:45:01.252Z"
   },
   {
    "duration": 5,
    "start_time": "2022-03-08T20:45:01.270Z"
   },
   {
    "duration": 28,
    "start_time": "2022-03-08T20:45:01.277Z"
   },
   {
    "duration": 5,
    "start_time": "2022-03-08T20:45:01.307Z"
   },
   {
    "duration": 39,
    "start_time": "2022-03-08T20:45:01.313Z"
   },
   {
    "duration": 25,
    "start_time": "2022-03-08T20:45:01.353Z"
   },
   {
    "duration": 24,
    "start_time": "2022-03-08T20:45:01.380Z"
   },
   {
    "duration": 29,
    "start_time": "2022-03-08T20:45:01.406Z"
   },
   {
    "duration": 9,
    "start_time": "2022-03-08T20:45:01.437Z"
   },
   {
    "duration": 55,
    "start_time": "2022-03-08T20:45:01.448Z"
   },
   {
    "duration": 3,
    "start_time": "2022-03-08T20:45:01.505Z"
   },
   {
    "duration": 25,
    "start_time": "2022-03-08T20:45:01.510Z"
   },
   {
    "duration": 9,
    "start_time": "2022-03-08T20:45:01.537Z"
   },
   {
    "duration": 8,
    "start_time": "2022-03-08T20:45:01.549Z"
   },
   {
    "duration": 6,
    "start_time": "2022-03-08T20:45:01.560Z"
   },
   {
    "duration": 384,
    "start_time": "2022-03-08T20:45:01.568Z"
   },
   {
    "duration": 18,
    "start_time": "2022-03-08T20:45:01.953Z"
   },
   {
    "duration": 4,
    "start_time": "2022-03-08T20:45:01.972Z"
   },
   {
    "duration": 3892,
    "start_time": "2022-03-08T20:45:01.977Z"
   },
   {
    "duration": 6,
    "start_time": "2022-03-08T20:45:05.871Z"
   },
   {
    "duration": 7,
    "start_time": "2022-03-08T20:45:05.878Z"
   },
   {
    "duration": 24,
    "start_time": "2022-03-08T20:45:05.886Z"
   },
   {
    "duration": 16,
    "start_time": "2022-03-08T20:45:05.911Z"
   },
   {
    "duration": 23,
    "start_time": "2022-03-08T20:45:05.928Z"
   },
   {
    "duration": 752,
    "start_time": "2022-03-08T20:52:49.953Z"
   },
   {
    "duration": 22,
    "start_time": "2022-03-08T20:52:50.706Z"
   },
   {
    "duration": 37,
    "start_time": "2022-03-08T20:52:50.731Z"
   },
   {
    "duration": 63,
    "start_time": "2022-03-08T20:52:50.770Z"
   },
   {
    "duration": 46,
    "start_time": "2022-03-08T20:52:50.835Z"
   },
   {
    "duration": 25,
    "start_time": "2022-03-08T20:52:50.883Z"
   },
   {
    "duration": 37,
    "start_time": "2022-03-08T20:52:50.910Z"
   },
   {
    "duration": 17,
    "start_time": "2022-03-08T20:52:50.950Z"
   },
   {
    "duration": 32,
    "start_time": "2022-03-08T20:52:50.969Z"
   },
   {
    "duration": 31,
    "start_time": "2022-03-08T20:52:51.003Z"
   },
   {
    "duration": 34,
    "start_time": "2022-03-08T20:52:51.036Z"
   },
   {
    "duration": 63,
    "start_time": "2022-03-08T20:52:51.071Z"
   },
   {
    "duration": 7,
    "start_time": "2022-03-08T20:52:51.136Z"
   },
   {
    "duration": 9,
    "start_time": "2022-03-08T20:52:51.145Z"
   },
   {
    "duration": 8,
    "start_time": "2022-03-08T20:52:51.156Z"
   },
   {
    "duration": 6,
    "start_time": "2022-03-08T20:52:51.165Z"
   },
   {
    "duration": 31,
    "start_time": "2022-03-08T20:52:51.172Z"
   },
   {
    "duration": 6,
    "start_time": "2022-03-08T20:52:51.205Z"
   },
   {
    "duration": 32,
    "start_time": "2022-03-08T20:52:51.212Z"
   },
   {
    "duration": 3,
    "start_time": "2022-03-08T20:52:51.246Z"
   },
   {
    "duration": 8,
    "start_time": "2022-03-08T20:52:51.251Z"
   },
   {
    "duration": 4,
    "start_time": "2022-03-08T20:52:51.260Z"
   },
   {
    "duration": 41,
    "start_time": "2022-03-08T20:52:51.267Z"
   },
   {
    "duration": 6,
    "start_time": "2022-03-08T20:52:51.310Z"
   },
   {
    "duration": 378,
    "start_time": "2022-03-08T20:52:51.318Z"
   },
   {
    "duration": 21,
    "start_time": "2022-03-08T20:52:51.698Z"
   },
   {
    "duration": 4,
    "start_time": "2022-03-08T20:52:51.721Z"
   },
   {
    "duration": 4308,
    "start_time": "2022-03-08T20:52:51.726Z"
   },
   {
    "duration": 5,
    "start_time": "2022-03-08T20:52:56.036Z"
   },
   {
    "duration": 5,
    "start_time": "2022-03-08T20:52:56.043Z"
   },
   {
    "duration": 11,
    "start_time": "2022-03-08T20:52:56.050Z"
   },
   {
    "duration": 11,
    "start_time": "2022-03-08T20:52:56.062Z"
   },
   {
    "duration": 53,
    "start_time": "2022-03-08T20:52:56.075Z"
   },
   {
    "duration": 51,
    "start_time": "2022-03-08T20:53:40.795Z"
   },
   {
    "duration": 32,
    "start_time": "2022-03-08T20:54:12.688Z"
   },
   {
    "duration": 699,
    "start_time": "2022-03-08T20:54:22.323Z"
   },
   {
    "duration": 22,
    "start_time": "2022-03-08T20:54:23.024Z"
   },
   {
    "duration": 27,
    "start_time": "2022-03-08T20:54:23.050Z"
   },
   {
    "duration": 31,
    "start_time": "2022-03-08T20:54:23.101Z"
   },
   {
    "duration": 28,
    "start_time": "2022-03-08T20:54:23.133Z"
   },
   {
    "duration": 9,
    "start_time": "2022-03-08T20:54:23.162Z"
   },
   {
    "duration": 55,
    "start_time": "2022-03-08T20:54:23.173Z"
   },
   {
    "duration": 24,
    "start_time": "2022-03-08T20:54:23.229Z"
   },
   {
    "duration": 12,
    "start_time": "2022-03-08T20:54:23.255Z"
   },
   {
    "duration": 4,
    "start_time": "2022-03-08T20:54:23.268Z"
   },
   {
    "duration": 57,
    "start_time": "2022-03-08T20:54:23.273Z"
   },
   {
    "duration": 22,
    "start_time": "2022-03-08T20:54:23.332Z"
   },
   {
    "duration": 25,
    "start_time": "2022-03-08T20:54:23.356Z"
   },
   {
    "duration": 7,
    "start_time": "2022-03-08T20:54:23.402Z"
   },
   {
    "duration": 10,
    "start_time": "2022-03-08T20:54:23.410Z"
   },
   {
    "duration": 9,
    "start_time": "2022-03-08T20:54:23.422Z"
   },
   {
    "duration": 5,
    "start_time": "2022-03-08T20:54:23.433Z"
   },
   {
    "duration": 8,
    "start_time": "2022-03-08T20:54:23.439Z"
   },
   {
    "duration": 6,
    "start_time": "2022-03-08T20:54:23.448Z"
   },
   {
    "duration": 64,
    "start_time": "2022-03-08T20:54:23.455Z"
   },
   {
    "duration": 3,
    "start_time": "2022-03-08T20:54:23.520Z"
   },
   {
    "duration": 9,
    "start_time": "2022-03-08T20:54:23.526Z"
   },
   {
    "duration": 3,
    "start_time": "2022-03-08T20:54:23.536Z"
   },
   {
    "duration": 9,
    "start_time": "2022-03-08T20:54:23.541Z"
   },
   {
    "duration": 6,
    "start_time": "2022-03-08T20:54:23.551Z"
   },
   {
    "duration": 394,
    "start_time": "2022-03-08T20:54:23.558Z"
   },
   {
    "duration": 18,
    "start_time": "2022-03-08T20:54:23.953Z"
   },
   {
    "duration": 3,
    "start_time": "2022-03-08T20:54:23.972Z"
   },
   {
    "duration": 3994,
    "start_time": "2022-03-08T20:54:23.977Z"
   },
   {
    "duration": 6,
    "start_time": "2022-03-08T20:54:27.972Z"
   },
   {
    "duration": 6,
    "start_time": "2022-03-08T20:54:27.979Z"
   },
   {
    "duration": 12,
    "start_time": "2022-03-08T20:54:28.000Z"
   },
   {
    "duration": 10,
    "start_time": "2022-03-08T20:54:28.014Z"
   },
   {
    "duration": 18,
    "start_time": "2022-03-08T20:54:28.026Z"
   },
   {
    "duration": 721,
    "start_time": "2022-03-08T20:55:10.688Z"
   },
   {
    "duration": 24,
    "start_time": "2022-03-08T20:55:15.335Z"
   },
   {
    "duration": 28,
    "start_time": "2022-03-08T20:55:19.047Z"
   },
   {
    "duration": 31,
    "start_time": "2022-03-08T20:55:26.755Z"
   },
   {
    "duration": 33,
    "start_time": "2022-03-08T20:55:30.021Z"
   },
   {
    "duration": 11,
    "start_time": "2022-03-08T20:55:34.047Z"
   },
   {
    "duration": 33,
    "start_time": "2022-03-08T20:55:36.825Z"
   },
   {
    "duration": 26,
    "start_time": "2022-03-08T20:56:37.524Z"
   },
   {
    "duration": 14,
    "start_time": "2022-03-08T20:56:53.934Z"
   },
   {
    "duration": 5,
    "start_time": "2022-03-08T20:57:08.183Z"
   },
   {
    "duration": 33,
    "start_time": "2022-03-08T20:57:08.969Z"
   },
   {
    "duration": 25,
    "start_time": "2022-03-08T20:57:24.505Z"
   },
   {
    "duration": 23,
    "start_time": "2022-03-08T21:03:09.646Z"
   },
   {
    "duration": 27,
    "start_time": "2022-03-08T21:03:48.189Z"
   },
   {
    "duration": 8,
    "start_time": "2022-03-08T21:07:33.267Z"
   },
   {
    "duration": 6,
    "start_time": "2022-03-08T21:07:34.169Z"
   },
   {
    "duration": 5,
    "start_time": "2022-03-08T21:07:58.992Z"
   },
   {
    "duration": 8,
    "start_time": "2022-03-08T21:08:03.546Z"
   },
   {
    "duration": 5,
    "start_time": "2022-03-08T21:08:04.082Z"
   },
   {
    "duration": 7,
    "start_time": "2022-03-08T21:08:04.606Z"
   },
   {
    "duration": 5,
    "start_time": "2022-03-08T21:08:05.196Z"
   },
   {
    "duration": 31,
    "start_time": "2022-03-08T21:08:24.204Z"
   },
   {
    "duration": 109,
    "start_time": "2022-03-08T21:27:54.089Z"
   },
   {
    "duration": 355,
    "start_time": "2022-03-08T21:28:12.286Z"
   },
   {
    "duration": 93,
    "start_time": "2022-03-08T21:58:45.937Z"
   },
   {
    "duration": 32,
    "start_time": "2022-03-08T21:59:28.612Z"
   },
   {
    "duration": 4,
    "start_time": "2022-03-08T22:00:23.802Z"
   },
   {
    "duration": 18,
    "start_time": "2022-03-08T22:00:46.449Z"
   },
   {
    "duration": 333,
    "start_time": "2022-03-08T22:01:24.186Z"
   },
   {
    "duration": 302,
    "start_time": "2022-03-08T22:01:35.094Z"
   },
   {
    "duration": 5,
    "start_time": "2022-03-08T22:02:14.771Z"
   },
   {
    "duration": 876,
    "start_time": "2022-03-09T05:29:54.903Z"
   },
   {
    "duration": 37,
    "start_time": "2022-03-09T05:29:55.781Z"
   },
   {
    "duration": 70,
    "start_time": "2022-03-09T05:29:55.821Z"
   },
   {
    "duration": 67,
    "start_time": "2022-03-09T05:29:55.894Z"
   },
   {
    "duration": 47,
    "start_time": "2022-03-09T05:29:55.963Z"
   },
   {
    "duration": 15,
    "start_time": "2022-03-09T05:29:56.013Z"
   },
   {
    "duration": 51,
    "start_time": "2022-03-09T05:29:56.052Z"
   },
   {
    "duration": 60,
    "start_time": "2022-03-09T05:29:56.107Z"
   },
   {
    "duration": 18,
    "start_time": "2022-03-09T05:29:56.171Z"
   },
   {
    "duration": 6,
    "start_time": "2022-03-09T05:29:56.191Z"
   },
   {
    "duration": 71,
    "start_time": "2022-03-09T05:29:56.199Z"
   },
   {
    "duration": 40,
    "start_time": "2022-03-09T05:29:56.272Z"
   },
   {
    "duration": 9,
    "start_time": "2022-03-09T05:29:56.314Z"
   },
   {
    "duration": 35,
    "start_time": "2022-03-09T05:29:56.326Z"
   },
   {
    "duration": 7,
    "start_time": "2022-03-09T05:29:56.364Z"
   },
   {
    "duration": 11,
    "start_time": "2022-03-09T05:29:56.373Z"
   },
   {
    "duration": 7,
    "start_time": "2022-03-09T05:29:56.386Z"
   },
   {
    "duration": 11,
    "start_time": "2022-03-09T05:29:56.395Z"
   },
   {
    "duration": 88,
    "start_time": "2022-03-09T05:29:56.408Z"
   },
   {
    "duration": 10,
    "start_time": "2022-03-09T05:29:56.499Z"
   },
   {
    "duration": 73,
    "start_time": "2022-03-09T05:29:56.511Z"
   },
   {
    "duration": 5,
    "start_time": "2022-03-09T05:29:56.586Z"
   },
   {
    "duration": 13,
    "start_time": "2022-03-09T05:29:56.595Z"
   },
   {
    "duration": 5,
    "start_time": "2022-03-09T05:29:56.611Z"
   },
   {
    "duration": 37,
    "start_time": "2022-03-09T05:29:56.618Z"
   },
   {
    "duration": 9,
    "start_time": "2022-03-09T05:29:56.657Z"
   },
   {
    "duration": 740,
    "start_time": "2022-03-09T05:29:56.668Z"
   },
   {
    "duration": 41,
    "start_time": "2022-03-09T05:29:57.411Z"
   },
   {
    "duration": 5,
    "start_time": "2022-03-09T05:29:57.455Z"
   },
   {
    "duration": 8447,
    "start_time": "2022-03-09T05:29:57.462Z"
   },
   {
    "duration": 8,
    "start_time": "2022-03-09T05:30:05.911Z"
   },
   {
    "duration": 30,
    "start_time": "2022-03-09T05:30:05.921Z"
   },
   {
    "duration": 14,
    "start_time": "2022-03-09T05:30:05.953Z"
   },
   {
    "duration": 17,
    "start_time": "2022-03-09T05:30:05.970Z"
   },
   {
    "duration": 30,
    "start_time": "2022-03-09T05:30:05.989Z"
   },
   {
    "duration": 364,
    "start_time": "2022-03-09T05:31:32.896Z"
   },
   {
    "duration": 256,
    "start_time": "2022-03-09T05:32:21.952Z"
   },
   {
    "duration": 241,
    "start_time": "2022-03-09T05:32:44.887Z"
   },
   {
    "duration": 4,
    "start_time": "2022-03-09T05:33:03.938Z"
   },
   {
    "duration": 260,
    "start_time": "2022-03-09T05:33:35.558Z"
   },
   {
    "duration": 33,
    "start_time": "2022-03-09T05:34:01.565Z"
   },
   {
    "duration": 8,
    "start_time": "2022-03-09T06:04:36.177Z"
   },
   {
    "duration": 8,
    "start_time": "2022-03-09T06:05:19.348Z"
   },
   {
    "duration": 949,
    "start_time": "2022-03-09T06:06:59.849Z"
   },
   {
    "duration": 52,
    "start_time": "2022-03-09T06:07:00.801Z"
   },
   {
    "duration": 50,
    "start_time": "2022-03-09T06:07:00.856Z"
   },
   {
    "duration": 76,
    "start_time": "2022-03-09T06:07:00.909Z"
   },
   {
    "duration": 65,
    "start_time": "2022-03-09T06:07:00.988Z"
   },
   {
    "duration": 16,
    "start_time": "2022-03-09T06:07:01.055Z"
   },
   {
    "duration": 16,
    "start_time": "2022-03-09T06:07:01.073Z"
   },
   {
    "duration": 61,
    "start_time": "2022-03-09T06:07:01.092Z"
   },
   {
    "duration": 21,
    "start_time": "2022-03-09T06:07:01.155Z"
   },
   {
    "duration": 6,
    "start_time": "2022-03-09T06:07:01.178Z"
   },
   {
    "duration": 68,
    "start_time": "2022-03-09T06:07:01.186Z"
   },
   {
    "duration": 40,
    "start_time": "2022-03-09T06:07:01.256Z"
   },
   {
    "duration": 8,
    "start_time": "2022-03-09T06:07:01.299Z"
   },
   {
    "duration": 44,
    "start_time": "2022-03-09T06:07:01.309Z"
   },
   {
    "duration": 7,
    "start_time": "2022-03-09T06:07:01.355Z"
   },
   {
    "duration": 20,
    "start_time": "2022-03-09T06:07:01.364Z"
   },
   {
    "duration": 20,
    "start_time": "2022-03-09T06:07:01.387Z"
   },
   {
    "duration": 20,
    "start_time": "2022-03-09T06:07:01.409Z"
   },
   {
    "duration": 30,
    "start_time": "2022-03-09T06:07:01.432Z"
   },
   {
    "duration": 67,
    "start_time": "2022-03-09T06:07:01.465Z"
   },
   {
    "duration": 16,
    "start_time": "2022-03-09T06:07:01.535Z"
   },
   {
    "duration": 14,
    "start_time": "2022-03-09T06:07:01.553Z"
   },
   {
    "duration": 7,
    "start_time": "2022-03-09T06:07:01.571Z"
   },
   {
    "duration": 11,
    "start_time": "2022-03-09T06:07:01.581Z"
   },
   {
    "duration": 16,
    "start_time": "2022-03-09T06:07:01.594Z"
   },
   {
    "duration": 789,
    "start_time": "2022-03-09T06:07:01.613Z"
   },
   {
    "duration": 48,
    "start_time": "2022-03-09T06:07:02.404Z"
   },
   {
    "duration": 5,
    "start_time": "2022-03-09T06:07:02.455Z"
   },
   {
    "duration": 8247,
    "start_time": "2022-03-09T06:07:02.462Z"
   },
   {
    "duration": 8,
    "start_time": "2022-03-09T06:07:10.711Z"
   },
   {
    "duration": 8,
    "start_time": "2022-03-09T06:07:10.721Z"
   },
   {
    "duration": 30,
    "start_time": "2022-03-09T06:07:10.731Z"
   },
   {
    "duration": 17,
    "start_time": "2022-03-09T06:07:10.764Z"
   },
   {
    "duration": 28,
    "start_time": "2022-03-09T06:07:10.784Z"
   },
   {
    "duration": 340,
    "start_time": "2022-03-09T06:09:51.736Z"
   },
   {
    "duration": 10,
    "start_time": "2022-03-09T06:10:15.687Z"
   },
   {
    "duration": 8,
    "start_time": "2022-03-09T06:10:16.259Z"
   },
   {
    "duration": 10,
    "start_time": "2022-03-09T06:10:16.946Z"
   },
   {
    "duration": 8,
    "start_time": "2022-03-09T06:10:17.516Z"
   },
   {
    "duration": 9,
    "start_time": "2022-03-09T06:10:18.120Z"
   },
   {
    "duration": 959,
    "start_time": "2022-03-09T06:11:31.937Z"
   },
   {
    "duration": 51,
    "start_time": "2022-03-09T06:11:32.899Z"
   },
   {
    "duration": 52,
    "start_time": "2022-03-09T06:11:32.953Z"
   },
   {
    "duration": 79,
    "start_time": "2022-03-09T06:11:33.007Z"
   },
   {
    "duration": 65,
    "start_time": "2022-03-09T06:11:33.088Z"
   },
   {
    "duration": 16,
    "start_time": "2022-03-09T06:11:33.155Z"
   },
   {
    "duration": 9,
    "start_time": "2022-03-09T06:11:33.173Z"
   },
   {
    "duration": 71,
    "start_time": "2022-03-09T06:11:33.185Z"
   },
   {
    "duration": 20,
    "start_time": "2022-03-09T06:11:33.259Z"
   },
   {
    "duration": 6,
    "start_time": "2022-03-09T06:11:33.281Z"
   },
   {
    "duration": 68,
    "start_time": "2022-03-09T06:11:33.289Z"
   },
   {
    "duration": 42,
    "start_time": "2022-03-09T06:11:33.359Z"
   },
   {
    "duration": 9,
    "start_time": "2022-03-09T06:11:33.403Z"
   },
   {
    "duration": 42,
    "start_time": "2022-03-09T06:11:33.414Z"
   },
   {
    "duration": 7,
    "start_time": "2022-03-09T06:11:33.459Z"
   },
   {
    "duration": 12,
    "start_time": "2022-03-09T06:11:33.468Z"
   },
   {
    "duration": 345,
    "start_time": "2022-03-09T06:11:33.482Z"
   },
   {
    "duration": -1613,
    "start_time": "2022-03-09T06:11:35.443Z"
   },
   {
    "duration": -1617,
    "start_time": "2022-03-09T06:11:35.448Z"
   },
   {
    "duration": -1620,
    "start_time": "2022-03-09T06:11:35.453Z"
   },
   {
    "duration": -1622,
    "start_time": "2022-03-09T06:11:35.456Z"
   },
   {
    "duration": -1625,
    "start_time": "2022-03-09T06:11:35.460Z"
   },
   {
    "duration": -1625,
    "start_time": "2022-03-09T06:11:35.462Z"
   },
   {
    "duration": -1626,
    "start_time": "2022-03-09T06:11:35.464Z"
   },
   {
    "duration": -1631,
    "start_time": "2022-03-09T06:11:35.471Z"
   },
   {
    "duration": -1632,
    "start_time": "2022-03-09T06:11:35.473Z"
   },
   {
    "duration": -1634,
    "start_time": "2022-03-09T06:11:35.476Z"
   },
   {
    "duration": -1634,
    "start_time": "2022-03-09T06:11:35.478Z"
   },
   {
    "duration": -1635,
    "start_time": "2022-03-09T06:11:35.480Z"
   },
   {
    "duration": -1636,
    "start_time": "2022-03-09T06:11:35.482Z"
   },
   {
    "duration": -1637,
    "start_time": "2022-03-09T06:11:35.484Z"
   },
   {
    "duration": -1638,
    "start_time": "2022-03-09T06:11:35.486Z"
   },
   {
    "duration": 42,
    "start_time": "2022-03-09T06:12:38.463Z"
   },
   {
    "duration": 16,
    "start_time": "2022-03-09T06:12:45.075Z"
   },
   {
    "duration": 417,
    "start_time": "2022-03-09T06:33:19.944Z"
   },
   {
    "duration": 1047,
    "start_time": "2022-03-09T06:33:32.744Z"
   },
   {
    "duration": 37,
    "start_time": "2022-03-09T06:33:38.002Z"
   },
   {
    "duration": 52,
    "start_time": "2022-03-09T06:33:45.243Z"
   },
   {
    "duration": 57,
    "start_time": "2022-03-09T06:33:55.365Z"
   },
   {
    "duration": 49,
    "start_time": "2022-03-09T06:33:59.378Z"
   },
   {
    "duration": 53,
    "start_time": "2022-03-09T06:34:10.325Z"
   },
   {
    "duration": 11,
    "start_time": "2022-03-09T06:34:11.225Z"
   },
   {
    "duration": 42,
    "start_time": "2022-03-09T06:34:25.696Z"
   },
   {
    "duration": 20,
    "start_time": "2022-03-09T06:34:30.444Z"
   },
   {
    "duration": 6,
    "start_time": "2022-03-09T06:34:37.966Z"
   },
   {
    "duration": 49,
    "start_time": "2022-03-09T06:34:39.368Z"
   },
   {
    "duration": 6,
    "start_time": "2022-03-09T06:34:42.818Z"
   },
   {
    "duration": 41,
    "start_time": "2022-03-09T06:34:46.500Z"
   },
   {
    "duration": 10,
    "start_time": "2022-03-09T06:34:49.165Z"
   },
   {
    "duration": 5,
    "start_time": "2022-03-09T06:35:47.841Z"
   },
   {
    "duration": 40,
    "start_time": "2022-03-09T06:36:09.245Z"
   },
   {
    "duration": 13,
    "start_time": "2022-03-09T06:36:14.742Z"
   },
   {
    "duration": 11,
    "start_time": "2022-03-09T06:36:15.664Z"
   },
   {
    "duration": 12,
    "start_time": "2022-03-09T06:36:16.595Z"
   },
   {
    "duration": 283,
    "start_time": "2022-03-09T06:36:17.388Z"
   },
   {
    "duration": 8,
    "start_time": "2022-03-09T06:36:50.956Z"
   },
   {
    "duration": 10,
    "start_time": "2022-03-09T06:36:54.661Z"
   },
   {
    "duration": 9,
    "start_time": "2022-03-09T06:37:24.227Z"
   },
   {
    "duration": 5,
    "start_time": "2022-03-09T06:37:55.098Z"
   },
   {
    "duration": 11,
    "start_time": "2022-03-09T06:37:56.644Z"
   },
   {
    "duration": 5,
    "start_time": "2022-03-09T06:37:58.038Z"
   },
   {
    "duration": 11,
    "start_time": "2022-03-09T06:37:58.741Z"
   },
   {
    "duration": 24,
    "start_time": "2022-03-09T06:41:34.512Z"
   },
   {
    "duration": 5,
    "start_time": "2022-03-09T06:41:44.725Z"
   },
   {
    "duration": 40,
    "start_time": "2022-03-09T06:41:46.927Z"
   },
   {
    "duration": 7,
    "start_time": "2022-03-09T06:41:48.900Z"
   },
   {
    "duration": 38,
    "start_time": "2022-03-09T06:41:49.977Z"
   },
   {
    "duration": 15,
    "start_time": "2022-03-09T06:41:53.249Z"
   },
   {
    "duration": 7,
    "start_time": "2022-03-09T06:41:53.961Z"
   },
   {
    "duration": 11,
    "start_time": "2022-03-09T06:41:54.634Z"
   },
   {
    "duration": 8,
    "start_time": "2022-03-09T06:41:55.375Z"
   },
   {
    "duration": 12,
    "start_time": "2022-03-09T06:41:57.044Z"
   },
   {
    "duration": 6,
    "start_time": "2022-03-09T06:42:00.684Z"
   },
   {
    "duration": 13,
    "start_time": "2022-03-09T06:42:02.179Z"
   },
   {
    "duration": 7,
    "start_time": "2022-03-09T06:42:03.534Z"
   },
   {
    "duration": 23,
    "start_time": "2022-03-09T06:42:33.324Z"
   },
   {
    "duration": 7,
    "start_time": "2022-03-09T06:42:43.811Z"
   },
   {
    "duration": 877,
    "start_time": "2022-03-09T06:43:14.586Z"
   },
   {
    "duration": 39,
    "start_time": "2022-03-09T06:43:15.466Z"
   },
   {
    "duration": 48,
    "start_time": "2022-03-09T06:43:21.527Z"
   },
   {
    "duration": 52,
    "start_time": "2022-03-09T06:43:27.891Z"
   },
   {
    "duration": 49,
    "start_time": "2022-03-09T06:43:37.669Z"
   },
   {
    "duration": 11,
    "start_time": "2022-03-09T06:43:42.569Z"
   },
   {
    "duration": 11,
    "start_time": "2022-03-09T06:43:52.167Z"
   },
   {
    "duration": 44,
    "start_time": "2022-03-09T06:43:55.946Z"
   },
   {
    "duration": 23,
    "start_time": "2022-03-09T06:44:01.958Z"
   },
   {
    "duration": 12,
    "start_time": "2022-03-09T06:44:11.148Z"
   },
   {
    "duration": 6,
    "start_time": "2022-03-09T06:44:21.954Z"
   },
   {
    "duration": 37,
    "start_time": "2022-03-09T06:44:25.619Z"
   },
   {
    "duration": 6,
    "start_time": "2022-03-09T06:44:28.062Z"
   },
   {
    "duration": 37,
    "start_time": "2022-03-09T06:44:29.578Z"
   },
   {
    "duration": 12,
    "start_time": "2022-03-09T06:44:32.300Z"
   },
   {
    "duration": 8,
    "start_time": "2022-03-09T06:44:32.964Z"
   },
   {
    "duration": 13,
    "start_time": "2022-03-09T06:44:33.722Z"
   },
   {
    "duration": 8,
    "start_time": "2022-03-09T06:44:34.596Z"
   },
   {
    "duration": 10,
    "start_time": "2022-03-09T06:44:35.895Z"
   },
   {
    "duration": 5,
    "start_time": "2022-03-09T06:44:37.555Z"
   },
   {
    "duration": 13,
    "start_time": "2022-03-09T06:44:39.000Z"
   },
   {
    "duration": 8,
    "start_time": "2022-03-09T06:44:41.383Z"
   },
   {
    "duration": 11,
    "start_time": "2022-03-09T06:44:43.103Z"
   },
   {
    "duration": 9,
    "start_time": "2022-03-09T06:44:56.117Z"
   },
   {
    "duration": 612,
    "start_time": "2022-03-09T06:45:01.373Z"
   },
   {
    "duration": 29,
    "start_time": "2022-03-09T06:45:22.577Z"
   },
   {
    "duration": 6,
    "start_time": "2022-03-09T06:45:32.050Z"
   },
   {
    "duration": 8238,
    "start_time": "2022-03-09T06:45:34.902Z"
   },
   {
    "duration": 6,
    "start_time": "2022-03-09T06:45:53.723Z"
   },
   {
    "duration": 8057,
    "start_time": "2022-03-09T06:45:55.088Z"
   },
   {
    "duration": 9,
    "start_time": "2022-03-09T06:46:03.149Z"
   },
   {
    "duration": 8,
    "start_time": "2022-03-09T06:46:10.892Z"
   },
   {
    "duration": 13,
    "start_time": "2022-03-09T06:46:14.928Z"
   },
   {
    "duration": 18,
    "start_time": "2022-03-09T06:46:17.134Z"
   },
   {
    "duration": 429,
    "start_time": "2022-03-09T06:48:25.711Z"
   },
   {
    "duration": 11,
    "start_time": "2022-03-09T06:53:42.811Z"
   },
   {
    "duration": 287,
    "start_time": "2022-03-09T06:56:08.597Z"
   },
   {
    "duration": 11,
    "start_time": "2022-03-09T06:57:45.238Z"
   },
   {
    "duration": 259,
    "start_time": "2022-03-09T07:22:03.030Z"
   },
   {
    "duration": 15,
    "start_time": "2022-03-09T07:22:11.251Z"
   },
   {
    "duration": 15,
    "start_time": "2022-03-09T07:22:20.983Z"
   },
   {
    "duration": 12,
    "start_time": "2022-03-09T07:22:26.454Z"
   },
   {
    "duration": 258,
    "start_time": "2022-03-09T07:27:46.313Z"
   },
   {
    "duration": 11,
    "start_time": "2022-03-09T07:27:55.023Z"
   },
   {
    "duration": 14,
    "start_time": "2022-03-09T07:28:53.076Z"
   },
   {
    "duration": 248,
    "start_time": "2022-03-09T07:30:41.007Z"
   },
   {
    "duration": 264,
    "start_time": "2022-03-09T07:30:55.329Z"
   },
   {
    "duration": 28,
    "start_time": "2022-03-09T07:31:20.321Z"
   },
   {
    "duration": 42,
    "start_time": "2022-03-09T07:31:37.103Z"
   },
   {
    "duration": 38,
    "start_time": "2022-03-09T07:32:19.701Z"
   },
   {
    "duration": 12,
    "start_time": "2022-03-09T07:33:04.790Z"
   },
   {
    "duration": 25,
    "start_time": "2022-03-09T07:37:33.956Z"
   },
   {
    "duration": 925,
    "start_time": "2022-03-09T07:38:27.116Z"
   },
   {
    "duration": 41,
    "start_time": "2022-03-09T07:38:28.051Z"
   },
   {
    "duration": 74,
    "start_time": "2022-03-09T07:38:28.098Z"
   },
   {
    "duration": 60,
    "start_time": "2022-03-09T07:38:28.176Z"
   },
   {
    "duration": 53,
    "start_time": "2022-03-09T07:38:28.251Z"
   },
   {
    "duration": 44,
    "start_time": "2022-03-09T07:38:28.307Z"
   },
   {
    "duration": 43,
    "start_time": "2022-03-09T07:38:28.356Z"
   },
   {
    "duration": 53,
    "start_time": "2022-03-09T07:38:28.403Z"
   },
   {
    "duration": 6,
    "start_time": "2022-03-09T07:38:28.459Z"
   },
   {
    "duration": 47,
    "start_time": "2022-03-09T07:38:28.467Z"
   },
   {
    "duration": 6,
    "start_time": "2022-03-09T07:38:28.516Z"
   },
   {
    "duration": 67,
    "start_time": "2022-03-09T07:38:28.524Z"
   },
   {
    "duration": 12,
    "start_time": "2022-03-09T07:38:28.593Z"
   },
   {
    "duration": 8,
    "start_time": "2022-03-09T07:38:28.607Z"
   },
   {
    "duration": 36,
    "start_time": "2022-03-09T07:38:28.617Z"
   },
   {
    "duration": 7,
    "start_time": "2022-03-09T07:38:28.656Z"
   },
   {
    "duration": 11,
    "start_time": "2022-03-09T07:38:28.666Z"
   },
   {
    "duration": 5,
    "start_time": "2022-03-09T07:38:28.680Z"
   },
   {
    "duration": 16,
    "start_time": "2022-03-09T07:38:28.688Z"
   },
   {
    "duration": 49,
    "start_time": "2022-03-09T07:38:28.706Z"
   },
   {
    "duration": 11,
    "start_time": "2022-03-09T07:38:28.758Z"
   },
   {
    "duration": 9,
    "start_time": "2022-03-09T07:38:28.773Z"
   },
   {
    "duration": 659,
    "start_time": "2022-03-09T07:38:28.785Z"
   },
   {
    "duration": 32,
    "start_time": "2022-03-09T07:38:29.451Z"
   },
   {
    "duration": 8,
    "start_time": "2022-03-09T07:38:29.485Z"
   },
   {
    "duration": 8077,
    "start_time": "2022-03-09T07:38:29.495Z"
   },
   {
    "duration": 10,
    "start_time": "2022-03-09T07:38:37.575Z"
   },
   {
    "duration": 10,
    "start_time": "2022-03-09T07:38:37.588Z"
   },
   {
    "duration": 14,
    "start_time": "2022-03-09T07:38:37.600Z"
   },
   {
    "duration": 50,
    "start_time": "2022-03-09T07:38:37.616Z"
   },
   {
    "duration": 24,
    "start_time": "2022-03-09T07:38:37.668Z"
   },
   {
    "duration": 10,
    "start_time": "2022-03-09T07:38:37.695Z"
   },
   {
    "duration": 67,
    "start_time": "2022-03-09T07:38:37.707Z"
   },
   {
    "duration": 25,
    "start_time": "2022-03-09T07:46:49.765Z"
   },
   {
    "duration": 19,
    "start_time": "2022-03-09T07:47:17.738Z"
   },
   {
    "duration": 20,
    "start_time": "2022-03-09T08:01:36.271Z"
   },
   {
    "duration": 7,
    "start_time": "2022-03-09T08:01:37.741Z"
   },
   {
    "duration": 17,
    "start_time": "2022-03-09T08:01:38.615Z"
   },
   {
    "duration": 48,
    "start_time": "2022-03-09T08:01:43.445Z"
   },
   {
    "duration": 5,
    "start_time": "2022-03-09T08:04:17.500Z"
   },
   {
    "duration": 353,
    "start_time": "2022-03-09T08:10:56.359Z"
   },
   {
    "duration": 93,
    "start_time": "2022-03-09T08:11:46.738Z"
   },
   {
    "duration": 82,
    "start_time": "2022-03-09T08:12:23.394Z"
   },
   {
    "duration": 97,
    "start_time": "2022-03-09T08:14:03.329Z"
   },
   {
    "duration": 252,
    "start_time": "2022-03-09T08:14:28.105Z"
   },
   {
    "duration": 41876,
    "start_time": "2022-03-09T08:15:09.141Z"
   },
   {
    "duration": 18,
    "start_time": "2022-03-09T08:16:44.640Z"
   },
   {
    "duration": 45,
    "start_time": "2022-03-09T08:17:09.533Z"
   },
   {
    "duration": 185,
    "start_time": "2022-03-09T08:17:32.024Z"
   },
   {
    "duration": 377,
    "start_time": "2022-03-09T08:18:56.156Z"
   },
   {
    "duration": 888,
    "start_time": "2022-03-09T08:19:48.736Z"
   },
   {
    "duration": 54,
    "start_time": "2022-03-09T08:19:49.627Z"
   },
   {
    "duration": 77,
    "start_time": "2022-03-09T08:19:49.685Z"
   },
   {
    "duration": 48,
    "start_time": "2022-03-09T08:19:49.765Z"
   },
   {
    "duration": 89,
    "start_time": "2022-03-09T08:19:49.815Z"
   },
   {
    "duration": 19,
    "start_time": "2022-03-09T08:19:49.907Z"
   },
   {
    "duration": 57,
    "start_time": "2022-03-09T08:19:49.953Z"
   },
   {
    "duration": 43,
    "start_time": "2022-03-09T08:19:50.012Z"
   },
   {
    "duration": 6,
    "start_time": "2022-03-09T08:19:50.059Z"
   },
   {
    "duration": 45,
    "start_time": "2022-03-09T08:19:50.068Z"
   },
   {
    "duration": 6,
    "start_time": "2022-03-09T08:19:50.115Z"
   },
   {
    "duration": 39,
    "start_time": "2022-03-09T08:19:50.152Z"
   },
   {
    "duration": 12,
    "start_time": "2022-03-09T08:19:50.193Z"
   },
   {
    "duration": 6,
    "start_time": "2022-03-09T08:19:50.207Z"
   },
   {
    "duration": 10,
    "start_time": "2022-03-09T08:19:50.252Z"
   },
   {
    "duration": 7,
    "start_time": "2022-03-09T08:19:50.265Z"
   },
   {
    "duration": 10,
    "start_time": "2022-03-09T08:19:50.275Z"
   },
   {
    "duration": 6,
    "start_time": "2022-03-09T08:19:50.288Z"
   },
   {
    "duration": 62,
    "start_time": "2022-03-09T08:19:50.297Z"
   },
   {
    "duration": 6,
    "start_time": "2022-03-09T08:19:50.361Z"
   },
   {
    "duration": 13,
    "start_time": "2022-03-09T08:19:50.369Z"
   },
   {
    "duration": 9,
    "start_time": "2022-03-09T08:19:50.384Z"
   },
   {
    "duration": 533,
    "start_time": "2022-03-09T08:19:50.396Z"
   },
   {
    "duration": 47,
    "start_time": "2022-03-09T08:19:50.932Z"
   },
   {
    "duration": 5,
    "start_time": "2022-03-09T08:19:50.981Z"
   },
   {
    "duration": 5457,
    "start_time": "2022-03-09T08:19:50.989Z"
   },
   {
    "duration": 10,
    "start_time": "2022-03-09T08:19:56.453Z"
   },
   {
    "duration": 8,
    "start_time": "2022-03-09T08:19:56.466Z"
   },
   {
    "duration": 16,
    "start_time": "2022-03-09T08:19:56.476Z"
   },
   {
    "duration": 21,
    "start_time": "2022-03-09T08:19:56.494Z"
   },
   {
    "duration": 19,
    "start_time": "2022-03-09T08:19:56.552Z"
   },
   {
    "duration": 5,
    "start_time": "2022-03-09T08:19:56.574Z"
   },
   {
    "duration": 12,
    "start_time": "2022-03-09T08:19:56.581Z"
   },
   {
    "duration": 62,
    "start_time": "2022-03-09T08:19:56.595Z"
   },
   {
    "duration": 5,
    "start_time": "2022-03-09T08:19:56.660Z"
   },
   {
    "duration": 30,
    "start_time": "2022-03-09T08:19:56.667Z"
   },
   {
    "duration": 831,
    "start_time": "2022-03-09T08:41:44.633Z"
   },
   {
    "duration": 7,
    "start_time": "2022-03-09T08:44:24.318Z"
   },
   {
    "duration": 19,
    "start_time": "2022-03-09T08:44:57.687Z"
   },
   {
    "duration": 31,
    "start_time": "2022-03-09T08:45:35.063Z"
   },
   {
    "duration": 770,
    "start_time": "2022-03-09T08:46:05.850Z"
   },
   {
    "duration": 5,
    "start_time": "2022-03-09T08:46:08.508Z"
   },
   {
    "duration": 34,
    "start_time": "2022-03-09T08:46:09.233Z"
   },
   {
    "duration": 491,
    "start_time": "2022-03-09T11:57:18.002Z"
   },
   {
    "duration": 1456,
    "start_time": "2022-03-09T11:57:55.835Z"
   },
   {
    "duration": 1998,
    "start_time": "2022-03-09T11:58:10.539Z"
   },
   {
    "duration": 824,
    "start_time": "2022-03-09T11:58:43.981Z"
   },
   {
    "duration": 5844,
    "start_time": "2022-03-09T11:58:54.808Z"
   },
   {
    "duration": 3412,
    "start_time": "2022-03-09T11:59:11.177Z"
   },
   {
    "duration": 84,
    "start_time": "2022-03-09T11:59:14.592Z"
   },
   {
    "duration": 108,
    "start_time": "2022-03-09T11:59:14.680Z"
   },
   {
    "duration": 71,
    "start_time": "2022-03-09T11:59:14.792Z"
   },
   {
    "duration": 66,
    "start_time": "2022-03-09T11:59:14.866Z"
   },
   {
    "duration": 28,
    "start_time": "2022-03-09T11:59:14.934Z"
   },
   {
    "duration": 88,
    "start_time": "2022-03-09T11:59:14.965Z"
   },
   {
    "duration": 26,
    "start_time": "2022-03-09T11:59:15.059Z"
   },
   {
    "duration": 6,
    "start_time": "2022-03-09T11:59:15.089Z"
   },
   {
    "duration": 83,
    "start_time": "2022-03-09T11:59:15.098Z"
   },
   {
    "duration": 6,
    "start_time": "2022-03-09T11:59:15.184Z"
   },
   {
    "duration": 65,
    "start_time": "2022-03-09T11:59:15.193Z"
   },
   {
    "duration": 11,
    "start_time": "2022-03-09T11:59:15.260Z"
   },
   {
    "duration": 6,
    "start_time": "2022-03-09T11:59:15.274Z"
   },
   {
    "duration": 12,
    "start_time": "2022-03-09T11:59:15.283Z"
   },
   {
    "duration": 7,
    "start_time": "2022-03-09T11:59:15.297Z"
   },
   {
    "duration": 52,
    "start_time": "2022-03-09T11:59:15.307Z"
   },
   {
    "duration": 5,
    "start_time": "2022-03-09T11:59:15.361Z"
   },
   {
    "duration": 11,
    "start_time": "2022-03-09T11:59:15.368Z"
   },
   {
    "duration": 5,
    "start_time": "2022-03-09T11:59:15.381Z"
   },
   {
    "duration": 17,
    "start_time": "2022-03-09T11:59:15.388Z"
   },
   {
    "duration": 45,
    "start_time": "2022-03-09T11:59:15.408Z"
   },
   {
    "duration": 912,
    "start_time": "2022-03-09T11:59:15.461Z"
   },
   {
    "duration": 34,
    "start_time": "2022-03-09T11:59:16.375Z"
   },
   {
    "duration": 5,
    "start_time": "2022-03-09T11:59:16.411Z"
   },
   {
    "duration": 5725,
    "start_time": "2022-03-09T11:59:16.419Z"
   },
   {
    "duration": 9,
    "start_time": "2022-03-09T11:59:22.146Z"
   },
   {
    "duration": 16,
    "start_time": "2022-03-09T11:59:22.157Z"
   },
   {
    "duration": 33,
    "start_time": "2022-03-09T11:59:22.175Z"
   },
   {
    "duration": 30,
    "start_time": "2022-03-09T11:59:22.211Z"
   },
   {
    "duration": 23,
    "start_time": "2022-03-09T11:59:22.244Z"
   },
   {
    "duration": 18,
    "start_time": "2022-03-09T11:59:22.270Z"
   },
   {
    "duration": 28,
    "start_time": "2022-03-09T11:59:22.290Z"
   },
   {
    "duration": 35,
    "start_time": "2022-03-09T11:59:22.320Z"
   },
   {
    "duration": 5,
    "start_time": "2022-03-09T11:59:22.357Z"
   },
   {
    "duration": 40,
    "start_time": "2022-03-09T11:59:22.364Z"
   },
   {
    "duration": 827,
    "start_time": "2022-03-09T11:59:22.406Z"
   },
   {
    "duration": 6,
    "start_time": "2022-03-09T11:59:23.235Z"
   },
   {
    "duration": 30,
    "start_time": "2022-03-09T11:59:23.252Z"
   },
   {
    "duration": 5098,
    "start_time": "2022-03-09T11:59:23.285Z"
   },
   {
    "duration": 4775,
    "start_time": "2022-03-09T12:00:22.982Z"
   },
   {
    "duration": 4862,
    "start_time": "2022-03-09T12:04:46.838Z"
   },
   {
    "duration": 7005,
    "start_time": "2022-03-09T12:05:36.731Z"
   },
   {
    "duration": 4434,
    "start_time": "2022-03-09T12:05:54.018Z"
   },
   {
    "duration": 4874,
    "start_time": "2022-03-09T12:06:27.259Z"
   },
   {
    "duration": 4136,
    "start_time": "2022-03-09T12:06:41.047Z"
   },
   {
    "duration": 5310,
    "start_time": "2022-03-09T12:06:53.719Z"
   },
   {
    "duration": 4644,
    "start_time": "2022-03-09T12:07:59.274Z"
   },
   {
    "duration": 6187,
    "start_time": "2022-03-09T12:08:20.139Z"
   },
   {
    "duration": 6484,
    "start_time": "2022-03-09T12:08:43.537Z"
   },
   {
    "duration": 6438,
    "start_time": "2022-03-09T12:08:58.753Z"
   },
   {
    "duration": 5629,
    "start_time": "2022-03-09T12:09:30.263Z"
   },
   {
    "duration": 4484,
    "start_time": "2022-03-09T12:09:55.647Z"
   },
   {
    "duration": 5066,
    "start_time": "2022-03-09T12:10:14.309Z"
   },
   {
    "duration": 4445,
    "start_time": "2022-03-09T12:22:20.343Z"
   },
   {
    "duration": 4690,
    "start_time": "2022-03-09T12:24:09.219Z"
   },
   {
    "duration": 272,
    "start_time": "2022-03-09T12:25:56.340Z"
   },
   {
    "duration": 125,
    "start_time": "2022-03-09T12:26:32.707Z"
   },
   {
    "duration": 1325,
    "start_time": "2022-03-09T15:44:12.046Z"
   },
   {
    "duration": 27,
    "start_time": "2022-03-09T15:44:13.372Z"
   },
   {
    "duration": 34,
    "start_time": "2022-03-09T15:44:13.401Z"
   },
   {
    "duration": 53,
    "start_time": "2022-03-09T15:44:13.436Z"
   },
   {
    "duration": 33,
    "start_time": "2022-03-09T15:44:13.491Z"
   },
   {
    "duration": 31,
    "start_time": "2022-03-09T15:44:13.525Z"
   },
   {
    "duration": 29,
    "start_time": "2022-03-09T15:44:13.557Z"
   },
   {
    "duration": 16,
    "start_time": "2022-03-09T15:44:13.588Z"
   },
   {
    "duration": 4,
    "start_time": "2022-03-09T15:44:13.606Z"
   },
   {
    "duration": 48,
    "start_time": "2022-03-09T15:44:13.612Z"
   },
   {
    "duration": 5,
    "start_time": "2022-03-09T15:44:13.662Z"
   },
   {
    "duration": 29,
    "start_time": "2022-03-09T15:44:13.668Z"
   },
   {
    "duration": 8,
    "start_time": "2022-03-09T15:44:13.699Z"
   },
   {
    "duration": 5,
    "start_time": "2022-03-09T15:44:13.709Z"
   },
   {
    "duration": 43,
    "start_time": "2022-03-09T15:44:13.716Z"
   },
   {
    "duration": 6,
    "start_time": "2022-03-09T15:44:13.761Z"
   },
   {
    "duration": 8,
    "start_time": "2022-03-09T15:44:13.769Z"
   },
   {
    "duration": 7,
    "start_time": "2022-03-09T15:44:13.778Z"
   },
   {
    "duration": 12,
    "start_time": "2022-03-09T15:44:13.786Z"
   },
   {
    "duration": 4,
    "start_time": "2022-03-09T15:44:13.799Z"
   },
   {
    "duration": 10,
    "start_time": "2022-03-09T15:44:13.804Z"
   },
   {
    "duration": 9,
    "start_time": "2022-03-09T15:44:13.815Z"
   },
   {
    "duration": 418,
    "start_time": "2022-03-09T15:44:13.827Z"
   },
   {
    "duration": 29,
    "start_time": "2022-03-09T15:44:14.247Z"
   },
   {
    "duration": 4,
    "start_time": "2022-03-09T15:44:14.277Z"
   },
   {
    "duration": 4590,
    "start_time": "2022-03-09T15:44:14.282Z"
   },
   {
    "duration": 6,
    "start_time": "2022-03-09T15:44:18.874Z"
   },
   {
    "duration": 5,
    "start_time": "2022-03-09T15:44:18.881Z"
   },
   {
    "duration": 10,
    "start_time": "2022-03-09T15:44:18.888Z"
   },
   {
    "duration": 13,
    "start_time": "2022-03-09T15:44:18.900Z"
   },
   {
    "duration": 13,
    "start_time": "2022-03-09T15:44:18.914Z"
   },
   {
    "duration": 33,
    "start_time": "2022-03-09T15:44:18.928Z"
   },
   {
    "duration": 8,
    "start_time": "2022-03-09T15:44:18.963Z"
   },
   {
    "duration": 22,
    "start_time": "2022-03-09T15:44:18.973Z"
   },
   {
    "duration": 3,
    "start_time": "2022-03-09T15:44:18.997Z"
   },
   {
    "duration": 20,
    "start_time": "2022-03-09T15:44:19.002Z"
   },
   {
    "duration": 2165,
    "start_time": "2022-03-09T15:44:19.024Z"
   },
   {
    "duration": 4,
    "start_time": "2022-03-09T15:44:21.191Z"
   },
   {
    "duration": 37,
    "start_time": "2022-03-09T15:44:21.197Z"
   },
   {
    "duration": 2209,
    "start_time": "2022-03-09T15:44:21.235Z"
   },
   {
    "duration": -827,
    "start_time": "2022-03-09T15:44:24.273Z"
   },
   {
    "duration": 2012,
    "start_time": "2022-03-09T15:44:41.676Z"
   },
   {
    "duration": 2092,
    "start_time": "2022-03-09T15:44:51.144Z"
   },
   {
    "duration": 179,
    "start_time": "2022-03-09T15:52:58.868Z"
   },
   {
    "duration": 2517,
    "start_time": "2022-03-09T15:59:28.722Z"
   },
   {
    "duration": 2676,
    "start_time": "2022-03-09T15:59:49.083Z"
   },
   {
    "duration": 2481,
    "start_time": "2022-03-09T16:02:21.427Z"
   },
   {
    "duration": 89,
    "start_time": "2022-03-09T16:02:29.930Z"
   },
   {
    "duration": 71,
    "start_time": "2022-03-09T16:20:22.536Z"
   },
   {
    "duration": 10,
    "start_time": "2022-03-09T16:20:27.989Z"
   },
   {
    "duration": 9,
    "start_time": "2022-03-09T16:20:55.056Z"
   },
   {
    "duration": 8,
    "start_time": "2022-03-09T16:21:09.603Z"
   },
   {
    "duration": 6,
    "start_time": "2022-03-09T16:21:54.978Z"
   },
   {
    "duration": 1243,
    "start_time": "2022-03-09T16:22:06.715Z"
   },
   {
    "duration": 26,
    "start_time": "2022-03-09T16:22:07.961Z"
   },
   {
    "duration": 34,
    "start_time": "2022-03-09T16:22:07.990Z"
   },
   {
    "duration": 64,
    "start_time": "2022-03-09T16:22:08.026Z"
   },
   {
    "duration": 35,
    "start_time": "2022-03-09T16:22:08.092Z"
   },
   {
    "duration": 37,
    "start_time": "2022-03-09T16:22:08.129Z"
   },
   {
    "duration": 30,
    "start_time": "2022-03-09T16:22:08.167Z"
   },
   {
    "duration": 8,
    "start_time": "2022-03-09T16:22:08.199Z"
   },
   {
    "duration": 6,
    "start_time": "2022-03-09T16:22:08.209Z"
   },
   {
    "duration": 45,
    "start_time": "2022-03-09T16:22:08.217Z"
   },
   {
    "duration": 4,
    "start_time": "2022-03-09T16:22:08.264Z"
   },
   {
    "duration": 28,
    "start_time": "2022-03-09T16:22:08.270Z"
   },
   {
    "duration": 4,
    "start_time": "2022-03-09T16:22:08.300Z"
   },
   {
    "duration": 55,
    "start_time": "2022-03-09T16:22:08.306Z"
   },
   {
    "duration": 9,
    "start_time": "2022-03-09T16:22:08.363Z"
   },
   {
    "duration": 5,
    "start_time": "2022-03-09T16:22:08.374Z"
   },
   {
    "duration": 8,
    "start_time": "2022-03-09T16:22:08.381Z"
   },
   {
    "duration": 5,
    "start_time": "2022-03-09T16:22:08.391Z"
   },
   {
    "duration": 7,
    "start_time": "2022-03-09T16:22:08.398Z"
   },
   {
    "duration": 3,
    "start_time": "2022-03-09T16:22:08.407Z"
   },
   {
    "duration": 48,
    "start_time": "2022-03-09T16:22:08.411Z"
   },
   {
    "duration": 4,
    "start_time": "2022-03-09T16:22:08.461Z"
   },
   {
    "duration": 8,
    "start_time": "2022-03-09T16:22:08.469Z"
   },
   {
    "duration": 6,
    "start_time": "2022-03-09T16:22:08.479Z"
   },
   {
    "duration": 438,
    "start_time": "2022-03-09T16:22:08.487Z"
   },
   {
    "duration": 34,
    "start_time": "2022-03-09T16:22:08.926Z"
   },
   {
    "duration": 4,
    "start_time": "2022-03-09T16:22:08.962Z"
   },
   {
    "duration": 4515,
    "start_time": "2022-03-09T16:22:08.968Z"
   },
   {
    "duration": 7,
    "start_time": "2022-03-09T16:22:13.485Z"
   },
   {
    "duration": 7,
    "start_time": "2022-03-09T16:22:13.495Z"
   },
   {
    "duration": 11,
    "start_time": "2022-03-09T16:22:13.504Z"
   },
   {
    "duration": 43,
    "start_time": "2022-03-09T16:22:13.516Z"
   },
   {
    "duration": 14,
    "start_time": "2022-03-09T16:22:13.561Z"
   },
   {
    "duration": 5,
    "start_time": "2022-03-09T16:22:13.577Z"
   },
   {
    "duration": 8,
    "start_time": "2022-03-09T16:22:13.584Z"
   },
   {
    "duration": 23,
    "start_time": "2022-03-09T16:22:13.594Z"
   },
   {
    "duration": 43,
    "start_time": "2022-03-09T16:22:13.618Z"
   },
   {
    "duration": 22,
    "start_time": "2022-03-09T16:22:13.664Z"
   },
   {
    "duration": 2145,
    "start_time": "2022-03-09T16:22:13.688Z"
   },
   {
    "duration": 5,
    "start_time": "2022-03-09T16:22:15.835Z"
   },
   {
    "duration": 33,
    "start_time": "2022-03-09T16:22:15.842Z"
   },
   {
    "duration": 2653,
    "start_time": "2022-03-09T16:22:15.876Z"
   },
   {
    "duration": 95,
    "start_time": "2022-03-09T16:22:18.530Z"
   },
   {
    "duration": 468,
    "start_time": "2022-03-09T16:28:12.805Z"
   },
   {
    "duration": 1466,
    "start_time": "2022-03-09T16:33:08.348Z"
   },
   {
    "duration": 1487,
    "start_time": "2022-03-09T16:33:29.822Z"
   },
   {
    "duration": 2688,
    "start_time": "2022-03-09T17:11:07.961Z"
   },
   {
    "duration": 3091,
    "start_time": "2022-03-09T17:11:17.169Z"
   },
   {
    "duration": 2851,
    "start_time": "2022-03-09T17:11:59.682Z"
   },
   {
    "duration": 2767,
    "start_time": "2022-03-09T17:12:12.756Z"
   },
   {
    "duration": 529,
    "start_time": "2022-03-09T17:19:17.225Z"
   },
   {
    "duration": 559,
    "start_time": "2022-03-09T17:20:31.447Z"
   },
   {
    "duration": 142,
    "start_time": "2022-03-09T17:21:48.451Z"
   },
   {
    "duration": 529,
    "start_time": "2022-03-09T17:22:17.290Z"
   },
   {
    "duration": 513,
    "start_time": "2022-03-09T17:23:19.326Z"
   },
   {
    "duration": 147,
    "start_time": "2022-03-09T17:23:32.987Z"
   },
   {
    "duration": 499,
    "start_time": "2022-03-09T17:23:50.600Z"
   },
   {
    "duration": 200,
    "start_time": "2022-03-09T17:27:02.343Z"
   },
   {
    "duration": 196,
    "start_time": "2022-03-09T17:29:47.818Z"
   },
   {
    "duration": 9,
    "start_time": "2022-03-09T17:31:18.798Z"
   },
   {
    "duration": 616,
    "start_time": "2022-03-09T17:33:33.852Z"
   },
   {
    "duration": 550,
    "start_time": "2022-03-09T17:34:25.069Z"
   },
   {
    "duration": 307,
    "start_time": "2022-03-09T17:36:20.365Z"
   },
   {
    "duration": 270,
    "start_time": "2022-03-09T17:36:27.868Z"
   },
   {
    "duration": 283,
    "start_time": "2022-03-09T17:36:42.295Z"
   },
   {
    "duration": 60,
    "start_time": "2022-03-09T17:38:49.676Z"
   },
   {
    "duration": 61,
    "start_time": "2022-03-09T17:39:30.863Z"
   },
   {
    "duration": 65,
    "start_time": "2022-03-09T17:39:45.104Z"
   },
   {
    "duration": 73,
    "start_time": "2022-03-09T17:40:07.986Z"
   },
   {
    "duration": 63,
    "start_time": "2022-03-09T17:40:32.993Z"
   },
   {
    "duration": 77,
    "start_time": "2022-03-09T17:41:22.095Z"
   },
   {
    "duration": 270,
    "start_time": "2022-03-09T17:43:19.162Z"
   },
   {
    "duration": 479,
    "start_time": "2022-03-09T17:43:40.806Z"
   },
   {
    "duration": 668,
    "start_time": "2022-03-09T17:44:19.515Z"
   },
   {
    "duration": 571,
    "start_time": "2022-03-09T17:44:29.934Z"
   },
   {
    "duration": 571,
    "start_time": "2022-03-09T17:44:36.640Z"
   },
   {
    "duration": 395,
    "start_time": "2022-03-09T17:44:45.073Z"
   },
   {
    "duration": 410,
    "start_time": "2022-03-09T17:45:05.608Z"
   },
   {
    "duration": 403,
    "start_time": "2022-03-09T17:46:08.195Z"
   },
   {
    "duration": 324,
    "start_time": "2022-03-09T17:46:17.435Z"
   },
   {
    "duration": 510,
    "start_time": "2022-03-09T17:48:36.874Z"
   },
   {
    "duration": 464,
    "start_time": "2022-03-09T17:49:20.737Z"
   },
   {
    "duration": 452,
    "start_time": "2022-03-09T17:50:00.696Z"
   },
   {
    "duration": 62,
    "start_time": "2022-03-09T18:02:55.218Z"
   },
   {
    "duration": 207,
    "start_time": "2022-03-09T18:03:09.684Z"
   },
   {
    "duration": 247,
    "start_time": "2022-03-09T18:04:08.480Z"
   },
   {
    "duration": 211,
    "start_time": "2022-03-09T18:05:00.705Z"
   },
   {
    "duration": 77,
    "start_time": "2022-03-09T18:05:21.211Z"
   },
   {
    "duration": 81,
    "start_time": "2022-03-10T10:16:19.515Z"
   },
   {
    "duration": 312,
    "start_time": "2022-03-10T10:16:36.539Z"
   },
   {
    "duration": 250,
    "start_time": "2022-03-10T10:17:11.695Z"
   },
   {
    "duration": 1280,
    "start_time": "2022-03-10T10:17:37.837Z"
   },
   {
    "duration": 28,
    "start_time": "2022-03-10T10:17:39.119Z"
   },
   {
    "duration": 54,
    "start_time": "2022-03-10T10:17:39.149Z"
   },
   {
    "duration": 37,
    "start_time": "2022-03-10T10:17:39.205Z"
   },
   {
    "duration": 59,
    "start_time": "2022-03-10T10:17:39.243Z"
   },
   {
    "duration": 12,
    "start_time": "2022-03-10T10:17:39.305Z"
   },
   {
    "duration": 32,
    "start_time": "2022-03-10T10:17:39.319Z"
   },
   {
    "duration": 10,
    "start_time": "2022-03-10T10:17:39.379Z"
   },
   {
    "duration": 6,
    "start_time": "2022-03-10T10:17:39.392Z"
   },
   {
    "duration": 19,
    "start_time": "2022-03-10T10:17:39.400Z"
   },
   {
    "duration": 4,
    "start_time": "2022-03-10T10:17:39.421Z"
   },
   {
    "duration": 64,
    "start_time": "2022-03-10T10:17:39.427Z"
   },
   {
    "duration": 4,
    "start_time": "2022-03-10T10:17:39.493Z"
   },
   {
    "duration": 30,
    "start_time": "2022-03-10T10:17:39.499Z"
   },
   {
    "duration": 9,
    "start_time": "2022-03-10T10:17:39.531Z"
   },
   {
    "duration": 36,
    "start_time": "2022-03-10T10:17:39.542Z"
   },
   {
    "duration": 9,
    "start_time": "2022-03-10T10:17:39.579Z"
   },
   {
    "duration": 12,
    "start_time": "2022-03-10T10:17:39.590Z"
   },
   {
    "duration": 9,
    "start_time": "2022-03-10T10:17:39.604Z"
   },
   {
    "duration": 6,
    "start_time": "2022-03-10T10:17:39.614Z"
   },
   {
    "duration": 15,
    "start_time": "2022-03-10T10:17:39.622Z"
   },
   {
    "duration": 4,
    "start_time": "2022-03-10T10:17:39.639Z"
   },
   {
    "duration": 39,
    "start_time": "2022-03-10T10:17:39.648Z"
   },
   {
    "duration": 9,
    "start_time": "2022-03-10T10:17:39.690Z"
   },
   {
    "duration": 441,
    "start_time": "2022-03-10T10:17:39.701Z"
   },
   {
    "duration": 39,
    "start_time": "2022-03-10T10:17:40.144Z"
   },
   {
    "duration": 5,
    "start_time": "2022-03-10T10:17:40.185Z"
   },
   {
    "duration": 4680,
    "start_time": "2022-03-10T10:17:40.192Z"
   },
   {
    "duration": 7,
    "start_time": "2022-03-10T10:17:44.874Z"
   },
   {
    "duration": 7,
    "start_time": "2022-03-10T10:17:44.883Z"
   },
   {
    "duration": 16,
    "start_time": "2022-03-10T10:17:44.892Z"
   },
   {
    "duration": 13,
    "start_time": "2022-03-10T10:17:44.909Z"
   },
   {
    "duration": 13,
    "start_time": "2022-03-10T10:17:44.924Z"
   },
   {
    "duration": 3,
    "start_time": "2022-03-10T10:17:44.939Z"
   },
   {
    "duration": 40,
    "start_time": "2022-03-10T10:17:44.944Z"
   },
   {
    "duration": 24,
    "start_time": "2022-03-10T10:17:44.986Z"
   },
   {
    "duration": 4,
    "start_time": "2022-03-10T10:17:45.012Z"
   },
   {
    "duration": 39,
    "start_time": "2022-03-10T10:17:45.018Z"
   },
   {
    "duration": 2241,
    "start_time": "2022-03-10T10:17:45.059Z"
   },
   {
    "duration": 6,
    "start_time": "2022-03-10T10:17:47.301Z"
   },
   {
    "duration": 30,
    "start_time": "2022-03-10T10:17:47.308Z"
   },
   {
    "duration": 2912,
    "start_time": "2022-03-10T10:17:47.340Z"
   },
   {
    "duration": 97,
    "start_time": "2022-03-10T10:17:50.254Z"
   },
   {
    "duration": 1500,
    "start_time": "2022-03-10T10:17:50.352Z"
   },
   {
    "duration": 8,
    "start_time": "2022-03-10T10:17:51.854Z"
   },
   {
    "duration": 515,
    "start_time": "2022-03-10T10:17:51.864Z"
   },
   {
    "duration": 364,
    "start_time": "2022-03-10T10:17:52.381Z"
   },
   {
    "duration": 279,
    "start_time": "2022-03-10T10:18:32.316Z"
   },
   {
    "duration": 272,
    "start_time": "2022-03-10T10:39:44.430Z"
   },
   {
    "duration": 153,
    "start_time": "2022-03-10T10:41:51.473Z"
   },
   {
    "duration": 273,
    "start_time": "2022-03-10T10:43:49.466Z"
   },
   {
    "duration": 14,
    "start_time": "2022-03-10T10:44:10.275Z"
   },
   {
    "duration": 35,
    "start_time": "2022-03-10T10:44:26.489Z"
   },
   {
    "duration": 91,
    "start_time": "2022-03-10T11:00:09.397Z"
   },
   {
    "duration": 82,
    "start_time": "2022-03-10T11:00:22.670Z"
   },
   {
    "duration": 84,
    "start_time": "2022-03-10T11:01:19.490Z"
   },
   {
    "duration": 84,
    "start_time": "2022-03-10T11:01:39.185Z"
   },
   {
    "duration": 120,
    "start_time": "2022-03-10T11:01:57.168Z"
   },
   {
    "duration": 99,
    "start_time": "2022-03-10T11:04:09.133Z"
   },
   {
    "duration": 94,
    "start_time": "2022-03-10T11:04:53.887Z"
   },
   {
    "duration": 61,
    "start_time": "2022-03-10T11:05:07.434Z"
   },
   {
    "duration": 6367,
    "start_time": "2022-03-10T11:06:28.817Z"
   },
   {
    "duration": 847,
    "start_time": "2022-03-10T11:08:35.651Z"
   },
   {
    "duration": 249,
    "start_time": "2022-03-10T11:10:34.581Z"
   },
   {
    "duration": 1643,
    "start_time": "2022-03-10T13:20:46.949Z"
   },
   {
    "duration": 36,
    "start_time": "2022-03-10T13:20:48.595Z"
   },
   {
    "duration": 51,
    "start_time": "2022-03-10T13:20:48.654Z"
   },
   {
    "duration": 79,
    "start_time": "2022-03-10T13:20:48.707Z"
   },
   {
    "duration": 49,
    "start_time": "2022-03-10T13:20:48.788Z"
   },
   {
    "duration": 12,
    "start_time": "2022-03-10T13:20:48.852Z"
   },
   {
    "duration": 42,
    "start_time": "2022-03-10T13:20:48.867Z"
   },
   {
    "duration": 42,
    "start_time": "2022-03-10T13:20:48.913Z"
   },
   {
    "duration": 7,
    "start_time": "2022-03-10T13:20:48.958Z"
   },
   {
    "duration": 21,
    "start_time": "2022-03-10T13:20:48.968Z"
   },
   {
    "duration": 7,
    "start_time": "2022-03-10T13:20:48.992Z"
   },
   {
    "duration": 81,
    "start_time": "2022-03-10T13:20:49.002Z"
   },
   {
    "duration": 6,
    "start_time": "2022-03-10T13:20:49.085Z"
   },
   {
    "duration": 66,
    "start_time": "2022-03-10T13:20:49.094Z"
   },
   {
    "duration": 12,
    "start_time": "2022-03-10T13:20:49.162Z"
   },
   {
    "duration": 7,
    "start_time": "2022-03-10T13:20:49.177Z"
   },
   {
    "duration": 13,
    "start_time": "2022-03-10T13:20:49.186Z"
   },
   {
    "duration": 7,
    "start_time": "2022-03-10T13:20:49.202Z"
   },
   {
    "duration": 41,
    "start_time": "2022-03-10T13:20:49.211Z"
   },
   {
    "duration": 8,
    "start_time": "2022-03-10T13:20:49.255Z"
   },
   {
    "duration": 13,
    "start_time": "2022-03-10T13:20:49.265Z"
   },
   {
    "duration": 5,
    "start_time": "2022-03-10T13:20:49.283Z"
   },
   {
    "duration": 21,
    "start_time": "2022-03-10T13:20:49.291Z"
   },
   {
    "duration": 36,
    "start_time": "2022-03-10T13:20:49.314Z"
   },
   {
    "duration": 771,
    "start_time": "2022-03-10T13:20:49.352Z"
   },
   {
    "duration": 39,
    "start_time": "2022-03-10T13:20:50.125Z"
   },
   {
    "duration": 5,
    "start_time": "2022-03-10T13:20:50.166Z"
   },
   {
    "duration": 8877,
    "start_time": "2022-03-10T13:20:50.174Z"
   },
   {
    "duration": 9,
    "start_time": "2022-03-10T13:20:59.053Z"
   },
   {
    "duration": 9,
    "start_time": "2022-03-10T13:20:59.064Z"
   },
   {
    "duration": 13,
    "start_time": "2022-03-10T13:20:59.075Z"
   },
   {
    "duration": 16,
    "start_time": "2022-03-10T13:20:59.090Z"
   },
   {
    "duration": 58,
    "start_time": "2022-03-10T13:20:59.108Z"
   },
   {
    "duration": 6,
    "start_time": "2022-03-10T13:20:59.169Z"
   },
   {
    "duration": 14,
    "start_time": "2022-03-10T13:20:59.177Z"
   },
   {
    "duration": 61,
    "start_time": "2022-03-10T13:20:59.193Z"
   },
   {
    "duration": 5,
    "start_time": "2022-03-10T13:20:59.256Z"
   },
   {
    "duration": 32,
    "start_time": "2022-03-10T13:20:59.263Z"
   },
   {
    "duration": 4082,
    "start_time": "2022-03-10T13:20:59.297Z"
   },
   {
    "duration": 6,
    "start_time": "2022-03-10T13:21:03.381Z"
   },
   {
    "duration": 39,
    "start_time": "2022-03-10T13:21:03.389Z"
   },
   {
    "duration": 3522,
    "start_time": "2022-03-10T13:21:03.430Z"
   },
   {
    "duration": 204,
    "start_time": "2022-03-10T13:21:06.955Z"
   },
   {
    "duration": 2477,
    "start_time": "2022-03-10T13:21:07.162Z"
   },
   {
    "duration": 11,
    "start_time": "2022-03-10T13:21:09.641Z"
   },
   {
    "duration": 616,
    "start_time": "2022-03-10T13:21:09.654Z"
   },
   {
    "duration": 344,
    "start_time": "2022-03-10T13:21:10.272Z"
   },
   {
    "duration": 366,
    "start_time": "2022-03-10T13:21:41.387Z"
   },
   {
    "duration": 724,
    "start_time": "2022-03-10T13:22:33.152Z"
   },
   {
    "duration": 318,
    "start_time": "2022-03-10T13:23:01.233Z"
   },
   {
    "duration": 3903,
    "start_time": "2022-03-10T13:25:55.524Z"
   },
   {
    "duration": 4076,
    "start_time": "2022-03-10T13:26:14.003Z"
   },
   {
    "duration": 3266,
    "start_time": "2022-03-10T13:36:38.400Z"
   },
   {
    "duration": 2760,
    "start_time": "2022-03-10T13:37:34.129Z"
   },
   {
    "duration": 2686,
    "start_time": "2022-03-10T13:38:10.037Z"
   },
   {
    "duration": 2589,
    "start_time": "2022-03-10T13:39:58.423Z"
   },
   {
    "duration": 2526,
    "start_time": "2022-03-10T13:40:34.428Z"
   },
   {
    "duration": 2345,
    "start_time": "2022-03-10T13:41:06.266Z"
   },
   {
    "duration": 416,
    "start_time": "2022-03-10T13:43:08.850Z"
   },
   {
    "duration": 2618,
    "start_time": "2022-03-10T13:43:40.991Z"
   },
   {
    "duration": 2550,
    "start_time": "2022-03-10T13:44:51.783Z"
   },
   {
    "duration": 2590,
    "start_time": "2022-03-10T13:46:01.748Z"
   },
   {
    "duration": 503,
    "start_time": "2022-03-10T13:46:32.155Z"
   },
   {
    "duration": 412,
    "start_time": "2022-03-10T13:46:45.872Z"
   },
   {
    "duration": 397,
    "start_time": "2022-03-10T13:46:59.135Z"
   },
   {
    "duration": 402,
    "start_time": "2022-03-10T13:47:13.288Z"
   },
   {
    "duration": 501,
    "start_time": "2022-03-10T13:47:27.444Z"
   },
   {
    "duration": 343,
    "start_time": "2022-03-10T13:47:43.917Z"
   },
   {
    "duration": 401,
    "start_time": "2022-03-10T13:47:50.358Z"
   },
   {
    "duration": 385,
    "start_time": "2022-03-10T13:48:18.460Z"
   },
   {
    "duration": 378,
    "start_time": "2022-03-10T13:48:25.646Z"
   },
   {
    "duration": 335,
    "start_time": "2022-03-10T13:48:40.564Z"
   },
   {
    "duration": 379,
    "start_time": "2022-03-10T13:48:46.310Z"
   },
   {
    "duration": 361,
    "start_time": "2022-03-10T13:48:54.283Z"
   },
   {
    "duration": 502,
    "start_time": "2022-03-10T13:49:03.549Z"
   },
   {
    "duration": 371,
    "start_time": "2022-03-10T13:49:09.684Z"
   },
   {
    "duration": 368,
    "start_time": "2022-03-10T13:49:15.400Z"
   },
   {
    "duration": 79,
    "start_time": "2022-03-10T14:13:13.647Z"
   },
   {
    "duration": 7,
    "start_time": "2022-03-10T14:13:23.775Z"
   },
   {
    "duration": 84,
    "start_time": "2022-03-10T14:14:22.133Z"
   },
   {
    "duration": 6,
    "start_time": "2022-03-10T14:14:34.414Z"
   },
   {
    "duration": 1298,
    "start_time": "2022-03-10T14:19:09.348Z"
   },
   {
    "duration": 11,
    "start_time": "2022-03-10T14:19:31.681Z"
   },
   {
    "duration": 14,
    "start_time": "2022-03-10T14:53:20.524Z"
   },
   {
    "duration": 13,
    "start_time": "2022-03-10T15:04:50.018Z"
   },
   {
    "duration": 12,
    "start_time": "2022-03-10T15:05:45.610Z"
   },
   {
    "duration": 84,
    "start_time": "2022-03-10T15:52:50.091Z"
   },
   {
    "duration": 3997,
    "start_time": "2022-03-10T15:52:57.722Z"
   },
   {
    "duration": 4127,
    "start_time": "2022-03-10T15:53:08.284Z"
   },
   {
    "duration": 74,
    "start_time": "2022-03-10T15:56:06.079Z"
   },
   {
    "duration": 92,
    "start_time": "2022-03-10T15:57:00.612Z"
   },
   {
    "duration": 95,
    "start_time": "2022-03-10T15:57:12.985Z"
   },
   {
    "duration": 79,
    "start_time": "2022-03-10T15:57:22.539Z"
   },
   {
    "duration": 247,
    "start_time": "2022-03-10T16:00:47.557Z"
   },
   {
    "duration": 261,
    "start_time": "2022-03-10T16:01:56.610Z"
   },
   {
    "duration": 233,
    "start_time": "2022-03-10T16:06:32.063Z"
   },
   {
    "duration": 230,
    "start_time": "2022-03-10T16:07:03.509Z"
   },
   {
    "duration": 330,
    "start_time": "2022-03-10T16:07:04.883Z"
   },
   {
    "duration": 246,
    "start_time": "2022-03-10T16:07:05.965Z"
   },
   {
    "duration": 230,
    "start_time": "2022-03-10T16:07:12.338Z"
   },
   {
    "duration": 228,
    "start_time": "2022-03-10T16:08:07.699Z"
   },
   {
    "duration": 229,
    "start_time": "2022-03-10T16:08:08.589Z"
   },
   {
    "duration": 242,
    "start_time": "2022-03-10T16:09:21.584Z"
   },
   {
    "duration": 240,
    "start_time": "2022-03-10T16:10:52.519Z"
   },
   {
    "duration": 267,
    "start_time": "2022-03-10T16:12:02.904Z"
   },
   {
    "duration": 259,
    "start_time": "2022-03-10T16:12:26.721Z"
   },
   {
    "duration": 263,
    "start_time": "2022-03-10T16:54:37.478Z"
   },
   {
    "duration": 82,
    "start_time": "2022-03-10T17:02:09.623Z"
   },
   {
    "duration": 3184,
    "start_time": "2022-03-10T17:02:22.095Z"
   },
   {
    "duration": 545,
    "start_time": "2022-03-10T17:04:16.869Z"
   },
   {
    "duration": 1330,
    "start_time": "2022-03-10T17:05:34.841Z"
   },
   {
    "duration": 1511,
    "start_time": "2022-03-10T17:07:02.613Z"
   },
   {
    "duration": 257,
    "start_time": "2022-03-10T17:46:46.670Z"
   },
   {
    "duration": 11,
    "start_time": "2022-03-10T17:49:16.540Z"
   },
   {
    "duration": 10,
    "start_time": "2022-03-10T17:49:32.193Z"
   },
   {
    "duration": 9,
    "start_time": "2022-03-10T17:49:53.177Z"
   },
   {
    "duration": 9,
    "start_time": "2022-03-10T17:50:05.581Z"
   },
   {
    "duration": 94,
    "start_time": "2022-03-10T17:56:22.985Z"
   },
   {
    "duration": 11,
    "start_time": "2022-03-10T17:56:29.167Z"
   },
   {
    "duration": 8,
    "start_time": "2022-03-10T17:56:38.598Z"
   },
   {
    "duration": 9,
    "start_time": "2022-03-10T17:56:59.461Z"
   },
   {
    "duration": 9,
    "start_time": "2022-03-10T17:57:07.204Z"
   },
   {
    "duration": 301,
    "start_time": "2022-03-10T17:58:30.714Z"
   },
   {
    "duration": 263,
    "start_time": "2022-03-10T18:02:23.081Z"
   },
   {
    "duration": 252,
    "start_time": "2022-03-10T18:02:31.666Z"
   },
   {
    "duration": 252,
    "start_time": "2022-03-10T18:02:47.726Z"
   },
   {
    "duration": 317,
    "start_time": "2022-03-10T18:05:29.447Z"
   },
   {
    "duration": 19,
    "start_time": "2022-03-10T18:06:24.960Z"
   },
   {
    "duration": 19,
    "start_time": "2022-03-10T18:06:34.803Z"
   },
   {
    "duration": 17,
    "start_time": "2022-03-10T18:06:51.643Z"
   },
   {
    "duration": 17,
    "start_time": "2022-03-10T18:08:33.494Z"
   },
   {
    "duration": 18,
    "start_time": "2022-03-10T18:08:44.179Z"
   },
   {
    "duration": 10,
    "start_time": "2022-03-10T18:09:03.140Z"
   },
   {
    "duration": 24,
    "start_time": "2022-03-10T18:09:03.972Z"
   },
   {
    "duration": 26,
    "start_time": "2022-03-10T18:09:51.388Z"
   },
   {
    "duration": 300,
    "start_time": "2022-03-10T18:10:29.571Z"
   },
   {
    "duration": 247,
    "start_time": "2022-03-10T18:11:13.173Z"
   },
   {
    "duration": 23,
    "start_time": "2022-03-10T18:11:27.617Z"
   },
   {
    "duration": 9,
    "start_time": "2022-03-10T18:36:43.050Z"
   },
   {
    "duration": 31,
    "start_time": "2022-03-10T18:40:34.837Z"
   },
   {
    "duration": 5,
    "start_time": "2022-03-10T18:40:42.923Z"
   },
   {
    "duration": 25,
    "start_time": "2022-03-10T18:41:10.142Z"
   },
   {
    "duration": 26,
    "start_time": "2022-03-10T18:42:01.569Z"
   },
   {
    "duration": 21,
    "start_time": "2022-03-10T18:42:18.134Z"
   },
   {
    "duration": 6240,
    "start_time": "2022-03-10T18:48:02.924Z"
   },
   {
    "duration": 5946,
    "start_time": "2022-03-10T18:48:23.069Z"
   },
   {
    "duration": 564,
    "start_time": "2022-03-10T18:48:50.056Z"
   },
   {
    "duration": 357,
    "start_time": "2022-03-10T18:53:24.950Z"
   },
   {
    "duration": 381,
    "start_time": "2022-03-10T18:53:38.594Z"
   },
   {
    "duration": 111,
    "start_time": "2022-03-10T18:59:43.734Z"
   },
   {
    "duration": 1236,
    "start_time": "2022-03-11T07:09:43.740Z"
   },
   {
    "duration": 25,
    "start_time": "2022-03-11T07:09:44.978Z"
   },
   {
    "duration": 47,
    "start_time": "2022-03-11T07:09:45.005Z"
   },
   {
    "duration": 30,
    "start_time": "2022-03-11T07:09:45.053Z"
   },
   {
    "duration": 33,
    "start_time": "2022-03-11T07:09:45.085Z"
   },
   {
    "duration": 9,
    "start_time": "2022-03-11T07:09:45.119Z"
   },
   {
    "duration": 25,
    "start_time": "2022-03-11T07:09:45.130Z"
   },
   {
    "duration": 7,
    "start_time": "2022-03-11T07:09:45.157Z"
   },
   {
    "duration": 6,
    "start_time": "2022-03-11T07:09:45.165Z"
   },
   {
    "duration": 40,
    "start_time": "2022-03-11T07:09:45.173Z"
   },
   {
    "duration": 3,
    "start_time": "2022-03-11T07:09:45.215Z"
   },
   {
    "duration": 28,
    "start_time": "2022-03-11T07:09:45.219Z"
   },
   {
    "duration": 4,
    "start_time": "2022-03-11T07:09:45.248Z"
   },
   {
    "duration": 50,
    "start_time": "2022-03-11T07:09:45.254Z"
   },
   {
    "duration": 7,
    "start_time": "2022-03-11T07:09:45.306Z"
   },
   {
    "duration": 5,
    "start_time": "2022-03-11T07:09:45.315Z"
   },
   {
    "duration": 10,
    "start_time": "2022-03-11T07:09:45.321Z"
   },
   {
    "duration": 5,
    "start_time": "2022-03-11T07:09:45.332Z"
   },
   {
    "duration": 10,
    "start_time": "2022-03-11T07:09:45.338Z"
   },
   {
    "duration": 7,
    "start_time": "2022-03-11T07:09:45.349Z"
   },
   {
    "duration": 14,
    "start_time": "2022-03-11T07:09:45.357Z"
   },
   {
    "duration": 29,
    "start_time": "2022-03-11T07:09:45.372Z"
   },
   {
    "duration": 8,
    "start_time": "2022-03-11T07:09:45.405Z"
   },
   {
    "duration": 6,
    "start_time": "2022-03-11T07:09:45.416Z"
   },
   {
    "duration": 405,
    "start_time": "2022-03-11T07:09:45.424Z"
   },
   {
    "duration": 18,
    "start_time": "2022-03-11T07:09:45.830Z"
   },
   {
    "duration": 3,
    "start_time": "2022-03-11T07:09:45.849Z"
   },
   {
    "duration": 3974,
    "start_time": "2022-03-11T07:09:45.854Z"
   },
   {
    "duration": 5,
    "start_time": "2022-03-11T07:09:49.830Z"
   },
   {
    "duration": 5,
    "start_time": "2022-03-11T07:09:49.837Z"
   },
   {
    "duration": 10,
    "start_time": "2022-03-11T07:09:49.844Z"
   },
   {
    "duration": 12,
    "start_time": "2022-03-11T07:09:49.856Z"
   },
   {
    "duration": 36,
    "start_time": "2022-03-11T07:09:49.870Z"
   },
   {
    "duration": 3,
    "start_time": "2022-03-11T07:09:49.908Z"
   },
   {
    "duration": 8,
    "start_time": "2022-03-11T07:09:49.913Z"
   },
   {
    "duration": 20,
    "start_time": "2022-03-11T07:09:49.922Z"
   },
   {
    "duration": 4,
    "start_time": "2022-03-11T07:09:49.943Z"
   },
   {
    "duration": 22,
    "start_time": "2022-03-11T07:09:49.948Z"
   },
   {
    "duration": 1868,
    "start_time": "2022-03-11T07:09:49.971Z"
   },
   {
    "duration": 6,
    "start_time": "2022-03-11T07:09:51.840Z"
   },
   {
    "duration": 22,
    "start_time": "2022-03-11T07:09:51.847Z"
   },
   {
    "duration": 2549,
    "start_time": "2022-03-11T07:09:51.871Z"
   },
   {
    "duration": 82,
    "start_time": "2022-03-11T07:09:54.422Z"
   },
   {
    "duration": 1151,
    "start_time": "2022-03-11T07:09:54.506Z"
   },
   {
    "duration": 44,
    "start_time": "2022-03-11T07:09:55.659Z"
   },
   {
    "duration": 403,
    "start_time": "2022-03-11T07:09:55.705Z"
   },
   {
    "duration": 219,
    "start_time": "2022-03-11T07:09:56.109Z"
   },
   {
    "duration": 300,
    "start_time": "2022-03-11T07:09:56.330Z"
   },
   {
    "duration": 239,
    "start_time": "2022-03-11T07:09:56.632Z"
   },
   {
    "duration": 228,
    "start_time": "2022-03-11T07:09:56.873Z"
   },
   {
    "duration": 226,
    "start_time": "2022-03-11T07:09:57.102Z"
   },
   {
    "duration": 232,
    "start_time": "2022-03-11T07:09:57.329Z"
   },
   {
    "duration": 9,
    "start_time": "2022-03-11T07:09:57.562Z"
   },
   {
    "duration": 147,
    "start_time": "2022-03-11T07:09:57.572Z"
   },
   {
    "duration": 142,
    "start_time": "2022-03-11T07:09:57.720Z"
   },
   {
    "duration": 730,
    "start_time": "2022-03-11T07:09:57.864Z"
   },
   {
    "duration": 7,
    "start_time": "2022-03-11T07:09:58.596Z"
   },
   {
    "duration": 19,
    "start_time": "2022-03-11T07:09:58.604Z"
   },
   {
    "duration": 4,
    "start_time": "2022-03-11T07:09:58.625Z"
   },
   {
    "duration": 389,
    "start_time": "2022-03-11T07:09:58.630Z"
   },
   {
    "duration": -59,
    "start_time": "2022-03-11T07:09:59.080Z"
   },
   {
    "duration": -60,
    "start_time": "2022-03-11T07:09:59.082Z"
   },
   {
    "duration": -60,
    "start_time": "2022-03-11T07:09:59.084Z"
   },
   {
    "duration": -61,
    "start_time": "2022-03-11T07:09:59.086Z"
   },
   {
    "duration": 1248,
    "start_time": "2022-03-11T07:10:31.919Z"
   },
   {
    "duration": 23,
    "start_time": "2022-03-11T07:10:33.169Z"
   },
   {
    "duration": 29,
    "start_time": "2022-03-11T07:10:33.202Z"
   },
   {
    "duration": 31,
    "start_time": "2022-03-11T07:10:33.233Z"
   },
   {
    "duration": 50,
    "start_time": "2022-03-11T07:10:33.265Z"
   },
   {
    "duration": 9,
    "start_time": "2022-03-11T07:10:33.316Z"
   },
   {
    "duration": 26,
    "start_time": "2022-03-11T07:10:33.326Z"
   },
   {
    "duration": 7,
    "start_time": "2022-03-11T07:10:33.354Z"
   },
   {
    "duration": 5,
    "start_time": "2022-03-11T07:10:33.362Z"
   },
   {
    "duration": 43,
    "start_time": "2022-03-11T07:10:33.368Z"
   },
   {
    "duration": 3,
    "start_time": "2022-03-11T07:10:33.413Z"
   },
   {
    "duration": 25,
    "start_time": "2022-03-11T07:10:33.417Z"
   },
   {
    "duration": 4,
    "start_time": "2022-03-11T07:10:33.443Z"
   },
   {
    "duration": 26,
    "start_time": "2022-03-11T07:10:33.449Z"
   },
   {
    "duration": 10,
    "start_time": "2022-03-11T07:10:33.501Z"
   },
   {
    "duration": 6,
    "start_time": "2022-03-11T07:10:33.513Z"
   },
   {
    "duration": 9,
    "start_time": "2022-03-11T07:10:33.521Z"
   },
   {
    "duration": 7,
    "start_time": "2022-03-11T07:10:33.531Z"
   },
   {
    "duration": 8,
    "start_time": "2022-03-11T07:10:33.539Z"
   },
   {
    "duration": 5,
    "start_time": "2022-03-11T07:10:33.549Z"
   },
   {
    "duration": 45,
    "start_time": "2022-03-11T07:10:33.556Z"
   },
   {
    "duration": 6,
    "start_time": "2022-03-11T07:10:33.603Z"
   },
   {
    "duration": 7,
    "start_time": "2022-03-11T07:10:33.612Z"
   },
   {
    "duration": 7,
    "start_time": "2022-03-11T07:10:33.621Z"
   },
   {
    "duration": 375,
    "start_time": "2022-03-11T07:10:33.629Z"
   },
   {
    "duration": 19,
    "start_time": "2022-03-11T07:10:34.006Z"
   },
   {
    "duration": 4,
    "start_time": "2022-03-11T07:10:34.027Z"
   },
   {
    "duration": 3960,
    "start_time": "2022-03-11T07:10:34.032Z"
   },
   {
    "duration": 10,
    "start_time": "2022-03-11T07:10:37.994Z"
   },
   {
    "duration": 34,
    "start_time": "2022-03-11T07:10:38.006Z"
   },
   {
    "duration": 34,
    "start_time": "2022-03-11T07:10:38.041Z"
   },
   {
    "duration": 34,
    "start_time": "2022-03-11T07:10:38.077Z"
   },
   {
    "duration": 29,
    "start_time": "2022-03-11T07:10:38.112Z"
   },
   {
    "duration": 27,
    "start_time": "2022-03-11T07:10:38.143Z"
   },
   {
    "duration": 27,
    "start_time": "2022-03-11T07:10:38.172Z"
   },
   {
    "duration": 56,
    "start_time": "2022-03-11T07:10:38.201Z"
   },
   {
    "duration": 19,
    "start_time": "2022-03-11T07:10:38.259Z"
   },
   {
    "duration": 46,
    "start_time": "2022-03-11T07:10:38.279Z"
   },
   {
    "duration": 1854,
    "start_time": "2022-03-11T07:10:38.327Z"
   },
   {
    "duration": 5,
    "start_time": "2022-03-11T07:10:40.183Z"
   },
   {
    "duration": 29,
    "start_time": "2022-03-11T07:10:40.189Z"
   },
   {
    "duration": 2626,
    "start_time": "2022-03-11T07:10:40.219Z"
   },
   {
    "duration": 88,
    "start_time": "2022-03-11T07:10:42.847Z"
   },
   {
    "duration": 1334,
    "start_time": "2022-03-11T07:10:42.936Z"
   },
   {
    "duration": 9,
    "start_time": "2022-03-11T07:10:44.272Z"
   },
   {
    "duration": 472,
    "start_time": "2022-03-11T07:10:44.283Z"
   },
   {
    "duration": 229,
    "start_time": "2022-03-11T07:10:44.758Z"
   },
   {
    "duration": 306,
    "start_time": "2022-03-11T07:10:44.989Z"
   },
   {
    "duration": 237,
    "start_time": "2022-03-11T07:10:45.301Z"
   },
   {
    "duration": 221,
    "start_time": "2022-03-11T07:10:45.540Z"
   },
   {
    "duration": 233,
    "start_time": "2022-03-11T07:10:45.763Z"
   },
   {
    "duration": 240,
    "start_time": "2022-03-11T07:10:45.997Z"
   },
   {
    "duration": 9,
    "start_time": "2022-03-11T07:10:46.239Z"
   },
   {
    "duration": 152,
    "start_time": "2022-03-11T07:10:46.249Z"
   },
   {
    "duration": 142,
    "start_time": "2022-03-11T07:10:46.403Z"
   },
   {
    "duration": 737,
    "start_time": "2022-03-11T07:10:46.547Z"
   },
   {
    "duration": 6,
    "start_time": "2022-03-11T07:10:47.286Z"
   },
   {
    "duration": 19,
    "start_time": "2022-03-11T07:10:47.301Z"
   },
   {
    "duration": 4,
    "start_time": "2022-03-11T07:10:47.322Z"
   },
   {
    "duration": 395,
    "start_time": "2022-03-11T07:10:47.328Z"
   },
   {
    "duration": -77,
    "start_time": "2022-03-11T07:10:47.802Z"
   },
   {
    "duration": -78,
    "start_time": "2022-03-11T07:10:47.804Z"
   },
   {
    "duration": -79,
    "start_time": "2022-03-11T07:10:47.806Z"
   },
   {
    "duration": -79,
    "start_time": "2022-03-11T07:10:47.807Z"
   },
   {
    "duration": 67,
    "start_time": "2022-03-11T07:11:18.447Z"
   },
   {
    "duration": 111,
    "start_time": "2022-03-11T07:11:39.763Z"
   },
   {
    "duration": 332,
    "start_time": "2022-03-11T07:13:52.295Z"
   },
   {
    "duration": 16,
    "start_time": "2022-03-11T07:15:14.637Z"
   },
   {
    "duration": 220,
    "start_time": "2022-03-11T07:15:26.378Z"
   },
   {
    "duration": 137,
    "start_time": "2022-03-11T07:15:32.815Z"
   },
   {
    "duration": 243,
    "start_time": "2022-03-11T07:16:19.405Z"
   },
   {
    "duration": 234,
    "start_time": "2022-03-11T07:16:31.037Z"
   },
   {
    "duration": 264,
    "start_time": "2022-03-11T07:17:36.093Z"
   },
   {
    "duration": 710,
    "start_time": "2022-03-11T07:20:09.960Z"
   },
   {
    "duration": 396,
    "start_time": "2022-03-11T07:20:31.868Z"
   },
   {
    "duration": 408,
    "start_time": "2022-03-11T07:21:24.060Z"
   },
   {
    "duration": 420,
    "start_time": "2022-03-11T07:23:15.459Z"
   },
   {
    "duration": 405,
    "start_time": "2022-03-11T07:23:41.685Z"
   },
   {
    "duration": 350,
    "start_time": "2022-03-11T07:41:34.125Z"
   },
   {
    "duration": 293,
    "start_time": "2022-03-11T07:43:07.461Z"
   },
   {
    "duration": 64,
    "start_time": "2022-03-11T07:43:15.366Z"
   },
   {
    "duration": 377,
    "start_time": "2022-03-11T07:46:04.190Z"
   },
   {
    "duration": 376,
    "start_time": "2022-03-11T07:48:40.992Z"
   },
   {
    "duration": 317,
    "start_time": "2022-03-11T07:49:30.231Z"
   },
   {
    "duration": 203,
    "start_time": "2022-03-11T07:49:42.928Z"
   },
   {
    "duration": 389,
    "start_time": "2022-03-11T07:51:37.171Z"
   },
   {
    "duration": 379,
    "start_time": "2022-03-11T07:52:15.252Z"
   },
   {
    "duration": 316,
    "start_time": "2022-03-11T07:52:25.050Z"
   },
   {
    "duration": 377,
    "start_time": "2022-03-11T07:53:16.781Z"
   },
   {
    "duration": 394,
    "start_time": "2022-03-11T07:53:46.775Z"
   },
   {
    "duration": 337,
    "start_time": "2022-03-11T07:56:37.802Z"
   },
   {
    "duration": 293,
    "start_time": "2022-03-11T08:09:15.502Z"
   },
   {
    "duration": 389,
    "start_time": "2022-03-11T08:10:52.261Z"
   },
   {
    "duration": 145,
    "start_time": "2022-03-11T08:17:11.134Z"
   },
   {
    "duration": 319,
    "start_time": "2022-03-11T10:10:55.958Z"
   },
   {
    "duration": 1748,
    "start_time": "2022-03-11T13:43:29.468Z"
   },
   {
    "duration": 44,
    "start_time": "2022-03-11T13:43:31.219Z"
   },
   {
    "duration": 81,
    "start_time": "2022-03-11T13:43:31.270Z"
   },
   {
    "duration": 55,
    "start_time": "2022-03-11T13:43:31.353Z"
   },
   {
    "duration": 78,
    "start_time": "2022-03-11T13:43:31.410Z"
   },
   {
    "duration": 21,
    "start_time": "2022-03-11T13:43:31.491Z"
   },
   {
    "duration": 45,
    "start_time": "2022-03-11T13:43:31.534Z"
   },
   {
    "duration": 13,
    "start_time": "2022-03-11T13:43:31.584Z"
   },
   {
    "duration": 36,
    "start_time": "2022-03-11T13:43:31.600Z"
   },
   {
    "duration": 21,
    "start_time": "2022-03-11T13:43:31.639Z"
   },
   {
    "duration": 5,
    "start_time": "2022-03-11T13:43:31.663Z"
   },
   {
    "duration": 66,
    "start_time": "2022-03-11T13:43:31.670Z"
   },
   {
    "duration": 42,
    "start_time": "2022-03-11T13:43:31.739Z"
   },
   {
    "duration": 12,
    "start_time": "2022-03-11T13:43:31.784Z"
   },
   {
    "duration": 36,
    "start_time": "2022-03-11T13:43:31.799Z"
   },
   {
    "duration": 12,
    "start_time": "2022-03-11T13:43:31.837Z"
   },
   {
    "duration": 7,
    "start_time": "2022-03-11T13:43:31.852Z"
   },
   {
    "duration": 12,
    "start_time": "2022-03-11T13:43:31.861Z"
   },
   {
    "duration": 12,
    "start_time": "2022-03-11T13:43:31.875Z"
   },
   {
    "duration": 46,
    "start_time": "2022-03-11T13:43:31.889Z"
   },
   {
    "duration": 6,
    "start_time": "2022-03-11T13:43:31.938Z"
   },
   {
    "duration": 12,
    "start_time": "2022-03-11T13:43:31.946Z"
   },
   {
    "duration": 10,
    "start_time": "2022-03-11T13:43:31.960Z"
   },
   {
    "duration": 739,
    "start_time": "2022-03-11T13:43:31.972Z"
   },
   {
    "duration": 34,
    "start_time": "2022-03-11T13:43:32.713Z"
   },
   {
    "duration": 6,
    "start_time": "2022-03-11T13:43:32.753Z"
   },
   {
    "duration": 8649,
    "start_time": "2022-03-11T13:43:32.763Z"
   },
   {
    "duration": 9,
    "start_time": "2022-03-11T13:43:41.414Z"
   },
   {
    "duration": 7,
    "start_time": "2022-03-11T13:43:41.434Z"
   },
   {
    "duration": 14,
    "start_time": "2022-03-11T13:43:41.444Z"
   },
   {
    "duration": 18,
    "start_time": "2022-03-11T13:43:41.460Z"
   },
   {
    "duration": 58,
    "start_time": "2022-03-11T13:43:41.480Z"
   },
   {
    "duration": 6,
    "start_time": "2022-03-11T13:43:41.540Z"
   },
   {
    "duration": 11,
    "start_time": "2022-03-11T13:43:41.548Z"
   },
   {
    "duration": 31,
    "start_time": "2022-03-11T13:43:41.562Z"
   },
   {
    "duration": 5,
    "start_time": "2022-03-11T13:43:41.595Z"
   },
   {
    "duration": 29,
    "start_time": "2022-03-11T13:43:41.633Z"
   },
   {
    "duration": 4191,
    "start_time": "2022-03-11T13:43:41.665Z"
   },
   {
    "duration": 7,
    "start_time": "2022-03-11T13:43:45.858Z"
   },
   {
    "duration": 37,
    "start_time": "2022-03-11T13:43:45.867Z"
   },
   {
    "duration": 3517,
    "start_time": "2022-03-11T13:43:45.906Z"
   },
   {
    "duration": 132,
    "start_time": "2022-03-11T13:43:49.433Z"
   },
   {
    "duration": 1887,
    "start_time": "2022-03-11T13:43:49.567Z"
   },
   {
    "duration": 10,
    "start_time": "2022-03-11T13:43:51.457Z"
   },
   {
    "duration": 692,
    "start_time": "2022-03-11T13:43:51.470Z"
   },
   {
    "duration": 430,
    "start_time": "2022-03-11T13:43:52.164Z"
   },
   {
    "duration": 539,
    "start_time": "2022-03-11T13:43:52.597Z"
   },
   {
    "duration": 433,
    "start_time": "2022-03-11T13:43:53.138Z"
   },
   {
    "duration": 398,
    "start_time": "2022-03-11T13:43:53.574Z"
   },
   {
    "duration": 420,
    "start_time": "2022-03-11T13:43:53.975Z"
   },
   {
    "duration": 415,
    "start_time": "2022-03-11T13:43:54.397Z"
   },
   {
    "duration": 24,
    "start_time": "2022-03-11T13:43:54.814Z"
   },
   {
    "duration": 258,
    "start_time": "2022-03-11T13:43:54.841Z"
   },
   {
    "duration": 258,
    "start_time": "2022-03-11T13:43:55.102Z"
   },
   {
    "duration": 1399,
    "start_time": "2022-03-11T13:43:55.363Z"
   },
   {
    "duration": 9,
    "start_time": "2022-03-11T13:43:56.765Z"
   },
   {
    "duration": 30,
    "start_time": "2022-03-11T13:43:56.776Z"
   },
   {
    "duration": 6,
    "start_time": "2022-03-11T13:43:56.832Z"
   },
   {
    "duration": 25,
    "start_time": "2022-03-11T13:43:56.841Z"
   },
   {
    "duration": 427,
    "start_time": "2022-03-11T13:43:56.868Z"
   },
   {
    "duration": 217,
    "start_time": "2022-03-11T13:43:57.297Z"
   },
   {
    "duration": 576,
    "start_time": "2022-03-11T13:43:57.517Z"
   },
   {
    "duration": 602,
    "start_time": "2022-03-11T13:43:58.095Z"
   },
   {
    "duration": 601,
    "start_time": "2022-03-11T13:43:58.699Z"
   },
   {
    "duration": 556,
    "start_time": "2022-03-11T13:43:59.303Z"
   },
   {
    "duration": 643,
    "start_time": "2022-03-11T13:43:59.861Z"
   },
   {
    "duration": 629,
    "start_time": "2022-03-11T13:44:00.507Z"
   },
   {
    "duration": 284,
    "start_time": "2022-03-11T13:44:01.139Z"
   },
   {
    "duration": 13,
    "start_time": "2022-03-11T14:09:01.428Z"
   },
   {
    "duration": 13,
    "start_time": "2022-03-11T14:09:11.400Z"
   },
   {
    "duration": 6,
    "start_time": "2022-03-11T14:15:21.838Z"
   },
   {
    "duration": 7,
    "start_time": "2022-03-11T14:15:27.627Z"
   },
   {
    "duration": 20,
    "start_time": "2022-03-11T14:25:20.118Z"
   },
   {
    "duration": 11,
    "start_time": "2022-03-11T14:35:31.752Z"
   },
   {
    "duration": 654,
    "start_time": "2022-03-11T14:36:27.378Z"
   },
   {
    "duration": 11,
    "start_time": "2022-03-11T14:51:36.526Z"
   },
   {
    "duration": 1459,
    "start_time": "2022-03-11T15:36:57.493Z"
   },
   {
    "duration": 386,
    "start_time": "2022-03-11T15:40:24.580Z"
   },
   {
    "duration": 177,
    "start_time": "2022-03-11T15:42:52.576Z"
   },
   {
    "duration": 39,
    "start_time": "2022-03-11T15:49:51.732Z"
   },
   {
    "duration": 1696,
    "start_time": "2022-03-11T16:46:51.120Z"
   },
   {
    "duration": 38,
    "start_time": "2022-03-11T16:47:00.604Z"
   },
   {
    "duration": 53,
    "start_time": "2022-03-11T16:47:09.754Z"
   },
   {
    "duration": 57,
    "start_time": "2022-03-11T16:47:48.863Z"
   },
   {
    "duration": 53,
    "start_time": "2022-03-11T16:47:57.033Z"
   },
   {
    "duration": 17,
    "start_time": "2022-03-11T16:48:02.786Z"
   },
   {
    "duration": 43,
    "start_time": "2022-03-11T16:50:02.201Z"
   },
   {
    "duration": 11,
    "start_time": "2022-03-11T16:50:08.178Z"
   },
   {
    "duration": 8,
    "start_time": "2022-03-11T16:50:16.671Z"
   },
   {
    "duration": 21,
    "start_time": "2022-03-11T16:50:20.591Z"
   },
   {
    "duration": 7,
    "start_time": "2022-03-11T16:50:28.982Z"
   },
   {
    "duration": 40,
    "start_time": "2022-03-11T16:50:31.964Z"
   },
   {
    "duration": 41,
    "start_time": "2022-03-11T16:50:35.070Z"
   },
   {
    "duration": 13,
    "start_time": "2022-03-11T16:51:04.268Z"
   },
   {
    "duration": 8,
    "start_time": "2022-03-11T16:51:08.008Z"
   },
   {
    "duration": 13,
    "start_time": "2022-03-11T16:51:10.940Z"
   },
   {
    "duration": 9,
    "start_time": "2022-03-11T16:51:12.140Z"
   },
   {
    "duration": 10,
    "start_time": "2022-03-11T16:51:14.982Z"
   },
   {
    "duration": 5,
    "start_time": "2022-03-11T16:51:23.068Z"
   },
   {
    "duration": 14,
    "start_time": "2022-03-11T16:51:39.028Z"
   },
   {
    "duration": 6,
    "start_time": "2022-03-11T16:51:49.065Z"
   },
   {
    "duration": 15,
    "start_time": "2022-03-11T16:51:51.617Z"
   },
   {
    "duration": 11,
    "start_time": "2022-03-11T16:51:57.217Z"
   },
   {
    "duration": 641,
    "start_time": "2022-03-11T16:52:06.399Z"
   },
   {
    "duration": 31,
    "start_time": "2022-03-11T16:52:11.462Z"
   },
   {
    "duration": 7,
    "start_time": "2022-03-11T16:52:23.214Z"
   },
   {
    "duration": 20,
    "start_time": "2022-03-11T16:52:25.593Z"
   },
   {
    "duration": 6,
    "start_time": "2022-03-11T16:52:28.883Z"
   },
   {
    "duration": 8,
    "start_time": "2022-03-11T16:52:31.019Z"
   },
   {
    "duration": 14,
    "start_time": "2022-03-11T16:53:30.235Z"
   },
   {
    "duration": 18,
    "start_time": "2022-03-11T16:53:33.843Z"
   },
   {
    "duration": 11,
    "start_time": "2022-03-11T16:53:38.418Z"
   },
   {
    "duration": 30,
    "start_time": "2022-03-11T16:53:47.296Z"
   },
   {
    "duration": 5,
    "start_time": "2022-03-11T16:54:51.749Z"
   },
   {
    "duration": 29,
    "start_time": "2022-03-11T16:55:29.234Z"
   },
   {
    "duration": 4073,
    "start_time": "2022-03-11T16:56:08.077Z"
   },
   {
    "duration": 7,
    "start_time": "2022-03-11T16:56:16.952Z"
   },
   {
    "duration": 37,
    "start_time": "2022-03-11T16:56:19.275Z"
   },
   {
    "duration": 3524,
    "start_time": "2022-03-11T16:56:28.379Z"
   },
   {
    "duration": 126,
    "start_time": "2022-03-11T16:56:36.039Z"
   },
   {
    "duration": 1893,
    "start_time": "2022-03-11T16:56:44.379Z"
   },
   {
    "duration": 12,
    "start_time": "2022-03-11T16:56:57.914Z"
   },
   {
    "duration": 659,
    "start_time": "2022-03-11T16:57:01.395Z"
   },
   {
    "duration": 499,
    "start_time": "2022-03-11T16:57:18.849Z"
   },
   {
    "duration": 436,
    "start_time": "2022-03-11T16:57:21.892Z"
   },
   {
    "duration": 432,
    "start_time": "2022-03-11T16:57:23.417Z"
   },
   {
    "duration": 380,
    "start_time": "2022-03-11T16:57:24.855Z"
   },
   {
    "duration": 412,
    "start_time": "2022-03-11T16:57:26.062Z"
   },
   {
    "duration": 414,
    "start_time": "2022-03-11T16:57:28.269Z"
   },
   {
    "duration": 15,
    "start_time": "2022-03-11T16:58:58.741Z"
   },
   {
    "duration": 350,
    "start_time": "2022-03-11T16:59:11.060Z"
   },
   {
    "duration": 253,
    "start_time": "2022-03-11T17:03:54.093Z"
   },
   {
    "duration": 1337,
    "start_time": "2022-03-11T17:04:00.257Z"
   },
   {
    "duration": 9,
    "start_time": "2022-03-11T17:04:06.951Z"
   },
   {
    "duration": 27,
    "start_time": "2022-03-11T17:04:08.451Z"
   },
   {
    "duration": 6,
    "start_time": "2022-03-11T17:04:20.059Z"
   },
   {
    "duration": 23,
    "start_time": "2022-03-11T17:04:22.646Z"
   },
   {
    "duration": 371,
    "start_time": "2022-03-11T17:04:24.482Z"
   },
   {
    "duration": 127,
    "start_time": "2022-03-11T17:04:30.783Z"
   },
   {
    "duration": 813,
    "start_time": "2022-03-11T17:04:33.224Z"
   },
   {
    "duration": 715,
    "start_time": "2022-03-11T17:04:34.417Z"
   },
   {
    "duration": 601,
    "start_time": "2022-03-11T17:04:36.604Z"
   },
   {
    "duration": 530,
    "start_time": "2022-03-11T17:04:38.011Z"
   },
   {
    "duration": 643,
    "start_time": "2022-03-11T17:04:39.184Z"
   },
   {
    "duration": 584,
    "start_time": "2022-03-11T17:04:40.852Z"
   },
   {
    "duration": 769,
    "start_time": "2022-03-11T17:05:07.582Z"
   },
   {
    "duration": 250,
    "start_time": "2022-03-11T17:05:18.340Z"
   },
   {
    "duration": 38,
    "start_time": "2022-03-11T17:05:21.248Z"
   },
   {
    "duration": 1634,
    "start_time": "2022-03-11T17:06:56.188Z"
   },
   {
    "duration": 43,
    "start_time": "2022-03-11T17:06:57.824Z"
   },
   {
    "duration": 69,
    "start_time": "2022-03-11T17:06:57.871Z"
   },
   {
    "duration": 55,
    "start_time": "2022-03-11T17:06:57.943Z"
   },
   {
    "duration": 76,
    "start_time": "2022-03-11T17:06:58.000Z"
   },
   {
    "duration": 15,
    "start_time": "2022-03-11T17:06:58.079Z"
   },
   {
    "duration": 61,
    "start_time": "2022-03-11T17:06:58.097Z"
   },
   {
    "duration": 10,
    "start_time": "2022-03-11T17:06:58.162Z"
   },
   {
    "duration": 13,
    "start_time": "2022-03-11T17:06:58.175Z"
   },
   {
    "duration": 54,
    "start_time": "2022-03-11T17:06:58.190Z"
   },
   {
    "duration": 5,
    "start_time": "2022-03-11T17:06:58.246Z"
   },
   {
    "duration": 46,
    "start_time": "2022-03-11T17:06:58.254Z"
   },
   {
    "duration": 63,
    "start_time": "2022-03-11T17:06:58.302Z"
   },
   {
    "duration": 13,
    "start_time": "2022-03-11T17:06:58.368Z"
   },
   {
    "duration": 7,
    "start_time": "2022-03-11T17:06:58.384Z"
   },
   {
    "duration": 45,
    "start_time": "2022-03-11T17:06:58.394Z"
   },
   {
    "duration": 9,
    "start_time": "2022-03-11T17:06:58.441Z"
   },
   {
    "duration": 11,
    "start_time": "2022-03-11T17:06:58.452Z"
   },
   {
    "duration": 5,
    "start_time": "2022-03-11T17:06:58.466Z"
   },
   {
    "duration": 14,
    "start_time": "2022-03-11T17:06:58.473Z"
   },
   {
    "duration": 5,
    "start_time": "2022-03-11T17:06:58.490Z"
   },
   {
    "duration": 15,
    "start_time": "2022-03-11T17:06:58.532Z"
   },
   {
    "duration": 10,
    "start_time": "2022-03-11T17:06:58.553Z"
   },
   {
    "duration": 655,
    "start_time": "2022-03-11T17:06:58.567Z"
   },
   {
    "duration": 32,
    "start_time": "2022-03-11T17:06:59.233Z"
   },
   {
    "duration": 7,
    "start_time": "2022-03-11T17:06:59.268Z"
   },
   {
    "duration": 56,
    "start_time": "2022-03-11T17:06:59.277Z"
   },
   {
    "duration": 6,
    "start_time": "2022-03-11T17:06:59.336Z"
   },
   {
    "duration": 10,
    "start_time": "2022-03-11T17:06:59.345Z"
   },
   {
    "duration": 16,
    "start_time": "2022-03-11T17:06:59.357Z"
   },
   {
    "duration": 59,
    "start_time": "2022-03-11T17:06:59.376Z"
   },
   {
    "duration": 12,
    "start_time": "2022-03-11T17:06:59.438Z"
   },
   {
    "duration": 31,
    "start_time": "2022-03-11T17:06:59.452Z"
   },
   {
    "duration": 5,
    "start_time": "2022-03-11T17:06:59.486Z"
   },
   {
    "duration": 65,
    "start_time": "2022-03-11T17:06:59.493Z"
   },
   {
    "duration": 4347,
    "start_time": "2022-03-11T17:06:59.561Z"
   },
   {
    "duration": 7,
    "start_time": "2022-03-11T17:07:03.910Z"
   },
   {
    "duration": 55,
    "start_time": "2022-03-11T17:07:03.920Z"
   },
   {
    "duration": 3570,
    "start_time": "2022-03-11T17:07:03.977Z"
   },
   {
    "duration": 158,
    "start_time": "2022-03-11T17:07:07.550Z"
   },
   {
    "duration": 1977,
    "start_time": "2022-03-11T17:07:07.710Z"
   },
   {
    "duration": 11,
    "start_time": "2022-03-11T17:07:09.689Z"
   },
   {
    "duration": 654,
    "start_time": "2022-03-11T17:07:09.703Z"
   },
   {
    "duration": 403,
    "start_time": "2022-03-11T17:07:10.359Z"
   },
   {
    "duration": 422,
    "start_time": "2022-03-11T17:07:10.764Z"
   },
   {
    "duration": 429,
    "start_time": "2022-03-11T17:07:11.189Z"
   },
   {
    "duration": 384,
    "start_time": "2022-03-11T17:07:11.620Z"
   },
   {
    "duration": 417,
    "start_time": "2022-03-11T17:07:12.006Z"
   },
   {
    "duration": 416,
    "start_time": "2022-03-11T17:07:12.426Z"
   },
   {
    "duration": 14,
    "start_time": "2022-03-11T17:07:12.844Z"
   },
   {
    "duration": 352,
    "start_time": "2022-03-11T17:07:12.861Z"
   },
   {
    "duration": 253,
    "start_time": "2022-03-11T17:07:13.216Z"
   },
   {
    "duration": 1445,
    "start_time": "2022-03-11T17:07:13.471Z"
   },
   {
    "duration": 15,
    "start_time": "2022-03-11T17:07:14.918Z"
   },
   {
    "duration": 34,
    "start_time": "2022-03-11T17:07:14.936Z"
   },
   {
    "duration": 5,
    "start_time": "2022-03-11T17:07:14.972Z"
   },
   {
    "duration": 56,
    "start_time": "2022-03-11T17:07:14.980Z"
   },
   {
    "duration": 403,
    "start_time": "2022-03-11T17:07:15.038Z"
   },
   {
    "duration": 125,
    "start_time": "2022-03-11T17:07:15.443Z"
   },
   {
    "duration": 616,
    "start_time": "2022-03-11T17:07:15.570Z"
   },
   {
    "duration": 605,
    "start_time": "2022-03-11T17:07:16.188Z"
   },
   {
    "duration": 580,
    "start_time": "2022-03-11T17:07:16.795Z"
   },
   {
    "duration": 547,
    "start_time": "2022-03-11T17:07:17.377Z"
   },
   {
    "duration": 600,
    "start_time": "2022-03-11T17:07:17.926Z"
   },
   {
    "duration": 563,
    "start_time": "2022-03-11T17:07:18.528Z"
   },
   {
    "duration": 267,
    "start_time": "2022-03-11T17:07:19.093Z"
   },
   {
    "duration": 39,
    "start_time": "2022-03-11T17:07:19.363Z"
   },
   {
    "duration": 1693,
    "start_time": "2022-03-11T17:10:20.628Z"
   },
   {
    "duration": 42,
    "start_time": "2022-03-11T17:10:22.323Z"
   },
   {
    "duration": 66,
    "start_time": "2022-03-11T17:10:22.368Z"
   },
   {
    "duration": 59,
    "start_time": "2022-03-11T17:10:22.437Z"
   },
   {
    "duration": 71,
    "start_time": "2022-03-11T17:10:22.498Z"
   },
   {
    "duration": 18,
    "start_time": "2022-03-11T17:10:22.572Z"
   },
   {
    "duration": 68,
    "start_time": "2022-03-11T17:10:22.593Z"
   },
   {
    "duration": 10,
    "start_time": "2022-03-11T17:10:22.667Z"
   },
   {
    "duration": 9,
    "start_time": "2022-03-11T17:10:22.680Z"
   },
   {
    "duration": 53,
    "start_time": "2022-03-11T17:10:22.692Z"
   },
   {
    "duration": 5,
    "start_time": "2022-03-11T17:10:22.747Z"
   },
   {
    "duration": 38,
    "start_time": "2022-03-11T17:10:22.754Z"
   },
   {
    "duration": 64,
    "start_time": "2022-03-11T17:10:22.794Z"
   },
   {
    "duration": 12,
    "start_time": "2022-03-11T17:10:22.861Z"
   },
   {
    "duration": 7,
    "start_time": "2022-03-11T17:10:22.875Z"
   },
   {
    "duration": 12,
    "start_time": "2022-03-11T17:10:22.884Z"
   },
   {
    "duration": 8,
    "start_time": "2022-03-11T17:10:22.932Z"
   },
   {
    "duration": 12,
    "start_time": "2022-03-11T17:10:22.944Z"
   },
   {
    "duration": 9,
    "start_time": "2022-03-11T17:10:22.959Z"
   },
   {
    "duration": 14,
    "start_time": "2022-03-11T17:10:22.971Z"
   },
   {
    "duration": 5,
    "start_time": "2022-03-11T17:10:22.987Z"
   },
   {
    "duration": 59,
    "start_time": "2022-03-11T17:10:22.994Z"
   },
   {
    "duration": 10,
    "start_time": "2022-03-11T17:10:23.059Z"
   },
   {
    "duration": 685,
    "start_time": "2022-03-11T17:10:23.074Z"
   },
   {
    "duration": 29,
    "start_time": "2022-03-11T17:10:23.761Z"
   },
   {
    "duration": 5,
    "start_time": "2022-03-11T17:10:23.793Z"
   },
   {
    "duration": 46,
    "start_time": "2022-03-11T17:10:23.800Z"
   },
   {
    "duration": 5,
    "start_time": "2022-03-11T17:10:23.849Z"
   },
   {
    "duration": 7,
    "start_time": "2022-03-11T17:10:23.856Z"
   },
   {
    "duration": 17,
    "start_time": "2022-03-11T17:10:23.866Z"
   },
   {
    "duration": 54,
    "start_time": "2022-03-11T17:10:23.885Z"
   },
   {
    "duration": 10,
    "start_time": "2022-03-11T17:10:23.942Z"
   },
   {
    "duration": 32,
    "start_time": "2022-03-11T17:10:23.954Z"
   },
   {
    "duration": 5,
    "start_time": "2022-03-11T17:10:23.988Z"
   },
   {
    "duration": 60,
    "start_time": "2022-03-11T17:10:23.995Z"
   },
   {
    "duration": 4097,
    "start_time": "2022-03-11T17:10:24.057Z"
   },
   {
    "duration": 6,
    "start_time": "2022-03-11T17:10:28.156Z"
   },
   {
    "duration": 42,
    "start_time": "2022-03-11T17:10:28.165Z"
   },
   {
    "duration": 3540,
    "start_time": "2022-03-11T17:10:28.209Z"
   },
   {
    "duration": 142,
    "start_time": "2022-03-11T17:10:31.751Z"
   },
   {
    "duration": 1897,
    "start_time": "2022-03-11T17:10:31.895Z"
   },
   {
    "duration": 13,
    "start_time": "2022-03-11T17:10:33.795Z"
   },
   {
    "duration": 641,
    "start_time": "2022-03-11T17:10:33.811Z"
   },
   {
    "duration": 528,
    "start_time": "2022-03-11T17:10:34.456Z"
   },
   {
    "duration": 459,
    "start_time": "2022-03-11T17:10:34.987Z"
   },
   {
    "duration": 448,
    "start_time": "2022-03-11T17:10:35.449Z"
   },
   {
    "duration": 396,
    "start_time": "2022-03-11T17:10:35.899Z"
   },
   {
    "duration": 414,
    "start_time": "2022-03-11T17:10:36.298Z"
   },
   {
    "duration": 411,
    "start_time": "2022-03-11T17:10:36.714Z"
   },
   {
    "duration": 15,
    "start_time": "2022-03-11T17:10:37.132Z"
   },
   {
    "duration": 355,
    "start_time": "2022-03-11T17:10:37.149Z"
   },
   {
    "duration": 246,
    "start_time": "2022-03-11T17:10:37.507Z"
   },
   {
    "duration": 1374,
    "start_time": "2022-03-11T17:10:37.755Z"
   },
   {
    "duration": 9,
    "start_time": "2022-03-11T17:10:39.131Z"
   },
   {
    "duration": 32,
    "start_time": "2022-03-11T17:10:39.143Z"
   },
   {
    "duration": 5,
    "start_time": "2022-03-11T17:10:39.178Z"
   },
   {
    "duration": 57,
    "start_time": "2022-03-11T17:10:39.186Z"
   },
   {
    "duration": 397,
    "start_time": "2022-03-11T17:10:39.245Z"
   },
   {
    "duration": 127,
    "start_time": "2022-03-11T17:10:39.644Z"
   },
   {
    "duration": 624,
    "start_time": "2022-03-11T17:10:39.773Z"
   },
   {
    "duration": 610,
    "start_time": "2022-03-11T17:10:40.400Z"
   },
   {
    "duration": 590,
    "start_time": "2022-03-11T17:10:41.012Z"
   },
   {
    "duration": 550,
    "start_time": "2022-03-11T17:10:41.605Z"
   },
   {
    "duration": 580,
    "start_time": "2022-03-11T17:10:42.158Z"
   },
   {
    "duration": 569,
    "start_time": "2022-03-11T17:10:42.740Z"
   },
   {
    "duration": 266,
    "start_time": "2022-03-11T17:10:43.311Z"
   },
   {
    "duration": 53,
    "start_time": "2022-03-11T17:10:43.579Z"
   },
   {
    "duration": 171,
    "start_time": "2022-03-11T17:15:24.006Z"
   },
   {
    "duration": 657,
    "start_time": "2022-03-11T17:15:30.514Z"
   },
   {
    "duration": 27,
    "start_time": "2022-03-11T17:15:51.553Z"
   },
   {
    "duration": 27,
    "start_time": "2022-03-11T17:16:28.437Z"
   },
   {
    "duration": 29,
    "start_time": "2022-03-11T17:16:39.954Z"
   },
   {
    "duration": 21,
    "start_time": "2022-03-11T17:17:02.061Z"
   },
   {
    "duration": 6,
    "start_time": "2022-03-11T17:17:05.844Z"
   },
   {
    "duration": 10,
    "start_time": "2022-03-11T17:17:07.308Z"
   },
   {
    "duration": 11,
    "start_time": "2022-03-11T17:17:08.681Z"
   },
   {
    "duration": 23,
    "start_time": "2022-03-11T17:17:11.870Z"
   },
   {
    "duration": 583,
    "start_time": "2022-03-11T17:18:07.758Z"
   },
   {
    "duration": 1678,
    "start_time": "2022-03-11T17:18:21.533Z"
   },
   {
    "duration": 44,
    "start_time": "2022-03-11T17:18:23.214Z"
   },
   {
    "duration": 71,
    "start_time": "2022-03-11T17:18:23.261Z"
   },
   {
    "duration": 54,
    "start_time": "2022-03-11T17:18:23.335Z"
   },
   {
    "duration": 70,
    "start_time": "2022-03-11T17:18:23.392Z"
   },
   {
    "duration": 17,
    "start_time": "2022-03-11T17:18:23.464Z"
   },
   {
    "duration": 71,
    "start_time": "2022-03-11T17:18:23.483Z"
   },
   {
    "duration": 10,
    "start_time": "2022-03-11T17:18:23.558Z"
   },
   {
    "duration": 8,
    "start_time": "2022-03-11T17:18:23.571Z"
   },
   {
    "duration": 21,
    "start_time": "2022-03-11T17:18:23.581Z"
   },
   {
    "duration": 5,
    "start_time": "2022-03-11T17:18:23.632Z"
   },
   {
    "duration": 39,
    "start_time": "2022-03-11T17:18:23.639Z"
   },
   {
    "duration": 68,
    "start_time": "2022-03-11T17:18:23.680Z"
   },
   {
    "duration": 13,
    "start_time": "2022-03-11T17:18:23.750Z"
   },
   {
    "duration": 7,
    "start_time": "2022-03-11T17:18:23.765Z"
   },
   {
    "duration": 13,
    "start_time": "2022-03-11T17:18:23.774Z"
   },
   {
    "duration": 7,
    "start_time": "2022-03-11T17:18:23.789Z"
   },
   {
    "duration": 42,
    "start_time": "2022-03-11T17:18:23.798Z"
   },
   {
    "duration": 4,
    "start_time": "2022-03-11T17:18:23.843Z"
   },
   {
    "duration": 13,
    "start_time": "2022-03-11T17:18:23.850Z"
   },
   {
    "duration": 6,
    "start_time": "2022-03-11T17:18:23.865Z"
   },
   {
    "duration": 11,
    "start_time": "2022-03-11T17:18:23.873Z"
   },
   {
    "duration": 49,
    "start_time": "2022-03-11T17:18:23.889Z"
   },
   {
    "duration": 670,
    "start_time": "2022-03-11T17:18:23.943Z"
   },
   {
    "duration": 41,
    "start_time": "2022-03-11T17:18:24.616Z"
   },
   {
    "duration": 5,
    "start_time": "2022-03-11T17:18:24.659Z"
   },
   {
    "duration": 20,
    "start_time": "2022-03-11T17:18:24.666Z"
   },
   {
    "duration": 5,
    "start_time": "2022-03-11T17:18:24.688Z"
   },
   {
    "duration": 40,
    "start_time": "2022-03-11T17:18:24.695Z"
   },
   {
    "duration": 15,
    "start_time": "2022-03-11T17:18:24.738Z"
   },
   {
    "duration": 25,
    "start_time": "2022-03-11T17:18:24.755Z"
   },
   {
    "duration": 13,
    "start_time": "2022-03-11T17:18:24.783Z"
   },
   {
    "duration": 33,
    "start_time": "2022-03-11T17:18:24.833Z"
   },
   {
    "duration": 5,
    "start_time": "2022-03-11T17:18:24.868Z"
   },
   {
    "duration": 56,
    "start_time": "2022-03-11T17:18:24.876Z"
   },
   {
    "duration": 4246,
    "start_time": "2022-03-11T17:18:24.935Z"
   },
   {
    "duration": 7,
    "start_time": "2022-03-11T17:18:29.184Z"
   },
   {
    "duration": 55,
    "start_time": "2022-03-11T17:18:29.193Z"
   },
   {
    "duration": 3473,
    "start_time": "2022-03-11T17:18:29.250Z"
   },
   {
    "duration": 147,
    "start_time": "2022-03-11T17:18:32.726Z"
   },
   {
    "duration": 1934,
    "start_time": "2022-03-11T17:18:32.876Z"
   },
   {
    "duration": 23,
    "start_time": "2022-03-11T17:18:34.813Z"
   },
   {
    "duration": 624,
    "start_time": "2022-03-11T17:18:34.838Z"
   },
   {
    "duration": 428,
    "start_time": "2022-03-11T17:18:35.465Z"
   },
   {
    "duration": 430,
    "start_time": "2022-03-11T17:18:35.896Z"
   },
   {
    "duration": 447,
    "start_time": "2022-03-11T17:18:36.328Z"
   },
   {
    "duration": 403,
    "start_time": "2022-03-11T17:18:36.777Z"
   },
   {
    "duration": 421,
    "start_time": "2022-03-11T17:18:37.182Z"
   },
   {
    "duration": 432,
    "start_time": "2022-03-11T17:18:37.606Z"
   },
   {
    "duration": 16,
    "start_time": "2022-03-11T17:18:38.041Z"
   },
   {
    "duration": 362,
    "start_time": "2022-03-11T17:18:38.059Z"
   },
   {
    "duration": 260,
    "start_time": "2022-03-11T17:18:38.423Z"
   },
   {
    "duration": 1353,
    "start_time": "2022-03-11T17:18:38.686Z"
   },
   {
    "duration": 8,
    "start_time": "2022-03-11T17:18:40.042Z"
   },
   {
    "duration": 28,
    "start_time": "2022-03-11T17:18:40.053Z"
   },
   {
    "duration": 6,
    "start_time": "2022-03-11T17:18:40.084Z"
   },
   {
    "duration": 63,
    "start_time": "2022-03-11T17:18:40.093Z"
   },
   {
    "duration": 396,
    "start_time": "2022-03-11T17:18:40.158Z"
   },
   {
    "duration": 126,
    "start_time": "2022-03-11T17:18:40.556Z"
   },
   {
    "duration": 611,
    "start_time": "2022-03-11T17:18:40.684Z"
   },
   {
    "duration": 601,
    "start_time": "2022-03-11T17:18:41.298Z"
   },
   {
    "duration": 577,
    "start_time": "2022-03-11T17:18:41.902Z"
   },
   {
    "duration": 554,
    "start_time": "2022-03-11T17:18:42.482Z"
   },
   {
    "duration": 596,
    "start_time": "2022-03-11T17:18:43.039Z"
   },
   {
    "duration": 572,
    "start_time": "2022-03-11T17:18:43.638Z"
   },
   {
    "duration": 277,
    "start_time": "2022-03-11T17:18:44.213Z"
   },
   {
    "duration": 62,
    "start_time": "2022-03-11T17:18:44.493Z"
   },
   {
    "duration": 37,
    "start_time": "2022-03-11T17:41:54.190Z"
   },
   {
    "duration": 1668,
    "start_time": "2022-03-11T17:42:29.143Z"
   },
   {
    "duration": 53,
    "start_time": "2022-03-11T17:42:30.814Z"
   },
   {
    "duration": 78,
    "start_time": "2022-03-11T17:42:30.870Z"
   },
   {
    "duration": 59,
    "start_time": "2022-03-11T17:42:30.951Z"
   },
   {
    "duration": 72,
    "start_time": "2022-03-11T17:42:31.013Z"
   },
   {
    "duration": 17,
    "start_time": "2022-03-11T17:42:31.087Z"
   },
   {
    "duration": 66,
    "start_time": "2022-03-11T17:42:31.107Z"
   },
   {
    "duration": 13,
    "start_time": "2022-03-11T17:42:31.179Z"
   },
   {
    "duration": 63,
    "start_time": "2022-03-11T17:42:31.196Z"
   },
   {
    "duration": 38,
    "start_time": "2022-03-11T17:42:31.262Z"
   },
   {
    "duration": 6,
    "start_time": "2022-03-11T17:42:31.303Z"
   },
   {
    "duration": 55,
    "start_time": "2022-03-11T17:42:31.311Z"
   },
   {
    "duration": 43,
    "start_time": "2022-03-11T17:42:31.369Z"
   },
   {
    "duration": 28,
    "start_time": "2022-03-11T17:42:31.415Z"
   },
   {
    "duration": 14,
    "start_time": "2022-03-11T17:42:31.446Z"
   },
   {
    "duration": 15,
    "start_time": "2022-03-11T17:42:31.463Z"
   },
   {
    "duration": 11,
    "start_time": "2022-03-11T17:42:31.481Z"
   },
   {
    "duration": 39,
    "start_time": "2022-03-11T17:42:31.495Z"
   },
   {
    "duration": 5,
    "start_time": "2022-03-11T17:42:31.537Z"
   },
   {
    "duration": 23,
    "start_time": "2022-03-11T17:42:31.544Z"
   },
   {
    "duration": 17,
    "start_time": "2022-03-11T17:42:31.570Z"
   },
   {
    "duration": 20,
    "start_time": "2022-03-11T17:42:31.590Z"
   },
   {
    "duration": 10,
    "start_time": "2022-03-11T17:42:31.632Z"
   },
   {
    "duration": 667,
    "start_time": "2022-03-11T17:42:31.646Z"
   },
   {
    "duration": 41,
    "start_time": "2022-03-11T17:42:32.315Z"
   },
   {
    "duration": 6,
    "start_time": "2022-03-11T17:42:32.358Z"
   },
   {
    "duration": 31,
    "start_time": "2022-03-11T17:42:32.366Z"
   },
   {
    "duration": 5,
    "start_time": "2022-03-11T17:42:32.400Z"
   },
   {
    "duration": 26,
    "start_time": "2022-03-11T17:42:32.407Z"
   },
   {
    "duration": 24,
    "start_time": "2022-03-11T17:42:32.435Z"
   },
   {
    "duration": 18,
    "start_time": "2022-03-11T17:42:32.461Z"
   },
   {
    "duration": 16,
    "start_time": "2022-03-11T17:42:32.481Z"
   },
   {
    "duration": 60,
    "start_time": "2022-03-11T17:42:32.499Z"
   },
   {
    "duration": 5,
    "start_time": "2022-03-11T17:42:32.562Z"
   },
   {
    "duration": 29,
    "start_time": "2022-03-11T17:42:32.570Z"
   },
   {
    "duration": 4146,
    "start_time": "2022-03-11T17:42:32.602Z"
   },
   {
    "duration": 7,
    "start_time": "2022-03-11T17:42:36.751Z"
   },
   {
    "duration": 37,
    "start_time": "2022-03-11T17:42:36.761Z"
   },
   {
    "duration": 3591,
    "start_time": "2022-03-11T17:42:36.801Z"
   },
   {
    "duration": 139,
    "start_time": "2022-03-11T17:42:40.395Z"
   },
   {
    "duration": 2015,
    "start_time": "2022-03-11T17:42:40.537Z"
   },
   {
    "duration": 10,
    "start_time": "2022-03-11T17:42:42.555Z"
   },
   {
    "duration": 683,
    "start_time": "2022-03-11T17:42:42.568Z"
   },
   {
    "duration": 409,
    "start_time": "2022-03-11T17:42:43.253Z"
   },
   {
    "duration": 415,
    "start_time": "2022-03-11T17:42:43.664Z"
   },
   {
    "duration": 427,
    "start_time": "2022-03-11T17:42:44.081Z"
   },
   {
    "duration": 387,
    "start_time": "2022-03-11T17:42:44.511Z"
   },
   {
    "duration": 436,
    "start_time": "2022-03-11T17:42:44.901Z"
   },
   {
    "duration": 423,
    "start_time": "2022-03-11T17:42:45.339Z"
   },
   {
    "duration": 14,
    "start_time": "2022-03-11T17:42:45.764Z"
   },
   {
    "duration": 356,
    "start_time": "2022-03-11T17:42:45.780Z"
   },
   {
    "duration": 248,
    "start_time": "2022-03-11T17:42:46.138Z"
   },
   {
    "duration": 1375,
    "start_time": "2022-03-11T17:42:46.389Z"
   },
   {
    "duration": 9,
    "start_time": "2022-03-11T17:42:47.767Z"
   },
   {
    "duration": 27,
    "start_time": "2022-03-11T17:42:47.779Z"
   },
   {
    "duration": 26,
    "start_time": "2022-03-11T17:42:47.809Z"
   },
   {
    "duration": 28,
    "start_time": "2022-03-11T17:42:47.838Z"
   },
   {
    "duration": 405,
    "start_time": "2022-03-11T17:42:47.869Z"
   },
   {
    "duration": 123,
    "start_time": "2022-03-11T17:42:48.276Z"
   },
   {
    "duration": 620,
    "start_time": "2022-03-11T17:42:48.401Z"
   },
   {
    "duration": 606,
    "start_time": "2022-03-11T17:42:49.024Z"
   },
   {
    "duration": 659,
    "start_time": "2022-03-11T17:42:49.633Z"
   },
   {
    "duration": 562,
    "start_time": "2022-03-11T17:42:50.295Z"
   },
   {
    "duration": 576,
    "start_time": "2022-03-11T17:42:50.859Z"
   },
   {
    "duration": 567,
    "start_time": "2022-03-11T17:42:51.438Z"
   },
   {
    "duration": 272,
    "start_time": "2022-03-11T17:42:52.008Z"
   },
   {
    "duration": 117,
    "start_time": "2022-03-20T23:56:13.865Z"
   },
   {
    "duration": 103,
    "start_time": "2022-03-20T23:56:21.309Z"
   },
   {
    "duration": 41,
    "start_time": "2022-03-21T00:26:37.374Z"
   },
   {
    "duration": 1254,
    "start_time": "2022-03-21T00:26:40.323Z"
   },
   {
    "duration": 27,
    "start_time": "2022-03-21T00:26:41.579Z"
   },
   {
    "duration": 52,
    "start_time": "2022-03-21T00:26:41.608Z"
   },
   {
    "duration": 31,
    "start_time": "2022-03-21T00:26:41.662Z"
   },
   {
    "duration": 52,
    "start_time": "2022-03-21T00:26:41.695Z"
   },
   {
    "duration": 9,
    "start_time": "2022-03-21T00:26:41.748Z"
   },
   {
    "duration": 26,
    "start_time": "2022-03-21T00:26:41.758Z"
   },
   {
    "duration": 9,
    "start_time": "2022-03-21T00:26:41.785Z"
   },
   {
    "duration": 6,
    "start_time": "2022-03-21T00:26:41.796Z"
   },
   {
    "duration": 39,
    "start_time": "2022-03-21T00:26:41.804Z"
   },
   {
    "duration": 4,
    "start_time": "2022-03-21T00:26:41.844Z"
   },
   {
    "duration": 26,
    "start_time": "2022-03-21T00:26:41.850Z"
   },
   {
    "duration": 25,
    "start_time": "2022-03-21T00:26:41.877Z"
   },
   {
    "duration": 32,
    "start_time": "2022-03-21T00:26:41.905Z"
   },
   {
    "duration": 5,
    "start_time": "2022-03-21T00:26:41.939Z"
   },
   {
    "duration": 6,
    "start_time": "2022-03-21T00:26:41.945Z"
   },
   {
    "duration": 5,
    "start_time": "2022-03-21T00:26:41.953Z"
   },
   {
    "duration": 7,
    "start_time": "2022-03-21T00:26:41.960Z"
   },
   {
    "duration": 4,
    "start_time": "2022-03-21T00:26:41.969Z"
   },
   {
    "duration": 9,
    "start_time": "2022-03-21T00:26:41.975Z"
   },
   {
    "duration": 4,
    "start_time": "2022-03-21T00:26:41.985Z"
   },
   {
    "duration": 47,
    "start_time": "2022-03-21T00:26:41.990Z"
   },
   {
    "duration": 7,
    "start_time": "2022-03-21T00:26:42.038Z"
   },
   {
    "duration": 247,
    "start_time": "2022-03-21T00:26:42.046Z"
   },
   {
    "duration": 21,
    "start_time": "2022-03-21T00:26:42.295Z"
   },
   {
    "duration": 16,
    "start_time": "2022-03-21T00:26:42.318Z"
   },
   {
    "duration": 14,
    "start_time": "2022-03-21T00:26:42.336Z"
   },
   {
    "duration": 3,
    "start_time": "2022-03-21T00:26:42.352Z"
   },
   {
    "duration": 5,
    "start_time": "2022-03-21T00:26:42.357Z"
   },
   {
    "duration": 10,
    "start_time": "2022-03-21T00:26:42.363Z"
   },
   {
    "duration": 15,
    "start_time": "2022-03-21T00:26:42.374Z"
   },
   {
    "duration": 45,
    "start_time": "2022-03-21T00:26:42.390Z"
   },
   {
    "duration": 20,
    "start_time": "2022-03-21T00:26:42.436Z"
   },
   {
    "duration": 4,
    "start_time": "2022-03-21T00:26:42.457Z"
   },
   {
    "duration": 19,
    "start_time": "2022-03-21T00:26:42.462Z"
   },
   {
    "duration": 452,
    "start_time": "2022-03-21T00:26:42.483Z"
   },
   {
    "duration": 5,
    "start_time": "2022-03-21T00:26:42.937Z"
   },
   {
    "duration": 22,
    "start_time": "2022-03-21T00:26:42.943Z"
   },
   {
    "duration": 1969,
    "start_time": "2022-03-21T00:26:42.967Z"
   },
   {
    "duration": 71,
    "start_time": "2022-03-21T00:26:44.938Z"
   },
   {
    "duration": 1022,
    "start_time": "2022-03-21T00:26:45.013Z"
   },
   {
    "duration": 9,
    "start_time": "2022-03-21T00:26:46.036Z"
   },
   {
    "duration": 316,
    "start_time": "2022-03-21T00:26:46.047Z"
   },
   {
    "duration": 151,
    "start_time": "2022-03-21T00:26:46.365Z"
   },
   {
    "duration": 278,
    "start_time": "2022-03-21T00:26:46.518Z"
   },
   {
    "duration": 172,
    "start_time": "2022-03-21T00:26:46.797Z"
   },
   {
    "duration": 151,
    "start_time": "2022-03-21T00:26:46.970Z"
   },
   {
    "duration": 169,
    "start_time": "2022-03-21T00:26:47.122Z"
   },
   {
    "duration": 167,
    "start_time": "2022-03-21T00:26:47.293Z"
   },
   {
    "duration": 9,
    "start_time": "2022-03-21T00:26:47.462Z"
   },
   {
    "duration": 133,
    "start_time": "2022-03-21T00:26:47.473Z"
   },
   {
    "duration": 126,
    "start_time": "2022-03-21T00:26:47.608Z"
   },
   {
    "duration": 660,
    "start_time": "2022-03-21T00:26:47.735Z"
   },
   {
    "duration": 7,
    "start_time": "2022-03-21T00:26:48.397Z"
   },
   {
    "duration": 28,
    "start_time": "2022-03-21T00:26:48.405Z"
   },
   {
    "duration": 4,
    "start_time": "2022-03-21T00:26:48.435Z"
   },
   {
    "duration": 17,
    "start_time": "2022-03-21T00:26:48.440Z"
   },
   {
    "duration": 174,
    "start_time": "2022-03-21T00:26:48.458Z"
   },
   {
    "duration": 69,
    "start_time": "2022-03-21T00:26:48.634Z"
   },
   {
    "duration": 354,
    "start_time": "2022-03-21T00:26:48.705Z"
   },
   {
    "duration": 454,
    "start_time": "2022-03-21T00:26:49.060Z"
   },
   {
    "duration": 326,
    "start_time": "2022-03-21T00:26:49.515Z"
   },
   {
    "duration": 274,
    "start_time": "2022-03-21T00:26:49.842Z"
   },
   {
    "duration": 285,
    "start_time": "2022-03-21T00:26:50.118Z"
   },
   {
    "duration": 462,
    "start_time": "2022-03-21T00:26:50.405Z"
   },
   {
    "duration": 133,
    "start_time": "2022-03-21T00:26:50.869Z"
   },
   {
    "duration": 163,
    "start_time": "2022-03-21T00:26:51.004Z"
   },
   {
    "duration": 202,
    "start_time": "2022-03-21T00:27:17.788Z"
   },
   {
    "duration": 208,
    "start_time": "2022-03-21T00:27:35.389Z"
   },
   {
    "duration": 322,
    "start_time": "2022-03-21T00:27:44.141Z"
   },
   {
    "duration": 212,
    "start_time": "2022-03-21T00:27:52.533Z"
   },
   {
    "duration": 49,
    "start_time": "2022-03-21T07:10:09.512Z"
   },
   {
    "duration": 1602,
    "start_time": "2022-03-21T07:10:32.608Z"
   },
   {
    "duration": 33,
    "start_time": "2022-03-21T07:10:34.212Z"
   },
   {
    "duration": 45,
    "start_time": "2022-03-21T07:10:37.261Z"
   },
   {
    "duration": 39,
    "start_time": "2022-03-21T07:10:39.848Z"
   },
   {
    "duration": 43,
    "start_time": "2022-03-21T07:10:41.430Z"
   },
   {
    "duration": 11,
    "start_time": "2022-03-21T07:10:45.426Z"
   },
   {
    "duration": 29,
    "start_time": "2022-03-21T07:10:56.268Z"
   },
   {
    "duration": 7,
    "start_time": "2022-03-21T07:11:01.224Z"
   },
   {
    "duration": 5,
    "start_time": "2022-03-21T07:11:06.722Z"
   },
   {
    "duration": 16,
    "start_time": "2022-03-21T07:11:08.495Z"
   },
   {
    "duration": 5,
    "start_time": "2022-03-21T07:11:12.034Z"
   },
   {
    "duration": 28,
    "start_time": "2022-03-21T07:11:13.406Z"
   },
   {
    "duration": 27,
    "start_time": "2022-03-21T07:11:18.160Z"
   },
   {
    "duration": 9,
    "start_time": "2022-03-21T07:11:25.113Z"
   },
   {
    "duration": 6,
    "start_time": "2022-03-21T07:11:25.649Z"
   },
   {
    "duration": 8,
    "start_time": "2022-03-21T07:11:27.673Z"
   },
   {
    "duration": 7,
    "start_time": "2022-03-21T07:11:28.383Z"
   },
   {
    "duration": 8,
    "start_time": "2022-03-21T07:11:31.631Z"
   },
   {
    "duration": 3,
    "start_time": "2022-03-21T07:11:35.267Z"
   },
   {
    "duration": 10,
    "start_time": "2022-03-21T07:11:36.361Z"
   },
   {
    "duration": 5,
    "start_time": "2022-03-21T07:11:38.585Z"
   },
   {
    "duration": 10,
    "start_time": "2022-03-21T07:11:39.265Z"
   },
   {
    "duration": 7,
    "start_time": "2022-03-21T07:11:40.749Z"
   },
   {
    "duration": 269,
    "start_time": "2022-03-21T07:11:42.335Z"
   },
   {
    "duration": 23,
    "start_time": "2022-03-21T07:11:46.999Z"
   },
   {
    "duration": 5,
    "start_time": "2022-03-21T07:11:48.863Z"
   },
   {
    "duration": 14,
    "start_time": "2022-03-21T07:11:49.983Z"
   },
   {
    "duration": 5,
    "start_time": "2022-03-21T07:11:53.035Z"
   },
   {
    "duration": 6,
    "start_time": "2022-03-21T07:11:54.312Z"
   },
   {
    "duration": 6,
    "start_time": "2022-03-21T07:11:55.323Z"
   },
   {
    "duration": 168,
    "start_time": "2022-03-21T07:48:52.043Z"
   },
   {
    "duration": 184,
    "start_time": "2022-03-21T07:50:10.359Z"
   },
   {
    "duration": 29,
    "start_time": "2022-03-21T07:50:10.996Z"
   },
   {
    "duration": 40,
    "start_time": "2022-03-21T07:50:12.955Z"
   },
   {
    "duration": 38,
    "start_time": "2022-03-21T07:50:14.716Z"
   },
   {
    "duration": 44,
    "start_time": "2022-03-21T07:50:15.944Z"
   },
   {
    "duration": 10,
    "start_time": "2022-03-21T07:50:17.632Z"
   },
   {
    "duration": 30,
    "start_time": "2022-03-21T07:50:22.519Z"
   },
   {
    "duration": 7,
    "start_time": "2022-03-21T07:50:26.380Z"
   },
   {
    "duration": 4,
    "start_time": "2022-03-21T07:50:33.880Z"
   },
   {
    "duration": 16,
    "start_time": "2022-03-21T07:50:36.043Z"
   },
   {
    "duration": 5,
    "start_time": "2022-03-21T07:50:37.866Z"
   },
   {
    "duration": 31,
    "start_time": "2022-03-21T07:50:39.151Z"
   },
   {
    "duration": 27,
    "start_time": "2022-03-21T07:50:41.140Z"
   },
   {
    "duration": 8,
    "start_time": "2022-03-21T07:50:43.015Z"
   },
   {
    "duration": 8,
    "start_time": "2022-03-21T07:50:43.636Z"
   },
   {
    "duration": 8,
    "start_time": "2022-03-21T07:50:45.467Z"
   },
   {
    "duration": 7,
    "start_time": "2022-03-21T07:50:46.153Z"
   },
   {
    "duration": 8,
    "start_time": "2022-03-21T07:50:48.771Z"
   },
   {
    "duration": 4,
    "start_time": "2022-03-21T07:50:50.925Z"
   },
   {
    "duration": 9,
    "start_time": "2022-03-21T07:50:52.105Z"
   },
   {
    "duration": 5,
    "start_time": "2022-03-21T07:50:53.957Z"
   },
   {
    "duration": 10,
    "start_time": "2022-03-21T07:50:54.619Z"
   },
   {
    "duration": 7,
    "start_time": "2022-03-21T07:50:55.851Z"
   },
   {
    "duration": 273,
    "start_time": "2022-03-21T07:50:57.219Z"
   },
   {
    "duration": 25,
    "start_time": "2022-03-21T07:51:01.000Z"
   },
   {
    "duration": 4,
    "start_time": "2022-03-21T07:51:01.475Z"
   },
   {
    "duration": 15,
    "start_time": "2022-03-21T07:51:02.661Z"
   },
   {
    "duration": 5,
    "start_time": "2022-03-21T07:51:06.606Z"
   },
   {
    "duration": 3,
    "start_time": "2022-03-21T07:51:08.834Z"
   },
   {
    "duration": 163,
    "start_time": "2022-03-21T07:51:10.047Z"
   },
   {
    "duration": 5,
    "start_time": "2022-03-21T07:55:48.124Z"
   },
   {
    "duration": 5,
    "start_time": "2022-03-21T07:56:38.619Z"
   },
   {
    "duration": 4612,
    "start_time": "2022-03-21T08:00:29.513Z"
   },
   {
    "duration": 4664,
    "start_time": "2022-03-21T08:01:06.419Z"
   },
   {
    "duration": 4846,
    "start_time": "2022-03-21T08:01:41.763Z"
   },
   {
    "duration": 492,
    "start_time": "2022-03-21T08:06:00.567Z"
   },
   {
    "duration": 5,
    "start_time": "2022-03-21T08:16:30.359Z"
   },
   {
    "duration": 3,
    "start_time": "2022-03-21T08:16:30.997Z"
   },
   {
    "duration": 178,
    "start_time": "2022-03-21T08:23:33.258Z"
   },
   {
    "duration": 503,
    "start_time": "2022-03-21T08:38:17.553Z"
   },
   {
    "duration": 451,
    "start_time": "2022-03-21T08:38:41.320Z"
   },
   {
    "duration": 184,
    "start_time": "2022-03-21T08:41:06.891Z"
   },
   {
    "duration": 2597,
    "start_time": "2022-03-21T08:41:29.044Z"
   },
   {
    "duration": 2062,
    "start_time": "2022-03-21T08:42:17.405Z"
   },
   {
    "duration": 1608,
    "start_time": "2022-03-21T08:43:10.057Z"
   },
   {
    "duration": 1130,
    "start_time": "2022-03-21T08:43:42.024Z"
   },
   {
    "duration": 7,
    "start_time": "2022-03-21T10:12:23.417Z"
   },
   {
    "duration": 65,
    "start_time": "2022-03-21T10:12:25.663Z"
   },
   {
    "duration": 1413,
    "start_time": "2022-03-21T10:12:56.734Z"
   },
   {
    "duration": 32,
    "start_time": "2022-03-21T10:12:58.149Z"
   },
   {
    "duration": 58,
    "start_time": "2022-03-21T10:12:58.183Z"
   },
   {
    "duration": 38,
    "start_time": "2022-03-21T10:12:58.243Z"
   },
   {
    "duration": 64,
    "start_time": "2022-03-21T10:12:58.283Z"
   },
   {
    "duration": 11,
    "start_time": "2022-03-21T10:12:58.350Z"
   },
   {
    "duration": 31,
    "start_time": "2022-03-21T10:12:58.363Z"
   },
   {
    "duration": 35,
    "start_time": "2022-03-21T10:12:58.397Z"
   },
   {
    "duration": 5,
    "start_time": "2022-03-21T10:12:58.434Z"
   },
   {
    "duration": 40,
    "start_time": "2022-03-21T10:12:58.443Z"
   },
   {
    "duration": 9,
    "start_time": "2022-03-21T10:12:58.485Z"
   },
   {
    "duration": 50,
    "start_time": "2022-03-21T10:12:58.496Z"
   },
   {
    "duration": 31,
    "start_time": "2022-03-21T10:12:58.548Z"
   },
   {
    "duration": 8,
    "start_time": "2022-03-21T10:12:58.581Z"
   },
   {
    "duration": 19,
    "start_time": "2022-03-21T10:12:58.591Z"
   },
   {
    "duration": 20,
    "start_time": "2022-03-21T10:12:58.611Z"
   },
   {
    "duration": 29,
    "start_time": "2022-03-21T10:12:58.633Z"
   },
   {
    "duration": 40,
    "start_time": "2022-03-21T10:12:58.664Z"
   },
   {
    "duration": 15,
    "start_time": "2022-03-21T10:12:58.706Z"
   },
   {
    "duration": 37,
    "start_time": "2022-03-21T10:12:58.723Z"
   },
   {
    "duration": 22,
    "start_time": "2022-03-21T10:12:58.762Z"
   },
   {
    "duration": 31,
    "start_time": "2022-03-21T10:12:58.786Z"
   },
   {
    "duration": 28,
    "start_time": "2022-03-21T10:12:58.819Z"
   },
   {
    "duration": 284,
    "start_time": "2022-03-21T10:12:58.849Z"
   },
   {
    "duration": 25,
    "start_time": "2022-03-21T10:12:59.135Z"
   },
   {
    "duration": 4,
    "start_time": "2022-03-21T10:12:59.162Z"
   },
   {
    "duration": 37,
    "start_time": "2022-03-21T10:12:59.168Z"
   },
   {
    "duration": 5,
    "start_time": "2022-03-21T10:12:59.211Z"
   },
   {
    "duration": 6,
    "start_time": "2022-03-21T10:12:59.231Z"
   },
   {
    "duration": 6,
    "start_time": "2022-03-21T10:12:59.239Z"
   },
   {
    "duration": 649,
    "start_time": "2022-03-21T10:12:59.247Z"
   },
   {
    "duration": 123,
    "start_time": "2022-03-21T10:12:59.898Z"
   },
   {
    "duration": 0,
    "start_time": "2022-03-21T10:13:00.023Z"
   },
   {
    "duration": 0,
    "start_time": "2022-03-21T10:13:00.024Z"
   },
   {
    "duration": 0,
    "start_time": "2022-03-21T10:13:00.025Z"
   },
   {
    "duration": 0,
    "start_time": "2022-03-21T10:13:00.026Z"
   },
   {
    "duration": 0,
    "start_time": "2022-03-21T10:13:00.031Z"
   },
   {
    "duration": 1,
    "start_time": "2022-03-21T10:13:00.032Z"
   },
   {
    "duration": 0,
    "start_time": "2022-03-21T10:13:00.033Z"
   },
   {
    "duration": 0,
    "start_time": "2022-03-21T10:13:00.034Z"
   },
   {
    "duration": 0,
    "start_time": "2022-03-21T10:13:00.035Z"
   },
   {
    "duration": 0,
    "start_time": "2022-03-21T10:13:00.037Z"
   },
   {
    "duration": 0,
    "start_time": "2022-03-21T10:13:00.038Z"
   },
   {
    "duration": 0,
    "start_time": "2022-03-21T10:13:00.039Z"
   },
   {
    "duration": 0,
    "start_time": "2022-03-21T10:13:00.040Z"
   },
   {
    "duration": 0,
    "start_time": "2022-03-21T10:13:00.041Z"
   },
   {
    "duration": 0,
    "start_time": "2022-03-21T10:13:00.042Z"
   },
   {
    "duration": 0,
    "start_time": "2022-03-21T10:13:00.043Z"
   },
   {
    "duration": 0,
    "start_time": "2022-03-21T10:13:00.044Z"
   },
   {
    "duration": 0,
    "start_time": "2022-03-21T10:13:00.046Z"
   },
   {
    "duration": 0,
    "start_time": "2022-03-21T10:13:00.047Z"
   },
   {
    "duration": 0,
    "start_time": "2022-03-21T10:13:00.048Z"
   },
   {
    "duration": 0,
    "start_time": "2022-03-21T10:13:00.049Z"
   },
   {
    "duration": 0,
    "start_time": "2022-03-21T10:13:00.050Z"
   },
   {
    "duration": 0,
    "start_time": "2022-03-21T10:13:00.051Z"
   },
   {
    "duration": 0,
    "start_time": "2022-03-21T10:13:00.052Z"
   },
   {
    "duration": 0,
    "start_time": "2022-03-21T10:13:00.053Z"
   },
   {
    "duration": 0,
    "start_time": "2022-03-21T10:13:00.054Z"
   },
   {
    "duration": 0,
    "start_time": "2022-03-21T10:13:00.055Z"
   },
   {
    "duration": 0,
    "start_time": "2022-03-21T10:13:00.056Z"
   },
   {
    "duration": 0,
    "start_time": "2022-03-21T10:13:00.057Z"
   },
   {
    "duration": 0,
    "start_time": "2022-03-21T10:13:00.059Z"
   },
   {
    "duration": 0,
    "start_time": "2022-03-21T10:13:00.060Z"
   },
   {
    "duration": 0,
    "start_time": "2022-03-21T10:13:00.061Z"
   },
   {
    "duration": 0,
    "start_time": "2022-03-21T10:13:00.062Z"
   },
   {
    "duration": 0,
    "start_time": "2022-03-21T10:13:00.063Z"
   },
   {
    "duration": 0,
    "start_time": "2022-03-21T10:13:00.064Z"
   },
   {
    "duration": 0,
    "start_time": "2022-03-21T10:13:00.065Z"
   },
   {
    "duration": 0,
    "start_time": "2022-03-21T10:13:00.066Z"
   },
   {
    "duration": 0,
    "start_time": "2022-03-21T10:13:00.067Z"
   },
   {
    "duration": 174,
    "start_time": "2022-03-21T10:13:51.681Z"
   },
   {
    "duration": 31,
    "start_time": "2022-03-21T10:13:52.822Z"
   },
   {
    "duration": 43,
    "start_time": "2022-03-21T10:13:55.666Z"
   },
   {
    "duration": 36,
    "start_time": "2022-03-21T10:14:00.322Z"
   },
   {
    "duration": 45,
    "start_time": "2022-03-21T10:14:02.652Z"
   },
   {
    "duration": 10,
    "start_time": "2022-03-21T10:14:03.532Z"
   },
   {
    "duration": 29,
    "start_time": "2022-03-21T10:14:09.553Z"
   },
   {
    "duration": 7,
    "start_time": "2022-03-21T10:14:12.003Z"
   },
   {
    "duration": 4,
    "start_time": "2022-03-21T10:14:14.621Z"
   },
   {
    "duration": 14,
    "start_time": "2022-03-21T10:14:17.171Z"
   },
   {
    "duration": 4,
    "start_time": "2022-03-21T10:14:19.653Z"
   },
   {
    "duration": 32,
    "start_time": "2022-03-21T10:14:21.271Z"
   },
   {
    "duration": 30,
    "start_time": "2022-03-21T10:14:23.636Z"
   },
   {
    "duration": 7,
    "start_time": "2022-03-21T10:14:25.906Z"
   },
   {
    "duration": 6,
    "start_time": "2022-03-21T10:14:26.565Z"
   },
   {
    "duration": 7,
    "start_time": "2022-03-21T10:14:29.062Z"
   },
   {
    "duration": 6,
    "start_time": "2022-03-21T10:14:29.842Z"
   },
   {
    "duration": 7,
    "start_time": "2022-03-21T10:14:33.131Z"
   },
   {
    "duration": 4,
    "start_time": "2022-03-21T10:14:34.670Z"
   },
   {
    "duration": 9,
    "start_time": "2022-03-21T10:14:36.071Z"
   },
   {
    "duration": 5,
    "start_time": "2022-03-21T10:14:38.714Z"
   },
   {
    "duration": 10,
    "start_time": "2022-03-21T10:14:39.732Z"
   },
   {
    "duration": 7,
    "start_time": "2022-03-21T10:14:41.386Z"
   },
   {
    "duration": 338,
    "start_time": "2022-03-21T10:14:43.117Z"
   },
   {
    "duration": 26,
    "start_time": "2022-03-21T10:14:45.847Z"
   },
   {
    "duration": 4,
    "start_time": "2022-03-21T10:14:49.712Z"
   },
   {
    "duration": 15,
    "start_time": "2022-03-21T10:14:51.260Z"
   },
   {
    "duration": 4,
    "start_time": "2022-03-21T10:14:53.996Z"
   },
   {
    "duration": 5,
    "start_time": "2022-03-21T10:14:58.225Z"
   },
   {
    "duration": 6,
    "start_time": "2022-03-21T10:14:59.249Z"
   },
   {
    "duration": 504,
    "start_time": "2022-03-21T10:15:01.564Z"
   },
   {
    "duration": 22,
    "start_time": "2022-03-21T10:15:08.805Z"
   },
   {
    "duration": 8,
    "start_time": "2022-03-21T10:15:35.119Z"
   },
   {
    "duration": 19,
    "start_time": "2022-03-21T10:15:37.588Z"
   },
   {
    "duration": 10,
    "start_time": "2022-03-21T10:15:48.702Z"
   },
   {
    "duration": 22,
    "start_time": "2022-03-21T10:15:51.815Z"
   },
   {
    "duration": 5,
    "start_time": "2022-03-21T10:15:55.863Z"
   },
   {
    "duration": 22,
    "start_time": "2022-03-21T10:15:57.234Z"
   },
   {
    "duration": 398,
    "start_time": "2022-03-21T10:15:58.611Z"
   },
   {
    "duration": 6,
    "start_time": "2022-03-21T10:16:00.929Z"
   },
   {
    "duration": 29,
    "start_time": "2022-03-21T10:16:01.605Z"
   },
   {
    "duration": 2164,
    "start_time": "2022-03-21T10:16:06.809Z"
   },
   {
    "duration": 171,
    "start_time": "2022-03-21T10:16:32.301Z"
   },
   {
    "duration": 1089,
    "start_time": "2022-03-21T10:16:36.675Z"
   },
   {
    "duration": 10,
    "start_time": "2022-03-21T10:16:46.052Z"
   },
   {
    "duration": 489,
    "start_time": "2022-03-21T10:16:48.668Z"
   },
   {
    "duration": 179,
    "start_time": "2022-03-21T10:17:00.888Z"
   },
   {
    "duration": 212,
    "start_time": "2022-03-21T10:17:01.070Z"
   },
   {
    "duration": 224,
    "start_time": "2022-03-21T10:17:01.626Z"
   },
   {
    "duration": 186,
    "start_time": "2022-03-21T10:17:02.392Z"
   },
   {
    "duration": 277,
    "start_time": "2022-03-21T10:17:03.594Z"
   },
   {
    "duration": 204,
    "start_time": "2022-03-21T10:17:09.245Z"
   },
   {
    "duration": 11,
    "start_time": "2022-03-21T10:17:16.004Z"
   },
   {
    "duration": 12,
    "start_time": "2022-03-21T10:17:23.794Z"
   },
   {
    "duration": 11,
    "start_time": "2022-03-21T10:24:37.350Z"
   },
   {
    "duration": 10,
    "start_time": "2022-03-21T10:25:10.264Z"
   },
   {
    "duration": 11,
    "start_time": "2022-03-21T10:26:27.986Z"
   },
   {
    "duration": 176,
    "start_time": "2022-03-21T10:26:28.703Z"
   },
   {
    "duration": 198,
    "start_time": "2022-03-21T10:26:29.940Z"
   },
   {
    "duration": 202,
    "start_time": "2022-03-21T10:26:31.188Z"
   },
   {
    "duration": 179,
    "start_time": "2022-03-21T10:26:32.216Z"
   },
   {
    "duration": 188,
    "start_time": "2022-03-21T10:26:33.206Z"
   },
   {
    "duration": 203,
    "start_time": "2022-03-21T10:26:34.181Z"
   },
   {
    "duration": 11,
    "start_time": "2022-03-21T10:26:39.255Z"
   },
   {
    "duration": 250,
    "start_time": "2022-03-21T11:05:39.036Z"
   },
   {
    "duration": 11,
    "start_time": "2022-03-21T11:10:31.185Z"
   },
   {
    "duration": 11,
    "start_time": "2022-03-21T11:15:37.142Z"
   },
   {
    "duration": 11,
    "start_time": "2022-03-21T11:21:21.912Z"
   },
   {
    "duration": 1436,
    "start_time": "2022-03-21T11:21:34.974Z"
   },
   {
    "duration": 36,
    "start_time": "2022-03-21T11:21:36.412Z"
   },
   {
    "duration": 43,
    "start_time": "2022-03-21T11:21:36.450Z"
   },
   {
    "duration": 60,
    "start_time": "2022-03-21T11:21:36.496Z"
   },
   {
    "duration": 44,
    "start_time": "2022-03-21T11:21:36.558Z"
   },
   {
    "duration": 28,
    "start_time": "2022-03-21T11:21:36.604Z"
   },
   {
    "duration": 30,
    "start_time": "2022-03-21T11:21:36.635Z"
   },
   {
    "duration": 7,
    "start_time": "2022-03-21T11:21:36.667Z"
   },
   {
    "duration": 4,
    "start_time": "2022-03-21T11:21:36.676Z"
   },
   {
    "duration": 20,
    "start_time": "2022-03-21T11:21:36.683Z"
   },
   {
    "duration": 31,
    "start_time": "2022-03-21T11:21:36.704Z"
   },
   {
    "duration": 30,
    "start_time": "2022-03-21T11:21:36.737Z"
   },
   {
    "duration": 28,
    "start_time": "2022-03-21T11:21:36.769Z"
   },
   {
    "duration": 33,
    "start_time": "2022-03-21T11:21:36.799Z"
   },
   {
    "duration": 6,
    "start_time": "2022-03-21T11:21:36.834Z"
   },
   {
    "duration": 8,
    "start_time": "2022-03-21T11:21:36.842Z"
   },
   {
    "duration": 7,
    "start_time": "2022-03-21T11:21:36.852Z"
   },
   {
    "duration": 8,
    "start_time": "2022-03-21T11:21:36.861Z"
   },
   {
    "duration": 4,
    "start_time": "2022-03-21T11:21:36.871Z"
   },
   {
    "duration": 12,
    "start_time": "2022-03-21T11:21:36.876Z"
   },
   {
    "duration": 4,
    "start_time": "2022-03-21T11:21:36.890Z"
   },
   {
    "duration": 9,
    "start_time": "2022-03-21T11:21:36.931Z"
   },
   {
    "duration": 7,
    "start_time": "2022-03-21T11:21:36.942Z"
   },
   {
    "duration": 306,
    "start_time": "2022-03-21T11:21:36.950Z"
   },
   {
    "duration": 25,
    "start_time": "2022-03-21T11:21:37.257Z"
   },
   {
    "duration": 4,
    "start_time": "2022-03-21T11:21:37.284Z"
   },
   {
    "duration": 15,
    "start_time": "2022-03-21T11:21:37.290Z"
   },
   {
    "duration": 25,
    "start_time": "2022-03-21T11:21:37.309Z"
   },
   {
    "duration": 8,
    "start_time": "2022-03-21T11:21:37.336Z"
   },
   {
    "duration": 8,
    "start_time": "2022-03-21T11:21:37.346Z"
   },
   {
    "duration": 579,
    "start_time": "2022-03-21T11:21:37.355Z"
   },
   {
    "duration": 12,
    "start_time": "2022-03-21T11:21:37.936Z"
   },
   {
    "duration": 16,
    "start_time": "2022-03-21T11:21:37.950Z"
   },
   {
    "duration": 10,
    "start_time": "2022-03-21T11:21:37.968Z"
   },
   {
    "duration": 58,
    "start_time": "2022-03-21T11:21:37.980Z"
   },
   {
    "duration": 4,
    "start_time": "2022-03-21T11:21:38.039Z"
   },
   {
    "duration": 29,
    "start_time": "2022-03-21T11:21:38.045Z"
   },
   {
    "duration": 499,
    "start_time": "2022-03-21T11:21:38.076Z"
   },
   {
    "duration": 5,
    "start_time": "2022-03-21T11:21:38.577Z"
   },
   {
    "duration": 28,
    "start_time": "2022-03-21T11:21:38.583Z"
   },
   {
    "duration": 2261,
    "start_time": "2022-03-21T11:21:38.613Z"
   },
   {
    "duration": 90,
    "start_time": "2022-03-21T11:21:40.876Z"
   },
   {
    "duration": 1095,
    "start_time": "2022-03-21T11:21:40.968Z"
   },
   {
    "duration": 9,
    "start_time": "2022-03-21T11:21:42.065Z"
   },
   {
    "duration": 583,
    "start_time": "2022-03-21T11:21:42.076Z"
   },
   {
    "duration": 10,
    "start_time": "2022-03-21T11:21:42.661Z"
   },
   {
    "duration": 192,
    "start_time": "2022-03-21T11:21:42.673Z"
   },
   {
    "duration": 201,
    "start_time": "2022-03-21T11:21:42.867Z"
   },
   {
    "duration": 202,
    "start_time": "2022-03-21T11:21:43.070Z"
   },
   {
    "duration": 191,
    "start_time": "2022-03-21T11:21:43.273Z"
   },
   {
    "duration": 197,
    "start_time": "2022-03-21T11:21:43.466Z"
   },
   {
    "duration": 212,
    "start_time": "2022-03-21T11:21:43.665Z"
   },
   {
    "duration": 11,
    "start_time": "2022-03-21T11:21:43.878Z"
   },
   {
    "duration": 157,
    "start_time": "2022-03-21T11:21:43.890Z"
   },
   {
    "duration": 147,
    "start_time": "2022-03-21T11:21:44.049Z"
   },
   {
    "duration": 914,
    "start_time": "2022-03-21T11:21:44.198Z"
   },
   {
    "duration": 7,
    "start_time": "2022-03-21T11:21:45.114Z"
   },
   {
    "duration": 19,
    "start_time": "2022-03-21T11:21:45.131Z"
   },
   {
    "duration": 4,
    "start_time": "2022-03-21T11:21:45.152Z"
   },
   {
    "duration": 19,
    "start_time": "2022-03-21T11:21:45.157Z"
   },
   {
    "duration": 209,
    "start_time": "2022-03-21T11:21:45.178Z"
   },
   {
    "duration": 81,
    "start_time": "2022-03-21T11:21:45.388Z"
   },
   {
    "duration": 378,
    "start_time": "2022-03-21T11:21:45.471Z"
   },
   {
    "duration": 335,
    "start_time": "2022-03-21T11:21:45.851Z"
   },
   {
    "duration": 363,
    "start_time": "2022-03-21T11:21:46.187Z"
   },
   {
    "duration": 301,
    "start_time": "2022-03-21T11:21:46.552Z"
   },
   {
    "duration": 310,
    "start_time": "2022-03-21T11:21:46.855Z"
   },
   {
    "duration": 513,
    "start_time": "2022-03-21T11:21:47.167Z"
   },
   {
    "duration": 251,
    "start_time": "2022-03-21T11:21:47.682Z"
   },
   {
    "duration": 264,
    "start_time": "2022-03-21T11:21:47.935Z"
   },
   {
    "duration": 797,
    "start_time": "2022-03-21T11:21:48.201Z"
   },
   {
    "duration": 122,
    "start_time": "2022-03-21T11:35:57.526Z"
   },
   {
    "duration": 977,
    "start_time": "2022-03-21T11:36:22.718Z"
   },
   {
    "duration": 202,
    "start_time": "2022-03-21T15:16:04.318Z"
   }
  ],
  "kernelspec": {
   "display_name": "Python 3 (ipykernel)",
   "language": "python",
   "name": "python3"
  },
  "language_info": {
   "codemirror_mode": {
    "name": "ipython",
    "version": 3
   },
   "file_extension": ".py",
   "mimetype": "text/x-python",
   "name": "python",
   "nbconvert_exporter": "python",
   "pygments_lexer": "ipython3",
   "version": "3.9.5"
  },
  "toc": {
   "base_numbering": 1,
   "nav_menu": {},
   "number_sections": true,
   "sideBar": true,
   "skip_h1_title": true,
   "title_cell": "Содержание",
   "title_sidebar": "Contents",
   "toc_cell": true,
   "toc_position": {
    "height": "calc(100% - 180px)",
    "left": "10px",
    "top": "150px",
    "width": "270.625px"
   },
   "toc_section_display": true,
   "toc_window_display": true
  }
 },
 "nbformat": 4,
 "nbformat_minor": 4
}
